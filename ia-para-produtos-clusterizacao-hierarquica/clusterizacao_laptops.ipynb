{
 "cells": [
  {
   "cell_type": "code",
   "execution_count": 2,
   "id": "33e4ba3a",
   "metadata": {},
   "outputs": [],
   "source": [
    "# EDA e Visualizacao de Dados\n",
    "import pandas as pd\n",
    "import seaborn as sns\n",
    "import plotly.express as px\n",
    "from matplotlib import pyplot as plt\n",
    "\n",
    "# ML\n",
    "from sklearn.cluster import AgglomerativeClustering, BisectingKMeans\n",
    "from sklearn.metrics import silhouette_score\n",
    "from sklearn.preprocessing import StandardScaler, OneHotEncoder\n",
    "from sklearn.compose import ColumnTransformer\n",
    "import numpy as np\n",
    "from scipy.cluster.hierarchy import dendrogram, linkage, cut_tree\n",
    "\n",
    "# Otimizacao\n",
    "import optuna"
   ]
  },
  {
   "cell_type": "markdown",
   "id": "f25904dc",
   "metadata": {},
   "source": [
    "### Carregar os Dados"
   ]
  },
  {
   "cell_type": "code",
   "execution_count": 3,
   "id": "5c653d20",
   "metadata": {},
   "outputs": [],
   "source": [
    "# Carregar Data Frame\n",
    "df_laptops = pd.read_csv('datasets/laptops_new.csv')"
   ]
  },
  {
   "cell_type": "code",
   "execution_count": 4,
   "id": "5831a3fc",
   "metadata": {},
   "outputs": [
    {
     "name": "stdout",
     "output_type": "stream",
     "text": [
      "<class 'pandas.core.frame.DataFrame'>\n",
      "RangeIndex: 991 entries, 0 to 990\n",
      "Data columns (total 20 columns):\n",
      " #   Column                    Non-Null Count  Dtype  \n",
      "---  ------                    --------------  -----  \n",
      " 0   index                     991 non-null    int64  \n",
      " 1   brand                     991 non-null    object \n",
      " 2   model                     991 non-null    object \n",
      " 3   price                     991 non-null    float64\n",
      " 4   rating                    991 non-null    int64  \n",
      " 5   processor_brand           991 non-null    object \n",
      " 6   processor_tier            991 non-null    object \n",
      " 7   num_cores                 991 non-null    int64  \n",
      " 8   num_threads               991 non-null    int64  \n",
      " 9   ram_memory                991 non-null    int64  \n",
      " 10  primary_storage_type      991 non-null    object \n",
      " 11  primary_storage_capacity  991 non-null    int64  \n",
      " 12  gpu_brand                 991 non-null    object \n",
      " 13  gpu_type                  991 non-null    object \n",
      " 14  is_touch_screen           991 non-null    bool   \n",
      " 15  display_size              991 non-null    float64\n",
      " 16  resolution_width          991 non-null    int64  \n",
      " 17  resolution_height         991 non-null    int64  \n",
      " 18  os                        991 non-null    object \n",
      " 19  year_of_warranty          991 non-null    object \n",
      "dtypes: bool(1), float64(2), int64(8), object(9)\n",
      "memory usage: 148.2+ KB\n"
     ]
    }
   ],
   "source": [
    "# Analisar a Estrutura\n",
    "df_laptops.info()"
   ]
  },
  {
   "cell_type": "code",
   "execution_count": 5,
   "id": "baf3f40c",
   "metadata": {},
   "outputs": [
    {
     "data": {
      "text/html": [
       "<div>\n",
       "<style scoped>\n",
       "    .dataframe tbody tr th:only-of-type {\n",
       "        vertical-align: middle;\n",
       "    }\n",
       "\n",
       "    .dataframe tbody tr th {\n",
       "        vertical-align: top;\n",
       "    }\n",
       "\n",
       "    .dataframe thead th {\n",
       "        text-align: right;\n",
       "    }\n",
       "</style>\n",
       "<table border=\"1\" class=\"dataframe\">\n",
       "  <thead>\n",
       "    <tr style=\"text-align: right;\">\n",
       "      <th></th>\n",
       "      <th>index</th>\n",
       "      <th>brand</th>\n",
       "      <th>model</th>\n",
       "      <th>price</th>\n",
       "      <th>rating</th>\n",
       "      <th>processor_brand</th>\n",
       "      <th>processor_tier</th>\n",
       "      <th>num_cores</th>\n",
       "      <th>num_threads</th>\n",
       "      <th>ram_memory</th>\n",
       "      <th>primary_storage_type</th>\n",
       "      <th>primary_storage_capacity</th>\n",
       "      <th>gpu_brand</th>\n",
       "      <th>gpu_type</th>\n",
       "      <th>is_touch_screen</th>\n",
       "      <th>display_size</th>\n",
       "      <th>resolution_width</th>\n",
       "      <th>resolution_height</th>\n",
       "      <th>os</th>\n",
       "      <th>year_of_warranty</th>\n",
       "    </tr>\n",
       "  </thead>\n",
       "  <tbody>\n",
       "    <tr>\n",
       "      <th>0</th>\n",
       "      <td>1</td>\n",
       "      <td>tecno</td>\n",
       "      <td>Tecno Megabook T1 Laptop (11th Gen Core i3/ 8G...</td>\n",
       "      <td>287.72</td>\n",
       "      <td>63</td>\n",
       "      <td>intel</td>\n",
       "      <td>core i3</td>\n",
       "      <td>2</td>\n",
       "      <td>4</td>\n",
       "      <td>8</td>\n",
       "      <td>SSD</td>\n",
       "      <td>512</td>\n",
       "      <td>intel</td>\n",
       "      <td>integrated</td>\n",
       "      <td>False</td>\n",
       "      <td>15.6</td>\n",
       "      <td>1920</td>\n",
       "      <td>1080</td>\n",
       "      <td>windows</td>\n",
       "      <td>1</td>\n",
       "    </tr>\n",
       "    <tr>\n",
       "      <th>1</th>\n",
       "      <td>2</td>\n",
       "      <td>tecno</td>\n",
       "      <td>Tecno Megabook T1 Laptop (11th Gen Core i7/ 16...</td>\n",
       "      <td>431.64</td>\n",
       "      <td>67</td>\n",
       "      <td>intel</td>\n",
       "      <td>core i7</td>\n",
       "      <td>4</td>\n",
       "      <td>8</td>\n",
       "      <td>16</td>\n",
       "      <td>SSD</td>\n",
       "      <td>1024</td>\n",
       "      <td>intel</td>\n",
       "      <td>integrated</td>\n",
       "      <td>False</td>\n",
       "      <td>15.6</td>\n",
       "      <td>1920</td>\n",
       "      <td>1080</td>\n",
       "      <td>windows</td>\n",
       "      <td>1</td>\n",
       "    </tr>\n",
       "    <tr>\n",
       "      <th>2</th>\n",
       "      <td>3</td>\n",
       "      <td>hp</td>\n",
       "      <td>HP Victus 15-fb0157AX Gaming Laptop (AMD Ryzen...</td>\n",
       "      <td>612.86</td>\n",
       "      <td>73</td>\n",
       "      <td>amd</td>\n",
       "      <td>ryzen 5</td>\n",
       "      <td>6</td>\n",
       "      <td>12</td>\n",
       "      <td>8</td>\n",
       "      <td>SSD</td>\n",
       "      <td>512</td>\n",
       "      <td>amd</td>\n",
       "      <td>dedicated</td>\n",
       "      <td>False</td>\n",
       "      <td>15.6</td>\n",
       "      <td>1920</td>\n",
       "      <td>1080</td>\n",
       "      <td>windows</td>\n",
       "      <td>1</td>\n",
       "    </tr>\n",
       "    <tr>\n",
       "      <th>3</th>\n",
       "      <td>4</td>\n",
       "      <td>acer</td>\n",
       "      <td>Acer Extensa EX214-53 Laptop (12th Gen Core i5...</td>\n",
       "      <td>479.62</td>\n",
       "      <td>62</td>\n",
       "      <td>intel</td>\n",
       "      <td>core i5</td>\n",
       "      <td>12</td>\n",
       "      <td>16</td>\n",
       "      <td>8</td>\n",
       "      <td>SSD</td>\n",
       "      <td>512</td>\n",
       "      <td>intel</td>\n",
       "      <td>integrated</td>\n",
       "      <td>False</td>\n",
       "      <td>14.0</td>\n",
       "      <td>1920</td>\n",
       "      <td>1080</td>\n",
       "      <td>windows</td>\n",
       "      <td>1</td>\n",
       "    </tr>\n",
       "    <tr>\n",
       "      <th>4</th>\n",
       "      <td>5</td>\n",
       "      <td>lenovo</td>\n",
       "      <td>Lenovo V15 82KDA01BIH Laptop (AMD Ryzen 3 5300...</td>\n",
       "      <td>342.77</td>\n",
       "      <td>62</td>\n",
       "      <td>amd</td>\n",
       "      <td>ryzen 3</td>\n",
       "      <td>4</td>\n",
       "      <td>8</td>\n",
       "      <td>8</td>\n",
       "      <td>SSD</td>\n",
       "      <td>512</td>\n",
       "      <td>amd</td>\n",
       "      <td>integrated</td>\n",
       "      <td>False</td>\n",
       "      <td>15.6</td>\n",
       "      <td>1920</td>\n",
       "      <td>1080</td>\n",
       "      <td>windows</td>\n",
       "      <td>1</td>\n",
       "    </tr>\n",
       "    <tr>\n",
       "      <th>5</th>\n",
       "      <td>6</td>\n",
       "      <td>apple</td>\n",
       "      <td>Apple MacBook Air 2020 MGND3HN Laptop (Apple M...</td>\n",
       "      <td>851.41</td>\n",
       "      <td>45</td>\n",
       "      <td>apple</td>\n",
       "      <td>m1</td>\n",
       "      <td>8</td>\n",
       "      <td>8</td>\n",
       "      <td>8</td>\n",
       "      <td>SSD</td>\n",
       "      <td>256</td>\n",
       "      <td>apple</td>\n",
       "      <td>apple</td>\n",
       "      <td>False</td>\n",
       "      <td>13.3</td>\n",
       "      <td>2560</td>\n",
       "      <td>1600</td>\n",
       "      <td>mac</td>\n",
       "      <td>1</td>\n",
       "    </tr>\n",
       "    <tr>\n",
       "      <th>6</th>\n",
       "      <td>7</td>\n",
       "      <td>infinix</td>\n",
       "      <td>Infinix INBook Y2 Plus Laptop (11th Gen Core i...</td>\n",
       "      <td>419.65</td>\n",
       "      <td>56</td>\n",
       "      <td>intel</td>\n",
       "      <td>core i5</td>\n",
       "      <td>4</td>\n",
       "      <td>8</td>\n",
       "      <td>16</td>\n",
       "      <td>SSD</td>\n",
       "      <td>512</td>\n",
       "      <td>intel</td>\n",
       "      <td>integrated</td>\n",
       "      <td>False</td>\n",
       "      <td>15.6</td>\n",
       "      <td>1920</td>\n",
       "      <td>1080</td>\n",
       "      <td>windows</td>\n",
       "      <td>1</td>\n",
       "    </tr>\n",
       "    <tr>\n",
       "      <th>7</th>\n",
       "      <td>8</td>\n",
       "      <td>asus</td>\n",
       "      <td>Asus TUF Gaming F15 FX506HF-HN024W Gaming Lapt...</td>\n",
       "      <td>599.55</td>\n",
       "      <td>70</td>\n",
       "      <td>intel</td>\n",
       "      <td>core i5</td>\n",
       "      <td>6</td>\n",
       "      <td>12</td>\n",
       "      <td>8</td>\n",
       "      <td>SSD</td>\n",
       "      <td>512</td>\n",
       "      <td>nvidia</td>\n",
       "      <td>dedicated</td>\n",
       "      <td>False</td>\n",
       "      <td>15.6</td>\n",
       "      <td>1920</td>\n",
       "      <td>1080</td>\n",
       "      <td>windows</td>\n",
       "      <td>1</td>\n",
       "    </tr>\n",
       "    <tr>\n",
       "      <th>8</th>\n",
       "      <td>9</td>\n",
       "      <td>hp</td>\n",
       "      <td>HP 15s-fq5007TU Laptop (12th Gen Core i3/ 8GB/...</td>\n",
       "      <td>443.64</td>\n",
       "      <td>60</td>\n",
       "      <td>intel</td>\n",
       "      <td>core i3</td>\n",
       "      <td>6</td>\n",
       "      <td>8</td>\n",
       "      <td>8</td>\n",
       "      <td>SSD</td>\n",
       "      <td>512</td>\n",
       "      <td>intel</td>\n",
       "      <td>integrated</td>\n",
       "      <td>False</td>\n",
       "      <td>15.6</td>\n",
       "      <td>1920</td>\n",
       "      <td>1080</td>\n",
       "      <td>windows</td>\n",
       "      <td>1</td>\n",
       "    </tr>\n",
       "    <tr>\n",
       "      <th>9</th>\n",
       "      <td>10</td>\n",
       "      <td>infinix</td>\n",
       "      <td>Infinix Zerobook 2023 Laptop (13th Gen Core i9...</td>\n",
       "      <td>719.48</td>\n",
       "      <td>71</td>\n",
       "      <td>intel</td>\n",
       "      <td>core i9</td>\n",
       "      <td>14</td>\n",
       "      <td>20</td>\n",
       "      <td>32</td>\n",
       "      <td>SSD</td>\n",
       "      <td>1024</td>\n",
       "      <td>intel</td>\n",
       "      <td>integrated</td>\n",
       "      <td>False</td>\n",
       "      <td>15.6</td>\n",
       "      <td>1920</td>\n",
       "      <td>1080</td>\n",
       "      <td>windows</td>\n",
       "      <td>1</td>\n",
       "    </tr>\n",
       "  </tbody>\n",
       "</table>\n",
       "</div>"
      ],
      "text/plain": [
       "   index    brand                                              model   price  \\\n",
       "0      1    tecno  Tecno Megabook T1 Laptop (11th Gen Core i3/ 8G...  287.72   \n",
       "1      2    tecno  Tecno Megabook T1 Laptop (11th Gen Core i7/ 16...  431.64   \n",
       "2      3       hp  HP Victus 15-fb0157AX Gaming Laptop (AMD Ryzen...  612.86   \n",
       "3      4     acer  Acer Extensa EX214-53 Laptop (12th Gen Core i5...  479.62   \n",
       "4      5   lenovo  Lenovo V15 82KDA01BIH Laptop (AMD Ryzen 3 5300...  342.77   \n",
       "5      6    apple  Apple MacBook Air 2020 MGND3HN Laptop (Apple M...  851.41   \n",
       "6      7  infinix  Infinix INBook Y2 Plus Laptop (11th Gen Core i...  419.65   \n",
       "7      8     asus  Asus TUF Gaming F15 FX506HF-HN024W Gaming Lapt...  599.55   \n",
       "8      9       hp  HP 15s-fq5007TU Laptop (12th Gen Core i3/ 8GB/...  443.64   \n",
       "9     10  infinix  Infinix Zerobook 2023 Laptop (13th Gen Core i9...  719.48   \n",
       "\n",
       "   rating processor_brand processor_tier  num_cores  num_threads  ram_memory  \\\n",
       "0      63           intel        core i3          2            4           8   \n",
       "1      67           intel        core i7          4            8          16   \n",
       "2      73             amd        ryzen 5          6           12           8   \n",
       "3      62           intel        core i5         12           16           8   \n",
       "4      62             amd        ryzen 3          4            8           8   \n",
       "5      45           apple             m1          8            8           8   \n",
       "6      56           intel        core i5          4            8          16   \n",
       "7      70           intel        core i5          6           12           8   \n",
       "8      60           intel        core i3          6            8           8   \n",
       "9      71           intel        core i9         14           20          32   \n",
       "\n",
       "  primary_storage_type  primary_storage_capacity gpu_brand    gpu_type  \\\n",
       "0                  SSD                       512     intel  integrated   \n",
       "1                  SSD                      1024     intel  integrated   \n",
       "2                  SSD                       512       amd   dedicated   \n",
       "3                  SSD                       512     intel  integrated   \n",
       "4                  SSD                       512       amd  integrated   \n",
       "5                  SSD                       256     apple       apple   \n",
       "6                  SSD                       512     intel  integrated   \n",
       "7                  SSD                       512    nvidia   dedicated   \n",
       "8                  SSD                       512     intel  integrated   \n",
       "9                  SSD                      1024     intel  integrated   \n",
       "\n",
       "   is_touch_screen  display_size  resolution_width  resolution_height  \\\n",
       "0            False          15.6              1920               1080   \n",
       "1            False          15.6              1920               1080   \n",
       "2            False          15.6              1920               1080   \n",
       "3            False          14.0              1920               1080   \n",
       "4            False          15.6              1920               1080   \n",
       "5            False          13.3              2560               1600   \n",
       "6            False          15.6              1920               1080   \n",
       "7            False          15.6              1920               1080   \n",
       "8            False          15.6              1920               1080   \n",
       "9            False          15.6              1920               1080   \n",
       "\n",
       "        os year_of_warranty  \n",
       "0  windows                1  \n",
       "1  windows                1  \n",
       "2  windows                1  \n",
       "3  windows                1  \n",
       "4  windows                1  \n",
       "5      mac                1  \n",
       "6  windows                1  \n",
       "7  windows                1  \n",
       "8  windows                1  \n",
       "9  windows                1  "
      ]
     },
     "execution_count": 5,
     "metadata": {},
     "output_type": "execute_result"
    }
   ],
   "source": [
    "# Visualizar primeiros registros\n",
    "df_laptops.head(10)"
   ]
  },
  {
   "cell_type": "code",
   "execution_count": 6,
   "id": "f6ffe03a",
   "metadata": {},
   "outputs": [
    {
     "data": {
      "text/html": [
       "<div>\n",
       "<style scoped>\n",
       "    .dataframe tbody tr th:only-of-type {\n",
       "        vertical-align: middle;\n",
       "    }\n",
       "\n",
       "    .dataframe tbody tr th {\n",
       "        vertical-align: top;\n",
       "    }\n",
       "\n",
       "    .dataframe thead th {\n",
       "        text-align: right;\n",
       "    }\n",
       "</style>\n",
       "<table border=\"1\" class=\"dataframe\">\n",
       "  <thead>\n",
       "    <tr style=\"text-align: right;\">\n",
       "      <th></th>\n",
       "      <th>index</th>\n",
       "      <th>brand</th>\n",
       "      <th>model</th>\n",
       "      <th>price</th>\n",
       "      <th>rating</th>\n",
       "      <th>processor_brand</th>\n",
       "      <th>processor_tier</th>\n",
       "      <th>num_cores</th>\n",
       "      <th>num_threads</th>\n",
       "      <th>ram_memory</th>\n",
       "      <th>primary_storage_type</th>\n",
       "      <th>primary_storage_capacity</th>\n",
       "      <th>gpu_brand</th>\n",
       "      <th>gpu_type</th>\n",
       "      <th>is_touch_screen</th>\n",
       "      <th>display_size</th>\n",
       "      <th>resolution_width</th>\n",
       "      <th>resolution_height</th>\n",
       "      <th>os</th>\n",
       "      <th>year_of_warranty</th>\n",
       "    </tr>\n",
       "  </thead>\n",
       "  <tbody>\n",
       "    <tr>\n",
       "      <th>981</th>\n",
       "      <td>993</td>\n",
       "      <td>msi</td>\n",
       "      <td>MSI Katana 15 B13VFK-296IN Gaming Laptop (13th...</td>\n",
       "      <td>1439.09</td>\n",
       "      <td>76</td>\n",
       "      <td>intel</td>\n",
       "      <td>core i7</td>\n",
       "      <td>10</td>\n",
       "      <td>16</td>\n",
       "      <td>16</td>\n",
       "      <td>SSD</td>\n",
       "      <td>1024</td>\n",
       "      <td>nvidia</td>\n",
       "      <td>dedicated</td>\n",
       "      <td>False</td>\n",
       "      <td>15.6</td>\n",
       "      <td>1920</td>\n",
       "      <td>1080</td>\n",
       "      <td>windows</td>\n",
       "      <td>2</td>\n",
       "    </tr>\n",
       "    <tr>\n",
       "      <th>982</th>\n",
       "      <td>994</td>\n",
       "      <td>asus</td>\n",
       "      <td>Asus Zenbook 14 OLED 2023 UM3402YA-KM551WS Lap...</td>\n",
       "      <td>935.36</td>\n",
       "      <td>68</td>\n",
       "      <td>amd</td>\n",
       "      <td>ryzen 5</td>\n",
       "      <td>6</td>\n",
       "      <td>12</td>\n",
       "      <td>16</td>\n",
       "      <td>SSD</td>\n",
       "      <td>1024</td>\n",
       "      <td>amd</td>\n",
       "      <td>integrated</td>\n",
       "      <td>False</td>\n",
       "      <td>14.0</td>\n",
       "      <td>2880</td>\n",
       "      <td>1800</td>\n",
       "      <td>windows</td>\n",
       "      <td>1</td>\n",
       "    </tr>\n",
       "    <tr>\n",
       "      <th>983</th>\n",
       "      <td>995</td>\n",
       "      <td>asus</td>\n",
       "      <td>Asus Vivobook 16 2023 M1605YA-MB551WS Laptop (...</td>\n",
       "      <td>803.44</td>\n",
       "      <td>65</td>\n",
       "      <td>amd</td>\n",
       "      <td>ryzen 5</td>\n",
       "      <td>6</td>\n",
       "      <td>12</td>\n",
       "      <td>16</td>\n",
       "      <td>SSD</td>\n",
       "      <td>1024</td>\n",
       "      <td>amd</td>\n",
       "      <td>integrated</td>\n",
       "      <td>False</td>\n",
       "      <td>16.0</td>\n",
       "      <td>1920</td>\n",
       "      <td>1200</td>\n",
       "      <td>windows</td>\n",
       "      <td>1</td>\n",
       "    </tr>\n",
       "    <tr>\n",
       "      <th>984</th>\n",
       "      <td>996</td>\n",
       "      <td>asus</td>\n",
       "      <td>Asus Vivobook 16 2023 M1605YA-MB541WS Laptop (...</td>\n",
       "      <td>719.48</td>\n",
       "      <td>64</td>\n",
       "      <td>amd</td>\n",
       "      <td>ryzen 5</td>\n",
       "      <td>6</td>\n",
       "      <td>12</td>\n",
       "      <td>16</td>\n",
       "      <td>SSD</td>\n",
       "      <td>512</td>\n",
       "      <td>amd</td>\n",
       "      <td>integrated</td>\n",
       "      <td>False</td>\n",
       "      <td>16.0</td>\n",
       "      <td>1920</td>\n",
       "      <td>1200</td>\n",
       "      <td>windows</td>\n",
       "      <td>1</td>\n",
       "    </tr>\n",
       "    <tr>\n",
       "      <th>985</th>\n",
       "      <td>997</td>\n",
       "      <td>acer</td>\n",
       "      <td>Acer Nitro 5 AN515-47 NH.QL3SI.003 Gaming Lapt...</td>\n",
       "      <td>905.50</td>\n",
       "      <td>67</td>\n",
       "      <td>amd</td>\n",
       "      <td>ryzen 7</td>\n",
       "      <td>8</td>\n",
       "      <td>16</td>\n",
       "      <td>8</td>\n",
       "      <td>SSD</td>\n",
       "      <td>512</td>\n",
       "      <td>nvidia</td>\n",
       "      <td>dedicated</td>\n",
       "      <td>False</td>\n",
       "      <td>15.6</td>\n",
       "      <td>1920</td>\n",
       "      <td>1080</td>\n",
       "      <td>windows</td>\n",
       "      <td>1</td>\n",
       "    </tr>\n",
       "    <tr>\n",
       "      <th>986</th>\n",
       "      <td>998</td>\n",
       "      <td>asus</td>\n",
       "      <td>Asus Vivobook Pro 15 M6500QC-HN542WS Laptop (R...</td>\n",
       "      <td>791.44</td>\n",
       "      <td>68</td>\n",
       "      <td>amd</td>\n",
       "      <td>ryzen 5</td>\n",
       "      <td>6</td>\n",
       "      <td>12</td>\n",
       "      <td>16</td>\n",
       "      <td>SSD</td>\n",
       "      <td>512</td>\n",
       "      <td>nvidia</td>\n",
       "      <td>dedicated</td>\n",
       "      <td>False</td>\n",
       "      <td>15.6</td>\n",
       "      <td>1920</td>\n",
       "      <td>1080</td>\n",
       "      <td>windows</td>\n",
       "      <td>1</td>\n",
       "    </tr>\n",
       "    <tr>\n",
       "      <th>987</th>\n",
       "      <td>999</td>\n",
       "      <td>msi</td>\n",
       "      <td>MSI Thin GF63 12VE-070IN Gaming Laptop (12th G...</td>\n",
       "      <td>1103.27</td>\n",
       "      <td>73</td>\n",
       "      <td>intel</td>\n",
       "      <td>core i7</td>\n",
       "      <td>10</td>\n",
       "      <td>16</td>\n",
       "      <td>16</td>\n",
       "      <td>SSD</td>\n",
       "      <td>512</td>\n",
       "      <td>nvidia</td>\n",
       "      <td>dedicated</td>\n",
       "      <td>False</td>\n",
       "      <td>15.6</td>\n",
       "      <td>1920</td>\n",
       "      <td>1080</td>\n",
       "      <td>windows</td>\n",
       "      <td>2</td>\n",
       "    </tr>\n",
       "    <tr>\n",
       "      <th>988</th>\n",
       "      <td>1000</td>\n",
       "      <td>asus</td>\n",
       "      <td>Asus Vivobook Go 15 2023 E1504FA-NJ522WS Lapto...</td>\n",
       "      <td>539.58</td>\n",
       "      <td>59</td>\n",
       "      <td>amd</td>\n",
       "      <td>ryzen 5</td>\n",
       "      <td>4</td>\n",
       "      <td>8</td>\n",
       "      <td>8</td>\n",
       "      <td>SSD</td>\n",
       "      <td>512</td>\n",
       "      <td>amd</td>\n",
       "      <td>integrated</td>\n",
       "      <td>False</td>\n",
       "      <td>15.6</td>\n",
       "      <td>1920</td>\n",
       "      <td>1080</td>\n",
       "      <td>windows</td>\n",
       "      <td>1</td>\n",
       "    </tr>\n",
       "    <tr>\n",
       "      <th>989</th>\n",
       "      <td>1001</td>\n",
       "      <td>asus</td>\n",
       "      <td>Asus Zenbook 14 2023 UM3402YA-KP541WS Laptop (...</td>\n",
       "      <td>815.43</td>\n",
       "      <td>68</td>\n",
       "      <td>amd</td>\n",
       "      <td>ryzen 5</td>\n",
       "      <td>6</td>\n",
       "      <td>12</td>\n",
       "      <td>16</td>\n",
       "      <td>SSD</td>\n",
       "      <td>512</td>\n",
       "      <td>amd</td>\n",
       "      <td>integrated</td>\n",
       "      <td>False</td>\n",
       "      <td>14.0</td>\n",
       "      <td>2560</td>\n",
       "      <td>1600</td>\n",
       "      <td>windows</td>\n",
       "      <td>1</td>\n",
       "    </tr>\n",
       "    <tr>\n",
       "      <th>990</th>\n",
       "      <td>1002</td>\n",
       "      <td>hp</td>\n",
       "      <td>HP Chromebook 15a-na0008TU Laptop (Intel Celer...</td>\n",
       "      <td>251.74</td>\n",
       "      <td>37</td>\n",
       "      <td>intel</td>\n",
       "      <td>celeron</td>\n",
       "      <td>2</td>\n",
       "      <td>2</td>\n",
       "      <td>4</td>\n",
       "      <td>HDD</td>\n",
       "      <td>128</td>\n",
       "      <td>intel</td>\n",
       "      <td>integrated</td>\n",
       "      <td>False</td>\n",
       "      <td>15.6</td>\n",
       "      <td>1366</td>\n",
       "      <td>768</td>\n",
       "      <td>chrome</td>\n",
       "      <td>1</td>\n",
       "    </tr>\n",
       "  </tbody>\n",
       "</table>\n",
       "</div>"
      ],
      "text/plain": [
       "     index brand                                              model    price  \\\n",
       "981    993   msi  MSI Katana 15 B13VFK-296IN Gaming Laptop (13th...  1439.09   \n",
       "982    994  asus  Asus Zenbook 14 OLED 2023 UM3402YA-KM551WS Lap...   935.36   \n",
       "983    995  asus  Asus Vivobook 16 2023 M1605YA-MB551WS Laptop (...   803.44   \n",
       "984    996  asus  Asus Vivobook 16 2023 M1605YA-MB541WS Laptop (...   719.48   \n",
       "985    997  acer  Acer Nitro 5 AN515-47 NH.QL3SI.003 Gaming Lapt...   905.50   \n",
       "986    998  asus  Asus Vivobook Pro 15 M6500QC-HN542WS Laptop (R...   791.44   \n",
       "987    999   msi  MSI Thin GF63 12VE-070IN Gaming Laptop (12th G...  1103.27   \n",
       "988   1000  asus  Asus Vivobook Go 15 2023 E1504FA-NJ522WS Lapto...   539.58   \n",
       "989   1001  asus  Asus Zenbook 14 2023 UM3402YA-KP541WS Laptop (...   815.43   \n",
       "990   1002    hp  HP Chromebook 15a-na0008TU Laptop (Intel Celer...   251.74   \n",
       "\n",
       "     rating processor_brand processor_tier  num_cores  num_threads  \\\n",
       "981      76           intel        core i7         10           16   \n",
       "982      68             amd        ryzen 5          6           12   \n",
       "983      65             amd        ryzen 5          6           12   \n",
       "984      64             amd        ryzen 5          6           12   \n",
       "985      67             amd        ryzen 7          8           16   \n",
       "986      68             amd        ryzen 5          6           12   \n",
       "987      73           intel        core i7         10           16   \n",
       "988      59             amd        ryzen 5          4            8   \n",
       "989      68             amd        ryzen 5          6           12   \n",
       "990      37           intel        celeron          2            2   \n",
       "\n",
       "     ram_memory primary_storage_type  primary_storage_capacity gpu_brand  \\\n",
       "981          16                  SSD                      1024    nvidia   \n",
       "982          16                  SSD                      1024       amd   \n",
       "983          16                  SSD                      1024       amd   \n",
       "984          16                  SSD                       512       amd   \n",
       "985           8                  SSD                       512    nvidia   \n",
       "986          16                  SSD                       512    nvidia   \n",
       "987          16                  SSD                       512    nvidia   \n",
       "988           8                  SSD                       512       amd   \n",
       "989          16                  SSD                       512       amd   \n",
       "990           4                  HDD                       128     intel   \n",
       "\n",
       "       gpu_type  is_touch_screen  display_size  resolution_width  \\\n",
       "981   dedicated            False          15.6              1920   \n",
       "982  integrated            False          14.0              2880   \n",
       "983  integrated            False          16.0              1920   \n",
       "984  integrated            False          16.0              1920   \n",
       "985   dedicated            False          15.6              1920   \n",
       "986   dedicated            False          15.6              1920   \n",
       "987   dedicated            False          15.6              1920   \n",
       "988  integrated            False          15.6              1920   \n",
       "989  integrated            False          14.0              2560   \n",
       "990  integrated            False          15.6              1366   \n",
       "\n",
       "     resolution_height       os year_of_warranty  \n",
       "981               1080  windows                2  \n",
       "982               1800  windows                1  \n",
       "983               1200  windows                1  \n",
       "984               1200  windows                1  \n",
       "985               1080  windows                1  \n",
       "986               1080  windows                1  \n",
       "987               1080  windows                2  \n",
       "988               1080  windows                1  \n",
       "989               1600  windows                1  \n",
       "990                768   chrome                1  "
      ]
     },
     "execution_count": 6,
     "metadata": {},
     "output_type": "execute_result"
    }
   ],
   "source": [
    "# Visualizar os ultimos registros\n",
    "df_laptops.tail(10)"
   ]
  },
  {
   "cell_type": "markdown",
   "id": "32a3588d",
   "metadata": {},
   "source": [
    "### EDA"
   ]
  },
  {
   "cell_type": "code",
   "execution_count": 7,
   "id": "e3be4de6",
   "metadata": {},
   "outputs": [
    {
     "data": {
      "text/html": [
       "<div>\n",
       "<style scoped>\n",
       "    .dataframe tbody tr th:only-of-type {\n",
       "        vertical-align: middle;\n",
       "    }\n",
       "\n",
       "    .dataframe tbody tr th {\n",
       "        vertical-align: top;\n",
       "    }\n",
       "\n",
       "    .dataframe thead th {\n",
       "        text-align: right;\n",
       "    }\n",
       "</style>\n",
       "<table border=\"1\" class=\"dataframe\">\n",
       "  <thead>\n",
       "    <tr style=\"text-align: right;\">\n",
       "      <th></th>\n",
       "      <th>index</th>\n",
       "      <th>price</th>\n",
       "      <th>rating</th>\n",
       "      <th>num_cores</th>\n",
       "      <th>num_threads</th>\n",
       "      <th>ram_memory</th>\n",
       "      <th>primary_storage_capacity</th>\n",
       "      <th>display_size</th>\n",
       "      <th>resolution_width</th>\n",
       "      <th>resolution_height</th>\n",
       "    </tr>\n",
       "  </thead>\n",
       "  <tbody>\n",
       "    <tr>\n",
       "      <th>count</th>\n",
       "      <td>991.000000</td>\n",
       "      <td>991.000000</td>\n",
       "      <td>991.000000</td>\n",
       "      <td>991.000000</td>\n",
       "      <td>991.000000</td>\n",
       "      <td>991.000000</td>\n",
       "      <td>991.000000</td>\n",
       "      <td>991.000000</td>\n",
       "      <td>991.000000</td>\n",
       "      <td>991.000000</td>\n",
       "    </tr>\n",
       "    <tr>\n",
       "      <th>mean</th>\n",
       "      <td>505.860747</td>\n",
       "      <td>926.687487</td>\n",
       "      <td>63.931382</td>\n",
       "      <td>8.128153</td>\n",
       "      <td>12.191726</td>\n",
       "      <td>13.047427</td>\n",
       "      <td>610.938446</td>\n",
       "      <td>15.171241</td>\n",
       "      <td>2003.503532</td>\n",
       "      <td>1181.227043</td>\n",
       "    </tr>\n",
       "    <tr>\n",
       "      <th>std</th>\n",
       "      <td>287.899458</td>\n",
       "      <td>688.239764</td>\n",
       "      <td>10.190575</td>\n",
       "      <td>4.215499</td>\n",
       "      <td>5.585115</td>\n",
       "      <td>5.591188</td>\n",
       "      <td>266.927666</td>\n",
       "      <td>0.938089</td>\n",
       "      <td>361.965292</td>\n",
       "      <td>263.884019</td>\n",
       "    </tr>\n",
       "    <tr>\n",
       "      <th>min</th>\n",
       "      <td>1.000000</td>\n",
       "      <td>117.540000</td>\n",
       "      <td>24.000000</td>\n",
       "      <td>2.000000</td>\n",
       "      <td>0.000000</td>\n",
       "      <td>2.000000</td>\n",
       "      <td>32.000000</td>\n",
       "      <td>10.100000</td>\n",
       "      <td>1080.000000</td>\n",
       "      <td>768.000000</td>\n",
       "    </tr>\n",
       "    <tr>\n",
       "      <th>25%</th>\n",
       "      <td>258.500000</td>\n",
       "      <td>522.850000</td>\n",
       "      <td>58.000000</td>\n",
       "      <td>6.000000</td>\n",
       "      <td>8.000000</td>\n",
       "      <td>8.000000</td>\n",
       "      <td>512.000000</td>\n",
       "      <td>14.000000</td>\n",
       "      <td>1920.000000</td>\n",
       "      <td>1080.000000</td>\n",
       "    </tr>\n",
       "    <tr>\n",
       "      <th>50%</th>\n",
       "      <td>507.000000</td>\n",
       "      <td>742.390000</td>\n",
       "      <td>64.000000</td>\n",
       "      <td>8.000000</td>\n",
       "      <td>12.000000</td>\n",
       "      <td>16.000000</td>\n",
       "      <td>512.000000</td>\n",
       "      <td>15.600000</td>\n",
       "      <td>1920.000000</td>\n",
       "      <td>1080.000000</td>\n",
       "    </tr>\n",
       "    <tr>\n",
       "      <th>75%</th>\n",
       "      <td>754.500000</td>\n",
       "      <td>1070.350000</td>\n",
       "      <td>71.000000</td>\n",
       "      <td>10.000000</td>\n",
       "      <td>16.000000</td>\n",
       "      <td>16.000000</td>\n",
       "      <td>512.000000</td>\n",
       "      <td>15.600000</td>\n",
       "      <td>1920.000000</td>\n",
       "      <td>1200.000000</td>\n",
       "    </tr>\n",
       "    <tr>\n",
       "      <th>max</th>\n",
       "      <td>1002.000000</td>\n",
       "      <td>5450.880000</td>\n",
       "      <td>89.000000</td>\n",
       "      <td>24.000000</td>\n",
       "      <td>32.000000</td>\n",
       "      <td>36.000000</td>\n",
       "      <td>2048.000000</td>\n",
       "      <td>18.000000</td>\n",
       "      <td>3840.000000</td>\n",
       "      <td>2560.000000</td>\n",
       "    </tr>\n",
       "  </tbody>\n",
       "</table>\n",
       "</div>"
      ],
      "text/plain": [
       "             index        price      rating   num_cores  num_threads  \\\n",
       "count   991.000000   991.000000  991.000000  991.000000   991.000000   \n",
       "mean    505.860747   926.687487   63.931382    8.128153    12.191726   \n",
       "std     287.899458   688.239764   10.190575    4.215499     5.585115   \n",
       "min       1.000000   117.540000   24.000000    2.000000     0.000000   \n",
       "25%     258.500000   522.850000   58.000000    6.000000     8.000000   \n",
       "50%     507.000000   742.390000   64.000000    8.000000    12.000000   \n",
       "75%     754.500000  1070.350000   71.000000   10.000000    16.000000   \n",
       "max    1002.000000  5450.880000   89.000000   24.000000    32.000000   \n",
       "\n",
       "       ram_memory  primary_storage_capacity  display_size  resolution_width  \\\n",
       "count  991.000000                991.000000    991.000000        991.000000   \n",
       "mean    13.047427                610.938446     15.171241       2003.503532   \n",
       "std      5.591188                266.927666      0.938089        361.965292   \n",
       "min      2.000000                 32.000000     10.100000       1080.000000   \n",
       "25%      8.000000                512.000000     14.000000       1920.000000   \n",
       "50%     16.000000                512.000000     15.600000       1920.000000   \n",
       "75%     16.000000                512.000000     15.600000       1920.000000   \n",
       "max     36.000000               2048.000000     18.000000       3840.000000   \n",
       "\n",
       "       resolution_height  \n",
       "count         991.000000  \n",
       "mean         1181.227043  \n",
       "std           263.884019  \n",
       "min           768.000000  \n",
       "25%          1080.000000  \n",
       "50%          1080.000000  \n",
       "75%          1200.000000  \n",
       "max          2560.000000  "
      ]
     },
     "execution_count": 7,
     "metadata": {},
     "output_type": "execute_result"
    }
   ],
   "source": [
    "# Estatística das variáveis\n",
    "df_laptops.describe()"
   ]
  },
  {
   "cell_type": "code",
   "execution_count": 8,
   "id": "dd4d9b71",
   "metadata": {},
   "outputs": [
    {
     "data": {
      "text/plain": [
       "array(['1', '2', 'No information', '3'], dtype=object)"
      ]
     },
     "execution_count": 8,
     "metadata": {},
     "output_type": "execute_result"
    }
   ],
   "source": [
    "# Checar variavel year_of_warranty\n",
    "df_laptops['year_of_warranty'].unique()"
   ]
  },
  {
   "cell_type": "code",
   "execution_count": 10,
   "id": "083afcfb",
   "metadata": {},
   "outputs": [],
   "source": [
    "# Ajustasr variavel year_of_warranty\n",
    "# converter No information para 0 e outros valores para inteiros\n",
    "df_laptops.loc[df_laptops['year_of_warranty'] == 'No information', 'year_of_warranty'] = 1\n",
    "df_laptops['year_of_warranty'] = df_laptops['year_of_warranty'].astype(int)\n"
   ]
  },
  {
   "cell_type": "code",
   "execution_count": 11,
   "id": "8270abd3",
   "metadata": {},
   "outputs": [
    {
     "data": {
      "text/html": [
       "<div>\n",
       "<style scoped>\n",
       "    .dataframe tbody tr th:only-of-type {\n",
       "        vertical-align: middle;\n",
       "    }\n",
       "\n",
       "    .dataframe tbody tr th {\n",
       "        vertical-align: top;\n",
       "    }\n",
       "\n",
       "    .dataframe thead th {\n",
       "        text-align: right;\n",
       "    }\n",
       "</style>\n",
       "<table border=\"1\" class=\"dataframe\">\n",
       "  <thead>\n",
       "    <tr style=\"text-align: right;\">\n",
       "      <th></th>\n",
       "      <th>index</th>\n",
       "      <th>price</th>\n",
       "      <th>rating</th>\n",
       "      <th>num_cores</th>\n",
       "      <th>num_threads</th>\n",
       "      <th>ram_memory</th>\n",
       "      <th>primary_storage_capacity</th>\n",
       "      <th>display_size</th>\n",
       "      <th>resolution_width</th>\n",
       "      <th>resolution_height</th>\n",
       "      <th>year_of_warranty</th>\n",
       "    </tr>\n",
       "  </thead>\n",
       "  <tbody>\n",
       "    <tr>\n",
       "      <th>count</th>\n",
       "      <td>991.000000</td>\n",
       "      <td>991.000000</td>\n",
       "      <td>991.000000</td>\n",
       "      <td>991.000000</td>\n",
       "      <td>991.000000</td>\n",
       "      <td>991.000000</td>\n",
       "      <td>991.000000</td>\n",
       "      <td>991.000000</td>\n",
       "      <td>991.000000</td>\n",
       "      <td>991.000000</td>\n",
       "      <td>991.000000</td>\n",
       "    </tr>\n",
       "    <tr>\n",
       "      <th>mean</th>\n",
       "      <td>505.860747</td>\n",
       "      <td>926.687487</td>\n",
       "      <td>63.931382</td>\n",
       "      <td>8.128153</td>\n",
       "      <td>12.191726</td>\n",
       "      <td>13.047427</td>\n",
       "      <td>610.938446</td>\n",
       "      <td>15.171241</td>\n",
       "      <td>2003.503532</td>\n",
       "      <td>1181.227043</td>\n",
       "      <td>1.065590</td>\n",
       "    </tr>\n",
       "    <tr>\n",
       "      <th>std</th>\n",
       "      <td>287.899458</td>\n",
       "      <td>688.239764</td>\n",
       "      <td>10.190575</td>\n",
       "      <td>4.215499</td>\n",
       "      <td>5.585115</td>\n",
       "      <td>5.591188</td>\n",
       "      <td>266.927666</td>\n",
       "      <td>0.938089</td>\n",
       "      <td>361.965292</td>\n",
       "      <td>263.884019</td>\n",
       "      <td>0.343389</td>\n",
       "    </tr>\n",
       "    <tr>\n",
       "      <th>min</th>\n",
       "      <td>1.000000</td>\n",
       "      <td>117.540000</td>\n",
       "      <td>24.000000</td>\n",
       "      <td>2.000000</td>\n",
       "      <td>0.000000</td>\n",
       "      <td>2.000000</td>\n",
       "      <td>32.000000</td>\n",
       "      <td>10.100000</td>\n",
       "      <td>1080.000000</td>\n",
       "      <td>768.000000</td>\n",
       "      <td>0.000000</td>\n",
       "    </tr>\n",
       "    <tr>\n",
       "      <th>25%</th>\n",
       "      <td>258.500000</td>\n",
       "      <td>522.850000</td>\n",
       "      <td>58.000000</td>\n",
       "      <td>6.000000</td>\n",
       "      <td>8.000000</td>\n",
       "      <td>8.000000</td>\n",
       "      <td>512.000000</td>\n",
       "      <td>14.000000</td>\n",
       "      <td>1920.000000</td>\n",
       "      <td>1080.000000</td>\n",
       "      <td>1.000000</td>\n",
       "    </tr>\n",
       "    <tr>\n",
       "      <th>50%</th>\n",
       "      <td>507.000000</td>\n",
       "      <td>742.390000</td>\n",
       "      <td>64.000000</td>\n",
       "      <td>8.000000</td>\n",
       "      <td>12.000000</td>\n",
       "      <td>16.000000</td>\n",
       "      <td>512.000000</td>\n",
       "      <td>15.600000</td>\n",
       "      <td>1920.000000</td>\n",
       "      <td>1080.000000</td>\n",
       "      <td>1.000000</td>\n",
       "    </tr>\n",
       "    <tr>\n",
       "      <th>75%</th>\n",
       "      <td>754.500000</td>\n",
       "      <td>1070.350000</td>\n",
       "      <td>71.000000</td>\n",
       "      <td>10.000000</td>\n",
       "      <td>16.000000</td>\n",
       "      <td>16.000000</td>\n",
       "      <td>512.000000</td>\n",
       "      <td>15.600000</td>\n",
       "      <td>1920.000000</td>\n",
       "      <td>1200.000000</td>\n",
       "      <td>1.000000</td>\n",
       "    </tr>\n",
       "    <tr>\n",
       "      <th>max</th>\n",
       "      <td>1002.000000</td>\n",
       "      <td>5450.880000</td>\n",
       "      <td>89.000000</td>\n",
       "      <td>24.000000</td>\n",
       "      <td>32.000000</td>\n",
       "      <td>36.000000</td>\n",
       "      <td>2048.000000</td>\n",
       "      <td>18.000000</td>\n",
       "      <td>3840.000000</td>\n",
       "      <td>2560.000000</td>\n",
       "      <td>3.000000</td>\n",
       "    </tr>\n",
       "  </tbody>\n",
       "</table>\n",
       "</div>"
      ],
      "text/plain": [
       "             index        price      rating   num_cores  num_threads  \\\n",
       "count   991.000000   991.000000  991.000000  991.000000   991.000000   \n",
       "mean    505.860747   926.687487   63.931382    8.128153    12.191726   \n",
       "std     287.899458   688.239764   10.190575    4.215499     5.585115   \n",
       "min       1.000000   117.540000   24.000000    2.000000     0.000000   \n",
       "25%     258.500000   522.850000   58.000000    6.000000     8.000000   \n",
       "50%     507.000000   742.390000   64.000000    8.000000    12.000000   \n",
       "75%     754.500000  1070.350000   71.000000   10.000000    16.000000   \n",
       "max    1002.000000  5450.880000   89.000000   24.000000    32.000000   \n",
       "\n",
       "       ram_memory  primary_storage_capacity  display_size  resolution_width  \\\n",
       "count  991.000000                991.000000    991.000000        991.000000   \n",
       "mean    13.047427                610.938446     15.171241       2003.503532   \n",
       "std      5.591188                266.927666      0.938089        361.965292   \n",
       "min      2.000000                 32.000000     10.100000       1080.000000   \n",
       "25%      8.000000                512.000000     14.000000       1920.000000   \n",
       "50%     16.000000                512.000000     15.600000       1920.000000   \n",
       "75%     16.000000                512.000000     15.600000       1920.000000   \n",
       "max     36.000000               2048.000000     18.000000       3840.000000   \n",
       "\n",
       "       resolution_height  year_of_warranty  \n",
       "count         991.000000        991.000000  \n",
       "mean         1181.227043          1.065590  \n",
       "std           263.884019          0.343389  \n",
       "min           768.000000          0.000000  \n",
       "25%          1080.000000          1.000000  \n",
       "50%          1080.000000          1.000000  \n",
       "75%          1200.000000          1.000000  \n",
       "max          2560.000000          3.000000  "
      ]
     },
     "execution_count": 11,
     "metadata": {},
     "output_type": "execute_result"
    }
   ],
   "source": [
    "df_laptops.describe()"
   ]
  },
  {
   "cell_type": "code",
   "execution_count": 12,
   "id": "313ba322",
   "metadata": {},
   "outputs": [],
   "source": [
    "# transforma variiável booleana em int (is_touch_screen)\n",
    "df_laptops['is_touch_screen'] = df_laptops['is_touch_screen'].astype(int)"
   ]
  },
  {
   "cell_type": "code",
   "execution_count": 14,
   "id": "f1e2900b",
   "metadata": {},
   "outputs": [
    {
     "name": "stdout",
     "output_type": "stream",
     "text": [
      "<class 'pandas.core.frame.DataFrame'>\n",
      "RangeIndex: 991 entries, 0 to 990\n",
      "Data columns (total 20 columns):\n",
      " #   Column                    Non-Null Count  Dtype  \n",
      "---  ------                    --------------  -----  \n",
      " 0   index                     991 non-null    int64  \n",
      " 1   brand                     991 non-null    object \n",
      " 2   model                     991 non-null    object \n",
      " 3   price                     991 non-null    float64\n",
      " 4   rating                    991 non-null    int64  \n",
      " 5   processor_brand           991 non-null    object \n",
      " 6   processor_tier            991 non-null    object \n",
      " 7   num_cores                 991 non-null    int64  \n",
      " 8   num_threads               991 non-null    int64  \n",
      " 9   ram_memory                991 non-null    int64  \n",
      " 10  primary_storage_type      991 non-null    object \n",
      " 11  primary_storage_capacity  991 non-null    int64  \n",
      " 12  gpu_brand                 991 non-null    object \n",
      " 13  gpu_type                  991 non-null    object \n",
      " 14  is_touch_screen           991 non-null    int64  \n",
      " 15  display_size              991 non-null    float64\n",
      " 16  resolution_width          991 non-null    int64  \n",
      " 17  resolution_height         991 non-null    int64  \n",
      " 18  os                        991 non-null    object \n",
      " 19  year_of_warranty          991 non-null    int64  \n",
      "dtypes: float64(2), int64(10), object(8)\n",
      "memory usage: 155.0+ KB\n"
     ]
    }
   ],
   "source": [
    "df_laptops.info()"
   ]
  },
  {
   "cell_type": "code",
   "execution_count": 21,
   "id": "902a2f30",
   "metadata": {},
   "outputs": [
    {
     "data": {
      "application/vnd.plotly.v1+json": {
       "config": {
        "plotlyServerURL": "https://plot.ly"
       },
       "data": [
        {
         "alignmentgroup": "True",
         "hovertemplate": "brand=%{x}<br>value=%{y}<extra></extra>",
         "legendgroup": "asus",
         "marker": {
          "color": "#636efa",
          "pattern": {
           "shape": ""
          }
         },
         "name": "asus",
         "offsetgroup": "asus",
         "orientation": "v",
         "showlegend": true,
         "textposition": "auto",
         "type": "bar",
         "x": [
          "asus"
         ],
         "xaxis": "x",
         "y": [
          21.19071644803229
         ],
         "yaxis": "y"
        },
        {
         "alignmentgroup": "True",
         "hovertemplate": "brand=%{x}<br>value=%{y}<extra></extra>",
         "legendgroup": "hp",
         "marker": {
          "color": "#EF553B",
          "pattern": {
           "shape": ""
          }
         },
         "name": "hp",
         "offsetgroup": "hp",
         "orientation": "v",
         "showlegend": true,
         "textposition": "auto",
         "type": "bar",
         "x": [
          "hp"
         ],
         "xaxis": "x",
         "y": [
          20.686175580222
         ],
         "yaxis": "y"
        },
        {
         "alignmentgroup": "True",
         "hovertemplate": "brand=%{x}<br>value=%{y}<extra></extra>",
         "legendgroup": "lenovo",
         "marker": {
          "color": "#00cc96",
          "pattern": {
           "shape": ""
          }
         },
         "name": "lenovo",
         "offsetgroup": "lenovo",
         "orientation": "v",
         "showlegend": true,
         "textposition": "auto",
         "type": "bar",
         "x": [
          "lenovo"
         ],
         "xaxis": "x",
         "y": [
          20.282542885973765
         ],
         "yaxis": "y"
        },
        {
         "alignmentgroup": "True",
         "hovertemplate": "brand=%{x}<br>value=%{y}<extra></extra>",
         "legendgroup": "dell",
         "marker": {
          "color": "#ab63fa",
          "pattern": {
           "shape": ""
          }
         },
         "name": "dell",
         "offsetgroup": "dell",
         "orientation": "v",
         "showlegend": true,
         "textposition": "auto",
         "type": "bar",
         "x": [
          "dell"
         ],
         "xaxis": "x",
         "y": [
          10.696266397578205
         ],
         "yaxis": "y"
        },
        {
         "alignmentgroup": "True",
         "hovertemplate": "brand=%{x}<br>value=%{y}<extra></extra>",
         "legendgroup": "msi",
         "marker": {
          "color": "#FFA15A",
          "pattern": {
           "shape": ""
          }
         },
         "name": "msi",
         "offsetgroup": "msi",
         "orientation": "v",
         "showlegend": true,
         "textposition": "auto",
         "type": "bar",
         "x": [
          "msi"
         ],
         "xaxis": "x",
         "y": [
          9.081735620585267
         ],
         "yaxis": "y"
        },
        {
         "alignmentgroup": "True",
         "hovertemplate": "brand=%{x}<br>value=%{y}<extra></extra>",
         "legendgroup": "acer",
         "marker": {
          "color": "#19d3f3",
          "pattern": {
           "shape": ""
          }
         },
         "name": "acer",
         "offsetgroup": "acer",
         "orientation": "v",
         "showlegend": true,
         "textposition": "auto",
         "type": "bar",
         "x": [
          "acer"
         ],
         "xaxis": "x",
         "y": [
          8.980827447023207
         ],
         "yaxis": "y"
        },
        {
         "alignmentgroup": "True",
         "hovertemplate": "brand=%{x}<br>value=%{y}<extra></extra>",
         "legendgroup": "apple",
         "marker": {
          "color": "#FF6692",
          "pattern": {
           "shape": ""
          }
         },
         "name": "apple",
         "offsetgroup": "apple",
         "orientation": "v",
         "showlegend": true,
         "textposition": "auto",
         "type": "bar",
         "x": [
          "apple"
         ],
         "xaxis": "x",
         "y": [
          1.513622603430878
         ],
         "yaxis": "y"
        },
        {
         "alignmentgroup": "True",
         "hovertemplate": "brand=%{x}<br>value=%{y}<extra></extra>",
         "legendgroup": "infinix",
         "marker": {
          "color": "#B6E880",
          "pattern": {
           "shape": ""
          }
         },
         "name": "infinix",
         "offsetgroup": "infinix",
         "orientation": "v",
         "showlegend": true,
         "textposition": "auto",
         "type": "bar",
         "x": [
          "infinix"
         ],
         "xaxis": "x",
         "y": [
          1.3118062563067607
         ],
         "yaxis": "y"
        },
        {
         "alignmentgroup": "True",
         "hovertemplate": "brand=%{x}<br>value=%{y}<extra></extra>",
         "legendgroup": "samsung",
         "marker": {
          "color": "#FF97FF",
          "pattern": {
           "shape": ""
          }
         },
         "name": "samsung",
         "offsetgroup": "samsung",
         "orientation": "v",
         "showlegend": true,
         "textposition": "auto",
         "type": "bar",
         "x": [
          "samsung"
         ],
         "xaxis": "x",
         "y": [
          0.7063572149344097
         ],
         "yaxis": "y"
        },
        {
         "alignmentgroup": "True",
         "hovertemplate": "brand=%{x}<br>value=%{y}<extra></extra>",
         "legendgroup": "lg",
         "marker": {
          "color": "#FECB52",
          "pattern": {
           "shape": ""
          }
         },
         "name": "lg",
         "offsetgroup": "lg",
         "orientation": "v",
         "showlegend": true,
         "textposition": "auto",
         "type": "bar",
         "x": [
          "lg"
         ],
         "xaxis": "x",
         "y": [
          0.7063572149344097
         ],
         "yaxis": "y"
        },
        {
         "alignmentgroup": "True",
         "hovertemplate": "brand=%{x}<br>value=%{y}<extra></extra>",
         "legendgroup": "zebronics",
         "marker": {
          "color": "#636efa",
          "pattern": {
           "shape": ""
          }
         },
         "name": "zebronics",
         "offsetgroup": "zebronics",
         "orientation": "v",
         "showlegend": true,
         "textposition": "auto",
         "type": "bar",
         "x": [
          "zebronics"
         ],
         "xaxis": "x",
         "y": [
          0.7063572149344097
         ],
         "yaxis": "y"
        },
        {
         "alignmentgroup": "True",
         "hovertemplate": "brand=%{x}<br>value=%{y}<extra></extra>",
         "legendgroup": "ultimus",
         "marker": {
          "color": "#EF553B",
          "pattern": {
           "shape": ""
          }
         },
         "name": "ultimus",
         "offsetgroup": "ultimus",
         "orientation": "v",
         "showlegend": true,
         "textposition": "auto",
         "type": "bar",
         "x": [
          "ultimus"
         ],
         "xaxis": "x",
         "y": [
          0.6054490413723511
         ],
         "yaxis": "y"
        },
        {
         "alignmentgroup": "True",
         "hovertemplate": "brand=%{x}<br>value=%{y}<extra></extra>",
         "legendgroup": "fujitsu",
         "marker": {
          "color": "#00cc96",
          "pattern": {
           "shape": ""
          }
         },
         "name": "fujitsu",
         "offsetgroup": "fujitsu",
         "orientation": "v",
         "showlegend": true,
         "textposition": "auto",
         "type": "bar",
         "x": [
          "fujitsu"
         ],
         "xaxis": "x",
         "y": [
          0.5045408678102926
         ],
         "yaxis": "y"
        },
        {
         "alignmentgroup": "True",
         "hovertemplate": "brand=%{x}<br>value=%{y}<extra></extra>",
         "legendgroup": "avita",
         "marker": {
          "color": "#ab63fa",
          "pattern": {
           "shape": ""
          }
         },
         "name": "avita",
         "offsetgroup": "avita",
         "orientation": "v",
         "showlegend": true,
         "textposition": "auto",
         "type": "bar",
         "x": [
          "avita"
         ],
         "xaxis": "x",
         "y": [
          0.5045408678102926
         ],
         "yaxis": "y"
        },
        {
         "alignmentgroup": "True",
         "hovertemplate": "brand=%{x}<br>value=%{y}<extra></extra>",
         "legendgroup": "chuwi",
         "marker": {
          "color": "#FFA15A",
          "pattern": {
           "shape": ""
          }
         },
         "name": "chuwi",
         "offsetgroup": "chuwi",
         "orientation": "v",
         "showlegend": true,
         "textposition": "auto",
         "type": "bar",
         "x": [
          "chuwi"
         ],
         "xaxis": "x",
         "y": [
          0.4036326942482341
         ],
         "yaxis": "y"
        },
        {
         "alignmentgroup": "True",
         "hovertemplate": "brand=%{x}<br>value=%{y}<extra></extra>",
         "legendgroup": "wings",
         "marker": {
          "color": "#19d3f3",
          "pattern": {
           "shape": ""
          }
         },
         "name": "wings",
         "offsetgroup": "wings",
         "orientation": "v",
         "showlegend": true,
         "textposition": "auto",
         "type": "bar",
         "x": [
          "wings"
         ],
         "xaxis": "x",
         "y": [
          0.4036326942482341
         ],
         "yaxis": "y"
        },
        {
         "alignmentgroup": "True",
         "hovertemplate": "brand=%{x}<br>value=%{y}<extra></extra>",
         "legendgroup": "honor",
         "marker": {
          "color": "#FF6692",
          "pattern": {
           "shape": ""
          }
         },
         "name": "honor",
         "offsetgroup": "honor",
         "orientation": "v",
         "showlegend": true,
         "textposition": "auto",
         "type": "bar",
         "x": [
          "honor"
         ],
         "xaxis": "x",
         "y": [
          0.20181634712411706
         ],
         "yaxis": "y"
        },
        {
         "alignmentgroup": "True",
         "hovertemplate": "brand=%{x}<br>value=%{y}<extra></extra>",
         "legendgroup": "gigabyte",
         "marker": {
          "color": "#B6E880",
          "pattern": {
           "shape": ""
          }
         },
         "name": "gigabyte",
         "offsetgroup": "gigabyte",
         "orientation": "v",
         "showlegend": true,
         "textposition": "auto",
         "type": "bar",
         "x": [
          "gigabyte"
         ],
         "xaxis": "x",
         "y": [
          0.20181634712411706
         ],
         "yaxis": "y"
        },
        {
         "alignmentgroup": "True",
         "hovertemplate": "brand=%{x}<br>value=%{y}<extra></extra>",
         "legendgroup": "microsoft",
         "marker": {
          "color": "#FF97FF",
          "pattern": {
           "shape": ""
          }
         },
         "name": "microsoft",
         "offsetgroup": "microsoft",
         "orientation": "v",
         "showlegend": true,
         "textposition": "auto",
         "type": "bar",
         "x": [
          "microsoft"
         ],
         "xaxis": "x",
         "y": [
          0.20181634712411706
         ],
         "yaxis": "y"
        },
        {
         "alignmentgroup": "True",
         "hovertemplate": "brand=%{x}<br>value=%{y}<extra></extra>",
         "legendgroup": "axl",
         "marker": {
          "color": "#FECB52",
          "pattern": {
           "shape": ""
          }
         },
         "name": "axl",
         "offsetgroup": "axl",
         "orientation": "v",
         "showlegend": true,
         "textposition": "auto",
         "type": "bar",
         "x": [
          "axl"
         ],
         "xaxis": "x",
         "y": [
          0.20181634712411706
         ],
         "yaxis": "y"
        },
        {
         "alignmentgroup": "True",
         "hovertemplate": "brand=%{x}<br>value=%{y}<extra></extra>",
         "legendgroup": "primebook",
         "marker": {
          "color": "#636efa",
          "pattern": {
           "shape": ""
          }
         },
         "name": "primebook",
         "offsetgroup": "primebook",
         "orientation": "v",
         "showlegend": true,
         "textposition": "auto",
         "type": "bar",
         "x": [
          "primebook"
         ],
         "xaxis": "x",
         "y": [
          0.20181634712411706
         ],
         "yaxis": "y"
        },
        {
         "alignmentgroup": "True",
         "hovertemplate": "brand=%{x}<br>value=%{y}<extra></extra>",
         "legendgroup": "realme",
         "marker": {
          "color": "#EF553B",
          "pattern": {
           "shape": ""
          }
         },
         "name": "realme",
         "offsetgroup": "realme",
         "orientation": "v",
         "showlegend": true,
         "textposition": "auto",
         "type": "bar",
         "x": [
          "realme"
         ],
         "xaxis": "x",
         "y": [
          0.20181634712411706
         ],
         "yaxis": "y"
        },
        {
         "alignmentgroup": "True",
         "hovertemplate": "brand=%{x}<br>value=%{y}<extra></extra>",
         "legendgroup": "tecno",
         "marker": {
          "color": "#00cc96",
          "pattern": {
           "shape": ""
          }
         },
         "name": "tecno",
         "offsetgroup": "tecno",
         "orientation": "v",
         "showlegend": true,
         "textposition": "auto",
         "type": "bar",
         "x": [
          "tecno"
         ],
         "xaxis": "x",
         "y": [
          0.20181634712411706
         ],
         "yaxis": "y"
        },
        {
         "alignmentgroup": "True",
         "hovertemplate": "brand=%{x}<br>value=%{y}<extra></extra>",
         "legendgroup": "iball",
         "marker": {
          "color": "#ab63fa",
          "pattern": {
           "shape": ""
          }
         },
         "name": "iball",
         "offsetgroup": "iball",
         "orientation": "v",
         "showlegend": true,
         "textposition": "auto",
         "type": "bar",
         "x": [
          "iball"
         ],
         "xaxis": "x",
         "y": [
          0.10090817356205853
         ],
         "yaxis": "y"
        },
        {
         "alignmentgroup": "True",
         "hovertemplate": "brand=%{x}<br>value=%{y}<extra></extra>",
         "legendgroup": "walker",
         "marker": {
          "color": "#FFA15A",
          "pattern": {
           "shape": ""
          }
         },
         "name": "walker",
         "offsetgroup": "walker",
         "orientation": "v",
         "showlegend": true,
         "textposition": "auto",
         "type": "bar",
         "x": [
          "walker"
         ],
         "xaxis": "x",
         "y": [
          0.10090817356205853
         ],
         "yaxis": "y"
        },
        {
         "alignmentgroup": "True",
         "hovertemplate": "brand=%{x}<br>value=%{y}<extra></extra>",
         "legendgroup": "jio",
         "marker": {
          "color": "#19d3f3",
          "pattern": {
           "shape": ""
          }
         },
         "name": "jio",
         "offsetgroup": "jio",
         "orientation": "v",
         "showlegend": true,
         "textposition": "auto",
         "type": "bar",
         "x": [
          "jio"
         ],
         "xaxis": "x",
         "y": [
          0.10090817356205853
         ],
         "yaxis": "y"
        }
       ],
       "layout": {
        "barmode": "relative",
        "legend": {
         "title": {
          "text": "brand"
         },
         "tracegroupgap": 0
        },
        "margin": {
         "t": 60
        },
        "template": {
         "data": {
          "bar": [
           {
            "error_x": {
             "color": "#2a3f5f"
            },
            "error_y": {
             "color": "#2a3f5f"
            },
            "marker": {
             "line": {
              "color": "#E5ECF6",
              "width": 0.5
             },
             "pattern": {
              "fillmode": "overlay",
              "size": 10,
              "solidity": 0.2
             }
            },
            "type": "bar"
           }
          ],
          "barpolar": [
           {
            "marker": {
             "line": {
              "color": "#E5ECF6",
              "width": 0.5
             },
             "pattern": {
              "fillmode": "overlay",
              "size": 10,
              "solidity": 0.2
             }
            },
            "type": "barpolar"
           }
          ],
          "carpet": [
           {
            "aaxis": {
             "endlinecolor": "#2a3f5f",
             "gridcolor": "white",
             "linecolor": "white",
             "minorgridcolor": "white",
             "startlinecolor": "#2a3f5f"
            },
            "baxis": {
             "endlinecolor": "#2a3f5f",
             "gridcolor": "white",
             "linecolor": "white",
             "minorgridcolor": "white",
             "startlinecolor": "#2a3f5f"
            },
            "type": "carpet"
           }
          ],
          "choropleth": [
           {
            "colorbar": {
             "outlinewidth": 0,
             "ticks": ""
            },
            "type": "choropleth"
           }
          ],
          "contour": [
           {
            "colorbar": {
             "outlinewidth": 0,
             "ticks": ""
            },
            "colorscale": [
             [
              0,
              "#0d0887"
             ],
             [
              0.1111111111111111,
              "#46039f"
             ],
             [
              0.2222222222222222,
              "#7201a8"
             ],
             [
              0.3333333333333333,
              "#9c179e"
             ],
             [
              0.4444444444444444,
              "#bd3786"
             ],
             [
              0.5555555555555556,
              "#d8576b"
             ],
             [
              0.6666666666666666,
              "#ed7953"
             ],
             [
              0.7777777777777778,
              "#fb9f3a"
             ],
             [
              0.8888888888888888,
              "#fdca26"
             ],
             [
              1,
              "#f0f921"
             ]
            ],
            "type": "contour"
           }
          ],
          "contourcarpet": [
           {
            "colorbar": {
             "outlinewidth": 0,
             "ticks": ""
            },
            "type": "contourcarpet"
           }
          ],
          "heatmap": [
           {
            "colorbar": {
             "outlinewidth": 0,
             "ticks": ""
            },
            "colorscale": [
             [
              0,
              "#0d0887"
             ],
             [
              0.1111111111111111,
              "#46039f"
             ],
             [
              0.2222222222222222,
              "#7201a8"
             ],
             [
              0.3333333333333333,
              "#9c179e"
             ],
             [
              0.4444444444444444,
              "#bd3786"
             ],
             [
              0.5555555555555556,
              "#d8576b"
             ],
             [
              0.6666666666666666,
              "#ed7953"
             ],
             [
              0.7777777777777778,
              "#fb9f3a"
             ],
             [
              0.8888888888888888,
              "#fdca26"
             ],
             [
              1,
              "#f0f921"
             ]
            ],
            "type": "heatmap"
           }
          ],
          "heatmapgl": [
           {
            "colorbar": {
             "outlinewidth": 0,
             "ticks": ""
            },
            "colorscale": [
             [
              0,
              "#0d0887"
             ],
             [
              0.1111111111111111,
              "#46039f"
             ],
             [
              0.2222222222222222,
              "#7201a8"
             ],
             [
              0.3333333333333333,
              "#9c179e"
             ],
             [
              0.4444444444444444,
              "#bd3786"
             ],
             [
              0.5555555555555556,
              "#d8576b"
             ],
             [
              0.6666666666666666,
              "#ed7953"
             ],
             [
              0.7777777777777778,
              "#fb9f3a"
             ],
             [
              0.8888888888888888,
              "#fdca26"
             ],
             [
              1,
              "#f0f921"
             ]
            ],
            "type": "heatmapgl"
           }
          ],
          "histogram": [
           {
            "marker": {
             "pattern": {
              "fillmode": "overlay",
              "size": 10,
              "solidity": 0.2
             }
            },
            "type": "histogram"
           }
          ],
          "histogram2d": [
           {
            "colorbar": {
             "outlinewidth": 0,
             "ticks": ""
            },
            "colorscale": [
             [
              0,
              "#0d0887"
             ],
             [
              0.1111111111111111,
              "#46039f"
             ],
             [
              0.2222222222222222,
              "#7201a8"
             ],
             [
              0.3333333333333333,
              "#9c179e"
             ],
             [
              0.4444444444444444,
              "#bd3786"
             ],
             [
              0.5555555555555556,
              "#d8576b"
             ],
             [
              0.6666666666666666,
              "#ed7953"
             ],
             [
              0.7777777777777778,
              "#fb9f3a"
             ],
             [
              0.8888888888888888,
              "#fdca26"
             ],
             [
              1,
              "#f0f921"
             ]
            ],
            "type": "histogram2d"
           }
          ],
          "histogram2dcontour": [
           {
            "colorbar": {
             "outlinewidth": 0,
             "ticks": ""
            },
            "colorscale": [
             [
              0,
              "#0d0887"
             ],
             [
              0.1111111111111111,
              "#46039f"
             ],
             [
              0.2222222222222222,
              "#7201a8"
             ],
             [
              0.3333333333333333,
              "#9c179e"
             ],
             [
              0.4444444444444444,
              "#bd3786"
             ],
             [
              0.5555555555555556,
              "#d8576b"
             ],
             [
              0.6666666666666666,
              "#ed7953"
             ],
             [
              0.7777777777777778,
              "#fb9f3a"
             ],
             [
              0.8888888888888888,
              "#fdca26"
             ],
             [
              1,
              "#f0f921"
             ]
            ],
            "type": "histogram2dcontour"
           }
          ],
          "mesh3d": [
           {
            "colorbar": {
             "outlinewidth": 0,
             "ticks": ""
            },
            "type": "mesh3d"
           }
          ],
          "parcoords": [
           {
            "line": {
             "colorbar": {
              "outlinewidth": 0,
              "ticks": ""
             }
            },
            "type": "parcoords"
           }
          ],
          "pie": [
           {
            "automargin": true,
            "type": "pie"
           }
          ],
          "scatter": [
           {
            "fillpattern": {
             "fillmode": "overlay",
             "size": 10,
             "solidity": 0.2
            },
            "type": "scatter"
           }
          ],
          "scatter3d": [
           {
            "line": {
             "colorbar": {
              "outlinewidth": 0,
              "ticks": ""
             }
            },
            "marker": {
             "colorbar": {
              "outlinewidth": 0,
              "ticks": ""
             }
            },
            "type": "scatter3d"
           }
          ],
          "scattercarpet": [
           {
            "marker": {
             "colorbar": {
              "outlinewidth": 0,
              "ticks": ""
             }
            },
            "type": "scattercarpet"
           }
          ],
          "scattergeo": [
           {
            "marker": {
             "colorbar": {
              "outlinewidth": 0,
              "ticks": ""
             }
            },
            "type": "scattergeo"
           }
          ],
          "scattergl": [
           {
            "marker": {
             "colorbar": {
              "outlinewidth": 0,
              "ticks": ""
             }
            },
            "type": "scattergl"
           }
          ],
          "scattermapbox": [
           {
            "marker": {
             "colorbar": {
              "outlinewidth": 0,
              "ticks": ""
             }
            },
            "type": "scattermapbox"
           }
          ],
          "scatterpolar": [
           {
            "marker": {
             "colorbar": {
              "outlinewidth": 0,
              "ticks": ""
             }
            },
            "type": "scatterpolar"
           }
          ],
          "scatterpolargl": [
           {
            "marker": {
             "colorbar": {
              "outlinewidth": 0,
              "ticks": ""
             }
            },
            "type": "scatterpolargl"
           }
          ],
          "scatterternary": [
           {
            "marker": {
             "colorbar": {
              "outlinewidth": 0,
              "ticks": ""
             }
            },
            "type": "scatterternary"
           }
          ],
          "surface": [
           {
            "colorbar": {
             "outlinewidth": 0,
             "ticks": ""
            },
            "colorscale": [
             [
              0,
              "#0d0887"
             ],
             [
              0.1111111111111111,
              "#46039f"
             ],
             [
              0.2222222222222222,
              "#7201a8"
             ],
             [
              0.3333333333333333,
              "#9c179e"
             ],
             [
              0.4444444444444444,
              "#bd3786"
             ],
             [
              0.5555555555555556,
              "#d8576b"
             ],
             [
              0.6666666666666666,
              "#ed7953"
             ],
             [
              0.7777777777777778,
              "#fb9f3a"
             ],
             [
              0.8888888888888888,
              "#fdca26"
             ],
             [
              1,
              "#f0f921"
             ]
            ],
            "type": "surface"
           }
          ],
          "table": [
           {
            "cells": {
             "fill": {
              "color": "#EBF0F8"
             },
             "line": {
              "color": "white"
             }
            },
            "header": {
             "fill": {
              "color": "#C8D4E3"
             },
             "line": {
              "color": "white"
             }
            },
            "type": "table"
           }
          ]
         },
         "layout": {
          "annotationdefaults": {
           "arrowcolor": "#2a3f5f",
           "arrowhead": 0,
           "arrowwidth": 1
          },
          "autotypenumbers": "strict",
          "coloraxis": {
           "colorbar": {
            "outlinewidth": 0,
            "ticks": ""
           }
          },
          "colorscale": {
           "diverging": [
            [
             0,
             "#8e0152"
            ],
            [
             0.1,
             "#c51b7d"
            ],
            [
             0.2,
             "#de77ae"
            ],
            [
             0.3,
             "#f1b6da"
            ],
            [
             0.4,
             "#fde0ef"
            ],
            [
             0.5,
             "#f7f7f7"
            ],
            [
             0.6,
             "#e6f5d0"
            ],
            [
             0.7,
             "#b8e186"
            ],
            [
             0.8,
             "#7fbc41"
            ],
            [
             0.9,
             "#4d9221"
            ],
            [
             1,
             "#276419"
            ]
           ],
           "sequential": [
            [
             0,
             "#0d0887"
            ],
            [
             0.1111111111111111,
             "#46039f"
            ],
            [
             0.2222222222222222,
             "#7201a8"
            ],
            [
             0.3333333333333333,
             "#9c179e"
            ],
            [
             0.4444444444444444,
             "#bd3786"
            ],
            [
             0.5555555555555556,
             "#d8576b"
            ],
            [
             0.6666666666666666,
             "#ed7953"
            ],
            [
             0.7777777777777778,
             "#fb9f3a"
            ],
            [
             0.8888888888888888,
             "#fdca26"
            ],
            [
             1,
             "#f0f921"
            ]
           ],
           "sequentialminus": [
            [
             0,
             "#0d0887"
            ],
            [
             0.1111111111111111,
             "#46039f"
            ],
            [
             0.2222222222222222,
             "#7201a8"
            ],
            [
             0.3333333333333333,
             "#9c179e"
            ],
            [
             0.4444444444444444,
             "#bd3786"
            ],
            [
             0.5555555555555556,
             "#d8576b"
            ],
            [
             0.6666666666666666,
             "#ed7953"
            ],
            [
             0.7777777777777778,
             "#fb9f3a"
            ],
            [
             0.8888888888888888,
             "#fdca26"
            ],
            [
             1,
             "#f0f921"
            ]
           ]
          },
          "colorway": [
           "#636efa",
           "#EF553B",
           "#00cc96",
           "#ab63fa",
           "#FFA15A",
           "#19d3f3",
           "#FF6692",
           "#B6E880",
           "#FF97FF",
           "#FECB52"
          ],
          "font": {
           "color": "#2a3f5f"
          },
          "geo": {
           "bgcolor": "white",
           "lakecolor": "white",
           "landcolor": "#E5ECF6",
           "showlakes": true,
           "showland": true,
           "subunitcolor": "white"
          },
          "hoverlabel": {
           "align": "left"
          },
          "hovermode": "closest",
          "mapbox": {
           "style": "light"
          },
          "paper_bgcolor": "white",
          "plot_bgcolor": "#E5ECF6",
          "polar": {
           "angularaxis": {
            "gridcolor": "white",
            "linecolor": "white",
            "ticks": ""
           },
           "bgcolor": "#E5ECF6",
           "radialaxis": {
            "gridcolor": "white",
            "linecolor": "white",
            "ticks": ""
           }
          },
          "scene": {
           "xaxis": {
            "backgroundcolor": "#E5ECF6",
            "gridcolor": "white",
            "gridwidth": 2,
            "linecolor": "white",
            "showbackground": true,
            "ticks": "",
            "zerolinecolor": "white"
           },
           "yaxis": {
            "backgroundcolor": "#E5ECF6",
            "gridcolor": "white",
            "gridwidth": 2,
            "linecolor": "white",
            "showbackground": true,
            "ticks": "",
            "zerolinecolor": "white"
           },
           "zaxis": {
            "backgroundcolor": "#E5ECF6",
            "gridcolor": "white",
            "gridwidth": 2,
            "linecolor": "white",
            "showbackground": true,
            "ticks": "",
            "zerolinecolor": "white"
           }
          },
          "shapedefaults": {
           "line": {
            "color": "#2a3f5f"
           }
          },
          "ternary": {
           "aaxis": {
            "gridcolor": "white",
            "linecolor": "white",
            "ticks": ""
           },
           "baxis": {
            "gridcolor": "white",
            "linecolor": "white",
            "ticks": ""
           },
           "bgcolor": "#E5ECF6",
           "caxis": {
            "gridcolor": "white",
            "linecolor": "white",
            "ticks": ""
           }
          },
          "title": {
           "x": 0.05
          },
          "xaxis": {
           "automargin": true,
           "gridcolor": "white",
           "linecolor": "white",
           "ticks": "",
           "title": {
            "standoff": 15
           },
           "zerolinecolor": "white",
           "zerolinewidth": 2
          },
          "yaxis": {
           "automargin": true,
           "gridcolor": "white",
           "linecolor": "white",
           "ticks": "",
           "title": {
            "standoff": 15
           },
           "zerolinecolor": "white",
           "zerolinewidth": 2
          }
         }
        },
        "xaxis": {
         "anchor": "y",
         "categoryarray": [
          "asus",
          "hp",
          "lenovo",
          "dell",
          "msi",
          "acer",
          "apple",
          "infinix",
          "samsung",
          "lg",
          "zebronics",
          "ultimus",
          "fujitsu",
          "avita",
          "chuwi",
          "wings",
          "honor",
          "gigabyte",
          "microsoft",
          "axl",
          "primebook",
          "realme",
          "tecno",
          "iball",
          "walker",
          "jio"
         ],
         "categoryorder": "array",
         "domain": [
          0,
          1
         ],
         "title": {
          "text": "brand"
         }
        },
        "yaxis": {
         "anchor": "x",
         "domain": [
          0,
          1
         ],
         "title": {
          "text": "value"
         }
        }
       }
      },
      "text/html": [
       "<div>                            <div id=\"dd10a474-a79a-424c-a076-7c4f28f771cb\" class=\"plotly-graph-div\" style=\"height:525px; width:100%;\"></div>            <script type=\"text/javascript\">                require([\"plotly\"], function(Plotly) {                    window.PLOTLYENV=window.PLOTLYENV || {};                                    if (document.getElementById(\"dd10a474-a79a-424c-a076-7c4f28f771cb\")) {                    Plotly.newPlot(                        \"dd10a474-a79a-424c-a076-7c4f28f771cb\",                        [{\"alignmentgroup\":\"True\",\"hovertemplate\":\"brand=%{x}\\u003cbr\\u003evalue=%{y}\\u003cextra\\u003e\\u003c\\u002fextra\\u003e\",\"legendgroup\":\"asus\",\"marker\":{\"color\":\"#636efa\",\"pattern\":{\"shape\":\"\"}},\"name\":\"asus\",\"offsetgroup\":\"asus\",\"orientation\":\"v\",\"showlegend\":true,\"textposition\":\"auto\",\"x\":[\"asus\"],\"xaxis\":\"x\",\"y\":[21.19071644803229],\"yaxis\":\"y\",\"type\":\"bar\"},{\"alignmentgroup\":\"True\",\"hovertemplate\":\"brand=%{x}\\u003cbr\\u003evalue=%{y}\\u003cextra\\u003e\\u003c\\u002fextra\\u003e\",\"legendgroup\":\"hp\",\"marker\":{\"color\":\"#EF553B\",\"pattern\":{\"shape\":\"\"}},\"name\":\"hp\",\"offsetgroup\":\"hp\",\"orientation\":\"v\",\"showlegend\":true,\"textposition\":\"auto\",\"x\":[\"hp\"],\"xaxis\":\"x\",\"y\":[20.686175580222],\"yaxis\":\"y\",\"type\":\"bar\"},{\"alignmentgroup\":\"True\",\"hovertemplate\":\"brand=%{x}\\u003cbr\\u003evalue=%{y}\\u003cextra\\u003e\\u003c\\u002fextra\\u003e\",\"legendgroup\":\"lenovo\",\"marker\":{\"color\":\"#00cc96\",\"pattern\":{\"shape\":\"\"}},\"name\":\"lenovo\",\"offsetgroup\":\"lenovo\",\"orientation\":\"v\",\"showlegend\":true,\"textposition\":\"auto\",\"x\":[\"lenovo\"],\"xaxis\":\"x\",\"y\":[20.282542885973765],\"yaxis\":\"y\",\"type\":\"bar\"},{\"alignmentgroup\":\"True\",\"hovertemplate\":\"brand=%{x}\\u003cbr\\u003evalue=%{y}\\u003cextra\\u003e\\u003c\\u002fextra\\u003e\",\"legendgroup\":\"dell\",\"marker\":{\"color\":\"#ab63fa\",\"pattern\":{\"shape\":\"\"}},\"name\":\"dell\",\"offsetgroup\":\"dell\",\"orientation\":\"v\",\"showlegend\":true,\"textposition\":\"auto\",\"x\":[\"dell\"],\"xaxis\":\"x\",\"y\":[10.696266397578205],\"yaxis\":\"y\",\"type\":\"bar\"},{\"alignmentgroup\":\"True\",\"hovertemplate\":\"brand=%{x}\\u003cbr\\u003evalue=%{y}\\u003cextra\\u003e\\u003c\\u002fextra\\u003e\",\"legendgroup\":\"msi\",\"marker\":{\"color\":\"#FFA15A\",\"pattern\":{\"shape\":\"\"}},\"name\":\"msi\",\"offsetgroup\":\"msi\",\"orientation\":\"v\",\"showlegend\":true,\"textposition\":\"auto\",\"x\":[\"msi\"],\"xaxis\":\"x\",\"y\":[9.081735620585267],\"yaxis\":\"y\",\"type\":\"bar\"},{\"alignmentgroup\":\"True\",\"hovertemplate\":\"brand=%{x}\\u003cbr\\u003evalue=%{y}\\u003cextra\\u003e\\u003c\\u002fextra\\u003e\",\"legendgroup\":\"acer\",\"marker\":{\"color\":\"#19d3f3\",\"pattern\":{\"shape\":\"\"}},\"name\":\"acer\",\"offsetgroup\":\"acer\",\"orientation\":\"v\",\"showlegend\":true,\"textposition\":\"auto\",\"x\":[\"acer\"],\"xaxis\":\"x\",\"y\":[8.980827447023207],\"yaxis\":\"y\",\"type\":\"bar\"},{\"alignmentgroup\":\"True\",\"hovertemplate\":\"brand=%{x}\\u003cbr\\u003evalue=%{y}\\u003cextra\\u003e\\u003c\\u002fextra\\u003e\",\"legendgroup\":\"apple\",\"marker\":{\"color\":\"#FF6692\",\"pattern\":{\"shape\":\"\"}},\"name\":\"apple\",\"offsetgroup\":\"apple\",\"orientation\":\"v\",\"showlegend\":true,\"textposition\":\"auto\",\"x\":[\"apple\"],\"xaxis\":\"x\",\"y\":[1.513622603430878],\"yaxis\":\"y\",\"type\":\"bar\"},{\"alignmentgroup\":\"True\",\"hovertemplate\":\"brand=%{x}\\u003cbr\\u003evalue=%{y}\\u003cextra\\u003e\\u003c\\u002fextra\\u003e\",\"legendgroup\":\"infinix\",\"marker\":{\"color\":\"#B6E880\",\"pattern\":{\"shape\":\"\"}},\"name\":\"infinix\",\"offsetgroup\":\"infinix\",\"orientation\":\"v\",\"showlegend\":true,\"textposition\":\"auto\",\"x\":[\"infinix\"],\"xaxis\":\"x\",\"y\":[1.3118062563067607],\"yaxis\":\"y\",\"type\":\"bar\"},{\"alignmentgroup\":\"True\",\"hovertemplate\":\"brand=%{x}\\u003cbr\\u003evalue=%{y}\\u003cextra\\u003e\\u003c\\u002fextra\\u003e\",\"legendgroup\":\"samsung\",\"marker\":{\"color\":\"#FF97FF\",\"pattern\":{\"shape\":\"\"}},\"name\":\"samsung\",\"offsetgroup\":\"samsung\",\"orientation\":\"v\",\"showlegend\":true,\"textposition\":\"auto\",\"x\":[\"samsung\"],\"xaxis\":\"x\",\"y\":[0.7063572149344097],\"yaxis\":\"y\",\"type\":\"bar\"},{\"alignmentgroup\":\"True\",\"hovertemplate\":\"brand=%{x}\\u003cbr\\u003evalue=%{y}\\u003cextra\\u003e\\u003c\\u002fextra\\u003e\",\"legendgroup\":\"lg\",\"marker\":{\"color\":\"#FECB52\",\"pattern\":{\"shape\":\"\"}},\"name\":\"lg\",\"offsetgroup\":\"lg\",\"orientation\":\"v\",\"showlegend\":true,\"textposition\":\"auto\",\"x\":[\"lg\"],\"xaxis\":\"x\",\"y\":[0.7063572149344097],\"yaxis\":\"y\",\"type\":\"bar\"},{\"alignmentgroup\":\"True\",\"hovertemplate\":\"brand=%{x}\\u003cbr\\u003evalue=%{y}\\u003cextra\\u003e\\u003c\\u002fextra\\u003e\",\"legendgroup\":\"zebronics\",\"marker\":{\"color\":\"#636efa\",\"pattern\":{\"shape\":\"\"}},\"name\":\"zebronics\",\"offsetgroup\":\"zebronics\",\"orientation\":\"v\",\"showlegend\":true,\"textposition\":\"auto\",\"x\":[\"zebronics\"],\"xaxis\":\"x\",\"y\":[0.7063572149344097],\"yaxis\":\"y\",\"type\":\"bar\"},{\"alignmentgroup\":\"True\",\"hovertemplate\":\"brand=%{x}\\u003cbr\\u003evalue=%{y}\\u003cextra\\u003e\\u003c\\u002fextra\\u003e\",\"legendgroup\":\"ultimus\",\"marker\":{\"color\":\"#EF553B\",\"pattern\":{\"shape\":\"\"}},\"name\":\"ultimus\",\"offsetgroup\":\"ultimus\",\"orientation\":\"v\",\"showlegend\":true,\"textposition\":\"auto\",\"x\":[\"ultimus\"],\"xaxis\":\"x\",\"y\":[0.6054490413723511],\"yaxis\":\"y\",\"type\":\"bar\"},{\"alignmentgroup\":\"True\",\"hovertemplate\":\"brand=%{x}\\u003cbr\\u003evalue=%{y}\\u003cextra\\u003e\\u003c\\u002fextra\\u003e\",\"legendgroup\":\"fujitsu\",\"marker\":{\"color\":\"#00cc96\",\"pattern\":{\"shape\":\"\"}},\"name\":\"fujitsu\",\"offsetgroup\":\"fujitsu\",\"orientation\":\"v\",\"showlegend\":true,\"textposition\":\"auto\",\"x\":[\"fujitsu\"],\"xaxis\":\"x\",\"y\":[0.5045408678102926],\"yaxis\":\"y\",\"type\":\"bar\"},{\"alignmentgroup\":\"True\",\"hovertemplate\":\"brand=%{x}\\u003cbr\\u003evalue=%{y}\\u003cextra\\u003e\\u003c\\u002fextra\\u003e\",\"legendgroup\":\"avita\",\"marker\":{\"color\":\"#ab63fa\",\"pattern\":{\"shape\":\"\"}},\"name\":\"avita\",\"offsetgroup\":\"avita\",\"orientation\":\"v\",\"showlegend\":true,\"textposition\":\"auto\",\"x\":[\"avita\"],\"xaxis\":\"x\",\"y\":[0.5045408678102926],\"yaxis\":\"y\",\"type\":\"bar\"},{\"alignmentgroup\":\"True\",\"hovertemplate\":\"brand=%{x}\\u003cbr\\u003evalue=%{y}\\u003cextra\\u003e\\u003c\\u002fextra\\u003e\",\"legendgroup\":\"chuwi\",\"marker\":{\"color\":\"#FFA15A\",\"pattern\":{\"shape\":\"\"}},\"name\":\"chuwi\",\"offsetgroup\":\"chuwi\",\"orientation\":\"v\",\"showlegend\":true,\"textposition\":\"auto\",\"x\":[\"chuwi\"],\"xaxis\":\"x\",\"y\":[0.4036326942482341],\"yaxis\":\"y\",\"type\":\"bar\"},{\"alignmentgroup\":\"True\",\"hovertemplate\":\"brand=%{x}\\u003cbr\\u003evalue=%{y}\\u003cextra\\u003e\\u003c\\u002fextra\\u003e\",\"legendgroup\":\"wings\",\"marker\":{\"color\":\"#19d3f3\",\"pattern\":{\"shape\":\"\"}},\"name\":\"wings\",\"offsetgroup\":\"wings\",\"orientation\":\"v\",\"showlegend\":true,\"textposition\":\"auto\",\"x\":[\"wings\"],\"xaxis\":\"x\",\"y\":[0.4036326942482341],\"yaxis\":\"y\",\"type\":\"bar\"},{\"alignmentgroup\":\"True\",\"hovertemplate\":\"brand=%{x}\\u003cbr\\u003evalue=%{y}\\u003cextra\\u003e\\u003c\\u002fextra\\u003e\",\"legendgroup\":\"honor\",\"marker\":{\"color\":\"#FF6692\",\"pattern\":{\"shape\":\"\"}},\"name\":\"honor\",\"offsetgroup\":\"honor\",\"orientation\":\"v\",\"showlegend\":true,\"textposition\":\"auto\",\"x\":[\"honor\"],\"xaxis\":\"x\",\"y\":[0.20181634712411706],\"yaxis\":\"y\",\"type\":\"bar\"},{\"alignmentgroup\":\"True\",\"hovertemplate\":\"brand=%{x}\\u003cbr\\u003evalue=%{y}\\u003cextra\\u003e\\u003c\\u002fextra\\u003e\",\"legendgroup\":\"gigabyte\",\"marker\":{\"color\":\"#B6E880\",\"pattern\":{\"shape\":\"\"}},\"name\":\"gigabyte\",\"offsetgroup\":\"gigabyte\",\"orientation\":\"v\",\"showlegend\":true,\"textposition\":\"auto\",\"x\":[\"gigabyte\"],\"xaxis\":\"x\",\"y\":[0.20181634712411706],\"yaxis\":\"y\",\"type\":\"bar\"},{\"alignmentgroup\":\"True\",\"hovertemplate\":\"brand=%{x}\\u003cbr\\u003evalue=%{y}\\u003cextra\\u003e\\u003c\\u002fextra\\u003e\",\"legendgroup\":\"microsoft\",\"marker\":{\"color\":\"#FF97FF\",\"pattern\":{\"shape\":\"\"}},\"name\":\"microsoft\",\"offsetgroup\":\"microsoft\",\"orientation\":\"v\",\"showlegend\":true,\"textposition\":\"auto\",\"x\":[\"microsoft\"],\"xaxis\":\"x\",\"y\":[0.20181634712411706],\"yaxis\":\"y\",\"type\":\"bar\"},{\"alignmentgroup\":\"True\",\"hovertemplate\":\"brand=%{x}\\u003cbr\\u003evalue=%{y}\\u003cextra\\u003e\\u003c\\u002fextra\\u003e\",\"legendgroup\":\"axl\",\"marker\":{\"color\":\"#FECB52\",\"pattern\":{\"shape\":\"\"}},\"name\":\"axl\",\"offsetgroup\":\"axl\",\"orientation\":\"v\",\"showlegend\":true,\"textposition\":\"auto\",\"x\":[\"axl\"],\"xaxis\":\"x\",\"y\":[0.20181634712411706],\"yaxis\":\"y\",\"type\":\"bar\"},{\"alignmentgroup\":\"True\",\"hovertemplate\":\"brand=%{x}\\u003cbr\\u003evalue=%{y}\\u003cextra\\u003e\\u003c\\u002fextra\\u003e\",\"legendgroup\":\"primebook\",\"marker\":{\"color\":\"#636efa\",\"pattern\":{\"shape\":\"\"}},\"name\":\"primebook\",\"offsetgroup\":\"primebook\",\"orientation\":\"v\",\"showlegend\":true,\"textposition\":\"auto\",\"x\":[\"primebook\"],\"xaxis\":\"x\",\"y\":[0.20181634712411706],\"yaxis\":\"y\",\"type\":\"bar\"},{\"alignmentgroup\":\"True\",\"hovertemplate\":\"brand=%{x}\\u003cbr\\u003evalue=%{y}\\u003cextra\\u003e\\u003c\\u002fextra\\u003e\",\"legendgroup\":\"realme\",\"marker\":{\"color\":\"#EF553B\",\"pattern\":{\"shape\":\"\"}},\"name\":\"realme\",\"offsetgroup\":\"realme\",\"orientation\":\"v\",\"showlegend\":true,\"textposition\":\"auto\",\"x\":[\"realme\"],\"xaxis\":\"x\",\"y\":[0.20181634712411706],\"yaxis\":\"y\",\"type\":\"bar\"},{\"alignmentgroup\":\"True\",\"hovertemplate\":\"brand=%{x}\\u003cbr\\u003evalue=%{y}\\u003cextra\\u003e\\u003c\\u002fextra\\u003e\",\"legendgroup\":\"tecno\",\"marker\":{\"color\":\"#00cc96\",\"pattern\":{\"shape\":\"\"}},\"name\":\"tecno\",\"offsetgroup\":\"tecno\",\"orientation\":\"v\",\"showlegend\":true,\"textposition\":\"auto\",\"x\":[\"tecno\"],\"xaxis\":\"x\",\"y\":[0.20181634712411706],\"yaxis\":\"y\",\"type\":\"bar\"},{\"alignmentgroup\":\"True\",\"hovertemplate\":\"brand=%{x}\\u003cbr\\u003evalue=%{y}\\u003cextra\\u003e\\u003c\\u002fextra\\u003e\",\"legendgroup\":\"iball\",\"marker\":{\"color\":\"#ab63fa\",\"pattern\":{\"shape\":\"\"}},\"name\":\"iball\",\"offsetgroup\":\"iball\",\"orientation\":\"v\",\"showlegend\":true,\"textposition\":\"auto\",\"x\":[\"iball\"],\"xaxis\":\"x\",\"y\":[0.10090817356205853],\"yaxis\":\"y\",\"type\":\"bar\"},{\"alignmentgroup\":\"True\",\"hovertemplate\":\"brand=%{x}\\u003cbr\\u003evalue=%{y}\\u003cextra\\u003e\\u003c\\u002fextra\\u003e\",\"legendgroup\":\"walker\",\"marker\":{\"color\":\"#FFA15A\",\"pattern\":{\"shape\":\"\"}},\"name\":\"walker\",\"offsetgroup\":\"walker\",\"orientation\":\"v\",\"showlegend\":true,\"textposition\":\"auto\",\"x\":[\"walker\"],\"xaxis\":\"x\",\"y\":[0.10090817356205853],\"yaxis\":\"y\",\"type\":\"bar\"},{\"alignmentgroup\":\"True\",\"hovertemplate\":\"brand=%{x}\\u003cbr\\u003evalue=%{y}\\u003cextra\\u003e\\u003c\\u002fextra\\u003e\",\"legendgroup\":\"jio\",\"marker\":{\"color\":\"#19d3f3\",\"pattern\":{\"shape\":\"\"}},\"name\":\"jio\",\"offsetgroup\":\"jio\",\"orientation\":\"v\",\"showlegend\":true,\"textposition\":\"auto\",\"x\":[\"jio\"],\"xaxis\":\"x\",\"y\":[0.10090817356205853],\"yaxis\":\"y\",\"type\":\"bar\"}],                        {\"template\":{\"data\":{\"histogram2dcontour\":[{\"type\":\"histogram2dcontour\",\"colorbar\":{\"outlinewidth\":0,\"ticks\":\"\"},\"colorscale\":[[0.0,\"#0d0887\"],[0.1111111111111111,\"#46039f\"],[0.2222222222222222,\"#7201a8\"],[0.3333333333333333,\"#9c179e\"],[0.4444444444444444,\"#bd3786\"],[0.5555555555555556,\"#d8576b\"],[0.6666666666666666,\"#ed7953\"],[0.7777777777777778,\"#fb9f3a\"],[0.8888888888888888,\"#fdca26\"],[1.0,\"#f0f921\"]]}],\"choropleth\":[{\"type\":\"choropleth\",\"colorbar\":{\"outlinewidth\":0,\"ticks\":\"\"}}],\"histogram2d\":[{\"type\":\"histogram2d\",\"colorbar\":{\"outlinewidth\":0,\"ticks\":\"\"},\"colorscale\":[[0.0,\"#0d0887\"],[0.1111111111111111,\"#46039f\"],[0.2222222222222222,\"#7201a8\"],[0.3333333333333333,\"#9c179e\"],[0.4444444444444444,\"#bd3786\"],[0.5555555555555556,\"#d8576b\"],[0.6666666666666666,\"#ed7953\"],[0.7777777777777778,\"#fb9f3a\"],[0.8888888888888888,\"#fdca26\"],[1.0,\"#f0f921\"]]}],\"heatmap\":[{\"type\":\"heatmap\",\"colorbar\":{\"outlinewidth\":0,\"ticks\":\"\"},\"colorscale\":[[0.0,\"#0d0887\"],[0.1111111111111111,\"#46039f\"],[0.2222222222222222,\"#7201a8\"],[0.3333333333333333,\"#9c179e\"],[0.4444444444444444,\"#bd3786\"],[0.5555555555555556,\"#d8576b\"],[0.6666666666666666,\"#ed7953\"],[0.7777777777777778,\"#fb9f3a\"],[0.8888888888888888,\"#fdca26\"],[1.0,\"#f0f921\"]]}],\"heatmapgl\":[{\"type\":\"heatmapgl\",\"colorbar\":{\"outlinewidth\":0,\"ticks\":\"\"},\"colorscale\":[[0.0,\"#0d0887\"],[0.1111111111111111,\"#46039f\"],[0.2222222222222222,\"#7201a8\"],[0.3333333333333333,\"#9c179e\"],[0.4444444444444444,\"#bd3786\"],[0.5555555555555556,\"#d8576b\"],[0.6666666666666666,\"#ed7953\"],[0.7777777777777778,\"#fb9f3a\"],[0.8888888888888888,\"#fdca26\"],[1.0,\"#f0f921\"]]}],\"contourcarpet\":[{\"type\":\"contourcarpet\",\"colorbar\":{\"outlinewidth\":0,\"ticks\":\"\"}}],\"contour\":[{\"type\":\"contour\",\"colorbar\":{\"outlinewidth\":0,\"ticks\":\"\"},\"colorscale\":[[0.0,\"#0d0887\"],[0.1111111111111111,\"#46039f\"],[0.2222222222222222,\"#7201a8\"],[0.3333333333333333,\"#9c179e\"],[0.4444444444444444,\"#bd3786\"],[0.5555555555555556,\"#d8576b\"],[0.6666666666666666,\"#ed7953\"],[0.7777777777777778,\"#fb9f3a\"],[0.8888888888888888,\"#fdca26\"],[1.0,\"#f0f921\"]]}],\"surface\":[{\"type\":\"surface\",\"colorbar\":{\"outlinewidth\":0,\"ticks\":\"\"},\"colorscale\":[[0.0,\"#0d0887\"],[0.1111111111111111,\"#46039f\"],[0.2222222222222222,\"#7201a8\"],[0.3333333333333333,\"#9c179e\"],[0.4444444444444444,\"#bd3786\"],[0.5555555555555556,\"#d8576b\"],[0.6666666666666666,\"#ed7953\"],[0.7777777777777778,\"#fb9f3a\"],[0.8888888888888888,\"#fdca26\"],[1.0,\"#f0f921\"]]}],\"mesh3d\":[{\"type\":\"mesh3d\",\"colorbar\":{\"outlinewidth\":0,\"ticks\":\"\"}}],\"scatter\":[{\"fillpattern\":{\"fillmode\":\"overlay\",\"size\":10,\"solidity\":0.2},\"type\":\"scatter\"}],\"parcoords\":[{\"type\":\"parcoords\",\"line\":{\"colorbar\":{\"outlinewidth\":0,\"ticks\":\"\"}}}],\"scatterpolargl\":[{\"type\":\"scatterpolargl\",\"marker\":{\"colorbar\":{\"outlinewidth\":0,\"ticks\":\"\"}}}],\"bar\":[{\"error_x\":{\"color\":\"#2a3f5f\"},\"error_y\":{\"color\":\"#2a3f5f\"},\"marker\":{\"line\":{\"color\":\"#E5ECF6\",\"width\":0.5},\"pattern\":{\"fillmode\":\"overlay\",\"size\":10,\"solidity\":0.2}},\"type\":\"bar\"}],\"scattergeo\":[{\"type\":\"scattergeo\",\"marker\":{\"colorbar\":{\"outlinewidth\":0,\"ticks\":\"\"}}}],\"scatterpolar\":[{\"type\":\"scatterpolar\",\"marker\":{\"colorbar\":{\"outlinewidth\":0,\"ticks\":\"\"}}}],\"histogram\":[{\"marker\":{\"pattern\":{\"fillmode\":\"overlay\",\"size\":10,\"solidity\":0.2}},\"type\":\"histogram\"}],\"scattergl\":[{\"type\":\"scattergl\",\"marker\":{\"colorbar\":{\"outlinewidth\":0,\"ticks\":\"\"}}}],\"scatter3d\":[{\"type\":\"scatter3d\",\"line\":{\"colorbar\":{\"outlinewidth\":0,\"ticks\":\"\"}},\"marker\":{\"colorbar\":{\"outlinewidth\":0,\"ticks\":\"\"}}}],\"scattermapbox\":[{\"type\":\"scattermapbox\",\"marker\":{\"colorbar\":{\"outlinewidth\":0,\"ticks\":\"\"}}}],\"scatterternary\":[{\"type\":\"scatterternary\",\"marker\":{\"colorbar\":{\"outlinewidth\":0,\"ticks\":\"\"}}}],\"scattercarpet\":[{\"type\":\"scattercarpet\",\"marker\":{\"colorbar\":{\"outlinewidth\":0,\"ticks\":\"\"}}}],\"carpet\":[{\"aaxis\":{\"endlinecolor\":\"#2a3f5f\",\"gridcolor\":\"white\",\"linecolor\":\"white\",\"minorgridcolor\":\"white\",\"startlinecolor\":\"#2a3f5f\"},\"baxis\":{\"endlinecolor\":\"#2a3f5f\",\"gridcolor\":\"white\",\"linecolor\":\"white\",\"minorgridcolor\":\"white\",\"startlinecolor\":\"#2a3f5f\"},\"type\":\"carpet\"}],\"table\":[{\"cells\":{\"fill\":{\"color\":\"#EBF0F8\"},\"line\":{\"color\":\"white\"}},\"header\":{\"fill\":{\"color\":\"#C8D4E3\"},\"line\":{\"color\":\"white\"}},\"type\":\"table\"}],\"barpolar\":[{\"marker\":{\"line\":{\"color\":\"#E5ECF6\",\"width\":0.5},\"pattern\":{\"fillmode\":\"overlay\",\"size\":10,\"solidity\":0.2}},\"type\":\"barpolar\"}],\"pie\":[{\"automargin\":true,\"type\":\"pie\"}]},\"layout\":{\"autotypenumbers\":\"strict\",\"colorway\":[\"#636efa\",\"#EF553B\",\"#00cc96\",\"#ab63fa\",\"#FFA15A\",\"#19d3f3\",\"#FF6692\",\"#B6E880\",\"#FF97FF\",\"#FECB52\"],\"font\":{\"color\":\"#2a3f5f\"},\"hovermode\":\"closest\",\"hoverlabel\":{\"align\":\"left\"},\"paper_bgcolor\":\"white\",\"plot_bgcolor\":\"#E5ECF6\",\"polar\":{\"bgcolor\":\"#E5ECF6\",\"angularaxis\":{\"gridcolor\":\"white\",\"linecolor\":\"white\",\"ticks\":\"\"},\"radialaxis\":{\"gridcolor\":\"white\",\"linecolor\":\"white\",\"ticks\":\"\"}},\"ternary\":{\"bgcolor\":\"#E5ECF6\",\"aaxis\":{\"gridcolor\":\"white\",\"linecolor\":\"white\",\"ticks\":\"\"},\"baxis\":{\"gridcolor\":\"white\",\"linecolor\":\"white\",\"ticks\":\"\"},\"caxis\":{\"gridcolor\":\"white\",\"linecolor\":\"white\",\"ticks\":\"\"}},\"coloraxis\":{\"colorbar\":{\"outlinewidth\":0,\"ticks\":\"\"}},\"colorscale\":{\"sequential\":[[0.0,\"#0d0887\"],[0.1111111111111111,\"#46039f\"],[0.2222222222222222,\"#7201a8\"],[0.3333333333333333,\"#9c179e\"],[0.4444444444444444,\"#bd3786\"],[0.5555555555555556,\"#d8576b\"],[0.6666666666666666,\"#ed7953\"],[0.7777777777777778,\"#fb9f3a\"],[0.8888888888888888,\"#fdca26\"],[1.0,\"#f0f921\"]],\"sequentialminus\":[[0.0,\"#0d0887\"],[0.1111111111111111,\"#46039f\"],[0.2222222222222222,\"#7201a8\"],[0.3333333333333333,\"#9c179e\"],[0.4444444444444444,\"#bd3786\"],[0.5555555555555556,\"#d8576b\"],[0.6666666666666666,\"#ed7953\"],[0.7777777777777778,\"#fb9f3a\"],[0.8888888888888888,\"#fdca26\"],[1.0,\"#f0f921\"]],\"diverging\":[[0,\"#8e0152\"],[0.1,\"#c51b7d\"],[0.2,\"#de77ae\"],[0.3,\"#f1b6da\"],[0.4,\"#fde0ef\"],[0.5,\"#f7f7f7\"],[0.6,\"#e6f5d0\"],[0.7,\"#b8e186\"],[0.8,\"#7fbc41\"],[0.9,\"#4d9221\"],[1,\"#276419\"]]},\"xaxis\":{\"gridcolor\":\"white\",\"linecolor\":\"white\",\"ticks\":\"\",\"title\":{\"standoff\":15},\"zerolinecolor\":\"white\",\"automargin\":true,\"zerolinewidth\":2},\"yaxis\":{\"gridcolor\":\"white\",\"linecolor\":\"white\",\"ticks\":\"\",\"title\":{\"standoff\":15},\"zerolinecolor\":\"white\",\"automargin\":true,\"zerolinewidth\":2},\"scene\":{\"xaxis\":{\"backgroundcolor\":\"#E5ECF6\",\"gridcolor\":\"white\",\"linecolor\":\"white\",\"showbackground\":true,\"ticks\":\"\",\"zerolinecolor\":\"white\",\"gridwidth\":2},\"yaxis\":{\"backgroundcolor\":\"#E5ECF6\",\"gridcolor\":\"white\",\"linecolor\":\"white\",\"showbackground\":true,\"ticks\":\"\",\"zerolinecolor\":\"white\",\"gridwidth\":2},\"zaxis\":{\"backgroundcolor\":\"#E5ECF6\",\"gridcolor\":\"white\",\"linecolor\":\"white\",\"showbackground\":true,\"ticks\":\"\",\"zerolinecolor\":\"white\",\"gridwidth\":2}},\"shapedefaults\":{\"line\":{\"color\":\"#2a3f5f\"}},\"annotationdefaults\":{\"arrowcolor\":\"#2a3f5f\",\"arrowhead\":0,\"arrowwidth\":1},\"geo\":{\"bgcolor\":\"white\",\"landcolor\":\"#E5ECF6\",\"subunitcolor\":\"white\",\"showland\":true,\"showlakes\":true,\"lakecolor\":\"white\"},\"title\":{\"x\":0.05},\"mapbox\":{\"style\":\"light\"}}},\"xaxis\":{\"anchor\":\"y\",\"domain\":[0.0,1.0],\"title\":{\"text\":\"brand\"},\"categoryorder\":\"array\",\"categoryarray\":[\"asus\",\"hp\",\"lenovo\",\"dell\",\"msi\",\"acer\",\"apple\",\"infinix\",\"samsung\",\"lg\",\"zebronics\",\"ultimus\",\"fujitsu\",\"avita\",\"chuwi\",\"wings\",\"honor\",\"gigabyte\",\"microsoft\",\"axl\",\"primebook\",\"realme\",\"tecno\",\"iball\",\"walker\",\"jio\"]},\"yaxis\":{\"anchor\":\"x\",\"domain\":[0.0,1.0],\"title\":{\"text\":\"value\"}},\"legend\":{\"title\":{\"text\":\"brand\"},\"tracegroupgap\":0},\"margin\":{\"t\":60},\"barmode\":\"relative\"},                        {\"responsive\": true}                    ).then(function(){\n",
       "                            \n",
       "var gd = document.getElementById('dd10a474-a79a-424c-a076-7c4f28f771cb');\n",
       "var x = new MutationObserver(function (mutations, observer) {{\n",
       "        var display = window.getComputedStyle(gd).display;\n",
       "        if (!display || display === 'none') {{\n",
       "            console.log([gd, 'removed!']);\n",
       "            Plotly.purge(gd);\n",
       "            observer.disconnect();\n",
       "        }}\n",
       "}});\n",
       "\n",
       "// Listen for the removal of the full notebook cells\n",
       "var notebookContainer = gd.closest('#notebook-container');\n",
       "if (notebookContainer) {{\n",
       "    x.observe(notebookContainer, {childList: true});\n",
       "}}\n",
       "\n",
       "// Listen for the clearing of the current output cell\n",
       "var outputEl = gd.closest('.output');\n",
       "if (outputEl) {{\n",
       "    x.observe(outputEl, {childList: true});\n",
       "}}\n",
       "\n",
       "                        })                };                });            </script>        </div>"
      ]
     },
     "metadata": {},
     "output_type": "display_data"
    }
   ],
   "source": [
    "# Distribuição da variável brand\n",
    "percentual_brand = df_laptops.value_counts('brand') / len(df_laptops) * 100\n",
    "px.bar(percentual_brand, color=percentual_brand.index,)"
   ]
  },
  {
   "cell_type": "code",
   "execution_count": 22,
   "id": "90c9d273",
   "metadata": {},
   "outputs": [
    {
     "data": {
      "application/vnd.plotly.v1+json": {
       "config": {
        "plotlyServerURL": "https://plot.ly"
       },
       "data": [
        {
         "alignmentgroup": "True",
         "hovertemplate": "processor_brand=%{x}<br>value=%{y}<extra></extra>",
         "legendgroup": "intel",
         "marker": {
          "color": "#636efa",
          "pattern": {
           "shape": ""
          }
         },
         "name": "intel",
         "offsetgroup": "intel",
         "orientation": "v",
         "showlegend": true,
         "textposition": "auto",
         "type": "bar",
         "x": [
          "intel"
         ],
         "xaxis": "x",
         "y": [
          71.14026236125126
         ],
         "yaxis": "y"
        },
        {
         "alignmentgroup": "True",
         "hovertemplate": "processor_brand=%{x}<br>value=%{y}<extra></extra>",
         "legendgroup": "amd",
         "marker": {
          "color": "#EF553B",
          "pattern": {
           "shape": ""
          }
         },
         "name": "amd",
         "offsetgroup": "amd",
         "orientation": "v",
         "showlegend": true,
         "textposition": "auto",
         "type": "bar",
         "x": [
          "amd"
         ],
         "xaxis": "x",
         "y": [
          26.942482341069628
         ],
         "yaxis": "y"
        },
        {
         "alignmentgroup": "True",
         "hovertemplate": "processor_brand=%{x}<br>value=%{y}<extra></extra>",
         "legendgroup": "apple",
         "marker": {
          "color": "#00cc96",
          "pattern": {
           "shape": ""
          }
         },
         "name": "apple",
         "offsetgroup": "apple",
         "orientation": "v",
         "showlegend": true,
         "textposition": "auto",
         "type": "bar",
         "x": [
          "apple"
         ],
         "xaxis": "x",
         "y": [
          1.513622603430878
         ],
         "yaxis": "y"
        },
        {
         "alignmentgroup": "True",
         "hovertemplate": "processor_brand=%{x}<br>value=%{y}<extra></extra>",
         "legendgroup": "other",
         "marker": {
          "color": "#ab63fa",
          "pattern": {
           "shape": ""
          }
         },
         "name": "other",
         "offsetgroup": "other",
         "orientation": "v",
         "showlegend": true,
         "textposition": "auto",
         "type": "bar",
         "x": [
          "other"
         ],
         "xaxis": "x",
         "y": [
          0.4036326942482341
         ],
         "yaxis": "y"
        }
       ],
       "layout": {
        "barmode": "relative",
        "legend": {
         "title": {
          "text": "processor_brand"
         },
         "tracegroupgap": 0
        },
        "margin": {
         "t": 60
        },
        "template": {
         "data": {
          "bar": [
           {
            "error_x": {
             "color": "#2a3f5f"
            },
            "error_y": {
             "color": "#2a3f5f"
            },
            "marker": {
             "line": {
              "color": "#E5ECF6",
              "width": 0.5
             },
             "pattern": {
              "fillmode": "overlay",
              "size": 10,
              "solidity": 0.2
             }
            },
            "type": "bar"
           }
          ],
          "barpolar": [
           {
            "marker": {
             "line": {
              "color": "#E5ECF6",
              "width": 0.5
             },
             "pattern": {
              "fillmode": "overlay",
              "size": 10,
              "solidity": 0.2
             }
            },
            "type": "barpolar"
           }
          ],
          "carpet": [
           {
            "aaxis": {
             "endlinecolor": "#2a3f5f",
             "gridcolor": "white",
             "linecolor": "white",
             "minorgridcolor": "white",
             "startlinecolor": "#2a3f5f"
            },
            "baxis": {
             "endlinecolor": "#2a3f5f",
             "gridcolor": "white",
             "linecolor": "white",
             "minorgridcolor": "white",
             "startlinecolor": "#2a3f5f"
            },
            "type": "carpet"
           }
          ],
          "choropleth": [
           {
            "colorbar": {
             "outlinewidth": 0,
             "ticks": ""
            },
            "type": "choropleth"
           }
          ],
          "contour": [
           {
            "colorbar": {
             "outlinewidth": 0,
             "ticks": ""
            },
            "colorscale": [
             [
              0,
              "#0d0887"
             ],
             [
              0.1111111111111111,
              "#46039f"
             ],
             [
              0.2222222222222222,
              "#7201a8"
             ],
             [
              0.3333333333333333,
              "#9c179e"
             ],
             [
              0.4444444444444444,
              "#bd3786"
             ],
             [
              0.5555555555555556,
              "#d8576b"
             ],
             [
              0.6666666666666666,
              "#ed7953"
             ],
             [
              0.7777777777777778,
              "#fb9f3a"
             ],
             [
              0.8888888888888888,
              "#fdca26"
             ],
             [
              1,
              "#f0f921"
             ]
            ],
            "type": "contour"
           }
          ],
          "contourcarpet": [
           {
            "colorbar": {
             "outlinewidth": 0,
             "ticks": ""
            },
            "type": "contourcarpet"
           }
          ],
          "heatmap": [
           {
            "colorbar": {
             "outlinewidth": 0,
             "ticks": ""
            },
            "colorscale": [
             [
              0,
              "#0d0887"
             ],
             [
              0.1111111111111111,
              "#46039f"
             ],
             [
              0.2222222222222222,
              "#7201a8"
             ],
             [
              0.3333333333333333,
              "#9c179e"
             ],
             [
              0.4444444444444444,
              "#bd3786"
             ],
             [
              0.5555555555555556,
              "#d8576b"
             ],
             [
              0.6666666666666666,
              "#ed7953"
             ],
             [
              0.7777777777777778,
              "#fb9f3a"
             ],
             [
              0.8888888888888888,
              "#fdca26"
             ],
             [
              1,
              "#f0f921"
             ]
            ],
            "type": "heatmap"
           }
          ],
          "heatmapgl": [
           {
            "colorbar": {
             "outlinewidth": 0,
             "ticks": ""
            },
            "colorscale": [
             [
              0,
              "#0d0887"
             ],
             [
              0.1111111111111111,
              "#46039f"
             ],
             [
              0.2222222222222222,
              "#7201a8"
             ],
             [
              0.3333333333333333,
              "#9c179e"
             ],
             [
              0.4444444444444444,
              "#bd3786"
             ],
             [
              0.5555555555555556,
              "#d8576b"
             ],
             [
              0.6666666666666666,
              "#ed7953"
             ],
             [
              0.7777777777777778,
              "#fb9f3a"
             ],
             [
              0.8888888888888888,
              "#fdca26"
             ],
             [
              1,
              "#f0f921"
             ]
            ],
            "type": "heatmapgl"
           }
          ],
          "histogram": [
           {
            "marker": {
             "pattern": {
              "fillmode": "overlay",
              "size": 10,
              "solidity": 0.2
             }
            },
            "type": "histogram"
           }
          ],
          "histogram2d": [
           {
            "colorbar": {
             "outlinewidth": 0,
             "ticks": ""
            },
            "colorscale": [
             [
              0,
              "#0d0887"
             ],
             [
              0.1111111111111111,
              "#46039f"
             ],
             [
              0.2222222222222222,
              "#7201a8"
             ],
             [
              0.3333333333333333,
              "#9c179e"
             ],
             [
              0.4444444444444444,
              "#bd3786"
             ],
             [
              0.5555555555555556,
              "#d8576b"
             ],
             [
              0.6666666666666666,
              "#ed7953"
             ],
             [
              0.7777777777777778,
              "#fb9f3a"
             ],
             [
              0.8888888888888888,
              "#fdca26"
             ],
             [
              1,
              "#f0f921"
             ]
            ],
            "type": "histogram2d"
           }
          ],
          "histogram2dcontour": [
           {
            "colorbar": {
             "outlinewidth": 0,
             "ticks": ""
            },
            "colorscale": [
             [
              0,
              "#0d0887"
             ],
             [
              0.1111111111111111,
              "#46039f"
             ],
             [
              0.2222222222222222,
              "#7201a8"
             ],
             [
              0.3333333333333333,
              "#9c179e"
             ],
             [
              0.4444444444444444,
              "#bd3786"
             ],
             [
              0.5555555555555556,
              "#d8576b"
             ],
             [
              0.6666666666666666,
              "#ed7953"
             ],
             [
              0.7777777777777778,
              "#fb9f3a"
             ],
             [
              0.8888888888888888,
              "#fdca26"
             ],
             [
              1,
              "#f0f921"
             ]
            ],
            "type": "histogram2dcontour"
           }
          ],
          "mesh3d": [
           {
            "colorbar": {
             "outlinewidth": 0,
             "ticks": ""
            },
            "type": "mesh3d"
           }
          ],
          "parcoords": [
           {
            "line": {
             "colorbar": {
              "outlinewidth": 0,
              "ticks": ""
             }
            },
            "type": "parcoords"
           }
          ],
          "pie": [
           {
            "automargin": true,
            "type": "pie"
           }
          ],
          "scatter": [
           {
            "fillpattern": {
             "fillmode": "overlay",
             "size": 10,
             "solidity": 0.2
            },
            "type": "scatter"
           }
          ],
          "scatter3d": [
           {
            "line": {
             "colorbar": {
              "outlinewidth": 0,
              "ticks": ""
             }
            },
            "marker": {
             "colorbar": {
              "outlinewidth": 0,
              "ticks": ""
             }
            },
            "type": "scatter3d"
           }
          ],
          "scattercarpet": [
           {
            "marker": {
             "colorbar": {
              "outlinewidth": 0,
              "ticks": ""
             }
            },
            "type": "scattercarpet"
           }
          ],
          "scattergeo": [
           {
            "marker": {
             "colorbar": {
              "outlinewidth": 0,
              "ticks": ""
             }
            },
            "type": "scattergeo"
           }
          ],
          "scattergl": [
           {
            "marker": {
             "colorbar": {
              "outlinewidth": 0,
              "ticks": ""
             }
            },
            "type": "scattergl"
           }
          ],
          "scattermapbox": [
           {
            "marker": {
             "colorbar": {
              "outlinewidth": 0,
              "ticks": ""
             }
            },
            "type": "scattermapbox"
           }
          ],
          "scatterpolar": [
           {
            "marker": {
             "colorbar": {
              "outlinewidth": 0,
              "ticks": ""
             }
            },
            "type": "scatterpolar"
           }
          ],
          "scatterpolargl": [
           {
            "marker": {
             "colorbar": {
              "outlinewidth": 0,
              "ticks": ""
             }
            },
            "type": "scatterpolargl"
           }
          ],
          "scatterternary": [
           {
            "marker": {
             "colorbar": {
              "outlinewidth": 0,
              "ticks": ""
             }
            },
            "type": "scatterternary"
           }
          ],
          "surface": [
           {
            "colorbar": {
             "outlinewidth": 0,
             "ticks": ""
            },
            "colorscale": [
             [
              0,
              "#0d0887"
             ],
             [
              0.1111111111111111,
              "#46039f"
             ],
             [
              0.2222222222222222,
              "#7201a8"
             ],
             [
              0.3333333333333333,
              "#9c179e"
             ],
             [
              0.4444444444444444,
              "#bd3786"
             ],
             [
              0.5555555555555556,
              "#d8576b"
             ],
             [
              0.6666666666666666,
              "#ed7953"
             ],
             [
              0.7777777777777778,
              "#fb9f3a"
             ],
             [
              0.8888888888888888,
              "#fdca26"
             ],
             [
              1,
              "#f0f921"
             ]
            ],
            "type": "surface"
           }
          ],
          "table": [
           {
            "cells": {
             "fill": {
              "color": "#EBF0F8"
             },
             "line": {
              "color": "white"
             }
            },
            "header": {
             "fill": {
              "color": "#C8D4E3"
             },
             "line": {
              "color": "white"
             }
            },
            "type": "table"
           }
          ]
         },
         "layout": {
          "annotationdefaults": {
           "arrowcolor": "#2a3f5f",
           "arrowhead": 0,
           "arrowwidth": 1
          },
          "autotypenumbers": "strict",
          "coloraxis": {
           "colorbar": {
            "outlinewidth": 0,
            "ticks": ""
           }
          },
          "colorscale": {
           "diverging": [
            [
             0,
             "#8e0152"
            ],
            [
             0.1,
             "#c51b7d"
            ],
            [
             0.2,
             "#de77ae"
            ],
            [
             0.3,
             "#f1b6da"
            ],
            [
             0.4,
             "#fde0ef"
            ],
            [
             0.5,
             "#f7f7f7"
            ],
            [
             0.6,
             "#e6f5d0"
            ],
            [
             0.7,
             "#b8e186"
            ],
            [
             0.8,
             "#7fbc41"
            ],
            [
             0.9,
             "#4d9221"
            ],
            [
             1,
             "#276419"
            ]
           ],
           "sequential": [
            [
             0,
             "#0d0887"
            ],
            [
             0.1111111111111111,
             "#46039f"
            ],
            [
             0.2222222222222222,
             "#7201a8"
            ],
            [
             0.3333333333333333,
             "#9c179e"
            ],
            [
             0.4444444444444444,
             "#bd3786"
            ],
            [
             0.5555555555555556,
             "#d8576b"
            ],
            [
             0.6666666666666666,
             "#ed7953"
            ],
            [
             0.7777777777777778,
             "#fb9f3a"
            ],
            [
             0.8888888888888888,
             "#fdca26"
            ],
            [
             1,
             "#f0f921"
            ]
           ],
           "sequentialminus": [
            [
             0,
             "#0d0887"
            ],
            [
             0.1111111111111111,
             "#46039f"
            ],
            [
             0.2222222222222222,
             "#7201a8"
            ],
            [
             0.3333333333333333,
             "#9c179e"
            ],
            [
             0.4444444444444444,
             "#bd3786"
            ],
            [
             0.5555555555555556,
             "#d8576b"
            ],
            [
             0.6666666666666666,
             "#ed7953"
            ],
            [
             0.7777777777777778,
             "#fb9f3a"
            ],
            [
             0.8888888888888888,
             "#fdca26"
            ],
            [
             1,
             "#f0f921"
            ]
           ]
          },
          "colorway": [
           "#636efa",
           "#EF553B",
           "#00cc96",
           "#ab63fa",
           "#FFA15A",
           "#19d3f3",
           "#FF6692",
           "#B6E880",
           "#FF97FF",
           "#FECB52"
          ],
          "font": {
           "color": "#2a3f5f"
          },
          "geo": {
           "bgcolor": "white",
           "lakecolor": "white",
           "landcolor": "#E5ECF6",
           "showlakes": true,
           "showland": true,
           "subunitcolor": "white"
          },
          "hoverlabel": {
           "align": "left"
          },
          "hovermode": "closest",
          "mapbox": {
           "style": "light"
          },
          "paper_bgcolor": "white",
          "plot_bgcolor": "#E5ECF6",
          "polar": {
           "angularaxis": {
            "gridcolor": "white",
            "linecolor": "white",
            "ticks": ""
           },
           "bgcolor": "#E5ECF6",
           "radialaxis": {
            "gridcolor": "white",
            "linecolor": "white",
            "ticks": ""
           }
          },
          "scene": {
           "xaxis": {
            "backgroundcolor": "#E5ECF6",
            "gridcolor": "white",
            "gridwidth": 2,
            "linecolor": "white",
            "showbackground": true,
            "ticks": "",
            "zerolinecolor": "white"
           },
           "yaxis": {
            "backgroundcolor": "#E5ECF6",
            "gridcolor": "white",
            "gridwidth": 2,
            "linecolor": "white",
            "showbackground": true,
            "ticks": "",
            "zerolinecolor": "white"
           },
           "zaxis": {
            "backgroundcolor": "#E5ECF6",
            "gridcolor": "white",
            "gridwidth": 2,
            "linecolor": "white",
            "showbackground": true,
            "ticks": "",
            "zerolinecolor": "white"
           }
          },
          "shapedefaults": {
           "line": {
            "color": "#2a3f5f"
           }
          },
          "ternary": {
           "aaxis": {
            "gridcolor": "white",
            "linecolor": "white",
            "ticks": ""
           },
           "baxis": {
            "gridcolor": "white",
            "linecolor": "white",
            "ticks": ""
           },
           "bgcolor": "#E5ECF6",
           "caxis": {
            "gridcolor": "white",
            "linecolor": "white",
            "ticks": ""
           }
          },
          "title": {
           "x": 0.05
          },
          "xaxis": {
           "automargin": true,
           "gridcolor": "white",
           "linecolor": "white",
           "ticks": "",
           "title": {
            "standoff": 15
           },
           "zerolinecolor": "white",
           "zerolinewidth": 2
          },
          "yaxis": {
           "automargin": true,
           "gridcolor": "white",
           "linecolor": "white",
           "ticks": "",
           "title": {
            "standoff": 15
           },
           "zerolinecolor": "white",
           "zerolinewidth": 2
          }
         }
        },
        "xaxis": {
         "anchor": "y",
         "categoryarray": [
          "intel",
          "amd",
          "apple",
          "other"
         ],
         "categoryorder": "array",
         "domain": [
          0,
          1
         ],
         "title": {
          "text": "processor_brand"
         }
        },
        "yaxis": {
         "anchor": "x",
         "domain": [
          0,
          1
         ],
         "title": {
          "text": "value"
         }
        }
       }
      },
      "text/html": [
       "<div>                            <div id=\"a9b9f151-34f0-4165-bcb5-bd72ef6924b4\" class=\"plotly-graph-div\" style=\"height:525px; width:100%;\"></div>            <script type=\"text/javascript\">                require([\"plotly\"], function(Plotly) {                    window.PLOTLYENV=window.PLOTLYENV || {};                                    if (document.getElementById(\"a9b9f151-34f0-4165-bcb5-bd72ef6924b4\")) {                    Plotly.newPlot(                        \"a9b9f151-34f0-4165-bcb5-bd72ef6924b4\",                        [{\"alignmentgroup\":\"True\",\"hovertemplate\":\"processor_brand=%{x}\\u003cbr\\u003evalue=%{y}\\u003cextra\\u003e\\u003c\\u002fextra\\u003e\",\"legendgroup\":\"intel\",\"marker\":{\"color\":\"#636efa\",\"pattern\":{\"shape\":\"\"}},\"name\":\"intel\",\"offsetgroup\":\"intel\",\"orientation\":\"v\",\"showlegend\":true,\"textposition\":\"auto\",\"x\":[\"intel\"],\"xaxis\":\"x\",\"y\":[71.14026236125126],\"yaxis\":\"y\",\"type\":\"bar\"},{\"alignmentgroup\":\"True\",\"hovertemplate\":\"processor_brand=%{x}\\u003cbr\\u003evalue=%{y}\\u003cextra\\u003e\\u003c\\u002fextra\\u003e\",\"legendgroup\":\"amd\",\"marker\":{\"color\":\"#EF553B\",\"pattern\":{\"shape\":\"\"}},\"name\":\"amd\",\"offsetgroup\":\"amd\",\"orientation\":\"v\",\"showlegend\":true,\"textposition\":\"auto\",\"x\":[\"amd\"],\"xaxis\":\"x\",\"y\":[26.942482341069628],\"yaxis\":\"y\",\"type\":\"bar\"},{\"alignmentgroup\":\"True\",\"hovertemplate\":\"processor_brand=%{x}\\u003cbr\\u003evalue=%{y}\\u003cextra\\u003e\\u003c\\u002fextra\\u003e\",\"legendgroup\":\"apple\",\"marker\":{\"color\":\"#00cc96\",\"pattern\":{\"shape\":\"\"}},\"name\":\"apple\",\"offsetgroup\":\"apple\",\"orientation\":\"v\",\"showlegend\":true,\"textposition\":\"auto\",\"x\":[\"apple\"],\"xaxis\":\"x\",\"y\":[1.513622603430878],\"yaxis\":\"y\",\"type\":\"bar\"},{\"alignmentgroup\":\"True\",\"hovertemplate\":\"processor_brand=%{x}\\u003cbr\\u003evalue=%{y}\\u003cextra\\u003e\\u003c\\u002fextra\\u003e\",\"legendgroup\":\"other\",\"marker\":{\"color\":\"#ab63fa\",\"pattern\":{\"shape\":\"\"}},\"name\":\"other\",\"offsetgroup\":\"other\",\"orientation\":\"v\",\"showlegend\":true,\"textposition\":\"auto\",\"x\":[\"other\"],\"xaxis\":\"x\",\"y\":[0.4036326942482341],\"yaxis\":\"y\",\"type\":\"bar\"}],                        {\"template\":{\"data\":{\"histogram2dcontour\":[{\"type\":\"histogram2dcontour\",\"colorbar\":{\"outlinewidth\":0,\"ticks\":\"\"},\"colorscale\":[[0.0,\"#0d0887\"],[0.1111111111111111,\"#46039f\"],[0.2222222222222222,\"#7201a8\"],[0.3333333333333333,\"#9c179e\"],[0.4444444444444444,\"#bd3786\"],[0.5555555555555556,\"#d8576b\"],[0.6666666666666666,\"#ed7953\"],[0.7777777777777778,\"#fb9f3a\"],[0.8888888888888888,\"#fdca26\"],[1.0,\"#f0f921\"]]}],\"choropleth\":[{\"type\":\"choropleth\",\"colorbar\":{\"outlinewidth\":0,\"ticks\":\"\"}}],\"histogram2d\":[{\"type\":\"histogram2d\",\"colorbar\":{\"outlinewidth\":0,\"ticks\":\"\"},\"colorscale\":[[0.0,\"#0d0887\"],[0.1111111111111111,\"#46039f\"],[0.2222222222222222,\"#7201a8\"],[0.3333333333333333,\"#9c179e\"],[0.4444444444444444,\"#bd3786\"],[0.5555555555555556,\"#d8576b\"],[0.6666666666666666,\"#ed7953\"],[0.7777777777777778,\"#fb9f3a\"],[0.8888888888888888,\"#fdca26\"],[1.0,\"#f0f921\"]]}],\"heatmap\":[{\"type\":\"heatmap\",\"colorbar\":{\"outlinewidth\":0,\"ticks\":\"\"},\"colorscale\":[[0.0,\"#0d0887\"],[0.1111111111111111,\"#46039f\"],[0.2222222222222222,\"#7201a8\"],[0.3333333333333333,\"#9c179e\"],[0.4444444444444444,\"#bd3786\"],[0.5555555555555556,\"#d8576b\"],[0.6666666666666666,\"#ed7953\"],[0.7777777777777778,\"#fb9f3a\"],[0.8888888888888888,\"#fdca26\"],[1.0,\"#f0f921\"]]}],\"heatmapgl\":[{\"type\":\"heatmapgl\",\"colorbar\":{\"outlinewidth\":0,\"ticks\":\"\"},\"colorscale\":[[0.0,\"#0d0887\"],[0.1111111111111111,\"#46039f\"],[0.2222222222222222,\"#7201a8\"],[0.3333333333333333,\"#9c179e\"],[0.4444444444444444,\"#bd3786\"],[0.5555555555555556,\"#d8576b\"],[0.6666666666666666,\"#ed7953\"],[0.7777777777777778,\"#fb9f3a\"],[0.8888888888888888,\"#fdca26\"],[1.0,\"#f0f921\"]]}],\"contourcarpet\":[{\"type\":\"contourcarpet\",\"colorbar\":{\"outlinewidth\":0,\"ticks\":\"\"}}],\"contour\":[{\"type\":\"contour\",\"colorbar\":{\"outlinewidth\":0,\"ticks\":\"\"},\"colorscale\":[[0.0,\"#0d0887\"],[0.1111111111111111,\"#46039f\"],[0.2222222222222222,\"#7201a8\"],[0.3333333333333333,\"#9c179e\"],[0.4444444444444444,\"#bd3786\"],[0.5555555555555556,\"#d8576b\"],[0.6666666666666666,\"#ed7953\"],[0.7777777777777778,\"#fb9f3a\"],[0.8888888888888888,\"#fdca26\"],[1.0,\"#f0f921\"]]}],\"surface\":[{\"type\":\"surface\",\"colorbar\":{\"outlinewidth\":0,\"ticks\":\"\"},\"colorscale\":[[0.0,\"#0d0887\"],[0.1111111111111111,\"#46039f\"],[0.2222222222222222,\"#7201a8\"],[0.3333333333333333,\"#9c179e\"],[0.4444444444444444,\"#bd3786\"],[0.5555555555555556,\"#d8576b\"],[0.6666666666666666,\"#ed7953\"],[0.7777777777777778,\"#fb9f3a\"],[0.8888888888888888,\"#fdca26\"],[1.0,\"#f0f921\"]]}],\"mesh3d\":[{\"type\":\"mesh3d\",\"colorbar\":{\"outlinewidth\":0,\"ticks\":\"\"}}],\"scatter\":[{\"fillpattern\":{\"fillmode\":\"overlay\",\"size\":10,\"solidity\":0.2},\"type\":\"scatter\"}],\"parcoords\":[{\"type\":\"parcoords\",\"line\":{\"colorbar\":{\"outlinewidth\":0,\"ticks\":\"\"}}}],\"scatterpolargl\":[{\"type\":\"scatterpolargl\",\"marker\":{\"colorbar\":{\"outlinewidth\":0,\"ticks\":\"\"}}}],\"bar\":[{\"error_x\":{\"color\":\"#2a3f5f\"},\"error_y\":{\"color\":\"#2a3f5f\"},\"marker\":{\"line\":{\"color\":\"#E5ECF6\",\"width\":0.5},\"pattern\":{\"fillmode\":\"overlay\",\"size\":10,\"solidity\":0.2}},\"type\":\"bar\"}],\"scattergeo\":[{\"type\":\"scattergeo\",\"marker\":{\"colorbar\":{\"outlinewidth\":0,\"ticks\":\"\"}}}],\"scatterpolar\":[{\"type\":\"scatterpolar\",\"marker\":{\"colorbar\":{\"outlinewidth\":0,\"ticks\":\"\"}}}],\"histogram\":[{\"marker\":{\"pattern\":{\"fillmode\":\"overlay\",\"size\":10,\"solidity\":0.2}},\"type\":\"histogram\"}],\"scattergl\":[{\"type\":\"scattergl\",\"marker\":{\"colorbar\":{\"outlinewidth\":0,\"ticks\":\"\"}}}],\"scatter3d\":[{\"type\":\"scatter3d\",\"line\":{\"colorbar\":{\"outlinewidth\":0,\"ticks\":\"\"}},\"marker\":{\"colorbar\":{\"outlinewidth\":0,\"ticks\":\"\"}}}],\"scattermapbox\":[{\"type\":\"scattermapbox\",\"marker\":{\"colorbar\":{\"outlinewidth\":0,\"ticks\":\"\"}}}],\"scatterternary\":[{\"type\":\"scatterternary\",\"marker\":{\"colorbar\":{\"outlinewidth\":0,\"ticks\":\"\"}}}],\"scattercarpet\":[{\"type\":\"scattercarpet\",\"marker\":{\"colorbar\":{\"outlinewidth\":0,\"ticks\":\"\"}}}],\"carpet\":[{\"aaxis\":{\"endlinecolor\":\"#2a3f5f\",\"gridcolor\":\"white\",\"linecolor\":\"white\",\"minorgridcolor\":\"white\",\"startlinecolor\":\"#2a3f5f\"},\"baxis\":{\"endlinecolor\":\"#2a3f5f\",\"gridcolor\":\"white\",\"linecolor\":\"white\",\"minorgridcolor\":\"white\",\"startlinecolor\":\"#2a3f5f\"},\"type\":\"carpet\"}],\"table\":[{\"cells\":{\"fill\":{\"color\":\"#EBF0F8\"},\"line\":{\"color\":\"white\"}},\"header\":{\"fill\":{\"color\":\"#C8D4E3\"},\"line\":{\"color\":\"white\"}},\"type\":\"table\"}],\"barpolar\":[{\"marker\":{\"line\":{\"color\":\"#E5ECF6\",\"width\":0.5},\"pattern\":{\"fillmode\":\"overlay\",\"size\":10,\"solidity\":0.2}},\"type\":\"barpolar\"}],\"pie\":[{\"automargin\":true,\"type\":\"pie\"}]},\"layout\":{\"autotypenumbers\":\"strict\",\"colorway\":[\"#636efa\",\"#EF553B\",\"#00cc96\",\"#ab63fa\",\"#FFA15A\",\"#19d3f3\",\"#FF6692\",\"#B6E880\",\"#FF97FF\",\"#FECB52\"],\"font\":{\"color\":\"#2a3f5f\"},\"hovermode\":\"closest\",\"hoverlabel\":{\"align\":\"left\"},\"paper_bgcolor\":\"white\",\"plot_bgcolor\":\"#E5ECF6\",\"polar\":{\"bgcolor\":\"#E5ECF6\",\"angularaxis\":{\"gridcolor\":\"white\",\"linecolor\":\"white\",\"ticks\":\"\"},\"radialaxis\":{\"gridcolor\":\"white\",\"linecolor\":\"white\",\"ticks\":\"\"}},\"ternary\":{\"bgcolor\":\"#E5ECF6\",\"aaxis\":{\"gridcolor\":\"white\",\"linecolor\":\"white\",\"ticks\":\"\"},\"baxis\":{\"gridcolor\":\"white\",\"linecolor\":\"white\",\"ticks\":\"\"},\"caxis\":{\"gridcolor\":\"white\",\"linecolor\":\"white\",\"ticks\":\"\"}},\"coloraxis\":{\"colorbar\":{\"outlinewidth\":0,\"ticks\":\"\"}},\"colorscale\":{\"sequential\":[[0.0,\"#0d0887\"],[0.1111111111111111,\"#46039f\"],[0.2222222222222222,\"#7201a8\"],[0.3333333333333333,\"#9c179e\"],[0.4444444444444444,\"#bd3786\"],[0.5555555555555556,\"#d8576b\"],[0.6666666666666666,\"#ed7953\"],[0.7777777777777778,\"#fb9f3a\"],[0.8888888888888888,\"#fdca26\"],[1.0,\"#f0f921\"]],\"sequentialminus\":[[0.0,\"#0d0887\"],[0.1111111111111111,\"#46039f\"],[0.2222222222222222,\"#7201a8\"],[0.3333333333333333,\"#9c179e\"],[0.4444444444444444,\"#bd3786\"],[0.5555555555555556,\"#d8576b\"],[0.6666666666666666,\"#ed7953\"],[0.7777777777777778,\"#fb9f3a\"],[0.8888888888888888,\"#fdca26\"],[1.0,\"#f0f921\"]],\"diverging\":[[0,\"#8e0152\"],[0.1,\"#c51b7d\"],[0.2,\"#de77ae\"],[0.3,\"#f1b6da\"],[0.4,\"#fde0ef\"],[0.5,\"#f7f7f7\"],[0.6,\"#e6f5d0\"],[0.7,\"#b8e186\"],[0.8,\"#7fbc41\"],[0.9,\"#4d9221\"],[1,\"#276419\"]]},\"xaxis\":{\"gridcolor\":\"white\",\"linecolor\":\"white\",\"ticks\":\"\",\"title\":{\"standoff\":15},\"zerolinecolor\":\"white\",\"automargin\":true,\"zerolinewidth\":2},\"yaxis\":{\"gridcolor\":\"white\",\"linecolor\":\"white\",\"ticks\":\"\",\"title\":{\"standoff\":15},\"zerolinecolor\":\"white\",\"automargin\":true,\"zerolinewidth\":2},\"scene\":{\"xaxis\":{\"backgroundcolor\":\"#E5ECF6\",\"gridcolor\":\"white\",\"linecolor\":\"white\",\"showbackground\":true,\"ticks\":\"\",\"zerolinecolor\":\"white\",\"gridwidth\":2},\"yaxis\":{\"backgroundcolor\":\"#E5ECF6\",\"gridcolor\":\"white\",\"linecolor\":\"white\",\"showbackground\":true,\"ticks\":\"\",\"zerolinecolor\":\"white\",\"gridwidth\":2},\"zaxis\":{\"backgroundcolor\":\"#E5ECF6\",\"gridcolor\":\"white\",\"linecolor\":\"white\",\"showbackground\":true,\"ticks\":\"\",\"zerolinecolor\":\"white\",\"gridwidth\":2}},\"shapedefaults\":{\"line\":{\"color\":\"#2a3f5f\"}},\"annotationdefaults\":{\"arrowcolor\":\"#2a3f5f\",\"arrowhead\":0,\"arrowwidth\":1},\"geo\":{\"bgcolor\":\"white\",\"landcolor\":\"#E5ECF6\",\"subunitcolor\":\"white\",\"showland\":true,\"showlakes\":true,\"lakecolor\":\"white\"},\"title\":{\"x\":0.05},\"mapbox\":{\"style\":\"light\"}}},\"xaxis\":{\"anchor\":\"y\",\"domain\":[0.0,1.0],\"title\":{\"text\":\"processor_brand\"},\"categoryorder\":\"array\",\"categoryarray\":[\"intel\",\"amd\",\"apple\",\"other\"]},\"yaxis\":{\"anchor\":\"x\",\"domain\":[0.0,1.0],\"title\":{\"text\":\"value\"}},\"legend\":{\"title\":{\"text\":\"processor_brand\"},\"tracegroupgap\":0},\"margin\":{\"t\":60},\"barmode\":\"relative\"},                        {\"responsive\": true}                    ).then(function(){\n",
       "                            \n",
       "var gd = document.getElementById('a9b9f151-34f0-4165-bcb5-bd72ef6924b4');\n",
       "var x = new MutationObserver(function (mutations, observer) {{\n",
       "        var display = window.getComputedStyle(gd).display;\n",
       "        if (!display || display === 'none') {{\n",
       "            console.log([gd, 'removed!']);\n",
       "            Plotly.purge(gd);\n",
       "            observer.disconnect();\n",
       "        }}\n",
       "}});\n",
       "\n",
       "// Listen for the removal of the full notebook cells\n",
       "var notebookContainer = gd.closest('#notebook-container');\n",
       "if (notebookContainer) {{\n",
       "    x.observe(notebookContainer, {childList: true});\n",
       "}}\n",
       "\n",
       "// Listen for the clearing of the current output cell\n",
       "var outputEl = gd.closest('.output');\n",
       "if (outputEl) {{\n",
       "    x.observe(outputEl, {childList: true});\n",
       "}}\n",
       "\n",
       "                        })                };                });            </script>        </div>"
      ]
     },
     "metadata": {},
     "output_type": "display_data"
    }
   ],
   "source": [
    "# Distribuição da variável processor_brand\n",
    "percentual_processor_brand = df_laptops.value_counts('processor_brand') / len(df_laptops) * 100\n",
    "px.bar(percentual_processor_brand, color=percentual_processor_brand.index,)"
   ]
  },
  {
   "cell_type": "code",
   "execution_count": 23,
   "id": "a323d212",
   "metadata": {},
   "outputs": [
    {
     "data": {
      "text/plain": [
       "<Axes: xlabel='price', ylabel='Count'>"
      ]
     },
     "execution_count": 23,
     "metadata": {},
     "output_type": "execute_result"
    },
    {
     "data": {
      "image/png": "[encoded data removed]",
      "text/plain": [
       "<Figure size 640x480 with 1 Axes>"
      ]
     },
     "metadata": {},
     "output_type": "display_data"
    }
   ],
   "source": [
    "sns.histplot(df_laptops['price'], kde=True, color='lightblue')"
   ]
  },
  {
   "cell_type": "code",
   "execution_count": 24,
   "id": "7a88cbe1",
   "metadata": {},
   "outputs": [
    {
     "data": {
      "text/plain": [
       "<Axes: xlabel='rating', ylabel='Count'>"
      ]
     },
     "execution_count": 24,
     "metadata": {},
     "output_type": "execute_result"
    },
    {
     "data": {
      "image/png": "[encoded data removed]",
      "text/plain": [
       "<Figure size 640x480 with 1 Axes>"
      ]
     },
     "metadata": {},
     "output_type": "display_data"
    }
   ],
   "source": [
    "# Distribuição da variável rating\n",
    "sns.histplot(df_laptops['rating'], kde=True, color='red')"
   ]
  },
  {
   "cell_type": "code",
   "execution_count": 27,
   "id": "e3177d30",
   "metadata": {},
   "outputs": [
    {
     "data": {
      "application/vnd.plotly.v1+json": {
       "config": {
        "plotlyServerURL": "https://plot.ly"
       },
       "data": [
        {
         "alignmentgroup": "True",
         "hovertemplate": "brand=%{y}<br>price=%{x}<extra></extra>",
         "legendgroup": "tecno",
         "marker": {
          "color": "#636efa"
         },
         "name": "tecno",
         "notched": false,
         "offsetgroup": "tecno",
         "orientation": "h",
         "showlegend": true,
         "type": "box",
         "x": [
          287.72,
          431.64
         ],
         "x0": " ",
         "xaxis": "x",
         "y": [
          "tecno",
          "tecno"
         ],
         "y0": " ",
         "yaxis": "y"
        },
        {
         "alignmentgroup": "True",
         "hovertemplate": "brand=%{y}<br>price=%{x}<extra></extra>",
         "legendgroup": "hp",
         "marker": {
          "color": "#EF553B"
         },
         "name": "hp",
         "notched": false,
         "offsetgroup": "hp",
         "orientation": "h",
         "showlegend": true,
         "type": "box",
         "x": [
          612.86,
          443.64,
          1846.86,
          665.51,
          231.46,
          947.36,
          863.51,
          647.52,
          1065.01,
          642.49,
          1403.11,
          849.25,
          1002.53,
          653.52,
          509.71,
          1774.9,
          839.53,
          863.4,
          934.27,
          695.5,
          599.66,
          731.48,
          803.44,
          623.54,
          671.51,
          621.26,
          596.97,
          524.11,
          418.45,
          389.67,
          520.51,
          372.87,
          485.72,
          2426.74,
          1989.7,
          731.48,
          611.65,
          1989.7,
          476.14,
          824.07,
          731.48,
          287.83,
          383.78,
          1112.99,
          875.51,
          1044.5,
          419.65,
          773.57,
          2116.82,
          1139.25,
          671.51,
          875.76,
          599.55,
          629.53,
          482.01,
          743.47,
          1073.29,
          419.65,
          611.54,
          563.57,
          851.41,
          623.54,
          695.5,
          581.08,
          959.35,
          767.46,
          231.46,
          718.06,
          683.61,
          487.04,
          767.46,
          299.71,
          500.72,
          1084.97,
          953.08,
          689.62,
          654.83,
          622.47,
          807.01,
          1862.56,
          1342.58,
          918.68,
          491.61,
          1192.98,
          1355.13,
          1091.39,
          430.56,
          4107.74,
          637.93,
          1110.47,
          3112.27,
          3514.05,
          1990.89,
          2020.89,
          467.62,
          347.69,
          1079.39,
          899.49,
          1367.23,
          623.54,
          1087.67,
          480.93,
          910.18,
          335.7,
          731.58,
          533.59,
          2194.67,
          696.46,
          383.67,
          1834.87,
          898.9,
          1432.01,
          1199.33,
          2870.01,
          1590.31,
          611.65,
          1259.74,
          1220.93,
          677.51,
          936.68,
          441.24,
          1762.91,
          1475.31,
          1678.95,
          275.73,
          524.53,
          520.51,
          311.71,
          1520.76,
          1598.35,
          395.66,
          1444.59,
          2759.2,
          611.54,
          287.83,
          1175.34,
          1158.44,
          1055.3,
          1039.71,
          1051.7,
          946.16,
          1007.32,
          467.62,
          611.54,
          1292.44,
          935.71,
          1387.71,
          1319.15,
          539.58,
          575.56,
          635.53,
          1391.11,
          539.58,
          644.03,
          467.62,
          1574.92,
          780.77,
          701.6,
          344.81,
          338.29,
          887.39,
          550.48,
          821.42,
          759.35,
          467.62,
          779.45,
          353.69,
          743.47,
          905.9,
          1104.23,
          839.42,
          808.35,
          779.45,
          395.66,
          737.47,
          1415.22,
          954.55,
          635.53,
          480.93,
          557.57,
          571.49,
          563.57,
          725.48,
          599.55,
          786.65,
          851.53,
          1319.15,
          630.73,
          773.57,
          623.54,
          407.64,
          1439.09,
          1724.94,
          449.63,
          1749.82,
          1661.22,
          517.99,
          695.5,
          394.46,
          474.35,
          251.74,
          323.81,
          371.78,
          1858.96,
          251.74
         ],
         "x0": " ",
         "xaxis": "x",
         "y": [
          "hp",
          "hp",
          "hp",
          "hp",
          "hp",
          "hp",
          "hp",
          "hp",
          "hp",
          "hp",
          "hp",
          "hp",
          "hp",
          "hp",
          "hp",
          "hp",
          "hp",
          "hp",
          "hp",
          "hp",
          "hp",
          "hp",
          "hp",
          "hp",
          "hp",
          "hp",
          "hp",
          "hp",
          "hp",
          "hp",
          "hp",
          "hp",
          "hp",
          "hp",
          "hp",
          "hp",
          "hp",
          "hp",
          "hp",
          "hp",
          "hp",
          "hp",
          "hp",
          "hp",
          "hp",
          "hp",
          "hp",
          "hp",
          "hp",
          "hp",
          "hp",
          "hp",
          "hp",
          "hp",
          "hp",
          "hp",
          "hp",
          "hp",
          "hp",
          "hp",
          "hp",
          "hp",
          "hp",
          "hp",
          "hp",
          "hp",
          "hp",
          "hp",
          "hp",
          "hp",
          "hp",
          "hp",
          "hp",
          "hp",
          "hp",
          "hp",
          "hp",
          "hp",
          "hp",
          "hp",
          "hp",
          "hp",
          "hp",
          "hp",
          "hp",
          "hp",
          "hp",
          "hp",
          "hp",
          "hp",
          "hp",
          "hp",
          "hp",
          "hp",
          "hp",
          "hp",
          "hp",
          "hp",
          "hp",
          "hp",
          "hp",
          "hp",
          "hp",
          "hp",
          "hp",
          "hp",
          "hp",
          "hp",
          "hp",
          "hp",
          "hp",
          "hp",
          "hp",
          "hp",
          "hp",
          "hp",
          "hp",
          "hp",
          "hp",
          "hp",
          "hp",
          "hp",
          "hp",
          "hp",
          "hp",
          "hp",
          "hp",
          "hp",
          "hp",
          "hp",
          "hp",
          "hp",
          "hp",
          "hp",
          "hp",
          "hp",
          "hp",
          "hp",
          "hp",
          "hp",
          "hp",
          "hp",
          "hp",
          "hp",
          "hp",
          "hp",
          "hp",
          "hp",
          "hp",
          "hp",
          "hp",
          "hp",
          "hp",
          "hp",
          "hp",
          "hp",
          "hp",
          "hp",
          "hp",
          "hp",
          "hp",
          "hp",
          "hp",
          "hp",
          "hp",
          "hp",
          "hp",
          "hp",
          "hp",
          "hp",
          "hp",
          "hp",
          "hp",
          "hp",
          "hp",
          "hp",
          "hp",
          "hp",
          "hp",
          "hp",
          "hp",
          "hp",
          "hp",
          "hp",
          "hp",
          "hp",
          "hp",
          "hp",
          "hp",
          "hp",
          "hp",
          "hp",
          "hp",
          "hp",
          "hp",
          "hp",
          "hp",
          "hp",
          "hp",
          "hp",
          "hp",
          "hp",
          "hp",
          "hp",
          "hp"
         ],
         "y0": " ",
         "yaxis": "y"
        },
        {
         "alignmentgroup": "True",
         "hovertemplate": "brand=%{y}<br>price=%{x}<extra></extra>",
         "legendgroup": "acer",
         "marker": {
          "color": "#00cc96"
         },
         "name": "acer",
         "notched": false,
         "offsetgroup": "acer",
         "orientation": "h",
         "showlegend": true,
         "type": "box",
         "x": [
          479.62,
          935.36,
          563.57,
          419.65,
          395.66,
          683.5,
          455.63,
          473.73,
          1139.25,
          575.56,
          1439.09,
          1259.19,
          371.68,
          467.62,
          395.66,
          875.4,
          2158.69,
          383.67,
          359.68,
          731.48,
          683.5,
          1439.09,
          335.7,
          563.57,
          359.68,
          557.69,
          599.55,
          539.69,
          515.7,
          563.57,
          557.57,
          683.5,
          477.34,
          287.72,
          767.57,
          791.44,
          599.55,
          739.99,
          305.71,
          479.62,
          419.65,
          515.6,
          683.5,
          635.53,
          443.64,
          503.6,
          497.61,
          1918.82,
          809.54,
          431.64,
          1559.02,
          905.49,
          503.6,
          863.4,
          369.28,
          359.56,
          353.69,
          515.6,
          491.61,
          659.52,
          394.46,
          347.8,
          479.62,
          599.55,
          698.84,
          677.51,
          670.43,
          1719.85,
          707.49,
          1715.04,
          479.62,
          441.36,
          1259.29,
          1379.12,
          539.63,
          1067.29,
          827.42,
          2399.76,
          934.17,
          551.58,
          395.66,
          384.87,
          2218.77,
          2998.23,
          335.7,
          917.48,
          359.68,
          827.53,
          905.5
         ],
         "x0": " ",
         "xaxis": "x",
         "y": [
          "acer",
          "acer",
          "acer",
          "acer",
          "acer",
          "acer",
          "acer",
          "acer",
          "acer",
          "acer",
          "acer",
          "acer",
          "acer",
          "acer",
          "acer",
          "acer",
          "acer",
          "acer",
          "acer",
          "acer",
          "acer",
          "acer",
          "acer",
          "acer",
          "acer",
          "acer",
          "acer",
          "acer",
          "acer",
          "acer",
          "acer",
          "acer",
          "acer",
          "acer",
          "acer",
          "acer",
          "acer",
          "acer",
          "acer",
          "acer",
          "acer",
          "acer",
          "acer",
          "acer",
          "acer",
          "acer",
          "acer",
          "acer",
          "acer",
          "acer",
          "acer",
          "acer",
          "acer",
          "acer",
          "acer",
          "acer",
          "acer",
          "acer",
          "acer",
          "acer",
          "acer",
          "acer",
          "acer",
          "acer",
          "acer",
          "acer",
          "acer",
          "acer",
          "acer",
          "acer",
          "acer",
          "acer",
          "acer",
          "acer",
          "acer",
          "acer",
          "acer",
          "acer",
          "acer",
          "acer",
          "acer",
          "acer",
          "acer",
          "acer",
          "acer",
          "acer",
          "acer",
          "acer",
          "acer"
         ],
         "y0": " ",
         "yaxis": "y"
        },
        {
         "alignmentgroup": "True",
         "hovertemplate": "brand=%{y}<br>price=%{x}<extra></extra>",
         "legendgroup": "lenovo",
         "marker": {
          "color": "#ab63fa"
         },
         "name": "lenovo",
         "notched": false,
         "offsetgroup": "lenovo",
         "orientation": "h",
         "showlegend": true,
         "type": "box",
         "x": [
          342.77,
          569.57,
          599.55,
          335.7,
          575.56,
          683.5,
          539.58,
          419.65,
          293.12,
          587.56,
          766.25,
          444.24,
          1139.25,
          959.35,
          491.61,
          491.61,
          547.51,
          431.64,
          539.58,
          1834.87,
          1585.41,
          740.14,
          309.31,
          587.56,
          846.61,
          803.44,
          1379.12,
          1199.22,
          395.54,
          263.73,
          400.58,
          1199.22,
          779.45,
          299.71,
          1799.01,
          683.5,
          659.52,
          755.57,
          437.64,
          551.58,
          563.57,
          755.46,
          887.39,
          743.47,
          898.3,
          383.67,
          2626.43,
          1477.47,
          827.42,
          1294.22,
          622.39,
          563.57,
          4306.77,
          661.92,
          743.47,
          593.66,
          443.64,
          414.85,
          389.67,
          668.03,
          841.82,
          1105.67,
          623.54,
          1019.32,
          961.75,
          1309.56,
          649.92,
          649.92,
          937.76,
          479.62,
          1117.66,
          1969.19,
          3585.9,
          1669.36,
          841.82,
          1240.06,
          479.62,
          1079.41,
          419.65,
          395.66,
          599.55,
          479.62,
          764.12,
          599.55,
          395.66,
          362.08,
          359.68,
          563.57,
          659.52,
          509.71,
          815.43,
          439.56,
          587.56,
          599.55,
          1043.31,
          791.44,
          2230.65,
          1547.03,
          1367.13,
          623.54,
          839.42,
          575.56,
          1201.62,
          1648.97,
          647.52,
          443.76,
          1057.7,
          755.46,
          796.23,
          863.4,
          741.9,
          443.64,
          745.87,
          707.49,
          721.88,
          769.86,
          503.6,
          539.58,
          545.58,
          569.57,
          705.81,
          767.46,
          841.82,
          440.04,
          805.84,
          563.57,
          1009.72,
          1043.31,
          935.36,
          449.75,
          707.49,
          527.59,
          833.47,
          1175.23,
          1097.28,
          1061.74,
          1199.22,
          1319.15,
          2700.79,
          1078.07,
          899.38,
          779.45,
          486.81,
          791.44,
          290.12,
          635.53,
          755.46,
          394.57,
          299.71,
          635.53,
          831.68,
          539.58,
          875.4,
          680.03,
          791.44,
          647.52,
          688.3,
          599.55,
          725.48,
          425.65,
          863.4,
          545.7,
          599.66,
          793.95,
          401.66,
          803.56,
          1499.17,
          905.49,
          491.61,
          563.57,
          457.8,
          335.7,
          886.31,
          419.65,
          419.65,
          562.49,
          359.68,
          557.57,
          624.87,
          898.17,
          377.67,
          634.45,
          633.18,
          757.86,
          971.46,
          1478.44,
          266.72,
          263.73,
          263.73,
          551.58,
          401.66,
          430.44,
          437.64,
          551.58,
          791.55,
          407.66,
          1754.29,
          521.71,
          371.68,
          386.19,
          719.48
         ],
         "x0": " ",
         "xaxis": "x",
         "y": [
          "lenovo",
          "lenovo",
          "lenovo",
          "lenovo",
          "lenovo",
          "lenovo",
          "lenovo",
          "lenovo",
          "lenovo",
          "lenovo",
          "lenovo",
          "lenovo",
          "lenovo",
          "lenovo",
          "lenovo",
          "lenovo",
          "lenovo",
          "lenovo",
          "lenovo",
          "lenovo",
          "lenovo",
          "lenovo",
          "lenovo",
          "lenovo",
          "lenovo",
          "lenovo",
          "lenovo",
          "lenovo",
          "lenovo",
          "lenovo",
          "lenovo",
          "lenovo",
          "lenovo",
          "lenovo",
          "lenovo",
          "lenovo",
          "lenovo",
          "lenovo",
          "lenovo",
          "lenovo",
          "lenovo",
          "lenovo",
          "lenovo",
          "lenovo",
          "lenovo",
          "lenovo",
          "lenovo",
          "lenovo",
          "lenovo",
          "lenovo",
          "lenovo",
          "lenovo",
          "lenovo",
          "lenovo",
          "lenovo",
          "lenovo",
          "lenovo",
          "lenovo",
          "lenovo",
          "lenovo",
          "lenovo",
          "lenovo",
          "lenovo",
          "lenovo",
          "lenovo",
          "lenovo",
          "lenovo",
          "lenovo",
          "lenovo",
          "lenovo",
          "lenovo",
          "lenovo",
          "lenovo",
          "lenovo",
          "lenovo",
          "lenovo",
          "lenovo",
          "lenovo",
          "lenovo",
          "lenovo",
          "lenovo",
          "lenovo",
          "lenovo",
          "lenovo",
          "lenovo",
          "lenovo",
          "lenovo",
          "lenovo",
          "lenovo",
          "lenovo",
          "lenovo",
          "lenovo",
          "lenovo",
          "lenovo",
          "lenovo",
          "lenovo",
          "lenovo",
          "lenovo",
          "lenovo",
          "lenovo",
          "lenovo",
          "lenovo",
          "lenovo",
          "lenovo",
          "lenovo",
          "lenovo",
          "lenovo",
          "lenovo",
          "lenovo",
          "lenovo",
          "lenovo",
          "lenovo",
          "lenovo",
          "lenovo",
          "lenovo",
          "lenovo",
          "lenovo",
          "lenovo",
          "lenovo",
          "lenovo",
          "lenovo",
          "lenovo",
          "lenovo",
          "lenovo",
          "lenovo",
          "lenovo",
          "lenovo",
          "lenovo",
          "lenovo",
          "lenovo",
          "lenovo",
          "lenovo",
          "lenovo",
          "lenovo",
          "lenovo",
          "lenovo",
          "lenovo",
          "lenovo",
          "lenovo",
          "lenovo",
          "lenovo",
          "lenovo",
          "lenovo",
          "lenovo",
          "lenovo",
          "lenovo",
          "lenovo",
          "lenovo",
          "lenovo",
          "lenovo",
          "lenovo",
          "lenovo",
          "lenovo",
          "lenovo",
          "lenovo",
          "lenovo",
          "lenovo",
          "lenovo",
          "lenovo",
          "lenovo",
          "lenovo",
          "lenovo",
          "lenovo",
          "lenovo",
          "lenovo",
          "lenovo",
          "lenovo",
          "lenovo",
          "lenovo",
          "lenovo",
          "lenovo",
          "lenovo",
          "lenovo",
          "lenovo",
          "lenovo",
          "lenovo",
          "lenovo",
          "lenovo",
          "lenovo",
          "lenovo",
          "lenovo",
          "lenovo",
          "lenovo",
          "lenovo",
          "lenovo",
          "lenovo",
          "lenovo",
          "lenovo",
          "lenovo",
          "lenovo",
          "lenovo",
          "lenovo",
          "lenovo",
          "lenovo",
          "lenovo",
          "lenovo",
          "lenovo",
          "lenovo",
          "lenovo",
          "lenovo",
          "lenovo"
         ],
         "y0": " ",
         "yaxis": "y"
        },
        {
         "alignmentgroup": "True",
         "hovertemplate": "brand=%{y}<br>price=%{x}<extra></extra>",
         "legendgroup": "apple",
         "marker": {
          "color": "#FFA15A"
         },
         "name": "apple",
         "notched": false,
         "offsetgroup": "apple",
         "orientation": "h",
         "showlegend": true,
         "type": "box",
         "x": [
          851.41,
          4796.16,
          1235.2,
          1439.09,
          1319.15,
          3476.88,
          4196.49,
          2997.15,
          2397.48,
          1738.92,
          1595,
          1642.97,
          2277.54,
          2877.21,
          2037.68
         ],
         "x0": " ",
         "xaxis": "x",
         "y": [
          "apple",
          "apple",
          "apple",
          "apple",
          "apple",
          "apple",
          "apple",
          "apple",
          "apple",
          "apple",
          "apple",
          "apple",
          "apple",
          "apple",
          "apple"
         ],
         "y0": " ",
         "yaxis": "y"
        },
        {
         "alignmentgroup": "True",
         "hovertemplate": "brand=%{y}<br>price=%{x}<extra></extra>",
         "legendgroup": "infinix",
         "marker": {
          "color": "#19d3f3"
         },
         "name": "infinix",
         "notched": false,
         "offsetgroup": "infinix",
         "orientation": "h",
         "showlegend": true,
         "type": "box",
         "x": [
          419.65,
          719.48,
          359.68,
          335.7,
          323.7,
          431.64,
          695.5,
          467.62,
          587.56,
          311.71,
          299.71,
          539.58,
          467.62
         ],
         "x0": " ",
         "xaxis": "x",
         "y": [
          "infinix",
          "infinix",
          "infinix",
          "infinix",
          "infinix",
          "infinix",
          "infinix",
          "infinix",
          "infinix",
          "infinix",
          "infinix",
          "infinix",
          "infinix"
         ],
         "y0": " ",
         "yaxis": "y"
        },
        {
         "alignmentgroup": "True",
         "hovertemplate": "brand=%{y}<br>price=%{x}<extra></extra>",
         "legendgroup": "asus",
         "marker": {
          "color": "#FF6692"
         },
         "name": "asus",
         "notched": false,
         "offsetgroup": "asus",
         "orientation": "h",
         "showlegend": true,
         "type": "box",
         "x": [
          599.55,
          688.3,
          911.38,
          479.62,
          335.7,
          563.57,
          767.46,
          1362.1,
          3238.1,
          888.53,
          731.48,
          431.64,
          1307.16,
          695.5,
          869.4,
          835.81,
          563.57,
          647.52,
          979.73,
          1139.25,
          875.4,
          647.52,
          1031.31,
          815.43,
          902.5,
          803.44,
          1858.86,
          1156.03,
          527.59,
          635.53,
          401.66,
          875.4,
          575.56,
          1103.27,
          1019.32,
          215.76,
          875.4,
          899.38,
          1259.19,
          1080.12,
          1029.03,
          695.5,
          731.48,
          719.48,
          383.67,
          677.63,
          683.5,
          1439.09,
          2158.69,
          2278.62,
          1457.07,
          573.64,
          1079.29,
          667.9,
          839.42,
          947.36,
          1268.17,
          515.6,
          647.52,
          582.63,
          851.41,
          370.48,
          750.79,
          1738.92,
          393.68,
          362.19,
          1037.43,
          570.29,
          779.45,
          1188.68,
          335.7,
          959.11,
          1031.31,
          179.78,
          800.18,
          647.52,
          251.74,
          1039.7,
          832.79,
          887.39,
          1199.22,
          1033.7,
          338.09,
          881.07,
          539.58,
          724.15,
          887.39,
          839.42,
          1187.23,
          1091.28,
          1379.12,
          203.77,
          308.84,
          227.75,
          535.37,
          275.74,
          1180.97,
          911.38,
          911.38,
          1131.8,
          490.84,
          858.73,
          407.66,
          695.5,
          719.48,
          1079.29,
          450.81,
          443.64,
          1139.25,
          839.42,
          875.4,
          393.26,
          719.48,
          311.71,
          472.42,
          779.45,
          1067.41,
          839.54,
          1702.93,
          918.69,
          1559.02,
          767.46,
          887.39,
          1199.22,
          743.47,
          671.51,
          1002.64,
          1678.95,
          707.49,
          575.44,
          839.42,
          779.45,
          1142.97,
          420.76,
          335.7,
          593.55,
          587.56,
          923.37,
          479.62,
          1256.3,
          1521.84,
          2398.56,
          1583.01,
          1605.8,
          1858.86,
          1731.92,
          1139.25,
          3130.16,
          1798.89,
          1618.99,
          724.15,
          2517.29,
          1858.86,
          839.42,
          1018.84,
          1360.06,
          1271.18,
          1336.53,
          918.92,
          1127.37,
          1937.09,
          2398.56,
          431.64,
          370.92,
          555.15,
          1499.05,
          707.49,
          383.67,
          1583.13,
          1391.11,
          1079.29,
          1094.28,
          755.46,
          862.78,
          477.22,
          467.5,
          671.51,
          851.41,
          749.59,
          825.15,
          1031.31,
          551.58,
          719.48,
          1259.19,
          820.23,
          1175.23,
          1115.27,
          779.45,
          899.38,
          527.59,
          767.46,
          470.64,
          1559.02,
          707.49,
          953.47,
          609.08,
          742.39,
          2998.23,
          539.34,
          547.98,
          386.07,
          827.42,
          3358.03,
          659.52,
          935.36,
          803.44,
          719.48,
          791.44,
          539.58,
          815.43
         ],
         "x0": " ",
         "xaxis": "x",
         "y": [
          "asus",
          "asus",
          "asus",
          "asus",
          "asus",
          "asus",
          "asus",
          "asus",
          "asus",
          "asus",
          "asus",
          "asus",
          "asus",
          "asus",
          "asus",
          "asus",
          "asus",
          "asus",
          "asus",
          "asus",
          "asus",
          "asus",
          "asus",
          "asus",
          "asus",
          "asus",
          "asus",
          "asus",
          "asus",
          "asus",
          "asus",
          "asus",
          "asus",
          "asus",
          "asus",
          "asus",
          "asus",
          "asus",
          "asus",
          "asus",
          "asus",
          "asus",
          "asus",
          "asus",
          "asus",
          "asus",
          "asus",
          "asus",
          "asus",
          "asus",
          "asus",
          "asus",
          "asus",
          "asus",
          "asus",
          "asus",
          "asus",
          "asus",
          "asus",
          "asus",
          "asus",
          "asus",
          "asus",
          "asus",
          "asus",
          "asus",
          "asus",
          "asus",
          "asus",
          "asus",
          "asus",
          "asus",
          "asus",
          "asus",
          "asus",
          "asus",
          "asus",
          "asus",
          "asus",
          "asus",
          "asus",
          "asus",
          "asus",
          "asus",
          "asus",
          "asus",
          "asus",
          "asus",
          "asus",
          "asus",
          "asus",
          "asus",
          "asus",
          "asus",
          "asus",
          "asus",
          "asus",
          "asus",
          "asus",
          "asus",
          "asus",
          "asus",
          "asus",
          "asus",
          "asus",
          "asus",
          "asus",
          "asus",
          "asus",
          "asus",
          "asus",
          "asus",
          "asus",
          "asus",
          "asus",
          "asus",
          "asus",
          "asus",
          "asus",
          "asus",
          "asus",
          "asus",
          "asus",
          "asus",
          "asus",
          "asus",
          "asus",
          "asus",
          "asus",
          "asus",
          "asus",
          "asus",
          "asus",
          "asus",
          "asus",
          "asus",
          "asus",
          "asus",
          "asus",
          "asus",
          "asus",
          "asus",
          "asus",
          "asus",
          "asus",
          "asus",
          "asus",
          "asus",
          "asus",
          "asus",
          "asus",
          "asus",
          "asus",
          "asus",
          "asus",
          "asus",
          "asus",
          "asus",
          "asus",
          "asus",
          "asus",
          "asus",
          "asus",
          "asus",
          "asus",
          "asus",
          "asus",
          "asus",
          "asus",
          "asus",
          "asus",
          "asus",
          "asus",
          "asus",
          "asus",
          "asus",
          "asus",
          "asus",
          "asus",
          "asus",
          "asus",
          "asus",
          "asus",
          "asus",
          "asus",
          "asus",
          "asus",
          "asus",
          "asus",
          "asus",
          "asus",
          "asus",
          "asus",
          "asus",
          "asus",
          "asus",
          "asus",
          "asus",
          "asus",
          "asus",
          "asus",
          "asus",
          "asus",
          "asus",
          "asus",
          "asus",
          "asus",
          "asus",
          "asus",
          "asus"
         ],
         "y0": " ",
         "yaxis": "y"
        },
        {
         "alignmentgroup": "True",
         "hovertemplate": "brand=%{y}<br>price=%{x}<extra></extra>",
         "legendgroup": "dell",
         "marker": {
          "color": "#B6E880"
         },
         "name": "dell",
         "notched": false,
         "offsetgroup": "dell",
         "orientation": "h",
         "showlegend": true,
         "type": "box",
         "x": [
          419.65,
          818.42,
          974.94,
          475.53,
          1037.31,
          869.4,
          599.67,
          1007.32,
          827.42,
          1780.9,
          455.63,
          791.44,
          929.37,
          470.62,
          687.22,
          611.54,
          839.53,
          626.04,
          1055.3,
          2500.5,
          440.53,
          718.28,
          419.65,
          1823,
          1067.29,
          1265.18,
          617.5,
          683.5,
          743.47,
          815.89,
          675.71,
          682.18,
          683.5,
          611.54,
          467.62,
          791.44,
          1193.1,
          719.48,
          449.63,
          1031.31,
          2677.82,
          550.14,
          459.93,
          1187.23,
          395.66,
          1049.3,
          575.56,
          929.37,
          496.92,
          1046.9,
          725.48,
          447.13,
          1013.32,
          3088.18,
          1151.25,
          730.4,
          5450.88,
          814.23,
          3885.74,
          2266.63,
          5408.9,
          3597.9,
          785.57,
          887.39,
          471.22,
          719.48,
          501.42,
          1055.3,
          1085.28,
          491.61,
          523.99,
          671.51,
          575.56,
          955.75,
          3352.03,
          2422.55,
          490.41,
          2464.52,
          1138.17,
          743.47,
          1894.84,
          1996.78,
          1193.22,
          959.71,
          515.6,
          1067.17,
          863.4,
          887.39,
          743.47,
          1790.49,
          515.72,
          2254.64,
          1319.15,
          1559.02,
          976.29,
          2704.39,
          2650.42,
          4659.31,
          4419.44,
          575.56,
          623.54,
          461.63,
          539.58,
          670.43,
          1434.41,
          1055.3
         ],
         "x0": " ",
         "xaxis": "x",
         "y": [
          "dell",
          "dell",
          "dell",
          "dell",
          "dell",
          "dell",
          "dell",
          "dell",
          "dell",
          "dell",
          "dell",
          "dell",
          "dell",
          "dell",
          "dell",
          "dell",
          "dell",
          "dell",
          "dell",
          "dell",
          "dell",
          "dell",
          "dell",
          "dell",
          "dell",
          "dell",
          "dell",
          "dell",
          "dell",
          "dell",
          "dell",
          "dell",
          "dell",
          "dell",
          "dell",
          "dell",
          "dell",
          "dell",
          "dell",
          "dell",
          "dell",
          "dell",
          "dell",
          "dell",
          "dell",
          "dell",
          "dell",
          "dell",
          "dell",
          "dell",
          "dell",
          "dell",
          "dell",
          "dell",
          "dell",
          "dell",
          "dell",
          "dell",
          "dell",
          "dell",
          "dell",
          "dell",
          "dell",
          "dell",
          "dell",
          "dell",
          "dell",
          "dell",
          "dell",
          "dell",
          "dell",
          "dell",
          "dell",
          "dell",
          "dell",
          "dell",
          "dell",
          "dell",
          "dell",
          "dell",
          "dell",
          "dell",
          "dell",
          "dell",
          "dell",
          "dell",
          "dell",
          "dell",
          "dell",
          "dell",
          "dell",
          "dell",
          "dell",
          "dell",
          "dell",
          "dell",
          "dell",
          "dell",
          "dell",
          "dell",
          "dell",
          "dell",
          "dell",
          "dell",
          "dell",
          "dell"
         ],
         "y0": " ",
         "yaxis": "y"
        },
        {
         "alignmentgroup": "True",
         "hovertemplate": "brand=%{y}<br>price=%{x}<extra></extra>",
         "legendgroup": "samsung",
         "marker": {
          "color": "#FF97FF"
         },
         "name": "samsung",
         "notched": false,
         "offsetgroup": "samsung",
         "orientation": "h",
         "showlegend": true,
         "type": "box",
         "x": [
          779.45,
          539.58,
          575.56,
          839.42,
          911.38,
          659.52,
          1403.11
         ],
         "x0": " ",
         "xaxis": "x",
         "y": [
          "samsung",
          "samsung",
          "samsung",
          "samsung",
          "samsung",
          "samsung",
          "samsung"
         ],
         "y0": " ",
         "yaxis": "y"
        },
        {
         "alignmentgroup": "True",
         "hovertemplate": "brand=%{y}<br>price=%{x}<extra></extra>",
         "legendgroup": "msi",
         "marker": {
          "color": "#FECB52"
         },
         "name": "msi",
         "notched": false,
         "offsetgroup": "msi",
         "orientation": "h",
         "showlegend": true,
         "type": "box",
         "x": [
          635.53,
          800.92,
          431.16,
          839.42,
          659.52,
          899.38,
          599.55,
          503.6,
          659.52,
          743.47,
          635.53,
          755.46,
          479.62,
          647.52,
          683.5,
          443.64,
          815.43,
          785.45,
          527.59,
          1271.18,
          1007.32,
          795.76,
          2398.56,
          5396.91,
          959.35,
          2357.66,
          755.46,
          1139.25,
          1163.24,
          1259.19,
          1798.89,
          1798.89,
          1379.12,
          671.51,
          707.49,
          671.51,
          2398.56,
          1439.09,
          3597.9,
          983.34,
          443.64,
          1912.07,
          1079.29,
          887.39,
          575.56,
          1343.14,
          695.5,
          659.52,
          1259.19,
          899.38,
          1139.25,
          611.54,
          1139.25,
          1019.32,
          731.48,
          623.54,
          635.53,
          1103.27,
          1055.3,
          3358.03,
          923.37,
          875.4,
          1043.31,
          2998.23,
          767.46,
          1163.24,
          983.34,
          839.42,
          3130.16,
          781.85,
          875.4,
          2638.43,
          2590.45,
          2062.74,
          839.42,
          743.47,
          527.59,
          587.56,
          503.6,
          455.63,
          569.57,
          1115.27,
          995.33,
          1048.11,
          606.76,
          731.48,
          647.52,
          491.61,
          1439.09,
          1103.27
         ],
         "x0": " ",
         "xaxis": "x",
         "y": [
          "msi",
          "msi",
          "msi",
          "msi",
          "msi",
          "msi",
          "msi",
          "msi",
          "msi",
          "msi",
          "msi",
          "msi",
          "msi",
          "msi",
          "msi",
          "msi",
          "msi",
          "msi",
          "msi",
          "msi",
          "msi",
          "msi",
          "msi",
          "msi",
          "msi",
          "msi",
          "msi",
          "msi",
          "msi",
          "msi",
          "msi",
          "msi",
          "msi",
          "msi",
          "msi",
          "msi",
          "msi",
          "msi",
          "msi",
          "msi",
          "msi",
          "msi",
          "msi",
          "msi",
          "msi",
          "msi",
          "msi",
          "msi",
          "msi",
          "msi",
          "msi",
          "msi",
          "msi",
          "msi",
          "msi",
          "msi",
          "msi",
          "msi",
          "msi",
          "msi",
          "msi",
          "msi",
          "msi",
          "msi",
          "msi",
          "msi",
          "msi",
          "msi",
          "msi",
          "msi",
          "msi",
          "msi",
          "msi",
          "msi",
          "msi",
          "msi",
          "msi",
          "msi",
          "msi",
          "msi",
          "msi",
          "msi",
          "msi",
          "msi",
          "msi",
          "msi",
          "msi",
          "msi",
          "msi",
          "msi"
         ],
         "y0": " ",
         "yaxis": "y"
        },
        {
         "alignmentgroup": "True",
         "hovertemplate": "brand=%{y}<br>price=%{x}<extra></extra>",
         "legendgroup": "wings",
         "marker": {
          "color": "#636efa"
         },
         "name": "wings",
         "notched": false,
         "offsetgroup": "wings",
         "orientation": "h",
         "showlegend": true,
         "type": "box",
         "x": [
          335.7,
          479.62,
          299.71,
          323.7
         ],
         "x0": " ",
         "xaxis": "x",
         "y": [
          "wings",
          "wings",
          "wings",
          "wings"
         ],
         "y0": " ",
         "yaxis": "y"
        },
        {
         "alignmentgroup": "True",
         "hovertemplate": "brand=%{y}<br>price=%{x}<extra></extra>",
         "legendgroup": "ultimus",
         "marker": {
          "color": "#EF553B"
         },
         "name": "ultimus",
         "notched": false,
         "offsetgroup": "ultimus",
         "orientation": "h",
         "showlegend": true,
         "type": "box",
         "x": [
          239.75,
          191.77,
          143.8,
          179.78,
          197.77,
          274.8
         ],
         "x0": " ",
         "xaxis": "x",
         "y": [
          "ultimus",
          "ultimus",
          "ultimus",
          "ultimus",
          "ultimus",
          "ultimus"
         ],
         "y0": " ",
         "yaxis": "y"
        },
        {
         "alignmentgroup": "True",
         "hovertemplate": "brand=%{y}<br>price=%{x}<extra></extra>",
         "legendgroup": "primebook",
         "marker": {
          "color": "#00cc96"
         },
         "name": "primebook",
         "notched": false,
         "offsetgroup": "primebook",
         "orientation": "h",
         "showlegend": true,
         "type": "box",
         "x": [
          179.78,
          155.79
         ],
         "x0": " ",
         "xaxis": "x",
         "y": [
          "primebook",
          "primebook"
         ],
         "y0": " ",
         "yaxis": "y"
        },
        {
         "alignmentgroup": "True",
         "hovertemplate": "brand=%{y}<br>price=%{x}<extra></extra>",
         "legendgroup": "iball",
         "marker": {
          "color": "#ab63fa"
         },
         "name": "iball",
         "notched": false,
         "offsetgroup": "iball",
         "orientation": "h",
         "showlegend": true,
         "type": "box",
         "x": [
          117.54
         ],
         "x0": " ",
         "xaxis": "x",
         "y": [
          "iball"
         ],
         "y0": " ",
         "yaxis": "y"
        },
        {
         "alignmentgroup": "True",
         "hovertemplate": "brand=%{y}<br>price=%{x}<extra></extra>",
         "legendgroup": "zebronics",
         "marker": {
          "color": "#FFA15A"
         },
         "name": "zebronics",
         "notched": false,
         "offsetgroup": "zebronics",
         "orientation": "h",
         "showlegend": true,
         "type": "box",
         "x": [
          407.66,
          395.66,
          635.53,
          359.68,
          479.62,
          395.66,
          611.54
         ],
         "x0": " ",
         "xaxis": "x",
         "y": [
          "zebronics",
          "zebronics",
          "zebronics",
          "zebronics",
          "zebronics",
          "zebronics",
          "zebronics"
         ],
         "y0": " ",
         "yaxis": "y"
        },
        {
         "alignmentgroup": "True",
         "hovertemplate": "brand=%{y}<br>price=%{x}<extra></extra>",
         "legendgroup": "chuwi",
         "marker": {
          "color": "#19d3f3"
         },
         "name": "chuwi",
         "notched": false,
         "offsetgroup": "chuwi",
         "orientation": "h",
         "showlegend": true,
         "type": "box",
         "x": [
          395.66,
          299.71,
          263.73,
          419.65
         ],
         "x0": " ",
         "xaxis": "x",
         "y": [
          "chuwi",
          "chuwi",
          "chuwi",
          "chuwi"
         ],
         "y0": " ",
         "yaxis": "y"
        },
        {
         "alignmentgroup": "True",
         "hovertemplate": "brand=%{y}<br>price=%{x}<extra></extra>",
         "legendgroup": "gigabyte",
         "marker": {
          "color": "#FF6692"
         },
         "name": "gigabyte",
         "notched": false,
         "offsetgroup": "gigabyte",
         "orientation": "h",
         "showlegend": true,
         "type": "box",
         "x": [
          863.4,
          1079.29
         ],
         "x0": " ",
         "xaxis": "x",
         "y": [
          "gigabyte",
          "gigabyte"
         ],
         "y0": " ",
         "yaxis": "y"
        },
        {
         "alignmentgroup": "True",
         "hovertemplate": "brand=%{y}<br>price=%{x}<extra></extra>",
         "legendgroup": "jio",
         "marker": {
          "color": "#B6E880"
         },
         "name": "jio",
         "notched": false,
         "offsetgroup": "jio",
         "orientation": "h",
         "showlegend": true,
         "type": "box",
         "x": [
          176.31
         ],
         "x0": " ",
         "xaxis": "x",
         "y": [
          "jio"
         ],
         "y0": " ",
         "yaxis": "y"
        },
        {
         "alignmentgroup": "True",
         "hovertemplate": "brand=%{y}<br>price=%{x}<extra></extra>",
         "legendgroup": "honor",
         "marker": {
          "color": "#FF97FF"
         },
         "name": "honor",
         "notched": false,
         "offsetgroup": "honor",
         "orientation": "h",
         "showlegend": true,
         "type": "box",
         "x": [
          659.52,
          527.59
         ],
         "x0": " ",
         "xaxis": "x",
         "y": [
          "honor",
          "honor"
         ],
         "y0": " ",
         "yaxis": "y"
        },
        {
         "alignmentgroup": "True",
         "hovertemplate": "brand=%{y}<br>price=%{x}<extra></extra>",
         "legendgroup": "realme",
         "marker": {
          "color": "#FECB52"
         },
         "name": "realme",
         "notched": false,
         "offsetgroup": "realme",
         "orientation": "h",
         "showlegend": true,
         "type": "box",
         "x": [
          443.64,
          515.6
         ],
         "x0": " ",
         "xaxis": "x",
         "y": [
          "realme",
          "realme"
         ],
         "y0": " ",
         "yaxis": "y"
        },
        {
         "alignmentgroup": "True",
         "hovertemplate": "brand=%{y}<br>price=%{x}<extra></extra>",
         "legendgroup": "avita",
         "marker": {
          "color": "#636efa"
         },
         "name": "avita",
         "notched": false,
         "offsetgroup": "avita",
         "orientation": "h",
         "showlegend": true,
         "type": "box",
         "x": [
          256.54,
          395.17,
          390.38,
          232.92,
          251.85
         ],
         "x0": " ",
         "xaxis": "x",
         "y": [
          "avita",
          "avita",
          "avita",
          "avita",
          "avita"
         ],
         "y0": " ",
         "yaxis": "y"
        },
        {
         "alignmentgroup": "True",
         "hovertemplate": "brand=%{y}<br>price=%{x}<extra></extra>",
         "legendgroup": "microsoft",
         "marker": {
          "color": "#EF553B"
         },
         "name": "microsoft",
         "notched": false,
         "offsetgroup": "microsoft",
         "orientation": "h",
         "showlegend": true,
         "type": "box",
         "x": [
          959.35,
          1169.24
         ],
         "x0": " ",
         "xaxis": "x",
         "y": [
          "microsoft",
          "microsoft"
         ],
         "y0": " ",
         "yaxis": "y"
        },
        {
         "alignmentgroup": "True",
         "hovertemplate": "brand=%{y}<br>price=%{x}<extra></extra>",
         "legendgroup": "fujitsu",
         "marker": {
          "color": "#00cc96"
         },
         "name": "fujitsu",
         "notched": false,
         "offsetgroup": "fujitsu",
         "orientation": "h",
         "showlegend": true,
         "type": "box",
         "x": [
          887.39,
          887.39,
          1319.15,
          1199.22,
          677.55
         ],
         "x0": " ",
         "xaxis": "x",
         "y": [
          "fujitsu",
          "fujitsu",
          "fujitsu",
          "fujitsu",
          "fujitsu"
         ],
         "y0": " ",
         "yaxis": "y"
        },
        {
         "alignmentgroup": "True",
         "hovertemplate": "brand=%{y}<br>price=%{x}<extra></extra>",
         "legendgroup": "lg",
         "marker": {
          "color": "#ab63fa"
         },
         "name": "lg",
         "notched": false,
         "offsetgroup": "lg",
         "orientation": "h",
         "showlegend": true,
         "type": "box",
         "x": [
          1187.33,
          939.07,
          1828.98,
          1414.01,
          1076.99,
          1810.99,
          1421.2
         ],
         "x0": " ",
         "xaxis": "x",
         "y": [
          "lg",
          "lg",
          "lg",
          "lg",
          "lg",
          "lg",
          "lg"
         ],
         "y0": " ",
         "yaxis": "y"
        },
        {
         "alignmentgroup": "True",
         "hovertemplate": "brand=%{y}<br>price=%{x}<extra></extra>",
         "legendgroup": "walker",
         "marker": {
          "color": "#FFA15A"
         },
         "name": "walker",
         "notched": false,
         "offsetgroup": "walker",
         "orientation": "h",
         "showlegend": true,
         "type": "box",
         "x": [
          191.77
         ],
         "x0": " ",
         "xaxis": "x",
         "y": [
          "walker"
         ],
         "y0": " ",
         "yaxis": "y"
        },
        {
         "alignmentgroup": "True",
         "hovertemplate": "brand=%{y}<br>price=%{x}<extra></extra>",
         "legendgroup": "axl",
         "marker": {
          "color": "#19d3f3"
         },
         "name": "axl",
         "notched": false,
         "offsetgroup": "axl",
         "orientation": "h",
         "showlegend": true,
         "type": "box",
         "x": [
          215.76,
          179.78
         ],
         "x0": " ",
         "xaxis": "x",
         "y": [
          "axl",
          "axl"
         ],
         "y0": " ",
         "yaxis": "y"
        }
       ],
       "layout": {
        "boxmode": "overlay",
        "legend": {
         "title": {
          "text": "brand"
         },
         "tracegroupgap": 0
        },
        "margin": {
         "t": 60
        },
        "template": {
         "data": {
          "bar": [
           {
            "error_x": {
             "color": "#2a3f5f"
            },
            "error_y": {
             "color": "#2a3f5f"
            },
            "marker": {
             "line": {
              "color": "#E5ECF6",
              "width": 0.5
             },
             "pattern": {
              "fillmode": "overlay",
              "size": 10,
              "solidity": 0.2
             }
            },
            "type": "bar"
           }
          ],
          "barpolar": [
           {
            "marker": {
             "line": {
              "color": "#E5ECF6",
              "width": 0.5
             },
             "pattern": {
              "fillmode": "overlay",
              "size": 10,
              "solidity": 0.2
             }
            },
            "type": "barpolar"
           }
          ],
          "carpet": [
           {
            "aaxis": {
             "endlinecolor": "#2a3f5f",
             "gridcolor": "white",
             "linecolor": "white",
             "minorgridcolor": "white",
             "startlinecolor": "#2a3f5f"
            },
            "baxis": {
             "endlinecolor": "#2a3f5f",
             "gridcolor": "white",
             "linecolor": "white",
             "minorgridcolor": "white",
             "startlinecolor": "#2a3f5f"
            },
            "type": "carpet"
           }
          ],
          "choropleth": [
           {
            "colorbar": {
             "outlinewidth": 0,
             "ticks": ""
            },
            "type": "choropleth"
           }
          ],
          "contour": [
           {
            "colorbar": {
             "outlinewidth": 0,
             "ticks": ""
            },
            "colorscale": [
             [
              0,
              "#0d0887"
             ],
             [
              0.1111111111111111,
              "#46039f"
             ],
             [
              0.2222222222222222,
              "#7201a8"
             ],
             [
              0.3333333333333333,
              "#9c179e"
             ],
             [
              0.4444444444444444,
              "#bd3786"
             ],
             [
              0.5555555555555556,
              "#d8576b"
             ],
             [
              0.6666666666666666,
              "#ed7953"
             ],
             [
              0.7777777777777778,
              "#fb9f3a"
             ],
             [
              0.8888888888888888,
              "#fdca26"
             ],
             [
              1,
              "#f0f921"
             ]
            ],
            "type": "contour"
           }
          ],
          "contourcarpet": [
           {
            "colorbar": {
             "outlinewidth": 0,
             "ticks": ""
            },
            "type": "contourcarpet"
           }
          ],
          "heatmap": [
           {
            "colorbar": {
             "outlinewidth": 0,
             "ticks": ""
            },
            "colorscale": [
             [
              0,
              "#0d0887"
             ],
             [
              0.1111111111111111,
              "#46039f"
             ],
             [
              0.2222222222222222,
              "#7201a8"
             ],
             [
              0.3333333333333333,
              "#9c179e"
             ],
             [
              0.4444444444444444,
              "#bd3786"
             ],
             [
              0.5555555555555556,
              "#d8576b"
             ],
             [
              0.6666666666666666,
              "#ed7953"
             ],
             [
              0.7777777777777778,
              "#fb9f3a"
             ],
             [
              0.8888888888888888,
              "#fdca26"
             ],
             [
              1,
              "#f0f921"
             ]
            ],
            "type": "heatmap"
           }
          ],
          "heatmapgl": [
           {
            "colorbar": {
             "outlinewidth": 0,
             "ticks": ""
            },
            "colorscale": [
             [
              0,
              "#0d0887"
             ],
             [
              0.1111111111111111,
              "#46039f"
             ],
             [
              0.2222222222222222,
              "#7201a8"
             ],
             [
              0.3333333333333333,
              "#9c179e"
             ],
             [
              0.4444444444444444,
              "#bd3786"
             ],
             [
              0.5555555555555556,
              "#d8576b"
             ],
             [
              0.6666666666666666,
              "#ed7953"
             ],
             [
              0.7777777777777778,
              "#fb9f3a"
             ],
             [
              0.8888888888888888,
              "#fdca26"
             ],
             [
              1,
              "#f0f921"
             ]
            ],
            "type": "heatmapgl"
           }
          ],
          "histogram": [
           {
            "marker": {
             "pattern": {
              "fillmode": "overlay",
              "size": 10,
              "solidity": 0.2
             }
            },
            "type": "histogram"
           }
          ],
          "histogram2d": [
           {
            "colorbar": {
             "outlinewidth": 0,
             "ticks": ""
            },
            "colorscale": [
             [
              0,
              "#0d0887"
             ],
             [
              0.1111111111111111,
              "#46039f"
             ],
             [
              0.2222222222222222,
              "#7201a8"
             ],
             [
              0.3333333333333333,
              "#9c179e"
             ],
             [
              0.4444444444444444,
              "#bd3786"
             ],
             [
              0.5555555555555556,
              "#d8576b"
             ],
             [
              0.6666666666666666,
              "#ed7953"
             ],
             [
              0.7777777777777778,
              "#fb9f3a"
             ],
             [
              0.8888888888888888,
              "#fdca26"
             ],
             [
              1,
              "#f0f921"
             ]
            ],
            "type": "histogram2d"
           }
          ],
          "histogram2dcontour": [
           {
            "colorbar": {
             "outlinewidth": 0,
             "ticks": ""
            },
            "colorscale": [
             [
              0,
              "#0d0887"
             ],
             [
              0.1111111111111111,
              "#46039f"
             ],
             [
              0.2222222222222222,
              "#7201a8"
             ],
             [
              0.3333333333333333,
              "#9c179e"
             ],
             [
              0.4444444444444444,
              "#bd3786"
             ],
             [
              0.5555555555555556,
              "#d8576b"
             ],
             [
              0.6666666666666666,
              "#ed7953"
             ],
             [
              0.7777777777777778,
              "#fb9f3a"
             ],
             [
              0.8888888888888888,
              "#fdca26"
             ],
             [
              1,
              "#f0f921"
             ]
            ],
            "type": "histogram2dcontour"
           }
          ],
          "mesh3d": [
           {
            "colorbar": {
             "outlinewidth": 0,
             "ticks": ""
            },
            "type": "mesh3d"
           }
          ],
          "parcoords": [
           {
            "line": {
             "colorbar": {
              "outlinewidth": 0,
              "ticks": ""
             }
            },
            "type": "parcoords"
           }
          ],
          "pie": [
           {
            "automargin": true,
            "type": "pie"
           }
          ],
          "scatter": [
           {
            "fillpattern": {
             "fillmode": "overlay",
             "size": 10,
             "solidity": 0.2
            },
            "type": "scatter"
           }
          ],
          "scatter3d": [
           {
            "line": {
             "colorbar": {
              "outlinewidth": 0,
              "ticks": ""
             }
            },
            "marker": {
             "colorbar": {
              "outlinewidth": 0,
              "ticks": ""
             }
            },
            "type": "scatter3d"
           }
          ],
          "scattercarpet": [
           {
            "marker": {
             "colorbar": {
              "outlinewidth": 0,
              "ticks": ""
             }
            },
            "type": "scattercarpet"
           }
          ],
          "scattergeo": [
           {
            "marker": {
             "colorbar": {
              "outlinewidth": 0,
              "ticks": ""
             }
            },
            "type": "scattergeo"
           }
          ],
          "scattergl": [
           {
            "marker": {
             "colorbar": {
              "outlinewidth": 0,
              "ticks": ""
             }
            },
            "type": "scattergl"
           }
          ],
          "scattermapbox": [
           {
            "marker": {
             "colorbar": {
              "outlinewidth": 0,
              "ticks": ""
             }
            },
            "type": "scattermapbox"
           }
          ],
          "scatterpolar": [
           {
            "marker": {
             "colorbar": {
              "outlinewidth": 0,
              "ticks": ""
             }
            },
            "type": "scatterpolar"
           }
          ],
          "scatterpolargl": [
           {
            "marker": {
             "colorbar": {
              "outlinewidth": 0,
              "ticks": ""
             }
            },
            "type": "scatterpolargl"
           }
          ],
          "scatterternary": [
           {
            "marker": {
             "colorbar": {
              "outlinewidth": 0,
              "ticks": ""
             }
            },
            "type": "scatterternary"
           }
          ],
          "surface": [
           {
            "colorbar": {
             "outlinewidth": 0,
             "ticks": ""
            },
            "colorscale": [
             [
              0,
              "#0d0887"
             ],
             [
              0.1111111111111111,
              "#46039f"
             ],
             [
              0.2222222222222222,
              "#7201a8"
             ],
             [
              0.3333333333333333,
              "#9c179e"
             ],
             [
              0.4444444444444444,
              "#bd3786"
             ],
             [
              0.5555555555555556,
              "#d8576b"
             ],
             [
              0.6666666666666666,
              "#ed7953"
             ],
             [
              0.7777777777777778,
              "#fb9f3a"
             ],
             [
              0.8888888888888888,
              "#fdca26"
             ],
             [
              1,
              "#f0f921"
             ]
            ],
            "type": "surface"
           }
          ],
          "table": [
           {
            "cells": {
             "fill": {
              "color": "#EBF0F8"
             },
             "line": {
              "color": "white"
             }
            },
            "header": {
             "fill": {
              "color": "#C8D4E3"
             },
             "line": {
              "color": "white"
             }
            },
            "type": "table"
           }
          ]
         },
         "layout": {
          "annotationdefaults": {
           "arrowcolor": "#2a3f5f",
           "arrowhead": 0,
           "arrowwidth": 1
          },
          "autotypenumbers": "strict",
          "coloraxis": {
           "colorbar": {
            "outlinewidth": 0,
            "ticks": ""
           }
          },
          "colorscale": {
           "diverging": [
            [
             0,
             "#8e0152"
            ],
            [
             0.1,
             "#c51b7d"
            ],
            [
             0.2,
             "#de77ae"
            ],
            [
             0.3,
             "#f1b6da"
            ],
            [
             0.4,
             "#fde0ef"
            ],
            [
             0.5,
             "#f7f7f7"
            ],
            [
             0.6,
             "#e6f5d0"
            ],
            [
             0.7,
             "#b8e186"
            ],
            [
             0.8,
             "#7fbc41"
            ],
            [
             0.9,
             "#4d9221"
            ],
            [
             1,
             "#276419"
            ]
           ],
           "sequential": [
            [
             0,
             "#0d0887"
            ],
            [
             0.1111111111111111,
             "#46039f"
            ],
            [
             0.2222222222222222,
             "#7201a8"
            ],
            [
             0.3333333333333333,
             "#9c179e"
            ],
            [
             0.4444444444444444,
             "#bd3786"
            ],
            [
             0.5555555555555556,
             "#d8576b"
            ],
            [
             0.6666666666666666,
             "#ed7953"
            ],
            [
             0.7777777777777778,
             "#fb9f3a"
            ],
            [
             0.8888888888888888,
             "#fdca26"
            ],
            [
             1,
             "#f0f921"
            ]
           ],
           "sequentialminus": [
            [
             0,
             "#0d0887"
            ],
            [
             0.1111111111111111,
             "#46039f"
            ],
            [
             0.2222222222222222,
             "#7201a8"
            ],
            [
             0.3333333333333333,
             "#9c179e"
            ],
            [
             0.4444444444444444,
             "#bd3786"
            ],
            [
             0.5555555555555556,
             "#d8576b"
            ],
            [
             0.6666666666666666,
             "#ed7953"
            ],
            [
             0.7777777777777778,
             "#fb9f3a"
            ],
            [
             0.8888888888888888,
             "#fdca26"
            ],
            [
             1,
             "#f0f921"
            ]
           ]
          },
          "colorway": [
           "#636efa",
           "#EF553B",
           "#00cc96",
           "#ab63fa",
           "#FFA15A",
           "#19d3f3",
           "#FF6692",
           "#B6E880",
           "#FF97FF",
           "#FECB52"
          ],
          "font": {
           "color": "#2a3f5f"
          },
          "geo": {
           "bgcolor": "white",
           "lakecolor": "white",
           "landcolor": "#E5ECF6",
           "showlakes": true,
           "showland": true,
           "subunitcolor": "white"
          },
          "hoverlabel": {
           "align": "left"
          },
          "hovermode": "closest",
          "mapbox": {
           "style": "light"
          },
          "paper_bgcolor": "white",
          "plot_bgcolor": "#E5ECF6",
          "polar": {
           "angularaxis": {
            "gridcolor": "white",
            "linecolor": "white",
            "ticks": ""
           },
           "bgcolor": "#E5ECF6",
           "radialaxis": {
            "gridcolor": "white",
            "linecolor": "white",
            "ticks": ""
           }
          },
          "scene": {
           "xaxis": {
            "backgroundcolor": "#E5ECF6",
            "gridcolor": "white",
            "gridwidth": 2,
            "linecolor": "white",
            "showbackground": true,
            "ticks": "",
            "zerolinecolor": "white"
           },
           "yaxis": {
            "backgroundcolor": "#E5ECF6",
            "gridcolor": "white",
            "gridwidth": 2,
            "linecolor": "white",
            "showbackground": true,
            "ticks": "",
            "zerolinecolor": "white"
           },
           "zaxis": {
            "backgroundcolor": "#E5ECF6",
            "gridcolor": "white",
            "gridwidth": 2,
            "linecolor": "white",
            "showbackground": true,
            "ticks": "",
            "zerolinecolor": "white"
           }
          },
          "shapedefaults": {
           "line": {
            "color": "#2a3f5f"
           }
          },
          "ternary": {
           "aaxis": {
            "gridcolor": "white",
            "linecolor": "white",
            "ticks": ""
           },
           "baxis": {
            "gridcolor": "white",
            "linecolor": "white",
            "ticks": ""
           },
           "bgcolor": "#E5ECF6",
           "caxis": {
            "gridcolor": "white",
            "linecolor": "white",
            "ticks": ""
           }
          },
          "title": {
           "x": 0.05
          },
          "xaxis": {
           "automargin": true,
           "gridcolor": "white",
           "linecolor": "white",
           "ticks": "",
           "title": {
            "standoff": 15
           },
           "zerolinecolor": "white",
           "zerolinewidth": 2
          },
          "yaxis": {
           "automargin": true,
           "gridcolor": "white",
           "linecolor": "white",
           "ticks": "",
           "title": {
            "standoff": 15
           },
           "zerolinecolor": "white",
           "zerolinewidth": 2
          }
         }
        },
        "xaxis": {
         "anchor": "y",
         "domain": [
          0,
          1
         ],
         "title": {
          "text": "price"
         }
        },
        "yaxis": {
         "anchor": "x",
         "categoryarray": [
          "axl",
          "walker",
          "lg",
          "fujitsu",
          "microsoft",
          "avita",
          "realme",
          "honor",
          "jio",
          "gigabyte",
          "chuwi",
          "zebronics",
          "iball",
          "primebook",
          "ultimus",
          "wings",
          "msi",
          "samsung",
          "dell",
          "asus",
          "infinix",
          "apple",
          "lenovo",
          "acer",
          "hp",
          "tecno"
         ],
         "categoryorder": "array",
         "domain": [
          0,
          1
         ],
         "title": {
          "text": "brand"
         }
        }
       }
      },
      "text/html": [
       "<div>                            <div id=\"cfc3e8e3-7640-41d6-92b8-91d7a6f33d92\" class=\"plotly-graph-div\" style=\"height:525px; width:100%;\"></div>            <script type=\"text/javascript\">                require([\"plotly\"], function(Plotly) {                    window.PLOTLYENV=window.PLOTLYENV || {};                                    if (document.getElementById(\"cfc3e8e3-7640-41d6-92b8-91d7a6f33d92\")) {                    Plotly.newPlot(                        \"cfc3e8e3-7640-41d6-92b8-91d7a6f33d92\",                        [{\"alignmentgroup\":\"True\",\"hovertemplate\":\"brand=%{y}\\u003cbr\\u003eprice=%{x}\\u003cextra\\u003e\\u003c\\u002fextra\\u003e\",\"legendgroup\":\"tecno\",\"marker\":{\"color\":\"#636efa\"},\"name\":\"tecno\",\"notched\":false,\"offsetgroup\":\"tecno\",\"orientation\":\"h\",\"showlegend\":true,\"x\":[287.72,431.64],\"x0\":\" \",\"xaxis\":\"x\",\"y\":[\"tecno\",\"tecno\"],\"y0\":\" \",\"yaxis\":\"y\",\"type\":\"box\"},{\"alignmentgroup\":\"True\",\"hovertemplate\":\"brand=%{y}\\u003cbr\\u003eprice=%{x}\\u003cextra\\u003e\\u003c\\u002fextra\\u003e\",\"legendgroup\":\"hp\",\"marker\":{\"color\":\"#EF553B\"},\"name\":\"hp\",\"notched\":false,\"offsetgroup\":\"hp\",\"orientation\":\"h\",\"showlegend\":true,\"x\":[612.86,443.64,1846.86,665.51,231.46,947.36,863.51,647.52,1065.01,642.49,1403.11,849.25,1002.53,653.52,509.71,1774.9,839.53,863.4,934.27,695.5,599.66,731.48,803.44,623.54,671.51,621.26,596.97,524.11,418.45,389.67,520.51,372.87,485.72,2426.74,1989.7,731.48,611.65,1989.7,476.14,824.07,731.48,287.83,383.78,1112.99,875.51,1044.5,419.65,773.57,2116.82,1139.25,671.51,875.76,599.55,629.53,482.01,743.47,1073.29,419.65,611.54,563.57,851.41,623.54,695.5,581.08,959.35,767.46,231.46,718.06,683.61,487.04,767.46,299.71,500.72,1084.97,953.08,689.62,654.83,622.47,807.01,1862.56,1342.58,918.68,491.61,1192.98,1355.13,1091.39,430.56,4107.74,637.93,1110.47,3112.27,3514.05,1990.89,2020.89,467.62,347.69,1079.39,899.49,1367.23,623.54,1087.67,480.93,910.18,335.7,731.58,533.59,2194.67,696.46,383.67,1834.87,898.9,1432.01,1199.33,2870.01,1590.31,611.65,1259.74,1220.93,677.51,936.68,441.24,1762.91,1475.31,1678.95,275.73,524.53,520.51,311.71,1520.76,1598.35,395.66,1444.59,2759.2,611.54,287.83,1175.34,1158.44,1055.3,1039.71,1051.7,946.16,1007.32,467.62,611.54,1292.44,935.71,1387.71,1319.15,539.58,575.56,635.53,1391.11,539.58,644.03,467.62,1574.92,780.77,701.6,344.81,338.29,887.39,550.48,821.42,759.35,467.62,779.45,353.69,743.47,905.9,1104.23,839.42,808.35,779.45,395.66,737.47,1415.22,954.55,635.53,480.93,557.57,571.49,563.57,725.48,599.55,786.65,851.53,1319.15,630.73,773.57,623.54,407.64,1439.09,1724.94,449.63,1749.82,1661.22,517.99,695.5,394.46,474.35,251.74,323.81,371.78,1858.96,251.74],\"x0\":\" \",\"xaxis\":\"x\",\"y\":[\"hp\",\"hp\",\"hp\",\"hp\",\"hp\",\"hp\",\"hp\",\"hp\",\"hp\",\"hp\",\"hp\",\"hp\",\"hp\",\"hp\",\"hp\",\"hp\",\"hp\",\"hp\",\"hp\",\"hp\",\"hp\",\"hp\",\"hp\",\"hp\",\"hp\",\"hp\",\"hp\",\"hp\",\"hp\",\"hp\",\"hp\",\"hp\",\"hp\",\"hp\",\"hp\",\"hp\",\"hp\",\"hp\",\"hp\",\"hp\",\"hp\",\"hp\",\"hp\",\"hp\",\"hp\",\"hp\",\"hp\",\"hp\",\"hp\",\"hp\",\"hp\",\"hp\",\"hp\",\"hp\",\"hp\",\"hp\",\"hp\",\"hp\",\"hp\",\"hp\",\"hp\",\"hp\",\"hp\",\"hp\",\"hp\",\"hp\",\"hp\",\"hp\",\"hp\",\"hp\",\"hp\",\"hp\",\"hp\",\"hp\",\"hp\",\"hp\",\"hp\",\"hp\",\"hp\",\"hp\",\"hp\",\"hp\",\"hp\",\"hp\",\"hp\",\"hp\",\"hp\",\"hp\",\"hp\",\"hp\",\"hp\",\"hp\",\"hp\",\"hp\",\"hp\",\"hp\",\"hp\",\"hp\",\"hp\",\"hp\",\"hp\",\"hp\",\"hp\",\"hp\",\"hp\",\"hp\",\"hp\",\"hp\",\"hp\",\"hp\",\"hp\",\"hp\",\"hp\",\"hp\",\"hp\",\"hp\",\"hp\",\"hp\",\"hp\",\"hp\",\"hp\",\"hp\",\"hp\",\"hp\",\"hp\",\"hp\",\"hp\",\"hp\",\"hp\",\"hp\",\"hp\",\"hp\",\"hp\",\"hp\",\"hp\",\"hp\",\"hp\",\"hp\",\"hp\",\"hp\",\"hp\",\"hp\",\"hp\",\"hp\",\"hp\",\"hp\",\"hp\",\"hp\",\"hp\",\"hp\",\"hp\",\"hp\",\"hp\",\"hp\",\"hp\",\"hp\",\"hp\",\"hp\",\"hp\",\"hp\",\"hp\",\"hp\",\"hp\",\"hp\",\"hp\",\"hp\",\"hp\",\"hp\",\"hp\",\"hp\",\"hp\",\"hp\",\"hp\",\"hp\",\"hp\",\"hp\",\"hp\",\"hp\",\"hp\",\"hp\",\"hp\",\"hp\",\"hp\",\"hp\",\"hp\",\"hp\",\"hp\",\"hp\",\"hp\",\"hp\",\"hp\",\"hp\",\"hp\",\"hp\",\"hp\",\"hp\",\"hp\",\"hp\",\"hp\",\"hp\",\"hp\",\"hp\",\"hp\",\"hp\",\"hp\"],\"y0\":\" \",\"yaxis\":\"y\",\"type\":\"box\"},{\"alignmentgroup\":\"True\",\"hovertemplate\":\"brand=%{y}\\u003cbr\\u003eprice=%{x}\\u003cextra\\u003e\\u003c\\u002fextra\\u003e\",\"legendgroup\":\"acer\",\"marker\":{\"color\":\"#00cc96\"},\"name\":\"acer\",\"notched\":false,\"offsetgroup\":\"acer\",\"orientation\":\"h\",\"showlegend\":true,\"x\":[479.62,935.36,563.57,419.65,395.66,683.5,455.63,473.73,1139.25,575.56,1439.09,1259.19,371.68,467.62,395.66,875.4,2158.69,383.67,359.68,731.48,683.5,1439.09,335.7,563.57,359.68,557.69,599.55,539.69,515.7,563.57,557.57,683.5,477.34,287.72,767.57,791.44,599.55,739.99,305.71,479.62,419.65,515.6,683.5,635.53,443.64,503.6,497.61,1918.82,809.54,431.64,1559.02,905.49,503.6,863.4,369.28,359.56,353.69,515.6,491.61,659.52,394.46,347.8,479.62,599.55,698.84,677.51,670.43,1719.85,707.49,1715.04,479.62,441.36,1259.29,1379.12,539.63,1067.29,827.42,2399.76,934.17,551.58,395.66,384.87,2218.77,2998.23,335.7,917.48,359.68,827.53,905.5],\"x0\":\" \",\"xaxis\":\"x\",\"y\":[\"acer\",\"acer\",\"acer\",\"acer\",\"acer\",\"acer\",\"acer\",\"acer\",\"acer\",\"acer\",\"acer\",\"acer\",\"acer\",\"acer\",\"acer\",\"acer\",\"acer\",\"acer\",\"acer\",\"acer\",\"acer\",\"acer\",\"acer\",\"acer\",\"acer\",\"acer\",\"acer\",\"acer\",\"acer\",\"acer\",\"acer\",\"acer\",\"acer\",\"acer\",\"acer\",\"acer\",\"acer\",\"acer\",\"acer\",\"acer\",\"acer\",\"acer\",\"acer\",\"acer\",\"acer\",\"acer\",\"acer\",\"acer\",\"acer\",\"acer\",\"acer\",\"acer\",\"acer\",\"acer\",\"acer\",\"acer\",\"acer\",\"acer\",\"acer\",\"acer\",\"acer\",\"acer\",\"acer\",\"acer\",\"acer\",\"acer\",\"acer\",\"acer\",\"acer\",\"acer\",\"acer\",\"acer\",\"acer\",\"acer\",\"acer\",\"acer\",\"acer\",\"acer\",\"acer\",\"acer\",\"acer\",\"acer\",\"acer\",\"acer\",\"acer\",\"acer\",\"acer\",\"acer\",\"acer\"],\"y0\":\" \",\"yaxis\":\"y\",\"type\":\"box\"},{\"alignmentgroup\":\"True\",\"hovertemplate\":\"brand=%{y}\\u003cbr\\u003eprice=%{x}\\u003cextra\\u003e\\u003c\\u002fextra\\u003e\",\"legendgroup\":\"lenovo\",\"marker\":{\"color\":\"#ab63fa\"},\"name\":\"lenovo\",\"notched\":false,\"offsetgroup\":\"lenovo\",\"orientation\":\"h\",\"showlegend\":true,\"x\":[342.77,569.57,599.55,335.7,575.56,683.5,539.58,419.65,293.12,587.56,766.25,444.24,1139.25,959.35,491.61,491.61,547.51,431.64,539.58,1834.87,1585.41,740.14,309.31,587.56,846.61,803.44,1379.12,1199.22,395.54,263.73,400.58,1199.22,779.45,299.71,1799.01,683.5,659.52,755.57,437.64,551.58,563.57,755.46,887.39,743.47,898.3,383.67,2626.43,1477.47,827.42,1294.22,622.39,563.57,4306.77,661.92,743.47,593.66,443.64,414.85,389.67,668.03,841.82,1105.67,623.54,1019.32,961.75,1309.56,649.92,649.92,937.76,479.62,1117.66,1969.19,3585.9,1669.36,841.82,1240.06,479.62,1079.41,419.65,395.66,599.55,479.62,764.12,599.55,395.66,362.08,359.68,563.57,659.52,509.71,815.43,439.56,587.56,599.55,1043.31,791.44,2230.65,1547.03,1367.13,623.54,839.42,575.56,1201.62,1648.97,647.52,443.76,1057.7,755.46,796.23,863.4,741.9,443.64,745.87,707.49,721.88,769.86,503.6,539.58,545.58,569.57,705.81,767.46,841.82,440.04,805.84,563.57,1009.72,1043.31,935.36,449.75,707.49,527.59,833.47,1175.23,1097.28,1061.74,1199.22,1319.15,2700.79,1078.07,899.38,779.45,486.81,791.44,290.12,635.53,755.46,394.57,299.71,635.53,831.68,539.58,875.4,680.03,791.44,647.52,688.3,599.55,725.48,425.65,863.4,545.7,599.66,793.95,401.66,803.56,1499.17,905.49,491.61,563.57,457.8,335.7,886.31,419.65,419.65,562.49,359.68,557.57,624.87,898.17,377.67,634.45,633.18,757.86,971.46,1478.44,266.72,263.73,263.73,551.58,401.66,430.44,437.64,551.58,791.55,407.66,1754.29,521.71,371.68,386.19,719.48],\"x0\":\" \",\"xaxis\":\"x\",\"y\":[\"lenovo\",\"lenovo\",\"lenovo\",\"lenovo\",\"lenovo\",\"lenovo\",\"lenovo\",\"lenovo\",\"lenovo\",\"lenovo\",\"lenovo\",\"lenovo\",\"lenovo\",\"lenovo\",\"lenovo\",\"lenovo\",\"lenovo\",\"lenovo\",\"lenovo\",\"lenovo\",\"lenovo\",\"lenovo\",\"lenovo\",\"lenovo\",\"lenovo\",\"lenovo\",\"lenovo\",\"lenovo\",\"lenovo\",\"lenovo\",\"lenovo\",\"lenovo\",\"lenovo\",\"lenovo\",\"lenovo\",\"lenovo\",\"lenovo\",\"lenovo\",\"lenovo\",\"lenovo\",\"lenovo\",\"lenovo\",\"lenovo\",\"lenovo\",\"lenovo\",\"lenovo\",\"lenovo\",\"lenovo\",\"lenovo\",\"lenovo\",\"lenovo\",\"lenovo\",\"lenovo\",\"lenovo\",\"lenovo\",\"lenovo\",\"lenovo\",\"lenovo\",\"lenovo\",\"lenovo\",\"lenovo\",\"lenovo\",\"lenovo\",\"lenovo\",\"lenovo\",\"lenovo\",\"lenovo\",\"lenovo\",\"lenovo\",\"lenovo\",\"lenovo\",\"lenovo\",\"lenovo\",\"lenovo\",\"lenovo\",\"lenovo\",\"lenovo\",\"lenovo\",\"lenovo\",\"lenovo\",\"lenovo\",\"lenovo\",\"lenovo\",\"lenovo\",\"lenovo\",\"lenovo\",\"lenovo\",\"lenovo\",\"lenovo\",\"lenovo\",\"lenovo\",\"lenovo\",\"lenovo\",\"lenovo\",\"lenovo\",\"lenovo\",\"lenovo\",\"lenovo\",\"lenovo\",\"lenovo\",\"lenovo\",\"lenovo\",\"lenovo\",\"lenovo\",\"lenovo\",\"lenovo\",\"lenovo\",\"lenovo\",\"lenovo\",\"lenovo\",\"lenovo\",\"lenovo\",\"lenovo\",\"lenovo\",\"lenovo\",\"lenovo\",\"lenovo\",\"lenovo\",\"lenovo\",\"lenovo\",\"lenovo\",\"lenovo\",\"lenovo\",\"lenovo\",\"lenovo\",\"lenovo\",\"lenovo\",\"lenovo\",\"lenovo\",\"lenovo\",\"lenovo\",\"lenovo\",\"lenovo\",\"lenovo\",\"lenovo\",\"lenovo\",\"lenovo\",\"lenovo\",\"lenovo\",\"lenovo\",\"lenovo\",\"lenovo\",\"lenovo\",\"lenovo\",\"lenovo\",\"lenovo\",\"lenovo\",\"lenovo\",\"lenovo\",\"lenovo\",\"lenovo\",\"lenovo\",\"lenovo\",\"lenovo\",\"lenovo\",\"lenovo\",\"lenovo\",\"lenovo\",\"lenovo\",\"lenovo\",\"lenovo\",\"lenovo\",\"lenovo\",\"lenovo\",\"lenovo\",\"lenovo\",\"lenovo\",\"lenovo\",\"lenovo\",\"lenovo\",\"lenovo\",\"lenovo\",\"lenovo\",\"lenovo\",\"lenovo\",\"lenovo\",\"lenovo\",\"lenovo\",\"lenovo\",\"lenovo\",\"lenovo\",\"lenovo\",\"lenovo\",\"lenovo\",\"lenovo\",\"lenovo\",\"lenovo\",\"lenovo\",\"lenovo\",\"lenovo\",\"lenovo\",\"lenovo\",\"lenovo\",\"lenovo\",\"lenovo\",\"lenovo\",\"lenovo\",\"lenovo\",\"lenovo\",\"lenovo\",\"lenovo\"],\"y0\":\" \",\"yaxis\":\"y\",\"type\":\"box\"},{\"alignmentgroup\":\"True\",\"hovertemplate\":\"brand=%{y}\\u003cbr\\u003eprice=%{x}\\u003cextra\\u003e\\u003c\\u002fextra\\u003e\",\"legendgroup\":\"apple\",\"marker\":{\"color\":\"#FFA15A\"},\"name\":\"apple\",\"notched\":false,\"offsetgroup\":\"apple\",\"orientation\":\"h\",\"showlegend\":true,\"x\":[851.41,4796.16,1235.2,1439.09,1319.15,3476.88,4196.49,2997.15,2397.48,1738.92,1595.0,1642.97,2277.54,2877.21,2037.68],\"x0\":\" \",\"xaxis\":\"x\",\"y\":[\"apple\",\"apple\",\"apple\",\"apple\",\"apple\",\"apple\",\"apple\",\"apple\",\"apple\",\"apple\",\"apple\",\"apple\",\"apple\",\"apple\",\"apple\"],\"y0\":\" \",\"yaxis\":\"y\",\"type\":\"box\"},{\"alignmentgroup\":\"True\",\"hovertemplate\":\"brand=%{y}\\u003cbr\\u003eprice=%{x}\\u003cextra\\u003e\\u003c\\u002fextra\\u003e\",\"legendgroup\":\"infinix\",\"marker\":{\"color\":\"#19d3f3\"},\"name\":\"infinix\",\"notched\":false,\"offsetgroup\":\"infinix\",\"orientation\":\"h\",\"showlegend\":true,\"x\":[419.65,719.48,359.68,335.7,323.7,431.64,695.5,467.62,587.56,311.71,299.71,539.58,467.62],\"x0\":\" \",\"xaxis\":\"x\",\"y\":[\"infinix\",\"infinix\",\"infinix\",\"infinix\",\"infinix\",\"infinix\",\"infinix\",\"infinix\",\"infinix\",\"infinix\",\"infinix\",\"infinix\",\"infinix\"],\"y0\":\" \",\"yaxis\":\"y\",\"type\":\"box\"},{\"alignmentgroup\":\"True\",\"hovertemplate\":\"brand=%{y}\\u003cbr\\u003eprice=%{x}\\u003cextra\\u003e\\u003c\\u002fextra\\u003e\",\"legendgroup\":\"asus\",\"marker\":{\"color\":\"#FF6692\"},\"name\":\"asus\",\"notched\":false,\"offsetgroup\":\"asus\",\"orientation\":\"h\",\"showlegend\":true,\"x\":[599.55,688.3,911.38,479.62,335.7,563.57,767.46,1362.1,3238.1,888.53,731.48,431.64,1307.16,695.5,869.4,835.81,563.57,647.52,979.73,1139.25,875.4,647.52,1031.31,815.43,902.5,803.44,1858.86,1156.03,527.59,635.53,401.66,875.4,575.56,1103.27,1019.32,215.76,875.4,899.38,1259.19,1080.12,1029.03,695.5,731.48,719.48,383.67,677.63,683.5,1439.09,2158.69,2278.62,1457.07,573.64,1079.29,667.9,839.42,947.36,1268.17,515.6,647.52,582.63,851.41,370.48,750.79,1738.92,393.68,362.19,1037.43,570.29,779.45,1188.68,335.7,959.11,1031.31,179.78,800.18,647.52,251.74,1039.7,832.79,887.39,1199.22,1033.7,338.09,881.07,539.58,724.15,887.39,839.42,1187.23,1091.28,1379.12,203.77,308.84,227.75,535.37,275.74,1180.97,911.38,911.38,1131.8,490.84,858.73,407.66,695.5,719.48,1079.29,450.81,443.64,1139.25,839.42,875.4,393.26,719.48,311.71,472.42,779.45,1067.41,839.54,1702.93,918.69,1559.02,767.46,887.39,1199.22,743.47,671.51,1002.64,1678.95,707.49,575.44,839.42,779.45,1142.97,420.76,335.7,593.55,587.56,923.37,479.62,1256.3,1521.84,2398.56,1583.01,1605.8,1858.86,1731.92,1139.25,3130.16,1798.89,1618.99,724.15,2517.29,1858.86,839.42,1018.84,1360.06,1271.18,1336.53,918.92,1127.37,1937.09,2398.56,431.64,370.92,555.15,1499.05,707.49,383.67,1583.13,1391.11,1079.29,1094.28,755.46,862.78,477.22,467.5,671.51,851.41,749.59,825.15,1031.31,551.58,719.48,1259.19,820.23,1175.23,1115.27,779.45,899.38,527.59,767.46,470.64,1559.02,707.49,953.47,609.08,742.39,2998.23,539.34,547.98,386.07,827.42,3358.03,659.52,935.36,803.44,719.48,791.44,539.58,815.43],\"x0\":\" \",\"xaxis\":\"x\",\"y\":[\"asus\",\"asus\",\"asus\",\"asus\",\"asus\",\"asus\",\"asus\",\"asus\",\"asus\",\"asus\",\"asus\",\"asus\",\"asus\",\"asus\",\"asus\",\"asus\",\"asus\",\"asus\",\"asus\",\"asus\",\"asus\",\"asus\",\"asus\",\"asus\",\"asus\",\"asus\",\"asus\",\"asus\",\"asus\",\"asus\",\"asus\",\"asus\",\"asus\",\"asus\",\"asus\",\"asus\",\"asus\",\"asus\",\"asus\",\"asus\",\"asus\",\"asus\",\"asus\",\"asus\",\"asus\",\"asus\",\"asus\",\"asus\",\"asus\",\"asus\",\"asus\",\"asus\",\"asus\",\"asus\",\"asus\",\"asus\",\"asus\",\"asus\",\"asus\",\"asus\",\"asus\",\"asus\",\"asus\",\"asus\",\"asus\",\"asus\",\"asus\",\"asus\",\"asus\",\"asus\",\"asus\",\"asus\",\"asus\",\"asus\",\"asus\",\"asus\",\"asus\",\"asus\",\"asus\",\"asus\",\"asus\",\"asus\",\"asus\",\"asus\",\"asus\",\"asus\",\"asus\",\"asus\",\"asus\",\"asus\",\"asus\",\"asus\",\"asus\",\"asus\",\"asus\",\"asus\",\"asus\",\"asus\",\"asus\",\"asus\",\"asus\",\"asus\",\"asus\",\"asus\",\"asus\",\"asus\",\"asus\",\"asus\",\"asus\",\"asus\",\"asus\",\"asus\",\"asus\",\"asus\",\"asus\",\"asus\",\"asus\",\"asus\",\"asus\",\"asus\",\"asus\",\"asus\",\"asus\",\"asus\",\"asus\",\"asus\",\"asus\",\"asus\",\"asus\",\"asus\",\"asus\",\"asus\",\"asus\",\"asus\",\"asus\",\"asus\",\"asus\",\"asus\",\"asus\",\"asus\",\"asus\",\"asus\",\"asus\",\"asus\",\"asus\",\"asus\",\"asus\",\"asus\",\"asus\",\"asus\",\"asus\",\"asus\",\"asus\",\"asus\",\"asus\",\"asus\",\"asus\",\"asus\",\"asus\",\"asus\",\"asus\",\"asus\",\"asus\",\"asus\",\"asus\",\"asus\",\"asus\",\"asus\",\"asus\",\"asus\",\"asus\",\"asus\",\"asus\",\"asus\",\"asus\",\"asus\",\"asus\",\"asus\",\"asus\",\"asus\",\"asus\",\"asus\",\"asus\",\"asus\",\"asus\",\"asus\",\"asus\",\"asus\",\"asus\",\"asus\",\"asus\",\"asus\",\"asus\",\"asus\",\"asus\",\"asus\",\"asus\",\"asus\",\"asus\",\"asus\",\"asus\",\"asus\",\"asus\",\"asus\",\"asus\",\"asus\",\"asus\",\"asus\",\"asus\",\"asus\"],\"y0\":\" \",\"yaxis\":\"y\",\"type\":\"box\"},{\"alignmentgroup\":\"True\",\"hovertemplate\":\"brand=%{y}\\u003cbr\\u003eprice=%{x}\\u003cextra\\u003e\\u003c\\u002fextra\\u003e\",\"legendgroup\":\"dell\",\"marker\":{\"color\":\"#B6E880\"},\"name\":\"dell\",\"notched\":false,\"offsetgroup\":\"dell\",\"orientation\":\"h\",\"showlegend\":true,\"x\":[419.65,818.42,974.94,475.53,1037.31,869.4,599.67,1007.32,827.42,1780.9,455.63,791.44,929.37,470.62,687.22,611.54,839.53,626.04,1055.3,2500.5,440.53,718.28,419.65,1823.0,1067.29,1265.18,617.5,683.5,743.47,815.89,675.71,682.18,683.5,611.54,467.62,791.44,1193.1,719.48,449.63,1031.31,2677.82,550.14,459.93,1187.23,395.66,1049.3,575.56,929.37,496.92,1046.9,725.48,447.13,1013.32,3088.18,1151.25,730.4,5450.88,814.23,3885.74,2266.63,5408.9,3597.9,785.57,887.39,471.22,719.48,501.42,1055.3,1085.28,491.61,523.99,671.51,575.56,955.75,3352.03,2422.55,490.41,2464.52,1138.17,743.47,1894.84,1996.78,1193.22,959.71,515.6,1067.17,863.4,887.39,743.47,1790.49,515.72,2254.64,1319.15,1559.02,976.29,2704.39,2650.42,4659.31,4419.44,575.56,623.54,461.63,539.58,670.43,1434.41,1055.3],\"x0\":\" \",\"xaxis\":\"x\",\"y\":[\"dell\",\"dell\",\"dell\",\"dell\",\"dell\",\"dell\",\"dell\",\"dell\",\"dell\",\"dell\",\"dell\",\"dell\",\"dell\",\"dell\",\"dell\",\"dell\",\"dell\",\"dell\",\"dell\",\"dell\",\"dell\",\"dell\",\"dell\",\"dell\",\"dell\",\"dell\",\"dell\",\"dell\",\"dell\",\"dell\",\"dell\",\"dell\",\"dell\",\"dell\",\"dell\",\"dell\",\"dell\",\"dell\",\"dell\",\"dell\",\"dell\",\"dell\",\"dell\",\"dell\",\"dell\",\"dell\",\"dell\",\"dell\",\"dell\",\"dell\",\"dell\",\"dell\",\"dell\",\"dell\",\"dell\",\"dell\",\"dell\",\"dell\",\"dell\",\"dell\",\"dell\",\"dell\",\"dell\",\"dell\",\"dell\",\"dell\",\"dell\",\"dell\",\"dell\",\"dell\",\"dell\",\"dell\",\"dell\",\"dell\",\"dell\",\"dell\",\"dell\",\"dell\",\"dell\",\"dell\",\"dell\",\"dell\",\"dell\",\"dell\",\"dell\",\"dell\",\"dell\",\"dell\",\"dell\",\"dell\",\"dell\",\"dell\",\"dell\",\"dell\",\"dell\",\"dell\",\"dell\",\"dell\",\"dell\",\"dell\",\"dell\",\"dell\",\"dell\",\"dell\",\"dell\",\"dell\"],\"y0\":\" \",\"yaxis\":\"y\",\"type\":\"box\"},{\"alignmentgroup\":\"True\",\"hovertemplate\":\"brand=%{y}\\u003cbr\\u003eprice=%{x}\\u003cextra\\u003e\\u003c\\u002fextra\\u003e\",\"legendgroup\":\"samsung\",\"marker\":{\"color\":\"#FF97FF\"},\"name\":\"samsung\",\"notched\":false,\"offsetgroup\":\"samsung\",\"orientation\":\"h\",\"showlegend\":true,\"x\":[779.45,539.58,575.56,839.42,911.38,659.52,1403.11],\"x0\":\" \",\"xaxis\":\"x\",\"y\":[\"samsung\",\"samsung\",\"samsung\",\"samsung\",\"samsung\",\"samsung\",\"samsung\"],\"y0\":\" \",\"yaxis\":\"y\",\"type\":\"box\"},{\"alignmentgroup\":\"True\",\"hovertemplate\":\"brand=%{y}\\u003cbr\\u003eprice=%{x}\\u003cextra\\u003e\\u003c\\u002fextra\\u003e\",\"legendgroup\":\"msi\",\"marker\":{\"color\":\"#FECB52\"},\"name\":\"msi\",\"notched\":false,\"offsetgroup\":\"msi\",\"orientation\":\"h\",\"showlegend\":true,\"x\":[635.53,800.92,431.16,839.42,659.52,899.38,599.55,503.6,659.52,743.47,635.53,755.46,479.62,647.52,683.5,443.64,815.43,785.45,527.59,1271.18,1007.32,795.76,2398.56,5396.91,959.35,2357.66,755.46,1139.25,1163.24,1259.19,1798.89,1798.89,1379.12,671.51,707.49,671.51,2398.56,1439.09,3597.9,983.34,443.64,1912.07,1079.29,887.39,575.56,1343.14,695.5,659.52,1259.19,899.38,1139.25,611.54,1139.25,1019.32,731.48,623.54,635.53,1103.27,1055.3,3358.03,923.37,875.4,1043.31,2998.23,767.46,1163.24,983.34,839.42,3130.16,781.85,875.4,2638.43,2590.45,2062.74,839.42,743.47,527.59,587.56,503.6,455.63,569.57,1115.27,995.33,1048.11,606.76,731.48,647.52,491.61,1439.09,1103.27],\"x0\":\" \",\"xaxis\":\"x\",\"y\":[\"msi\",\"msi\",\"msi\",\"msi\",\"msi\",\"msi\",\"msi\",\"msi\",\"msi\",\"msi\",\"msi\",\"msi\",\"msi\",\"msi\",\"msi\",\"msi\",\"msi\",\"msi\",\"msi\",\"msi\",\"msi\",\"msi\",\"msi\",\"msi\",\"msi\",\"msi\",\"msi\",\"msi\",\"msi\",\"msi\",\"msi\",\"msi\",\"msi\",\"msi\",\"msi\",\"msi\",\"msi\",\"msi\",\"msi\",\"msi\",\"msi\",\"msi\",\"msi\",\"msi\",\"msi\",\"msi\",\"msi\",\"msi\",\"msi\",\"msi\",\"msi\",\"msi\",\"msi\",\"msi\",\"msi\",\"msi\",\"msi\",\"msi\",\"msi\",\"msi\",\"msi\",\"msi\",\"msi\",\"msi\",\"msi\",\"msi\",\"msi\",\"msi\",\"msi\",\"msi\",\"msi\",\"msi\",\"msi\",\"msi\",\"msi\",\"msi\",\"msi\",\"msi\",\"msi\",\"msi\",\"msi\",\"msi\",\"msi\",\"msi\",\"msi\",\"msi\",\"msi\",\"msi\",\"msi\",\"msi\"],\"y0\":\" \",\"yaxis\":\"y\",\"type\":\"box\"},{\"alignmentgroup\":\"True\",\"hovertemplate\":\"brand=%{y}\\u003cbr\\u003eprice=%{x}\\u003cextra\\u003e\\u003c\\u002fextra\\u003e\",\"legendgroup\":\"wings\",\"marker\":{\"color\":\"#636efa\"},\"name\":\"wings\",\"notched\":false,\"offsetgroup\":\"wings\",\"orientation\":\"h\",\"showlegend\":true,\"x\":[335.7,479.62,299.71,323.7],\"x0\":\" \",\"xaxis\":\"x\",\"y\":[\"wings\",\"wings\",\"wings\",\"wings\"],\"y0\":\" \",\"yaxis\":\"y\",\"type\":\"box\"},{\"alignmentgroup\":\"True\",\"hovertemplate\":\"brand=%{y}\\u003cbr\\u003eprice=%{x}\\u003cextra\\u003e\\u003c\\u002fextra\\u003e\",\"legendgroup\":\"ultimus\",\"marker\":{\"color\":\"#EF553B\"},\"name\":\"ultimus\",\"notched\":false,\"offsetgroup\":\"ultimus\",\"orientation\":\"h\",\"showlegend\":true,\"x\":[239.75,191.77,143.8,179.78,197.77,274.8],\"x0\":\" \",\"xaxis\":\"x\",\"y\":[\"ultimus\",\"ultimus\",\"ultimus\",\"ultimus\",\"ultimus\",\"ultimus\"],\"y0\":\" \",\"yaxis\":\"y\",\"type\":\"box\"},{\"alignmentgroup\":\"True\",\"hovertemplate\":\"brand=%{y}\\u003cbr\\u003eprice=%{x}\\u003cextra\\u003e\\u003c\\u002fextra\\u003e\",\"legendgroup\":\"primebook\",\"marker\":{\"color\":\"#00cc96\"},\"name\":\"primebook\",\"notched\":false,\"offsetgroup\":\"primebook\",\"orientation\":\"h\",\"showlegend\":true,\"x\":[179.78,155.79],\"x0\":\" \",\"xaxis\":\"x\",\"y\":[\"primebook\",\"primebook\"],\"y0\":\" \",\"yaxis\":\"y\",\"type\":\"box\"},{\"alignmentgroup\":\"True\",\"hovertemplate\":\"brand=%{y}\\u003cbr\\u003eprice=%{x}\\u003cextra\\u003e\\u003c\\u002fextra\\u003e\",\"legendgroup\":\"iball\",\"marker\":{\"color\":\"#ab63fa\"},\"name\":\"iball\",\"notched\":false,\"offsetgroup\":\"iball\",\"orientation\":\"h\",\"showlegend\":true,\"x\":[117.54],\"x0\":\" \",\"xaxis\":\"x\",\"y\":[\"iball\"],\"y0\":\" \",\"yaxis\":\"y\",\"type\":\"box\"},{\"alignmentgroup\":\"True\",\"hovertemplate\":\"brand=%{y}\\u003cbr\\u003eprice=%{x}\\u003cextra\\u003e\\u003c\\u002fextra\\u003e\",\"legendgroup\":\"zebronics\",\"marker\":{\"color\":\"#FFA15A\"},\"name\":\"zebronics\",\"notched\":false,\"offsetgroup\":\"zebronics\",\"orientation\":\"h\",\"showlegend\":true,\"x\":[407.66,395.66,635.53,359.68,479.62,395.66,611.54],\"x0\":\" \",\"xaxis\":\"x\",\"y\":[\"zebronics\",\"zebronics\",\"zebronics\",\"zebronics\",\"zebronics\",\"zebronics\",\"zebronics\"],\"y0\":\" \",\"yaxis\":\"y\",\"type\":\"box\"},{\"alignmentgroup\":\"True\",\"hovertemplate\":\"brand=%{y}\\u003cbr\\u003eprice=%{x}\\u003cextra\\u003e\\u003c\\u002fextra\\u003e\",\"legendgroup\":\"chuwi\",\"marker\":{\"color\":\"#19d3f3\"},\"name\":\"chuwi\",\"notched\":false,\"offsetgroup\":\"chuwi\",\"orientation\":\"h\",\"showlegend\":true,\"x\":[395.66,299.71,263.73,419.65],\"x0\":\" \",\"xaxis\":\"x\",\"y\":[\"chuwi\",\"chuwi\",\"chuwi\",\"chuwi\"],\"y0\":\" \",\"yaxis\":\"y\",\"type\":\"box\"},{\"alignmentgroup\":\"True\",\"hovertemplate\":\"brand=%{y}\\u003cbr\\u003eprice=%{x}\\u003cextra\\u003e\\u003c\\u002fextra\\u003e\",\"legendgroup\":\"gigabyte\",\"marker\":{\"color\":\"#FF6692\"},\"name\":\"gigabyte\",\"notched\":false,\"offsetgroup\":\"gigabyte\",\"orientation\":\"h\",\"showlegend\":true,\"x\":[863.4,1079.29],\"x0\":\" \",\"xaxis\":\"x\",\"y\":[\"gigabyte\",\"gigabyte\"],\"y0\":\" \",\"yaxis\":\"y\",\"type\":\"box\"},{\"alignmentgroup\":\"True\",\"hovertemplate\":\"brand=%{y}\\u003cbr\\u003eprice=%{x}\\u003cextra\\u003e\\u003c\\u002fextra\\u003e\",\"legendgroup\":\"jio\",\"marker\":{\"color\":\"#B6E880\"},\"name\":\"jio\",\"notched\":false,\"offsetgroup\":\"jio\",\"orientation\":\"h\",\"showlegend\":true,\"x\":[176.31],\"x0\":\" \",\"xaxis\":\"x\",\"y\":[\"jio\"],\"y0\":\" \",\"yaxis\":\"y\",\"type\":\"box\"},{\"alignmentgroup\":\"True\",\"hovertemplate\":\"brand=%{y}\\u003cbr\\u003eprice=%{x}\\u003cextra\\u003e\\u003c\\u002fextra\\u003e\",\"legendgroup\":\"honor\",\"marker\":{\"color\":\"#FF97FF\"},\"name\":\"honor\",\"notched\":false,\"offsetgroup\":\"honor\",\"orientation\":\"h\",\"showlegend\":true,\"x\":[659.52,527.59],\"x0\":\" \",\"xaxis\":\"x\",\"y\":[\"honor\",\"honor\"],\"y0\":\" \",\"yaxis\":\"y\",\"type\":\"box\"},{\"alignmentgroup\":\"True\",\"hovertemplate\":\"brand=%{y}\\u003cbr\\u003eprice=%{x}\\u003cextra\\u003e\\u003c\\u002fextra\\u003e\",\"legendgroup\":\"realme\",\"marker\":{\"color\":\"#FECB52\"},\"name\":\"realme\",\"notched\":false,\"offsetgroup\":\"realme\",\"orientation\":\"h\",\"showlegend\":true,\"x\":[443.64,515.6],\"x0\":\" \",\"xaxis\":\"x\",\"y\":[\"realme\",\"realme\"],\"y0\":\" \",\"yaxis\":\"y\",\"type\":\"box\"},{\"alignmentgroup\":\"True\",\"hovertemplate\":\"brand=%{y}\\u003cbr\\u003eprice=%{x}\\u003cextra\\u003e\\u003c\\u002fextra\\u003e\",\"legendgroup\":\"avita\",\"marker\":{\"color\":\"#636efa\"},\"name\":\"avita\",\"notched\":false,\"offsetgroup\":\"avita\",\"orientation\":\"h\",\"showlegend\":true,\"x\":[256.54,395.17,390.38,232.92,251.85],\"x0\":\" \",\"xaxis\":\"x\",\"y\":[\"avita\",\"avita\",\"avita\",\"avita\",\"avita\"],\"y0\":\" \",\"yaxis\":\"y\",\"type\":\"box\"},{\"alignmentgroup\":\"True\",\"hovertemplate\":\"brand=%{y}\\u003cbr\\u003eprice=%{x}\\u003cextra\\u003e\\u003c\\u002fextra\\u003e\",\"legendgroup\":\"microsoft\",\"marker\":{\"color\":\"#EF553B\"},\"name\":\"microsoft\",\"notched\":false,\"offsetgroup\":\"microsoft\",\"orientation\":\"h\",\"showlegend\":true,\"x\":[959.35,1169.24],\"x0\":\" \",\"xaxis\":\"x\",\"y\":[\"microsoft\",\"microsoft\"],\"y0\":\" \",\"yaxis\":\"y\",\"type\":\"box\"},{\"alignmentgroup\":\"True\",\"hovertemplate\":\"brand=%{y}\\u003cbr\\u003eprice=%{x}\\u003cextra\\u003e\\u003c\\u002fextra\\u003e\",\"legendgroup\":\"fujitsu\",\"marker\":{\"color\":\"#00cc96\"},\"name\":\"fujitsu\",\"notched\":false,\"offsetgroup\":\"fujitsu\",\"orientation\":\"h\",\"showlegend\":true,\"x\":[887.39,887.39,1319.15,1199.22,677.55],\"x0\":\" \",\"xaxis\":\"x\",\"y\":[\"fujitsu\",\"fujitsu\",\"fujitsu\",\"fujitsu\",\"fujitsu\"],\"y0\":\" \",\"yaxis\":\"y\",\"type\":\"box\"},{\"alignmentgroup\":\"True\",\"hovertemplate\":\"brand=%{y}\\u003cbr\\u003eprice=%{x}\\u003cextra\\u003e\\u003c\\u002fextra\\u003e\",\"legendgroup\":\"lg\",\"marker\":{\"color\":\"#ab63fa\"},\"name\":\"lg\",\"notched\":false,\"offsetgroup\":\"lg\",\"orientation\":\"h\",\"showlegend\":true,\"x\":[1187.33,939.07,1828.98,1414.01,1076.99,1810.99,1421.2],\"x0\":\" \",\"xaxis\":\"x\",\"y\":[\"lg\",\"lg\",\"lg\",\"lg\",\"lg\",\"lg\",\"lg\"],\"y0\":\" \",\"yaxis\":\"y\",\"type\":\"box\"},{\"alignmentgroup\":\"True\",\"hovertemplate\":\"brand=%{y}\\u003cbr\\u003eprice=%{x}\\u003cextra\\u003e\\u003c\\u002fextra\\u003e\",\"legendgroup\":\"walker\",\"marker\":{\"color\":\"#FFA15A\"},\"name\":\"walker\",\"notched\":false,\"offsetgroup\":\"walker\",\"orientation\":\"h\",\"showlegend\":true,\"x\":[191.77],\"x0\":\" \",\"xaxis\":\"x\",\"y\":[\"walker\"],\"y0\":\" \",\"yaxis\":\"y\",\"type\":\"box\"},{\"alignmentgroup\":\"True\",\"hovertemplate\":\"brand=%{y}\\u003cbr\\u003eprice=%{x}\\u003cextra\\u003e\\u003c\\u002fextra\\u003e\",\"legendgroup\":\"axl\",\"marker\":{\"color\":\"#19d3f3\"},\"name\":\"axl\",\"notched\":false,\"offsetgroup\":\"axl\",\"orientation\":\"h\",\"showlegend\":true,\"x\":[215.76,179.78],\"x0\":\" \",\"xaxis\":\"x\",\"y\":[\"axl\",\"axl\"],\"y0\":\" \",\"yaxis\":\"y\",\"type\":\"box\"}],                        {\"template\":{\"data\":{\"histogram2dcontour\":[{\"type\":\"histogram2dcontour\",\"colorbar\":{\"outlinewidth\":0,\"ticks\":\"\"},\"colorscale\":[[0.0,\"#0d0887\"],[0.1111111111111111,\"#46039f\"],[0.2222222222222222,\"#7201a8\"],[0.3333333333333333,\"#9c179e\"],[0.4444444444444444,\"#bd3786\"],[0.5555555555555556,\"#d8576b\"],[0.6666666666666666,\"#ed7953\"],[0.7777777777777778,\"#fb9f3a\"],[0.8888888888888888,\"#fdca26\"],[1.0,\"#f0f921\"]]}],\"choropleth\":[{\"type\":\"choropleth\",\"colorbar\":{\"outlinewidth\":0,\"ticks\":\"\"}}],\"histogram2d\":[{\"type\":\"histogram2d\",\"colorbar\":{\"outlinewidth\":0,\"ticks\":\"\"},\"colorscale\":[[0.0,\"#0d0887\"],[0.1111111111111111,\"#46039f\"],[0.2222222222222222,\"#7201a8\"],[0.3333333333333333,\"#9c179e\"],[0.4444444444444444,\"#bd3786\"],[0.5555555555555556,\"#d8576b\"],[0.6666666666666666,\"#ed7953\"],[0.7777777777777778,\"#fb9f3a\"],[0.8888888888888888,\"#fdca26\"],[1.0,\"#f0f921\"]]}],\"heatmap\":[{\"type\":\"heatmap\",\"colorbar\":{\"outlinewidth\":0,\"ticks\":\"\"},\"colorscale\":[[0.0,\"#0d0887\"],[0.1111111111111111,\"#46039f\"],[0.2222222222222222,\"#7201a8\"],[0.3333333333333333,\"#9c179e\"],[0.4444444444444444,\"#bd3786\"],[0.5555555555555556,\"#d8576b\"],[0.6666666666666666,\"#ed7953\"],[0.7777777777777778,\"#fb9f3a\"],[0.8888888888888888,\"#fdca26\"],[1.0,\"#f0f921\"]]}],\"heatmapgl\":[{\"type\":\"heatmapgl\",\"colorbar\":{\"outlinewidth\":0,\"ticks\":\"\"},\"colorscale\":[[0.0,\"#0d0887\"],[0.1111111111111111,\"#46039f\"],[0.2222222222222222,\"#7201a8\"],[0.3333333333333333,\"#9c179e\"],[0.4444444444444444,\"#bd3786\"],[0.5555555555555556,\"#d8576b\"],[0.6666666666666666,\"#ed7953\"],[0.7777777777777778,\"#fb9f3a\"],[0.8888888888888888,\"#fdca26\"],[1.0,\"#f0f921\"]]}],\"contourcarpet\":[{\"type\":\"contourcarpet\",\"colorbar\":{\"outlinewidth\":0,\"ticks\":\"\"}}],\"contour\":[{\"type\":\"contour\",\"colorbar\":{\"outlinewidth\":0,\"ticks\":\"\"},\"colorscale\":[[0.0,\"#0d0887\"],[0.1111111111111111,\"#46039f\"],[0.2222222222222222,\"#7201a8\"],[0.3333333333333333,\"#9c179e\"],[0.4444444444444444,\"#bd3786\"],[0.5555555555555556,\"#d8576b\"],[0.6666666666666666,\"#ed7953\"],[0.7777777777777778,\"#fb9f3a\"],[0.8888888888888888,\"#fdca26\"],[1.0,\"#f0f921\"]]}],\"surface\":[{\"type\":\"surface\",\"colorbar\":{\"outlinewidth\":0,\"ticks\":\"\"},\"colorscale\":[[0.0,\"#0d0887\"],[0.1111111111111111,\"#46039f\"],[0.2222222222222222,\"#7201a8\"],[0.3333333333333333,\"#9c179e\"],[0.4444444444444444,\"#bd3786\"],[0.5555555555555556,\"#d8576b\"],[0.6666666666666666,\"#ed7953\"],[0.7777777777777778,\"#fb9f3a\"],[0.8888888888888888,\"#fdca26\"],[1.0,\"#f0f921\"]]}],\"mesh3d\":[{\"type\":\"mesh3d\",\"colorbar\":{\"outlinewidth\":0,\"ticks\":\"\"}}],\"scatter\":[{\"fillpattern\":{\"fillmode\":\"overlay\",\"size\":10,\"solidity\":0.2},\"type\":\"scatter\"}],\"parcoords\":[{\"type\":\"parcoords\",\"line\":{\"colorbar\":{\"outlinewidth\":0,\"ticks\":\"\"}}}],\"scatterpolargl\":[{\"type\":\"scatterpolargl\",\"marker\":{\"colorbar\":{\"outlinewidth\":0,\"ticks\":\"\"}}}],\"bar\":[{\"error_x\":{\"color\":\"#2a3f5f\"},\"error_y\":{\"color\":\"#2a3f5f\"},\"marker\":{\"line\":{\"color\":\"#E5ECF6\",\"width\":0.5},\"pattern\":{\"fillmode\":\"overlay\",\"size\":10,\"solidity\":0.2}},\"type\":\"bar\"}],\"scattergeo\":[{\"type\":\"scattergeo\",\"marker\":{\"colorbar\":{\"outlinewidth\":0,\"ticks\":\"\"}}}],\"scatterpolar\":[{\"type\":\"scatterpolar\",\"marker\":{\"colorbar\":{\"outlinewidth\":0,\"ticks\":\"\"}}}],\"histogram\":[{\"marker\":{\"pattern\":{\"fillmode\":\"overlay\",\"size\":10,\"solidity\":0.2}},\"type\":\"histogram\"}],\"scattergl\":[{\"type\":\"scattergl\",\"marker\":{\"colorbar\":{\"outlinewidth\":0,\"ticks\":\"\"}}}],\"scatter3d\":[{\"type\":\"scatter3d\",\"line\":{\"colorbar\":{\"outlinewidth\":0,\"ticks\":\"\"}},\"marker\":{\"colorbar\":{\"outlinewidth\":0,\"ticks\":\"\"}}}],\"scattermapbox\":[{\"type\":\"scattermapbox\",\"marker\":{\"colorbar\":{\"outlinewidth\":0,\"ticks\":\"\"}}}],\"scatterternary\":[{\"type\":\"scatterternary\",\"marker\":{\"colorbar\":{\"outlinewidth\":0,\"ticks\":\"\"}}}],\"scattercarpet\":[{\"type\":\"scattercarpet\",\"marker\":{\"colorbar\":{\"outlinewidth\":0,\"ticks\":\"\"}}}],\"carpet\":[{\"aaxis\":{\"endlinecolor\":\"#2a3f5f\",\"gridcolor\":\"white\",\"linecolor\":\"white\",\"minorgridcolor\":\"white\",\"startlinecolor\":\"#2a3f5f\"},\"baxis\":{\"endlinecolor\":\"#2a3f5f\",\"gridcolor\":\"white\",\"linecolor\":\"white\",\"minorgridcolor\":\"white\",\"startlinecolor\":\"#2a3f5f\"},\"type\":\"carpet\"}],\"table\":[{\"cells\":{\"fill\":{\"color\":\"#EBF0F8\"},\"line\":{\"color\":\"white\"}},\"header\":{\"fill\":{\"color\":\"#C8D4E3\"},\"line\":{\"color\":\"white\"}},\"type\":\"table\"}],\"barpolar\":[{\"marker\":{\"line\":{\"color\":\"#E5ECF6\",\"width\":0.5},\"pattern\":{\"fillmode\":\"overlay\",\"size\":10,\"solidity\":0.2}},\"type\":\"barpolar\"}],\"pie\":[{\"automargin\":true,\"type\":\"pie\"}]},\"layout\":{\"autotypenumbers\":\"strict\",\"colorway\":[\"#636efa\",\"#EF553B\",\"#00cc96\",\"#ab63fa\",\"#FFA15A\",\"#19d3f3\",\"#FF6692\",\"#B6E880\",\"#FF97FF\",\"#FECB52\"],\"font\":{\"color\":\"#2a3f5f\"},\"hovermode\":\"closest\",\"hoverlabel\":{\"align\":\"left\"},\"paper_bgcolor\":\"white\",\"plot_bgcolor\":\"#E5ECF6\",\"polar\":{\"bgcolor\":\"#E5ECF6\",\"angularaxis\":{\"gridcolor\":\"white\",\"linecolor\":\"white\",\"ticks\":\"\"},\"radialaxis\":{\"gridcolor\":\"white\",\"linecolor\":\"white\",\"ticks\":\"\"}},\"ternary\":{\"bgcolor\":\"#E5ECF6\",\"aaxis\":{\"gridcolor\":\"white\",\"linecolor\":\"white\",\"ticks\":\"\"},\"baxis\":{\"gridcolor\":\"white\",\"linecolor\":\"white\",\"ticks\":\"\"},\"caxis\":{\"gridcolor\":\"white\",\"linecolor\":\"white\",\"ticks\":\"\"}},\"coloraxis\":{\"colorbar\":{\"outlinewidth\":0,\"ticks\":\"\"}},\"colorscale\":{\"sequential\":[[0.0,\"#0d0887\"],[0.1111111111111111,\"#46039f\"],[0.2222222222222222,\"#7201a8\"],[0.3333333333333333,\"#9c179e\"],[0.4444444444444444,\"#bd3786\"],[0.5555555555555556,\"#d8576b\"],[0.6666666666666666,\"#ed7953\"],[0.7777777777777778,\"#fb9f3a\"],[0.8888888888888888,\"#fdca26\"],[1.0,\"#f0f921\"]],\"sequentialminus\":[[0.0,\"#0d0887\"],[0.1111111111111111,\"#46039f\"],[0.2222222222222222,\"#7201a8\"],[0.3333333333333333,\"#9c179e\"],[0.4444444444444444,\"#bd3786\"],[0.5555555555555556,\"#d8576b\"],[0.6666666666666666,\"#ed7953\"],[0.7777777777777778,\"#fb9f3a\"],[0.8888888888888888,\"#fdca26\"],[1.0,\"#f0f921\"]],\"diverging\":[[0,\"#8e0152\"],[0.1,\"#c51b7d\"],[0.2,\"#de77ae\"],[0.3,\"#f1b6da\"],[0.4,\"#fde0ef\"],[0.5,\"#f7f7f7\"],[0.6,\"#e6f5d0\"],[0.7,\"#b8e186\"],[0.8,\"#7fbc41\"],[0.9,\"#4d9221\"],[1,\"#276419\"]]},\"xaxis\":{\"gridcolor\":\"white\",\"linecolor\":\"white\",\"ticks\":\"\",\"title\":{\"standoff\":15},\"zerolinecolor\":\"white\",\"automargin\":true,\"zerolinewidth\":2},\"yaxis\":{\"gridcolor\":\"white\",\"linecolor\":\"white\",\"ticks\":\"\",\"title\":{\"standoff\":15},\"zerolinecolor\":\"white\",\"automargin\":true,\"zerolinewidth\":2},\"scene\":{\"xaxis\":{\"backgroundcolor\":\"#E5ECF6\",\"gridcolor\":\"white\",\"linecolor\":\"white\",\"showbackground\":true,\"ticks\":\"\",\"zerolinecolor\":\"white\",\"gridwidth\":2},\"yaxis\":{\"backgroundcolor\":\"#E5ECF6\",\"gridcolor\":\"white\",\"linecolor\":\"white\",\"showbackground\":true,\"ticks\":\"\",\"zerolinecolor\":\"white\",\"gridwidth\":2},\"zaxis\":{\"backgroundcolor\":\"#E5ECF6\",\"gridcolor\":\"white\",\"linecolor\":\"white\",\"showbackground\":true,\"ticks\":\"\",\"zerolinecolor\":\"white\",\"gridwidth\":2}},\"shapedefaults\":{\"line\":{\"color\":\"#2a3f5f\"}},\"annotationdefaults\":{\"arrowcolor\":\"#2a3f5f\",\"arrowhead\":0,\"arrowwidth\":1},\"geo\":{\"bgcolor\":\"white\",\"landcolor\":\"#E5ECF6\",\"subunitcolor\":\"white\",\"showland\":true,\"showlakes\":true,\"lakecolor\":\"white\"},\"title\":{\"x\":0.05},\"mapbox\":{\"style\":\"light\"}}},\"xaxis\":{\"anchor\":\"y\",\"domain\":[0.0,1.0],\"title\":{\"text\":\"price\"}},\"yaxis\":{\"anchor\":\"x\",\"domain\":[0.0,1.0],\"title\":{\"text\":\"brand\"},\"categoryorder\":\"array\",\"categoryarray\":[\"axl\",\"walker\",\"lg\",\"fujitsu\",\"microsoft\",\"avita\",\"realme\",\"honor\",\"jio\",\"gigabyte\",\"chuwi\",\"zebronics\",\"iball\",\"primebook\",\"ultimus\",\"wings\",\"msi\",\"samsung\",\"dell\",\"asus\",\"infinix\",\"apple\",\"lenovo\",\"acer\",\"hp\",\"tecno\"]},\"legend\":{\"title\":{\"text\":\"brand\"},\"tracegroupgap\":0},\"margin\":{\"t\":60},\"boxmode\":\"overlay\"},                        {\"responsive\": true}                    ).then(function(){\n",
       "                            \n",
       "var gd = document.getElementById('cfc3e8e3-7640-41d6-92b8-91d7a6f33d92');\n",
       "var x = new MutationObserver(function (mutations, observer) {{\n",
       "        var display = window.getComputedStyle(gd).display;\n",
       "        if (!display || display === 'none') {{\n",
       "            console.log([gd, 'removed!']);\n",
       "            Plotly.purge(gd);\n",
       "            observer.disconnect();\n",
       "        }}\n",
       "}});\n",
       "\n",
       "// Listen for the removal of the full notebook cells\n",
       "var notebookContainer = gd.closest('#notebook-container');\n",
       "if (notebookContainer) {{\n",
       "    x.observe(notebookContainer, {childList: true});\n",
       "}}\n",
       "\n",
       "// Listen for the clearing of the current output cell\n",
       "var outputEl = gd.closest('.output');\n",
       "if (outputEl) {{\n",
       "    x.observe(outputEl, {childList: true});\n",
       "}}\n",
       "\n",
       "                        })                };                });            </script>        </div>"
      ]
     },
     "metadata": {},
     "output_type": "display_data"
    }
   ],
   "source": [
    "# Plot de distribuição (Box Plot) por Brand e Price\n",
    "px.box(df_laptops, x='price', y='brand', color='brand', orientation='h')"
   ]
  },
  {
   "cell_type": "code",
   "execution_count": 28,
   "id": "6cbdb5a7",
   "metadata": {},
   "outputs": [
    {
     "data": {
      "application/vnd.plotly.v1+json": {
       "config": {
        "plotlyServerURL": "https://plot.ly"
       },
       "data": [
        {
         "alignmentgroup": "True",
         "hovertemplate": "brand=%{y}<br>rating=%{x}<extra></extra>",
         "legendgroup": "tecno",
         "marker": {
          "color": "#636efa"
         },
         "name": "tecno",
         "notched": false,
         "offsetgroup": "tecno",
         "orientation": "h",
         "showlegend": true,
         "type": "box",
         "x": [
          63,
          67
         ],
         "x0": " ",
         "xaxis": "x",
         "y": [
          "tecno",
          "tecno"
         ],
         "y0": " ",
         "yaxis": "y"
        },
        {
         "alignmentgroup": "True",
         "hovertemplate": "brand=%{y}<br>rating=%{x}<extra></extra>",
         "legendgroup": "hp",
         "marker": {
          "color": "#EF553B"
         },
         "name": "hp",
         "notched": false,
         "offsetgroup": "hp",
         "orientation": "h",
         "showlegend": true,
         "type": "box",
         "x": [
          73,
          60,
          85,
          71,
          49,
          77,
          66,
          62,
          71,
          71,
          80,
          71,
          76,
          70,
          63,
          80,
          72,
          65,
          70,
          70,
          70,
          54,
          72,
          70,
          67,
          57,
          62,
          62,
          58,
          54,
          52,
          60,
          60,
          82,
          76,
          64,
          58,
          76,
          59,
          67,
          66,
          49,
          56,
          76,
          63,
          76,
          63,
          75,
          85,
          70,
          63,
          66,
          65,
          65,
          59,
          57,
          69,
          54,
          67,
          68,
          69,
          67,
          73,
          62,
          71,
          64,
          39,
          71,
          54,
          58,
          62,
          52,
          64,
          56,
          64,
          51,
          58,
          62,
          52,
          70,
          78,
          69,
          57,
          77,
          76,
          72,
          60,
          88,
          62,
          70,
          85,
          88,
          79,
          78,
          57,
          47,
          70,
          64,
          75,
          67,
          70,
          57,
          59,
          51,
          58,
          62,
          78,
          63,
          51,
          70,
          71,
          72,
          71,
          86,
          75,
          67,
          67,
          72,
          70,
          67,
          60,
          77,
          73,
          77,
          44,
          56,
          57,
          44,
          69,
          69,
          46,
          67,
          80,
          38,
          52,
          73,
          66,
          66,
          66,
          70,
          66,
          72,
          57,
          60,
          71,
          69,
          71,
          69,
          58,
          53,
          60,
          70,
          58,
          62,
          63,
          72,
          66,
          71,
          49,
          50,
          67,
          63,
          65,
          67,
          47,
          66,
          50,
          64,
          66,
          71,
          65,
          57,
          59,
          58,
          57,
          75,
          66,
          57,
          54,
          54,
          51,
          51,
          54,
          67,
          56,
          67,
          71,
          60,
          75,
          67,
          56,
          77,
          75,
          64,
          79,
          72,
          58,
          59,
          52,
          43,
          37,
          59,
          47,
          73,
          37
         ],
         "x0": " ",
         "xaxis": "x",
         "y": [
          "hp",
          "hp",
          "hp",
          "hp",
          "hp",
          "hp",
          "hp",
          "hp",
          "hp",
          "hp",
          "hp",
          "hp",
          "hp",
          "hp",
          "hp",
          "hp",
          "hp",
          "hp",
          "hp",
          "hp",
          "hp",
          "hp",
          "hp",
          "hp",
          "hp",
          "hp",
          "hp",
          "hp",
          "hp",
          "hp",
          "hp",
          "hp",
          "hp",
          "hp",
          "hp",
          "hp",
          "hp",
          "hp",
          "hp",
          "hp",
          "hp",
          "hp",
          "hp",
          "hp",
          "hp",
          "hp",
          "hp",
          "hp",
          "hp",
          "hp",
          "hp",
          "hp",
          "hp",
          "hp",
          "hp",
          "hp",
          "hp",
          "hp",
          "hp",
          "hp",
          "hp",
          "hp",
          "hp",
          "hp",
          "hp",
          "hp",
          "hp",
          "hp",
          "hp",
          "hp",
          "hp",
          "hp",
          "hp",
          "hp",
          "hp",
          "hp",
          "hp",
          "hp",
          "hp",
          "hp",
          "hp",
          "hp",
          "hp",
          "hp",
          "hp",
          "hp",
          "hp",
          "hp",
          "hp",
          "hp",
          "hp",
          "hp",
          "hp",
          "hp",
          "hp",
          "hp",
          "hp",
          "hp",
          "hp",
          "hp",
          "hp",
          "hp",
          "hp",
          "hp",
          "hp",
          "hp",
          "hp",
          "hp",
          "hp",
          "hp",
          "hp",
          "hp",
          "hp",
          "hp",
          "hp",
          "hp",
          "hp",
          "hp",
          "hp",
          "hp",
          "hp",
          "hp",
          "hp",
          "hp",
          "hp",
          "hp",
          "hp",
          "hp",
          "hp",
          "hp",
          "hp",
          "hp",
          "hp",
          "hp",
          "hp",
          "hp",
          "hp",
          "hp",
          "hp",
          "hp",
          "hp",
          "hp",
          "hp",
          "hp",
          "hp",
          "hp",
          "hp",
          "hp",
          "hp",
          "hp",
          "hp",
          "hp",
          "hp",
          "hp",
          "hp",
          "hp",
          "hp",
          "hp",
          "hp",
          "hp",
          "hp",
          "hp",
          "hp",
          "hp",
          "hp",
          "hp",
          "hp",
          "hp",
          "hp",
          "hp",
          "hp",
          "hp",
          "hp",
          "hp",
          "hp",
          "hp",
          "hp",
          "hp",
          "hp",
          "hp",
          "hp",
          "hp",
          "hp",
          "hp",
          "hp",
          "hp",
          "hp",
          "hp",
          "hp",
          "hp",
          "hp",
          "hp",
          "hp",
          "hp",
          "hp",
          "hp",
          "hp",
          "hp",
          "hp",
          "hp",
          "hp",
          "hp",
          "hp",
          "hp",
          "hp"
         ],
         "y0": " ",
         "yaxis": "y"
        },
        {
         "alignmentgroup": "True",
         "hovertemplate": "brand=%{y}<br>rating=%{x}<extra></extra>",
         "legendgroup": "acer",
         "marker": {
          "color": "#00cc96"
         },
         "name": "acer",
         "notched": false,
         "offsetgroup": "acer",
         "orientation": "h",
         "showlegend": true,
         "type": "box",
         "x": [
          62,
          63,
          64,
          60,
          58,
          71,
          60,
          62,
          72,
          67,
          75,
          70,
          49,
          64,
          54,
          64,
          78,
          57,
          59,
          70,
          67,
          75,
          49,
          67,
          47,
          64,
          64,
          64,
          62,
          63,
          63,
          56,
          62,
          38,
          65,
          62,
          67,
          65,
          38,
          58,
          62,
          50,
          72,
          70,
          63,
          60,
          45,
          79,
          65,
          58,
          80,
          59,
          64,
          70,
          59,
          50,
          57,
          50,
          60,
          69,
          56,
          53,
          51,
          50,
          59,
          52,
          50,
          70,
          62,
          78,
          58,
          47,
          65,
          66,
          64,
          65,
          73,
          74,
          72,
          59,
          50,
          44,
          71,
          77,
          52,
          71,
          54,
          71,
          67
         ],
         "x0": " ",
         "xaxis": "x",
         "y": [
          "acer",
          "acer",
          "acer",
          "acer",
          "acer",
          "acer",
          "acer",
          "acer",
          "acer",
          "acer",
          "acer",
          "acer",
          "acer",
          "acer",
          "acer",
          "acer",
          "acer",
          "acer",
          "acer",
          "acer",
          "acer",
          "acer",
          "acer",
          "acer",
          "acer",
          "acer",
          "acer",
          "acer",
          "acer",
          "acer",
          "acer",
          "acer",
          "acer",
          "acer",
          "acer",
          "acer",
          "acer",
          "acer",
          "acer",
          "acer",
          "acer",
          "acer",
          "acer",
          "acer",
          "acer",
          "acer",
          "acer",
          "acer",
          "acer",
          "acer",
          "acer",
          "acer",
          "acer",
          "acer",
          "acer",
          "acer",
          "acer",
          "acer",
          "acer",
          "acer",
          "acer",
          "acer",
          "acer",
          "acer",
          "acer",
          "acer",
          "acer",
          "acer",
          "acer",
          "acer",
          "acer",
          "acer",
          "acer",
          "acer",
          "acer",
          "acer",
          "acer",
          "acer",
          "acer",
          "acer",
          "acer",
          "acer",
          "acer",
          "acer",
          "acer",
          "acer",
          "acer",
          "acer",
          "acer"
         ],
         "y0": " ",
         "yaxis": "y"
        },
        {
         "alignmentgroup": "True",
         "hovertemplate": "brand=%{y}<br>rating=%{x}<extra></extra>",
         "legendgroup": "lenovo",
         "marker": {
          "color": "#ab63fa"
         },
         "name": "lenovo",
         "notched": false,
         "offsetgroup": "lenovo",
         "orientation": "h",
         "showlegend": true,
         "type": "box",
         "x": [
          62,
          66,
          59,
          59,
          71,
          69,
          51,
          66,
          47,
          70,
          63,
          59,
          80,
          70,
          66,
          64,
          67,
          60,
          64,
          77,
          83,
          60,
          50,
          64,
          62,
          69,
          63,
          67,
          53,
          53,
          53,
          78,
          74,
          49,
          64,
          57,
          58,
          62,
          50,
          58,
          62,
          66,
          57,
          60,
          63,
          51,
          64,
          67,
          66,
          75,
          65,
          57,
          86,
          70,
          69,
          54,
          53,
          57,
          56,
          69,
          67,
          75,
          63,
          58,
          57,
          63,
          65,
          69,
          64,
          56,
          58,
          84,
          85,
          78,
          58,
          77,
          57,
          65,
          57,
          57,
          67,
          58,
          60,
          62,
          51,
          46,
          51,
          63,
          64,
          43,
          69,
          58,
          59,
          65,
          71,
          63,
          89,
          83,
          79,
          67,
          66,
          56,
          65,
          83,
          69,
          52,
          58,
          60,
          62,
          58,
          58,
          53,
          63,
          58,
          59,
          69,
          58,
          60,
          56,
          65,
          64,
          60,
          60,
          60,
          62,
          65,
          64,
          62,
          60,
          59,
          64,
          58,
          60,
          72,
          71,
          73,
          73,
          75,
          73,
          63,
          69,
          72,
          57,
          69,
          38,
          62,
          65,
          59,
          50,
          70,
          62,
          58,
          69,
          64,
          67,
          66,
          67,
          64,
          67,
          59,
          70,
          57,
          62,
          62,
          57,
          63,
          75,
          62,
          57,
          57,
          59,
          54,
          64,
          53,
          54,
          56,
          59,
          57,
          66,
          64,
          50,
          67,
          58,
          67,
          71,
          78,
          47,
          43,
          45,
          58,
          56,
          56,
          60,
          66,
          55,
          52,
          75,
          54,
          50,
          48,
          64
         ],
         "x0": " ",
         "xaxis": "x",
         "y": [
          "lenovo",
          "lenovo",
          "lenovo",
          "lenovo",
          "lenovo",
          "lenovo",
          "lenovo",
          "lenovo",
          "lenovo",
          "lenovo",
          "lenovo",
          "lenovo",
          "lenovo",
          "lenovo",
          "lenovo",
          "lenovo",
          "lenovo",
          "lenovo",
          "lenovo",
          "lenovo",
          "lenovo",
          "lenovo",
          "lenovo",
          "lenovo",
          "lenovo",
          "lenovo",
          "lenovo",
          "lenovo",
          "lenovo",
          "lenovo",
          "lenovo",
          "lenovo",
          "lenovo",
          "lenovo",
          "lenovo",
          "lenovo",
          "lenovo",
          "lenovo",
          "lenovo",
          "lenovo",
          "lenovo",
          "lenovo",
          "lenovo",
          "lenovo",
          "lenovo",
          "lenovo",
          "lenovo",
          "lenovo",
          "lenovo",
          "lenovo",
          "lenovo",
          "lenovo",
          "lenovo",
          "lenovo",
          "lenovo",
          "lenovo",
          "lenovo",
          "lenovo",
          "lenovo",
          "lenovo",
          "lenovo",
          "lenovo",
          "lenovo",
          "lenovo",
          "lenovo",
          "lenovo",
          "lenovo",
          "lenovo",
          "lenovo",
          "lenovo",
          "lenovo",
          "lenovo",
          "lenovo",
          "lenovo",
          "lenovo",
          "lenovo",
          "lenovo",
          "lenovo",
          "lenovo",
          "lenovo",
          "lenovo",
          "lenovo",
          "lenovo",
          "lenovo",
          "lenovo",
          "lenovo",
          "lenovo",
          "lenovo",
          "lenovo",
          "lenovo",
          "lenovo",
          "lenovo",
          "lenovo",
          "lenovo",
          "lenovo",
          "lenovo",
          "lenovo",
          "lenovo",
          "lenovo",
          "lenovo",
          "lenovo",
          "lenovo",
          "lenovo",
          "lenovo",
          "lenovo",
          "lenovo",
          "lenovo",
          "lenovo",
          "lenovo",
          "lenovo",
          "lenovo",
          "lenovo",
          "lenovo",
          "lenovo",
          "lenovo",
          "lenovo",
          "lenovo",
          "lenovo",
          "lenovo",
          "lenovo",
          "lenovo",
          "lenovo",
          "lenovo",
          "lenovo",
          "lenovo",
          "lenovo",
          "lenovo",
          "lenovo",
          "lenovo",
          "lenovo",
          "lenovo",
          "lenovo",
          "lenovo",
          "lenovo",
          "lenovo",
          "lenovo",
          "lenovo",
          "lenovo",
          "lenovo",
          "lenovo",
          "lenovo",
          "lenovo",
          "lenovo",
          "lenovo",
          "lenovo",
          "lenovo",
          "lenovo",
          "lenovo",
          "lenovo",
          "lenovo",
          "lenovo",
          "lenovo",
          "lenovo",
          "lenovo",
          "lenovo",
          "lenovo",
          "lenovo",
          "lenovo",
          "lenovo",
          "lenovo",
          "lenovo",
          "lenovo",
          "lenovo",
          "lenovo",
          "lenovo",
          "lenovo",
          "lenovo",
          "lenovo",
          "lenovo",
          "lenovo",
          "lenovo",
          "lenovo",
          "lenovo",
          "lenovo",
          "lenovo",
          "lenovo",
          "lenovo",
          "lenovo",
          "lenovo",
          "lenovo",
          "lenovo",
          "lenovo",
          "lenovo",
          "lenovo",
          "lenovo",
          "lenovo",
          "lenovo",
          "lenovo",
          "lenovo",
          "lenovo",
          "lenovo",
          "lenovo",
          "lenovo",
          "lenovo",
          "lenovo",
          "lenovo",
          "lenovo",
          "lenovo",
          "lenovo",
          "lenovo",
          "lenovo"
         ],
         "y0": " ",
         "yaxis": "y"
        },
        {
         "alignmentgroup": "True",
         "hovertemplate": "brand=%{y}<br>rating=%{x}<extra></extra>",
         "legendgroup": "apple",
         "marker": {
          "color": "#FFA15A"
         },
         "name": "apple",
         "notched": false,
         "offsetgroup": "apple",
         "orientation": "h",
         "showlegend": true,
         "type": "box",
         "x": [
          45,
          65,
          48,
          53,
          43,
          63,
          64,
          58,
          56,
          56,
          45,
          45,
          53,
          58,
          51
         ],
         "x0": " ",
         "xaxis": "x",
         "y": [
          "apple",
          "apple",
          "apple",
          "apple",
          "apple",
          "apple",
          "apple",
          "apple",
          "apple",
          "apple",
          "apple",
          "apple",
          "apple",
          "apple",
          "apple"
         ],
         "y0": " ",
         "yaxis": "y"
        },
        {
         "alignmentgroup": "True",
         "hovertemplate": "brand=%{y}<br>rating=%{x}<extra></extra>",
         "legendgroup": "infinix",
         "marker": {
          "color": "#19d3f3"
         },
         "name": "infinix",
         "notched": false,
         "offsetgroup": "infinix",
         "orientation": "h",
         "showlegend": true,
         "type": "box",
         "x": [
          56,
          71,
          54,
          50,
          53,
          60,
          63,
          56,
          57,
          57,
          52,
          57,
          58
         ],
         "x0": " ",
         "xaxis": "x",
         "y": [
          "infinix",
          "infinix",
          "infinix",
          "infinix",
          "infinix",
          "infinix",
          "infinix",
          "infinix",
          "infinix",
          "infinix",
          "infinix",
          "infinix",
          "infinix"
         ],
         "y0": " ",
         "yaxis": "y"
        },
        {
         "alignmentgroup": "True",
         "hovertemplate": "brand=%{y}<br>rating=%{x}<extra></extra>",
         "legendgroup": "asus",
         "marker": {
          "color": "#FF6692"
         },
         "name": "asus",
         "notched": false,
         "offsetgroup": "asus",
         "orientation": "h",
         "showlegend": true,
         "type": "box",
         "x": [
          70,
          71,
          76,
          57,
          57,
          65,
          72,
          77,
          83,
          75,
          67,
          64,
          78,
          72,
          62,
          64,
          57,
          63,
          71,
          70,
          70,
          66,
          75,
          72,
          72,
          64,
          88,
          79,
          60,
          65,
          56,
          70,
          62,
          71,
          69,
          35,
          71,
          65,
          76,
          77,
          76,
          70,
          66,
          60,
          59,
          64,
          58,
          80,
          77,
          79,
          78,
          64,
          67,
          64,
          70,
          65,
          71,
          59,
          65,
          60,
          65,
          50,
          73,
          85,
          37,
          44,
          67,
          58,
          65,
          69,
          45,
          63,
          70,
          38,
          66,
          51,
          38,
          73,
          58,
          62,
          70,
          71,
          43,
          67,
          59,
          60,
          64,
          63,
          73,
          64,
          72,
          37,
          41,
          37,
          57,
          37,
          72,
          65,
          66,
          70,
          57,
          62,
          56,
          69,
          63,
          76,
          59,
          57,
          72,
          66,
          72,
          54,
          64,
          45,
          57,
          72,
          75,
          70,
          82,
          72,
          71,
          65,
          60,
          75,
          64,
          60,
          72,
          83,
          71,
          59,
          69,
          64,
          66,
          53,
          45,
          58,
          63,
          64,
          54,
          71,
          73,
          89,
          84,
          75,
          83,
          73,
          77,
          89,
          76,
          80,
          67,
          73,
          82,
          66,
          72,
          75,
          66,
          76,
          66,
          70,
          84,
          71,
          56,
          45,
          56,
          78,
          60,
          59,
          73,
          73,
          70,
          75,
          59,
          64,
          52,
          48,
          59,
          63,
          56,
          62,
          60,
          57,
          56,
          71,
          64,
          64,
          70,
          62,
          60,
          53,
          58,
          51,
          74,
          62,
          67,
          59,
          67,
          89,
          58,
          59,
          53,
          72,
          83,
          68,
          68,
          65,
          64,
          68,
          59,
          68
         ],
         "x0": " ",
         "xaxis": "x",
         "y": [
          "asus",
          "asus",
          "asus",
          "asus",
          "asus",
          "asus",
          "asus",
          "asus",
          "asus",
          "asus",
          "asus",
          "asus",
          "asus",
          "asus",
          "asus",
          "asus",
          "asus",
          "asus",
          "asus",
          "asus",
          "asus",
          "asus",
          "asus",
          "asus",
          "asus",
          "asus",
          "asus",
          "asus",
          "asus",
          "asus",
          "asus",
          "asus",
          "asus",
          "asus",
          "asus",
          "asus",
          "asus",
          "asus",
          "asus",
          "asus",
          "asus",
          "asus",
          "asus",
          "asus",
          "asus",
          "asus",
          "asus",
          "asus",
          "asus",
          "asus",
          "asus",
          "asus",
          "asus",
          "asus",
          "asus",
          "asus",
          "asus",
          "asus",
          "asus",
          "asus",
          "asus",
          "asus",
          "asus",
          "asus",
          "asus",
          "asus",
          "asus",
          "asus",
          "asus",
          "asus",
          "asus",
          "asus",
          "asus",
          "asus",
          "asus",
          "asus",
          "asus",
          "asus",
          "asus",
          "asus",
          "asus",
          "asus",
          "asus",
          "asus",
          "asus",
          "asus",
          "asus",
          "asus",
          "asus",
          "asus",
          "asus",
          "asus",
          "asus",
          "asus",
          "asus",
          "asus",
          "asus",
          "asus",
          "asus",
          "asus",
          "asus",
          "asus",
          "asus",
          "asus",
          "asus",
          "asus",
          "asus",
          "asus",
          "asus",
          "asus",
          "asus",
          "asus",
          "asus",
          "asus",
          "asus",
          "asus",
          "asus",
          "asus",
          "asus",
          "asus",
          "asus",
          "asus",
          "asus",
          "asus",
          "asus",
          "asus",
          "asus",
          "asus",
          "asus",
          "asus",
          "asus",
          "asus",
          "asus",
          "asus",
          "asus",
          "asus",
          "asus",
          "asus",
          "asus",
          "asus",
          "asus",
          "asus",
          "asus",
          "asus",
          "asus",
          "asus",
          "asus",
          "asus",
          "asus",
          "asus",
          "asus",
          "asus",
          "asus",
          "asus",
          "asus",
          "asus",
          "asus",
          "asus",
          "asus",
          "asus",
          "asus",
          "asus",
          "asus",
          "asus",
          "asus",
          "asus",
          "asus",
          "asus",
          "asus",
          "asus",
          "asus",
          "asus",
          "asus",
          "asus",
          "asus",
          "asus",
          "asus",
          "asus",
          "asus",
          "asus",
          "asus",
          "asus",
          "asus",
          "asus",
          "asus",
          "asus",
          "asus",
          "asus",
          "asus",
          "asus",
          "asus",
          "asus",
          "asus",
          "asus",
          "asus",
          "asus",
          "asus",
          "asus",
          "asus",
          "asus",
          "asus",
          "asus",
          "asus",
          "asus",
          "asus",
          "asus",
          "asus",
          "asus",
          "asus",
          "asus"
         ],
         "y0": " ",
         "yaxis": "y"
        },
        {
         "alignmentgroup": "True",
         "hovertemplate": "brand=%{y}<br>rating=%{x}<extra></extra>",
         "legendgroup": "dell",
         "marker": {
          "color": "#B6E880"
         },
         "name": "dell",
         "notched": false,
         "offsetgroup": "dell",
         "orientation": "h",
         "showlegend": true,
         "type": "box",
         "x": [
          60,
          66,
          71,
          66,
          66,
          70,
          60,
          72,
          74,
          78,
          59,
          53,
          73,
          63,
          62,
          68,
          62,
          56,
          67,
          80,
          53,
          58,
          49,
          59,
          64,
          75,
          58,
          57,
          53,
          53,
          57,
          57,
          56,
          57,
          56,
          57,
          62,
          53,
          58,
          57,
          78,
          56,
          58,
          63,
          58,
          62,
          54,
          59,
          57,
          60,
          63,
          58,
          60,
          85,
          63,
          65,
          83,
          65,
          85,
          80,
          83,
          89,
          60,
          63,
          60,
          56,
          53,
          56,
          67,
          58,
          52,
          60,
          60,
          70,
          88,
          82,
          54,
          72,
          71,
          56,
          78,
          82,
          59,
          58,
          57,
          56,
          52,
          57,
          56,
          76,
          52,
          79,
          73,
          75,
          69,
          78,
          83,
          82,
          83,
          63,
          63,
          59,
          62,
          59,
          68,
          72
         ],
         "x0": " ",
         "xaxis": "x",
         "y": [
          "dell",
          "dell",
          "dell",
          "dell",
          "dell",
          "dell",
          "dell",
          "dell",
          "dell",
          "dell",
          "dell",
          "dell",
          "dell",
          "dell",
          "dell",
          "dell",
          "dell",
          "dell",
          "dell",
          "dell",
          "dell",
          "dell",
          "dell",
          "dell",
          "dell",
          "dell",
          "dell",
          "dell",
          "dell",
          "dell",
          "dell",
          "dell",
          "dell",
          "dell",
          "dell",
          "dell",
          "dell",
          "dell",
          "dell",
          "dell",
          "dell",
          "dell",
          "dell",
          "dell",
          "dell",
          "dell",
          "dell",
          "dell",
          "dell",
          "dell",
          "dell",
          "dell",
          "dell",
          "dell",
          "dell",
          "dell",
          "dell",
          "dell",
          "dell",
          "dell",
          "dell",
          "dell",
          "dell",
          "dell",
          "dell",
          "dell",
          "dell",
          "dell",
          "dell",
          "dell",
          "dell",
          "dell",
          "dell",
          "dell",
          "dell",
          "dell",
          "dell",
          "dell",
          "dell",
          "dell",
          "dell",
          "dell",
          "dell",
          "dell",
          "dell",
          "dell",
          "dell",
          "dell",
          "dell",
          "dell",
          "dell",
          "dell",
          "dell",
          "dell",
          "dell",
          "dell",
          "dell",
          "dell",
          "dell",
          "dell",
          "dell",
          "dell",
          "dell",
          "dell",
          "dell",
          "dell"
         ],
         "y0": " ",
         "yaxis": "y"
        },
        {
         "alignmentgroup": "True",
         "hovertemplate": "brand=%{y}<br>rating=%{x}<extra></extra>",
         "legendgroup": "samsung",
         "marker": {
          "color": "#FF97FF"
         },
         "name": "samsung",
         "notched": false,
         "offsetgroup": "samsung",
         "orientation": "h",
         "showlegend": true,
         "type": "box",
         "x": [
          68,
          59,
          62,
          56,
          60,
          59,
          68
         ],
         "x0": " ",
         "xaxis": "x",
         "y": [
          "samsung",
          "samsung",
          "samsung",
          "samsung",
          "samsung",
          "samsung",
          "samsung"
         ],
         "y0": " ",
         "yaxis": "y"
        },
        {
         "alignmentgroup": "True",
         "hovertemplate": "brand=%{y}<br>rating=%{x}<extra></extra>",
         "legendgroup": "msi",
         "marker": {
          "color": "#FECB52"
         },
         "name": "msi",
         "notched": false,
         "offsetgroup": "msi",
         "orientation": "h",
         "showlegend": true,
         "type": "box",
         "x": [
          71,
          76,
          58,
          70,
          65,
          75,
          65,
          63,
          60,
          73,
          65,
          73,
          62,
          65,
          72,
          62,
          73,
          69,
          62,
          79,
          78,
          69,
          80,
          89,
          70,
          83,
          71,
          76,
          76,
          77,
          79,
          76,
          77,
          69,
          71,
          70,
          83,
          73,
          89,
          63,
          58,
          77,
          71,
          65,
          67,
          78,
          67,
          65,
          78,
          69,
          77,
          66,
          77,
          75,
          63,
          70,
          65,
          75,
          75,
          85,
          69,
          71,
          73,
          86,
          71,
          77,
          65,
          70,
          89,
          65,
          71,
          84,
          87,
          80,
          70,
          72,
          53,
          54,
          60,
          58,
          59,
          72,
          74,
          67,
          59,
          61,
          58,
          56,
          76,
          73
         ],
         "x0": " ",
         "xaxis": "x",
         "y": [
          "msi",
          "msi",
          "msi",
          "msi",
          "msi",
          "msi",
          "msi",
          "msi",
          "msi",
          "msi",
          "msi",
          "msi",
          "msi",
          "msi",
          "msi",
          "msi",
          "msi",
          "msi",
          "msi",
          "msi",
          "msi",
          "msi",
          "msi",
          "msi",
          "msi",
          "msi",
          "msi",
          "msi",
          "msi",
          "msi",
          "msi",
          "msi",
          "msi",
          "msi",
          "msi",
          "msi",
          "msi",
          "msi",
          "msi",
          "msi",
          "msi",
          "msi",
          "msi",
          "msi",
          "msi",
          "msi",
          "msi",
          "msi",
          "msi",
          "msi",
          "msi",
          "msi",
          "msi",
          "msi",
          "msi",
          "msi",
          "msi",
          "msi",
          "msi",
          "msi",
          "msi",
          "msi",
          "msi",
          "msi",
          "msi",
          "msi",
          "msi",
          "msi",
          "msi",
          "msi",
          "msi",
          "msi",
          "msi",
          "msi",
          "msi",
          "msi",
          "msi",
          "msi",
          "msi",
          "msi",
          "msi",
          "msi",
          "msi",
          "msi",
          "msi",
          "msi",
          "msi",
          "msi",
          "msi",
          "msi"
         ],
         "y0": " ",
         "yaxis": "y"
        },
        {
         "alignmentgroup": "True",
         "hovertemplate": "brand=%{y}<br>rating=%{x}<extra></extra>",
         "legendgroup": "wings",
         "marker": {
          "color": "#636efa"
         },
         "name": "wings",
         "notched": false,
         "offsetgroup": "wings",
         "orientation": "h",
         "showlegend": true,
         "type": "box",
         "x": [
          56,
          58,
          49,
          51
         ],
         "x0": " ",
         "xaxis": "x",
         "y": [
          "wings",
          "wings",
          "wings",
          "wings"
         ],
         "y0": " ",
         "yaxis": "y"
        },
        {
         "alignmentgroup": "True",
         "hovertemplate": "brand=%{y}<br>rating=%{x}<extra></extra>",
         "legendgroup": "ultimus",
         "marker": {
          "color": "#EF553B"
         },
         "name": "ultimus",
         "notched": false,
         "offsetgroup": "ultimus",
         "orientation": "h",
         "showlegend": true,
         "type": "box",
         "x": [
          54,
          46,
          41,
          45,
          47,
          52
         ],
         "x0": " ",
         "xaxis": "x",
         "y": [
          "ultimus",
          "ultimus",
          "ultimus",
          "ultimus",
          "ultimus",
          "ultimus"
         ],
         "y0": " ",
         "yaxis": "y"
        },
        {
         "alignmentgroup": "True",
         "hovertemplate": "brand=%{y}<br>rating=%{x}<extra></extra>",
         "legendgroup": "primebook",
         "marker": {
          "color": "#00cc96"
         },
         "name": "primebook",
         "notched": false,
         "offsetgroup": "primebook",
         "orientation": "h",
         "showlegend": true,
         "type": "box",
         "x": [
          26,
          31
         ],
         "x0": " ",
         "xaxis": "x",
         "y": [
          "primebook",
          "primebook"
         ],
         "y0": " ",
         "yaxis": "y"
        },
        {
         "alignmentgroup": "True",
         "hovertemplate": "brand=%{y}<br>rating=%{x}<extra></extra>",
         "legendgroup": "iball",
         "marker": {
          "color": "#ab63fa"
         },
         "name": "iball",
         "notched": false,
         "offsetgroup": "iball",
         "orientation": "h",
         "showlegend": true,
         "type": "box",
         "x": [
          41
         ],
         "x0": " ",
         "xaxis": "x",
         "y": [
          "iball"
         ],
         "y0": " ",
         "yaxis": "y"
        },
        {
         "alignmentgroup": "True",
         "hovertemplate": "brand=%{y}<br>rating=%{x}<extra></extra>",
         "legendgroup": "zebronics",
         "marker": {
          "color": "#FFA15A"
         },
         "name": "zebronics",
         "notched": false,
         "offsetgroup": "zebronics",
         "orientation": "h",
         "showlegend": true,
         "type": "box",
         "x": [
          65,
          63,
          72,
          56,
          66,
          60,
          72
         ],
         "x0": " ",
         "xaxis": "x",
         "y": [
          "zebronics",
          "zebronics",
          "zebronics",
          "zebronics",
          "zebronics",
          "zebronics",
          "zebronics"
         ],
         "y0": " ",
         "yaxis": "y"
        },
        {
         "alignmentgroup": "True",
         "hovertemplate": "brand=%{y}<br>rating=%{x}<extra></extra>",
         "legendgroup": "chuwi",
         "marker": {
          "color": "#19d3f3"
         },
         "name": "chuwi",
         "notched": false,
         "offsetgroup": "chuwi",
         "orientation": "h",
         "showlegend": true,
         "type": "box",
         "x": [
          50,
          50,
          50,
          54
         ],
         "x0": " ",
         "xaxis": "x",
         "y": [
          "chuwi",
          "chuwi",
          "chuwi",
          "chuwi"
         ],
         "y0": " ",
         "yaxis": "y"
        },
        {
         "alignmentgroup": "True",
         "hovertemplate": "brand=%{y}<br>rating=%{x}<extra></extra>",
         "legendgroup": "gigabyte",
         "marker": {
          "color": "#FF6692"
         },
         "name": "gigabyte",
         "notched": false,
         "offsetgroup": "gigabyte",
         "orientation": "h",
         "showlegend": true,
         "type": "box",
         "x": [
          67,
          73
         ],
         "x0": " ",
         "xaxis": "x",
         "y": [
          "gigabyte",
          "gigabyte"
         ],
         "y0": " ",
         "yaxis": "y"
        },
        {
         "alignmentgroup": "True",
         "hovertemplate": "brand=%{y}<br>rating=%{x}<extra></extra>",
         "legendgroup": "jio",
         "marker": {
          "color": "#B6E880"
         },
         "name": "jio",
         "notched": false,
         "offsetgroup": "jio",
         "orientation": "h",
         "showlegend": true,
         "type": "box",
         "x": [
          24
         ],
         "x0": " ",
         "xaxis": "x",
         "y": [
          "jio"
         ],
         "y0": " ",
         "yaxis": "y"
        },
        {
         "alignmentgroup": "True",
         "hovertemplate": "brand=%{y}<br>rating=%{x}<extra></extra>",
         "legendgroup": "honor",
         "marker": {
          "color": "#FF97FF"
         },
         "name": "honor",
         "notched": false,
         "offsetgroup": "honor",
         "orientation": "h",
         "showlegend": true,
         "type": "box",
         "x": [
          66,
          59
         ],
         "x0": " ",
         "xaxis": "x",
         "y": [
          "honor",
          "honor"
         ],
         "y0": " ",
         "yaxis": "y"
        },
        {
         "alignmentgroup": "True",
         "hovertemplate": "brand=%{y}<br>rating=%{x}<extra></extra>",
         "legendgroup": "realme",
         "marker": {
          "color": "#FECB52"
         },
         "name": "realme",
         "notched": false,
         "offsetgroup": "realme",
         "orientation": "h",
         "showlegend": true,
         "type": "box",
         "x": [
          52,
          62
         ],
         "x0": " ",
         "xaxis": "x",
         "y": [
          "realme",
          "realme"
         ],
         "y0": " ",
         "yaxis": "y"
        },
        {
         "alignmentgroup": "True",
         "hovertemplate": "brand=%{y}<br>rating=%{x}<extra></extra>",
         "legendgroup": "avita",
         "marker": {
          "color": "#636efa"
         },
         "name": "avita",
         "notched": false,
         "offsetgroup": "avita",
         "orientation": "h",
         "showlegend": true,
         "type": "box",
         "x": [
          56,
          50,
          51,
          41,
          43
         ],
         "x0": " ",
         "xaxis": "x",
         "y": [
          "avita",
          "avita",
          "avita",
          "avita",
          "avita"
         ],
         "y0": " ",
         "yaxis": "y"
        },
        {
         "alignmentgroup": "True",
         "hovertemplate": "brand=%{y}<br>rating=%{x}<extra></extra>",
         "legendgroup": "microsoft",
         "marker": {
          "color": "#EF553B"
         },
         "name": "microsoft",
         "notched": false,
         "offsetgroup": "microsoft",
         "orientation": "h",
         "showlegend": true,
         "type": "box",
         "x": [
          58,
          60
         ],
         "x0": " ",
         "xaxis": "x",
         "y": [
          "microsoft",
          "microsoft"
         ],
         "y0": " ",
         "yaxis": "y"
        },
        {
         "alignmentgroup": "True",
         "hovertemplate": "brand=%{y}<br>rating=%{x}<extra></extra>",
         "legendgroup": "fujitsu",
         "marker": {
          "color": "#00cc96"
         },
         "name": "fujitsu",
         "notched": false,
         "offsetgroup": "fujitsu",
         "orientation": "h",
         "showlegend": true,
         "type": "box",
         "x": [
          67,
          65,
          76,
          73,
          70
         ],
         "x0": " ",
         "xaxis": "x",
         "y": [
          "fujitsu",
          "fujitsu",
          "fujitsu",
          "fujitsu",
          "fujitsu"
         ],
         "y0": " ",
         "yaxis": "y"
        },
        {
         "alignmentgroup": "True",
         "hovertemplate": "brand=%{y}<br>rating=%{x}<extra></extra>",
         "legendgroup": "lg",
         "marker": {
          "color": "#ab63fa"
         },
         "name": "lg",
         "notched": false,
         "offsetgroup": "lg",
         "orientation": "h",
         "showlegend": true,
         "type": "box",
         "x": [
          67,
          72,
          78,
          69,
          75,
          72,
          72
         ],
         "x0": " ",
         "xaxis": "x",
         "y": [
          "lg",
          "lg",
          "lg",
          "lg",
          "lg",
          "lg",
          "lg"
         ],
         "y0": " ",
         "yaxis": "y"
        },
        {
         "alignmentgroup": "True",
         "hovertemplate": "brand=%{y}<br>rating=%{x}<extra></extra>",
         "legendgroup": "walker",
         "marker": {
          "color": "#FFA15A"
         },
         "name": "walker",
         "notched": false,
         "offsetgroup": "walker",
         "orientation": "h",
         "showlegend": true,
         "type": "box",
         "x": [
          37
         ],
         "x0": " ",
         "xaxis": "x",
         "y": [
          "walker"
         ],
         "y0": " ",
         "yaxis": "y"
        },
        {
         "alignmentgroup": "True",
         "hovertemplate": "brand=%{y}<br>rating=%{x}<extra></extra>",
         "legendgroup": "axl",
         "marker": {
          "color": "#19d3f3"
         },
         "name": "axl",
         "notched": false,
         "offsetgroup": "axl",
         "orientation": "h",
         "showlegend": true,
         "type": "box",
         "x": [
          38,
          37
         ],
         "x0": " ",
         "xaxis": "x",
         "y": [
          "axl",
          "axl"
         ],
         "y0": " ",
         "yaxis": "y"
        }
       ],
       "layout": {
        "boxmode": "overlay",
        "legend": {
         "title": {
          "text": "brand"
         },
         "tracegroupgap": 0
        },
        "margin": {
         "t": 60
        },
        "template": {
         "data": {
          "bar": [
           {
            "error_x": {
             "color": "#2a3f5f"
            },
            "error_y": {
             "color": "#2a3f5f"
            },
            "marker": {
             "line": {
              "color": "#E5ECF6",
              "width": 0.5
             },
             "pattern": {
              "fillmode": "overlay",
              "size": 10,
              "solidity": 0.2
             }
            },
            "type": "bar"
           }
          ],
          "barpolar": [
           {
            "marker": {
             "line": {
              "color": "#E5ECF6",
              "width": 0.5
             },
             "pattern": {
              "fillmode": "overlay",
              "size": 10,
              "solidity": 0.2
             }
            },
            "type": "barpolar"
           }
          ],
          "carpet": [
           {
            "aaxis": {
             "endlinecolor": "#2a3f5f",
             "gridcolor": "white",
             "linecolor": "white",
             "minorgridcolor": "white",
             "startlinecolor": "#2a3f5f"
            },
            "baxis": {
             "endlinecolor": "#2a3f5f",
             "gridcolor": "white",
             "linecolor": "white",
             "minorgridcolor": "white",
             "startlinecolor": "#2a3f5f"
            },
            "type": "carpet"
           }
          ],
          "choropleth": [
           {
            "colorbar": {
             "outlinewidth": 0,
             "ticks": ""
            },
            "type": "choropleth"
           }
          ],
          "contour": [
           {
            "colorbar": {
             "outlinewidth": 0,
             "ticks": ""
            },
            "colorscale": [
             [
              0,
              "#0d0887"
             ],
             [
              0.1111111111111111,
              "#46039f"
             ],
             [
              0.2222222222222222,
              "#7201a8"
             ],
             [
              0.3333333333333333,
              "#9c179e"
             ],
             [
              0.4444444444444444,
              "#bd3786"
             ],
             [
              0.5555555555555556,
              "#d8576b"
             ],
             [
              0.6666666666666666,
              "#ed7953"
             ],
             [
              0.7777777777777778,
              "#fb9f3a"
             ],
             [
              0.8888888888888888,
              "#fdca26"
             ],
             [
              1,
              "#f0f921"
             ]
            ],
            "type": "contour"
           }
          ],
          "contourcarpet": [
           {
            "colorbar": {
             "outlinewidth": 0,
             "ticks": ""
            },
            "type": "contourcarpet"
           }
          ],
          "heatmap": [
           {
            "colorbar": {
             "outlinewidth": 0,
             "ticks": ""
            },
            "colorscale": [
             [
              0,
              "#0d0887"
             ],
             [
              0.1111111111111111,
              "#46039f"
             ],
             [
              0.2222222222222222,
              "#7201a8"
             ],
             [
              0.3333333333333333,
              "#9c179e"
             ],
             [
              0.4444444444444444,
              "#bd3786"
             ],
             [
              0.5555555555555556,
              "#d8576b"
             ],
             [
              0.6666666666666666,
              "#ed7953"
             ],
             [
              0.7777777777777778,
              "#fb9f3a"
             ],
             [
              0.8888888888888888,
              "#fdca26"
             ],
             [
              1,
              "#f0f921"
             ]
            ],
            "type": "heatmap"
           }
          ],
          "heatmapgl": [
           {
            "colorbar": {
             "outlinewidth": 0,
             "ticks": ""
            },
            "colorscale": [
             [
              0,
              "#0d0887"
             ],
             [
              0.1111111111111111,
              "#46039f"
             ],
             [
              0.2222222222222222,
              "#7201a8"
             ],
             [
              0.3333333333333333,
              "#9c179e"
             ],
             [
              0.4444444444444444,
              "#bd3786"
             ],
             [
              0.5555555555555556,
              "#d8576b"
             ],
             [
              0.6666666666666666,
              "#ed7953"
             ],
             [
              0.7777777777777778,
              "#fb9f3a"
             ],
             [
              0.8888888888888888,
              "#fdca26"
             ],
             [
              1,
              "#f0f921"
             ]
            ],
            "type": "heatmapgl"
           }
          ],
          "histogram": [
           {
            "marker": {
             "pattern": {
              "fillmode": "overlay",
              "size": 10,
              "solidity": 0.2
             }
            },
            "type": "histogram"
           }
          ],
          "histogram2d": [
           {
            "colorbar": {
             "outlinewidth": 0,
             "ticks": ""
            },
            "colorscale": [
             [
              0,
              "#0d0887"
             ],
             [
              0.1111111111111111,
              "#46039f"
             ],
             [
              0.2222222222222222,
              "#7201a8"
             ],
             [
              0.3333333333333333,
              "#9c179e"
             ],
             [
              0.4444444444444444,
              "#bd3786"
             ],
             [
              0.5555555555555556,
              "#d8576b"
             ],
             [
              0.6666666666666666,
              "#ed7953"
             ],
             [
              0.7777777777777778,
              "#fb9f3a"
             ],
             [
              0.8888888888888888,
              "#fdca26"
             ],
             [
              1,
              "#f0f921"
             ]
            ],
            "type": "histogram2d"
           }
          ],
          "histogram2dcontour": [
           {
            "colorbar": {
             "outlinewidth": 0,
             "ticks": ""
            },
            "colorscale": [
             [
              0,
              "#0d0887"
             ],
             [
              0.1111111111111111,
              "#46039f"
             ],
             [
              0.2222222222222222,
              "#7201a8"
             ],
             [
              0.3333333333333333,
              "#9c179e"
             ],
             [
              0.4444444444444444,
              "#bd3786"
             ],
             [
              0.5555555555555556,
              "#d8576b"
             ],
             [
              0.6666666666666666,
              "#ed7953"
             ],
             [
              0.7777777777777778,
              "#fb9f3a"
             ],
             [
              0.8888888888888888,
              "#fdca26"
             ],
             [
              1,
              "#f0f921"
             ]
            ],
            "type": "histogram2dcontour"
           }
          ],
          "mesh3d": [
           {
            "colorbar": {
             "outlinewidth": 0,
             "ticks": ""
            },
            "type": "mesh3d"
           }
          ],
          "parcoords": [
           {
            "line": {
             "colorbar": {
              "outlinewidth": 0,
              "ticks": ""
             }
            },
            "type": "parcoords"
           }
          ],
          "pie": [
           {
            "automargin": true,
            "type": "pie"
           }
          ],
          "scatter": [
           {
            "fillpattern": {
             "fillmode": "overlay",
             "size": 10,
             "solidity": 0.2
            },
            "type": "scatter"
           }
          ],
          "scatter3d": [
           {
            "line": {
             "colorbar": {
              "outlinewidth": 0,
              "ticks": ""
             }
            },
            "marker": {
             "colorbar": {
              "outlinewidth": 0,
              "ticks": ""
             }
            },
            "type": "scatter3d"
           }
          ],
          "scattercarpet": [
           {
            "marker": {
             "colorbar": {
              "outlinewidth": 0,
              "ticks": ""
             }
            },
            "type": "scattercarpet"
           }
          ],
          "scattergeo": [
           {
            "marker": {
             "colorbar": {
              "outlinewidth": 0,
              "ticks": ""
             }
            },
            "type": "scattergeo"
           }
          ],
          "scattergl": [
           {
            "marker": {
             "colorbar": {
              "outlinewidth": 0,
              "ticks": ""
             }
            },
            "type": "scattergl"
           }
          ],
          "scattermapbox": [
           {
            "marker": {
             "colorbar": {
              "outlinewidth": 0,
              "ticks": ""
             }
            },
            "type": "scattermapbox"
           }
          ],
          "scatterpolar": [
           {
            "marker": {
             "colorbar": {
              "outlinewidth": 0,
              "ticks": ""
             }
            },
            "type": "scatterpolar"
           }
          ],
          "scatterpolargl": [
           {
            "marker": {
             "colorbar": {
              "outlinewidth": 0,
              "ticks": ""
             }
            },
            "type": "scatterpolargl"
           }
          ],
          "scatterternary": [
           {
            "marker": {
             "colorbar": {
              "outlinewidth": 0,
              "ticks": ""
             }
            },
            "type": "scatterternary"
           }
          ],
          "surface": [
           {
            "colorbar": {
             "outlinewidth": 0,
             "ticks": ""
            },
            "colorscale": [
             [
              0,
              "#0d0887"
             ],
             [
              0.1111111111111111,
              "#46039f"
             ],
             [
              0.2222222222222222,
              "#7201a8"
             ],
             [
              0.3333333333333333,
              "#9c179e"
             ],
             [
              0.4444444444444444,
              "#bd3786"
             ],
             [
              0.5555555555555556,
              "#d8576b"
             ],
             [
              0.6666666666666666,
              "#ed7953"
             ],
             [
              0.7777777777777778,
              "#fb9f3a"
             ],
             [
              0.8888888888888888,
              "#fdca26"
             ],
             [
              1,
              "#f0f921"
             ]
            ],
            "type": "surface"
           }
          ],
          "table": [
           {
            "cells": {
             "fill": {
              "color": "#EBF0F8"
             },
             "line": {
              "color": "white"
             }
            },
            "header": {
             "fill": {
              "color": "#C8D4E3"
             },
             "line": {
              "color": "white"
             }
            },
            "type": "table"
           }
          ]
         },
         "layout": {
          "annotationdefaults": {
           "arrowcolor": "#2a3f5f",
           "arrowhead": 0,
           "arrowwidth": 1
          },
          "autotypenumbers": "strict",
          "coloraxis": {
           "colorbar": {
            "outlinewidth": 0,
            "ticks": ""
           }
          },
          "colorscale": {
           "diverging": [
            [
             0,
             "#8e0152"
            ],
            [
             0.1,
             "#c51b7d"
            ],
            [
             0.2,
             "#de77ae"
            ],
            [
             0.3,
             "#f1b6da"
            ],
            [
             0.4,
             "#fde0ef"
            ],
            [
             0.5,
             "#f7f7f7"
            ],
            [
             0.6,
             "#e6f5d0"
            ],
            [
             0.7,
             "#b8e186"
            ],
            [
             0.8,
             "#7fbc41"
            ],
            [
             0.9,
             "#4d9221"
            ],
            [
             1,
             "#276419"
            ]
           ],
           "sequential": [
            [
             0,
             "#0d0887"
            ],
            [
             0.1111111111111111,
             "#46039f"
            ],
            [
             0.2222222222222222,
             "#7201a8"
            ],
            [
             0.3333333333333333,
             "#9c179e"
            ],
            [
             0.4444444444444444,
             "#bd3786"
            ],
            [
             0.5555555555555556,
             "#d8576b"
            ],
            [
             0.6666666666666666,
             "#ed7953"
            ],
            [
             0.7777777777777778,
             "#fb9f3a"
            ],
            [
             0.8888888888888888,
             "#fdca26"
            ],
            [
             1,
             "#f0f921"
            ]
           ],
           "sequentialminus": [
            [
             0,
             "#0d0887"
            ],
            [
             0.1111111111111111,
             "#46039f"
            ],
            [
             0.2222222222222222,
             "#7201a8"
            ],
            [
             0.3333333333333333,
             "#9c179e"
            ],
            [
             0.4444444444444444,
             "#bd3786"
            ],
            [
             0.5555555555555556,
             "#d8576b"
            ],
            [
             0.6666666666666666,
             "#ed7953"
            ],
            [
             0.7777777777777778,
             "#fb9f3a"
            ],
            [
             0.8888888888888888,
             "#fdca26"
            ],
            [
             1,
             "#f0f921"
            ]
           ]
          },
          "colorway": [
           "#636efa",
           "#EF553B",
           "#00cc96",
           "#ab63fa",
           "#FFA15A",
           "#19d3f3",
           "#FF6692",
           "#B6E880",
           "#FF97FF",
           "#FECB52"
          ],
          "font": {
           "color": "#2a3f5f"
          },
          "geo": {
           "bgcolor": "white",
           "lakecolor": "white",
           "landcolor": "#E5ECF6",
           "showlakes": true,
           "showland": true,
           "subunitcolor": "white"
          },
          "hoverlabel": {
           "align": "left"
          },
          "hovermode": "closest",
          "mapbox": {
           "style": "light"
          },
          "paper_bgcolor": "white",
          "plot_bgcolor": "#E5ECF6",
          "polar": {
           "angularaxis": {
            "gridcolor": "white",
            "linecolor": "white",
            "ticks": ""
           },
           "bgcolor": "#E5ECF6",
           "radialaxis": {
            "gridcolor": "white",
            "linecolor": "white",
            "ticks": ""
           }
          },
          "scene": {
           "xaxis": {
            "backgroundcolor": "#E5ECF6",
            "gridcolor": "white",
            "gridwidth": 2,
            "linecolor": "white",
            "showbackground": true,
            "ticks": "",
            "zerolinecolor": "white"
           },
           "yaxis": {
            "backgroundcolor": "#E5ECF6",
            "gridcolor": "white",
            "gridwidth": 2,
            "linecolor": "white",
            "showbackground": true,
            "ticks": "",
            "zerolinecolor": "white"
           },
           "zaxis": {
            "backgroundcolor": "#E5ECF6",
            "gridcolor": "white",
            "gridwidth": 2,
            "linecolor": "white",
            "showbackground": true,
            "ticks": "",
            "zerolinecolor": "white"
           }
          },
          "shapedefaults": {
           "line": {
            "color": "#2a3f5f"
           }
          },
          "ternary": {
           "aaxis": {
            "gridcolor": "white",
            "linecolor": "white",
            "ticks": ""
           },
           "baxis": {
            "gridcolor": "white",
            "linecolor": "white",
            "ticks": ""
           },
           "bgcolor": "#E5ECF6",
           "caxis": {
            "gridcolor": "white",
            "linecolor": "white",
            "ticks": ""
           }
          },
          "title": {
           "x": 0.05
          },
          "xaxis": {
           "automargin": true,
           "gridcolor": "white",
           "linecolor": "white",
           "ticks": "",
           "title": {
            "standoff": 15
           },
           "zerolinecolor": "white",
           "zerolinewidth": 2
          },
          "yaxis": {
           "automargin": true,
           "gridcolor": "white",
           "linecolor": "white",
           "ticks": "",
           "title": {
            "standoff": 15
           },
           "zerolinecolor": "white",
           "zerolinewidth": 2
          }
         }
        },
        "xaxis": {
         "anchor": "y",
         "domain": [
          0,
          1
         ],
         "title": {
          "text": "rating"
         }
        },
        "yaxis": {
         "anchor": "x",
         "categoryarray": [
          "axl",
          "walker",
          "lg",
          "fujitsu",
          "microsoft",
          "avita",
          "realme",
          "honor",
          "jio",
          "gigabyte",
          "chuwi",
          "zebronics",
          "iball",
          "primebook",
          "ultimus",
          "wings",
          "msi",
          "samsung",
          "dell",
          "asus",
          "infinix",
          "apple",
          "lenovo",
          "acer",
          "hp",
          "tecno"
         ],
         "categoryorder": "array",
         "domain": [
          0,
          1
         ],
         "title": {
          "text": "brand"
         }
        }
       }
      },
      "text/html": [
       "<div>                            <div id=\"2390a1fb-2f07-46a8-bf46-bf25da7a96de\" class=\"plotly-graph-div\" style=\"height:525px; width:100%;\"></div>            <script type=\"text/javascript\">                require([\"plotly\"], function(Plotly) {                    window.PLOTLYENV=window.PLOTLYENV || {};                                    if (document.getElementById(\"2390a1fb-2f07-46a8-bf46-bf25da7a96de\")) {                    Plotly.newPlot(                        \"2390a1fb-2f07-46a8-bf46-bf25da7a96de\",                        [{\"alignmentgroup\":\"True\",\"hovertemplate\":\"brand=%{y}\\u003cbr\\u003erating=%{x}\\u003cextra\\u003e\\u003c\\u002fextra\\u003e\",\"legendgroup\":\"tecno\",\"marker\":{\"color\":\"#636efa\"},\"name\":\"tecno\",\"notched\":false,\"offsetgroup\":\"tecno\",\"orientation\":\"h\",\"showlegend\":true,\"x\":[63,67],\"x0\":\" \",\"xaxis\":\"x\",\"y\":[\"tecno\",\"tecno\"],\"y0\":\" \",\"yaxis\":\"y\",\"type\":\"box\"},{\"alignmentgroup\":\"True\",\"hovertemplate\":\"brand=%{y}\\u003cbr\\u003erating=%{x}\\u003cextra\\u003e\\u003c\\u002fextra\\u003e\",\"legendgroup\":\"hp\",\"marker\":{\"color\":\"#EF553B\"},\"name\":\"hp\",\"notched\":false,\"offsetgroup\":\"hp\",\"orientation\":\"h\",\"showlegend\":true,\"x\":[73,60,85,71,49,77,66,62,71,71,80,71,76,70,63,80,72,65,70,70,70,54,72,70,67,57,62,62,58,54,52,60,60,82,76,64,58,76,59,67,66,49,56,76,63,76,63,75,85,70,63,66,65,65,59,57,69,54,67,68,69,67,73,62,71,64,39,71,54,58,62,52,64,56,64,51,58,62,52,70,78,69,57,77,76,72,60,88,62,70,85,88,79,78,57,47,70,64,75,67,70,57,59,51,58,62,78,63,51,70,71,72,71,86,75,67,67,72,70,67,60,77,73,77,44,56,57,44,69,69,46,67,80,38,52,73,66,66,66,70,66,72,57,60,71,69,71,69,58,53,60,70,58,62,63,72,66,71,49,50,67,63,65,67,47,66,50,64,66,71,65,57,59,58,57,75,66,57,54,54,51,51,54,67,56,67,71,60,75,67,56,77,75,64,79,72,58,59,52,43,37,59,47,73,37],\"x0\":\" \",\"xaxis\":\"x\",\"y\":[\"hp\",\"hp\",\"hp\",\"hp\",\"hp\",\"hp\",\"hp\",\"hp\",\"hp\",\"hp\",\"hp\",\"hp\",\"hp\",\"hp\",\"hp\",\"hp\",\"hp\",\"hp\",\"hp\",\"hp\",\"hp\",\"hp\",\"hp\",\"hp\",\"hp\",\"hp\",\"hp\",\"hp\",\"hp\",\"hp\",\"hp\",\"hp\",\"hp\",\"hp\",\"hp\",\"hp\",\"hp\",\"hp\",\"hp\",\"hp\",\"hp\",\"hp\",\"hp\",\"hp\",\"hp\",\"hp\",\"hp\",\"hp\",\"hp\",\"hp\",\"hp\",\"hp\",\"hp\",\"hp\",\"hp\",\"hp\",\"hp\",\"hp\",\"hp\",\"hp\",\"hp\",\"hp\",\"hp\",\"hp\",\"hp\",\"hp\",\"hp\",\"hp\",\"hp\",\"hp\",\"hp\",\"hp\",\"hp\",\"hp\",\"hp\",\"hp\",\"hp\",\"hp\",\"hp\",\"hp\",\"hp\",\"hp\",\"hp\",\"hp\",\"hp\",\"hp\",\"hp\",\"hp\",\"hp\",\"hp\",\"hp\",\"hp\",\"hp\",\"hp\",\"hp\",\"hp\",\"hp\",\"hp\",\"hp\",\"hp\",\"hp\",\"hp\",\"hp\",\"hp\",\"hp\",\"hp\",\"hp\",\"hp\",\"hp\",\"hp\",\"hp\",\"hp\",\"hp\",\"hp\",\"hp\",\"hp\",\"hp\",\"hp\",\"hp\",\"hp\",\"hp\",\"hp\",\"hp\",\"hp\",\"hp\",\"hp\",\"hp\",\"hp\",\"hp\",\"hp\",\"hp\",\"hp\",\"hp\",\"hp\",\"hp\",\"hp\",\"hp\",\"hp\",\"hp\",\"hp\",\"hp\",\"hp\",\"hp\",\"hp\",\"hp\",\"hp\",\"hp\",\"hp\",\"hp\",\"hp\",\"hp\",\"hp\",\"hp\",\"hp\",\"hp\",\"hp\",\"hp\",\"hp\",\"hp\",\"hp\",\"hp\",\"hp\",\"hp\",\"hp\",\"hp\",\"hp\",\"hp\",\"hp\",\"hp\",\"hp\",\"hp\",\"hp\",\"hp\",\"hp\",\"hp\",\"hp\",\"hp\",\"hp\",\"hp\",\"hp\",\"hp\",\"hp\",\"hp\",\"hp\",\"hp\",\"hp\",\"hp\",\"hp\",\"hp\",\"hp\",\"hp\",\"hp\",\"hp\",\"hp\",\"hp\",\"hp\",\"hp\",\"hp\",\"hp\",\"hp\",\"hp\",\"hp\",\"hp\",\"hp\",\"hp\"],\"y0\":\" \",\"yaxis\":\"y\",\"type\":\"box\"},{\"alignmentgroup\":\"True\",\"hovertemplate\":\"brand=%{y}\\u003cbr\\u003erating=%{x}\\u003cextra\\u003e\\u003c\\u002fextra\\u003e\",\"legendgroup\":\"acer\",\"marker\":{\"color\":\"#00cc96\"},\"name\":\"acer\",\"notched\":false,\"offsetgroup\":\"acer\",\"orientation\":\"h\",\"showlegend\":true,\"x\":[62,63,64,60,58,71,60,62,72,67,75,70,49,64,54,64,78,57,59,70,67,75,49,67,47,64,64,64,62,63,63,56,62,38,65,62,67,65,38,58,62,50,72,70,63,60,45,79,65,58,80,59,64,70,59,50,57,50,60,69,56,53,51,50,59,52,50,70,62,78,58,47,65,66,64,65,73,74,72,59,50,44,71,77,52,71,54,71,67],\"x0\":\" \",\"xaxis\":\"x\",\"y\":[\"acer\",\"acer\",\"acer\",\"acer\",\"acer\",\"acer\",\"acer\",\"acer\",\"acer\",\"acer\",\"acer\",\"acer\",\"acer\",\"acer\",\"acer\",\"acer\",\"acer\",\"acer\",\"acer\",\"acer\",\"acer\",\"acer\",\"acer\",\"acer\",\"acer\",\"acer\",\"acer\",\"acer\",\"acer\",\"acer\",\"acer\",\"acer\",\"acer\",\"acer\",\"acer\",\"acer\",\"acer\",\"acer\",\"acer\",\"acer\",\"acer\",\"acer\",\"acer\",\"acer\",\"acer\",\"acer\",\"acer\",\"acer\",\"acer\",\"acer\",\"acer\",\"acer\",\"acer\",\"acer\",\"acer\",\"acer\",\"acer\",\"acer\",\"acer\",\"acer\",\"acer\",\"acer\",\"acer\",\"acer\",\"acer\",\"acer\",\"acer\",\"acer\",\"acer\",\"acer\",\"acer\",\"acer\",\"acer\",\"acer\",\"acer\",\"acer\",\"acer\",\"acer\",\"acer\",\"acer\",\"acer\",\"acer\",\"acer\",\"acer\",\"acer\",\"acer\",\"acer\",\"acer\",\"acer\"],\"y0\":\" \",\"yaxis\":\"y\",\"type\":\"box\"},{\"alignmentgroup\":\"True\",\"hovertemplate\":\"brand=%{y}\\u003cbr\\u003erating=%{x}\\u003cextra\\u003e\\u003c\\u002fextra\\u003e\",\"legendgroup\":\"lenovo\",\"marker\":{\"color\":\"#ab63fa\"},\"name\":\"lenovo\",\"notched\":false,\"offsetgroup\":\"lenovo\",\"orientation\":\"h\",\"showlegend\":true,\"x\":[62,66,59,59,71,69,51,66,47,70,63,59,80,70,66,64,67,60,64,77,83,60,50,64,62,69,63,67,53,53,53,78,74,49,64,57,58,62,50,58,62,66,57,60,63,51,64,67,66,75,65,57,86,70,69,54,53,57,56,69,67,75,63,58,57,63,65,69,64,56,58,84,85,78,58,77,57,65,57,57,67,58,60,62,51,46,51,63,64,43,69,58,59,65,71,63,89,83,79,67,66,56,65,83,69,52,58,60,62,58,58,53,63,58,59,69,58,60,56,65,64,60,60,60,62,65,64,62,60,59,64,58,60,72,71,73,73,75,73,63,69,72,57,69,38,62,65,59,50,70,62,58,69,64,67,66,67,64,67,59,70,57,62,62,57,63,75,62,57,57,59,54,64,53,54,56,59,57,66,64,50,67,58,67,71,78,47,43,45,58,56,56,60,66,55,52,75,54,50,48,64],\"x0\":\" \",\"xaxis\":\"x\",\"y\":[\"lenovo\",\"lenovo\",\"lenovo\",\"lenovo\",\"lenovo\",\"lenovo\",\"lenovo\",\"lenovo\",\"lenovo\",\"lenovo\",\"lenovo\",\"lenovo\",\"lenovo\",\"lenovo\",\"lenovo\",\"lenovo\",\"lenovo\",\"lenovo\",\"lenovo\",\"lenovo\",\"lenovo\",\"lenovo\",\"lenovo\",\"lenovo\",\"lenovo\",\"lenovo\",\"lenovo\",\"lenovo\",\"lenovo\",\"lenovo\",\"lenovo\",\"lenovo\",\"lenovo\",\"lenovo\",\"lenovo\",\"lenovo\",\"lenovo\",\"lenovo\",\"lenovo\",\"lenovo\",\"lenovo\",\"lenovo\",\"lenovo\",\"lenovo\",\"lenovo\",\"lenovo\",\"lenovo\",\"lenovo\",\"lenovo\",\"lenovo\",\"lenovo\",\"lenovo\",\"lenovo\",\"lenovo\",\"lenovo\",\"lenovo\",\"lenovo\",\"lenovo\",\"lenovo\",\"lenovo\",\"lenovo\",\"lenovo\",\"lenovo\",\"lenovo\",\"lenovo\",\"lenovo\",\"lenovo\",\"lenovo\",\"lenovo\",\"lenovo\",\"lenovo\",\"lenovo\",\"lenovo\",\"lenovo\",\"lenovo\",\"lenovo\",\"lenovo\",\"lenovo\",\"lenovo\",\"lenovo\",\"lenovo\",\"lenovo\",\"lenovo\",\"lenovo\",\"lenovo\",\"lenovo\",\"lenovo\",\"lenovo\",\"lenovo\",\"lenovo\",\"lenovo\",\"lenovo\",\"lenovo\",\"lenovo\",\"lenovo\",\"lenovo\",\"lenovo\",\"lenovo\",\"lenovo\",\"lenovo\",\"lenovo\",\"lenovo\",\"lenovo\",\"lenovo\",\"lenovo\",\"lenovo\",\"lenovo\",\"lenovo\",\"lenovo\",\"lenovo\",\"lenovo\",\"lenovo\",\"lenovo\",\"lenovo\",\"lenovo\",\"lenovo\",\"lenovo\",\"lenovo\",\"lenovo\",\"lenovo\",\"lenovo\",\"lenovo\",\"lenovo\",\"lenovo\",\"lenovo\",\"lenovo\",\"lenovo\",\"lenovo\",\"lenovo\",\"lenovo\",\"lenovo\",\"lenovo\",\"lenovo\",\"lenovo\",\"lenovo\",\"lenovo\",\"lenovo\",\"lenovo\",\"lenovo\",\"lenovo\",\"lenovo\",\"lenovo\",\"lenovo\",\"lenovo\",\"lenovo\",\"lenovo\",\"lenovo\",\"lenovo\",\"lenovo\",\"lenovo\",\"lenovo\",\"lenovo\",\"lenovo\",\"lenovo\",\"lenovo\",\"lenovo\",\"lenovo\",\"lenovo\",\"lenovo\",\"lenovo\",\"lenovo\",\"lenovo\",\"lenovo\",\"lenovo\",\"lenovo\",\"lenovo\",\"lenovo\",\"lenovo\",\"lenovo\",\"lenovo\",\"lenovo\",\"lenovo\",\"lenovo\",\"lenovo\",\"lenovo\",\"lenovo\",\"lenovo\",\"lenovo\",\"lenovo\",\"lenovo\",\"lenovo\",\"lenovo\",\"lenovo\",\"lenovo\",\"lenovo\",\"lenovo\",\"lenovo\",\"lenovo\",\"lenovo\",\"lenovo\",\"lenovo\",\"lenovo\",\"lenovo\",\"lenovo\",\"lenovo\",\"lenovo\",\"lenovo\",\"lenovo\",\"lenovo\",\"lenovo\",\"lenovo\"],\"y0\":\" \",\"yaxis\":\"y\",\"type\":\"box\"},{\"alignmentgroup\":\"True\",\"hovertemplate\":\"brand=%{y}\\u003cbr\\u003erating=%{x}\\u003cextra\\u003e\\u003c\\u002fextra\\u003e\",\"legendgroup\":\"apple\",\"marker\":{\"color\":\"#FFA15A\"},\"name\":\"apple\",\"notched\":false,\"offsetgroup\":\"apple\",\"orientation\":\"h\",\"showlegend\":true,\"x\":[45,65,48,53,43,63,64,58,56,56,45,45,53,58,51],\"x0\":\" \",\"xaxis\":\"x\",\"y\":[\"apple\",\"apple\",\"apple\",\"apple\",\"apple\",\"apple\",\"apple\",\"apple\",\"apple\",\"apple\",\"apple\",\"apple\",\"apple\",\"apple\",\"apple\"],\"y0\":\" \",\"yaxis\":\"y\",\"type\":\"box\"},{\"alignmentgroup\":\"True\",\"hovertemplate\":\"brand=%{y}\\u003cbr\\u003erating=%{x}\\u003cextra\\u003e\\u003c\\u002fextra\\u003e\",\"legendgroup\":\"infinix\",\"marker\":{\"color\":\"#19d3f3\"},\"name\":\"infinix\",\"notched\":false,\"offsetgroup\":\"infinix\",\"orientation\":\"h\",\"showlegend\":true,\"x\":[56,71,54,50,53,60,63,56,57,57,52,57,58],\"x0\":\" \",\"xaxis\":\"x\",\"y\":[\"infinix\",\"infinix\",\"infinix\",\"infinix\",\"infinix\",\"infinix\",\"infinix\",\"infinix\",\"infinix\",\"infinix\",\"infinix\",\"infinix\",\"infinix\"],\"y0\":\" \",\"yaxis\":\"y\",\"type\":\"box\"},{\"alignmentgroup\":\"True\",\"hovertemplate\":\"brand=%{y}\\u003cbr\\u003erating=%{x}\\u003cextra\\u003e\\u003c\\u002fextra\\u003e\",\"legendgroup\":\"asus\",\"marker\":{\"color\":\"#FF6692\"},\"name\":\"asus\",\"notched\":false,\"offsetgroup\":\"asus\",\"orientation\":\"h\",\"showlegend\":true,\"x\":[70,71,76,57,57,65,72,77,83,75,67,64,78,72,62,64,57,63,71,70,70,66,75,72,72,64,88,79,60,65,56,70,62,71,69,35,71,65,76,77,76,70,66,60,59,64,58,80,77,79,78,64,67,64,70,65,71,59,65,60,65,50,73,85,37,44,67,58,65,69,45,63,70,38,66,51,38,73,58,62,70,71,43,67,59,60,64,63,73,64,72,37,41,37,57,37,72,65,66,70,57,62,56,69,63,76,59,57,72,66,72,54,64,45,57,72,75,70,82,72,71,65,60,75,64,60,72,83,71,59,69,64,66,53,45,58,63,64,54,71,73,89,84,75,83,73,77,89,76,80,67,73,82,66,72,75,66,76,66,70,84,71,56,45,56,78,60,59,73,73,70,75,59,64,52,48,59,63,56,62,60,57,56,71,64,64,70,62,60,53,58,51,74,62,67,59,67,89,58,59,53,72,83,68,68,65,64,68,59,68],\"x0\":\" \",\"xaxis\":\"x\",\"y\":[\"asus\",\"asus\",\"asus\",\"asus\",\"asus\",\"asus\",\"asus\",\"asus\",\"asus\",\"asus\",\"asus\",\"asus\",\"asus\",\"asus\",\"asus\",\"asus\",\"asus\",\"asus\",\"asus\",\"asus\",\"asus\",\"asus\",\"asus\",\"asus\",\"asus\",\"asus\",\"asus\",\"asus\",\"asus\",\"asus\",\"asus\",\"asus\",\"asus\",\"asus\",\"asus\",\"asus\",\"asus\",\"asus\",\"asus\",\"asus\",\"asus\",\"asus\",\"asus\",\"asus\",\"asus\",\"asus\",\"asus\",\"asus\",\"asus\",\"asus\",\"asus\",\"asus\",\"asus\",\"asus\",\"asus\",\"asus\",\"asus\",\"asus\",\"asus\",\"asus\",\"asus\",\"asus\",\"asus\",\"asus\",\"asus\",\"asus\",\"asus\",\"asus\",\"asus\",\"asus\",\"asus\",\"asus\",\"asus\",\"asus\",\"asus\",\"asus\",\"asus\",\"asus\",\"asus\",\"asus\",\"asus\",\"asus\",\"asus\",\"asus\",\"asus\",\"asus\",\"asus\",\"asus\",\"asus\",\"asus\",\"asus\",\"asus\",\"asus\",\"asus\",\"asus\",\"asus\",\"asus\",\"asus\",\"asus\",\"asus\",\"asus\",\"asus\",\"asus\",\"asus\",\"asus\",\"asus\",\"asus\",\"asus\",\"asus\",\"asus\",\"asus\",\"asus\",\"asus\",\"asus\",\"asus\",\"asus\",\"asus\",\"asus\",\"asus\",\"asus\",\"asus\",\"asus\",\"asus\",\"asus\",\"asus\",\"asus\",\"asus\",\"asus\",\"asus\",\"asus\",\"asus\",\"asus\",\"asus\",\"asus\",\"asus\",\"asus\",\"asus\",\"asus\",\"asus\",\"asus\",\"asus\",\"asus\",\"asus\",\"asus\",\"asus\",\"asus\",\"asus\",\"asus\",\"asus\",\"asus\",\"asus\",\"asus\",\"asus\",\"asus\",\"asus\",\"asus\",\"asus\",\"asus\",\"asus\",\"asus\",\"asus\",\"asus\",\"asus\",\"asus\",\"asus\",\"asus\",\"asus\",\"asus\",\"asus\",\"asus\",\"asus\",\"asus\",\"asus\",\"asus\",\"asus\",\"asus\",\"asus\",\"asus\",\"asus\",\"asus\",\"asus\",\"asus\",\"asus\",\"asus\",\"asus\",\"asus\",\"asus\",\"asus\",\"asus\",\"asus\",\"asus\",\"asus\",\"asus\",\"asus\",\"asus\",\"asus\",\"asus\",\"asus\",\"asus\",\"asus\",\"asus\",\"asus\",\"asus\",\"asus\",\"asus\",\"asus\",\"asus\",\"asus\",\"asus\",\"asus\"],\"y0\":\" \",\"yaxis\":\"y\",\"type\":\"box\"},{\"alignmentgroup\":\"True\",\"hovertemplate\":\"brand=%{y}\\u003cbr\\u003erating=%{x}\\u003cextra\\u003e\\u003c\\u002fextra\\u003e\",\"legendgroup\":\"dell\",\"marker\":{\"color\":\"#B6E880\"},\"name\":\"dell\",\"notched\":false,\"offsetgroup\":\"dell\",\"orientation\":\"h\",\"showlegend\":true,\"x\":[60,66,71,66,66,70,60,72,74,78,59,53,73,63,62,68,62,56,67,80,53,58,49,59,64,75,58,57,53,53,57,57,56,57,56,57,62,53,58,57,78,56,58,63,58,62,54,59,57,60,63,58,60,85,63,65,83,65,85,80,83,89,60,63,60,56,53,56,67,58,52,60,60,70,88,82,54,72,71,56,78,82,59,58,57,56,52,57,56,76,52,79,73,75,69,78,83,82,83,63,63,59,62,59,68,72],\"x0\":\" \",\"xaxis\":\"x\",\"y\":[\"dell\",\"dell\",\"dell\",\"dell\",\"dell\",\"dell\",\"dell\",\"dell\",\"dell\",\"dell\",\"dell\",\"dell\",\"dell\",\"dell\",\"dell\",\"dell\",\"dell\",\"dell\",\"dell\",\"dell\",\"dell\",\"dell\",\"dell\",\"dell\",\"dell\",\"dell\",\"dell\",\"dell\",\"dell\",\"dell\",\"dell\",\"dell\",\"dell\",\"dell\",\"dell\",\"dell\",\"dell\",\"dell\",\"dell\",\"dell\",\"dell\",\"dell\",\"dell\",\"dell\",\"dell\",\"dell\",\"dell\",\"dell\",\"dell\",\"dell\",\"dell\",\"dell\",\"dell\",\"dell\",\"dell\",\"dell\",\"dell\",\"dell\",\"dell\",\"dell\",\"dell\",\"dell\",\"dell\",\"dell\",\"dell\",\"dell\",\"dell\",\"dell\",\"dell\",\"dell\",\"dell\",\"dell\",\"dell\",\"dell\",\"dell\",\"dell\",\"dell\",\"dell\",\"dell\",\"dell\",\"dell\",\"dell\",\"dell\",\"dell\",\"dell\",\"dell\",\"dell\",\"dell\",\"dell\",\"dell\",\"dell\",\"dell\",\"dell\",\"dell\",\"dell\",\"dell\",\"dell\",\"dell\",\"dell\",\"dell\",\"dell\",\"dell\",\"dell\",\"dell\",\"dell\",\"dell\"],\"y0\":\" \",\"yaxis\":\"y\",\"type\":\"box\"},{\"alignmentgroup\":\"True\",\"hovertemplate\":\"brand=%{y}\\u003cbr\\u003erating=%{x}\\u003cextra\\u003e\\u003c\\u002fextra\\u003e\",\"legendgroup\":\"samsung\",\"marker\":{\"color\":\"#FF97FF\"},\"name\":\"samsung\",\"notched\":false,\"offsetgroup\":\"samsung\",\"orientation\":\"h\",\"showlegend\":true,\"x\":[68,59,62,56,60,59,68],\"x0\":\" \",\"xaxis\":\"x\",\"y\":[\"samsung\",\"samsung\",\"samsung\",\"samsung\",\"samsung\",\"samsung\",\"samsung\"],\"y0\":\" \",\"yaxis\":\"y\",\"type\":\"box\"},{\"alignmentgroup\":\"True\",\"hovertemplate\":\"brand=%{y}\\u003cbr\\u003erating=%{x}\\u003cextra\\u003e\\u003c\\u002fextra\\u003e\",\"legendgroup\":\"msi\",\"marker\":{\"color\":\"#FECB52\"},\"name\":\"msi\",\"notched\":false,\"offsetgroup\":\"msi\",\"orientation\":\"h\",\"showlegend\":true,\"x\":[71,76,58,70,65,75,65,63,60,73,65,73,62,65,72,62,73,69,62,79,78,69,80,89,70,83,71,76,76,77,79,76,77,69,71,70,83,73,89,63,58,77,71,65,67,78,67,65,78,69,77,66,77,75,63,70,65,75,75,85,69,71,73,86,71,77,65,70,89,65,71,84,87,80,70,72,53,54,60,58,59,72,74,67,59,61,58,56,76,73],\"x0\":\" \",\"xaxis\":\"x\",\"y\":[\"msi\",\"msi\",\"msi\",\"msi\",\"msi\",\"msi\",\"msi\",\"msi\",\"msi\",\"msi\",\"msi\",\"msi\",\"msi\",\"msi\",\"msi\",\"msi\",\"msi\",\"msi\",\"msi\",\"msi\",\"msi\",\"msi\",\"msi\",\"msi\",\"msi\",\"msi\",\"msi\",\"msi\",\"msi\",\"msi\",\"msi\",\"msi\",\"msi\",\"msi\",\"msi\",\"msi\",\"msi\",\"msi\",\"msi\",\"msi\",\"msi\",\"msi\",\"msi\",\"msi\",\"msi\",\"msi\",\"msi\",\"msi\",\"msi\",\"msi\",\"msi\",\"msi\",\"msi\",\"msi\",\"msi\",\"msi\",\"msi\",\"msi\",\"msi\",\"msi\",\"msi\",\"msi\",\"msi\",\"msi\",\"msi\",\"msi\",\"msi\",\"msi\",\"msi\",\"msi\",\"msi\",\"msi\",\"msi\",\"msi\",\"msi\",\"msi\",\"msi\",\"msi\",\"msi\",\"msi\",\"msi\",\"msi\",\"msi\",\"msi\",\"msi\",\"msi\",\"msi\",\"msi\",\"msi\",\"msi\"],\"y0\":\" \",\"yaxis\":\"y\",\"type\":\"box\"},{\"alignmentgroup\":\"True\",\"hovertemplate\":\"brand=%{y}\\u003cbr\\u003erating=%{x}\\u003cextra\\u003e\\u003c\\u002fextra\\u003e\",\"legendgroup\":\"wings\",\"marker\":{\"color\":\"#636efa\"},\"name\":\"wings\",\"notched\":false,\"offsetgroup\":\"wings\",\"orientation\":\"h\",\"showlegend\":true,\"x\":[56,58,49,51],\"x0\":\" \",\"xaxis\":\"x\",\"y\":[\"wings\",\"wings\",\"wings\",\"wings\"],\"y0\":\" \",\"yaxis\":\"y\",\"type\":\"box\"},{\"alignmentgroup\":\"True\",\"hovertemplate\":\"brand=%{y}\\u003cbr\\u003erating=%{x}\\u003cextra\\u003e\\u003c\\u002fextra\\u003e\",\"legendgroup\":\"ultimus\",\"marker\":{\"color\":\"#EF553B\"},\"name\":\"ultimus\",\"notched\":false,\"offsetgroup\":\"ultimus\",\"orientation\":\"h\",\"showlegend\":true,\"x\":[54,46,41,45,47,52],\"x0\":\" \",\"xaxis\":\"x\",\"y\":[\"ultimus\",\"ultimus\",\"ultimus\",\"ultimus\",\"ultimus\",\"ultimus\"],\"y0\":\" \",\"yaxis\":\"y\",\"type\":\"box\"},{\"alignmentgroup\":\"True\",\"hovertemplate\":\"brand=%{y}\\u003cbr\\u003erating=%{x}\\u003cextra\\u003e\\u003c\\u002fextra\\u003e\",\"legendgroup\":\"primebook\",\"marker\":{\"color\":\"#00cc96\"},\"name\":\"primebook\",\"notched\":false,\"offsetgroup\":\"primebook\",\"orientation\":\"h\",\"showlegend\":true,\"x\":[26,31],\"x0\":\" \",\"xaxis\":\"x\",\"y\":[\"primebook\",\"primebook\"],\"y0\":\" \",\"yaxis\":\"y\",\"type\":\"box\"},{\"alignmentgroup\":\"True\",\"hovertemplate\":\"brand=%{y}\\u003cbr\\u003erating=%{x}\\u003cextra\\u003e\\u003c\\u002fextra\\u003e\",\"legendgroup\":\"iball\",\"marker\":{\"color\":\"#ab63fa\"},\"name\":\"iball\",\"notched\":false,\"offsetgroup\":\"iball\",\"orientation\":\"h\",\"showlegend\":true,\"x\":[41],\"x0\":\" \",\"xaxis\":\"x\",\"y\":[\"iball\"],\"y0\":\" \",\"yaxis\":\"y\",\"type\":\"box\"},{\"alignmentgroup\":\"True\",\"hovertemplate\":\"brand=%{y}\\u003cbr\\u003erating=%{x}\\u003cextra\\u003e\\u003c\\u002fextra\\u003e\",\"legendgroup\":\"zebronics\",\"marker\":{\"color\":\"#FFA15A\"},\"name\":\"zebronics\",\"notched\":false,\"offsetgroup\":\"zebronics\",\"orientation\":\"h\",\"showlegend\":true,\"x\":[65,63,72,56,66,60,72],\"x0\":\" \",\"xaxis\":\"x\",\"y\":[\"zebronics\",\"zebronics\",\"zebronics\",\"zebronics\",\"zebronics\",\"zebronics\",\"zebronics\"],\"y0\":\" \",\"yaxis\":\"y\",\"type\":\"box\"},{\"alignmentgroup\":\"True\",\"hovertemplate\":\"brand=%{y}\\u003cbr\\u003erating=%{x}\\u003cextra\\u003e\\u003c\\u002fextra\\u003e\",\"legendgroup\":\"chuwi\",\"marker\":{\"color\":\"#19d3f3\"},\"name\":\"chuwi\",\"notched\":false,\"offsetgroup\":\"chuwi\",\"orientation\":\"h\",\"showlegend\":true,\"x\":[50,50,50,54],\"x0\":\" \",\"xaxis\":\"x\",\"y\":[\"chuwi\",\"chuwi\",\"chuwi\",\"chuwi\"],\"y0\":\" \",\"yaxis\":\"y\",\"type\":\"box\"},{\"alignmentgroup\":\"True\",\"hovertemplate\":\"brand=%{y}\\u003cbr\\u003erating=%{x}\\u003cextra\\u003e\\u003c\\u002fextra\\u003e\",\"legendgroup\":\"gigabyte\",\"marker\":{\"color\":\"#FF6692\"},\"name\":\"gigabyte\",\"notched\":false,\"offsetgroup\":\"gigabyte\",\"orientation\":\"h\",\"showlegend\":true,\"x\":[67,73],\"x0\":\" \",\"xaxis\":\"x\",\"y\":[\"gigabyte\",\"gigabyte\"],\"y0\":\" \",\"yaxis\":\"y\",\"type\":\"box\"},{\"alignmentgroup\":\"True\",\"hovertemplate\":\"brand=%{y}\\u003cbr\\u003erating=%{x}\\u003cextra\\u003e\\u003c\\u002fextra\\u003e\",\"legendgroup\":\"jio\",\"marker\":{\"color\":\"#B6E880\"},\"name\":\"jio\",\"notched\":false,\"offsetgroup\":\"jio\",\"orientation\":\"h\",\"showlegend\":true,\"x\":[24],\"x0\":\" \",\"xaxis\":\"x\",\"y\":[\"jio\"],\"y0\":\" \",\"yaxis\":\"y\",\"type\":\"box\"},{\"alignmentgroup\":\"True\",\"hovertemplate\":\"brand=%{y}\\u003cbr\\u003erating=%{x}\\u003cextra\\u003e\\u003c\\u002fextra\\u003e\",\"legendgroup\":\"honor\",\"marker\":{\"color\":\"#FF97FF\"},\"name\":\"honor\",\"notched\":false,\"offsetgroup\":\"honor\",\"orientation\":\"h\",\"showlegend\":true,\"x\":[66,59],\"x0\":\" \",\"xaxis\":\"x\",\"y\":[\"honor\",\"honor\"],\"y0\":\" \",\"yaxis\":\"y\",\"type\":\"box\"},{\"alignmentgroup\":\"True\",\"hovertemplate\":\"brand=%{y}\\u003cbr\\u003erating=%{x}\\u003cextra\\u003e\\u003c\\u002fextra\\u003e\",\"legendgroup\":\"realme\",\"marker\":{\"color\":\"#FECB52\"},\"name\":\"realme\",\"notched\":false,\"offsetgroup\":\"realme\",\"orientation\":\"h\",\"showlegend\":true,\"x\":[52,62],\"x0\":\" \",\"xaxis\":\"x\",\"y\":[\"realme\",\"realme\"],\"y0\":\" \",\"yaxis\":\"y\",\"type\":\"box\"},{\"alignmentgroup\":\"True\",\"hovertemplate\":\"brand=%{y}\\u003cbr\\u003erating=%{x}\\u003cextra\\u003e\\u003c\\u002fextra\\u003e\",\"legendgroup\":\"avita\",\"marker\":{\"color\":\"#636efa\"},\"name\":\"avita\",\"notched\":false,\"offsetgroup\":\"avita\",\"orientation\":\"h\",\"showlegend\":true,\"x\":[56,50,51,41,43],\"x0\":\" \",\"xaxis\":\"x\",\"y\":[\"avita\",\"avita\",\"avita\",\"avita\",\"avita\"],\"y0\":\" \",\"yaxis\":\"y\",\"type\":\"box\"},{\"alignmentgroup\":\"True\",\"hovertemplate\":\"brand=%{y}\\u003cbr\\u003erating=%{x}\\u003cextra\\u003e\\u003c\\u002fextra\\u003e\",\"legendgroup\":\"microsoft\",\"marker\":{\"color\":\"#EF553B\"},\"name\":\"microsoft\",\"notched\":false,\"offsetgroup\":\"microsoft\",\"orientation\":\"h\",\"showlegend\":true,\"x\":[58,60],\"x0\":\" \",\"xaxis\":\"x\",\"y\":[\"microsoft\",\"microsoft\"],\"y0\":\" \",\"yaxis\":\"y\",\"type\":\"box\"},{\"alignmentgroup\":\"True\",\"hovertemplate\":\"brand=%{y}\\u003cbr\\u003erating=%{x}\\u003cextra\\u003e\\u003c\\u002fextra\\u003e\",\"legendgroup\":\"fujitsu\",\"marker\":{\"color\":\"#00cc96\"},\"name\":\"fujitsu\",\"notched\":false,\"offsetgroup\":\"fujitsu\",\"orientation\":\"h\",\"showlegend\":true,\"x\":[67,65,76,73,70],\"x0\":\" \",\"xaxis\":\"x\",\"y\":[\"fujitsu\",\"fujitsu\",\"fujitsu\",\"fujitsu\",\"fujitsu\"],\"y0\":\" \",\"yaxis\":\"y\",\"type\":\"box\"},{\"alignmentgroup\":\"True\",\"hovertemplate\":\"brand=%{y}\\u003cbr\\u003erating=%{x}\\u003cextra\\u003e\\u003c\\u002fextra\\u003e\",\"legendgroup\":\"lg\",\"marker\":{\"color\":\"#ab63fa\"},\"name\":\"lg\",\"notched\":false,\"offsetgroup\":\"lg\",\"orientation\":\"h\",\"showlegend\":true,\"x\":[67,72,78,69,75,72,72],\"x0\":\" \",\"xaxis\":\"x\",\"y\":[\"lg\",\"lg\",\"lg\",\"lg\",\"lg\",\"lg\",\"lg\"],\"y0\":\" \",\"yaxis\":\"y\",\"type\":\"box\"},{\"alignmentgroup\":\"True\",\"hovertemplate\":\"brand=%{y}\\u003cbr\\u003erating=%{x}\\u003cextra\\u003e\\u003c\\u002fextra\\u003e\",\"legendgroup\":\"walker\",\"marker\":{\"color\":\"#FFA15A\"},\"name\":\"walker\",\"notched\":false,\"offsetgroup\":\"walker\",\"orientation\":\"h\",\"showlegend\":true,\"x\":[37],\"x0\":\" \",\"xaxis\":\"x\",\"y\":[\"walker\"],\"y0\":\" \",\"yaxis\":\"y\",\"type\":\"box\"},{\"alignmentgroup\":\"True\",\"hovertemplate\":\"brand=%{y}\\u003cbr\\u003erating=%{x}\\u003cextra\\u003e\\u003c\\u002fextra\\u003e\",\"legendgroup\":\"axl\",\"marker\":{\"color\":\"#19d3f3\"},\"name\":\"axl\",\"notched\":false,\"offsetgroup\":\"axl\",\"orientation\":\"h\",\"showlegend\":true,\"x\":[38,37],\"x0\":\" \",\"xaxis\":\"x\",\"y\":[\"axl\",\"axl\"],\"y0\":\" \",\"yaxis\":\"y\",\"type\":\"box\"}],                        {\"template\":{\"data\":{\"histogram2dcontour\":[{\"type\":\"histogram2dcontour\",\"colorbar\":{\"outlinewidth\":0,\"ticks\":\"\"},\"colorscale\":[[0.0,\"#0d0887\"],[0.1111111111111111,\"#46039f\"],[0.2222222222222222,\"#7201a8\"],[0.3333333333333333,\"#9c179e\"],[0.4444444444444444,\"#bd3786\"],[0.5555555555555556,\"#d8576b\"],[0.6666666666666666,\"#ed7953\"],[0.7777777777777778,\"#fb9f3a\"],[0.8888888888888888,\"#fdca26\"],[1.0,\"#f0f921\"]]}],\"choropleth\":[{\"type\":\"choropleth\",\"colorbar\":{\"outlinewidth\":0,\"ticks\":\"\"}}],\"histogram2d\":[{\"type\":\"histogram2d\",\"colorbar\":{\"outlinewidth\":0,\"ticks\":\"\"},\"colorscale\":[[0.0,\"#0d0887\"],[0.1111111111111111,\"#46039f\"],[0.2222222222222222,\"#7201a8\"],[0.3333333333333333,\"#9c179e\"],[0.4444444444444444,\"#bd3786\"],[0.5555555555555556,\"#d8576b\"],[0.6666666666666666,\"#ed7953\"],[0.7777777777777778,\"#fb9f3a\"],[0.8888888888888888,\"#fdca26\"],[1.0,\"#f0f921\"]]}],\"heatmap\":[{\"type\":\"heatmap\",\"colorbar\":{\"outlinewidth\":0,\"ticks\":\"\"},\"colorscale\":[[0.0,\"#0d0887\"],[0.1111111111111111,\"#46039f\"],[0.2222222222222222,\"#7201a8\"],[0.3333333333333333,\"#9c179e\"],[0.4444444444444444,\"#bd3786\"],[0.5555555555555556,\"#d8576b\"],[0.6666666666666666,\"#ed7953\"],[0.7777777777777778,\"#fb9f3a\"],[0.8888888888888888,\"#fdca26\"],[1.0,\"#f0f921\"]]}],\"heatmapgl\":[{\"type\":\"heatmapgl\",\"colorbar\":{\"outlinewidth\":0,\"ticks\":\"\"},\"colorscale\":[[0.0,\"#0d0887\"],[0.1111111111111111,\"#46039f\"],[0.2222222222222222,\"#7201a8\"],[0.3333333333333333,\"#9c179e\"],[0.4444444444444444,\"#bd3786\"],[0.5555555555555556,\"#d8576b\"],[0.6666666666666666,\"#ed7953\"],[0.7777777777777778,\"#fb9f3a\"],[0.8888888888888888,\"#fdca26\"],[1.0,\"#f0f921\"]]}],\"contourcarpet\":[{\"type\":\"contourcarpet\",\"colorbar\":{\"outlinewidth\":0,\"ticks\":\"\"}}],\"contour\":[{\"type\":\"contour\",\"colorbar\":{\"outlinewidth\":0,\"ticks\":\"\"},\"colorscale\":[[0.0,\"#0d0887\"],[0.1111111111111111,\"#46039f\"],[0.2222222222222222,\"#7201a8\"],[0.3333333333333333,\"#9c179e\"],[0.4444444444444444,\"#bd3786\"],[0.5555555555555556,\"#d8576b\"],[0.6666666666666666,\"#ed7953\"],[0.7777777777777778,\"#fb9f3a\"],[0.8888888888888888,\"#fdca26\"],[1.0,\"#f0f921\"]]}],\"surface\":[{\"type\":\"surface\",\"colorbar\":{\"outlinewidth\":0,\"ticks\":\"\"},\"colorscale\":[[0.0,\"#0d0887\"],[0.1111111111111111,\"#46039f\"],[0.2222222222222222,\"#7201a8\"],[0.3333333333333333,\"#9c179e\"],[0.4444444444444444,\"#bd3786\"],[0.5555555555555556,\"#d8576b\"],[0.6666666666666666,\"#ed7953\"],[0.7777777777777778,\"#fb9f3a\"],[0.8888888888888888,\"#fdca26\"],[1.0,\"#f0f921\"]]}],\"mesh3d\":[{\"type\":\"mesh3d\",\"colorbar\":{\"outlinewidth\":0,\"ticks\":\"\"}}],\"scatter\":[{\"fillpattern\":{\"fillmode\":\"overlay\",\"size\":10,\"solidity\":0.2},\"type\":\"scatter\"}],\"parcoords\":[{\"type\":\"parcoords\",\"line\":{\"colorbar\":{\"outlinewidth\":0,\"ticks\":\"\"}}}],\"scatterpolargl\":[{\"type\":\"scatterpolargl\",\"marker\":{\"colorbar\":{\"outlinewidth\":0,\"ticks\":\"\"}}}],\"bar\":[{\"error_x\":{\"color\":\"#2a3f5f\"},\"error_y\":{\"color\":\"#2a3f5f\"},\"marker\":{\"line\":{\"color\":\"#E5ECF6\",\"width\":0.5},\"pattern\":{\"fillmode\":\"overlay\",\"size\":10,\"solidity\":0.2}},\"type\":\"bar\"}],\"scattergeo\":[{\"type\":\"scattergeo\",\"marker\":{\"colorbar\":{\"outlinewidth\":0,\"ticks\":\"\"}}}],\"scatterpolar\":[{\"type\":\"scatterpolar\",\"marker\":{\"colorbar\":{\"outlinewidth\":0,\"ticks\":\"\"}}}],\"histogram\":[{\"marker\":{\"pattern\":{\"fillmode\":\"overlay\",\"size\":10,\"solidity\":0.2}},\"type\":\"histogram\"}],\"scattergl\":[{\"type\":\"scattergl\",\"marker\":{\"colorbar\":{\"outlinewidth\":0,\"ticks\":\"\"}}}],\"scatter3d\":[{\"type\":\"scatter3d\",\"line\":{\"colorbar\":{\"outlinewidth\":0,\"ticks\":\"\"}},\"marker\":{\"colorbar\":{\"outlinewidth\":0,\"ticks\":\"\"}}}],\"scattermapbox\":[{\"type\":\"scattermapbox\",\"marker\":{\"colorbar\":{\"outlinewidth\":0,\"ticks\":\"\"}}}],\"scatterternary\":[{\"type\":\"scatterternary\",\"marker\":{\"colorbar\":{\"outlinewidth\":0,\"ticks\":\"\"}}}],\"scattercarpet\":[{\"type\":\"scattercarpet\",\"marker\":{\"colorbar\":{\"outlinewidth\":0,\"ticks\":\"\"}}}],\"carpet\":[{\"aaxis\":{\"endlinecolor\":\"#2a3f5f\",\"gridcolor\":\"white\",\"linecolor\":\"white\",\"minorgridcolor\":\"white\",\"startlinecolor\":\"#2a3f5f\"},\"baxis\":{\"endlinecolor\":\"#2a3f5f\",\"gridcolor\":\"white\",\"linecolor\":\"white\",\"minorgridcolor\":\"white\",\"startlinecolor\":\"#2a3f5f\"},\"type\":\"carpet\"}],\"table\":[{\"cells\":{\"fill\":{\"color\":\"#EBF0F8\"},\"line\":{\"color\":\"white\"}},\"header\":{\"fill\":{\"color\":\"#C8D4E3\"},\"line\":{\"color\":\"white\"}},\"type\":\"table\"}],\"barpolar\":[{\"marker\":{\"line\":{\"color\":\"#E5ECF6\",\"width\":0.5},\"pattern\":{\"fillmode\":\"overlay\",\"size\":10,\"solidity\":0.2}},\"type\":\"barpolar\"}],\"pie\":[{\"automargin\":true,\"type\":\"pie\"}]},\"layout\":{\"autotypenumbers\":\"strict\",\"colorway\":[\"#636efa\",\"#EF553B\",\"#00cc96\",\"#ab63fa\",\"#FFA15A\",\"#19d3f3\",\"#FF6692\",\"#B6E880\",\"#FF97FF\",\"#FECB52\"],\"font\":{\"color\":\"#2a3f5f\"},\"hovermode\":\"closest\",\"hoverlabel\":{\"align\":\"left\"},\"paper_bgcolor\":\"white\",\"plot_bgcolor\":\"#E5ECF6\",\"polar\":{\"bgcolor\":\"#E5ECF6\",\"angularaxis\":{\"gridcolor\":\"white\",\"linecolor\":\"white\",\"ticks\":\"\"},\"radialaxis\":{\"gridcolor\":\"white\",\"linecolor\":\"white\",\"ticks\":\"\"}},\"ternary\":{\"bgcolor\":\"#E5ECF6\",\"aaxis\":{\"gridcolor\":\"white\",\"linecolor\":\"white\",\"ticks\":\"\"},\"baxis\":{\"gridcolor\":\"white\",\"linecolor\":\"white\",\"ticks\":\"\"},\"caxis\":{\"gridcolor\":\"white\",\"linecolor\":\"white\",\"ticks\":\"\"}},\"coloraxis\":{\"colorbar\":{\"outlinewidth\":0,\"ticks\":\"\"}},\"colorscale\":{\"sequential\":[[0.0,\"#0d0887\"],[0.1111111111111111,\"#46039f\"],[0.2222222222222222,\"#7201a8\"],[0.3333333333333333,\"#9c179e\"],[0.4444444444444444,\"#bd3786\"],[0.5555555555555556,\"#d8576b\"],[0.6666666666666666,\"#ed7953\"],[0.7777777777777778,\"#fb9f3a\"],[0.8888888888888888,\"#fdca26\"],[1.0,\"#f0f921\"]],\"sequentialminus\":[[0.0,\"#0d0887\"],[0.1111111111111111,\"#46039f\"],[0.2222222222222222,\"#7201a8\"],[0.3333333333333333,\"#9c179e\"],[0.4444444444444444,\"#bd3786\"],[0.5555555555555556,\"#d8576b\"],[0.6666666666666666,\"#ed7953\"],[0.7777777777777778,\"#fb9f3a\"],[0.8888888888888888,\"#fdca26\"],[1.0,\"#f0f921\"]],\"diverging\":[[0,\"#8e0152\"],[0.1,\"#c51b7d\"],[0.2,\"#de77ae\"],[0.3,\"#f1b6da\"],[0.4,\"#fde0ef\"],[0.5,\"#f7f7f7\"],[0.6,\"#e6f5d0\"],[0.7,\"#b8e186\"],[0.8,\"#7fbc41\"],[0.9,\"#4d9221\"],[1,\"#276419\"]]},\"xaxis\":{\"gridcolor\":\"white\",\"linecolor\":\"white\",\"ticks\":\"\",\"title\":{\"standoff\":15},\"zerolinecolor\":\"white\",\"automargin\":true,\"zerolinewidth\":2},\"yaxis\":{\"gridcolor\":\"white\",\"linecolor\":\"white\",\"ticks\":\"\",\"title\":{\"standoff\":15},\"zerolinecolor\":\"white\",\"automargin\":true,\"zerolinewidth\":2},\"scene\":{\"xaxis\":{\"backgroundcolor\":\"#E5ECF6\",\"gridcolor\":\"white\",\"linecolor\":\"white\",\"showbackground\":true,\"ticks\":\"\",\"zerolinecolor\":\"white\",\"gridwidth\":2},\"yaxis\":{\"backgroundcolor\":\"#E5ECF6\",\"gridcolor\":\"white\",\"linecolor\":\"white\",\"showbackground\":true,\"ticks\":\"\",\"zerolinecolor\":\"white\",\"gridwidth\":2},\"zaxis\":{\"backgroundcolor\":\"#E5ECF6\",\"gridcolor\":\"white\",\"linecolor\":\"white\",\"showbackground\":true,\"ticks\":\"\",\"zerolinecolor\":\"white\",\"gridwidth\":2}},\"shapedefaults\":{\"line\":{\"color\":\"#2a3f5f\"}},\"annotationdefaults\":{\"arrowcolor\":\"#2a3f5f\",\"arrowhead\":0,\"arrowwidth\":1},\"geo\":{\"bgcolor\":\"white\",\"landcolor\":\"#E5ECF6\",\"subunitcolor\":\"white\",\"showland\":true,\"showlakes\":true,\"lakecolor\":\"white\"},\"title\":{\"x\":0.05},\"mapbox\":{\"style\":\"light\"}}},\"xaxis\":{\"anchor\":\"y\",\"domain\":[0.0,1.0],\"title\":{\"text\":\"rating\"}},\"yaxis\":{\"anchor\":\"x\",\"domain\":[0.0,1.0],\"title\":{\"text\":\"brand\"},\"categoryorder\":\"array\",\"categoryarray\":[\"axl\",\"walker\",\"lg\",\"fujitsu\",\"microsoft\",\"avita\",\"realme\",\"honor\",\"jio\",\"gigabyte\",\"chuwi\",\"zebronics\",\"iball\",\"primebook\",\"ultimus\",\"wings\",\"msi\",\"samsung\",\"dell\",\"asus\",\"infinix\",\"apple\",\"lenovo\",\"acer\",\"hp\",\"tecno\"]},\"legend\":{\"title\":{\"text\":\"brand\"},\"tracegroupgap\":0},\"margin\":{\"t\":60},\"boxmode\":\"overlay\"},                        {\"responsive\": true}                    ).then(function(){\n",
       "                            \n",
       "var gd = document.getElementById('2390a1fb-2f07-46a8-bf46-bf25da7a96de');\n",
       "var x = new MutationObserver(function (mutations, observer) {{\n",
       "        var display = window.getComputedStyle(gd).display;\n",
       "        if (!display || display === 'none') {{\n",
       "            console.log([gd, 'removed!']);\n",
       "            Plotly.purge(gd);\n",
       "            observer.disconnect();\n",
       "        }}\n",
       "}});\n",
       "\n",
       "// Listen for the removal of the full notebook cells\n",
       "var notebookContainer = gd.closest('#notebook-container');\n",
       "if (notebookContainer) {{\n",
       "    x.observe(notebookContainer, {childList: true});\n",
       "}}\n",
       "\n",
       "// Listen for the clearing of the current output cell\n",
       "var outputEl = gd.closest('.output');\n",
       "if (outputEl) {{\n",
       "    x.observe(outputEl, {childList: true});\n",
       "}}\n",
       "\n",
       "                        })                };                });            </script>        </div>"
      ]
     },
     "metadata": {},
     "output_type": "display_data"
    }
   ],
   "source": [
    "# Plot de distribuição (Box Plot) por Brand e rating\n",
    "px.box(df_laptops, x='rating', y='brand', color='brand', orientation='h')"
   ]
  },
  {
   "cell_type": "code",
   "execution_count": 29,
   "id": "e8618824",
   "metadata": {},
   "outputs": [
    {
     "data": {
      "application/vnd.plotly.v1+json": {
       "config": {
        "plotlyServerURL": "https://plot.ly"
       },
       "data": [
        {
         "customdata": [
          [
           "tecno"
          ],
          [
           "tecno"
          ]
         ],
         "hovertemplate": "brand=%{customdata[0]}<br>price=%{x}<br>rating=%{y}<extra></extra>",
         "legendgroup": "tecno",
         "marker": {
          "color": "#636efa",
          "symbol": "circle"
         },
         "mode": "markers",
         "name": "tecno",
         "orientation": "v",
         "showlegend": true,
         "type": "scatter",
         "x": [
          287.72,
          431.64
         ],
         "xaxis": "x",
         "y": [
          63,
          67
         ],
         "yaxis": "y"
        },
        {
         "customdata": [
          [
           "hp"
          ],
          [
           "hp"
          ],
          [
           "hp"
          ],
          [
           "hp"
          ],
          [
           "hp"
          ],
          [
           "hp"
          ],
          [
           "hp"
          ],
          [
           "hp"
          ],
          [
           "hp"
          ],
          [
           "hp"
          ],
          [
           "hp"
          ],
          [
           "hp"
          ],
          [
           "hp"
          ],
          [
           "hp"
          ],
          [
           "hp"
          ],
          [
           "hp"
          ],
          [
           "hp"
          ],
          [
           "hp"
          ],
          [
           "hp"
          ],
          [
           "hp"
          ],
          [
           "hp"
          ],
          [
           "hp"
          ],
          [
           "hp"
          ],
          [
           "hp"
          ],
          [
           "hp"
          ],
          [
           "hp"
          ],
          [
           "hp"
          ],
          [
           "hp"
          ],
          [
           "hp"
          ],
          [
           "hp"
          ],
          [
           "hp"
          ],
          [
           "hp"
          ],
          [
           "hp"
          ],
          [
           "hp"
          ],
          [
           "hp"
          ],
          [
           "hp"
          ],
          [
           "hp"
          ],
          [
           "hp"
          ],
          [
           "hp"
          ],
          [
           "hp"
          ],
          [
           "hp"
          ],
          [
           "hp"
          ],
          [
           "hp"
          ],
          [
           "hp"
          ],
          [
           "hp"
          ],
          [
           "hp"
          ],
          [
           "hp"
          ],
          [
           "hp"
          ],
          [
           "hp"
          ],
          [
           "hp"
          ],
          [
           "hp"
          ],
          [
           "hp"
          ],
          [
           "hp"
          ],
          [
           "hp"
          ],
          [
           "hp"
          ],
          [
           "hp"
          ],
          [
           "hp"
          ],
          [
           "hp"
          ],
          [
           "hp"
          ],
          [
           "hp"
          ],
          [
           "hp"
          ],
          [
           "hp"
          ],
          [
           "hp"
          ],
          [
           "hp"
          ],
          [
           "hp"
          ],
          [
           "hp"
          ],
          [
           "hp"
          ],
          [
           "hp"
          ],
          [
           "hp"
          ],
          [
           "hp"
          ],
          [
           "hp"
          ],
          [
           "hp"
          ],
          [
           "hp"
          ],
          [
           "hp"
          ],
          [
           "hp"
          ],
          [
           "hp"
          ],
          [
           "hp"
          ],
          [
           "hp"
          ],
          [
           "hp"
          ],
          [
           "hp"
          ],
          [
           "hp"
          ],
          [
           "hp"
          ],
          [
           "hp"
          ],
          [
           "hp"
          ],
          [
           "hp"
          ],
          [
           "hp"
          ],
          [
           "hp"
          ],
          [
           "hp"
          ],
          [
           "hp"
          ],
          [
           "hp"
          ],
          [
           "hp"
          ],
          [
           "hp"
          ],
          [
           "hp"
          ],
          [
           "hp"
          ],
          [
           "hp"
          ],
          [
           "hp"
          ],
          [
           "hp"
          ],
          [
           "hp"
          ],
          [
           "hp"
          ],
          [
           "hp"
          ],
          [
           "hp"
          ],
          [
           "hp"
          ],
          [
           "hp"
          ],
          [
           "hp"
          ],
          [
           "hp"
          ],
          [
           "hp"
          ],
          [
           "hp"
          ],
          [
           "hp"
          ],
          [
           "hp"
          ],
          [
           "hp"
          ],
          [
           "hp"
          ],
          [
           "hp"
          ],
          [
           "hp"
          ],
          [
           "hp"
          ],
          [
           "hp"
          ],
          [
           "hp"
          ],
          [
           "hp"
          ],
          [
           "hp"
          ],
          [
           "hp"
          ],
          [
           "hp"
          ],
          [
           "hp"
          ],
          [
           "hp"
          ],
          [
           "hp"
          ],
          [
           "hp"
          ],
          [
           "hp"
          ],
          [
           "hp"
          ],
          [
           "hp"
          ],
          [
           "hp"
          ],
          [
           "hp"
          ],
          [
           "hp"
          ],
          [
           "hp"
          ],
          [
           "hp"
          ],
          [
           "hp"
          ],
          [
           "hp"
          ],
          [
           "hp"
          ],
          [
           "hp"
          ],
          [
           "hp"
          ],
          [
           "hp"
          ],
          [
           "hp"
          ],
          [
           "hp"
          ],
          [
           "hp"
          ],
          [
           "hp"
          ],
          [
           "hp"
          ],
          [
           "hp"
          ],
          [
           "hp"
          ],
          [
           "hp"
          ],
          [
           "hp"
          ],
          [
           "hp"
          ],
          [
           "hp"
          ],
          [
           "hp"
          ],
          [
           "hp"
          ],
          [
           "hp"
          ],
          [
           "hp"
          ],
          [
           "hp"
          ],
          [
           "hp"
          ],
          [
           "hp"
          ],
          [
           "hp"
          ],
          [
           "hp"
          ],
          [
           "hp"
          ],
          [
           "hp"
          ],
          [
           "hp"
          ],
          [
           "hp"
          ],
          [
           "hp"
          ],
          [
           "hp"
          ],
          [
           "hp"
          ],
          [
           "hp"
          ],
          [
           "hp"
          ],
          [
           "hp"
          ],
          [
           "hp"
          ],
          [
           "hp"
          ],
          [
           "hp"
          ],
          [
           "hp"
          ],
          [
           "hp"
          ],
          [
           "hp"
          ],
          [
           "hp"
          ],
          [
           "hp"
          ],
          [
           "hp"
          ],
          [
           "hp"
          ],
          [
           "hp"
          ],
          [
           "hp"
          ],
          [
           "hp"
          ],
          [
           "hp"
          ],
          [
           "hp"
          ],
          [
           "hp"
          ],
          [
           "hp"
          ],
          [
           "hp"
          ],
          [
           "hp"
          ],
          [
           "hp"
          ],
          [
           "hp"
          ],
          [
           "hp"
          ],
          [
           "hp"
          ],
          [
           "hp"
          ],
          [
           "hp"
          ],
          [
           "hp"
          ],
          [
           "hp"
          ],
          [
           "hp"
          ],
          [
           "hp"
          ],
          [
           "hp"
          ],
          [
           "hp"
          ],
          [
           "hp"
          ],
          [
           "hp"
          ],
          [
           "hp"
          ],
          [
           "hp"
          ],
          [
           "hp"
          ],
          [
           "hp"
          ]
         ],
         "hovertemplate": "brand=%{customdata[0]}<br>price=%{x}<br>rating=%{y}<extra></extra>",
         "legendgroup": "hp",
         "marker": {
          "color": "#EF553B",
          "symbol": "circle"
         },
         "mode": "markers",
         "name": "hp",
         "orientation": "v",
         "showlegend": true,
         "type": "scatter",
         "x": [
          612.86,
          443.64,
          1846.86,
          665.51,
          231.46,
          947.36,
          863.51,
          647.52,
          1065.01,
          642.49,
          1403.11,
          849.25,
          1002.53,
          653.52,
          509.71,
          1774.9,
          839.53,
          863.4,
          934.27,
          695.5,
          599.66,
          731.48,
          803.44,
          623.54,
          671.51,
          621.26,
          596.97,
          524.11,
          418.45,
          389.67,
          520.51,
          372.87,
          485.72,
          2426.74,
          1989.7,
          731.48,
          611.65,
          1989.7,
          476.14,
          824.07,
          731.48,
          287.83,
          383.78,
          1112.99,
          875.51,
          1044.5,
          419.65,
          773.57,
          2116.82,
          1139.25,
          671.51,
          875.76,
          599.55,
          629.53,
          482.01,
          743.47,
          1073.29,
          419.65,
          611.54,
          563.57,
          851.41,
          623.54,
          695.5,
          581.08,
          959.35,
          767.46,
          231.46,
          718.06,
          683.61,
          487.04,
          767.46,
          299.71,
          500.72,
          1084.97,
          953.08,
          689.62,
          654.83,
          622.47,
          807.01,
          1862.56,
          1342.58,
          918.68,
          491.61,
          1192.98,
          1355.13,
          1091.39,
          430.56,
          4107.74,
          637.93,
          1110.47,
          3112.27,
          3514.05,
          1990.89,
          2020.89,
          467.62,
          347.69,
          1079.39,
          899.49,
          1367.23,
          623.54,
          1087.67,
          480.93,
          910.18,
          335.7,
          731.58,
          533.59,
          2194.67,
          696.46,
          383.67,
          1834.87,
          898.9,
          1432.01,
          1199.33,
          2870.01,
          1590.31,
          611.65,
          1259.74,
          1220.93,
          677.51,
          936.68,
          441.24,
          1762.91,
          1475.31,
          1678.95,
          275.73,
          524.53,
          520.51,
          311.71,
          1520.76,
          1598.35,
          395.66,
          1444.59,
          2759.2,
          611.54,
          287.83,
          1175.34,
          1158.44,
          1055.3,
          1039.71,
          1051.7,
          946.16,
          1007.32,
          467.62,
          611.54,
          1292.44,
          935.71,
          1387.71,
          1319.15,
          539.58,
          575.56,
          635.53,
          1391.11,
          539.58,
          644.03,
          467.62,
          1574.92,
          780.77,
          701.6,
          344.81,
          338.29,
          887.39,
          550.48,
          821.42,
          759.35,
          467.62,
          779.45,
          353.69,
          743.47,
          905.9,
          1104.23,
          839.42,
          808.35,
          779.45,
          395.66,
          737.47,
          1415.22,
          954.55,
          635.53,
          480.93,
          557.57,
          571.49,
          563.57,
          725.48,
          599.55,
          786.65,
          851.53,
          1319.15,
          630.73,
          773.57,
          623.54,
          407.64,
          1439.09,
          1724.94,
          449.63,
          1749.82,
          1661.22,
          517.99,
          695.5,
          394.46,
          474.35,
          251.74,
          323.81,
          371.78,
          1858.96,
          251.74
         ],
         "xaxis": "x",
         "y": [
          73,
          60,
          85,
          71,
          49,
          77,
          66,
          62,
          71,
          71,
          80,
          71,
          76,
          70,
          63,
          80,
          72,
          65,
          70,
          70,
          70,
          54,
          72,
          70,
          67,
          57,
          62,
          62,
          58,
          54,
          52,
          60,
          60,
          82,
          76,
          64,
          58,
          76,
          59,
          67,
          66,
          49,
          56,
          76,
          63,
          76,
          63,
          75,
          85,
          70,
          63,
          66,
          65,
          65,
          59,
          57,
          69,
          54,
          67,
          68,
          69,
          67,
          73,
          62,
          71,
          64,
          39,
          71,
          54,
          58,
          62,
          52,
          64,
          56,
          64,
          51,
          58,
          62,
          52,
          70,
          78,
          69,
          57,
          77,
          76,
          72,
          60,
          88,
          62,
          70,
          85,
          88,
          79,
          78,
          57,
          47,
          70,
          64,
          75,
          67,
          70,
          57,
          59,
          51,
          58,
          62,
          78,
          63,
          51,
          70,
          71,
          72,
          71,
          86,
          75,
          67,
          67,
          72,
          70,
          67,
          60,
          77,
          73,
          77,
          44,
          56,
          57,
          44,
          69,
          69,
          46,
          67,
          80,
          38,
          52,
          73,
          66,
          66,
          66,
          70,
          66,
          72,
          57,
          60,
          71,
          69,
          71,
          69,
          58,
          53,
          60,
          70,
          58,
          62,
          63,
          72,
          66,
          71,
          49,
          50,
          67,
          63,
          65,
          67,
          47,
          66,
          50,
          64,
          66,
          71,
          65,
          57,
          59,
          58,
          57,
          75,
          66,
          57,
          54,
          54,
          51,
          51,
          54,
          67,
          56,
          67,
          71,
          60,
          75,
          67,
          56,
          77,
          75,
          64,
          79,
          72,
          58,
          59,
          52,
          43,
          37,
          59,
          47,
          73,
          37
         ],
         "yaxis": "y"
        },
        {
         "customdata": [
          [
           "acer"
          ],
          [
           "acer"
          ],
          [
           "acer"
          ],
          [
           "acer"
          ],
          [
           "acer"
          ],
          [
           "acer"
          ],
          [
           "acer"
          ],
          [
           "acer"
          ],
          [
           "acer"
          ],
          [
           "acer"
          ],
          [
           "acer"
          ],
          [
           "acer"
          ],
          [
           "acer"
          ],
          [
           "acer"
          ],
          [
           "acer"
          ],
          [
           "acer"
          ],
          [
           "acer"
          ],
          [
           "acer"
          ],
          [
           "acer"
          ],
          [
           "acer"
          ],
          [
           "acer"
          ],
          [
           "acer"
          ],
          [
           "acer"
          ],
          [
           "acer"
          ],
          [
           "acer"
          ],
          [
           "acer"
          ],
          [
           "acer"
          ],
          [
           "acer"
          ],
          [
           "acer"
          ],
          [
           "acer"
          ],
          [
           "acer"
          ],
          [
           "acer"
          ],
          [
           "acer"
          ],
          [
           "acer"
          ],
          [
           "acer"
          ],
          [
           "acer"
          ],
          [
           "acer"
          ],
          [
           "acer"
          ],
          [
           "acer"
          ],
          [
           "acer"
          ],
          [
           "acer"
          ],
          [
           "acer"
          ],
          [
           "acer"
          ],
          [
           "acer"
          ],
          [
           "acer"
          ],
          [
           "acer"
          ],
          [
           "acer"
          ],
          [
           "acer"
          ],
          [
           "acer"
          ],
          [
           "acer"
          ],
          [
           "acer"
          ],
          [
           "acer"
          ],
          [
           "acer"
          ],
          [
           "acer"
          ],
          [
           "acer"
          ],
          [
           "acer"
          ],
          [
           "acer"
          ],
          [
           "acer"
          ],
          [
           "acer"
          ],
          [
           "acer"
          ],
          [
           "acer"
          ],
          [
           "acer"
          ],
          [
           "acer"
          ],
          [
           "acer"
          ],
          [
           "acer"
          ],
          [
           "acer"
          ],
          [
           "acer"
          ],
          [
           "acer"
          ],
          [
           "acer"
          ],
          [
           "acer"
          ],
          [
           "acer"
          ],
          [
           "acer"
          ],
          [
           "acer"
          ],
          [
           "acer"
          ],
          [
           "acer"
          ],
          [
           "acer"
          ],
          [
           "acer"
          ],
          [
           "acer"
          ],
          [
           "acer"
          ],
          [
           "acer"
          ],
          [
           "acer"
          ],
          [
           "acer"
          ],
          [
           "acer"
          ],
          [
           "acer"
          ],
          [
           "acer"
          ],
          [
           "acer"
          ],
          [
           "acer"
          ],
          [
           "acer"
          ],
          [
           "acer"
          ]
         ],
         "hovertemplate": "brand=%{customdata[0]}<br>price=%{x}<br>rating=%{y}<extra></extra>",
         "legendgroup": "acer",
         "marker": {
          "color": "#00cc96",
          "symbol": "circle"
         },
         "mode": "markers",
         "name": "acer",
         "orientation": "v",
         "showlegend": true,
         "type": "scatter",
         "x": [
          479.62,
          935.36,
          563.57,
          419.65,
          395.66,
          683.5,
          455.63,
          473.73,
          1139.25,
          575.56,
          1439.09,
          1259.19,
          371.68,
          467.62,
          395.66,
          875.4,
          2158.69,
          383.67,
          359.68,
          731.48,
          683.5,
          1439.09,
          335.7,
          563.57,
          359.68,
          557.69,
          599.55,
          539.69,
          515.7,
          563.57,
          557.57,
          683.5,
          477.34,
          287.72,
          767.57,
          791.44,
          599.55,
          739.99,
          305.71,
          479.62,
          419.65,
          515.6,
          683.5,
          635.53,
          443.64,
          503.6,
          497.61,
          1918.82,
          809.54,
          431.64,
          1559.02,
          905.49,
          503.6,
          863.4,
          369.28,
          359.56,
          353.69,
          515.6,
          491.61,
          659.52,
          394.46,
          347.8,
          479.62,
          599.55,
          698.84,
          677.51,
          670.43,
          1719.85,
          707.49,
          1715.04,
          479.62,
          441.36,
          1259.29,
          1379.12,
          539.63,
          1067.29,
          827.42,
          2399.76,
          934.17,
          551.58,
          395.66,
          384.87,
          2218.77,
          2998.23,
          335.7,
          917.48,
          359.68,
          827.53,
          905.5
         ],
         "xaxis": "x",
         "y": [
          62,
          63,
          64,
          60,
          58,
          71,
          60,
          62,
          72,
          67,
          75,
          70,
          49,
          64,
          54,
          64,
          78,
          57,
          59,
          70,
          67,
          75,
          49,
          67,
          47,
          64,
          64,
          64,
          62,
          63,
          63,
          56,
          62,
          38,
          65,
          62,
          67,
          65,
          38,
          58,
          62,
          50,
          72,
          70,
          63,
          60,
          45,
          79,
          65,
          58,
          80,
          59,
          64,
          70,
          59,
          50,
          57,
          50,
          60,
          69,
          56,
          53,
          51,
          50,
          59,
          52,
          50,
          70,
          62,
          78,
          58,
          47,
          65,
          66,
          64,
          65,
          73,
          74,
          72,
          59,
          50,
          44,
          71,
          77,
          52,
          71,
          54,
          71,
          67
         ],
         "yaxis": "y"
        },
        {
         "customdata": [
          [
           "lenovo"
          ],
          [
           "lenovo"
          ],
          [
           "lenovo"
          ],
          [
           "lenovo"
          ],
          [
           "lenovo"
          ],
          [
           "lenovo"
          ],
          [
           "lenovo"
          ],
          [
           "lenovo"
          ],
          [
           "lenovo"
          ],
          [
           "lenovo"
          ],
          [
           "lenovo"
          ],
          [
           "lenovo"
          ],
          [
           "lenovo"
          ],
          [
           "lenovo"
          ],
          [
           "lenovo"
          ],
          [
           "lenovo"
          ],
          [
           "lenovo"
          ],
          [
           "lenovo"
          ],
          [
           "lenovo"
          ],
          [
           "lenovo"
          ],
          [
           "lenovo"
          ],
          [
           "lenovo"
          ],
          [
           "lenovo"
          ],
          [
           "lenovo"
          ],
          [
           "lenovo"
          ],
          [
           "lenovo"
          ],
          [
           "lenovo"
          ],
          [
           "lenovo"
          ],
          [
           "lenovo"
          ],
          [
           "lenovo"
          ],
          [
           "lenovo"
          ],
          [
           "lenovo"
          ],
          [
           "lenovo"
          ],
          [
           "lenovo"
          ],
          [
           "lenovo"
          ],
          [
           "lenovo"
          ],
          [
           "lenovo"
          ],
          [
           "lenovo"
          ],
          [
           "lenovo"
          ],
          [
           "lenovo"
          ],
          [
           "lenovo"
          ],
          [
           "lenovo"
          ],
          [
           "lenovo"
          ],
          [
           "lenovo"
          ],
          [
           "lenovo"
          ],
          [
           "lenovo"
          ],
          [
           "lenovo"
          ],
          [
           "lenovo"
          ],
          [
           "lenovo"
          ],
          [
           "lenovo"
          ],
          [
           "lenovo"
          ],
          [
           "lenovo"
          ],
          [
           "lenovo"
          ],
          [
           "lenovo"
          ],
          [
           "lenovo"
          ],
          [
           "lenovo"
          ],
          [
           "lenovo"
          ],
          [
           "lenovo"
          ],
          [
           "lenovo"
          ],
          [
           "lenovo"
          ],
          [
           "lenovo"
          ],
          [
           "lenovo"
          ],
          [
           "lenovo"
          ],
          [
           "lenovo"
          ],
          [
           "lenovo"
          ],
          [
           "lenovo"
          ],
          [
           "lenovo"
          ],
          [
           "lenovo"
          ],
          [
           "lenovo"
          ],
          [
           "lenovo"
          ],
          [
           "lenovo"
          ],
          [
           "lenovo"
          ],
          [
           "lenovo"
          ],
          [
           "lenovo"
          ],
          [
           "lenovo"
          ],
          [
           "lenovo"
          ],
          [
           "lenovo"
          ],
          [
           "lenovo"
          ],
          [
           "lenovo"
          ],
          [
           "lenovo"
          ],
          [
           "lenovo"
          ],
          [
           "lenovo"
          ],
          [
           "lenovo"
          ],
          [
           "lenovo"
          ],
          [
           "lenovo"
          ],
          [
           "lenovo"
          ],
          [
           "lenovo"
          ],
          [
           "lenovo"
          ],
          [
           "lenovo"
          ],
          [
           "lenovo"
          ],
          [
           "lenovo"
          ],
          [
           "lenovo"
          ],
          [
           "lenovo"
          ],
          [
           "lenovo"
          ],
          [
           "lenovo"
          ],
          [
           "lenovo"
          ],
          [
           "lenovo"
          ],
          [
           "lenovo"
          ],
          [
           "lenovo"
          ],
          [
           "lenovo"
          ],
          [
           "lenovo"
          ],
          [
           "lenovo"
          ],
          [
           "lenovo"
          ],
          [
           "lenovo"
          ],
          [
           "lenovo"
          ],
          [
           "lenovo"
          ],
          [
           "lenovo"
          ],
          [
           "lenovo"
          ],
          [
           "lenovo"
          ],
          [
           "lenovo"
          ],
          [
           "lenovo"
          ],
          [
           "lenovo"
          ],
          [
           "lenovo"
          ],
          [
           "lenovo"
          ],
          [
           "lenovo"
          ],
          [
           "lenovo"
          ],
          [
           "lenovo"
          ],
          [
           "lenovo"
          ],
          [
           "lenovo"
          ],
          [
           "lenovo"
          ],
          [
           "lenovo"
          ],
          [
           "lenovo"
          ],
          [
           "lenovo"
          ],
          [
           "lenovo"
          ],
          [
           "lenovo"
          ],
          [
           "lenovo"
          ],
          [
           "lenovo"
          ],
          [
           "lenovo"
          ],
          [
           "lenovo"
          ],
          [
           "lenovo"
          ],
          [
           "lenovo"
          ],
          [
           "lenovo"
          ],
          [
           "lenovo"
          ],
          [
           "lenovo"
          ],
          [
           "lenovo"
          ],
          [
           "lenovo"
          ],
          [
           "lenovo"
          ],
          [
           "lenovo"
          ],
          [
           "lenovo"
          ],
          [
           "lenovo"
          ],
          [
           "lenovo"
          ],
          [
           "lenovo"
          ],
          [
           "lenovo"
          ],
          [
           "lenovo"
          ],
          [
           "lenovo"
          ],
          [
           "lenovo"
          ],
          [
           "lenovo"
          ],
          [
           "lenovo"
          ],
          [
           "lenovo"
          ],
          [
           "lenovo"
          ],
          [
           "lenovo"
          ],
          [
           "lenovo"
          ],
          [
           "lenovo"
          ],
          [
           "lenovo"
          ],
          [
           "lenovo"
          ],
          [
           "lenovo"
          ],
          [
           "lenovo"
          ],
          [
           "lenovo"
          ],
          [
           "lenovo"
          ],
          [
           "lenovo"
          ],
          [
           "lenovo"
          ],
          [
           "lenovo"
          ],
          [
           "lenovo"
          ],
          [
           "lenovo"
          ],
          [
           "lenovo"
          ],
          [
           "lenovo"
          ],
          [
           "lenovo"
          ],
          [
           "lenovo"
          ],
          [
           "lenovo"
          ],
          [
           "lenovo"
          ],
          [
           "lenovo"
          ],
          [
           "lenovo"
          ],
          [
           "lenovo"
          ],
          [
           "lenovo"
          ],
          [
           "lenovo"
          ],
          [
           "lenovo"
          ],
          [
           "lenovo"
          ],
          [
           "lenovo"
          ],
          [
           "lenovo"
          ],
          [
           "lenovo"
          ],
          [
           "lenovo"
          ],
          [
           "lenovo"
          ],
          [
           "lenovo"
          ],
          [
           "lenovo"
          ],
          [
           "lenovo"
          ],
          [
           "lenovo"
          ],
          [
           "lenovo"
          ],
          [
           "lenovo"
          ],
          [
           "lenovo"
          ],
          [
           "lenovo"
          ],
          [
           "lenovo"
          ],
          [
           "lenovo"
          ],
          [
           "lenovo"
          ],
          [
           "lenovo"
          ],
          [
           "lenovo"
          ],
          [
           "lenovo"
          ],
          [
           "lenovo"
          ],
          [
           "lenovo"
          ],
          [
           "lenovo"
          ],
          [
           "lenovo"
          ],
          [
           "lenovo"
          ]
         ],
         "hovertemplate": "brand=%{customdata[0]}<br>price=%{x}<br>rating=%{y}<extra></extra>",
         "legendgroup": "lenovo",
         "marker": {
          "color": "#ab63fa",
          "symbol": "circle"
         },
         "mode": "markers",
         "name": "lenovo",
         "orientation": "v",
         "showlegend": true,
         "type": "scatter",
         "x": [
          342.77,
          569.57,
          599.55,
          335.7,
          575.56,
          683.5,
          539.58,
          419.65,
          293.12,
          587.56,
          766.25,
          444.24,
          1139.25,
          959.35,
          491.61,
          491.61,
          547.51,
          431.64,
          539.58,
          1834.87,
          1585.41,
          740.14,
          309.31,
          587.56,
          846.61,
          803.44,
          1379.12,
          1199.22,
          395.54,
          263.73,
          400.58,
          1199.22,
          779.45,
          299.71,
          1799.01,
          683.5,
          659.52,
          755.57,
          437.64,
          551.58,
          563.57,
          755.46,
          887.39,
          743.47,
          898.3,
          383.67,
          2626.43,
          1477.47,
          827.42,
          1294.22,
          622.39,
          563.57,
          4306.77,
          661.92,
          743.47,
          593.66,
          443.64,
          414.85,
          389.67,
          668.03,
          841.82,
          1105.67,
          623.54,
          1019.32,
          961.75,
          1309.56,
          649.92,
          649.92,
          937.76,
          479.62,
          1117.66,
          1969.19,
          3585.9,
          1669.36,
          841.82,
          1240.06,
          479.62,
          1079.41,
          419.65,
          395.66,
          599.55,
          479.62,
          764.12,
          599.55,
          395.66,
          362.08,
          359.68,
          563.57,
          659.52,
          509.71,
          815.43,
          439.56,
          587.56,
          599.55,
          1043.31,
          791.44,
          2230.65,
          1547.03,
          1367.13,
          623.54,
          839.42,
          575.56,
          1201.62,
          1648.97,
          647.52,
          443.76,
          1057.7,
          755.46,
          796.23,
          863.4,
          741.9,
          443.64,
          745.87,
          707.49,
          721.88,
          769.86,
          503.6,
          539.58,
          545.58,
          569.57,
          705.81,
          767.46,
          841.82,
          440.04,
          805.84,
          563.57,
          1009.72,
          1043.31,
          935.36,
          449.75,
          707.49,
          527.59,
          833.47,
          1175.23,
          1097.28,
          1061.74,
          1199.22,
          1319.15,
          2700.79,
          1078.07,
          899.38,
          779.45,
          486.81,
          791.44,
          290.12,
          635.53,
          755.46,
          394.57,
          299.71,
          635.53,
          831.68,
          539.58,
          875.4,
          680.03,
          791.44,
          647.52,
          688.3,
          599.55,
          725.48,
          425.65,
          863.4,
          545.7,
          599.66,
          793.95,
          401.66,
          803.56,
          1499.17,
          905.49,
          491.61,
          563.57,
          457.8,
          335.7,
          886.31,
          419.65,
          419.65,
          562.49,
          359.68,
          557.57,
          624.87,
          898.17,
          377.67,
          634.45,
          633.18,
          757.86,
          971.46,
          1478.44,
          266.72,
          263.73,
          263.73,
          551.58,
          401.66,
          430.44,
          437.64,
          551.58,
          791.55,
          407.66,
          1754.29,
          521.71,
          371.68,
          386.19,
          719.48
         ],
         "xaxis": "x",
         "y": [
          62,
          66,
          59,
          59,
          71,
          69,
          51,
          66,
          47,
          70,
          63,
          59,
          80,
          70,
          66,
          64,
          67,
          60,
          64,
          77,
          83,
          60,
          50,
          64,
          62,
          69,
          63,
          67,
          53,
          53,
          53,
          78,
          74,
          49,
          64,
          57,
          58,
          62,
          50,
          58,
          62,
          66,
          57,
          60,
          63,
          51,
          64,
          67,
          66,
          75,
          65,
          57,
          86,
          70,
          69,
          54,
          53,
          57,
          56,
          69,
          67,
          75,
          63,
          58,
          57,
          63,
          65,
          69,
          64,
          56,
          58,
          84,
          85,
          78,
          58,
          77,
          57,
          65,
          57,
          57,
          67,
          58,
          60,
          62,
          51,
          46,
          51,
          63,
          64,
          43,
          69,
          58,
          59,
          65,
          71,
          63,
          89,
          83,
          79,
          67,
          66,
          56,
          65,
          83,
          69,
          52,
          58,
          60,
          62,
          58,
          58,
          53,
          63,
          58,
          59,
          69,
          58,
          60,
          56,
          65,
          64,
          60,
          60,
          60,
          62,
          65,
          64,
          62,
          60,
          59,
          64,
          58,
          60,
          72,
          71,
          73,
          73,
          75,
          73,
          63,
          69,
          72,
          57,
          69,
          38,
          62,
          65,
          59,
          50,
          70,
          62,
          58,
          69,
          64,
          67,
          66,
          67,
          64,
          67,
          59,
          70,
          57,
          62,
          62,
          57,
          63,
          75,
          62,
          57,
          57,
          59,
          54,
          64,
          53,
          54,
          56,
          59,
          57,
          66,
          64,
          50,
          67,
          58,
          67,
          71,
          78,
          47,
          43,
          45,
          58,
          56,
          56,
          60,
          66,
          55,
          52,
          75,
          54,
          50,
          48,
          64
         ],
         "yaxis": "y"
        },
        {
         "customdata": [
          [
           "apple"
          ],
          [
           "apple"
          ],
          [
           "apple"
          ],
          [
           "apple"
          ],
          [
           "apple"
          ],
          [
           "apple"
          ],
          [
           "apple"
          ],
          [
           "apple"
          ],
          [
           "apple"
          ],
          [
           "apple"
          ],
          [
           "apple"
          ],
          [
           "apple"
          ],
          [
           "apple"
          ],
          [
           "apple"
          ],
          [
           "apple"
          ]
         ],
         "hovertemplate": "brand=%{customdata[0]}<br>price=%{x}<br>rating=%{y}<extra></extra>",
         "legendgroup": "apple",
         "marker": {
          "color": "#FFA15A",
          "symbol": "circle"
         },
         "mode": "markers",
         "name": "apple",
         "orientation": "v",
         "showlegend": true,
         "type": "scatter",
         "x": [
          851.41,
          4796.16,
          1235.2,
          1439.09,
          1319.15,
          3476.88,
          4196.49,
          2997.15,
          2397.48,
          1738.92,
          1595,
          1642.97,
          2277.54,
          2877.21,
          2037.68
         ],
         "xaxis": "x",
         "y": [
          45,
          65,
          48,
          53,
          43,
          63,
          64,
          58,
          56,
          56,
          45,
          45,
          53,
          58,
          51
         ],
         "yaxis": "y"
        },
        {
         "customdata": [
          [
           "infinix"
          ],
          [
           "infinix"
          ],
          [
           "infinix"
          ],
          [
           "infinix"
          ],
          [
           "infinix"
          ],
          [
           "infinix"
          ],
          [
           "infinix"
          ],
          [
           "infinix"
          ],
          [
           "infinix"
          ],
          [
           "infinix"
          ],
          [
           "infinix"
          ],
          [
           "infinix"
          ],
          [
           "infinix"
          ]
         ],
         "hovertemplate": "brand=%{customdata[0]}<br>price=%{x}<br>rating=%{y}<extra></extra>",
         "legendgroup": "infinix",
         "marker": {
          "color": "#19d3f3",
          "symbol": "circle"
         },
         "mode": "markers",
         "name": "infinix",
         "orientation": "v",
         "showlegend": true,
         "type": "scatter",
         "x": [
          419.65,
          719.48,
          359.68,
          335.7,
          323.7,
          431.64,
          695.5,
          467.62,
          587.56,
          311.71,
          299.71,
          539.58,
          467.62
         ],
         "xaxis": "x",
         "y": [
          56,
          71,
          54,
          50,
          53,
          60,
          63,
          56,
          57,
          57,
          52,
          57,
          58
         ],
         "yaxis": "y"
        },
        {
         "customdata": [
          [
           "asus"
          ],
          [
           "asus"
          ],
          [
           "asus"
          ],
          [
           "asus"
          ],
          [
           "asus"
          ],
          [
           "asus"
          ],
          [
           "asus"
          ],
          [
           "asus"
          ],
          [
           "asus"
          ],
          [
           "asus"
          ],
          [
           "asus"
          ],
          [
           "asus"
          ],
          [
           "asus"
          ],
          [
           "asus"
          ],
          [
           "asus"
          ],
          [
           "asus"
          ],
          [
           "asus"
          ],
          [
           "asus"
          ],
          [
           "asus"
          ],
          [
           "asus"
          ],
          [
           "asus"
          ],
          [
           "asus"
          ],
          [
           "asus"
          ],
          [
           "asus"
          ],
          [
           "asus"
          ],
          [
           "asus"
          ],
          [
           "asus"
          ],
          [
           "asus"
          ],
          [
           "asus"
          ],
          [
           "asus"
          ],
          [
           "asus"
          ],
          [
           "asus"
          ],
          [
           "asus"
          ],
          [
           "asus"
          ],
          [
           "asus"
          ],
          [
           "asus"
          ],
          [
           "asus"
          ],
          [
           "asus"
          ],
          [
           "asus"
          ],
          [
           "asus"
          ],
          [
           "asus"
          ],
          [
           "asus"
          ],
          [
           "asus"
          ],
          [
           "asus"
          ],
          [
           "asus"
          ],
          [
           "asus"
          ],
          [
           "asus"
          ],
          [
           "asus"
          ],
          [
           "asus"
          ],
          [
           "asus"
          ],
          [
           "asus"
          ],
          [
           "asus"
          ],
          [
           "asus"
          ],
          [
           "asus"
          ],
          [
           "asus"
          ],
          [
           "asus"
          ],
          [
           "asus"
          ],
          [
           "asus"
          ],
          [
           "asus"
          ],
          [
           "asus"
          ],
          [
           "asus"
          ],
          [
           "asus"
          ],
          [
           "asus"
          ],
          [
           "asus"
          ],
          [
           "asus"
          ],
          [
           "asus"
          ],
          [
           "asus"
          ],
          [
           "asus"
          ],
          [
           "asus"
          ],
          [
           "asus"
          ],
          [
           "asus"
          ],
          [
           "asus"
          ],
          [
           "asus"
          ],
          [
           "asus"
          ],
          [
           "asus"
          ],
          [
           "asus"
          ],
          [
           "asus"
          ],
          [
           "asus"
          ],
          [
           "asus"
          ],
          [
           "asus"
          ],
          [
           "asus"
          ],
          [
           "asus"
          ],
          [
           "asus"
          ],
          [
           "asus"
          ],
          [
           "asus"
          ],
          [
           "asus"
          ],
          [
           "asus"
          ],
          [
           "asus"
          ],
          [
           "asus"
          ],
          [
           "asus"
          ],
          [
           "asus"
          ],
          [
           "asus"
          ],
          [
           "asus"
          ],
          [
           "asus"
          ],
          [
           "asus"
          ],
          [
           "asus"
          ],
          [
           "asus"
          ],
          [
           "asus"
          ],
          [
           "asus"
          ],
          [
           "asus"
          ],
          [
           "asus"
          ],
          [
           "asus"
          ],
          [
           "asus"
          ],
          [
           "asus"
          ],
          [
           "asus"
          ],
          [
           "asus"
          ],
          [
           "asus"
          ],
          [
           "asus"
          ],
          [
           "asus"
          ],
          [
           "asus"
          ],
          [
           "asus"
          ],
          [
           "asus"
          ],
          [
           "asus"
          ],
          [
           "asus"
          ],
          [
           "asus"
          ],
          [
           "asus"
          ],
          [
           "asus"
          ],
          [
           "asus"
          ],
          [
           "asus"
          ],
          [
           "asus"
          ],
          [
           "asus"
          ],
          [
           "asus"
          ],
          [
           "asus"
          ],
          [
           "asus"
          ],
          [
           "asus"
          ],
          [
           "asus"
          ],
          [
           "asus"
          ],
          [
           "asus"
          ],
          [
           "asus"
          ],
          [
           "asus"
          ],
          [
           "asus"
          ],
          [
           "asus"
          ],
          [
           "asus"
          ],
          [
           "asus"
          ],
          [
           "asus"
          ],
          [
           "asus"
          ],
          [
           "asus"
          ],
          [
           "asus"
          ],
          [
           "asus"
          ],
          [
           "asus"
          ],
          [
           "asus"
          ],
          [
           "asus"
          ],
          [
           "asus"
          ],
          [
           "asus"
          ],
          [
           "asus"
          ],
          [
           "asus"
          ],
          [
           "asus"
          ],
          [
           "asus"
          ],
          [
           "asus"
          ],
          [
           "asus"
          ],
          [
           "asus"
          ],
          [
           "asus"
          ],
          [
           "asus"
          ],
          [
           "asus"
          ],
          [
           "asus"
          ],
          [
           "asus"
          ],
          [
           "asus"
          ],
          [
           "asus"
          ],
          [
           "asus"
          ],
          [
           "asus"
          ],
          [
           "asus"
          ],
          [
           "asus"
          ],
          [
           "asus"
          ],
          [
           "asus"
          ],
          [
           "asus"
          ],
          [
           "asus"
          ],
          [
           "asus"
          ],
          [
           "asus"
          ],
          [
           "asus"
          ],
          [
           "asus"
          ],
          [
           "asus"
          ],
          [
           "asus"
          ],
          [
           "asus"
          ],
          [
           "asus"
          ],
          [
           "asus"
          ],
          [
           "asus"
          ],
          [
           "asus"
          ],
          [
           "asus"
          ],
          [
           "asus"
          ],
          [
           "asus"
          ],
          [
           "asus"
          ],
          [
           "asus"
          ],
          [
           "asus"
          ],
          [
           "asus"
          ],
          [
           "asus"
          ],
          [
           "asus"
          ],
          [
           "asus"
          ],
          [
           "asus"
          ],
          [
           "asus"
          ],
          [
           "asus"
          ],
          [
           "asus"
          ],
          [
           "asus"
          ],
          [
           "asus"
          ],
          [
           "asus"
          ],
          [
           "asus"
          ],
          [
           "asus"
          ],
          [
           "asus"
          ],
          [
           "asus"
          ],
          [
           "asus"
          ],
          [
           "asus"
          ],
          [
           "asus"
          ],
          [
           "asus"
          ],
          [
           "asus"
          ],
          [
           "asus"
          ],
          [
           "asus"
          ],
          [
           "asus"
          ],
          [
           "asus"
          ],
          [
           "asus"
          ],
          [
           "asus"
          ],
          [
           "asus"
          ]
         ],
         "hovertemplate": "brand=%{customdata[0]}<br>price=%{x}<br>rating=%{y}<extra></extra>",
         "legendgroup": "asus",
         "marker": {
          "color": "#FF6692",
          "symbol": "circle"
         },
         "mode": "markers",
         "name": "asus",
         "orientation": "v",
         "showlegend": true,
         "type": "scatter",
         "x": [
          599.55,
          688.3,
          911.38,
          479.62,
          335.7,
          563.57,
          767.46,
          1362.1,
          3238.1,
          888.53,
          731.48,
          431.64,
          1307.16,
          695.5,
          869.4,
          835.81,
          563.57,
          647.52,
          979.73,
          1139.25,
          875.4,
          647.52,
          1031.31,
          815.43,
          902.5,
          803.44,
          1858.86,
          1156.03,
          527.59,
          635.53,
          401.66,
          875.4,
          575.56,
          1103.27,
          1019.32,
          215.76,
          875.4,
          899.38,
          1259.19,
          1080.12,
          1029.03,
          695.5,
          731.48,
          719.48,
          383.67,
          677.63,
          683.5,
          1439.09,
          2158.69,
          2278.62,
          1457.07,
          573.64,
          1079.29,
          667.9,
          839.42,
          947.36,
          1268.17,
          515.6,
          647.52,
          582.63,
          851.41,
          370.48,
          750.79,
          1738.92,
          393.68,
          362.19,
          1037.43,
          570.29,
          779.45,
          1188.68,
          335.7,
          959.11,
          1031.31,
          179.78,
          800.18,
          647.52,
          251.74,
          1039.7,
          832.79,
          887.39,
          1199.22,
          1033.7,
          338.09,
          881.07,
          539.58,
          724.15,
          887.39,
          839.42,
          1187.23,
          1091.28,
          1379.12,
          203.77,
          308.84,
          227.75,
          535.37,
          275.74,
          1180.97,
          911.38,
          911.38,
          1131.8,
          490.84,
          858.73,
          407.66,
          695.5,
          719.48,
          1079.29,
          450.81,
          443.64,
          1139.25,
          839.42,
          875.4,
          393.26,
          719.48,
          311.71,
          472.42,
          779.45,
          1067.41,
          839.54,
          1702.93,
          918.69,
          1559.02,
          767.46,
          887.39,
          1199.22,
          743.47,
          671.51,
          1002.64,
          1678.95,
          707.49,
          575.44,
          839.42,
          779.45,
          1142.97,
          420.76,
          335.7,
          593.55,
          587.56,
          923.37,
          479.62,
          1256.3,
          1521.84,
          2398.56,
          1583.01,
          1605.8,
          1858.86,
          1731.92,
          1139.25,
          3130.16,
          1798.89,
          1618.99,
          724.15,
          2517.29,
          1858.86,
          839.42,
          1018.84,
          1360.06,
          1271.18,
          1336.53,
          918.92,
          1127.37,
          1937.09,
          2398.56,
          431.64,
          370.92,
          555.15,
          1499.05,
          707.49,
          383.67,
          1583.13,
          1391.11,
          1079.29,
          1094.28,
          755.46,
          862.78,
          477.22,
          467.5,
          671.51,
          851.41,
          749.59,
          825.15,
          1031.31,
          551.58,
          719.48,
          1259.19,
          820.23,
          1175.23,
          1115.27,
          779.45,
          899.38,
          527.59,
          767.46,
          470.64,
          1559.02,
          707.49,
          953.47,
          609.08,
          742.39,
          2998.23,
          539.34,
          547.98,
          386.07,
          827.42,
          3358.03,
          659.52,
          935.36,
          803.44,
          719.48,
          791.44,
          539.58,
          815.43
         ],
         "xaxis": "x",
         "y": [
          70,
          71,
          76,
          57,
          57,
          65,
          72,
          77,
          83,
          75,
          67,
          64,
          78,
          72,
          62,
          64,
          57,
          63,
          71,
          70,
          70,
          66,
          75,
          72,
          72,
          64,
          88,
          79,
          60,
          65,
          56,
          70,
          62,
          71,
          69,
          35,
          71,
          65,
          76,
          77,
          76,
          70,
          66,
          60,
          59,
          64,
          58,
          80,
          77,
          79,
          78,
          64,
          67,
          64,
          70,
          65,
          71,
          59,
          65,
          60,
          65,
          50,
          73,
          85,
          37,
          44,
          67,
          58,
          65,
          69,
          45,
          63,
          70,
          38,
          66,
          51,
          38,
          73,
          58,
          62,
          70,
          71,
          43,
          67,
          59,
          60,
          64,
          63,
          73,
          64,
          72,
          37,
          41,
          37,
          57,
          37,
          72,
          65,
          66,
          70,
          57,
          62,
          56,
          69,
          63,
          76,
          59,
          57,
          72,
          66,
          72,
          54,
          64,
          45,
          57,
          72,
          75,
          70,
          82,
          72,
          71,
          65,
          60,
          75,
          64,
          60,
          72,
          83,
          71,
          59,
          69,
          64,
          66,
          53,
          45,
          58,
          63,
          64,
          54,
          71,
          73,
          89,
          84,
          75,
          83,
          73,
          77,
          89,
          76,
          80,
          67,
          73,
          82,
          66,
          72,
          75,
          66,
          76,
          66,
          70,
          84,
          71,
          56,
          45,
          56,
          78,
          60,
          59,
          73,
          73,
          70,
          75,
          59,
          64,
          52,
          48,
          59,
          63,
          56,
          62,
          60,
          57,
          56,
          71,
          64,
          64,
          70,
          62,
          60,
          53,
          58,
          51,
          74,
          62,
          67,
          59,
          67,
          89,
          58,
          59,
          53,
          72,
          83,
          68,
          68,
          65,
          64,
          68,
          59,
          68
         ],
         "yaxis": "y"
        },
        {
         "customdata": [
          [
           "dell"
          ],
          [
           "dell"
          ],
          [
           "dell"
          ],
          [
           "dell"
          ],
          [
           "dell"
          ],
          [
           "dell"
          ],
          [
           "dell"
          ],
          [
           "dell"
          ],
          [
           "dell"
          ],
          [
           "dell"
          ],
          [
           "dell"
          ],
          [
           "dell"
          ],
          [
           "dell"
          ],
          [
           "dell"
          ],
          [
           "dell"
          ],
          [
           "dell"
          ],
          [
           "dell"
          ],
          [
           "dell"
          ],
          [
           "dell"
          ],
          [
           "dell"
          ],
          [
           "dell"
          ],
          [
           "dell"
          ],
          [
           "dell"
          ],
          [
           "dell"
          ],
          [
           "dell"
          ],
          [
           "dell"
          ],
          [
           "dell"
          ],
          [
           "dell"
          ],
          [
           "dell"
          ],
          [
           "dell"
          ],
          [
           "dell"
          ],
          [
           "dell"
          ],
          [
           "dell"
          ],
          [
           "dell"
          ],
          [
           "dell"
          ],
          [
           "dell"
          ],
          [
           "dell"
          ],
          [
           "dell"
          ],
          [
           "dell"
          ],
          [
           "dell"
          ],
          [
           "dell"
          ],
          [
           "dell"
          ],
          [
           "dell"
          ],
          [
           "dell"
          ],
          [
           "dell"
          ],
          [
           "dell"
          ],
          [
           "dell"
          ],
          [
           "dell"
          ],
          [
           "dell"
          ],
          [
           "dell"
          ],
          [
           "dell"
          ],
          [
           "dell"
          ],
          [
           "dell"
          ],
          [
           "dell"
          ],
          [
           "dell"
          ],
          [
           "dell"
          ],
          [
           "dell"
          ],
          [
           "dell"
          ],
          [
           "dell"
          ],
          [
           "dell"
          ],
          [
           "dell"
          ],
          [
           "dell"
          ],
          [
           "dell"
          ],
          [
           "dell"
          ],
          [
           "dell"
          ],
          [
           "dell"
          ],
          [
           "dell"
          ],
          [
           "dell"
          ],
          [
           "dell"
          ],
          [
           "dell"
          ],
          [
           "dell"
          ],
          [
           "dell"
          ],
          [
           "dell"
          ],
          [
           "dell"
          ],
          [
           "dell"
          ],
          [
           "dell"
          ],
          [
           "dell"
          ],
          [
           "dell"
          ],
          [
           "dell"
          ],
          [
           "dell"
          ],
          [
           "dell"
          ],
          [
           "dell"
          ],
          [
           "dell"
          ],
          [
           "dell"
          ],
          [
           "dell"
          ],
          [
           "dell"
          ],
          [
           "dell"
          ],
          [
           "dell"
          ],
          [
           "dell"
          ],
          [
           "dell"
          ],
          [
           "dell"
          ],
          [
           "dell"
          ],
          [
           "dell"
          ],
          [
           "dell"
          ],
          [
           "dell"
          ],
          [
           "dell"
          ],
          [
           "dell"
          ],
          [
           "dell"
          ],
          [
           "dell"
          ],
          [
           "dell"
          ],
          [
           "dell"
          ],
          [
           "dell"
          ],
          [
           "dell"
          ],
          [
           "dell"
          ],
          [
           "dell"
          ],
          [
           "dell"
          ]
         ],
         "hovertemplate": "brand=%{customdata[0]}<br>price=%{x}<br>rating=%{y}<extra></extra>",
         "legendgroup": "dell",
         "marker": {
          "color": "#B6E880",
          "symbol": "circle"
         },
         "mode": "markers",
         "name": "dell",
         "orientation": "v",
         "showlegend": true,
         "type": "scatter",
         "x": [
          419.65,
          818.42,
          974.94,
          475.53,
          1037.31,
          869.4,
          599.67,
          1007.32,
          827.42,
          1780.9,
          455.63,
          791.44,
          929.37,
          470.62,
          687.22,
          611.54,
          839.53,
          626.04,
          1055.3,
          2500.5,
          440.53,
          718.28,
          419.65,
          1823,
          1067.29,
          1265.18,
          617.5,
          683.5,
          743.47,
          815.89,
          675.71,
          682.18,
          683.5,
          611.54,
          467.62,
          791.44,
          1193.1,
          719.48,
          449.63,
          1031.31,
          2677.82,
          550.14,
          459.93,
          1187.23,
          395.66,
          1049.3,
          575.56,
          929.37,
          496.92,
          1046.9,
          725.48,
          447.13,
          1013.32,
          3088.18,
          1151.25,
          730.4,
          5450.88,
          814.23,
          3885.74,
          2266.63,
          5408.9,
          3597.9,
          785.57,
          887.39,
          471.22,
          719.48,
          501.42,
          1055.3,
          1085.28,
          491.61,
          523.99,
          671.51,
          575.56,
          955.75,
          3352.03,
          2422.55,
          490.41,
          2464.52,
          1138.17,
          743.47,
          1894.84,
          1996.78,
          1193.22,
          959.71,
          515.6,
          1067.17,
          863.4,
          887.39,
          743.47,
          1790.49,
          515.72,
          2254.64,
          1319.15,
          1559.02,
          976.29,
          2704.39,
          2650.42,
          4659.31,
          4419.44,
          575.56,
          623.54,
          461.63,
          539.58,
          670.43,
          1434.41,
          1055.3
         ],
         "xaxis": "x",
         "y": [
          60,
          66,
          71,
          66,
          66,
          70,
          60,
          72,
          74,
          78,
          59,
          53,
          73,
          63,
          62,
          68,
          62,
          56,
          67,
          80,
          53,
          58,
          49,
          59,
          64,
          75,
          58,
          57,
          53,
          53,
          57,
          57,
          56,
          57,
          56,
          57,
          62,
          53,
          58,
          57,
          78,
          56,
          58,
          63,
          58,
          62,
          54,
          59,
          57,
          60,
          63,
          58,
          60,
          85,
          63,
          65,
          83,
          65,
          85,
          80,
          83,
          89,
          60,
          63,
          60,
          56,
          53,
          56,
          67,
          58,
          52,
          60,
          60,
          70,
          88,
          82,
          54,
          72,
          71,
          56,
          78,
          82,
          59,
          58,
          57,
          56,
          52,
          57,
          56,
          76,
          52,
          79,
          73,
          75,
          69,
          78,
          83,
          82,
          83,
          63,
          63,
          59,
          62,
          59,
          68,
          72
         ],
         "yaxis": "y"
        },
        {
         "customdata": [
          [
           "samsung"
          ],
          [
           "samsung"
          ],
          [
           "samsung"
          ],
          [
           "samsung"
          ],
          [
           "samsung"
          ],
          [
           "samsung"
          ],
          [
           "samsung"
          ]
         ],
         "hovertemplate": "brand=%{customdata[0]}<br>price=%{x}<br>rating=%{y}<extra></extra>",
         "legendgroup": "samsung",
         "marker": {
          "color": "#FF97FF",
          "symbol": "circle"
         },
         "mode": "markers",
         "name": "samsung",
         "orientation": "v",
         "showlegend": true,
         "type": "scatter",
         "x": [
          779.45,
          539.58,
          575.56,
          839.42,
          911.38,
          659.52,
          1403.11
         ],
         "xaxis": "x",
         "y": [
          68,
          59,
          62,
          56,
          60,
          59,
          68
         ],
         "yaxis": "y"
        },
        {
         "customdata": [
          [
           "msi"
          ],
          [
           "msi"
          ],
          [
           "msi"
          ],
          [
           "msi"
          ],
          [
           "msi"
          ],
          [
           "msi"
          ],
          [
           "msi"
          ],
          [
           "msi"
          ],
          [
           "msi"
          ],
          [
           "msi"
          ],
          [
           "msi"
          ],
          [
           "msi"
          ],
          [
           "msi"
          ],
          [
           "msi"
          ],
          [
           "msi"
          ],
          [
           "msi"
          ],
          [
           "msi"
          ],
          [
           "msi"
          ],
          [
           "msi"
          ],
          [
           "msi"
          ],
          [
           "msi"
          ],
          [
           "msi"
          ],
          [
           "msi"
          ],
          [
           "msi"
          ],
          [
           "msi"
          ],
          [
           "msi"
          ],
          [
           "msi"
          ],
          [
           "msi"
          ],
          [
           "msi"
          ],
          [
           "msi"
          ],
          [
           "msi"
          ],
          [
           "msi"
          ],
          [
           "msi"
          ],
          [
           "msi"
          ],
          [
           "msi"
          ],
          [
           "msi"
          ],
          [
           "msi"
          ],
          [
           "msi"
          ],
          [
           "msi"
          ],
          [
           "msi"
          ],
          [
           "msi"
          ],
          [
           "msi"
          ],
          [
           "msi"
          ],
          [
           "msi"
          ],
          [
           "msi"
          ],
          [
           "msi"
          ],
          [
           "msi"
          ],
          [
           "msi"
          ],
          [
           "msi"
          ],
          [
           "msi"
          ],
          [
           "msi"
          ],
          [
           "msi"
          ],
          [
           "msi"
          ],
          [
           "msi"
          ],
          [
           "msi"
          ],
          [
           "msi"
          ],
          [
           "msi"
          ],
          [
           "msi"
          ],
          [
           "msi"
          ],
          [
           "msi"
          ],
          [
           "msi"
          ],
          [
           "msi"
          ],
          [
           "msi"
          ],
          [
           "msi"
          ],
          [
           "msi"
          ],
          [
           "msi"
          ],
          [
           "msi"
          ],
          [
           "msi"
          ],
          [
           "msi"
          ],
          [
           "msi"
          ],
          [
           "msi"
          ],
          [
           "msi"
          ],
          [
           "msi"
          ],
          [
           "msi"
          ],
          [
           "msi"
          ],
          [
           "msi"
          ],
          [
           "msi"
          ],
          [
           "msi"
          ],
          [
           "msi"
          ],
          [
           "msi"
          ],
          [
           "msi"
          ],
          [
           "msi"
          ],
          [
           "msi"
          ],
          [
           "msi"
          ],
          [
           "msi"
          ],
          [
           "msi"
          ],
          [
           "msi"
          ],
          [
           "msi"
          ],
          [
           "msi"
          ],
          [
           "msi"
          ]
         ],
         "hovertemplate": "brand=%{customdata[0]}<br>price=%{x}<br>rating=%{y}<extra></extra>",
         "legendgroup": "msi",
         "marker": {
          "color": "#FECB52",
          "symbol": "circle"
         },
         "mode": "markers",
         "name": "msi",
         "orientation": "v",
         "showlegend": true,
         "type": "scatter",
         "x": [
          635.53,
          800.92,
          431.16,
          839.42,
          659.52,
          899.38,
          599.55,
          503.6,
          659.52,
          743.47,
          635.53,
          755.46,
          479.62,
          647.52,
          683.5,
          443.64,
          815.43,
          785.45,
          527.59,
          1271.18,
          1007.32,
          795.76,
          2398.56,
          5396.91,
          959.35,
          2357.66,
          755.46,
          1139.25,
          1163.24,
          1259.19,
          1798.89,
          1798.89,
          1379.12,
          671.51,
          707.49,
          671.51,
          2398.56,
          1439.09,
          3597.9,
          983.34,
          443.64,
          1912.07,
          1079.29,
          887.39,
          575.56,
          1343.14,
          695.5,
          659.52,
          1259.19,
          899.38,
          1139.25,
          611.54,
          1139.25,
          1019.32,
          731.48,
          623.54,
          635.53,
          1103.27,
          1055.3,
          3358.03,
          923.37,
          875.4,
          1043.31,
          2998.23,
          767.46,
          1163.24,
          983.34,
          839.42,
          3130.16,
          781.85,
          875.4,
          2638.43,
          2590.45,
          2062.74,
          839.42,
          743.47,
          527.59,
          587.56,
          503.6,
          455.63,
          569.57,
          1115.27,
          995.33,
          1048.11,
          606.76,
          731.48,
          647.52,
          491.61,
          1439.09,
          1103.27
         ],
         "xaxis": "x",
         "y": [
          71,
          76,
          58,
          70,
          65,
          75,
          65,
          63,
          60,
          73,
          65,
          73,
          62,
          65,
          72,
          62,
          73,
          69,
          62,
          79,
          78,
          69,
          80,
          89,
          70,
          83,
          71,
          76,
          76,
          77,
          79,
          76,
          77,
          69,
          71,
          70,
          83,
          73,
          89,
          63,
          58,
          77,
          71,
          65,
          67,
          78,
          67,
          65,
          78,
          69,
          77,
          66,
          77,
          75,
          63,
          70,
          65,
          75,
          75,
          85,
          69,
          71,
          73,
          86,
          71,
          77,
          65,
          70,
          89,
          65,
          71,
          84,
          87,
          80,
          70,
          72,
          53,
          54,
          60,
          58,
          59,
          72,
          74,
          67,
          59,
          61,
          58,
          56,
          76,
          73
         ],
         "yaxis": "y"
        },
        {
         "customdata": [
          [
           "wings"
          ],
          [
           "wings"
          ],
          [
           "wings"
          ],
          [
           "wings"
          ]
         ],
         "hovertemplate": "brand=%{customdata[0]}<br>price=%{x}<br>rating=%{y}<extra></extra>",
         "legendgroup": "wings",
         "marker": {
          "color": "#636efa",
          "symbol": "circle"
         },
         "mode": "markers",
         "name": "wings",
         "orientation": "v",
         "showlegend": true,
         "type": "scatter",
         "x": [
          335.7,
          479.62,
          299.71,
          323.7
         ],
         "xaxis": "x",
         "y": [
          56,
          58,
          49,
          51
         ],
         "yaxis": "y"
        },
        {
         "customdata": [
          [
           "ultimus"
          ],
          [
           "ultimus"
          ],
          [
           "ultimus"
          ],
          [
           "ultimus"
          ],
          [
           "ultimus"
          ],
          [
           "ultimus"
          ]
         ],
         "hovertemplate": "brand=%{customdata[0]}<br>price=%{x}<br>rating=%{y}<extra></extra>",
         "legendgroup": "ultimus",
         "marker": {
          "color": "#EF553B",
          "symbol": "circle"
         },
         "mode": "markers",
         "name": "ultimus",
         "orientation": "v",
         "showlegend": true,
         "type": "scatter",
         "x": [
          239.75,
          191.77,
          143.8,
          179.78,
          197.77,
          274.8
         ],
         "xaxis": "x",
         "y": [
          54,
          46,
          41,
          45,
          47,
          52
         ],
         "yaxis": "y"
        },
        {
         "customdata": [
          [
           "primebook"
          ],
          [
           "primebook"
          ]
         ],
         "hovertemplate": "brand=%{customdata[0]}<br>price=%{x}<br>rating=%{y}<extra></extra>",
         "legendgroup": "primebook",
         "marker": {
          "color": "#00cc96",
          "symbol": "circle"
         },
         "mode": "markers",
         "name": "primebook",
         "orientation": "v",
         "showlegend": true,
         "type": "scatter",
         "x": [
          179.78,
          155.79
         ],
         "xaxis": "x",
         "y": [
          26,
          31
         ],
         "yaxis": "y"
        },
        {
         "customdata": [
          [
           "iball"
          ]
         ],
         "hovertemplate": "brand=%{customdata[0]}<br>price=%{x}<br>rating=%{y}<extra></extra>",
         "legendgroup": "iball",
         "marker": {
          "color": "#ab63fa",
          "symbol": "circle"
         },
         "mode": "markers",
         "name": "iball",
         "orientation": "v",
         "showlegend": true,
         "type": "scatter",
         "x": [
          117.54
         ],
         "xaxis": "x",
         "y": [
          41
         ],
         "yaxis": "y"
        },
        {
         "customdata": [
          [
           "zebronics"
          ],
          [
           "zebronics"
          ],
          [
           "zebronics"
          ],
          [
           "zebronics"
          ],
          [
           "zebronics"
          ],
          [
           "zebronics"
          ],
          [
           "zebronics"
          ]
         ],
         "hovertemplate": "brand=%{customdata[0]}<br>price=%{x}<br>rating=%{y}<extra></extra>",
         "legendgroup": "zebronics",
         "marker": {
          "color": "#FFA15A",
          "symbol": "circle"
         },
         "mode": "markers",
         "name": "zebronics",
         "orientation": "v",
         "showlegend": true,
         "type": "scatter",
         "x": [
          407.66,
          395.66,
          635.53,
          359.68,
          479.62,
          395.66,
          611.54
         ],
         "xaxis": "x",
         "y": [
          65,
          63,
          72,
          56,
          66,
          60,
          72
         ],
         "yaxis": "y"
        },
        {
         "customdata": [
          [
           "chuwi"
          ],
          [
           "chuwi"
          ],
          [
           "chuwi"
          ],
          [
           "chuwi"
          ]
         ],
         "hovertemplate": "brand=%{customdata[0]}<br>price=%{x}<br>rating=%{y}<extra></extra>",
         "legendgroup": "chuwi",
         "marker": {
          "color": "#19d3f3",
          "symbol": "circle"
         },
         "mode": "markers",
         "name": "chuwi",
         "orientation": "v",
         "showlegend": true,
         "type": "scatter",
         "x": [
          395.66,
          299.71,
          263.73,
          419.65
         ],
         "xaxis": "x",
         "y": [
          50,
          50,
          50,
          54
         ],
         "yaxis": "y"
        },
        {
         "customdata": [
          [
           "gigabyte"
          ],
          [
           "gigabyte"
          ]
         ],
         "hovertemplate": "brand=%{customdata[0]}<br>price=%{x}<br>rating=%{y}<extra></extra>",
         "legendgroup": "gigabyte",
         "marker": {
          "color": "#FF6692",
          "symbol": "circle"
         },
         "mode": "markers",
         "name": "gigabyte",
         "orientation": "v",
         "showlegend": true,
         "type": "scatter",
         "x": [
          863.4,
          1079.29
         ],
         "xaxis": "x",
         "y": [
          67,
          73
         ],
         "yaxis": "y"
        },
        {
         "customdata": [
          [
           "jio"
          ]
         ],
         "hovertemplate": "brand=%{customdata[0]}<br>price=%{x}<br>rating=%{y}<extra></extra>",
         "legendgroup": "jio",
         "marker": {
          "color": "#B6E880",
          "symbol": "circle"
         },
         "mode": "markers",
         "name": "jio",
         "orientation": "v",
         "showlegend": true,
         "type": "scatter",
         "x": [
          176.31
         ],
         "xaxis": "x",
         "y": [
          24
         ],
         "yaxis": "y"
        },
        {
         "customdata": [
          [
           "honor"
          ],
          [
           "honor"
          ]
         ],
         "hovertemplate": "brand=%{customdata[0]}<br>price=%{x}<br>rating=%{y}<extra></extra>",
         "legendgroup": "honor",
         "marker": {
          "color": "#FF97FF",
          "symbol": "circle"
         },
         "mode": "markers",
         "name": "honor",
         "orientation": "v",
         "showlegend": true,
         "type": "scatter",
         "x": [
          659.52,
          527.59
         ],
         "xaxis": "x",
         "y": [
          66,
          59
         ],
         "yaxis": "y"
        },
        {
         "customdata": [
          [
           "realme"
          ],
          [
           "realme"
          ]
         ],
         "hovertemplate": "brand=%{customdata[0]}<br>price=%{x}<br>rating=%{y}<extra></extra>",
         "legendgroup": "realme",
         "marker": {
          "color": "#FECB52",
          "symbol": "circle"
         },
         "mode": "markers",
         "name": "realme",
         "orientation": "v",
         "showlegend": true,
         "type": "scatter",
         "x": [
          443.64,
          515.6
         ],
         "xaxis": "x",
         "y": [
          52,
          62
         ],
         "yaxis": "y"
        },
        {
         "customdata": [
          [
           "avita"
          ],
          [
           "avita"
          ],
          [
           "avita"
          ],
          [
           "avita"
          ],
          [
           "avita"
          ]
         ],
         "hovertemplate": "brand=%{customdata[0]}<br>price=%{x}<br>rating=%{y}<extra></extra>",
         "legendgroup": "avita",
         "marker": {
          "color": "#636efa",
          "symbol": "circle"
         },
         "mode": "markers",
         "name": "avita",
         "orientation": "v",
         "showlegend": true,
         "type": "scatter",
         "x": [
          256.54,
          395.17,
          390.38,
          232.92,
          251.85
         ],
         "xaxis": "x",
         "y": [
          56,
          50,
          51,
          41,
          43
         ],
         "yaxis": "y"
        },
        {
         "customdata": [
          [
           "microsoft"
          ],
          [
           "microsoft"
          ]
         ],
         "hovertemplate": "brand=%{customdata[0]}<br>price=%{x}<br>rating=%{y}<extra></extra>",
         "legendgroup": "microsoft",
         "marker": {
          "color": "#EF553B",
          "symbol": "circle"
         },
         "mode": "markers",
         "name": "microsoft",
         "orientation": "v",
         "showlegend": true,
         "type": "scatter",
         "x": [
          959.35,
          1169.24
         ],
         "xaxis": "x",
         "y": [
          58,
          60
         ],
         "yaxis": "y"
        },
        {
         "customdata": [
          [
           "fujitsu"
          ],
          [
           "fujitsu"
          ],
          [
           "fujitsu"
          ],
          [
           "fujitsu"
          ],
          [
           "fujitsu"
          ]
         ],
         "hovertemplate": "brand=%{customdata[0]}<br>price=%{x}<br>rating=%{y}<extra></extra>",
         "legendgroup": "fujitsu",
         "marker": {
          "color": "#00cc96",
          "symbol": "circle"
         },
         "mode": "markers",
         "name": "fujitsu",
         "orientation": "v",
         "showlegend": true,
         "type": "scatter",
         "x": [
          887.39,
          887.39,
          1319.15,
          1199.22,
          677.55
         ],
         "xaxis": "x",
         "y": [
          67,
          65,
          76,
          73,
          70
         ],
         "yaxis": "y"
        },
        {
         "customdata": [
          [
           "lg"
          ],
          [
           "lg"
          ],
          [
           "lg"
          ],
          [
           "lg"
          ],
          [
           "lg"
          ],
          [
           "lg"
          ],
          [
           "lg"
          ]
         ],
         "hovertemplate": "brand=%{customdata[0]}<br>price=%{x}<br>rating=%{y}<extra></extra>",
         "legendgroup": "lg",
         "marker": {
          "color": "#ab63fa",
          "symbol": "circle"
         },
         "mode": "markers",
         "name": "lg",
         "orientation": "v",
         "showlegend": true,
         "type": "scatter",
         "x": [
          1187.33,
          939.07,
          1828.98,
          1414.01,
          1076.99,
          1810.99,
          1421.2
         ],
         "xaxis": "x",
         "y": [
          67,
          72,
          78,
          69,
          75,
          72,
          72
         ],
         "yaxis": "y"
        },
        {
         "customdata": [
          [
           "walker"
          ]
         ],
         "hovertemplate": "brand=%{customdata[0]}<br>price=%{x}<br>rating=%{y}<extra></extra>",
         "legendgroup": "walker",
         "marker": {
          "color": "#FFA15A",
          "symbol": "circle"
         },
         "mode": "markers",
         "name": "walker",
         "orientation": "v",
         "showlegend": true,
         "type": "scatter",
         "x": [
          191.77
         ],
         "xaxis": "x",
         "y": [
          37
         ],
         "yaxis": "y"
        },
        {
         "customdata": [
          [
           "axl"
          ],
          [
           "axl"
          ]
         ],
         "hovertemplate": "brand=%{customdata[0]}<br>price=%{x}<br>rating=%{y}<extra></extra>",
         "legendgroup": "axl",
         "marker": {
          "color": "#19d3f3",
          "symbol": "circle"
         },
         "mode": "markers",
         "name": "axl",
         "orientation": "v",
         "showlegend": true,
         "type": "scatter",
         "x": [
          215.76,
          179.78
         ],
         "xaxis": "x",
         "y": [
          38,
          37
         ],
         "yaxis": "y"
        }
       ],
       "layout": {
        "legend": {
         "title": {
          "text": "brand"
         },
         "tracegroupgap": 0
        },
        "margin": {
         "t": 60
        },
        "template": {
         "data": {
          "bar": [
           {
            "error_x": {
             "color": "#2a3f5f"
            },
            "error_y": {
             "color": "#2a3f5f"
            },
            "marker": {
             "line": {
              "color": "#E5ECF6",
              "width": 0.5
             },
             "pattern": {
              "fillmode": "overlay",
              "size": 10,
              "solidity": 0.2
             }
            },
            "type": "bar"
           }
          ],
          "barpolar": [
           {
            "marker": {
             "line": {
              "color": "#E5ECF6",
              "width": 0.5
             },
             "pattern": {
              "fillmode": "overlay",
              "size": 10,
              "solidity": 0.2
             }
            },
            "type": "barpolar"
           }
          ],
          "carpet": [
           {
            "aaxis": {
             "endlinecolor": "#2a3f5f",
             "gridcolor": "white",
             "linecolor": "white",
             "minorgridcolor": "white",
             "startlinecolor": "#2a3f5f"
            },
            "baxis": {
             "endlinecolor": "#2a3f5f",
             "gridcolor": "white",
             "linecolor": "white",
             "minorgridcolor": "white",
             "startlinecolor": "#2a3f5f"
            },
            "type": "carpet"
           }
          ],
          "choropleth": [
           {
            "colorbar": {
             "outlinewidth": 0,
             "ticks": ""
            },
            "type": "choropleth"
           }
          ],
          "contour": [
           {
            "colorbar": {
             "outlinewidth": 0,
             "ticks": ""
            },
            "colorscale": [
             [
              0,
              "#0d0887"
             ],
             [
              0.1111111111111111,
              "#46039f"
             ],
             [
              0.2222222222222222,
              "#7201a8"
             ],
             [
              0.3333333333333333,
              "#9c179e"
             ],
             [
              0.4444444444444444,
              "#bd3786"
             ],
             [
              0.5555555555555556,
              "#d8576b"
             ],
             [
              0.6666666666666666,
              "#ed7953"
             ],
             [
              0.7777777777777778,
              "#fb9f3a"
             ],
             [
              0.8888888888888888,
              "#fdca26"
             ],
             [
              1,
              "#f0f921"
             ]
            ],
            "type": "contour"
           }
          ],
          "contourcarpet": [
           {
            "colorbar": {
             "outlinewidth": 0,
             "ticks": ""
            },
            "type": "contourcarpet"
           }
          ],
          "heatmap": [
           {
            "colorbar": {
             "outlinewidth": 0,
             "ticks": ""
            },
            "colorscale": [
             [
              0,
              "#0d0887"
             ],
             [
              0.1111111111111111,
              "#46039f"
             ],
             [
              0.2222222222222222,
              "#7201a8"
             ],
             [
              0.3333333333333333,
              "#9c179e"
             ],
             [
              0.4444444444444444,
              "#bd3786"
             ],
             [
              0.5555555555555556,
              "#d8576b"
             ],
             [
              0.6666666666666666,
              "#ed7953"
             ],
             [
              0.7777777777777778,
              "#fb9f3a"
             ],
             [
              0.8888888888888888,
              "#fdca26"
             ],
             [
              1,
              "#f0f921"
             ]
            ],
            "type": "heatmap"
           }
          ],
          "heatmapgl": [
           {
            "colorbar": {
             "outlinewidth": 0,
             "ticks": ""
            },
            "colorscale": [
             [
              0,
              "#0d0887"
             ],
             [
              0.1111111111111111,
              "#46039f"
             ],
             [
              0.2222222222222222,
              "#7201a8"
             ],
             [
              0.3333333333333333,
              "#9c179e"
             ],
             [
              0.4444444444444444,
              "#bd3786"
             ],
             [
              0.5555555555555556,
              "#d8576b"
             ],
             [
              0.6666666666666666,
              "#ed7953"
             ],
             [
              0.7777777777777778,
              "#fb9f3a"
             ],
             [
              0.8888888888888888,
              "#fdca26"
             ],
             [
              1,
              "#f0f921"
             ]
            ],
            "type": "heatmapgl"
           }
          ],
          "histogram": [
           {
            "marker": {
             "pattern": {
              "fillmode": "overlay",
              "size": 10,
              "solidity": 0.2
             }
            },
            "type": "histogram"
           }
          ],
          "histogram2d": [
           {
            "colorbar": {
             "outlinewidth": 0,
             "ticks": ""
            },
            "colorscale": [
             [
              0,
              "#0d0887"
             ],
             [
              0.1111111111111111,
              "#46039f"
             ],
             [
              0.2222222222222222,
              "#7201a8"
             ],
             [
              0.3333333333333333,
              "#9c179e"
             ],
             [
              0.4444444444444444,
              "#bd3786"
             ],
             [
              0.5555555555555556,
              "#d8576b"
             ],
             [
              0.6666666666666666,
              "#ed7953"
             ],
             [
              0.7777777777777778,
              "#fb9f3a"
             ],
             [
              0.8888888888888888,
              "#fdca26"
             ],
             [
              1,
              "#f0f921"
             ]
            ],
            "type": "histogram2d"
           }
          ],
          "histogram2dcontour": [
           {
            "colorbar": {
             "outlinewidth": 0,
             "ticks": ""
            },
            "colorscale": [
             [
              0,
              "#0d0887"
             ],
             [
              0.1111111111111111,
              "#46039f"
             ],
             [
              0.2222222222222222,
              "#7201a8"
             ],
             [
              0.3333333333333333,
              "#9c179e"
             ],
             [
              0.4444444444444444,
              "#bd3786"
             ],
             [
              0.5555555555555556,
              "#d8576b"
             ],
             [
              0.6666666666666666,
              "#ed7953"
             ],
             [
              0.7777777777777778,
              "#fb9f3a"
             ],
             [
              0.8888888888888888,
              "#fdca26"
             ],
             [
              1,
              "#f0f921"
             ]
            ],
            "type": "histogram2dcontour"
           }
          ],
          "mesh3d": [
           {
            "colorbar": {
             "outlinewidth": 0,
             "ticks": ""
            },
            "type": "mesh3d"
           }
          ],
          "parcoords": [
           {
            "line": {
             "colorbar": {
              "outlinewidth": 0,
              "ticks": ""
             }
            },
            "type": "parcoords"
           }
          ],
          "pie": [
           {
            "automargin": true,
            "type": "pie"
           }
          ],
          "scatter": [
           {
            "fillpattern": {
             "fillmode": "overlay",
             "size": 10,
             "solidity": 0.2
            },
            "type": "scatter"
           }
          ],
          "scatter3d": [
           {
            "line": {
             "colorbar": {
              "outlinewidth": 0,
              "ticks": ""
             }
            },
            "marker": {
             "colorbar": {
              "outlinewidth": 0,
              "ticks": ""
             }
            },
            "type": "scatter3d"
           }
          ],
          "scattercarpet": [
           {
            "marker": {
             "colorbar": {
              "outlinewidth": 0,
              "ticks": ""
             }
            },
            "type": "scattercarpet"
           }
          ],
          "scattergeo": [
           {
            "marker": {
             "colorbar": {
              "outlinewidth": 0,
              "ticks": ""
             }
            },
            "type": "scattergeo"
           }
          ],
          "scattergl": [
           {
            "marker": {
             "colorbar": {
              "outlinewidth": 0,
              "ticks": ""
             }
            },
            "type": "scattergl"
           }
          ],
          "scattermapbox": [
           {
            "marker": {
             "colorbar": {
              "outlinewidth": 0,
              "ticks": ""
             }
            },
            "type": "scattermapbox"
           }
          ],
          "scatterpolar": [
           {
            "marker": {
             "colorbar": {
              "outlinewidth": 0,
              "ticks": ""
             }
            },
            "type": "scatterpolar"
           }
          ],
          "scatterpolargl": [
           {
            "marker": {
             "colorbar": {
              "outlinewidth": 0,
              "ticks": ""
             }
            },
            "type": "scatterpolargl"
           }
          ],
          "scatterternary": [
           {
            "marker": {
             "colorbar": {
              "outlinewidth": 0,
              "ticks": ""
             }
            },
            "type": "scatterternary"
           }
          ],
          "surface": [
           {
            "colorbar": {
             "outlinewidth": 0,
             "ticks": ""
            },
            "colorscale": [
             [
              0,
              "#0d0887"
             ],
             [
              0.1111111111111111,
              "#46039f"
             ],
             [
              0.2222222222222222,
              "#7201a8"
             ],
             [
              0.3333333333333333,
              "#9c179e"
             ],
             [
              0.4444444444444444,
              "#bd3786"
             ],
             [
              0.5555555555555556,
              "#d8576b"
             ],
             [
              0.6666666666666666,
              "#ed7953"
             ],
             [
              0.7777777777777778,
              "#fb9f3a"
             ],
             [
              0.8888888888888888,
              "#fdca26"
             ],
             [
              1,
              "#f0f921"
             ]
            ],
            "type": "surface"
           }
          ],
          "table": [
           {
            "cells": {
             "fill": {
              "color": "#EBF0F8"
             },
             "line": {
              "color": "white"
             }
            },
            "header": {
             "fill": {
              "color": "#C8D4E3"
             },
             "line": {
              "color": "white"
             }
            },
            "type": "table"
           }
          ]
         },
         "layout": {
          "annotationdefaults": {
           "arrowcolor": "#2a3f5f",
           "arrowhead": 0,
           "arrowwidth": 1
          },
          "autotypenumbers": "strict",
          "coloraxis": {
           "colorbar": {
            "outlinewidth": 0,
            "ticks": ""
           }
          },
          "colorscale": {
           "diverging": [
            [
             0,
             "#8e0152"
            ],
            [
             0.1,
             "#c51b7d"
            ],
            [
             0.2,
             "#de77ae"
            ],
            [
             0.3,
             "#f1b6da"
            ],
            [
             0.4,
             "#fde0ef"
            ],
            [
             0.5,
             "#f7f7f7"
            ],
            [
             0.6,
             "#e6f5d0"
            ],
            [
             0.7,
             "#b8e186"
            ],
            [
             0.8,
             "#7fbc41"
            ],
            [
             0.9,
             "#4d9221"
            ],
            [
             1,
             "#276419"
            ]
           ],
           "sequential": [
            [
             0,
             "#0d0887"
            ],
            [
             0.1111111111111111,
             "#46039f"
            ],
            [
             0.2222222222222222,
             "#7201a8"
            ],
            [
             0.3333333333333333,
             "#9c179e"
            ],
            [
             0.4444444444444444,
             "#bd3786"
            ],
            [
             0.5555555555555556,
             "#d8576b"
            ],
            [
             0.6666666666666666,
             "#ed7953"
            ],
            [
             0.7777777777777778,
             "#fb9f3a"
            ],
            [
             0.8888888888888888,
             "#fdca26"
            ],
            [
             1,
             "#f0f921"
            ]
           ],
           "sequentialminus": [
            [
             0,
             "#0d0887"
            ],
            [
             0.1111111111111111,
             "#46039f"
            ],
            [
             0.2222222222222222,
             "#7201a8"
            ],
            [
             0.3333333333333333,
             "#9c179e"
            ],
            [
             0.4444444444444444,
             "#bd3786"
            ],
            [
             0.5555555555555556,
             "#d8576b"
            ],
            [
             0.6666666666666666,
             "#ed7953"
            ],
            [
             0.7777777777777778,
             "#fb9f3a"
            ],
            [
             0.8888888888888888,
             "#fdca26"
            ],
            [
             1,
             "#f0f921"
            ]
           ]
          },
          "colorway": [
           "#636efa",
           "#EF553B",
           "#00cc96",
           "#ab63fa",
           "#FFA15A",
           "#19d3f3",
           "#FF6692",
           "#B6E880",
           "#FF97FF",
           "#FECB52"
          ],
          "font": {
           "color": "#2a3f5f"
          },
          "geo": {
           "bgcolor": "white",
           "lakecolor": "white",
           "landcolor": "#E5ECF6",
           "showlakes": true,
           "showland": true,
           "subunitcolor": "white"
          },
          "hoverlabel": {
           "align": "left"
          },
          "hovermode": "closest",
          "mapbox": {
           "style": "light"
          },
          "paper_bgcolor": "white",
          "plot_bgcolor": "#E5ECF6",
          "polar": {
           "angularaxis": {
            "gridcolor": "white",
            "linecolor": "white",
            "ticks": ""
           },
           "bgcolor": "#E5ECF6",
           "radialaxis": {
            "gridcolor": "white",
            "linecolor": "white",
            "ticks": ""
           }
          },
          "scene": {
           "xaxis": {
            "backgroundcolor": "#E5ECF6",
            "gridcolor": "white",
            "gridwidth": 2,
            "linecolor": "white",
            "showbackground": true,
            "ticks": "",
            "zerolinecolor": "white"
           },
           "yaxis": {
            "backgroundcolor": "#E5ECF6",
            "gridcolor": "white",
            "gridwidth": 2,
            "linecolor": "white",
            "showbackground": true,
            "ticks": "",
            "zerolinecolor": "white"
           },
           "zaxis": {
            "backgroundcolor": "#E5ECF6",
            "gridcolor": "white",
            "gridwidth": 2,
            "linecolor": "white",
            "showbackground": true,
            "ticks": "",
            "zerolinecolor": "white"
           }
          },
          "shapedefaults": {
           "line": {
            "color": "#2a3f5f"
           }
          },
          "ternary": {
           "aaxis": {
            "gridcolor": "white",
            "linecolor": "white",
            "ticks": ""
           },
           "baxis": {
            "gridcolor": "white",
            "linecolor": "white",
            "ticks": ""
           },
           "bgcolor": "#E5ECF6",
           "caxis": {
            "gridcolor": "white",
            "linecolor": "white",
            "ticks": ""
           }
          },
          "title": {
           "x": 0.05
          },
          "xaxis": {
           "automargin": true,
           "gridcolor": "white",
           "linecolor": "white",
           "ticks": "",
           "title": {
            "standoff": 15
           },
           "zerolinecolor": "white",
           "zerolinewidth": 2
          },
          "yaxis": {
           "automargin": true,
           "gridcolor": "white",
           "linecolor": "white",
           "ticks": "",
           "title": {
            "standoff": 15
           },
           "zerolinecolor": "white",
           "zerolinewidth": 2
          }
         }
        },
        "xaxis": {
         "anchor": "y",
         "domain": [
          0,
          1
         ],
         "title": {
          "text": "price"
         }
        },
        "yaxis": {
         "anchor": "x",
         "domain": [
          0,
          1
         ],
         "title": {
          "text": "rating"
         }
        }
       }
      },
      "text/html": [
       "<div>                            <div id=\"c832a9f4-864f-4b33-9ff1-1c87ddc10fc5\" class=\"plotly-graph-div\" style=\"height:525px; width:100%;\"></div>            <script type=\"text/javascript\">                require([\"plotly\"], function(Plotly) {                    window.PLOTLYENV=window.PLOTLYENV || {};                                    if (document.getElementById(\"c832a9f4-864f-4b33-9ff1-1c87ddc10fc5\")) {                    Plotly.newPlot(                        \"c832a9f4-864f-4b33-9ff1-1c87ddc10fc5\",                        [{\"customdata\":[[\"tecno\"],[\"tecno\"]],\"hovertemplate\":\"brand=%{customdata[0]}\\u003cbr\\u003eprice=%{x}\\u003cbr\\u003erating=%{y}\\u003cextra\\u003e\\u003c\\u002fextra\\u003e\",\"legendgroup\":\"tecno\",\"marker\":{\"color\":\"#636efa\",\"symbol\":\"circle\"},\"mode\":\"markers\",\"name\":\"tecno\",\"orientation\":\"v\",\"showlegend\":true,\"x\":[287.72,431.64],\"xaxis\":\"x\",\"y\":[63,67],\"yaxis\":\"y\",\"type\":\"scatter\"},{\"customdata\":[[\"hp\"],[\"hp\"],[\"hp\"],[\"hp\"],[\"hp\"],[\"hp\"],[\"hp\"],[\"hp\"],[\"hp\"],[\"hp\"],[\"hp\"],[\"hp\"],[\"hp\"],[\"hp\"],[\"hp\"],[\"hp\"],[\"hp\"],[\"hp\"],[\"hp\"],[\"hp\"],[\"hp\"],[\"hp\"],[\"hp\"],[\"hp\"],[\"hp\"],[\"hp\"],[\"hp\"],[\"hp\"],[\"hp\"],[\"hp\"],[\"hp\"],[\"hp\"],[\"hp\"],[\"hp\"],[\"hp\"],[\"hp\"],[\"hp\"],[\"hp\"],[\"hp\"],[\"hp\"],[\"hp\"],[\"hp\"],[\"hp\"],[\"hp\"],[\"hp\"],[\"hp\"],[\"hp\"],[\"hp\"],[\"hp\"],[\"hp\"],[\"hp\"],[\"hp\"],[\"hp\"],[\"hp\"],[\"hp\"],[\"hp\"],[\"hp\"],[\"hp\"],[\"hp\"],[\"hp\"],[\"hp\"],[\"hp\"],[\"hp\"],[\"hp\"],[\"hp\"],[\"hp\"],[\"hp\"],[\"hp\"],[\"hp\"],[\"hp\"],[\"hp\"],[\"hp\"],[\"hp\"],[\"hp\"],[\"hp\"],[\"hp\"],[\"hp\"],[\"hp\"],[\"hp\"],[\"hp\"],[\"hp\"],[\"hp\"],[\"hp\"],[\"hp\"],[\"hp\"],[\"hp\"],[\"hp\"],[\"hp\"],[\"hp\"],[\"hp\"],[\"hp\"],[\"hp\"],[\"hp\"],[\"hp\"],[\"hp\"],[\"hp\"],[\"hp\"],[\"hp\"],[\"hp\"],[\"hp\"],[\"hp\"],[\"hp\"],[\"hp\"],[\"hp\"],[\"hp\"],[\"hp\"],[\"hp\"],[\"hp\"],[\"hp\"],[\"hp\"],[\"hp\"],[\"hp\"],[\"hp\"],[\"hp\"],[\"hp\"],[\"hp\"],[\"hp\"],[\"hp\"],[\"hp\"],[\"hp\"],[\"hp\"],[\"hp\"],[\"hp\"],[\"hp\"],[\"hp\"],[\"hp\"],[\"hp\"],[\"hp\"],[\"hp\"],[\"hp\"],[\"hp\"],[\"hp\"],[\"hp\"],[\"hp\"],[\"hp\"],[\"hp\"],[\"hp\"],[\"hp\"],[\"hp\"],[\"hp\"],[\"hp\"],[\"hp\"],[\"hp\"],[\"hp\"],[\"hp\"],[\"hp\"],[\"hp\"],[\"hp\"],[\"hp\"],[\"hp\"],[\"hp\"],[\"hp\"],[\"hp\"],[\"hp\"],[\"hp\"],[\"hp\"],[\"hp\"],[\"hp\"],[\"hp\"],[\"hp\"],[\"hp\"],[\"hp\"],[\"hp\"],[\"hp\"],[\"hp\"],[\"hp\"],[\"hp\"],[\"hp\"],[\"hp\"],[\"hp\"],[\"hp\"],[\"hp\"],[\"hp\"],[\"hp\"],[\"hp\"],[\"hp\"],[\"hp\"],[\"hp\"],[\"hp\"],[\"hp\"],[\"hp\"],[\"hp\"],[\"hp\"],[\"hp\"],[\"hp\"],[\"hp\"],[\"hp\"],[\"hp\"],[\"hp\"],[\"hp\"],[\"hp\"],[\"hp\"],[\"hp\"],[\"hp\"],[\"hp\"],[\"hp\"],[\"hp\"],[\"hp\"],[\"hp\"],[\"hp\"],[\"hp\"],[\"hp\"],[\"hp\"],[\"hp\"],[\"hp\"]],\"hovertemplate\":\"brand=%{customdata[0]}\\u003cbr\\u003eprice=%{x}\\u003cbr\\u003erating=%{y}\\u003cextra\\u003e\\u003c\\u002fextra\\u003e\",\"legendgroup\":\"hp\",\"marker\":{\"color\":\"#EF553B\",\"symbol\":\"circle\"},\"mode\":\"markers\",\"name\":\"hp\",\"orientation\":\"v\",\"showlegend\":true,\"x\":[612.86,443.64,1846.86,665.51,231.46,947.36,863.51,647.52,1065.01,642.49,1403.11,849.25,1002.53,653.52,509.71,1774.9,839.53,863.4,934.27,695.5,599.66,731.48,803.44,623.54,671.51,621.26,596.97,524.11,418.45,389.67,520.51,372.87,485.72,2426.74,1989.7,731.48,611.65,1989.7,476.14,824.07,731.48,287.83,383.78,1112.99,875.51,1044.5,419.65,773.57,2116.82,1139.25,671.51,875.76,599.55,629.53,482.01,743.47,1073.29,419.65,611.54,563.57,851.41,623.54,695.5,581.08,959.35,767.46,231.46,718.06,683.61,487.04,767.46,299.71,500.72,1084.97,953.08,689.62,654.83,622.47,807.01,1862.56,1342.58,918.68,491.61,1192.98,1355.13,1091.39,430.56,4107.74,637.93,1110.47,3112.27,3514.05,1990.89,2020.89,467.62,347.69,1079.39,899.49,1367.23,623.54,1087.67,480.93,910.18,335.7,731.58,533.59,2194.67,696.46,383.67,1834.87,898.9,1432.01,1199.33,2870.01,1590.31,611.65,1259.74,1220.93,677.51,936.68,441.24,1762.91,1475.31,1678.95,275.73,524.53,520.51,311.71,1520.76,1598.35,395.66,1444.59,2759.2,611.54,287.83,1175.34,1158.44,1055.3,1039.71,1051.7,946.16,1007.32,467.62,611.54,1292.44,935.71,1387.71,1319.15,539.58,575.56,635.53,1391.11,539.58,644.03,467.62,1574.92,780.77,701.6,344.81,338.29,887.39,550.48,821.42,759.35,467.62,779.45,353.69,743.47,905.9,1104.23,839.42,808.35,779.45,395.66,737.47,1415.22,954.55,635.53,480.93,557.57,571.49,563.57,725.48,599.55,786.65,851.53,1319.15,630.73,773.57,623.54,407.64,1439.09,1724.94,449.63,1749.82,1661.22,517.99,695.5,394.46,474.35,251.74,323.81,371.78,1858.96,251.74],\"xaxis\":\"x\",\"y\":[73,60,85,71,49,77,66,62,71,71,80,71,76,70,63,80,72,65,70,70,70,54,72,70,67,57,62,62,58,54,52,60,60,82,76,64,58,76,59,67,66,49,56,76,63,76,63,75,85,70,63,66,65,65,59,57,69,54,67,68,69,67,73,62,71,64,39,71,54,58,62,52,64,56,64,51,58,62,52,70,78,69,57,77,76,72,60,88,62,70,85,88,79,78,57,47,70,64,75,67,70,57,59,51,58,62,78,63,51,70,71,72,71,86,75,67,67,72,70,67,60,77,73,77,44,56,57,44,69,69,46,67,80,38,52,73,66,66,66,70,66,72,57,60,71,69,71,69,58,53,60,70,58,62,63,72,66,71,49,50,67,63,65,67,47,66,50,64,66,71,65,57,59,58,57,75,66,57,54,54,51,51,54,67,56,67,71,60,75,67,56,77,75,64,79,72,58,59,52,43,37,59,47,73,37],\"yaxis\":\"y\",\"type\":\"scatter\"},{\"customdata\":[[\"acer\"],[\"acer\"],[\"acer\"],[\"acer\"],[\"acer\"],[\"acer\"],[\"acer\"],[\"acer\"],[\"acer\"],[\"acer\"],[\"acer\"],[\"acer\"],[\"acer\"],[\"acer\"],[\"acer\"],[\"acer\"],[\"acer\"],[\"acer\"],[\"acer\"],[\"acer\"],[\"acer\"],[\"acer\"],[\"acer\"],[\"acer\"],[\"acer\"],[\"acer\"],[\"acer\"],[\"acer\"],[\"acer\"],[\"acer\"],[\"acer\"],[\"acer\"],[\"acer\"],[\"acer\"],[\"acer\"],[\"acer\"],[\"acer\"],[\"acer\"],[\"acer\"],[\"acer\"],[\"acer\"],[\"acer\"],[\"acer\"],[\"acer\"],[\"acer\"],[\"acer\"],[\"acer\"],[\"acer\"],[\"acer\"],[\"acer\"],[\"acer\"],[\"acer\"],[\"acer\"],[\"acer\"],[\"acer\"],[\"acer\"],[\"acer\"],[\"acer\"],[\"acer\"],[\"acer\"],[\"acer\"],[\"acer\"],[\"acer\"],[\"acer\"],[\"acer\"],[\"acer\"],[\"acer\"],[\"acer\"],[\"acer\"],[\"acer\"],[\"acer\"],[\"acer\"],[\"acer\"],[\"acer\"],[\"acer\"],[\"acer\"],[\"acer\"],[\"acer\"],[\"acer\"],[\"acer\"],[\"acer\"],[\"acer\"],[\"acer\"],[\"acer\"],[\"acer\"],[\"acer\"],[\"acer\"],[\"acer\"],[\"acer\"]],\"hovertemplate\":\"brand=%{customdata[0]}\\u003cbr\\u003eprice=%{x}\\u003cbr\\u003erating=%{y}\\u003cextra\\u003e\\u003c\\u002fextra\\u003e\",\"legendgroup\":\"acer\",\"marker\":{\"color\":\"#00cc96\",\"symbol\":\"circle\"},\"mode\":\"markers\",\"name\":\"acer\",\"orientation\":\"v\",\"showlegend\":true,\"x\":[479.62,935.36,563.57,419.65,395.66,683.5,455.63,473.73,1139.25,575.56,1439.09,1259.19,371.68,467.62,395.66,875.4,2158.69,383.67,359.68,731.48,683.5,1439.09,335.7,563.57,359.68,557.69,599.55,539.69,515.7,563.57,557.57,683.5,477.34,287.72,767.57,791.44,599.55,739.99,305.71,479.62,419.65,515.6,683.5,635.53,443.64,503.6,497.61,1918.82,809.54,431.64,1559.02,905.49,503.6,863.4,369.28,359.56,353.69,515.6,491.61,659.52,394.46,347.8,479.62,599.55,698.84,677.51,670.43,1719.85,707.49,1715.04,479.62,441.36,1259.29,1379.12,539.63,1067.29,827.42,2399.76,934.17,551.58,395.66,384.87,2218.77,2998.23,335.7,917.48,359.68,827.53,905.5],\"xaxis\":\"x\",\"y\":[62,63,64,60,58,71,60,62,72,67,75,70,49,64,54,64,78,57,59,70,67,75,49,67,47,64,64,64,62,63,63,56,62,38,65,62,67,65,38,58,62,50,72,70,63,60,45,79,65,58,80,59,64,70,59,50,57,50,60,69,56,53,51,50,59,52,50,70,62,78,58,47,65,66,64,65,73,74,72,59,50,44,71,77,52,71,54,71,67],\"yaxis\":\"y\",\"type\":\"scatter\"},{\"customdata\":[[\"lenovo\"],[\"lenovo\"],[\"lenovo\"],[\"lenovo\"],[\"lenovo\"],[\"lenovo\"],[\"lenovo\"],[\"lenovo\"],[\"lenovo\"],[\"lenovo\"],[\"lenovo\"],[\"lenovo\"],[\"lenovo\"],[\"lenovo\"],[\"lenovo\"],[\"lenovo\"],[\"lenovo\"],[\"lenovo\"],[\"lenovo\"],[\"lenovo\"],[\"lenovo\"],[\"lenovo\"],[\"lenovo\"],[\"lenovo\"],[\"lenovo\"],[\"lenovo\"],[\"lenovo\"],[\"lenovo\"],[\"lenovo\"],[\"lenovo\"],[\"lenovo\"],[\"lenovo\"],[\"lenovo\"],[\"lenovo\"],[\"lenovo\"],[\"lenovo\"],[\"lenovo\"],[\"lenovo\"],[\"lenovo\"],[\"lenovo\"],[\"lenovo\"],[\"lenovo\"],[\"lenovo\"],[\"lenovo\"],[\"lenovo\"],[\"lenovo\"],[\"lenovo\"],[\"lenovo\"],[\"lenovo\"],[\"lenovo\"],[\"lenovo\"],[\"lenovo\"],[\"lenovo\"],[\"lenovo\"],[\"lenovo\"],[\"lenovo\"],[\"lenovo\"],[\"lenovo\"],[\"lenovo\"],[\"lenovo\"],[\"lenovo\"],[\"lenovo\"],[\"lenovo\"],[\"lenovo\"],[\"lenovo\"],[\"lenovo\"],[\"lenovo\"],[\"lenovo\"],[\"lenovo\"],[\"lenovo\"],[\"lenovo\"],[\"lenovo\"],[\"lenovo\"],[\"lenovo\"],[\"lenovo\"],[\"lenovo\"],[\"lenovo\"],[\"lenovo\"],[\"lenovo\"],[\"lenovo\"],[\"lenovo\"],[\"lenovo\"],[\"lenovo\"],[\"lenovo\"],[\"lenovo\"],[\"lenovo\"],[\"lenovo\"],[\"lenovo\"],[\"lenovo\"],[\"lenovo\"],[\"lenovo\"],[\"lenovo\"],[\"lenovo\"],[\"lenovo\"],[\"lenovo\"],[\"lenovo\"],[\"lenovo\"],[\"lenovo\"],[\"lenovo\"],[\"lenovo\"],[\"lenovo\"],[\"lenovo\"],[\"lenovo\"],[\"lenovo\"],[\"lenovo\"],[\"lenovo\"],[\"lenovo\"],[\"lenovo\"],[\"lenovo\"],[\"lenovo\"],[\"lenovo\"],[\"lenovo\"],[\"lenovo\"],[\"lenovo\"],[\"lenovo\"],[\"lenovo\"],[\"lenovo\"],[\"lenovo\"],[\"lenovo\"],[\"lenovo\"],[\"lenovo\"],[\"lenovo\"],[\"lenovo\"],[\"lenovo\"],[\"lenovo\"],[\"lenovo\"],[\"lenovo\"],[\"lenovo\"],[\"lenovo\"],[\"lenovo\"],[\"lenovo\"],[\"lenovo\"],[\"lenovo\"],[\"lenovo\"],[\"lenovo\"],[\"lenovo\"],[\"lenovo\"],[\"lenovo\"],[\"lenovo\"],[\"lenovo\"],[\"lenovo\"],[\"lenovo\"],[\"lenovo\"],[\"lenovo\"],[\"lenovo\"],[\"lenovo\"],[\"lenovo\"],[\"lenovo\"],[\"lenovo\"],[\"lenovo\"],[\"lenovo\"],[\"lenovo\"],[\"lenovo\"],[\"lenovo\"],[\"lenovo\"],[\"lenovo\"],[\"lenovo\"],[\"lenovo\"],[\"lenovo\"],[\"lenovo\"],[\"lenovo\"],[\"lenovo\"],[\"lenovo\"],[\"lenovo\"],[\"lenovo\"],[\"lenovo\"],[\"lenovo\"],[\"lenovo\"],[\"lenovo\"],[\"lenovo\"],[\"lenovo\"],[\"lenovo\"],[\"lenovo\"],[\"lenovo\"],[\"lenovo\"],[\"lenovo\"],[\"lenovo\"],[\"lenovo\"],[\"lenovo\"],[\"lenovo\"],[\"lenovo\"],[\"lenovo\"],[\"lenovo\"],[\"lenovo\"],[\"lenovo\"],[\"lenovo\"],[\"lenovo\"],[\"lenovo\"],[\"lenovo\"],[\"lenovo\"],[\"lenovo\"],[\"lenovo\"],[\"lenovo\"],[\"lenovo\"],[\"lenovo\"],[\"lenovo\"],[\"lenovo\"],[\"lenovo\"],[\"lenovo\"],[\"lenovo\"],[\"lenovo\"]],\"hovertemplate\":\"brand=%{customdata[0]}\\u003cbr\\u003eprice=%{x}\\u003cbr\\u003erating=%{y}\\u003cextra\\u003e\\u003c\\u002fextra\\u003e\",\"legendgroup\":\"lenovo\",\"marker\":{\"color\":\"#ab63fa\",\"symbol\":\"circle\"},\"mode\":\"markers\",\"name\":\"lenovo\",\"orientation\":\"v\",\"showlegend\":true,\"x\":[342.77,569.57,599.55,335.7,575.56,683.5,539.58,419.65,293.12,587.56,766.25,444.24,1139.25,959.35,491.61,491.61,547.51,431.64,539.58,1834.87,1585.41,740.14,309.31,587.56,846.61,803.44,1379.12,1199.22,395.54,263.73,400.58,1199.22,779.45,299.71,1799.01,683.5,659.52,755.57,437.64,551.58,563.57,755.46,887.39,743.47,898.3,383.67,2626.43,1477.47,827.42,1294.22,622.39,563.57,4306.77,661.92,743.47,593.66,443.64,414.85,389.67,668.03,841.82,1105.67,623.54,1019.32,961.75,1309.56,649.92,649.92,937.76,479.62,1117.66,1969.19,3585.9,1669.36,841.82,1240.06,479.62,1079.41,419.65,395.66,599.55,479.62,764.12,599.55,395.66,362.08,359.68,563.57,659.52,509.71,815.43,439.56,587.56,599.55,1043.31,791.44,2230.65,1547.03,1367.13,623.54,839.42,575.56,1201.62,1648.97,647.52,443.76,1057.7,755.46,796.23,863.4,741.9,443.64,745.87,707.49,721.88,769.86,503.6,539.58,545.58,569.57,705.81,767.46,841.82,440.04,805.84,563.57,1009.72,1043.31,935.36,449.75,707.49,527.59,833.47,1175.23,1097.28,1061.74,1199.22,1319.15,2700.79,1078.07,899.38,779.45,486.81,791.44,290.12,635.53,755.46,394.57,299.71,635.53,831.68,539.58,875.4,680.03,791.44,647.52,688.3,599.55,725.48,425.65,863.4,545.7,599.66,793.95,401.66,803.56,1499.17,905.49,491.61,563.57,457.8,335.7,886.31,419.65,419.65,562.49,359.68,557.57,624.87,898.17,377.67,634.45,633.18,757.86,971.46,1478.44,266.72,263.73,263.73,551.58,401.66,430.44,437.64,551.58,791.55,407.66,1754.29,521.71,371.68,386.19,719.48],\"xaxis\":\"x\",\"y\":[62,66,59,59,71,69,51,66,47,70,63,59,80,70,66,64,67,60,64,77,83,60,50,64,62,69,63,67,53,53,53,78,74,49,64,57,58,62,50,58,62,66,57,60,63,51,64,67,66,75,65,57,86,70,69,54,53,57,56,69,67,75,63,58,57,63,65,69,64,56,58,84,85,78,58,77,57,65,57,57,67,58,60,62,51,46,51,63,64,43,69,58,59,65,71,63,89,83,79,67,66,56,65,83,69,52,58,60,62,58,58,53,63,58,59,69,58,60,56,65,64,60,60,60,62,65,64,62,60,59,64,58,60,72,71,73,73,75,73,63,69,72,57,69,38,62,65,59,50,70,62,58,69,64,67,66,67,64,67,59,70,57,62,62,57,63,75,62,57,57,59,54,64,53,54,56,59,57,66,64,50,67,58,67,71,78,47,43,45,58,56,56,60,66,55,52,75,54,50,48,64],\"yaxis\":\"y\",\"type\":\"scatter\"},{\"customdata\":[[\"apple\"],[\"apple\"],[\"apple\"],[\"apple\"],[\"apple\"],[\"apple\"],[\"apple\"],[\"apple\"],[\"apple\"],[\"apple\"],[\"apple\"],[\"apple\"],[\"apple\"],[\"apple\"],[\"apple\"]],\"hovertemplate\":\"brand=%{customdata[0]}\\u003cbr\\u003eprice=%{x}\\u003cbr\\u003erating=%{y}\\u003cextra\\u003e\\u003c\\u002fextra\\u003e\",\"legendgroup\":\"apple\",\"marker\":{\"color\":\"#FFA15A\",\"symbol\":\"circle\"},\"mode\":\"markers\",\"name\":\"apple\",\"orientation\":\"v\",\"showlegend\":true,\"x\":[851.41,4796.16,1235.2,1439.09,1319.15,3476.88,4196.49,2997.15,2397.48,1738.92,1595.0,1642.97,2277.54,2877.21,2037.68],\"xaxis\":\"x\",\"y\":[45,65,48,53,43,63,64,58,56,56,45,45,53,58,51],\"yaxis\":\"y\",\"type\":\"scatter\"},{\"customdata\":[[\"infinix\"],[\"infinix\"],[\"infinix\"],[\"infinix\"],[\"infinix\"],[\"infinix\"],[\"infinix\"],[\"infinix\"],[\"infinix\"],[\"infinix\"],[\"infinix\"],[\"infinix\"],[\"infinix\"]],\"hovertemplate\":\"brand=%{customdata[0]}\\u003cbr\\u003eprice=%{x}\\u003cbr\\u003erating=%{y}\\u003cextra\\u003e\\u003c\\u002fextra\\u003e\",\"legendgroup\":\"infinix\",\"marker\":{\"color\":\"#19d3f3\",\"symbol\":\"circle\"},\"mode\":\"markers\",\"name\":\"infinix\",\"orientation\":\"v\",\"showlegend\":true,\"x\":[419.65,719.48,359.68,335.7,323.7,431.64,695.5,467.62,587.56,311.71,299.71,539.58,467.62],\"xaxis\":\"x\",\"y\":[56,71,54,50,53,60,63,56,57,57,52,57,58],\"yaxis\":\"y\",\"type\":\"scatter\"},{\"customdata\":[[\"asus\"],[\"asus\"],[\"asus\"],[\"asus\"],[\"asus\"],[\"asus\"],[\"asus\"],[\"asus\"],[\"asus\"],[\"asus\"],[\"asus\"],[\"asus\"],[\"asus\"],[\"asus\"],[\"asus\"],[\"asus\"],[\"asus\"],[\"asus\"],[\"asus\"],[\"asus\"],[\"asus\"],[\"asus\"],[\"asus\"],[\"asus\"],[\"asus\"],[\"asus\"],[\"asus\"],[\"asus\"],[\"asus\"],[\"asus\"],[\"asus\"],[\"asus\"],[\"asus\"],[\"asus\"],[\"asus\"],[\"asus\"],[\"asus\"],[\"asus\"],[\"asus\"],[\"asus\"],[\"asus\"],[\"asus\"],[\"asus\"],[\"asus\"],[\"asus\"],[\"asus\"],[\"asus\"],[\"asus\"],[\"asus\"],[\"asus\"],[\"asus\"],[\"asus\"],[\"asus\"],[\"asus\"],[\"asus\"],[\"asus\"],[\"asus\"],[\"asus\"],[\"asus\"],[\"asus\"],[\"asus\"],[\"asus\"],[\"asus\"],[\"asus\"],[\"asus\"],[\"asus\"],[\"asus\"],[\"asus\"],[\"asus\"],[\"asus\"],[\"asus\"],[\"asus\"],[\"asus\"],[\"asus\"],[\"asus\"],[\"asus\"],[\"asus\"],[\"asus\"],[\"asus\"],[\"asus\"],[\"asus\"],[\"asus\"],[\"asus\"],[\"asus\"],[\"asus\"],[\"asus\"],[\"asus\"],[\"asus\"],[\"asus\"],[\"asus\"],[\"asus\"],[\"asus\"],[\"asus\"],[\"asus\"],[\"asus\"],[\"asus\"],[\"asus\"],[\"asus\"],[\"asus\"],[\"asus\"],[\"asus\"],[\"asus\"],[\"asus\"],[\"asus\"],[\"asus\"],[\"asus\"],[\"asus\"],[\"asus\"],[\"asus\"],[\"asus\"],[\"asus\"],[\"asus\"],[\"asus\"],[\"asus\"],[\"asus\"],[\"asus\"],[\"asus\"],[\"asus\"],[\"asus\"],[\"asus\"],[\"asus\"],[\"asus\"],[\"asus\"],[\"asus\"],[\"asus\"],[\"asus\"],[\"asus\"],[\"asus\"],[\"asus\"],[\"asus\"],[\"asus\"],[\"asus\"],[\"asus\"],[\"asus\"],[\"asus\"],[\"asus\"],[\"asus\"],[\"asus\"],[\"asus\"],[\"asus\"],[\"asus\"],[\"asus\"],[\"asus\"],[\"asus\"],[\"asus\"],[\"asus\"],[\"asus\"],[\"asus\"],[\"asus\"],[\"asus\"],[\"asus\"],[\"asus\"],[\"asus\"],[\"asus\"],[\"asus\"],[\"asus\"],[\"asus\"],[\"asus\"],[\"asus\"],[\"asus\"],[\"asus\"],[\"asus\"],[\"asus\"],[\"asus\"],[\"asus\"],[\"asus\"],[\"asus\"],[\"asus\"],[\"asus\"],[\"asus\"],[\"asus\"],[\"asus\"],[\"asus\"],[\"asus\"],[\"asus\"],[\"asus\"],[\"asus\"],[\"asus\"],[\"asus\"],[\"asus\"],[\"asus\"],[\"asus\"],[\"asus\"],[\"asus\"],[\"asus\"],[\"asus\"],[\"asus\"],[\"asus\"],[\"asus\"],[\"asus\"],[\"asus\"],[\"asus\"],[\"asus\"],[\"asus\"],[\"asus\"],[\"asus\"],[\"asus\"],[\"asus\"],[\"asus\"],[\"asus\"],[\"asus\"],[\"asus\"],[\"asus\"],[\"asus\"],[\"asus\"],[\"asus\"],[\"asus\"],[\"asus\"],[\"asus\"],[\"asus\"]],\"hovertemplate\":\"brand=%{customdata[0]}\\u003cbr\\u003eprice=%{x}\\u003cbr\\u003erating=%{y}\\u003cextra\\u003e\\u003c\\u002fextra\\u003e\",\"legendgroup\":\"asus\",\"marker\":{\"color\":\"#FF6692\",\"symbol\":\"circle\"},\"mode\":\"markers\",\"name\":\"asus\",\"orientation\":\"v\",\"showlegend\":true,\"x\":[599.55,688.3,911.38,479.62,335.7,563.57,767.46,1362.1,3238.1,888.53,731.48,431.64,1307.16,695.5,869.4,835.81,563.57,647.52,979.73,1139.25,875.4,647.52,1031.31,815.43,902.5,803.44,1858.86,1156.03,527.59,635.53,401.66,875.4,575.56,1103.27,1019.32,215.76,875.4,899.38,1259.19,1080.12,1029.03,695.5,731.48,719.48,383.67,677.63,683.5,1439.09,2158.69,2278.62,1457.07,573.64,1079.29,667.9,839.42,947.36,1268.17,515.6,647.52,582.63,851.41,370.48,750.79,1738.92,393.68,362.19,1037.43,570.29,779.45,1188.68,335.7,959.11,1031.31,179.78,800.18,647.52,251.74,1039.7,832.79,887.39,1199.22,1033.7,338.09,881.07,539.58,724.15,887.39,839.42,1187.23,1091.28,1379.12,203.77,308.84,227.75,535.37,275.74,1180.97,911.38,911.38,1131.8,490.84,858.73,407.66,695.5,719.48,1079.29,450.81,443.64,1139.25,839.42,875.4,393.26,719.48,311.71,472.42,779.45,1067.41,839.54,1702.93,918.69,1559.02,767.46,887.39,1199.22,743.47,671.51,1002.64,1678.95,707.49,575.44,839.42,779.45,1142.97,420.76,335.7,593.55,587.56,923.37,479.62,1256.3,1521.84,2398.56,1583.01,1605.8,1858.86,1731.92,1139.25,3130.16,1798.89,1618.99,724.15,2517.29,1858.86,839.42,1018.84,1360.06,1271.18,1336.53,918.92,1127.37,1937.09,2398.56,431.64,370.92,555.15,1499.05,707.49,383.67,1583.13,1391.11,1079.29,1094.28,755.46,862.78,477.22,467.5,671.51,851.41,749.59,825.15,1031.31,551.58,719.48,1259.19,820.23,1175.23,1115.27,779.45,899.38,527.59,767.46,470.64,1559.02,707.49,953.47,609.08,742.39,2998.23,539.34,547.98,386.07,827.42,3358.03,659.52,935.36,803.44,719.48,791.44,539.58,815.43],\"xaxis\":\"x\",\"y\":[70,71,76,57,57,65,72,77,83,75,67,64,78,72,62,64,57,63,71,70,70,66,75,72,72,64,88,79,60,65,56,70,62,71,69,35,71,65,76,77,76,70,66,60,59,64,58,80,77,79,78,64,67,64,70,65,71,59,65,60,65,50,73,85,37,44,67,58,65,69,45,63,70,38,66,51,38,73,58,62,70,71,43,67,59,60,64,63,73,64,72,37,41,37,57,37,72,65,66,70,57,62,56,69,63,76,59,57,72,66,72,54,64,45,57,72,75,70,82,72,71,65,60,75,64,60,72,83,71,59,69,64,66,53,45,58,63,64,54,71,73,89,84,75,83,73,77,89,76,80,67,73,82,66,72,75,66,76,66,70,84,71,56,45,56,78,60,59,73,73,70,75,59,64,52,48,59,63,56,62,60,57,56,71,64,64,70,62,60,53,58,51,74,62,67,59,67,89,58,59,53,72,83,68,68,65,64,68,59,68],\"yaxis\":\"y\",\"type\":\"scatter\"},{\"customdata\":[[\"dell\"],[\"dell\"],[\"dell\"],[\"dell\"],[\"dell\"],[\"dell\"],[\"dell\"],[\"dell\"],[\"dell\"],[\"dell\"],[\"dell\"],[\"dell\"],[\"dell\"],[\"dell\"],[\"dell\"],[\"dell\"],[\"dell\"],[\"dell\"],[\"dell\"],[\"dell\"],[\"dell\"],[\"dell\"],[\"dell\"],[\"dell\"],[\"dell\"],[\"dell\"],[\"dell\"],[\"dell\"],[\"dell\"],[\"dell\"],[\"dell\"],[\"dell\"],[\"dell\"],[\"dell\"],[\"dell\"],[\"dell\"],[\"dell\"],[\"dell\"],[\"dell\"],[\"dell\"],[\"dell\"],[\"dell\"],[\"dell\"],[\"dell\"],[\"dell\"],[\"dell\"],[\"dell\"],[\"dell\"],[\"dell\"],[\"dell\"],[\"dell\"],[\"dell\"],[\"dell\"],[\"dell\"],[\"dell\"],[\"dell\"],[\"dell\"],[\"dell\"],[\"dell\"],[\"dell\"],[\"dell\"],[\"dell\"],[\"dell\"],[\"dell\"],[\"dell\"],[\"dell\"],[\"dell\"],[\"dell\"],[\"dell\"],[\"dell\"],[\"dell\"],[\"dell\"],[\"dell\"],[\"dell\"],[\"dell\"],[\"dell\"],[\"dell\"],[\"dell\"],[\"dell\"],[\"dell\"],[\"dell\"],[\"dell\"],[\"dell\"],[\"dell\"],[\"dell\"],[\"dell\"],[\"dell\"],[\"dell\"],[\"dell\"],[\"dell\"],[\"dell\"],[\"dell\"],[\"dell\"],[\"dell\"],[\"dell\"],[\"dell\"],[\"dell\"],[\"dell\"],[\"dell\"],[\"dell\"],[\"dell\"],[\"dell\"],[\"dell\"],[\"dell\"],[\"dell\"],[\"dell\"]],\"hovertemplate\":\"brand=%{customdata[0]}\\u003cbr\\u003eprice=%{x}\\u003cbr\\u003erating=%{y}\\u003cextra\\u003e\\u003c\\u002fextra\\u003e\",\"legendgroup\":\"dell\",\"marker\":{\"color\":\"#B6E880\",\"symbol\":\"circle\"},\"mode\":\"markers\",\"name\":\"dell\",\"orientation\":\"v\",\"showlegend\":true,\"x\":[419.65,818.42,974.94,475.53,1037.31,869.4,599.67,1007.32,827.42,1780.9,455.63,791.44,929.37,470.62,687.22,611.54,839.53,626.04,1055.3,2500.5,440.53,718.28,419.65,1823.0,1067.29,1265.18,617.5,683.5,743.47,815.89,675.71,682.18,683.5,611.54,467.62,791.44,1193.1,719.48,449.63,1031.31,2677.82,550.14,459.93,1187.23,395.66,1049.3,575.56,929.37,496.92,1046.9,725.48,447.13,1013.32,3088.18,1151.25,730.4,5450.88,814.23,3885.74,2266.63,5408.9,3597.9,785.57,887.39,471.22,719.48,501.42,1055.3,1085.28,491.61,523.99,671.51,575.56,955.75,3352.03,2422.55,490.41,2464.52,1138.17,743.47,1894.84,1996.78,1193.22,959.71,515.6,1067.17,863.4,887.39,743.47,1790.49,515.72,2254.64,1319.15,1559.02,976.29,2704.39,2650.42,4659.31,4419.44,575.56,623.54,461.63,539.58,670.43,1434.41,1055.3],\"xaxis\":\"x\",\"y\":[60,66,71,66,66,70,60,72,74,78,59,53,73,63,62,68,62,56,67,80,53,58,49,59,64,75,58,57,53,53,57,57,56,57,56,57,62,53,58,57,78,56,58,63,58,62,54,59,57,60,63,58,60,85,63,65,83,65,85,80,83,89,60,63,60,56,53,56,67,58,52,60,60,70,88,82,54,72,71,56,78,82,59,58,57,56,52,57,56,76,52,79,73,75,69,78,83,82,83,63,63,59,62,59,68,72],\"yaxis\":\"y\",\"type\":\"scatter\"},{\"customdata\":[[\"samsung\"],[\"samsung\"],[\"samsung\"],[\"samsung\"],[\"samsung\"],[\"samsung\"],[\"samsung\"]],\"hovertemplate\":\"brand=%{customdata[0]}\\u003cbr\\u003eprice=%{x}\\u003cbr\\u003erating=%{y}\\u003cextra\\u003e\\u003c\\u002fextra\\u003e\",\"legendgroup\":\"samsung\",\"marker\":{\"color\":\"#FF97FF\",\"symbol\":\"circle\"},\"mode\":\"markers\",\"name\":\"samsung\",\"orientation\":\"v\",\"showlegend\":true,\"x\":[779.45,539.58,575.56,839.42,911.38,659.52,1403.11],\"xaxis\":\"x\",\"y\":[68,59,62,56,60,59,68],\"yaxis\":\"y\",\"type\":\"scatter\"},{\"customdata\":[[\"msi\"],[\"msi\"],[\"msi\"],[\"msi\"],[\"msi\"],[\"msi\"],[\"msi\"],[\"msi\"],[\"msi\"],[\"msi\"],[\"msi\"],[\"msi\"],[\"msi\"],[\"msi\"],[\"msi\"],[\"msi\"],[\"msi\"],[\"msi\"],[\"msi\"],[\"msi\"],[\"msi\"],[\"msi\"],[\"msi\"],[\"msi\"],[\"msi\"],[\"msi\"],[\"msi\"],[\"msi\"],[\"msi\"],[\"msi\"],[\"msi\"],[\"msi\"],[\"msi\"],[\"msi\"],[\"msi\"],[\"msi\"],[\"msi\"],[\"msi\"],[\"msi\"],[\"msi\"],[\"msi\"],[\"msi\"],[\"msi\"],[\"msi\"],[\"msi\"],[\"msi\"],[\"msi\"],[\"msi\"],[\"msi\"],[\"msi\"],[\"msi\"],[\"msi\"],[\"msi\"],[\"msi\"],[\"msi\"],[\"msi\"],[\"msi\"],[\"msi\"],[\"msi\"],[\"msi\"],[\"msi\"],[\"msi\"],[\"msi\"],[\"msi\"],[\"msi\"],[\"msi\"],[\"msi\"],[\"msi\"],[\"msi\"],[\"msi\"],[\"msi\"],[\"msi\"],[\"msi\"],[\"msi\"],[\"msi\"],[\"msi\"],[\"msi\"],[\"msi\"],[\"msi\"],[\"msi\"],[\"msi\"],[\"msi\"],[\"msi\"],[\"msi\"],[\"msi\"],[\"msi\"],[\"msi\"],[\"msi\"],[\"msi\"],[\"msi\"]],\"hovertemplate\":\"brand=%{customdata[0]}\\u003cbr\\u003eprice=%{x}\\u003cbr\\u003erating=%{y}\\u003cextra\\u003e\\u003c\\u002fextra\\u003e\",\"legendgroup\":\"msi\",\"marker\":{\"color\":\"#FECB52\",\"symbol\":\"circle\"},\"mode\":\"markers\",\"name\":\"msi\",\"orientation\":\"v\",\"showlegend\":true,\"x\":[635.53,800.92,431.16,839.42,659.52,899.38,599.55,503.6,659.52,743.47,635.53,755.46,479.62,647.52,683.5,443.64,815.43,785.45,527.59,1271.18,1007.32,795.76,2398.56,5396.91,959.35,2357.66,755.46,1139.25,1163.24,1259.19,1798.89,1798.89,1379.12,671.51,707.49,671.51,2398.56,1439.09,3597.9,983.34,443.64,1912.07,1079.29,887.39,575.56,1343.14,695.5,659.52,1259.19,899.38,1139.25,611.54,1139.25,1019.32,731.48,623.54,635.53,1103.27,1055.3,3358.03,923.37,875.4,1043.31,2998.23,767.46,1163.24,983.34,839.42,3130.16,781.85,875.4,2638.43,2590.45,2062.74,839.42,743.47,527.59,587.56,503.6,455.63,569.57,1115.27,995.33,1048.11,606.76,731.48,647.52,491.61,1439.09,1103.27],\"xaxis\":\"x\",\"y\":[71,76,58,70,65,75,65,63,60,73,65,73,62,65,72,62,73,69,62,79,78,69,80,89,70,83,71,76,76,77,79,76,77,69,71,70,83,73,89,63,58,77,71,65,67,78,67,65,78,69,77,66,77,75,63,70,65,75,75,85,69,71,73,86,71,77,65,70,89,65,71,84,87,80,70,72,53,54,60,58,59,72,74,67,59,61,58,56,76,73],\"yaxis\":\"y\",\"type\":\"scatter\"},{\"customdata\":[[\"wings\"],[\"wings\"],[\"wings\"],[\"wings\"]],\"hovertemplate\":\"brand=%{customdata[0]}\\u003cbr\\u003eprice=%{x}\\u003cbr\\u003erating=%{y}\\u003cextra\\u003e\\u003c\\u002fextra\\u003e\",\"legendgroup\":\"wings\",\"marker\":{\"color\":\"#636efa\",\"symbol\":\"circle\"},\"mode\":\"markers\",\"name\":\"wings\",\"orientation\":\"v\",\"showlegend\":true,\"x\":[335.7,479.62,299.71,323.7],\"xaxis\":\"x\",\"y\":[56,58,49,51],\"yaxis\":\"y\",\"type\":\"scatter\"},{\"customdata\":[[\"ultimus\"],[\"ultimus\"],[\"ultimus\"],[\"ultimus\"],[\"ultimus\"],[\"ultimus\"]],\"hovertemplate\":\"brand=%{customdata[0]}\\u003cbr\\u003eprice=%{x}\\u003cbr\\u003erating=%{y}\\u003cextra\\u003e\\u003c\\u002fextra\\u003e\",\"legendgroup\":\"ultimus\",\"marker\":{\"color\":\"#EF553B\",\"symbol\":\"circle\"},\"mode\":\"markers\",\"name\":\"ultimus\",\"orientation\":\"v\",\"showlegend\":true,\"x\":[239.75,191.77,143.8,179.78,197.77,274.8],\"xaxis\":\"x\",\"y\":[54,46,41,45,47,52],\"yaxis\":\"y\",\"type\":\"scatter\"},{\"customdata\":[[\"primebook\"],[\"primebook\"]],\"hovertemplate\":\"brand=%{customdata[0]}\\u003cbr\\u003eprice=%{x}\\u003cbr\\u003erating=%{y}\\u003cextra\\u003e\\u003c\\u002fextra\\u003e\",\"legendgroup\":\"primebook\",\"marker\":{\"color\":\"#00cc96\",\"symbol\":\"circle\"},\"mode\":\"markers\",\"name\":\"primebook\",\"orientation\":\"v\",\"showlegend\":true,\"x\":[179.78,155.79],\"xaxis\":\"x\",\"y\":[26,31],\"yaxis\":\"y\",\"type\":\"scatter\"},{\"customdata\":[[\"iball\"]],\"hovertemplate\":\"brand=%{customdata[0]}\\u003cbr\\u003eprice=%{x}\\u003cbr\\u003erating=%{y}\\u003cextra\\u003e\\u003c\\u002fextra\\u003e\",\"legendgroup\":\"iball\",\"marker\":{\"color\":\"#ab63fa\",\"symbol\":\"circle\"},\"mode\":\"markers\",\"name\":\"iball\",\"orientation\":\"v\",\"showlegend\":true,\"x\":[117.54],\"xaxis\":\"x\",\"y\":[41],\"yaxis\":\"y\",\"type\":\"scatter\"},{\"customdata\":[[\"zebronics\"],[\"zebronics\"],[\"zebronics\"],[\"zebronics\"],[\"zebronics\"],[\"zebronics\"],[\"zebronics\"]],\"hovertemplate\":\"brand=%{customdata[0]}\\u003cbr\\u003eprice=%{x}\\u003cbr\\u003erating=%{y}\\u003cextra\\u003e\\u003c\\u002fextra\\u003e\",\"legendgroup\":\"zebronics\",\"marker\":{\"color\":\"#FFA15A\",\"symbol\":\"circle\"},\"mode\":\"markers\",\"name\":\"zebronics\",\"orientation\":\"v\",\"showlegend\":true,\"x\":[407.66,395.66,635.53,359.68,479.62,395.66,611.54],\"xaxis\":\"x\",\"y\":[65,63,72,56,66,60,72],\"yaxis\":\"y\",\"type\":\"scatter\"},{\"customdata\":[[\"chuwi\"],[\"chuwi\"],[\"chuwi\"],[\"chuwi\"]],\"hovertemplate\":\"brand=%{customdata[0]}\\u003cbr\\u003eprice=%{x}\\u003cbr\\u003erating=%{y}\\u003cextra\\u003e\\u003c\\u002fextra\\u003e\",\"legendgroup\":\"chuwi\",\"marker\":{\"color\":\"#19d3f3\",\"symbol\":\"circle\"},\"mode\":\"markers\",\"name\":\"chuwi\",\"orientation\":\"v\",\"showlegend\":true,\"x\":[395.66,299.71,263.73,419.65],\"xaxis\":\"x\",\"y\":[50,50,50,54],\"yaxis\":\"y\",\"type\":\"scatter\"},{\"customdata\":[[\"gigabyte\"],[\"gigabyte\"]],\"hovertemplate\":\"brand=%{customdata[0]}\\u003cbr\\u003eprice=%{x}\\u003cbr\\u003erating=%{y}\\u003cextra\\u003e\\u003c\\u002fextra\\u003e\",\"legendgroup\":\"gigabyte\",\"marker\":{\"color\":\"#FF6692\",\"symbol\":\"circle\"},\"mode\":\"markers\",\"name\":\"gigabyte\",\"orientation\":\"v\",\"showlegend\":true,\"x\":[863.4,1079.29],\"xaxis\":\"x\",\"y\":[67,73],\"yaxis\":\"y\",\"type\":\"scatter\"},{\"customdata\":[[\"jio\"]],\"hovertemplate\":\"brand=%{customdata[0]}\\u003cbr\\u003eprice=%{x}\\u003cbr\\u003erating=%{y}\\u003cextra\\u003e\\u003c\\u002fextra\\u003e\",\"legendgroup\":\"jio\",\"marker\":{\"color\":\"#B6E880\",\"symbol\":\"circle\"},\"mode\":\"markers\",\"name\":\"jio\",\"orientation\":\"v\",\"showlegend\":true,\"x\":[176.31],\"xaxis\":\"x\",\"y\":[24],\"yaxis\":\"y\",\"type\":\"scatter\"},{\"customdata\":[[\"honor\"],[\"honor\"]],\"hovertemplate\":\"brand=%{customdata[0]}\\u003cbr\\u003eprice=%{x}\\u003cbr\\u003erating=%{y}\\u003cextra\\u003e\\u003c\\u002fextra\\u003e\",\"legendgroup\":\"honor\",\"marker\":{\"color\":\"#FF97FF\",\"symbol\":\"circle\"},\"mode\":\"markers\",\"name\":\"honor\",\"orientation\":\"v\",\"showlegend\":true,\"x\":[659.52,527.59],\"xaxis\":\"x\",\"y\":[66,59],\"yaxis\":\"y\",\"type\":\"scatter\"},{\"customdata\":[[\"realme\"],[\"realme\"]],\"hovertemplate\":\"brand=%{customdata[0]}\\u003cbr\\u003eprice=%{x}\\u003cbr\\u003erating=%{y}\\u003cextra\\u003e\\u003c\\u002fextra\\u003e\",\"legendgroup\":\"realme\",\"marker\":{\"color\":\"#FECB52\",\"symbol\":\"circle\"},\"mode\":\"markers\",\"name\":\"realme\",\"orientation\":\"v\",\"showlegend\":true,\"x\":[443.64,515.6],\"xaxis\":\"x\",\"y\":[52,62],\"yaxis\":\"y\",\"type\":\"scatter\"},{\"customdata\":[[\"avita\"],[\"avita\"],[\"avita\"],[\"avita\"],[\"avita\"]],\"hovertemplate\":\"brand=%{customdata[0]}\\u003cbr\\u003eprice=%{x}\\u003cbr\\u003erating=%{y}\\u003cextra\\u003e\\u003c\\u002fextra\\u003e\",\"legendgroup\":\"avita\",\"marker\":{\"color\":\"#636efa\",\"symbol\":\"circle\"},\"mode\":\"markers\",\"name\":\"avita\",\"orientation\":\"v\",\"showlegend\":true,\"x\":[256.54,395.17,390.38,232.92,251.85],\"xaxis\":\"x\",\"y\":[56,50,51,41,43],\"yaxis\":\"y\",\"type\":\"scatter\"},{\"customdata\":[[\"microsoft\"],[\"microsoft\"]],\"hovertemplate\":\"brand=%{customdata[0]}\\u003cbr\\u003eprice=%{x}\\u003cbr\\u003erating=%{y}\\u003cextra\\u003e\\u003c\\u002fextra\\u003e\",\"legendgroup\":\"microsoft\",\"marker\":{\"color\":\"#EF553B\",\"symbol\":\"circle\"},\"mode\":\"markers\",\"name\":\"microsoft\",\"orientation\":\"v\",\"showlegend\":true,\"x\":[959.35,1169.24],\"xaxis\":\"x\",\"y\":[58,60],\"yaxis\":\"y\",\"type\":\"scatter\"},{\"customdata\":[[\"fujitsu\"],[\"fujitsu\"],[\"fujitsu\"],[\"fujitsu\"],[\"fujitsu\"]],\"hovertemplate\":\"brand=%{customdata[0]}\\u003cbr\\u003eprice=%{x}\\u003cbr\\u003erating=%{y}\\u003cextra\\u003e\\u003c\\u002fextra\\u003e\",\"legendgroup\":\"fujitsu\",\"marker\":{\"color\":\"#00cc96\",\"symbol\":\"circle\"},\"mode\":\"markers\",\"name\":\"fujitsu\",\"orientation\":\"v\",\"showlegend\":true,\"x\":[887.39,887.39,1319.15,1199.22,677.55],\"xaxis\":\"x\",\"y\":[67,65,76,73,70],\"yaxis\":\"y\",\"type\":\"scatter\"},{\"customdata\":[[\"lg\"],[\"lg\"],[\"lg\"],[\"lg\"],[\"lg\"],[\"lg\"],[\"lg\"]],\"hovertemplate\":\"brand=%{customdata[0]}\\u003cbr\\u003eprice=%{x}\\u003cbr\\u003erating=%{y}\\u003cextra\\u003e\\u003c\\u002fextra\\u003e\",\"legendgroup\":\"lg\",\"marker\":{\"color\":\"#ab63fa\",\"symbol\":\"circle\"},\"mode\":\"markers\",\"name\":\"lg\",\"orientation\":\"v\",\"showlegend\":true,\"x\":[1187.33,939.07,1828.98,1414.01,1076.99,1810.99,1421.2],\"xaxis\":\"x\",\"y\":[67,72,78,69,75,72,72],\"yaxis\":\"y\",\"type\":\"scatter\"},{\"customdata\":[[\"walker\"]],\"hovertemplate\":\"brand=%{customdata[0]}\\u003cbr\\u003eprice=%{x}\\u003cbr\\u003erating=%{y}\\u003cextra\\u003e\\u003c\\u002fextra\\u003e\",\"legendgroup\":\"walker\",\"marker\":{\"color\":\"#FFA15A\",\"symbol\":\"circle\"},\"mode\":\"markers\",\"name\":\"walker\",\"orientation\":\"v\",\"showlegend\":true,\"x\":[191.77],\"xaxis\":\"x\",\"y\":[37],\"yaxis\":\"y\",\"type\":\"scatter\"},{\"customdata\":[[\"axl\"],[\"axl\"]],\"hovertemplate\":\"brand=%{customdata[0]}\\u003cbr\\u003eprice=%{x}\\u003cbr\\u003erating=%{y}\\u003cextra\\u003e\\u003c\\u002fextra\\u003e\",\"legendgroup\":\"axl\",\"marker\":{\"color\":\"#19d3f3\",\"symbol\":\"circle\"},\"mode\":\"markers\",\"name\":\"axl\",\"orientation\":\"v\",\"showlegend\":true,\"x\":[215.76,179.78],\"xaxis\":\"x\",\"y\":[38,37],\"yaxis\":\"y\",\"type\":\"scatter\"}],                        {\"template\":{\"data\":{\"histogram2dcontour\":[{\"type\":\"histogram2dcontour\",\"colorbar\":{\"outlinewidth\":0,\"ticks\":\"\"},\"colorscale\":[[0.0,\"#0d0887\"],[0.1111111111111111,\"#46039f\"],[0.2222222222222222,\"#7201a8\"],[0.3333333333333333,\"#9c179e\"],[0.4444444444444444,\"#bd3786\"],[0.5555555555555556,\"#d8576b\"],[0.6666666666666666,\"#ed7953\"],[0.7777777777777778,\"#fb9f3a\"],[0.8888888888888888,\"#fdca26\"],[1.0,\"#f0f921\"]]}],\"choropleth\":[{\"type\":\"choropleth\",\"colorbar\":{\"outlinewidth\":0,\"ticks\":\"\"}}],\"histogram2d\":[{\"type\":\"histogram2d\",\"colorbar\":{\"outlinewidth\":0,\"ticks\":\"\"},\"colorscale\":[[0.0,\"#0d0887\"],[0.1111111111111111,\"#46039f\"],[0.2222222222222222,\"#7201a8\"],[0.3333333333333333,\"#9c179e\"],[0.4444444444444444,\"#bd3786\"],[0.5555555555555556,\"#d8576b\"],[0.6666666666666666,\"#ed7953\"],[0.7777777777777778,\"#fb9f3a\"],[0.8888888888888888,\"#fdca26\"],[1.0,\"#f0f921\"]]}],\"heatmap\":[{\"type\":\"heatmap\",\"colorbar\":{\"outlinewidth\":0,\"ticks\":\"\"},\"colorscale\":[[0.0,\"#0d0887\"],[0.1111111111111111,\"#46039f\"],[0.2222222222222222,\"#7201a8\"],[0.3333333333333333,\"#9c179e\"],[0.4444444444444444,\"#bd3786\"],[0.5555555555555556,\"#d8576b\"],[0.6666666666666666,\"#ed7953\"],[0.7777777777777778,\"#fb9f3a\"],[0.8888888888888888,\"#fdca26\"],[1.0,\"#f0f921\"]]}],\"heatmapgl\":[{\"type\":\"heatmapgl\",\"colorbar\":{\"outlinewidth\":0,\"ticks\":\"\"},\"colorscale\":[[0.0,\"#0d0887\"],[0.1111111111111111,\"#46039f\"],[0.2222222222222222,\"#7201a8\"],[0.3333333333333333,\"#9c179e\"],[0.4444444444444444,\"#bd3786\"],[0.5555555555555556,\"#d8576b\"],[0.6666666666666666,\"#ed7953\"],[0.7777777777777778,\"#fb9f3a\"],[0.8888888888888888,\"#fdca26\"],[1.0,\"#f0f921\"]]}],\"contourcarpet\":[{\"type\":\"contourcarpet\",\"colorbar\":{\"outlinewidth\":0,\"ticks\":\"\"}}],\"contour\":[{\"type\":\"contour\",\"colorbar\":{\"outlinewidth\":0,\"ticks\":\"\"},\"colorscale\":[[0.0,\"#0d0887\"],[0.1111111111111111,\"#46039f\"],[0.2222222222222222,\"#7201a8\"],[0.3333333333333333,\"#9c179e\"],[0.4444444444444444,\"#bd3786\"],[0.5555555555555556,\"#d8576b\"],[0.6666666666666666,\"#ed7953\"],[0.7777777777777778,\"#fb9f3a\"],[0.8888888888888888,\"#fdca26\"],[1.0,\"#f0f921\"]]}],\"surface\":[{\"type\":\"surface\",\"colorbar\":{\"outlinewidth\":0,\"ticks\":\"\"},\"colorscale\":[[0.0,\"#0d0887\"],[0.1111111111111111,\"#46039f\"],[0.2222222222222222,\"#7201a8\"],[0.3333333333333333,\"#9c179e\"],[0.4444444444444444,\"#bd3786\"],[0.5555555555555556,\"#d8576b\"],[0.6666666666666666,\"#ed7953\"],[0.7777777777777778,\"#fb9f3a\"],[0.8888888888888888,\"#fdca26\"],[1.0,\"#f0f921\"]]}],\"mesh3d\":[{\"type\":\"mesh3d\",\"colorbar\":{\"outlinewidth\":0,\"ticks\":\"\"}}],\"scatter\":[{\"fillpattern\":{\"fillmode\":\"overlay\",\"size\":10,\"solidity\":0.2},\"type\":\"scatter\"}],\"parcoords\":[{\"type\":\"parcoords\",\"line\":{\"colorbar\":{\"outlinewidth\":0,\"ticks\":\"\"}}}],\"scatterpolargl\":[{\"type\":\"scatterpolargl\",\"marker\":{\"colorbar\":{\"outlinewidth\":0,\"ticks\":\"\"}}}],\"bar\":[{\"error_x\":{\"color\":\"#2a3f5f\"},\"error_y\":{\"color\":\"#2a3f5f\"},\"marker\":{\"line\":{\"color\":\"#E5ECF6\",\"width\":0.5},\"pattern\":{\"fillmode\":\"overlay\",\"size\":10,\"solidity\":0.2}},\"type\":\"bar\"}],\"scattergeo\":[{\"type\":\"scattergeo\",\"marker\":{\"colorbar\":{\"outlinewidth\":0,\"ticks\":\"\"}}}],\"scatterpolar\":[{\"type\":\"scatterpolar\",\"marker\":{\"colorbar\":{\"outlinewidth\":0,\"ticks\":\"\"}}}],\"histogram\":[{\"marker\":{\"pattern\":{\"fillmode\":\"overlay\",\"size\":10,\"solidity\":0.2}},\"type\":\"histogram\"}],\"scattergl\":[{\"type\":\"scattergl\",\"marker\":{\"colorbar\":{\"outlinewidth\":0,\"ticks\":\"\"}}}],\"scatter3d\":[{\"type\":\"scatter3d\",\"line\":{\"colorbar\":{\"outlinewidth\":0,\"ticks\":\"\"}},\"marker\":{\"colorbar\":{\"outlinewidth\":0,\"ticks\":\"\"}}}],\"scattermapbox\":[{\"type\":\"scattermapbox\",\"marker\":{\"colorbar\":{\"outlinewidth\":0,\"ticks\":\"\"}}}],\"scatterternary\":[{\"type\":\"scatterternary\",\"marker\":{\"colorbar\":{\"outlinewidth\":0,\"ticks\":\"\"}}}],\"scattercarpet\":[{\"type\":\"scattercarpet\",\"marker\":{\"colorbar\":{\"outlinewidth\":0,\"ticks\":\"\"}}}],\"carpet\":[{\"aaxis\":{\"endlinecolor\":\"#2a3f5f\",\"gridcolor\":\"white\",\"linecolor\":\"white\",\"minorgridcolor\":\"white\",\"startlinecolor\":\"#2a3f5f\"},\"baxis\":{\"endlinecolor\":\"#2a3f5f\",\"gridcolor\":\"white\",\"linecolor\":\"white\",\"minorgridcolor\":\"white\",\"startlinecolor\":\"#2a3f5f\"},\"type\":\"carpet\"}],\"table\":[{\"cells\":{\"fill\":{\"color\":\"#EBF0F8\"},\"line\":{\"color\":\"white\"}},\"header\":{\"fill\":{\"color\":\"#C8D4E3\"},\"line\":{\"color\":\"white\"}},\"type\":\"table\"}],\"barpolar\":[{\"marker\":{\"line\":{\"color\":\"#E5ECF6\",\"width\":0.5},\"pattern\":{\"fillmode\":\"overlay\",\"size\":10,\"solidity\":0.2}},\"type\":\"barpolar\"}],\"pie\":[{\"automargin\":true,\"type\":\"pie\"}]},\"layout\":{\"autotypenumbers\":\"strict\",\"colorway\":[\"#636efa\",\"#EF553B\",\"#00cc96\",\"#ab63fa\",\"#FFA15A\",\"#19d3f3\",\"#FF6692\",\"#B6E880\",\"#FF97FF\",\"#FECB52\"],\"font\":{\"color\":\"#2a3f5f\"},\"hovermode\":\"closest\",\"hoverlabel\":{\"align\":\"left\"},\"paper_bgcolor\":\"white\",\"plot_bgcolor\":\"#E5ECF6\",\"polar\":{\"bgcolor\":\"#E5ECF6\",\"angularaxis\":{\"gridcolor\":\"white\",\"linecolor\":\"white\",\"ticks\":\"\"},\"radialaxis\":{\"gridcolor\":\"white\",\"linecolor\":\"white\",\"ticks\":\"\"}},\"ternary\":{\"bgcolor\":\"#E5ECF6\",\"aaxis\":{\"gridcolor\":\"white\",\"linecolor\":\"white\",\"ticks\":\"\"},\"baxis\":{\"gridcolor\":\"white\",\"linecolor\":\"white\",\"ticks\":\"\"},\"caxis\":{\"gridcolor\":\"white\",\"linecolor\":\"white\",\"ticks\":\"\"}},\"coloraxis\":{\"colorbar\":{\"outlinewidth\":0,\"ticks\":\"\"}},\"colorscale\":{\"sequential\":[[0.0,\"#0d0887\"],[0.1111111111111111,\"#46039f\"],[0.2222222222222222,\"#7201a8\"],[0.3333333333333333,\"#9c179e\"],[0.4444444444444444,\"#bd3786\"],[0.5555555555555556,\"#d8576b\"],[0.6666666666666666,\"#ed7953\"],[0.7777777777777778,\"#fb9f3a\"],[0.8888888888888888,\"#fdca26\"],[1.0,\"#f0f921\"]],\"sequentialminus\":[[0.0,\"#0d0887\"],[0.1111111111111111,\"#46039f\"],[0.2222222222222222,\"#7201a8\"],[0.3333333333333333,\"#9c179e\"],[0.4444444444444444,\"#bd3786\"],[0.5555555555555556,\"#d8576b\"],[0.6666666666666666,\"#ed7953\"],[0.7777777777777778,\"#fb9f3a\"],[0.8888888888888888,\"#fdca26\"],[1.0,\"#f0f921\"]],\"diverging\":[[0,\"#8e0152\"],[0.1,\"#c51b7d\"],[0.2,\"#de77ae\"],[0.3,\"#f1b6da\"],[0.4,\"#fde0ef\"],[0.5,\"#f7f7f7\"],[0.6,\"#e6f5d0\"],[0.7,\"#b8e186\"],[0.8,\"#7fbc41\"],[0.9,\"#4d9221\"],[1,\"#276419\"]]},\"xaxis\":{\"gridcolor\":\"white\",\"linecolor\":\"white\",\"ticks\":\"\",\"title\":{\"standoff\":15},\"zerolinecolor\":\"white\",\"automargin\":true,\"zerolinewidth\":2},\"yaxis\":{\"gridcolor\":\"white\",\"linecolor\":\"white\",\"ticks\":\"\",\"title\":{\"standoff\":15},\"zerolinecolor\":\"white\",\"automargin\":true,\"zerolinewidth\":2},\"scene\":{\"xaxis\":{\"backgroundcolor\":\"#E5ECF6\",\"gridcolor\":\"white\",\"linecolor\":\"white\",\"showbackground\":true,\"ticks\":\"\",\"zerolinecolor\":\"white\",\"gridwidth\":2},\"yaxis\":{\"backgroundcolor\":\"#E5ECF6\",\"gridcolor\":\"white\",\"linecolor\":\"white\",\"showbackground\":true,\"ticks\":\"\",\"zerolinecolor\":\"white\",\"gridwidth\":2},\"zaxis\":{\"backgroundcolor\":\"#E5ECF6\",\"gridcolor\":\"white\",\"linecolor\":\"white\",\"showbackground\":true,\"ticks\":\"\",\"zerolinecolor\":\"white\",\"gridwidth\":2}},\"shapedefaults\":{\"line\":{\"color\":\"#2a3f5f\"}},\"annotationdefaults\":{\"arrowcolor\":\"#2a3f5f\",\"arrowhead\":0,\"arrowwidth\":1},\"geo\":{\"bgcolor\":\"white\",\"landcolor\":\"#E5ECF6\",\"subunitcolor\":\"white\",\"showland\":true,\"showlakes\":true,\"lakecolor\":\"white\"},\"title\":{\"x\":0.05},\"mapbox\":{\"style\":\"light\"}}},\"xaxis\":{\"anchor\":\"y\",\"domain\":[0.0,1.0],\"title\":{\"text\":\"price\"}},\"yaxis\":{\"anchor\":\"x\",\"domain\":[0.0,1.0],\"title\":{\"text\":\"rating\"}},\"legend\":{\"title\":{\"text\":\"brand\"},\"tracegroupgap\":0},\"margin\":{\"t\":60}},                        {\"responsive\": true}                    ).then(function(){\n",
       "                            \n",
       "var gd = document.getElementById('c832a9f4-864f-4b33-9ff1-1c87ddc10fc5');\n",
       "var x = new MutationObserver(function (mutations, observer) {{\n",
       "        var display = window.getComputedStyle(gd).display;\n",
       "        if (!display || display === 'none') {{\n",
       "            console.log([gd, 'removed!']);\n",
       "            Plotly.purge(gd);\n",
       "            observer.disconnect();\n",
       "        }}\n",
       "}});\n",
       "\n",
       "// Listen for the removal of the full notebook cells\n",
       "var notebookContainer = gd.closest('#notebook-container');\n",
       "if (notebookContainer) {{\n",
       "    x.observe(notebookContainer, {childList: true});\n",
       "}}\n",
       "\n",
       "// Listen for the clearing of the current output cell\n",
       "var outputEl = gd.closest('.output');\n",
       "if (outputEl) {{\n",
       "    x.observe(outputEl, {childList: true});\n",
       "}}\n",
       "\n",
       "                        })                };                });            </script>        </div>"
      ]
     },
     "metadata": {},
     "output_type": "display_data"
    }
   ],
   "source": [
    "# Scarterplot de Price e Rating\n",
    "px.scatter(df_laptops, x='price', y='rating', color='brand', hover_data=['brand'])"
   ]
  },
  {
   "cell_type": "markdown",
   "id": "6527b8b3",
   "metadata": {},
   "source": [
    "### Treinar modelo de clustering hierarquico"
   ]
  },
  {
   "cell_type": "code",
   "execution_count": 30,
   "id": "fd66311e",
   "metadata": {},
   "outputs": [],
   "source": [
    "# Selecionar as colunas para clusterização\n",
    "X = df_laptops.copy()\n",
    "\n",
    "# remover colunas desnecessárias\n",
    "X.drop(columns=['index', 'model'], axis=1, inplace=True)"
   ]
  },
  {
   "cell_type": "code",
   "execution_count": 31,
   "id": "cec74aee",
   "metadata": {},
   "outputs": [
    {
     "data": {
      "text/html": [
       "<div>\n",
       "<style scoped>\n",
       "    .dataframe tbody tr th:only-of-type {\n",
       "        vertical-align: middle;\n",
       "    }\n",
       "\n",
       "    .dataframe tbody tr th {\n",
       "        vertical-align: top;\n",
       "    }\n",
       "\n",
       "    .dataframe thead th {\n",
       "        text-align: right;\n",
       "    }\n",
       "</style>\n",
       "<table border=\"1\" class=\"dataframe\">\n",
       "  <thead>\n",
       "    <tr style=\"text-align: right;\">\n",
       "      <th></th>\n",
       "      <th>brand</th>\n",
       "      <th>price</th>\n",
       "      <th>rating</th>\n",
       "      <th>processor_brand</th>\n",
       "      <th>processor_tier</th>\n",
       "      <th>num_cores</th>\n",
       "      <th>num_threads</th>\n",
       "      <th>ram_memory</th>\n",
       "      <th>primary_storage_type</th>\n",
       "      <th>primary_storage_capacity</th>\n",
       "      <th>gpu_brand</th>\n",
       "      <th>gpu_type</th>\n",
       "      <th>is_touch_screen</th>\n",
       "      <th>display_size</th>\n",
       "      <th>resolution_width</th>\n",
       "      <th>resolution_height</th>\n",
       "      <th>os</th>\n",
       "      <th>year_of_warranty</th>\n",
       "    </tr>\n",
       "  </thead>\n",
       "  <tbody>\n",
       "    <tr>\n",
       "      <th>0</th>\n",
       "      <td>tecno</td>\n",
       "      <td>287.72</td>\n",
       "      <td>63</td>\n",
       "      <td>intel</td>\n",
       "      <td>core i3</td>\n",
       "      <td>2</td>\n",
       "      <td>4</td>\n",
       "      <td>8</td>\n",
       "      <td>SSD</td>\n",
       "      <td>512</td>\n",
       "      <td>intel</td>\n",
       "      <td>integrated</td>\n",
       "      <td>0</td>\n",
       "      <td>15.6</td>\n",
       "      <td>1920</td>\n",
       "      <td>1080</td>\n",
       "      <td>windows</td>\n",
       "      <td>1</td>\n",
       "    </tr>\n",
       "    <tr>\n",
       "      <th>1</th>\n",
       "      <td>tecno</td>\n",
       "      <td>431.64</td>\n",
       "      <td>67</td>\n",
       "      <td>intel</td>\n",
       "      <td>core i7</td>\n",
       "      <td>4</td>\n",
       "      <td>8</td>\n",
       "      <td>16</td>\n",
       "      <td>SSD</td>\n",
       "      <td>1024</td>\n",
       "      <td>intel</td>\n",
       "      <td>integrated</td>\n",
       "      <td>0</td>\n",
       "      <td>15.6</td>\n",
       "      <td>1920</td>\n",
       "      <td>1080</td>\n",
       "      <td>windows</td>\n",
       "      <td>1</td>\n",
       "    </tr>\n",
       "    <tr>\n",
       "      <th>2</th>\n",
       "      <td>hp</td>\n",
       "      <td>612.86</td>\n",
       "      <td>73</td>\n",
       "      <td>amd</td>\n",
       "      <td>ryzen 5</td>\n",
       "      <td>6</td>\n",
       "      <td>12</td>\n",
       "      <td>8</td>\n",
       "      <td>SSD</td>\n",
       "      <td>512</td>\n",
       "      <td>amd</td>\n",
       "      <td>dedicated</td>\n",
       "      <td>0</td>\n",
       "      <td>15.6</td>\n",
       "      <td>1920</td>\n",
       "      <td>1080</td>\n",
       "      <td>windows</td>\n",
       "      <td>1</td>\n",
       "    </tr>\n",
       "    <tr>\n",
       "      <th>3</th>\n",
       "      <td>acer</td>\n",
       "      <td>479.62</td>\n",
       "      <td>62</td>\n",
       "      <td>intel</td>\n",
       "      <td>core i5</td>\n",
       "      <td>12</td>\n",
       "      <td>16</td>\n",
       "      <td>8</td>\n",
       "      <td>SSD</td>\n",
       "      <td>512</td>\n",
       "      <td>intel</td>\n",
       "      <td>integrated</td>\n",
       "      <td>0</td>\n",
       "      <td>14.0</td>\n",
       "      <td>1920</td>\n",
       "      <td>1080</td>\n",
       "      <td>windows</td>\n",
       "      <td>1</td>\n",
       "    </tr>\n",
       "    <tr>\n",
       "      <th>4</th>\n",
       "      <td>lenovo</td>\n",
       "      <td>342.77</td>\n",
       "      <td>62</td>\n",
       "      <td>amd</td>\n",
       "      <td>ryzen 3</td>\n",
       "      <td>4</td>\n",
       "      <td>8</td>\n",
       "      <td>8</td>\n",
       "      <td>SSD</td>\n",
       "      <td>512</td>\n",
       "      <td>amd</td>\n",
       "      <td>integrated</td>\n",
       "      <td>0</td>\n",
       "      <td>15.6</td>\n",
       "      <td>1920</td>\n",
       "      <td>1080</td>\n",
       "      <td>windows</td>\n",
       "      <td>1</td>\n",
       "    </tr>\n",
       "    <tr>\n",
       "      <th>...</th>\n",
       "      <td>...</td>\n",
       "      <td>...</td>\n",
       "      <td>...</td>\n",
       "      <td>...</td>\n",
       "      <td>...</td>\n",
       "      <td>...</td>\n",
       "      <td>...</td>\n",
       "      <td>...</td>\n",
       "      <td>...</td>\n",
       "      <td>...</td>\n",
       "      <td>...</td>\n",
       "      <td>...</td>\n",
       "      <td>...</td>\n",
       "      <td>...</td>\n",
       "      <td>...</td>\n",
       "      <td>...</td>\n",
       "      <td>...</td>\n",
       "      <td>...</td>\n",
       "    </tr>\n",
       "    <tr>\n",
       "      <th>986</th>\n",
       "      <td>asus</td>\n",
       "      <td>791.44</td>\n",
       "      <td>68</td>\n",
       "      <td>amd</td>\n",
       "      <td>ryzen 5</td>\n",
       "      <td>6</td>\n",
       "      <td>12</td>\n",
       "      <td>16</td>\n",
       "      <td>SSD</td>\n",
       "      <td>512</td>\n",
       "      <td>nvidia</td>\n",
       "      <td>dedicated</td>\n",
       "      <td>0</td>\n",
       "      <td>15.6</td>\n",
       "      <td>1920</td>\n",
       "      <td>1080</td>\n",
       "      <td>windows</td>\n",
       "      <td>1</td>\n",
       "    </tr>\n",
       "    <tr>\n",
       "      <th>987</th>\n",
       "      <td>msi</td>\n",
       "      <td>1103.27</td>\n",
       "      <td>73</td>\n",
       "      <td>intel</td>\n",
       "      <td>core i7</td>\n",
       "      <td>10</td>\n",
       "      <td>16</td>\n",
       "      <td>16</td>\n",
       "      <td>SSD</td>\n",
       "      <td>512</td>\n",
       "      <td>nvidia</td>\n",
       "      <td>dedicated</td>\n",
       "      <td>0</td>\n",
       "      <td>15.6</td>\n",
       "      <td>1920</td>\n",
       "      <td>1080</td>\n",
       "      <td>windows</td>\n",
       "      <td>2</td>\n",
       "    </tr>\n",
       "    <tr>\n",
       "      <th>988</th>\n",
       "      <td>asus</td>\n",
       "      <td>539.58</td>\n",
       "      <td>59</td>\n",
       "      <td>amd</td>\n",
       "      <td>ryzen 5</td>\n",
       "      <td>4</td>\n",
       "      <td>8</td>\n",
       "      <td>8</td>\n",
       "      <td>SSD</td>\n",
       "      <td>512</td>\n",
       "      <td>amd</td>\n",
       "      <td>integrated</td>\n",
       "      <td>0</td>\n",
       "      <td>15.6</td>\n",
       "      <td>1920</td>\n",
       "      <td>1080</td>\n",
       "      <td>windows</td>\n",
       "      <td>1</td>\n",
       "    </tr>\n",
       "    <tr>\n",
       "      <th>989</th>\n",
       "      <td>asus</td>\n",
       "      <td>815.43</td>\n",
       "      <td>68</td>\n",
       "      <td>amd</td>\n",
       "      <td>ryzen 5</td>\n",
       "      <td>6</td>\n",
       "      <td>12</td>\n",
       "      <td>16</td>\n",
       "      <td>SSD</td>\n",
       "      <td>512</td>\n",
       "      <td>amd</td>\n",
       "      <td>integrated</td>\n",
       "      <td>0</td>\n",
       "      <td>14.0</td>\n",
       "      <td>2560</td>\n",
       "      <td>1600</td>\n",
       "      <td>windows</td>\n",
       "      <td>1</td>\n",
       "    </tr>\n",
       "    <tr>\n",
       "      <th>990</th>\n",
       "      <td>hp</td>\n",
       "      <td>251.74</td>\n",
       "      <td>37</td>\n",
       "      <td>intel</td>\n",
       "      <td>celeron</td>\n",
       "      <td>2</td>\n",
       "      <td>2</td>\n",
       "      <td>4</td>\n",
       "      <td>HDD</td>\n",
       "      <td>128</td>\n",
       "      <td>intel</td>\n",
       "      <td>integrated</td>\n",
       "      <td>0</td>\n",
       "      <td>15.6</td>\n",
       "      <td>1366</td>\n",
       "      <td>768</td>\n",
       "      <td>chrome</td>\n",
       "      <td>1</td>\n",
       "    </tr>\n",
       "  </tbody>\n",
       "</table>\n",
       "<p>991 rows × 18 columns</p>\n",
       "</div>"
      ],
      "text/plain": [
       "      brand    price  rating processor_brand processor_tier  num_cores  \\\n",
       "0     tecno   287.72      63           intel        core i3          2   \n",
       "1     tecno   431.64      67           intel        core i7          4   \n",
       "2        hp   612.86      73             amd        ryzen 5          6   \n",
       "3      acer   479.62      62           intel        core i5         12   \n",
       "4    lenovo   342.77      62             amd        ryzen 3          4   \n",
       "..      ...      ...     ...             ...            ...        ...   \n",
       "986    asus   791.44      68             amd        ryzen 5          6   \n",
       "987     msi  1103.27      73           intel        core i7         10   \n",
       "988    asus   539.58      59             amd        ryzen 5          4   \n",
       "989    asus   815.43      68             amd        ryzen 5          6   \n",
       "990      hp   251.74      37           intel        celeron          2   \n",
       "\n",
       "     num_threads  ram_memory primary_storage_type  primary_storage_capacity  \\\n",
       "0              4           8                  SSD                       512   \n",
       "1              8          16                  SSD                      1024   \n",
       "2             12           8                  SSD                       512   \n",
       "3             16           8                  SSD                       512   \n",
       "4              8           8                  SSD                       512   \n",
       "..           ...         ...                  ...                       ...   \n",
       "986           12          16                  SSD                       512   \n",
       "987           16          16                  SSD                       512   \n",
       "988            8           8                  SSD                       512   \n",
       "989           12          16                  SSD                       512   \n",
       "990            2           4                  HDD                       128   \n",
       "\n",
       "    gpu_brand    gpu_type  is_touch_screen  display_size  resolution_width  \\\n",
       "0       intel  integrated                0          15.6              1920   \n",
       "1       intel  integrated                0          15.6              1920   \n",
       "2         amd   dedicated                0          15.6              1920   \n",
       "3       intel  integrated                0          14.0              1920   \n",
       "4         amd  integrated                0          15.6              1920   \n",
       "..        ...         ...              ...           ...               ...   \n",
       "986    nvidia   dedicated                0          15.6              1920   \n",
       "987    nvidia   dedicated                0          15.6              1920   \n",
       "988       amd  integrated                0          15.6              1920   \n",
       "989       amd  integrated                0          14.0              2560   \n",
       "990     intel  integrated                0          15.6              1366   \n",
       "\n",
       "     resolution_height       os  year_of_warranty  \n",
       "0                 1080  windows                 1  \n",
       "1                 1080  windows                 1  \n",
       "2                 1080  windows                 1  \n",
       "3                 1080  windows                 1  \n",
       "4                 1080  windows                 1  \n",
       "..                 ...      ...               ...  \n",
       "986               1080  windows                 1  \n",
       "987               1080  windows                 2  \n",
       "988               1080  windows                 1  \n",
       "989               1600  windows                 1  \n",
       "990                768   chrome                 1  \n",
       "\n",
       "[991 rows x 18 columns]"
      ]
     },
     "execution_count": 31,
     "metadata": {},
     "output_type": "execute_result"
    }
   ],
   "source": [
    "X"
   ]
  },
  {
   "cell_type": "code",
   "execution_count": 32,
   "id": "71c42839",
   "metadata": {},
   "outputs": [],
   "source": [
    "# Separando variáveis numéricas e categóricas\n",
    "numeric_features = ['price', 'rating', 'num_cores', 'num_threads', 'ram_memory', 'primary_storage_capacity', 'display_size', 'resolution_width', 'resolution_height']\n",
    "categorical_features = ['brand', 'processor_brand', 'primary_storage_type', 'gpu_brand', 'gpu_type', 'os']"
   ]
  },
  {
   "cell_type": "code",
   "execution_count": 33,
   "id": "c79f25da",
   "metadata": {},
   "outputs": [],
   "source": [
    "# Aplicar as transformações\n",
    "numeric_transformer = StandardScaler()\n",
    "categorical_transformer = OneHotEncoder()"
   ]
  },
  {
   "cell_type": "code",
   "execution_count": 34,
   "id": "2cc07ff6",
   "metadata": {},
   "outputs": [],
   "source": [
    "# Criar pre processador de transformacoes\n",
    "preprocessor = ColumnTransformer(\n",
    "    transformers=[\n",
    "        ('num', numeric_transformer, numeric_features),\n",
    "        ('cat', categorical_transformer, categorical_features)\n",
    "    ],\n",
    ")"
   ]
  },
  {
   "cell_type": "code",
   "execution_count": 35,
   "id": "5f83ddf4",
   "metadata": {},
   "outputs": [
    {
     "data": {
      "text/plain": [
       "<991x56 sparse matrix of type '<class 'numpy.float64'>'\n",
       "\twith 14865 stored elements in Compressed Sparse Row format>"
      ]
     },
     "execution_count": 35,
     "metadata": {},
     "output_type": "execute_result"
    }
   ],
   "source": [
    "# Transformar os dados\n",
    "X_transformed = preprocessor.fit_transform(X)\n",
    "X_transformed"
   ]
  }
 ],
 "metadata": {
  "kernelspec": {
   "display_name": "ia-para-produtos-clusterizacao-hierarquica-s8HjPDxB",
   "language": "python",
   "name": "python3"
  },
  "language_info": {
   "codemirror_mode": {
    "name": "ipython",
    "version": 3
   },
   "file_extension": ".py",
   "mimetype": "text/x-python",
   "name": "python",
   "nbconvert_exporter": "python",
   "pygments_lexer": "ipython3",
   "version": "3.12.6"
  }
 },
 "nbformat": 4,
 "nbformat_minor": 5
}
