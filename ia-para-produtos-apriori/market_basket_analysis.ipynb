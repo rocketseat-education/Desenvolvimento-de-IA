{
 "cells": [
  {
   "cell_type": "code",
   "execution_count": 96,
   "id": "6cabad30",
   "metadata": {},
   "outputs": [],
   "source": [
    "# EDA e Visualização de Dados\n",
    "import pandas as pd\n",
    "import numpy as np\n",
    "import plotly.express as px\n",
    "from plotly.subplots import make_subplots\n",
    "import matplotlib.pyplot as plt\n",
    "import seaborn as sns\n",
    "\n",
    "# ML\n",
    "from mlxtend.frequent_patterns import apriori, association_rules\n",
    "\n"
   ]
  },
  {
   "cell_type": "markdown",
   "id": "f4035687",
   "metadata": {},
   "source": [
    "# Carregar os Dados"
   ]
  },
  {
   "cell_type": "code",
   "execution_count": 97,
   "id": "34618e9a",
   "metadata": {},
   "outputs": [],
   "source": [
    "# Carregar os dados\n",
    "df_transacoes = pd.read_csv('datasets/transactions_by_dept.csv', sep=',')"
   ]
  },
  {
   "cell_type": "code",
   "execution_count": 98,
   "id": "d3554bf4",
   "metadata": {},
   "outputs": [
    {
     "name": "stdout",
     "output_type": "stream",
     "text": [
      "<class 'pandas.core.frame.DataFrame'>\n",
      "RangeIndex: 4539 entries, 0 to 4538\n",
      "Data columns (total 4 columns):\n",
      " #   Column   Non-Null Count  Dtype \n",
      "---  ------   --------------  ----- \n",
      " 0   POS Txn  4539 non-null   uint64\n",
      " 1   Dept     4539 non-null   object\n",
      " 2   ID       4539 non-null   int64 \n",
      " 3   Sales U  4539 non-null   int64 \n",
      "dtypes: int64(2), object(1), uint64(1)\n",
      "memory usage: 142.0+ KB\n"
     ]
    }
   ],
   "source": [
    "df_transacoes.info()"
   ]
  },
  {
   "cell_type": "code",
   "execution_count": 99,
   "id": "6cf4173b",
   "metadata": {},
   "outputs": [
    {
     "data": {
      "text/html": [
       "<div>\n",
       "<style scoped>\n",
       "    .dataframe tbody tr th:only-of-type {\n",
       "        vertical-align: middle;\n",
       "    }\n",
       "\n",
       "    .dataframe tbody tr th {\n",
       "        vertical-align: top;\n",
       "    }\n",
       "\n",
       "    .dataframe thead th {\n",
       "        text-align: right;\n",
       "    }\n",
       "</style>\n",
       "<table border=\"1\" class=\"dataframe\">\n",
       "  <thead>\n",
       "    <tr style=\"text-align: right;\">\n",
       "      <th></th>\n",
       "      <th>POS Txn</th>\n",
       "      <th>Dept</th>\n",
       "      <th>ID</th>\n",
       "      <th>Sales U</th>\n",
       "    </tr>\n",
       "  </thead>\n",
       "  <tbody>\n",
       "    <tr>\n",
       "      <th>0</th>\n",
       "      <td>16120100160021008773</td>\n",
       "      <td>0261:HOSIERY</td>\n",
       "      <td>250</td>\n",
       "      <td>2</td>\n",
       "    </tr>\n",
       "    <tr>\n",
       "      <th>1</th>\n",
       "      <td>16120100160021008773</td>\n",
       "      <td>0634:VITAMINS &amp; HLTH AIDS</td>\n",
       "      <td>102</td>\n",
       "      <td>1</td>\n",
       "    </tr>\n",
       "    <tr>\n",
       "      <th>2</th>\n",
       "      <td>16120100160021008773</td>\n",
       "      <td>0879:PET SUPPLIES</td>\n",
       "      <td>158</td>\n",
       "      <td>2</td>\n",
       "    </tr>\n",
       "    <tr>\n",
       "      <th>3</th>\n",
       "      <td>16120100160021008773</td>\n",
       "      <td>0973:CANDY</td>\n",
       "      <td>175</td>\n",
       "      <td>2</td>\n",
       "    </tr>\n",
       "    <tr>\n",
       "      <th>4</th>\n",
       "      <td>16120100160021008773</td>\n",
       "      <td>0982:SPIRITS</td>\n",
       "      <td>176</td>\n",
       "      <td>1</td>\n",
       "    </tr>\n",
       "    <tr>\n",
       "      <th>5</th>\n",
       "      <td>16120100160021008773</td>\n",
       "      <td>0983:WINE</td>\n",
       "      <td>177</td>\n",
       "      <td>4</td>\n",
       "    </tr>\n",
       "    <tr>\n",
       "      <th>6</th>\n",
       "      <td>16120100160021008773</td>\n",
       "      <td>0991:TOBACCO</td>\n",
       "      <td>179</td>\n",
       "      <td>2</td>\n",
       "    </tr>\n",
       "    <tr>\n",
       "      <th>7</th>\n",
       "      <td>16120100160021008774</td>\n",
       "      <td>0597:HEALTH AIDS</td>\n",
       "      <td>93</td>\n",
       "      <td>1</td>\n",
       "    </tr>\n",
       "    <tr>\n",
       "      <th>8</th>\n",
       "      <td>16120100160021008774</td>\n",
       "      <td>0604:PERSONAL CARE</td>\n",
       "      <td>100</td>\n",
       "      <td>5</td>\n",
       "    </tr>\n",
       "    <tr>\n",
       "      <th>9</th>\n",
       "      <td>16120100160021008775</td>\n",
       "      <td>0819:PRE-RECORDED A/V</td>\n",
       "      <td>135</td>\n",
       "      <td>1</td>\n",
       "    </tr>\n",
       "  </tbody>\n",
       "</table>\n",
       "</div>"
      ],
      "text/plain": [
       "                POS Txn                       Dept   ID  Sales U\n",
       "0  16120100160021008773               0261:HOSIERY  250        2\n",
       "1  16120100160021008773  0634:VITAMINS & HLTH AIDS  102        1\n",
       "2  16120100160021008773          0879:PET SUPPLIES  158        2\n",
       "3  16120100160021008773                 0973:CANDY  175        2\n",
       "4  16120100160021008773               0982:SPIRITS  176        1\n",
       "5  16120100160021008773                  0983:WINE  177        4\n",
       "6  16120100160021008773               0991:TOBACCO  179        2\n",
       "7  16120100160021008774           0597:HEALTH AIDS   93        1\n",
       "8  16120100160021008774         0604:PERSONAL CARE  100        5\n",
       "9  16120100160021008775      0819:PRE-RECORDED A/V  135        1"
      ]
     },
     "execution_count": 99,
     "metadata": {},
     "output_type": "execute_result"
    }
   ],
   "source": [
    "df_transacoes.head(10)"
   ]
  },
  {
   "cell_type": "code",
   "execution_count": 100,
   "id": "1d2b7002",
   "metadata": {},
   "outputs": [
    {
     "data": {
      "text/html": [
       "<div>\n",
       "<style scoped>\n",
       "    .dataframe tbody tr th:only-of-type {\n",
       "        vertical-align: middle;\n",
       "    }\n",
       "\n",
       "    .dataframe tbody tr th {\n",
       "        vertical-align: top;\n",
       "    }\n",
       "\n",
       "    .dataframe thead th {\n",
       "        text-align: right;\n",
       "    }\n",
       "</style>\n",
       "<table border=\"1\" class=\"dataframe\">\n",
       "  <thead>\n",
       "    <tr style=\"text-align: right;\">\n",
       "      <th></th>\n",
       "      <th>POS Txn</th>\n",
       "      <th>Dept</th>\n",
       "      <th>ID</th>\n",
       "      <th>Sales U</th>\n",
       "    </tr>\n",
       "  </thead>\n",
       "  <tbody>\n",
       "    <tr>\n",
       "      <th>4529</th>\n",
       "      <td>16120100160162000841</td>\n",
       "      <td>0857:PC PERIPH/OFFICE ACC</td>\n",
       "      <td>155</td>\n",
       "      <td>1</td>\n",
       "    </tr>\n",
       "    <tr>\n",
       "      <th>4530</th>\n",
       "      <td>16120100160162000841</td>\n",
       "      <td>0931:BATH</td>\n",
       "      <td>165</td>\n",
       "      <td>1</td>\n",
       "    </tr>\n",
       "    <tr>\n",
       "      <th>4531</th>\n",
       "      <td>16120100160162000841</td>\n",
       "      <td>0941:BEDDING</td>\n",
       "      <td>167</td>\n",
       "      <td>1</td>\n",
       "    </tr>\n",
       "    <tr>\n",
       "      <th>4532</th>\n",
       "      <td>16120100160162000841</td>\n",
       "      <td>0991:TOBACCO</td>\n",
       "      <td>179</td>\n",
       "      <td>1</td>\n",
       "    </tr>\n",
       "    <tr>\n",
       "      <th>4533</th>\n",
       "      <td>16120100160162000842</td>\n",
       "      <td>0815:AUDIO ELECTRONICS</td>\n",
       "      <td>132</td>\n",
       "      <td>1</td>\n",
       "    </tr>\n",
       "    <tr>\n",
       "      <th>4534</th>\n",
       "      <td>16120100160162000843</td>\n",
       "      <td>0857:PC PERIPH/OFFICE ACC</td>\n",
       "      <td>155</td>\n",
       "      <td>1</td>\n",
       "    </tr>\n",
       "    <tr>\n",
       "      <th>4535</th>\n",
       "      <td>16120100160162000845</td>\n",
       "      <td>0395:MENS ATHLETIC SHOES</td>\n",
       "      <td>49</td>\n",
       "      <td>1</td>\n",
       "    </tr>\n",
       "    <tr>\n",
       "      <th>4536</th>\n",
       "      <td>16120100160162000845</td>\n",
       "      <td>0815:AUDIO ELECTRONICS</td>\n",
       "      <td>132</td>\n",
       "      <td>1</td>\n",
       "    </tr>\n",
       "    <tr>\n",
       "      <th>4537</th>\n",
       "      <td>16120100160162000846</td>\n",
       "      <td>0532:AMERICAN GREETINGS</td>\n",
       "      <td>72</td>\n",
       "      <td>1</td>\n",
       "    </tr>\n",
       "    <tr>\n",
       "      <th>4538</th>\n",
       "      <td>16120100160221001467</td>\n",
       "      <td>0066:VENDING/AMUSEMENT MA</td>\n",
       "      <td>242</td>\n",
       "      <td>1</td>\n",
       "    </tr>\n",
       "  </tbody>\n",
       "</table>\n",
       "</div>"
      ],
      "text/plain": [
       "                   POS Txn                       Dept   ID  Sales U\n",
       "4529  16120100160162000841  0857:PC PERIPH/OFFICE ACC  155        1\n",
       "4530  16120100160162000841                  0931:BATH  165        1\n",
       "4531  16120100160162000841               0941:BEDDING  167        1\n",
       "4532  16120100160162000841               0991:TOBACCO  179        1\n",
       "4533  16120100160162000842     0815:AUDIO ELECTRONICS  132        1\n",
       "4534  16120100160162000843  0857:PC PERIPH/OFFICE ACC  155        1\n",
       "4535  16120100160162000845   0395:MENS ATHLETIC SHOES   49        1\n",
       "4536  16120100160162000845     0815:AUDIO ELECTRONICS  132        1\n",
       "4537  16120100160162000846    0532:AMERICAN GREETINGS   72        1\n",
       "4538  16120100160221001467  0066:VENDING/AMUSEMENT MA  242        1"
      ]
     },
     "execution_count": 100,
     "metadata": {},
     "output_type": "execute_result"
    }
   ],
   "source": [
    "df_transacoes.tail(10)"
   ]
  },
  {
   "cell_type": "markdown",
   "id": "5b9331b7",
   "metadata": {},
   "source": [
    "# EDA"
   ]
  },
  {
   "cell_type": "code",
   "execution_count": 101,
   "id": "21818148",
   "metadata": {},
   "outputs": [],
   "source": [
    "# Renomear as colunas para facilitar o entendimento\n",
    "df_transacoes.rename(columns={'POS Txn': 'ID_Transacao', 'Dept': 'Departamento',\n",
    "                              'ID': 'ID_Departamento', 'Sales U': 'Qtde_Vendida'}, inplace=True)"
   ]
  },
  {
   "cell_type": "code",
   "execution_count": 102,
   "id": "5865fc26",
   "metadata": {},
   "outputs": [
    {
     "data": {
      "text/html": [
       "<div>\n",
       "<style scoped>\n",
       "    .dataframe tbody tr th:only-of-type {\n",
       "        vertical-align: middle;\n",
       "    }\n",
       "\n",
       "    .dataframe tbody tr th {\n",
       "        vertical-align: top;\n",
       "    }\n",
       "\n",
       "    .dataframe thead th {\n",
       "        text-align: right;\n",
       "    }\n",
       "</style>\n",
       "<table border=\"1\" class=\"dataframe\">\n",
       "  <thead>\n",
       "    <tr style=\"text-align: right;\">\n",
       "      <th></th>\n",
       "      <th>ID_Transacao</th>\n",
       "      <th>Departamento</th>\n",
       "      <th>ID_Departamento</th>\n",
       "      <th>Qtde_Vendida</th>\n",
       "    </tr>\n",
       "  </thead>\n",
       "  <tbody>\n",
       "    <tr>\n",
       "      <th>0</th>\n",
       "      <td>16120100160021008773</td>\n",
       "      <td>0261:HOSIERY</td>\n",
       "      <td>250</td>\n",
       "      <td>2</td>\n",
       "    </tr>\n",
       "    <tr>\n",
       "      <th>1</th>\n",
       "      <td>16120100160021008773</td>\n",
       "      <td>0634:VITAMINS &amp; HLTH AIDS</td>\n",
       "      <td>102</td>\n",
       "      <td>1</td>\n",
       "    </tr>\n",
       "    <tr>\n",
       "      <th>2</th>\n",
       "      <td>16120100160021008773</td>\n",
       "      <td>0879:PET SUPPLIES</td>\n",
       "      <td>158</td>\n",
       "      <td>2</td>\n",
       "    </tr>\n",
       "    <tr>\n",
       "      <th>3</th>\n",
       "      <td>16120100160021008773</td>\n",
       "      <td>0973:CANDY</td>\n",
       "      <td>175</td>\n",
       "      <td>2</td>\n",
       "    </tr>\n",
       "    <tr>\n",
       "      <th>4</th>\n",
       "      <td>16120100160021008773</td>\n",
       "      <td>0982:SPIRITS</td>\n",
       "      <td>176</td>\n",
       "      <td>1</td>\n",
       "    </tr>\n",
       "    <tr>\n",
       "      <th>5</th>\n",
       "      <td>16120100160021008773</td>\n",
       "      <td>0983:WINE</td>\n",
       "      <td>177</td>\n",
       "      <td>4</td>\n",
       "    </tr>\n",
       "    <tr>\n",
       "      <th>6</th>\n",
       "      <td>16120100160021008773</td>\n",
       "      <td>0991:TOBACCO</td>\n",
       "      <td>179</td>\n",
       "      <td>2</td>\n",
       "    </tr>\n",
       "    <tr>\n",
       "      <th>7</th>\n",
       "      <td>16120100160021008774</td>\n",
       "      <td>0597:HEALTH AIDS</td>\n",
       "      <td>93</td>\n",
       "      <td>1</td>\n",
       "    </tr>\n",
       "    <tr>\n",
       "      <th>8</th>\n",
       "      <td>16120100160021008774</td>\n",
       "      <td>0604:PERSONAL CARE</td>\n",
       "      <td>100</td>\n",
       "      <td>5</td>\n",
       "    </tr>\n",
       "    <tr>\n",
       "      <th>9</th>\n",
       "      <td>16120100160021008775</td>\n",
       "      <td>0819:PRE-RECORDED A/V</td>\n",
       "      <td>135</td>\n",
       "      <td>1</td>\n",
       "    </tr>\n",
       "  </tbody>\n",
       "</table>\n",
       "</div>"
      ],
      "text/plain": [
       "           ID_Transacao               Departamento  ID_Departamento  \\\n",
       "0  16120100160021008773               0261:HOSIERY              250   \n",
       "1  16120100160021008773  0634:VITAMINS & HLTH AIDS              102   \n",
       "2  16120100160021008773          0879:PET SUPPLIES              158   \n",
       "3  16120100160021008773                 0973:CANDY              175   \n",
       "4  16120100160021008773               0982:SPIRITS              176   \n",
       "5  16120100160021008773                  0983:WINE              177   \n",
       "6  16120100160021008773               0991:TOBACCO              179   \n",
       "7  16120100160021008774           0597:HEALTH AIDS               93   \n",
       "8  16120100160021008774         0604:PERSONAL CARE              100   \n",
       "9  16120100160021008775      0819:PRE-RECORDED A/V              135   \n",
       "\n",
       "   Qtde_Vendida  \n",
       "0             2  \n",
       "1             1  \n",
       "2             2  \n",
       "3             2  \n",
       "4             1  \n",
       "5             4  \n",
       "6             2  \n",
       "7             1  \n",
       "8             5  \n",
       "9             1  "
      ]
     },
     "execution_count": 102,
     "metadata": {},
     "output_type": "execute_result"
    }
   ],
   "source": [
    "df_transacoes.head(10)"
   ]
  },
  {
   "cell_type": "code",
   "execution_count": 103,
   "id": "49c0fb18",
   "metadata": {},
   "outputs": [
    {
     "data": {
      "text/plain": [
       "160"
      ]
     },
     "execution_count": 103,
     "metadata": {},
     "output_type": "execute_result"
    }
   ],
   "source": [
    "# Quantidade de departamentos\n",
    "df_transacoes['Departamento'].nunique()"
   ]
  },
  {
   "cell_type": "code",
   "execution_count": 104,
   "id": "bd5ff233",
   "metadata": {},
   "outputs": [
    {
     "data": {
      "text/plain": [
       "160"
      ]
     },
     "execution_count": 104,
     "metadata": {},
     "output_type": "execute_result"
    }
   ],
   "source": [
    "# Quantidade de ID departamentos\n",
    "df_transacoes['ID_Departamento'].nunique()"
   ]
  },
  {
   "cell_type": "code",
   "execution_count": 105,
   "id": "331db7d0",
   "metadata": {},
   "outputs": [
    {
     "data": {
      "text/plain": [
       "2064"
      ]
     },
     "execution_count": 105,
     "metadata": {},
     "output_type": "execute_result"
    }
   ],
   "source": [
    "# Quantidade de Transacoes\n",
    "df_transacoes['ID_Transacao'].nunique()"
   ]
  },
  {
   "cell_type": "code",
   "execution_count": 106,
   "id": "f1423841",
   "metadata": {},
   "outputs": [
    {
     "data": {
      "text/plain": [
       "False"
      ]
     },
     "execution_count": 106,
     "metadata": {},
     "output_type": "execute_result"
    }
   ],
   "source": [
    "# Um departamento aparece mais de 1x em uma transação?\n",
    "len(df_transacoes.groupby(['ID_Transacao', 'Departamento'])) != len(df_transacoes)"
   ]
  },
  {
   "cell_type": "code",
   "execution_count": 107,
   "id": "c2a26009",
   "metadata": {},
   "outputs": [
    {
     "data": {
      "text/plain": [
       "149"
      ]
     },
     "execution_count": 107,
     "metadata": {},
     "output_type": "execute_result"
    }
   ],
   "source": [
    "# Checar se há quantidades negativas e 0\n",
    "len(df_transacoes[df_transacoes['Qtde_Vendida'] <= 0])"
   ]
  },
  {
   "cell_type": "code",
   "execution_count": 108,
   "id": "9c0f9588",
   "metadata": {},
   "outputs": [],
   "source": [
    "# Remover as linhas com quantidade menor ou igual a 0\n",
    "df_transacoes = df_transacoes[df_transacoes['Qtde_Vendida'] > 0]"
   ]
  },
  {
   "cell_type": "code",
   "execution_count": 109,
   "id": "a1bdca4c",
   "metadata": {},
   "outputs": [
    {
     "data": {
      "text/plain": [
       "(156, 156, 1943)"
      ]
     },
     "execution_count": 109,
     "metadata": {},
     "output_type": "execute_result"
    }
   ],
   "source": [
    "# Quantidade de departamentos, ID departamentos, Transacoes\n",
    "df_transacoes['Departamento'].nunique(), df_transacoes['ID_Departamento'].nunique(), df_transacoes['ID_Transacao'].nunique()"
   ]
  },
  {
   "cell_type": "code",
   "execution_count": 110,
   "id": "9acbdd79",
   "metadata": {},
   "outputs": [
    {
     "data": {
      "application/vnd.plotly.v1+json": {
       "config": {
        "plotlyServerURL": "https://plot.ly"
       },
       "data": [
        {
         "alignmentgroup": "True",
         "hovertemplate": "value=%{x}<br>Departamento=%{y}<br>color=%{marker.color}<extra></extra>",
         "legendgroup": "",
         "marker": {
          "color": [
           314,
           275,
           253,
           200,
           191,
           185,
           158,
           150,
           132,
           132,
           112,
           103,
           101,
           99,
           87,
           65,
           53,
           51,
           50,
           48,
           48,
           48,
           47,
           44,
           36,
           36,
           35,
           34,
           33,
           26,
           25,
           24,
           24,
           23,
           23,
           23,
           21,
           21,
           21,
           20,
           20,
           20,
           20,
           20,
           19,
           19,
           19,
           19,
           18,
           18,
           18,
           18,
           17,
           16,
           16,
           16,
           16,
           16,
           15,
           15,
           15,
           15,
           15,
           15,
           15,
           14,
           14,
           14,
           14,
           14,
           14,
           14,
           13,
           13,
           13,
           13,
           13,
           12,
           12,
           12,
           12,
           11,
           11,
           11,
           10,
           10,
           10,
           10,
           9,
           9,
           8,
           8,
           8,
           8,
           8,
           7,
           7,
           7,
           7,
           7,
           7,
           7,
           7,
           7,
           6,
           6,
           6,
           6,
           6,
           6,
           6,
           5,
           5,
           5,
           5,
           5,
           5,
           5,
           4,
           4,
           4,
           4,
           4,
           4,
           4,
           4,
           4,
           4,
           4,
           4,
           4,
           4,
           4,
           3,
           3,
           3,
           3,
           3,
           3,
           3,
           2,
           2,
           2,
           2,
           2,
           2,
           2,
           2,
           2,
           2,
           1,
           1,
           1,
           1,
           1,
           1
          ],
          "coloraxis": "coloraxis",
          "pattern": {
           "shape": ""
          }
         },
         "name": "",
         "offsetgroup": "",
         "orientation": "h",
         "showlegend": false,
         "textposition": "auto",
         "type": "bar",
         "x": [
          314,
          275,
          253,
          200,
          191,
          185,
          158,
          150,
          132,
          132,
          112,
          103,
          101,
          99,
          87,
          65,
          53,
          51,
          50,
          48,
          48,
          48,
          47,
          44,
          36,
          36,
          35,
          34,
          33,
          26,
          25,
          24,
          24,
          23,
          23,
          23,
          21,
          21,
          21,
          20,
          20,
          20,
          20,
          20,
          19,
          19,
          19,
          19,
          18,
          18,
          18,
          18,
          17,
          16,
          16,
          16,
          16,
          16,
          15,
          15,
          15,
          15,
          15,
          15,
          15,
          14,
          14,
          14,
          14,
          14,
          14,
          14,
          13,
          13,
          13,
          13,
          13,
          12,
          12,
          12,
          12,
          11,
          11,
          11,
          10,
          10,
          10,
          10,
          9,
          9,
          8,
          8,
          8,
          8,
          8,
          7,
          7,
          7,
          7,
          7,
          7,
          7,
          7,
          7,
          6,
          6,
          6,
          6,
          6,
          6,
          6,
          5,
          5,
          5,
          5,
          5,
          5,
          5,
          4,
          4,
          4,
          4,
          4,
          4,
          4,
          4,
          4,
          4,
          4,
          4,
          4,
          4,
          4,
          3,
          3,
          3,
          3,
          3,
          3,
          3,
          2,
          2,
          2,
          2,
          2,
          2,
          2,
          2,
          2,
          2,
          1,
          1,
          1,
          1,
          1,
          1
         ],
         "xaxis": "x",
         "y": [
          "0982:SPIRITS",
          "0973:CANDY",
          "0962:BEVERAGES",
          "0597:HEALTH AIDS",
          "0983:WINE",
          "0991:TOBACCO",
          "0836:HOUSEHOLD CLEANING",
          "0604:PERSONAL CARE",
          "0603:BEAUTY CARE",
          "0984:BEER",
          "0072:BARBER SERVICES",
          "0532:AMERICAN GREETINGS",
          "0879:PET SUPPLIES",
          "0961:GENERAL GROCERIES",
          "0646:SEASONAL",
          "0640:TOYS",
          "0530:SCHOOL/OFFIC SUPP",
          "0590:MASS COSMETICS",
          "0837:GENERAL HOUSEWARES",
          "0826:SMALL ELECTRICS",
          "0360:MENS FURNISHINGS",
          "0884:LAWN & GARDEN",
          "0380:MENS ACTIVEWEAR",
          "0593:PRESTIGE COSMETICS",
          "0638:GEN SPORTING GOODS",
          "0644:SPORTS NUTRITION",
          "0861:GENERAL HARDWARE",
          "0598:BABY CARE",
          "0261:HOSIERY",
          "0797:SEASONAL GIFTS",
          "0359:MENS ACCESSORIES",
          "0595:HOME/BATH",
          "0822:THIRD PARTY GIFTCARD",
          "0391:MENS SHOES",
          "0815:AUDIO ELECTRONICS",
          "0634:VITAMINS & HLTH AIDS",
          "0369:YOUNG MENS",
          "0581:BRIDGE JEWELRY",
          "0240:SLEEPWEAR/LOUNGEWEAR",
          "0353:MENS OUTDOOR",
          "0589:SUNGLASSES",
          "0486:CHILDRENS FOOTWEAR",
          "0845:AS SEEN ON TV",
          "0846:BATTERIES",
          "0531:STATIONERY SUNDRIES",
          "0585:WATCHES",
          "0110:LDS OUTERWEAR/OUTDR",
          "0271:HANDBAGS",
          "0395:MENS ATHLETIC SHOES",
          "0071:BEAUTY RETAIL",
          "0415:NEWBORN APPAREL",
          "0811:TELEVISION",
          "0931:BATH",
          "0554:TELECOMMUNICATIONS",
          "0280:FASHION ACCESSORIES",
          "0795:HOME DECOR",
          "0230:DAYWEAR",
          "0416:INFANT APPAREL",
          "0056:SOUVENIR",
          "0167:MISSY TOPS",
          "0343:MENS DENIM JEANS",
          "0941:BEDDING",
          "0163:JUNIOR TOPS",
          "0850:PC HDWR & OFFICE EQP",
          "0161:MISSY KAREN SCOTT",
          "0368:TRAD COLLECTIONS",
          "0449:GIRLS ACCESSORIES",
          "0421:TODDLER GIRL APPAREL",
          "0639:TEAM SPORTING GOODS",
          "0680:AUTOMOTIVE",
          "0854:VIDEO GAMES",
          "0469:BOYS ACCESSORIES",
          "0965:PERISHABLES",
          "0999:UNSCANNED ITEMS",
          "0411:PEGABLES",
          "0636:FITNESS/EXERCISE",
          "0930:TABLE TOP & KITCHEN",
          "0857:PC PERIPH/OFFICE ACC",
          "0291:WOMENS FTWR:DRS/CAS",
          "0193:LADIES ACTIVEWEAR",
          "0510:NAVY PRIDE HARDLINES",
          "0722:OUTDOOR LIVING",
          "0839:HOME ORG/SOLUTIONS",
          "0833:TABLETOP",
          "0470:BOYS 8-20 CLOTHING",
          "0856:GLUES/TAPES/ACC",
          "0551:CAMERAS & EQUIP",
          "0440:GIRLS 7-16 CLOTHING",
          "0592:WMNS PRESTIGE FRAG",
          "0358:MENS DRESS SHIRTS",
          "0009:FLORAL SERV/SUPPLIES",
          "0016:FINANCIAL SERVICES",
          "0819:PRE-RECORDED A/V",
          "0645:BIKES",
          "0511:NAVY PRIDE SOFTLINES",
          "0177:PETITE SEPARATES",
          "0586:COSTUME JEWELRY",
          "0098:WAREHOUSED EXPENSES",
          "0838:FLOOR CARE",
          "0355:MENS SPORT SHIRTS",
          "0632:DIGITAL FITNESS",
          "0860:NETWORKING",
          "0596:MENS PRESTIGE FRAG",
          "0601:VALUE ZONE",
          "0460:BOYS 4-7 CLOTHING",
          "0354:MENS MODERN COLLECT",
          "0295:WOMENS ATHLTIC SHOES",
          "0188:STYLE & CO",
          "0541:BOOKS AND MAPS",
          "0583:DIAMONDS/BRIDAL",
          "0430:GIRLS 4-6X CLOTHING",
          "0076:FLORAL RETAIL",
          "0851:PC HARDWARE",
          "0834:COOKWARE",
          "0340:MENS CASUAL SLACKS",
          "0540:PERIODICALS/COMICS",
          "0002:BARBER RETAIL",
          "0179:MODERATE DENIM",
          "0130:JUNIORS SURF",
          "0171:MISSY BOTTOMS",
          "0018:OTHER DIRECT SERVICE",
          "0178:DENIM COLLECTIONS",
          "0173:JUNIOR BOTTOMS",
          "0012:LOCAL GIFTS/FOODS",
          "0859:iPAD",
          "0582:GOLD",
          "0346:LIFE STYLE DENIM",
          "0210:FOUNDATIONS",
          "0584:GEMSTONES",
          "0426:TODDLER BOY APPAREL",
          "0637:FISHING",
          "0823:SMART HOME",
          "0816:VIDEO ELECTRONICS",
          "0310:MENS OUTERWEAR",
          "0863:POWER EQUIPMENT",
          "0661:LUGGAGE",
          "0439:JUVENILLE FURNITURE",
          "0320:MNS TAILORED CLOTHNG",
          "0533:PAPYRUS",
          "0131:LADIES DRESSES",
          "0853:DIMAGE/PHONE/GPS/ACC",
          "0587:JEWELRY CONSIGNMENT",
          "0220:SHAPEWEAR",
          "0186:JUNIOR DRESSES",
          "0165:LIFE IS GOOD",
          "0181:LADIES MODERN COLLEC",
          "0175:WOMENS SEPARATES",
          "0182:CLASSIC COLLECTIONS",
          "0940:HOME TEXTILES",
          "0852:COMPUTER SOFTWARE",
          "0033:VENDING RETAIL",
          "0066:VENDING/AMUSEMENT MA",
          "0099:MISC CUSTOM SERVICES",
          "0014:REPAIRS",
          "0591:MASS FRAGRANCES",
          "0817:WEARABLES"
         ],
         "yaxis": "y"
        }
       ],
       "layout": {
        "barmode": "relative",
        "coloraxis": {
         "colorbar": {
          "title": {
           "text": "color"
          }
         },
         "colorscale": [
          [
           0,
           "#0d0887"
          ],
          [
           0.1111111111111111,
           "#46039f"
          ],
          [
           0.2222222222222222,
           "#7201a8"
          ],
          [
           0.3333333333333333,
           "#9c179e"
          ],
          [
           0.4444444444444444,
           "#bd3786"
          ],
          [
           0.5555555555555556,
           "#d8576b"
          ],
          [
           0.6666666666666666,
           "#ed7953"
          ],
          [
           0.7777777777777778,
           "#fb9f3a"
          ],
          [
           0.8888888888888888,
           "#fdca26"
          ],
          [
           1,
           "#f0f921"
          ]
         ]
        },
        "legend": {
         "tracegroupgap": 0
        },
        "margin": {
         "t": 60
        },
        "showlegend": false,
        "template": {
         "data": {
          "bar": [
           {
            "error_x": {
             "color": "#2a3f5f"
            },
            "error_y": {
             "color": "#2a3f5f"
            },
            "marker": {
             "line": {
              "color": "#E5ECF6",
              "width": 0.5
             },
             "pattern": {
              "fillmode": "overlay",
              "size": 10,
              "solidity": 0.2
             }
            },
            "type": "bar"
           }
          ],
          "barpolar": [
           {
            "marker": {
             "line": {
              "color": "#E5ECF6",
              "width": 0.5
             },
             "pattern": {
              "fillmode": "overlay",
              "size": 10,
              "solidity": 0.2
             }
            },
            "type": "barpolar"
           }
          ],
          "carpet": [
           {
            "aaxis": {
             "endlinecolor": "#2a3f5f",
             "gridcolor": "white",
             "linecolor": "white",
             "minorgridcolor": "white",
             "startlinecolor": "#2a3f5f"
            },
            "baxis": {
             "endlinecolor": "#2a3f5f",
             "gridcolor": "white",
             "linecolor": "white",
             "minorgridcolor": "white",
             "startlinecolor": "#2a3f5f"
            },
            "type": "carpet"
           }
          ],
          "choropleth": [
           {
            "colorbar": {
             "outlinewidth": 0,
             "ticks": ""
            },
            "type": "choropleth"
           }
          ],
          "contour": [
           {
            "colorbar": {
             "outlinewidth": 0,
             "ticks": ""
            },
            "colorscale": [
             [
              0,
              "#0d0887"
             ],
             [
              0.1111111111111111,
              "#46039f"
             ],
             [
              0.2222222222222222,
              "#7201a8"
             ],
             [
              0.3333333333333333,
              "#9c179e"
             ],
             [
              0.4444444444444444,
              "#bd3786"
             ],
             [
              0.5555555555555556,
              "#d8576b"
             ],
             [
              0.6666666666666666,
              "#ed7953"
             ],
             [
              0.7777777777777778,
              "#fb9f3a"
             ],
             [
              0.8888888888888888,
              "#fdca26"
             ],
             [
              1,
              "#f0f921"
             ]
            ],
            "type": "contour"
           }
          ],
          "contourcarpet": [
           {
            "colorbar": {
             "outlinewidth": 0,
             "ticks": ""
            },
            "type": "contourcarpet"
           }
          ],
          "heatmap": [
           {
            "colorbar": {
             "outlinewidth": 0,
             "ticks": ""
            },
            "colorscale": [
             [
              0,
              "#0d0887"
             ],
             [
              0.1111111111111111,
              "#46039f"
             ],
             [
              0.2222222222222222,
              "#7201a8"
             ],
             [
              0.3333333333333333,
              "#9c179e"
             ],
             [
              0.4444444444444444,
              "#bd3786"
             ],
             [
              0.5555555555555556,
              "#d8576b"
             ],
             [
              0.6666666666666666,
              "#ed7953"
             ],
             [
              0.7777777777777778,
              "#fb9f3a"
             ],
             [
              0.8888888888888888,
              "#fdca26"
             ],
             [
              1,
              "#f0f921"
             ]
            ],
            "type": "heatmap"
           }
          ],
          "heatmapgl": [
           {
            "colorbar": {
             "outlinewidth": 0,
             "ticks": ""
            },
            "colorscale": [
             [
              0,
              "#0d0887"
             ],
             [
              0.1111111111111111,
              "#46039f"
             ],
             [
              0.2222222222222222,
              "#7201a8"
             ],
             [
              0.3333333333333333,
              "#9c179e"
             ],
             [
              0.4444444444444444,
              "#bd3786"
             ],
             [
              0.5555555555555556,
              "#d8576b"
             ],
             [
              0.6666666666666666,
              "#ed7953"
             ],
             [
              0.7777777777777778,
              "#fb9f3a"
             ],
             [
              0.8888888888888888,
              "#fdca26"
             ],
             [
              1,
              "#f0f921"
             ]
            ],
            "type": "heatmapgl"
           }
          ],
          "histogram": [
           {
            "marker": {
             "pattern": {
              "fillmode": "overlay",
              "size": 10,
              "solidity": 0.2
             }
            },
            "type": "histogram"
           }
          ],
          "histogram2d": [
           {
            "colorbar": {
             "outlinewidth": 0,
             "ticks": ""
            },
            "colorscale": [
             [
              0,
              "#0d0887"
             ],
             [
              0.1111111111111111,
              "#46039f"
             ],
             [
              0.2222222222222222,
              "#7201a8"
             ],
             [
              0.3333333333333333,
              "#9c179e"
             ],
             [
              0.4444444444444444,
              "#bd3786"
             ],
             [
              0.5555555555555556,
              "#d8576b"
             ],
             [
              0.6666666666666666,
              "#ed7953"
             ],
             [
              0.7777777777777778,
              "#fb9f3a"
             ],
             [
              0.8888888888888888,
              "#fdca26"
             ],
             [
              1,
              "#f0f921"
             ]
            ],
            "type": "histogram2d"
           }
          ],
          "histogram2dcontour": [
           {
            "colorbar": {
             "outlinewidth": 0,
             "ticks": ""
            },
            "colorscale": [
             [
              0,
              "#0d0887"
             ],
             [
              0.1111111111111111,
              "#46039f"
             ],
             [
              0.2222222222222222,
              "#7201a8"
             ],
             [
              0.3333333333333333,
              "#9c179e"
             ],
             [
              0.4444444444444444,
              "#bd3786"
             ],
             [
              0.5555555555555556,
              "#d8576b"
             ],
             [
              0.6666666666666666,
              "#ed7953"
             ],
             [
              0.7777777777777778,
              "#fb9f3a"
             ],
             [
              0.8888888888888888,
              "#fdca26"
             ],
             [
              1,
              "#f0f921"
             ]
            ],
            "type": "histogram2dcontour"
           }
          ],
          "mesh3d": [
           {
            "colorbar": {
             "outlinewidth": 0,
             "ticks": ""
            },
            "type": "mesh3d"
           }
          ],
          "parcoords": [
           {
            "line": {
             "colorbar": {
              "outlinewidth": 0,
              "ticks": ""
             }
            },
            "type": "parcoords"
           }
          ],
          "pie": [
           {
            "automargin": true,
            "type": "pie"
           }
          ],
          "scatter": [
           {
            "fillpattern": {
             "fillmode": "overlay",
             "size": 10,
             "solidity": 0.2
            },
            "type": "scatter"
           }
          ],
          "scatter3d": [
           {
            "line": {
             "colorbar": {
              "outlinewidth": 0,
              "ticks": ""
             }
            },
            "marker": {
             "colorbar": {
              "outlinewidth": 0,
              "ticks": ""
             }
            },
            "type": "scatter3d"
           }
          ],
          "scattercarpet": [
           {
            "marker": {
             "colorbar": {
              "outlinewidth": 0,
              "ticks": ""
             }
            },
            "type": "scattercarpet"
           }
          ],
          "scattergeo": [
           {
            "marker": {
             "colorbar": {
              "outlinewidth": 0,
              "ticks": ""
             }
            },
            "type": "scattergeo"
           }
          ],
          "scattergl": [
           {
            "marker": {
             "colorbar": {
              "outlinewidth": 0,
              "ticks": ""
             }
            },
            "type": "scattergl"
           }
          ],
          "scattermapbox": [
           {
            "marker": {
             "colorbar": {
              "outlinewidth": 0,
              "ticks": ""
             }
            },
            "type": "scattermapbox"
           }
          ],
          "scatterpolar": [
           {
            "marker": {
             "colorbar": {
              "outlinewidth": 0,
              "ticks": ""
             }
            },
            "type": "scatterpolar"
           }
          ],
          "scatterpolargl": [
           {
            "marker": {
             "colorbar": {
              "outlinewidth": 0,
              "ticks": ""
             }
            },
            "type": "scatterpolargl"
           }
          ],
          "scatterternary": [
           {
            "marker": {
             "colorbar": {
              "outlinewidth": 0,
              "ticks": ""
             }
            },
            "type": "scatterternary"
           }
          ],
          "surface": [
           {
            "colorbar": {
             "outlinewidth": 0,
             "ticks": ""
            },
            "colorscale": [
             [
              0,
              "#0d0887"
             ],
             [
              0.1111111111111111,
              "#46039f"
             ],
             [
              0.2222222222222222,
              "#7201a8"
             ],
             [
              0.3333333333333333,
              "#9c179e"
             ],
             [
              0.4444444444444444,
              "#bd3786"
             ],
             [
              0.5555555555555556,
              "#d8576b"
             ],
             [
              0.6666666666666666,
              "#ed7953"
             ],
             [
              0.7777777777777778,
              "#fb9f3a"
             ],
             [
              0.8888888888888888,
              "#fdca26"
             ],
             [
              1,
              "#f0f921"
             ]
            ],
            "type": "surface"
           }
          ],
          "table": [
           {
            "cells": {
             "fill": {
              "color": "#EBF0F8"
             },
             "line": {
              "color": "white"
             }
            },
            "header": {
             "fill": {
              "color": "#C8D4E3"
             },
             "line": {
              "color": "white"
             }
            },
            "type": "table"
           }
          ]
         },
         "layout": {
          "annotationdefaults": {
           "arrowcolor": "#2a3f5f",
           "arrowhead": 0,
           "arrowwidth": 1
          },
          "autotypenumbers": "strict",
          "coloraxis": {
           "colorbar": {
            "outlinewidth": 0,
            "ticks": ""
           }
          },
          "colorscale": {
           "diverging": [
            [
             0,
             "#8e0152"
            ],
            [
             0.1,
             "#c51b7d"
            ],
            [
             0.2,
             "#de77ae"
            ],
            [
             0.3,
             "#f1b6da"
            ],
            [
             0.4,
             "#fde0ef"
            ],
            [
             0.5,
             "#f7f7f7"
            ],
            [
             0.6,
             "#e6f5d0"
            ],
            [
             0.7,
             "#b8e186"
            ],
            [
             0.8,
             "#7fbc41"
            ],
            [
             0.9,
             "#4d9221"
            ],
            [
             1,
             "#276419"
            ]
           ],
           "sequential": [
            [
             0,
             "#0d0887"
            ],
            [
             0.1111111111111111,
             "#46039f"
            ],
            [
             0.2222222222222222,
             "#7201a8"
            ],
            [
             0.3333333333333333,
             "#9c179e"
            ],
            [
             0.4444444444444444,
             "#bd3786"
            ],
            [
             0.5555555555555556,
             "#d8576b"
            ],
            [
             0.6666666666666666,
             "#ed7953"
            ],
            [
             0.7777777777777778,
             "#fb9f3a"
            ],
            [
             0.8888888888888888,
             "#fdca26"
            ],
            [
             1,
             "#f0f921"
            ]
           ],
           "sequentialminus": [
            [
             0,
             "#0d0887"
            ],
            [
             0.1111111111111111,
             "#46039f"
            ],
            [
             0.2222222222222222,
             "#7201a8"
            ],
            [
             0.3333333333333333,
             "#9c179e"
            ],
            [
             0.4444444444444444,
             "#bd3786"
            ],
            [
             0.5555555555555556,
             "#d8576b"
            ],
            [
             0.6666666666666666,
             "#ed7953"
            ],
            [
             0.7777777777777778,
             "#fb9f3a"
            ],
            [
             0.8888888888888888,
             "#fdca26"
            ],
            [
             1,
             "#f0f921"
            ]
           ]
          },
          "colorway": [
           "#636efa",
           "#EF553B",
           "#00cc96",
           "#ab63fa",
           "#FFA15A",
           "#19d3f3",
           "#FF6692",
           "#B6E880",
           "#FF97FF",
           "#FECB52"
          ],
          "font": {
           "color": "#2a3f5f"
          },
          "geo": {
           "bgcolor": "white",
           "lakecolor": "white",
           "landcolor": "#E5ECF6",
           "showlakes": true,
           "showland": true,
           "subunitcolor": "white"
          },
          "hoverlabel": {
           "align": "left"
          },
          "hovermode": "closest",
          "mapbox": {
           "style": "light"
          },
          "paper_bgcolor": "white",
          "plot_bgcolor": "#E5ECF6",
          "polar": {
           "angularaxis": {
            "gridcolor": "white",
            "linecolor": "white",
            "ticks": ""
           },
           "bgcolor": "#E5ECF6",
           "radialaxis": {
            "gridcolor": "white",
            "linecolor": "white",
            "ticks": ""
           }
          },
          "scene": {
           "xaxis": {
            "backgroundcolor": "#E5ECF6",
            "gridcolor": "white",
            "gridwidth": 2,
            "linecolor": "white",
            "showbackground": true,
            "ticks": "",
            "zerolinecolor": "white"
           },
           "yaxis": {
            "backgroundcolor": "#E5ECF6",
            "gridcolor": "white",
            "gridwidth": 2,
            "linecolor": "white",
            "showbackground": true,
            "ticks": "",
            "zerolinecolor": "white"
           },
           "zaxis": {
            "backgroundcolor": "#E5ECF6",
            "gridcolor": "white",
            "gridwidth": 2,
            "linecolor": "white",
            "showbackground": true,
            "ticks": "",
            "zerolinecolor": "white"
           }
          },
          "shapedefaults": {
           "line": {
            "color": "#2a3f5f"
           }
          },
          "ternary": {
           "aaxis": {
            "gridcolor": "white",
            "linecolor": "white",
            "ticks": ""
           },
           "baxis": {
            "gridcolor": "white",
            "linecolor": "white",
            "ticks": ""
           },
           "bgcolor": "#E5ECF6",
           "caxis": {
            "gridcolor": "white",
            "linecolor": "white",
            "ticks": ""
           }
          },
          "title": {
           "x": 0.05
          },
          "xaxis": {
           "automargin": true,
           "gridcolor": "white",
           "linecolor": "white",
           "ticks": "",
           "title": {
            "standoff": 15
           },
           "zerolinecolor": "white",
           "zerolinewidth": 2
          },
          "yaxis": {
           "automargin": true,
           "gridcolor": "white",
           "linecolor": "white",
           "ticks": "",
           "title": {
            "standoff": 15
           },
           "zerolinecolor": "white",
           "zerolinewidth": 2
          }
         }
        },
        "xaxis": {
         "anchor": "y",
         "domain": [
          0,
          1
         ],
         "title": {
          "text": "value"
         }
        },
        "yaxis": {
         "anchor": "x",
         "domain": [
          0,
          1
         ],
         "title": {
          "text": "Departamento"
         }
        }
       }
      },
      "text/html": [
       "<div>                            <div id=\"c27a64e4-4f7d-46fb-b6ec-51948d67d2ff\" class=\"plotly-graph-div\" style=\"height:525px; width:100%;\"></div>            <script type=\"text/javascript\">                require([\"plotly\"], function(Plotly) {                    window.PLOTLYENV=window.PLOTLYENV || {};                                    if (document.getElementById(\"c27a64e4-4f7d-46fb-b6ec-51948d67d2ff\")) {                    Plotly.newPlot(                        \"c27a64e4-4f7d-46fb-b6ec-51948d67d2ff\",                        [{\"alignmentgroup\":\"True\",\"hovertemplate\":\"value=%{x}\\u003cbr\\u003eDepartamento=%{y}\\u003cbr\\u003ecolor=%{marker.color}\\u003cextra\\u003e\\u003c\\u002fextra\\u003e\",\"legendgroup\":\"\",\"marker\":{\"color\":[314,275,253,200,191,185,158,150,132,132,112,103,101,99,87,65,53,51,50,48,48,48,47,44,36,36,35,34,33,26,25,24,24,23,23,23,21,21,21,20,20,20,20,20,19,19,19,19,18,18,18,18,17,16,16,16,16,16,15,15,15,15,15,15,15,14,14,14,14,14,14,14,13,13,13,13,13,12,12,12,12,11,11,11,10,10,10,10,9,9,8,8,8,8,8,7,7,7,7,7,7,7,7,7,6,6,6,6,6,6,6,5,5,5,5,5,5,5,4,4,4,4,4,4,4,4,4,4,4,4,4,4,4,3,3,3,3,3,3,3,2,2,2,2,2,2,2,2,2,2,1,1,1,1,1,1],\"coloraxis\":\"coloraxis\",\"pattern\":{\"shape\":\"\"}},\"name\":\"\",\"offsetgroup\":\"\",\"orientation\":\"h\",\"showlegend\":false,\"textposition\":\"auto\",\"x\":[314,275,253,200,191,185,158,150,132,132,112,103,101,99,87,65,53,51,50,48,48,48,47,44,36,36,35,34,33,26,25,24,24,23,23,23,21,21,21,20,20,20,20,20,19,19,19,19,18,18,18,18,17,16,16,16,16,16,15,15,15,15,15,15,15,14,14,14,14,14,14,14,13,13,13,13,13,12,12,12,12,11,11,11,10,10,10,10,9,9,8,8,8,8,8,7,7,7,7,7,7,7,7,7,6,6,6,6,6,6,6,5,5,5,5,5,5,5,4,4,4,4,4,4,4,4,4,4,4,4,4,4,4,3,3,3,3,3,3,3,2,2,2,2,2,2,2,2,2,2,1,1,1,1,1,1],\"xaxis\":\"x\",\"y\":[\"0982:SPIRITS\",\"0973:CANDY\",\"0962:BEVERAGES\",\"0597:HEALTH AIDS\",\"0983:WINE\",\"0991:TOBACCO\",\"0836:HOUSEHOLD CLEANING\",\"0604:PERSONAL CARE\",\"0603:BEAUTY CARE\",\"0984:BEER\",\"0072:BARBER SERVICES\",\"0532:AMERICAN GREETINGS\",\"0879:PET SUPPLIES\",\"0961:GENERAL GROCERIES\",\"0646:SEASONAL\",\"0640:TOYS\",\"0530:SCHOOL\\u002fOFFIC SUPP\",\"0590:MASS COSMETICS\",\"0837:GENERAL HOUSEWARES\",\"0826:SMALL ELECTRICS\",\"0360:MENS FURNISHINGS\",\"0884:LAWN & GARDEN\",\"0380:MENS ACTIVEWEAR\",\"0593:PRESTIGE COSMETICS\",\"0638:GEN SPORTING GOODS\",\"0644:SPORTS NUTRITION\",\"0861:GENERAL HARDWARE\",\"0598:BABY CARE\",\"0261:HOSIERY\",\"0797:SEASONAL GIFTS\",\"0359:MENS ACCESSORIES\",\"0595:HOME\\u002fBATH\",\"0822:THIRD PARTY GIFTCARD\",\"0391:MENS SHOES\",\"0815:AUDIO ELECTRONICS\",\"0634:VITAMINS & HLTH AIDS\",\"0369:YOUNG MENS\",\"0581:BRIDGE JEWELRY\",\"0240:SLEEPWEAR\\u002fLOUNGEWEAR\",\"0353:MENS OUTDOOR\",\"0589:SUNGLASSES\",\"0486:CHILDRENS FOOTWEAR\",\"0845:AS SEEN ON TV\",\"0846:BATTERIES\",\"0531:STATIONERY SUNDRIES\",\"0585:WATCHES\",\"0110:LDS OUTERWEAR\\u002fOUTDR\",\"0271:HANDBAGS\",\"0395:MENS ATHLETIC SHOES\",\"0071:BEAUTY RETAIL\",\"0415:NEWBORN APPAREL\",\"0811:TELEVISION\",\"0931:BATH\",\"0554:TELECOMMUNICATIONS\",\"0280:FASHION ACCESSORIES\",\"0795:HOME DECOR\",\"0230:DAYWEAR\",\"0416:INFANT APPAREL\",\"0056:SOUVENIR\",\"0167:MISSY TOPS\",\"0343:MENS DENIM JEANS\",\"0941:BEDDING\",\"0163:JUNIOR TOPS\",\"0850:PC HDWR & OFFICE EQP\",\"0161:MISSY KAREN SCOTT\",\"0368:TRAD COLLECTIONS\",\"0449:GIRLS ACCESSORIES\",\"0421:TODDLER GIRL APPAREL\",\"0639:TEAM SPORTING GOODS\",\"0680:AUTOMOTIVE\",\"0854:VIDEO GAMES\",\"0469:BOYS ACCESSORIES\",\"0965:PERISHABLES\",\"0999:UNSCANNED ITEMS\",\"0411:PEGABLES\",\"0636:FITNESS\\u002fEXERCISE\",\"0930:TABLE TOP & KITCHEN\",\"0857:PC PERIPH\\u002fOFFICE ACC\",\"0291:WOMENS FTWR:DRS\\u002fCAS\",\"0193:LADIES ACTIVEWEAR\",\"0510:NAVY PRIDE HARDLINES\",\"0722:OUTDOOR LIVING\",\"0839:HOME ORG\\u002fSOLUTIONS\",\"0833:TABLETOP\",\"0470:BOYS 8-20 CLOTHING\",\"0856:GLUES\\u002fTAPES\\u002fACC\",\"0551:CAMERAS & EQUIP\",\"0440:GIRLS 7-16 CLOTHING\",\"0592:WMNS PRESTIGE FRAG\",\"0358:MENS DRESS SHIRTS\",\"0009:FLORAL SERV\\u002fSUPPLIES\",\"0016:FINANCIAL SERVICES\",\"0819:PRE-RECORDED A\\u002fV\",\"0645:BIKES\",\"0511:NAVY PRIDE SOFTLINES\",\"0177:PETITE SEPARATES\",\"0586:COSTUME JEWELRY\",\"0098:WAREHOUSED EXPENSES\",\"0838:FLOOR CARE\",\"0355:MENS SPORT SHIRTS\",\"0632:DIGITAL FITNESS\",\"0860:NETWORKING\",\"0596:MENS PRESTIGE FRAG\",\"0601:VALUE ZONE\",\"0460:BOYS 4-7 CLOTHING\",\"0354:MENS MODERN COLLECT\",\"0295:WOMENS ATHLTIC SHOES\",\"0188:STYLE & CO\",\"0541:BOOKS AND MAPS\",\"0583:DIAMONDS\\u002fBRIDAL\",\"0430:GIRLS 4-6X CLOTHING\",\"0076:FLORAL RETAIL\",\"0851:PC HARDWARE\",\"0834:COOKWARE\",\"0340:MENS CASUAL SLACKS\",\"0540:PERIODICALS\\u002fCOMICS\",\"0002:BARBER RETAIL\",\"0179:MODERATE DENIM\",\"0130:JUNIORS SURF\",\"0171:MISSY BOTTOMS\",\"0018:OTHER DIRECT SERVICE\",\"0178:DENIM COLLECTIONS\",\"0173:JUNIOR BOTTOMS\",\"0012:LOCAL GIFTS\\u002fFOODS\",\"0859:iPAD\",\"0582:GOLD\",\"0346:LIFE STYLE DENIM\",\"0210:FOUNDATIONS\",\"0584:GEMSTONES\",\"0426:TODDLER BOY APPAREL\",\"0637:FISHING\",\"0823:SMART HOME\",\"0816:VIDEO ELECTRONICS\",\"0310:MENS OUTERWEAR\",\"0863:POWER EQUIPMENT\",\"0661:LUGGAGE\",\"0439:JUVENILLE FURNITURE\",\"0320:MNS TAILORED CLOTHNG\",\"0533:PAPYRUS\",\"0131:LADIES DRESSES\",\"0853:DIMAGE\\u002fPHONE\\u002fGPS\\u002fACC\",\"0587:JEWELRY CONSIGNMENT\",\"0220:SHAPEWEAR\",\"0186:JUNIOR DRESSES\",\"0165:LIFE IS GOOD\",\"0181:LADIES MODERN COLLEC\",\"0175:WOMENS SEPARATES\",\"0182:CLASSIC COLLECTIONS\",\"0940:HOME TEXTILES\",\"0852:COMPUTER SOFTWARE\",\"0033:VENDING RETAIL\",\"0066:VENDING\\u002fAMUSEMENT MA\",\"0099:MISC CUSTOM SERVICES\",\"0014:REPAIRS\",\"0591:MASS FRAGRANCES\",\"0817:WEARABLES\"],\"yaxis\":\"y\",\"type\":\"bar\"}],                        {\"template\":{\"data\":{\"histogram2dcontour\":[{\"type\":\"histogram2dcontour\",\"colorbar\":{\"outlinewidth\":0,\"ticks\":\"\"},\"colorscale\":[[0.0,\"#0d0887\"],[0.1111111111111111,\"#46039f\"],[0.2222222222222222,\"#7201a8\"],[0.3333333333333333,\"#9c179e\"],[0.4444444444444444,\"#bd3786\"],[0.5555555555555556,\"#d8576b\"],[0.6666666666666666,\"#ed7953\"],[0.7777777777777778,\"#fb9f3a\"],[0.8888888888888888,\"#fdca26\"],[1.0,\"#f0f921\"]]}],\"choropleth\":[{\"type\":\"choropleth\",\"colorbar\":{\"outlinewidth\":0,\"ticks\":\"\"}}],\"histogram2d\":[{\"type\":\"histogram2d\",\"colorbar\":{\"outlinewidth\":0,\"ticks\":\"\"},\"colorscale\":[[0.0,\"#0d0887\"],[0.1111111111111111,\"#46039f\"],[0.2222222222222222,\"#7201a8\"],[0.3333333333333333,\"#9c179e\"],[0.4444444444444444,\"#bd3786\"],[0.5555555555555556,\"#d8576b\"],[0.6666666666666666,\"#ed7953\"],[0.7777777777777778,\"#fb9f3a\"],[0.8888888888888888,\"#fdca26\"],[1.0,\"#f0f921\"]]}],\"heatmap\":[{\"type\":\"heatmap\",\"colorbar\":{\"outlinewidth\":0,\"ticks\":\"\"},\"colorscale\":[[0.0,\"#0d0887\"],[0.1111111111111111,\"#46039f\"],[0.2222222222222222,\"#7201a8\"],[0.3333333333333333,\"#9c179e\"],[0.4444444444444444,\"#bd3786\"],[0.5555555555555556,\"#d8576b\"],[0.6666666666666666,\"#ed7953\"],[0.7777777777777778,\"#fb9f3a\"],[0.8888888888888888,\"#fdca26\"],[1.0,\"#f0f921\"]]}],\"heatmapgl\":[{\"type\":\"heatmapgl\",\"colorbar\":{\"outlinewidth\":0,\"ticks\":\"\"},\"colorscale\":[[0.0,\"#0d0887\"],[0.1111111111111111,\"#46039f\"],[0.2222222222222222,\"#7201a8\"],[0.3333333333333333,\"#9c179e\"],[0.4444444444444444,\"#bd3786\"],[0.5555555555555556,\"#d8576b\"],[0.6666666666666666,\"#ed7953\"],[0.7777777777777778,\"#fb9f3a\"],[0.8888888888888888,\"#fdca26\"],[1.0,\"#f0f921\"]]}],\"contourcarpet\":[{\"type\":\"contourcarpet\",\"colorbar\":{\"outlinewidth\":0,\"ticks\":\"\"}}],\"contour\":[{\"type\":\"contour\",\"colorbar\":{\"outlinewidth\":0,\"ticks\":\"\"},\"colorscale\":[[0.0,\"#0d0887\"],[0.1111111111111111,\"#46039f\"],[0.2222222222222222,\"#7201a8\"],[0.3333333333333333,\"#9c179e\"],[0.4444444444444444,\"#bd3786\"],[0.5555555555555556,\"#d8576b\"],[0.6666666666666666,\"#ed7953\"],[0.7777777777777778,\"#fb9f3a\"],[0.8888888888888888,\"#fdca26\"],[1.0,\"#f0f921\"]]}],\"surface\":[{\"type\":\"surface\",\"colorbar\":{\"outlinewidth\":0,\"ticks\":\"\"},\"colorscale\":[[0.0,\"#0d0887\"],[0.1111111111111111,\"#46039f\"],[0.2222222222222222,\"#7201a8\"],[0.3333333333333333,\"#9c179e\"],[0.4444444444444444,\"#bd3786\"],[0.5555555555555556,\"#d8576b\"],[0.6666666666666666,\"#ed7953\"],[0.7777777777777778,\"#fb9f3a\"],[0.8888888888888888,\"#fdca26\"],[1.0,\"#f0f921\"]]}],\"mesh3d\":[{\"type\":\"mesh3d\",\"colorbar\":{\"outlinewidth\":0,\"ticks\":\"\"}}],\"scatter\":[{\"fillpattern\":{\"fillmode\":\"overlay\",\"size\":10,\"solidity\":0.2},\"type\":\"scatter\"}],\"parcoords\":[{\"type\":\"parcoords\",\"line\":{\"colorbar\":{\"outlinewidth\":0,\"ticks\":\"\"}}}],\"scatterpolargl\":[{\"type\":\"scatterpolargl\",\"marker\":{\"colorbar\":{\"outlinewidth\":0,\"ticks\":\"\"}}}],\"bar\":[{\"error_x\":{\"color\":\"#2a3f5f\"},\"error_y\":{\"color\":\"#2a3f5f\"},\"marker\":{\"line\":{\"color\":\"#E5ECF6\",\"width\":0.5},\"pattern\":{\"fillmode\":\"overlay\",\"size\":10,\"solidity\":0.2}},\"type\":\"bar\"}],\"scattergeo\":[{\"type\":\"scattergeo\",\"marker\":{\"colorbar\":{\"outlinewidth\":0,\"ticks\":\"\"}}}],\"scatterpolar\":[{\"type\":\"scatterpolar\",\"marker\":{\"colorbar\":{\"outlinewidth\":0,\"ticks\":\"\"}}}],\"histogram\":[{\"marker\":{\"pattern\":{\"fillmode\":\"overlay\",\"size\":10,\"solidity\":0.2}},\"type\":\"histogram\"}],\"scattergl\":[{\"type\":\"scattergl\",\"marker\":{\"colorbar\":{\"outlinewidth\":0,\"ticks\":\"\"}}}],\"scatter3d\":[{\"type\":\"scatter3d\",\"line\":{\"colorbar\":{\"outlinewidth\":0,\"ticks\":\"\"}},\"marker\":{\"colorbar\":{\"outlinewidth\":0,\"ticks\":\"\"}}}],\"scattermapbox\":[{\"type\":\"scattermapbox\",\"marker\":{\"colorbar\":{\"outlinewidth\":0,\"ticks\":\"\"}}}],\"scatterternary\":[{\"type\":\"scatterternary\",\"marker\":{\"colorbar\":{\"outlinewidth\":0,\"ticks\":\"\"}}}],\"scattercarpet\":[{\"type\":\"scattercarpet\",\"marker\":{\"colorbar\":{\"outlinewidth\":0,\"ticks\":\"\"}}}],\"carpet\":[{\"aaxis\":{\"endlinecolor\":\"#2a3f5f\",\"gridcolor\":\"white\",\"linecolor\":\"white\",\"minorgridcolor\":\"white\",\"startlinecolor\":\"#2a3f5f\"},\"baxis\":{\"endlinecolor\":\"#2a3f5f\",\"gridcolor\":\"white\",\"linecolor\":\"white\",\"minorgridcolor\":\"white\",\"startlinecolor\":\"#2a3f5f\"},\"type\":\"carpet\"}],\"table\":[{\"cells\":{\"fill\":{\"color\":\"#EBF0F8\"},\"line\":{\"color\":\"white\"}},\"header\":{\"fill\":{\"color\":\"#C8D4E3\"},\"line\":{\"color\":\"white\"}},\"type\":\"table\"}],\"barpolar\":[{\"marker\":{\"line\":{\"color\":\"#E5ECF6\",\"width\":0.5},\"pattern\":{\"fillmode\":\"overlay\",\"size\":10,\"solidity\":0.2}},\"type\":\"barpolar\"}],\"pie\":[{\"automargin\":true,\"type\":\"pie\"}]},\"layout\":{\"autotypenumbers\":\"strict\",\"colorway\":[\"#636efa\",\"#EF553B\",\"#00cc96\",\"#ab63fa\",\"#FFA15A\",\"#19d3f3\",\"#FF6692\",\"#B6E880\",\"#FF97FF\",\"#FECB52\"],\"font\":{\"color\":\"#2a3f5f\"},\"hovermode\":\"closest\",\"hoverlabel\":{\"align\":\"left\"},\"paper_bgcolor\":\"white\",\"plot_bgcolor\":\"#E5ECF6\",\"polar\":{\"bgcolor\":\"#E5ECF6\",\"angularaxis\":{\"gridcolor\":\"white\",\"linecolor\":\"white\",\"ticks\":\"\"},\"radialaxis\":{\"gridcolor\":\"white\",\"linecolor\":\"white\",\"ticks\":\"\"}},\"ternary\":{\"bgcolor\":\"#E5ECF6\",\"aaxis\":{\"gridcolor\":\"white\",\"linecolor\":\"white\",\"ticks\":\"\"},\"baxis\":{\"gridcolor\":\"white\",\"linecolor\":\"white\",\"ticks\":\"\"},\"caxis\":{\"gridcolor\":\"white\",\"linecolor\":\"white\",\"ticks\":\"\"}},\"coloraxis\":{\"colorbar\":{\"outlinewidth\":0,\"ticks\":\"\"}},\"colorscale\":{\"sequential\":[[0.0,\"#0d0887\"],[0.1111111111111111,\"#46039f\"],[0.2222222222222222,\"#7201a8\"],[0.3333333333333333,\"#9c179e\"],[0.4444444444444444,\"#bd3786\"],[0.5555555555555556,\"#d8576b\"],[0.6666666666666666,\"#ed7953\"],[0.7777777777777778,\"#fb9f3a\"],[0.8888888888888888,\"#fdca26\"],[1.0,\"#f0f921\"]],\"sequentialminus\":[[0.0,\"#0d0887\"],[0.1111111111111111,\"#46039f\"],[0.2222222222222222,\"#7201a8\"],[0.3333333333333333,\"#9c179e\"],[0.4444444444444444,\"#bd3786\"],[0.5555555555555556,\"#d8576b\"],[0.6666666666666666,\"#ed7953\"],[0.7777777777777778,\"#fb9f3a\"],[0.8888888888888888,\"#fdca26\"],[1.0,\"#f0f921\"]],\"diverging\":[[0,\"#8e0152\"],[0.1,\"#c51b7d\"],[0.2,\"#de77ae\"],[0.3,\"#f1b6da\"],[0.4,\"#fde0ef\"],[0.5,\"#f7f7f7\"],[0.6,\"#e6f5d0\"],[0.7,\"#b8e186\"],[0.8,\"#7fbc41\"],[0.9,\"#4d9221\"],[1,\"#276419\"]]},\"xaxis\":{\"gridcolor\":\"white\",\"linecolor\":\"white\",\"ticks\":\"\",\"title\":{\"standoff\":15},\"zerolinecolor\":\"white\",\"automargin\":true,\"zerolinewidth\":2},\"yaxis\":{\"gridcolor\":\"white\",\"linecolor\":\"white\",\"ticks\":\"\",\"title\":{\"standoff\":15},\"zerolinecolor\":\"white\",\"automargin\":true,\"zerolinewidth\":2},\"scene\":{\"xaxis\":{\"backgroundcolor\":\"#E5ECF6\",\"gridcolor\":\"white\",\"linecolor\":\"white\",\"showbackground\":true,\"ticks\":\"\",\"zerolinecolor\":\"white\",\"gridwidth\":2},\"yaxis\":{\"backgroundcolor\":\"#E5ECF6\",\"gridcolor\":\"white\",\"linecolor\":\"white\",\"showbackground\":true,\"ticks\":\"\",\"zerolinecolor\":\"white\",\"gridwidth\":2},\"zaxis\":{\"backgroundcolor\":\"#E5ECF6\",\"gridcolor\":\"white\",\"linecolor\":\"white\",\"showbackground\":true,\"ticks\":\"\",\"zerolinecolor\":\"white\",\"gridwidth\":2}},\"shapedefaults\":{\"line\":{\"color\":\"#2a3f5f\"}},\"annotationdefaults\":{\"arrowcolor\":\"#2a3f5f\",\"arrowhead\":0,\"arrowwidth\":1},\"geo\":{\"bgcolor\":\"white\",\"landcolor\":\"#E5ECF6\",\"subunitcolor\":\"white\",\"showland\":true,\"showlakes\":true,\"lakecolor\":\"white\"},\"title\":{\"x\":0.05},\"mapbox\":{\"style\":\"light\"}}},\"xaxis\":{\"anchor\":\"y\",\"domain\":[0.0,1.0],\"title\":{\"text\":\"value\"}},\"yaxis\":{\"anchor\":\"x\",\"domain\":[0.0,1.0],\"title\":{\"text\":\"Departamento\"}},\"coloraxis\":{\"colorbar\":{\"title\":{\"text\":\"color\"}},\"colorscale\":[[0.0,\"#0d0887\"],[0.1111111111111111,\"#46039f\"],[0.2222222222222222,\"#7201a8\"],[0.3333333333333333,\"#9c179e\"],[0.4444444444444444,\"#bd3786\"],[0.5555555555555556,\"#d8576b\"],[0.6666666666666666,\"#ed7953\"],[0.7777777777777778,\"#fb9f3a\"],[0.8888888888888888,\"#fdca26\"],[1.0,\"#f0f921\"]]},\"legend\":{\"tracegroupgap\":0},\"margin\":{\"t\":60},\"barmode\":\"relative\",\"showlegend\":false},                        {\"responsive\": true}                    ).then(function(){\n",
       "                            \n",
       "var gd = document.getElementById('c27a64e4-4f7d-46fb-b6ec-51948d67d2ff');\n",
       "var x = new MutationObserver(function (mutations, observer) {{\n",
       "        var display = window.getComputedStyle(gd).display;\n",
       "        if (!display || display === 'none') {{\n",
       "            console.log([gd, 'removed!']);\n",
       "            Plotly.purge(gd);\n",
       "            observer.disconnect();\n",
       "        }}\n",
       "}});\n",
       "\n",
       "// Listen for the removal of the full notebook cells\n",
       "var notebookContainer = gd.closest('#notebook-container');\n",
       "if (notebookContainer) {{\n",
       "    x.observe(notebookContainer, {childList: true});\n",
       "}}\n",
       "\n",
       "// Listen for the clearing of the current output cell\n",
       "var outputEl = gd.closest('.output');\n",
       "if (outputEl) {{\n",
       "    x.observe(outputEl, {childList: true});\n",
       "}}\n",
       "\n",
       "                        })                };                });            </script>        </div>"
      ]
     },
     "metadata": {},
     "output_type": "display_data"
    }
   ],
   "source": [
    "# Quais departamentos tem maior volume de transações e maior quantidade de unidades vendidas?\n",
    "# Parte 1: Volume de transacoes\n",
    "\n",
    "# Quantidade de transcaoes unicas onde cada departamento aparece\n",
    "contagem_transacoes_por_departamento = df_transacoes.value_counts('Departamento')\n",
    "\n",
    "# Plot\n",
    "fig_volume_transacoes = px.bar(contagem_transacoes_por_departamento, color=contagem_transacoes_por_departamento, orientation='h')\n",
    "fig_volume_transacoes.update_layout(showlegend=False)\n",
    "fig_volume_transacoes.show()"
   ]
  },
  {
   "cell_type": "code",
   "execution_count": 111,
   "id": "f3038cfe",
   "metadata": {},
   "outputs": [
    {
     "data": {
      "application/vnd.plotly.v1+json": {
       "config": {
        "plotlyServerURL": "https://plot.ly"
       },
       "data": [
        {
         "alignmentgroup": "True",
         "hovertemplate": "value=%{x}<br>Departamento=%{y}<br>color=%{marker.color}<extra></extra>",
         "legendgroup": "",
         "marker": {
          "color": [
           314,
           275,
           253,
           200,
           191,
           185,
           158,
           150,
           132,
           132
          ],
          "coloraxis": "coloraxis",
          "pattern": {
           "shape": ""
          }
         },
         "name": "",
         "offsetgroup": "",
         "orientation": "h",
         "showlegend": false,
         "textposition": "auto",
         "type": "bar",
         "x": [
          314,
          275,
          253,
          200,
          191,
          185,
          158,
          150,
          132,
          132
         ],
         "xaxis": "x",
         "y": [
          "0982:SPIRITS",
          "0973:CANDY",
          "0962:BEVERAGES",
          "0597:HEALTH AIDS",
          "0983:WINE",
          "0991:TOBACCO",
          "0836:HOUSEHOLD CLEANING",
          "0604:PERSONAL CARE",
          "0603:BEAUTY CARE",
          "0984:BEER"
         ],
         "yaxis": "y"
        }
       ],
       "layout": {
        "barmode": "relative",
        "coloraxis": {
         "colorbar": {
          "title": {
           "text": "color"
          }
         },
         "colorscale": [
          [
           0,
           "#0d0887"
          ],
          [
           0.1111111111111111,
           "#46039f"
          ],
          [
           0.2222222222222222,
           "#7201a8"
          ],
          [
           0.3333333333333333,
           "#9c179e"
          ],
          [
           0.4444444444444444,
           "#bd3786"
          ],
          [
           0.5555555555555556,
           "#d8576b"
          ],
          [
           0.6666666666666666,
           "#ed7953"
          ],
          [
           0.7777777777777778,
           "#fb9f3a"
          ],
          [
           0.8888888888888888,
           "#fdca26"
          ],
          [
           1,
           "#f0f921"
          ]
         ]
        },
        "legend": {
         "tracegroupgap": 0
        },
        "margin": {
         "t": 60
        },
        "showlegend": false,
        "template": {
         "data": {
          "bar": [
           {
            "error_x": {
             "color": "#2a3f5f"
            },
            "error_y": {
             "color": "#2a3f5f"
            },
            "marker": {
             "line": {
              "color": "#E5ECF6",
              "width": 0.5
             },
             "pattern": {
              "fillmode": "overlay",
              "size": 10,
              "solidity": 0.2
             }
            },
            "type": "bar"
           }
          ],
          "barpolar": [
           {
            "marker": {
             "line": {
              "color": "#E5ECF6",
              "width": 0.5
             },
             "pattern": {
              "fillmode": "overlay",
              "size": 10,
              "solidity": 0.2
             }
            },
            "type": "barpolar"
           }
          ],
          "carpet": [
           {
            "aaxis": {
             "endlinecolor": "#2a3f5f",
             "gridcolor": "white",
             "linecolor": "white",
             "minorgridcolor": "white",
             "startlinecolor": "#2a3f5f"
            },
            "baxis": {
             "endlinecolor": "#2a3f5f",
             "gridcolor": "white",
             "linecolor": "white",
             "minorgridcolor": "white",
             "startlinecolor": "#2a3f5f"
            },
            "type": "carpet"
           }
          ],
          "choropleth": [
           {
            "colorbar": {
             "outlinewidth": 0,
             "ticks": ""
            },
            "type": "choropleth"
           }
          ],
          "contour": [
           {
            "colorbar": {
             "outlinewidth": 0,
             "ticks": ""
            },
            "colorscale": [
             [
              0,
              "#0d0887"
             ],
             [
              0.1111111111111111,
              "#46039f"
             ],
             [
              0.2222222222222222,
              "#7201a8"
             ],
             [
              0.3333333333333333,
              "#9c179e"
             ],
             [
              0.4444444444444444,
              "#bd3786"
             ],
             [
              0.5555555555555556,
              "#d8576b"
             ],
             [
              0.6666666666666666,
              "#ed7953"
             ],
             [
              0.7777777777777778,
              "#fb9f3a"
             ],
             [
              0.8888888888888888,
              "#fdca26"
             ],
             [
              1,
              "#f0f921"
             ]
            ],
            "type": "contour"
           }
          ],
          "contourcarpet": [
           {
            "colorbar": {
             "outlinewidth": 0,
             "ticks": ""
            },
            "type": "contourcarpet"
           }
          ],
          "heatmap": [
           {
            "colorbar": {
             "outlinewidth": 0,
             "ticks": ""
            },
            "colorscale": [
             [
              0,
              "#0d0887"
             ],
             [
              0.1111111111111111,
              "#46039f"
             ],
             [
              0.2222222222222222,
              "#7201a8"
             ],
             [
              0.3333333333333333,
              "#9c179e"
             ],
             [
              0.4444444444444444,
              "#bd3786"
             ],
             [
              0.5555555555555556,
              "#d8576b"
             ],
             [
              0.6666666666666666,
              "#ed7953"
             ],
             [
              0.7777777777777778,
              "#fb9f3a"
             ],
             [
              0.8888888888888888,
              "#fdca26"
             ],
             [
              1,
              "#f0f921"
             ]
            ],
            "type": "heatmap"
           }
          ],
          "heatmapgl": [
           {
            "colorbar": {
             "outlinewidth": 0,
             "ticks": ""
            },
            "colorscale": [
             [
              0,
              "#0d0887"
             ],
             [
              0.1111111111111111,
              "#46039f"
             ],
             [
              0.2222222222222222,
              "#7201a8"
             ],
             [
              0.3333333333333333,
              "#9c179e"
             ],
             [
              0.4444444444444444,
              "#bd3786"
             ],
             [
              0.5555555555555556,
              "#d8576b"
             ],
             [
              0.6666666666666666,
              "#ed7953"
             ],
             [
              0.7777777777777778,
              "#fb9f3a"
             ],
             [
              0.8888888888888888,
              "#fdca26"
             ],
             [
              1,
              "#f0f921"
             ]
            ],
            "type": "heatmapgl"
           }
          ],
          "histogram": [
           {
            "marker": {
             "pattern": {
              "fillmode": "overlay",
              "size": 10,
              "solidity": 0.2
             }
            },
            "type": "histogram"
           }
          ],
          "histogram2d": [
           {
            "colorbar": {
             "outlinewidth": 0,
             "ticks": ""
            },
            "colorscale": [
             [
              0,
              "#0d0887"
             ],
             [
              0.1111111111111111,
              "#46039f"
             ],
             [
              0.2222222222222222,
              "#7201a8"
             ],
             [
              0.3333333333333333,
              "#9c179e"
             ],
             [
              0.4444444444444444,
              "#bd3786"
             ],
             [
              0.5555555555555556,
              "#d8576b"
             ],
             [
              0.6666666666666666,
              "#ed7953"
             ],
             [
              0.7777777777777778,
              "#fb9f3a"
             ],
             [
              0.8888888888888888,
              "#fdca26"
             ],
             [
              1,
              "#f0f921"
             ]
            ],
            "type": "histogram2d"
           }
          ],
          "histogram2dcontour": [
           {
            "colorbar": {
             "outlinewidth": 0,
             "ticks": ""
            },
            "colorscale": [
             [
              0,
              "#0d0887"
             ],
             [
              0.1111111111111111,
              "#46039f"
             ],
             [
              0.2222222222222222,
              "#7201a8"
             ],
             [
              0.3333333333333333,
              "#9c179e"
             ],
             [
              0.4444444444444444,
              "#bd3786"
             ],
             [
              0.5555555555555556,
              "#d8576b"
             ],
             [
              0.6666666666666666,
              "#ed7953"
             ],
             [
              0.7777777777777778,
              "#fb9f3a"
             ],
             [
              0.8888888888888888,
              "#fdca26"
             ],
             [
              1,
              "#f0f921"
             ]
            ],
            "type": "histogram2dcontour"
           }
          ],
          "mesh3d": [
           {
            "colorbar": {
             "outlinewidth": 0,
             "ticks": ""
            },
            "type": "mesh3d"
           }
          ],
          "parcoords": [
           {
            "line": {
             "colorbar": {
              "outlinewidth": 0,
              "ticks": ""
             }
            },
            "type": "parcoords"
           }
          ],
          "pie": [
           {
            "automargin": true,
            "type": "pie"
           }
          ],
          "scatter": [
           {
            "fillpattern": {
             "fillmode": "overlay",
             "size": 10,
             "solidity": 0.2
            },
            "type": "scatter"
           }
          ],
          "scatter3d": [
           {
            "line": {
             "colorbar": {
              "outlinewidth": 0,
              "ticks": ""
             }
            },
            "marker": {
             "colorbar": {
              "outlinewidth": 0,
              "ticks": ""
             }
            },
            "type": "scatter3d"
           }
          ],
          "scattercarpet": [
           {
            "marker": {
             "colorbar": {
              "outlinewidth": 0,
              "ticks": ""
             }
            },
            "type": "scattercarpet"
           }
          ],
          "scattergeo": [
           {
            "marker": {
             "colorbar": {
              "outlinewidth": 0,
              "ticks": ""
             }
            },
            "type": "scattergeo"
           }
          ],
          "scattergl": [
           {
            "marker": {
             "colorbar": {
              "outlinewidth": 0,
              "ticks": ""
             }
            },
            "type": "scattergl"
           }
          ],
          "scattermapbox": [
           {
            "marker": {
             "colorbar": {
              "outlinewidth": 0,
              "ticks": ""
             }
            },
            "type": "scattermapbox"
           }
          ],
          "scatterpolar": [
           {
            "marker": {
             "colorbar": {
              "outlinewidth": 0,
              "ticks": ""
             }
            },
            "type": "scatterpolar"
           }
          ],
          "scatterpolargl": [
           {
            "marker": {
             "colorbar": {
              "outlinewidth": 0,
              "ticks": ""
             }
            },
            "type": "scatterpolargl"
           }
          ],
          "scatterternary": [
           {
            "marker": {
             "colorbar": {
              "outlinewidth": 0,
              "ticks": ""
             }
            },
            "type": "scatterternary"
           }
          ],
          "surface": [
           {
            "colorbar": {
             "outlinewidth": 0,
             "ticks": ""
            },
            "colorscale": [
             [
              0,
              "#0d0887"
             ],
             [
              0.1111111111111111,
              "#46039f"
             ],
             [
              0.2222222222222222,
              "#7201a8"
             ],
             [
              0.3333333333333333,
              "#9c179e"
             ],
             [
              0.4444444444444444,
              "#bd3786"
             ],
             [
              0.5555555555555556,
              "#d8576b"
             ],
             [
              0.6666666666666666,
              "#ed7953"
             ],
             [
              0.7777777777777778,
              "#fb9f3a"
             ],
             [
              0.8888888888888888,
              "#fdca26"
             ],
             [
              1,
              "#f0f921"
             ]
            ],
            "type": "surface"
           }
          ],
          "table": [
           {
            "cells": {
             "fill": {
              "color": "#EBF0F8"
             },
             "line": {
              "color": "white"
             }
            },
            "header": {
             "fill": {
              "color": "#C8D4E3"
             },
             "line": {
              "color": "white"
             }
            },
            "type": "table"
           }
          ]
         },
         "layout": {
          "annotationdefaults": {
           "arrowcolor": "#2a3f5f",
           "arrowhead": 0,
           "arrowwidth": 1
          },
          "autotypenumbers": "strict",
          "coloraxis": {
           "colorbar": {
            "outlinewidth": 0,
            "ticks": ""
           }
          },
          "colorscale": {
           "diverging": [
            [
             0,
             "#8e0152"
            ],
            [
             0.1,
             "#c51b7d"
            ],
            [
             0.2,
             "#de77ae"
            ],
            [
             0.3,
             "#f1b6da"
            ],
            [
             0.4,
             "#fde0ef"
            ],
            [
             0.5,
             "#f7f7f7"
            ],
            [
             0.6,
             "#e6f5d0"
            ],
            [
             0.7,
             "#b8e186"
            ],
            [
             0.8,
             "#7fbc41"
            ],
            [
             0.9,
             "#4d9221"
            ],
            [
             1,
             "#276419"
            ]
           ],
           "sequential": [
            [
             0,
             "#0d0887"
            ],
            [
             0.1111111111111111,
             "#46039f"
            ],
            [
             0.2222222222222222,
             "#7201a8"
            ],
            [
             0.3333333333333333,
             "#9c179e"
            ],
            [
             0.4444444444444444,
             "#bd3786"
            ],
            [
             0.5555555555555556,
             "#d8576b"
            ],
            [
             0.6666666666666666,
             "#ed7953"
            ],
            [
             0.7777777777777778,
             "#fb9f3a"
            ],
            [
             0.8888888888888888,
             "#fdca26"
            ],
            [
             1,
             "#f0f921"
            ]
           ],
           "sequentialminus": [
            [
             0,
             "#0d0887"
            ],
            [
             0.1111111111111111,
             "#46039f"
            ],
            [
             0.2222222222222222,
             "#7201a8"
            ],
            [
             0.3333333333333333,
             "#9c179e"
            ],
            [
             0.4444444444444444,
             "#bd3786"
            ],
            [
             0.5555555555555556,
             "#d8576b"
            ],
            [
             0.6666666666666666,
             "#ed7953"
            ],
            [
             0.7777777777777778,
             "#fb9f3a"
            ],
            [
             0.8888888888888888,
             "#fdca26"
            ],
            [
             1,
             "#f0f921"
            ]
           ]
          },
          "colorway": [
           "#636efa",
           "#EF553B",
           "#00cc96",
           "#ab63fa",
           "#FFA15A",
           "#19d3f3",
           "#FF6692",
           "#B6E880",
           "#FF97FF",
           "#FECB52"
          ],
          "font": {
           "color": "#2a3f5f"
          },
          "geo": {
           "bgcolor": "white",
           "lakecolor": "white",
           "landcolor": "#E5ECF6",
           "showlakes": true,
           "showland": true,
           "subunitcolor": "white"
          },
          "hoverlabel": {
           "align": "left"
          },
          "hovermode": "closest",
          "mapbox": {
           "style": "light"
          },
          "paper_bgcolor": "white",
          "plot_bgcolor": "#E5ECF6",
          "polar": {
           "angularaxis": {
            "gridcolor": "white",
            "linecolor": "white",
            "ticks": ""
           },
           "bgcolor": "#E5ECF6",
           "radialaxis": {
            "gridcolor": "white",
            "linecolor": "white",
            "ticks": ""
           }
          },
          "scene": {
           "xaxis": {
            "backgroundcolor": "#E5ECF6",
            "gridcolor": "white",
            "gridwidth": 2,
            "linecolor": "white",
            "showbackground": true,
            "ticks": "",
            "zerolinecolor": "white"
           },
           "yaxis": {
            "backgroundcolor": "#E5ECF6",
            "gridcolor": "white",
            "gridwidth": 2,
            "linecolor": "white",
            "showbackground": true,
            "ticks": "",
            "zerolinecolor": "white"
           },
           "zaxis": {
            "backgroundcolor": "#E5ECF6",
            "gridcolor": "white",
            "gridwidth": 2,
            "linecolor": "white",
            "showbackground": true,
            "ticks": "",
            "zerolinecolor": "white"
           }
          },
          "shapedefaults": {
           "line": {
            "color": "#2a3f5f"
           }
          },
          "ternary": {
           "aaxis": {
            "gridcolor": "white",
            "linecolor": "white",
            "ticks": ""
           },
           "baxis": {
            "gridcolor": "white",
            "linecolor": "white",
            "ticks": ""
           },
           "bgcolor": "#E5ECF6",
           "caxis": {
            "gridcolor": "white",
            "linecolor": "white",
            "ticks": ""
           }
          },
          "title": {
           "x": 0.05
          },
          "xaxis": {
           "automargin": true,
           "gridcolor": "white",
           "linecolor": "white",
           "ticks": "",
           "title": {
            "standoff": 15
           },
           "zerolinecolor": "white",
           "zerolinewidth": 2
          },
          "yaxis": {
           "automargin": true,
           "gridcolor": "white",
           "linecolor": "white",
           "ticks": "",
           "title": {
            "standoff": 15
           },
           "zerolinecolor": "white",
           "zerolinewidth": 2
          }
         }
        },
        "xaxis": {
         "anchor": "y",
         "domain": [
          0,
          1
         ],
         "title": {
          "text": "value"
         }
        },
        "yaxis": {
         "anchor": "x",
         "domain": [
          0,
          1
         ],
         "title": {
          "text": "Departamento"
         }
        }
       }
      },
      "text/html": [
       "<div>                            <div id=\"d03bba61-6798-4519-87ea-8987c31ba0f3\" class=\"plotly-graph-div\" style=\"height:525px; width:100%;\"></div>            <script type=\"text/javascript\">                require([\"plotly\"], function(Plotly) {                    window.PLOTLYENV=window.PLOTLYENV || {};                                    if (document.getElementById(\"d03bba61-6798-4519-87ea-8987c31ba0f3\")) {                    Plotly.newPlot(                        \"d03bba61-6798-4519-87ea-8987c31ba0f3\",                        [{\"alignmentgroup\":\"True\",\"hovertemplate\":\"value=%{x}\\u003cbr\\u003eDepartamento=%{y}\\u003cbr\\u003ecolor=%{marker.color}\\u003cextra\\u003e\\u003c\\u002fextra\\u003e\",\"legendgroup\":\"\",\"marker\":{\"color\":[314,275,253,200,191,185,158,150,132,132],\"coloraxis\":\"coloraxis\",\"pattern\":{\"shape\":\"\"}},\"name\":\"\",\"offsetgroup\":\"\",\"orientation\":\"h\",\"showlegend\":false,\"textposition\":\"auto\",\"x\":[314,275,253,200,191,185,158,150,132,132],\"xaxis\":\"x\",\"y\":[\"0982:SPIRITS\",\"0973:CANDY\",\"0962:BEVERAGES\",\"0597:HEALTH AIDS\",\"0983:WINE\",\"0991:TOBACCO\",\"0836:HOUSEHOLD CLEANING\",\"0604:PERSONAL CARE\",\"0603:BEAUTY CARE\",\"0984:BEER\"],\"yaxis\":\"y\",\"type\":\"bar\"}],                        {\"template\":{\"data\":{\"histogram2dcontour\":[{\"type\":\"histogram2dcontour\",\"colorbar\":{\"outlinewidth\":0,\"ticks\":\"\"},\"colorscale\":[[0.0,\"#0d0887\"],[0.1111111111111111,\"#46039f\"],[0.2222222222222222,\"#7201a8\"],[0.3333333333333333,\"#9c179e\"],[0.4444444444444444,\"#bd3786\"],[0.5555555555555556,\"#d8576b\"],[0.6666666666666666,\"#ed7953\"],[0.7777777777777778,\"#fb9f3a\"],[0.8888888888888888,\"#fdca26\"],[1.0,\"#f0f921\"]]}],\"choropleth\":[{\"type\":\"choropleth\",\"colorbar\":{\"outlinewidth\":0,\"ticks\":\"\"}}],\"histogram2d\":[{\"type\":\"histogram2d\",\"colorbar\":{\"outlinewidth\":0,\"ticks\":\"\"},\"colorscale\":[[0.0,\"#0d0887\"],[0.1111111111111111,\"#46039f\"],[0.2222222222222222,\"#7201a8\"],[0.3333333333333333,\"#9c179e\"],[0.4444444444444444,\"#bd3786\"],[0.5555555555555556,\"#d8576b\"],[0.6666666666666666,\"#ed7953\"],[0.7777777777777778,\"#fb9f3a\"],[0.8888888888888888,\"#fdca26\"],[1.0,\"#f0f921\"]]}],\"heatmap\":[{\"type\":\"heatmap\",\"colorbar\":{\"outlinewidth\":0,\"ticks\":\"\"},\"colorscale\":[[0.0,\"#0d0887\"],[0.1111111111111111,\"#46039f\"],[0.2222222222222222,\"#7201a8\"],[0.3333333333333333,\"#9c179e\"],[0.4444444444444444,\"#bd3786\"],[0.5555555555555556,\"#d8576b\"],[0.6666666666666666,\"#ed7953\"],[0.7777777777777778,\"#fb9f3a\"],[0.8888888888888888,\"#fdca26\"],[1.0,\"#f0f921\"]]}],\"heatmapgl\":[{\"type\":\"heatmapgl\",\"colorbar\":{\"outlinewidth\":0,\"ticks\":\"\"},\"colorscale\":[[0.0,\"#0d0887\"],[0.1111111111111111,\"#46039f\"],[0.2222222222222222,\"#7201a8\"],[0.3333333333333333,\"#9c179e\"],[0.4444444444444444,\"#bd3786\"],[0.5555555555555556,\"#d8576b\"],[0.6666666666666666,\"#ed7953\"],[0.7777777777777778,\"#fb9f3a\"],[0.8888888888888888,\"#fdca26\"],[1.0,\"#f0f921\"]]}],\"contourcarpet\":[{\"type\":\"contourcarpet\",\"colorbar\":{\"outlinewidth\":0,\"ticks\":\"\"}}],\"contour\":[{\"type\":\"contour\",\"colorbar\":{\"outlinewidth\":0,\"ticks\":\"\"},\"colorscale\":[[0.0,\"#0d0887\"],[0.1111111111111111,\"#46039f\"],[0.2222222222222222,\"#7201a8\"],[0.3333333333333333,\"#9c179e\"],[0.4444444444444444,\"#bd3786\"],[0.5555555555555556,\"#d8576b\"],[0.6666666666666666,\"#ed7953\"],[0.7777777777777778,\"#fb9f3a\"],[0.8888888888888888,\"#fdca26\"],[1.0,\"#f0f921\"]]}],\"surface\":[{\"type\":\"surface\",\"colorbar\":{\"outlinewidth\":0,\"ticks\":\"\"},\"colorscale\":[[0.0,\"#0d0887\"],[0.1111111111111111,\"#46039f\"],[0.2222222222222222,\"#7201a8\"],[0.3333333333333333,\"#9c179e\"],[0.4444444444444444,\"#bd3786\"],[0.5555555555555556,\"#d8576b\"],[0.6666666666666666,\"#ed7953\"],[0.7777777777777778,\"#fb9f3a\"],[0.8888888888888888,\"#fdca26\"],[1.0,\"#f0f921\"]]}],\"mesh3d\":[{\"type\":\"mesh3d\",\"colorbar\":{\"outlinewidth\":0,\"ticks\":\"\"}}],\"scatter\":[{\"fillpattern\":{\"fillmode\":\"overlay\",\"size\":10,\"solidity\":0.2},\"type\":\"scatter\"}],\"parcoords\":[{\"type\":\"parcoords\",\"line\":{\"colorbar\":{\"outlinewidth\":0,\"ticks\":\"\"}}}],\"scatterpolargl\":[{\"type\":\"scatterpolargl\",\"marker\":{\"colorbar\":{\"outlinewidth\":0,\"ticks\":\"\"}}}],\"bar\":[{\"error_x\":{\"color\":\"#2a3f5f\"},\"error_y\":{\"color\":\"#2a3f5f\"},\"marker\":{\"line\":{\"color\":\"#E5ECF6\",\"width\":0.5},\"pattern\":{\"fillmode\":\"overlay\",\"size\":10,\"solidity\":0.2}},\"type\":\"bar\"}],\"scattergeo\":[{\"type\":\"scattergeo\",\"marker\":{\"colorbar\":{\"outlinewidth\":0,\"ticks\":\"\"}}}],\"scatterpolar\":[{\"type\":\"scatterpolar\",\"marker\":{\"colorbar\":{\"outlinewidth\":0,\"ticks\":\"\"}}}],\"histogram\":[{\"marker\":{\"pattern\":{\"fillmode\":\"overlay\",\"size\":10,\"solidity\":0.2}},\"type\":\"histogram\"}],\"scattergl\":[{\"type\":\"scattergl\",\"marker\":{\"colorbar\":{\"outlinewidth\":0,\"ticks\":\"\"}}}],\"scatter3d\":[{\"type\":\"scatter3d\",\"line\":{\"colorbar\":{\"outlinewidth\":0,\"ticks\":\"\"}},\"marker\":{\"colorbar\":{\"outlinewidth\":0,\"ticks\":\"\"}}}],\"scattermapbox\":[{\"type\":\"scattermapbox\",\"marker\":{\"colorbar\":{\"outlinewidth\":0,\"ticks\":\"\"}}}],\"scatterternary\":[{\"type\":\"scatterternary\",\"marker\":{\"colorbar\":{\"outlinewidth\":0,\"ticks\":\"\"}}}],\"scattercarpet\":[{\"type\":\"scattercarpet\",\"marker\":{\"colorbar\":{\"outlinewidth\":0,\"ticks\":\"\"}}}],\"carpet\":[{\"aaxis\":{\"endlinecolor\":\"#2a3f5f\",\"gridcolor\":\"white\",\"linecolor\":\"white\",\"minorgridcolor\":\"white\",\"startlinecolor\":\"#2a3f5f\"},\"baxis\":{\"endlinecolor\":\"#2a3f5f\",\"gridcolor\":\"white\",\"linecolor\":\"white\",\"minorgridcolor\":\"white\",\"startlinecolor\":\"#2a3f5f\"},\"type\":\"carpet\"}],\"table\":[{\"cells\":{\"fill\":{\"color\":\"#EBF0F8\"},\"line\":{\"color\":\"white\"}},\"header\":{\"fill\":{\"color\":\"#C8D4E3\"},\"line\":{\"color\":\"white\"}},\"type\":\"table\"}],\"barpolar\":[{\"marker\":{\"line\":{\"color\":\"#E5ECF6\",\"width\":0.5},\"pattern\":{\"fillmode\":\"overlay\",\"size\":10,\"solidity\":0.2}},\"type\":\"barpolar\"}],\"pie\":[{\"automargin\":true,\"type\":\"pie\"}]},\"layout\":{\"autotypenumbers\":\"strict\",\"colorway\":[\"#636efa\",\"#EF553B\",\"#00cc96\",\"#ab63fa\",\"#FFA15A\",\"#19d3f3\",\"#FF6692\",\"#B6E880\",\"#FF97FF\",\"#FECB52\"],\"font\":{\"color\":\"#2a3f5f\"},\"hovermode\":\"closest\",\"hoverlabel\":{\"align\":\"left\"},\"paper_bgcolor\":\"white\",\"plot_bgcolor\":\"#E5ECF6\",\"polar\":{\"bgcolor\":\"#E5ECF6\",\"angularaxis\":{\"gridcolor\":\"white\",\"linecolor\":\"white\",\"ticks\":\"\"},\"radialaxis\":{\"gridcolor\":\"white\",\"linecolor\":\"white\",\"ticks\":\"\"}},\"ternary\":{\"bgcolor\":\"#E5ECF6\",\"aaxis\":{\"gridcolor\":\"white\",\"linecolor\":\"white\",\"ticks\":\"\"},\"baxis\":{\"gridcolor\":\"white\",\"linecolor\":\"white\",\"ticks\":\"\"},\"caxis\":{\"gridcolor\":\"white\",\"linecolor\":\"white\",\"ticks\":\"\"}},\"coloraxis\":{\"colorbar\":{\"outlinewidth\":0,\"ticks\":\"\"}},\"colorscale\":{\"sequential\":[[0.0,\"#0d0887\"],[0.1111111111111111,\"#46039f\"],[0.2222222222222222,\"#7201a8\"],[0.3333333333333333,\"#9c179e\"],[0.4444444444444444,\"#bd3786\"],[0.5555555555555556,\"#d8576b\"],[0.6666666666666666,\"#ed7953\"],[0.7777777777777778,\"#fb9f3a\"],[0.8888888888888888,\"#fdca26\"],[1.0,\"#f0f921\"]],\"sequentialminus\":[[0.0,\"#0d0887\"],[0.1111111111111111,\"#46039f\"],[0.2222222222222222,\"#7201a8\"],[0.3333333333333333,\"#9c179e\"],[0.4444444444444444,\"#bd3786\"],[0.5555555555555556,\"#d8576b\"],[0.6666666666666666,\"#ed7953\"],[0.7777777777777778,\"#fb9f3a\"],[0.8888888888888888,\"#fdca26\"],[1.0,\"#f0f921\"]],\"diverging\":[[0,\"#8e0152\"],[0.1,\"#c51b7d\"],[0.2,\"#de77ae\"],[0.3,\"#f1b6da\"],[0.4,\"#fde0ef\"],[0.5,\"#f7f7f7\"],[0.6,\"#e6f5d0\"],[0.7,\"#b8e186\"],[0.8,\"#7fbc41\"],[0.9,\"#4d9221\"],[1,\"#276419\"]]},\"xaxis\":{\"gridcolor\":\"white\",\"linecolor\":\"white\",\"ticks\":\"\",\"title\":{\"standoff\":15},\"zerolinecolor\":\"white\",\"automargin\":true,\"zerolinewidth\":2},\"yaxis\":{\"gridcolor\":\"white\",\"linecolor\":\"white\",\"ticks\":\"\",\"title\":{\"standoff\":15},\"zerolinecolor\":\"white\",\"automargin\":true,\"zerolinewidth\":2},\"scene\":{\"xaxis\":{\"backgroundcolor\":\"#E5ECF6\",\"gridcolor\":\"white\",\"linecolor\":\"white\",\"showbackground\":true,\"ticks\":\"\",\"zerolinecolor\":\"white\",\"gridwidth\":2},\"yaxis\":{\"backgroundcolor\":\"#E5ECF6\",\"gridcolor\":\"white\",\"linecolor\":\"white\",\"showbackground\":true,\"ticks\":\"\",\"zerolinecolor\":\"white\",\"gridwidth\":2},\"zaxis\":{\"backgroundcolor\":\"#E5ECF6\",\"gridcolor\":\"white\",\"linecolor\":\"white\",\"showbackground\":true,\"ticks\":\"\",\"zerolinecolor\":\"white\",\"gridwidth\":2}},\"shapedefaults\":{\"line\":{\"color\":\"#2a3f5f\"}},\"annotationdefaults\":{\"arrowcolor\":\"#2a3f5f\",\"arrowhead\":0,\"arrowwidth\":1},\"geo\":{\"bgcolor\":\"white\",\"landcolor\":\"#E5ECF6\",\"subunitcolor\":\"white\",\"showland\":true,\"showlakes\":true,\"lakecolor\":\"white\"},\"title\":{\"x\":0.05},\"mapbox\":{\"style\":\"light\"}}},\"xaxis\":{\"anchor\":\"y\",\"domain\":[0.0,1.0],\"title\":{\"text\":\"value\"}},\"yaxis\":{\"anchor\":\"x\",\"domain\":[0.0,1.0],\"title\":{\"text\":\"Departamento\"}},\"coloraxis\":{\"colorbar\":{\"title\":{\"text\":\"color\"}},\"colorscale\":[[0.0,\"#0d0887\"],[0.1111111111111111,\"#46039f\"],[0.2222222222222222,\"#7201a8\"],[0.3333333333333333,\"#9c179e\"],[0.4444444444444444,\"#bd3786\"],[0.5555555555555556,\"#d8576b\"],[0.6666666666666666,\"#ed7953\"],[0.7777777777777778,\"#fb9f3a\"],[0.8888888888888888,\"#fdca26\"],[1.0,\"#f0f921\"]]},\"legend\":{\"tracegroupgap\":0},\"margin\":{\"t\":60},\"barmode\":\"relative\",\"showlegend\":false},                        {\"responsive\": true}                    ).then(function(){\n",
       "                            \n",
       "var gd = document.getElementById('d03bba61-6798-4519-87ea-8987c31ba0f3');\n",
       "var x = new MutationObserver(function (mutations, observer) {{\n",
       "        var display = window.getComputedStyle(gd).display;\n",
       "        if (!display || display === 'none') {{\n",
       "            console.log([gd, 'removed!']);\n",
       "            Plotly.purge(gd);\n",
       "            observer.disconnect();\n",
       "        }}\n",
       "}});\n",
       "\n",
       "// Listen for the removal of the full notebook cells\n",
       "var notebookContainer = gd.closest('#notebook-container');\n",
       "if (notebookContainer) {{\n",
       "    x.observe(notebookContainer, {childList: true});\n",
       "}}\n",
       "\n",
       "// Listen for the clearing of the current output cell\n",
       "var outputEl = gd.closest('.output');\n",
       "if (outputEl) {{\n",
       "    x.observe(outputEl, {childList: true});\n",
       "}}\n",
       "\n",
       "                        })                };                });            </script>        </div>"
      ]
     },
     "metadata": {},
     "output_type": "display_data"
    }
   ],
   "source": [
    "# Quais top 10 departamentos tem maior volume de transações e maior quantidade de unidades vendidas?\n",
    "# Parte 1: Volume de transacoes\n",
    "\n",
    "# Quantidade de transcaoes unicas onde cada departamento aparece\n",
    "contagem_transacoes_por_departamento_top10 = df_transacoes.value_counts('Departamento').head(10)\n",
    "\n",
    "# Plot\n",
    "fig_volume_transacoes_top10 = px.bar(contagem_transacoes_por_departamento_top10, color=contagem_transacoes_por_departamento_top10, orientation='h')\n",
    "fig_volume_transacoes_top10.update_layout(showlegend=False)\n",
    "fig_volume_transacoes_top10.show()"
   ]
  },
  {
   "cell_type": "code",
   "execution_count": 112,
   "id": "602bcf86",
   "metadata": {},
   "outputs": [
    {
     "data": {
      "application/vnd.plotly.v1+json": {
       "config": {
        "plotlyServerURL": "https://plot.ly"
       },
       "data": [
        {
         "alignmentgroup": "True",
         "hovertemplate": "value=%{x}<br>Departamento=%{y}<br>color=%{marker.color}<extra></extra>",
         "legendgroup": "",
         "marker": {
          "color": [
           661,
           646,
           528,
           418,
           371,
           342,
           326,
           313,
           292,
           243,
           240,
           223,
           206,
           169,
           142,
           134,
           117,
           96,
           92,
           92,
           89,
           78,
           77,
           73,
           69,
           65,
           63,
           58,
           58,
           49,
           48,
           47,
           44,
           43,
           40,
           38,
           38,
           37,
           36,
           32,
           32,
           32,
           31,
           30,
           29,
           29,
           28,
           27,
           27,
           26,
           26,
           25,
           25,
           24,
           24,
           24,
           24,
           23,
           23,
           23,
           23,
           22,
           22,
           22,
           22,
           22,
           20,
           20,
           20,
           19,
           19,
           19,
           18,
           18,
           18,
           18,
           18,
           17,
           16,
           16,
           16,
           16,
           15,
           15,
           15,
           15,
           15,
           14,
           14,
           14,
           14,
           13,
           12,
           11,
           10,
           10,
           10,
           10,
           10,
           9,
           9,
           9,
           9,
           8,
           8,
           8,
           8,
           8,
           7,
           7,
           7,
           7,
           7,
           7,
           7,
           7,
           7,
           6,
           6,
           6,
           6,
           5,
           5,
           5,
           5,
           5,
           5,
           5,
           5,
           5,
           5,
           4,
           4,
           4,
           4,
           4,
           4,
           3,
           3,
           3,
           3,
           3,
           3,
           3,
           3,
           2,
           2,
           2,
           2,
           2,
           2,
           2,
           1,
           1,
           1,
           1
          ],
          "coloraxis": "coloraxis",
          "pattern": {
           "shape": ""
          }
         },
         "name": "",
         "offsetgroup": "",
         "orientation": "h",
         "showlegend": false,
         "textposition": "auto",
         "type": "bar",
         "x": [
          661,
          646,
          528,
          418,
          371,
          342,
          326,
          313,
          292,
          243,
          240,
          223,
          206,
          169,
          142,
          134,
          117,
          96,
          92,
          92,
          89,
          78,
          77,
          73,
          69,
          65,
          63,
          58,
          58,
          49,
          48,
          47,
          44,
          43,
          40,
          38,
          38,
          37,
          36,
          32,
          32,
          32,
          31,
          30,
          29,
          29,
          28,
          27,
          27,
          26,
          26,
          25,
          25,
          24,
          24,
          24,
          24,
          23,
          23,
          23,
          23,
          22,
          22,
          22,
          22,
          22,
          20,
          20,
          20,
          19,
          19,
          19,
          18,
          18,
          18,
          18,
          18,
          17,
          16,
          16,
          16,
          16,
          15,
          15,
          15,
          15,
          15,
          14,
          14,
          14,
          14,
          13,
          12,
          11,
          10,
          10,
          10,
          10,
          10,
          9,
          9,
          9,
          9,
          8,
          8,
          8,
          8,
          8,
          7,
          7,
          7,
          7,
          7,
          7,
          7,
          7,
          7,
          6,
          6,
          6,
          6,
          5,
          5,
          5,
          5,
          5,
          5,
          5,
          5,
          5,
          5,
          4,
          4,
          4,
          4,
          4,
          4,
          3,
          3,
          3,
          3,
          3,
          3,
          3,
          3,
          2,
          2,
          2,
          2,
          2,
          2,
          2,
          1,
          1,
          1,
          1
         ],
         "xaxis": "x",
         "y": [
          "0982:SPIRITS",
          "0973:CANDY",
          "0983:WINE",
          "0962:BEVERAGES",
          "0836:HOUSEHOLD CLEANING",
          "0597:HEALTH AIDS",
          "0646:SEASONAL",
          "0991:TOBACCO",
          "0604:PERSONAL CARE",
          "0879:PET SUPPLIES",
          "0603:BEAUTY CARE",
          "0984:BEER",
          "0532:AMERICAN GREETINGS",
          "0961:GENERAL GROCERIES",
          "0640:TOYS",
          "0530:SCHOOL/OFFIC SUPP",
          "0072:BARBER SERVICES",
          "0360:MENS FURNISHINGS",
          "0837:GENERAL HOUSEWARES",
          "0644:SPORTS NUTRITION",
          "0590:MASS COSMETICS",
          "0638:GEN SPORTING GOODS",
          "0884:LAWN & GARDEN",
          "0593:PRESTIGE COSMETICS",
          "0380:MENS ACTIVEWEAR",
          "0826:SMALL ELECTRICS",
          "0261:HOSIERY",
          "0598:BABY CARE",
          "0595:HOME/BATH",
          "0240:SLEEPWEAR/LOUNGEWEAR",
          "0531:STATIONERY SUNDRIES",
          "0797:SEASONAL GIFTS",
          "0861:GENERAL HARDWARE",
          "0415:NEWBORN APPAREL",
          "0581:BRIDGE JEWELRY",
          "0815:AUDIO ELECTRONICS",
          "0822:THIRD PARTY GIFTCARD",
          "0931:BATH",
          "0634:VITAMINS & HLTH AIDS",
          "0930:TABLE TOP & KITCHEN",
          "0230:DAYWEAR",
          "0416:INFANT APPAREL",
          "0449:GIRLS ACCESSORIES",
          "0161:MISSY KAREN SCOTT",
          "0469:BOYS ACCESSORIES",
          "0359:MENS ACCESSORIES",
          "0795:HOME DECOR",
          "0369:YOUNG MENS",
          "0440:GIRLS 7-16 CLOTHING",
          "0846:BATTERIES",
          "0280:FASHION ACCESSORIES",
          "0845:AS SEEN ON TV",
          "0589:SUNGLASSES",
          "0071:BEAUTY RETAIL",
          "0391:MENS SHOES",
          "0271:HANDBAGS",
          "0368:TRAD COLLECTIONS",
          "0585:WATCHES",
          "0811:TELEVISION",
          "0486:CHILDRENS FOOTWEAR",
          "0850:PC HDWR & OFFICE EQP",
          "0110:LDS OUTERWEAR/OUTDR",
          "0343:MENS DENIM JEANS",
          "0193:LADIES ACTIVEWEAR",
          "0353:MENS OUTDOOR",
          "0167:MISSY TOPS",
          "0854:VIDEO GAMES",
          "0470:BOYS 8-20 CLOTHING",
          "0680:AUTOMOTIVE",
          "0421:TODDLER GIRL APPAREL",
          "0056:SOUVENIR",
          "0941:BEDDING",
          "0722:OUTDOOR LIVING",
          "0639:TEAM SPORTING GOODS",
          "0554:TELECOMMUNICATIONS",
          "0395:MENS ATHLETIC SHOES",
          "0163:JUNIOR TOPS",
          "0510:NAVY PRIDE HARDLINES",
          "0636:FITNESS/EXERCISE",
          "0833:TABLETOP",
          "0016:FINANCIAL SERVICES",
          "0839:HOME ORG/SOLUTIONS",
          "0551:CAMERAS & EQUIP",
          "0098:WAREHOUSED EXPENSES",
          "0210:FOUNDATIONS",
          "0411:PEGABLES",
          "0291:WOMENS FTWR:DRS/CAS",
          "0645:BIKES",
          "0856:GLUES/TAPES/ACC",
          "0857:PC PERIPH/OFFICE ACC",
          "0965:PERISHABLES",
          "0999:UNSCANNED ITEMS",
          "0358:MENS DRESS SHIRTS",
          "0355:MENS SPORT SHIRTS",
          "0076:FLORAL RETAIL",
          "0012:LOCAL GIFTS/FOODS",
          "0592:WMNS PRESTIGE FRAG",
          "0533:PAPYRUS",
          "0460:BOYS 4-7 CLOTHING",
          "0177:PETITE SEPARATES",
          "0354:MENS MODERN COLLECT",
          "0511:NAVY PRIDE SOFTLINES",
          "0819:PRE-RECORDED A/V",
          "0430:GIRLS 4-6X CLOTHING",
          "0583:DIAMONDS/BRIDAL",
          "0851:PC HARDWARE",
          "0009:FLORAL SERV/SUPPLIES",
          "0130:JUNIORS SURF",
          "0632:DIGITAL FITNESS",
          "0838:FLOOR CARE",
          "0860:NETWORKING",
          "0637:FISHING",
          "0596:MENS PRESTIGE FRAG",
          "0601:VALUE ZONE",
          "0541:BOOKS AND MAPS",
          "0295:WOMENS ATHLTIC SHOES",
          "0586:COSTUME JEWELRY",
          "0188:STYLE & CO",
          "0340:MENS CASUAL SLACKS",
          "0540:PERIODICALS/COMICS",
          "0178:DENIM COLLECTIONS",
          "0179:MODERATE DENIM",
          "0165:LIFE IS GOOD",
          "0002:BARBER RETAIL",
          "0173:JUNIOR BOTTOMS",
          "0131:LADIES DRESSES",
          "0426:TODDLER BOY APPAREL",
          "0582:GOLD",
          "0661:LUGGAGE",
          "0584:GEMSTONES",
          "0834:COOKWARE",
          "0171:MISSY BOTTOMS",
          "0816:VIDEO ELECTRONICS",
          "0823:SMART HOME",
          "0859:iPAD",
          "0346:LIFE STYLE DENIM",
          "0018:OTHER DIRECT SERVICE",
          "0181:LADIES MODERN COLLEC",
          "0175:WOMENS SEPARATES",
          "0591:MASS FRAGRANCES",
          "0863:POWER EQUIPMENT",
          "0310:MENS OUTERWEAR",
          "0439:JUVENILLE FURNITURE",
          "0186:JUNIOR DRESSES",
          "0320:MNS TAILORED CLOTHNG",
          "0587:JEWELRY CONSIGNMENT",
          "0182:CLASSIC COLLECTIONS",
          "0033:VENDING RETAIL",
          "0853:DIMAGE/PHONE/GPS/ACC",
          "0852:COMPUTER SOFTWARE",
          "0940:HOME TEXTILES",
          "0220:SHAPEWEAR",
          "0099:MISC CUSTOM SERVICES",
          "0066:VENDING/AMUSEMENT MA",
          "0014:REPAIRS",
          "0817:WEARABLES"
         ],
         "yaxis": "y"
        }
       ],
       "layout": {
        "barmode": "relative",
        "coloraxis": {
         "colorbar": {
          "title": {
           "text": "color"
          }
         },
         "colorscale": [
          [
           0,
           "#0d0887"
          ],
          [
           0.1111111111111111,
           "#46039f"
          ],
          [
           0.2222222222222222,
           "#7201a8"
          ],
          [
           0.3333333333333333,
           "#9c179e"
          ],
          [
           0.4444444444444444,
           "#bd3786"
          ],
          [
           0.5555555555555556,
           "#d8576b"
          ],
          [
           0.6666666666666666,
           "#ed7953"
          ],
          [
           0.7777777777777778,
           "#fb9f3a"
          ],
          [
           0.8888888888888888,
           "#fdca26"
          ],
          [
           1,
           "#f0f921"
          ]
         ]
        },
        "legend": {
         "tracegroupgap": 0
        },
        "margin": {
         "t": 60
        },
        "showlegend": false,
        "template": {
         "data": {
          "bar": [
           {
            "error_x": {
             "color": "#2a3f5f"
            },
            "error_y": {
             "color": "#2a3f5f"
            },
            "marker": {
             "line": {
              "color": "#E5ECF6",
              "width": 0.5
             },
             "pattern": {
              "fillmode": "overlay",
              "size": 10,
              "solidity": 0.2
             }
            },
            "type": "bar"
           }
          ],
          "barpolar": [
           {
            "marker": {
             "line": {
              "color": "#E5ECF6",
              "width": 0.5
             },
             "pattern": {
              "fillmode": "overlay",
              "size": 10,
              "solidity": 0.2
             }
            },
            "type": "barpolar"
           }
          ],
          "carpet": [
           {
            "aaxis": {
             "endlinecolor": "#2a3f5f",
             "gridcolor": "white",
             "linecolor": "white",
             "minorgridcolor": "white",
             "startlinecolor": "#2a3f5f"
            },
            "baxis": {
             "endlinecolor": "#2a3f5f",
             "gridcolor": "white",
             "linecolor": "white",
             "minorgridcolor": "white",
             "startlinecolor": "#2a3f5f"
            },
            "type": "carpet"
           }
          ],
          "choropleth": [
           {
            "colorbar": {
             "outlinewidth": 0,
             "ticks": ""
            },
            "type": "choropleth"
           }
          ],
          "contour": [
           {
            "colorbar": {
             "outlinewidth": 0,
             "ticks": ""
            },
            "colorscale": [
             [
              0,
              "#0d0887"
             ],
             [
              0.1111111111111111,
              "#46039f"
             ],
             [
              0.2222222222222222,
              "#7201a8"
             ],
             [
              0.3333333333333333,
              "#9c179e"
             ],
             [
              0.4444444444444444,
              "#bd3786"
             ],
             [
              0.5555555555555556,
              "#d8576b"
             ],
             [
              0.6666666666666666,
              "#ed7953"
             ],
             [
              0.7777777777777778,
              "#fb9f3a"
             ],
             [
              0.8888888888888888,
              "#fdca26"
             ],
             [
              1,
              "#f0f921"
             ]
            ],
            "type": "contour"
           }
          ],
          "contourcarpet": [
           {
            "colorbar": {
             "outlinewidth": 0,
             "ticks": ""
            },
            "type": "contourcarpet"
           }
          ],
          "heatmap": [
           {
            "colorbar": {
             "outlinewidth": 0,
             "ticks": ""
            },
            "colorscale": [
             [
              0,
              "#0d0887"
             ],
             [
              0.1111111111111111,
              "#46039f"
             ],
             [
              0.2222222222222222,
              "#7201a8"
             ],
             [
              0.3333333333333333,
              "#9c179e"
             ],
             [
              0.4444444444444444,
              "#bd3786"
             ],
             [
              0.5555555555555556,
              "#d8576b"
             ],
             [
              0.6666666666666666,
              "#ed7953"
             ],
             [
              0.7777777777777778,
              "#fb9f3a"
             ],
             [
              0.8888888888888888,
              "#fdca26"
             ],
             [
              1,
              "#f0f921"
             ]
            ],
            "type": "heatmap"
           }
          ],
          "heatmapgl": [
           {
            "colorbar": {
             "outlinewidth": 0,
             "ticks": ""
            },
            "colorscale": [
             [
              0,
              "#0d0887"
             ],
             [
              0.1111111111111111,
              "#46039f"
             ],
             [
              0.2222222222222222,
              "#7201a8"
             ],
             [
              0.3333333333333333,
              "#9c179e"
             ],
             [
              0.4444444444444444,
              "#bd3786"
             ],
             [
              0.5555555555555556,
              "#d8576b"
             ],
             [
              0.6666666666666666,
              "#ed7953"
             ],
             [
              0.7777777777777778,
              "#fb9f3a"
             ],
             [
              0.8888888888888888,
              "#fdca26"
             ],
             [
              1,
              "#f0f921"
             ]
            ],
            "type": "heatmapgl"
           }
          ],
          "histogram": [
           {
            "marker": {
             "pattern": {
              "fillmode": "overlay",
              "size": 10,
              "solidity": 0.2
             }
            },
            "type": "histogram"
           }
          ],
          "histogram2d": [
           {
            "colorbar": {
             "outlinewidth": 0,
             "ticks": ""
            },
            "colorscale": [
             [
              0,
              "#0d0887"
             ],
             [
              0.1111111111111111,
              "#46039f"
             ],
             [
              0.2222222222222222,
              "#7201a8"
             ],
             [
              0.3333333333333333,
              "#9c179e"
             ],
             [
              0.4444444444444444,
              "#bd3786"
             ],
             [
              0.5555555555555556,
              "#d8576b"
             ],
             [
              0.6666666666666666,
              "#ed7953"
             ],
             [
              0.7777777777777778,
              "#fb9f3a"
             ],
             [
              0.8888888888888888,
              "#fdca26"
             ],
             [
              1,
              "#f0f921"
             ]
            ],
            "type": "histogram2d"
           }
          ],
          "histogram2dcontour": [
           {
            "colorbar": {
             "outlinewidth": 0,
             "ticks": ""
            },
            "colorscale": [
             [
              0,
              "#0d0887"
             ],
             [
              0.1111111111111111,
              "#46039f"
             ],
             [
              0.2222222222222222,
              "#7201a8"
             ],
             [
              0.3333333333333333,
              "#9c179e"
             ],
             [
              0.4444444444444444,
              "#bd3786"
             ],
             [
              0.5555555555555556,
              "#d8576b"
             ],
             [
              0.6666666666666666,
              "#ed7953"
             ],
             [
              0.7777777777777778,
              "#fb9f3a"
             ],
             [
              0.8888888888888888,
              "#fdca26"
             ],
             [
              1,
              "#f0f921"
             ]
            ],
            "type": "histogram2dcontour"
           }
          ],
          "mesh3d": [
           {
            "colorbar": {
             "outlinewidth": 0,
             "ticks": ""
            },
            "type": "mesh3d"
           }
          ],
          "parcoords": [
           {
            "line": {
             "colorbar": {
              "outlinewidth": 0,
              "ticks": ""
             }
            },
            "type": "parcoords"
           }
          ],
          "pie": [
           {
            "automargin": true,
            "type": "pie"
           }
          ],
          "scatter": [
           {
            "fillpattern": {
             "fillmode": "overlay",
             "size": 10,
             "solidity": 0.2
            },
            "type": "scatter"
           }
          ],
          "scatter3d": [
           {
            "line": {
             "colorbar": {
              "outlinewidth": 0,
              "ticks": ""
             }
            },
            "marker": {
             "colorbar": {
              "outlinewidth": 0,
              "ticks": ""
             }
            },
            "type": "scatter3d"
           }
          ],
          "scattercarpet": [
           {
            "marker": {
             "colorbar": {
              "outlinewidth": 0,
              "ticks": ""
             }
            },
            "type": "scattercarpet"
           }
          ],
          "scattergeo": [
           {
            "marker": {
             "colorbar": {
              "outlinewidth": 0,
              "ticks": ""
             }
            },
            "type": "scattergeo"
           }
          ],
          "scattergl": [
           {
            "marker": {
             "colorbar": {
              "outlinewidth": 0,
              "ticks": ""
             }
            },
            "type": "scattergl"
           }
          ],
          "scattermapbox": [
           {
            "marker": {
             "colorbar": {
              "outlinewidth": 0,
              "ticks": ""
             }
            },
            "type": "scattermapbox"
           }
          ],
          "scatterpolar": [
           {
            "marker": {
             "colorbar": {
              "outlinewidth": 0,
              "ticks": ""
             }
            },
            "type": "scatterpolar"
           }
          ],
          "scatterpolargl": [
           {
            "marker": {
             "colorbar": {
              "outlinewidth": 0,
              "ticks": ""
             }
            },
            "type": "scatterpolargl"
           }
          ],
          "scatterternary": [
           {
            "marker": {
             "colorbar": {
              "outlinewidth": 0,
              "ticks": ""
             }
            },
            "type": "scatterternary"
           }
          ],
          "surface": [
           {
            "colorbar": {
             "outlinewidth": 0,
             "ticks": ""
            },
            "colorscale": [
             [
              0,
              "#0d0887"
             ],
             [
              0.1111111111111111,
              "#46039f"
             ],
             [
              0.2222222222222222,
              "#7201a8"
             ],
             [
              0.3333333333333333,
              "#9c179e"
             ],
             [
              0.4444444444444444,
              "#bd3786"
             ],
             [
              0.5555555555555556,
              "#d8576b"
             ],
             [
              0.6666666666666666,
              "#ed7953"
             ],
             [
              0.7777777777777778,
              "#fb9f3a"
             ],
             [
              0.8888888888888888,
              "#fdca26"
             ],
             [
              1,
              "#f0f921"
             ]
            ],
            "type": "surface"
           }
          ],
          "table": [
           {
            "cells": {
             "fill": {
              "color": "#EBF0F8"
             },
             "line": {
              "color": "white"
             }
            },
            "header": {
             "fill": {
              "color": "#C8D4E3"
             },
             "line": {
              "color": "white"
             }
            },
            "type": "table"
           }
          ]
         },
         "layout": {
          "annotationdefaults": {
           "arrowcolor": "#2a3f5f",
           "arrowhead": 0,
           "arrowwidth": 1
          },
          "autotypenumbers": "strict",
          "coloraxis": {
           "colorbar": {
            "outlinewidth": 0,
            "ticks": ""
           }
          },
          "colorscale": {
           "diverging": [
            [
             0,
             "#8e0152"
            ],
            [
             0.1,
             "#c51b7d"
            ],
            [
             0.2,
             "#de77ae"
            ],
            [
             0.3,
             "#f1b6da"
            ],
            [
             0.4,
             "#fde0ef"
            ],
            [
             0.5,
             "#f7f7f7"
            ],
            [
             0.6,
             "#e6f5d0"
            ],
            [
             0.7,
             "#b8e186"
            ],
            [
             0.8,
             "#7fbc41"
            ],
            [
             0.9,
             "#4d9221"
            ],
            [
             1,
             "#276419"
            ]
           ],
           "sequential": [
            [
             0,
             "#0d0887"
            ],
            [
             0.1111111111111111,
             "#46039f"
            ],
            [
             0.2222222222222222,
             "#7201a8"
            ],
            [
             0.3333333333333333,
             "#9c179e"
            ],
            [
             0.4444444444444444,
             "#bd3786"
            ],
            [
             0.5555555555555556,
             "#d8576b"
            ],
            [
             0.6666666666666666,
             "#ed7953"
            ],
            [
             0.7777777777777778,
             "#fb9f3a"
            ],
            [
             0.8888888888888888,
             "#fdca26"
            ],
            [
             1,
             "#f0f921"
            ]
           ],
           "sequentialminus": [
            [
             0,
             "#0d0887"
            ],
            [
             0.1111111111111111,
             "#46039f"
            ],
            [
             0.2222222222222222,
             "#7201a8"
            ],
            [
             0.3333333333333333,
             "#9c179e"
            ],
            [
             0.4444444444444444,
             "#bd3786"
            ],
            [
             0.5555555555555556,
             "#d8576b"
            ],
            [
             0.6666666666666666,
             "#ed7953"
            ],
            [
             0.7777777777777778,
             "#fb9f3a"
            ],
            [
             0.8888888888888888,
             "#fdca26"
            ],
            [
             1,
             "#f0f921"
            ]
           ]
          },
          "colorway": [
           "#636efa",
           "#EF553B",
           "#00cc96",
           "#ab63fa",
           "#FFA15A",
           "#19d3f3",
           "#FF6692",
           "#B6E880",
           "#FF97FF",
           "#FECB52"
          ],
          "font": {
           "color": "#2a3f5f"
          },
          "geo": {
           "bgcolor": "white",
           "lakecolor": "white",
           "landcolor": "#E5ECF6",
           "showlakes": true,
           "showland": true,
           "subunitcolor": "white"
          },
          "hoverlabel": {
           "align": "left"
          },
          "hovermode": "closest",
          "mapbox": {
           "style": "light"
          },
          "paper_bgcolor": "white",
          "plot_bgcolor": "#E5ECF6",
          "polar": {
           "angularaxis": {
            "gridcolor": "white",
            "linecolor": "white",
            "ticks": ""
           },
           "bgcolor": "#E5ECF6",
           "radialaxis": {
            "gridcolor": "white",
            "linecolor": "white",
            "ticks": ""
           }
          },
          "scene": {
           "xaxis": {
            "backgroundcolor": "#E5ECF6",
            "gridcolor": "white",
            "gridwidth": 2,
            "linecolor": "white",
            "showbackground": true,
            "ticks": "",
            "zerolinecolor": "white"
           },
           "yaxis": {
            "backgroundcolor": "#E5ECF6",
            "gridcolor": "white",
            "gridwidth": 2,
            "linecolor": "white",
            "showbackground": true,
            "ticks": "",
            "zerolinecolor": "white"
           },
           "zaxis": {
            "backgroundcolor": "#E5ECF6",
            "gridcolor": "white",
            "gridwidth": 2,
            "linecolor": "white",
            "showbackground": true,
            "ticks": "",
            "zerolinecolor": "white"
           }
          },
          "shapedefaults": {
           "line": {
            "color": "#2a3f5f"
           }
          },
          "ternary": {
           "aaxis": {
            "gridcolor": "white",
            "linecolor": "white",
            "ticks": ""
           },
           "baxis": {
            "gridcolor": "white",
            "linecolor": "white",
            "ticks": ""
           },
           "bgcolor": "#E5ECF6",
           "caxis": {
            "gridcolor": "white",
            "linecolor": "white",
            "ticks": ""
           }
          },
          "title": {
           "x": 0.05
          },
          "xaxis": {
           "automargin": true,
           "gridcolor": "white",
           "linecolor": "white",
           "ticks": "",
           "title": {
            "standoff": 15
           },
           "zerolinecolor": "white",
           "zerolinewidth": 2
          },
          "yaxis": {
           "automargin": true,
           "gridcolor": "white",
           "linecolor": "white",
           "ticks": "",
           "title": {
            "standoff": 15
           },
           "zerolinecolor": "white",
           "zerolinewidth": 2
          }
         }
        },
        "xaxis": {
         "anchor": "y",
         "domain": [
          0,
          1
         ],
         "title": {
          "text": "value"
         }
        },
        "yaxis": {
         "anchor": "x",
         "domain": [
          0,
          1
         ],
         "title": {
          "text": "Departamento"
         }
        }
       }
      },
      "text/html": [
       "<div>                            <div id=\"497c75bc-d134-4ef4-9297-205fdcb2c2d9\" class=\"plotly-graph-div\" style=\"height:525px; width:100%;\"></div>            <script type=\"text/javascript\">                require([\"plotly\"], function(Plotly) {                    window.PLOTLYENV=window.PLOTLYENV || {};                                    if (document.getElementById(\"497c75bc-d134-4ef4-9297-205fdcb2c2d9\")) {                    Plotly.newPlot(                        \"497c75bc-d134-4ef4-9297-205fdcb2c2d9\",                        [{\"alignmentgroup\":\"True\",\"hovertemplate\":\"value=%{x}\\u003cbr\\u003eDepartamento=%{y}\\u003cbr\\u003ecolor=%{marker.color}\\u003cextra\\u003e\\u003c\\u002fextra\\u003e\",\"legendgroup\":\"\",\"marker\":{\"color\":[661,646,528,418,371,342,326,313,292,243,240,223,206,169,142,134,117,96,92,92,89,78,77,73,69,65,63,58,58,49,48,47,44,43,40,38,38,37,36,32,32,32,31,30,29,29,28,27,27,26,26,25,25,24,24,24,24,23,23,23,23,22,22,22,22,22,20,20,20,19,19,19,18,18,18,18,18,17,16,16,16,16,15,15,15,15,15,14,14,14,14,13,12,11,10,10,10,10,10,9,9,9,9,8,8,8,8,8,7,7,7,7,7,7,7,7,7,6,6,6,6,5,5,5,5,5,5,5,5,5,5,4,4,4,4,4,4,3,3,3,3,3,3,3,3,2,2,2,2,2,2,2,1,1,1,1],\"coloraxis\":\"coloraxis\",\"pattern\":{\"shape\":\"\"}},\"name\":\"\",\"offsetgroup\":\"\",\"orientation\":\"h\",\"showlegend\":false,\"textposition\":\"auto\",\"x\":[661,646,528,418,371,342,326,313,292,243,240,223,206,169,142,134,117,96,92,92,89,78,77,73,69,65,63,58,58,49,48,47,44,43,40,38,38,37,36,32,32,32,31,30,29,29,28,27,27,26,26,25,25,24,24,24,24,23,23,23,23,22,22,22,22,22,20,20,20,19,19,19,18,18,18,18,18,17,16,16,16,16,15,15,15,15,15,14,14,14,14,13,12,11,10,10,10,10,10,9,9,9,9,8,8,8,8,8,7,7,7,7,7,7,7,7,7,6,6,6,6,5,5,5,5,5,5,5,5,5,5,4,4,4,4,4,4,3,3,3,3,3,3,3,3,2,2,2,2,2,2,2,1,1,1,1],\"xaxis\":\"x\",\"y\":[\"0982:SPIRITS\",\"0973:CANDY\",\"0983:WINE\",\"0962:BEVERAGES\",\"0836:HOUSEHOLD CLEANING\",\"0597:HEALTH AIDS\",\"0646:SEASONAL\",\"0991:TOBACCO\",\"0604:PERSONAL CARE\",\"0879:PET SUPPLIES\",\"0603:BEAUTY CARE\",\"0984:BEER\",\"0532:AMERICAN GREETINGS\",\"0961:GENERAL GROCERIES\",\"0640:TOYS\",\"0530:SCHOOL\\u002fOFFIC SUPP\",\"0072:BARBER SERVICES\",\"0360:MENS FURNISHINGS\",\"0837:GENERAL HOUSEWARES\",\"0644:SPORTS NUTRITION\",\"0590:MASS COSMETICS\",\"0638:GEN SPORTING GOODS\",\"0884:LAWN & GARDEN\",\"0593:PRESTIGE COSMETICS\",\"0380:MENS ACTIVEWEAR\",\"0826:SMALL ELECTRICS\",\"0261:HOSIERY\",\"0598:BABY CARE\",\"0595:HOME\\u002fBATH\",\"0240:SLEEPWEAR\\u002fLOUNGEWEAR\",\"0531:STATIONERY SUNDRIES\",\"0797:SEASONAL GIFTS\",\"0861:GENERAL HARDWARE\",\"0415:NEWBORN APPAREL\",\"0581:BRIDGE JEWELRY\",\"0815:AUDIO ELECTRONICS\",\"0822:THIRD PARTY GIFTCARD\",\"0931:BATH\",\"0634:VITAMINS & HLTH AIDS\",\"0930:TABLE TOP & KITCHEN\",\"0230:DAYWEAR\",\"0416:INFANT APPAREL\",\"0449:GIRLS ACCESSORIES\",\"0161:MISSY KAREN SCOTT\",\"0469:BOYS ACCESSORIES\",\"0359:MENS ACCESSORIES\",\"0795:HOME DECOR\",\"0369:YOUNG MENS\",\"0440:GIRLS 7-16 CLOTHING\",\"0846:BATTERIES\",\"0280:FASHION ACCESSORIES\",\"0845:AS SEEN ON TV\",\"0589:SUNGLASSES\",\"0071:BEAUTY RETAIL\",\"0391:MENS SHOES\",\"0271:HANDBAGS\",\"0368:TRAD COLLECTIONS\",\"0585:WATCHES\",\"0811:TELEVISION\",\"0486:CHILDRENS FOOTWEAR\",\"0850:PC HDWR & OFFICE EQP\",\"0110:LDS OUTERWEAR\\u002fOUTDR\",\"0343:MENS DENIM JEANS\",\"0193:LADIES ACTIVEWEAR\",\"0353:MENS OUTDOOR\",\"0167:MISSY TOPS\",\"0854:VIDEO GAMES\",\"0470:BOYS 8-20 CLOTHING\",\"0680:AUTOMOTIVE\",\"0421:TODDLER GIRL APPAREL\",\"0056:SOUVENIR\",\"0941:BEDDING\",\"0722:OUTDOOR LIVING\",\"0639:TEAM SPORTING GOODS\",\"0554:TELECOMMUNICATIONS\",\"0395:MENS ATHLETIC SHOES\",\"0163:JUNIOR TOPS\",\"0510:NAVY PRIDE HARDLINES\",\"0636:FITNESS\\u002fEXERCISE\",\"0833:TABLETOP\",\"0016:FINANCIAL SERVICES\",\"0839:HOME ORG\\u002fSOLUTIONS\",\"0551:CAMERAS & EQUIP\",\"0098:WAREHOUSED EXPENSES\",\"0210:FOUNDATIONS\",\"0411:PEGABLES\",\"0291:WOMENS FTWR:DRS\\u002fCAS\",\"0645:BIKES\",\"0856:GLUES\\u002fTAPES\\u002fACC\",\"0857:PC PERIPH\\u002fOFFICE ACC\",\"0965:PERISHABLES\",\"0999:UNSCANNED ITEMS\",\"0358:MENS DRESS SHIRTS\",\"0355:MENS SPORT SHIRTS\",\"0076:FLORAL RETAIL\",\"0012:LOCAL GIFTS\\u002fFOODS\",\"0592:WMNS PRESTIGE FRAG\",\"0533:PAPYRUS\",\"0460:BOYS 4-7 CLOTHING\",\"0177:PETITE SEPARATES\",\"0354:MENS MODERN COLLECT\",\"0511:NAVY PRIDE SOFTLINES\",\"0819:PRE-RECORDED A\\u002fV\",\"0430:GIRLS 4-6X CLOTHING\",\"0583:DIAMONDS\\u002fBRIDAL\",\"0851:PC HARDWARE\",\"0009:FLORAL SERV\\u002fSUPPLIES\",\"0130:JUNIORS SURF\",\"0632:DIGITAL FITNESS\",\"0838:FLOOR CARE\",\"0860:NETWORKING\",\"0637:FISHING\",\"0596:MENS PRESTIGE FRAG\",\"0601:VALUE ZONE\",\"0541:BOOKS AND MAPS\",\"0295:WOMENS ATHLTIC SHOES\",\"0586:COSTUME JEWELRY\",\"0188:STYLE & CO\",\"0340:MENS CASUAL SLACKS\",\"0540:PERIODICALS\\u002fCOMICS\",\"0178:DENIM COLLECTIONS\",\"0179:MODERATE DENIM\",\"0165:LIFE IS GOOD\",\"0002:BARBER RETAIL\",\"0173:JUNIOR BOTTOMS\",\"0131:LADIES DRESSES\",\"0426:TODDLER BOY APPAREL\",\"0582:GOLD\",\"0661:LUGGAGE\",\"0584:GEMSTONES\",\"0834:COOKWARE\",\"0171:MISSY BOTTOMS\",\"0816:VIDEO ELECTRONICS\",\"0823:SMART HOME\",\"0859:iPAD\",\"0346:LIFE STYLE DENIM\",\"0018:OTHER DIRECT SERVICE\",\"0181:LADIES MODERN COLLEC\",\"0175:WOMENS SEPARATES\",\"0591:MASS FRAGRANCES\",\"0863:POWER EQUIPMENT\",\"0310:MENS OUTERWEAR\",\"0439:JUVENILLE FURNITURE\",\"0186:JUNIOR DRESSES\",\"0320:MNS TAILORED CLOTHNG\",\"0587:JEWELRY CONSIGNMENT\",\"0182:CLASSIC COLLECTIONS\",\"0033:VENDING RETAIL\",\"0853:DIMAGE\\u002fPHONE\\u002fGPS\\u002fACC\",\"0852:COMPUTER SOFTWARE\",\"0940:HOME TEXTILES\",\"0220:SHAPEWEAR\",\"0099:MISC CUSTOM SERVICES\",\"0066:VENDING\\u002fAMUSEMENT MA\",\"0014:REPAIRS\",\"0817:WEARABLES\"],\"yaxis\":\"y\",\"type\":\"bar\"}],                        {\"template\":{\"data\":{\"histogram2dcontour\":[{\"type\":\"histogram2dcontour\",\"colorbar\":{\"outlinewidth\":0,\"ticks\":\"\"},\"colorscale\":[[0.0,\"#0d0887\"],[0.1111111111111111,\"#46039f\"],[0.2222222222222222,\"#7201a8\"],[0.3333333333333333,\"#9c179e\"],[0.4444444444444444,\"#bd3786\"],[0.5555555555555556,\"#d8576b\"],[0.6666666666666666,\"#ed7953\"],[0.7777777777777778,\"#fb9f3a\"],[0.8888888888888888,\"#fdca26\"],[1.0,\"#f0f921\"]]}],\"choropleth\":[{\"type\":\"choropleth\",\"colorbar\":{\"outlinewidth\":0,\"ticks\":\"\"}}],\"histogram2d\":[{\"type\":\"histogram2d\",\"colorbar\":{\"outlinewidth\":0,\"ticks\":\"\"},\"colorscale\":[[0.0,\"#0d0887\"],[0.1111111111111111,\"#46039f\"],[0.2222222222222222,\"#7201a8\"],[0.3333333333333333,\"#9c179e\"],[0.4444444444444444,\"#bd3786\"],[0.5555555555555556,\"#d8576b\"],[0.6666666666666666,\"#ed7953\"],[0.7777777777777778,\"#fb9f3a\"],[0.8888888888888888,\"#fdca26\"],[1.0,\"#f0f921\"]]}],\"heatmap\":[{\"type\":\"heatmap\",\"colorbar\":{\"outlinewidth\":0,\"ticks\":\"\"},\"colorscale\":[[0.0,\"#0d0887\"],[0.1111111111111111,\"#46039f\"],[0.2222222222222222,\"#7201a8\"],[0.3333333333333333,\"#9c179e\"],[0.4444444444444444,\"#bd3786\"],[0.5555555555555556,\"#d8576b\"],[0.6666666666666666,\"#ed7953\"],[0.7777777777777778,\"#fb9f3a\"],[0.8888888888888888,\"#fdca26\"],[1.0,\"#f0f921\"]]}],\"heatmapgl\":[{\"type\":\"heatmapgl\",\"colorbar\":{\"outlinewidth\":0,\"ticks\":\"\"},\"colorscale\":[[0.0,\"#0d0887\"],[0.1111111111111111,\"#46039f\"],[0.2222222222222222,\"#7201a8\"],[0.3333333333333333,\"#9c179e\"],[0.4444444444444444,\"#bd3786\"],[0.5555555555555556,\"#d8576b\"],[0.6666666666666666,\"#ed7953\"],[0.7777777777777778,\"#fb9f3a\"],[0.8888888888888888,\"#fdca26\"],[1.0,\"#f0f921\"]]}],\"contourcarpet\":[{\"type\":\"contourcarpet\",\"colorbar\":{\"outlinewidth\":0,\"ticks\":\"\"}}],\"contour\":[{\"type\":\"contour\",\"colorbar\":{\"outlinewidth\":0,\"ticks\":\"\"},\"colorscale\":[[0.0,\"#0d0887\"],[0.1111111111111111,\"#46039f\"],[0.2222222222222222,\"#7201a8\"],[0.3333333333333333,\"#9c179e\"],[0.4444444444444444,\"#bd3786\"],[0.5555555555555556,\"#d8576b\"],[0.6666666666666666,\"#ed7953\"],[0.7777777777777778,\"#fb9f3a\"],[0.8888888888888888,\"#fdca26\"],[1.0,\"#f0f921\"]]}],\"surface\":[{\"type\":\"surface\",\"colorbar\":{\"outlinewidth\":0,\"ticks\":\"\"},\"colorscale\":[[0.0,\"#0d0887\"],[0.1111111111111111,\"#46039f\"],[0.2222222222222222,\"#7201a8\"],[0.3333333333333333,\"#9c179e\"],[0.4444444444444444,\"#bd3786\"],[0.5555555555555556,\"#d8576b\"],[0.6666666666666666,\"#ed7953\"],[0.7777777777777778,\"#fb9f3a\"],[0.8888888888888888,\"#fdca26\"],[1.0,\"#f0f921\"]]}],\"mesh3d\":[{\"type\":\"mesh3d\",\"colorbar\":{\"outlinewidth\":0,\"ticks\":\"\"}}],\"scatter\":[{\"fillpattern\":{\"fillmode\":\"overlay\",\"size\":10,\"solidity\":0.2},\"type\":\"scatter\"}],\"parcoords\":[{\"type\":\"parcoords\",\"line\":{\"colorbar\":{\"outlinewidth\":0,\"ticks\":\"\"}}}],\"scatterpolargl\":[{\"type\":\"scatterpolargl\",\"marker\":{\"colorbar\":{\"outlinewidth\":0,\"ticks\":\"\"}}}],\"bar\":[{\"error_x\":{\"color\":\"#2a3f5f\"},\"error_y\":{\"color\":\"#2a3f5f\"},\"marker\":{\"line\":{\"color\":\"#E5ECF6\",\"width\":0.5},\"pattern\":{\"fillmode\":\"overlay\",\"size\":10,\"solidity\":0.2}},\"type\":\"bar\"}],\"scattergeo\":[{\"type\":\"scattergeo\",\"marker\":{\"colorbar\":{\"outlinewidth\":0,\"ticks\":\"\"}}}],\"scatterpolar\":[{\"type\":\"scatterpolar\",\"marker\":{\"colorbar\":{\"outlinewidth\":0,\"ticks\":\"\"}}}],\"histogram\":[{\"marker\":{\"pattern\":{\"fillmode\":\"overlay\",\"size\":10,\"solidity\":0.2}},\"type\":\"histogram\"}],\"scattergl\":[{\"type\":\"scattergl\",\"marker\":{\"colorbar\":{\"outlinewidth\":0,\"ticks\":\"\"}}}],\"scatter3d\":[{\"type\":\"scatter3d\",\"line\":{\"colorbar\":{\"outlinewidth\":0,\"ticks\":\"\"}},\"marker\":{\"colorbar\":{\"outlinewidth\":0,\"ticks\":\"\"}}}],\"scattermapbox\":[{\"type\":\"scattermapbox\",\"marker\":{\"colorbar\":{\"outlinewidth\":0,\"ticks\":\"\"}}}],\"scatterternary\":[{\"type\":\"scatterternary\",\"marker\":{\"colorbar\":{\"outlinewidth\":0,\"ticks\":\"\"}}}],\"scattercarpet\":[{\"type\":\"scattercarpet\",\"marker\":{\"colorbar\":{\"outlinewidth\":0,\"ticks\":\"\"}}}],\"carpet\":[{\"aaxis\":{\"endlinecolor\":\"#2a3f5f\",\"gridcolor\":\"white\",\"linecolor\":\"white\",\"minorgridcolor\":\"white\",\"startlinecolor\":\"#2a3f5f\"},\"baxis\":{\"endlinecolor\":\"#2a3f5f\",\"gridcolor\":\"white\",\"linecolor\":\"white\",\"minorgridcolor\":\"white\",\"startlinecolor\":\"#2a3f5f\"},\"type\":\"carpet\"}],\"table\":[{\"cells\":{\"fill\":{\"color\":\"#EBF0F8\"},\"line\":{\"color\":\"white\"}},\"header\":{\"fill\":{\"color\":\"#C8D4E3\"},\"line\":{\"color\":\"white\"}},\"type\":\"table\"}],\"barpolar\":[{\"marker\":{\"line\":{\"color\":\"#E5ECF6\",\"width\":0.5},\"pattern\":{\"fillmode\":\"overlay\",\"size\":10,\"solidity\":0.2}},\"type\":\"barpolar\"}],\"pie\":[{\"automargin\":true,\"type\":\"pie\"}]},\"layout\":{\"autotypenumbers\":\"strict\",\"colorway\":[\"#636efa\",\"#EF553B\",\"#00cc96\",\"#ab63fa\",\"#FFA15A\",\"#19d3f3\",\"#FF6692\",\"#B6E880\",\"#FF97FF\",\"#FECB52\"],\"font\":{\"color\":\"#2a3f5f\"},\"hovermode\":\"closest\",\"hoverlabel\":{\"align\":\"left\"},\"paper_bgcolor\":\"white\",\"plot_bgcolor\":\"#E5ECF6\",\"polar\":{\"bgcolor\":\"#E5ECF6\",\"angularaxis\":{\"gridcolor\":\"white\",\"linecolor\":\"white\",\"ticks\":\"\"},\"radialaxis\":{\"gridcolor\":\"white\",\"linecolor\":\"white\",\"ticks\":\"\"}},\"ternary\":{\"bgcolor\":\"#E5ECF6\",\"aaxis\":{\"gridcolor\":\"white\",\"linecolor\":\"white\",\"ticks\":\"\"},\"baxis\":{\"gridcolor\":\"white\",\"linecolor\":\"white\",\"ticks\":\"\"},\"caxis\":{\"gridcolor\":\"white\",\"linecolor\":\"white\",\"ticks\":\"\"}},\"coloraxis\":{\"colorbar\":{\"outlinewidth\":0,\"ticks\":\"\"}},\"colorscale\":{\"sequential\":[[0.0,\"#0d0887\"],[0.1111111111111111,\"#46039f\"],[0.2222222222222222,\"#7201a8\"],[0.3333333333333333,\"#9c179e\"],[0.4444444444444444,\"#bd3786\"],[0.5555555555555556,\"#d8576b\"],[0.6666666666666666,\"#ed7953\"],[0.7777777777777778,\"#fb9f3a\"],[0.8888888888888888,\"#fdca26\"],[1.0,\"#f0f921\"]],\"sequentialminus\":[[0.0,\"#0d0887\"],[0.1111111111111111,\"#46039f\"],[0.2222222222222222,\"#7201a8\"],[0.3333333333333333,\"#9c179e\"],[0.4444444444444444,\"#bd3786\"],[0.5555555555555556,\"#d8576b\"],[0.6666666666666666,\"#ed7953\"],[0.7777777777777778,\"#fb9f3a\"],[0.8888888888888888,\"#fdca26\"],[1.0,\"#f0f921\"]],\"diverging\":[[0,\"#8e0152\"],[0.1,\"#c51b7d\"],[0.2,\"#de77ae\"],[0.3,\"#f1b6da\"],[0.4,\"#fde0ef\"],[0.5,\"#f7f7f7\"],[0.6,\"#e6f5d0\"],[0.7,\"#b8e186\"],[0.8,\"#7fbc41\"],[0.9,\"#4d9221\"],[1,\"#276419\"]]},\"xaxis\":{\"gridcolor\":\"white\",\"linecolor\":\"white\",\"ticks\":\"\",\"title\":{\"standoff\":15},\"zerolinecolor\":\"white\",\"automargin\":true,\"zerolinewidth\":2},\"yaxis\":{\"gridcolor\":\"white\",\"linecolor\":\"white\",\"ticks\":\"\",\"title\":{\"standoff\":15},\"zerolinecolor\":\"white\",\"automargin\":true,\"zerolinewidth\":2},\"scene\":{\"xaxis\":{\"backgroundcolor\":\"#E5ECF6\",\"gridcolor\":\"white\",\"linecolor\":\"white\",\"showbackground\":true,\"ticks\":\"\",\"zerolinecolor\":\"white\",\"gridwidth\":2},\"yaxis\":{\"backgroundcolor\":\"#E5ECF6\",\"gridcolor\":\"white\",\"linecolor\":\"white\",\"showbackground\":true,\"ticks\":\"\",\"zerolinecolor\":\"white\",\"gridwidth\":2},\"zaxis\":{\"backgroundcolor\":\"#E5ECF6\",\"gridcolor\":\"white\",\"linecolor\":\"white\",\"showbackground\":true,\"ticks\":\"\",\"zerolinecolor\":\"white\",\"gridwidth\":2}},\"shapedefaults\":{\"line\":{\"color\":\"#2a3f5f\"}},\"annotationdefaults\":{\"arrowcolor\":\"#2a3f5f\",\"arrowhead\":0,\"arrowwidth\":1},\"geo\":{\"bgcolor\":\"white\",\"landcolor\":\"#E5ECF6\",\"subunitcolor\":\"white\",\"showland\":true,\"showlakes\":true,\"lakecolor\":\"white\"},\"title\":{\"x\":0.05},\"mapbox\":{\"style\":\"light\"}}},\"xaxis\":{\"anchor\":\"y\",\"domain\":[0.0,1.0],\"title\":{\"text\":\"value\"}},\"yaxis\":{\"anchor\":\"x\",\"domain\":[0.0,1.0],\"title\":{\"text\":\"Departamento\"}},\"coloraxis\":{\"colorbar\":{\"title\":{\"text\":\"color\"}},\"colorscale\":[[0.0,\"#0d0887\"],[0.1111111111111111,\"#46039f\"],[0.2222222222222222,\"#7201a8\"],[0.3333333333333333,\"#9c179e\"],[0.4444444444444444,\"#bd3786\"],[0.5555555555555556,\"#d8576b\"],[0.6666666666666666,\"#ed7953\"],[0.7777777777777778,\"#fb9f3a\"],[0.8888888888888888,\"#fdca26\"],[1.0,\"#f0f921\"]]},\"legend\":{\"tracegroupgap\":0},\"margin\":{\"t\":60},\"barmode\":\"relative\",\"showlegend\":false},                        {\"responsive\": true}                    ).then(function(){\n",
       "                            \n",
       "var gd = document.getElementById('497c75bc-d134-4ef4-9297-205fdcb2c2d9');\n",
       "var x = new MutationObserver(function (mutations, observer) {{\n",
       "        var display = window.getComputedStyle(gd).display;\n",
       "        if (!display || display === 'none') {{\n",
       "            console.log([gd, 'removed!']);\n",
       "            Plotly.purge(gd);\n",
       "            observer.disconnect();\n",
       "        }}\n",
       "}});\n",
       "\n",
       "// Listen for the removal of the full notebook cells\n",
       "var notebookContainer = gd.closest('#notebook-container');\n",
       "if (notebookContainer) {{\n",
       "    x.observe(notebookContainer, {childList: true});\n",
       "}}\n",
       "\n",
       "// Listen for the clearing of the current output cell\n",
       "var outputEl = gd.closest('.output');\n",
       "if (outputEl) {{\n",
       "    x.observe(outputEl, {childList: true});\n",
       "}}\n",
       "\n",
       "                        })                };                });            </script>        </div>"
      ]
     },
     "metadata": {},
     "output_type": "display_data"
    }
   ],
   "source": [
    "# Qual departamentos tem maior volume de transações e maior quantidade de unidades vendidas?\n",
    "# Parte 2: Quantidade de unidades vendidas\n",
    "\n",
    "# Soma de Unidades Vendidas das transações onde cada departamento aparece\n",
    "soma_quantidades_por_departamentos = df_transacoes.groupby('Departamento')['Qtde_Vendida'].sum().sort_values(ascending=False)\n",
    "\n",
    "# Plot\n",
    "fig_unidades_vendidas = px.bar(soma_quantidades_por_departamentos, color=soma_quantidades_por_departamentos, orientation='h')\n",
    "fig_unidades_vendidas.update_layout(showlegend=False)\n",
    "fig_unidades_vendidas.show()"
   ]
  },
  {
   "cell_type": "code",
   "execution_count": 113,
   "id": "a5d4d3e8",
   "metadata": {},
   "outputs": [
    {
     "data": {
      "application/vnd.plotly.v1+json": {
       "config": {
        "plotlyServerURL": "https://plot.ly"
       },
       "data": [
        {
         "alignmentgroup": "True",
         "hovertemplate": "value=%{x}<br>Departamento=%{y}<br>color=%{marker.color}<extra></extra>",
         "legendgroup": "",
         "marker": {
          "color": [
           661,
           646,
           528,
           418,
           371,
           342,
           326,
           313,
           292,
           243
          ],
          "coloraxis": "coloraxis",
          "pattern": {
           "shape": ""
          }
         },
         "name": "",
         "offsetgroup": "",
         "orientation": "h",
         "showlegend": false,
         "textposition": "auto",
         "type": "bar",
         "x": [
          661,
          646,
          528,
          418,
          371,
          342,
          326,
          313,
          292,
          243
         ],
         "xaxis": "x",
         "y": [
          "0982:SPIRITS",
          "0973:CANDY",
          "0983:WINE",
          "0962:BEVERAGES",
          "0836:HOUSEHOLD CLEANING",
          "0597:HEALTH AIDS",
          "0646:SEASONAL",
          "0991:TOBACCO",
          "0604:PERSONAL CARE",
          "0879:PET SUPPLIES"
         ],
         "yaxis": "y"
        }
       ],
       "layout": {
        "barmode": "relative",
        "coloraxis": {
         "colorbar": {
          "title": {
           "text": "color"
          }
         },
         "colorscale": [
          [
           0,
           "#0d0887"
          ],
          [
           0.1111111111111111,
           "#46039f"
          ],
          [
           0.2222222222222222,
           "#7201a8"
          ],
          [
           0.3333333333333333,
           "#9c179e"
          ],
          [
           0.4444444444444444,
           "#bd3786"
          ],
          [
           0.5555555555555556,
           "#d8576b"
          ],
          [
           0.6666666666666666,
           "#ed7953"
          ],
          [
           0.7777777777777778,
           "#fb9f3a"
          ],
          [
           0.8888888888888888,
           "#fdca26"
          ],
          [
           1,
           "#f0f921"
          ]
         ]
        },
        "legend": {
         "tracegroupgap": 0
        },
        "margin": {
         "t": 60
        },
        "showlegend": false,
        "template": {
         "data": {
          "bar": [
           {
            "error_x": {
             "color": "#2a3f5f"
            },
            "error_y": {
             "color": "#2a3f5f"
            },
            "marker": {
             "line": {
              "color": "#E5ECF6",
              "width": 0.5
             },
             "pattern": {
              "fillmode": "overlay",
              "size": 10,
              "solidity": 0.2
             }
            },
            "type": "bar"
           }
          ],
          "barpolar": [
           {
            "marker": {
             "line": {
              "color": "#E5ECF6",
              "width": 0.5
             },
             "pattern": {
              "fillmode": "overlay",
              "size": 10,
              "solidity": 0.2
             }
            },
            "type": "barpolar"
           }
          ],
          "carpet": [
           {
            "aaxis": {
             "endlinecolor": "#2a3f5f",
             "gridcolor": "white",
             "linecolor": "white",
             "minorgridcolor": "white",
             "startlinecolor": "#2a3f5f"
            },
            "baxis": {
             "endlinecolor": "#2a3f5f",
             "gridcolor": "white",
             "linecolor": "white",
             "minorgridcolor": "white",
             "startlinecolor": "#2a3f5f"
            },
            "type": "carpet"
           }
          ],
          "choropleth": [
           {
            "colorbar": {
             "outlinewidth": 0,
             "ticks": ""
            },
            "type": "choropleth"
           }
          ],
          "contour": [
           {
            "colorbar": {
             "outlinewidth": 0,
             "ticks": ""
            },
            "colorscale": [
             [
              0,
              "#0d0887"
             ],
             [
              0.1111111111111111,
              "#46039f"
             ],
             [
              0.2222222222222222,
              "#7201a8"
             ],
             [
              0.3333333333333333,
              "#9c179e"
             ],
             [
              0.4444444444444444,
              "#bd3786"
             ],
             [
              0.5555555555555556,
              "#d8576b"
             ],
             [
              0.6666666666666666,
              "#ed7953"
             ],
             [
              0.7777777777777778,
              "#fb9f3a"
             ],
             [
              0.8888888888888888,
              "#fdca26"
             ],
             [
              1,
              "#f0f921"
             ]
            ],
            "type": "contour"
           }
          ],
          "contourcarpet": [
           {
            "colorbar": {
             "outlinewidth": 0,
             "ticks": ""
            },
            "type": "contourcarpet"
           }
          ],
          "heatmap": [
           {
            "colorbar": {
             "outlinewidth": 0,
             "ticks": ""
            },
            "colorscale": [
             [
              0,
              "#0d0887"
             ],
             [
              0.1111111111111111,
              "#46039f"
             ],
             [
              0.2222222222222222,
              "#7201a8"
             ],
             [
              0.3333333333333333,
              "#9c179e"
             ],
             [
              0.4444444444444444,
              "#bd3786"
             ],
             [
              0.5555555555555556,
              "#d8576b"
             ],
             [
              0.6666666666666666,
              "#ed7953"
             ],
             [
              0.7777777777777778,
              "#fb9f3a"
             ],
             [
              0.8888888888888888,
              "#fdca26"
             ],
             [
              1,
              "#f0f921"
             ]
            ],
            "type": "heatmap"
           }
          ],
          "heatmapgl": [
           {
            "colorbar": {
             "outlinewidth": 0,
             "ticks": ""
            },
            "colorscale": [
             [
              0,
              "#0d0887"
             ],
             [
              0.1111111111111111,
              "#46039f"
             ],
             [
              0.2222222222222222,
              "#7201a8"
             ],
             [
              0.3333333333333333,
              "#9c179e"
             ],
             [
              0.4444444444444444,
              "#bd3786"
             ],
             [
              0.5555555555555556,
              "#d8576b"
             ],
             [
              0.6666666666666666,
              "#ed7953"
             ],
             [
              0.7777777777777778,
              "#fb9f3a"
             ],
             [
              0.8888888888888888,
              "#fdca26"
             ],
             [
              1,
              "#f0f921"
             ]
            ],
            "type": "heatmapgl"
           }
          ],
          "histogram": [
           {
            "marker": {
             "pattern": {
              "fillmode": "overlay",
              "size": 10,
              "solidity": 0.2
             }
            },
            "type": "histogram"
           }
          ],
          "histogram2d": [
           {
            "colorbar": {
             "outlinewidth": 0,
             "ticks": ""
            },
            "colorscale": [
             [
              0,
              "#0d0887"
             ],
             [
              0.1111111111111111,
              "#46039f"
             ],
             [
              0.2222222222222222,
              "#7201a8"
             ],
             [
              0.3333333333333333,
              "#9c179e"
             ],
             [
              0.4444444444444444,
              "#bd3786"
             ],
             [
              0.5555555555555556,
              "#d8576b"
             ],
             [
              0.6666666666666666,
              "#ed7953"
             ],
             [
              0.7777777777777778,
              "#fb9f3a"
             ],
             [
              0.8888888888888888,
              "#fdca26"
             ],
             [
              1,
              "#f0f921"
             ]
            ],
            "type": "histogram2d"
           }
          ],
          "histogram2dcontour": [
           {
            "colorbar": {
             "outlinewidth": 0,
             "ticks": ""
            },
            "colorscale": [
             [
              0,
              "#0d0887"
             ],
             [
              0.1111111111111111,
              "#46039f"
             ],
             [
              0.2222222222222222,
              "#7201a8"
             ],
             [
              0.3333333333333333,
              "#9c179e"
             ],
             [
              0.4444444444444444,
              "#bd3786"
             ],
             [
              0.5555555555555556,
              "#d8576b"
             ],
             [
              0.6666666666666666,
              "#ed7953"
             ],
             [
              0.7777777777777778,
              "#fb9f3a"
             ],
             [
              0.8888888888888888,
              "#fdca26"
             ],
             [
              1,
              "#f0f921"
             ]
            ],
            "type": "histogram2dcontour"
           }
          ],
          "mesh3d": [
           {
            "colorbar": {
             "outlinewidth": 0,
             "ticks": ""
            },
            "type": "mesh3d"
           }
          ],
          "parcoords": [
           {
            "line": {
             "colorbar": {
              "outlinewidth": 0,
              "ticks": ""
             }
            },
            "type": "parcoords"
           }
          ],
          "pie": [
           {
            "automargin": true,
            "type": "pie"
           }
          ],
          "scatter": [
           {
            "fillpattern": {
             "fillmode": "overlay",
             "size": 10,
             "solidity": 0.2
            },
            "type": "scatter"
           }
          ],
          "scatter3d": [
           {
            "line": {
             "colorbar": {
              "outlinewidth": 0,
              "ticks": ""
             }
            },
            "marker": {
             "colorbar": {
              "outlinewidth": 0,
              "ticks": ""
             }
            },
            "type": "scatter3d"
           }
          ],
          "scattercarpet": [
           {
            "marker": {
             "colorbar": {
              "outlinewidth": 0,
              "ticks": ""
             }
            },
            "type": "scattercarpet"
           }
          ],
          "scattergeo": [
           {
            "marker": {
             "colorbar": {
              "outlinewidth": 0,
              "ticks": ""
             }
            },
            "type": "scattergeo"
           }
          ],
          "scattergl": [
           {
            "marker": {
             "colorbar": {
              "outlinewidth": 0,
              "ticks": ""
             }
            },
            "type": "scattergl"
           }
          ],
          "scattermapbox": [
           {
            "marker": {
             "colorbar": {
              "outlinewidth": 0,
              "ticks": ""
             }
            },
            "type": "scattermapbox"
           }
          ],
          "scatterpolar": [
           {
            "marker": {
             "colorbar": {
              "outlinewidth": 0,
              "ticks": ""
             }
            },
            "type": "scatterpolar"
           }
          ],
          "scatterpolargl": [
           {
            "marker": {
             "colorbar": {
              "outlinewidth": 0,
              "ticks": ""
             }
            },
            "type": "scatterpolargl"
           }
          ],
          "scatterternary": [
           {
            "marker": {
             "colorbar": {
              "outlinewidth": 0,
              "ticks": ""
             }
            },
            "type": "scatterternary"
           }
          ],
          "surface": [
           {
            "colorbar": {
             "outlinewidth": 0,
             "ticks": ""
            },
            "colorscale": [
             [
              0,
              "#0d0887"
             ],
             [
              0.1111111111111111,
              "#46039f"
             ],
             [
              0.2222222222222222,
              "#7201a8"
             ],
             [
              0.3333333333333333,
              "#9c179e"
             ],
             [
              0.4444444444444444,
              "#bd3786"
             ],
             [
              0.5555555555555556,
              "#d8576b"
             ],
             [
              0.6666666666666666,
              "#ed7953"
             ],
             [
              0.7777777777777778,
              "#fb9f3a"
             ],
             [
              0.8888888888888888,
              "#fdca26"
             ],
             [
              1,
              "#f0f921"
             ]
            ],
            "type": "surface"
           }
          ],
          "table": [
           {
            "cells": {
             "fill": {
              "color": "#EBF0F8"
             },
             "line": {
              "color": "white"
             }
            },
            "header": {
             "fill": {
              "color": "#C8D4E3"
             },
             "line": {
              "color": "white"
             }
            },
            "type": "table"
           }
          ]
         },
         "layout": {
          "annotationdefaults": {
           "arrowcolor": "#2a3f5f",
           "arrowhead": 0,
           "arrowwidth": 1
          },
          "autotypenumbers": "strict",
          "coloraxis": {
           "colorbar": {
            "outlinewidth": 0,
            "ticks": ""
           }
          },
          "colorscale": {
           "diverging": [
            [
             0,
             "#8e0152"
            ],
            [
             0.1,
             "#c51b7d"
            ],
            [
             0.2,
             "#de77ae"
            ],
            [
             0.3,
             "#f1b6da"
            ],
            [
             0.4,
             "#fde0ef"
            ],
            [
             0.5,
             "#f7f7f7"
            ],
            [
             0.6,
             "#e6f5d0"
            ],
            [
             0.7,
             "#b8e186"
            ],
            [
             0.8,
             "#7fbc41"
            ],
            [
             0.9,
             "#4d9221"
            ],
            [
             1,
             "#276419"
            ]
           ],
           "sequential": [
            [
             0,
             "#0d0887"
            ],
            [
             0.1111111111111111,
             "#46039f"
            ],
            [
             0.2222222222222222,
             "#7201a8"
            ],
            [
             0.3333333333333333,
             "#9c179e"
            ],
            [
             0.4444444444444444,
             "#bd3786"
            ],
            [
             0.5555555555555556,
             "#d8576b"
            ],
            [
             0.6666666666666666,
             "#ed7953"
            ],
            [
             0.7777777777777778,
             "#fb9f3a"
            ],
            [
             0.8888888888888888,
             "#fdca26"
            ],
            [
             1,
             "#f0f921"
            ]
           ],
           "sequentialminus": [
            [
             0,
             "#0d0887"
            ],
            [
             0.1111111111111111,
             "#46039f"
            ],
            [
             0.2222222222222222,
             "#7201a8"
            ],
            [
             0.3333333333333333,
             "#9c179e"
            ],
            [
             0.4444444444444444,
             "#bd3786"
            ],
            [
             0.5555555555555556,
             "#d8576b"
            ],
            [
             0.6666666666666666,
             "#ed7953"
            ],
            [
             0.7777777777777778,
             "#fb9f3a"
            ],
            [
             0.8888888888888888,
             "#fdca26"
            ],
            [
             1,
             "#f0f921"
            ]
           ]
          },
          "colorway": [
           "#636efa",
           "#EF553B",
           "#00cc96",
           "#ab63fa",
           "#FFA15A",
           "#19d3f3",
           "#FF6692",
           "#B6E880",
           "#FF97FF",
           "#FECB52"
          ],
          "font": {
           "color": "#2a3f5f"
          },
          "geo": {
           "bgcolor": "white",
           "lakecolor": "white",
           "landcolor": "#E5ECF6",
           "showlakes": true,
           "showland": true,
           "subunitcolor": "white"
          },
          "hoverlabel": {
           "align": "left"
          },
          "hovermode": "closest",
          "mapbox": {
           "style": "light"
          },
          "paper_bgcolor": "white",
          "plot_bgcolor": "#E5ECF6",
          "polar": {
           "angularaxis": {
            "gridcolor": "white",
            "linecolor": "white",
            "ticks": ""
           },
           "bgcolor": "#E5ECF6",
           "radialaxis": {
            "gridcolor": "white",
            "linecolor": "white",
            "ticks": ""
           }
          },
          "scene": {
           "xaxis": {
            "backgroundcolor": "#E5ECF6",
            "gridcolor": "white",
            "gridwidth": 2,
            "linecolor": "white",
            "showbackground": true,
            "ticks": "",
            "zerolinecolor": "white"
           },
           "yaxis": {
            "backgroundcolor": "#E5ECF6",
            "gridcolor": "white",
            "gridwidth": 2,
            "linecolor": "white",
            "showbackground": true,
            "ticks": "",
            "zerolinecolor": "white"
           },
           "zaxis": {
            "backgroundcolor": "#E5ECF6",
            "gridcolor": "white",
            "gridwidth": 2,
            "linecolor": "white",
            "showbackground": true,
            "ticks": "",
            "zerolinecolor": "white"
           }
          },
          "shapedefaults": {
           "line": {
            "color": "#2a3f5f"
           }
          },
          "ternary": {
           "aaxis": {
            "gridcolor": "white",
            "linecolor": "white",
            "ticks": ""
           },
           "baxis": {
            "gridcolor": "white",
            "linecolor": "white",
            "ticks": ""
           },
           "bgcolor": "#E5ECF6",
           "caxis": {
            "gridcolor": "white",
            "linecolor": "white",
            "ticks": ""
           }
          },
          "title": {
           "x": 0.05
          },
          "xaxis": {
           "automargin": true,
           "gridcolor": "white",
           "linecolor": "white",
           "ticks": "",
           "title": {
            "standoff": 15
           },
           "zerolinecolor": "white",
           "zerolinewidth": 2
          },
          "yaxis": {
           "automargin": true,
           "gridcolor": "white",
           "linecolor": "white",
           "ticks": "",
           "title": {
            "standoff": 15
           },
           "zerolinecolor": "white",
           "zerolinewidth": 2
          }
         }
        },
        "xaxis": {
         "anchor": "y",
         "domain": [
          0,
          1
         ],
         "title": {
          "text": "value"
         }
        },
        "yaxis": {
         "anchor": "x",
         "domain": [
          0,
          1
         ],
         "title": {
          "text": "Departamento"
         }
        }
       }
      },
      "text/html": [
       "<div>                            <div id=\"f75f5ceb-7b11-450b-9a2e-52cb80a6b93d\" class=\"plotly-graph-div\" style=\"height:525px; width:100%;\"></div>            <script type=\"text/javascript\">                require([\"plotly\"], function(Plotly) {                    window.PLOTLYENV=window.PLOTLYENV || {};                                    if (document.getElementById(\"f75f5ceb-7b11-450b-9a2e-52cb80a6b93d\")) {                    Plotly.newPlot(                        \"f75f5ceb-7b11-450b-9a2e-52cb80a6b93d\",                        [{\"alignmentgroup\":\"True\",\"hovertemplate\":\"value=%{x}\\u003cbr\\u003eDepartamento=%{y}\\u003cbr\\u003ecolor=%{marker.color}\\u003cextra\\u003e\\u003c\\u002fextra\\u003e\",\"legendgroup\":\"\",\"marker\":{\"color\":[661,646,528,418,371,342,326,313,292,243],\"coloraxis\":\"coloraxis\",\"pattern\":{\"shape\":\"\"}},\"name\":\"\",\"offsetgroup\":\"\",\"orientation\":\"h\",\"showlegend\":false,\"textposition\":\"auto\",\"x\":[661,646,528,418,371,342,326,313,292,243],\"xaxis\":\"x\",\"y\":[\"0982:SPIRITS\",\"0973:CANDY\",\"0983:WINE\",\"0962:BEVERAGES\",\"0836:HOUSEHOLD CLEANING\",\"0597:HEALTH AIDS\",\"0646:SEASONAL\",\"0991:TOBACCO\",\"0604:PERSONAL CARE\",\"0879:PET SUPPLIES\"],\"yaxis\":\"y\",\"type\":\"bar\"}],                        {\"template\":{\"data\":{\"histogram2dcontour\":[{\"type\":\"histogram2dcontour\",\"colorbar\":{\"outlinewidth\":0,\"ticks\":\"\"},\"colorscale\":[[0.0,\"#0d0887\"],[0.1111111111111111,\"#46039f\"],[0.2222222222222222,\"#7201a8\"],[0.3333333333333333,\"#9c179e\"],[0.4444444444444444,\"#bd3786\"],[0.5555555555555556,\"#d8576b\"],[0.6666666666666666,\"#ed7953\"],[0.7777777777777778,\"#fb9f3a\"],[0.8888888888888888,\"#fdca26\"],[1.0,\"#f0f921\"]]}],\"choropleth\":[{\"type\":\"choropleth\",\"colorbar\":{\"outlinewidth\":0,\"ticks\":\"\"}}],\"histogram2d\":[{\"type\":\"histogram2d\",\"colorbar\":{\"outlinewidth\":0,\"ticks\":\"\"},\"colorscale\":[[0.0,\"#0d0887\"],[0.1111111111111111,\"#46039f\"],[0.2222222222222222,\"#7201a8\"],[0.3333333333333333,\"#9c179e\"],[0.4444444444444444,\"#bd3786\"],[0.5555555555555556,\"#d8576b\"],[0.6666666666666666,\"#ed7953\"],[0.7777777777777778,\"#fb9f3a\"],[0.8888888888888888,\"#fdca26\"],[1.0,\"#f0f921\"]]}],\"heatmap\":[{\"type\":\"heatmap\",\"colorbar\":{\"outlinewidth\":0,\"ticks\":\"\"},\"colorscale\":[[0.0,\"#0d0887\"],[0.1111111111111111,\"#46039f\"],[0.2222222222222222,\"#7201a8\"],[0.3333333333333333,\"#9c179e\"],[0.4444444444444444,\"#bd3786\"],[0.5555555555555556,\"#d8576b\"],[0.6666666666666666,\"#ed7953\"],[0.7777777777777778,\"#fb9f3a\"],[0.8888888888888888,\"#fdca26\"],[1.0,\"#f0f921\"]]}],\"heatmapgl\":[{\"type\":\"heatmapgl\",\"colorbar\":{\"outlinewidth\":0,\"ticks\":\"\"},\"colorscale\":[[0.0,\"#0d0887\"],[0.1111111111111111,\"#46039f\"],[0.2222222222222222,\"#7201a8\"],[0.3333333333333333,\"#9c179e\"],[0.4444444444444444,\"#bd3786\"],[0.5555555555555556,\"#d8576b\"],[0.6666666666666666,\"#ed7953\"],[0.7777777777777778,\"#fb9f3a\"],[0.8888888888888888,\"#fdca26\"],[1.0,\"#f0f921\"]]}],\"contourcarpet\":[{\"type\":\"contourcarpet\",\"colorbar\":{\"outlinewidth\":0,\"ticks\":\"\"}}],\"contour\":[{\"type\":\"contour\",\"colorbar\":{\"outlinewidth\":0,\"ticks\":\"\"},\"colorscale\":[[0.0,\"#0d0887\"],[0.1111111111111111,\"#46039f\"],[0.2222222222222222,\"#7201a8\"],[0.3333333333333333,\"#9c179e\"],[0.4444444444444444,\"#bd3786\"],[0.5555555555555556,\"#d8576b\"],[0.6666666666666666,\"#ed7953\"],[0.7777777777777778,\"#fb9f3a\"],[0.8888888888888888,\"#fdca26\"],[1.0,\"#f0f921\"]]}],\"surface\":[{\"type\":\"surface\",\"colorbar\":{\"outlinewidth\":0,\"ticks\":\"\"},\"colorscale\":[[0.0,\"#0d0887\"],[0.1111111111111111,\"#46039f\"],[0.2222222222222222,\"#7201a8\"],[0.3333333333333333,\"#9c179e\"],[0.4444444444444444,\"#bd3786\"],[0.5555555555555556,\"#d8576b\"],[0.6666666666666666,\"#ed7953\"],[0.7777777777777778,\"#fb9f3a\"],[0.8888888888888888,\"#fdca26\"],[1.0,\"#f0f921\"]]}],\"mesh3d\":[{\"type\":\"mesh3d\",\"colorbar\":{\"outlinewidth\":0,\"ticks\":\"\"}}],\"scatter\":[{\"fillpattern\":{\"fillmode\":\"overlay\",\"size\":10,\"solidity\":0.2},\"type\":\"scatter\"}],\"parcoords\":[{\"type\":\"parcoords\",\"line\":{\"colorbar\":{\"outlinewidth\":0,\"ticks\":\"\"}}}],\"scatterpolargl\":[{\"type\":\"scatterpolargl\",\"marker\":{\"colorbar\":{\"outlinewidth\":0,\"ticks\":\"\"}}}],\"bar\":[{\"error_x\":{\"color\":\"#2a3f5f\"},\"error_y\":{\"color\":\"#2a3f5f\"},\"marker\":{\"line\":{\"color\":\"#E5ECF6\",\"width\":0.5},\"pattern\":{\"fillmode\":\"overlay\",\"size\":10,\"solidity\":0.2}},\"type\":\"bar\"}],\"scattergeo\":[{\"type\":\"scattergeo\",\"marker\":{\"colorbar\":{\"outlinewidth\":0,\"ticks\":\"\"}}}],\"scatterpolar\":[{\"type\":\"scatterpolar\",\"marker\":{\"colorbar\":{\"outlinewidth\":0,\"ticks\":\"\"}}}],\"histogram\":[{\"marker\":{\"pattern\":{\"fillmode\":\"overlay\",\"size\":10,\"solidity\":0.2}},\"type\":\"histogram\"}],\"scattergl\":[{\"type\":\"scattergl\",\"marker\":{\"colorbar\":{\"outlinewidth\":0,\"ticks\":\"\"}}}],\"scatter3d\":[{\"type\":\"scatter3d\",\"line\":{\"colorbar\":{\"outlinewidth\":0,\"ticks\":\"\"}},\"marker\":{\"colorbar\":{\"outlinewidth\":0,\"ticks\":\"\"}}}],\"scattermapbox\":[{\"type\":\"scattermapbox\",\"marker\":{\"colorbar\":{\"outlinewidth\":0,\"ticks\":\"\"}}}],\"scatterternary\":[{\"type\":\"scatterternary\",\"marker\":{\"colorbar\":{\"outlinewidth\":0,\"ticks\":\"\"}}}],\"scattercarpet\":[{\"type\":\"scattercarpet\",\"marker\":{\"colorbar\":{\"outlinewidth\":0,\"ticks\":\"\"}}}],\"carpet\":[{\"aaxis\":{\"endlinecolor\":\"#2a3f5f\",\"gridcolor\":\"white\",\"linecolor\":\"white\",\"minorgridcolor\":\"white\",\"startlinecolor\":\"#2a3f5f\"},\"baxis\":{\"endlinecolor\":\"#2a3f5f\",\"gridcolor\":\"white\",\"linecolor\":\"white\",\"minorgridcolor\":\"white\",\"startlinecolor\":\"#2a3f5f\"},\"type\":\"carpet\"}],\"table\":[{\"cells\":{\"fill\":{\"color\":\"#EBF0F8\"},\"line\":{\"color\":\"white\"}},\"header\":{\"fill\":{\"color\":\"#C8D4E3\"},\"line\":{\"color\":\"white\"}},\"type\":\"table\"}],\"barpolar\":[{\"marker\":{\"line\":{\"color\":\"#E5ECF6\",\"width\":0.5},\"pattern\":{\"fillmode\":\"overlay\",\"size\":10,\"solidity\":0.2}},\"type\":\"barpolar\"}],\"pie\":[{\"automargin\":true,\"type\":\"pie\"}]},\"layout\":{\"autotypenumbers\":\"strict\",\"colorway\":[\"#636efa\",\"#EF553B\",\"#00cc96\",\"#ab63fa\",\"#FFA15A\",\"#19d3f3\",\"#FF6692\",\"#B6E880\",\"#FF97FF\",\"#FECB52\"],\"font\":{\"color\":\"#2a3f5f\"},\"hovermode\":\"closest\",\"hoverlabel\":{\"align\":\"left\"},\"paper_bgcolor\":\"white\",\"plot_bgcolor\":\"#E5ECF6\",\"polar\":{\"bgcolor\":\"#E5ECF6\",\"angularaxis\":{\"gridcolor\":\"white\",\"linecolor\":\"white\",\"ticks\":\"\"},\"radialaxis\":{\"gridcolor\":\"white\",\"linecolor\":\"white\",\"ticks\":\"\"}},\"ternary\":{\"bgcolor\":\"#E5ECF6\",\"aaxis\":{\"gridcolor\":\"white\",\"linecolor\":\"white\",\"ticks\":\"\"},\"baxis\":{\"gridcolor\":\"white\",\"linecolor\":\"white\",\"ticks\":\"\"},\"caxis\":{\"gridcolor\":\"white\",\"linecolor\":\"white\",\"ticks\":\"\"}},\"coloraxis\":{\"colorbar\":{\"outlinewidth\":0,\"ticks\":\"\"}},\"colorscale\":{\"sequential\":[[0.0,\"#0d0887\"],[0.1111111111111111,\"#46039f\"],[0.2222222222222222,\"#7201a8\"],[0.3333333333333333,\"#9c179e\"],[0.4444444444444444,\"#bd3786\"],[0.5555555555555556,\"#d8576b\"],[0.6666666666666666,\"#ed7953\"],[0.7777777777777778,\"#fb9f3a\"],[0.8888888888888888,\"#fdca26\"],[1.0,\"#f0f921\"]],\"sequentialminus\":[[0.0,\"#0d0887\"],[0.1111111111111111,\"#46039f\"],[0.2222222222222222,\"#7201a8\"],[0.3333333333333333,\"#9c179e\"],[0.4444444444444444,\"#bd3786\"],[0.5555555555555556,\"#d8576b\"],[0.6666666666666666,\"#ed7953\"],[0.7777777777777778,\"#fb9f3a\"],[0.8888888888888888,\"#fdca26\"],[1.0,\"#f0f921\"]],\"diverging\":[[0,\"#8e0152\"],[0.1,\"#c51b7d\"],[0.2,\"#de77ae\"],[0.3,\"#f1b6da\"],[0.4,\"#fde0ef\"],[0.5,\"#f7f7f7\"],[0.6,\"#e6f5d0\"],[0.7,\"#b8e186\"],[0.8,\"#7fbc41\"],[0.9,\"#4d9221\"],[1,\"#276419\"]]},\"xaxis\":{\"gridcolor\":\"white\",\"linecolor\":\"white\",\"ticks\":\"\",\"title\":{\"standoff\":15},\"zerolinecolor\":\"white\",\"automargin\":true,\"zerolinewidth\":2},\"yaxis\":{\"gridcolor\":\"white\",\"linecolor\":\"white\",\"ticks\":\"\",\"title\":{\"standoff\":15},\"zerolinecolor\":\"white\",\"automargin\":true,\"zerolinewidth\":2},\"scene\":{\"xaxis\":{\"backgroundcolor\":\"#E5ECF6\",\"gridcolor\":\"white\",\"linecolor\":\"white\",\"showbackground\":true,\"ticks\":\"\",\"zerolinecolor\":\"white\",\"gridwidth\":2},\"yaxis\":{\"backgroundcolor\":\"#E5ECF6\",\"gridcolor\":\"white\",\"linecolor\":\"white\",\"showbackground\":true,\"ticks\":\"\",\"zerolinecolor\":\"white\",\"gridwidth\":2},\"zaxis\":{\"backgroundcolor\":\"#E5ECF6\",\"gridcolor\":\"white\",\"linecolor\":\"white\",\"showbackground\":true,\"ticks\":\"\",\"zerolinecolor\":\"white\",\"gridwidth\":2}},\"shapedefaults\":{\"line\":{\"color\":\"#2a3f5f\"}},\"annotationdefaults\":{\"arrowcolor\":\"#2a3f5f\",\"arrowhead\":0,\"arrowwidth\":1},\"geo\":{\"bgcolor\":\"white\",\"landcolor\":\"#E5ECF6\",\"subunitcolor\":\"white\",\"showland\":true,\"showlakes\":true,\"lakecolor\":\"white\"},\"title\":{\"x\":0.05},\"mapbox\":{\"style\":\"light\"}}},\"xaxis\":{\"anchor\":\"y\",\"domain\":[0.0,1.0],\"title\":{\"text\":\"value\"}},\"yaxis\":{\"anchor\":\"x\",\"domain\":[0.0,1.0],\"title\":{\"text\":\"Departamento\"}},\"coloraxis\":{\"colorbar\":{\"title\":{\"text\":\"color\"}},\"colorscale\":[[0.0,\"#0d0887\"],[0.1111111111111111,\"#46039f\"],[0.2222222222222222,\"#7201a8\"],[0.3333333333333333,\"#9c179e\"],[0.4444444444444444,\"#bd3786\"],[0.5555555555555556,\"#d8576b\"],[0.6666666666666666,\"#ed7953\"],[0.7777777777777778,\"#fb9f3a\"],[0.8888888888888888,\"#fdca26\"],[1.0,\"#f0f921\"]]},\"legend\":{\"tracegroupgap\":0},\"margin\":{\"t\":60},\"barmode\":\"relative\",\"showlegend\":false},                        {\"responsive\": true}                    ).then(function(){\n",
       "                            \n",
       "var gd = document.getElementById('f75f5ceb-7b11-450b-9a2e-52cb80a6b93d');\n",
       "var x = new MutationObserver(function (mutations, observer) {{\n",
       "        var display = window.getComputedStyle(gd).display;\n",
       "        if (!display || display === 'none') {{\n",
       "            console.log([gd, 'removed!']);\n",
       "            Plotly.purge(gd);\n",
       "            observer.disconnect();\n",
       "        }}\n",
       "}});\n",
       "\n",
       "// Listen for the removal of the full notebook cells\n",
       "var notebookContainer = gd.closest('#notebook-container');\n",
       "if (notebookContainer) {{\n",
       "    x.observe(notebookContainer, {childList: true});\n",
       "}}\n",
       "\n",
       "// Listen for the clearing of the current output cell\n",
       "var outputEl = gd.closest('.output');\n",
       "if (outputEl) {{\n",
       "    x.observe(outputEl, {childList: true});\n",
       "}}\n",
       "\n",
       "                        })                };                });            </script>        </div>"
      ]
     },
     "metadata": {},
     "output_type": "display_data"
    }
   ],
   "source": [
    "# Qual o Top 10 departamentos tem maior volume de transações e maior quantidade de unidades vendidas?\n",
    "\n",
    "# Parte 2: Quantidade de unidades vendidas\n",
    "# Soma de Unidades Vendidas das transações onde cada departamento aparece\n",
    "soma_quantidades_por_departamentos_top10 = df_transacoes.groupby('Departamento')['Qtde_Vendida'].sum().sort_values(ascending=False).head(10)\n",
    "\n",
    "# Plot\n",
    "fig_unidades_vendidas_top10 = px.bar(soma_quantidades_por_departamentos_top10, color=soma_quantidades_por_departamentos_top10, orientation='h')\n",
    "fig_unidades_vendidas_top10.update_layout(showlegend=False)\n",
    "fig_unidades_vendidas_top10.show()"
   ]
  },
  {
   "cell_type": "code",
   "execution_count": 114,
   "id": "ff8c1a93",
   "metadata": {},
   "outputs": [
    {
     "data": {
      "application/vnd.plotly.v1+json": {
       "config": {
        "plotlyServerURL": "https://plot.ly"
       },
       "data": [
        {
         "alignmentgroup": "True",
         "hovertemplate": "value=%{x}<br>Departamento=%{y}<br>color=%{marker.color}<extra></extra>",
         "legendgroup": "",
         "marker": {
          "color": [
           314,
           275,
           253,
           200,
           191,
           185,
           158,
           150,
           132,
           132
          ],
          "coloraxis": "coloraxis",
          "pattern": {
           "shape": ""
          }
         },
         "name": "",
         "offsetgroup": "",
         "orientation": "h",
         "showlegend": false,
         "textposition": "auto",
         "type": "bar",
         "x": [
          314,
          275,
          253,
          200,
          191,
          185,
          158,
          150,
          132,
          132
         ],
         "xaxis": "x",
         "y": [
          "0982:SPIRITS",
          "0973:CANDY",
          "0962:BEVERAGES",
          "0597:HEALTH AIDS",
          "0983:WINE",
          "0991:TOBACCO",
          "0836:HOUSEHOLD CLEANING",
          "0604:PERSONAL CARE",
          "0603:BEAUTY CARE",
          "0984:BEER"
         ],
         "yaxis": "y"
        },
        {
         "alignmentgroup": "True",
         "hovertemplate": "value=%{x}<br>Departamento=%{y}<br>color=%{marker.color}<extra></extra>",
         "legendgroup": "",
         "marker": {
          "color": [
           661,
           646,
           528,
           418,
           371,
           342,
           326,
           313,
           292,
           243
          ],
          "coloraxis": "coloraxis",
          "pattern": {
           "shape": ""
          }
         },
         "name": "",
         "offsetgroup": "",
         "orientation": "h",
         "showlegend": false,
         "textposition": "auto",
         "type": "bar",
         "x": [
          661,
          646,
          528,
          418,
          371,
          342,
          326,
          313,
          292,
          243
         ],
         "xaxis": "x2",
         "y": [
          "0982:SPIRITS",
          "0973:CANDY",
          "0983:WINE",
          "0962:BEVERAGES",
          "0836:HOUSEHOLD CLEANING",
          "0597:HEALTH AIDS",
          "0646:SEASONAL",
          "0991:TOBACCO",
          "0604:PERSONAL CARE",
          "0879:PET SUPPLIES"
         ],
         "yaxis": "y2"
        }
       ],
       "layout": {
        "annotations": [
         {
          "font": {
           "size": 16
          },
          "showarrow": false,
          "text": "Volume de Transações",
          "x": 0.225,
          "xanchor": "center",
          "xref": "paper",
          "y": 1,
          "yanchor": "bottom",
          "yref": "paper"
         },
         {
          "font": {
           "size": 16
          },
          "showarrow": false,
          "text": "Unidades Vendidas",
          "x": 0.775,
          "xanchor": "center",
          "xref": "paper",
          "y": 1,
          "yanchor": "bottom",
          "yref": "paper"
         }
        ],
        "height": 800,
        "showlegend": false,
        "template": {
         "data": {
          "bar": [
           {
            "error_x": {
             "color": "#2a3f5f"
            },
            "error_y": {
             "color": "#2a3f5f"
            },
            "marker": {
             "line": {
              "color": "#E5ECF6",
              "width": 0.5
             },
             "pattern": {
              "fillmode": "overlay",
              "size": 10,
              "solidity": 0.2
             }
            },
            "type": "bar"
           }
          ],
          "barpolar": [
           {
            "marker": {
             "line": {
              "color": "#E5ECF6",
              "width": 0.5
             },
             "pattern": {
              "fillmode": "overlay",
              "size": 10,
              "solidity": 0.2
             }
            },
            "type": "barpolar"
           }
          ],
          "carpet": [
           {
            "aaxis": {
             "endlinecolor": "#2a3f5f",
             "gridcolor": "white",
             "linecolor": "white",
             "minorgridcolor": "white",
             "startlinecolor": "#2a3f5f"
            },
            "baxis": {
             "endlinecolor": "#2a3f5f",
             "gridcolor": "white",
             "linecolor": "white",
             "minorgridcolor": "white",
             "startlinecolor": "#2a3f5f"
            },
            "type": "carpet"
           }
          ],
          "choropleth": [
           {
            "colorbar": {
             "outlinewidth": 0,
             "ticks": ""
            },
            "type": "choropleth"
           }
          ],
          "contour": [
           {
            "colorbar": {
             "outlinewidth": 0,
             "ticks": ""
            },
            "colorscale": [
             [
              0,
              "#0d0887"
             ],
             [
              0.1111111111111111,
              "#46039f"
             ],
             [
              0.2222222222222222,
              "#7201a8"
             ],
             [
              0.3333333333333333,
              "#9c179e"
             ],
             [
              0.4444444444444444,
              "#bd3786"
             ],
             [
              0.5555555555555556,
              "#d8576b"
             ],
             [
              0.6666666666666666,
              "#ed7953"
             ],
             [
              0.7777777777777778,
              "#fb9f3a"
             ],
             [
              0.8888888888888888,
              "#fdca26"
             ],
             [
              1,
              "#f0f921"
             ]
            ],
            "type": "contour"
           }
          ],
          "contourcarpet": [
           {
            "colorbar": {
             "outlinewidth": 0,
             "ticks": ""
            },
            "type": "contourcarpet"
           }
          ],
          "heatmap": [
           {
            "colorbar": {
             "outlinewidth": 0,
             "ticks": ""
            },
            "colorscale": [
             [
              0,
              "#0d0887"
             ],
             [
              0.1111111111111111,
              "#46039f"
             ],
             [
              0.2222222222222222,
              "#7201a8"
             ],
             [
              0.3333333333333333,
              "#9c179e"
             ],
             [
              0.4444444444444444,
              "#bd3786"
             ],
             [
              0.5555555555555556,
              "#d8576b"
             ],
             [
              0.6666666666666666,
              "#ed7953"
             ],
             [
              0.7777777777777778,
              "#fb9f3a"
             ],
             [
              0.8888888888888888,
              "#fdca26"
             ],
             [
              1,
              "#f0f921"
             ]
            ],
            "type": "heatmap"
           }
          ],
          "heatmapgl": [
           {
            "colorbar": {
             "outlinewidth": 0,
             "ticks": ""
            },
            "colorscale": [
             [
              0,
              "#0d0887"
             ],
             [
              0.1111111111111111,
              "#46039f"
             ],
             [
              0.2222222222222222,
              "#7201a8"
             ],
             [
              0.3333333333333333,
              "#9c179e"
             ],
             [
              0.4444444444444444,
              "#bd3786"
             ],
             [
              0.5555555555555556,
              "#d8576b"
             ],
             [
              0.6666666666666666,
              "#ed7953"
             ],
             [
              0.7777777777777778,
              "#fb9f3a"
             ],
             [
              0.8888888888888888,
              "#fdca26"
             ],
             [
              1,
              "#f0f921"
             ]
            ],
            "type": "heatmapgl"
           }
          ],
          "histogram": [
           {
            "marker": {
             "pattern": {
              "fillmode": "overlay",
              "size": 10,
              "solidity": 0.2
             }
            },
            "type": "histogram"
           }
          ],
          "histogram2d": [
           {
            "colorbar": {
             "outlinewidth": 0,
             "ticks": ""
            },
            "colorscale": [
             [
              0,
              "#0d0887"
             ],
             [
              0.1111111111111111,
              "#46039f"
             ],
             [
              0.2222222222222222,
              "#7201a8"
             ],
             [
              0.3333333333333333,
              "#9c179e"
             ],
             [
              0.4444444444444444,
              "#bd3786"
             ],
             [
              0.5555555555555556,
              "#d8576b"
             ],
             [
              0.6666666666666666,
              "#ed7953"
             ],
             [
              0.7777777777777778,
              "#fb9f3a"
             ],
             [
              0.8888888888888888,
              "#fdca26"
             ],
             [
              1,
              "#f0f921"
             ]
            ],
            "type": "histogram2d"
           }
          ],
          "histogram2dcontour": [
           {
            "colorbar": {
             "outlinewidth": 0,
             "ticks": ""
            },
            "colorscale": [
             [
              0,
              "#0d0887"
             ],
             [
              0.1111111111111111,
              "#46039f"
             ],
             [
              0.2222222222222222,
              "#7201a8"
             ],
             [
              0.3333333333333333,
              "#9c179e"
             ],
             [
              0.4444444444444444,
              "#bd3786"
             ],
             [
              0.5555555555555556,
              "#d8576b"
             ],
             [
              0.6666666666666666,
              "#ed7953"
             ],
             [
              0.7777777777777778,
              "#fb9f3a"
             ],
             [
              0.8888888888888888,
              "#fdca26"
             ],
             [
              1,
              "#f0f921"
             ]
            ],
            "type": "histogram2dcontour"
           }
          ],
          "mesh3d": [
           {
            "colorbar": {
             "outlinewidth": 0,
             "ticks": ""
            },
            "type": "mesh3d"
           }
          ],
          "parcoords": [
           {
            "line": {
             "colorbar": {
              "outlinewidth": 0,
              "ticks": ""
             }
            },
            "type": "parcoords"
           }
          ],
          "pie": [
           {
            "automargin": true,
            "type": "pie"
           }
          ],
          "scatter": [
           {
            "fillpattern": {
             "fillmode": "overlay",
             "size": 10,
             "solidity": 0.2
            },
            "type": "scatter"
           }
          ],
          "scatter3d": [
           {
            "line": {
             "colorbar": {
              "outlinewidth": 0,
              "ticks": ""
             }
            },
            "marker": {
             "colorbar": {
              "outlinewidth": 0,
              "ticks": ""
             }
            },
            "type": "scatter3d"
           }
          ],
          "scattercarpet": [
           {
            "marker": {
             "colorbar": {
              "outlinewidth": 0,
              "ticks": ""
             }
            },
            "type": "scattercarpet"
           }
          ],
          "scattergeo": [
           {
            "marker": {
             "colorbar": {
              "outlinewidth": 0,
              "ticks": ""
             }
            },
            "type": "scattergeo"
           }
          ],
          "scattergl": [
           {
            "marker": {
             "colorbar": {
              "outlinewidth": 0,
              "ticks": ""
             }
            },
            "type": "scattergl"
           }
          ],
          "scattermapbox": [
           {
            "marker": {
             "colorbar": {
              "outlinewidth": 0,
              "ticks": ""
             }
            },
            "type": "scattermapbox"
           }
          ],
          "scatterpolar": [
           {
            "marker": {
             "colorbar": {
              "outlinewidth": 0,
              "ticks": ""
             }
            },
            "type": "scatterpolar"
           }
          ],
          "scatterpolargl": [
           {
            "marker": {
             "colorbar": {
              "outlinewidth": 0,
              "ticks": ""
             }
            },
            "type": "scatterpolargl"
           }
          ],
          "scatterternary": [
           {
            "marker": {
             "colorbar": {
              "outlinewidth": 0,
              "ticks": ""
             }
            },
            "type": "scatterternary"
           }
          ],
          "surface": [
           {
            "colorbar": {
             "outlinewidth": 0,
             "ticks": ""
            },
            "colorscale": [
             [
              0,
              "#0d0887"
             ],
             [
              0.1111111111111111,
              "#46039f"
             ],
             [
              0.2222222222222222,
              "#7201a8"
             ],
             [
              0.3333333333333333,
              "#9c179e"
             ],
             [
              0.4444444444444444,
              "#bd3786"
             ],
             [
              0.5555555555555556,
              "#d8576b"
             ],
             [
              0.6666666666666666,
              "#ed7953"
             ],
             [
              0.7777777777777778,
              "#fb9f3a"
             ],
             [
              0.8888888888888888,
              "#fdca26"
             ],
             [
              1,
              "#f0f921"
             ]
            ],
            "type": "surface"
           }
          ],
          "table": [
           {
            "cells": {
             "fill": {
              "color": "#EBF0F8"
             },
             "line": {
              "color": "white"
             }
            },
            "header": {
             "fill": {
              "color": "#C8D4E3"
             },
             "line": {
              "color": "white"
             }
            },
            "type": "table"
           }
          ]
         },
         "layout": {
          "annotationdefaults": {
           "arrowcolor": "#2a3f5f",
           "arrowhead": 0,
           "arrowwidth": 1
          },
          "autotypenumbers": "strict",
          "coloraxis": {
           "colorbar": {
            "outlinewidth": 0,
            "ticks": ""
           }
          },
          "colorscale": {
           "diverging": [
            [
             0,
             "#8e0152"
            ],
            [
             0.1,
             "#c51b7d"
            ],
            [
             0.2,
             "#de77ae"
            ],
            [
             0.3,
             "#f1b6da"
            ],
            [
             0.4,
             "#fde0ef"
            ],
            [
             0.5,
             "#f7f7f7"
            ],
            [
             0.6,
             "#e6f5d0"
            ],
            [
             0.7,
             "#b8e186"
            ],
            [
             0.8,
             "#7fbc41"
            ],
            [
             0.9,
             "#4d9221"
            ],
            [
             1,
             "#276419"
            ]
           ],
           "sequential": [
            [
             0,
             "#0d0887"
            ],
            [
             0.1111111111111111,
             "#46039f"
            ],
            [
             0.2222222222222222,
             "#7201a8"
            ],
            [
             0.3333333333333333,
             "#9c179e"
            ],
            [
             0.4444444444444444,
             "#bd3786"
            ],
            [
             0.5555555555555556,
             "#d8576b"
            ],
            [
             0.6666666666666666,
             "#ed7953"
            ],
            [
             0.7777777777777778,
             "#fb9f3a"
            ],
            [
             0.8888888888888888,
             "#fdca26"
            ],
            [
             1,
             "#f0f921"
            ]
           ],
           "sequentialminus": [
            [
             0,
             "#0d0887"
            ],
            [
             0.1111111111111111,
             "#46039f"
            ],
            [
             0.2222222222222222,
             "#7201a8"
            ],
            [
             0.3333333333333333,
             "#9c179e"
            ],
            [
             0.4444444444444444,
             "#bd3786"
            ],
            [
             0.5555555555555556,
             "#d8576b"
            ],
            [
             0.6666666666666666,
             "#ed7953"
            ],
            [
             0.7777777777777778,
             "#fb9f3a"
            ],
            [
             0.8888888888888888,
             "#fdca26"
            ],
            [
             1,
             "#f0f921"
            ]
           ]
          },
          "colorway": [
           "#636efa",
           "#EF553B",
           "#00cc96",
           "#ab63fa",
           "#FFA15A",
           "#19d3f3",
           "#FF6692",
           "#B6E880",
           "#FF97FF",
           "#FECB52"
          ],
          "font": {
           "color": "#2a3f5f"
          },
          "geo": {
           "bgcolor": "white",
           "lakecolor": "white",
           "landcolor": "#E5ECF6",
           "showlakes": true,
           "showland": true,
           "subunitcolor": "white"
          },
          "hoverlabel": {
           "align": "left"
          },
          "hovermode": "closest",
          "mapbox": {
           "style": "light"
          },
          "paper_bgcolor": "white",
          "plot_bgcolor": "#E5ECF6",
          "polar": {
           "angularaxis": {
            "gridcolor": "white",
            "linecolor": "white",
            "ticks": ""
           },
           "bgcolor": "#E5ECF6",
           "radialaxis": {
            "gridcolor": "white",
            "linecolor": "white",
            "ticks": ""
           }
          },
          "scene": {
           "xaxis": {
            "backgroundcolor": "#E5ECF6",
            "gridcolor": "white",
            "gridwidth": 2,
            "linecolor": "white",
            "showbackground": true,
            "ticks": "",
            "zerolinecolor": "white"
           },
           "yaxis": {
            "backgroundcolor": "#E5ECF6",
            "gridcolor": "white",
            "gridwidth": 2,
            "linecolor": "white",
            "showbackground": true,
            "ticks": "",
            "zerolinecolor": "white"
           },
           "zaxis": {
            "backgroundcolor": "#E5ECF6",
            "gridcolor": "white",
            "gridwidth": 2,
            "linecolor": "white",
            "showbackground": true,
            "ticks": "",
            "zerolinecolor": "white"
           }
          },
          "shapedefaults": {
           "line": {
            "color": "#2a3f5f"
           }
          },
          "ternary": {
           "aaxis": {
            "gridcolor": "white",
            "linecolor": "white",
            "ticks": ""
           },
           "baxis": {
            "gridcolor": "white",
            "linecolor": "white",
            "ticks": ""
           },
           "bgcolor": "#E5ECF6",
           "caxis": {
            "gridcolor": "white",
            "linecolor": "white",
            "ticks": ""
           }
          },
          "title": {
           "x": 0.05
          },
          "xaxis": {
           "automargin": true,
           "gridcolor": "white",
           "linecolor": "white",
           "ticks": "",
           "title": {
            "standoff": 15
           },
           "zerolinecolor": "white",
           "zerolinewidth": 2
          },
          "yaxis": {
           "automargin": true,
           "gridcolor": "white",
           "linecolor": "white",
           "ticks": "",
           "title": {
            "standoff": 15
           },
           "zerolinecolor": "white",
           "zerolinewidth": 2
          }
         }
        },
        "title": {
         "text": "Top 10 Departamentos"
        },
        "width": 1000,
        "xaxis": {
         "anchor": "y",
         "domain": [
          0,
          0.45
         ]
        },
        "xaxis2": {
         "anchor": "y2",
         "domain": [
          0.55,
          1
         ]
        },
        "yaxis": {
         "anchor": "x",
         "domain": [
          0,
          1
         ]
        },
        "yaxis2": {
         "anchor": "x2",
         "domain": [
          0,
          1
         ]
        }
       }
      },
      "text/html": [
       "<div>                            <div id=\"b3413cd7-6e68-410a-a0a9-9c7f7ceeb659\" class=\"plotly-graph-div\" style=\"height:800px; width:1000px;\"></div>            <script type=\"text/javascript\">                require([\"plotly\"], function(Plotly) {                    window.PLOTLYENV=window.PLOTLYENV || {};                                    if (document.getElementById(\"b3413cd7-6e68-410a-a0a9-9c7f7ceeb659\")) {                    Plotly.newPlot(                        \"b3413cd7-6e68-410a-a0a9-9c7f7ceeb659\",                        [{\"alignmentgroup\":\"True\",\"hovertemplate\":\"value=%{x}\\u003cbr\\u003eDepartamento=%{y}\\u003cbr\\u003ecolor=%{marker.color}\\u003cextra\\u003e\\u003c\\u002fextra\\u003e\",\"legendgroup\":\"\",\"marker\":{\"color\":[314,275,253,200,191,185,158,150,132,132],\"coloraxis\":\"coloraxis\",\"pattern\":{\"shape\":\"\"}},\"name\":\"\",\"offsetgroup\":\"\",\"orientation\":\"h\",\"showlegend\":false,\"textposition\":\"auto\",\"x\":[314,275,253,200,191,185,158,150,132,132],\"xaxis\":\"x\",\"y\":[\"0982:SPIRITS\",\"0973:CANDY\",\"0962:BEVERAGES\",\"0597:HEALTH AIDS\",\"0983:WINE\",\"0991:TOBACCO\",\"0836:HOUSEHOLD CLEANING\",\"0604:PERSONAL CARE\",\"0603:BEAUTY CARE\",\"0984:BEER\"],\"yaxis\":\"y\",\"type\":\"bar\"},{\"alignmentgroup\":\"True\",\"hovertemplate\":\"value=%{x}\\u003cbr\\u003eDepartamento=%{y}\\u003cbr\\u003ecolor=%{marker.color}\\u003cextra\\u003e\\u003c\\u002fextra\\u003e\",\"legendgroup\":\"\",\"marker\":{\"color\":[661,646,528,418,371,342,326,313,292,243],\"coloraxis\":\"coloraxis\",\"pattern\":{\"shape\":\"\"}},\"name\":\"\",\"offsetgroup\":\"\",\"orientation\":\"h\",\"showlegend\":false,\"textposition\":\"auto\",\"x\":[661,646,528,418,371,342,326,313,292,243],\"xaxis\":\"x2\",\"y\":[\"0982:SPIRITS\",\"0973:CANDY\",\"0983:WINE\",\"0962:BEVERAGES\",\"0836:HOUSEHOLD CLEANING\",\"0597:HEALTH AIDS\",\"0646:SEASONAL\",\"0991:TOBACCO\",\"0604:PERSONAL CARE\",\"0879:PET SUPPLIES\"],\"yaxis\":\"y2\",\"type\":\"bar\"}],                        {\"template\":{\"data\":{\"histogram2dcontour\":[{\"type\":\"histogram2dcontour\",\"colorbar\":{\"outlinewidth\":0,\"ticks\":\"\"},\"colorscale\":[[0.0,\"#0d0887\"],[0.1111111111111111,\"#46039f\"],[0.2222222222222222,\"#7201a8\"],[0.3333333333333333,\"#9c179e\"],[0.4444444444444444,\"#bd3786\"],[0.5555555555555556,\"#d8576b\"],[0.6666666666666666,\"#ed7953\"],[0.7777777777777778,\"#fb9f3a\"],[0.8888888888888888,\"#fdca26\"],[1.0,\"#f0f921\"]]}],\"choropleth\":[{\"type\":\"choropleth\",\"colorbar\":{\"outlinewidth\":0,\"ticks\":\"\"}}],\"histogram2d\":[{\"type\":\"histogram2d\",\"colorbar\":{\"outlinewidth\":0,\"ticks\":\"\"},\"colorscale\":[[0.0,\"#0d0887\"],[0.1111111111111111,\"#46039f\"],[0.2222222222222222,\"#7201a8\"],[0.3333333333333333,\"#9c179e\"],[0.4444444444444444,\"#bd3786\"],[0.5555555555555556,\"#d8576b\"],[0.6666666666666666,\"#ed7953\"],[0.7777777777777778,\"#fb9f3a\"],[0.8888888888888888,\"#fdca26\"],[1.0,\"#f0f921\"]]}],\"heatmap\":[{\"type\":\"heatmap\",\"colorbar\":{\"outlinewidth\":0,\"ticks\":\"\"},\"colorscale\":[[0.0,\"#0d0887\"],[0.1111111111111111,\"#46039f\"],[0.2222222222222222,\"#7201a8\"],[0.3333333333333333,\"#9c179e\"],[0.4444444444444444,\"#bd3786\"],[0.5555555555555556,\"#d8576b\"],[0.6666666666666666,\"#ed7953\"],[0.7777777777777778,\"#fb9f3a\"],[0.8888888888888888,\"#fdca26\"],[1.0,\"#f0f921\"]]}],\"heatmapgl\":[{\"type\":\"heatmapgl\",\"colorbar\":{\"outlinewidth\":0,\"ticks\":\"\"},\"colorscale\":[[0.0,\"#0d0887\"],[0.1111111111111111,\"#46039f\"],[0.2222222222222222,\"#7201a8\"],[0.3333333333333333,\"#9c179e\"],[0.4444444444444444,\"#bd3786\"],[0.5555555555555556,\"#d8576b\"],[0.6666666666666666,\"#ed7953\"],[0.7777777777777778,\"#fb9f3a\"],[0.8888888888888888,\"#fdca26\"],[1.0,\"#f0f921\"]]}],\"contourcarpet\":[{\"type\":\"contourcarpet\",\"colorbar\":{\"outlinewidth\":0,\"ticks\":\"\"}}],\"contour\":[{\"type\":\"contour\",\"colorbar\":{\"outlinewidth\":0,\"ticks\":\"\"},\"colorscale\":[[0.0,\"#0d0887\"],[0.1111111111111111,\"#46039f\"],[0.2222222222222222,\"#7201a8\"],[0.3333333333333333,\"#9c179e\"],[0.4444444444444444,\"#bd3786\"],[0.5555555555555556,\"#d8576b\"],[0.6666666666666666,\"#ed7953\"],[0.7777777777777778,\"#fb9f3a\"],[0.8888888888888888,\"#fdca26\"],[1.0,\"#f0f921\"]]}],\"surface\":[{\"type\":\"surface\",\"colorbar\":{\"outlinewidth\":0,\"ticks\":\"\"},\"colorscale\":[[0.0,\"#0d0887\"],[0.1111111111111111,\"#46039f\"],[0.2222222222222222,\"#7201a8\"],[0.3333333333333333,\"#9c179e\"],[0.4444444444444444,\"#bd3786\"],[0.5555555555555556,\"#d8576b\"],[0.6666666666666666,\"#ed7953\"],[0.7777777777777778,\"#fb9f3a\"],[0.8888888888888888,\"#fdca26\"],[1.0,\"#f0f921\"]]}],\"mesh3d\":[{\"type\":\"mesh3d\",\"colorbar\":{\"outlinewidth\":0,\"ticks\":\"\"}}],\"scatter\":[{\"fillpattern\":{\"fillmode\":\"overlay\",\"size\":10,\"solidity\":0.2},\"type\":\"scatter\"}],\"parcoords\":[{\"type\":\"parcoords\",\"line\":{\"colorbar\":{\"outlinewidth\":0,\"ticks\":\"\"}}}],\"scatterpolargl\":[{\"type\":\"scatterpolargl\",\"marker\":{\"colorbar\":{\"outlinewidth\":0,\"ticks\":\"\"}}}],\"bar\":[{\"error_x\":{\"color\":\"#2a3f5f\"},\"error_y\":{\"color\":\"#2a3f5f\"},\"marker\":{\"line\":{\"color\":\"#E5ECF6\",\"width\":0.5},\"pattern\":{\"fillmode\":\"overlay\",\"size\":10,\"solidity\":0.2}},\"type\":\"bar\"}],\"scattergeo\":[{\"type\":\"scattergeo\",\"marker\":{\"colorbar\":{\"outlinewidth\":0,\"ticks\":\"\"}}}],\"scatterpolar\":[{\"type\":\"scatterpolar\",\"marker\":{\"colorbar\":{\"outlinewidth\":0,\"ticks\":\"\"}}}],\"histogram\":[{\"marker\":{\"pattern\":{\"fillmode\":\"overlay\",\"size\":10,\"solidity\":0.2}},\"type\":\"histogram\"}],\"scattergl\":[{\"type\":\"scattergl\",\"marker\":{\"colorbar\":{\"outlinewidth\":0,\"ticks\":\"\"}}}],\"scatter3d\":[{\"type\":\"scatter3d\",\"line\":{\"colorbar\":{\"outlinewidth\":0,\"ticks\":\"\"}},\"marker\":{\"colorbar\":{\"outlinewidth\":0,\"ticks\":\"\"}}}],\"scattermapbox\":[{\"type\":\"scattermapbox\",\"marker\":{\"colorbar\":{\"outlinewidth\":0,\"ticks\":\"\"}}}],\"scatterternary\":[{\"type\":\"scatterternary\",\"marker\":{\"colorbar\":{\"outlinewidth\":0,\"ticks\":\"\"}}}],\"scattercarpet\":[{\"type\":\"scattercarpet\",\"marker\":{\"colorbar\":{\"outlinewidth\":0,\"ticks\":\"\"}}}],\"carpet\":[{\"aaxis\":{\"endlinecolor\":\"#2a3f5f\",\"gridcolor\":\"white\",\"linecolor\":\"white\",\"minorgridcolor\":\"white\",\"startlinecolor\":\"#2a3f5f\"},\"baxis\":{\"endlinecolor\":\"#2a3f5f\",\"gridcolor\":\"white\",\"linecolor\":\"white\",\"minorgridcolor\":\"white\",\"startlinecolor\":\"#2a3f5f\"},\"type\":\"carpet\"}],\"table\":[{\"cells\":{\"fill\":{\"color\":\"#EBF0F8\"},\"line\":{\"color\":\"white\"}},\"header\":{\"fill\":{\"color\":\"#C8D4E3\"},\"line\":{\"color\":\"white\"}},\"type\":\"table\"}],\"barpolar\":[{\"marker\":{\"line\":{\"color\":\"#E5ECF6\",\"width\":0.5},\"pattern\":{\"fillmode\":\"overlay\",\"size\":10,\"solidity\":0.2}},\"type\":\"barpolar\"}],\"pie\":[{\"automargin\":true,\"type\":\"pie\"}]},\"layout\":{\"autotypenumbers\":\"strict\",\"colorway\":[\"#636efa\",\"#EF553B\",\"#00cc96\",\"#ab63fa\",\"#FFA15A\",\"#19d3f3\",\"#FF6692\",\"#B6E880\",\"#FF97FF\",\"#FECB52\"],\"font\":{\"color\":\"#2a3f5f\"},\"hovermode\":\"closest\",\"hoverlabel\":{\"align\":\"left\"},\"paper_bgcolor\":\"white\",\"plot_bgcolor\":\"#E5ECF6\",\"polar\":{\"bgcolor\":\"#E5ECF6\",\"angularaxis\":{\"gridcolor\":\"white\",\"linecolor\":\"white\",\"ticks\":\"\"},\"radialaxis\":{\"gridcolor\":\"white\",\"linecolor\":\"white\",\"ticks\":\"\"}},\"ternary\":{\"bgcolor\":\"#E5ECF6\",\"aaxis\":{\"gridcolor\":\"white\",\"linecolor\":\"white\",\"ticks\":\"\"},\"baxis\":{\"gridcolor\":\"white\",\"linecolor\":\"white\",\"ticks\":\"\"},\"caxis\":{\"gridcolor\":\"white\",\"linecolor\":\"white\",\"ticks\":\"\"}},\"coloraxis\":{\"colorbar\":{\"outlinewidth\":0,\"ticks\":\"\"}},\"colorscale\":{\"sequential\":[[0.0,\"#0d0887\"],[0.1111111111111111,\"#46039f\"],[0.2222222222222222,\"#7201a8\"],[0.3333333333333333,\"#9c179e\"],[0.4444444444444444,\"#bd3786\"],[0.5555555555555556,\"#d8576b\"],[0.6666666666666666,\"#ed7953\"],[0.7777777777777778,\"#fb9f3a\"],[0.8888888888888888,\"#fdca26\"],[1.0,\"#f0f921\"]],\"sequentialminus\":[[0.0,\"#0d0887\"],[0.1111111111111111,\"#46039f\"],[0.2222222222222222,\"#7201a8\"],[0.3333333333333333,\"#9c179e\"],[0.4444444444444444,\"#bd3786\"],[0.5555555555555556,\"#d8576b\"],[0.6666666666666666,\"#ed7953\"],[0.7777777777777778,\"#fb9f3a\"],[0.8888888888888888,\"#fdca26\"],[1.0,\"#f0f921\"]],\"diverging\":[[0,\"#8e0152\"],[0.1,\"#c51b7d\"],[0.2,\"#de77ae\"],[0.3,\"#f1b6da\"],[0.4,\"#fde0ef\"],[0.5,\"#f7f7f7\"],[0.6,\"#e6f5d0\"],[0.7,\"#b8e186\"],[0.8,\"#7fbc41\"],[0.9,\"#4d9221\"],[1,\"#276419\"]]},\"xaxis\":{\"gridcolor\":\"white\",\"linecolor\":\"white\",\"ticks\":\"\",\"title\":{\"standoff\":15},\"zerolinecolor\":\"white\",\"automargin\":true,\"zerolinewidth\":2},\"yaxis\":{\"gridcolor\":\"white\",\"linecolor\":\"white\",\"ticks\":\"\",\"title\":{\"standoff\":15},\"zerolinecolor\":\"white\",\"automargin\":true,\"zerolinewidth\":2},\"scene\":{\"xaxis\":{\"backgroundcolor\":\"#E5ECF6\",\"gridcolor\":\"white\",\"linecolor\":\"white\",\"showbackground\":true,\"ticks\":\"\",\"zerolinecolor\":\"white\",\"gridwidth\":2},\"yaxis\":{\"backgroundcolor\":\"#E5ECF6\",\"gridcolor\":\"white\",\"linecolor\":\"white\",\"showbackground\":true,\"ticks\":\"\",\"zerolinecolor\":\"white\",\"gridwidth\":2},\"zaxis\":{\"backgroundcolor\":\"#E5ECF6\",\"gridcolor\":\"white\",\"linecolor\":\"white\",\"showbackground\":true,\"ticks\":\"\",\"zerolinecolor\":\"white\",\"gridwidth\":2}},\"shapedefaults\":{\"line\":{\"color\":\"#2a3f5f\"}},\"annotationdefaults\":{\"arrowcolor\":\"#2a3f5f\",\"arrowhead\":0,\"arrowwidth\":1},\"geo\":{\"bgcolor\":\"white\",\"landcolor\":\"#E5ECF6\",\"subunitcolor\":\"white\",\"showland\":true,\"showlakes\":true,\"lakecolor\":\"white\"},\"title\":{\"x\":0.05},\"mapbox\":{\"style\":\"light\"}}},\"xaxis\":{\"anchor\":\"y\",\"domain\":[0.0,0.45]},\"yaxis\":{\"anchor\":\"x\",\"domain\":[0.0,1.0]},\"xaxis2\":{\"anchor\":\"y2\",\"domain\":[0.55,1.0]},\"yaxis2\":{\"anchor\":\"x2\",\"domain\":[0.0,1.0]},\"annotations\":[{\"font\":{\"size\":16},\"showarrow\":false,\"text\":\"Volume de Transa\\u00e7\\u00f5es\",\"x\":0.225,\"xanchor\":\"center\",\"xref\":\"paper\",\"y\":1.0,\"yanchor\":\"bottom\",\"yref\":\"paper\"},{\"font\":{\"size\":16},\"showarrow\":false,\"text\":\"Unidades Vendidas\",\"x\":0.775,\"xanchor\":\"center\",\"xref\":\"paper\",\"y\":1.0,\"yanchor\":\"bottom\",\"yref\":\"paper\"}],\"title\":{\"text\":\"Top 10 Departamentos\"},\"height\":800,\"width\":1000,\"showlegend\":false},                        {\"responsive\": true}                    ).then(function(){\n",
       "                            \n",
       "var gd = document.getElementById('b3413cd7-6e68-410a-a0a9-9c7f7ceeb659');\n",
       "var x = new MutationObserver(function (mutations, observer) {{\n",
       "        var display = window.getComputedStyle(gd).display;\n",
       "        if (!display || display === 'none') {{\n",
       "            console.log([gd, 'removed!']);\n",
       "            Plotly.purge(gd);\n",
       "            observer.disconnect();\n",
       "        }}\n",
       "}});\n",
       "\n",
       "// Listen for the removal of the full notebook cells\n",
       "var notebookContainer = gd.closest('#notebook-container');\n",
       "if (notebookContainer) {{\n",
       "    x.observe(notebookContainer, {childList: true});\n",
       "}}\n",
       "\n",
       "// Listen for the clearing of the current output cell\n",
       "var outputEl = gd.closest('.output');\n",
       "if (outputEl) {{\n",
       "    x.observe(outputEl, {childList: true});\n",
       "}}\n",
       "\n",
       "                        })                };                });            </script>        </div>"
      ]
     },
     "metadata": {},
     "output_type": "display_data"
    }
   ],
   "source": [
    "# Unificar dois gráficos (Top 10), para mostrar lado a lado\n",
    "\n",
    "# Criar subplots\n",
    "fig_pergunta1 = make_subplots(rows=1, cols=2, subplot_titles=(\"Volume de Transações\", \"Unidades Vendidas\"))\n",
    "\n",
    "# Adicionar os gráficos aos subplots\n",
    "for trace in fig_volume_transacoes_top10['data']:\n",
    "    fig_pergunta1.add_trace(trace, row=1, col=1)\n",
    "\n",
    "for trace in fig_unidades_vendidas_top10['data']:\n",
    "    fig_pergunta1.add_trace(trace, row=1, col=2)\n",
    "\n",
    "fig_pergunta1.update_layout(height=800, width=1000, title_text=\"Top 10 Departamentos\", showlegend=False)\n",
    "fig_pergunta1.show()\n"
   ]
  },
  {
   "cell_type": "code",
   "execution_count": 115,
   "id": "bc5b8c46",
   "metadata": {},
   "outputs": [
    {
     "data": {
      "application/vnd.plotly.v1+json": {
       "config": {
        "plotlyServerURL": "https://plot.ly"
       },
       "data": [
        {
         "alignmentgroup": "True",
         "hovertemplate": "value=%{x}<br>Departamento=%{y}<br>color=%{marker.color}<extra></extra>",
         "legendgroup": "",
         "marker": {
          "color": [
           4.041451884327381,
           3.6319588884717278,
           3.4507038990229844,
           3.3349995835415362,
           2.9514591494904874,
           2.757456138624084,
           2.753785273643051,
           2.552004559699546,
           2.5161308329755467,
           2.436369724794953,
           2.380476142847617,
           2.2360679774997894,
           2.2211108331943574,
           2.149798738343805,
           2.1213203435596424,
           2.111001654603745,
           2.064741604835056,
           2.0575065816014617,
           2.0219408447056098,
           2
          ],
          "coloraxis": "coloraxis",
          "pattern": {
           "shape": ""
          }
         },
         "name": "",
         "offsetgroup": "",
         "orientation": "h",
         "showlegend": false,
         "textposition": "auto",
         "type": "bar",
         "x": [
          4.041451884327381,
          3.6319588884717278,
          3.4507038990229844,
          3.3349995835415362,
          2.9514591494904874,
          2.757456138624084,
          2.753785273643051,
          2.552004559699546,
          2.5161308329755467,
          2.436369724794953,
          2.380476142847617,
          2.2360679774997894,
          2.2211108331943574,
          2.149798738343805,
          2.1213203435596424,
          2.111001654603745,
          2.064741604835056,
          2.0575065816014617,
          2.0219408447056098,
          2
         ],
         "xaxis": "x",
         "y": [
          "0533:PAPYRUS",
          "0646:SEASONAL",
          "0983:WINE",
          "0440:GIRLS 7-16 CLOTHING",
          "0644:SPORTS NUTRITION",
          "0879:PET SUPPLIES",
          "0210:FOUNDATIONS",
          "0973:CANDY",
          "0530:SCHOOL/OFFIC SUPP",
          "0930:TABLE TOP & KITCHEN",
          "0012:LOCAL GIFTS/FOODS",
          "0795:HOME DECOR",
          "0230:DAYWEAR",
          "0640:TOYS",
          "0165:LIFE IS GOOD",
          "0598:BABY CARE",
          "0531:STATIONERY SUNDRIES",
          "0240:SLEEPWEAR/LOUNGEWEAR",
          "0836:HOUSEHOLD CLEANING",
          "0130:JUNIORS SURF"
         ],
         "yaxis": "y"
        }
       ],
       "layout": {
        "barmode": "relative",
        "coloraxis": {
         "colorbar": {
          "title": {
           "text": "color"
          }
         },
         "colorscale": [
          [
           0,
           "#0d0887"
          ],
          [
           0.1111111111111111,
           "#46039f"
          ],
          [
           0.2222222222222222,
           "#7201a8"
          ],
          [
           0.3333333333333333,
           "#9c179e"
          ],
          [
           0.4444444444444444,
           "#bd3786"
          ],
          [
           0.5555555555555556,
           "#d8576b"
          ],
          [
           0.6666666666666666,
           "#ed7953"
          ],
          [
           0.7777777777777778,
           "#fb9f3a"
          ],
          [
           0.8888888888888888,
           "#fdca26"
          ],
          [
           1,
           "#f0f921"
          ]
         ]
        },
        "legend": {
         "tracegroupgap": 0
        },
        "margin": {
         "t": 60
        },
        "showlegend": false,
        "template": {
         "data": {
          "bar": [
           {
            "error_x": {
             "color": "#2a3f5f"
            },
            "error_y": {
             "color": "#2a3f5f"
            },
            "marker": {
             "line": {
              "color": "#E5ECF6",
              "width": 0.5
             },
             "pattern": {
              "fillmode": "overlay",
              "size": 10,
              "solidity": 0.2
             }
            },
            "type": "bar"
           }
          ],
          "barpolar": [
           {
            "marker": {
             "line": {
              "color": "#E5ECF6",
              "width": 0.5
             },
             "pattern": {
              "fillmode": "overlay",
              "size": 10,
              "solidity": 0.2
             }
            },
            "type": "barpolar"
           }
          ],
          "carpet": [
           {
            "aaxis": {
             "endlinecolor": "#2a3f5f",
             "gridcolor": "white",
             "linecolor": "white",
             "minorgridcolor": "white",
             "startlinecolor": "#2a3f5f"
            },
            "baxis": {
             "endlinecolor": "#2a3f5f",
             "gridcolor": "white",
             "linecolor": "white",
             "minorgridcolor": "white",
             "startlinecolor": "#2a3f5f"
            },
            "type": "carpet"
           }
          ],
          "choropleth": [
           {
            "colorbar": {
             "outlinewidth": 0,
             "ticks": ""
            },
            "type": "choropleth"
           }
          ],
          "contour": [
           {
            "colorbar": {
             "outlinewidth": 0,
             "ticks": ""
            },
            "colorscale": [
             [
              0,
              "#0d0887"
             ],
             [
              0.1111111111111111,
              "#46039f"
             ],
             [
              0.2222222222222222,
              "#7201a8"
             ],
             [
              0.3333333333333333,
              "#9c179e"
             ],
             [
              0.4444444444444444,
              "#bd3786"
             ],
             [
              0.5555555555555556,
              "#d8576b"
             ],
             [
              0.6666666666666666,
              "#ed7953"
             ],
             [
              0.7777777777777778,
              "#fb9f3a"
             ],
             [
              0.8888888888888888,
              "#fdca26"
             ],
             [
              1,
              "#f0f921"
             ]
            ],
            "type": "contour"
           }
          ],
          "contourcarpet": [
           {
            "colorbar": {
             "outlinewidth": 0,
             "ticks": ""
            },
            "type": "contourcarpet"
           }
          ],
          "heatmap": [
           {
            "colorbar": {
             "outlinewidth": 0,
             "ticks": ""
            },
            "colorscale": [
             [
              0,
              "#0d0887"
             ],
             [
              0.1111111111111111,
              "#46039f"
             ],
             [
              0.2222222222222222,
              "#7201a8"
             ],
             [
              0.3333333333333333,
              "#9c179e"
             ],
             [
              0.4444444444444444,
              "#bd3786"
             ],
             [
              0.5555555555555556,
              "#d8576b"
             ],
             [
              0.6666666666666666,
              "#ed7953"
             ],
             [
              0.7777777777777778,
              "#fb9f3a"
             ],
             [
              0.8888888888888888,
              "#fdca26"
             ],
             [
              1,
              "#f0f921"
             ]
            ],
            "type": "heatmap"
           }
          ],
          "heatmapgl": [
           {
            "colorbar": {
             "outlinewidth": 0,
             "ticks": ""
            },
            "colorscale": [
             [
              0,
              "#0d0887"
             ],
             [
              0.1111111111111111,
              "#46039f"
             ],
             [
              0.2222222222222222,
              "#7201a8"
             ],
             [
              0.3333333333333333,
              "#9c179e"
             ],
             [
              0.4444444444444444,
              "#bd3786"
             ],
             [
              0.5555555555555556,
              "#d8576b"
             ],
             [
              0.6666666666666666,
              "#ed7953"
             ],
             [
              0.7777777777777778,
              "#fb9f3a"
             ],
             [
              0.8888888888888888,
              "#fdca26"
             ],
             [
              1,
              "#f0f921"
             ]
            ],
            "type": "heatmapgl"
           }
          ],
          "histogram": [
           {
            "marker": {
             "pattern": {
              "fillmode": "overlay",
              "size": 10,
              "solidity": 0.2
             }
            },
            "type": "histogram"
           }
          ],
          "histogram2d": [
           {
            "colorbar": {
             "outlinewidth": 0,
             "ticks": ""
            },
            "colorscale": [
             [
              0,
              "#0d0887"
             ],
             [
              0.1111111111111111,
              "#46039f"
             ],
             [
              0.2222222222222222,
              "#7201a8"
             ],
             [
              0.3333333333333333,
              "#9c179e"
             ],
             [
              0.4444444444444444,
              "#bd3786"
             ],
             [
              0.5555555555555556,
              "#d8576b"
             ],
             [
              0.6666666666666666,
              "#ed7953"
             ],
             [
              0.7777777777777778,
              "#fb9f3a"
             ],
             [
              0.8888888888888888,
              "#fdca26"
             ],
             [
              1,
              "#f0f921"
             ]
            ],
            "type": "histogram2d"
           }
          ],
          "histogram2dcontour": [
           {
            "colorbar": {
             "outlinewidth": 0,
             "ticks": ""
            },
            "colorscale": [
             [
              0,
              "#0d0887"
             ],
             [
              0.1111111111111111,
              "#46039f"
             ],
             [
              0.2222222222222222,
              "#7201a8"
             ],
             [
              0.3333333333333333,
              "#9c179e"
             ],
             [
              0.4444444444444444,
              "#bd3786"
             ],
             [
              0.5555555555555556,
              "#d8576b"
             ],
             [
              0.6666666666666666,
              "#ed7953"
             ],
             [
              0.7777777777777778,
              "#fb9f3a"
             ],
             [
              0.8888888888888888,
              "#fdca26"
             ],
             [
              1,
              "#f0f921"
             ]
            ],
            "type": "histogram2dcontour"
           }
          ],
          "mesh3d": [
           {
            "colorbar": {
             "outlinewidth": 0,
             "ticks": ""
            },
            "type": "mesh3d"
           }
          ],
          "parcoords": [
           {
            "line": {
             "colorbar": {
              "outlinewidth": 0,
              "ticks": ""
             }
            },
            "type": "parcoords"
           }
          ],
          "pie": [
           {
            "automargin": true,
            "type": "pie"
           }
          ],
          "scatter": [
           {
            "fillpattern": {
             "fillmode": "overlay",
             "size": 10,
             "solidity": 0.2
            },
            "type": "scatter"
           }
          ],
          "scatter3d": [
           {
            "line": {
             "colorbar": {
              "outlinewidth": 0,
              "ticks": ""
             }
            },
            "marker": {
             "colorbar": {
              "outlinewidth": 0,
              "ticks": ""
             }
            },
            "type": "scatter3d"
           }
          ],
          "scattercarpet": [
           {
            "marker": {
             "colorbar": {
              "outlinewidth": 0,
              "ticks": ""
             }
            },
            "type": "scattercarpet"
           }
          ],
          "scattergeo": [
           {
            "marker": {
             "colorbar": {
              "outlinewidth": 0,
              "ticks": ""
             }
            },
            "type": "scattergeo"
           }
          ],
          "scattergl": [
           {
            "marker": {
             "colorbar": {
              "outlinewidth": 0,
              "ticks": ""
             }
            },
            "type": "scattergl"
           }
          ],
          "scattermapbox": [
           {
            "marker": {
             "colorbar": {
              "outlinewidth": 0,
              "ticks": ""
             }
            },
            "type": "scattermapbox"
           }
          ],
          "scatterpolar": [
           {
            "marker": {
             "colorbar": {
              "outlinewidth": 0,
              "ticks": ""
             }
            },
            "type": "scatterpolar"
           }
          ],
          "scatterpolargl": [
           {
            "marker": {
             "colorbar": {
              "outlinewidth": 0,
              "ticks": ""
             }
            },
            "type": "scatterpolargl"
           }
          ],
          "scatterternary": [
           {
            "marker": {
             "colorbar": {
              "outlinewidth": 0,
              "ticks": ""
             }
            },
            "type": "scatterternary"
           }
          ],
          "surface": [
           {
            "colorbar": {
             "outlinewidth": 0,
             "ticks": ""
            },
            "colorscale": [
             [
              0,
              "#0d0887"
             ],
             [
              0.1111111111111111,
              "#46039f"
             ],
             [
              0.2222222222222222,
              "#7201a8"
             ],
             [
              0.3333333333333333,
              "#9c179e"
             ],
             [
              0.4444444444444444,
              "#bd3786"
             ],
             [
              0.5555555555555556,
              "#d8576b"
             ],
             [
              0.6666666666666666,
              "#ed7953"
             ],
             [
              0.7777777777777778,
              "#fb9f3a"
             ],
             [
              0.8888888888888888,
              "#fdca26"
             ],
             [
              1,
              "#f0f921"
             ]
            ],
            "type": "surface"
           }
          ],
          "table": [
           {
            "cells": {
             "fill": {
              "color": "#EBF0F8"
             },
             "line": {
              "color": "white"
             }
            },
            "header": {
             "fill": {
              "color": "#C8D4E3"
             },
             "line": {
              "color": "white"
             }
            },
            "type": "table"
           }
          ]
         },
         "layout": {
          "annotationdefaults": {
           "arrowcolor": "#2a3f5f",
           "arrowhead": 0,
           "arrowwidth": 1
          },
          "autotypenumbers": "strict",
          "coloraxis": {
           "colorbar": {
            "outlinewidth": 0,
            "ticks": ""
           }
          },
          "colorscale": {
           "diverging": [
            [
             0,
             "#8e0152"
            ],
            [
             0.1,
             "#c51b7d"
            ],
            [
             0.2,
             "#de77ae"
            ],
            [
             0.3,
             "#f1b6da"
            ],
            [
             0.4,
             "#fde0ef"
            ],
            [
             0.5,
             "#f7f7f7"
            ],
            [
             0.6,
             "#e6f5d0"
            ],
            [
             0.7,
             "#b8e186"
            ],
            [
             0.8,
             "#7fbc41"
            ],
            [
             0.9,
             "#4d9221"
            ],
            [
             1,
             "#276419"
            ]
           ],
           "sequential": [
            [
             0,
             "#0d0887"
            ],
            [
             0.1111111111111111,
             "#46039f"
            ],
            [
             0.2222222222222222,
             "#7201a8"
            ],
            [
             0.3333333333333333,
             "#9c179e"
            ],
            [
             0.4444444444444444,
             "#bd3786"
            ],
            [
             0.5555555555555556,
             "#d8576b"
            ],
            [
             0.6666666666666666,
             "#ed7953"
            ],
            [
             0.7777777777777778,
             "#fb9f3a"
            ],
            [
             0.8888888888888888,
             "#fdca26"
            ],
            [
             1,
             "#f0f921"
            ]
           ],
           "sequentialminus": [
            [
             0,
             "#0d0887"
            ],
            [
             0.1111111111111111,
             "#46039f"
            ],
            [
             0.2222222222222222,
             "#7201a8"
            ],
            [
             0.3333333333333333,
             "#9c179e"
            ],
            [
             0.4444444444444444,
             "#bd3786"
            ],
            [
             0.5555555555555556,
             "#d8576b"
            ],
            [
             0.6666666666666666,
             "#ed7953"
            ],
            [
             0.7777777777777778,
             "#fb9f3a"
            ],
            [
             0.8888888888888888,
             "#fdca26"
            ],
            [
             1,
             "#f0f921"
            ]
           ]
          },
          "colorway": [
           "#636efa",
           "#EF553B",
           "#00cc96",
           "#ab63fa",
           "#FFA15A",
           "#19d3f3",
           "#FF6692",
           "#B6E880",
           "#FF97FF",
           "#FECB52"
          ],
          "font": {
           "color": "#2a3f5f"
          },
          "geo": {
           "bgcolor": "white",
           "lakecolor": "white",
           "landcolor": "#E5ECF6",
           "showlakes": true,
           "showland": true,
           "subunitcolor": "white"
          },
          "hoverlabel": {
           "align": "left"
          },
          "hovermode": "closest",
          "mapbox": {
           "style": "light"
          },
          "paper_bgcolor": "white",
          "plot_bgcolor": "#E5ECF6",
          "polar": {
           "angularaxis": {
            "gridcolor": "white",
            "linecolor": "white",
            "ticks": ""
           },
           "bgcolor": "#E5ECF6",
           "radialaxis": {
            "gridcolor": "white",
            "linecolor": "white",
            "ticks": ""
           }
          },
          "scene": {
           "xaxis": {
            "backgroundcolor": "#E5ECF6",
            "gridcolor": "white",
            "gridwidth": 2,
            "linecolor": "white",
            "showbackground": true,
            "ticks": "",
            "zerolinecolor": "white"
           },
           "yaxis": {
            "backgroundcolor": "#E5ECF6",
            "gridcolor": "white",
            "gridwidth": 2,
            "linecolor": "white",
            "showbackground": true,
            "ticks": "",
            "zerolinecolor": "white"
           },
           "zaxis": {
            "backgroundcolor": "#E5ECF6",
            "gridcolor": "white",
            "gridwidth": 2,
            "linecolor": "white",
            "showbackground": true,
            "ticks": "",
            "zerolinecolor": "white"
           }
          },
          "shapedefaults": {
           "line": {
            "color": "#2a3f5f"
           }
          },
          "ternary": {
           "aaxis": {
            "gridcolor": "white",
            "linecolor": "white",
            "ticks": ""
           },
           "baxis": {
            "gridcolor": "white",
            "linecolor": "white",
            "ticks": ""
           },
           "bgcolor": "#E5ECF6",
           "caxis": {
            "gridcolor": "white",
            "linecolor": "white",
            "ticks": ""
           }
          },
          "title": {
           "x": 0.05
          },
          "xaxis": {
           "automargin": true,
           "gridcolor": "white",
           "linecolor": "white",
           "ticks": "",
           "title": {
            "standoff": 15
           },
           "zerolinecolor": "white",
           "zerolinewidth": 2
          },
          "yaxis": {
           "automargin": true,
           "gridcolor": "white",
           "linecolor": "white",
           "ticks": "",
           "title": {
            "standoff": 15
           },
           "zerolinecolor": "white",
           "zerolinewidth": 2
          }
         }
        },
        "xaxis": {
         "anchor": "y",
         "domain": [
          0,
          1
         ],
         "title": {
          "text": "value"
         }
        },
        "yaxis": {
         "anchor": "x",
         "domain": [
          0,
          1
         ],
         "title": {
          "text": "Departamento"
         }
        }
       }
      },
      "text/html": [
       "<div>                            <div id=\"60218e9d-af17-466f-8afe-43e769415813\" class=\"plotly-graph-div\" style=\"height:525px; width:100%;\"></div>            <script type=\"text/javascript\">                require([\"plotly\"], function(Plotly) {                    window.PLOTLYENV=window.PLOTLYENV || {};                                    if (document.getElementById(\"60218e9d-af17-466f-8afe-43e769415813\")) {                    Plotly.newPlot(                        \"60218e9d-af17-466f-8afe-43e769415813\",                        [{\"alignmentgroup\":\"True\",\"hovertemplate\":\"value=%{x}\\u003cbr\\u003eDepartamento=%{y}\\u003cbr\\u003ecolor=%{marker.color}\\u003cextra\\u003e\\u003c\\u002fextra\\u003e\",\"legendgroup\":\"\",\"marker\":{\"color\":[4.041451884327381,3.6319588884717278,3.4507038990229844,3.3349995835415362,2.9514591494904874,2.757456138624084,2.753785273643051,2.552004559699546,2.5161308329755467,2.436369724794953,2.380476142847617,2.2360679774997894,2.2211108331943574,2.149798738343805,2.1213203435596424,2.111001654603745,2.064741604835056,2.0575065816014617,2.0219408447056098,2.0],\"coloraxis\":\"coloraxis\",\"pattern\":{\"shape\":\"\"}},\"name\":\"\",\"offsetgroup\":\"\",\"orientation\":\"h\",\"showlegend\":false,\"textposition\":\"auto\",\"x\":[4.041451884327381,3.6319588884717278,3.4507038990229844,3.3349995835415362,2.9514591494904874,2.757456138624084,2.753785273643051,2.552004559699546,2.5161308329755467,2.436369724794953,2.380476142847617,2.2360679774997894,2.2211108331943574,2.149798738343805,2.1213203435596424,2.111001654603745,2.064741604835056,2.0575065816014617,2.0219408447056098,2.0],\"xaxis\":\"x\",\"y\":[\"0533:PAPYRUS\",\"0646:SEASONAL\",\"0983:WINE\",\"0440:GIRLS 7-16 CLOTHING\",\"0644:SPORTS NUTRITION\",\"0879:PET SUPPLIES\",\"0210:FOUNDATIONS\",\"0973:CANDY\",\"0530:SCHOOL\\u002fOFFIC SUPP\",\"0930:TABLE TOP & KITCHEN\",\"0012:LOCAL GIFTS\\u002fFOODS\",\"0795:HOME DECOR\",\"0230:DAYWEAR\",\"0640:TOYS\",\"0165:LIFE IS GOOD\",\"0598:BABY CARE\",\"0531:STATIONERY SUNDRIES\",\"0240:SLEEPWEAR\\u002fLOUNGEWEAR\",\"0836:HOUSEHOLD CLEANING\",\"0130:JUNIORS SURF\"],\"yaxis\":\"y\",\"type\":\"bar\"}],                        {\"template\":{\"data\":{\"histogram2dcontour\":[{\"type\":\"histogram2dcontour\",\"colorbar\":{\"outlinewidth\":0,\"ticks\":\"\"},\"colorscale\":[[0.0,\"#0d0887\"],[0.1111111111111111,\"#46039f\"],[0.2222222222222222,\"#7201a8\"],[0.3333333333333333,\"#9c179e\"],[0.4444444444444444,\"#bd3786\"],[0.5555555555555556,\"#d8576b\"],[0.6666666666666666,\"#ed7953\"],[0.7777777777777778,\"#fb9f3a\"],[0.8888888888888888,\"#fdca26\"],[1.0,\"#f0f921\"]]}],\"choropleth\":[{\"type\":\"choropleth\",\"colorbar\":{\"outlinewidth\":0,\"ticks\":\"\"}}],\"histogram2d\":[{\"type\":\"histogram2d\",\"colorbar\":{\"outlinewidth\":0,\"ticks\":\"\"},\"colorscale\":[[0.0,\"#0d0887\"],[0.1111111111111111,\"#46039f\"],[0.2222222222222222,\"#7201a8\"],[0.3333333333333333,\"#9c179e\"],[0.4444444444444444,\"#bd3786\"],[0.5555555555555556,\"#d8576b\"],[0.6666666666666666,\"#ed7953\"],[0.7777777777777778,\"#fb9f3a\"],[0.8888888888888888,\"#fdca26\"],[1.0,\"#f0f921\"]]}],\"heatmap\":[{\"type\":\"heatmap\",\"colorbar\":{\"outlinewidth\":0,\"ticks\":\"\"},\"colorscale\":[[0.0,\"#0d0887\"],[0.1111111111111111,\"#46039f\"],[0.2222222222222222,\"#7201a8\"],[0.3333333333333333,\"#9c179e\"],[0.4444444444444444,\"#bd3786\"],[0.5555555555555556,\"#d8576b\"],[0.6666666666666666,\"#ed7953\"],[0.7777777777777778,\"#fb9f3a\"],[0.8888888888888888,\"#fdca26\"],[1.0,\"#f0f921\"]]}],\"heatmapgl\":[{\"type\":\"heatmapgl\",\"colorbar\":{\"outlinewidth\":0,\"ticks\":\"\"},\"colorscale\":[[0.0,\"#0d0887\"],[0.1111111111111111,\"#46039f\"],[0.2222222222222222,\"#7201a8\"],[0.3333333333333333,\"#9c179e\"],[0.4444444444444444,\"#bd3786\"],[0.5555555555555556,\"#d8576b\"],[0.6666666666666666,\"#ed7953\"],[0.7777777777777778,\"#fb9f3a\"],[0.8888888888888888,\"#fdca26\"],[1.0,\"#f0f921\"]]}],\"contourcarpet\":[{\"type\":\"contourcarpet\",\"colorbar\":{\"outlinewidth\":0,\"ticks\":\"\"}}],\"contour\":[{\"type\":\"contour\",\"colorbar\":{\"outlinewidth\":0,\"ticks\":\"\"},\"colorscale\":[[0.0,\"#0d0887\"],[0.1111111111111111,\"#46039f\"],[0.2222222222222222,\"#7201a8\"],[0.3333333333333333,\"#9c179e\"],[0.4444444444444444,\"#bd3786\"],[0.5555555555555556,\"#d8576b\"],[0.6666666666666666,\"#ed7953\"],[0.7777777777777778,\"#fb9f3a\"],[0.8888888888888888,\"#fdca26\"],[1.0,\"#f0f921\"]]}],\"surface\":[{\"type\":\"surface\",\"colorbar\":{\"outlinewidth\":0,\"ticks\":\"\"},\"colorscale\":[[0.0,\"#0d0887\"],[0.1111111111111111,\"#46039f\"],[0.2222222222222222,\"#7201a8\"],[0.3333333333333333,\"#9c179e\"],[0.4444444444444444,\"#bd3786\"],[0.5555555555555556,\"#d8576b\"],[0.6666666666666666,\"#ed7953\"],[0.7777777777777778,\"#fb9f3a\"],[0.8888888888888888,\"#fdca26\"],[1.0,\"#f0f921\"]]}],\"mesh3d\":[{\"type\":\"mesh3d\",\"colorbar\":{\"outlinewidth\":0,\"ticks\":\"\"}}],\"scatter\":[{\"fillpattern\":{\"fillmode\":\"overlay\",\"size\":10,\"solidity\":0.2},\"type\":\"scatter\"}],\"parcoords\":[{\"type\":\"parcoords\",\"line\":{\"colorbar\":{\"outlinewidth\":0,\"ticks\":\"\"}}}],\"scatterpolargl\":[{\"type\":\"scatterpolargl\",\"marker\":{\"colorbar\":{\"outlinewidth\":0,\"ticks\":\"\"}}}],\"bar\":[{\"error_x\":{\"color\":\"#2a3f5f\"},\"error_y\":{\"color\":\"#2a3f5f\"},\"marker\":{\"line\":{\"color\":\"#E5ECF6\",\"width\":0.5},\"pattern\":{\"fillmode\":\"overlay\",\"size\":10,\"solidity\":0.2}},\"type\":\"bar\"}],\"scattergeo\":[{\"type\":\"scattergeo\",\"marker\":{\"colorbar\":{\"outlinewidth\":0,\"ticks\":\"\"}}}],\"scatterpolar\":[{\"type\":\"scatterpolar\",\"marker\":{\"colorbar\":{\"outlinewidth\":0,\"ticks\":\"\"}}}],\"histogram\":[{\"marker\":{\"pattern\":{\"fillmode\":\"overlay\",\"size\":10,\"solidity\":0.2}},\"type\":\"histogram\"}],\"scattergl\":[{\"type\":\"scattergl\",\"marker\":{\"colorbar\":{\"outlinewidth\":0,\"ticks\":\"\"}}}],\"scatter3d\":[{\"type\":\"scatter3d\",\"line\":{\"colorbar\":{\"outlinewidth\":0,\"ticks\":\"\"}},\"marker\":{\"colorbar\":{\"outlinewidth\":0,\"ticks\":\"\"}}}],\"scattermapbox\":[{\"type\":\"scattermapbox\",\"marker\":{\"colorbar\":{\"outlinewidth\":0,\"ticks\":\"\"}}}],\"scatterternary\":[{\"type\":\"scatterternary\",\"marker\":{\"colorbar\":{\"outlinewidth\":0,\"ticks\":\"\"}}}],\"scattercarpet\":[{\"type\":\"scattercarpet\",\"marker\":{\"colorbar\":{\"outlinewidth\":0,\"ticks\":\"\"}}}],\"carpet\":[{\"aaxis\":{\"endlinecolor\":\"#2a3f5f\",\"gridcolor\":\"white\",\"linecolor\":\"white\",\"minorgridcolor\":\"white\",\"startlinecolor\":\"#2a3f5f\"},\"baxis\":{\"endlinecolor\":\"#2a3f5f\",\"gridcolor\":\"white\",\"linecolor\":\"white\",\"minorgridcolor\":\"white\",\"startlinecolor\":\"#2a3f5f\"},\"type\":\"carpet\"}],\"table\":[{\"cells\":{\"fill\":{\"color\":\"#EBF0F8\"},\"line\":{\"color\":\"white\"}},\"header\":{\"fill\":{\"color\":\"#C8D4E3\"},\"line\":{\"color\":\"white\"}},\"type\":\"table\"}],\"barpolar\":[{\"marker\":{\"line\":{\"color\":\"#E5ECF6\",\"width\":0.5},\"pattern\":{\"fillmode\":\"overlay\",\"size\":10,\"solidity\":0.2}},\"type\":\"barpolar\"}],\"pie\":[{\"automargin\":true,\"type\":\"pie\"}]},\"layout\":{\"autotypenumbers\":\"strict\",\"colorway\":[\"#636efa\",\"#EF553B\",\"#00cc96\",\"#ab63fa\",\"#FFA15A\",\"#19d3f3\",\"#FF6692\",\"#B6E880\",\"#FF97FF\",\"#FECB52\"],\"font\":{\"color\":\"#2a3f5f\"},\"hovermode\":\"closest\",\"hoverlabel\":{\"align\":\"left\"},\"paper_bgcolor\":\"white\",\"plot_bgcolor\":\"#E5ECF6\",\"polar\":{\"bgcolor\":\"#E5ECF6\",\"angularaxis\":{\"gridcolor\":\"white\",\"linecolor\":\"white\",\"ticks\":\"\"},\"radialaxis\":{\"gridcolor\":\"white\",\"linecolor\":\"white\",\"ticks\":\"\"}},\"ternary\":{\"bgcolor\":\"#E5ECF6\",\"aaxis\":{\"gridcolor\":\"white\",\"linecolor\":\"white\",\"ticks\":\"\"},\"baxis\":{\"gridcolor\":\"white\",\"linecolor\":\"white\",\"ticks\":\"\"},\"caxis\":{\"gridcolor\":\"white\",\"linecolor\":\"white\",\"ticks\":\"\"}},\"coloraxis\":{\"colorbar\":{\"outlinewidth\":0,\"ticks\":\"\"}},\"colorscale\":{\"sequential\":[[0.0,\"#0d0887\"],[0.1111111111111111,\"#46039f\"],[0.2222222222222222,\"#7201a8\"],[0.3333333333333333,\"#9c179e\"],[0.4444444444444444,\"#bd3786\"],[0.5555555555555556,\"#d8576b\"],[0.6666666666666666,\"#ed7953\"],[0.7777777777777778,\"#fb9f3a\"],[0.8888888888888888,\"#fdca26\"],[1.0,\"#f0f921\"]],\"sequentialminus\":[[0.0,\"#0d0887\"],[0.1111111111111111,\"#46039f\"],[0.2222222222222222,\"#7201a8\"],[0.3333333333333333,\"#9c179e\"],[0.4444444444444444,\"#bd3786\"],[0.5555555555555556,\"#d8576b\"],[0.6666666666666666,\"#ed7953\"],[0.7777777777777778,\"#fb9f3a\"],[0.8888888888888888,\"#fdca26\"],[1.0,\"#f0f921\"]],\"diverging\":[[0,\"#8e0152\"],[0.1,\"#c51b7d\"],[0.2,\"#de77ae\"],[0.3,\"#f1b6da\"],[0.4,\"#fde0ef\"],[0.5,\"#f7f7f7\"],[0.6,\"#e6f5d0\"],[0.7,\"#b8e186\"],[0.8,\"#7fbc41\"],[0.9,\"#4d9221\"],[1,\"#276419\"]]},\"xaxis\":{\"gridcolor\":\"white\",\"linecolor\":\"white\",\"ticks\":\"\",\"title\":{\"standoff\":15},\"zerolinecolor\":\"white\",\"automargin\":true,\"zerolinewidth\":2},\"yaxis\":{\"gridcolor\":\"white\",\"linecolor\":\"white\",\"ticks\":\"\",\"title\":{\"standoff\":15},\"zerolinecolor\":\"white\",\"automargin\":true,\"zerolinewidth\":2},\"scene\":{\"xaxis\":{\"backgroundcolor\":\"#E5ECF6\",\"gridcolor\":\"white\",\"linecolor\":\"white\",\"showbackground\":true,\"ticks\":\"\",\"zerolinecolor\":\"white\",\"gridwidth\":2},\"yaxis\":{\"backgroundcolor\":\"#E5ECF6\",\"gridcolor\":\"white\",\"linecolor\":\"white\",\"showbackground\":true,\"ticks\":\"\",\"zerolinecolor\":\"white\",\"gridwidth\":2},\"zaxis\":{\"backgroundcolor\":\"#E5ECF6\",\"gridcolor\":\"white\",\"linecolor\":\"white\",\"showbackground\":true,\"ticks\":\"\",\"zerolinecolor\":\"white\",\"gridwidth\":2}},\"shapedefaults\":{\"line\":{\"color\":\"#2a3f5f\"}},\"annotationdefaults\":{\"arrowcolor\":\"#2a3f5f\",\"arrowhead\":0,\"arrowwidth\":1},\"geo\":{\"bgcolor\":\"white\",\"landcolor\":\"#E5ECF6\",\"subunitcolor\":\"white\",\"showland\":true,\"showlakes\":true,\"lakecolor\":\"white\"},\"title\":{\"x\":0.05},\"mapbox\":{\"style\":\"light\"}}},\"xaxis\":{\"anchor\":\"y\",\"domain\":[0.0,1.0],\"title\":{\"text\":\"value\"}},\"yaxis\":{\"anchor\":\"x\",\"domain\":[0.0,1.0],\"title\":{\"text\":\"Departamento\"}},\"coloraxis\":{\"colorbar\":{\"title\":{\"text\":\"color\"}},\"colorscale\":[[0.0,\"#0d0887\"],[0.1111111111111111,\"#46039f\"],[0.2222222222222222,\"#7201a8\"],[0.3333333333333333,\"#9c179e\"],[0.4444444444444444,\"#bd3786\"],[0.5555555555555556,\"#d8576b\"],[0.6666666666666666,\"#ed7953\"],[0.7777777777777778,\"#fb9f3a\"],[0.8888888888888888,\"#fdca26\"],[1.0,\"#f0f921\"]]},\"legend\":{\"tracegroupgap\":0},\"margin\":{\"t\":60},\"barmode\":\"relative\",\"showlegend\":false},                        {\"responsive\": true}                    ).then(function(){\n",
       "                            \n",
       "var gd = document.getElementById('60218e9d-af17-466f-8afe-43e769415813');\n",
       "var x = new MutationObserver(function (mutations, observer) {{\n",
       "        var display = window.getComputedStyle(gd).display;\n",
       "        if (!display || display === 'none') {{\n",
       "            console.log([gd, 'removed!']);\n",
       "            Plotly.purge(gd);\n",
       "            observer.disconnect();\n",
       "        }}\n",
       "}});\n",
       "\n",
       "// Listen for the removal of the full notebook cells\n",
       "var notebookContainer = gd.closest('#notebook-container');\n",
       "if (notebookContainer) {{\n",
       "    x.observe(notebookContainer, {childList: true});\n",
       "}}\n",
       "\n",
       "// Listen for the clearing of the current output cell\n",
       "var outputEl = gd.closest('.output');\n",
       "if (outputEl) {{\n",
       "    x.observe(outputEl, {childList: true});\n",
       "}}\n",
       "\n",
       "                        })                };                });            </script>        </div>"
      ]
     },
     "metadata": {},
     "output_type": "display_data"
    }
   ],
   "source": [
    "# Quais departamentos tem a maior variação nas unidades vendidas por transação? Top 20\n",
    "\n",
    "# Calcular o desvio padrão das quantidades vendidas, agrupando por departamento\n",
    "\n",
    "desvio_padrao_quantidades_por_departamentos_top20 = df_transacoes.groupby('Departamento')['Qtde_Vendida'].std().sort_values(ascending=False).head(20)\n",
    "\n",
    "# Plot\n",
    "fig_variacao_unidades_vendidas_top20 = px.bar(desvio_padrao_quantidades_por_departamentos_top20, color=desvio_padrao_quantidades_por_departamentos_top20, orientation='h')\n",
    "fig_variacao_unidades_vendidas_top20.update_layout(showlegend=False)\n",
    "fig_variacao_unidades_vendidas_top20.show()"
   ]
  },
  {
   "cell_type": "code",
   "execution_count": 116,
   "id": "d132425d",
   "metadata": {},
   "outputs": [
    {
     "data": {
      "application/vnd.plotly.v1+json": {
       "config": {
        "plotlyServerURL": "https://plot.ly"
       },
       "data": [
        {
         "alignmentgroup": "True",
         "hovertemplate": "Departamento=%{x}<br>Qtde_Vendida=%{y}<extra></extra>",
         "legendgroup": "",
         "marker": {
          "color": "#636efa"
         },
         "name": "",
         "notched": false,
         "offsetgroup": "",
         "orientation": "v",
         "showlegend": false,
         "type": "box",
         "x": [
          "0261:HOSIERY",
          "0634:VITAMINS & HLTH AIDS",
          "0879:PET SUPPLIES",
          "0973:CANDY",
          "0982:SPIRITS",
          "0983:WINE",
          "0991:TOBACCO",
          "0597:HEALTH AIDS",
          "0604:PERSONAL CARE",
          "0819:PRE-RECORDED A/V",
          "0826:SMALL ELECTRICS",
          "0982:SPIRITS",
          "0961:GENERAL GROCERIES",
          "0982:SPIRITS",
          "0982:SPIRITS",
          "0991:TOBACCO",
          "0879:PET SUPPLIES",
          "0982:SPIRITS",
          "0983:WINE",
          "0984:BEER",
          "0530:SCHOOL/OFFIC SUPP",
          "0597:HEALTH AIDS",
          "0601:VALUE ZONE",
          "0634:VITAMINS & HLTH AIDS",
          "0836:HOUSEHOLD CLEANING",
          "0593:PRESTIGE COSMETICS",
          "0597:HEALTH AIDS",
          "0598:BABY CARE",
          "0836:HOUSEHOLD CLEANING",
          "0965:PERISHABLES",
          "0973:CANDY",
          "0983:WINE",
          "0837:GENERAL HOUSEWARES",
          "0982:SPIRITS",
          "0879:PET SUPPLIES",
          "0973:CANDY",
          "0984:BEER",
          "0983:WINE",
          "0962:BEVERAGES",
          "0982:SPIRITS",
          "0982:SPIRITS",
          "0983:WINE",
          "0982:SPIRITS",
          "0638:GEN SPORTING GOODS",
          "0961:GENERAL GROCERIES",
          "0973:CANDY",
          "0991:TOBACCO",
          "0646:SEASONAL",
          "0991:TOBACCO",
          "0962:BEVERAGES",
          "0982:SPIRITS",
          "0983:WINE",
          "0982:SPIRITS",
          "0982:SPIRITS",
          "0983:WINE",
          "0962:BEVERAGES",
          "0982:SPIRITS",
          "0603:BEAUTY CARE",
          "0604:PERSONAL CARE",
          "0962:BEVERAGES",
          "0962:BEVERAGES",
          "0982:SPIRITS",
          "0962:BEVERAGES",
          "0071:BEAUTY RETAIL",
          "0603:BEAUTY CARE",
          "0795:HOME DECOR",
          "0982:SPIRITS",
          "0991:TOBACCO",
          "0603:BEAUTY CARE",
          "0604:PERSONAL CARE",
          "0638:GEN SPORTING GOODS",
          "0644:SPORTS NUTRITION",
          "0680:AUTOMOTIVE",
          "0961:GENERAL GROCERIES",
          "0962:BEVERAGES",
          "0973:CANDY",
          "0597:HEALTH AIDS",
          "0644:SPORTS NUTRITION",
          "0836:HOUSEHOLD CLEANING",
          "0836:HOUSEHOLD CLEANING",
          "0983:WINE",
          "0984:BEER",
          "0961:GENERAL GROCERIES",
          "0982:SPIRITS",
          "0962:BEVERAGES",
          "0982:SPIRITS",
          "0984:BEER",
          "0961:GENERAL GROCERIES",
          "0644:SPORTS NUTRITION",
          "0961:GENERAL GROCERIES",
          "0962:BEVERAGES",
          "0604:PERSONAL CARE",
          "0836:HOUSEHOLD CLEANING",
          "0983:WINE",
          "0280:FASHION ACCESSORIES",
          "0961:GENERAL GROCERIES",
          "0962:BEVERAGES",
          "0982:SPIRITS",
          "0982:SPIRITS",
          "0826:SMALL ELECTRICS",
          "0982:SPIRITS",
          "0984:BEER",
          "0991:TOBACCO",
          "0991:TOBACCO",
          "0836:HOUSEHOLD CLEANING",
          "0884:LAWN & GARDEN",
          "0991:TOBACCO",
          "0551:CAMERAS & EQUIP",
          "0597:HEALTH AIDS",
          "0834:COOKWARE",
          "0836:HOUSEHOLD CLEANING",
          "0532:AMERICAN GREETINGS",
          "0983:WINE",
          "0984:BEER",
          "0983:WINE",
          "0644:SPORTS NUTRITION",
          "0861:GENERAL HARDWARE",
          "0961:GENERAL GROCERIES",
          "0982:SPIRITS",
          "0983:WINE",
          "0961:GENERAL GROCERIES",
          "0962:BEVERAGES",
          "0646:SEASONAL",
          "0879:PET SUPPLIES",
          "0982:SPIRITS",
          "0983:WINE",
          "0984:BEER",
          "0991:TOBACCO",
          "0593:PRESTIGE COSMETICS",
          "0982:SPIRITS",
          "0984:BEER",
          "0991:TOBACCO",
          "0983:WINE",
          "0991:TOBACCO",
          "0532:AMERICAN GREETINGS",
          "0982:SPIRITS",
          "0983:WINE",
          "0982:SPIRITS",
          "0644:SPORTS NUTRITION",
          "0991:TOBACCO",
          "0962:BEVERAGES",
          "0982:SPIRITS",
          "0879:PET SUPPLIES",
          "0973:CANDY",
          "0991:TOBACCO",
          "0604:PERSONAL CARE",
          "0644:SPORTS NUTRITION",
          "0012:LOCAL GIFTS/FOODS",
          "0530:SCHOOL/OFFIC SUPP",
          "0532:AMERICAN GREETINGS",
          "0604:PERSONAL CARE",
          "0879:PET SUPPLIES",
          "0973:CANDY",
          "0983:WINE",
          "0644:SPORTS NUTRITION",
          "0962:BEVERAGES",
          "0991:TOBACCO",
          "0646:SEASONAL",
          "0982:SPIRITS",
          "0983:WINE",
          "0962:BEVERAGES",
          "0230:DAYWEAR",
          "0531:STATIONERY SUNDRIES",
          "0598:BABY CARE",
          "0983:WINE",
          "0646:SEASONAL",
          "0590:MASS COSMETICS",
          "0597:HEALTH AIDS",
          "0982:SPIRITS",
          "0983:WINE",
          "0983:WINE",
          "0071:BEAUTY RETAIL",
          "0646:SEASONAL",
          "0962:BEVERAGES",
          "0973:CANDY",
          "0982:SPIRITS",
          "0983:WINE",
          "0991:TOBACCO",
          "0879:PET SUPPLIES",
          "0836:HOUSEHOLD CLEANING",
          "0879:PET SUPPLIES",
          "0879:PET SUPPLIES",
          "0962:BEVERAGES",
          "0982:SPIRITS",
          "0603:BEAUTY CARE",
          "0680:AUTOMOTIVE",
          "0984:BEER",
          "0846:BATTERIES",
          "0961:GENERAL GROCERIES",
          "0962:BEVERAGES",
          "0973:CANDY",
          "0991:TOBACCO",
          "0961:GENERAL GROCERIES",
          "0973:CANDY",
          "0597:HEALTH AIDS",
          "0603:BEAUTY CARE",
          "0604:PERSONAL CARE",
          "0836:HOUSEHOLD CLEANING",
          "0983:WINE",
          "0343:MENS DENIM JEANS",
          "0879:PET SUPPLIES",
          "0597:HEALTH AIDS",
          "0982:SPIRITS",
          "0991:TOBACCO",
          "0589:SUNGLASSES",
          "0597:HEALTH AIDS",
          "0603:BEAUTY CARE",
          "0604:PERSONAL CARE",
          "0836:HOUSEHOLD CLEANING",
          "0879:PET SUPPLIES",
          "0884:LAWN & GARDEN",
          "0590:MASS COSMETICS",
          "0640:TOYS",
          "0962:BEVERAGES",
          "0973:CANDY",
          "0640:TOYS",
          "0646:SEASONAL",
          "0962:BEVERAGES",
          "0982:SPIRITS",
          "0982:SPIRITS",
          "0983:WINE",
          "0604:PERSONAL CARE",
          "0982:SPIRITS",
          "0597:HEALTH AIDS",
          "0846:BATTERIES",
          "0961:GENERAL GROCERIES",
          "0962:BEVERAGES",
          "0597:HEALTH AIDS",
          "0603:BEAUTY CARE",
          "0604:PERSONAL CARE",
          "0982:SPIRITS",
          "0984:BEER",
          "0991:TOBACCO",
          "0879:PET SUPPLIES",
          "0982:SPIRITS",
          "0991:TOBACCO",
          "0637:FISHING",
          "0597:HEALTH AIDS",
          "0604:PERSONAL CARE",
          "0836:HOUSEHOLD CLEANING",
          "0984:BEER",
          "0991:TOBACCO",
          "0982:SPIRITS",
          "0983:WINE",
          "0982:SPIRITS",
          "0984:BEER",
          "0597:HEALTH AIDS",
          "0861:GENERAL HARDWARE",
          "0962:BEVERAGES",
          "0982:SPIRITS",
          "0982:SPIRITS",
          "0982:SPIRITS",
          "0991:TOBACCO",
          "0836:HOUSEHOLD CLEANING",
          "0982:SPIRITS",
          "0991:TOBACCO",
          "0983:WINE",
          "0991:TOBACCO",
          "0991:TOBACCO",
          "0597:HEALTH AIDS",
          "0879:PET SUPPLIES",
          "0973:CANDY",
          "0822:THIRD PARTY GIFTCARD",
          "0879:PET SUPPLIES",
          "0991:TOBACCO",
          "0983:WINE",
          "0359:MENS ACCESSORIES",
          "0973:CANDY",
          "0645:BIKES",
          "0846:BATTERIES",
          "0982:SPIRITS",
          "0983:WINE",
          "0861:GENERAL HARDWARE",
          "0597:HEALTH AIDS",
          "0982:SPIRITS",
          "0983:WINE",
          "0861:GENERAL HARDWARE",
          "0836:HOUSEHOLD CLEANING",
          "0982:SPIRITS",
          "0991:TOBACCO",
          "0532:AMERICAN GREETINGS",
          "0603:BEAUTY CARE",
          "0638:GEN SPORTING GOODS",
          "0973:CANDY",
          "0982:SPIRITS",
          "0983:WINE",
          "0984:BEER",
          "0983:WINE",
          "0532:AMERICAN GREETINGS",
          "0640:TOYS",
          "0646:SEASONAL",
          "0879:PET SUPPLIES",
          "0541:BOOKS AND MAPS",
          "0973:CANDY",
          "0597:HEALTH AIDS",
          "0973:CANDY",
          "0983:WINE",
          "0984:BEER",
          "0861:GENERAL HARDWARE",
          "0638:GEN SPORTING GOODS",
          "0983:WINE",
          "0597:HEALTH AIDS",
          "0984:BEER",
          "0982:SPIRITS",
          "0982:SPIRITS",
          "0590:MASS COSMETICS",
          "0973:CANDY",
          "0982:SPIRITS",
          "0983:WINE",
          "0984:BEER",
          "0982:SPIRITS",
          "0983:WINE",
          "0884:LAWN & GARDEN",
          "0983:WINE",
          "0531:STATIONERY SUNDRIES",
          "0597:HEALTH AIDS",
          "0603:BEAUTY CARE",
          "0836:HOUSEHOLD CLEANING",
          "0879:PET SUPPLIES",
          "0973:CANDY",
          "0991:TOBACCO",
          "0879:PET SUPPLIES",
          "0982:SPIRITS",
          "0982:SPIRITS",
          "0991:TOBACCO",
          "0532:AMERICAN GREETINGS",
          "0836:HOUSEHOLD CLEANING",
          "0879:PET SUPPLIES",
          "0982:SPIRITS",
          "0991:TOBACCO",
          "0962:BEVERAGES",
          "0991:TOBACCO",
          "0982:SPIRITS",
          "0984:BEER",
          "0982:SPIRITS",
          "0991:TOBACCO",
          "0982:SPIRITS",
          "0991:TOBACCO",
          "0973:CANDY",
          "0982:SPIRITS",
          "0391:MENS SHOES",
          "0638:GEN SPORTING GOODS",
          "0644:SPORTS NUTRITION",
          "0973:CANDY",
          "0597:HEALTH AIDS",
          "0836:HOUSEHOLD CLEANING",
          "0646:SEASONAL",
          "0861:GENERAL HARDWARE",
          "0797:SEASONAL GIFTS",
          "0983:WINE",
          "0984:BEER",
          "0982:SPIRITS",
          "0991:TOBACCO",
          "0884:LAWN & GARDEN",
          "0982:SPIRITS",
          "0983:WINE",
          "0984:BEER",
          "0071:BEAUTY RETAIL",
          "0983:WINE",
          "0991:TOBACCO",
          "0826:SMALL ELECTRICS",
          "0973:CANDY",
          "0982:SPIRITS",
          "0983:WINE",
          "0991:TOBACCO",
          "0982:SPIRITS",
          "0991:TOBACCO",
          "0395:MENS ATHLETIC SHOES",
          "0961:GENERAL GROCERIES",
          "0982:SPIRITS",
          "0962:BEVERAGES",
          "0984:BEER",
          "0984:BEER",
          "0991:TOBACCO",
          "0110:LDS OUTERWEAR/OUTDR",
          "0240:SLEEPWEAR/LOUNGEWEAR",
          "0380:MENS ACTIVEWEAR",
          "0470:BOYS 8-20 CLOTHING",
          "0603:BEAUTY CARE",
          "0722:OUTDOOR LIVING",
          "0837:GENERAL HOUSEWARES",
          "0845:AS SEEN ON TV",
          "0982:SPIRITS",
          "0983:WINE",
          "0984:BEER",
          "0991:TOBACCO",
          "0879:PET SUPPLIES",
          "0991:TOBACCO",
          "0962:BEVERAGES",
          "0982:SPIRITS",
          "0879:PET SUPPLIES",
          "0982:SPIRITS",
          "0991:TOBACCO",
          "0836:HOUSEHOLD CLEANING",
          "0854:VIDEO GAMES",
          "0590:MASS COSMETICS",
          "0983:WINE",
          "0984:BEER",
          "0962:BEVERAGES",
          "0603:BEAUTY CARE",
          "0983:WINE",
          "0603:BEAUTY CARE",
          "0879:PET SUPPLIES",
          "0984:BEER",
          "0640:TOYS",
          "0645:BIKES",
          "0680:AUTOMOTIVE",
          "0879:PET SUPPLIES",
          "0991:TOBACCO",
          "0879:PET SUPPLIES",
          "0983:WINE",
          "0646:SEASONAL",
          "0836:HOUSEHOLD CLEANING",
          "0852:COMPUTER SOFTWARE",
          "0982:SPIRITS",
          "0973:CANDY",
          "0982:SPIRITS",
          "0983:WINE",
          "0991:TOBACCO",
          "0644:SPORTS NUTRITION",
          "0836:HOUSEHOLD CLEANING",
          "0597:HEALTH AIDS",
          "0604:PERSONAL CARE",
          "0961:GENERAL GROCERIES",
          "0962:BEVERAGES",
          "0982:SPIRITS",
          "0826:SMALL ELECTRICS",
          "0962:BEVERAGES",
          "0982:SPIRITS",
          "0984:BEER",
          "0991:TOBACCO",
          "0982:SPIRITS",
          "0982:SPIRITS",
          "0991:TOBACCO",
          "0983:WINE",
          "0879:PET SUPPLIES",
          "0530:SCHOOL/OFFIC SUPP",
          "0532:AMERICAN GREETINGS",
          "0644:SPORTS NUTRITION",
          "0962:BEVERAGES",
          "0973:CANDY",
          "0983:WINE",
          "0984:BEER",
          "0982:SPIRITS",
          "0597:HEALTH AIDS",
          "0644:SPORTS NUTRITION",
          "0961:GENERAL GROCERIES",
          "0982:SPIRITS",
          "0983:WINE",
          "0962:BEVERAGES",
          "0991:TOBACCO",
          "0982:SPIRITS",
          "0982:SPIRITS",
          "0983:WINE",
          "0962:BEVERAGES",
          "0982:SPIRITS",
          "0983:WINE",
          "0983:WINE",
          "0836:HOUSEHOLD CLEANING",
          "0962:BEVERAGES",
          "0973:CANDY",
          "0991:TOBACCO",
          "0836:HOUSEHOLD CLEANING",
          "0846:BATTERIES",
          "0982:SPIRITS",
          "0991:TOBACCO",
          "0973:CANDY",
          "0984:BEER",
          "0597:HEALTH AIDS",
          "0604:PERSONAL CARE",
          "0836:HOUSEHOLD CLEANING",
          "0961:GENERAL GROCERIES",
          "0962:BEVERAGES",
          "0973:CANDY",
          "0531:STATIONERY SUNDRIES",
          "0644:SPORTS NUTRITION",
          "0856:GLUES/TAPES/ACC",
          "0982:SPIRITS",
          "0532:AMERICAN GREETINGS",
          "0962:BEVERAGES",
          "0846:BATTERIES",
          "0861:GENERAL HARDWARE",
          "0863:POWER EQUIPMENT",
          "0161:MISSY KAREN SCOTT",
          "0593:PRESTIGE COSMETICS",
          "0982:SPIRITS",
          "0983:WINE",
          "0961:GENERAL GROCERIES",
          "0984:BEER",
          "0879:PET SUPPLIES",
          "0982:SPIRITS",
          "0056:SOUVENIR",
          "0532:AMERICAN GREETINGS",
          "0603:BEAUTY CARE",
          "0646:SEASONAL",
          "0861:GENERAL HARDWARE",
          "0973:CANDY",
          "0982:SPIRITS",
          "0982:SPIRITS",
          "0983:WINE",
          "0380:MENS ACTIVEWEAR",
          "0982:SPIRITS",
          "0982:SPIRITS",
          "0991:TOBACCO",
          "0983:WINE",
          "0353:MENS OUTDOOR",
          "0597:HEALTH AIDS",
          "0604:PERSONAL CARE",
          "0982:SPIRITS",
          "0861:GENERAL HARDWARE",
          "0961:GENERAL GROCERIES",
          "0597:HEALTH AIDS",
          "0982:SPIRITS",
          "0836:HOUSEHOLD CLEANING",
          "0861:GENERAL HARDWARE",
          "0973:CANDY",
          "0982:SPIRITS",
          "0604:PERSONAL CARE",
          "0962:BEVERAGES",
          "0879:PET SUPPLIES",
          "0982:SPIRITS",
          "0984:BEER",
          "0640:TOYS",
          "0982:SPIRITS",
          "0983:WINE",
          "0604:PERSONAL CARE",
          "0639:TEAM SPORTING GOODS",
          "0961:GENERAL GROCERIES",
          "0982:SPIRITS",
          "0353:MENS OUTDOOR",
          "0644:SPORTS NUTRITION",
          "0646:SEASONAL",
          "0991:TOBACCO",
          "0962:BEVERAGES",
          "0982:SPIRITS",
          "0449:GIRLS ACCESSORIES",
          "0532:AMERICAN GREETINGS",
          "0597:HEALTH AIDS",
          "0838:FLOOR CARE",
          "0973:CANDY",
          "0983:WINE",
          "0982:SPIRITS",
          "0984:BEER",
          "0604:PERSONAL CARE",
          "0646:SEASONAL",
          "0973:CANDY",
          "0640:TOYS",
          "0983:WINE",
          "0982:SPIRITS",
          "0983:WINE",
          "0984:BEER",
          "0961:GENERAL GROCERIES",
          "0973:CANDY",
          "0604:PERSONAL CARE",
          "0991:TOBACCO",
          "0983:WINE",
          "0531:STATIONERY SUNDRIES",
          "0532:AMERICAN GREETINGS",
          "0982:SPIRITS",
          "0983:WINE",
          "0983:WINE",
          "0984:BEER",
          "0983:WINE",
          "0836:HOUSEHOLD CLEANING",
          "0982:SPIRITS",
          "0597:HEALTH AIDS",
          "0991:TOBACCO",
          "0879:PET SUPPLIES",
          "0884:LAWN & GARDEN",
          "0982:SPIRITS",
          "0984:BEER",
          "0982:SPIRITS",
          "0991:TOBACCO",
          "0984:BEER",
          "0991:TOBACCO",
          "0353:MENS OUTDOOR",
          "0380:MENS ACTIVEWEAR",
          "0982:SPIRITS",
          "0983:WINE",
          "0532:AMERICAN GREETINGS",
          "0597:HEALTH AIDS",
          "0961:GENERAL GROCERIES",
          "0962:BEVERAGES",
          "0983:WINE",
          "0982:SPIRITS",
          "0983:WINE",
          "0380:MENS ACTIVEWEAR",
          "0590:MASS COSMETICS",
          "0597:HEALTH AIDS",
          "0343:MENS DENIM JEANS",
          "0532:AMERICAN GREETINGS",
          "0722:OUTDOOR LIVING",
          "0973:CANDY",
          "0962:BEVERAGES",
          "0632:DIGITAL FITNESS",
          "0962:BEVERAGES",
          "0982:SPIRITS",
          "0983:WINE",
          "0532:AMERICAN GREETINGS",
          "0962:BEVERAGES",
          "0991:TOBACCO",
          "0639:TEAM SPORTING GOODS",
          "0991:TOBACCO",
          "0597:HEALTH AIDS",
          "0589:SUNGLASSES",
          "0597:HEALTH AIDS",
          "0638:GEN SPORTING GOODS",
          "0836:HOUSEHOLD CLEANING",
          "0961:GENERAL GROCERIES",
          "0984:BEER",
          "0991:TOBACCO",
          "0531:STATIONERY SUNDRIES",
          "0982:SPIRITS",
          "0644:SPORTS NUTRITION",
          "0646:SEASONAL",
          "0854:VIDEO GAMES",
          "0982:SPIRITS",
          "0982:SPIRITS",
          "0597:HEALTH AIDS",
          "0826:SMALL ELECTRICS",
          "0836:HOUSEHOLD CLEANING",
          "0845:AS SEEN ON TV",
          "0861:GENERAL HARDWARE",
          "0991:TOBACCO",
          "0640:TOYS",
          "0982:SPIRITS",
          "0984:BEER",
          "0884:LAWN & GARDEN",
          "0991:TOBACCO",
          "0532:AMERICAN GREETINGS",
          "0161:MISSY KAREN SCOTT",
          "0167:MISSY TOPS",
          "0261:HOSIERY",
          "0983:WINE",
          "0984:BEER",
          "0511:NAVY PRIDE SOFTLINES",
          "0603:BEAUTY CARE",
          "0836:HOUSEHOLD CLEANING",
          "0879:PET SUPPLIES",
          "0592:WMNS PRESTIGE FRAG",
          "0973:CANDY",
          "0879:PET SUPPLIES",
          "0836:HOUSEHOLD CLEANING",
          "0973:CANDY",
          "0982:SPIRITS",
          "0604:PERSONAL CARE",
          "0636:FITNESS/EXERCISE",
          "0879:PET SUPPLIES",
          "0597:HEALTH AIDS",
          "0962:BEVERAGES",
          "0601:VALUE ZONE",
          "0983:WINE",
          "0637:FISHING",
          "0640:TOYS",
          "0962:BEVERAGES",
          "0597:HEALTH AIDS",
          "0634:VITAMINS & HLTH AIDS",
          "0815:AUDIO ELECTRONICS",
          "0961:GENERAL GROCERIES",
          "0532:AMERICAN GREETINGS",
          "0639:TEAM SPORTING GOODS",
          "0991:TOBACCO",
          "0186:JUNIOR DRESSES",
          "0230:DAYWEAR",
          "0355:MENS SPORT SHIRTS",
          "0416:INFANT APPAREL",
          "0532:AMERICAN GREETINGS",
          "0837:GENERAL HOUSEWARES",
          "0846:BATTERIES",
          "0879:PET SUPPLIES",
          "0982:SPIRITS",
          "0984:BEER",
          "0982:SPIRITS",
          "0640:TOYS",
          "0645:BIKES",
          "0646:SEASONAL",
          "0982:SPIRITS",
          "0983:WINE",
          "0110:LDS OUTERWEAR/OUTDR",
          "0603:BEAUTY CARE",
          "0604:PERSONAL CARE",
          "0982:SPIRITS",
          "0634:VITAMINS & HLTH AIDS",
          "0982:SPIRITS",
          "0984:BEER",
          "0984:BEER",
          "0597:HEALTH AIDS",
          "0056:SOUVENIR",
          "0470:BOYS 8-20 CLOTHING",
          "0837:GENERAL HOUSEWARES",
          "0982:SPIRITS",
          "0815:AUDIO ELECTRONICS",
          "0634:VITAMINS & HLTH AIDS",
          "0644:SPORTS NUTRITION",
          "0962:BEVERAGES",
          "0973:CANDY",
          "0982:SPIRITS",
          "0982:SPIRITS",
          "0983:WINE",
          "0973:CANDY",
          "0982:SPIRITS",
          "0984:BEER",
          "0359:MENS ACCESSORIES",
          "0983:WINE",
          "0984:BEER",
          "0962:BEVERAGES",
          "0982:SPIRITS",
          "0597:HEALTH AIDS",
          "0961:GENERAL GROCERIES",
          "0983:WINE",
          "0961:GENERAL GROCERIES",
          "0962:BEVERAGES",
          "0982:SPIRITS",
          "0983:WINE",
          "0982:SPIRITS",
          "0982:SPIRITS",
          "0449:GIRLS ACCESSORIES",
          "0597:HEALTH AIDS",
          "0826:SMALL ELECTRICS",
          "0973:CANDY",
          "0982:SPIRITS",
          "0983:WINE",
          "0984:BEER",
          "0991:TOBACCO",
          "0646:SEASONAL",
          "0646:SEASONAL",
          "0861:GENERAL HARDWARE",
          "0002:BARBER RETAIL",
          "0071:BEAUTY RETAIL",
          "0983:WINE",
          "0836:HOUSEHOLD CLEANING",
          "0982:SPIRITS",
          "0597:HEALTH AIDS",
          "0603:BEAUTY CARE",
          "0604:PERSONAL CARE",
          "0991:TOBACCO",
          "0597:HEALTH AIDS",
          "0982:SPIRITS",
          "0983:WINE",
          "0961:GENERAL GROCERIES",
          "0962:BEVERAGES",
          "0973:CANDY",
          "0973:CANDY",
          "0597:HEALTH AIDS",
          "0603:BEAUTY CARE",
          "0597:HEALTH AIDS",
          "0603:BEAUTY CARE",
          "0973:CANDY",
          "0983:WINE",
          "0961:GENERAL GROCERIES",
          "0962:BEVERAGES",
          "0879:PET SUPPLIES",
          "0982:SPIRITS",
          "0983:WINE",
          "0984:BEER",
          "0603:BEAUTY CARE",
          "0604:PERSONAL CARE",
          "0961:GENERAL GROCERIES",
          "0962:BEVERAGES",
          "0983:WINE",
          "0640:TOYS",
          "0646:SEASONAL",
          "0861:GENERAL HARDWARE",
          "0879:PET SUPPLIES",
          "0999:UNSCANNED ITEMS",
          "0982:SPIRITS",
          "0983:WINE",
          "0644:SPORTS NUTRITION",
          "0983:WINE",
          "0983:WINE",
          "0071:BEAUTY RETAIL",
          "0532:AMERICAN GREETINGS",
          "0603:BEAUTY CARE",
          "0984:BEER",
          "0991:TOBACCO",
          "0837:GENERAL HOUSEWARES",
          "0962:BEVERAGES",
          "0983:WINE",
          "0984:BEER",
          "0071:BEAUTY RETAIL",
          "0530:SCHOOL/OFFIC SUPP",
          "0590:MASS COSMETICS",
          "0646:SEASONAL",
          "0973:CANDY",
          "0982:SPIRITS",
          "0359:MENS ACCESSORIES",
          "0962:BEVERAGES",
          "0973:CANDY",
          "0982:SPIRITS",
          "0961:GENERAL GROCERIES",
          "0962:BEVERAGES",
          "0982:SPIRITS",
          "0984:BEER",
          "0991:TOBACCO",
          "0604:PERSONAL CARE",
          "0646:SEASONAL",
          "0836:HOUSEHOLD CLEANING",
          "0962:BEVERAGES",
          "0973:CANDY",
          "0983:WINE",
          "0991:TOBACCO",
          "0991:TOBACCO",
          "0646:SEASONAL",
          "0982:SPIRITS",
          "0983:WINE",
          "0640:TOYS",
          "0884:LAWN & GARDEN",
          "0982:SPIRITS",
          "0983:WINE",
          "0991:TOBACCO",
          "0973:CANDY",
          "0984:BEER",
          "0604:PERSONAL CARE",
          "0343:MENS DENIM JEANS",
          "0360:MENS FURNISHINGS",
          "0369:YOUNG MENS",
          "0982:SPIRITS",
          "0983:WINE",
          "0632:DIGITAL FITNESS",
          "0636:FITNESS/EXERCISE",
          "0962:BEVERAGES",
          "0983:WINE",
          "0449:GIRLS ACCESSORIES",
          "0640:TOYS",
          "0797:SEASONAL GIFTS",
          "0879:PET SUPPLIES",
          "0982:SPIRITS",
          "0983:WINE",
          "0984:BEER",
          "0982:SPIRITS",
          "0984:BEER",
          "0982:SPIRITS",
          "0532:AMERICAN GREETINGS",
          "0604:PERSONAL CARE",
          "0640:TOYS",
          "0983:WINE",
          "0991:TOBACCO",
          "0982:SPIRITS",
          "0982:SPIRITS",
          "0983:WINE",
          "0984:BEER",
          "0879:PET SUPPLIES",
          "0982:SPIRITS",
          "0982:SPIRITS",
          "0071:BEAUTY RETAIL",
          "0603:BEAUTY CARE",
          "0879:PET SUPPLIES",
          "0973:CANDY",
          "0511:NAVY PRIDE SOFTLINES",
          "0982:SPIRITS",
          "0984:BEER",
          "0982:SPIRITS",
          "0982:SPIRITS",
          "0983:WINE",
          "0983:WINE",
          "0604:PERSONAL CARE",
          "0879:PET SUPPLIES",
          "0983:WINE",
          "0984:BEER",
          "0991:TOBACCO",
          "0983:WINE",
          "0973:CANDY",
          "0982:SPIRITS",
          "0983:WINE",
          "0984:BEER",
          "0597:HEALTH AIDS",
          "0603:BEAUTY CARE",
          "0634:VITAMINS & HLTH AIDS",
          "0836:HOUSEHOLD CLEANING",
          "0879:PET SUPPLIES",
          "0360:MENS FURNISHINGS",
          "0833:TABLETOP",
          "0837:GENERAL HOUSEWARES",
          "0839:HOME ORG/SOLUTIONS",
          "0931:BATH",
          "0941:BEDDING",
          "0982:SPIRITS",
          "0991:TOBACCO",
          "0962:BEVERAGES",
          "0982:SPIRITS",
          "0982:SPIRITS",
          "0597:HEALTH AIDS",
          "0603:BEAUTY CARE",
          "0604:PERSONAL CARE",
          "0982:SPIRITS",
          "0983:WINE",
          "0638:GEN SPORTING GOODS",
          "0597:HEALTH AIDS",
          "0982:SPIRITS",
          "0983:WINE",
          "0962:BEVERAGES",
          "0884:LAWN & GARDEN",
          "0982:SPIRITS",
          "0984:BEER",
          "0962:BEVERAGES",
          "0982:SPIRITS",
          "0983:WINE",
          "0984:BEER",
          "0360:MENS FURNISHINGS",
          "0982:SPIRITS",
          "0983:WINE",
          "0982:SPIRITS",
          "0991:TOBACCO",
          "0836:HOUSEHOLD CLEANING",
          "0861:GENERAL HARDWARE",
          "0973:CANDY",
          "0983:WINE",
          "0984:BEER",
          "0982:SPIRITS",
          "0962:BEVERAGES",
          "0982:SPIRITS",
          "0984:BEER",
          "0604:PERSONAL CARE",
          "0991:TOBACCO",
          "0961:GENERAL GROCERIES",
          "0991:TOBACCO",
          "0982:SPIRITS",
          "0973:CANDY",
          "0982:SPIRITS",
          "0597:HEALTH AIDS",
          "0603:BEAUTY CARE",
          "0680:AUTOMOTIVE",
          "0856:GLUES/TAPES/ACC",
          "0879:PET SUPPLIES",
          "0962:BEVERAGES",
          "0646:SEASONAL",
          "0879:PET SUPPLIES",
          "0962:BEVERAGES",
          "0856:GLUES/TAPES/ACC",
          "0879:PET SUPPLIES",
          "0597:HEALTH AIDS",
          "0982:SPIRITS",
          "0983:WINE",
          "0984:BEER",
          "0597:HEALTH AIDS",
          "0604:PERSONAL CARE",
          "0636:FITNESS/EXERCISE",
          "0961:GENERAL GROCERIES",
          "0983:WINE",
          "0632:DIGITAL FITNESS",
          "0640:TOYS",
          "0973:CANDY",
          "0983:WINE",
          "0982:SPIRITS",
          "0984:BEER",
          "0395:MENS ATHLETIC SHOES",
          "0597:HEALTH AIDS",
          "0603:BEAUTY CARE",
          "0982:SPIRITS",
          "0983:WINE",
          "0984:BEER",
          "0530:SCHOOL/OFFIC SUPP",
          "0646:SEASONAL",
          "0822:THIRD PARTY GIFTCARD",
          "0973:CANDY",
          "0983:WINE",
          "0991:TOBACCO",
          "0646:SEASONAL",
          "0597:HEALTH AIDS",
          "0973:CANDY",
          "0982:SPIRITS",
          "0983:WINE",
          "0597:HEALTH AIDS",
          "0603:BEAUTY CARE",
          "0962:BEVERAGES",
          "0982:SPIRITS",
          "0984:BEER",
          "0991:TOBACCO",
          "0638:GEN SPORTING GOODS",
          "0836:HOUSEHOLD CLEANING",
          "0532:AMERICAN GREETINGS",
          "0640:TOYS",
          "0962:BEVERAGES",
          "0983:WINE",
          "0984:BEER",
          "0991:TOBACCO",
          "0962:BEVERAGES",
          "0983:WINE",
          "0982:SPIRITS",
          "0984:BEER",
          "0982:SPIRITS",
          "0984:BEER",
          "0603:BEAUTY CARE",
          "0879:PET SUPPLIES",
          "0962:BEVERAGES",
          "0973:CANDY",
          "0884:LAWN & GARDEN",
          "0640:TOYS",
          "0984:BEER",
          "0416:INFANT APPAREL",
          "0585:WATCHES",
          "0837:GENERAL HOUSEWARES",
          "0984:BEER",
          "0638:GEN SPORTING GOODS",
          "0991:TOBACCO",
          "0961:GENERAL GROCERIES",
          "0973:CANDY",
          "0982:SPIRITS",
          "0593:PRESTIGE COSMETICS",
          "0603:BEAUTY CARE",
          "0644:SPORTS NUTRITION",
          "0646:SEASONAL",
          "0879:PET SUPPLIES",
          "0636:FITNESS/EXERCISE",
          "0636:FITNESS/EXERCISE",
          "0099:MISC CUSTOM SERVICES",
          "0991:TOBACCO",
          "0991:TOBACCO",
          "0449:GIRLS ACCESSORIES",
          "0640:TOYS",
          "0982:SPIRITS",
          "0983:WINE",
          "0984:BEER",
          "0982:SPIRITS",
          "0836:HOUSEHOLD CLEANING",
          "0961:GENERAL GROCERIES",
          "0973:CANDY",
          "0991:TOBACCO",
          "0983:WINE",
          "0991:TOBACCO",
          "0640:TOYS",
          "0646:SEASONAL",
          "0961:GENERAL GROCERIES",
          "0982:SPIRITS",
          "0982:SPIRITS",
          "0879:PET SUPPLIES",
          "0982:SPIRITS",
          "0991:TOBACCO",
          "0961:GENERAL GROCERIES",
          "0962:BEVERAGES",
          "0879:PET SUPPLIES",
          "0984:BEER",
          "0644:SPORTS NUTRITION",
          "0836:HOUSEHOLD CLEANING",
          "0973:CANDY",
          "0646:SEASONAL",
          "0983:WINE",
          "0033:VENDING RETAIL",
          "0962:BEVERAGES",
          "0982:SPIRITS",
          "0962:BEVERAGES",
          "0983:WINE",
          "0984:BEER",
          "0984:BEER",
          "0597:HEALTH AIDS",
          "0603:BEAUTY CARE",
          "0836:HOUSEHOLD CLEANING",
          "0532:AMERICAN GREETINGS",
          "0636:FITNESS/EXERCISE",
          "0833:TABLETOP",
          "0837:GENERAL HOUSEWARES",
          "0983:WINE",
          "0984:BEER",
          "0879:PET SUPPLIES",
          "0982:SPIRITS",
          "0984:BEER",
          "0982:SPIRITS",
          "0597:HEALTH AIDS",
          "0836:HOUSEHOLD CLEANING",
          "0962:BEVERAGES",
          "0983:WINE",
          "0984:BEER",
          "0879:PET SUPPLIES",
          "0982:SPIRITS",
          "0984:BEER",
          "0982:SPIRITS",
          "0982:SPIRITS",
          "0961:GENERAL GROCERIES",
          "0962:BEVERAGES",
          "0983:WINE",
          "0644:SPORTS NUTRITION",
          "0982:SPIRITS",
          "0983:WINE",
          "0983:WINE",
          "0982:SPIRITS",
          "0991:TOBACCO",
          "0879:PET SUPPLIES",
          "0982:SPIRITS",
          "0836:HOUSEHOLD CLEANING",
          "0982:SPIRITS",
          "0983:WINE",
          "0879:PET SUPPLIES",
          "0991:TOBACCO",
          "0982:SPIRITS",
          "0984:BEER",
          "0590:MASS COSMETICS",
          "0597:HEALTH AIDS",
          "0603:BEAUTY CARE",
          "0879:PET SUPPLIES",
          "0983:WINE",
          "0982:SPIRITS",
          "0601:VALUE ZONE",
          "0983:WINE",
          "0984:BEER",
          "0380:MENS ACTIVEWEAR",
          "0941:BEDDING",
          "0973:CANDY",
          "0982:SPIRITS",
          "0597:HEALTH AIDS",
          "0604:PERSONAL CARE",
          "0797:SEASONAL GIFTS",
          "0991:TOBACCO",
          "0983:WINE",
          "0597:HEALTH AIDS",
          "0836:HOUSEHOLD CLEANING",
          "0962:BEVERAGES",
          "0982:SPIRITS",
          "0961:GENERAL GROCERIES",
          "0962:BEVERAGES",
          "0597:HEALTH AIDS",
          "0836:HOUSEHOLD CLEANING",
          "0961:GENERAL GROCERIES",
          "0982:SPIRITS",
          "0532:AMERICAN GREETINGS",
          "0597:HEALTH AIDS",
          "0634:VITAMINS & HLTH AIDS",
          "0836:HOUSEHOLD CLEANING",
          "0984:BEER",
          "0836:HOUSEHOLD CLEANING",
          "0961:GENERAL GROCERIES",
          "0973:CANDY",
          "0826:SMALL ELECTRICS",
          "0836:HOUSEHOLD CLEANING",
          "0879:PET SUPPLIES",
          "0230:DAYWEAR",
          "0597:HEALTH AIDS",
          "0644:SPORTS NUTRITION",
          "0071:BEAUTY RETAIL",
          "0532:AMERICAN GREETINGS",
          "0590:MASS COSMETICS",
          "0593:PRESTIGE COSMETICS",
          "0595:HOME/BATH",
          "0603:BEAUTY CARE",
          "0982:SPIRITS",
          "0983:WINE",
          "0532:AMERICAN GREETINGS",
          "0884:LAWN & GARDEN",
          "0982:SPIRITS",
          "0983:WINE",
          "0161:MISSY KAREN SCOTT",
          "0962:BEVERAGES",
          "0973:CANDY",
          "0984:BEER",
          "0879:PET SUPPLIES",
          "0590:MASS COSMETICS",
          "0603:BEAUTY CARE",
          "0962:BEVERAGES",
          "0973:CANDY",
          "0634:VITAMINS & HLTH AIDS",
          "0982:SPIRITS",
          "0984:BEER",
          "0962:BEVERAGES",
          "0982:SPIRITS",
          "0991:TOBACCO",
          "0597:HEALTH AIDS",
          "0836:HOUSEHOLD CLEANING",
          "0982:SPIRITS",
          "0178:DENIM COLLECTIONS",
          "0295:WOMENS ATHLTIC SHOES",
          "0360:MENS FURNISHINGS",
          "0369:YOUNG MENS",
          "0962:BEVERAGES",
          "0973:CANDY",
          "0982:SPIRITS",
          "0983:WINE",
          "0130:JUNIORS SURF",
          "0179:MODERATE DENIM",
          "0369:YOUNG MENS",
          "0440:GIRLS 7-16 CLOTHING",
          "0603:BEAUTY CARE",
          "0962:BEVERAGES",
          "0982:SPIRITS",
          "0991:TOBACCO",
          "0161:MISSY KAREN SCOTT",
          "0271:HANDBAGS",
          "0280:FASHION ACCESSORIES",
          "0360:MENS FURNISHINGS",
          "0380:MENS ACTIVEWEAR",
          "0590:MASS COSMETICS",
          "0644:SPORTS NUTRITION",
          "0646:SEASONAL",
          "0861:GENERAL HARDWARE",
          "0973:CANDY",
          "0982:SPIRITS",
          "0983:WINE",
          "0597:HEALTH AIDS",
          "0822:THIRD PARTY GIFTCARD",
          "0983:WINE",
          "0510:NAVY PRIDE HARDLINES",
          "0585:WATCHES",
          "0604:PERSONAL CARE",
          "0982:SPIRITS",
          "0640:TOYS",
          "0984:BEER",
          "0961:GENERAL GROCERIES",
          "0973:CANDY",
          "0973:CANDY",
          "0597:HEALTH AIDS",
          "0836:HOUSEHOLD CLEANING",
          "0597:HEALTH AIDS",
          "0983:WINE",
          "0983:WINE",
          "0984:BEER",
          "0603:BEAUTY CARE",
          "0973:CANDY",
          "0861:GENERAL HARDWARE",
          "0604:PERSONAL CARE",
          "0640:TOYS",
          "0836:HOUSEHOLD CLEANING",
          "0984:BEER",
          "0879:PET SUPPLIES",
          "0532:AMERICAN GREETINGS",
          "0590:MASS COSMETICS",
          "0593:PRESTIGE COSMETICS",
          "0640:TOYS",
          "0360:MENS FURNISHINGS",
          "0836:HOUSEHOLD CLEANING",
          "0879:PET SUPPLIES",
          "0982:SPIRITS",
          "0982:SPIRITS",
          "0982:SPIRITS",
          "0991:TOBACCO",
          "0991:TOBACCO",
          "0962:BEVERAGES",
          "0973:CANDY",
          "0984:BEER",
          "0962:BEVERAGES",
          "0982:SPIRITS",
          "0983:WINE",
          "0983:WINE",
          "0982:SPIRITS",
          "0984:BEER",
          "0982:SPIRITS",
          "0984:BEER",
          "0634:VITAMINS & HLTH AIDS",
          "0991:TOBACCO",
          "0836:HOUSEHOLD CLEANING",
          "0360:MENS FURNISHINGS",
          "0391:MENS SHOES",
          "0973:CANDY",
          "0590:MASS COSMETICS",
          "0982:SPIRITS",
          "0962:BEVERAGES",
          "0391:MENS SHOES",
          "0597:HEALTH AIDS",
          "0604:PERSONAL CARE",
          "0836:HOUSEHOLD CLEANING",
          "0962:BEVERAGES",
          "0644:SPORTS NUTRITION",
          "0861:GENERAL HARDWARE",
          "0962:BEVERAGES",
          "0984:BEER",
          "0646:SEASONAL",
          "0826:SMALL ELECTRICS",
          "0991:TOBACCO",
          "0982:SPIRITS",
          "0984:BEER",
          "0531:STATIONERY SUNDRIES",
          "0962:BEVERAGES",
          "0982:SPIRITS",
          "0983:WINE",
          "0991:TOBACCO",
          "0411:PEGABLES",
          "0415:NEWBORN APPAREL",
          "0598:BABY CARE",
          "0604:PERSONAL CARE",
          "0836:HOUSEHOLD CLEANING",
          "0879:PET SUPPLIES",
          "0982:SPIRITS",
          "0984:BEER",
          "0638:GEN SPORTING GOODS",
          "0836:HOUSEHOLD CLEANING",
          "0961:GENERAL GROCERIES",
          "0965:PERISHABLES",
          "0982:SPIRITS",
          "0984:BEER",
          "0991:TOBACCO",
          "0879:PET SUPPLIES",
          "0982:SPIRITS",
          "0991:TOBACCO",
          "0962:BEVERAGES",
          "0982:SPIRITS",
          "0991:TOBACCO",
          "0597:HEALTH AIDS",
          "0604:PERSONAL CARE",
          "0836:HOUSEHOLD CLEANING",
          "0962:BEVERAGES",
          "0965:PERISHABLES",
          "0982:SPIRITS",
          "0962:BEVERAGES",
          "0982:SPIRITS",
          "0991:TOBACCO",
          "0879:PET SUPPLIES",
          "0597:HEALTH AIDS",
          "0604:PERSONAL CARE",
          "0836:HOUSEHOLD CLEANING",
          "0961:GENERAL GROCERIES",
          "0597:HEALTH AIDS",
          "0991:TOBACCO",
          "0644:SPORTS NUTRITION",
          "0984:BEER",
          "0982:SPIRITS",
          "0850:PC HDWR & OFFICE EQP",
          "0984:BEER",
          "0603:BEAUTY CARE",
          "0532:AMERICAN GREETINGS",
          "0595:HOME/BATH",
          "0983:WINE",
          "0597:HEALTH AIDS",
          "0604:PERSONAL CARE",
          "0962:BEVERAGES",
          "0982:SPIRITS",
          "0982:SPIRITS",
          "0984:BEER",
          "0836:HOUSEHOLD CLEANING",
          "0603:BEAUTY CARE",
          "0604:PERSONAL CARE",
          "0962:BEVERAGES",
          "0982:SPIRITS",
          "0440:GIRLS 7-16 CLOTHING",
          "0646:SEASONAL",
          "0962:BEVERAGES",
          "0359:MENS ACCESSORIES",
          "0597:HEALTH AIDS",
          "0604:PERSONAL CARE",
          "0634:VITAMINS & HLTH AIDS",
          "0836:HOUSEHOLD CLEANING",
          "0982:SPIRITS",
          "0991:TOBACCO",
          "0639:TEAM SPORTING GOODS",
          "0991:TOBACCO",
          "0797:SEASONAL GIFTS",
          "0982:SPIRITS",
          "0982:SPIRITS",
          "0982:SPIRITS",
          "0991:TOBACCO",
          "0991:TOBACCO",
          "0597:HEALTH AIDS",
          "0604:PERSONAL CARE",
          "0982:SPIRITS",
          "0597:HEALTH AIDS",
          "0604:PERSONAL CARE",
          "0836:HOUSEHOLD CLEANING",
          "0597:HEALTH AIDS",
          "0973:CANDY",
          "0597:HEALTH AIDS",
          "0984:BEER",
          "0590:MASS COSMETICS",
          "0604:PERSONAL CARE",
          "0982:SPIRITS",
          "0982:SPIRITS",
          "0991:TOBACCO",
          "0604:PERSONAL CARE",
          "0596:MENS PRESTIGE FRAG",
          "0640:TOYS",
          "0645:BIKES",
          "0554:TELECOMMUNICATIONS",
          "0859:iPAD",
          "0982:SPIRITS",
          "0984:BEER",
          "0984:BEER",
          "0598:BABY CARE",
          "0603:BEAUTY CARE",
          "0604:PERSONAL CARE",
          "0961:GENERAL GROCERIES",
          "0984:BEER",
          "0962:BEVERAGES",
          "0982:SPIRITS",
          "0640:TOYS",
          "0982:SPIRITS",
          "0991:TOBACCO",
          "0982:SPIRITS",
          "0879:PET SUPPLIES",
          "0983:WINE",
          "0597:HEALTH AIDS",
          "0644:SPORTS NUTRITION",
          "0973:CANDY",
          "0991:TOBACCO",
          "0962:BEVERAGES",
          "0982:SPIRITS",
          "0597:HEALTH AIDS",
          "0836:HOUSEHOLD CLEANING",
          "0961:GENERAL GROCERIES",
          "0982:SPIRITS",
          "0962:BEVERAGES",
          "0982:SPIRITS",
          "0991:TOBACCO",
          "0597:HEALTH AIDS",
          "0984:BEER",
          "0991:TOBACCO",
          "0826:SMALL ELECTRICS",
          "0879:PET SUPPLIES",
          "0639:TEAM SPORTING GOODS",
          "0983:WINE",
          "0597:HEALTH AIDS",
          "0962:BEVERAGES",
          "0982:SPIRITS",
          "0973:CANDY",
          "0982:SPIRITS",
          "0797:SEASONAL GIFTS",
          "0973:CANDY",
          "0982:SPIRITS",
          "0984:BEER",
          "0644:SPORTS NUTRITION",
          "0982:SPIRITS",
          "0597:HEALTH AIDS",
          "0603:BEAUTY CARE",
          "0604:PERSONAL CARE",
          "0836:HOUSEHOLD CLEANING",
          "0961:GENERAL GROCERIES",
          "0962:BEVERAGES",
          "0973:CANDY",
          "0982:SPIRITS",
          "0532:AMERICAN GREETINGS",
          "0604:PERSONAL CARE",
          "0879:PET SUPPLIES",
          "0991:TOBACCO",
          "0837:GENERAL HOUSEWARES",
          "0983:WINE",
          "0597:HEALTH AIDS",
          "0604:PERSONAL CARE",
          "0836:HOUSEHOLD CLEANING",
          "0962:BEVERAGES",
          "0982:SPIRITS",
          "0983:WINE",
          "0360:MENS FURNISHINGS",
          "0973:CANDY",
          "0173:JUNIOR BOTTOMS",
          "0178:DENIM COLLECTIONS",
          "0638:GEN SPORTING GOODS",
          "0380:MENS ACTIVEWEAR",
          "0879:PET SUPPLIES",
          "0991:TOBACCO",
          "0931:BATH",
          "0961:GENERAL GROCERIES",
          "0931:BATH",
          "0961:GENERAL GROCERIES",
          "0962:BEVERAGES",
          "0589:SUNGLASSES",
          "0593:PRESTIGE COSMETICS",
          "0595:HOME/BATH",
          "0961:GENERAL GROCERIES",
          "0962:BEVERAGES",
          "0973:CANDY",
          "0530:SCHOOL/OFFIC SUPP",
          "0982:SPIRITS",
          "0991:TOBACCO",
          "0836:HOUSEHOLD CLEANING",
          "0961:GENERAL GROCERIES",
          "0533:PAPYRUS",
          "0590:MASS COSMETICS",
          "0982:SPIRITS",
          "0983:WINE",
          "0359:MENS ACCESSORIES",
          "0826:SMALL ELECTRICS",
          "0836:HOUSEHOLD CLEANING",
          "0822:THIRD PARTY GIFTCARD",
          "0962:BEVERAGES",
          "0984:BEER",
          "0991:TOBACCO",
          "0353:MENS OUTDOOR",
          "0593:PRESTIGE COSMETICS",
          "0879:PET SUPPLIES",
          "0597:HEALTH AIDS",
          "0604:PERSONAL CARE",
          "0984:BEER",
          "0291:WOMENS FTWR:DRS/CAS",
          "0797:SEASONAL GIFTS",
          "0193:LADIES ACTIVEWEAR",
          "0595:HOME/BATH",
          "0815:AUDIO ELECTRONICS",
          "0837:GENERAL HOUSEWARES",
          "0554:TELECOMMUNICATIONS",
          "0597:HEALTH AIDS",
          "0638:GEN SPORTING GOODS",
          "0002:BARBER RETAIL",
          "0532:AMERICAN GREETINGS",
          "0646:SEASONAL",
          "0973:CANDY",
          "0962:BEVERAGES",
          "0973:CANDY",
          "0991:TOBACCO",
          "0421:TODDLER GIRL APPAREL",
          "0826:SMALL ELECTRICS",
          "0941:BEDDING",
          "0973:CANDY",
          "0991:TOBACCO",
          "0822:THIRD PARTY GIFTCARD",
          "0991:TOBACCO",
          "0353:MENS OUTDOOR",
          "0415:NEWBORN APPAREL",
          "0640:TOYS",
          "0646:SEASONAL",
          "0962:BEVERAGES",
          "0973:CANDY",
          "0991:TOBACCO",
          "0596:MENS PRESTIGE FRAG",
          "0240:SLEEPWEAR/LOUNGEWEAR",
          "0440:GIRLS 7-16 CLOTHING",
          "0470:BOYS 8-20 CLOTHING",
          "0982:SPIRITS",
          "0991:TOBACCO",
          "0530:SCHOOL/OFFIC SUPP",
          "0585:WATCHES",
          "0240:SLEEPWEAR/LOUNGEWEAR",
          "0261:HOSIERY",
          "0530:SCHOOL/OFFIC SUPP",
          "0532:AMERICAN GREETINGS",
          "0603:BEAUTY CARE",
          "0795:HOME DECOR",
          "0973:CANDY",
          "0991:TOBACCO",
          "0973:CANDY",
          "0597:HEALTH AIDS",
          "0597:HEALTH AIDS",
          "0604:PERSONAL CARE",
          "0638:GEN SPORTING GOODS",
          "0991:TOBACCO",
          "0973:CANDY",
          "0797:SEASONAL GIFTS",
          "0991:TOBACCO",
          "0530:SCHOOL/OFFIC SUPP",
          "0837:GENERAL HOUSEWARES",
          "0343:MENS DENIM JEANS",
          "0391:MENS SHOES",
          "0395:MENS ATHLETIC SHOES",
          "0646:SEASONAL",
          "0962:BEVERAGES",
          "0973:CANDY",
          "0991:TOBACCO",
          "0310:MENS OUTERWEAR",
          "0343:MENS DENIM JEANS",
          "0354:MENS MODERN COLLECT",
          "0962:BEVERAGES",
          "0973:CANDY",
          "0962:BEVERAGES",
          "0982:SPIRITS",
          "0984:BEER",
          "0991:TOBACCO",
          "0261:HOSIERY",
          "0816:VIDEO ELECTRONICS",
          "0826:SMALL ELECTRICS",
          "0962:BEVERAGES",
          "0973:CANDY",
          "0991:TOBACCO",
          "0343:MENS DENIM JEANS",
          "0353:MENS OUTDOOR",
          "0638:GEN SPORTING GOODS",
          "0532:AMERICAN GREETINGS",
          "0590:MASS COSMETICS",
          "0603:BEAUTY CARE",
          "0961:GENERAL GROCERIES",
          "0962:BEVERAGES",
          "0973:CANDY",
          "0983:WINE",
          "0962:BEVERAGES",
          "0982:SPIRITS",
          "0983:WINE",
          "0984:BEER",
          "0973:CANDY",
          "0973:CANDY",
          "0163:JUNIOR TOPS",
          "0826:SMALL ELECTRICS",
          "0291:WOMENS FTWR:DRS/CAS",
          "0320:MNS TAILORED CLOTHNG",
          "0340:MENS CASUAL SLACKS",
          "0358:MENS DRESS SHIRTS",
          "0359:MENS ACCESSORIES",
          "0593:PRESTIGE COSMETICS",
          "0991:TOBACCO",
          "0962:BEVERAGES",
          "0240:SLEEPWEAR/LOUNGEWEAR",
          "0486:CHILDRENS FOOTWEAR",
          "0532:AMERICAN GREETINGS",
          "0597:HEALTH AIDS",
          "0983:WINE",
          "0188:STYLE & CO",
          "0593:PRESTIGE COSMETICS",
          "0597:HEALTH AIDS",
          "0604:PERSONAL CARE",
          "0836:HOUSEHOLD CLEANING",
          "0991:TOBACCO",
          "0182:CLASSIC COLLECTIONS",
          "0343:MENS DENIM JEANS",
          "0411:PEGABLES",
          "0415:NEWBORN APPAREL",
          "0416:INFANT APPAREL",
          "0426:TODDLER BOY APPAREL",
          "0360:MENS FURNISHINGS",
          "0532:AMERICAN GREETINGS",
          "0604:PERSONAL CARE",
          "0797:SEASONAL GIFTS",
          "0822:THIRD PARTY GIFTCARD",
          "0837:GENERAL HOUSEWARES",
          "0838:FLOOR CARE",
          "0638:GEN SPORTING GOODS",
          "0167:MISSY TOPS",
          "0603:BEAUTY CARE",
          "0604:PERSONAL CARE",
          "0991:TOBACCO",
          "0991:TOBACCO",
          "0595:HOME/BATH",
          "0603:BEAUTY CARE",
          "0360:MENS FURNISHINGS",
          "0368:TRAD COLLECTIONS",
          "0991:TOBACCO",
          "0359:MENS ACCESSORIES",
          "0360:MENS FURNISHINGS",
          "0590:MASS COSMETICS",
          "0839:HOME ORG/SOLUTIONS",
          "0856:GLUES/TAPES/ACC",
          "0879:PET SUPPLIES",
          "0931:BATH",
          "0604:PERSONAL CARE",
          "0961:GENERAL GROCERIES",
          "0604:PERSONAL CARE",
          "0604:PERSONAL CARE",
          "0962:BEVERAGES",
          "0449:GIRLS ACCESSORIES",
          "0639:TEAM SPORTING GOODS",
          "0962:BEVERAGES",
          "0965:PERISHABLES",
          "0597:HEALTH AIDS",
          "0991:TOBACCO",
          "0991:TOBACCO",
          "0240:SLEEPWEAR/LOUNGEWEAR",
          "0469:BOYS ACCESSORIES",
          "0470:BOYS 8-20 CLOTHING",
          "0597:HEALTH AIDS",
          "0604:PERSONAL CARE",
          "0640:TOYS",
          "0836:HOUSEHOLD CLEANING",
          "0846:BATTERIES",
          "0879:PET SUPPLIES",
          "0973:CANDY",
          "0836:HOUSEHOLD CLEANING",
          "0597:HEALTH AIDS",
          "0598:BABY CARE",
          "0836:HOUSEHOLD CLEANING",
          "0861:GENERAL HARDWARE",
          "0961:GENERAL GROCERIES",
          "0962:BEVERAGES",
          "0991:TOBACCO",
          "0469:BOYS ACCESSORIES",
          "0470:BOYS 8-20 CLOTHING",
          "0973:CANDY",
          "0646:SEASONAL",
          "0680:AUTOMOTIVE",
          "0861:GENERAL HARDWARE",
          "0879:PET SUPPLIES",
          "0991:TOBACCO",
          "0161:MISSY KAREN SCOTT",
          "0182:CLASSIC COLLECTIONS",
          "0240:SLEEPWEAR/LOUNGEWEAR",
          "0531:STATIONERY SUNDRIES",
          "0597:HEALTH AIDS",
          "0603:BEAUTY CARE",
          "0826:SMALL ELECTRICS",
          "0836:HOUSEHOLD CLEANING",
          "0884:LAWN & GARDEN",
          "0983:WINE",
          "0358:MENS DRESS SHIRTS",
          "0359:MENS ACCESSORIES",
          "0991:TOBACCO",
          "0541:BOOKS AND MAPS",
          "0962:BEVERAGES",
          "0973:CANDY",
          "0593:PRESTIGE COSMETICS",
          "0604:PERSONAL CARE",
          "0646:SEASONAL",
          "0603:BEAUTY CARE",
          "0638:GEN SPORTING GOODS",
          "0836:HOUSEHOLD CLEANING",
          "0846:BATTERIES",
          "0532:AMERICAN GREETINGS",
          "0822:THIRD PARTY GIFTCARD",
          "0291:WOMENS FTWR:DRS/CAS",
          "0991:TOBACCO",
          "0540:PERIODICALS/COMICS",
          "0983:WINE",
          "0991:TOBACCO",
          "0359:MENS ACCESSORIES",
          "0604:PERSONAL CARE",
          "0973:CANDY",
          "0585:WATCHES",
          "0854:VIDEO GAMES",
          "0962:BEVERAGES",
          "0486:CHILDRENS FOOTWEAR",
          "0598:BABY CARE",
          "0603:BEAUTY CARE",
          "0604:PERSONAL CARE",
          "0991:TOBACCO",
          "0595:HOME/BATH",
          "0991:TOBACCO",
          "0644:SPORTS NUTRITION",
          "0859:iPAD",
          "0973:CANDY",
          "0110:LDS OUTERWEAR/OUTDR",
          "0991:TOBACCO",
          "0846:BATTERIES",
          "0879:PET SUPPLIES",
          "0962:BEVERAGES",
          "0261:HOSIERY",
          "0590:MASS COSMETICS",
          "0839:HOME ORG/SOLUTIONS",
          "0271:HANDBAGS",
          "0470:BOYS 8-20 CLOTHING",
          "0589:SUNGLASSES",
          "0532:AMERICAN GREETINGS",
          "0646:SEASONAL",
          "0973:CANDY",
          "0604:PERSONAL CARE",
          "0846:BATTERIES",
          "0982:SPIRITS",
          "0261:HOSIERY",
          "0826:SMALL ELECTRICS",
          "0837:GENERAL HOUSEWARES",
          "0359:MENS ACCESSORIES",
          "0360:MENS FURNISHINGS",
          "0837:GENERAL HOUSEWARES",
          "0597:HEALTH AIDS",
          "0603:BEAUTY CARE",
          "0846:BATTERIES",
          "0991:TOBACCO",
          "0188:STYLE & CO",
          "0240:SLEEPWEAR/LOUNGEWEAR",
          "0261:HOSIERY",
          "0826:SMALL ELECTRICS",
          "0836:HOUSEHOLD CLEANING",
          "0982:SPIRITS",
          "0991:TOBACCO",
          "0589:SUNGLASSES",
          "0962:BEVERAGES",
          "0604:PERSONAL CARE",
          "0646:SEASONAL",
          "0797:SEASONAL GIFTS",
          "0879:PET SUPPLIES",
          "0973:CANDY",
          "0360:MENS FURNISHINGS",
          "0416:INFANT APPAREL",
          "0439:JUVENILLE FURNITURE",
          "0554:TELECOMMUNICATIONS",
          "0589:SUNGLASSES",
          "0589:SUNGLASSES",
          "0360:MENS FURNISHINGS",
          "0604:PERSONAL CARE",
          "0836:HOUSEHOLD CLEANING",
          "0982:SPIRITS",
          "0358:MENS DRESS SHIRTS",
          "0163:JUNIOR TOPS",
          "0603:BEAUTY CARE",
          "0604:PERSONAL CARE",
          "0836:HOUSEHOLD CLEANING",
          "0962:BEVERAGES",
          "0983:WINE",
          "0984:BEER",
          "0819:PRE-RECORDED A/V",
          "0811:TELEVISION",
          "0530:SCHOOL/OFFIC SUPP",
          "0860:NETWORKING",
          "0991:TOBACCO",
          "0604:PERSONAL CARE",
          "0991:TOBACCO",
          "0644:SPORTS NUTRITION",
          "0815:AUDIO ELECTRONICS",
          "0837:GENERAL HOUSEWARES",
          "0879:PET SUPPLIES",
          "0973:CANDY",
          "0826:SMALL ELECTRICS",
          "0291:WOMENS FTWR:DRS/CAS",
          "0163:JUNIOR TOPS",
          "0826:SMALL ELECTRICS",
          "0991:TOBACCO",
          "0991:TOBACCO",
          "0836:HOUSEHOLD CLEANING",
          "0962:BEVERAGES",
          "0991:TOBACCO",
          "0358:MENS DRESS SHIRTS",
          "0597:HEALTH AIDS",
          "0416:INFANT APPAREL",
          "0532:AMERICAN GREETINGS",
          "0797:SEASONAL GIFTS",
          "0837:GENERAL HOUSEWARES",
          "0973:CANDY",
          "0982:SPIRITS",
          "0597:HEALTH AIDS",
          "0836:HOUSEHOLD CLEANING",
          "0846:BATTERIES",
          "0962:BEVERAGES",
          "0973:CANDY",
          "0991:TOBACCO",
          "0554:TELECOMMUNICATIONS",
          "0991:TOBACCO",
          "0486:CHILDRENS FOOTWEAR",
          "0369:YOUNG MENS",
          "0395:MENS ATHLETIC SHOES",
          "0261:HOSIERY",
          "0961:GENERAL GROCERIES",
          "0973:CANDY",
          "0984:BEER",
          "0530:SCHOOL/OFFIC SUPP",
          "0179:MODERATE DENIM",
          "0532:AMERICAN GREETINGS",
          "0931:BATH",
          "0598:BABY CARE",
          "0962:BEVERAGES",
          "0973:CANDY",
          "0982:SPIRITS",
          "0411:PEGABLES",
          "0430:GIRLS 4-6X CLOTHING",
          "0486:CHILDRENS FOOTWEAR",
          "0604:PERSONAL CARE",
          "0640:TOYS",
          "0991:TOBACCO",
          "0369:YOUNG MENS",
          "0603:BEAUTY CARE",
          "0646:SEASONAL",
          "0597:HEALTH AIDS",
          "0380:MENS ACTIVEWEAR",
          "0593:PRESTIGE COSMETICS",
          "0597:HEALTH AIDS",
          "0604:PERSONAL CARE",
          "0973:CANDY",
          "0531:STATIONERY SUNDRIES",
          "0597:HEALTH AIDS",
          "0879:PET SUPPLIES",
          "0962:BEVERAGES",
          "0973:CANDY",
          "0983:WINE",
          "0603:BEAUTY CARE",
          "0076:FLORAL RETAIL",
          "0411:PEGABLES",
          "0530:SCHOOL/OFFIC SUPP",
          "0531:STATIONERY SUNDRIES",
          "0532:AMERICAN GREETINGS",
          "0597:HEALTH AIDS",
          "0598:BABY CARE",
          "0603:BEAUTY CARE",
          "0646:SEASONAL",
          "0836:HOUSEHOLD CLEANING",
          "0962:BEVERAGES",
          "0098:WAREHOUSED EXPENSES",
          "0360:MENS FURNISHINGS",
          "0962:BEVERAGES",
          "0962:BEVERAGES",
          "0359:MENS ACCESSORIES",
          "0598:BABY CARE",
          "0603:BEAUTY CARE",
          "0604:PERSONAL CARE",
          "0411:PEGABLES",
          "0280:FASHION ACCESSORIES",
          "0532:AMERICAN GREETINGS",
          "0540:PERIODICALS/COMICS",
          "0590:MASS COSMETICS",
          "0597:HEALTH AIDS",
          "0603:BEAUTY CARE",
          "0961:GENERAL GROCERIES",
          "0962:BEVERAGES",
          "0965:PERISHABLES",
          "0973:CANDY",
          "0973:CANDY",
          "0359:MENS ACCESSORIES",
          "0973:CANDY",
          "0590:MASS COSMETICS",
          "0597:HEALTH AIDS",
          "0604:PERSONAL CARE",
          "0973:CANDY",
          "0983:WINE",
          "0193:LADIES ACTIVEWEAR",
          "0415:NEWBORN APPAREL",
          "0530:SCHOOL/OFFIC SUPP",
          "0597:HEALTH AIDS",
          "0856:GLUES/TAPES/ACC",
          "0415:NEWBORN APPAREL",
          "0449:GIRLS ACCESSORIES",
          "0973:CANDY",
          "0991:TOBACCO",
          "0991:TOBACCO",
          "0598:BABY CARE",
          "0638:GEN SPORTING GOODS",
          "0961:GENERAL GROCERIES",
          "0962:BEVERAGES",
          "0973:CANDY",
          "0991:TOBACCO",
          "0962:BEVERAGES",
          "0056:SOUVENIR",
          "0530:SCHOOL/OFFIC SUPP",
          "0856:GLUES/TAPES/ACC",
          "0973:CANDY",
          "0415:NEWBORN APPAREL",
          "0598:BABY CARE",
          "0991:TOBACCO",
          "0486:CHILDRENS FOOTWEAR",
          "0368:TRAD COLLECTIONS",
          "0973:CANDY",
          "0982:SPIRITS",
          "0983:WINE",
          "0991:TOBACCO",
          "0593:PRESTIGE COSMETICS",
          "0815:AUDIO ELECTRONICS",
          "0962:BEVERAGES",
          "0991:TOBACCO",
          "0961:GENERAL GROCERIES",
          "0962:BEVERAGES",
          "0177:PETITE SEPARATES",
          "0178:DENIM COLLECTIONS",
          "0531:STATIONERY SUNDRIES",
          "0532:AMERICAN GREETINGS",
          "0973:CANDY",
          "0983:WINE",
          "0593:PRESTIGE COSMETICS",
          "0280:FASHION ACCESSORIES",
          "0982:SPIRITS",
          "0167:MISSY TOPS",
          "0171:MISSY BOTTOMS",
          "0175:WOMENS SEPARATES",
          "0991:TOBACCO",
          "0271:HANDBAGS",
          "0598:BABY CARE",
          "0167:MISSY TOPS",
          "0353:MENS OUTDOOR",
          "0640:TOYS",
          "0973:CANDY",
          "0991:TOBACCO",
          "0002:BARBER RETAIL",
          "0359:MENS ACCESSORIES",
          "0811:TELEVISION",
          "0961:GENERAL GROCERIES",
          "0973:CANDY",
          "0991:TOBACCO",
          "0532:AMERICAN GREETINGS",
          "0593:PRESTIGE COSMETICS",
          "0991:TOBACCO",
          "0130:JUNIORS SURF",
          "0163:JUNIOR TOPS",
          "0597:HEALTH AIDS",
          "0604:PERSONAL CARE",
          "0961:GENERAL GROCERIES",
          "0973:CANDY",
          "0589:SUNGLASSES",
          "0530:SCHOOL/OFFIC SUPP",
          "0110:LDS OUTERWEAR/OUTDR",
          "0680:AUTOMOTIVE",
          "0962:BEVERAGES",
          "0511:NAVY PRIDE SOFTLINES",
          "0589:SUNGLASSES",
          "0592:WMNS PRESTIGE FRAG",
          "0596:MENS PRESTIGE FRAG",
          "0368:TRAD COLLECTIONS",
          "0973:CANDY",
          "0355:MENS SPORT SHIRTS",
          "0931:BATH",
          "0511:NAVY PRIDE SOFTLINES",
          "0581:BRIDGE JEWELRY",
          "0632:DIGITAL FITNESS",
          "0982:SPIRITS",
          "0991:TOBACCO",
          "0991:TOBACCO",
          "0991:TOBACCO",
          "0592:WMNS PRESTIGE FRAG",
          "0962:BEVERAGES",
          "0280:FASHION ACCESSORIES",
          "0358:MENS DRESS SHIRTS",
          "0421:TODDLER GIRL APPAREL",
          "0110:LDS OUTERWEAR/OUTDR",
          "0271:HANDBAGS",
          "0593:PRESTIGE COSMETICS",
          "0837:GENERAL HOUSEWARES",
          "0930:TABLE TOP & KITCHEN",
          "0973:CANDY",
          "0280:FASHION ACCESSORIES",
          "0991:TOBACCO",
          "0530:SCHOOL/OFFIC SUPP",
          "0973:CANDY",
          "0991:TOBACCO",
          "0597:HEALTH AIDS",
          "0646:SEASONAL",
          "0836:HOUSEHOLD CLEANING",
          "0634:VITAMINS & HLTH AIDS",
          "0636:FITNESS/EXERCISE",
          "0836:HOUSEHOLD CLEANING",
          "0850:PC HDWR & OFFICE EQP",
          "0163:JUNIOR TOPS",
          "0056:SOUVENIR",
          "0421:TODDLER GIRL APPAREL",
          "0595:HOME/BATH",
          "0640:TOYS",
          "0826:SMALL ELECTRICS",
          "0833:TABLETOP",
          "0837:GENERAL HOUSEWARES",
          "0991:TOBACCO",
          "0595:HOME/BATH",
          "0822:THIRD PARTY GIFTCARD",
          "0590:MASS COSMETICS",
          "0597:HEALTH AIDS",
          "0973:CANDY",
          "0603:BEAUTY CARE",
          "0604:PERSONAL CARE",
          "0962:BEVERAGES",
          "0261:HOSIERY",
          "0360:MENS FURNISHINGS",
          "0603:BEAUTY CARE",
          "0604:PERSONAL CARE",
          "0597:HEALTH AIDS",
          "0604:PERSONAL CARE",
          "0962:BEVERAGES",
          "0982:SPIRITS",
          "0962:BEVERAGES",
          "0597:HEALTH AIDS",
          "0850:PC HDWR & OFFICE EQP",
          "0879:PET SUPPLIES",
          "0983:WINE",
          "0449:GIRLS ACCESSORIES",
          "0991:TOBACCO",
          "0811:TELEVISION",
          "0230:DAYWEAR",
          "0261:HOSIERY",
          "0592:WMNS PRESTIGE FRAG",
          "0595:HOME/BATH",
          "0797:SEASONAL GIFTS",
          "0186:JUNIOR DRESSES",
          "0982:SPIRITS",
          "0991:TOBACCO",
          "0797:SEASONAL GIFTS",
          "0984:BEER",
          "0991:TOBACCO",
          "0861:GENERAL HARDWARE",
          "0962:BEVERAGES",
          "0973:CANDY",
          "0857:PC PERIPH/OFFICE ACC",
          "0391:MENS SHOES",
          "0486:CHILDRENS FOOTWEAR",
          "0469:BOYS ACCESSORIES",
          "0470:BOYS 8-20 CLOTHING",
          "0240:SLEEPWEAR/LOUNGEWEAR",
          "0353:MENS OUTDOOR",
          "0368:TRAD COLLECTIONS",
          "0415:NEWBORN APPAREL",
          "0460:BOYS 4-7 CLOTHING",
          "0530:SCHOOL/OFFIC SUPP",
          "0586:COSTUME JEWELRY",
          "0837:GENERAL HOUSEWARES",
          "0991:TOBACCO",
          "0961:GENERAL GROCERIES",
          "0962:BEVERAGES",
          "0991:TOBACCO",
          "0861:GENERAL HARDWARE",
          "0930:TABLE TOP & KITCHEN",
          "0071:BEAUTY RETAIL",
          "0261:HOSIERY",
          "0359:MENS ACCESSORIES",
          "0585:WATCHES",
          "0856:GLUES/TAPES/ACC",
          "0962:BEVERAGES",
          "0973:CANDY",
          "0991:TOBACCO",
          "0991:TOBACCO",
          "0230:DAYWEAR",
          "0291:WOMENS FTWR:DRS/CAS",
          "0589:SUNGLASSES",
          "0581:BRIDGE JEWELRY",
          "0590:MASS COSMETICS",
          "0593:PRESTIGE COSMETICS",
          "0603:BEAUTY CARE",
          "0836:HOUSEHOLD CLEANING",
          "0850:PC HDWR & OFFICE EQP",
          "0860:NETWORKING",
          "0962:BEVERAGES",
          "0380:MENS ACTIVEWEAR",
          "0598:BABY CARE",
          "0646:SEASONAL",
          "0815:AUDIO ELECTRONICS",
          "0941:BEDDING",
          "0589:SUNGLASSES",
          "0346:LIFE STYLE DENIM",
          "0056:SOUVENIR",
          "0532:AMERICAN GREETINGS",
          "0416:INFANT APPAREL",
          "0597:HEALTH AIDS",
          "0593:PRESTIGE COSMETICS",
          "0854:VIDEO GAMES",
          "0131:LADIES DRESSES",
          "0280:FASHION ACCESSORIES",
          "0369:YOUNG MENS",
          "0644:SPORTS NUTRITION",
          "0836:HOUSEHOLD CLEANING",
          "0991:TOBACCO",
          "0353:MENS OUTDOOR",
          "0632:DIGITAL FITNESS",
          "0991:TOBACCO",
          "0380:MENS ACTIVEWEAR",
          "0973:CANDY",
          "0983:WINE",
          "0510:NAVY PRIDE HARDLINES",
          "0554:TELECOMMUNICATIONS",
          "0167:MISSY TOPS",
          "0261:HOSIERY",
          "0280:FASHION ACCESSORIES",
          "0991:TOBACCO",
          "0991:TOBACCO",
          "0380:MENS ACTIVEWEAR",
          "0638:GEN SPORTING GOODS",
          "0845:AS SEEN ON TV",
          "0511:NAVY PRIDE SOFTLINES",
          "0110:LDS OUTERWEAR/OUTDR",
          "0161:MISSY KAREN SCOTT",
          "0271:HANDBAGS",
          "0593:PRESTIGE COSMETICS",
          "0380:MENS ACTIVEWEAR",
          "0839:HOME ORG/SOLUTIONS",
          "0353:MENS OUTDOOR",
          "0961:GENERAL GROCERIES",
          "0645:BIKES",
          "0836:HOUSEHOLD CLEANING",
          "0962:BEVERAGES",
          "0973:CANDY",
          "0161:MISSY KAREN SCOTT",
          "0416:INFANT APPAREL",
          "0640:TOYS",
          "0797:SEASONAL GIFTS",
          "0982:SPIRITS",
          "0354:MENS MODERN COLLECT",
          "0486:CHILDRENS FOOTWEAR",
          "0532:AMERICAN GREETINGS",
          "0603:BEAUTY CARE",
          "0826:SMALL ELECTRICS",
          "0271:HANDBAGS",
          "0826:SMALL ELECTRICS",
          "0961:GENERAL GROCERIES",
          "0173:JUNIOR BOTTOMS",
          "0178:DENIM COLLECTIONS",
          "0188:STYLE & CO",
          "0261:HOSIERY",
          "0291:WOMENS FTWR:DRS/CAS",
          "0586:COSTUME JEWELRY",
          "0646:SEASONAL",
          "0795:HOME DECOR",
          "0837:GENERAL HOUSEWARES",
          "0973:CANDY",
          "0826:SMALL ELECTRICS",
          "0837:GENERAL HOUSEWARES",
          "0930:TABLE TOP & KITCHEN",
          "0941:BEDDING",
          "0826:SMALL ELECTRICS",
          "0834:COOKWARE",
          "0973:CANDY",
          "0531:STATIONERY SUNDRIES",
          "0636:FITNESS/EXERCISE",
          "0640:TOYS",
          "0983:WINE",
          "0597:HEALTH AIDS",
          "0604:PERSONAL CARE",
          "0836:HOUSEHOLD CLEANING",
          "0439:JUVENILLE FURNITURE",
          "0415:NEWBORN APPAREL",
          "0416:INFANT APPAREL",
          "0845:AS SEEN ON TV",
          "0973:CANDY",
          "0982:SPIRITS",
          "0984:BEER",
          "0261:HOSIERY",
          "0430:GIRLS 4-6X CLOTHING",
          "0460:BOYS 4-7 CLOTHING",
          "0469:BOYS ACCESSORIES",
          "0603:BEAUTY CARE",
          "0931:BATH",
          "0982:SPIRITS",
          "0598:BABY CARE",
          "0598:BABY CARE",
          "0532:AMERICAN GREETINGS",
          "0879:PET SUPPLIES",
          "0983:WINE",
          "0210:FOUNDATIONS",
          "0415:NEWBORN APPAREL",
          "0421:TODDLER GIRL APPAREL",
          "0797:SEASONAL GIFTS",
          "0838:FLOOR CARE",
          "0240:SLEEPWEAR/LOUNGEWEAR",
          "0261:HOSIERY",
          "0271:HANDBAGS",
          "0415:NEWBORN APPAREL",
          "0426:TODDLER BOY APPAREL",
          "0430:GIRLS 4-6X CLOTHING",
          "0973:CANDY",
          "0411:PEGABLES",
          "0415:NEWBORN APPAREL",
          "0416:INFANT APPAREL",
          "0973:CANDY",
          "0983:WINE",
          "0353:MENS OUTDOOR",
          "0380:MENS ACTIVEWEAR",
          "0595:HOME/BATH",
          "0359:MENS ACCESSORIES",
          "0360:MENS FURNISHINGS",
          "0597:HEALTH AIDS",
          "0597:HEALTH AIDS",
          "0973:CANDY",
          "0597:HEALTH AIDS",
          "0836:HOUSEHOLD CLEANING",
          "0846:BATTERIES",
          "0983:WINE",
          "0532:AMERICAN GREETINGS",
          "0590:MASS COSMETICS",
          "0930:TABLE TOP & KITCHEN",
          "0973:CANDY",
          "0391:MENS SHOES",
          "0962:BEVERAGES",
          "0380:MENS ACTIVEWEAR",
          "0391:MENS SHOES",
          "0597:HEALTH AIDS",
          "0836:HOUSEHOLD CLEANING",
          "0961:GENERAL GROCERIES",
          "0973:CANDY",
          "0220:SHAPEWEAR",
          "0962:BEVERAGES",
          "0532:AMERICAN GREETINGS",
          "0592:WMNS PRESTIGE FRAG",
          "0604:PERSONAL CARE",
          "0486:CHILDRENS FOOTWEAR",
          "0999:UNSCANNED ITEMS",
          "0380:MENS ACTIVEWEAR",
          "0826:SMALL ELECTRICS",
          "0056:SOUVENIR",
          "0360:MENS FURNISHINGS",
          "0532:AMERICAN GREETINGS",
          "0590:MASS COSMETICS",
          "0597:HEALTH AIDS",
          "0884:LAWN & GARDEN",
          "0973:CANDY",
          "0510:NAVY PRIDE HARDLINES",
          "0973:CANDY",
          "0795:HOME DECOR",
          "0056:SOUVENIR",
          "0597:HEALTH AIDS",
          "0603:BEAUTY CARE",
          "0836:HOUSEHOLD CLEANING",
          "0999:UNSCANNED ITEMS",
          "0369:YOUNG MENS",
          "0836:HOUSEHOLD CLEANING",
          "0965:PERISHABLES",
          "0973:CANDY",
          "0982:SPIRITS",
          "0593:PRESTIGE COSMETICS",
          "0603:BEAUTY CARE",
          "0604:PERSONAL CARE",
          "0271:HANDBAGS",
          "0983:WINE",
          "0310:MENS OUTERWEAR",
          "0604:PERSONAL CARE",
          "0836:HOUSEHOLD CLEANING",
          "0962:BEVERAGES",
          "0982:SPIRITS",
          "0984:BEER",
          "0469:BOYS ACCESSORIES",
          "0795:HOME DECOR",
          "0836:HOUSEHOLD CLEANING",
          "0845:AS SEEN ON TV",
          "0240:SLEEPWEAR/LOUNGEWEAR",
          "0854:VIDEO GAMES",
          "0931:BATH",
          "0440:GIRLS 7-16 CLOTHING",
          "0469:BOYS ACCESSORIES",
          "0532:AMERICAN GREETINGS",
          "0603:BEAUTY CARE",
          "0604:PERSONAL CARE",
          "0822:THIRD PARTY GIFTCARD",
          "0421:TODDLER GIRL APPAREL",
          "0598:BABY CARE",
          "0836:HOUSEHOLD CLEANING",
          "0879:PET SUPPLIES",
          "0822:THIRD PARTY GIFTCARD",
          "0822:THIRD PARTY GIFTCARD",
          "0646:SEASONAL",
          "0973:CANDY",
          "0603:BEAUTY CARE",
          "0836:HOUSEHOLD CLEANING",
          "0879:PET SUPPLIES",
          "0984:BEER",
          "0597:HEALTH AIDS",
          "0836:HOUSEHOLD CLEANING",
          "0193:LADIES ACTIVEWEAR",
          "0590:MASS COSMETICS",
          "0961:GENERAL GROCERIES",
          "0973:CANDY",
          "0532:AMERICAN GREETINGS",
          "0646:SEASONAL",
          "0193:LADIES ACTIVEWEAR",
          "0380:MENS ACTIVEWEAR",
          "0646:SEASONAL",
          "0836:HOUSEHOLD CLEANING",
          "0846:BATTERIES",
          "0973:CANDY",
          "0163:JUNIOR TOPS",
          "0173:JUNIOR BOTTOMS",
          "0359:MENS ACCESSORIES",
          "0360:MENS FURNISHINGS",
          "0973:CANDY",
          "0532:AMERICAN GREETINGS",
          "0646:SEASONAL",
          "0797:SEASONAL GIFTS",
          "0991:TOBACCO",
          "0188:STYLE & CO",
          "0230:DAYWEAR",
          "0261:HOSIERY",
          "0210:FOUNDATIONS",
          "0359:MENS ACCESSORIES",
          "0261:HOSIERY",
          "0369:YOUNG MENS",
          "0590:MASS COSMETICS",
          "0595:HOME/BATH",
          "0603:BEAUTY CARE",
          "0836:HOUSEHOLD CLEANING",
          "0961:GENERAL GROCERIES",
          "0982:SPIRITS",
          "0837:GENERAL HOUSEWARES",
          "0973:CANDY",
          "0597:HEALTH AIDS",
          "0603:BEAUTY CARE",
          "0604:PERSONAL CARE",
          "0961:GENERAL GROCERIES",
          "0962:BEVERAGES",
          "0603:BEAUTY CARE",
          "0636:FITNESS/EXERCISE",
          "0826:SMALL ELECTRICS",
          "0597:HEALTH AIDS",
          "0823:SMART HOME",
          "0962:BEVERAGES",
          "0532:AMERICAN GREETINGS",
          "0551:CAMERAS & EQUIP",
          "0815:AUDIO ELECTRONICS",
          "0636:FITNESS/EXERCISE",
          "0991:TOBACCO",
          "0603:BEAUTY CARE",
          "0962:BEVERAGES",
          "0991:TOBACCO",
          "0532:AMERICAN GREETINGS",
          "0640:TOYS",
          "0973:CANDY",
          "0836:HOUSEHOLD CLEANING",
          "0962:BEVERAGES",
          "0837:GENERAL HOUSEWARES",
          "0360:MENS FURNISHINGS",
          "0369:YOUNG MENS",
          "0530:SCHOOL/OFFIC SUPP",
          "0661:LUGGAGE",
          "0530:SCHOOL/OFFIC SUPP",
          "0541:BOOKS AND MAPS",
          "0640:TOYS",
          "0982:SPIRITS",
          "0961:GENERAL GROCERIES",
          "0982:SPIRITS",
          "0360:MENS FURNISHINGS",
          "0597:HEALTH AIDS",
          "0603:BEAUTY CARE",
          "0836:HOUSEHOLD CLEANING",
          "0962:BEVERAGES",
          "0973:CANDY",
          "0532:AMERICAN GREETINGS",
          "0646:SEASONAL",
          "0846:BATTERIES",
          "0973:CANDY",
          "0271:HANDBAGS",
          "0346:LIFE STYLE DENIM",
          "0590:MASS COSMETICS",
          "0597:HEALTH AIDS",
          "0603:BEAUTY CARE",
          "0640:TOYS",
          "0836:HOUSEHOLD CLEANING",
          "0837:GENERAL HOUSEWARES",
          "0930:TABLE TOP & KITCHEN",
          "0931:BATH",
          "0973:CANDY",
          "0163:JUNIOR TOPS",
          "0280:FASHION ACCESSORIES",
          "0369:YOUNG MENS",
          "0411:PEGABLES",
          "0415:NEWBORN APPAREL",
          "0593:PRESTIGE COSMETICS",
          "0604:PERSONAL CARE",
          "0603:BEAUTY CARE",
          "0797:SEASONAL GIFTS",
          "0837:GENERAL HOUSEWARES",
          "0395:MENS ATHLETIC SHOES",
          "0973:CANDY",
          "0982:SPIRITS",
          "0983:WINE",
          "0530:SCHOOL/OFFIC SUPP",
          "0639:TEAM SPORTING GOODS",
          "0861:GENERAL HARDWARE",
          "0962:BEVERAGES",
          "0991:TOBACCO",
          "0353:MENS OUTDOOR",
          "0592:WMNS PRESTIGE FRAG",
          "0593:PRESTIGE COSMETICS",
          "0973:CANDY",
          "0340:MENS CASUAL SLACKS",
          "0380:MENS ACTIVEWEAR",
          "0161:MISSY KAREN SCOTT",
          "0271:HANDBAGS",
          "0644:SPORTS NUTRITION",
          "0962:BEVERAGES",
          "0965:PERISHABLES",
          "0161:MISSY KAREN SCOTT",
          "0177:PETITE SEPARATES",
          "0193:LADIES ACTIVEWEAR",
          "0360:MENS FURNISHINGS",
          "0532:AMERICAN GREETINGS",
          "0593:PRESTIGE COSMETICS",
          "0171:MISSY BOTTOMS",
          "0661:LUGGAGE",
          "0593:PRESTIGE COSMETICS",
          "0603:BEAUTY CARE",
          "0973:CANDY",
          "0590:MASS COSMETICS",
          "0597:HEALTH AIDS",
          "0603:BEAUTY CARE",
          "0604:PERSONAL CARE",
          "0530:SCHOOL/OFFIC SUPP",
          "0110:LDS OUTERWEAR/OUTDR",
          "0551:CAMERAS & EQUIP",
          "0632:DIGITAL FITNESS",
          "0982:SPIRITS",
          "0426:TODDLER BOY APPAREL",
          "0469:BOYS ACCESSORIES",
          "0640:TOYS",
          "0982:SPIRITS",
          "0604:PERSONAL CARE",
          "0634:VITAMINS & HLTH AIDS",
          "0961:GENERAL GROCERIES",
          "0634:VITAMINS & HLTH AIDS",
          "0836:HOUSEHOLD CLEANING",
          "0530:SCHOOL/OFFIC SUPP",
          "0837:GENERAL HOUSEWARES",
          "0930:TABLE TOP & KITCHEN",
          "0833:TABLETOP",
          "0837:GENERAL HOUSEWARES",
          "0931:BATH",
          "0056:SOUVENIR",
          "0510:NAVY PRIDE HARDLINES",
          "0532:AMERICAN GREETINGS",
          "0962:BEVERAGES",
          "0071:BEAUTY RETAIL",
          "0358:MENS DRESS SHIRTS",
          "0597:HEALTH AIDS",
          "0098:WAREHOUSED EXPENSES",
          "0430:GIRLS 4-6X CLOTHING",
          "0449:GIRLS ACCESSORIES",
          "0530:SCHOOL/OFFIC SUPP",
          "0646:SEASONAL",
          "0822:THIRD PARTY GIFTCARD",
          "0163:JUNIOR TOPS",
          "0167:MISSY TOPS",
          "0056:SOUVENIR",
          "0163:JUNIOR TOPS",
          "0965:PERISHABLES",
          "0962:BEVERAGES",
          "0640:TOYS",
          "0646:SEASONAL",
          "0822:THIRD PARTY GIFTCARD",
          "0962:BEVERAGES",
          "0369:YOUNG MENS",
          "0530:SCHOOL/OFFIC SUPP",
          "0826:SMALL ELECTRICS",
          "0590:MASS COSMETICS",
          "0603:BEAUTY CARE",
          "0604:PERSONAL CARE",
          "0857:PC PERIPH/OFFICE ACC",
          "0167:MISSY TOPS",
          "0171:MISSY BOTTOMS",
          "0271:HANDBAGS",
          "0360:MENS FURNISHINGS",
          "0369:YOUNG MENS",
          "0592:WMNS PRESTIGE FRAG",
          "0593:PRESTIGE COSMETICS",
          "0596:MENS PRESTIGE FRAG",
          "0795:HOME DECOR",
          "0984:BEER",
          "0586:COSTUME JEWELRY",
          "0973:CANDY",
          "0973:CANDY",
          "0982:SPIRITS",
          "0983:WINE",
          "0984:BEER",
          "0982:SPIRITS",
          "0360:MENS FURNISHINGS",
          "0532:AMERICAN GREETINGS",
          "0845:AS SEEN ON TV",
          "0973:CANDY",
          "0973:CANDY",
          "0597:HEALTH AIDS",
          "0961:GENERAL GROCERIES",
          "0973:CANDY",
          "0598:BABY CARE",
          "0962:BEVERAGES",
          "0973:CANDY",
          "0343:MENS DENIM JEANS",
          "0395:MENS ATHLETIC SHOES",
          "0973:CANDY",
          "0597:HEALTH AIDS",
          "0961:GENERAL GROCERIES",
          "0962:BEVERAGES",
          "0973:CANDY",
          "0962:BEVERAGES",
          "0359:MENS ACCESSORIES",
          "0589:SUNGLASSES",
          "0836:HOUSEHOLD CLEANING",
          "0240:SLEEPWEAR/LOUNGEWEAR",
          "0261:HOSIERY",
          "0486:CHILDRENS FOOTWEAR",
          "0395:MENS ATHLETIC SHOES",
          "0230:DAYWEAR",
          "0291:WOMENS FTWR:DRS/CAS",
          "0795:HOME DECOR",
          "0854:VIDEO GAMES",
          "0391:MENS SHOES",
          "0597:HEALTH AIDS",
          "0601:VALUE ZONE",
          "0604:PERSONAL CARE",
          "0280:FASHION ACCESSORIES",
          "0530:SCHOOL/OFFIC SUPP",
          "0836:HOUSEHOLD CLEANING",
          "0973:CANDY",
          "0380:MENS ACTIVEWEAR",
          "0836:HOUSEHOLD CLEANING",
          "0962:BEVERAGES",
          "0973:CANDY",
          "0595:HOME/BATH",
          "0644:SPORTS NUTRITION",
          "0962:BEVERAGES",
          "0421:TODDLER GIRL APPAREL",
          "0449:GIRLS ACCESSORIES",
          "0380:MENS ACTIVEWEAR",
          "0530:SCHOOL/OFFIC SUPP",
          "0354:MENS MODERN COLLECT",
          "0359:MENS ACCESSORIES",
          "0597:HEALTH AIDS",
          "0604:PERSONAL CARE",
          "0644:SPORTS NUTRITION",
          "0440:GIRLS 7-16 CLOTHING",
          "0973:CANDY",
          "0982:SPIRITS",
          "0590:MASS COSMETICS",
          "0598:BABY CARE",
          "0982:SPIRITS",
          "0597:HEALTH AIDS",
          "0604:PERSONAL CARE",
          "0962:BEVERAGES",
          "0295:WOMENS ATHLTIC SHOES",
          "0593:PRESTIGE COSMETICS",
          "0358:MENS DRESS SHIRTS",
          "0640:TOYS",
          "0722:OUTDOOR LIVING",
          "0826:SMALL ELECTRICS",
          "0845:AS SEEN ON TV",
          "0962:BEVERAGES",
          "0984:BEER",
          "0962:BEVERAGES",
          "0590:MASS COSMETICS",
          "0680:AUTOMOTIVE",
          "0722:OUTDOOR LIVING",
          "0531:STATIONERY SUNDRIES",
          "0532:AMERICAN GREETINGS",
          "0983:WINE",
          "0961:GENERAL GROCERIES",
          "0261:HOSIERY",
          "0597:HEALTH AIDS",
          "0598:BABY CARE",
          "0604:PERSONAL CARE",
          "0861:GENERAL HARDWARE",
          "0973:CANDY",
          "0962:BEVERAGES",
          "0973:CANDY",
          "0604:PERSONAL CARE",
          "0380:MENS ACTIVEWEAR",
          "0597:HEALTH AIDS",
          "0604:PERSONAL CARE",
          "0640:TOYS",
          "0973:CANDY",
          "0845:AS SEEN ON TV",
          "0193:LADIES ACTIVEWEAR",
          "0973:CANDY",
          "0343:MENS DENIM JEANS",
          "0380:MENS ACTIVEWEAR",
          "0603:BEAUTY CARE",
          "0604:PERSONAL CARE",
          "0836:HOUSEHOLD CLEANING",
          "0797:SEASONAL GIFTS",
          "0359:MENS ACCESSORIES",
          "0368:TRAD COLLECTIONS",
          "0391:MENS SHOES",
          "0411:PEGABLES",
          "0510:NAVY PRIDE HARDLINES",
          "0962:BEVERAGES",
          "0532:AMERICAN GREETINGS",
          "0590:MASS COSMETICS",
          "0604:PERSONAL CARE",
          "0634:VITAMINS & HLTH AIDS",
          "0640:TOYS",
          "0861:GENERAL HARDWARE",
          "0879:PET SUPPLIES",
          "0973:CANDY",
          "0983:WINE",
          "0680:AUTOMOTIVE",
          "0360:MENS FURNISHINGS",
          "0597:HEALTH AIDS",
          "0380:MENS ACTIVEWEAR",
          "0597:HEALTH AIDS",
          "0836:HOUSEHOLD CLEANING",
          "0982:SPIRITS",
          "0983:WINE",
          "0991:TOBACCO",
          "0380:MENS ACTIVEWEAR",
          "0595:HOME/BATH",
          "0597:HEALTH AIDS",
          "0879:PET SUPPLIES",
          "0884:LAWN & GARDEN",
          "0961:GENERAL GROCERIES",
          "0962:BEVERAGES",
          "0973:CANDY",
          "0961:GENERAL GROCERIES",
          "0962:BEVERAGES",
          "0973:CANDY",
          "0962:BEVERAGES",
          "0644:SPORTS NUTRITION",
          "0879:PET SUPPLIES",
          "0354:MENS MODERN COLLECT",
          "0470:BOYS 8-20 CLOTHING",
          "0991:TOBACCO",
          "0421:TODDLER GIRL APPAREL",
          "0179:MODERATE DENIM",
          "0368:TRAD COLLECTIONS",
          "0589:SUNGLASSES",
          "0603:BEAUTY CARE",
          "0850:PC HDWR & OFFICE EQP",
          "0973:CANDY",
          "0973:CANDY",
          "0603:BEAUTY CARE",
          "0391:MENS SHOES",
          "0597:HEALTH AIDS",
          "0604:PERSONAL CARE",
          "0638:GEN SPORTING GOODS",
          "0722:OUTDOOR LIVING",
          "0846:BATTERIES",
          "0962:BEVERAGES",
          "0595:HOME/BATH",
          "0836:HOUSEHOLD CLEANING",
          "0343:MENS DENIM JEANS",
          "0879:PET SUPPLIES",
          "0962:BEVERAGES",
          "0973:CANDY",
          "0797:SEASONAL GIFTS",
          "0837:GENERAL HOUSEWARES",
          "0973:CANDY",
          "0982:SPIRITS",
          "0962:BEVERAGES",
          "0962:BEVERAGES",
          "0530:SCHOOL/OFFIC SUPP",
          "0645:BIKES",
          "0837:GENERAL HOUSEWARES",
          "0857:PC PERIPH/OFFICE ACC",
          "0597:HEALTH AIDS",
          "0603:BEAUTY CARE",
          "0962:BEVERAGES",
          "0280:FASHION ACCESSORIES",
          "0640:TOYS",
          "0973:CANDY",
          "0530:SCHOOL/OFFIC SUPP",
          "0360:MENS FURNISHINGS",
          "0532:AMERICAN GREETINGS",
          "0597:HEALTH AIDS",
          "0604:PERSONAL CARE",
          "0861:GENERAL HARDWARE",
          "0982:SPIRITS",
          "0295:WOMENS ATHLTIC SHOES",
          "0380:MENS ACTIVEWEAR",
          "0593:PRESTIGE COSMETICS",
          "0597:HEALTH AIDS",
          "0603:BEAUTY CARE",
          "0634:VITAMINS & HLTH AIDS",
          "0661:LUGGAGE",
          "0012:LOCAL GIFTS/FOODS",
          "0597:HEALTH AIDS",
          "0604:PERSONAL CARE",
          "0597:HEALTH AIDS",
          "0982:SPIRITS",
          "0879:PET SUPPLIES",
          "0973:CANDY",
          "0597:HEALTH AIDS",
          "0836:HOUSEHOLD CLEANING",
          "0193:LADIES ACTIVEWEAR",
          "0604:PERSONAL CARE",
          "0973:CANDY",
          "0071:BEAUTY RETAIL",
          "0161:MISSY KAREN SCOTT",
          "0355:MENS SPORT SHIRTS",
          "0395:MENS ATHLETIC SHOES",
          "0585:WATCHES",
          "0973:CANDY",
          "0596:MENS PRESTIGE FRAG",
          "0973:CANDY",
          "0982:SPIRITS",
          "0596:MENS PRESTIGE FRAG",
          "0837:GENERAL HOUSEWARES",
          "0595:HOME/BATH",
          "0589:SUNGLASSES",
          "0193:LADIES ACTIVEWEAR",
          "0554:TELECOMMUNICATIONS",
          "0638:GEN SPORTING GOODS",
          "0360:MENS FURNISHINGS",
          "0826:SMALL ELECTRICS",
          "0839:HOME ORG/SOLUTIONS",
          "0597:HEALTH AIDS",
          "0593:PRESTIGE COSMETICS",
          "0585:WATCHES",
          "0837:GENERAL HOUSEWARES",
          "0295:WOMENS ATHLTIC SHOES",
          "0999:UNSCANNED ITEMS",
          "0637:FISHING",
          "0638:GEN SPORTING GOODS",
          "0962:BEVERAGES",
          "0973:CANDY",
          "0982:SPIRITS",
          "0353:MENS OUTDOOR",
          "0597:HEALTH AIDS",
          "0879:PET SUPPLIES",
          "0295:WOMENS ATHLTIC SHOES",
          "0395:MENS ATHLETIC SHOES",
          "0973:CANDY",
          "0271:HANDBAGS",
          "0585:WATCHES",
          "0590:MASS COSMETICS",
          "0593:PRESTIGE COSMETICS",
          "0595:HOME/BATH",
          "0597:HEALTH AIDS",
          "0603:BEAUTY CARE",
          "0646:SEASONAL",
          "0836:HOUSEHOLD CLEANING",
          "0973:CANDY",
          "0161:MISSY KAREN SCOTT",
          "0165:LIFE IS GOOD",
          "0177:PETITE SEPARATES",
          "0240:SLEEPWEAR/LOUNGEWEAR",
          "0353:MENS OUTDOOR",
          "0380:MENS ACTIVEWEAR",
          "0590:MASS COSMETICS",
          "0603:BEAUTY CARE",
          "0604:PERSONAL CARE",
          "0836:HOUSEHOLD CLEANING",
          "0360:MENS FURNISHINGS",
          "0380:MENS ACTIVEWEAR",
          "0982:SPIRITS",
          "0640:TOYS",
          "0962:BEVERAGES",
          "0532:AMERICAN GREETINGS",
          "0604:PERSONAL CARE",
          "0640:TOYS",
          "0884:LAWN & GARDEN",
          "0230:DAYWEAR",
          "0826:SMALL ELECTRICS",
          "0833:TABLETOP",
          "0597:HEALTH AIDS",
          "0836:HOUSEHOLD CLEANING",
          "0962:BEVERAGES",
          "0982:SPIRITS",
          "0360:MENS FURNISHINGS",
          "0510:NAVY PRIDE HARDLINES",
          "0836:HOUSEHOLD CLEANING",
          "0879:PET SUPPLIES",
          "0962:BEVERAGES",
          "0973:CANDY",
          "0597:HEALTH AIDS",
          "0961:GENERAL GROCERIES",
          "0411:PEGABLES",
          "0415:NEWBORN APPAREL",
          "0597:HEALTH AIDS",
          "0598:BABY CARE",
          "0604:PERSONAL CARE",
          "0836:HOUSEHOLD CLEANING",
          "0861:GENERAL HARDWARE",
          "0930:TABLE TOP & KITCHEN",
          "0962:BEVERAGES",
          "0973:CANDY",
          "0984:BEER",
          "0161:MISSY KAREN SCOTT",
          "0163:JUNIOR TOPS",
          "0354:MENS MODERN COLLECT",
          "0368:TRAD COLLECTIONS",
          "0973:CANDY",
          "0360:MENS FURNISHINGS",
          "0837:GENERAL HOUSEWARES",
          "0962:BEVERAGES",
          "0340:MENS CASUAL SLACKS",
          "0343:MENS DENIM JEANS",
          "0604:PERSONAL CARE",
          "0961:GENERAL GROCERIES",
          "0965:PERISHABLES",
          "0973:CANDY",
          "0983:WINE",
          "0590:MASS COSMETICS",
          "0597:HEALTH AIDS",
          "0603:BEAUTY CARE",
          "0604:PERSONAL CARE",
          "0931:BATH",
          "0421:TODDLER GIRL APPAREL",
          "0440:GIRLS 7-16 CLOTHING",
          "0449:GIRLS ACCESSORIES",
          "0973:CANDY",
          "0973:CANDY",
          "0360:MENS FURNISHINGS",
          "0532:AMERICAN GREETINGS",
          "0540:PERIODICALS/COMICS",
          "0541:BOOKS AND MAPS",
          "0589:SUNGLASSES",
          "0593:PRESTIGE COSMETICS",
          "0973:CANDY",
          "0982:SPIRITS",
          "0983:WINE",
          "0961:GENERAL GROCERIES",
          "0962:BEVERAGES",
          "0973:CANDY",
          "0181:LADIES MODERN COLLEC",
          "0261:HOSIERY",
          "0271:HANDBAGS",
          "0291:WOMENS FTWR:DRS/CAS",
          "0532:AMERICAN GREETINGS",
          "0941:BEDDING",
          "0554:TELECOMMUNICATIONS",
          "0646:SEASONAL",
          "0056:SOUVENIR",
          "0822:THIRD PARTY GIFTCARD",
          "0854:VIDEO GAMES",
          "0973:CANDY",
          "0071:BEAUTY RETAIL",
          "0179:MODERATE DENIM",
          "0634:VITAMINS & HLTH AIDS",
          "0597:HEALTH AIDS",
          "0634:VITAMINS & HLTH AIDS",
          "0879:PET SUPPLIES",
          "0353:MENS OUTDOOR",
          "0591:MASS FRAGRANCES",
          "0595:HOME/BATH",
          "0604:PERSONAL CARE",
          "0230:DAYWEAR",
          "0380:MENS ACTIVEWEAR",
          "0530:SCHOOL/OFFIC SUPP",
          "0603:BEAUTY CARE",
          "0857:PC PERIPH/OFFICE ACC",
          "0973:CANDY",
          "0430:GIRLS 4-6X CLOTHING",
          "0440:GIRLS 7-16 CLOTHING",
          "0597:HEALTH AIDS",
          "0603:BEAUTY CARE",
          "0604:PERSONAL CARE",
          "0640:TOYS",
          "0846:BATTERIES",
          "0511:NAVY PRIDE SOFTLINES",
          "0584:GEMSTONES",
          "0597:HEALTH AIDS",
          "0603:BEAUTY CARE",
          "0837:GENERAL HOUSEWARES",
          "0962:BEVERAGES",
          "0640:TOYS",
          "0530:SCHOOL/OFFIC SUPP",
          "0640:TOYS",
          "0962:BEVERAGES",
          "0973:CANDY",
          "0962:BEVERAGES",
          "0638:GEN SPORTING GOODS",
          "0163:JUNIOR TOPS",
          "0359:MENS ACCESSORIES",
          "0597:HEALTH AIDS",
          "0850:PC HDWR & OFFICE EQP",
          "0346:LIFE STYLE DENIM",
          "0355:MENS SPORT SHIRTS",
          "0369:YOUNG MENS",
          "0380:MENS ACTIVEWEAR",
          "0982:SPIRITS",
          "0983:WINE",
          "0984:BEER",
          "0530:SCHOOL/OFFIC SUPP",
          "0532:AMERICAN GREETINGS",
          "0983:WINE",
          "0984:BEER",
          "0640:TOYS",
          "0110:LDS OUTERWEAR/OUTDR",
          "0130:JUNIORS SURF",
          "0360:MENS FURNISHINGS",
          "0380:MENS ACTIVEWEAR",
          "0395:MENS ATHLETIC SHOES",
          "0973:CANDY",
          "0360:MENS FURNISHINGS",
          "0380:MENS ACTIVEWEAR",
          "0636:FITNESS/EXERCISE",
          "0836:HOUSEHOLD CLEANING",
          "0360:MENS FURNISHINGS",
          "0604:PERSONAL CARE",
          "0973:CANDY",
          "0636:FITNESS/EXERCISE",
          "0380:MENS ACTIVEWEAR",
          "0360:MENS FURNISHINGS",
          "0604:PERSONAL CARE",
          "0836:HOUSEHOLD CLEANING",
          "0845:AS SEEN ON TV",
          "0857:PC PERIPH/OFFICE ACC",
          "0962:BEVERAGES",
          "0931:BATH",
          "0603:BEAUTY CARE",
          "0836:HOUSEHOLD CLEANING",
          "0961:GENERAL GROCERIES",
          "0973:CANDY",
          "0320:MNS TAILORED CLOTHNG",
          "0340:MENS CASUAL SLACKS",
          "0355:MENS SPORT SHIRTS",
          "0826:SMALL ELECTRICS",
          "0280:FASHION ACCESSORIES",
          "0532:AMERICAN GREETINGS",
          "0541:BOOKS AND MAPS",
          "0833:TABLETOP",
          "0346:LIFE STYLE DENIM",
          "0369:YOUNG MENS",
          "0595:HOME/BATH",
          "0854:VIDEO GAMES",
          "0603:BEAUTY CARE",
          "0638:GEN SPORTING GOODS",
          "0597:HEALTH AIDS",
          "0879:PET SUPPLIES",
          "0973:CANDY",
          "0530:SCHOOL/OFFIC SUPP",
          "0597:HEALTH AIDS",
          "0598:BABY CARE",
          "0604:PERSONAL CARE",
          "0836:HOUSEHOLD CLEANING",
          "0961:GENERAL GROCERIES",
          "0962:BEVERAGES",
          "0973:CANDY",
          "0510:NAVY PRIDE HARDLINES",
          "0973:CANDY",
          "0110:LDS OUTERWEAR/OUTDR",
          "0962:BEVERAGES",
          "0795:HOME DECOR",
          "0261:HOSIERY",
          "0586:COSTUME JEWELRY",
          "0597:HEALTH AIDS",
          "0604:PERSONAL CARE",
          "0597:HEALTH AIDS",
          "0604:PERSONAL CARE",
          "0836:HOUSEHOLD CLEANING",
          "0962:BEVERAGES",
          "0973:CANDY",
          "0984:BEER",
          "0469:BOYS ACCESSORIES",
          "0486:CHILDRENS FOOTWEAR",
          "0982:SPIRITS",
          "0857:PC PERIPH/OFFICE ACC",
          "0391:MENS SHOES",
          "0603:BEAUTY CARE",
          "0984:BEER",
          "0071:BEAUTY RETAIL",
          "0593:PRESTIGE COSMETICS",
          "0603:BEAUTY CARE",
          "0593:PRESTIGE COSMETICS",
          "0884:LAWN & GARDEN",
          "0973:CANDY",
          "0984:BEER",
          "0532:AMERICAN GREETINGS",
          "0597:HEALTH AIDS",
          "0056:SOUVENIR",
          "0391:MENS SHOES",
          "0554:TELECOMMUNICATIONS",
          "0590:MASS COSMETICS",
          "0167:MISSY TOPS",
          "0171:MISSY BOTTOMS",
          "0646:SEASONAL",
          "0962:BEVERAGES",
          "0999:UNSCANNED ITEMS",
          "0532:AMERICAN GREETINGS",
          "0597:HEALTH AIDS",
          "0836:HOUSEHOLD CLEANING",
          "0962:BEVERAGES",
          "0532:AMERICAN GREETINGS",
          "0597:HEALTH AIDS",
          "0982:SPIRITS",
          "0983:WINE",
          "0368:TRAD COLLECTIONS",
          "0879:PET SUPPLIES",
          "0961:GENERAL GROCERIES",
          "0962:BEVERAGES",
          "0261:HOSIERY",
          "0822:THIRD PARTY GIFTCARD",
          "0110:LDS OUTERWEAR/OUTDR",
          "0353:MENS OUTDOOR",
          "0597:HEALTH AIDS",
          "0598:BABY CARE",
          "0962:BEVERAGES",
          "0380:MENS ACTIVEWEAR",
          "0271:HANDBAGS",
          "0845:AS SEEN ON TV",
          "0941:BEDDING",
          "0532:AMERICAN GREETINGS",
          "0836:HOUSEHOLD CLEANING",
          "0961:GENERAL GROCERIES",
          "0962:BEVERAGES",
          "0973:CANDY",
          "0826:SMALL ELECTRICS",
          "0380:MENS ACTIVEWEAR",
          "0530:SCHOOL/OFFIC SUPP",
          "0585:WATCHES",
          "0836:HOUSEHOLD CLEANING",
          "0973:CANDY",
          "0983:WINE",
          "0076:FLORAL RETAIL",
          "0188:STYLE & CO",
          "0240:SLEEPWEAR/LOUNGEWEAR",
          "0280:FASHION ACCESSORIES",
          "0597:HEALTH AIDS",
          "0603:BEAUTY CARE",
          "0646:SEASONAL",
          "0722:OUTDOOR LIVING",
          "0879:PET SUPPLIES",
          "0884:LAWN & GARDEN",
          "0973:CANDY",
          "0984:BEER",
          "0177:PETITE SEPARATES",
          "0973:CANDY",
          "0973:CANDY",
          "0369:YOUNG MENS",
          "0973:CANDY",
          "0597:HEALTH AIDS",
          "0604:PERSONAL CARE",
          "0638:GEN SPORTING GOODS",
          "0984:BEER",
          "0639:TEAM SPORTING GOODS",
          "0962:BEVERAGES",
          "0360:MENS FURNISHINGS",
          "0597:HEALTH AIDS",
          "0012:LOCAL GIFTS/FOODS",
          "0530:SCHOOL/OFFIC SUPP",
          "0532:AMERICAN GREETINGS",
          "0597:HEALTH AIDS",
          "0640:TOYS",
          "0646:SEASONAL",
          "0826:SMALL ELECTRICS",
          "0836:HOUSEHOLD CLEANING",
          "0850:PC HDWR & OFFICE EQP",
          "0961:GENERAL GROCERIES",
          "0973:CANDY",
          "0845:AS SEEN ON TV",
          "0380:MENS ACTIVEWEAR",
          "0532:AMERICAN GREETINGS",
          "0597:HEALTH AIDS",
          "0071:BEAUTY RETAIL",
          "0601:VALUE ZONE",
          "0603:BEAUTY CARE",
          "0240:SLEEPWEAR/LOUNGEWEAR",
          "0973:CANDY",
          "0836:HOUSEHOLD CLEANING",
          "0597:HEALTH AIDS",
          "0603:BEAUTY CARE",
          "0604:PERSONAL CARE",
          "0822:THIRD PARTY GIFTCARD",
          "0836:HOUSEHOLD CLEANING",
          "0343:MENS DENIM JEANS",
          "0531:STATIONERY SUNDRIES",
          "0380:MENS ACTIVEWEAR",
          "0532:AMERICAN GREETINGS",
          "0961:GENERAL GROCERIES",
          "0962:BEVERAGES",
          "0965:PERISHABLES",
          "0973:CANDY",
          "0597:HEALTH AIDS",
          "0604:PERSONAL CARE",
          "0634:VITAMINS & HLTH AIDS",
          "0879:PET SUPPLIES",
          "0962:BEVERAGES",
          "0601:VALUE ZONE",
          "0973:CANDY",
          "0973:CANDY",
          "0590:MASS COSMETICS",
          "0603:BEAUTY CARE",
          "0962:BEVERAGES",
          "0973:CANDY",
          "0343:MENS DENIM JEANS",
          "0360:MENS FURNISHINGS",
          "0368:TRAD COLLECTIONS",
          "0640:TOYS",
          "0846:BATTERIES",
          "0593:PRESTIGE COSMETICS",
          "0973:CANDY",
          "0240:SLEEPWEAR/LOUNGEWEAR",
          "0261:HOSIERY",
          "0636:FITNESS/EXERCISE",
          "0646:SEASONAL",
          "0884:LAWN & GARDEN",
          "0961:GENERAL GROCERIES",
          "0973:CANDY",
          "0532:AMERICAN GREETINGS",
          "0603:BEAUTY CARE",
          "0983:WINE",
          "0163:JUNIOR TOPS",
          "0532:AMERICAN GREETINGS",
          "0590:MASS COSMETICS",
          "0593:PRESTIGE COSMETICS",
          "0603:BEAUTY CARE",
          "0973:CANDY",
          "0982:SPIRITS",
          "0983:WINE",
          "0167:MISSY TOPS",
          "0175:WOMENS SEPARATES",
          "0639:TEAM SPORTING GOODS",
          "0982:SPIRITS",
          "0961:GENERAL GROCERIES",
          "0962:BEVERAGES",
          "0973:CANDY",
          "0360:MENS FURNISHINGS",
          "0369:YOUNG MENS",
          "0395:MENS ATHLETIC SHOES",
          "0421:TODDLER GIRL APPAREL",
          "0470:BOYS 8-20 CLOTHING",
          "0826:SMALL ELECTRICS",
          "0973:CANDY",
          "0510:NAVY PRIDE HARDLINES",
          "0593:PRESTIGE COSMETICS",
          "0603:BEAUTY CARE",
          "0639:TEAM SPORTING GOODS",
          "0822:THIRD PARTY GIFTCARD",
          "0836:HOUSEHOLD CLEANING",
          "0291:WOMENS FTWR:DRS/CAS",
          "0598:BABY CARE",
          "0530:SCHOOL/OFFIC SUPP",
          "0603:BEAUTY CARE",
          "0604:PERSONAL CARE",
          "0836:HOUSEHOLD CLEANING",
          "0845:AS SEEN ON TV",
          "0879:PET SUPPLIES",
          "0982:SPIRITS",
          "0991:TOBACCO",
          "0360:MENS FURNISHINGS",
          "0597:HEALTH AIDS",
          "0836:HOUSEHOLD CLEANING",
          "0879:PET SUPPLIES",
          "0941:BEDDING",
          "0240:SLEEPWEAR/LOUNGEWEAR",
          "0261:HOSIERY",
          "0530:SCHOOL/OFFIC SUPP",
          "0597:HEALTH AIDS",
          "0982:SPIRITS",
          "0983:WINE",
          "0177:PETITE SEPARATES",
          "0593:PRESTIGE COSMETICS",
          "0532:AMERICAN GREETINGS",
          "0603:BEAUTY CARE",
          "0962:BEVERAGES",
          "0230:DAYWEAR",
          "0797:SEASONAL GIFTS",
          "0826:SMALL ELECTRICS",
          "0355:MENS SPORT SHIRTS",
          "0310:MENS OUTERWEAR",
          "0355:MENS SPORT SHIRTS",
          "0359:MENS ACCESSORIES",
          "0368:TRAD COLLECTIONS",
          "0845:AS SEEN ON TV",
          "0983:WINE",
          "0360:MENS FURNISHINGS",
          "0369:YOUNG MENS",
          "0391:MENS SHOES",
          "0597:HEALTH AIDS",
          "0973:CANDY",
          "0983:WINE",
          "0098:WAREHOUSED EXPENSES",
          "0511:NAVY PRIDE SOFTLINES",
          "0532:AMERICAN GREETINGS",
          "0598:BABY CARE",
          "0110:LDS OUTERWEAR/OUTDR",
          "0193:LADIES ACTIVEWEAR",
          "0851:PC HARDWARE",
          "0598:BABY CARE",
          "0603:BEAUTY CARE",
          "0604:PERSONAL CARE",
          "0604:PERSONAL CARE",
          "0638:GEN SPORTING GOODS",
          "0879:PET SUPPLIES",
          "0962:BEVERAGES",
          "0597:HEALTH AIDS",
          "0603:BEAUTY CARE",
          "0604:PERSONAL CARE",
          "0973:CANDY",
          "0532:AMERICAN GREETINGS",
          "0603:BEAUTY CARE",
          "0982:SPIRITS",
          "0983:WINE",
          "0131:LADIES DRESSES",
          "0590:MASS COSMETICS",
          "0604:PERSONAL CARE",
          "0973:CANDY",
          "0597:HEALTH AIDS",
          "0009:FLORAL SERV/SUPPLIES",
          "0415:NEWBORN APPAREL",
          "0598:BABY CARE",
          "0836:HOUSEHOLD CLEANING",
          "0962:BEVERAGES",
          "0984:BEER",
          "0962:BEVERAGES",
          "0639:TEAM SPORTING GOODS",
          "0360:MENS FURNISHINGS",
          "0984:BEER",
          "0597:HEALTH AIDS",
          "0603:BEAUTY CARE",
          "0604:PERSONAL CARE",
          "0822:THIRD PARTY GIFTCARD",
          "0589:SUNGLASSES",
          "0110:LDS OUTERWEAR/OUTDR",
          "0586:COSTUME JEWELRY",
          "0961:GENERAL GROCERIES",
          "0380:MENS ACTIVEWEAR",
          "0320:MNS TAILORED CLOTHNG",
          "0368:TRAD COLLECTIONS",
          "0532:AMERICAN GREETINGS",
          "0359:MENS ACCESSORIES",
          "0532:AMERICAN GREETINGS",
          "0640:TOYS",
          "0846:BATTERIES",
          "0983:WINE",
          "0962:BEVERAGES",
          "0360:MENS FURNISHINGS",
          "0540:PERIODICALS/COMICS",
          "0595:HOME/BATH",
          "0510:NAVY PRIDE HARDLINES",
          "0638:GEN SPORTING GOODS",
          "0962:BEVERAGES",
          "0973:CANDY",
          "0532:AMERICAN GREETINGS",
          "0592:WMNS PRESTIGE FRAG",
          "0604:PERSONAL CARE",
          "0983:WINE",
          "0603:BEAUTY CARE",
          "0632:DIGITAL FITNESS",
          "0973:CANDY",
          "0962:BEVERAGES",
          "0585:WATCHES",
          "0593:PRESTIGE COSMETICS",
          "0973:CANDY",
          "0982:SPIRITS",
          "0360:MENS FURNISHINGS",
          "0597:HEALTH AIDS",
          "0638:GEN SPORTING GOODS",
          "0973:CANDY",
          "0837:GENERAL HOUSEWARES",
          "0965:PERISHABLES",
          "0510:NAVY PRIDE HARDLINES",
          "0163:JUNIOR TOPS",
          "0982:SPIRITS",
          "0983:WINE",
          "0973:CANDY",
          "0358:MENS DRESS SHIRTS",
          "0604:PERSONAL CARE",
          "0511:NAVY PRIDE SOFTLINES",
          "0597:HEALTH AIDS",
          "0604:PERSONAL CARE",
          "0416:INFANT APPAREL",
          "0598:BABY CARE",
          "0369:YOUNG MENS",
          "0836:HOUSEHOLD CLEANING",
          "0940:HOME TEXTILES",
          "0962:BEVERAGES",
          "0193:LADIES ACTIVEWEAR",
          "0416:INFANT APPAREL",
          "0440:GIRLS 7-16 CLOTHING",
          "0460:BOYS 4-7 CLOTHING",
          "0590:MASS COSMETICS",
          "0973:CANDY",
          "0839:HOME ORG/SOLUTIONS",
          "0931:BATH",
          "0395:MENS ATHLETIC SHOES",
          "0837:GENERAL HOUSEWARES",
          "0598:BABY CARE",
          "0604:PERSONAL CARE",
          "0009:FLORAL SERV/SUPPLIES",
          "0380:MENS ACTIVEWEAR",
          "0532:AMERICAN GREETINGS",
          "0360:MENS FURNISHINGS",
          "0395:MENS ATHLETIC SHOES",
          "0973:CANDY",
          "0110:LDS OUTERWEAR/OUTDR",
          "0973:CANDY",
          "0582:GOLD",
          "0585:WATCHES",
          "0597:HEALTH AIDS",
          "0603:BEAUTY CARE",
          "0604:PERSONAL CARE",
          "0836:HOUSEHOLD CLEANING",
          "0973:CANDY",
          "0585:WATCHES",
          "0603:BEAUTY CARE",
          "0836:HOUSEHOLD CLEANING",
          "0585:WATCHES",
          "0603:BEAUTY CARE",
          "0973:CANDY",
          "0360:MENS FURNISHINGS",
          "0973:CANDY",
          "0962:BEVERAGES",
          "0353:MENS OUTDOOR",
          "0638:GEN SPORTING GOODS",
          "0640:TOYS",
          "0280:FASHION ACCESSORIES",
          "0110:LDS OUTERWEAR/OUTDR",
          "0271:HANDBAGS",
          "0360:MENS FURNISHINGS",
          "0530:SCHOOL/OFFIC SUPP",
          "0532:AMERICAN GREETINGS",
          "0533:PAPYRUS",
          "0597:HEALTH AIDS",
          "0603:BEAUTY CARE",
          "0634:VITAMINS & HLTH AIDS",
          "0819:PRE-RECORDED A/V",
          "0826:SMALL ELECTRICS",
          "0836:HOUSEHOLD CLEANING",
          "0930:TABLE TOP & KITCHEN",
          "0973:CANDY",
          "0368:TRAD COLLECTIONS",
          "0603:BEAUTY CARE",
          "0604:PERSONAL CARE",
          "0826:SMALL ELECTRICS",
          "0884:LAWN & GARDEN",
          "0999:UNSCANNED ITEMS",
          "0181:LADIES MODERN COLLEC",
          "0261:HOSIERY",
          "0837:GENERAL HOUSEWARES",
          "0604:PERSONAL CARE",
          "0644:SPORTS NUTRITION",
          "0973:CANDY",
          "0634:VITAMINS & HLTH AIDS",
          "0380:MENS ACTIVEWEAR",
          "0603:BEAUTY CARE",
          "0486:CHILDRENS FOOTWEAR",
          "0486:CHILDRENS FOOTWEAR",
          "0163:JUNIOR TOPS",
          "0071:BEAUTY RETAIL",
          "0644:SPORTS NUTRITION",
          "0879:PET SUPPLIES",
          "0962:BEVERAGES",
          "0982:SPIRITS",
          "0071:BEAUTY RETAIL",
          "0532:AMERICAN GREETINGS",
          "0590:MASS COSMETICS",
          "0593:PRESTIGE COSMETICS",
          "0604:PERSONAL CARE",
          "0836:HOUSEHOLD CLEANING",
          "0884:LAWN & GARDEN",
          "0638:GEN SPORTING GOODS",
          "0941:BEDDING",
          "0982:SPIRITS",
          "0530:SCHOOL/OFFIC SUPP",
          "0532:AMERICAN GREETINGS",
          "0644:SPORTS NUTRITION",
          "0826:SMALL ELECTRICS",
          "0961:GENERAL GROCERIES",
          "0973:CANDY",
          "0941:BEDDING",
          "0597:HEALTH AIDS",
          "0603:BEAUTY CARE",
          "0861:GENERAL HARDWARE",
          "0340:MENS CASUAL SLACKS",
          "0380:MENS ACTIVEWEAR",
          "0962:BEVERAGES",
          "0961:GENERAL GROCERIES",
          "0962:BEVERAGES",
          "0973:CANDY",
          "0531:STATIONERY SUNDRIES",
          "0646:SEASONAL",
          "0638:GEN SPORTING GOODS",
          "0962:BEVERAGES",
          "0380:MENS ACTIVEWEAR",
          "0416:INFANT APPAREL",
          "0597:HEALTH AIDS",
          "0604:PERSONAL CARE",
          "0638:GEN SPORTING GOODS",
          "0836:HOUSEHOLD CLEANING",
          "0640:TOYS",
          "0646:SEASONAL",
          "0962:BEVERAGES",
          "0973:CANDY",
          "0597:HEALTH AIDS",
          "0836:HOUSEHOLD CLEANING",
          "0603:BEAUTY CARE",
          "0973:CANDY",
          "0598:BABY CARE",
          "0110:LDS OUTERWEAR/OUTDR",
          "0962:BEVERAGES",
          "0590:MASS COSMETICS",
          "0592:WMNS PRESTIGE FRAG",
          "0593:PRESTIGE COSMETICS",
          "0595:HOME/BATH",
          "0837:GENERAL HOUSEWARES",
          "0930:TABLE TOP & KITCHEN",
          "0941:BEDDING",
          "0973:CANDY",
          "0110:LDS OUTERWEAR/OUTDR",
          "0167:MISSY TOPS",
          "0240:SLEEPWEAR/LOUNGEWEAR",
          "0391:MENS SHOES",
          "0240:SLEEPWEAR/LOUNGEWEAR",
          "0826:SMALL ELECTRICS",
          "0973:CANDY",
          "0961:GENERAL GROCERIES",
          "0962:BEVERAGES",
          "0532:AMERICAN GREETINGS",
          "0795:HOME DECOR",
          "0797:SEASONAL GIFTS",
          "0822:THIRD PARTY GIFTCARD",
          "0984:BEER",
          "0551:CAMERAS & EQUIP",
          "0411:PEGABLES",
          "0415:NEWBORN APPAREL",
          "0416:INFANT APPAREL",
          "0598:BABY CARE",
          "0603:BEAUTY CARE",
          "0604:PERSONAL CARE",
          "0962:BEVERAGES",
          "0343:MENS DENIM JEANS",
          "0167:MISSY TOPS",
          "0071:BEAUTY RETAIL",
          "0531:STATIONERY SUNDRIES",
          "0532:AMERICAN GREETINGS",
          "0554:TELECOMMUNICATIONS",
          "0603:BEAUTY CARE",
          "0982:SPIRITS",
          "0590:MASS COSMETICS",
          "0597:HEALTH AIDS",
          "0603:BEAUTY CARE",
          "0604:PERSONAL CARE",
          "0861:GENERAL HARDWARE",
          "0962:BEVERAGES",
          "0530:SCHOOL/OFFIC SUPP",
          "0833:TABLETOP",
          "0836:HOUSEHOLD CLEANING",
          "0012:LOCAL GIFTS/FOODS",
          "0240:SLEEPWEAR/LOUNGEWEAR",
          "0261:HOSIERY",
          "0532:AMERICAN GREETINGS",
          "0822:THIRD PARTY GIFTCARD",
          "0845:AS SEEN ON TV",
          "0884:LAWN & GARDEN",
          "0973:CANDY",
          "0982:SPIRITS",
          "0962:BEVERAGES",
          "0973:CANDY",
          "0421:TODDLER GIRL APPAREL",
          "0638:GEN SPORTING GOODS",
          "0836:HOUSEHOLD CLEANING",
          "0261:HOSIERY",
          "0603:BEAUTY CARE",
          "0962:BEVERAGES",
          "0973:CANDY",
          "0416:INFANT APPAREL",
          "0585:WATCHES",
          "0598:BABY CARE",
          "0391:MENS SHOES",
          "0469:BOYS ACCESSORIES",
          "0597:HEALTH AIDS",
          "0604:PERSONAL CARE",
          "0640:TOYS",
          "0815:AUDIO ELECTRONICS",
          "0879:PET SUPPLIES",
          "0962:BEVERAGES",
          "0991:TOBACCO",
          "0585:WATCHES",
          "0597:HEALTH AIDS",
          "0836:HOUSEHOLD CLEANING",
          "0850:PC HDWR & OFFICE EQP",
          "0962:BEVERAGES",
          "0421:TODDLER GIRL APPAREL",
          "0460:BOYS 4-7 CLOTHING",
          "0469:BOYS ACCESSORIES",
          "0486:CHILDRENS FOOTWEAR",
          "0795:HOME DECOR",
          "0983:WINE",
          "0640:TOYS",
          "0359:MENS ACCESSORIES",
          "0837:GENERAL HOUSEWARES",
          "0931:BATH",
          "0167:MISSY TOPS",
          "0839:HOME ORG/SOLUTIONS",
          "0961:GENERAL GROCERIES",
          "0962:BEVERAGES",
          "0167:MISSY TOPS",
          "0680:AUTOMOTIVE",
          "0819:PRE-RECORDED A/V",
          "0962:BEVERAGES",
          "0973:CANDY",
          "0440:GIRLS 7-16 CLOTHING",
          "0640:TOYS",
          "0530:SCHOOL/OFFIC SUPP",
          "0167:MISSY TOPS",
          "0177:PETITE SEPARATES",
          "0056:SOUVENIR",
          "0595:HOME/BATH",
          "0597:HEALTH AIDS",
          "0879:PET SUPPLIES",
          "0962:BEVERAGES",
          "0973:CANDY",
          "0391:MENS SHOES",
          "0597:HEALTH AIDS",
          "0634:VITAMINS & HLTH AIDS",
          "0836:HOUSEHOLD CLEANING",
          "0230:DAYWEAR",
          "0590:MASS COSMETICS",
          "0593:PRESTIGE COSMETICS",
          "0646:SEASONAL",
          "0240:SLEEPWEAR/LOUNGEWEAR",
          "0604:PERSONAL CARE",
          "0680:AUTOMOTIVE",
          "0722:OUTDOOR LIVING",
          "0999:UNSCANNED ITEMS",
          "0590:MASS COSMETICS",
          "0597:HEALTH AIDS",
          "0836:HOUSEHOLD CLEANING",
          "0879:PET SUPPLIES",
          "0177:PETITE SEPARATES",
          "0261:HOSIERY",
          "0532:AMERICAN GREETINGS",
          "0836:HOUSEHOLD CLEANING",
          "0590:MASS COSMETICS",
          "0603:BEAUTY CARE",
          "0637:FISHING",
          "0962:BEVERAGES",
          "0973:CANDY",
          "0983:WINE",
          "0540:PERIODICALS/COMICS",
          "0836:HOUSEHOLD CLEANING",
          "0822:THIRD PARTY GIFTCARD",
          "0597:HEALTH AIDS",
          "0291:WOMENS FTWR:DRS/CAS",
          "0161:MISSY KAREN SCOTT",
          "0165:LIFE IS GOOD",
          "0470:BOYS 8-20 CLOTHING",
          "0586:COSTUME JEWELRY",
          "0590:MASS COSMETICS",
          "0603:BEAUTY CARE",
          "0640:TOYS",
          "0680:AUTOMOTIVE",
          "0962:BEVERAGES",
          "0973:CANDY",
          "0962:BEVERAGES",
          "0962:BEVERAGES",
          "0973:CANDY",
          "0961:GENERAL GROCERIES",
          "0962:BEVERAGES",
          "0532:AMERICAN GREETINGS",
          "0973:CANDY",
          "0850:PC HDWR & OFFICE EQP",
          "0532:AMERICAN GREETINGS",
          "0983:WINE",
          "0973:CANDY",
          "0983:WINE",
          "0271:HANDBAGS",
          "0280:FASHION ACCESSORIES",
          "0962:BEVERAGES",
          "0836:HOUSEHOLD CLEANING",
          "0597:HEALTH AIDS",
          "0604:PERSONAL CARE",
          "0961:GENERAL GROCERIES",
          "0962:BEVERAGES",
          "0973:CANDY",
          "0604:PERSONAL CARE",
          "0836:HOUSEHOLD CLEANING",
          "0961:GENERAL GROCERIES",
          "0193:LADIES ACTIVEWEAR",
          "0595:HOME/BATH",
          "0601:VALUE ZONE",
          "0836:HOUSEHOLD CLEANING",
          "0839:HOME ORG/SOLUTIONS",
          "0930:TABLE TOP & KITCHEN",
          "0839:HOME ORG/SOLUTIONS",
          "0861:GENERAL HARDWARE",
          "0863:POWER EQUIPMENT",
          "0941:BEDDING",
          "0982:SPIRITS",
          "0261:HOSIERY",
          "0280:FASHION ACCESSORIES",
          "0593:PRESTIGE COSMETICS",
          "0597:HEALTH AIDS",
          "0603:BEAUTY CARE",
          "0604:PERSONAL CARE",
          "0836:HOUSEHOLD CLEANING",
          "0984:BEER",
          "0554:TELECOMMUNICATIONS",
          "0639:TEAM SPORTING GOODS",
          "0836:HOUSEHOLD CLEANING",
          "0962:BEVERAGES",
          "0973:CANDY",
          "0982:SPIRITS",
          "0991:TOBACCO",
          "0646:SEASONAL",
          "0884:LAWN & GARDEN",
          "0973:CANDY",
          "0210:FOUNDATIONS",
          "0230:DAYWEAR",
          "0261:HOSIERY",
          "0449:GIRLS ACCESSORIES",
          "0510:NAVY PRIDE HARDLINES",
          "0590:MASS COSMETICS",
          "0603:BEAUTY CARE",
          "0634:VITAMINS & HLTH AIDS",
          "0795:HOME DECOR",
          "0797:SEASONAL GIFTS",
          "0836:HOUSEHOLD CLEANING",
          "0863:POWER EQUIPMENT",
          "0962:BEVERAGES",
          "0973:CANDY",
          "0982:SPIRITS",
          "0983:WINE",
          "0604:PERSONAL CARE",
          "0638:GEN SPORTING GOODS",
          "0962:BEVERAGES",
          "0595:HOME/BATH",
          "0962:BEVERAGES",
          "0982:SPIRITS",
          "0983:WINE",
          "0982:SPIRITS",
          "0179:MODERATE DENIM",
          "0391:MENS SHOES",
          "0486:CHILDRENS FOOTWEAR",
          "0590:MASS COSMETICS",
          "0597:HEALTH AIDS",
          "0603:BEAUTY CARE",
          "0604:PERSONAL CARE",
          "0795:HOME DECOR",
          "0856:GLUES/TAPES/ACC",
          "0973:CANDY",
          "0965:PERISHABLES",
          "0973:CANDY",
          "0984:BEER",
          "0604:PERSONAL CARE",
          "0836:HOUSEHOLD CLEANING",
          "0930:TABLE TOP & KITCHEN",
          "0940:HOME TEXTILES",
          "0961:GENERAL GROCERIES",
          "0962:BEVERAGES",
          "0604:PERSONAL CARE",
          "0680:AUTOMOTIVE",
          "0973:CANDY",
          "0603:BEAUTY CARE",
          "0833:TABLETOP",
          "0837:GENERAL HOUSEWARES",
          "0973:CANDY",
          "0983:WINE",
          "0604:PERSONAL CARE",
          "0973:CANDY",
          "0597:HEALTH AIDS",
          "0604:PERSONAL CARE",
          "0982:SPIRITS",
          "0597:HEALTH AIDS",
          "0604:PERSONAL CARE",
          "0836:HOUSEHOLD CLEANING",
          "0961:GENERAL GROCERIES",
          "0973:CANDY",
          "0391:MENS SHOES",
          "0415:NEWBORN APPAREL",
          "0421:TODDLER GIRL APPAREL",
          "0486:CHILDRENS FOOTWEAR",
          "0604:PERSONAL CARE",
          "0836:HOUSEHOLD CLEANING",
          "0879:PET SUPPLIES",
          "0554:TELECOMMUNICATIONS",
          "0962:BEVERAGES",
          "0604:PERSONAL CARE",
          "0836:HOUSEHOLD CLEANING",
          "0590:MASS COSMETICS",
          "0603:BEAUTY CARE",
          "0854:VIDEO GAMES",
          "0991:TOBACCO",
          "0380:MENS ACTIVEWEAR",
          "0597:HEALTH AIDS",
          "0638:GEN SPORTING GOODS",
          "0639:TEAM SPORTING GOODS",
          "0644:SPORTS NUTRITION",
          "0603:BEAUTY CARE",
          "0098:WAREHOUSED EXPENSES",
          "0836:HOUSEHOLD CLEANING",
          "0961:GENERAL GROCERIES",
          "0973:CANDY",
          "0421:TODDLER GIRL APPAREL",
          "0640:TOYS",
          "0532:AMERICAN GREETINGS",
          "0230:DAYWEAR",
          "0640:TOYS",
          "0646:SEASONAL",
          "0411:PEGABLES",
          "0532:AMERICAN GREETINGS",
          "0603:BEAUTY CARE",
          "0795:HOME DECOR",
          "0353:MENS OUTDOOR",
          "0962:BEVERAGES",
          "0973:CANDY",
          "0797:SEASONAL GIFTS",
          "0962:BEVERAGES",
          "0532:AMERICAN GREETINGS",
          "0822:THIRD PARTY GIFTCARD",
          "0962:BEVERAGES",
          "0982:SPIRITS",
          "0380:MENS ACTIVEWEAR",
          "0486:CHILDRENS FOOTWEAR",
          "0360:MENS FURNISHINGS",
          "0597:HEALTH AIDS",
          "0973:CANDY",
          "0836:HOUSEHOLD CLEANING",
          "0961:GENERAL GROCERIES",
          "0962:BEVERAGES",
          "0603:BEAUTY CARE",
          "0604:PERSONAL CARE",
          "0261:HOSIERY",
          "0834:COOKWARE",
          "0837:GENERAL HOUSEWARES",
          "0415:NEWBORN APPAREL",
          "0416:INFANT APPAREL",
          "0486:CHILDRENS FOOTWEAR",
          "0598:BABY CARE",
          "0646:SEASONAL",
          "0161:MISSY KAREN SCOTT",
          "0532:AMERICAN GREETINGS",
          "0837:GENERAL HOUSEWARES",
          "0603:BEAUTY CARE",
          "0973:CANDY",
          "0845:AS SEEN ON TV",
          "0861:GENERAL HARDWARE",
          "0962:BEVERAGES",
          "0965:PERISHABLES",
          "0962:BEVERAGES",
          "0640:TOYS",
          "0188:STYLE & CO",
          "0833:TABLETOP",
          "0973:CANDY",
          "0271:HANDBAGS",
          "0999:UNSCANNED ITEMS",
          "0593:PRESTIGE COSMETICS",
          "0596:MENS PRESTIGE FRAG",
          "0018:OTHER DIRECT SERVICE",
          "0983:WINE",
          "0469:BOYS ACCESSORIES",
          "0532:AMERICAN GREETINGS",
          "0797:SEASONAL GIFTS",
          "0359:MENS ACCESSORIES",
          "0016:FINANCIAL SERVICES",
          "0604:PERSONAL CARE",
          "0836:HOUSEHOLD CLEANING",
          "0530:SCHOOL/OFFIC SUPP",
          "0380:MENS ACTIVEWEAR",
          "0604:PERSONAL CARE",
          "0961:GENERAL GROCERIES",
          "0973:CANDY",
          "0597:HEALTH AIDS",
          "0603:BEAUTY CARE",
          "0604:PERSONAL CARE",
          "0646:SEASONAL",
          "0836:HOUSEHOLD CLEANING",
          "0973:CANDY",
          "0110:LDS OUTERWEAR/OUTDR",
          "0130:JUNIORS SURF",
          "0193:LADIES ACTIVEWEAR",
          "0646:SEASONAL",
          "0879:PET SUPPLIES",
          "0973:CANDY",
          "0380:MENS ACTIVEWEAR",
          "0098:WAREHOUSED EXPENSES",
          "0589:SUNGLASSES",
          "0999:UNSCANNED ITEMS",
          "0826:SMALL ELECTRICS",
          "0098:WAREHOUSED EXPENSES",
          "0973:CANDY",
          "0291:WOMENS FTWR:DRS/CAS",
          "0018:OTHER DIRECT SERVICE",
          "0449:GIRLS ACCESSORIES",
          "0460:BOYS 4-7 CLOTHING",
          "0982:SPIRITS",
          "0984:BEER",
          "0973:CANDY",
          "0098:WAREHOUSED EXPENSES",
          "0973:CANDY",
          "0962:BEVERAGES",
          "0982:SPIRITS",
          "0983:WINE",
          "0826:SMALL ELECTRICS",
          "0941:BEDDING",
          "0962:BEVERAGES",
          "0110:LDS OUTERWEAR/OUTDR",
          "0380:MENS ACTIVEWEAR",
          "0597:HEALTH AIDS",
          "0554:TELECOMMUNICATIONS",
          "0638:GEN SPORTING GOODS",
          "0826:SMALL ELECTRICS",
          "0982:SPIRITS",
          "0999:UNSCANNED ITEMS",
          "0879:PET SUPPLIES",
          "0962:BEVERAGES",
          "0982:SPIRITS",
          "0416:INFANT APPAREL",
          "0603:BEAUTY CARE",
          "0604:PERSONAL CARE",
          "0163:JUNIOR TOPS",
          "0173:JUNIOR BOTTOMS",
          "0261:HOSIERY",
          "0603:BEAUTY CARE",
          "0822:THIRD PARTY GIFTCARD",
          "0836:HOUSEHOLD CLEANING",
          "0836:HOUSEHOLD CLEANING",
          "0973:CANDY",
          "0486:CHILDRENS FOOTWEAR",
          "0430:GIRLS 4-6X CLOTHING",
          "0016:FINANCIAL SERVICES",
          "0016:FINANCIAL SERVICES",
          "0016:FINANCIAL SERVICES",
          "0589:SUNGLASSES",
          "0056:SOUVENIR",
          "0532:AMERICAN GREETINGS",
          "0595:HOME/BATH",
          "0532:AMERICAN GREETINGS",
          "0634:VITAMINS & HLTH AIDS",
          "0999:UNSCANNED ITEMS",
          "0018:OTHER DIRECT SERVICE",
          "0530:SCHOOL/OFFIC SUPP",
          "0369:YOUNG MENS",
          "0597:HEALTH AIDS",
          "0640:TOYS",
          "0962:BEVERAGES",
          "0016:FINANCIAL SERVICES",
          "0860:NETWORKING",
          "0161:MISSY KAREN SCOTT",
          "0973:CANDY",
          "0984:BEER",
          "0440:GIRLS 7-16 CLOTHING",
          "0449:GIRLS ACCESSORIES",
          "0411:PEGABLES",
          "0369:YOUNG MENS",
          "0380:MENS ACTIVEWEAR",
          "0962:BEVERAGES",
          "0838:FLOOR CARE",
          "0973:CANDY",
          "0016:FINANCIAL SERVICES",
          "0973:CANDY",
          "0962:BEVERAGES",
          "0395:MENS ATHLETIC SHOES",
          "0597:HEALTH AIDS",
          "0680:AUTOMOTIVE",
          "0016:FINANCIAL SERVICES",
          "0836:HOUSEHOLD CLEANING",
          "0879:PET SUPPLIES",
          "0962:BEVERAGES",
          "0016:FINANCIAL SERVICES",
          "0353:MENS OUTDOOR",
          "0646:SEASONAL",
          "0962:BEVERAGES",
          "0973:CANDY",
          "0815:AUDIO ELECTRONICS",
          "0604:PERSONAL CARE",
          "0884:LAWN & GARDEN",
          "0646:SEASONAL",
          "0884:LAWN & GARDEN",
          "0982:SPIRITS",
          "0983:WINE",
          "0983:WINE",
          "0532:AMERICAN GREETINGS",
          "0884:LAWN & GARDEN",
          "0531:STATIONERY SUNDRIES",
          "0646:SEASONAL",
          "0884:LAWN & GARDEN",
          "0603:BEAUTY CARE",
          "0646:SEASONAL",
          "0680:AUTOMOTIVE",
          "0982:SPIRITS",
          "0884:LAWN & GARDEN",
          "0597:HEALTH AIDS",
          "0973:CANDY",
          "0884:LAWN & GARDEN",
          "0646:SEASONAL",
          "0884:LAWN & GARDEN",
          "0962:BEVERAGES",
          "0982:SPIRITS",
          "0884:LAWN & GARDEN",
          "0982:SPIRITS",
          "0597:HEALTH AIDS",
          "0856:GLUES/TAPES/ACC",
          "0982:SPIRITS",
          "0645:BIKES",
          "0597:HEALTH AIDS",
          "0826:SMALL ELECTRICS",
          "0983:WINE",
          "0722:OUTDOOR LIVING",
          "0646:SEASONAL",
          "0999:UNSCANNED ITEMS",
          "0982:SPIRITS",
          "0646:SEASONAL",
          "0879:PET SUPPLIES",
          "0982:SPIRITS",
          "0982:SPIRITS",
          "0991:TOBACCO",
          "0646:SEASONAL",
          "0646:SEASONAL",
          "0819:PRE-RECORDED A/V",
          "0884:LAWN & GARDEN",
          "0962:BEVERAGES",
          "0982:SPIRITS",
          "0983:WINE",
          "0984:BEER",
          "0884:LAWN & GARDEN",
          "0884:LAWN & GARDEN",
          "0646:SEASONAL",
          "0845:AS SEEN ON TV",
          "0941:BEDDING",
          "0836:HOUSEHOLD CLEANING",
          "0646:SEASONAL",
          "0879:PET SUPPLIES",
          "0646:SEASONAL",
          "0884:LAWN & GARDEN",
          "0646:SEASONAL",
          "0982:SPIRITS",
          "0983:WINE",
          "0291:WOMENS FTWR:DRS/CAS",
          "0645:BIKES",
          "0646:SEASONAL",
          "0884:LAWN & GARDEN",
          "0646:SEASONAL",
          "0984:BEER",
          "0845:AS SEEN ON TV",
          "0984:BEER",
          "0646:SEASONAL",
          "0982:SPIRITS",
          "0983:WINE",
          "0884:LAWN & GARDEN",
          "0884:LAWN & GARDEN",
          "0983:WINE",
          "0722:OUTDOOR LIVING",
          "0982:SPIRITS",
          "0531:STATIONERY SUNDRIES",
          "0982:SPIRITS",
          "0531:STATIONERY SUNDRIES",
          "0590:MASS COSMETICS",
          "0646:SEASONAL",
          "0973:CANDY",
          "0639:TEAM SPORTING GOODS",
          "0982:SPIRITS",
          "0984:BEER",
          "0722:OUTDOOR LIVING",
          "0071:BEAUTY RETAIL",
          "0603:BEAUTY CARE",
          "0604:PERSONAL CARE",
          "0884:LAWN & GARDEN",
          "0640:TOYS",
          "0640:TOYS",
          "0973:CANDY",
          "0982:SPIRITS",
          "0597:HEALTH AIDS",
          "0640:TOYS",
          "0646:SEASONAL",
          "0722:OUTDOOR LIVING",
          "0856:GLUES/TAPES/ACC",
          "0861:GENERAL HARDWARE",
          "0845:AS SEEN ON TV",
          "0541:BOOKS AND MAPS",
          "0884:LAWN & GARDEN",
          "0879:PET SUPPLIES",
          "0646:SEASONAL",
          "0861:GENERAL HARDWARE",
          "0640:TOYS",
          "0861:GENERAL HARDWARE",
          "0884:LAWN & GARDEN",
          "0646:SEASONAL",
          "0884:LAWN & GARDEN",
          "0973:CANDY",
          "0646:SEASONAL",
          "0962:BEVERAGES",
          "0368:TRAD COLLECTIONS",
          "0590:MASS COSMETICS",
          "0593:PRESTIGE COSMETICS",
          "0597:HEALTH AIDS",
          "0603:BEAUTY CARE",
          "0604:PERSONAL CARE",
          "0982:SPIRITS",
          "0110:LDS OUTERWEAR/OUTDR",
          "0984:BEER",
          "0982:SPIRITS",
          "0982:SPIRITS",
          "0884:LAWN & GARDEN",
          "0961:GENERAL GROCERIES",
          "0640:TOYS",
          "0879:PET SUPPLIES",
          "0999:UNSCANNED ITEMS",
          "0982:SPIRITS",
          "0884:LAWN & GARDEN",
          "0884:LAWN & GARDEN",
          "0646:SEASONAL",
          "0861:GENERAL HARDWARE",
          "0884:LAWN & GARDEN",
          "0884:LAWN & GARDEN",
          "0884:LAWN & GARDEN",
          "0826:SMALL ELECTRICS",
          "0837:GENERAL HOUSEWARES",
          "0884:LAWN & GARDEN",
          "0982:SPIRITS",
          "0531:STATIONERY SUNDRIES",
          "0646:SEASONAL",
          "0640:TOYS",
          "0646:SEASONAL",
          "0646:SEASONAL",
          "0271:HANDBAGS",
          "0589:SUNGLASSES",
          "0585:WATCHES",
          "0585:WATCHES",
          "0585:WATCHES",
          "0585:WATCHES",
          "0962:BEVERAGES",
          "0973:CANDY",
          "0589:SUNGLASSES",
          "0014:REPAIRS",
          "0532:AMERICAN GREETINGS",
          "0581:BRIDGE JEWELRY",
          "0261:HOSIERY",
          "0581:BRIDGE JEWELRY",
          "0581:BRIDGE JEWELRY",
          "0581:BRIDGE JEWELRY",
          "0581:BRIDGE JEWELRY",
          "0368:TRAD COLLECTIONS",
          "0530:SCHOOL/OFFIC SUPP",
          "0532:AMERICAN GREETINGS",
          "0586:COSTUME JEWELRY",
          "0581:BRIDGE JEWELRY",
          "0583:DIAMONDS/BRIDAL",
          "0581:BRIDGE JEWELRY",
          "0581:BRIDGE JEWELRY",
          "0582:GOLD",
          "0584:GEMSTONES",
          "0581:BRIDGE JEWELRY",
          "0581:BRIDGE JEWELRY",
          "0583:DIAMONDS/BRIDAL",
          "0583:DIAMONDS/BRIDAL",
          "0581:BRIDGE JEWELRY",
          "0581:BRIDGE JEWELRY",
          "0583:DIAMONDS/BRIDAL",
          "0271:HANDBAGS",
          "0581:BRIDGE JEWELRY",
          "0583:DIAMONDS/BRIDAL",
          "0587:JEWELRY CONSIGNMENT",
          "0587:JEWELRY CONSIGNMENT",
          "0581:BRIDGE JEWELRY",
          "0584:GEMSTONES",
          "0582:GOLD",
          "0581:BRIDGE JEWELRY",
          "0584:GEMSTONES",
          "0581:BRIDGE JEWELRY",
          "0581:BRIDGE JEWELRY",
          "0581:BRIDGE JEWELRY",
          "0582:GOLD",
          "0583:DIAMONDS/BRIDAL",
          "0369:YOUNG MENS",
          "0581:BRIDGE JEWELRY",
          "0360:MENS FURNISHINGS",
          "0391:MENS SHOES",
          "0395:MENS ATHLETIC SHOES",
          "0469:BOYS ACCESSORIES",
          "0603:BEAUTY CARE",
          "0811:TELEVISION",
          "0845:AS SEEN ON TV",
          "0879:PET SUPPLIES",
          "0811:TELEVISION",
          "0815:AUDIO ELECTRONICS",
          "0551:CAMERAS & EQUIP",
          "0823:SMART HOME",
          "0395:MENS ATHLETIC SHOES",
          "0551:CAMERAS & EQUIP",
          "0838:FLOOR CARE",
          "0603:BEAUTY CARE",
          "0797:SEASONAL GIFTS",
          "0836:HOUSEHOLD CLEANING",
          "0530:SCHOOL/OFFIC SUPP",
          "0597:HEALTH AIDS",
          "0815:AUDIO ELECTRONICS",
          "0838:FLOOR CARE",
          "0826:SMALL ELECTRICS",
          "0811:TELEVISION",
          "0811:TELEVISION",
          "0816:VIDEO ELECTRONICS",
          "0230:DAYWEAR",
          "0833:TABLETOP",
          "0834:COOKWARE",
          "0930:TABLE TOP & KITCHEN",
          "0991:TOBACCO",
          "0815:AUDIO ELECTRONICS",
          "0850:PC HDWR & OFFICE EQP",
          "0530:SCHOOL/OFFIC SUPP",
          "0533:PAPYRUS",
          "0638:GEN SPORTING GOODS",
          "0826:SMALL ELECTRICS",
          "0846:BATTERIES",
          "0857:PC PERIPH/OFFICE ACC",
          "0962:BEVERAGES",
          "0353:MENS OUTDOOR",
          "0857:PC PERIPH/OFFICE ACC",
          "0859:iPAD",
          "0295:WOMENS ATHLTIC SHOES",
          "0391:MENS SHOES",
          "0853:DIMAGE/PHONE/GPS/ACC",
          "0811:TELEVISION",
          "0850:PC HDWR & OFFICE EQP",
          "0851:PC HARDWARE",
          "0220:SHAPEWEAR",
          "0230:DAYWEAR",
          "0532:AMERICAN GREETINGS",
          "0816:VIDEO ELECTRONICS",
          "0551:CAMERAS & EQUIP",
          "0554:TELECOMMUNICATIONS",
          "0819:PRE-RECORDED A/V",
          "0834:COOKWARE",
          "0837:GENERAL HOUSEWARES",
          "0811:TELEVISION",
          "0811:TELEVISION",
          "0819:PRE-RECORDED A/V",
          "0072:BARBER SERVICES",
          "0072:BARBER SERVICES",
          "0072:BARBER SERVICES",
          "0072:BARBER SERVICES",
          "0072:BARBER SERVICES",
          "0072:BARBER SERVICES",
          "0072:BARBER SERVICES",
          "0072:BARBER SERVICES",
          "0072:BARBER SERVICES",
          "0072:BARBER SERVICES",
          "0072:BARBER SERVICES",
          "0072:BARBER SERVICES",
          "0072:BARBER SERVICES",
          "0072:BARBER SERVICES",
          "0072:BARBER SERVICES",
          "0072:BARBER SERVICES",
          "0072:BARBER SERVICES",
          "0072:BARBER SERVICES",
          "0072:BARBER SERVICES",
          "0072:BARBER SERVICES",
          "0072:BARBER SERVICES",
          "0072:BARBER SERVICES",
          "0072:BARBER SERVICES",
          "0072:BARBER SERVICES",
          "0072:BARBER SERVICES",
          "0072:BARBER SERVICES",
          "0072:BARBER SERVICES",
          "0072:BARBER SERVICES",
          "0072:BARBER SERVICES",
          "0072:BARBER SERVICES",
          "0072:BARBER SERVICES",
          "0072:BARBER SERVICES",
          "0002:BARBER RETAIL",
          "0072:BARBER SERVICES",
          "0072:BARBER SERVICES",
          "0072:BARBER SERVICES",
          "0072:BARBER SERVICES",
          "0072:BARBER SERVICES",
          "0072:BARBER SERVICES",
          "0072:BARBER SERVICES",
          "0072:BARBER SERVICES",
          "0072:BARBER SERVICES",
          "0072:BARBER SERVICES",
          "0072:BARBER SERVICES",
          "0072:BARBER SERVICES",
          "0072:BARBER SERVICES",
          "0072:BARBER SERVICES",
          "0072:BARBER SERVICES",
          "0072:BARBER SERVICES",
          "0072:BARBER SERVICES",
          "0072:BARBER SERVICES",
          "0072:BARBER SERVICES",
          "0072:BARBER SERVICES",
          "0072:BARBER SERVICES",
          "0072:BARBER SERVICES",
          "0072:BARBER SERVICES",
          "0072:BARBER SERVICES",
          "0072:BARBER SERVICES",
          "0072:BARBER SERVICES",
          "0072:BARBER SERVICES",
          "0962:BEVERAGES",
          "0072:BARBER SERVICES",
          "0072:BARBER SERVICES",
          "0072:BARBER SERVICES",
          "0072:BARBER SERVICES",
          "0072:BARBER SERVICES",
          "0072:BARBER SERVICES",
          "0072:BARBER SERVICES",
          "0072:BARBER SERVICES",
          "0072:BARBER SERVICES",
          "0072:BARBER SERVICES",
          "0072:BARBER SERVICES",
          "0072:BARBER SERVICES",
          "0072:BARBER SERVICES",
          "0072:BARBER SERVICES",
          "0072:BARBER SERVICES",
          "0072:BARBER SERVICES",
          "0072:BARBER SERVICES",
          "0072:BARBER SERVICES",
          "0072:BARBER SERVICES",
          "0072:BARBER SERVICES",
          "0072:BARBER SERVICES",
          "0072:BARBER SERVICES",
          "0072:BARBER SERVICES",
          "0072:BARBER SERVICES",
          "0072:BARBER SERVICES",
          "0072:BARBER SERVICES",
          "0072:BARBER SERVICES",
          "0072:BARBER SERVICES",
          "0072:BARBER SERVICES",
          "0072:BARBER SERVICES",
          "0072:BARBER SERVICES",
          "0072:BARBER SERVICES",
          "0072:BARBER SERVICES",
          "0072:BARBER SERVICES",
          "0072:BARBER SERVICES",
          "0072:BARBER SERVICES",
          "0072:BARBER SERVICES",
          "0072:BARBER SERVICES",
          "0072:BARBER SERVICES",
          "0072:BARBER SERVICES",
          "0072:BARBER SERVICES",
          "0072:BARBER SERVICES",
          "0002:BARBER RETAIL",
          "0072:BARBER SERVICES",
          "0072:BARBER SERVICES",
          "0072:BARBER SERVICES",
          "0072:BARBER SERVICES",
          "0072:BARBER SERVICES",
          "0072:BARBER SERVICES",
          "0072:BARBER SERVICES",
          "0072:BARBER SERVICES",
          "0072:BARBER SERVICES",
          "0072:BARBER SERVICES",
          "0072:BARBER SERVICES",
          "0962:BEVERAGES",
          "0076:FLORAL RETAIL",
          "0076:FLORAL RETAIL",
          "0056:SOUVENIR",
          "0510:NAVY PRIDE HARDLINES",
          "0962:BEVERAGES",
          "0973:CANDY",
          "0018:OTHER DIRECT SERVICE",
          "0009:FLORAL SERV/SUPPLIES",
          "0961:GENERAL GROCERIES",
          "0962:BEVERAGES",
          "0962:BEVERAGES",
          "0076:FLORAL RETAIL",
          "0532:AMERICAN GREETINGS",
          "0593:PRESTIGE COSMETICS",
          "0884:LAWN & GARDEN",
          "0961:GENERAL GROCERIES",
          "0009:FLORAL SERV/SUPPLIES",
          "0009:FLORAL SERV/SUPPLIES",
          "0056:SOUVENIR",
          "0009:FLORAL SERV/SUPPLIES",
          "0532:AMERICAN GREETINGS",
          "0983:WINE",
          "0009:FLORAL SERV/SUPPLIES",
          "0861:GENERAL HARDWARE",
          "0962:BEVERAGES",
          "0009:FLORAL SERV/SUPPLIES",
          "0532:AMERICAN GREETINGS",
          "0469:BOYS ACCESSORIES",
          "0838:FLOOR CARE",
          "0395:MENS ATHLETIC SHOES",
          "0530:SCHOOL/OFFIC SUPP",
          "0797:SEASONAL GIFTS",
          "0837:GENERAL HOUSEWARES",
          "0826:SMALL ELECTRICS",
          "0962:BEVERAGES",
          "0973:CANDY",
          "0853:DIMAGE/PHONE/GPS/ACC",
          "0530:SCHOOL/OFFIC SUPP",
          "0815:AUDIO ELECTRONICS",
          "0551:CAMERAS & EQUIP",
          "0811:TELEVISION",
          "0795:HOME DECOR",
          "0551:CAMERAS & EQUIP",
          "0857:PC PERIPH/OFFICE ACC",
          "0449:GIRLS ACCESSORIES",
          "0415:NEWBORN APPAREL",
          "0850:PC HDWR & OFFICE EQP",
          "0851:PC HARDWARE",
          "0811:TELEVISION",
          "0815:AUDIO ELECTRONICS",
          "0597:HEALTH AIDS",
          "0604:PERSONAL CARE",
          "0826:SMALL ELECTRICS",
          "0836:HOUSEHOLD CLEANING",
          "0931:BATH",
          "0795:HOME DECOR",
          "0530:SCHOOL/OFFIC SUPP",
          "0854:VIDEO GAMES",
          "0854:VIDEO GAMES",
          "0836:HOUSEHOLD CLEANING",
          "0860:NETWORKING",
          "0839:HOME ORG/SOLUTIONS",
          "0167:MISSY TOPS",
          "0354:MENS MODERN COLLECT",
          "0380:MENS ACTIVEWEAR",
          "0837:GENERAL HOUSEWARES",
          "0859:iPAD",
          "0837:GENERAL HOUSEWARES",
          "0604:PERSONAL CARE",
          "0811:TELEVISION",
          "0815:AUDIO ELECTRONICS",
          "0823:SMART HOME",
          "0486:CHILDRENS FOOTWEAR",
          "0795:HOME DECOR",
          "0797:SEASONAL GIFTS",
          "0860:NETWORKING",
          "0530:SCHOOL/OFFIC SUPP",
          "0530:SCHOOL/OFFIC SUPP",
          "0839:HOME ORG/SOLUTIONS",
          "0822:THIRD PARTY GIFTCARD",
          "0854:VIDEO GAMES",
          "0530:SCHOOL/OFFIC SUPP",
          "0930:TABLE TOP & KITCHEN",
          "0815:AUDIO ELECTRONICS",
          "0439:JUVENILLE FURNITURE",
          "0530:SCHOOL/OFFIC SUPP",
          "0850:PC HDWR & OFFICE EQP",
          "0833:TABLETOP",
          "0836:HOUSEHOLD CLEANING",
          "0982:SPIRITS",
          "0811:TELEVISION",
          "0530:SCHOOL/OFFIC SUPP",
          "0597:HEALTH AIDS",
          "0836:HOUSEHOLD CLEANING",
          "0850:PC HDWR & OFFICE EQP",
          "0852:COMPUTER SOFTWARE",
          "0854:VIDEO GAMES",
          "0391:MENS SHOES",
          "0421:TODDLER GIRL APPAREL",
          "0426:TODDLER BOY APPAREL",
          "0460:BOYS 4-7 CLOTHING",
          "0469:BOYS ACCESSORIES",
          "0486:CHILDRENS FOOTWEAR",
          "0815:AUDIO ELECTRONICS",
          "0860:NETWORKING",
          "0210:FOUNDATIONS",
          "0230:DAYWEAR",
          "0391:MENS SHOES",
          "0857:PC PERIPH/OFFICE ACC",
          "0816:VIDEO ELECTRONICS",
          "0819:PRE-RECORDED A/V",
          "0850:PC HDWR & OFFICE EQP",
          "0837:GENERAL HOUSEWARES",
          "0597:HEALTH AIDS",
          "0598:BABY CARE",
          "0837:GENERAL HOUSEWARES",
          "0973:CANDY",
          "0811:TELEVISION",
          "0811:TELEVISION",
          "0815:AUDIO ELECTRONICS",
          "0811:TELEVISION",
          "0823:SMART HOME",
          "0815:AUDIO ELECTRONICS",
          "0554:TELECOMMUNICATIONS",
          "0358:MENS DRESS SHIRTS",
          "0554:TELECOMMUNICATIONS",
          "0817:WEARABLES",
          "0603:BEAUTY CARE",
          "0815:AUDIO ELECTRONICS",
          "0554:TELECOMMUNICATIONS",
          "0131:LADIES DRESSES",
          "0343:MENS DENIM JEANS",
          "0391:MENS SHOES",
          "0640:TOYS",
          "0826:SMALL ELECTRICS",
          "0411:PEGABLES",
          "0598:BABY CARE",
          "0860:NETWORKING",
          "0837:GENERAL HOUSEWARES",
          "0931:BATH",
          "0851:PC HARDWARE",
          "0551:CAMERAS & EQUIP",
          "0811:TELEVISION",
          "0815:AUDIO ELECTRONICS",
          "0851:PC HARDWARE",
          "0854:VIDEO GAMES",
          "0240:SLEEPWEAR/LOUNGEWEAR",
          "0837:GENERAL HOUSEWARES",
          "0845:AS SEEN ON TV",
          "0857:PC PERIPH/OFFICE ACC",
          "0931:BATH",
          "0941:BEDDING",
          "0991:TOBACCO",
          "0815:AUDIO ELECTRONICS",
          "0857:PC PERIPH/OFFICE ACC",
          "0395:MENS ATHLETIC SHOES",
          "0815:AUDIO ELECTRONICS",
          "0532:AMERICAN GREETINGS",
          "0066:VENDING/AMUSEMENT MA"
         ],
         "x0": " ",
         "xaxis": "x",
         "y": [
          2,
          1,
          2,
          2,
          1,
          4,
          2,
          1,
          5,
          1,
          1,
          1,
          3,
          2,
          4,
          1,
          16,
          1,
          2,
          1,
          1,
          1,
          1,
          1,
          7,
          1,
          1,
          1,
          1,
          1,
          1,
          2,
          1,
          1,
          1,
          2,
          1,
          1,
          1,
          1,
          1,
          3,
          1,
          4,
          2,
          1,
          1,
          1,
          2,
          2,
          1,
          1,
          1,
          1,
          2,
          2,
          1,
          1,
          1,
          1,
          2,
          1,
          3,
          1,
          1,
          2,
          3,
          1,
          3,
          5,
          3,
          1,
          1,
          1,
          1,
          2,
          1,
          1,
          1,
          1,
          1,
          1,
          3,
          1,
          1,
          2,
          1,
          4,
          2,
          1,
          1,
          1,
          2,
          1,
          2,
          1,
          1,
          1,
          2,
          1,
          1,
          1,
          1,
          2,
          2,
          2,
          2,
          1,
          1,
          1,
          2,
          5,
          1,
          3,
          4,
          2,
          1,
          1,
          1,
          1,
          1,
          1,
          3,
          4,
          1,
          11,
          2,
          2,
          1,
          1,
          1,
          1,
          24,
          1,
          1,
          1,
          1,
          2,
          1,
          1,
          8,
          2,
          1,
          1,
          2,
          1,
          2,
          1,
          2,
          1,
          1,
          1,
          4,
          4,
          1,
          1,
          1,
          6,
          3,
          3,
          1,
          1,
          2,
          3,
          3,
          6,
          1,
          2,
          2,
          9,
          6,
          1,
          2,
          2,
          1,
          1,
          1,
          1,
          2,
          1,
          1,
          1,
          2,
          3,
          3,
          4,
          1,
          2,
          2,
          1,
          1,
          1,
          3,
          1,
          2,
          1,
          9,
          1,
          3,
          1,
          1,
          1,
          1,
          1,
          2,
          1,
          2,
          1,
          2,
          2,
          2,
          1,
          1,
          4,
          3,
          1,
          1,
          1,
          2,
          2,
          1,
          1,
          3,
          1,
          1,
          1,
          2,
          3,
          1,
          2,
          5,
          2,
          2,
          1,
          1,
          2,
          1,
          3,
          2,
          3,
          2,
          1,
          3,
          2,
          2,
          2,
          2,
          1,
          1,
          1,
          4,
          2,
          1,
          1,
          13,
          1,
          1,
          2,
          4,
          1,
          1,
          1,
          2,
          3,
          1,
          2,
          1,
          1,
          4,
          1,
          2,
          3,
          3,
          1,
          1,
          4,
          2,
          1,
          2,
          1,
          1,
          3,
          4,
          4,
          5,
          1,
          1,
          1,
          2,
          1,
          1,
          1,
          1,
          2,
          1,
          3,
          1,
          2,
          4,
          1,
          2,
          1,
          4,
          1,
          3,
          1,
          1,
          1,
          2,
          2,
          1,
          1,
          6,
          1,
          4,
          3,
          2,
          2,
          1,
          8,
          1,
          2,
          2,
          1,
          3,
          2,
          2,
          3,
          4,
          4,
          2,
          1,
          3,
          1,
          1,
          2,
          1,
          1,
          8,
          1,
          1,
          1,
          1,
          2,
          1,
          3,
          2,
          1,
          2,
          1,
          7,
          2,
          1,
          1,
          1,
          1,
          2,
          1,
          1,
          2,
          1,
          2,
          2,
          3,
          1,
          2,
          1,
          1,
          1,
          1,
          1,
          2,
          3,
          3,
          1,
          1,
          1,
          1,
          3,
          1,
          3,
          2,
          4,
          3,
          2,
          2,
          1,
          3,
          1,
          4,
          2,
          4,
          4,
          1,
          2,
          1,
          3,
          1,
          1,
          1,
          1,
          1,
          1,
          2,
          1,
          2,
          1,
          4,
          3,
          10,
          3,
          2,
          8,
          1,
          1,
          1,
          1,
          1,
          1,
          1,
          1,
          1,
          4,
          1,
          1,
          1,
          2,
          1,
          4,
          6,
          3,
          1,
          3,
          1,
          11,
          3,
          3,
          1,
          1,
          1,
          2,
          12,
          1,
          3,
          2,
          10,
          3,
          3,
          1,
          7,
          1,
          1,
          1,
          1,
          1,
          2,
          1,
          12,
          2,
          1,
          2,
          2,
          1,
          1,
          2,
          2,
          1,
          1,
          1,
          1,
          1,
          3,
          1,
          1,
          7,
          1,
          1,
          1,
          1,
          1,
          1,
          1,
          1,
          1,
          1,
          1,
          7,
          2,
          3,
          1,
          1,
          1,
          5,
          2,
          5,
          1,
          2,
          3,
          2,
          4,
          1,
          2,
          1,
          2,
          6,
          1,
          6,
          1,
          1,
          1,
          2,
          1,
          1,
          1,
          1,
          1,
          1,
          5,
          4,
          1,
          4,
          2,
          1,
          1,
          2,
          1,
          1,
          3,
          1,
          2,
          1,
          6,
          1,
          1,
          1,
          1,
          3,
          1,
          1,
          2,
          5,
          3,
          2,
          1,
          2,
          7,
          1,
          2,
          6,
          1,
          1,
          3,
          3,
          1,
          1,
          1,
          3,
          1,
          6,
          4,
          1,
          1,
          2,
          5,
          2,
          3,
          1,
          1,
          1,
          12,
          2,
          2,
          1,
          1,
          1,
          1,
          1,
          1,
          1,
          1,
          1,
          1,
          1,
          3,
          12,
          2,
          1,
          1,
          1,
          1,
          4,
          1,
          1,
          4,
          1,
          2,
          2,
          1,
          1,
          1,
          1,
          3,
          1,
          3,
          1,
          1,
          2,
          1,
          1,
          1,
          3,
          1,
          1,
          2,
          1,
          1,
          1,
          7,
          1,
          1,
          3,
          1,
          1,
          1,
          1,
          1,
          6,
          1,
          1,
          1,
          1,
          1,
          1,
          1,
          2,
          1,
          2,
          1,
          5,
          1,
          4,
          7,
          1,
          2,
          3,
          1,
          1,
          1,
          1,
          1,
          1,
          7,
          1,
          2,
          1,
          1,
          1,
          1,
          1,
          1,
          1,
          2,
          2,
          2,
          1,
          1,
          1,
          2,
          2,
          1,
          3,
          1,
          1,
          2,
          2,
          3,
          2,
          2,
          1,
          1,
          2,
          1,
          2,
          1,
          1,
          1,
          1,
          1,
          2,
          3,
          2,
          1,
          1,
          2,
          1,
          1,
          2,
          1,
          2,
          3,
          1,
          1,
          1,
          1,
          1,
          3,
          1,
          1,
          1,
          3,
          1,
          1,
          1,
          2,
          2,
          6,
          2,
          1,
          1,
          1,
          2,
          4,
          1,
          1,
          2,
          1,
          1,
          1,
          2,
          3,
          1,
          1,
          1,
          1,
          1,
          1,
          5,
          1,
          1,
          1,
          1,
          4,
          2,
          1,
          2,
          2,
          4,
          2,
          1,
          1,
          1,
          1,
          2,
          1,
          2,
          1,
          1,
          1,
          2,
          1,
          2,
          2,
          1,
          1,
          1,
          1,
          2,
          1,
          1,
          2,
          1,
          3,
          1,
          1,
          1,
          2,
          1,
          1,
          1,
          1,
          2,
          2,
          1,
          3,
          1,
          1,
          1,
          6,
          2,
          1,
          1,
          1,
          1,
          3,
          3,
          1,
          1,
          1,
          1,
          2,
          1,
          3,
          3,
          3,
          1,
          2,
          1,
          3,
          3,
          2,
          1,
          1,
          2,
          1,
          3,
          1,
          1,
          1,
          1,
          1,
          1,
          24,
          1,
          1,
          1,
          1,
          4,
          1,
          2,
          1,
          1,
          2,
          2,
          1,
          1,
          2,
          2,
          1,
          1,
          2,
          1,
          1,
          2,
          2,
          1,
          2,
          1,
          2,
          1,
          1,
          1,
          5,
          1,
          5,
          1,
          1,
          1,
          6,
          2,
          1,
          2,
          1,
          2,
          1,
          2,
          4,
          2,
          1,
          9,
          2,
          1,
          1,
          1,
          2,
          4,
          1,
          1,
          1,
          8,
          1,
          1,
          2,
          3,
          5,
          3,
          2,
          1,
          2,
          1,
          6,
          1,
          1,
          2,
          2,
          3,
          2,
          2,
          2,
          3,
          5,
          2,
          1,
          2,
          2,
          1,
          1,
          22,
          2,
          2,
          1,
          1,
          1,
          2,
          5,
          1,
          1,
          1,
          3,
          1,
          1,
          1,
          2,
          1,
          6,
          4,
          2,
          6,
          2,
          1,
          2,
          1,
          1,
          1,
          1,
          1,
          3,
          1,
          1,
          1,
          1,
          2,
          1,
          1,
          2,
          1,
          1,
          1,
          3,
          2,
          2,
          1,
          2,
          1,
          1,
          7,
          2,
          1,
          14,
          1,
          3,
          4,
          2,
          1,
          1,
          1,
          4,
          1,
          1,
          3,
          1,
          1,
          2,
          1,
          1,
          2,
          1,
          1,
          2,
          2,
          1,
          1,
          1,
          1,
          1,
          1,
          1,
          2,
          4,
          1,
          1,
          2,
          2,
          1,
          1,
          1,
          2,
          3,
          2,
          4,
          1,
          12,
          7,
          4,
          1,
          1,
          1,
          1,
          1,
          4,
          1,
          1,
          1,
          1,
          1,
          1,
          1,
          1,
          1,
          2,
          1,
          2,
          1,
          1,
          3,
          3,
          2,
          1,
          1,
          1,
          1,
          1,
          3,
          1,
          5,
          2,
          6,
          4,
          2,
          2,
          1,
          2,
          3,
          1,
          1,
          2,
          2,
          3,
          2,
          2,
          1,
          1,
          4,
          1,
          2,
          1,
          2,
          2,
          1,
          2,
          2,
          1,
          1,
          1,
          1,
          1,
          2,
          1,
          1,
          1,
          4,
          9,
          4,
          1,
          1,
          3,
          3,
          6,
          1,
          2,
          5,
          1,
          1,
          1,
          3,
          2,
          2,
          1,
          1,
          5,
          1,
          2,
          1,
          3,
          2,
          1,
          1,
          1,
          1,
          2,
          1,
          2,
          2,
          1,
          1,
          4,
          4,
          1,
          1,
          1,
          4,
          3,
          1,
          1,
          1,
          3,
          1,
          5,
          1,
          1,
          3,
          4,
          1,
          1,
          1,
          1,
          2,
          2,
          2,
          1,
          2,
          2,
          3,
          2,
          1,
          2,
          1,
          1,
          2,
          3,
          2,
          1,
          1,
          1,
          2,
          1,
          2,
          1,
          2,
          1,
          1,
          2,
          2,
          1,
          5,
          4,
          4,
          3,
          1,
          1,
          1,
          1,
          3,
          3,
          1,
          1,
          1,
          1,
          1,
          2,
          1,
          1,
          1,
          2,
          2,
          3,
          1,
          7,
          1,
          3,
          3,
          6,
          2,
          1,
          1,
          3,
          1,
          1,
          2,
          1,
          1,
          2,
          1,
          6,
          1,
          1,
          1,
          2,
          3,
          2,
          1,
          3,
          1,
          2,
          2,
          1,
          1,
          5,
          8,
          2,
          1,
          2,
          2,
          1,
          1,
          3,
          2,
          1,
          2,
          1,
          1,
          2,
          2,
          2,
          1,
          2,
          1,
          2,
          5,
          4,
          4,
          1,
          1,
          1,
          2,
          1,
          2,
          3,
          2,
          1,
          1,
          1,
          4,
          1,
          1,
          3,
          1,
          3,
          3,
          5,
          2,
          1,
          1,
          2,
          1,
          2,
          1,
          3,
          1,
          1,
          1,
          1,
          1,
          1,
          2,
          13,
          1,
          1,
          1,
          4,
          1,
          1,
          1,
          1,
          1,
          2,
          1,
          1,
          1,
          1,
          1,
          1,
          1,
          1,
          1,
          2,
          2,
          1,
          1,
          1,
          3,
          1,
          1,
          2,
          1,
          1,
          1,
          2,
          1,
          1,
          1,
          1,
          3,
          1,
          2,
          1,
          1,
          2,
          1,
          2,
          2,
          1,
          1,
          2,
          2,
          5,
          1,
          2,
          2,
          4,
          1,
          4,
          3,
          1,
          1,
          1,
          2,
          2,
          1,
          2,
          1,
          1,
          1,
          7,
          4,
          3,
          4,
          1,
          1,
          2,
          1,
          2,
          1,
          1,
          3,
          2,
          1,
          4,
          1,
          3,
          2,
          1,
          1,
          2,
          1,
          15,
          1,
          1,
          1,
          1,
          3,
          1,
          1,
          1,
          2,
          1,
          1,
          2,
          1,
          2,
          6,
          2,
          1,
          1,
          1,
          2,
          2,
          4,
          1,
          1,
          2,
          1,
          2,
          1,
          6,
          1,
          5,
          1,
          1,
          2,
          1,
          1,
          1,
          1,
          1,
          1,
          2,
          1,
          3,
          2,
          1,
          4,
          1,
          1,
          2,
          1,
          2,
          2,
          2,
          1,
          6,
          4,
          1,
          1,
          1,
          2,
          1,
          2,
          2,
          2,
          2,
          1,
          1,
          1,
          3,
          1,
          1,
          1,
          1,
          1,
          1,
          1,
          1,
          3,
          1,
          1,
          1,
          1,
          1,
          1,
          1,
          1,
          1,
          1,
          1,
          4,
          2,
          2,
          2,
          1,
          1,
          1,
          1,
          1,
          1,
          1,
          2,
          1,
          1,
          1,
          1,
          1,
          1,
          1,
          4,
          1,
          1,
          2,
          1,
          1,
          1,
          2,
          1,
          1,
          1,
          1,
          1,
          1,
          1,
          2,
          1,
          1,
          1,
          1,
          1,
          1,
          3,
          1,
          1,
          5,
          1,
          1,
          2,
          1,
          1,
          1,
          1,
          1,
          9,
          2,
          1,
          4,
          4,
          2,
          1,
          2,
          1,
          1,
          1,
          1,
          1,
          3,
          1,
          1,
          2,
          2,
          5,
          1,
          1,
          4,
          1,
          1,
          1,
          3,
          3,
          1,
          1,
          2,
          1,
          1,
          2,
          1,
          2,
          1,
          1,
          4,
          2,
          8,
          3,
          2,
          1,
          1,
          1,
          2,
          1,
          1,
          1,
          1,
          1,
          1,
          4,
          1,
          1,
          2,
          6,
          1,
          2,
          1,
          5,
          2,
          2,
          1,
          1,
          3,
          1,
          1,
          1,
          1,
          1,
          8,
          1,
          1,
          3,
          2,
          2,
          1,
          3,
          1,
          1,
          2,
          2,
          2,
          4,
          1,
          2,
          1,
          1,
          2,
          2,
          1,
          2,
          1,
          2,
          1,
          2,
          1,
          1,
          1,
          1,
          1,
          2,
          2,
          2,
          1,
          1,
          2,
          1,
          1,
          2,
          4,
          1,
          4,
          2,
          3,
          2,
          1,
          1,
          2,
          1,
          2,
          1,
          1,
          1,
          1,
          3,
          2,
          2,
          1,
          4,
          1,
          3,
          1,
          1,
          2,
          1,
          6,
          3,
          2,
          1,
          1,
          1,
          2,
          3,
          4,
          2,
          4,
          4,
          6,
          1,
          1,
          1,
          1,
          2,
          1,
          7,
          1,
          2,
          1,
          1,
          1,
          2,
          3,
          2,
          2,
          4,
          1,
          1,
          1,
          2,
          3,
          6,
          1,
          1,
          1,
          1,
          1,
          1,
          1,
          4,
          1,
          1,
          1,
          2,
          1,
          1,
          2,
          1,
          1,
          1,
          1,
          1,
          1,
          1,
          2,
          2,
          2,
          1,
          3,
          1,
          1,
          1,
          1,
          1,
          1,
          3,
          2,
          1,
          1,
          1,
          9,
          2,
          1,
          1,
          1,
          1,
          1,
          1,
          2,
          1,
          1,
          2,
          2,
          1,
          1,
          1,
          1,
          1,
          2,
          4,
          2,
          2,
          1,
          1,
          1,
          1,
          3,
          1,
          1,
          2,
          2,
          2,
          1,
          1,
          1,
          1,
          1,
          1,
          1,
          5,
          1,
          2,
          1,
          1,
          1,
          2,
          2,
          4,
          1,
          1,
          1,
          1,
          1,
          5,
          1,
          1,
          1,
          1,
          3,
          1,
          2,
          1,
          1,
          1,
          3,
          1,
          1,
          1,
          1,
          2,
          1,
          5,
          1,
          1,
          4,
          3,
          1,
          2,
          1,
          2,
          1,
          1,
          6,
          1,
          1,
          1,
          2,
          1,
          3,
          1,
          6,
          3,
          1,
          1,
          1,
          1,
          1,
          1,
          1,
          5,
          1,
          1,
          1,
          1,
          1,
          1,
          1,
          1,
          1,
          1,
          1,
          1,
          1,
          2,
          1,
          1,
          1,
          3,
          3,
          3,
          1,
          2,
          1,
          1,
          2,
          1,
          4,
          2,
          1,
          2,
          2,
          6,
          1,
          2,
          2,
          1,
          1,
          1,
          1,
          1,
          1,
          1,
          1,
          2,
          1,
          1,
          2,
          1,
          2,
          1,
          1,
          2,
          1,
          1,
          3,
          3,
          1,
          3,
          5,
          1,
          1,
          2,
          1,
          1,
          1,
          3,
          2,
          1,
          1,
          1,
          1,
          7,
          3,
          2,
          5,
          2,
          4,
          1,
          3,
          2,
          1,
          1,
          1,
          2,
          1,
          1,
          3,
          3,
          2,
          1,
          2,
          1,
          1,
          1,
          1,
          1,
          2,
          1,
          1,
          6,
          2,
          1,
          3,
          2,
          1,
          2,
          1,
          2,
          4,
          1,
          1,
          3,
          1,
          2,
          1,
          2,
          1,
          1,
          1,
          8,
          14,
          2,
          1,
          1,
          4,
          1,
          1,
          1,
          1,
          1,
          1,
          1,
          8,
          1,
          1,
          1,
          1,
          2,
          1,
          1,
          2,
          1,
          1,
          2,
          1,
          2,
          1,
          2,
          3,
          1,
          1,
          1,
          1,
          1,
          1,
          1,
          1,
          1,
          2,
          2,
          1,
          1,
          1,
          1,
          1,
          1,
          1,
          1,
          1,
          1,
          1,
          1,
          3,
          1,
          1,
          1,
          1,
          4,
          1,
          1,
          3,
          1,
          2,
          3,
          1,
          1,
          1,
          3,
          1,
          1,
          2,
          3,
          4,
          2,
          1,
          1,
          1,
          1,
          1,
          1,
          2,
          1,
          1,
          4,
          1,
          1,
          1,
          2,
          7,
          2,
          1,
          1,
          1,
          1,
          2,
          3,
          3,
          1,
          1,
          2,
          1,
          1,
          1,
          1,
          1,
          1,
          1,
          1,
          2,
          3,
          1,
          4,
          1,
          2,
          1,
          2,
          2,
          2,
          1,
          2,
          1,
          1,
          1,
          1,
          1,
          2,
          1,
          1,
          1,
          2,
          1,
          1,
          1,
          1,
          2,
          7,
          1,
          2,
          1,
          1,
          3,
          1,
          1,
          2,
          2,
          1,
          1,
          1,
          1,
          1,
          3,
          1,
          1,
          1,
          1,
          2,
          1,
          1,
          2,
          1,
          1,
          2,
          2,
          1,
          1,
          1,
          1,
          2,
          1,
          1,
          1,
          1,
          1,
          1,
          1,
          2,
          1,
          1,
          1,
          1,
          1,
          2,
          1,
          5,
          1,
          3,
          1,
          1,
          2,
          4,
          1,
          3,
          2,
          3,
          1,
          1,
          2,
          2,
          1,
          1,
          1,
          2,
          3,
          1,
          1,
          2,
          1,
          1,
          1,
          4,
          20,
          2,
          2,
          1,
          2,
          3,
          1,
          1,
          1,
          2,
          2,
          1,
          2,
          1,
          2,
          1,
          6,
          1,
          1,
          1,
          3,
          1,
          5,
          1,
          2,
          2,
          1,
          6,
          2,
          2,
          2,
          2,
          1,
          5,
          1,
          1,
          1,
          1,
          1,
          3,
          2,
          1,
          2,
          1,
          1,
          1,
          1,
          1,
          1,
          1,
          2,
          1,
          1,
          4,
          1,
          3,
          2,
          1,
          1,
          1,
          1,
          1,
          1,
          5,
          1,
          9,
          5,
          1,
          1,
          1,
          1,
          2,
          3,
          1,
          1,
          1,
          1,
          1,
          1,
          3,
          1,
          1,
          1,
          4,
          1,
          1,
          1,
          1,
          1,
          2,
          1,
          1,
          1,
          1,
          1,
          8,
          5,
          1,
          1,
          1,
          1,
          1,
          1,
          1,
          1,
          1,
          1,
          1,
          4,
          1,
          1,
          2,
          1,
          1,
          1,
          8,
          1,
          10,
          1,
          2,
          1,
          1,
          1,
          1,
          1,
          3,
          3,
          1,
          2,
          2,
          1,
          1,
          5,
          1,
          1,
          1,
          1,
          2,
          4,
          1,
          1,
          1,
          5,
          3,
          1,
          4,
          1,
          1,
          1,
          2,
          1,
          1,
          1,
          6,
          1,
          1,
          1,
          1,
          2,
          1,
          7,
          2,
          1,
          1,
          1,
          1,
          2,
          1,
          1,
          1,
          4,
          3,
          2,
          1,
          2,
          1,
          1,
          1,
          1,
          3,
          3,
          1,
          1,
          1,
          1,
          1,
          1,
          1,
          1,
          1,
          1,
          1,
          1,
          1,
          1,
          1,
          1,
          1,
          1,
          1,
          5,
          1,
          1,
          1,
          1,
          3,
          1,
          9,
          1,
          1,
          1,
          1,
          7,
          1,
          1,
          1,
          1,
          8,
          2,
          1,
          3,
          1,
          1,
          1,
          1,
          3,
          2,
          6,
          2,
          2,
          3,
          3,
          1,
          6,
          1,
          2,
          1,
          1,
          5,
          1,
          1,
          1,
          2,
          1,
          1,
          1,
          1,
          1,
          1,
          1,
          1,
          1,
          1,
          1,
          1,
          1,
          3,
          2,
          3,
          1,
          1,
          1,
          1,
          1,
          2,
          1,
          1,
          2,
          3,
          1,
          1,
          1,
          1,
          1,
          1,
          4,
          2,
          2,
          1,
          2,
          1,
          1,
          1,
          1,
          1,
          3,
          3,
          1,
          5,
          1,
          1,
          1,
          1,
          1,
          1,
          1,
          3,
          2,
          5,
          1,
          1,
          1,
          1,
          1,
          2,
          1,
          1,
          1,
          1,
          4,
          1,
          1,
          1,
          1,
          1,
          1,
          1,
          1,
          1,
          7,
          5,
          1,
          1,
          7,
          1,
          1,
          2,
          9,
          1,
          1,
          1,
          1,
          3,
          1,
          1,
          1,
          1,
          1,
          3,
          1,
          1,
          1,
          1,
          1,
          2,
          1,
          1,
          2,
          3,
          2,
          1,
          1,
          2,
          1,
          1,
          5,
          1,
          1,
          1,
          1,
          1,
          1,
          1,
          1,
          4,
          2,
          1,
          1,
          2,
          1,
          1,
          1,
          1,
          1,
          1,
          2,
          1,
          3,
          1,
          2,
          1,
          2,
          1,
          11,
          1,
          1,
          4,
          1,
          2,
          1,
          1,
          1,
          8,
          1,
          1,
          1,
          2,
          4,
          1,
          1,
          3,
          2,
          1,
          1,
          1,
          1,
          2,
          3,
          1,
          1,
          1,
          1,
          1,
          2,
          1,
          1,
          2,
          1,
          1,
          2,
          1,
          2,
          2,
          3,
          3,
          2,
          1,
          1,
          1,
          1,
          2,
          2,
          1,
          1,
          1,
          2,
          2,
          1,
          1,
          1,
          3,
          2,
          1,
          1,
          1,
          1,
          2,
          2,
          1,
          1,
          1,
          1,
          1,
          2,
          7,
          5,
          1,
          2,
          1,
          4,
          1,
          4,
          2,
          3,
          2,
          1,
          1,
          1,
          1,
          1,
          3,
          1,
          2,
          2,
          4,
          1,
          2,
          1,
          1,
          1,
          3,
          1,
          1,
          2,
          4,
          10,
          1,
          1,
          1,
          2,
          1,
          1,
          1,
          1,
          2,
          2,
          2,
          7,
          1,
          1,
          9,
          5,
          5,
          1,
          1,
          1,
          2,
          3,
          2,
          1,
          1,
          1,
          8,
          3,
          4,
          5,
          1,
          1,
          4,
          1,
          1,
          1,
          3,
          2,
          1,
          3,
          1,
          2,
          3,
          1,
          4,
          4,
          1,
          1,
          1,
          2,
          3,
          1,
          2,
          4,
          3,
          3,
          2,
          1,
          1,
          1,
          1,
          4,
          1,
          2,
          1,
          4,
          1,
          1,
          1,
          1,
          2,
          1,
          1,
          1,
          1,
          8,
          9,
          1,
          3,
          7,
          1,
          1,
          1,
          3,
          1,
          1,
          1,
          2,
          2,
          1,
          2,
          1,
          1,
          1,
          1,
          1,
          1,
          2,
          1,
          1,
          2,
          1,
          1,
          4,
          1,
          2,
          1,
          1,
          4,
          2,
          2,
          10,
          2,
          1,
          5,
          1,
          1,
          1,
          1,
          2,
          5,
          2,
          1,
          2,
          1,
          2,
          3,
          2,
          2,
          1,
          1,
          2,
          1,
          1,
          1,
          1,
          1,
          2,
          2,
          1,
          1,
          2,
          6,
          2,
          3,
          6,
          1,
          1,
          2,
          5,
          2,
          1,
          1,
          2,
          1,
          1,
          2,
          4,
          1,
          6,
          1,
          1,
          1,
          1,
          1,
          1,
          1,
          1,
          1,
          2,
          1,
          1,
          1,
          3,
          1,
          2,
          2,
          5,
          1,
          2,
          1,
          1,
          2,
          1,
          1,
          3,
          1,
          1,
          2,
          4,
          13,
          1,
          18,
          1,
          2,
          1,
          2,
          1,
          1,
          1,
          2,
          1,
          1,
          13,
          1,
          4,
          2,
          2,
          1,
          1,
          1,
          1,
          4,
          2,
          1,
          3,
          2,
          1,
          1,
          1,
          2,
          5,
          2,
          1,
          2,
          2,
          2,
          3,
          1,
          1,
          1,
          1,
          1,
          1,
          1,
          1,
          1,
          1,
          1,
          1,
          1,
          1,
          5,
          3,
          1,
          1,
          1,
          1,
          1,
          3,
          1,
          1,
          2,
          2,
          2,
          5,
          1,
          1,
          1,
          1,
          1,
          1,
          1,
          1,
          1,
          1,
          2,
          2,
          2,
          1,
          1,
          2,
          1,
          1,
          1,
          1,
          2,
          4,
          1,
          1,
          2,
          3,
          2,
          4,
          1,
          2,
          1,
          1,
          1,
          1,
          2,
          1,
          1,
          1,
          1,
          1,
          2,
          1,
          1,
          4,
          1,
          2,
          2,
          1,
          1,
          1,
          1,
          1,
          8,
          2,
          2,
          1,
          2,
          1,
          1,
          1,
          2,
          1,
          1,
          2,
          1,
          1,
          1,
          1,
          2,
          1,
          2,
          1,
          1,
          2,
          1,
          1,
          1,
          1,
          2,
          1,
          1,
          1,
          1,
          2,
          2,
          1,
          1,
          1,
          1,
          4,
          1,
          1,
          7,
          4,
          1,
          1,
          2,
          1,
          1,
          3,
          2,
          1,
          2,
          1,
          2,
          3,
          1,
          1,
          1,
          1,
          1,
          1,
          1,
          1,
          1,
          2,
          1,
          1,
          2,
          10,
          1,
          2,
          2,
          1,
          2,
          3,
          1,
          1,
          9,
          2,
          3,
          1,
          1,
          1,
          1,
          1,
          23,
          2,
          4,
          1,
          2,
          1,
          2,
          5,
          2,
          1,
          2,
          1,
          4,
          1,
          2,
          1,
          1,
          3,
          1,
          1,
          15,
          7,
          1,
          1,
          2,
          3,
          8,
          2,
          1,
          5,
          1,
          1,
          2,
          2,
          2,
          1,
          2,
          1,
          1,
          8,
          2,
          2,
          1,
          1,
          1,
          1,
          1,
          2,
          2,
          1,
          3,
          2,
          1,
          2,
          3,
          1,
          2,
          1,
          1,
          1,
          1,
          2,
          1,
          1,
          1,
          2,
          7,
          1,
          5,
          2,
          1,
          1,
          1,
          1,
          1,
          9,
          1,
          1,
          2,
          6,
          1,
          1,
          1,
          3,
          2,
          1,
          2,
          4,
          5,
          1,
          1,
          1,
          1,
          1,
          1,
          1,
          2,
          1,
          1,
          1,
          1,
          1,
          1,
          2,
          1,
          3,
          1,
          1,
          1,
          10,
          1,
          1,
          2,
          1,
          3,
          8,
          1,
          4,
          1,
          2,
          1,
          8,
          1,
          2,
          1,
          3,
          2,
          1,
          1,
          1,
          3,
          1,
          1,
          2,
          1,
          1,
          2,
          1,
          1,
          1,
          1,
          2,
          1,
          1,
          1,
          3,
          6,
          4,
          1,
          4,
          1,
          1,
          1,
          1,
          2,
          1,
          2,
          2,
          2,
          1,
          2,
          4,
          3,
          1,
          20,
          2,
          4,
          3,
          3,
          3,
          3,
          2,
          1,
          2,
          1,
          1,
          1,
          1,
          2,
          1,
          1,
          1,
          1,
          1,
          1,
          2,
          1,
          1,
          1,
          1,
          1,
          1,
          1,
          2,
          1,
          1,
          2,
          4,
          1,
          4,
          2,
          1,
          2,
          3,
          2,
          3,
          1,
          1,
          1,
          2,
          3,
          1,
          3,
          2,
          3,
          1,
          2,
          1,
          2,
          1,
          4,
          1,
          1,
          2,
          3,
          6,
          1,
          1,
          9,
          1,
          1,
          1,
          2,
          2,
          3,
          4,
          2,
          1,
          1,
          1,
          1,
          1,
          1,
          2,
          1,
          2,
          1,
          2,
          2,
          1,
          1,
          1,
          1,
          1,
          2,
          1,
          1,
          1,
          2,
          2,
          1,
          1,
          1,
          2,
          1,
          1,
          1,
          4,
          1,
          1,
          1,
          3,
          1,
          2,
          1,
          1,
          2,
          1,
          1,
          4,
          1,
          5,
          4,
          1,
          1,
          1,
          2,
          1,
          1,
          2,
          7,
          1,
          3,
          8,
          6,
          4,
          1,
          1,
          1,
          4,
          1,
          4,
          4,
          1,
          1,
          1,
          1,
          1,
          1,
          5,
          1,
          1,
          1,
          1,
          3,
          1,
          2,
          1,
          1,
          1,
          1,
          1,
          5,
          4,
          1,
          3,
          1,
          1,
          1,
          1,
          1,
          1,
          1,
          1,
          1,
          1,
          1,
          5,
          1,
          2,
          4,
          1,
          2,
          2,
          1,
          1,
          1,
          1,
          2,
          1,
          8,
          5,
          8,
          1,
          1,
          3,
          1,
          1,
          2,
          6,
          1,
          2,
          5,
          1,
          1,
          2,
          1,
          1,
          4,
          1,
          1,
          2,
          1,
          1,
          2,
          3,
          4,
          3,
          1,
          5,
          3,
          2,
          3,
          1,
          2,
          1,
          1,
          1,
          1,
          1,
          1,
          2,
          1,
          3,
          1,
          2,
          5,
          1,
          1,
          4,
          2,
          1,
          1,
          1,
          1,
          1,
          1,
          1,
          2,
          1,
          2,
          4,
          2,
          1,
          1,
          2,
          1,
          1,
          4,
          6,
          1,
          1,
          1,
          1,
          1,
          2,
          4,
          2,
          1,
          1,
          1,
          1,
          2,
          2,
          2,
          1,
          2,
          4,
          1,
          1,
          1,
          1,
          1,
          1,
          3,
          1,
          1,
          2,
          2,
          1,
          1,
          5,
          1,
          3,
          3,
          1,
          1,
          1,
          10,
          4,
          2,
          1,
          1,
          3,
          2,
          1,
          1,
          2,
          1,
          2,
          1,
          1,
          1,
          12,
          3,
          1,
          1,
          1,
          1,
          1,
          1,
          1,
          1,
          2,
          1,
          1,
          1,
          3,
          1,
          1,
          1,
          2,
          1,
          1,
          1,
          1,
          1,
          1,
          1,
          6,
          1,
          1,
          1,
          3,
          2,
          2,
          4,
          4,
          1,
          2,
          1,
          2,
          1,
          1,
          1,
          1,
          2,
          4,
          4,
          1,
          1,
          3,
          1,
          1,
          1,
          1,
          1,
          1,
          1,
          1,
          1,
          1,
          23,
          3,
          2,
          3,
          6,
          1,
          2,
          4,
          1,
          3,
          1,
          3,
          6,
          2,
          1,
          3,
          1,
          2,
          1,
          1,
          1,
          4,
          1,
          1,
          2,
          1,
          1,
          2,
          5,
          4,
          2,
          1,
          1,
          3,
          3,
          4,
          1,
          1,
          3,
          4,
          1,
          1,
          5,
          1,
          7,
          1,
          2,
          5,
          3,
          3,
          1,
          1,
          2,
          2,
          5,
          1,
          1,
          3,
          1,
          9,
          3,
          4,
          2,
          1,
          1,
          1,
          1,
          1,
          1,
          2,
          1,
          1,
          1,
          1,
          1,
          1,
          1,
          3,
          2,
          1,
          2,
          1,
          1,
          1,
          3,
          2,
          2,
          1,
          1,
          1,
          1,
          1,
          1,
          1,
          1,
          1,
          2,
          3,
          2,
          1,
          2,
          1,
          4,
          4,
          2,
          1,
          2,
          2,
          1,
          1,
          1,
          2,
          1,
          1,
          2,
          1,
          2,
          1,
          5,
          1,
          1,
          1,
          4,
          2,
          1,
          1,
          1,
          1,
          1,
          4,
          1,
          1,
          1,
          2,
          1,
          1,
          2,
          6,
          1,
          1,
          2,
          1,
          1,
          2,
          2,
          1,
          1,
          1,
          1,
          2,
          2,
          1,
          1,
          2,
          1,
          2,
          1,
          1,
          1,
          1,
          2,
          1,
          2,
          1,
          1,
          1,
          4,
          1,
          2,
          3,
          1,
          1,
          1,
          1,
          1,
          1,
          1,
          1,
          1,
          2,
          3,
          1,
          2,
          1,
          1,
          1,
          4,
          1,
          1,
          1,
          1,
          2,
          1,
          1,
          2,
          1,
          2,
          5,
          2,
          1,
          2,
          2,
          1,
          3,
          6,
          2,
          1,
          1,
          1,
          5,
          1,
          8,
          3,
          2,
          1,
          1,
          2,
          1,
          1,
          1,
          1,
          1,
          1,
          1,
          2,
          4,
          1,
          1,
          5,
          1,
          1,
          3,
          5,
          1,
          1,
          2,
          1,
          1,
          1,
          3,
          2,
          1,
          2,
          1,
          2,
          1,
          1,
          2,
          2,
          2,
          2,
          1,
          1,
          1,
          2,
          4,
          1,
          1,
          1,
          2,
          2,
          2,
          2,
          1,
          1,
          3,
          1,
          6,
          1,
          1,
          1,
          2,
          1,
          1,
          4,
          2,
          2,
          1,
          1,
          1,
          4,
          2,
          2,
          1,
          1,
          1,
          1,
          1,
          1,
          2,
          1,
          2,
          1,
          1,
          1,
          2,
          1,
          4,
          1,
          2,
          1,
          1,
          1,
          1,
          1,
          1,
          2,
          7,
          1,
          3,
          1,
          3,
          3,
          5,
          7,
          4,
          1,
          1,
          2,
          1,
          2,
          1,
          1,
          2,
          3,
          4,
          3,
          1,
          4,
          1,
          3,
          2,
          1,
          1,
          2,
          1,
          1,
          2,
          2,
          1,
          1,
          1,
          10,
          1,
          4,
          1,
          2,
          4,
          4,
          1,
          1,
          1,
          3,
          4,
          2,
          2,
          1,
          1,
          1,
          2,
          4,
          6,
          2,
          1,
          4,
          3,
          2,
          1,
          2,
          1,
          1,
          1,
          1,
          3,
          1,
          1,
          10,
          2,
          1,
          2,
          1,
          2,
          3,
          1,
          1,
          1,
          4,
          1,
          1,
          4,
          1,
          1,
          3,
          2,
          2,
          1,
          1,
          1,
          3,
          1,
          1,
          1,
          1,
          1,
          3,
          1,
          1,
          1,
          1,
          2,
          3,
          1,
          3,
          1,
          1,
          1,
          2,
          2,
          2,
          1,
          1,
          1,
          2,
          1,
          1,
          2,
          3,
          1,
          1,
          1,
          1,
          1,
          1,
          1,
          2,
          1,
          1,
          1,
          1,
          1,
          1,
          7,
          1,
          1,
          1,
          1,
          1,
          2,
          1,
          2,
          4,
          3,
          3,
          3,
          1,
          1,
          1,
          1,
          2,
          1,
          1,
          2,
          1,
          1,
          1,
          1,
          2,
          1,
          4,
          2,
          1,
          1,
          1,
          2,
          2,
          1,
          1,
          1,
          6,
          4,
          1,
          2,
          2,
          1,
          2,
          2,
          1,
          1,
          1,
          1,
          2,
          1,
          1,
          1,
          2,
          1,
          2,
          1,
          1,
          1,
          1,
          2,
          1,
          1,
          2,
          2,
          1,
          2,
          1,
          2,
          1,
          1,
          1,
          3,
          2,
          1,
          2,
          1,
          1,
          3,
          1,
          2,
          2,
          1,
          1,
          1,
          1,
          1,
          1,
          1,
          3,
          1,
          1,
          1,
          1,
          6,
          1,
          3,
          1,
          3,
          1,
          1,
          1,
          1,
          1,
          1,
          1,
          1,
          1,
          1,
          1,
          1,
          1,
          1,
          1,
          1,
          1,
          1,
          1,
          3,
          1,
          1,
          1,
          2,
          1,
          1,
          1,
          1,
          1,
          1,
          1,
          1,
          1,
          1,
          1,
          1,
          1,
          1,
          1,
          1,
          1,
          1,
          1,
          1,
          1,
          1,
          1,
          1,
          1,
          1,
          1,
          1,
          1,
          1,
          1,
          3,
          1,
          1,
          1,
          1,
          1,
          1,
          1,
          1,
          1,
          1,
          1,
          1,
          1,
          1,
          1,
          1,
          1,
          1,
          1,
          1,
          1,
          1,
          1,
          1,
          1,
          1,
          1,
          1,
          1,
          1,
          1,
          1,
          1,
          1,
          1,
          1,
          1,
          1,
          1,
          1,
          1,
          1,
          1,
          1,
          1,
          1,
          1,
          1,
          1,
          1,
          2,
          1,
          1,
          1,
          1,
          1,
          1,
          1,
          1,
          1,
          1,
          1,
          1,
          2,
          1,
          1,
          1,
          1,
          1,
          1,
          1,
          1,
          1,
          1,
          1,
          1,
          1,
          2,
          1,
          1,
          1,
          1,
          1,
          1,
          1,
          1,
          1,
          3,
          2,
          2,
          1,
          2,
          1,
          1,
          1,
          1,
          1,
          2,
          1,
          1,
          1,
          1,
          1,
          1,
          1,
          4,
          1,
          1,
          1,
          1,
          1,
          1,
          1,
          1,
          1,
          1,
          1,
          3,
          3,
          2,
          1,
          1,
          3,
          1,
          1,
          1,
          1,
          2,
          1,
          1,
          1,
          4,
          2,
          1,
          1,
          1,
          1,
          1,
          1,
          2,
          1,
          1,
          1,
          1,
          2,
          2,
          1,
          1,
          1,
          2,
          2,
          1,
          1,
          1,
          2,
          3,
          1,
          1,
          1,
          1,
          2,
          2,
          1,
          1,
          1,
          1,
          1,
          1,
          2,
          1,
          1,
          1,
          1,
          2,
          1,
          4,
          1,
          1,
          1,
          1,
          2,
          1,
          1,
          1,
          1,
          1,
          1,
          3,
          3,
          1,
          1,
          1,
          7,
          10,
          1,
          1,
          1,
          2,
          3,
          1,
          2,
          2,
          1,
          2,
          1,
          1,
          1,
          2,
          1,
          4,
          1,
          1,
          1,
          1,
          1,
          1,
          1,
          3,
          2,
          1,
          1,
          1,
          1,
          4,
          1,
          1,
          2,
          1,
          1,
          1,
          9,
          3,
          2,
          2,
          6,
          1,
          1,
          1,
          1,
          1,
          1,
          1,
          1,
          1,
          1,
          1
         ],
         "y0": " ",
         "yaxis": "y"
        }
       ],
       "layout": {
        "boxmode": "group",
        "legend": {
         "tracegroupgap": 0
        },
        "margin": {
         "t": 60
        },
        "template": {
         "data": {
          "bar": [
           {
            "error_x": {
             "color": "#2a3f5f"
            },
            "error_y": {
             "color": "#2a3f5f"
            },
            "marker": {
             "line": {
              "color": "#E5ECF6",
              "width": 0.5
             },
             "pattern": {
              "fillmode": "overlay",
              "size": 10,
              "solidity": 0.2
             }
            },
            "type": "bar"
           }
          ],
          "barpolar": [
           {
            "marker": {
             "line": {
              "color": "#E5ECF6",
              "width": 0.5
             },
             "pattern": {
              "fillmode": "overlay",
              "size": 10,
              "solidity": 0.2
             }
            },
            "type": "barpolar"
           }
          ],
          "carpet": [
           {
            "aaxis": {
             "endlinecolor": "#2a3f5f",
             "gridcolor": "white",
             "linecolor": "white",
             "minorgridcolor": "white",
             "startlinecolor": "#2a3f5f"
            },
            "baxis": {
             "endlinecolor": "#2a3f5f",
             "gridcolor": "white",
             "linecolor": "white",
             "minorgridcolor": "white",
             "startlinecolor": "#2a3f5f"
            },
            "type": "carpet"
           }
          ],
          "choropleth": [
           {
            "colorbar": {
             "outlinewidth": 0,
             "ticks": ""
            },
            "type": "choropleth"
           }
          ],
          "contour": [
           {
            "colorbar": {
             "outlinewidth": 0,
             "ticks": ""
            },
            "colorscale": [
             [
              0,
              "#0d0887"
             ],
             [
              0.1111111111111111,
              "#46039f"
             ],
             [
              0.2222222222222222,
              "#7201a8"
             ],
             [
              0.3333333333333333,
              "#9c179e"
             ],
             [
              0.4444444444444444,
              "#bd3786"
             ],
             [
              0.5555555555555556,
              "#d8576b"
             ],
             [
              0.6666666666666666,
              "#ed7953"
             ],
             [
              0.7777777777777778,
              "#fb9f3a"
             ],
             [
              0.8888888888888888,
              "#fdca26"
             ],
             [
              1,
              "#f0f921"
             ]
            ],
            "type": "contour"
           }
          ],
          "contourcarpet": [
           {
            "colorbar": {
             "outlinewidth": 0,
             "ticks": ""
            },
            "type": "contourcarpet"
           }
          ],
          "heatmap": [
           {
            "colorbar": {
             "outlinewidth": 0,
             "ticks": ""
            },
            "colorscale": [
             [
              0,
              "#0d0887"
             ],
             [
              0.1111111111111111,
              "#46039f"
             ],
             [
              0.2222222222222222,
              "#7201a8"
             ],
             [
              0.3333333333333333,
              "#9c179e"
             ],
             [
              0.4444444444444444,
              "#bd3786"
             ],
             [
              0.5555555555555556,
              "#d8576b"
             ],
             [
              0.6666666666666666,
              "#ed7953"
             ],
             [
              0.7777777777777778,
              "#fb9f3a"
             ],
             [
              0.8888888888888888,
              "#fdca26"
             ],
             [
              1,
              "#f0f921"
             ]
            ],
            "type": "heatmap"
           }
          ],
          "heatmapgl": [
           {
            "colorbar": {
             "outlinewidth": 0,
             "ticks": ""
            },
            "colorscale": [
             [
              0,
              "#0d0887"
             ],
             [
              0.1111111111111111,
              "#46039f"
             ],
             [
              0.2222222222222222,
              "#7201a8"
             ],
             [
              0.3333333333333333,
              "#9c179e"
             ],
             [
              0.4444444444444444,
              "#bd3786"
             ],
             [
              0.5555555555555556,
              "#d8576b"
             ],
             [
              0.6666666666666666,
              "#ed7953"
             ],
             [
              0.7777777777777778,
              "#fb9f3a"
             ],
             [
              0.8888888888888888,
              "#fdca26"
             ],
             [
              1,
              "#f0f921"
             ]
            ],
            "type": "heatmapgl"
           }
          ],
          "histogram": [
           {
            "marker": {
             "pattern": {
              "fillmode": "overlay",
              "size": 10,
              "solidity": 0.2
             }
            },
            "type": "histogram"
           }
          ],
          "histogram2d": [
           {
            "colorbar": {
             "outlinewidth": 0,
             "ticks": ""
            },
            "colorscale": [
             [
              0,
              "#0d0887"
             ],
             [
              0.1111111111111111,
              "#46039f"
             ],
             [
              0.2222222222222222,
              "#7201a8"
             ],
             [
              0.3333333333333333,
              "#9c179e"
             ],
             [
              0.4444444444444444,
              "#bd3786"
             ],
             [
              0.5555555555555556,
              "#d8576b"
             ],
             [
              0.6666666666666666,
              "#ed7953"
             ],
             [
              0.7777777777777778,
              "#fb9f3a"
             ],
             [
              0.8888888888888888,
              "#fdca26"
             ],
             [
              1,
              "#f0f921"
             ]
            ],
            "type": "histogram2d"
           }
          ],
          "histogram2dcontour": [
           {
            "colorbar": {
             "outlinewidth": 0,
             "ticks": ""
            },
            "colorscale": [
             [
              0,
              "#0d0887"
             ],
             [
              0.1111111111111111,
              "#46039f"
             ],
             [
              0.2222222222222222,
              "#7201a8"
             ],
             [
              0.3333333333333333,
              "#9c179e"
             ],
             [
              0.4444444444444444,
              "#bd3786"
             ],
             [
              0.5555555555555556,
              "#d8576b"
             ],
             [
              0.6666666666666666,
              "#ed7953"
             ],
             [
              0.7777777777777778,
              "#fb9f3a"
             ],
             [
              0.8888888888888888,
              "#fdca26"
             ],
             [
              1,
              "#f0f921"
             ]
            ],
            "type": "histogram2dcontour"
           }
          ],
          "mesh3d": [
           {
            "colorbar": {
             "outlinewidth": 0,
             "ticks": ""
            },
            "type": "mesh3d"
           }
          ],
          "parcoords": [
           {
            "line": {
             "colorbar": {
              "outlinewidth": 0,
              "ticks": ""
             }
            },
            "type": "parcoords"
           }
          ],
          "pie": [
           {
            "automargin": true,
            "type": "pie"
           }
          ],
          "scatter": [
           {
            "fillpattern": {
             "fillmode": "overlay",
             "size": 10,
             "solidity": 0.2
            },
            "type": "scatter"
           }
          ],
          "scatter3d": [
           {
            "line": {
             "colorbar": {
              "outlinewidth": 0,
              "ticks": ""
             }
            },
            "marker": {
             "colorbar": {
              "outlinewidth": 0,
              "ticks": ""
             }
            },
            "type": "scatter3d"
           }
          ],
          "scattercarpet": [
           {
            "marker": {
             "colorbar": {
              "outlinewidth": 0,
              "ticks": ""
             }
            },
            "type": "scattercarpet"
           }
          ],
          "scattergeo": [
           {
            "marker": {
             "colorbar": {
              "outlinewidth": 0,
              "ticks": ""
             }
            },
            "type": "scattergeo"
           }
          ],
          "scattergl": [
           {
            "marker": {
             "colorbar": {
              "outlinewidth": 0,
              "ticks": ""
             }
            },
            "type": "scattergl"
           }
          ],
          "scattermapbox": [
           {
            "marker": {
             "colorbar": {
              "outlinewidth": 0,
              "ticks": ""
             }
            },
            "type": "scattermapbox"
           }
          ],
          "scatterpolar": [
           {
            "marker": {
             "colorbar": {
              "outlinewidth": 0,
              "ticks": ""
             }
            },
            "type": "scatterpolar"
           }
          ],
          "scatterpolargl": [
           {
            "marker": {
             "colorbar": {
              "outlinewidth": 0,
              "ticks": ""
             }
            },
            "type": "scatterpolargl"
           }
          ],
          "scatterternary": [
           {
            "marker": {
             "colorbar": {
              "outlinewidth": 0,
              "ticks": ""
             }
            },
            "type": "scatterternary"
           }
          ],
          "surface": [
           {
            "colorbar": {
             "outlinewidth": 0,
             "ticks": ""
            },
            "colorscale": [
             [
              0,
              "#0d0887"
             ],
             [
              0.1111111111111111,
              "#46039f"
             ],
             [
              0.2222222222222222,
              "#7201a8"
             ],
             [
              0.3333333333333333,
              "#9c179e"
             ],
             [
              0.4444444444444444,
              "#bd3786"
             ],
             [
              0.5555555555555556,
              "#d8576b"
             ],
             [
              0.6666666666666666,
              "#ed7953"
             ],
             [
              0.7777777777777778,
              "#fb9f3a"
             ],
             [
              0.8888888888888888,
              "#fdca26"
             ],
             [
              1,
              "#f0f921"
             ]
            ],
            "type": "surface"
           }
          ],
          "table": [
           {
            "cells": {
             "fill": {
              "color": "#EBF0F8"
             },
             "line": {
              "color": "white"
             }
            },
            "header": {
             "fill": {
              "color": "#C8D4E3"
             },
             "line": {
              "color": "white"
             }
            },
            "type": "table"
           }
          ]
         },
         "layout": {
          "annotationdefaults": {
           "arrowcolor": "#2a3f5f",
           "arrowhead": 0,
           "arrowwidth": 1
          },
          "autotypenumbers": "strict",
          "coloraxis": {
           "colorbar": {
            "outlinewidth": 0,
            "ticks": ""
           }
          },
          "colorscale": {
           "diverging": [
            [
             0,
             "#8e0152"
            ],
            [
             0.1,
             "#c51b7d"
            ],
            [
             0.2,
             "#de77ae"
            ],
            [
             0.3,
             "#f1b6da"
            ],
            [
             0.4,
             "#fde0ef"
            ],
            [
             0.5,
             "#f7f7f7"
            ],
            [
             0.6,
             "#e6f5d0"
            ],
            [
             0.7,
             "#b8e186"
            ],
            [
             0.8,
             "#7fbc41"
            ],
            [
             0.9,
             "#4d9221"
            ],
            [
             1,
             "#276419"
            ]
           ],
           "sequential": [
            [
             0,
             "#0d0887"
            ],
            [
             0.1111111111111111,
             "#46039f"
            ],
            [
             0.2222222222222222,
             "#7201a8"
            ],
            [
             0.3333333333333333,
             "#9c179e"
            ],
            [
             0.4444444444444444,
             "#bd3786"
            ],
            [
             0.5555555555555556,
             "#d8576b"
            ],
            [
             0.6666666666666666,
             "#ed7953"
            ],
            [
             0.7777777777777778,
             "#fb9f3a"
            ],
            [
             0.8888888888888888,
             "#fdca26"
            ],
            [
             1,
             "#f0f921"
            ]
           ],
           "sequentialminus": [
            [
             0,
             "#0d0887"
            ],
            [
             0.1111111111111111,
             "#46039f"
            ],
            [
             0.2222222222222222,
             "#7201a8"
            ],
            [
             0.3333333333333333,
             "#9c179e"
            ],
            [
             0.4444444444444444,
             "#bd3786"
            ],
            [
             0.5555555555555556,
             "#d8576b"
            ],
            [
             0.6666666666666666,
             "#ed7953"
            ],
            [
             0.7777777777777778,
             "#fb9f3a"
            ],
            [
             0.8888888888888888,
             "#fdca26"
            ],
            [
             1,
             "#f0f921"
            ]
           ]
          },
          "colorway": [
           "#636efa",
           "#EF553B",
           "#00cc96",
           "#ab63fa",
           "#FFA15A",
           "#19d3f3",
           "#FF6692",
           "#B6E880",
           "#FF97FF",
           "#FECB52"
          ],
          "font": {
           "color": "#2a3f5f"
          },
          "geo": {
           "bgcolor": "white",
           "lakecolor": "white",
           "landcolor": "#E5ECF6",
           "showlakes": true,
           "showland": true,
           "subunitcolor": "white"
          },
          "hoverlabel": {
           "align": "left"
          },
          "hovermode": "closest",
          "mapbox": {
           "style": "light"
          },
          "paper_bgcolor": "white",
          "plot_bgcolor": "#E5ECF6",
          "polar": {
           "angularaxis": {
            "gridcolor": "white",
            "linecolor": "white",
            "ticks": ""
           },
           "bgcolor": "#E5ECF6",
           "radialaxis": {
            "gridcolor": "white",
            "linecolor": "white",
            "ticks": ""
           }
          },
          "scene": {
           "xaxis": {
            "backgroundcolor": "#E5ECF6",
            "gridcolor": "white",
            "gridwidth": 2,
            "linecolor": "white",
            "showbackground": true,
            "ticks": "",
            "zerolinecolor": "white"
           },
           "yaxis": {
            "backgroundcolor": "#E5ECF6",
            "gridcolor": "white",
            "gridwidth": 2,
            "linecolor": "white",
            "showbackground": true,
            "ticks": "",
            "zerolinecolor": "white"
           },
           "zaxis": {
            "backgroundcolor": "#E5ECF6",
            "gridcolor": "white",
            "gridwidth": 2,
            "linecolor": "white",
            "showbackground": true,
            "ticks": "",
            "zerolinecolor": "white"
           }
          },
          "shapedefaults": {
           "line": {
            "color": "#2a3f5f"
           }
          },
          "ternary": {
           "aaxis": {
            "gridcolor": "white",
            "linecolor": "white",
            "ticks": ""
           },
           "baxis": {
            "gridcolor": "white",
            "linecolor": "white",
            "ticks": ""
           },
           "bgcolor": "#E5ECF6",
           "caxis": {
            "gridcolor": "white",
            "linecolor": "white",
            "ticks": ""
           }
          },
          "title": {
           "x": 0.05
          },
          "xaxis": {
           "automargin": true,
           "gridcolor": "white",
           "linecolor": "white",
           "ticks": "",
           "title": {
            "standoff": 15
           },
           "zerolinecolor": "white",
           "zerolinewidth": 2
          },
          "yaxis": {
           "automargin": true,
           "gridcolor": "white",
           "linecolor": "white",
           "ticks": "",
           "title": {
            "standoff": 15
           },
           "zerolinecolor": "white",
           "zerolinewidth": 2
          }
         }
        },
        "xaxis": {
         "anchor": "y",
         "domain": [
          0,
          1
         ],
         "title": {
          "text": "Departamento"
         }
        },
        "yaxis": {
         "anchor": "x",
         "domain": [
          0,
          1
         ],
         "title": {
          "text": "Qtde_Vendida"
         }
        }
       }
      },
      "text/html": [
       "<div>                            <div id=\"69a43922-2046-4ddc-8e4d-f8521bc1285b\" class=\"plotly-graph-div\" style=\"height:525px; width:100%;\"></div>            <script type=\"text/javascript\">                require([\"plotly\"], function(Plotly) {                    window.PLOTLYENV=window.PLOTLYENV || {};                                    if (document.getElementById(\"69a43922-2046-4ddc-8e4d-f8521bc1285b\")) {                    Plotly.newPlot(                        \"69a43922-2046-4ddc-8e4d-f8521bc1285b\",                        [{\"alignmentgroup\":\"True\",\"hovertemplate\":\"Departamento=%{x}\\u003cbr\\u003eQtde_Vendida=%{y}\\u003cextra\\u003e\\u003c\\u002fextra\\u003e\",\"legendgroup\":\"\",\"marker\":{\"color\":\"#636efa\"},\"name\":\"\",\"notched\":false,\"offsetgroup\":\"\",\"orientation\":\"v\",\"showlegend\":false,\"x\":[\"0261:HOSIERY\",\"0634:VITAMINS & HLTH AIDS\",\"0879:PET SUPPLIES\",\"0973:CANDY\",\"0982:SPIRITS\",\"0983:WINE\",\"0991:TOBACCO\",\"0597:HEALTH AIDS\",\"0604:PERSONAL CARE\",\"0819:PRE-RECORDED A\\u002fV\",\"0826:SMALL ELECTRICS\",\"0982:SPIRITS\",\"0961:GENERAL GROCERIES\",\"0982:SPIRITS\",\"0982:SPIRITS\",\"0991:TOBACCO\",\"0879:PET SUPPLIES\",\"0982:SPIRITS\",\"0983:WINE\",\"0984:BEER\",\"0530:SCHOOL\\u002fOFFIC SUPP\",\"0597:HEALTH AIDS\",\"0601:VALUE ZONE\",\"0634:VITAMINS & HLTH AIDS\",\"0836:HOUSEHOLD CLEANING\",\"0593:PRESTIGE COSMETICS\",\"0597:HEALTH AIDS\",\"0598:BABY CARE\",\"0836:HOUSEHOLD CLEANING\",\"0965:PERISHABLES\",\"0973:CANDY\",\"0983:WINE\",\"0837:GENERAL HOUSEWARES\",\"0982:SPIRITS\",\"0879:PET SUPPLIES\",\"0973:CANDY\",\"0984:BEER\",\"0983:WINE\",\"0962:BEVERAGES\",\"0982:SPIRITS\",\"0982:SPIRITS\",\"0983:WINE\",\"0982:SPIRITS\",\"0638:GEN SPORTING GOODS\",\"0961:GENERAL GROCERIES\",\"0973:CANDY\",\"0991:TOBACCO\",\"0646:SEASONAL\",\"0991:TOBACCO\",\"0962:BEVERAGES\",\"0982:SPIRITS\",\"0983:WINE\",\"0982:SPIRITS\",\"0982:SPIRITS\",\"0983:WINE\",\"0962:BEVERAGES\",\"0982:SPIRITS\",\"0603:BEAUTY CARE\",\"0604:PERSONAL CARE\",\"0962:BEVERAGES\",\"0962:BEVERAGES\",\"0982:SPIRITS\",\"0962:BEVERAGES\",\"0071:BEAUTY RETAIL\",\"0603:BEAUTY CARE\",\"0795:HOME DECOR\",\"0982:SPIRITS\",\"0991:TOBACCO\",\"0603:BEAUTY CARE\",\"0604:PERSONAL CARE\",\"0638:GEN SPORTING GOODS\",\"0644:SPORTS NUTRITION\",\"0680:AUTOMOTIVE\",\"0961:GENERAL GROCERIES\",\"0962:BEVERAGES\",\"0973:CANDY\",\"0597:HEALTH AIDS\",\"0644:SPORTS NUTRITION\",\"0836:HOUSEHOLD CLEANING\",\"0836:HOUSEHOLD CLEANING\",\"0983:WINE\",\"0984:BEER\",\"0961:GENERAL GROCERIES\",\"0982:SPIRITS\",\"0962:BEVERAGES\",\"0982:SPIRITS\",\"0984:BEER\",\"0961:GENERAL GROCERIES\",\"0644:SPORTS NUTRITION\",\"0961:GENERAL GROCERIES\",\"0962:BEVERAGES\",\"0604:PERSONAL CARE\",\"0836:HOUSEHOLD CLEANING\",\"0983:WINE\",\"0280:FASHION ACCESSORIES\",\"0961:GENERAL GROCERIES\",\"0962:BEVERAGES\",\"0982:SPIRITS\",\"0982:SPIRITS\",\"0826:SMALL ELECTRICS\",\"0982:SPIRITS\",\"0984:BEER\",\"0991:TOBACCO\",\"0991:TOBACCO\",\"0836:HOUSEHOLD CLEANING\",\"0884:LAWN & GARDEN\",\"0991:TOBACCO\",\"0551:CAMERAS & EQUIP\",\"0597:HEALTH AIDS\",\"0834:COOKWARE\",\"0836:HOUSEHOLD CLEANING\",\"0532:AMERICAN GREETINGS\",\"0983:WINE\",\"0984:BEER\",\"0983:WINE\",\"0644:SPORTS NUTRITION\",\"0861:GENERAL HARDWARE\",\"0961:GENERAL GROCERIES\",\"0982:SPIRITS\",\"0983:WINE\",\"0961:GENERAL GROCERIES\",\"0962:BEVERAGES\",\"0646:SEASONAL\",\"0879:PET SUPPLIES\",\"0982:SPIRITS\",\"0983:WINE\",\"0984:BEER\",\"0991:TOBACCO\",\"0593:PRESTIGE COSMETICS\",\"0982:SPIRITS\",\"0984:BEER\",\"0991:TOBACCO\",\"0983:WINE\",\"0991:TOBACCO\",\"0532:AMERICAN GREETINGS\",\"0982:SPIRITS\",\"0983:WINE\",\"0982:SPIRITS\",\"0644:SPORTS NUTRITION\",\"0991:TOBACCO\",\"0962:BEVERAGES\",\"0982:SPIRITS\",\"0879:PET SUPPLIES\",\"0973:CANDY\",\"0991:TOBACCO\",\"0604:PERSONAL CARE\",\"0644:SPORTS NUTRITION\",\"0012:LOCAL GIFTS\\u002fFOODS\",\"0530:SCHOOL\\u002fOFFIC SUPP\",\"0532:AMERICAN GREETINGS\",\"0604:PERSONAL CARE\",\"0879:PET SUPPLIES\",\"0973:CANDY\",\"0983:WINE\",\"0644:SPORTS NUTRITION\",\"0962:BEVERAGES\",\"0991:TOBACCO\",\"0646:SEASONAL\",\"0982:SPIRITS\",\"0983:WINE\",\"0962:BEVERAGES\",\"0230:DAYWEAR\",\"0531:STATIONERY SUNDRIES\",\"0598:BABY CARE\",\"0983:WINE\",\"0646:SEASONAL\",\"0590:MASS COSMETICS\",\"0597:HEALTH AIDS\",\"0982:SPIRITS\",\"0983:WINE\",\"0983:WINE\",\"0071:BEAUTY RETAIL\",\"0646:SEASONAL\",\"0962:BEVERAGES\",\"0973:CANDY\",\"0982:SPIRITS\",\"0983:WINE\",\"0991:TOBACCO\",\"0879:PET SUPPLIES\",\"0836:HOUSEHOLD CLEANING\",\"0879:PET SUPPLIES\",\"0879:PET SUPPLIES\",\"0962:BEVERAGES\",\"0982:SPIRITS\",\"0603:BEAUTY CARE\",\"0680:AUTOMOTIVE\",\"0984:BEER\",\"0846:BATTERIES\",\"0961:GENERAL GROCERIES\",\"0962:BEVERAGES\",\"0973:CANDY\",\"0991:TOBACCO\",\"0961:GENERAL GROCERIES\",\"0973:CANDY\",\"0597:HEALTH AIDS\",\"0603:BEAUTY CARE\",\"0604:PERSONAL CARE\",\"0836:HOUSEHOLD CLEANING\",\"0983:WINE\",\"0343:MENS DENIM JEANS\",\"0879:PET SUPPLIES\",\"0597:HEALTH AIDS\",\"0982:SPIRITS\",\"0991:TOBACCO\",\"0589:SUNGLASSES\",\"0597:HEALTH AIDS\",\"0603:BEAUTY CARE\",\"0604:PERSONAL CARE\",\"0836:HOUSEHOLD CLEANING\",\"0879:PET SUPPLIES\",\"0884:LAWN & GARDEN\",\"0590:MASS COSMETICS\",\"0640:TOYS\",\"0962:BEVERAGES\",\"0973:CANDY\",\"0640:TOYS\",\"0646:SEASONAL\",\"0962:BEVERAGES\",\"0982:SPIRITS\",\"0982:SPIRITS\",\"0983:WINE\",\"0604:PERSONAL CARE\",\"0982:SPIRITS\",\"0597:HEALTH AIDS\",\"0846:BATTERIES\",\"0961:GENERAL GROCERIES\",\"0962:BEVERAGES\",\"0597:HEALTH AIDS\",\"0603:BEAUTY CARE\",\"0604:PERSONAL CARE\",\"0982:SPIRITS\",\"0984:BEER\",\"0991:TOBACCO\",\"0879:PET SUPPLIES\",\"0982:SPIRITS\",\"0991:TOBACCO\",\"0637:FISHING\",\"0597:HEALTH AIDS\",\"0604:PERSONAL CARE\",\"0836:HOUSEHOLD CLEANING\",\"0984:BEER\",\"0991:TOBACCO\",\"0982:SPIRITS\",\"0983:WINE\",\"0982:SPIRITS\",\"0984:BEER\",\"0597:HEALTH AIDS\",\"0861:GENERAL HARDWARE\",\"0962:BEVERAGES\",\"0982:SPIRITS\",\"0982:SPIRITS\",\"0982:SPIRITS\",\"0991:TOBACCO\",\"0836:HOUSEHOLD CLEANING\",\"0982:SPIRITS\",\"0991:TOBACCO\",\"0983:WINE\",\"0991:TOBACCO\",\"0991:TOBACCO\",\"0597:HEALTH AIDS\",\"0879:PET SUPPLIES\",\"0973:CANDY\",\"0822:THIRD PARTY GIFTCARD\",\"0879:PET SUPPLIES\",\"0991:TOBACCO\",\"0983:WINE\",\"0359:MENS ACCESSORIES\",\"0973:CANDY\",\"0645:BIKES\",\"0846:BATTERIES\",\"0982:SPIRITS\",\"0983:WINE\",\"0861:GENERAL HARDWARE\",\"0597:HEALTH AIDS\",\"0982:SPIRITS\",\"0983:WINE\",\"0861:GENERAL HARDWARE\",\"0836:HOUSEHOLD CLEANING\",\"0982:SPIRITS\",\"0991:TOBACCO\",\"0532:AMERICAN GREETINGS\",\"0603:BEAUTY CARE\",\"0638:GEN SPORTING GOODS\",\"0973:CANDY\",\"0982:SPIRITS\",\"0983:WINE\",\"0984:BEER\",\"0983:WINE\",\"0532:AMERICAN GREETINGS\",\"0640:TOYS\",\"0646:SEASONAL\",\"0879:PET SUPPLIES\",\"0541:BOOKS AND MAPS\",\"0973:CANDY\",\"0597:HEALTH AIDS\",\"0973:CANDY\",\"0983:WINE\",\"0984:BEER\",\"0861:GENERAL HARDWARE\",\"0638:GEN SPORTING GOODS\",\"0983:WINE\",\"0597:HEALTH AIDS\",\"0984:BEER\",\"0982:SPIRITS\",\"0982:SPIRITS\",\"0590:MASS COSMETICS\",\"0973:CANDY\",\"0982:SPIRITS\",\"0983:WINE\",\"0984:BEER\",\"0982:SPIRITS\",\"0983:WINE\",\"0884:LAWN & GARDEN\",\"0983:WINE\",\"0531:STATIONERY SUNDRIES\",\"0597:HEALTH AIDS\",\"0603:BEAUTY CARE\",\"0836:HOUSEHOLD CLEANING\",\"0879:PET SUPPLIES\",\"0973:CANDY\",\"0991:TOBACCO\",\"0879:PET SUPPLIES\",\"0982:SPIRITS\",\"0982:SPIRITS\",\"0991:TOBACCO\",\"0532:AMERICAN GREETINGS\",\"0836:HOUSEHOLD CLEANING\",\"0879:PET SUPPLIES\",\"0982:SPIRITS\",\"0991:TOBACCO\",\"0962:BEVERAGES\",\"0991:TOBACCO\",\"0982:SPIRITS\",\"0984:BEER\",\"0982:SPIRITS\",\"0991:TOBACCO\",\"0982:SPIRITS\",\"0991:TOBACCO\",\"0973:CANDY\",\"0982:SPIRITS\",\"0391:MENS SHOES\",\"0638:GEN SPORTING GOODS\",\"0644:SPORTS NUTRITION\",\"0973:CANDY\",\"0597:HEALTH AIDS\",\"0836:HOUSEHOLD CLEANING\",\"0646:SEASONAL\",\"0861:GENERAL HARDWARE\",\"0797:SEASONAL GIFTS\",\"0983:WINE\",\"0984:BEER\",\"0982:SPIRITS\",\"0991:TOBACCO\",\"0884:LAWN & GARDEN\",\"0982:SPIRITS\",\"0983:WINE\",\"0984:BEER\",\"0071:BEAUTY RETAIL\",\"0983:WINE\",\"0991:TOBACCO\",\"0826:SMALL ELECTRICS\",\"0973:CANDY\",\"0982:SPIRITS\",\"0983:WINE\",\"0991:TOBACCO\",\"0982:SPIRITS\",\"0991:TOBACCO\",\"0395:MENS ATHLETIC SHOES\",\"0961:GENERAL GROCERIES\",\"0982:SPIRITS\",\"0962:BEVERAGES\",\"0984:BEER\",\"0984:BEER\",\"0991:TOBACCO\",\"0110:LDS OUTERWEAR\\u002fOUTDR\",\"0240:SLEEPWEAR\\u002fLOUNGEWEAR\",\"0380:MENS ACTIVEWEAR\",\"0470:BOYS 8-20 CLOTHING\",\"0603:BEAUTY CARE\",\"0722:OUTDOOR LIVING\",\"0837:GENERAL HOUSEWARES\",\"0845:AS SEEN ON TV\",\"0982:SPIRITS\",\"0983:WINE\",\"0984:BEER\",\"0991:TOBACCO\",\"0879:PET SUPPLIES\",\"0991:TOBACCO\",\"0962:BEVERAGES\",\"0982:SPIRITS\",\"0879:PET SUPPLIES\",\"0982:SPIRITS\",\"0991:TOBACCO\",\"0836:HOUSEHOLD CLEANING\",\"0854:VIDEO GAMES\",\"0590:MASS COSMETICS\",\"0983:WINE\",\"0984:BEER\",\"0962:BEVERAGES\",\"0603:BEAUTY CARE\",\"0983:WINE\",\"0603:BEAUTY CARE\",\"0879:PET SUPPLIES\",\"0984:BEER\",\"0640:TOYS\",\"0645:BIKES\",\"0680:AUTOMOTIVE\",\"0879:PET SUPPLIES\",\"0991:TOBACCO\",\"0879:PET SUPPLIES\",\"0983:WINE\",\"0646:SEASONAL\",\"0836:HOUSEHOLD CLEANING\",\"0852:COMPUTER SOFTWARE\",\"0982:SPIRITS\",\"0973:CANDY\",\"0982:SPIRITS\",\"0983:WINE\",\"0991:TOBACCO\",\"0644:SPORTS NUTRITION\",\"0836:HOUSEHOLD CLEANING\",\"0597:HEALTH AIDS\",\"0604:PERSONAL CARE\",\"0961:GENERAL GROCERIES\",\"0962:BEVERAGES\",\"0982:SPIRITS\",\"0826:SMALL ELECTRICS\",\"0962:BEVERAGES\",\"0982:SPIRITS\",\"0984:BEER\",\"0991:TOBACCO\",\"0982:SPIRITS\",\"0982:SPIRITS\",\"0991:TOBACCO\",\"0983:WINE\",\"0879:PET SUPPLIES\",\"0530:SCHOOL\\u002fOFFIC SUPP\",\"0532:AMERICAN GREETINGS\",\"0644:SPORTS NUTRITION\",\"0962:BEVERAGES\",\"0973:CANDY\",\"0983:WINE\",\"0984:BEER\",\"0982:SPIRITS\",\"0597:HEALTH AIDS\",\"0644:SPORTS NUTRITION\",\"0961:GENERAL GROCERIES\",\"0982:SPIRITS\",\"0983:WINE\",\"0962:BEVERAGES\",\"0991:TOBACCO\",\"0982:SPIRITS\",\"0982:SPIRITS\",\"0983:WINE\",\"0962:BEVERAGES\",\"0982:SPIRITS\",\"0983:WINE\",\"0983:WINE\",\"0836:HOUSEHOLD CLEANING\",\"0962:BEVERAGES\",\"0973:CANDY\",\"0991:TOBACCO\",\"0836:HOUSEHOLD CLEANING\",\"0846:BATTERIES\",\"0982:SPIRITS\",\"0991:TOBACCO\",\"0973:CANDY\",\"0984:BEER\",\"0597:HEALTH AIDS\",\"0604:PERSONAL CARE\",\"0836:HOUSEHOLD CLEANING\",\"0961:GENERAL GROCERIES\",\"0962:BEVERAGES\",\"0973:CANDY\",\"0531:STATIONERY SUNDRIES\",\"0644:SPORTS NUTRITION\",\"0856:GLUES\\u002fTAPES\\u002fACC\",\"0982:SPIRITS\",\"0532:AMERICAN GREETINGS\",\"0962:BEVERAGES\",\"0846:BATTERIES\",\"0861:GENERAL HARDWARE\",\"0863:POWER EQUIPMENT\",\"0161:MISSY KAREN SCOTT\",\"0593:PRESTIGE COSMETICS\",\"0982:SPIRITS\",\"0983:WINE\",\"0961:GENERAL GROCERIES\",\"0984:BEER\",\"0879:PET SUPPLIES\",\"0982:SPIRITS\",\"0056:SOUVENIR\",\"0532:AMERICAN GREETINGS\",\"0603:BEAUTY CARE\",\"0646:SEASONAL\",\"0861:GENERAL HARDWARE\",\"0973:CANDY\",\"0982:SPIRITS\",\"0982:SPIRITS\",\"0983:WINE\",\"0380:MENS ACTIVEWEAR\",\"0982:SPIRITS\",\"0982:SPIRITS\",\"0991:TOBACCO\",\"0983:WINE\",\"0353:MENS OUTDOOR\",\"0597:HEALTH AIDS\",\"0604:PERSONAL CARE\",\"0982:SPIRITS\",\"0861:GENERAL HARDWARE\",\"0961:GENERAL GROCERIES\",\"0597:HEALTH AIDS\",\"0982:SPIRITS\",\"0836:HOUSEHOLD CLEANING\",\"0861:GENERAL HARDWARE\",\"0973:CANDY\",\"0982:SPIRITS\",\"0604:PERSONAL CARE\",\"0962:BEVERAGES\",\"0879:PET SUPPLIES\",\"0982:SPIRITS\",\"0984:BEER\",\"0640:TOYS\",\"0982:SPIRITS\",\"0983:WINE\",\"0604:PERSONAL CARE\",\"0639:TEAM SPORTING GOODS\",\"0961:GENERAL GROCERIES\",\"0982:SPIRITS\",\"0353:MENS OUTDOOR\",\"0644:SPORTS NUTRITION\",\"0646:SEASONAL\",\"0991:TOBACCO\",\"0962:BEVERAGES\",\"0982:SPIRITS\",\"0449:GIRLS ACCESSORIES\",\"0532:AMERICAN GREETINGS\",\"0597:HEALTH AIDS\",\"0838:FLOOR CARE\",\"0973:CANDY\",\"0983:WINE\",\"0982:SPIRITS\",\"0984:BEER\",\"0604:PERSONAL CARE\",\"0646:SEASONAL\",\"0973:CANDY\",\"0640:TOYS\",\"0983:WINE\",\"0982:SPIRITS\",\"0983:WINE\",\"0984:BEER\",\"0961:GENERAL GROCERIES\",\"0973:CANDY\",\"0604:PERSONAL CARE\",\"0991:TOBACCO\",\"0983:WINE\",\"0531:STATIONERY SUNDRIES\",\"0532:AMERICAN GREETINGS\",\"0982:SPIRITS\",\"0983:WINE\",\"0983:WINE\",\"0984:BEER\",\"0983:WINE\",\"0836:HOUSEHOLD CLEANING\",\"0982:SPIRITS\",\"0597:HEALTH AIDS\",\"0991:TOBACCO\",\"0879:PET SUPPLIES\",\"0884:LAWN & GARDEN\",\"0982:SPIRITS\",\"0984:BEER\",\"0982:SPIRITS\",\"0991:TOBACCO\",\"0984:BEER\",\"0991:TOBACCO\",\"0353:MENS OUTDOOR\",\"0380:MENS ACTIVEWEAR\",\"0982:SPIRITS\",\"0983:WINE\",\"0532:AMERICAN GREETINGS\",\"0597:HEALTH AIDS\",\"0961:GENERAL GROCERIES\",\"0962:BEVERAGES\",\"0983:WINE\",\"0982:SPIRITS\",\"0983:WINE\",\"0380:MENS ACTIVEWEAR\",\"0590:MASS COSMETICS\",\"0597:HEALTH AIDS\",\"0343:MENS DENIM JEANS\",\"0532:AMERICAN GREETINGS\",\"0722:OUTDOOR LIVING\",\"0973:CANDY\",\"0962:BEVERAGES\",\"0632:DIGITAL FITNESS\",\"0962:BEVERAGES\",\"0982:SPIRITS\",\"0983:WINE\",\"0532:AMERICAN GREETINGS\",\"0962:BEVERAGES\",\"0991:TOBACCO\",\"0639:TEAM SPORTING GOODS\",\"0991:TOBACCO\",\"0597:HEALTH AIDS\",\"0589:SUNGLASSES\",\"0597:HEALTH AIDS\",\"0638:GEN SPORTING GOODS\",\"0836:HOUSEHOLD CLEANING\",\"0961:GENERAL GROCERIES\",\"0984:BEER\",\"0991:TOBACCO\",\"0531:STATIONERY SUNDRIES\",\"0982:SPIRITS\",\"0644:SPORTS NUTRITION\",\"0646:SEASONAL\",\"0854:VIDEO GAMES\",\"0982:SPIRITS\",\"0982:SPIRITS\",\"0597:HEALTH AIDS\",\"0826:SMALL ELECTRICS\",\"0836:HOUSEHOLD CLEANING\",\"0845:AS SEEN ON TV\",\"0861:GENERAL HARDWARE\",\"0991:TOBACCO\",\"0640:TOYS\",\"0982:SPIRITS\",\"0984:BEER\",\"0884:LAWN & GARDEN\",\"0991:TOBACCO\",\"0532:AMERICAN GREETINGS\",\"0161:MISSY KAREN SCOTT\",\"0167:MISSY TOPS\",\"0261:HOSIERY\",\"0983:WINE\",\"0984:BEER\",\"0511:NAVY PRIDE SOFTLINES\",\"0603:BEAUTY CARE\",\"0836:HOUSEHOLD CLEANING\",\"0879:PET SUPPLIES\",\"0592:WMNS PRESTIGE FRAG\",\"0973:CANDY\",\"0879:PET SUPPLIES\",\"0836:HOUSEHOLD CLEANING\",\"0973:CANDY\",\"0982:SPIRITS\",\"0604:PERSONAL CARE\",\"0636:FITNESS\\u002fEXERCISE\",\"0879:PET SUPPLIES\",\"0597:HEALTH AIDS\",\"0962:BEVERAGES\",\"0601:VALUE ZONE\",\"0983:WINE\",\"0637:FISHING\",\"0640:TOYS\",\"0962:BEVERAGES\",\"0597:HEALTH AIDS\",\"0634:VITAMINS & HLTH AIDS\",\"0815:AUDIO ELECTRONICS\",\"0961:GENERAL GROCERIES\",\"0532:AMERICAN GREETINGS\",\"0639:TEAM SPORTING GOODS\",\"0991:TOBACCO\",\"0186:JUNIOR DRESSES\",\"0230:DAYWEAR\",\"0355:MENS SPORT SHIRTS\",\"0416:INFANT APPAREL\",\"0532:AMERICAN GREETINGS\",\"0837:GENERAL HOUSEWARES\",\"0846:BATTERIES\",\"0879:PET SUPPLIES\",\"0982:SPIRITS\",\"0984:BEER\",\"0982:SPIRITS\",\"0640:TOYS\",\"0645:BIKES\",\"0646:SEASONAL\",\"0982:SPIRITS\",\"0983:WINE\",\"0110:LDS OUTERWEAR\\u002fOUTDR\",\"0603:BEAUTY CARE\",\"0604:PERSONAL CARE\",\"0982:SPIRITS\",\"0634:VITAMINS & HLTH AIDS\",\"0982:SPIRITS\",\"0984:BEER\",\"0984:BEER\",\"0597:HEALTH AIDS\",\"0056:SOUVENIR\",\"0470:BOYS 8-20 CLOTHING\",\"0837:GENERAL HOUSEWARES\",\"0982:SPIRITS\",\"0815:AUDIO ELECTRONICS\",\"0634:VITAMINS & HLTH AIDS\",\"0644:SPORTS NUTRITION\",\"0962:BEVERAGES\",\"0973:CANDY\",\"0982:SPIRITS\",\"0982:SPIRITS\",\"0983:WINE\",\"0973:CANDY\",\"0982:SPIRITS\",\"0984:BEER\",\"0359:MENS ACCESSORIES\",\"0983:WINE\",\"0984:BEER\",\"0962:BEVERAGES\",\"0982:SPIRITS\",\"0597:HEALTH AIDS\",\"0961:GENERAL GROCERIES\",\"0983:WINE\",\"0961:GENERAL GROCERIES\",\"0962:BEVERAGES\",\"0982:SPIRITS\",\"0983:WINE\",\"0982:SPIRITS\",\"0982:SPIRITS\",\"0449:GIRLS ACCESSORIES\",\"0597:HEALTH AIDS\",\"0826:SMALL ELECTRICS\",\"0973:CANDY\",\"0982:SPIRITS\",\"0983:WINE\",\"0984:BEER\",\"0991:TOBACCO\",\"0646:SEASONAL\",\"0646:SEASONAL\",\"0861:GENERAL HARDWARE\",\"0002:BARBER RETAIL\",\"0071:BEAUTY RETAIL\",\"0983:WINE\",\"0836:HOUSEHOLD CLEANING\",\"0982:SPIRITS\",\"0597:HEALTH AIDS\",\"0603:BEAUTY CARE\",\"0604:PERSONAL CARE\",\"0991:TOBACCO\",\"0597:HEALTH AIDS\",\"0982:SPIRITS\",\"0983:WINE\",\"0961:GENERAL GROCERIES\",\"0962:BEVERAGES\",\"0973:CANDY\",\"0973:CANDY\",\"0597:HEALTH AIDS\",\"0603:BEAUTY CARE\",\"0597:HEALTH AIDS\",\"0603:BEAUTY CARE\",\"0973:CANDY\",\"0983:WINE\",\"0961:GENERAL GROCERIES\",\"0962:BEVERAGES\",\"0879:PET SUPPLIES\",\"0982:SPIRITS\",\"0983:WINE\",\"0984:BEER\",\"0603:BEAUTY CARE\",\"0604:PERSONAL CARE\",\"0961:GENERAL GROCERIES\",\"0962:BEVERAGES\",\"0983:WINE\",\"0640:TOYS\",\"0646:SEASONAL\",\"0861:GENERAL HARDWARE\",\"0879:PET SUPPLIES\",\"0999:UNSCANNED ITEMS\",\"0982:SPIRITS\",\"0983:WINE\",\"0644:SPORTS NUTRITION\",\"0983:WINE\",\"0983:WINE\",\"0071:BEAUTY RETAIL\",\"0532:AMERICAN GREETINGS\",\"0603:BEAUTY CARE\",\"0984:BEER\",\"0991:TOBACCO\",\"0837:GENERAL HOUSEWARES\",\"0962:BEVERAGES\",\"0983:WINE\",\"0984:BEER\",\"0071:BEAUTY RETAIL\",\"0530:SCHOOL\\u002fOFFIC SUPP\",\"0590:MASS COSMETICS\",\"0646:SEASONAL\",\"0973:CANDY\",\"0982:SPIRITS\",\"0359:MENS ACCESSORIES\",\"0962:BEVERAGES\",\"0973:CANDY\",\"0982:SPIRITS\",\"0961:GENERAL GROCERIES\",\"0962:BEVERAGES\",\"0982:SPIRITS\",\"0984:BEER\",\"0991:TOBACCO\",\"0604:PERSONAL CARE\",\"0646:SEASONAL\",\"0836:HOUSEHOLD CLEANING\",\"0962:BEVERAGES\",\"0973:CANDY\",\"0983:WINE\",\"0991:TOBACCO\",\"0991:TOBACCO\",\"0646:SEASONAL\",\"0982:SPIRITS\",\"0983:WINE\",\"0640:TOYS\",\"0884:LAWN & GARDEN\",\"0982:SPIRITS\",\"0983:WINE\",\"0991:TOBACCO\",\"0973:CANDY\",\"0984:BEER\",\"0604:PERSONAL CARE\",\"0343:MENS DENIM JEANS\",\"0360:MENS FURNISHINGS\",\"0369:YOUNG MENS\",\"0982:SPIRITS\",\"0983:WINE\",\"0632:DIGITAL FITNESS\",\"0636:FITNESS\\u002fEXERCISE\",\"0962:BEVERAGES\",\"0983:WINE\",\"0449:GIRLS ACCESSORIES\",\"0640:TOYS\",\"0797:SEASONAL GIFTS\",\"0879:PET SUPPLIES\",\"0982:SPIRITS\",\"0983:WINE\",\"0984:BEER\",\"0982:SPIRITS\",\"0984:BEER\",\"0982:SPIRITS\",\"0532:AMERICAN GREETINGS\",\"0604:PERSONAL CARE\",\"0640:TOYS\",\"0983:WINE\",\"0991:TOBACCO\",\"0982:SPIRITS\",\"0982:SPIRITS\",\"0983:WINE\",\"0984:BEER\",\"0879:PET SUPPLIES\",\"0982:SPIRITS\",\"0982:SPIRITS\",\"0071:BEAUTY RETAIL\",\"0603:BEAUTY CARE\",\"0879:PET SUPPLIES\",\"0973:CANDY\",\"0511:NAVY PRIDE SOFTLINES\",\"0982:SPIRITS\",\"0984:BEER\",\"0982:SPIRITS\",\"0982:SPIRITS\",\"0983:WINE\",\"0983:WINE\",\"0604:PERSONAL CARE\",\"0879:PET SUPPLIES\",\"0983:WINE\",\"0984:BEER\",\"0991:TOBACCO\",\"0983:WINE\",\"0973:CANDY\",\"0982:SPIRITS\",\"0983:WINE\",\"0984:BEER\",\"0597:HEALTH AIDS\",\"0603:BEAUTY CARE\",\"0634:VITAMINS & HLTH AIDS\",\"0836:HOUSEHOLD CLEANING\",\"0879:PET SUPPLIES\",\"0360:MENS FURNISHINGS\",\"0833:TABLETOP\",\"0837:GENERAL HOUSEWARES\",\"0839:HOME ORG\\u002fSOLUTIONS\",\"0931:BATH\",\"0941:BEDDING\",\"0982:SPIRITS\",\"0991:TOBACCO\",\"0962:BEVERAGES\",\"0982:SPIRITS\",\"0982:SPIRITS\",\"0597:HEALTH AIDS\",\"0603:BEAUTY CARE\",\"0604:PERSONAL CARE\",\"0982:SPIRITS\",\"0983:WINE\",\"0638:GEN SPORTING GOODS\",\"0597:HEALTH AIDS\",\"0982:SPIRITS\",\"0983:WINE\",\"0962:BEVERAGES\",\"0884:LAWN & GARDEN\",\"0982:SPIRITS\",\"0984:BEER\",\"0962:BEVERAGES\",\"0982:SPIRITS\",\"0983:WINE\",\"0984:BEER\",\"0360:MENS FURNISHINGS\",\"0982:SPIRITS\",\"0983:WINE\",\"0982:SPIRITS\",\"0991:TOBACCO\",\"0836:HOUSEHOLD CLEANING\",\"0861:GENERAL HARDWARE\",\"0973:CANDY\",\"0983:WINE\",\"0984:BEER\",\"0982:SPIRITS\",\"0962:BEVERAGES\",\"0982:SPIRITS\",\"0984:BEER\",\"0604:PERSONAL CARE\",\"0991:TOBACCO\",\"0961:GENERAL GROCERIES\",\"0991:TOBACCO\",\"0982:SPIRITS\",\"0973:CANDY\",\"0982:SPIRITS\",\"0597:HEALTH AIDS\",\"0603:BEAUTY CARE\",\"0680:AUTOMOTIVE\",\"0856:GLUES\\u002fTAPES\\u002fACC\",\"0879:PET SUPPLIES\",\"0962:BEVERAGES\",\"0646:SEASONAL\",\"0879:PET SUPPLIES\",\"0962:BEVERAGES\",\"0856:GLUES\\u002fTAPES\\u002fACC\",\"0879:PET SUPPLIES\",\"0597:HEALTH AIDS\",\"0982:SPIRITS\",\"0983:WINE\",\"0984:BEER\",\"0597:HEALTH AIDS\",\"0604:PERSONAL CARE\",\"0636:FITNESS\\u002fEXERCISE\",\"0961:GENERAL GROCERIES\",\"0983:WINE\",\"0632:DIGITAL FITNESS\",\"0640:TOYS\",\"0973:CANDY\",\"0983:WINE\",\"0982:SPIRITS\",\"0984:BEER\",\"0395:MENS ATHLETIC SHOES\",\"0597:HEALTH AIDS\",\"0603:BEAUTY CARE\",\"0982:SPIRITS\",\"0983:WINE\",\"0984:BEER\",\"0530:SCHOOL\\u002fOFFIC SUPP\",\"0646:SEASONAL\",\"0822:THIRD PARTY GIFTCARD\",\"0973:CANDY\",\"0983:WINE\",\"0991:TOBACCO\",\"0646:SEASONAL\",\"0597:HEALTH AIDS\",\"0973:CANDY\",\"0982:SPIRITS\",\"0983:WINE\",\"0597:HEALTH AIDS\",\"0603:BEAUTY CARE\",\"0962:BEVERAGES\",\"0982:SPIRITS\",\"0984:BEER\",\"0991:TOBACCO\",\"0638:GEN SPORTING GOODS\",\"0836:HOUSEHOLD CLEANING\",\"0532:AMERICAN GREETINGS\",\"0640:TOYS\",\"0962:BEVERAGES\",\"0983:WINE\",\"0984:BEER\",\"0991:TOBACCO\",\"0962:BEVERAGES\",\"0983:WINE\",\"0982:SPIRITS\",\"0984:BEER\",\"0982:SPIRITS\",\"0984:BEER\",\"0603:BEAUTY CARE\",\"0879:PET SUPPLIES\",\"0962:BEVERAGES\",\"0973:CANDY\",\"0884:LAWN & GARDEN\",\"0640:TOYS\",\"0984:BEER\",\"0416:INFANT APPAREL\",\"0585:WATCHES\",\"0837:GENERAL HOUSEWARES\",\"0984:BEER\",\"0638:GEN SPORTING GOODS\",\"0991:TOBACCO\",\"0961:GENERAL GROCERIES\",\"0973:CANDY\",\"0982:SPIRITS\",\"0593:PRESTIGE COSMETICS\",\"0603:BEAUTY CARE\",\"0644:SPORTS NUTRITION\",\"0646:SEASONAL\",\"0879:PET SUPPLIES\",\"0636:FITNESS\\u002fEXERCISE\",\"0636:FITNESS\\u002fEXERCISE\",\"0099:MISC CUSTOM SERVICES\",\"0991:TOBACCO\",\"0991:TOBACCO\",\"0449:GIRLS ACCESSORIES\",\"0640:TOYS\",\"0982:SPIRITS\",\"0983:WINE\",\"0984:BEER\",\"0982:SPIRITS\",\"0836:HOUSEHOLD CLEANING\",\"0961:GENERAL GROCERIES\",\"0973:CANDY\",\"0991:TOBACCO\",\"0983:WINE\",\"0991:TOBACCO\",\"0640:TOYS\",\"0646:SEASONAL\",\"0961:GENERAL GROCERIES\",\"0982:SPIRITS\",\"0982:SPIRITS\",\"0879:PET SUPPLIES\",\"0982:SPIRITS\",\"0991:TOBACCO\",\"0961:GENERAL GROCERIES\",\"0962:BEVERAGES\",\"0879:PET SUPPLIES\",\"0984:BEER\",\"0644:SPORTS NUTRITION\",\"0836:HOUSEHOLD CLEANING\",\"0973:CANDY\",\"0646:SEASONAL\",\"0983:WINE\",\"0033:VENDING RETAIL\",\"0962:BEVERAGES\",\"0982:SPIRITS\",\"0962:BEVERAGES\",\"0983:WINE\",\"0984:BEER\",\"0984:BEER\",\"0597:HEALTH AIDS\",\"0603:BEAUTY CARE\",\"0836:HOUSEHOLD CLEANING\",\"0532:AMERICAN GREETINGS\",\"0636:FITNESS\\u002fEXERCISE\",\"0833:TABLETOP\",\"0837:GENERAL HOUSEWARES\",\"0983:WINE\",\"0984:BEER\",\"0879:PET SUPPLIES\",\"0982:SPIRITS\",\"0984:BEER\",\"0982:SPIRITS\",\"0597:HEALTH AIDS\",\"0836:HOUSEHOLD CLEANING\",\"0962:BEVERAGES\",\"0983:WINE\",\"0984:BEER\",\"0879:PET SUPPLIES\",\"0982:SPIRITS\",\"0984:BEER\",\"0982:SPIRITS\",\"0982:SPIRITS\",\"0961:GENERAL GROCERIES\",\"0962:BEVERAGES\",\"0983:WINE\",\"0644:SPORTS NUTRITION\",\"0982:SPIRITS\",\"0983:WINE\",\"0983:WINE\",\"0982:SPIRITS\",\"0991:TOBACCO\",\"0879:PET SUPPLIES\",\"0982:SPIRITS\",\"0836:HOUSEHOLD CLEANING\",\"0982:SPIRITS\",\"0983:WINE\",\"0879:PET SUPPLIES\",\"0991:TOBACCO\",\"0982:SPIRITS\",\"0984:BEER\",\"0590:MASS COSMETICS\",\"0597:HEALTH AIDS\",\"0603:BEAUTY CARE\",\"0879:PET SUPPLIES\",\"0983:WINE\",\"0982:SPIRITS\",\"0601:VALUE ZONE\",\"0983:WINE\",\"0984:BEER\",\"0380:MENS ACTIVEWEAR\",\"0941:BEDDING\",\"0973:CANDY\",\"0982:SPIRITS\",\"0597:HEALTH AIDS\",\"0604:PERSONAL CARE\",\"0797:SEASONAL GIFTS\",\"0991:TOBACCO\",\"0983:WINE\",\"0597:HEALTH AIDS\",\"0836:HOUSEHOLD CLEANING\",\"0962:BEVERAGES\",\"0982:SPIRITS\",\"0961:GENERAL GROCERIES\",\"0962:BEVERAGES\",\"0597:HEALTH AIDS\",\"0836:HOUSEHOLD CLEANING\",\"0961:GENERAL GROCERIES\",\"0982:SPIRITS\",\"0532:AMERICAN GREETINGS\",\"0597:HEALTH AIDS\",\"0634:VITAMINS & HLTH AIDS\",\"0836:HOUSEHOLD CLEANING\",\"0984:BEER\",\"0836:HOUSEHOLD CLEANING\",\"0961:GENERAL GROCERIES\",\"0973:CANDY\",\"0826:SMALL ELECTRICS\",\"0836:HOUSEHOLD CLEANING\",\"0879:PET SUPPLIES\",\"0230:DAYWEAR\",\"0597:HEALTH AIDS\",\"0644:SPORTS NUTRITION\",\"0071:BEAUTY RETAIL\",\"0532:AMERICAN GREETINGS\",\"0590:MASS COSMETICS\",\"0593:PRESTIGE COSMETICS\",\"0595:HOME\\u002fBATH\",\"0603:BEAUTY CARE\",\"0982:SPIRITS\",\"0983:WINE\",\"0532:AMERICAN GREETINGS\",\"0884:LAWN & GARDEN\",\"0982:SPIRITS\",\"0983:WINE\",\"0161:MISSY KAREN SCOTT\",\"0962:BEVERAGES\",\"0973:CANDY\",\"0984:BEER\",\"0879:PET SUPPLIES\",\"0590:MASS COSMETICS\",\"0603:BEAUTY CARE\",\"0962:BEVERAGES\",\"0973:CANDY\",\"0634:VITAMINS & HLTH AIDS\",\"0982:SPIRITS\",\"0984:BEER\",\"0962:BEVERAGES\",\"0982:SPIRITS\",\"0991:TOBACCO\",\"0597:HEALTH AIDS\",\"0836:HOUSEHOLD CLEANING\",\"0982:SPIRITS\",\"0178:DENIM COLLECTIONS\",\"0295:WOMENS ATHLTIC SHOES\",\"0360:MENS FURNISHINGS\",\"0369:YOUNG MENS\",\"0962:BEVERAGES\",\"0973:CANDY\",\"0982:SPIRITS\",\"0983:WINE\",\"0130:JUNIORS SURF\",\"0179:MODERATE DENIM\",\"0369:YOUNG MENS\",\"0440:GIRLS 7-16 CLOTHING\",\"0603:BEAUTY CARE\",\"0962:BEVERAGES\",\"0982:SPIRITS\",\"0991:TOBACCO\",\"0161:MISSY KAREN SCOTT\",\"0271:HANDBAGS\",\"0280:FASHION ACCESSORIES\",\"0360:MENS FURNISHINGS\",\"0380:MENS ACTIVEWEAR\",\"0590:MASS COSMETICS\",\"0644:SPORTS NUTRITION\",\"0646:SEASONAL\",\"0861:GENERAL HARDWARE\",\"0973:CANDY\",\"0982:SPIRITS\",\"0983:WINE\",\"0597:HEALTH AIDS\",\"0822:THIRD PARTY GIFTCARD\",\"0983:WINE\",\"0510:NAVY PRIDE HARDLINES\",\"0585:WATCHES\",\"0604:PERSONAL CARE\",\"0982:SPIRITS\",\"0640:TOYS\",\"0984:BEER\",\"0961:GENERAL GROCERIES\",\"0973:CANDY\",\"0973:CANDY\",\"0597:HEALTH AIDS\",\"0836:HOUSEHOLD CLEANING\",\"0597:HEALTH AIDS\",\"0983:WINE\",\"0983:WINE\",\"0984:BEER\",\"0603:BEAUTY CARE\",\"0973:CANDY\",\"0861:GENERAL HARDWARE\",\"0604:PERSONAL CARE\",\"0640:TOYS\",\"0836:HOUSEHOLD CLEANING\",\"0984:BEER\",\"0879:PET SUPPLIES\",\"0532:AMERICAN GREETINGS\",\"0590:MASS COSMETICS\",\"0593:PRESTIGE COSMETICS\",\"0640:TOYS\",\"0360:MENS FURNISHINGS\",\"0836:HOUSEHOLD CLEANING\",\"0879:PET SUPPLIES\",\"0982:SPIRITS\",\"0982:SPIRITS\",\"0982:SPIRITS\",\"0991:TOBACCO\",\"0991:TOBACCO\",\"0962:BEVERAGES\",\"0973:CANDY\",\"0984:BEER\",\"0962:BEVERAGES\",\"0982:SPIRITS\",\"0983:WINE\",\"0983:WINE\",\"0982:SPIRITS\",\"0984:BEER\",\"0982:SPIRITS\",\"0984:BEER\",\"0634:VITAMINS & HLTH AIDS\",\"0991:TOBACCO\",\"0836:HOUSEHOLD CLEANING\",\"0360:MENS FURNISHINGS\",\"0391:MENS SHOES\",\"0973:CANDY\",\"0590:MASS COSMETICS\",\"0982:SPIRITS\",\"0962:BEVERAGES\",\"0391:MENS SHOES\",\"0597:HEALTH AIDS\",\"0604:PERSONAL CARE\",\"0836:HOUSEHOLD CLEANING\",\"0962:BEVERAGES\",\"0644:SPORTS NUTRITION\",\"0861:GENERAL HARDWARE\",\"0962:BEVERAGES\",\"0984:BEER\",\"0646:SEASONAL\",\"0826:SMALL ELECTRICS\",\"0991:TOBACCO\",\"0982:SPIRITS\",\"0984:BEER\",\"0531:STATIONERY SUNDRIES\",\"0962:BEVERAGES\",\"0982:SPIRITS\",\"0983:WINE\",\"0991:TOBACCO\",\"0411:PEGABLES\",\"0415:NEWBORN APPAREL\",\"0598:BABY CARE\",\"0604:PERSONAL CARE\",\"0836:HOUSEHOLD CLEANING\",\"0879:PET SUPPLIES\",\"0982:SPIRITS\",\"0984:BEER\",\"0638:GEN SPORTING GOODS\",\"0836:HOUSEHOLD CLEANING\",\"0961:GENERAL GROCERIES\",\"0965:PERISHABLES\",\"0982:SPIRITS\",\"0984:BEER\",\"0991:TOBACCO\",\"0879:PET SUPPLIES\",\"0982:SPIRITS\",\"0991:TOBACCO\",\"0962:BEVERAGES\",\"0982:SPIRITS\",\"0991:TOBACCO\",\"0597:HEALTH AIDS\",\"0604:PERSONAL CARE\",\"0836:HOUSEHOLD CLEANING\",\"0962:BEVERAGES\",\"0965:PERISHABLES\",\"0982:SPIRITS\",\"0962:BEVERAGES\",\"0982:SPIRITS\",\"0991:TOBACCO\",\"0879:PET SUPPLIES\",\"0597:HEALTH AIDS\",\"0604:PERSONAL CARE\",\"0836:HOUSEHOLD CLEANING\",\"0961:GENERAL GROCERIES\",\"0597:HEALTH AIDS\",\"0991:TOBACCO\",\"0644:SPORTS NUTRITION\",\"0984:BEER\",\"0982:SPIRITS\",\"0850:PC HDWR & OFFICE EQP\",\"0984:BEER\",\"0603:BEAUTY CARE\",\"0532:AMERICAN GREETINGS\",\"0595:HOME\\u002fBATH\",\"0983:WINE\",\"0597:HEALTH AIDS\",\"0604:PERSONAL CARE\",\"0962:BEVERAGES\",\"0982:SPIRITS\",\"0982:SPIRITS\",\"0984:BEER\",\"0836:HOUSEHOLD CLEANING\",\"0603:BEAUTY CARE\",\"0604:PERSONAL CARE\",\"0962:BEVERAGES\",\"0982:SPIRITS\",\"0440:GIRLS 7-16 CLOTHING\",\"0646:SEASONAL\",\"0962:BEVERAGES\",\"0359:MENS ACCESSORIES\",\"0597:HEALTH AIDS\",\"0604:PERSONAL CARE\",\"0634:VITAMINS & HLTH AIDS\",\"0836:HOUSEHOLD CLEANING\",\"0982:SPIRITS\",\"0991:TOBACCO\",\"0639:TEAM SPORTING GOODS\",\"0991:TOBACCO\",\"0797:SEASONAL GIFTS\",\"0982:SPIRITS\",\"0982:SPIRITS\",\"0982:SPIRITS\",\"0991:TOBACCO\",\"0991:TOBACCO\",\"0597:HEALTH AIDS\",\"0604:PERSONAL CARE\",\"0982:SPIRITS\",\"0597:HEALTH AIDS\",\"0604:PERSONAL CARE\",\"0836:HOUSEHOLD CLEANING\",\"0597:HEALTH AIDS\",\"0973:CANDY\",\"0597:HEALTH AIDS\",\"0984:BEER\",\"0590:MASS COSMETICS\",\"0604:PERSONAL CARE\",\"0982:SPIRITS\",\"0982:SPIRITS\",\"0991:TOBACCO\",\"0604:PERSONAL CARE\",\"0596:MENS PRESTIGE FRAG\",\"0640:TOYS\",\"0645:BIKES\",\"0554:TELECOMMUNICATIONS\",\"0859:iPAD\",\"0982:SPIRITS\",\"0984:BEER\",\"0984:BEER\",\"0598:BABY CARE\",\"0603:BEAUTY CARE\",\"0604:PERSONAL CARE\",\"0961:GENERAL GROCERIES\",\"0984:BEER\",\"0962:BEVERAGES\",\"0982:SPIRITS\",\"0640:TOYS\",\"0982:SPIRITS\",\"0991:TOBACCO\",\"0982:SPIRITS\",\"0879:PET SUPPLIES\",\"0983:WINE\",\"0597:HEALTH AIDS\",\"0644:SPORTS NUTRITION\",\"0973:CANDY\",\"0991:TOBACCO\",\"0962:BEVERAGES\",\"0982:SPIRITS\",\"0597:HEALTH AIDS\",\"0836:HOUSEHOLD CLEANING\",\"0961:GENERAL GROCERIES\",\"0982:SPIRITS\",\"0962:BEVERAGES\",\"0982:SPIRITS\",\"0991:TOBACCO\",\"0597:HEALTH AIDS\",\"0984:BEER\",\"0991:TOBACCO\",\"0826:SMALL ELECTRICS\",\"0879:PET SUPPLIES\",\"0639:TEAM SPORTING GOODS\",\"0983:WINE\",\"0597:HEALTH AIDS\",\"0962:BEVERAGES\",\"0982:SPIRITS\",\"0973:CANDY\",\"0982:SPIRITS\",\"0797:SEASONAL GIFTS\",\"0973:CANDY\",\"0982:SPIRITS\",\"0984:BEER\",\"0644:SPORTS NUTRITION\",\"0982:SPIRITS\",\"0597:HEALTH AIDS\",\"0603:BEAUTY CARE\",\"0604:PERSONAL CARE\",\"0836:HOUSEHOLD CLEANING\",\"0961:GENERAL GROCERIES\",\"0962:BEVERAGES\",\"0973:CANDY\",\"0982:SPIRITS\",\"0532:AMERICAN GREETINGS\",\"0604:PERSONAL CARE\",\"0879:PET SUPPLIES\",\"0991:TOBACCO\",\"0837:GENERAL HOUSEWARES\",\"0983:WINE\",\"0597:HEALTH AIDS\",\"0604:PERSONAL CARE\",\"0836:HOUSEHOLD CLEANING\",\"0962:BEVERAGES\",\"0982:SPIRITS\",\"0983:WINE\",\"0360:MENS FURNISHINGS\",\"0973:CANDY\",\"0173:JUNIOR BOTTOMS\",\"0178:DENIM COLLECTIONS\",\"0638:GEN SPORTING GOODS\",\"0380:MENS ACTIVEWEAR\",\"0879:PET SUPPLIES\",\"0991:TOBACCO\",\"0931:BATH\",\"0961:GENERAL GROCERIES\",\"0931:BATH\",\"0961:GENERAL GROCERIES\",\"0962:BEVERAGES\",\"0589:SUNGLASSES\",\"0593:PRESTIGE COSMETICS\",\"0595:HOME\\u002fBATH\",\"0961:GENERAL GROCERIES\",\"0962:BEVERAGES\",\"0973:CANDY\",\"0530:SCHOOL\\u002fOFFIC SUPP\",\"0982:SPIRITS\",\"0991:TOBACCO\",\"0836:HOUSEHOLD CLEANING\",\"0961:GENERAL GROCERIES\",\"0533:PAPYRUS\",\"0590:MASS COSMETICS\",\"0982:SPIRITS\",\"0983:WINE\",\"0359:MENS ACCESSORIES\",\"0826:SMALL ELECTRICS\",\"0836:HOUSEHOLD CLEANING\",\"0822:THIRD PARTY GIFTCARD\",\"0962:BEVERAGES\",\"0984:BEER\",\"0991:TOBACCO\",\"0353:MENS OUTDOOR\",\"0593:PRESTIGE COSMETICS\",\"0879:PET SUPPLIES\",\"0597:HEALTH AIDS\",\"0604:PERSONAL CARE\",\"0984:BEER\",\"0291:WOMENS FTWR:DRS\\u002fCAS\",\"0797:SEASONAL GIFTS\",\"0193:LADIES ACTIVEWEAR\",\"0595:HOME\\u002fBATH\",\"0815:AUDIO ELECTRONICS\",\"0837:GENERAL HOUSEWARES\",\"0554:TELECOMMUNICATIONS\",\"0597:HEALTH AIDS\",\"0638:GEN SPORTING GOODS\",\"0002:BARBER RETAIL\",\"0532:AMERICAN GREETINGS\",\"0646:SEASONAL\",\"0973:CANDY\",\"0962:BEVERAGES\",\"0973:CANDY\",\"0991:TOBACCO\",\"0421:TODDLER GIRL APPAREL\",\"0826:SMALL ELECTRICS\",\"0941:BEDDING\",\"0973:CANDY\",\"0991:TOBACCO\",\"0822:THIRD PARTY GIFTCARD\",\"0991:TOBACCO\",\"0353:MENS OUTDOOR\",\"0415:NEWBORN APPAREL\",\"0640:TOYS\",\"0646:SEASONAL\",\"0962:BEVERAGES\",\"0973:CANDY\",\"0991:TOBACCO\",\"0596:MENS PRESTIGE FRAG\",\"0240:SLEEPWEAR\\u002fLOUNGEWEAR\",\"0440:GIRLS 7-16 CLOTHING\",\"0470:BOYS 8-20 CLOTHING\",\"0982:SPIRITS\",\"0991:TOBACCO\",\"0530:SCHOOL\\u002fOFFIC SUPP\",\"0585:WATCHES\",\"0240:SLEEPWEAR\\u002fLOUNGEWEAR\",\"0261:HOSIERY\",\"0530:SCHOOL\\u002fOFFIC SUPP\",\"0532:AMERICAN GREETINGS\",\"0603:BEAUTY CARE\",\"0795:HOME DECOR\",\"0973:CANDY\",\"0991:TOBACCO\",\"0973:CANDY\",\"0597:HEALTH AIDS\",\"0597:HEALTH AIDS\",\"0604:PERSONAL CARE\",\"0638:GEN SPORTING GOODS\",\"0991:TOBACCO\",\"0973:CANDY\",\"0797:SEASONAL GIFTS\",\"0991:TOBACCO\",\"0530:SCHOOL\\u002fOFFIC SUPP\",\"0837:GENERAL HOUSEWARES\",\"0343:MENS DENIM JEANS\",\"0391:MENS SHOES\",\"0395:MENS ATHLETIC SHOES\",\"0646:SEASONAL\",\"0962:BEVERAGES\",\"0973:CANDY\",\"0991:TOBACCO\",\"0310:MENS OUTERWEAR\",\"0343:MENS DENIM JEANS\",\"0354:MENS MODERN COLLECT\",\"0962:BEVERAGES\",\"0973:CANDY\",\"0962:BEVERAGES\",\"0982:SPIRITS\",\"0984:BEER\",\"0991:TOBACCO\",\"0261:HOSIERY\",\"0816:VIDEO ELECTRONICS\",\"0826:SMALL ELECTRICS\",\"0962:BEVERAGES\",\"0973:CANDY\",\"0991:TOBACCO\",\"0343:MENS DENIM JEANS\",\"0353:MENS OUTDOOR\",\"0638:GEN SPORTING GOODS\",\"0532:AMERICAN GREETINGS\",\"0590:MASS COSMETICS\",\"0603:BEAUTY CARE\",\"0961:GENERAL GROCERIES\",\"0962:BEVERAGES\",\"0973:CANDY\",\"0983:WINE\",\"0962:BEVERAGES\",\"0982:SPIRITS\",\"0983:WINE\",\"0984:BEER\",\"0973:CANDY\",\"0973:CANDY\",\"0163:JUNIOR TOPS\",\"0826:SMALL ELECTRICS\",\"0291:WOMENS FTWR:DRS\\u002fCAS\",\"0320:MNS TAILORED CLOTHNG\",\"0340:MENS CASUAL SLACKS\",\"0358:MENS DRESS SHIRTS\",\"0359:MENS ACCESSORIES\",\"0593:PRESTIGE COSMETICS\",\"0991:TOBACCO\",\"0962:BEVERAGES\",\"0240:SLEEPWEAR\\u002fLOUNGEWEAR\",\"0486:CHILDRENS FOOTWEAR\",\"0532:AMERICAN GREETINGS\",\"0597:HEALTH AIDS\",\"0983:WINE\",\"0188:STYLE & CO\",\"0593:PRESTIGE COSMETICS\",\"0597:HEALTH AIDS\",\"0604:PERSONAL CARE\",\"0836:HOUSEHOLD CLEANING\",\"0991:TOBACCO\",\"0182:CLASSIC COLLECTIONS\",\"0343:MENS DENIM JEANS\",\"0411:PEGABLES\",\"0415:NEWBORN APPAREL\",\"0416:INFANT APPAREL\",\"0426:TODDLER BOY APPAREL\",\"0360:MENS FURNISHINGS\",\"0532:AMERICAN GREETINGS\",\"0604:PERSONAL CARE\",\"0797:SEASONAL GIFTS\",\"0822:THIRD PARTY GIFTCARD\",\"0837:GENERAL HOUSEWARES\",\"0838:FLOOR CARE\",\"0638:GEN SPORTING GOODS\",\"0167:MISSY TOPS\",\"0603:BEAUTY CARE\",\"0604:PERSONAL CARE\",\"0991:TOBACCO\",\"0991:TOBACCO\",\"0595:HOME\\u002fBATH\",\"0603:BEAUTY CARE\",\"0360:MENS FURNISHINGS\",\"0368:TRAD COLLECTIONS\",\"0991:TOBACCO\",\"0359:MENS ACCESSORIES\",\"0360:MENS FURNISHINGS\",\"0590:MASS COSMETICS\",\"0839:HOME ORG\\u002fSOLUTIONS\",\"0856:GLUES\\u002fTAPES\\u002fACC\",\"0879:PET SUPPLIES\",\"0931:BATH\",\"0604:PERSONAL CARE\",\"0961:GENERAL GROCERIES\",\"0604:PERSONAL CARE\",\"0604:PERSONAL CARE\",\"0962:BEVERAGES\",\"0449:GIRLS ACCESSORIES\",\"0639:TEAM SPORTING GOODS\",\"0962:BEVERAGES\",\"0965:PERISHABLES\",\"0597:HEALTH AIDS\",\"0991:TOBACCO\",\"0991:TOBACCO\",\"0240:SLEEPWEAR\\u002fLOUNGEWEAR\",\"0469:BOYS ACCESSORIES\",\"0470:BOYS 8-20 CLOTHING\",\"0597:HEALTH AIDS\",\"0604:PERSONAL CARE\",\"0640:TOYS\",\"0836:HOUSEHOLD CLEANING\",\"0846:BATTERIES\",\"0879:PET SUPPLIES\",\"0973:CANDY\",\"0836:HOUSEHOLD CLEANING\",\"0597:HEALTH AIDS\",\"0598:BABY CARE\",\"0836:HOUSEHOLD CLEANING\",\"0861:GENERAL HARDWARE\",\"0961:GENERAL GROCERIES\",\"0962:BEVERAGES\",\"0991:TOBACCO\",\"0469:BOYS ACCESSORIES\",\"0470:BOYS 8-20 CLOTHING\",\"0973:CANDY\",\"0646:SEASONAL\",\"0680:AUTOMOTIVE\",\"0861:GENERAL HARDWARE\",\"0879:PET SUPPLIES\",\"0991:TOBACCO\",\"0161:MISSY KAREN SCOTT\",\"0182:CLASSIC COLLECTIONS\",\"0240:SLEEPWEAR\\u002fLOUNGEWEAR\",\"0531:STATIONERY SUNDRIES\",\"0597:HEALTH AIDS\",\"0603:BEAUTY CARE\",\"0826:SMALL ELECTRICS\",\"0836:HOUSEHOLD CLEANING\",\"0884:LAWN & GARDEN\",\"0983:WINE\",\"0358:MENS DRESS SHIRTS\",\"0359:MENS ACCESSORIES\",\"0991:TOBACCO\",\"0541:BOOKS AND MAPS\",\"0962:BEVERAGES\",\"0973:CANDY\",\"0593:PRESTIGE COSMETICS\",\"0604:PERSONAL CARE\",\"0646:SEASONAL\",\"0603:BEAUTY CARE\",\"0638:GEN SPORTING GOODS\",\"0836:HOUSEHOLD CLEANING\",\"0846:BATTERIES\",\"0532:AMERICAN GREETINGS\",\"0822:THIRD PARTY GIFTCARD\",\"0291:WOMENS FTWR:DRS\\u002fCAS\",\"0991:TOBACCO\",\"0540:PERIODICALS\\u002fCOMICS\",\"0983:WINE\",\"0991:TOBACCO\",\"0359:MENS ACCESSORIES\",\"0604:PERSONAL CARE\",\"0973:CANDY\",\"0585:WATCHES\",\"0854:VIDEO GAMES\",\"0962:BEVERAGES\",\"0486:CHILDRENS FOOTWEAR\",\"0598:BABY CARE\",\"0603:BEAUTY CARE\",\"0604:PERSONAL CARE\",\"0991:TOBACCO\",\"0595:HOME\\u002fBATH\",\"0991:TOBACCO\",\"0644:SPORTS NUTRITION\",\"0859:iPAD\",\"0973:CANDY\",\"0110:LDS OUTERWEAR\\u002fOUTDR\",\"0991:TOBACCO\",\"0846:BATTERIES\",\"0879:PET SUPPLIES\",\"0962:BEVERAGES\",\"0261:HOSIERY\",\"0590:MASS COSMETICS\",\"0839:HOME ORG\\u002fSOLUTIONS\",\"0271:HANDBAGS\",\"0470:BOYS 8-20 CLOTHING\",\"0589:SUNGLASSES\",\"0532:AMERICAN GREETINGS\",\"0646:SEASONAL\",\"0973:CANDY\",\"0604:PERSONAL CARE\",\"0846:BATTERIES\",\"0982:SPIRITS\",\"0261:HOSIERY\",\"0826:SMALL ELECTRICS\",\"0837:GENERAL HOUSEWARES\",\"0359:MENS ACCESSORIES\",\"0360:MENS FURNISHINGS\",\"0837:GENERAL HOUSEWARES\",\"0597:HEALTH AIDS\",\"0603:BEAUTY CARE\",\"0846:BATTERIES\",\"0991:TOBACCO\",\"0188:STYLE & CO\",\"0240:SLEEPWEAR\\u002fLOUNGEWEAR\",\"0261:HOSIERY\",\"0826:SMALL ELECTRICS\",\"0836:HOUSEHOLD CLEANING\",\"0982:SPIRITS\",\"0991:TOBACCO\",\"0589:SUNGLASSES\",\"0962:BEVERAGES\",\"0604:PERSONAL CARE\",\"0646:SEASONAL\",\"0797:SEASONAL GIFTS\",\"0879:PET SUPPLIES\",\"0973:CANDY\",\"0360:MENS FURNISHINGS\",\"0416:INFANT APPAREL\",\"0439:JUVENILLE FURNITURE\",\"0554:TELECOMMUNICATIONS\",\"0589:SUNGLASSES\",\"0589:SUNGLASSES\",\"0360:MENS FURNISHINGS\",\"0604:PERSONAL CARE\",\"0836:HOUSEHOLD CLEANING\",\"0982:SPIRITS\",\"0358:MENS DRESS SHIRTS\",\"0163:JUNIOR TOPS\",\"0603:BEAUTY CARE\",\"0604:PERSONAL CARE\",\"0836:HOUSEHOLD CLEANING\",\"0962:BEVERAGES\",\"0983:WINE\",\"0984:BEER\",\"0819:PRE-RECORDED A\\u002fV\",\"0811:TELEVISION\",\"0530:SCHOOL\\u002fOFFIC SUPP\",\"0860:NETWORKING\",\"0991:TOBACCO\",\"0604:PERSONAL CARE\",\"0991:TOBACCO\",\"0644:SPORTS NUTRITION\",\"0815:AUDIO ELECTRONICS\",\"0837:GENERAL HOUSEWARES\",\"0879:PET SUPPLIES\",\"0973:CANDY\",\"0826:SMALL ELECTRICS\",\"0291:WOMENS FTWR:DRS\\u002fCAS\",\"0163:JUNIOR TOPS\",\"0826:SMALL ELECTRICS\",\"0991:TOBACCO\",\"0991:TOBACCO\",\"0836:HOUSEHOLD CLEANING\",\"0962:BEVERAGES\",\"0991:TOBACCO\",\"0358:MENS DRESS SHIRTS\",\"0597:HEALTH AIDS\",\"0416:INFANT APPAREL\",\"0532:AMERICAN GREETINGS\",\"0797:SEASONAL GIFTS\",\"0837:GENERAL HOUSEWARES\",\"0973:CANDY\",\"0982:SPIRITS\",\"0597:HEALTH AIDS\",\"0836:HOUSEHOLD CLEANING\",\"0846:BATTERIES\",\"0962:BEVERAGES\",\"0973:CANDY\",\"0991:TOBACCO\",\"0554:TELECOMMUNICATIONS\",\"0991:TOBACCO\",\"0486:CHILDRENS FOOTWEAR\",\"0369:YOUNG MENS\",\"0395:MENS ATHLETIC SHOES\",\"0261:HOSIERY\",\"0961:GENERAL GROCERIES\",\"0973:CANDY\",\"0984:BEER\",\"0530:SCHOOL\\u002fOFFIC SUPP\",\"0179:MODERATE DENIM\",\"0532:AMERICAN GREETINGS\",\"0931:BATH\",\"0598:BABY CARE\",\"0962:BEVERAGES\",\"0973:CANDY\",\"0982:SPIRITS\",\"0411:PEGABLES\",\"0430:GIRLS 4-6X CLOTHING\",\"0486:CHILDRENS FOOTWEAR\",\"0604:PERSONAL CARE\",\"0640:TOYS\",\"0991:TOBACCO\",\"0369:YOUNG MENS\",\"0603:BEAUTY CARE\",\"0646:SEASONAL\",\"0597:HEALTH AIDS\",\"0380:MENS ACTIVEWEAR\",\"0593:PRESTIGE COSMETICS\",\"0597:HEALTH AIDS\",\"0604:PERSONAL CARE\",\"0973:CANDY\",\"0531:STATIONERY SUNDRIES\",\"0597:HEALTH AIDS\",\"0879:PET SUPPLIES\",\"0962:BEVERAGES\",\"0973:CANDY\",\"0983:WINE\",\"0603:BEAUTY CARE\",\"0076:FLORAL RETAIL\",\"0411:PEGABLES\",\"0530:SCHOOL\\u002fOFFIC SUPP\",\"0531:STATIONERY SUNDRIES\",\"0532:AMERICAN GREETINGS\",\"0597:HEALTH AIDS\",\"0598:BABY CARE\",\"0603:BEAUTY CARE\",\"0646:SEASONAL\",\"0836:HOUSEHOLD CLEANING\",\"0962:BEVERAGES\",\"0098:WAREHOUSED EXPENSES\",\"0360:MENS FURNISHINGS\",\"0962:BEVERAGES\",\"0962:BEVERAGES\",\"0359:MENS ACCESSORIES\",\"0598:BABY CARE\",\"0603:BEAUTY CARE\",\"0604:PERSONAL CARE\",\"0411:PEGABLES\",\"0280:FASHION ACCESSORIES\",\"0532:AMERICAN GREETINGS\",\"0540:PERIODICALS\\u002fCOMICS\",\"0590:MASS COSMETICS\",\"0597:HEALTH AIDS\",\"0603:BEAUTY CARE\",\"0961:GENERAL GROCERIES\",\"0962:BEVERAGES\",\"0965:PERISHABLES\",\"0973:CANDY\",\"0973:CANDY\",\"0359:MENS ACCESSORIES\",\"0973:CANDY\",\"0590:MASS COSMETICS\",\"0597:HEALTH AIDS\",\"0604:PERSONAL CARE\",\"0973:CANDY\",\"0983:WINE\",\"0193:LADIES ACTIVEWEAR\",\"0415:NEWBORN APPAREL\",\"0530:SCHOOL\\u002fOFFIC SUPP\",\"0597:HEALTH AIDS\",\"0856:GLUES\\u002fTAPES\\u002fACC\",\"0415:NEWBORN APPAREL\",\"0449:GIRLS ACCESSORIES\",\"0973:CANDY\",\"0991:TOBACCO\",\"0991:TOBACCO\",\"0598:BABY CARE\",\"0638:GEN SPORTING GOODS\",\"0961:GENERAL GROCERIES\",\"0962:BEVERAGES\",\"0973:CANDY\",\"0991:TOBACCO\",\"0962:BEVERAGES\",\"0056:SOUVENIR\",\"0530:SCHOOL\\u002fOFFIC SUPP\",\"0856:GLUES\\u002fTAPES\\u002fACC\",\"0973:CANDY\",\"0415:NEWBORN APPAREL\",\"0598:BABY CARE\",\"0991:TOBACCO\",\"0486:CHILDRENS FOOTWEAR\",\"0368:TRAD COLLECTIONS\",\"0973:CANDY\",\"0982:SPIRITS\",\"0983:WINE\",\"0991:TOBACCO\",\"0593:PRESTIGE COSMETICS\",\"0815:AUDIO ELECTRONICS\",\"0962:BEVERAGES\",\"0991:TOBACCO\",\"0961:GENERAL GROCERIES\",\"0962:BEVERAGES\",\"0177:PETITE SEPARATES\",\"0178:DENIM COLLECTIONS\",\"0531:STATIONERY SUNDRIES\",\"0532:AMERICAN GREETINGS\",\"0973:CANDY\",\"0983:WINE\",\"0593:PRESTIGE COSMETICS\",\"0280:FASHION ACCESSORIES\",\"0982:SPIRITS\",\"0167:MISSY TOPS\",\"0171:MISSY BOTTOMS\",\"0175:WOMENS SEPARATES\",\"0991:TOBACCO\",\"0271:HANDBAGS\",\"0598:BABY CARE\",\"0167:MISSY TOPS\",\"0353:MENS OUTDOOR\",\"0640:TOYS\",\"0973:CANDY\",\"0991:TOBACCO\",\"0002:BARBER RETAIL\",\"0359:MENS ACCESSORIES\",\"0811:TELEVISION\",\"0961:GENERAL GROCERIES\",\"0973:CANDY\",\"0991:TOBACCO\",\"0532:AMERICAN GREETINGS\",\"0593:PRESTIGE COSMETICS\",\"0991:TOBACCO\",\"0130:JUNIORS SURF\",\"0163:JUNIOR TOPS\",\"0597:HEALTH AIDS\",\"0604:PERSONAL CARE\",\"0961:GENERAL GROCERIES\",\"0973:CANDY\",\"0589:SUNGLASSES\",\"0530:SCHOOL\\u002fOFFIC SUPP\",\"0110:LDS OUTERWEAR\\u002fOUTDR\",\"0680:AUTOMOTIVE\",\"0962:BEVERAGES\",\"0511:NAVY PRIDE SOFTLINES\",\"0589:SUNGLASSES\",\"0592:WMNS PRESTIGE FRAG\",\"0596:MENS PRESTIGE FRAG\",\"0368:TRAD COLLECTIONS\",\"0973:CANDY\",\"0355:MENS SPORT SHIRTS\",\"0931:BATH\",\"0511:NAVY PRIDE SOFTLINES\",\"0581:BRIDGE JEWELRY\",\"0632:DIGITAL FITNESS\",\"0982:SPIRITS\",\"0991:TOBACCO\",\"0991:TOBACCO\",\"0991:TOBACCO\",\"0592:WMNS PRESTIGE FRAG\",\"0962:BEVERAGES\",\"0280:FASHION ACCESSORIES\",\"0358:MENS DRESS SHIRTS\",\"0421:TODDLER GIRL APPAREL\",\"0110:LDS OUTERWEAR\\u002fOUTDR\",\"0271:HANDBAGS\",\"0593:PRESTIGE COSMETICS\",\"0837:GENERAL HOUSEWARES\",\"0930:TABLE TOP & KITCHEN\",\"0973:CANDY\",\"0280:FASHION ACCESSORIES\",\"0991:TOBACCO\",\"0530:SCHOOL\\u002fOFFIC SUPP\",\"0973:CANDY\",\"0991:TOBACCO\",\"0597:HEALTH AIDS\",\"0646:SEASONAL\",\"0836:HOUSEHOLD CLEANING\",\"0634:VITAMINS & HLTH AIDS\",\"0636:FITNESS\\u002fEXERCISE\",\"0836:HOUSEHOLD CLEANING\",\"0850:PC HDWR & OFFICE EQP\",\"0163:JUNIOR TOPS\",\"0056:SOUVENIR\",\"0421:TODDLER GIRL APPAREL\",\"0595:HOME\\u002fBATH\",\"0640:TOYS\",\"0826:SMALL ELECTRICS\",\"0833:TABLETOP\",\"0837:GENERAL HOUSEWARES\",\"0991:TOBACCO\",\"0595:HOME\\u002fBATH\",\"0822:THIRD PARTY GIFTCARD\",\"0590:MASS COSMETICS\",\"0597:HEALTH AIDS\",\"0973:CANDY\",\"0603:BEAUTY CARE\",\"0604:PERSONAL CARE\",\"0962:BEVERAGES\",\"0261:HOSIERY\",\"0360:MENS FURNISHINGS\",\"0603:BEAUTY CARE\",\"0604:PERSONAL CARE\",\"0597:HEALTH AIDS\",\"0604:PERSONAL CARE\",\"0962:BEVERAGES\",\"0982:SPIRITS\",\"0962:BEVERAGES\",\"0597:HEALTH AIDS\",\"0850:PC HDWR & OFFICE EQP\",\"0879:PET SUPPLIES\",\"0983:WINE\",\"0449:GIRLS ACCESSORIES\",\"0991:TOBACCO\",\"0811:TELEVISION\",\"0230:DAYWEAR\",\"0261:HOSIERY\",\"0592:WMNS PRESTIGE FRAG\",\"0595:HOME\\u002fBATH\",\"0797:SEASONAL GIFTS\",\"0186:JUNIOR DRESSES\",\"0982:SPIRITS\",\"0991:TOBACCO\",\"0797:SEASONAL GIFTS\",\"0984:BEER\",\"0991:TOBACCO\",\"0861:GENERAL HARDWARE\",\"0962:BEVERAGES\",\"0973:CANDY\",\"0857:PC PERIPH\\u002fOFFICE ACC\",\"0391:MENS SHOES\",\"0486:CHILDRENS FOOTWEAR\",\"0469:BOYS ACCESSORIES\",\"0470:BOYS 8-20 CLOTHING\",\"0240:SLEEPWEAR\\u002fLOUNGEWEAR\",\"0353:MENS OUTDOOR\",\"0368:TRAD COLLECTIONS\",\"0415:NEWBORN APPAREL\",\"0460:BOYS 4-7 CLOTHING\",\"0530:SCHOOL\\u002fOFFIC SUPP\",\"0586:COSTUME JEWELRY\",\"0837:GENERAL HOUSEWARES\",\"0991:TOBACCO\",\"0961:GENERAL GROCERIES\",\"0962:BEVERAGES\",\"0991:TOBACCO\",\"0861:GENERAL HARDWARE\",\"0930:TABLE TOP & KITCHEN\",\"0071:BEAUTY RETAIL\",\"0261:HOSIERY\",\"0359:MENS ACCESSORIES\",\"0585:WATCHES\",\"0856:GLUES\\u002fTAPES\\u002fACC\",\"0962:BEVERAGES\",\"0973:CANDY\",\"0991:TOBACCO\",\"0991:TOBACCO\",\"0230:DAYWEAR\",\"0291:WOMENS FTWR:DRS\\u002fCAS\",\"0589:SUNGLASSES\",\"0581:BRIDGE JEWELRY\",\"0590:MASS COSMETICS\",\"0593:PRESTIGE COSMETICS\",\"0603:BEAUTY CARE\",\"0836:HOUSEHOLD CLEANING\",\"0850:PC HDWR & OFFICE EQP\",\"0860:NETWORKING\",\"0962:BEVERAGES\",\"0380:MENS ACTIVEWEAR\",\"0598:BABY CARE\",\"0646:SEASONAL\",\"0815:AUDIO ELECTRONICS\",\"0941:BEDDING\",\"0589:SUNGLASSES\",\"0346:LIFE STYLE DENIM\",\"0056:SOUVENIR\",\"0532:AMERICAN GREETINGS\",\"0416:INFANT APPAREL\",\"0597:HEALTH AIDS\",\"0593:PRESTIGE COSMETICS\",\"0854:VIDEO GAMES\",\"0131:LADIES DRESSES\",\"0280:FASHION ACCESSORIES\",\"0369:YOUNG MENS\",\"0644:SPORTS NUTRITION\",\"0836:HOUSEHOLD CLEANING\",\"0991:TOBACCO\",\"0353:MENS OUTDOOR\",\"0632:DIGITAL FITNESS\",\"0991:TOBACCO\",\"0380:MENS ACTIVEWEAR\",\"0973:CANDY\",\"0983:WINE\",\"0510:NAVY PRIDE HARDLINES\",\"0554:TELECOMMUNICATIONS\",\"0167:MISSY TOPS\",\"0261:HOSIERY\",\"0280:FASHION ACCESSORIES\",\"0991:TOBACCO\",\"0991:TOBACCO\",\"0380:MENS ACTIVEWEAR\",\"0638:GEN SPORTING GOODS\",\"0845:AS SEEN ON TV\",\"0511:NAVY PRIDE SOFTLINES\",\"0110:LDS OUTERWEAR\\u002fOUTDR\",\"0161:MISSY KAREN SCOTT\",\"0271:HANDBAGS\",\"0593:PRESTIGE COSMETICS\",\"0380:MENS ACTIVEWEAR\",\"0839:HOME ORG\\u002fSOLUTIONS\",\"0353:MENS OUTDOOR\",\"0961:GENERAL GROCERIES\",\"0645:BIKES\",\"0836:HOUSEHOLD CLEANING\",\"0962:BEVERAGES\",\"0973:CANDY\",\"0161:MISSY KAREN SCOTT\",\"0416:INFANT APPAREL\",\"0640:TOYS\",\"0797:SEASONAL GIFTS\",\"0982:SPIRITS\",\"0354:MENS MODERN COLLECT\",\"0486:CHILDRENS FOOTWEAR\",\"0532:AMERICAN GREETINGS\",\"0603:BEAUTY CARE\",\"0826:SMALL ELECTRICS\",\"0271:HANDBAGS\",\"0826:SMALL ELECTRICS\",\"0961:GENERAL GROCERIES\",\"0173:JUNIOR BOTTOMS\",\"0178:DENIM COLLECTIONS\",\"0188:STYLE & CO\",\"0261:HOSIERY\",\"0291:WOMENS FTWR:DRS\\u002fCAS\",\"0586:COSTUME JEWELRY\",\"0646:SEASONAL\",\"0795:HOME DECOR\",\"0837:GENERAL HOUSEWARES\",\"0973:CANDY\",\"0826:SMALL ELECTRICS\",\"0837:GENERAL HOUSEWARES\",\"0930:TABLE TOP & KITCHEN\",\"0941:BEDDING\",\"0826:SMALL ELECTRICS\",\"0834:COOKWARE\",\"0973:CANDY\",\"0531:STATIONERY SUNDRIES\",\"0636:FITNESS\\u002fEXERCISE\",\"0640:TOYS\",\"0983:WINE\",\"0597:HEALTH AIDS\",\"0604:PERSONAL CARE\",\"0836:HOUSEHOLD CLEANING\",\"0439:JUVENILLE FURNITURE\",\"0415:NEWBORN APPAREL\",\"0416:INFANT APPAREL\",\"0845:AS SEEN ON TV\",\"0973:CANDY\",\"0982:SPIRITS\",\"0984:BEER\",\"0261:HOSIERY\",\"0430:GIRLS 4-6X CLOTHING\",\"0460:BOYS 4-7 CLOTHING\",\"0469:BOYS ACCESSORIES\",\"0603:BEAUTY CARE\",\"0931:BATH\",\"0982:SPIRITS\",\"0598:BABY CARE\",\"0598:BABY CARE\",\"0532:AMERICAN GREETINGS\",\"0879:PET SUPPLIES\",\"0983:WINE\",\"0210:FOUNDATIONS\",\"0415:NEWBORN APPAREL\",\"0421:TODDLER GIRL APPAREL\",\"0797:SEASONAL GIFTS\",\"0838:FLOOR CARE\",\"0240:SLEEPWEAR\\u002fLOUNGEWEAR\",\"0261:HOSIERY\",\"0271:HANDBAGS\",\"0415:NEWBORN APPAREL\",\"0426:TODDLER BOY APPAREL\",\"0430:GIRLS 4-6X CLOTHING\",\"0973:CANDY\",\"0411:PEGABLES\",\"0415:NEWBORN APPAREL\",\"0416:INFANT APPAREL\",\"0973:CANDY\",\"0983:WINE\",\"0353:MENS OUTDOOR\",\"0380:MENS ACTIVEWEAR\",\"0595:HOME\\u002fBATH\",\"0359:MENS ACCESSORIES\",\"0360:MENS FURNISHINGS\",\"0597:HEALTH AIDS\",\"0597:HEALTH AIDS\",\"0973:CANDY\",\"0597:HEALTH AIDS\",\"0836:HOUSEHOLD CLEANING\",\"0846:BATTERIES\",\"0983:WINE\",\"0532:AMERICAN GREETINGS\",\"0590:MASS COSMETICS\",\"0930:TABLE TOP & KITCHEN\",\"0973:CANDY\",\"0391:MENS SHOES\",\"0962:BEVERAGES\",\"0380:MENS ACTIVEWEAR\",\"0391:MENS SHOES\",\"0597:HEALTH AIDS\",\"0836:HOUSEHOLD CLEANING\",\"0961:GENERAL GROCERIES\",\"0973:CANDY\",\"0220:SHAPEWEAR\",\"0962:BEVERAGES\",\"0532:AMERICAN GREETINGS\",\"0592:WMNS PRESTIGE FRAG\",\"0604:PERSONAL CARE\",\"0486:CHILDRENS FOOTWEAR\",\"0999:UNSCANNED ITEMS\",\"0380:MENS ACTIVEWEAR\",\"0826:SMALL ELECTRICS\",\"0056:SOUVENIR\",\"0360:MENS FURNISHINGS\",\"0532:AMERICAN GREETINGS\",\"0590:MASS COSMETICS\",\"0597:HEALTH AIDS\",\"0884:LAWN & GARDEN\",\"0973:CANDY\",\"0510:NAVY PRIDE HARDLINES\",\"0973:CANDY\",\"0795:HOME DECOR\",\"0056:SOUVENIR\",\"0597:HEALTH AIDS\",\"0603:BEAUTY CARE\",\"0836:HOUSEHOLD CLEANING\",\"0999:UNSCANNED ITEMS\",\"0369:YOUNG MENS\",\"0836:HOUSEHOLD CLEANING\",\"0965:PERISHABLES\",\"0973:CANDY\",\"0982:SPIRITS\",\"0593:PRESTIGE COSMETICS\",\"0603:BEAUTY CARE\",\"0604:PERSONAL CARE\",\"0271:HANDBAGS\",\"0983:WINE\",\"0310:MENS OUTERWEAR\",\"0604:PERSONAL CARE\",\"0836:HOUSEHOLD CLEANING\",\"0962:BEVERAGES\",\"0982:SPIRITS\",\"0984:BEER\",\"0469:BOYS ACCESSORIES\",\"0795:HOME DECOR\",\"0836:HOUSEHOLD CLEANING\",\"0845:AS SEEN ON TV\",\"0240:SLEEPWEAR\\u002fLOUNGEWEAR\",\"0854:VIDEO GAMES\",\"0931:BATH\",\"0440:GIRLS 7-16 CLOTHING\",\"0469:BOYS ACCESSORIES\",\"0532:AMERICAN GREETINGS\",\"0603:BEAUTY CARE\",\"0604:PERSONAL CARE\",\"0822:THIRD PARTY GIFTCARD\",\"0421:TODDLER GIRL APPAREL\",\"0598:BABY CARE\",\"0836:HOUSEHOLD CLEANING\",\"0879:PET SUPPLIES\",\"0822:THIRD PARTY GIFTCARD\",\"0822:THIRD PARTY GIFTCARD\",\"0646:SEASONAL\",\"0973:CANDY\",\"0603:BEAUTY CARE\",\"0836:HOUSEHOLD CLEANING\",\"0879:PET SUPPLIES\",\"0984:BEER\",\"0597:HEALTH AIDS\",\"0836:HOUSEHOLD CLEANING\",\"0193:LADIES ACTIVEWEAR\",\"0590:MASS COSMETICS\",\"0961:GENERAL GROCERIES\",\"0973:CANDY\",\"0532:AMERICAN GREETINGS\",\"0646:SEASONAL\",\"0193:LADIES ACTIVEWEAR\",\"0380:MENS ACTIVEWEAR\",\"0646:SEASONAL\",\"0836:HOUSEHOLD CLEANING\",\"0846:BATTERIES\",\"0973:CANDY\",\"0163:JUNIOR TOPS\",\"0173:JUNIOR BOTTOMS\",\"0359:MENS ACCESSORIES\",\"0360:MENS FURNISHINGS\",\"0973:CANDY\",\"0532:AMERICAN GREETINGS\",\"0646:SEASONAL\",\"0797:SEASONAL GIFTS\",\"0991:TOBACCO\",\"0188:STYLE & CO\",\"0230:DAYWEAR\",\"0261:HOSIERY\",\"0210:FOUNDATIONS\",\"0359:MENS ACCESSORIES\",\"0261:HOSIERY\",\"0369:YOUNG MENS\",\"0590:MASS COSMETICS\",\"0595:HOME\\u002fBATH\",\"0603:BEAUTY CARE\",\"0836:HOUSEHOLD CLEANING\",\"0961:GENERAL GROCERIES\",\"0982:SPIRITS\",\"0837:GENERAL HOUSEWARES\",\"0973:CANDY\",\"0597:HEALTH AIDS\",\"0603:BEAUTY CARE\",\"0604:PERSONAL CARE\",\"0961:GENERAL GROCERIES\",\"0962:BEVERAGES\",\"0603:BEAUTY CARE\",\"0636:FITNESS\\u002fEXERCISE\",\"0826:SMALL ELECTRICS\",\"0597:HEALTH AIDS\",\"0823:SMART HOME\",\"0962:BEVERAGES\",\"0532:AMERICAN GREETINGS\",\"0551:CAMERAS & EQUIP\",\"0815:AUDIO ELECTRONICS\",\"0636:FITNESS\\u002fEXERCISE\",\"0991:TOBACCO\",\"0603:BEAUTY CARE\",\"0962:BEVERAGES\",\"0991:TOBACCO\",\"0532:AMERICAN GREETINGS\",\"0640:TOYS\",\"0973:CANDY\",\"0836:HOUSEHOLD CLEANING\",\"0962:BEVERAGES\",\"0837:GENERAL HOUSEWARES\",\"0360:MENS FURNISHINGS\",\"0369:YOUNG MENS\",\"0530:SCHOOL\\u002fOFFIC SUPP\",\"0661:LUGGAGE\",\"0530:SCHOOL\\u002fOFFIC SUPP\",\"0541:BOOKS AND MAPS\",\"0640:TOYS\",\"0982:SPIRITS\",\"0961:GENERAL GROCERIES\",\"0982:SPIRITS\",\"0360:MENS FURNISHINGS\",\"0597:HEALTH AIDS\",\"0603:BEAUTY CARE\",\"0836:HOUSEHOLD CLEANING\",\"0962:BEVERAGES\",\"0973:CANDY\",\"0532:AMERICAN GREETINGS\",\"0646:SEASONAL\",\"0846:BATTERIES\",\"0973:CANDY\",\"0271:HANDBAGS\",\"0346:LIFE STYLE DENIM\",\"0590:MASS COSMETICS\",\"0597:HEALTH AIDS\",\"0603:BEAUTY CARE\",\"0640:TOYS\",\"0836:HOUSEHOLD CLEANING\",\"0837:GENERAL HOUSEWARES\",\"0930:TABLE TOP & KITCHEN\",\"0931:BATH\",\"0973:CANDY\",\"0163:JUNIOR TOPS\",\"0280:FASHION ACCESSORIES\",\"0369:YOUNG MENS\",\"0411:PEGABLES\",\"0415:NEWBORN APPAREL\",\"0593:PRESTIGE COSMETICS\",\"0604:PERSONAL CARE\",\"0603:BEAUTY CARE\",\"0797:SEASONAL GIFTS\",\"0837:GENERAL HOUSEWARES\",\"0395:MENS ATHLETIC SHOES\",\"0973:CANDY\",\"0982:SPIRITS\",\"0983:WINE\",\"0530:SCHOOL\\u002fOFFIC SUPP\",\"0639:TEAM SPORTING GOODS\",\"0861:GENERAL HARDWARE\",\"0962:BEVERAGES\",\"0991:TOBACCO\",\"0353:MENS OUTDOOR\",\"0592:WMNS PRESTIGE FRAG\",\"0593:PRESTIGE COSMETICS\",\"0973:CANDY\",\"0340:MENS CASUAL SLACKS\",\"0380:MENS ACTIVEWEAR\",\"0161:MISSY KAREN SCOTT\",\"0271:HANDBAGS\",\"0644:SPORTS NUTRITION\",\"0962:BEVERAGES\",\"0965:PERISHABLES\",\"0161:MISSY KAREN SCOTT\",\"0177:PETITE SEPARATES\",\"0193:LADIES ACTIVEWEAR\",\"0360:MENS FURNISHINGS\",\"0532:AMERICAN GREETINGS\",\"0593:PRESTIGE COSMETICS\",\"0171:MISSY BOTTOMS\",\"0661:LUGGAGE\",\"0593:PRESTIGE COSMETICS\",\"0603:BEAUTY CARE\",\"0973:CANDY\",\"0590:MASS COSMETICS\",\"0597:HEALTH AIDS\",\"0603:BEAUTY CARE\",\"0604:PERSONAL CARE\",\"0530:SCHOOL\\u002fOFFIC SUPP\",\"0110:LDS OUTERWEAR\\u002fOUTDR\",\"0551:CAMERAS & EQUIP\",\"0632:DIGITAL FITNESS\",\"0982:SPIRITS\",\"0426:TODDLER BOY APPAREL\",\"0469:BOYS ACCESSORIES\",\"0640:TOYS\",\"0982:SPIRITS\",\"0604:PERSONAL CARE\",\"0634:VITAMINS & HLTH AIDS\",\"0961:GENERAL GROCERIES\",\"0634:VITAMINS & HLTH AIDS\",\"0836:HOUSEHOLD CLEANING\",\"0530:SCHOOL\\u002fOFFIC SUPP\",\"0837:GENERAL HOUSEWARES\",\"0930:TABLE TOP & KITCHEN\",\"0833:TABLETOP\",\"0837:GENERAL HOUSEWARES\",\"0931:BATH\",\"0056:SOUVENIR\",\"0510:NAVY PRIDE HARDLINES\",\"0532:AMERICAN GREETINGS\",\"0962:BEVERAGES\",\"0071:BEAUTY RETAIL\",\"0358:MENS DRESS SHIRTS\",\"0597:HEALTH AIDS\",\"0098:WAREHOUSED EXPENSES\",\"0430:GIRLS 4-6X CLOTHING\",\"0449:GIRLS ACCESSORIES\",\"0530:SCHOOL\\u002fOFFIC SUPP\",\"0646:SEASONAL\",\"0822:THIRD PARTY GIFTCARD\",\"0163:JUNIOR TOPS\",\"0167:MISSY TOPS\",\"0056:SOUVENIR\",\"0163:JUNIOR TOPS\",\"0965:PERISHABLES\",\"0962:BEVERAGES\",\"0640:TOYS\",\"0646:SEASONAL\",\"0822:THIRD PARTY GIFTCARD\",\"0962:BEVERAGES\",\"0369:YOUNG MENS\",\"0530:SCHOOL\\u002fOFFIC SUPP\",\"0826:SMALL ELECTRICS\",\"0590:MASS COSMETICS\",\"0603:BEAUTY CARE\",\"0604:PERSONAL CARE\",\"0857:PC PERIPH\\u002fOFFICE ACC\",\"0167:MISSY TOPS\",\"0171:MISSY BOTTOMS\",\"0271:HANDBAGS\",\"0360:MENS FURNISHINGS\",\"0369:YOUNG MENS\",\"0592:WMNS PRESTIGE FRAG\",\"0593:PRESTIGE COSMETICS\",\"0596:MENS PRESTIGE FRAG\",\"0795:HOME DECOR\",\"0984:BEER\",\"0586:COSTUME JEWELRY\",\"0973:CANDY\",\"0973:CANDY\",\"0982:SPIRITS\",\"0983:WINE\",\"0984:BEER\",\"0982:SPIRITS\",\"0360:MENS FURNISHINGS\",\"0532:AMERICAN GREETINGS\",\"0845:AS SEEN ON TV\",\"0973:CANDY\",\"0973:CANDY\",\"0597:HEALTH AIDS\",\"0961:GENERAL GROCERIES\",\"0973:CANDY\",\"0598:BABY CARE\",\"0962:BEVERAGES\",\"0973:CANDY\",\"0343:MENS DENIM JEANS\",\"0395:MENS ATHLETIC SHOES\",\"0973:CANDY\",\"0597:HEALTH AIDS\",\"0961:GENERAL GROCERIES\",\"0962:BEVERAGES\",\"0973:CANDY\",\"0962:BEVERAGES\",\"0359:MENS ACCESSORIES\",\"0589:SUNGLASSES\",\"0836:HOUSEHOLD CLEANING\",\"0240:SLEEPWEAR\\u002fLOUNGEWEAR\",\"0261:HOSIERY\",\"0486:CHILDRENS FOOTWEAR\",\"0395:MENS ATHLETIC SHOES\",\"0230:DAYWEAR\",\"0291:WOMENS FTWR:DRS\\u002fCAS\",\"0795:HOME DECOR\",\"0854:VIDEO GAMES\",\"0391:MENS SHOES\",\"0597:HEALTH AIDS\",\"0601:VALUE ZONE\",\"0604:PERSONAL CARE\",\"0280:FASHION ACCESSORIES\",\"0530:SCHOOL\\u002fOFFIC SUPP\",\"0836:HOUSEHOLD CLEANING\",\"0973:CANDY\",\"0380:MENS ACTIVEWEAR\",\"0836:HOUSEHOLD CLEANING\",\"0962:BEVERAGES\",\"0973:CANDY\",\"0595:HOME\\u002fBATH\",\"0644:SPORTS NUTRITION\",\"0962:BEVERAGES\",\"0421:TODDLER GIRL APPAREL\",\"0449:GIRLS ACCESSORIES\",\"0380:MENS ACTIVEWEAR\",\"0530:SCHOOL\\u002fOFFIC SUPP\",\"0354:MENS MODERN COLLECT\",\"0359:MENS ACCESSORIES\",\"0597:HEALTH AIDS\",\"0604:PERSONAL CARE\",\"0644:SPORTS NUTRITION\",\"0440:GIRLS 7-16 CLOTHING\",\"0973:CANDY\",\"0982:SPIRITS\",\"0590:MASS COSMETICS\",\"0598:BABY CARE\",\"0982:SPIRITS\",\"0597:HEALTH AIDS\",\"0604:PERSONAL CARE\",\"0962:BEVERAGES\",\"0295:WOMENS ATHLTIC SHOES\",\"0593:PRESTIGE COSMETICS\",\"0358:MENS DRESS SHIRTS\",\"0640:TOYS\",\"0722:OUTDOOR LIVING\",\"0826:SMALL ELECTRICS\",\"0845:AS SEEN ON TV\",\"0962:BEVERAGES\",\"0984:BEER\",\"0962:BEVERAGES\",\"0590:MASS COSMETICS\",\"0680:AUTOMOTIVE\",\"0722:OUTDOOR LIVING\",\"0531:STATIONERY SUNDRIES\",\"0532:AMERICAN GREETINGS\",\"0983:WINE\",\"0961:GENERAL GROCERIES\",\"0261:HOSIERY\",\"0597:HEALTH AIDS\",\"0598:BABY CARE\",\"0604:PERSONAL CARE\",\"0861:GENERAL HARDWARE\",\"0973:CANDY\",\"0962:BEVERAGES\",\"0973:CANDY\",\"0604:PERSONAL CARE\",\"0380:MENS ACTIVEWEAR\",\"0597:HEALTH AIDS\",\"0604:PERSONAL CARE\",\"0640:TOYS\",\"0973:CANDY\",\"0845:AS SEEN ON TV\",\"0193:LADIES ACTIVEWEAR\",\"0973:CANDY\",\"0343:MENS DENIM JEANS\",\"0380:MENS ACTIVEWEAR\",\"0603:BEAUTY CARE\",\"0604:PERSONAL CARE\",\"0836:HOUSEHOLD CLEANING\",\"0797:SEASONAL GIFTS\",\"0359:MENS ACCESSORIES\",\"0368:TRAD COLLECTIONS\",\"0391:MENS SHOES\",\"0411:PEGABLES\",\"0510:NAVY PRIDE HARDLINES\",\"0962:BEVERAGES\",\"0532:AMERICAN GREETINGS\",\"0590:MASS COSMETICS\",\"0604:PERSONAL CARE\",\"0634:VITAMINS & HLTH AIDS\",\"0640:TOYS\",\"0861:GENERAL HARDWARE\",\"0879:PET SUPPLIES\",\"0973:CANDY\",\"0983:WINE\",\"0680:AUTOMOTIVE\",\"0360:MENS FURNISHINGS\",\"0597:HEALTH AIDS\",\"0380:MENS ACTIVEWEAR\",\"0597:HEALTH AIDS\",\"0836:HOUSEHOLD CLEANING\",\"0982:SPIRITS\",\"0983:WINE\",\"0991:TOBACCO\",\"0380:MENS ACTIVEWEAR\",\"0595:HOME\\u002fBATH\",\"0597:HEALTH AIDS\",\"0879:PET SUPPLIES\",\"0884:LAWN & GARDEN\",\"0961:GENERAL GROCERIES\",\"0962:BEVERAGES\",\"0973:CANDY\",\"0961:GENERAL GROCERIES\",\"0962:BEVERAGES\",\"0973:CANDY\",\"0962:BEVERAGES\",\"0644:SPORTS NUTRITION\",\"0879:PET SUPPLIES\",\"0354:MENS MODERN COLLECT\",\"0470:BOYS 8-20 CLOTHING\",\"0991:TOBACCO\",\"0421:TODDLER GIRL APPAREL\",\"0179:MODERATE DENIM\",\"0368:TRAD COLLECTIONS\",\"0589:SUNGLASSES\",\"0603:BEAUTY CARE\",\"0850:PC HDWR & OFFICE EQP\",\"0973:CANDY\",\"0973:CANDY\",\"0603:BEAUTY CARE\",\"0391:MENS SHOES\",\"0597:HEALTH AIDS\",\"0604:PERSONAL CARE\",\"0638:GEN SPORTING GOODS\",\"0722:OUTDOOR LIVING\",\"0846:BATTERIES\",\"0962:BEVERAGES\",\"0595:HOME\\u002fBATH\",\"0836:HOUSEHOLD CLEANING\",\"0343:MENS DENIM JEANS\",\"0879:PET SUPPLIES\",\"0962:BEVERAGES\",\"0973:CANDY\",\"0797:SEASONAL GIFTS\",\"0837:GENERAL HOUSEWARES\",\"0973:CANDY\",\"0982:SPIRITS\",\"0962:BEVERAGES\",\"0962:BEVERAGES\",\"0530:SCHOOL\\u002fOFFIC SUPP\",\"0645:BIKES\",\"0837:GENERAL HOUSEWARES\",\"0857:PC PERIPH\\u002fOFFICE ACC\",\"0597:HEALTH AIDS\",\"0603:BEAUTY CARE\",\"0962:BEVERAGES\",\"0280:FASHION ACCESSORIES\",\"0640:TOYS\",\"0973:CANDY\",\"0530:SCHOOL\\u002fOFFIC SUPP\",\"0360:MENS FURNISHINGS\",\"0532:AMERICAN GREETINGS\",\"0597:HEALTH AIDS\",\"0604:PERSONAL CARE\",\"0861:GENERAL HARDWARE\",\"0982:SPIRITS\",\"0295:WOMENS ATHLTIC SHOES\",\"0380:MENS ACTIVEWEAR\",\"0593:PRESTIGE COSMETICS\",\"0597:HEALTH AIDS\",\"0603:BEAUTY CARE\",\"0634:VITAMINS & HLTH AIDS\",\"0661:LUGGAGE\",\"0012:LOCAL GIFTS\\u002fFOODS\",\"0597:HEALTH AIDS\",\"0604:PERSONAL CARE\",\"0597:HEALTH AIDS\",\"0982:SPIRITS\",\"0879:PET SUPPLIES\",\"0973:CANDY\",\"0597:HEALTH AIDS\",\"0836:HOUSEHOLD CLEANING\",\"0193:LADIES ACTIVEWEAR\",\"0604:PERSONAL CARE\",\"0973:CANDY\",\"0071:BEAUTY RETAIL\",\"0161:MISSY KAREN SCOTT\",\"0355:MENS SPORT SHIRTS\",\"0395:MENS ATHLETIC SHOES\",\"0585:WATCHES\",\"0973:CANDY\",\"0596:MENS PRESTIGE FRAG\",\"0973:CANDY\",\"0982:SPIRITS\",\"0596:MENS PRESTIGE FRAG\",\"0837:GENERAL HOUSEWARES\",\"0595:HOME\\u002fBATH\",\"0589:SUNGLASSES\",\"0193:LADIES ACTIVEWEAR\",\"0554:TELECOMMUNICATIONS\",\"0638:GEN SPORTING GOODS\",\"0360:MENS FURNISHINGS\",\"0826:SMALL ELECTRICS\",\"0839:HOME ORG\\u002fSOLUTIONS\",\"0597:HEALTH AIDS\",\"0593:PRESTIGE COSMETICS\",\"0585:WATCHES\",\"0837:GENERAL HOUSEWARES\",\"0295:WOMENS ATHLTIC SHOES\",\"0999:UNSCANNED ITEMS\",\"0637:FISHING\",\"0638:GEN SPORTING GOODS\",\"0962:BEVERAGES\",\"0973:CANDY\",\"0982:SPIRITS\",\"0353:MENS OUTDOOR\",\"0597:HEALTH AIDS\",\"0879:PET SUPPLIES\",\"0295:WOMENS ATHLTIC SHOES\",\"0395:MENS ATHLETIC SHOES\",\"0973:CANDY\",\"0271:HANDBAGS\",\"0585:WATCHES\",\"0590:MASS COSMETICS\",\"0593:PRESTIGE COSMETICS\",\"0595:HOME\\u002fBATH\",\"0597:HEALTH AIDS\",\"0603:BEAUTY CARE\",\"0646:SEASONAL\",\"0836:HOUSEHOLD CLEANING\",\"0973:CANDY\",\"0161:MISSY KAREN SCOTT\",\"0165:LIFE IS GOOD\",\"0177:PETITE SEPARATES\",\"0240:SLEEPWEAR\\u002fLOUNGEWEAR\",\"0353:MENS OUTDOOR\",\"0380:MENS ACTIVEWEAR\",\"0590:MASS COSMETICS\",\"0603:BEAUTY CARE\",\"0604:PERSONAL CARE\",\"0836:HOUSEHOLD CLEANING\",\"0360:MENS FURNISHINGS\",\"0380:MENS ACTIVEWEAR\",\"0982:SPIRITS\",\"0640:TOYS\",\"0962:BEVERAGES\",\"0532:AMERICAN GREETINGS\",\"0604:PERSONAL CARE\",\"0640:TOYS\",\"0884:LAWN & GARDEN\",\"0230:DAYWEAR\",\"0826:SMALL ELECTRICS\",\"0833:TABLETOP\",\"0597:HEALTH AIDS\",\"0836:HOUSEHOLD CLEANING\",\"0962:BEVERAGES\",\"0982:SPIRITS\",\"0360:MENS FURNISHINGS\",\"0510:NAVY PRIDE HARDLINES\",\"0836:HOUSEHOLD CLEANING\",\"0879:PET SUPPLIES\",\"0962:BEVERAGES\",\"0973:CANDY\",\"0597:HEALTH AIDS\",\"0961:GENERAL GROCERIES\",\"0411:PEGABLES\",\"0415:NEWBORN APPAREL\",\"0597:HEALTH AIDS\",\"0598:BABY CARE\",\"0604:PERSONAL CARE\",\"0836:HOUSEHOLD CLEANING\",\"0861:GENERAL HARDWARE\",\"0930:TABLE TOP & KITCHEN\",\"0962:BEVERAGES\",\"0973:CANDY\",\"0984:BEER\",\"0161:MISSY KAREN SCOTT\",\"0163:JUNIOR TOPS\",\"0354:MENS MODERN COLLECT\",\"0368:TRAD COLLECTIONS\",\"0973:CANDY\",\"0360:MENS FURNISHINGS\",\"0837:GENERAL HOUSEWARES\",\"0962:BEVERAGES\",\"0340:MENS CASUAL SLACKS\",\"0343:MENS DENIM JEANS\",\"0604:PERSONAL CARE\",\"0961:GENERAL GROCERIES\",\"0965:PERISHABLES\",\"0973:CANDY\",\"0983:WINE\",\"0590:MASS COSMETICS\",\"0597:HEALTH AIDS\",\"0603:BEAUTY CARE\",\"0604:PERSONAL CARE\",\"0931:BATH\",\"0421:TODDLER GIRL APPAREL\",\"0440:GIRLS 7-16 CLOTHING\",\"0449:GIRLS ACCESSORIES\",\"0973:CANDY\",\"0973:CANDY\",\"0360:MENS FURNISHINGS\",\"0532:AMERICAN GREETINGS\",\"0540:PERIODICALS\\u002fCOMICS\",\"0541:BOOKS AND MAPS\",\"0589:SUNGLASSES\",\"0593:PRESTIGE COSMETICS\",\"0973:CANDY\",\"0982:SPIRITS\",\"0983:WINE\",\"0961:GENERAL GROCERIES\",\"0962:BEVERAGES\",\"0973:CANDY\",\"0181:LADIES MODERN COLLEC\",\"0261:HOSIERY\",\"0271:HANDBAGS\",\"0291:WOMENS FTWR:DRS\\u002fCAS\",\"0532:AMERICAN GREETINGS\",\"0941:BEDDING\",\"0554:TELECOMMUNICATIONS\",\"0646:SEASONAL\",\"0056:SOUVENIR\",\"0822:THIRD PARTY GIFTCARD\",\"0854:VIDEO GAMES\",\"0973:CANDY\",\"0071:BEAUTY RETAIL\",\"0179:MODERATE DENIM\",\"0634:VITAMINS & HLTH AIDS\",\"0597:HEALTH AIDS\",\"0634:VITAMINS & HLTH AIDS\",\"0879:PET SUPPLIES\",\"0353:MENS OUTDOOR\",\"0591:MASS FRAGRANCES\",\"0595:HOME\\u002fBATH\",\"0604:PERSONAL CARE\",\"0230:DAYWEAR\",\"0380:MENS ACTIVEWEAR\",\"0530:SCHOOL\\u002fOFFIC SUPP\",\"0603:BEAUTY CARE\",\"0857:PC PERIPH\\u002fOFFICE ACC\",\"0973:CANDY\",\"0430:GIRLS 4-6X CLOTHING\",\"0440:GIRLS 7-16 CLOTHING\",\"0597:HEALTH AIDS\",\"0603:BEAUTY CARE\",\"0604:PERSONAL CARE\",\"0640:TOYS\",\"0846:BATTERIES\",\"0511:NAVY PRIDE SOFTLINES\",\"0584:GEMSTONES\",\"0597:HEALTH AIDS\",\"0603:BEAUTY CARE\",\"0837:GENERAL HOUSEWARES\",\"0962:BEVERAGES\",\"0640:TOYS\",\"0530:SCHOOL\\u002fOFFIC SUPP\",\"0640:TOYS\",\"0962:BEVERAGES\",\"0973:CANDY\",\"0962:BEVERAGES\",\"0638:GEN SPORTING GOODS\",\"0163:JUNIOR TOPS\",\"0359:MENS ACCESSORIES\",\"0597:HEALTH AIDS\",\"0850:PC HDWR & OFFICE EQP\",\"0346:LIFE STYLE DENIM\",\"0355:MENS SPORT SHIRTS\",\"0369:YOUNG MENS\",\"0380:MENS ACTIVEWEAR\",\"0982:SPIRITS\",\"0983:WINE\",\"0984:BEER\",\"0530:SCHOOL\\u002fOFFIC SUPP\",\"0532:AMERICAN GREETINGS\",\"0983:WINE\",\"0984:BEER\",\"0640:TOYS\",\"0110:LDS OUTERWEAR\\u002fOUTDR\",\"0130:JUNIORS SURF\",\"0360:MENS FURNISHINGS\",\"0380:MENS ACTIVEWEAR\",\"0395:MENS ATHLETIC SHOES\",\"0973:CANDY\",\"0360:MENS FURNISHINGS\",\"0380:MENS ACTIVEWEAR\",\"0636:FITNESS\\u002fEXERCISE\",\"0836:HOUSEHOLD CLEANING\",\"0360:MENS FURNISHINGS\",\"0604:PERSONAL CARE\",\"0973:CANDY\",\"0636:FITNESS\\u002fEXERCISE\",\"0380:MENS ACTIVEWEAR\",\"0360:MENS FURNISHINGS\",\"0604:PERSONAL CARE\",\"0836:HOUSEHOLD CLEANING\",\"0845:AS SEEN ON TV\",\"0857:PC PERIPH\\u002fOFFICE ACC\",\"0962:BEVERAGES\",\"0931:BATH\",\"0603:BEAUTY CARE\",\"0836:HOUSEHOLD CLEANING\",\"0961:GENERAL GROCERIES\",\"0973:CANDY\",\"0320:MNS TAILORED CLOTHNG\",\"0340:MENS CASUAL SLACKS\",\"0355:MENS SPORT SHIRTS\",\"0826:SMALL ELECTRICS\",\"0280:FASHION ACCESSORIES\",\"0532:AMERICAN GREETINGS\",\"0541:BOOKS AND MAPS\",\"0833:TABLETOP\",\"0346:LIFE STYLE DENIM\",\"0369:YOUNG MENS\",\"0595:HOME\\u002fBATH\",\"0854:VIDEO GAMES\",\"0603:BEAUTY CARE\",\"0638:GEN SPORTING GOODS\",\"0597:HEALTH AIDS\",\"0879:PET SUPPLIES\",\"0973:CANDY\",\"0530:SCHOOL\\u002fOFFIC SUPP\",\"0597:HEALTH AIDS\",\"0598:BABY CARE\",\"0604:PERSONAL CARE\",\"0836:HOUSEHOLD CLEANING\",\"0961:GENERAL GROCERIES\",\"0962:BEVERAGES\",\"0973:CANDY\",\"0510:NAVY PRIDE HARDLINES\",\"0973:CANDY\",\"0110:LDS OUTERWEAR\\u002fOUTDR\",\"0962:BEVERAGES\",\"0795:HOME DECOR\",\"0261:HOSIERY\",\"0586:COSTUME JEWELRY\",\"0597:HEALTH AIDS\",\"0604:PERSONAL CARE\",\"0597:HEALTH AIDS\",\"0604:PERSONAL CARE\",\"0836:HOUSEHOLD CLEANING\",\"0962:BEVERAGES\",\"0973:CANDY\",\"0984:BEER\",\"0469:BOYS ACCESSORIES\",\"0486:CHILDRENS FOOTWEAR\",\"0982:SPIRITS\",\"0857:PC PERIPH\\u002fOFFICE ACC\",\"0391:MENS SHOES\",\"0603:BEAUTY CARE\",\"0984:BEER\",\"0071:BEAUTY RETAIL\",\"0593:PRESTIGE COSMETICS\",\"0603:BEAUTY CARE\",\"0593:PRESTIGE COSMETICS\",\"0884:LAWN & GARDEN\",\"0973:CANDY\",\"0984:BEER\",\"0532:AMERICAN GREETINGS\",\"0597:HEALTH AIDS\",\"0056:SOUVENIR\",\"0391:MENS SHOES\",\"0554:TELECOMMUNICATIONS\",\"0590:MASS COSMETICS\",\"0167:MISSY TOPS\",\"0171:MISSY BOTTOMS\",\"0646:SEASONAL\",\"0962:BEVERAGES\",\"0999:UNSCANNED ITEMS\",\"0532:AMERICAN GREETINGS\",\"0597:HEALTH AIDS\",\"0836:HOUSEHOLD CLEANING\",\"0962:BEVERAGES\",\"0532:AMERICAN GREETINGS\",\"0597:HEALTH AIDS\",\"0982:SPIRITS\",\"0983:WINE\",\"0368:TRAD COLLECTIONS\",\"0879:PET SUPPLIES\",\"0961:GENERAL GROCERIES\",\"0962:BEVERAGES\",\"0261:HOSIERY\",\"0822:THIRD PARTY GIFTCARD\",\"0110:LDS OUTERWEAR\\u002fOUTDR\",\"0353:MENS OUTDOOR\",\"0597:HEALTH AIDS\",\"0598:BABY CARE\",\"0962:BEVERAGES\",\"0380:MENS ACTIVEWEAR\",\"0271:HANDBAGS\",\"0845:AS SEEN ON TV\",\"0941:BEDDING\",\"0532:AMERICAN GREETINGS\",\"0836:HOUSEHOLD CLEANING\",\"0961:GENERAL GROCERIES\",\"0962:BEVERAGES\",\"0973:CANDY\",\"0826:SMALL ELECTRICS\",\"0380:MENS ACTIVEWEAR\",\"0530:SCHOOL\\u002fOFFIC SUPP\",\"0585:WATCHES\",\"0836:HOUSEHOLD CLEANING\",\"0973:CANDY\",\"0983:WINE\",\"0076:FLORAL RETAIL\",\"0188:STYLE & CO\",\"0240:SLEEPWEAR\\u002fLOUNGEWEAR\",\"0280:FASHION ACCESSORIES\",\"0597:HEALTH AIDS\",\"0603:BEAUTY CARE\",\"0646:SEASONAL\",\"0722:OUTDOOR LIVING\",\"0879:PET SUPPLIES\",\"0884:LAWN & GARDEN\",\"0973:CANDY\",\"0984:BEER\",\"0177:PETITE SEPARATES\",\"0973:CANDY\",\"0973:CANDY\",\"0369:YOUNG MENS\",\"0973:CANDY\",\"0597:HEALTH AIDS\",\"0604:PERSONAL CARE\",\"0638:GEN SPORTING GOODS\",\"0984:BEER\",\"0639:TEAM SPORTING GOODS\",\"0962:BEVERAGES\",\"0360:MENS FURNISHINGS\",\"0597:HEALTH AIDS\",\"0012:LOCAL GIFTS\\u002fFOODS\",\"0530:SCHOOL\\u002fOFFIC SUPP\",\"0532:AMERICAN GREETINGS\",\"0597:HEALTH AIDS\",\"0640:TOYS\",\"0646:SEASONAL\",\"0826:SMALL ELECTRICS\",\"0836:HOUSEHOLD CLEANING\",\"0850:PC HDWR & OFFICE EQP\",\"0961:GENERAL GROCERIES\",\"0973:CANDY\",\"0845:AS SEEN ON TV\",\"0380:MENS ACTIVEWEAR\",\"0532:AMERICAN GREETINGS\",\"0597:HEALTH AIDS\",\"0071:BEAUTY RETAIL\",\"0601:VALUE ZONE\",\"0603:BEAUTY CARE\",\"0240:SLEEPWEAR\\u002fLOUNGEWEAR\",\"0973:CANDY\",\"0836:HOUSEHOLD CLEANING\",\"0597:HEALTH AIDS\",\"0603:BEAUTY CARE\",\"0604:PERSONAL CARE\",\"0822:THIRD PARTY GIFTCARD\",\"0836:HOUSEHOLD CLEANING\",\"0343:MENS DENIM JEANS\",\"0531:STATIONERY SUNDRIES\",\"0380:MENS ACTIVEWEAR\",\"0532:AMERICAN GREETINGS\",\"0961:GENERAL GROCERIES\",\"0962:BEVERAGES\",\"0965:PERISHABLES\",\"0973:CANDY\",\"0597:HEALTH AIDS\",\"0604:PERSONAL CARE\",\"0634:VITAMINS & HLTH AIDS\",\"0879:PET SUPPLIES\",\"0962:BEVERAGES\",\"0601:VALUE ZONE\",\"0973:CANDY\",\"0973:CANDY\",\"0590:MASS COSMETICS\",\"0603:BEAUTY CARE\",\"0962:BEVERAGES\",\"0973:CANDY\",\"0343:MENS DENIM JEANS\",\"0360:MENS FURNISHINGS\",\"0368:TRAD COLLECTIONS\",\"0640:TOYS\",\"0846:BATTERIES\",\"0593:PRESTIGE COSMETICS\",\"0973:CANDY\",\"0240:SLEEPWEAR\\u002fLOUNGEWEAR\",\"0261:HOSIERY\",\"0636:FITNESS\\u002fEXERCISE\",\"0646:SEASONAL\",\"0884:LAWN & GARDEN\",\"0961:GENERAL GROCERIES\",\"0973:CANDY\",\"0532:AMERICAN GREETINGS\",\"0603:BEAUTY CARE\",\"0983:WINE\",\"0163:JUNIOR TOPS\",\"0532:AMERICAN GREETINGS\",\"0590:MASS COSMETICS\",\"0593:PRESTIGE COSMETICS\",\"0603:BEAUTY CARE\",\"0973:CANDY\",\"0982:SPIRITS\",\"0983:WINE\",\"0167:MISSY TOPS\",\"0175:WOMENS SEPARATES\",\"0639:TEAM SPORTING GOODS\",\"0982:SPIRITS\",\"0961:GENERAL GROCERIES\",\"0962:BEVERAGES\",\"0973:CANDY\",\"0360:MENS FURNISHINGS\",\"0369:YOUNG MENS\",\"0395:MENS ATHLETIC SHOES\",\"0421:TODDLER GIRL APPAREL\",\"0470:BOYS 8-20 CLOTHING\",\"0826:SMALL ELECTRICS\",\"0973:CANDY\",\"0510:NAVY PRIDE HARDLINES\",\"0593:PRESTIGE COSMETICS\",\"0603:BEAUTY CARE\",\"0639:TEAM SPORTING GOODS\",\"0822:THIRD PARTY GIFTCARD\",\"0836:HOUSEHOLD CLEANING\",\"0291:WOMENS FTWR:DRS\\u002fCAS\",\"0598:BABY CARE\",\"0530:SCHOOL\\u002fOFFIC SUPP\",\"0603:BEAUTY CARE\",\"0604:PERSONAL CARE\",\"0836:HOUSEHOLD CLEANING\",\"0845:AS SEEN ON TV\",\"0879:PET SUPPLIES\",\"0982:SPIRITS\",\"0991:TOBACCO\",\"0360:MENS FURNISHINGS\",\"0597:HEALTH AIDS\",\"0836:HOUSEHOLD CLEANING\",\"0879:PET SUPPLIES\",\"0941:BEDDING\",\"0240:SLEEPWEAR\\u002fLOUNGEWEAR\",\"0261:HOSIERY\",\"0530:SCHOOL\\u002fOFFIC SUPP\",\"0597:HEALTH AIDS\",\"0982:SPIRITS\",\"0983:WINE\",\"0177:PETITE SEPARATES\",\"0593:PRESTIGE COSMETICS\",\"0532:AMERICAN GREETINGS\",\"0603:BEAUTY CARE\",\"0962:BEVERAGES\",\"0230:DAYWEAR\",\"0797:SEASONAL GIFTS\",\"0826:SMALL ELECTRICS\",\"0355:MENS SPORT SHIRTS\",\"0310:MENS OUTERWEAR\",\"0355:MENS SPORT SHIRTS\",\"0359:MENS ACCESSORIES\",\"0368:TRAD COLLECTIONS\",\"0845:AS SEEN ON TV\",\"0983:WINE\",\"0360:MENS FURNISHINGS\",\"0369:YOUNG MENS\",\"0391:MENS SHOES\",\"0597:HEALTH AIDS\",\"0973:CANDY\",\"0983:WINE\",\"0098:WAREHOUSED EXPENSES\",\"0511:NAVY PRIDE SOFTLINES\",\"0532:AMERICAN GREETINGS\",\"0598:BABY CARE\",\"0110:LDS OUTERWEAR\\u002fOUTDR\",\"0193:LADIES ACTIVEWEAR\",\"0851:PC HARDWARE\",\"0598:BABY CARE\",\"0603:BEAUTY CARE\",\"0604:PERSONAL CARE\",\"0604:PERSONAL CARE\",\"0638:GEN SPORTING GOODS\",\"0879:PET SUPPLIES\",\"0962:BEVERAGES\",\"0597:HEALTH AIDS\",\"0603:BEAUTY CARE\",\"0604:PERSONAL CARE\",\"0973:CANDY\",\"0532:AMERICAN GREETINGS\",\"0603:BEAUTY CARE\",\"0982:SPIRITS\",\"0983:WINE\",\"0131:LADIES DRESSES\",\"0590:MASS COSMETICS\",\"0604:PERSONAL CARE\",\"0973:CANDY\",\"0597:HEALTH AIDS\",\"0009:FLORAL SERV\\u002fSUPPLIES\",\"0415:NEWBORN APPAREL\",\"0598:BABY CARE\",\"0836:HOUSEHOLD CLEANING\",\"0962:BEVERAGES\",\"0984:BEER\",\"0962:BEVERAGES\",\"0639:TEAM SPORTING GOODS\",\"0360:MENS FURNISHINGS\",\"0984:BEER\",\"0597:HEALTH AIDS\",\"0603:BEAUTY CARE\",\"0604:PERSONAL CARE\",\"0822:THIRD PARTY GIFTCARD\",\"0589:SUNGLASSES\",\"0110:LDS OUTERWEAR\\u002fOUTDR\",\"0586:COSTUME JEWELRY\",\"0961:GENERAL GROCERIES\",\"0380:MENS ACTIVEWEAR\",\"0320:MNS TAILORED CLOTHNG\",\"0368:TRAD COLLECTIONS\",\"0532:AMERICAN GREETINGS\",\"0359:MENS ACCESSORIES\",\"0532:AMERICAN GREETINGS\",\"0640:TOYS\",\"0846:BATTERIES\",\"0983:WINE\",\"0962:BEVERAGES\",\"0360:MENS FURNISHINGS\",\"0540:PERIODICALS\\u002fCOMICS\",\"0595:HOME\\u002fBATH\",\"0510:NAVY PRIDE HARDLINES\",\"0638:GEN SPORTING GOODS\",\"0962:BEVERAGES\",\"0973:CANDY\",\"0532:AMERICAN GREETINGS\",\"0592:WMNS PRESTIGE FRAG\",\"0604:PERSONAL CARE\",\"0983:WINE\",\"0603:BEAUTY CARE\",\"0632:DIGITAL FITNESS\",\"0973:CANDY\",\"0962:BEVERAGES\",\"0585:WATCHES\",\"0593:PRESTIGE COSMETICS\",\"0973:CANDY\",\"0982:SPIRITS\",\"0360:MENS FURNISHINGS\",\"0597:HEALTH AIDS\",\"0638:GEN SPORTING GOODS\",\"0973:CANDY\",\"0837:GENERAL HOUSEWARES\",\"0965:PERISHABLES\",\"0510:NAVY PRIDE HARDLINES\",\"0163:JUNIOR TOPS\",\"0982:SPIRITS\",\"0983:WINE\",\"0973:CANDY\",\"0358:MENS DRESS SHIRTS\",\"0604:PERSONAL CARE\",\"0511:NAVY PRIDE SOFTLINES\",\"0597:HEALTH AIDS\",\"0604:PERSONAL CARE\",\"0416:INFANT APPAREL\",\"0598:BABY CARE\",\"0369:YOUNG MENS\",\"0836:HOUSEHOLD CLEANING\",\"0940:HOME TEXTILES\",\"0962:BEVERAGES\",\"0193:LADIES ACTIVEWEAR\",\"0416:INFANT APPAREL\",\"0440:GIRLS 7-16 CLOTHING\",\"0460:BOYS 4-7 CLOTHING\",\"0590:MASS COSMETICS\",\"0973:CANDY\",\"0839:HOME ORG\\u002fSOLUTIONS\",\"0931:BATH\",\"0395:MENS ATHLETIC SHOES\",\"0837:GENERAL HOUSEWARES\",\"0598:BABY CARE\",\"0604:PERSONAL CARE\",\"0009:FLORAL SERV\\u002fSUPPLIES\",\"0380:MENS ACTIVEWEAR\",\"0532:AMERICAN GREETINGS\",\"0360:MENS FURNISHINGS\",\"0395:MENS ATHLETIC SHOES\",\"0973:CANDY\",\"0110:LDS OUTERWEAR\\u002fOUTDR\",\"0973:CANDY\",\"0582:GOLD\",\"0585:WATCHES\",\"0597:HEALTH AIDS\",\"0603:BEAUTY CARE\",\"0604:PERSONAL CARE\",\"0836:HOUSEHOLD CLEANING\",\"0973:CANDY\",\"0585:WATCHES\",\"0603:BEAUTY CARE\",\"0836:HOUSEHOLD CLEANING\",\"0585:WATCHES\",\"0603:BEAUTY CARE\",\"0973:CANDY\",\"0360:MENS FURNISHINGS\",\"0973:CANDY\",\"0962:BEVERAGES\",\"0353:MENS OUTDOOR\",\"0638:GEN SPORTING GOODS\",\"0640:TOYS\",\"0280:FASHION ACCESSORIES\",\"0110:LDS OUTERWEAR\\u002fOUTDR\",\"0271:HANDBAGS\",\"0360:MENS FURNISHINGS\",\"0530:SCHOOL\\u002fOFFIC SUPP\",\"0532:AMERICAN GREETINGS\",\"0533:PAPYRUS\",\"0597:HEALTH AIDS\",\"0603:BEAUTY CARE\",\"0634:VITAMINS & HLTH AIDS\",\"0819:PRE-RECORDED A\\u002fV\",\"0826:SMALL ELECTRICS\",\"0836:HOUSEHOLD CLEANING\",\"0930:TABLE TOP & KITCHEN\",\"0973:CANDY\",\"0368:TRAD COLLECTIONS\",\"0603:BEAUTY CARE\",\"0604:PERSONAL CARE\",\"0826:SMALL ELECTRICS\",\"0884:LAWN & GARDEN\",\"0999:UNSCANNED ITEMS\",\"0181:LADIES MODERN COLLEC\",\"0261:HOSIERY\",\"0837:GENERAL HOUSEWARES\",\"0604:PERSONAL CARE\",\"0644:SPORTS NUTRITION\",\"0973:CANDY\",\"0634:VITAMINS & HLTH AIDS\",\"0380:MENS ACTIVEWEAR\",\"0603:BEAUTY CARE\",\"0486:CHILDRENS FOOTWEAR\",\"0486:CHILDRENS FOOTWEAR\",\"0163:JUNIOR TOPS\",\"0071:BEAUTY RETAIL\",\"0644:SPORTS NUTRITION\",\"0879:PET SUPPLIES\",\"0962:BEVERAGES\",\"0982:SPIRITS\",\"0071:BEAUTY RETAIL\",\"0532:AMERICAN GREETINGS\",\"0590:MASS COSMETICS\",\"0593:PRESTIGE COSMETICS\",\"0604:PERSONAL CARE\",\"0836:HOUSEHOLD CLEANING\",\"0884:LAWN & GARDEN\",\"0638:GEN SPORTING GOODS\",\"0941:BEDDING\",\"0982:SPIRITS\",\"0530:SCHOOL\\u002fOFFIC SUPP\",\"0532:AMERICAN GREETINGS\",\"0644:SPORTS NUTRITION\",\"0826:SMALL ELECTRICS\",\"0961:GENERAL GROCERIES\",\"0973:CANDY\",\"0941:BEDDING\",\"0597:HEALTH AIDS\",\"0603:BEAUTY CARE\",\"0861:GENERAL HARDWARE\",\"0340:MENS CASUAL SLACKS\",\"0380:MENS ACTIVEWEAR\",\"0962:BEVERAGES\",\"0961:GENERAL GROCERIES\",\"0962:BEVERAGES\",\"0973:CANDY\",\"0531:STATIONERY SUNDRIES\",\"0646:SEASONAL\",\"0638:GEN SPORTING GOODS\",\"0962:BEVERAGES\",\"0380:MENS ACTIVEWEAR\",\"0416:INFANT APPAREL\",\"0597:HEALTH AIDS\",\"0604:PERSONAL CARE\",\"0638:GEN SPORTING GOODS\",\"0836:HOUSEHOLD CLEANING\",\"0640:TOYS\",\"0646:SEASONAL\",\"0962:BEVERAGES\",\"0973:CANDY\",\"0597:HEALTH AIDS\",\"0836:HOUSEHOLD CLEANING\",\"0603:BEAUTY CARE\",\"0973:CANDY\",\"0598:BABY CARE\",\"0110:LDS OUTERWEAR\\u002fOUTDR\",\"0962:BEVERAGES\",\"0590:MASS COSMETICS\",\"0592:WMNS PRESTIGE FRAG\",\"0593:PRESTIGE COSMETICS\",\"0595:HOME\\u002fBATH\",\"0837:GENERAL HOUSEWARES\",\"0930:TABLE TOP & KITCHEN\",\"0941:BEDDING\",\"0973:CANDY\",\"0110:LDS OUTERWEAR\\u002fOUTDR\",\"0167:MISSY TOPS\",\"0240:SLEEPWEAR\\u002fLOUNGEWEAR\",\"0391:MENS SHOES\",\"0240:SLEEPWEAR\\u002fLOUNGEWEAR\",\"0826:SMALL ELECTRICS\",\"0973:CANDY\",\"0961:GENERAL GROCERIES\",\"0962:BEVERAGES\",\"0532:AMERICAN GREETINGS\",\"0795:HOME DECOR\",\"0797:SEASONAL GIFTS\",\"0822:THIRD PARTY GIFTCARD\",\"0984:BEER\",\"0551:CAMERAS & EQUIP\",\"0411:PEGABLES\",\"0415:NEWBORN APPAREL\",\"0416:INFANT APPAREL\",\"0598:BABY CARE\",\"0603:BEAUTY CARE\",\"0604:PERSONAL CARE\",\"0962:BEVERAGES\",\"0343:MENS DENIM JEANS\",\"0167:MISSY TOPS\",\"0071:BEAUTY RETAIL\",\"0531:STATIONERY SUNDRIES\",\"0532:AMERICAN GREETINGS\",\"0554:TELECOMMUNICATIONS\",\"0603:BEAUTY CARE\",\"0982:SPIRITS\",\"0590:MASS COSMETICS\",\"0597:HEALTH AIDS\",\"0603:BEAUTY CARE\",\"0604:PERSONAL CARE\",\"0861:GENERAL HARDWARE\",\"0962:BEVERAGES\",\"0530:SCHOOL\\u002fOFFIC SUPP\",\"0833:TABLETOP\",\"0836:HOUSEHOLD CLEANING\",\"0012:LOCAL GIFTS\\u002fFOODS\",\"0240:SLEEPWEAR\\u002fLOUNGEWEAR\",\"0261:HOSIERY\",\"0532:AMERICAN GREETINGS\",\"0822:THIRD PARTY GIFTCARD\",\"0845:AS SEEN ON TV\",\"0884:LAWN & GARDEN\",\"0973:CANDY\",\"0982:SPIRITS\",\"0962:BEVERAGES\",\"0973:CANDY\",\"0421:TODDLER GIRL APPAREL\",\"0638:GEN SPORTING GOODS\",\"0836:HOUSEHOLD CLEANING\",\"0261:HOSIERY\",\"0603:BEAUTY CARE\",\"0962:BEVERAGES\",\"0973:CANDY\",\"0416:INFANT APPAREL\",\"0585:WATCHES\",\"0598:BABY CARE\",\"0391:MENS SHOES\",\"0469:BOYS ACCESSORIES\",\"0597:HEALTH AIDS\",\"0604:PERSONAL CARE\",\"0640:TOYS\",\"0815:AUDIO ELECTRONICS\",\"0879:PET SUPPLIES\",\"0962:BEVERAGES\",\"0991:TOBACCO\",\"0585:WATCHES\",\"0597:HEALTH AIDS\",\"0836:HOUSEHOLD CLEANING\",\"0850:PC HDWR & OFFICE EQP\",\"0962:BEVERAGES\",\"0421:TODDLER GIRL APPAREL\",\"0460:BOYS 4-7 CLOTHING\",\"0469:BOYS ACCESSORIES\",\"0486:CHILDRENS FOOTWEAR\",\"0795:HOME DECOR\",\"0983:WINE\",\"0640:TOYS\",\"0359:MENS ACCESSORIES\",\"0837:GENERAL HOUSEWARES\",\"0931:BATH\",\"0167:MISSY TOPS\",\"0839:HOME ORG\\u002fSOLUTIONS\",\"0961:GENERAL GROCERIES\",\"0962:BEVERAGES\",\"0167:MISSY TOPS\",\"0680:AUTOMOTIVE\",\"0819:PRE-RECORDED A\\u002fV\",\"0962:BEVERAGES\",\"0973:CANDY\",\"0440:GIRLS 7-16 CLOTHING\",\"0640:TOYS\",\"0530:SCHOOL\\u002fOFFIC SUPP\",\"0167:MISSY TOPS\",\"0177:PETITE SEPARATES\",\"0056:SOUVENIR\",\"0595:HOME\\u002fBATH\",\"0597:HEALTH AIDS\",\"0879:PET SUPPLIES\",\"0962:BEVERAGES\",\"0973:CANDY\",\"0391:MENS SHOES\",\"0597:HEALTH AIDS\",\"0634:VITAMINS & HLTH AIDS\",\"0836:HOUSEHOLD CLEANING\",\"0230:DAYWEAR\",\"0590:MASS COSMETICS\",\"0593:PRESTIGE COSMETICS\",\"0646:SEASONAL\",\"0240:SLEEPWEAR\\u002fLOUNGEWEAR\",\"0604:PERSONAL CARE\",\"0680:AUTOMOTIVE\",\"0722:OUTDOOR LIVING\",\"0999:UNSCANNED ITEMS\",\"0590:MASS COSMETICS\",\"0597:HEALTH AIDS\",\"0836:HOUSEHOLD CLEANING\",\"0879:PET SUPPLIES\",\"0177:PETITE SEPARATES\",\"0261:HOSIERY\",\"0532:AMERICAN GREETINGS\",\"0836:HOUSEHOLD CLEANING\",\"0590:MASS COSMETICS\",\"0603:BEAUTY CARE\",\"0637:FISHING\",\"0962:BEVERAGES\",\"0973:CANDY\",\"0983:WINE\",\"0540:PERIODICALS\\u002fCOMICS\",\"0836:HOUSEHOLD CLEANING\",\"0822:THIRD PARTY GIFTCARD\",\"0597:HEALTH AIDS\",\"0291:WOMENS FTWR:DRS\\u002fCAS\",\"0161:MISSY KAREN SCOTT\",\"0165:LIFE IS GOOD\",\"0470:BOYS 8-20 CLOTHING\",\"0586:COSTUME JEWELRY\",\"0590:MASS COSMETICS\",\"0603:BEAUTY CARE\",\"0640:TOYS\",\"0680:AUTOMOTIVE\",\"0962:BEVERAGES\",\"0973:CANDY\",\"0962:BEVERAGES\",\"0962:BEVERAGES\",\"0973:CANDY\",\"0961:GENERAL GROCERIES\",\"0962:BEVERAGES\",\"0532:AMERICAN GREETINGS\",\"0973:CANDY\",\"0850:PC HDWR & OFFICE EQP\",\"0532:AMERICAN GREETINGS\",\"0983:WINE\",\"0973:CANDY\",\"0983:WINE\",\"0271:HANDBAGS\",\"0280:FASHION ACCESSORIES\",\"0962:BEVERAGES\",\"0836:HOUSEHOLD CLEANING\",\"0597:HEALTH AIDS\",\"0604:PERSONAL CARE\",\"0961:GENERAL GROCERIES\",\"0962:BEVERAGES\",\"0973:CANDY\",\"0604:PERSONAL CARE\",\"0836:HOUSEHOLD CLEANING\",\"0961:GENERAL GROCERIES\",\"0193:LADIES ACTIVEWEAR\",\"0595:HOME\\u002fBATH\",\"0601:VALUE ZONE\",\"0836:HOUSEHOLD CLEANING\",\"0839:HOME ORG\\u002fSOLUTIONS\",\"0930:TABLE TOP & KITCHEN\",\"0839:HOME ORG\\u002fSOLUTIONS\",\"0861:GENERAL HARDWARE\",\"0863:POWER EQUIPMENT\",\"0941:BEDDING\",\"0982:SPIRITS\",\"0261:HOSIERY\",\"0280:FASHION ACCESSORIES\",\"0593:PRESTIGE COSMETICS\",\"0597:HEALTH AIDS\",\"0603:BEAUTY CARE\",\"0604:PERSONAL CARE\",\"0836:HOUSEHOLD CLEANING\",\"0984:BEER\",\"0554:TELECOMMUNICATIONS\",\"0639:TEAM SPORTING GOODS\",\"0836:HOUSEHOLD CLEANING\",\"0962:BEVERAGES\",\"0973:CANDY\",\"0982:SPIRITS\",\"0991:TOBACCO\",\"0646:SEASONAL\",\"0884:LAWN & GARDEN\",\"0973:CANDY\",\"0210:FOUNDATIONS\",\"0230:DAYWEAR\",\"0261:HOSIERY\",\"0449:GIRLS ACCESSORIES\",\"0510:NAVY PRIDE HARDLINES\",\"0590:MASS COSMETICS\",\"0603:BEAUTY CARE\",\"0634:VITAMINS & HLTH AIDS\",\"0795:HOME DECOR\",\"0797:SEASONAL GIFTS\",\"0836:HOUSEHOLD CLEANING\",\"0863:POWER EQUIPMENT\",\"0962:BEVERAGES\",\"0973:CANDY\",\"0982:SPIRITS\",\"0983:WINE\",\"0604:PERSONAL CARE\",\"0638:GEN SPORTING GOODS\",\"0962:BEVERAGES\",\"0595:HOME\\u002fBATH\",\"0962:BEVERAGES\",\"0982:SPIRITS\",\"0983:WINE\",\"0982:SPIRITS\",\"0179:MODERATE DENIM\",\"0391:MENS SHOES\",\"0486:CHILDRENS FOOTWEAR\",\"0590:MASS COSMETICS\",\"0597:HEALTH AIDS\",\"0603:BEAUTY CARE\",\"0604:PERSONAL CARE\",\"0795:HOME DECOR\",\"0856:GLUES\\u002fTAPES\\u002fACC\",\"0973:CANDY\",\"0965:PERISHABLES\",\"0973:CANDY\",\"0984:BEER\",\"0604:PERSONAL CARE\",\"0836:HOUSEHOLD CLEANING\",\"0930:TABLE TOP & KITCHEN\",\"0940:HOME TEXTILES\",\"0961:GENERAL GROCERIES\",\"0962:BEVERAGES\",\"0604:PERSONAL CARE\",\"0680:AUTOMOTIVE\",\"0973:CANDY\",\"0603:BEAUTY CARE\",\"0833:TABLETOP\",\"0837:GENERAL HOUSEWARES\",\"0973:CANDY\",\"0983:WINE\",\"0604:PERSONAL CARE\",\"0973:CANDY\",\"0597:HEALTH AIDS\",\"0604:PERSONAL CARE\",\"0982:SPIRITS\",\"0597:HEALTH AIDS\",\"0604:PERSONAL CARE\",\"0836:HOUSEHOLD CLEANING\",\"0961:GENERAL GROCERIES\",\"0973:CANDY\",\"0391:MENS SHOES\",\"0415:NEWBORN APPAREL\",\"0421:TODDLER GIRL APPAREL\",\"0486:CHILDRENS FOOTWEAR\",\"0604:PERSONAL CARE\",\"0836:HOUSEHOLD CLEANING\",\"0879:PET SUPPLIES\",\"0554:TELECOMMUNICATIONS\",\"0962:BEVERAGES\",\"0604:PERSONAL CARE\",\"0836:HOUSEHOLD CLEANING\",\"0590:MASS COSMETICS\",\"0603:BEAUTY CARE\",\"0854:VIDEO GAMES\",\"0991:TOBACCO\",\"0380:MENS ACTIVEWEAR\",\"0597:HEALTH AIDS\",\"0638:GEN SPORTING GOODS\",\"0639:TEAM SPORTING GOODS\",\"0644:SPORTS NUTRITION\",\"0603:BEAUTY CARE\",\"0098:WAREHOUSED EXPENSES\",\"0836:HOUSEHOLD CLEANING\",\"0961:GENERAL GROCERIES\",\"0973:CANDY\",\"0421:TODDLER GIRL APPAREL\",\"0640:TOYS\",\"0532:AMERICAN GREETINGS\",\"0230:DAYWEAR\",\"0640:TOYS\",\"0646:SEASONAL\",\"0411:PEGABLES\",\"0532:AMERICAN GREETINGS\",\"0603:BEAUTY CARE\",\"0795:HOME DECOR\",\"0353:MENS OUTDOOR\",\"0962:BEVERAGES\",\"0973:CANDY\",\"0797:SEASONAL GIFTS\",\"0962:BEVERAGES\",\"0532:AMERICAN GREETINGS\",\"0822:THIRD PARTY GIFTCARD\",\"0962:BEVERAGES\",\"0982:SPIRITS\",\"0380:MENS ACTIVEWEAR\",\"0486:CHILDRENS FOOTWEAR\",\"0360:MENS FURNISHINGS\",\"0597:HEALTH AIDS\",\"0973:CANDY\",\"0836:HOUSEHOLD CLEANING\",\"0961:GENERAL GROCERIES\",\"0962:BEVERAGES\",\"0603:BEAUTY CARE\",\"0604:PERSONAL CARE\",\"0261:HOSIERY\",\"0834:COOKWARE\",\"0837:GENERAL HOUSEWARES\",\"0415:NEWBORN APPAREL\",\"0416:INFANT APPAREL\",\"0486:CHILDRENS FOOTWEAR\",\"0598:BABY CARE\",\"0646:SEASONAL\",\"0161:MISSY KAREN SCOTT\",\"0532:AMERICAN GREETINGS\",\"0837:GENERAL HOUSEWARES\",\"0603:BEAUTY CARE\",\"0973:CANDY\",\"0845:AS SEEN ON TV\",\"0861:GENERAL HARDWARE\",\"0962:BEVERAGES\",\"0965:PERISHABLES\",\"0962:BEVERAGES\",\"0640:TOYS\",\"0188:STYLE & CO\",\"0833:TABLETOP\",\"0973:CANDY\",\"0271:HANDBAGS\",\"0999:UNSCANNED ITEMS\",\"0593:PRESTIGE COSMETICS\",\"0596:MENS PRESTIGE FRAG\",\"0018:OTHER DIRECT SERVICE\",\"0983:WINE\",\"0469:BOYS ACCESSORIES\",\"0532:AMERICAN GREETINGS\",\"0797:SEASONAL GIFTS\",\"0359:MENS ACCESSORIES\",\"0016:FINANCIAL SERVICES\",\"0604:PERSONAL CARE\",\"0836:HOUSEHOLD CLEANING\",\"0530:SCHOOL\\u002fOFFIC SUPP\",\"0380:MENS ACTIVEWEAR\",\"0604:PERSONAL CARE\",\"0961:GENERAL GROCERIES\",\"0973:CANDY\",\"0597:HEALTH AIDS\",\"0603:BEAUTY CARE\",\"0604:PERSONAL CARE\",\"0646:SEASONAL\",\"0836:HOUSEHOLD CLEANING\",\"0973:CANDY\",\"0110:LDS OUTERWEAR\\u002fOUTDR\",\"0130:JUNIORS SURF\",\"0193:LADIES ACTIVEWEAR\",\"0646:SEASONAL\",\"0879:PET SUPPLIES\",\"0973:CANDY\",\"0380:MENS ACTIVEWEAR\",\"0098:WAREHOUSED EXPENSES\",\"0589:SUNGLASSES\",\"0999:UNSCANNED ITEMS\",\"0826:SMALL ELECTRICS\",\"0098:WAREHOUSED EXPENSES\",\"0973:CANDY\",\"0291:WOMENS FTWR:DRS\\u002fCAS\",\"0018:OTHER DIRECT SERVICE\",\"0449:GIRLS ACCESSORIES\",\"0460:BOYS 4-7 CLOTHING\",\"0982:SPIRITS\",\"0984:BEER\",\"0973:CANDY\",\"0098:WAREHOUSED EXPENSES\",\"0973:CANDY\",\"0962:BEVERAGES\",\"0982:SPIRITS\",\"0983:WINE\",\"0826:SMALL ELECTRICS\",\"0941:BEDDING\",\"0962:BEVERAGES\",\"0110:LDS OUTERWEAR\\u002fOUTDR\",\"0380:MENS ACTIVEWEAR\",\"0597:HEALTH AIDS\",\"0554:TELECOMMUNICATIONS\",\"0638:GEN SPORTING GOODS\",\"0826:SMALL ELECTRICS\",\"0982:SPIRITS\",\"0999:UNSCANNED ITEMS\",\"0879:PET SUPPLIES\",\"0962:BEVERAGES\",\"0982:SPIRITS\",\"0416:INFANT APPAREL\",\"0603:BEAUTY CARE\",\"0604:PERSONAL CARE\",\"0163:JUNIOR TOPS\",\"0173:JUNIOR BOTTOMS\",\"0261:HOSIERY\",\"0603:BEAUTY CARE\",\"0822:THIRD PARTY GIFTCARD\",\"0836:HOUSEHOLD CLEANING\",\"0836:HOUSEHOLD CLEANING\",\"0973:CANDY\",\"0486:CHILDRENS FOOTWEAR\",\"0430:GIRLS 4-6X CLOTHING\",\"0016:FINANCIAL SERVICES\",\"0016:FINANCIAL SERVICES\",\"0016:FINANCIAL SERVICES\",\"0589:SUNGLASSES\",\"0056:SOUVENIR\",\"0532:AMERICAN GREETINGS\",\"0595:HOME\\u002fBATH\",\"0532:AMERICAN GREETINGS\",\"0634:VITAMINS & HLTH AIDS\",\"0999:UNSCANNED ITEMS\",\"0018:OTHER DIRECT SERVICE\",\"0530:SCHOOL\\u002fOFFIC SUPP\",\"0369:YOUNG MENS\",\"0597:HEALTH AIDS\",\"0640:TOYS\",\"0962:BEVERAGES\",\"0016:FINANCIAL SERVICES\",\"0860:NETWORKING\",\"0161:MISSY KAREN SCOTT\",\"0973:CANDY\",\"0984:BEER\",\"0440:GIRLS 7-16 CLOTHING\",\"0449:GIRLS ACCESSORIES\",\"0411:PEGABLES\",\"0369:YOUNG MENS\",\"0380:MENS ACTIVEWEAR\",\"0962:BEVERAGES\",\"0838:FLOOR CARE\",\"0973:CANDY\",\"0016:FINANCIAL SERVICES\",\"0973:CANDY\",\"0962:BEVERAGES\",\"0395:MENS ATHLETIC SHOES\",\"0597:HEALTH AIDS\",\"0680:AUTOMOTIVE\",\"0016:FINANCIAL SERVICES\",\"0836:HOUSEHOLD CLEANING\",\"0879:PET SUPPLIES\",\"0962:BEVERAGES\",\"0016:FINANCIAL SERVICES\",\"0353:MENS OUTDOOR\",\"0646:SEASONAL\",\"0962:BEVERAGES\",\"0973:CANDY\",\"0815:AUDIO ELECTRONICS\",\"0604:PERSONAL CARE\",\"0884:LAWN & GARDEN\",\"0646:SEASONAL\",\"0884:LAWN & GARDEN\",\"0982:SPIRITS\",\"0983:WINE\",\"0983:WINE\",\"0532:AMERICAN GREETINGS\",\"0884:LAWN & GARDEN\",\"0531:STATIONERY SUNDRIES\",\"0646:SEASONAL\",\"0884:LAWN & GARDEN\",\"0603:BEAUTY CARE\",\"0646:SEASONAL\",\"0680:AUTOMOTIVE\",\"0982:SPIRITS\",\"0884:LAWN & GARDEN\",\"0597:HEALTH AIDS\",\"0973:CANDY\",\"0884:LAWN & GARDEN\",\"0646:SEASONAL\",\"0884:LAWN & GARDEN\",\"0962:BEVERAGES\",\"0982:SPIRITS\",\"0884:LAWN & GARDEN\",\"0982:SPIRITS\",\"0597:HEALTH AIDS\",\"0856:GLUES\\u002fTAPES\\u002fACC\",\"0982:SPIRITS\",\"0645:BIKES\",\"0597:HEALTH AIDS\",\"0826:SMALL ELECTRICS\",\"0983:WINE\",\"0722:OUTDOOR LIVING\",\"0646:SEASONAL\",\"0999:UNSCANNED ITEMS\",\"0982:SPIRITS\",\"0646:SEASONAL\",\"0879:PET SUPPLIES\",\"0982:SPIRITS\",\"0982:SPIRITS\",\"0991:TOBACCO\",\"0646:SEASONAL\",\"0646:SEASONAL\",\"0819:PRE-RECORDED A\\u002fV\",\"0884:LAWN & GARDEN\",\"0962:BEVERAGES\",\"0982:SPIRITS\",\"0983:WINE\",\"0984:BEER\",\"0884:LAWN & GARDEN\",\"0884:LAWN & GARDEN\",\"0646:SEASONAL\",\"0845:AS SEEN ON TV\",\"0941:BEDDING\",\"0836:HOUSEHOLD CLEANING\",\"0646:SEASONAL\",\"0879:PET SUPPLIES\",\"0646:SEASONAL\",\"0884:LAWN & GARDEN\",\"0646:SEASONAL\",\"0982:SPIRITS\",\"0983:WINE\",\"0291:WOMENS FTWR:DRS\\u002fCAS\",\"0645:BIKES\",\"0646:SEASONAL\",\"0884:LAWN & GARDEN\",\"0646:SEASONAL\",\"0984:BEER\",\"0845:AS SEEN ON TV\",\"0984:BEER\",\"0646:SEASONAL\",\"0982:SPIRITS\",\"0983:WINE\",\"0884:LAWN & GARDEN\",\"0884:LAWN & GARDEN\",\"0983:WINE\",\"0722:OUTDOOR LIVING\",\"0982:SPIRITS\",\"0531:STATIONERY SUNDRIES\",\"0982:SPIRITS\",\"0531:STATIONERY SUNDRIES\",\"0590:MASS COSMETICS\",\"0646:SEASONAL\",\"0973:CANDY\",\"0639:TEAM SPORTING GOODS\",\"0982:SPIRITS\",\"0984:BEER\",\"0722:OUTDOOR LIVING\",\"0071:BEAUTY RETAIL\",\"0603:BEAUTY CARE\",\"0604:PERSONAL CARE\",\"0884:LAWN & GARDEN\",\"0640:TOYS\",\"0640:TOYS\",\"0973:CANDY\",\"0982:SPIRITS\",\"0597:HEALTH AIDS\",\"0640:TOYS\",\"0646:SEASONAL\",\"0722:OUTDOOR LIVING\",\"0856:GLUES\\u002fTAPES\\u002fACC\",\"0861:GENERAL HARDWARE\",\"0845:AS SEEN ON TV\",\"0541:BOOKS AND MAPS\",\"0884:LAWN & GARDEN\",\"0879:PET SUPPLIES\",\"0646:SEASONAL\",\"0861:GENERAL HARDWARE\",\"0640:TOYS\",\"0861:GENERAL HARDWARE\",\"0884:LAWN & GARDEN\",\"0646:SEASONAL\",\"0884:LAWN & GARDEN\",\"0973:CANDY\",\"0646:SEASONAL\",\"0962:BEVERAGES\",\"0368:TRAD COLLECTIONS\",\"0590:MASS COSMETICS\",\"0593:PRESTIGE COSMETICS\",\"0597:HEALTH AIDS\",\"0603:BEAUTY CARE\",\"0604:PERSONAL CARE\",\"0982:SPIRITS\",\"0110:LDS OUTERWEAR\\u002fOUTDR\",\"0984:BEER\",\"0982:SPIRITS\",\"0982:SPIRITS\",\"0884:LAWN & GARDEN\",\"0961:GENERAL GROCERIES\",\"0640:TOYS\",\"0879:PET SUPPLIES\",\"0999:UNSCANNED ITEMS\",\"0982:SPIRITS\",\"0884:LAWN & GARDEN\",\"0884:LAWN & GARDEN\",\"0646:SEASONAL\",\"0861:GENERAL HARDWARE\",\"0884:LAWN & GARDEN\",\"0884:LAWN & GARDEN\",\"0884:LAWN & GARDEN\",\"0826:SMALL ELECTRICS\",\"0837:GENERAL HOUSEWARES\",\"0884:LAWN & GARDEN\",\"0982:SPIRITS\",\"0531:STATIONERY SUNDRIES\",\"0646:SEASONAL\",\"0640:TOYS\",\"0646:SEASONAL\",\"0646:SEASONAL\",\"0271:HANDBAGS\",\"0589:SUNGLASSES\",\"0585:WATCHES\",\"0585:WATCHES\",\"0585:WATCHES\",\"0585:WATCHES\",\"0962:BEVERAGES\",\"0973:CANDY\",\"0589:SUNGLASSES\",\"0014:REPAIRS\",\"0532:AMERICAN GREETINGS\",\"0581:BRIDGE JEWELRY\",\"0261:HOSIERY\",\"0581:BRIDGE JEWELRY\",\"0581:BRIDGE JEWELRY\",\"0581:BRIDGE JEWELRY\",\"0581:BRIDGE JEWELRY\",\"0368:TRAD COLLECTIONS\",\"0530:SCHOOL\\u002fOFFIC SUPP\",\"0532:AMERICAN GREETINGS\",\"0586:COSTUME JEWELRY\",\"0581:BRIDGE JEWELRY\",\"0583:DIAMONDS\\u002fBRIDAL\",\"0581:BRIDGE JEWELRY\",\"0581:BRIDGE JEWELRY\",\"0582:GOLD\",\"0584:GEMSTONES\",\"0581:BRIDGE JEWELRY\",\"0581:BRIDGE JEWELRY\",\"0583:DIAMONDS\\u002fBRIDAL\",\"0583:DIAMONDS\\u002fBRIDAL\",\"0581:BRIDGE JEWELRY\",\"0581:BRIDGE JEWELRY\",\"0583:DIAMONDS\\u002fBRIDAL\",\"0271:HANDBAGS\",\"0581:BRIDGE JEWELRY\",\"0583:DIAMONDS\\u002fBRIDAL\",\"0587:JEWELRY CONSIGNMENT\",\"0587:JEWELRY CONSIGNMENT\",\"0581:BRIDGE JEWELRY\",\"0584:GEMSTONES\",\"0582:GOLD\",\"0581:BRIDGE JEWELRY\",\"0584:GEMSTONES\",\"0581:BRIDGE JEWELRY\",\"0581:BRIDGE JEWELRY\",\"0581:BRIDGE JEWELRY\",\"0582:GOLD\",\"0583:DIAMONDS\\u002fBRIDAL\",\"0369:YOUNG MENS\",\"0581:BRIDGE JEWELRY\",\"0360:MENS FURNISHINGS\",\"0391:MENS SHOES\",\"0395:MENS ATHLETIC SHOES\",\"0469:BOYS ACCESSORIES\",\"0603:BEAUTY CARE\",\"0811:TELEVISION\",\"0845:AS SEEN ON TV\",\"0879:PET SUPPLIES\",\"0811:TELEVISION\",\"0815:AUDIO ELECTRONICS\",\"0551:CAMERAS & EQUIP\",\"0823:SMART HOME\",\"0395:MENS ATHLETIC SHOES\",\"0551:CAMERAS & EQUIP\",\"0838:FLOOR CARE\",\"0603:BEAUTY CARE\",\"0797:SEASONAL GIFTS\",\"0836:HOUSEHOLD CLEANING\",\"0530:SCHOOL\\u002fOFFIC SUPP\",\"0597:HEALTH AIDS\",\"0815:AUDIO ELECTRONICS\",\"0838:FLOOR CARE\",\"0826:SMALL ELECTRICS\",\"0811:TELEVISION\",\"0811:TELEVISION\",\"0816:VIDEO ELECTRONICS\",\"0230:DAYWEAR\",\"0833:TABLETOP\",\"0834:COOKWARE\",\"0930:TABLE TOP & KITCHEN\",\"0991:TOBACCO\",\"0815:AUDIO ELECTRONICS\",\"0850:PC HDWR & OFFICE EQP\",\"0530:SCHOOL\\u002fOFFIC SUPP\",\"0533:PAPYRUS\",\"0638:GEN SPORTING GOODS\",\"0826:SMALL ELECTRICS\",\"0846:BATTERIES\",\"0857:PC PERIPH\\u002fOFFICE ACC\",\"0962:BEVERAGES\",\"0353:MENS OUTDOOR\",\"0857:PC PERIPH\\u002fOFFICE ACC\",\"0859:iPAD\",\"0295:WOMENS ATHLTIC SHOES\",\"0391:MENS SHOES\",\"0853:DIMAGE\\u002fPHONE\\u002fGPS\\u002fACC\",\"0811:TELEVISION\",\"0850:PC HDWR & OFFICE EQP\",\"0851:PC HARDWARE\",\"0220:SHAPEWEAR\",\"0230:DAYWEAR\",\"0532:AMERICAN GREETINGS\",\"0816:VIDEO ELECTRONICS\",\"0551:CAMERAS & EQUIP\",\"0554:TELECOMMUNICATIONS\",\"0819:PRE-RECORDED A\\u002fV\",\"0834:COOKWARE\",\"0837:GENERAL HOUSEWARES\",\"0811:TELEVISION\",\"0811:TELEVISION\",\"0819:PRE-RECORDED A\\u002fV\",\"0072:BARBER SERVICES\",\"0072:BARBER SERVICES\",\"0072:BARBER SERVICES\",\"0072:BARBER SERVICES\",\"0072:BARBER SERVICES\",\"0072:BARBER SERVICES\",\"0072:BARBER SERVICES\",\"0072:BARBER SERVICES\",\"0072:BARBER SERVICES\",\"0072:BARBER SERVICES\",\"0072:BARBER SERVICES\",\"0072:BARBER SERVICES\",\"0072:BARBER SERVICES\",\"0072:BARBER SERVICES\",\"0072:BARBER SERVICES\",\"0072:BARBER SERVICES\",\"0072:BARBER SERVICES\",\"0072:BARBER SERVICES\",\"0072:BARBER SERVICES\",\"0072:BARBER SERVICES\",\"0072:BARBER SERVICES\",\"0072:BARBER SERVICES\",\"0072:BARBER SERVICES\",\"0072:BARBER SERVICES\",\"0072:BARBER SERVICES\",\"0072:BARBER SERVICES\",\"0072:BARBER SERVICES\",\"0072:BARBER SERVICES\",\"0072:BARBER SERVICES\",\"0072:BARBER SERVICES\",\"0072:BARBER SERVICES\",\"0072:BARBER SERVICES\",\"0002:BARBER RETAIL\",\"0072:BARBER SERVICES\",\"0072:BARBER SERVICES\",\"0072:BARBER SERVICES\",\"0072:BARBER SERVICES\",\"0072:BARBER SERVICES\",\"0072:BARBER SERVICES\",\"0072:BARBER SERVICES\",\"0072:BARBER SERVICES\",\"0072:BARBER SERVICES\",\"0072:BARBER SERVICES\",\"0072:BARBER SERVICES\",\"0072:BARBER SERVICES\",\"0072:BARBER SERVICES\",\"0072:BARBER SERVICES\",\"0072:BARBER SERVICES\",\"0072:BARBER SERVICES\",\"0072:BARBER SERVICES\",\"0072:BARBER SERVICES\",\"0072:BARBER SERVICES\",\"0072:BARBER SERVICES\",\"0072:BARBER SERVICES\",\"0072:BARBER SERVICES\",\"0072:BARBER SERVICES\",\"0072:BARBER SERVICES\",\"0072:BARBER SERVICES\",\"0072:BARBER SERVICES\",\"0072:BARBER SERVICES\",\"0962:BEVERAGES\",\"0072:BARBER SERVICES\",\"0072:BARBER SERVICES\",\"0072:BARBER SERVICES\",\"0072:BARBER SERVICES\",\"0072:BARBER SERVICES\",\"0072:BARBER SERVICES\",\"0072:BARBER SERVICES\",\"0072:BARBER SERVICES\",\"0072:BARBER SERVICES\",\"0072:BARBER SERVICES\",\"0072:BARBER SERVICES\",\"0072:BARBER SERVICES\",\"0072:BARBER SERVICES\",\"0072:BARBER SERVICES\",\"0072:BARBER SERVICES\",\"0072:BARBER SERVICES\",\"0072:BARBER SERVICES\",\"0072:BARBER SERVICES\",\"0072:BARBER SERVICES\",\"0072:BARBER SERVICES\",\"0072:BARBER SERVICES\",\"0072:BARBER SERVICES\",\"0072:BARBER SERVICES\",\"0072:BARBER SERVICES\",\"0072:BARBER SERVICES\",\"0072:BARBER SERVICES\",\"0072:BARBER SERVICES\",\"0072:BARBER SERVICES\",\"0072:BARBER SERVICES\",\"0072:BARBER SERVICES\",\"0072:BARBER SERVICES\",\"0072:BARBER SERVICES\",\"0072:BARBER SERVICES\",\"0072:BARBER SERVICES\",\"0072:BARBER SERVICES\",\"0072:BARBER SERVICES\",\"0072:BARBER SERVICES\",\"0072:BARBER SERVICES\",\"0072:BARBER SERVICES\",\"0072:BARBER SERVICES\",\"0072:BARBER SERVICES\",\"0072:BARBER SERVICES\",\"0002:BARBER RETAIL\",\"0072:BARBER SERVICES\",\"0072:BARBER SERVICES\",\"0072:BARBER SERVICES\",\"0072:BARBER SERVICES\",\"0072:BARBER SERVICES\",\"0072:BARBER SERVICES\",\"0072:BARBER SERVICES\",\"0072:BARBER SERVICES\",\"0072:BARBER SERVICES\",\"0072:BARBER SERVICES\",\"0072:BARBER SERVICES\",\"0962:BEVERAGES\",\"0076:FLORAL RETAIL\",\"0076:FLORAL RETAIL\",\"0056:SOUVENIR\",\"0510:NAVY PRIDE HARDLINES\",\"0962:BEVERAGES\",\"0973:CANDY\",\"0018:OTHER DIRECT SERVICE\",\"0009:FLORAL SERV\\u002fSUPPLIES\",\"0961:GENERAL GROCERIES\",\"0962:BEVERAGES\",\"0962:BEVERAGES\",\"0076:FLORAL RETAIL\",\"0532:AMERICAN GREETINGS\",\"0593:PRESTIGE COSMETICS\",\"0884:LAWN & GARDEN\",\"0961:GENERAL GROCERIES\",\"0009:FLORAL SERV\\u002fSUPPLIES\",\"0009:FLORAL SERV\\u002fSUPPLIES\",\"0056:SOUVENIR\",\"0009:FLORAL SERV\\u002fSUPPLIES\",\"0532:AMERICAN GREETINGS\",\"0983:WINE\",\"0009:FLORAL SERV\\u002fSUPPLIES\",\"0861:GENERAL HARDWARE\",\"0962:BEVERAGES\",\"0009:FLORAL SERV\\u002fSUPPLIES\",\"0532:AMERICAN GREETINGS\",\"0469:BOYS ACCESSORIES\",\"0838:FLOOR CARE\",\"0395:MENS ATHLETIC SHOES\",\"0530:SCHOOL\\u002fOFFIC SUPP\",\"0797:SEASONAL GIFTS\",\"0837:GENERAL HOUSEWARES\",\"0826:SMALL ELECTRICS\",\"0962:BEVERAGES\",\"0973:CANDY\",\"0853:DIMAGE\\u002fPHONE\\u002fGPS\\u002fACC\",\"0530:SCHOOL\\u002fOFFIC SUPP\",\"0815:AUDIO ELECTRONICS\",\"0551:CAMERAS & EQUIP\",\"0811:TELEVISION\",\"0795:HOME DECOR\",\"0551:CAMERAS & EQUIP\",\"0857:PC PERIPH\\u002fOFFICE ACC\",\"0449:GIRLS ACCESSORIES\",\"0415:NEWBORN APPAREL\",\"0850:PC HDWR & OFFICE EQP\",\"0851:PC HARDWARE\",\"0811:TELEVISION\",\"0815:AUDIO ELECTRONICS\",\"0597:HEALTH AIDS\",\"0604:PERSONAL CARE\",\"0826:SMALL ELECTRICS\",\"0836:HOUSEHOLD CLEANING\",\"0931:BATH\",\"0795:HOME DECOR\",\"0530:SCHOOL\\u002fOFFIC SUPP\",\"0854:VIDEO GAMES\",\"0854:VIDEO GAMES\",\"0836:HOUSEHOLD CLEANING\",\"0860:NETWORKING\",\"0839:HOME ORG\\u002fSOLUTIONS\",\"0167:MISSY TOPS\",\"0354:MENS MODERN COLLECT\",\"0380:MENS ACTIVEWEAR\",\"0837:GENERAL HOUSEWARES\",\"0859:iPAD\",\"0837:GENERAL HOUSEWARES\",\"0604:PERSONAL CARE\",\"0811:TELEVISION\",\"0815:AUDIO ELECTRONICS\",\"0823:SMART HOME\",\"0486:CHILDRENS FOOTWEAR\",\"0795:HOME DECOR\",\"0797:SEASONAL GIFTS\",\"0860:NETWORKING\",\"0530:SCHOOL\\u002fOFFIC SUPP\",\"0530:SCHOOL\\u002fOFFIC SUPP\",\"0839:HOME ORG\\u002fSOLUTIONS\",\"0822:THIRD PARTY GIFTCARD\",\"0854:VIDEO GAMES\",\"0530:SCHOOL\\u002fOFFIC SUPP\",\"0930:TABLE TOP & KITCHEN\",\"0815:AUDIO ELECTRONICS\",\"0439:JUVENILLE FURNITURE\",\"0530:SCHOOL\\u002fOFFIC SUPP\",\"0850:PC HDWR & OFFICE EQP\",\"0833:TABLETOP\",\"0836:HOUSEHOLD CLEANING\",\"0982:SPIRITS\",\"0811:TELEVISION\",\"0530:SCHOOL\\u002fOFFIC SUPP\",\"0597:HEALTH AIDS\",\"0836:HOUSEHOLD CLEANING\",\"0850:PC HDWR & OFFICE EQP\",\"0852:COMPUTER SOFTWARE\",\"0854:VIDEO GAMES\",\"0391:MENS SHOES\",\"0421:TODDLER GIRL APPAREL\",\"0426:TODDLER BOY APPAREL\",\"0460:BOYS 4-7 CLOTHING\",\"0469:BOYS ACCESSORIES\",\"0486:CHILDRENS FOOTWEAR\",\"0815:AUDIO ELECTRONICS\",\"0860:NETWORKING\",\"0210:FOUNDATIONS\",\"0230:DAYWEAR\",\"0391:MENS SHOES\",\"0857:PC PERIPH\\u002fOFFICE ACC\",\"0816:VIDEO ELECTRONICS\",\"0819:PRE-RECORDED A\\u002fV\",\"0850:PC HDWR & OFFICE EQP\",\"0837:GENERAL HOUSEWARES\",\"0597:HEALTH AIDS\",\"0598:BABY CARE\",\"0837:GENERAL HOUSEWARES\",\"0973:CANDY\",\"0811:TELEVISION\",\"0811:TELEVISION\",\"0815:AUDIO ELECTRONICS\",\"0811:TELEVISION\",\"0823:SMART HOME\",\"0815:AUDIO ELECTRONICS\",\"0554:TELECOMMUNICATIONS\",\"0358:MENS DRESS SHIRTS\",\"0554:TELECOMMUNICATIONS\",\"0817:WEARABLES\",\"0603:BEAUTY CARE\",\"0815:AUDIO ELECTRONICS\",\"0554:TELECOMMUNICATIONS\",\"0131:LADIES DRESSES\",\"0343:MENS DENIM JEANS\",\"0391:MENS SHOES\",\"0640:TOYS\",\"0826:SMALL ELECTRICS\",\"0411:PEGABLES\",\"0598:BABY CARE\",\"0860:NETWORKING\",\"0837:GENERAL HOUSEWARES\",\"0931:BATH\",\"0851:PC HARDWARE\",\"0551:CAMERAS & EQUIP\",\"0811:TELEVISION\",\"0815:AUDIO ELECTRONICS\",\"0851:PC HARDWARE\",\"0854:VIDEO GAMES\",\"0240:SLEEPWEAR\\u002fLOUNGEWEAR\",\"0837:GENERAL HOUSEWARES\",\"0845:AS SEEN ON TV\",\"0857:PC PERIPH\\u002fOFFICE ACC\",\"0931:BATH\",\"0941:BEDDING\",\"0991:TOBACCO\",\"0815:AUDIO ELECTRONICS\",\"0857:PC PERIPH\\u002fOFFICE ACC\",\"0395:MENS ATHLETIC SHOES\",\"0815:AUDIO ELECTRONICS\",\"0532:AMERICAN GREETINGS\",\"0066:VENDING\\u002fAMUSEMENT MA\"],\"x0\":\" \",\"xaxis\":\"x\",\"y\":[2,1,2,2,1,4,2,1,5,1,1,1,3,2,4,1,16,1,2,1,1,1,1,1,7,1,1,1,1,1,1,2,1,1,1,2,1,1,1,1,1,3,1,4,2,1,1,1,2,2,1,1,1,1,2,2,1,1,1,1,2,1,3,1,1,2,3,1,3,5,3,1,1,1,1,2,1,1,1,1,1,1,3,1,1,2,1,4,2,1,1,1,2,1,2,1,1,1,2,1,1,1,1,2,2,2,2,1,1,1,2,5,1,3,4,2,1,1,1,1,1,1,3,4,1,11,2,2,1,1,1,1,24,1,1,1,1,2,1,1,8,2,1,1,2,1,2,1,2,1,1,1,4,4,1,1,1,6,3,3,1,1,2,3,3,6,1,2,2,9,6,1,2,2,1,1,1,1,2,1,1,1,2,3,3,4,1,2,2,1,1,1,3,1,2,1,9,1,3,1,1,1,1,1,2,1,2,1,2,2,2,1,1,4,3,1,1,1,2,2,1,1,3,1,1,1,2,3,1,2,5,2,2,1,1,2,1,3,2,3,2,1,3,2,2,2,2,1,1,1,4,2,1,1,13,1,1,2,4,1,1,1,2,3,1,2,1,1,4,1,2,3,3,1,1,4,2,1,2,1,1,3,4,4,5,1,1,1,2,1,1,1,1,2,1,3,1,2,4,1,2,1,4,1,3,1,1,1,2,2,1,1,6,1,4,3,2,2,1,8,1,2,2,1,3,2,2,3,4,4,2,1,3,1,1,2,1,1,8,1,1,1,1,2,1,3,2,1,2,1,7,2,1,1,1,1,2,1,1,2,1,2,2,3,1,2,1,1,1,1,1,2,3,3,1,1,1,1,3,1,3,2,4,3,2,2,1,3,1,4,2,4,4,1,2,1,3,1,1,1,1,1,1,2,1,2,1,4,3,10,3,2,8,1,1,1,1,1,1,1,1,1,4,1,1,1,2,1,4,6,3,1,3,1,11,3,3,1,1,1,2,12,1,3,2,10,3,3,1,7,1,1,1,1,1,2,1,12,2,1,2,2,1,1,2,2,1,1,1,1,1,3,1,1,7,1,1,1,1,1,1,1,1,1,1,1,7,2,3,1,1,1,5,2,5,1,2,3,2,4,1,2,1,2,6,1,6,1,1,1,2,1,1,1,1,1,1,5,4,1,4,2,1,1,2,1,1,3,1,2,1,6,1,1,1,1,3,1,1,2,5,3,2,1,2,7,1,2,6,1,1,3,3,1,1,1,3,1,6,4,1,1,2,5,2,3,1,1,1,12,2,2,1,1,1,1,1,1,1,1,1,1,1,3,12,2,1,1,1,1,4,1,1,4,1,2,2,1,1,1,1,3,1,3,1,1,2,1,1,1,3,1,1,2,1,1,1,7,1,1,3,1,1,1,1,1,6,1,1,1,1,1,1,1,2,1,2,1,5,1,4,7,1,2,3,1,1,1,1,1,1,7,1,2,1,1,1,1,1,1,1,2,2,2,1,1,1,2,2,1,3,1,1,2,2,3,2,2,1,1,2,1,2,1,1,1,1,1,2,3,2,1,1,2,1,1,2,1,2,3,1,1,1,1,1,3,1,1,1,3,1,1,1,2,2,6,2,1,1,1,2,4,1,1,2,1,1,1,2,3,1,1,1,1,1,1,5,1,1,1,1,4,2,1,2,2,4,2,1,1,1,1,2,1,2,1,1,1,2,1,2,2,1,1,1,1,2,1,1,2,1,3,1,1,1,2,1,1,1,1,2,2,1,3,1,1,1,6,2,1,1,1,1,3,3,1,1,1,1,2,1,3,3,3,1,2,1,3,3,2,1,1,2,1,3,1,1,1,1,1,1,24,1,1,1,1,4,1,2,1,1,2,2,1,1,2,2,1,1,2,1,1,2,2,1,2,1,2,1,1,1,5,1,5,1,1,1,6,2,1,2,1,2,1,2,4,2,1,9,2,1,1,1,2,4,1,1,1,8,1,1,2,3,5,3,2,1,2,1,6,1,1,2,2,3,2,2,2,3,5,2,1,2,2,1,1,22,2,2,1,1,1,2,5,1,1,1,3,1,1,1,2,1,6,4,2,6,2,1,2,1,1,1,1,1,3,1,1,1,1,2,1,1,2,1,1,1,3,2,2,1,2,1,1,7,2,1,14,1,3,4,2,1,1,1,4,1,1,3,1,1,2,1,1,2,1,1,2,2,1,1,1,1,1,1,1,2,4,1,1,2,2,1,1,1,2,3,2,4,1,12,7,4,1,1,1,1,1,4,1,1,1,1,1,1,1,1,1,2,1,2,1,1,3,3,2,1,1,1,1,1,3,1,5,2,6,4,2,2,1,2,3,1,1,2,2,3,2,2,1,1,4,1,2,1,2,2,1,2,2,1,1,1,1,1,2,1,1,1,4,9,4,1,1,3,3,6,1,2,5,1,1,1,3,2,2,1,1,5,1,2,1,3,2,1,1,1,1,2,1,2,2,1,1,4,4,1,1,1,4,3,1,1,1,3,1,5,1,1,3,4,1,1,1,1,2,2,2,1,2,2,3,2,1,2,1,1,2,3,2,1,1,1,2,1,2,1,2,1,1,2,2,1,5,4,4,3,1,1,1,1,3,3,1,1,1,1,1,2,1,1,1,2,2,3,1,7,1,3,3,6,2,1,1,3,1,1,2,1,1,2,1,6,1,1,1,2,3,2,1,3,1,2,2,1,1,5,8,2,1,2,2,1,1,3,2,1,2,1,1,2,2,2,1,2,1,2,5,4,4,1,1,1,2,1,2,3,2,1,1,1,4,1,1,3,1,3,3,5,2,1,1,2,1,2,1,3,1,1,1,1,1,1,2,13,1,1,1,4,1,1,1,1,1,2,1,1,1,1,1,1,1,1,1,2,2,1,1,1,3,1,1,2,1,1,1,2,1,1,1,1,3,1,2,1,1,2,1,2,2,1,1,2,2,5,1,2,2,4,1,4,3,1,1,1,2,2,1,2,1,1,1,7,4,3,4,1,1,2,1,2,1,1,3,2,1,4,1,3,2,1,1,2,1,15,1,1,1,1,3,1,1,1,2,1,1,2,1,2,6,2,1,1,1,2,2,4,1,1,2,1,2,1,6,1,5,1,1,2,1,1,1,1,1,1,2,1,3,2,1,4,1,1,2,1,2,2,2,1,6,4,1,1,1,2,1,2,2,2,2,1,1,1,3,1,1,1,1,1,1,1,1,3,1,1,1,1,1,1,1,1,1,1,1,4,2,2,2,1,1,1,1,1,1,1,2,1,1,1,1,1,1,1,4,1,1,2,1,1,1,2,1,1,1,1,1,1,1,2,1,1,1,1,1,1,3,1,1,5,1,1,2,1,1,1,1,1,9,2,1,4,4,2,1,2,1,1,1,1,1,3,1,1,2,2,5,1,1,4,1,1,1,3,3,1,1,2,1,1,2,1,2,1,1,4,2,8,3,2,1,1,1,2,1,1,1,1,1,1,4,1,1,2,6,1,2,1,5,2,2,1,1,3,1,1,1,1,1,8,1,1,3,2,2,1,3,1,1,2,2,2,4,1,2,1,1,2,2,1,2,1,2,1,2,1,1,1,1,1,2,2,2,1,1,2,1,1,2,4,1,4,2,3,2,1,1,2,1,2,1,1,1,1,3,2,2,1,4,1,3,1,1,2,1,6,3,2,1,1,1,2,3,4,2,4,4,6,1,1,1,1,2,1,7,1,2,1,1,1,2,3,2,2,4,1,1,1,2,3,6,1,1,1,1,1,1,1,4,1,1,1,2,1,1,2,1,1,1,1,1,1,1,2,2,2,1,3,1,1,1,1,1,1,3,2,1,1,1,9,2,1,1,1,1,1,1,2,1,1,2,2,1,1,1,1,1,2,4,2,2,1,1,1,1,3,1,1,2,2,2,1,1,1,1,1,1,1,5,1,2,1,1,1,2,2,4,1,1,1,1,1,5,1,1,1,1,3,1,2,1,1,1,3,1,1,1,1,2,1,5,1,1,4,3,1,2,1,2,1,1,6,1,1,1,2,1,3,1,6,3,1,1,1,1,1,1,1,5,1,1,1,1,1,1,1,1,1,1,1,1,1,2,1,1,1,3,3,3,1,2,1,1,2,1,4,2,1,2,2,6,1,2,2,1,1,1,1,1,1,1,1,2,1,1,2,1,2,1,1,2,1,1,3,3,1,3,5,1,1,2,1,1,1,3,2,1,1,1,1,7,3,2,5,2,4,1,3,2,1,1,1,2,1,1,3,3,2,1,2,1,1,1,1,1,2,1,1,6,2,1,3,2,1,2,1,2,4,1,1,3,1,2,1,2,1,1,1,8,14,2,1,1,4,1,1,1,1,1,1,1,8,1,1,1,1,2,1,1,2,1,1,2,1,2,1,2,3,1,1,1,1,1,1,1,1,1,2,2,1,1,1,1,1,1,1,1,1,1,1,1,3,1,1,1,1,4,1,1,3,1,2,3,1,1,1,3,1,1,2,3,4,2,1,1,1,1,1,1,2,1,1,4,1,1,1,2,7,2,1,1,1,1,2,3,3,1,1,2,1,1,1,1,1,1,1,1,2,3,1,4,1,2,1,2,2,2,1,2,1,1,1,1,1,2,1,1,1,2,1,1,1,1,2,7,1,2,1,1,3,1,1,2,2,1,1,1,1,1,3,1,1,1,1,2,1,1,2,1,1,2,2,1,1,1,1,2,1,1,1,1,1,1,1,2,1,1,1,1,1,2,1,5,1,3,1,1,2,4,1,3,2,3,1,1,2,2,1,1,1,2,3,1,1,2,1,1,1,4,20,2,2,1,2,3,1,1,1,2,2,1,2,1,2,1,6,1,1,1,3,1,5,1,2,2,1,6,2,2,2,2,1,5,1,1,1,1,1,3,2,1,2,1,1,1,1,1,1,1,2,1,1,4,1,3,2,1,1,1,1,1,1,5,1,9,5,1,1,1,1,2,3,1,1,1,1,1,1,3,1,1,1,4,1,1,1,1,1,2,1,1,1,1,1,8,5,1,1,1,1,1,1,1,1,1,1,1,4,1,1,2,1,1,1,8,1,10,1,2,1,1,1,1,1,3,3,1,2,2,1,1,5,1,1,1,1,2,4,1,1,1,5,3,1,4,1,1,1,2,1,1,1,6,1,1,1,1,2,1,7,2,1,1,1,1,2,1,1,1,4,3,2,1,2,1,1,1,1,3,3,1,1,1,1,1,1,1,1,1,1,1,1,1,1,1,1,1,1,1,5,1,1,1,1,3,1,9,1,1,1,1,7,1,1,1,1,8,2,1,3,1,1,1,1,3,2,6,2,2,3,3,1,6,1,2,1,1,5,1,1,1,2,1,1,1,1,1,1,1,1,1,1,1,1,1,3,2,3,1,1,1,1,1,2,1,1,2,3,1,1,1,1,1,1,4,2,2,1,2,1,1,1,1,1,3,3,1,5,1,1,1,1,1,1,1,3,2,5,1,1,1,1,1,2,1,1,1,1,4,1,1,1,1,1,1,1,1,1,7,5,1,1,7,1,1,2,9,1,1,1,1,3,1,1,1,1,1,3,1,1,1,1,1,2,1,1,2,3,2,1,1,2,1,1,5,1,1,1,1,1,1,1,1,4,2,1,1,2,1,1,1,1,1,1,2,1,3,1,2,1,2,1,11,1,1,4,1,2,1,1,1,8,1,1,1,2,4,1,1,3,2,1,1,1,1,2,3,1,1,1,1,1,2,1,1,2,1,1,2,1,2,2,3,3,2,1,1,1,1,2,2,1,1,1,2,2,1,1,1,3,2,1,1,1,1,2,2,1,1,1,1,1,2,7,5,1,2,1,4,1,4,2,3,2,1,1,1,1,1,3,1,2,2,4,1,2,1,1,1,3,1,1,2,4,10,1,1,1,2,1,1,1,1,2,2,2,7,1,1,9,5,5,1,1,1,2,3,2,1,1,1,8,3,4,5,1,1,4,1,1,1,3,2,1,3,1,2,3,1,4,4,1,1,1,2,3,1,2,4,3,3,2,1,1,1,1,4,1,2,1,4,1,1,1,1,2,1,1,1,1,8,9,1,3,7,1,1,1,3,1,1,1,2,2,1,2,1,1,1,1,1,1,2,1,1,2,1,1,4,1,2,1,1,4,2,2,10,2,1,5,1,1,1,1,2,5,2,1,2,1,2,3,2,2,1,1,2,1,1,1,1,1,2,2,1,1,2,6,2,3,6,1,1,2,5,2,1,1,2,1,1,2,4,1,6,1,1,1,1,1,1,1,1,1,2,1,1,1,3,1,2,2,5,1,2,1,1,2,1,1,3,1,1,2,4,13,1,18,1,2,1,2,1,1,1,2,1,1,13,1,4,2,2,1,1,1,1,4,2,1,3,2,1,1,1,2,5,2,1,2,2,2,3,1,1,1,1,1,1,1,1,1,1,1,1,1,1,5,3,1,1,1,1,1,3,1,1,2,2,2,5,1,1,1,1,1,1,1,1,1,1,2,2,2,1,1,2,1,1,1,1,2,4,1,1,2,3,2,4,1,2,1,1,1,1,2,1,1,1,1,1,2,1,1,4,1,2,2,1,1,1,1,1,8,2,2,1,2,1,1,1,2,1,1,2,1,1,1,1,2,1,2,1,1,2,1,1,1,1,2,1,1,1,1,2,2,1,1,1,1,4,1,1,7,4,1,1,2,1,1,3,2,1,2,1,2,3,1,1,1,1,1,1,1,1,1,2,1,1,2,10,1,2,2,1,2,3,1,1,9,2,3,1,1,1,1,1,23,2,4,1,2,1,2,5,2,1,2,1,4,1,2,1,1,3,1,1,15,7,1,1,2,3,8,2,1,5,1,1,2,2,2,1,2,1,1,8,2,2,1,1,1,1,1,2,2,1,3,2,1,2,3,1,2,1,1,1,1,2,1,1,1,2,7,1,5,2,1,1,1,1,1,9,1,1,2,6,1,1,1,3,2,1,2,4,5,1,1,1,1,1,1,1,2,1,1,1,1,1,1,2,1,3,1,1,1,10,1,1,2,1,3,8,1,4,1,2,1,8,1,2,1,3,2,1,1,1,3,1,1,2,1,1,2,1,1,1,1,2,1,1,1,3,6,4,1,4,1,1,1,1,2,1,2,2,2,1,2,4,3,1,20,2,4,3,3,3,3,2,1,2,1,1,1,1,2,1,1,1,1,1,1,2,1,1,1,1,1,1,1,2,1,1,2,4,1,4,2,1,2,3,2,3,1,1,1,2,3,1,3,2,3,1,2,1,2,1,4,1,1,2,3,6,1,1,9,1,1,1,2,2,3,4,2,1,1,1,1,1,1,2,1,2,1,2,2,1,1,1,1,1,2,1,1,1,2,2,1,1,1,2,1,1,1,4,1,1,1,3,1,2,1,1,2,1,1,4,1,5,4,1,1,1,2,1,1,2,7,1,3,8,6,4,1,1,1,4,1,4,4,1,1,1,1,1,1,5,1,1,1,1,3,1,2,1,1,1,1,1,5,4,1,3,1,1,1,1,1,1,1,1,1,1,1,5,1,2,4,1,2,2,1,1,1,1,2,1,8,5,8,1,1,3,1,1,2,6,1,2,5,1,1,2,1,1,4,1,1,2,1,1,2,3,4,3,1,5,3,2,3,1,2,1,1,1,1,1,1,2,1,3,1,2,5,1,1,4,2,1,1,1,1,1,1,1,2,1,2,4,2,1,1,2,1,1,4,6,1,1,1,1,1,2,4,2,1,1,1,1,2,2,2,1,2,4,1,1,1,1,1,1,3,1,1,2,2,1,1,5,1,3,3,1,1,1,10,4,2,1,1,3,2,1,1,2,1,2,1,1,1,12,3,1,1,1,1,1,1,1,1,2,1,1,1,3,1,1,1,2,1,1,1,1,1,1,1,6,1,1,1,3,2,2,4,4,1,2,1,2,1,1,1,1,2,4,4,1,1,3,1,1,1,1,1,1,1,1,1,1,23,3,2,3,6,1,2,4,1,3,1,3,6,2,1,3,1,2,1,1,1,4,1,1,2,1,1,2,5,4,2,1,1,3,3,4,1,1,3,4,1,1,5,1,7,1,2,5,3,3,1,1,2,2,5,1,1,3,1,9,3,4,2,1,1,1,1,1,1,2,1,1,1,1,1,1,1,3,2,1,2,1,1,1,3,2,2,1,1,1,1,1,1,1,1,1,2,3,2,1,2,1,4,4,2,1,2,2,1,1,1,2,1,1,2,1,2,1,5,1,1,1,4,2,1,1,1,1,1,4,1,1,1,2,1,1,2,6,1,1,2,1,1,2,2,1,1,1,1,2,2,1,1,2,1,2,1,1,1,1,2,1,2,1,1,1,4,1,2,3,1,1,1,1,1,1,1,1,1,2,3,1,2,1,1,1,4,1,1,1,1,2,1,1,2,1,2,5,2,1,2,2,1,3,6,2,1,1,1,5,1,8,3,2,1,1,2,1,1,1,1,1,1,1,2,4,1,1,5,1,1,3,5,1,1,2,1,1,1,3,2,1,2,1,2,1,1,2,2,2,2,1,1,1,2,4,1,1,1,2,2,2,2,1,1,3,1,6,1,1,1,2,1,1,4,2,2,1,1,1,4,2,2,1,1,1,1,1,1,2,1,2,1,1,1,2,1,4,1,2,1,1,1,1,1,1,2,7,1,3,1,3,3,5,7,4,1,1,2,1,2,1,1,2,3,4,3,1,4,1,3,2,1,1,2,1,1,2,2,1,1,1,10,1,4,1,2,4,4,1,1,1,3,4,2,2,1,1,1,2,4,6,2,1,4,3,2,1,2,1,1,1,1,3,1,1,10,2,1,2,1,2,3,1,1,1,4,1,1,4,1,1,3,2,2,1,1,1,3,1,1,1,1,1,3,1,1,1,1,2,3,1,3,1,1,1,2,2,2,1,1,1,2,1,1,2,3,1,1,1,1,1,1,1,2,1,1,1,1,1,1,7,1,1,1,1,1,2,1,2,4,3,3,3,1,1,1,1,2,1,1,2,1,1,1,1,2,1,4,2,1,1,1,2,2,1,1,1,6,4,1,2,2,1,2,2,1,1,1,1,2,1,1,1,2,1,2,1,1,1,1,2,1,1,2,2,1,2,1,2,1,1,1,3,2,1,2,1,1,3,1,2,2,1,1,1,1,1,1,1,3,1,1,1,1,6,1,3,1,3,1,1,1,1,1,1,1,1,1,1,1,1,1,1,1,1,1,1,1,3,1,1,1,2,1,1,1,1,1,1,1,1,1,1,1,1,1,1,1,1,1,1,1,1,1,1,1,1,1,1,1,1,1,1,1,3,1,1,1,1,1,1,1,1,1,1,1,1,1,1,1,1,1,1,1,1,1,1,1,1,1,1,1,1,1,1,1,1,1,1,1,1,1,1,1,1,1,1,1,1,1,1,1,1,1,1,2,1,1,1,1,1,1,1,1,1,1,1,1,2,1,1,1,1,1,1,1,1,1,1,1,1,1,2,1,1,1,1,1,1,1,1,1,3,2,2,1,2,1,1,1,1,1,2,1,1,1,1,1,1,1,4,1,1,1,1,1,1,1,1,1,1,1,3,3,2,1,1,3,1,1,1,1,2,1,1,1,4,2,1,1,1,1,1,1,2,1,1,1,1,2,2,1,1,1,2,2,1,1,1,2,3,1,1,1,1,2,2,1,1,1,1,1,1,2,1,1,1,1,2,1,4,1,1,1,1,2,1,1,1,1,1,1,3,3,1,1,1,7,10,1,1,1,2,3,1,2,2,1,2,1,1,1,2,1,4,1,1,1,1,1,1,1,3,2,1,1,1,1,4,1,1,2,1,1,1,9,3,2,2,6,1,1,1,1,1,1,1,1,1,1,1],\"y0\":\" \",\"yaxis\":\"y\",\"type\":\"box\"}],                        {\"template\":{\"data\":{\"histogram2dcontour\":[{\"type\":\"histogram2dcontour\",\"colorbar\":{\"outlinewidth\":0,\"ticks\":\"\"},\"colorscale\":[[0.0,\"#0d0887\"],[0.1111111111111111,\"#46039f\"],[0.2222222222222222,\"#7201a8\"],[0.3333333333333333,\"#9c179e\"],[0.4444444444444444,\"#bd3786\"],[0.5555555555555556,\"#d8576b\"],[0.6666666666666666,\"#ed7953\"],[0.7777777777777778,\"#fb9f3a\"],[0.8888888888888888,\"#fdca26\"],[1.0,\"#f0f921\"]]}],\"choropleth\":[{\"type\":\"choropleth\",\"colorbar\":{\"outlinewidth\":0,\"ticks\":\"\"}}],\"histogram2d\":[{\"type\":\"histogram2d\",\"colorbar\":{\"outlinewidth\":0,\"ticks\":\"\"},\"colorscale\":[[0.0,\"#0d0887\"],[0.1111111111111111,\"#46039f\"],[0.2222222222222222,\"#7201a8\"],[0.3333333333333333,\"#9c179e\"],[0.4444444444444444,\"#bd3786\"],[0.5555555555555556,\"#d8576b\"],[0.6666666666666666,\"#ed7953\"],[0.7777777777777778,\"#fb9f3a\"],[0.8888888888888888,\"#fdca26\"],[1.0,\"#f0f921\"]]}],\"heatmap\":[{\"type\":\"heatmap\",\"colorbar\":{\"outlinewidth\":0,\"ticks\":\"\"},\"colorscale\":[[0.0,\"#0d0887\"],[0.1111111111111111,\"#46039f\"],[0.2222222222222222,\"#7201a8\"],[0.3333333333333333,\"#9c179e\"],[0.4444444444444444,\"#bd3786\"],[0.5555555555555556,\"#d8576b\"],[0.6666666666666666,\"#ed7953\"],[0.7777777777777778,\"#fb9f3a\"],[0.8888888888888888,\"#fdca26\"],[1.0,\"#f0f921\"]]}],\"heatmapgl\":[{\"type\":\"heatmapgl\",\"colorbar\":{\"outlinewidth\":0,\"ticks\":\"\"},\"colorscale\":[[0.0,\"#0d0887\"],[0.1111111111111111,\"#46039f\"],[0.2222222222222222,\"#7201a8\"],[0.3333333333333333,\"#9c179e\"],[0.4444444444444444,\"#bd3786\"],[0.5555555555555556,\"#d8576b\"],[0.6666666666666666,\"#ed7953\"],[0.7777777777777778,\"#fb9f3a\"],[0.8888888888888888,\"#fdca26\"],[1.0,\"#f0f921\"]]}],\"contourcarpet\":[{\"type\":\"contourcarpet\",\"colorbar\":{\"outlinewidth\":0,\"ticks\":\"\"}}],\"contour\":[{\"type\":\"contour\",\"colorbar\":{\"outlinewidth\":0,\"ticks\":\"\"},\"colorscale\":[[0.0,\"#0d0887\"],[0.1111111111111111,\"#46039f\"],[0.2222222222222222,\"#7201a8\"],[0.3333333333333333,\"#9c179e\"],[0.4444444444444444,\"#bd3786\"],[0.5555555555555556,\"#d8576b\"],[0.6666666666666666,\"#ed7953\"],[0.7777777777777778,\"#fb9f3a\"],[0.8888888888888888,\"#fdca26\"],[1.0,\"#f0f921\"]]}],\"surface\":[{\"type\":\"surface\",\"colorbar\":{\"outlinewidth\":0,\"ticks\":\"\"},\"colorscale\":[[0.0,\"#0d0887\"],[0.1111111111111111,\"#46039f\"],[0.2222222222222222,\"#7201a8\"],[0.3333333333333333,\"#9c179e\"],[0.4444444444444444,\"#bd3786\"],[0.5555555555555556,\"#d8576b\"],[0.6666666666666666,\"#ed7953\"],[0.7777777777777778,\"#fb9f3a\"],[0.8888888888888888,\"#fdca26\"],[1.0,\"#f0f921\"]]}],\"mesh3d\":[{\"type\":\"mesh3d\",\"colorbar\":{\"outlinewidth\":0,\"ticks\":\"\"}}],\"scatter\":[{\"fillpattern\":{\"fillmode\":\"overlay\",\"size\":10,\"solidity\":0.2},\"type\":\"scatter\"}],\"parcoords\":[{\"type\":\"parcoords\",\"line\":{\"colorbar\":{\"outlinewidth\":0,\"ticks\":\"\"}}}],\"scatterpolargl\":[{\"type\":\"scatterpolargl\",\"marker\":{\"colorbar\":{\"outlinewidth\":0,\"ticks\":\"\"}}}],\"bar\":[{\"error_x\":{\"color\":\"#2a3f5f\"},\"error_y\":{\"color\":\"#2a3f5f\"},\"marker\":{\"line\":{\"color\":\"#E5ECF6\",\"width\":0.5},\"pattern\":{\"fillmode\":\"overlay\",\"size\":10,\"solidity\":0.2}},\"type\":\"bar\"}],\"scattergeo\":[{\"type\":\"scattergeo\",\"marker\":{\"colorbar\":{\"outlinewidth\":0,\"ticks\":\"\"}}}],\"scatterpolar\":[{\"type\":\"scatterpolar\",\"marker\":{\"colorbar\":{\"outlinewidth\":0,\"ticks\":\"\"}}}],\"histogram\":[{\"marker\":{\"pattern\":{\"fillmode\":\"overlay\",\"size\":10,\"solidity\":0.2}},\"type\":\"histogram\"}],\"scattergl\":[{\"type\":\"scattergl\",\"marker\":{\"colorbar\":{\"outlinewidth\":0,\"ticks\":\"\"}}}],\"scatter3d\":[{\"type\":\"scatter3d\",\"line\":{\"colorbar\":{\"outlinewidth\":0,\"ticks\":\"\"}},\"marker\":{\"colorbar\":{\"outlinewidth\":0,\"ticks\":\"\"}}}],\"scattermapbox\":[{\"type\":\"scattermapbox\",\"marker\":{\"colorbar\":{\"outlinewidth\":0,\"ticks\":\"\"}}}],\"scatterternary\":[{\"type\":\"scatterternary\",\"marker\":{\"colorbar\":{\"outlinewidth\":0,\"ticks\":\"\"}}}],\"scattercarpet\":[{\"type\":\"scattercarpet\",\"marker\":{\"colorbar\":{\"outlinewidth\":0,\"ticks\":\"\"}}}],\"carpet\":[{\"aaxis\":{\"endlinecolor\":\"#2a3f5f\",\"gridcolor\":\"white\",\"linecolor\":\"white\",\"minorgridcolor\":\"white\",\"startlinecolor\":\"#2a3f5f\"},\"baxis\":{\"endlinecolor\":\"#2a3f5f\",\"gridcolor\":\"white\",\"linecolor\":\"white\",\"minorgridcolor\":\"white\",\"startlinecolor\":\"#2a3f5f\"},\"type\":\"carpet\"}],\"table\":[{\"cells\":{\"fill\":{\"color\":\"#EBF0F8\"},\"line\":{\"color\":\"white\"}},\"header\":{\"fill\":{\"color\":\"#C8D4E3\"},\"line\":{\"color\":\"white\"}},\"type\":\"table\"}],\"barpolar\":[{\"marker\":{\"line\":{\"color\":\"#E5ECF6\",\"width\":0.5},\"pattern\":{\"fillmode\":\"overlay\",\"size\":10,\"solidity\":0.2}},\"type\":\"barpolar\"}],\"pie\":[{\"automargin\":true,\"type\":\"pie\"}]},\"layout\":{\"autotypenumbers\":\"strict\",\"colorway\":[\"#636efa\",\"#EF553B\",\"#00cc96\",\"#ab63fa\",\"#FFA15A\",\"#19d3f3\",\"#FF6692\",\"#B6E880\",\"#FF97FF\",\"#FECB52\"],\"font\":{\"color\":\"#2a3f5f\"},\"hovermode\":\"closest\",\"hoverlabel\":{\"align\":\"left\"},\"paper_bgcolor\":\"white\",\"plot_bgcolor\":\"#E5ECF6\",\"polar\":{\"bgcolor\":\"#E5ECF6\",\"angularaxis\":{\"gridcolor\":\"white\",\"linecolor\":\"white\",\"ticks\":\"\"},\"radialaxis\":{\"gridcolor\":\"white\",\"linecolor\":\"white\",\"ticks\":\"\"}},\"ternary\":{\"bgcolor\":\"#E5ECF6\",\"aaxis\":{\"gridcolor\":\"white\",\"linecolor\":\"white\",\"ticks\":\"\"},\"baxis\":{\"gridcolor\":\"white\",\"linecolor\":\"white\",\"ticks\":\"\"},\"caxis\":{\"gridcolor\":\"white\",\"linecolor\":\"white\",\"ticks\":\"\"}},\"coloraxis\":{\"colorbar\":{\"outlinewidth\":0,\"ticks\":\"\"}},\"colorscale\":{\"sequential\":[[0.0,\"#0d0887\"],[0.1111111111111111,\"#46039f\"],[0.2222222222222222,\"#7201a8\"],[0.3333333333333333,\"#9c179e\"],[0.4444444444444444,\"#bd3786\"],[0.5555555555555556,\"#d8576b\"],[0.6666666666666666,\"#ed7953\"],[0.7777777777777778,\"#fb9f3a\"],[0.8888888888888888,\"#fdca26\"],[1.0,\"#f0f921\"]],\"sequentialminus\":[[0.0,\"#0d0887\"],[0.1111111111111111,\"#46039f\"],[0.2222222222222222,\"#7201a8\"],[0.3333333333333333,\"#9c179e\"],[0.4444444444444444,\"#bd3786\"],[0.5555555555555556,\"#d8576b\"],[0.6666666666666666,\"#ed7953\"],[0.7777777777777778,\"#fb9f3a\"],[0.8888888888888888,\"#fdca26\"],[1.0,\"#f0f921\"]],\"diverging\":[[0,\"#8e0152\"],[0.1,\"#c51b7d\"],[0.2,\"#de77ae\"],[0.3,\"#f1b6da\"],[0.4,\"#fde0ef\"],[0.5,\"#f7f7f7\"],[0.6,\"#e6f5d0\"],[0.7,\"#b8e186\"],[0.8,\"#7fbc41\"],[0.9,\"#4d9221\"],[1,\"#276419\"]]},\"xaxis\":{\"gridcolor\":\"white\",\"linecolor\":\"white\",\"ticks\":\"\",\"title\":{\"standoff\":15},\"zerolinecolor\":\"white\",\"automargin\":true,\"zerolinewidth\":2},\"yaxis\":{\"gridcolor\":\"white\",\"linecolor\":\"white\",\"ticks\":\"\",\"title\":{\"standoff\":15},\"zerolinecolor\":\"white\",\"automargin\":true,\"zerolinewidth\":2},\"scene\":{\"xaxis\":{\"backgroundcolor\":\"#E5ECF6\",\"gridcolor\":\"white\",\"linecolor\":\"white\",\"showbackground\":true,\"ticks\":\"\",\"zerolinecolor\":\"white\",\"gridwidth\":2},\"yaxis\":{\"backgroundcolor\":\"#E5ECF6\",\"gridcolor\":\"white\",\"linecolor\":\"white\",\"showbackground\":true,\"ticks\":\"\",\"zerolinecolor\":\"white\",\"gridwidth\":2},\"zaxis\":{\"backgroundcolor\":\"#E5ECF6\",\"gridcolor\":\"white\",\"linecolor\":\"white\",\"showbackground\":true,\"ticks\":\"\",\"zerolinecolor\":\"white\",\"gridwidth\":2}},\"shapedefaults\":{\"line\":{\"color\":\"#2a3f5f\"}},\"annotationdefaults\":{\"arrowcolor\":\"#2a3f5f\",\"arrowhead\":0,\"arrowwidth\":1},\"geo\":{\"bgcolor\":\"white\",\"landcolor\":\"#E5ECF6\",\"subunitcolor\":\"white\",\"showland\":true,\"showlakes\":true,\"lakecolor\":\"white\"},\"title\":{\"x\":0.05},\"mapbox\":{\"style\":\"light\"}}},\"xaxis\":{\"anchor\":\"y\",\"domain\":[0.0,1.0],\"title\":{\"text\":\"Departamento\"}},\"yaxis\":{\"anchor\":\"x\",\"domain\":[0.0,1.0],\"title\":{\"text\":\"Qtde_Vendida\"}},\"legend\":{\"tracegroupgap\":0},\"margin\":{\"t\":60},\"boxmode\":\"group\"},                        {\"responsive\": true}                    ).then(function(){\n",
       "                            \n",
       "var gd = document.getElementById('69a43922-2046-4ddc-8e4d-f8521bc1285b');\n",
       "var x = new MutationObserver(function (mutations, observer) {{\n",
       "        var display = window.getComputedStyle(gd).display;\n",
       "        if (!display || display === 'none') {{\n",
       "            console.log([gd, 'removed!']);\n",
       "            Plotly.purge(gd);\n",
       "            observer.disconnect();\n",
       "        }}\n",
       "}});\n",
       "\n",
       "// Listen for the removal of the full notebook cells\n",
       "var notebookContainer = gd.closest('#notebook-container');\n",
       "if (notebookContainer) {{\n",
       "    x.observe(notebookContainer, {childList: true});\n",
       "}}\n",
       "\n",
       "// Listen for the clearing of the current output cell\n",
       "var outputEl = gd.closest('.output');\n",
       "if (outputEl) {{\n",
       "    x.observe(outputEl, {childList: true});\n",
       "}}\n",
       "\n",
       "                        })                };                });            </script>        </div>"
      ]
     },
     "metadata": {},
     "output_type": "display_data"
    }
   ],
   "source": [
    "# Qual é a distribuição de unidades vendidas por departamento nas diferentes transações?\n",
    "# Avaliar as medidas de posição da variável 'Qtde_Vendida'\n",
    "px.box(df_transacoes, x='Departamento', y='Qtde_Vendida')"
   ]
  },
  {
   "cell_type": "code",
   "execution_count": 117,
   "id": "ff6e98be",
   "metadata": {},
   "outputs": [
    {
     "data": {
      "application/vnd.plotly.v1+json": {
       "config": {
        "plotlyServerURL": "https://plot.ly"
       },
       "data": [
        {
         "alignmentgroup": "True",
         "hovertemplate": "value=%{x}<br>Departamento=%{y}<br>color=%{marker.color}<extra></extra>",
         "legendgroup": "",
         "marker": {
          "color": [
           3.75,
           3.7471264367816093,
           3.3333333333333335,
           3,
           2.764397905759162,
           2.7,
           2.5555555555555554,
           2.5283018867924527,
           2.526315789473684,
           2.5,
           2.5,
           2.4615384615384617,
           2.4166666666666665,
           2.405940594059406,
           2.388888888888889,
           2.349090909090909,
           2.348101265822785,
           2.3333333333333335,
           2.2142857142857144,
           2.1846153846153844
          ],
          "coloraxis": "coloraxis",
          "pattern": {
           "shape": ""
          }
         },
         "name": "",
         "offsetgroup": "",
         "orientation": "h",
         "showlegend": false,
         "textposition": "auto",
         "type": "bar",
         "x": [
          3.75,
          3.7471264367816093,
          3.3333333333333335,
          3,
          2.764397905759162,
          2.7,
          2.5555555555555554,
          2.5283018867924527,
          2.526315789473684,
          2.5,
          2.5,
          2.4615384615384617,
          2.4166666666666665,
          2.405940594059406,
          2.388888888888889,
          2.349090909090909,
          2.348101265822785,
          2.3333333333333335,
          2.2142857142857144,
          2.1846153846153844
         ],
         "xaxis": "x",
         "y": [
          "0210:FOUNDATIONS",
          "0646:SEASONAL",
          "0533:PAPYRUS",
          "0591:MASS FRAGRANCES",
          "0983:WINE",
          "0440:GIRLS 7-16 CLOTHING",
          "0644:SPORTS NUTRITION",
          "0530:SCHOOL/OFFIC SUPP",
          "0531:STATIONERY SUNDRIES",
          "0012:LOCAL GIFTS/FOODS",
          "0165:LIFE IS GOOD",
          "0930:TABLE TOP & KITCHEN",
          "0595:HOME/BATH",
          "0879:PET SUPPLIES",
          "0415:NEWBORN APPAREL",
          "0973:CANDY",
          "0836:HOUSEHOLD CLEANING",
          "0240:SLEEPWEAR/LOUNGEWEAR",
          "0449:GIRLS ACCESSORIES",
          "0640:TOYS"
         ],
         "yaxis": "y"
        }
       ],
       "layout": {
        "barmode": "relative",
        "coloraxis": {
         "colorbar": {
          "title": {
           "text": "color"
          }
         },
         "colorscale": [
          [
           0,
           "#0d0887"
          ],
          [
           0.1111111111111111,
           "#46039f"
          ],
          [
           0.2222222222222222,
           "#7201a8"
          ],
          [
           0.3333333333333333,
           "#9c179e"
          ],
          [
           0.4444444444444444,
           "#bd3786"
          ],
          [
           0.5555555555555556,
           "#d8576b"
          ],
          [
           0.6666666666666666,
           "#ed7953"
          ],
          [
           0.7777777777777778,
           "#fb9f3a"
          ],
          [
           0.8888888888888888,
           "#fdca26"
          ],
          [
           1,
           "#f0f921"
          ]
         ]
        },
        "legend": {
         "tracegroupgap": 0
        },
        "margin": {
         "t": 60
        },
        "showlegend": false,
        "template": {
         "data": {
          "bar": [
           {
            "error_x": {
             "color": "#2a3f5f"
            },
            "error_y": {
             "color": "#2a3f5f"
            },
            "marker": {
             "line": {
              "color": "#E5ECF6",
              "width": 0.5
             },
             "pattern": {
              "fillmode": "overlay",
              "size": 10,
              "solidity": 0.2
             }
            },
            "type": "bar"
           }
          ],
          "barpolar": [
           {
            "marker": {
             "line": {
              "color": "#E5ECF6",
              "width": 0.5
             },
             "pattern": {
              "fillmode": "overlay",
              "size": 10,
              "solidity": 0.2
             }
            },
            "type": "barpolar"
           }
          ],
          "carpet": [
           {
            "aaxis": {
             "endlinecolor": "#2a3f5f",
             "gridcolor": "white",
             "linecolor": "white",
             "minorgridcolor": "white",
             "startlinecolor": "#2a3f5f"
            },
            "baxis": {
             "endlinecolor": "#2a3f5f",
             "gridcolor": "white",
             "linecolor": "white",
             "minorgridcolor": "white",
             "startlinecolor": "#2a3f5f"
            },
            "type": "carpet"
           }
          ],
          "choropleth": [
           {
            "colorbar": {
             "outlinewidth": 0,
             "ticks": ""
            },
            "type": "choropleth"
           }
          ],
          "contour": [
           {
            "colorbar": {
             "outlinewidth": 0,
             "ticks": ""
            },
            "colorscale": [
             [
              0,
              "#0d0887"
             ],
             [
              0.1111111111111111,
              "#46039f"
             ],
             [
              0.2222222222222222,
              "#7201a8"
             ],
             [
              0.3333333333333333,
              "#9c179e"
             ],
             [
              0.4444444444444444,
              "#bd3786"
             ],
             [
              0.5555555555555556,
              "#d8576b"
             ],
             [
              0.6666666666666666,
              "#ed7953"
             ],
             [
              0.7777777777777778,
              "#fb9f3a"
             ],
             [
              0.8888888888888888,
              "#fdca26"
             ],
             [
              1,
              "#f0f921"
             ]
            ],
            "type": "contour"
           }
          ],
          "contourcarpet": [
           {
            "colorbar": {
             "outlinewidth": 0,
             "ticks": ""
            },
            "type": "contourcarpet"
           }
          ],
          "heatmap": [
           {
            "colorbar": {
             "outlinewidth": 0,
             "ticks": ""
            },
            "colorscale": [
             [
              0,
              "#0d0887"
             ],
             [
              0.1111111111111111,
              "#46039f"
             ],
             [
              0.2222222222222222,
              "#7201a8"
             ],
             [
              0.3333333333333333,
              "#9c179e"
             ],
             [
              0.4444444444444444,
              "#bd3786"
             ],
             [
              0.5555555555555556,
              "#d8576b"
             ],
             [
              0.6666666666666666,
              "#ed7953"
             ],
             [
              0.7777777777777778,
              "#fb9f3a"
             ],
             [
              0.8888888888888888,
              "#fdca26"
             ],
             [
              1,
              "#f0f921"
             ]
            ],
            "type": "heatmap"
           }
          ],
          "heatmapgl": [
           {
            "colorbar": {
             "outlinewidth": 0,
             "ticks": ""
            },
            "colorscale": [
             [
              0,
              "#0d0887"
             ],
             [
              0.1111111111111111,
              "#46039f"
             ],
             [
              0.2222222222222222,
              "#7201a8"
             ],
             [
              0.3333333333333333,
              "#9c179e"
             ],
             [
              0.4444444444444444,
              "#bd3786"
             ],
             [
              0.5555555555555556,
              "#d8576b"
             ],
             [
              0.6666666666666666,
              "#ed7953"
             ],
             [
              0.7777777777777778,
              "#fb9f3a"
             ],
             [
              0.8888888888888888,
              "#fdca26"
             ],
             [
              1,
              "#f0f921"
             ]
            ],
            "type": "heatmapgl"
           }
          ],
          "histogram": [
           {
            "marker": {
             "pattern": {
              "fillmode": "overlay",
              "size": 10,
              "solidity": 0.2
             }
            },
            "type": "histogram"
           }
          ],
          "histogram2d": [
           {
            "colorbar": {
             "outlinewidth": 0,
             "ticks": ""
            },
            "colorscale": [
             [
              0,
              "#0d0887"
             ],
             [
              0.1111111111111111,
              "#46039f"
             ],
             [
              0.2222222222222222,
              "#7201a8"
             ],
             [
              0.3333333333333333,
              "#9c179e"
             ],
             [
              0.4444444444444444,
              "#bd3786"
             ],
             [
              0.5555555555555556,
              "#d8576b"
             ],
             [
              0.6666666666666666,
              "#ed7953"
             ],
             [
              0.7777777777777778,
              "#fb9f3a"
             ],
             [
              0.8888888888888888,
              "#fdca26"
             ],
             [
              1,
              "#f0f921"
             ]
            ],
            "type": "histogram2d"
           }
          ],
          "histogram2dcontour": [
           {
            "colorbar": {
             "outlinewidth": 0,
             "ticks": ""
            },
            "colorscale": [
             [
              0,
              "#0d0887"
             ],
             [
              0.1111111111111111,
              "#46039f"
             ],
             [
              0.2222222222222222,
              "#7201a8"
             ],
             [
              0.3333333333333333,
              "#9c179e"
             ],
             [
              0.4444444444444444,
              "#bd3786"
             ],
             [
              0.5555555555555556,
              "#d8576b"
             ],
             [
              0.6666666666666666,
              "#ed7953"
             ],
             [
              0.7777777777777778,
              "#fb9f3a"
             ],
             [
              0.8888888888888888,
              "#fdca26"
             ],
             [
              1,
              "#f0f921"
             ]
            ],
            "type": "histogram2dcontour"
           }
          ],
          "mesh3d": [
           {
            "colorbar": {
             "outlinewidth": 0,
             "ticks": ""
            },
            "type": "mesh3d"
           }
          ],
          "parcoords": [
           {
            "line": {
             "colorbar": {
              "outlinewidth": 0,
              "ticks": ""
             }
            },
            "type": "parcoords"
           }
          ],
          "pie": [
           {
            "automargin": true,
            "type": "pie"
           }
          ],
          "scatter": [
           {
            "fillpattern": {
             "fillmode": "overlay",
             "size": 10,
             "solidity": 0.2
            },
            "type": "scatter"
           }
          ],
          "scatter3d": [
           {
            "line": {
             "colorbar": {
              "outlinewidth": 0,
              "ticks": ""
             }
            },
            "marker": {
             "colorbar": {
              "outlinewidth": 0,
              "ticks": ""
             }
            },
            "type": "scatter3d"
           }
          ],
          "scattercarpet": [
           {
            "marker": {
             "colorbar": {
              "outlinewidth": 0,
              "ticks": ""
             }
            },
            "type": "scattercarpet"
           }
          ],
          "scattergeo": [
           {
            "marker": {
             "colorbar": {
              "outlinewidth": 0,
              "ticks": ""
             }
            },
            "type": "scattergeo"
           }
          ],
          "scattergl": [
           {
            "marker": {
             "colorbar": {
              "outlinewidth": 0,
              "ticks": ""
             }
            },
            "type": "scattergl"
           }
          ],
          "scattermapbox": [
           {
            "marker": {
             "colorbar": {
              "outlinewidth": 0,
              "ticks": ""
             }
            },
            "type": "scattermapbox"
           }
          ],
          "scatterpolar": [
           {
            "marker": {
             "colorbar": {
              "outlinewidth": 0,
              "ticks": ""
             }
            },
            "type": "scatterpolar"
           }
          ],
          "scatterpolargl": [
           {
            "marker": {
             "colorbar": {
              "outlinewidth": 0,
              "ticks": ""
             }
            },
            "type": "scatterpolargl"
           }
          ],
          "scatterternary": [
           {
            "marker": {
             "colorbar": {
              "outlinewidth": 0,
              "ticks": ""
             }
            },
            "type": "scatterternary"
           }
          ],
          "surface": [
           {
            "colorbar": {
             "outlinewidth": 0,
             "ticks": ""
            },
            "colorscale": [
             [
              0,
              "#0d0887"
             ],
             [
              0.1111111111111111,
              "#46039f"
             ],
             [
              0.2222222222222222,
              "#7201a8"
             ],
             [
              0.3333333333333333,
              "#9c179e"
             ],
             [
              0.4444444444444444,
              "#bd3786"
             ],
             [
              0.5555555555555556,
              "#d8576b"
             ],
             [
              0.6666666666666666,
              "#ed7953"
             ],
             [
              0.7777777777777778,
              "#fb9f3a"
             ],
             [
              0.8888888888888888,
              "#fdca26"
             ],
             [
              1,
              "#f0f921"
             ]
            ],
            "type": "surface"
           }
          ],
          "table": [
           {
            "cells": {
             "fill": {
              "color": "#EBF0F8"
             },
             "line": {
              "color": "white"
             }
            },
            "header": {
             "fill": {
              "color": "#C8D4E3"
             },
             "line": {
              "color": "white"
             }
            },
            "type": "table"
           }
          ]
         },
         "layout": {
          "annotationdefaults": {
           "arrowcolor": "#2a3f5f",
           "arrowhead": 0,
           "arrowwidth": 1
          },
          "autotypenumbers": "strict",
          "coloraxis": {
           "colorbar": {
            "outlinewidth": 0,
            "ticks": ""
           }
          },
          "colorscale": {
           "diverging": [
            [
             0,
             "#8e0152"
            ],
            [
             0.1,
             "#c51b7d"
            ],
            [
             0.2,
             "#de77ae"
            ],
            [
             0.3,
             "#f1b6da"
            ],
            [
             0.4,
             "#fde0ef"
            ],
            [
             0.5,
             "#f7f7f7"
            ],
            [
             0.6,
             "#e6f5d0"
            ],
            [
             0.7,
             "#b8e186"
            ],
            [
             0.8,
             "#7fbc41"
            ],
            [
             0.9,
             "#4d9221"
            ],
            [
             1,
             "#276419"
            ]
           ],
           "sequential": [
            [
             0,
             "#0d0887"
            ],
            [
             0.1111111111111111,
             "#46039f"
            ],
            [
             0.2222222222222222,
             "#7201a8"
            ],
            [
             0.3333333333333333,
             "#9c179e"
            ],
            [
             0.4444444444444444,
             "#bd3786"
            ],
            [
             0.5555555555555556,
             "#d8576b"
            ],
            [
             0.6666666666666666,
             "#ed7953"
            ],
            [
             0.7777777777777778,
             "#fb9f3a"
            ],
            [
             0.8888888888888888,
             "#fdca26"
            ],
            [
             1,
             "#f0f921"
            ]
           ],
           "sequentialminus": [
            [
             0,
             "#0d0887"
            ],
            [
             0.1111111111111111,
             "#46039f"
            ],
            [
             0.2222222222222222,
             "#7201a8"
            ],
            [
             0.3333333333333333,
             "#9c179e"
            ],
            [
             0.4444444444444444,
             "#bd3786"
            ],
            [
             0.5555555555555556,
             "#d8576b"
            ],
            [
             0.6666666666666666,
             "#ed7953"
            ],
            [
             0.7777777777777778,
             "#fb9f3a"
            ],
            [
             0.8888888888888888,
             "#fdca26"
            ],
            [
             1,
             "#f0f921"
            ]
           ]
          },
          "colorway": [
           "#636efa",
           "#EF553B",
           "#00cc96",
           "#ab63fa",
           "#FFA15A",
           "#19d3f3",
           "#FF6692",
           "#B6E880",
           "#FF97FF",
           "#FECB52"
          ],
          "font": {
           "color": "#2a3f5f"
          },
          "geo": {
           "bgcolor": "white",
           "lakecolor": "white",
           "landcolor": "#E5ECF6",
           "showlakes": true,
           "showland": true,
           "subunitcolor": "white"
          },
          "hoverlabel": {
           "align": "left"
          },
          "hovermode": "closest",
          "mapbox": {
           "style": "light"
          },
          "paper_bgcolor": "white",
          "plot_bgcolor": "#E5ECF6",
          "polar": {
           "angularaxis": {
            "gridcolor": "white",
            "linecolor": "white",
            "ticks": ""
           },
           "bgcolor": "#E5ECF6",
           "radialaxis": {
            "gridcolor": "white",
            "linecolor": "white",
            "ticks": ""
           }
          },
          "scene": {
           "xaxis": {
            "backgroundcolor": "#E5ECF6",
            "gridcolor": "white",
            "gridwidth": 2,
            "linecolor": "white",
            "showbackground": true,
            "ticks": "",
            "zerolinecolor": "white"
           },
           "yaxis": {
            "backgroundcolor": "#E5ECF6",
            "gridcolor": "white",
            "gridwidth": 2,
            "linecolor": "white",
            "showbackground": true,
            "ticks": "",
            "zerolinecolor": "white"
           },
           "zaxis": {
            "backgroundcolor": "#E5ECF6",
            "gridcolor": "white",
            "gridwidth": 2,
            "linecolor": "white",
            "showbackground": true,
            "ticks": "",
            "zerolinecolor": "white"
           }
          },
          "shapedefaults": {
           "line": {
            "color": "#2a3f5f"
           }
          },
          "ternary": {
           "aaxis": {
            "gridcolor": "white",
            "linecolor": "white",
            "ticks": ""
           },
           "baxis": {
            "gridcolor": "white",
            "linecolor": "white",
            "ticks": ""
           },
           "bgcolor": "#E5ECF6",
           "caxis": {
            "gridcolor": "white",
            "linecolor": "white",
            "ticks": ""
           }
          },
          "title": {
           "x": 0.05
          },
          "xaxis": {
           "automargin": true,
           "gridcolor": "white",
           "linecolor": "white",
           "ticks": "",
           "title": {
            "standoff": 15
           },
           "zerolinecolor": "white",
           "zerolinewidth": 2
          },
          "yaxis": {
           "automargin": true,
           "gridcolor": "white",
           "linecolor": "white",
           "ticks": "",
           "title": {
            "standoff": 15
           },
           "zerolinecolor": "white",
           "zerolinewidth": 2
          }
         }
        },
        "xaxis": {
         "anchor": "y",
         "domain": [
          0,
          1
         ],
         "title": {
          "text": "value"
         }
        },
        "yaxis": {
         "anchor": "x",
         "domain": [
          0,
          1
         ],
         "title": {
          "text": "Departamento"
         }
        }
       }
      },
      "text/html": [
       "<div>                            <div id=\"a20e5cf9-ef4b-48b1-ba91-aec0b6307b38\" class=\"plotly-graph-div\" style=\"height:525px; width:100%;\"></div>            <script type=\"text/javascript\">                require([\"plotly\"], function(Plotly) {                    window.PLOTLYENV=window.PLOTLYENV || {};                                    if (document.getElementById(\"a20e5cf9-ef4b-48b1-ba91-aec0b6307b38\")) {                    Plotly.newPlot(                        \"a20e5cf9-ef4b-48b1-ba91-aec0b6307b38\",                        [{\"alignmentgroup\":\"True\",\"hovertemplate\":\"value=%{x}\\u003cbr\\u003eDepartamento=%{y}\\u003cbr\\u003ecolor=%{marker.color}\\u003cextra\\u003e\\u003c\\u002fextra\\u003e\",\"legendgroup\":\"\",\"marker\":{\"color\":[3.75,3.7471264367816093,3.3333333333333335,3.0,2.764397905759162,2.7,2.5555555555555554,2.5283018867924527,2.526315789473684,2.5,2.5,2.4615384615384617,2.4166666666666665,2.405940594059406,2.388888888888889,2.349090909090909,2.348101265822785,2.3333333333333335,2.2142857142857144,2.1846153846153844],\"coloraxis\":\"coloraxis\",\"pattern\":{\"shape\":\"\"}},\"name\":\"\",\"offsetgroup\":\"\",\"orientation\":\"h\",\"showlegend\":false,\"textposition\":\"auto\",\"x\":[3.75,3.7471264367816093,3.3333333333333335,3.0,2.764397905759162,2.7,2.5555555555555554,2.5283018867924527,2.526315789473684,2.5,2.5,2.4615384615384617,2.4166666666666665,2.405940594059406,2.388888888888889,2.349090909090909,2.348101265822785,2.3333333333333335,2.2142857142857144,2.1846153846153844],\"xaxis\":\"x\",\"y\":[\"0210:FOUNDATIONS\",\"0646:SEASONAL\",\"0533:PAPYRUS\",\"0591:MASS FRAGRANCES\",\"0983:WINE\",\"0440:GIRLS 7-16 CLOTHING\",\"0644:SPORTS NUTRITION\",\"0530:SCHOOL\\u002fOFFIC SUPP\",\"0531:STATIONERY SUNDRIES\",\"0012:LOCAL GIFTS\\u002fFOODS\",\"0165:LIFE IS GOOD\",\"0930:TABLE TOP & KITCHEN\",\"0595:HOME\\u002fBATH\",\"0879:PET SUPPLIES\",\"0415:NEWBORN APPAREL\",\"0973:CANDY\",\"0836:HOUSEHOLD CLEANING\",\"0240:SLEEPWEAR\\u002fLOUNGEWEAR\",\"0449:GIRLS ACCESSORIES\",\"0640:TOYS\"],\"yaxis\":\"y\",\"type\":\"bar\"}],                        {\"template\":{\"data\":{\"histogram2dcontour\":[{\"type\":\"histogram2dcontour\",\"colorbar\":{\"outlinewidth\":0,\"ticks\":\"\"},\"colorscale\":[[0.0,\"#0d0887\"],[0.1111111111111111,\"#46039f\"],[0.2222222222222222,\"#7201a8\"],[0.3333333333333333,\"#9c179e\"],[0.4444444444444444,\"#bd3786\"],[0.5555555555555556,\"#d8576b\"],[0.6666666666666666,\"#ed7953\"],[0.7777777777777778,\"#fb9f3a\"],[0.8888888888888888,\"#fdca26\"],[1.0,\"#f0f921\"]]}],\"choropleth\":[{\"type\":\"choropleth\",\"colorbar\":{\"outlinewidth\":0,\"ticks\":\"\"}}],\"histogram2d\":[{\"type\":\"histogram2d\",\"colorbar\":{\"outlinewidth\":0,\"ticks\":\"\"},\"colorscale\":[[0.0,\"#0d0887\"],[0.1111111111111111,\"#46039f\"],[0.2222222222222222,\"#7201a8\"],[0.3333333333333333,\"#9c179e\"],[0.4444444444444444,\"#bd3786\"],[0.5555555555555556,\"#d8576b\"],[0.6666666666666666,\"#ed7953\"],[0.7777777777777778,\"#fb9f3a\"],[0.8888888888888888,\"#fdca26\"],[1.0,\"#f0f921\"]]}],\"heatmap\":[{\"type\":\"heatmap\",\"colorbar\":{\"outlinewidth\":0,\"ticks\":\"\"},\"colorscale\":[[0.0,\"#0d0887\"],[0.1111111111111111,\"#46039f\"],[0.2222222222222222,\"#7201a8\"],[0.3333333333333333,\"#9c179e\"],[0.4444444444444444,\"#bd3786\"],[0.5555555555555556,\"#d8576b\"],[0.6666666666666666,\"#ed7953\"],[0.7777777777777778,\"#fb9f3a\"],[0.8888888888888888,\"#fdca26\"],[1.0,\"#f0f921\"]]}],\"heatmapgl\":[{\"type\":\"heatmapgl\",\"colorbar\":{\"outlinewidth\":0,\"ticks\":\"\"},\"colorscale\":[[0.0,\"#0d0887\"],[0.1111111111111111,\"#46039f\"],[0.2222222222222222,\"#7201a8\"],[0.3333333333333333,\"#9c179e\"],[0.4444444444444444,\"#bd3786\"],[0.5555555555555556,\"#d8576b\"],[0.6666666666666666,\"#ed7953\"],[0.7777777777777778,\"#fb9f3a\"],[0.8888888888888888,\"#fdca26\"],[1.0,\"#f0f921\"]]}],\"contourcarpet\":[{\"type\":\"contourcarpet\",\"colorbar\":{\"outlinewidth\":0,\"ticks\":\"\"}}],\"contour\":[{\"type\":\"contour\",\"colorbar\":{\"outlinewidth\":0,\"ticks\":\"\"},\"colorscale\":[[0.0,\"#0d0887\"],[0.1111111111111111,\"#46039f\"],[0.2222222222222222,\"#7201a8\"],[0.3333333333333333,\"#9c179e\"],[0.4444444444444444,\"#bd3786\"],[0.5555555555555556,\"#d8576b\"],[0.6666666666666666,\"#ed7953\"],[0.7777777777777778,\"#fb9f3a\"],[0.8888888888888888,\"#fdca26\"],[1.0,\"#f0f921\"]]}],\"surface\":[{\"type\":\"surface\",\"colorbar\":{\"outlinewidth\":0,\"ticks\":\"\"},\"colorscale\":[[0.0,\"#0d0887\"],[0.1111111111111111,\"#46039f\"],[0.2222222222222222,\"#7201a8\"],[0.3333333333333333,\"#9c179e\"],[0.4444444444444444,\"#bd3786\"],[0.5555555555555556,\"#d8576b\"],[0.6666666666666666,\"#ed7953\"],[0.7777777777777778,\"#fb9f3a\"],[0.8888888888888888,\"#fdca26\"],[1.0,\"#f0f921\"]]}],\"mesh3d\":[{\"type\":\"mesh3d\",\"colorbar\":{\"outlinewidth\":0,\"ticks\":\"\"}}],\"scatter\":[{\"fillpattern\":{\"fillmode\":\"overlay\",\"size\":10,\"solidity\":0.2},\"type\":\"scatter\"}],\"parcoords\":[{\"type\":\"parcoords\",\"line\":{\"colorbar\":{\"outlinewidth\":0,\"ticks\":\"\"}}}],\"scatterpolargl\":[{\"type\":\"scatterpolargl\",\"marker\":{\"colorbar\":{\"outlinewidth\":0,\"ticks\":\"\"}}}],\"bar\":[{\"error_x\":{\"color\":\"#2a3f5f\"},\"error_y\":{\"color\":\"#2a3f5f\"},\"marker\":{\"line\":{\"color\":\"#E5ECF6\",\"width\":0.5},\"pattern\":{\"fillmode\":\"overlay\",\"size\":10,\"solidity\":0.2}},\"type\":\"bar\"}],\"scattergeo\":[{\"type\":\"scattergeo\",\"marker\":{\"colorbar\":{\"outlinewidth\":0,\"ticks\":\"\"}}}],\"scatterpolar\":[{\"type\":\"scatterpolar\",\"marker\":{\"colorbar\":{\"outlinewidth\":0,\"ticks\":\"\"}}}],\"histogram\":[{\"marker\":{\"pattern\":{\"fillmode\":\"overlay\",\"size\":10,\"solidity\":0.2}},\"type\":\"histogram\"}],\"scattergl\":[{\"type\":\"scattergl\",\"marker\":{\"colorbar\":{\"outlinewidth\":0,\"ticks\":\"\"}}}],\"scatter3d\":[{\"type\":\"scatter3d\",\"line\":{\"colorbar\":{\"outlinewidth\":0,\"ticks\":\"\"}},\"marker\":{\"colorbar\":{\"outlinewidth\":0,\"ticks\":\"\"}}}],\"scattermapbox\":[{\"type\":\"scattermapbox\",\"marker\":{\"colorbar\":{\"outlinewidth\":0,\"ticks\":\"\"}}}],\"scatterternary\":[{\"type\":\"scatterternary\",\"marker\":{\"colorbar\":{\"outlinewidth\":0,\"ticks\":\"\"}}}],\"scattercarpet\":[{\"type\":\"scattercarpet\",\"marker\":{\"colorbar\":{\"outlinewidth\":0,\"ticks\":\"\"}}}],\"carpet\":[{\"aaxis\":{\"endlinecolor\":\"#2a3f5f\",\"gridcolor\":\"white\",\"linecolor\":\"white\",\"minorgridcolor\":\"white\",\"startlinecolor\":\"#2a3f5f\"},\"baxis\":{\"endlinecolor\":\"#2a3f5f\",\"gridcolor\":\"white\",\"linecolor\":\"white\",\"minorgridcolor\":\"white\",\"startlinecolor\":\"#2a3f5f\"},\"type\":\"carpet\"}],\"table\":[{\"cells\":{\"fill\":{\"color\":\"#EBF0F8\"},\"line\":{\"color\":\"white\"}},\"header\":{\"fill\":{\"color\":\"#C8D4E3\"},\"line\":{\"color\":\"white\"}},\"type\":\"table\"}],\"barpolar\":[{\"marker\":{\"line\":{\"color\":\"#E5ECF6\",\"width\":0.5},\"pattern\":{\"fillmode\":\"overlay\",\"size\":10,\"solidity\":0.2}},\"type\":\"barpolar\"}],\"pie\":[{\"automargin\":true,\"type\":\"pie\"}]},\"layout\":{\"autotypenumbers\":\"strict\",\"colorway\":[\"#636efa\",\"#EF553B\",\"#00cc96\",\"#ab63fa\",\"#FFA15A\",\"#19d3f3\",\"#FF6692\",\"#B6E880\",\"#FF97FF\",\"#FECB52\"],\"font\":{\"color\":\"#2a3f5f\"},\"hovermode\":\"closest\",\"hoverlabel\":{\"align\":\"left\"},\"paper_bgcolor\":\"white\",\"plot_bgcolor\":\"#E5ECF6\",\"polar\":{\"bgcolor\":\"#E5ECF6\",\"angularaxis\":{\"gridcolor\":\"white\",\"linecolor\":\"white\",\"ticks\":\"\"},\"radialaxis\":{\"gridcolor\":\"white\",\"linecolor\":\"white\",\"ticks\":\"\"}},\"ternary\":{\"bgcolor\":\"#E5ECF6\",\"aaxis\":{\"gridcolor\":\"white\",\"linecolor\":\"white\",\"ticks\":\"\"},\"baxis\":{\"gridcolor\":\"white\",\"linecolor\":\"white\",\"ticks\":\"\"},\"caxis\":{\"gridcolor\":\"white\",\"linecolor\":\"white\",\"ticks\":\"\"}},\"coloraxis\":{\"colorbar\":{\"outlinewidth\":0,\"ticks\":\"\"}},\"colorscale\":{\"sequential\":[[0.0,\"#0d0887\"],[0.1111111111111111,\"#46039f\"],[0.2222222222222222,\"#7201a8\"],[0.3333333333333333,\"#9c179e\"],[0.4444444444444444,\"#bd3786\"],[0.5555555555555556,\"#d8576b\"],[0.6666666666666666,\"#ed7953\"],[0.7777777777777778,\"#fb9f3a\"],[0.8888888888888888,\"#fdca26\"],[1.0,\"#f0f921\"]],\"sequentialminus\":[[0.0,\"#0d0887\"],[0.1111111111111111,\"#46039f\"],[0.2222222222222222,\"#7201a8\"],[0.3333333333333333,\"#9c179e\"],[0.4444444444444444,\"#bd3786\"],[0.5555555555555556,\"#d8576b\"],[0.6666666666666666,\"#ed7953\"],[0.7777777777777778,\"#fb9f3a\"],[0.8888888888888888,\"#fdca26\"],[1.0,\"#f0f921\"]],\"diverging\":[[0,\"#8e0152\"],[0.1,\"#c51b7d\"],[0.2,\"#de77ae\"],[0.3,\"#f1b6da\"],[0.4,\"#fde0ef\"],[0.5,\"#f7f7f7\"],[0.6,\"#e6f5d0\"],[0.7,\"#b8e186\"],[0.8,\"#7fbc41\"],[0.9,\"#4d9221\"],[1,\"#276419\"]]},\"xaxis\":{\"gridcolor\":\"white\",\"linecolor\":\"white\",\"ticks\":\"\",\"title\":{\"standoff\":15},\"zerolinecolor\":\"white\",\"automargin\":true,\"zerolinewidth\":2},\"yaxis\":{\"gridcolor\":\"white\",\"linecolor\":\"white\",\"ticks\":\"\",\"title\":{\"standoff\":15},\"zerolinecolor\":\"white\",\"automargin\":true,\"zerolinewidth\":2},\"scene\":{\"xaxis\":{\"backgroundcolor\":\"#E5ECF6\",\"gridcolor\":\"white\",\"linecolor\":\"white\",\"showbackground\":true,\"ticks\":\"\",\"zerolinecolor\":\"white\",\"gridwidth\":2},\"yaxis\":{\"backgroundcolor\":\"#E5ECF6\",\"gridcolor\":\"white\",\"linecolor\":\"white\",\"showbackground\":true,\"ticks\":\"\",\"zerolinecolor\":\"white\",\"gridwidth\":2},\"zaxis\":{\"backgroundcolor\":\"#E5ECF6\",\"gridcolor\":\"white\",\"linecolor\":\"white\",\"showbackground\":true,\"ticks\":\"\",\"zerolinecolor\":\"white\",\"gridwidth\":2}},\"shapedefaults\":{\"line\":{\"color\":\"#2a3f5f\"}},\"annotationdefaults\":{\"arrowcolor\":\"#2a3f5f\",\"arrowhead\":0,\"arrowwidth\":1},\"geo\":{\"bgcolor\":\"white\",\"landcolor\":\"#E5ECF6\",\"subunitcolor\":\"white\",\"showland\":true,\"showlakes\":true,\"lakecolor\":\"white\"},\"title\":{\"x\":0.05},\"mapbox\":{\"style\":\"light\"}}},\"xaxis\":{\"anchor\":\"y\",\"domain\":[0.0,1.0],\"title\":{\"text\":\"value\"}},\"yaxis\":{\"anchor\":\"x\",\"domain\":[0.0,1.0],\"title\":{\"text\":\"Departamento\"}},\"coloraxis\":{\"colorbar\":{\"title\":{\"text\":\"color\"}},\"colorscale\":[[0.0,\"#0d0887\"],[0.1111111111111111,\"#46039f\"],[0.2222222222222222,\"#7201a8\"],[0.3333333333333333,\"#9c179e\"],[0.4444444444444444,\"#bd3786\"],[0.5555555555555556,\"#d8576b\"],[0.6666666666666666,\"#ed7953\"],[0.7777777777777778,\"#fb9f3a\"],[0.8888888888888888,\"#fdca26\"],[1.0,\"#f0f921\"]]},\"legend\":{\"tracegroupgap\":0},\"margin\":{\"t\":60},\"barmode\":\"relative\",\"showlegend\":false},                        {\"responsive\": true}                    ).then(function(){\n",
       "                            \n",
       "var gd = document.getElementById('a20e5cf9-ef4b-48b1-ba91-aec0b6307b38');\n",
       "var x = new MutationObserver(function (mutations, observer) {{\n",
       "        var display = window.getComputedStyle(gd).display;\n",
       "        if (!display || display === 'none') {{\n",
       "            console.log([gd, 'removed!']);\n",
       "            Plotly.purge(gd);\n",
       "            observer.disconnect();\n",
       "        }}\n",
       "}});\n",
       "\n",
       "// Listen for the removal of the full notebook cells\n",
       "var notebookContainer = gd.closest('#notebook-container');\n",
       "if (notebookContainer) {{\n",
       "    x.observe(notebookContainer, {childList: true});\n",
       "}}\n",
       "\n",
       "// Listen for the clearing of the current output cell\n",
       "var outputEl = gd.closest('.output');\n",
       "if (outputEl) {{\n",
       "    x.observe(outputEl, {childList: true});\n",
       "}}\n",
       "\n",
       "                        })                };                });            </script>        </div>"
      ]
     },
     "metadata": {},
     "output_type": "display_data"
    }
   ],
   "source": [
    "# Quais departamentos tem a maior méidas nas unidades vendidas por transação? Top 20\n",
    "\n",
    "# Calcular o desvio padrão das quantidades vendidas, agrupando por departamento\n",
    "\n",
    "media_quantidades_por_departamentos_top20 = df_transacoes.groupby('Departamento')['Qtde_Vendida'].mean().sort_values(ascending=False).head(20)\n",
    "\n",
    "# Plot\n",
    "fig_media_unidades_vendidas_top20 = px.bar(media_quantidades_por_departamentos_top20, color=media_quantidades_por_departamentos_top20, orientation='h')\n",
    "fig_media_unidades_vendidas_top20.update_layout(showlegend=False)\n",
    "fig_media_unidades_vendidas_top20.show()"
   ]
  },
  {
   "cell_type": "code",
   "execution_count": 118,
   "id": "406c067a",
   "metadata": {},
   "outputs": [
    {
     "data": {
      "application/vnd.plotly.v1+json": {
       "config": {
        "plotlyServerURL": "https://plot.ly"
       },
       "data": [
        {
         "alignmentgroup": "True",
         "hovertemplate": "value=%{x}<br>Departamento=%{y}<br>color=%{marker.color}<extra></extra>",
         "legendgroup": "",
         "marker": {
          "color": [
           4.041451884327381,
           3.6319588884717278,
           3.4507038990229844,
           3.3349995835415362,
           2.9514591494904874,
           2.757456138624084,
           2.753785273643051,
           2.552004559699546,
           2.5161308329755467,
           2.436369724794953,
           2.380476142847617,
           2.2360679774997894,
           2.2211108331943574,
           2.149798738343805,
           2.1213203435596424,
           2.111001654603745,
           2.064741604835056,
           2.0575065816014617,
           2.0219408447056098,
           2
          ],
          "coloraxis": "coloraxis",
          "pattern": {
           "shape": ""
          }
         },
         "name": "",
         "offsetgroup": "",
         "orientation": "h",
         "showlegend": false,
         "textposition": "auto",
         "type": "bar",
         "x": [
          4.041451884327381,
          3.6319588884717278,
          3.4507038990229844,
          3.3349995835415362,
          2.9514591494904874,
          2.757456138624084,
          2.753785273643051,
          2.552004559699546,
          2.5161308329755467,
          2.436369724794953,
          2.380476142847617,
          2.2360679774997894,
          2.2211108331943574,
          2.149798738343805,
          2.1213203435596424,
          2.111001654603745,
          2.064741604835056,
          2.0575065816014617,
          2.0219408447056098,
          2
         ],
         "xaxis": "x",
         "y": [
          "0533:PAPYRUS",
          "0646:SEASONAL",
          "0983:WINE",
          "0440:GIRLS 7-16 CLOTHING",
          "0644:SPORTS NUTRITION",
          "0879:PET SUPPLIES",
          "0210:FOUNDATIONS",
          "0973:CANDY",
          "0530:SCHOOL/OFFIC SUPP",
          "0930:TABLE TOP & KITCHEN",
          "0012:LOCAL GIFTS/FOODS",
          "0795:HOME DECOR",
          "0230:DAYWEAR",
          "0640:TOYS",
          "0165:LIFE IS GOOD",
          "0598:BABY CARE",
          "0531:STATIONERY SUNDRIES",
          "0240:SLEEPWEAR/LOUNGEWEAR",
          "0836:HOUSEHOLD CLEANING",
          "0130:JUNIORS SURF"
         ],
         "yaxis": "y"
        },
        {
         "alignmentgroup": "True",
         "hovertemplate": "value=%{x}<br>Departamento=%{y}<br>color=%{marker.color}<extra></extra>",
         "legendgroup": "",
         "marker": {
          "color": [
           3.75,
           3.7471264367816093,
           3.3333333333333335,
           3,
           2.764397905759162,
           2.7,
           2.5555555555555554,
           2.5283018867924527,
           2.526315789473684,
           2.5,
           2.5,
           2.4615384615384617,
           2.4166666666666665,
           2.405940594059406,
           2.388888888888889,
           2.349090909090909,
           2.348101265822785,
           2.3333333333333335,
           2.2142857142857144,
           2.1846153846153844
          ],
          "coloraxis": "coloraxis",
          "pattern": {
           "shape": ""
          }
         },
         "name": "",
         "offsetgroup": "",
         "orientation": "h",
         "showlegend": false,
         "textposition": "auto",
         "type": "bar",
         "x": [
          3.75,
          3.7471264367816093,
          3.3333333333333335,
          3,
          2.764397905759162,
          2.7,
          2.5555555555555554,
          2.5283018867924527,
          2.526315789473684,
          2.5,
          2.5,
          2.4615384615384617,
          2.4166666666666665,
          2.405940594059406,
          2.388888888888889,
          2.349090909090909,
          2.348101265822785,
          2.3333333333333335,
          2.2142857142857144,
          2.1846153846153844
         ],
         "xaxis": "x2",
         "y": [
          "0210:FOUNDATIONS",
          "0646:SEASONAL",
          "0533:PAPYRUS",
          "0591:MASS FRAGRANCES",
          "0983:WINE",
          "0440:GIRLS 7-16 CLOTHING",
          "0644:SPORTS NUTRITION",
          "0530:SCHOOL/OFFIC SUPP",
          "0531:STATIONERY SUNDRIES",
          "0012:LOCAL GIFTS/FOODS",
          "0165:LIFE IS GOOD",
          "0930:TABLE TOP & KITCHEN",
          "0595:HOME/BATH",
          "0879:PET SUPPLIES",
          "0415:NEWBORN APPAREL",
          "0973:CANDY",
          "0836:HOUSEHOLD CLEANING",
          "0240:SLEEPWEAR/LOUNGEWEAR",
          "0449:GIRLS ACCESSORIES",
          "0640:TOYS"
         ],
         "yaxis": "y2"
        }
       ],
       "layout": {
        "annotations": [
         {
          "font": {
           "size": 16
          },
          "showarrow": false,
          "text": "Desvio padrão",
          "x": 0.225,
          "xanchor": "center",
          "xref": "paper",
          "y": 1,
          "yanchor": "bottom",
          "yref": "paper"
         },
         {
          "font": {
           "size": 16
          },
          "showarrow": false,
          "text": "Media",
          "x": 0.775,
          "xanchor": "center",
          "xref": "paper",
          "y": 1,
          "yanchor": "bottom",
          "yref": "paper"
         }
        ],
        "height": 800,
        "showlegend": false,
        "template": {
         "data": {
          "bar": [
           {
            "error_x": {
             "color": "#2a3f5f"
            },
            "error_y": {
             "color": "#2a3f5f"
            },
            "marker": {
             "line": {
              "color": "#E5ECF6",
              "width": 0.5
             },
             "pattern": {
              "fillmode": "overlay",
              "size": 10,
              "solidity": 0.2
             }
            },
            "type": "bar"
           }
          ],
          "barpolar": [
           {
            "marker": {
             "line": {
              "color": "#E5ECF6",
              "width": 0.5
             },
             "pattern": {
              "fillmode": "overlay",
              "size": 10,
              "solidity": 0.2
             }
            },
            "type": "barpolar"
           }
          ],
          "carpet": [
           {
            "aaxis": {
             "endlinecolor": "#2a3f5f",
             "gridcolor": "white",
             "linecolor": "white",
             "minorgridcolor": "white",
             "startlinecolor": "#2a3f5f"
            },
            "baxis": {
             "endlinecolor": "#2a3f5f",
             "gridcolor": "white",
             "linecolor": "white",
             "minorgridcolor": "white",
             "startlinecolor": "#2a3f5f"
            },
            "type": "carpet"
           }
          ],
          "choropleth": [
           {
            "colorbar": {
             "outlinewidth": 0,
             "ticks": ""
            },
            "type": "choropleth"
           }
          ],
          "contour": [
           {
            "colorbar": {
             "outlinewidth": 0,
             "ticks": ""
            },
            "colorscale": [
             [
              0,
              "#0d0887"
             ],
             [
              0.1111111111111111,
              "#46039f"
             ],
             [
              0.2222222222222222,
              "#7201a8"
             ],
             [
              0.3333333333333333,
              "#9c179e"
             ],
             [
              0.4444444444444444,
              "#bd3786"
             ],
             [
              0.5555555555555556,
              "#d8576b"
             ],
             [
              0.6666666666666666,
              "#ed7953"
             ],
             [
              0.7777777777777778,
              "#fb9f3a"
             ],
             [
              0.8888888888888888,
              "#fdca26"
             ],
             [
              1,
              "#f0f921"
             ]
            ],
            "type": "contour"
           }
          ],
          "contourcarpet": [
           {
            "colorbar": {
             "outlinewidth": 0,
             "ticks": ""
            },
            "type": "contourcarpet"
           }
          ],
          "heatmap": [
           {
            "colorbar": {
             "outlinewidth": 0,
             "ticks": ""
            },
            "colorscale": [
             [
              0,
              "#0d0887"
             ],
             [
              0.1111111111111111,
              "#46039f"
             ],
             [
              0.2222222222222222,
              "#7201a8"
             ],
             [
              0.3333333333333333,
              "#9c179e"
             ],
             [
              0.4444444444444444,
              "#bd3786"
             ],
             [
              0.5555555555555556,
              "#d8576b"
             ],
             [
              0.6666666666666666,
              "#ed7953"
             ],
             [
              0.7777777777777778,
              "#fb9f3a"
             ],
             [
              0.8888888888888888,
              "#fdca26"
             ],
             [
              1,
              "#f0f921"
             ]
            ],
            "type": "heatmap"
           }
          ],
          "heatmapgl": [
           {
            "colorbar": {
             "outlinewidth": 0,
             "ticks": ""
            },
            "colorscale": [
             [
              0,
              "#0d0887"
             ],
             [
              0.1111111111111111,
              "#46039f"
             ],
             [
              0.2222222222222222,
              "#7201a8"
             ],
             [
              0.3333333333333333,
              "#9c179e"
             ],
             [
              0.4444444444444444,
              "#bd3786"
             ],
             [
              0.5555555555555556,
              "#d8576b"
             ],
             [
              0.6666666666666666,
              "#ed7953"
             ],
             [
              0.7777777777777778,
              "#fb9f3a"
             ],
             [
              0.8888888888888888,
              "#fdca26"
             ],
             [
              1,
              "#f0f921"
             ]
            ],
            "type": "heatmapgl"
           }
          ],
          "histogram": [
           {
            "marker": {
             "pattern": {
              "fillmode": "overlay",
              "size": 10,
              "solidity": 0.2
             }
            },
            "type": "histogram"
           }
          ],
          "histogram2d": [
           {
            "colorbar": {
             "outlinewidth": 0,
             "ticks": ""
            },
            "colorscale": [
             [
              0,
              "#0d0887"
             ],
             [
              0.1111111111111111,
              "#46039f"
             ],
             [
              0.2222222222222222,
              "#7201a8"
             ],
             [
              0.3333333333333333,
              "#9c179e"
             ],
             [
              0.4444444444444444,
              "#bd3786"
             ],
             [
              0.5555555555555556,
              "#d8576b"
             ],
             [
              0.6666666666666666,
              "#ed7953"
             ],
             [
              0.7777777777777778,
              "#fb9f3a"
             ],
             [
              0.8888888888888888,
              "#fdca26"
             ],
             [
              1,
              "#f0f921"
             ]
            ],
            "type": "histogram2d"
           }
          ],
          "histogram2dcontour": [
           {
            "colorbar": {
             "outlinewidth": 0,
             "ticks": ""
            },
            "colorscale": [
             [
              0,
              "#0d0887"
             ],
             [
              0.1111111111111111,
              "#46039f"
             ],
             [
              0.2222222222222222,
              "#7201a8"
             ],
             [
              0.3333333333333333,
              "#9c179e"
             ],
             [
              0.4444444444444444,
              "#bd3786"
             ],
             [
              0.5555555555555556,
              "#d8576b"
             ],
             [
              0.6666666666666666,
              "#ed7953"
             ],
             [
              0.7777777777777778,
              "#fb9f3a"
             ],
             [
              0.8888888888888888,
              "#fdca26"
             ],
             [
              1,
              "#f0f921"
             ]
            ],
            "type": "histogram2dcontour"
           }
          ],
          "mesh3d": [
           {
            "colorbar": {
             "outlinewidth": 0,
             "ticks": ""
            },
            "type": "mesh3d"
           }
          ],
          "parcoords": [
           {
            "line": {
             "colorbar": {
              "outlinewidth": 0,
              "ticks": ""
             }
            },
            "type": "parcoords"
           }
          ],
          "pie": [
           {
            "automargin": true,
            "type": "pie"
           }
          ],
          "scatter": [
           {
            "fillpattern": {
             "fillmode": "overlay",
             "size": 10,
             "solidity": 0.2
            },
            "type": "scatter"
           }
          ],
          "scatter3d": [
           {
            "line": {
             "colorbar": {
              "outlinewidth": 0,
              "ticks": ""
             }
            },
            "marker": {
             "colorbar": {
              "outlinewidth": 0,
              "ticks": ""
             }
            },
            "type": "scatter3d"
           }
          ],
          "scattercarpet": [
           {
            "marker": {
             "colorbar": {
              "outlinewidth": 0,
              "ticks": ""
             }
            },
            "type": "scattercarpet"
           }
          ],
          "scattergeo": [
           {
            "marker": {
             "colorbar": {
              "outlinewidth": 0,
              "ticks": ""
             }
            },
            "type": "scattergeo"
           }
          ],
          "scattergl": [
           {
            "marker": {
             "colorbar": {
              "outlinewidth": 0,
              "ticks": ""
             }
            },
            "type": "scattergl"
           }
          ],
          "scattermapbox": [
           {
            "marker": {
             "colorbar": {
              "outlinewidth": 0,
              "ticks": ""
             }
            },
            "type": "scattermapbox"
           }
          ],
          "scatterpolar": [
           {
            "marker": {
             "colorbar": {
              "outlinewidth": 0,
              "ticks": ""
             }
            },
            "type": "scatterpolar"
           }
          ],
          "scatterpolargl": [
           {
            "marker": {
             "colorbar": {
              "outlinewidth": 0,
              "ticks": ""
             }
            },
            "type": "scatterpolargl"
           }
          ],
          "scatterternary": [
           {
            "marker": {
             "colorbar": {
              "outlinewidth": 0,
              "ticks": ""
             }
            },
            "type": "scatterternary"
           }
          ],
          "surface": [
           {
            "colorbar": {
             "outlinewidth": 0,
             "ticks": ""
            },
            "colorscale": [
             [
              0,
              "#0d0887"
             ],
             [
              0.1111111111111111,
              "#46039f"
             ],
             [
              0.2222222222222222,
              "#7201a8"
             ],
             [
              0.3333333333333333,
              "#9c179e"
             ],
             [
              0.4444444444444444,
              "#bd3786"
             ],
             [
              0.5555555555555556,
              "#d8576b"
             ],
             [
              0.6666666666666666,
              "#ed7953"
             ],
             [
              0.7777777777777778,
              "#fb9f3a"
             ],
             [
              0.8888888888888888,
              "#fdca26"
             ],
             [
              1,
              "#f0f921"
             ]
            ],
            "type": "surface"
           }
          ],
          "table": [
           {
            "cells": {
             "fill": {
              "color": "#EBF0F8"
             },
             "line": {
              "color": "white"
             }
            },
            "header": {
             "fill": {
              "color": "#C8D4E3"
             },
             "line": {
              "color": "white"
             }
            },
            "type": "table"
           }
          ]
         },
         "layout": {
          "annotationdefaults": {
           "arrowcolor": "#2a3f5f",
           "arrowhead": 0,
           "arrowwidth": 1
          },
          "autotypenumbers": "strict",
          "coloraxis": {
           "colorbar": {
            "outlinewidth": 0,
            "ticks": ""
           }
          },
          "colorscale": {
           "diverging": [
            [
             0,
             "#8e0152"
            ],
            [
             0.1,
             "#c51b7d"
            ],
            [
             0.2,
             "#de77ae"
            ],
            [
             0.3,
             "#f1b6da"
            ],
            [
             0.4,
             "#fde0ef"
            ],
            [
             0.5,
             "#f7f7f7"
            ],
            [
             0.6,
             "#e6f5d0"
            ],
            [
             0.7,
             "#b8e186"
            ],
            [
             0.8,
             "#7fbc41"
            ],
            [
             0.9,
             "#4d9221"
            ],
            [
             1,
             "#276419"
            ]
           ],
           "sequential": [
            [
             0,
             "#0d0887"
            ],
            [
             0.1111111111111111,
             "#46039f"
            ],
            [
             0.2222222222222222,
             "#7201a8"
            ],
            [
             0.3333333333333333,
             "#9c179e"
            ],
            [
             0.4444444444444444,
             "#bd3786"
            ],
            [
             0.5555555555555556,
             "#d8576b"
            ],
            [
             0.6666666666666666,
             "#ed7953"
            ],
            [
             0.7777777777777778,
             "#fb9f3a"
            ],
            [
             0.8888888888888888,
             "#fdca26"
            ],
            [
             1,
             "#f0f921"
            ]
           ],
           "sequentialminus": [
            [
             0,
             "#0d0887"
            ],
            [
             0.1111111111111111,
             "#46039f"
            ],
            [
             0.2222222222222222,
             "#7201a8"
            ],
            [
             0.3333333333333333,
             "#9c179e"
            ],
            [
             0.4444444444444444,
             "#bd3786"
            ],
            [
             0.5555555555555556,
             "#d8576b"
            ],
            [
             0.6666666666666666,
             "#ed7953"
            ],
            [
             0.7777777777777778,
             "#fb9f3a"
            ],
            [
             0.8888888888888888,
             "#fdca26"
            ],
            [
             1,
             "#f0f921"
            ]
           ]
          },
          "colorway": [
           "#636efa",
           "#EF553B",
           "#00cc96",
           "#ab63fa",
           "#FFA15A",
           "#19d3f3",
           "#FF6692",
           "#B6E880",
           "#FF97FF",
           "#FECB52"
          ],
          "font": {
           "color": "#2a3f5f"
          },
          "geo": {
           "bgcolor": "white",
           "lakecolor": "white",
           "landcolor": "#E5ECF6",
           "showlakes": true,
           "showland": true,
           "subunitcolor": "white"
          },
          "hoverlabel": {
           "align": "left"
          },
          "hovermode": "closest",
          "mapbox": {
           "style": "light"
          },
          "paper_bgcolor": "white",
          "plot_bgcolor": "#E5ECF6",
          "polar": {
           "angularaxis": {
            "gridcolor": "white",
            "linecolor": "white",
            "ticks": ""
           },
           "bgcolor": "#E5ECF6",
           "radialaxis": {
            "gridcolor": "white",
            "linecolor": "white",
            "ticks": ""
           }
          },
          "scene": {
           "xaxis": {
            "backgroundcolor": "#E5ECF6",
            "gridcolor": "white",
            "gridwidth": 2,
            "linecolor": "white",
            "showbackground": true,
            "ticks": "",
            "zerolinecolor": "white"
           },
           "yaxis": {
            "backgroundcolor": "#E5ECF6",
            "gridcolor": "white",
            "gridwidth": 2,
            "linecolor": "white",
            "showbackground": true,
            "ticks": "",
            "zerolinecolor": "white"
           },
           "zaxis": {
            "backgroundcolor": "#E5ECF6",
            "gridcolor": "white",
            "gridwidth": 2,
            "linecolor": "white",
            "showbackground": true,
            "ticks": "",
            "zerolinecolor": "white"
           }
          },
          "shapedefaults": {
           "line": {
            "color": "#2a3f5f"
           }
          },
          "ternary": {
           "aaxis": {
            "gridcolor": "white",
            "linecolor": "white",
            "ticks": ""
           },
           "baxis": {
            "gridcolor": "white",
            "linecolor": "white",
            "ticks": ""
           },
           "bgcolor": "#E5ECF6",
           "caxis": {
            "gridcolor": "white",
            "linecolor": "white",
            "ticks": ""
           }
          },
          "title": {
           "x": 0.05
          },
          "xaxis": {
           "automargin": true,
           "gridcolor": "white",
           "linecolor": "white",
           "ticks": "",
           "title": {
            "standoff": 15
           },
           "zerolinecolor": "white",
           "zerolinewidth": 2
          },
          "yaxis": {
           "automargin": true,
           "gridcolor": "white",
           "linecolor": "white",
           "ticks": "",
           "title": {
            "standoff": 15
           },
           "zerolinecolor": "white",
           "zerolinewidth": 2
          }
         }
        },
        "title": {
         "text": "Top 20 Departamentos - Unidades Vendidas"
        },
        "width": 1000,
        "xaxis": {
         "anchor": "y",
         "domain": [
          0,
          0.45
         ]
        },
        "xaxis2": {
         "anchor": "y2",
         "domain": [
          0.55,
          1
         ]
        },
        "yaxis": {
         "anchor": "x",
         "domain": [
          0,
          1
         ]
        },
        "yaxis2": {
         "anchor": "x2",
         "domain": [
          0,
          1
         ]
        }
       }
      },
      "text/html": [
       "<div>                            <div id=\"5dea1611-2a81-4da2-a140-e9581b5c2503\" class=\"plotly-graph-div\" style=\"height:800px; width:1000px;\"></div>            <script type=\"text/javascript\">                require([\"plotly\"], function(Plotly) {                    window.PLOTLYENV=window.PLOTLYENV || {};                                    if (document.getElementById(\"5dea1611-2a81-4da2-a140-e9581b5c2503\")) {                    Plotly.newPlot(                        \"5dea1611-2a81-4da2-a140-e9581b5c2503\",                        [{\"alignmentgroup\":\"True\",\"hovertemplate\":\"value=%{x}\\u003cbr\\u003eDepartamento=%{y}\\u003cbr\\u003ecolor=%{marker.color}\\u003cextra\\u003e\\u003c\\u002fextra\\u003e\",\"legendgroup\":\"\",\"marker\":{\"color\":[4.041451884327381,3.6319588884717278,3.4507038990229844,3.3349995835415362,2.9514591494904874,2.757456138624084,2.753785273643051,2.552004559699546,2.5161308329755467,2.436369724794953,2.380476142847617,2.2360679774997894,2.2211108331943574,2.149798738343805,2.1213203435596424,2.111001654603745,2.064741604835056,2.0575065816014617,2.0219408447056098,2.0],\"coloraxis\":\"coloraxis\",\"pattern\":{\"shape\":\"\"}},\"name\":\"\",\"offsetgroup\":\"\",\"orientation\":\"h\",\"showlegend\":false,\"textposition\":\"auto\",\"x\":[4.041451884327381,3.6319588884717278,3.4507038990229844,3.3349995835415362,2.9514591494904874,2.757456138624084,2.753785273643051,2.552004559699546,2.5161308329755467,2.436369724794953,2.380476142847617,2.2360679774997894,2.2211108331943574,2.149798738343805,2.1213203435596424,2.111001654603745,2.064741604835056,2.0575065816014617,2.0219408447056098,2.0],\"xaxis\":\"x\",\"y\":[\"0533:PAPYRUS\",\"0646:SEASONAL\",\"0983:WINE\",\"0440:GIRLS 7-16 CLOTHING\",\"0644:SPORTS NUTRITION\",\"0879:PET SUPPLIES\",\"0210:FOUNDATIONS\",\"0973:CANDY\",\"0530:SCHOOL\\u002fOFFIC SUPP\",\"0930:TABLE TOP & KITCHEN\",\"0012:LOCAL GIFTS\\u002fFOODS\",\"0795:HOME DECOR\",\"0230:DAYWEAR\",\"0640:TOYS\",\"0165:LIFE IS GOOD\",\"0598:BABY CARE\",\"0531:STATIONERY SUNDRIES\",\"0240:SLEEPWEAR\\u002fLOUNGEWEAR\",\"0836:HOUSEHOLD CLEANING\",\"0130:JUNIORS SURF\"],\"yaxis\":\"y\",\"type\":\"bar\"},{\"alignmentgroup\":\"True\",\"hovertemplate\":\"value=%{x}\\u003cbr\\u003eDepartamento=%{y}\\u003cbr\\u003ecolor=%{marker.color}\\u003cextra\\u003e\\u003c\\u002fextra\\u003e\",\"legendgroup\":\"\",\"marker\":{\"color\":[3.75,3.7471264367816093,3.3333333333333335,3.0,2.764397905759162,2.7,2.5555555555555554,2.5283018867924527,2.526315789473684,2.5,2.5,2.4615384615384617,2.4166666666666665,2.405940594059406,2.388888888888889,2.349090909090909,2.348101265822785,2.3333333333333335,2.2142857142857144,2.1846153846153844],\"coloraxis\":\"coloraxis\",\"pattern\":{\"shape\":\"\"}},\"name\":\"\",\"offsetgroup\":\"\",\"orientation\":\"h\",\"showlegend\":false,\"textposition\":\"auto\",\"x\":[3.75,3.7471264367816093,3.3333333333333335,3.0,2.764397905759162,2.7,2.5555555555555554,2.5283018867924527,2.526315789473684,2.5,2.5,2.4615384615384617,2.4166666666666665,2.405940594059406,2.388888888888889,2.349090909090909,2.348101265822785,2.3333333333333335,2.2142857142857144,2.1846153846153844],\"xaxis\":\"x2\",\"y\":[\"0210:FOUNDATIONS\",\"0646:SEASONAL\",\"0533:PAPYRUS\",\"0591:MASS FRAGRANCES\",\"0983:WINE\",\"0440:GIRLS 7-16 CLOTHING\",\"0644:SPORTS NUTRITION\",\"0530:SCHOOL\\u002fOFFIC SUPP\",\"0531:STATIONERY SUNDRIES\",\"0012:LOCAL GIFTS\\u002fFOODS\",\"0165:LIFE IS GOOD\",\"0930:TABLE TOP & KITCHEN\",\"0595:HOME\\u002fBATH\",\"0879:PET SUPPLIES\",\"0415:NEWBORN APPAREL\",\"0973:CANDY\",\"0836:HOUSEHOLD CLEANING\",\"0240:SLEEPWEAR\\u002fLOUNGEWEAR\",\"0449:GIRLS ACCESSORIES\",\"0640:TOYS\"],\"yaxis\":\"y2\",\"type\":\"bar\"}],                        {\"template\":{\"data\":{\"histogram2dcontour\":[{\"type\":\"histogram2dcontour\",\"colorbar\":{\"outlinewidth\":0,\"ticks\":\"\"},\"colorscale\":[[0.0,\"#0d0887\"],[0.1111111111111111,\"#46039f\"],[0.2222222222222222,\"#7201a8\"],[0.3333333333333333,\"#9c179e\"],[0.4444444444444444,\"#bd3786\"],[0.5555555555555556,\"#d8576b\"],[0.6666666666666666,\"#ed7953\"],[0.7777777777777778,\"#fb9f3a\"],[0.8888888888888888,\"#fdca26\"],[1.0,\"#f0f921\"]]}],\"choropleth\":[{\"type\":\"choropleth\",\"colorbar\":{\"outlinewidth\":0,\"ticks\":\"\"}}],\"histogram2d\":[{\"type\":\"histogram2d\",\"colorbar\":{\"outlinewidth\":0,\"ticks\":\"\"},\"colorscale\":[[0.0,\"#0d0887\"],[0.1111111111111111,\"#46039f\"],[0.2222222222222222,\"#7201a8\"],[0.3333333333333333,\"#9c179e\"],[0.4444444444444444,\"#bd3786\"],[0.5555555555555556,\"#d8576b\"],[0.6666666666666666,\"#ed7953\"],[0.7777777777777778,\"#fb9f3a\"],[0.8888888888888888,\"#fdca26\"],[1.0,\"#f0f921\"]]}],\"heatmap\":[{\"type\":\"heatmap\",\"colorbar\":{\"outlinewidth\":0,\"ticks\":\"\"},\"colorscale\":[[0.0,\"#0d0887\"],[0.1111111111111111,\"#46039f\"],[0.2222222222222222,\"#7201a8\"],[0.3333333333333333,\"#9c179e\"],[0.4444444444444444,\"#bd3786\"],[0.5555555555555556,\"#d8576b\"],[0.6666666666666666,\"#ed7953\"],[0.7777777777777778,\"#fb9f3a\"],[0.8888888888888888,\"#fdca26\"],[1.0,\"#f0f921\"]]}],\"heatmapgl\":[{\"type\":\"heatmapgl\",\"colorbar\":{\"outlinewidth\":0,\"ticks\":\"\"},\"colorscale\":[[0.0,\"#0d0887\"],[0.1111111111111111,\"#46039f\"],[0.2222222222222222,\"#7201a8\"],[0.3333333333333333,\"#9c179e\"],[0.4444444444444444,\"#bd3786\"],[0.5555555555555556,\"#d8576b\"],[0.6666666666666666,\"#ed7953\"],[0.7777777777777778,\"#fb9f3a\"],[0.8888888888888888,\"#fdca26\"],[1.0,\"#f0f921\"]]}],\"contourcarpet\":[{\"type\":\"contourcarpet\",\"colorbar\":{\"outlinewidth\":0,\"ticks\":\"\"}}],\"contour\":[{\"type\":\"contour\",\"colorbar\":{\"outlinewidth\":0,\"ticks\":\"\"},\"colorscale\":[[0.0,\"#0d0887\"],[0.1111111111111111,\"#46039f\"],[0.2222222222222222,\"#7201a8\"],[0.3333333333333333,\"#9c179e\"],[0.4444444444444444,\"#bd3786\"],[0.5555555555555556,\"#d8576b\"],[0.6666666666666666,\"#ed7953\"],[0.7777777777777778,\"#fb9f3a\"],[0.8888888888888888,\"#fdca26\"],[1.0,\"#f0f921\"]]}],\"surface\":[{\"type\":\"surface\",\"colorbar\":{\"outlinewidth\":0,\"ticks\":\"\"},\"colorscale\":[[0.0,\"#0d0887\"],[0.1111111111111111,\"#46039f\"],[0.2222222222222222,\"#7201a8\"],[0.3333333333333333,\"#9c179e\"],[0.4444444444444444,\"#bd3786\"],[0.5555555555555556,\"#d8576b\"],[0.6666666666666666,\"#ed7953\"],[0.7777777777777778,\"#fb9f3a\"],[0.8888888888888888,\"#fdca26\"],[1.0,\"#f0f921\"]]}],\"mesh3d\":[{\"type\":\"mesh3d\",\"colorbar\":{\"outlinewidth\":0,\"ticks\":\"\"}}],\"scatter\":[{\"fillpattern\":{\"fillmode\":\"overlay\",\"size\":10,\"solidity\":0.2},\"type\":\"scatter\"}],\"parcoords\":[{\"type\":\"parcoords\",\"line\":{\"colorbar\":{\"outlinewidth\":0,\"ticks\":\"\"}}}],\"scatterpolargl\":[{\"type\":\"scatterpolargl\",\"marker\":{\"colorbar\":{\"outlinewidth\":0,\"ticks\":\"\"}}}],\"bar\":[{\"error_x\":{\"color\":\"#2a3f5f\"},\"error_y\":{\"color\":\"#2a3f5f\"},\"marker\":{\"line\":{\"color\":\"#E5ECF6\",\"width\":0.5},\"pattern\":{\"fillmode\":\"overlay\",\"size\":10,\"solidity\":0.2}},\"type\":\"bar\"}],\"scattergeo\":[{\"type\":\"scattergeo\",\"marker\":{\"colorbar\":{\"outlinewidth\":0,\"ticks\":\"\"}}}],\"scatterpolar\":[{\"type\":\"scatterpolar\",\"marker\":{\"colorbar\":{\"outlinewidth\":0,\"ticks\":\"\"}}}],\"histogram\":[{\"marker\":{\"pattern\":{\"fillmode\":\"overlay\",\"size\":10,\"solidity\":0.2}},\"type\":\"histogram\"}],\"scattergl\":[{\"type\":\"scattergl\",\"marker\":{\"colorbar\":{\"outlinewidth\":0,\"ticks\":\"\"}}}],\"scatter3d\":[{\"type\":\"scatter3d\",\"line\":{\"colorbar\":{\"outlinewidth\":0,\"ticks\":\"\"}},\"marker\":{\"colorbar\":{\"outlinewidth\":0,\"ticks\":\"\"}}}],\"scattermapbox\":[{\"type\":\"scattermapbox\",\"marker\":{\"colorbar\":{\"outlinewidth\":0,\"ticks\":\"\"}}}],\"scatterternary\":[{\"type\":\"scatterternary\",\"marker\":{\"colorbar\":{\"outlinewidth\":0,\"ticks\":\"\"}}}],\"scattercarpet\":[{\"type\":\"scattercarpet\",\"marker\":{\"colorbar\":{\"outlinewidth\":0,\"ticks\":\"\"}}}],\"carpet\":[{\"aaxis\":{\"endlinecolor\":\"#2a3f5f\",\"gridcolor\":\"white\",\"linecolor\":\"white\",\"minorgridcolor\":\"white\",\"startlinecolor\":\"#2a3f5f\"},\"baxis\":{\"endlinecolor\":\"#2a3f5f\",\"gridcolor\":\"white\",\"linecolor\":\"white\",\"minorgridcolor\":\"white\",\"startlinecolor\":\"#2a3f5f\"},\"type\":\"carpet\"}],\"table\":[{\"cells\":{\"fill\":{\"color\":\"#EBF0F8\"},\"line\":{\"color\":\"white\"}},\"header\":{\"fill\":{\"color\":\"#C8D4E3\"},\"line\":{\"color\":\"white\"}},\"type\":\"table\"}],\"barpolar\":[{\"marker\":{\"line\":{\"color\":\"#E5ECF6\",\"width\":0.5},\"pattern\":{\"fillmode\":\"overlay\",\"size\":10,\"solidity\":0.2}},\"type\":\"barpolar\"}],\"pie\":[{\"automargin\":true,\"type\":\"pie\"}]},\"layout\":{\"autotypenumbers\":\"strict\",\"colorway\":[\"#636efa\",\"#EF553B\",\"#00cc96\",\"#ab63fa\",\"#FFA15A\",\"#19d3f3\",\"#FF6692\",\"#B6E880\",\"#FF97FF\",\"#FECB52\"],\"font\":{\"color\":\"#2a3f5f\"},\"hovermode\":\"closest\",\"hoverlabel\":{\"align\":\"left\"},\"paper_bgcolor\":\"white\",\"plot_bgcolor\":\"#E5ECF6\",\"polar\":{\"bgcolor\":\"#E5ECF6\",\"angularaxis\":{\"gridcolor\":\"white\",\"linecolor\":\"white\",\"ticks\":\"\"},\"radialaxis\":{\"gridcolor\":\"white\",\"linecolor\":\"white\",\"ticks\":\"\"}},\"ternary\":{\"bgcolor\":\"#E5ECF6\",\"aaxis\":{\"gridcolor\":\"white\",\"linecolor\":\"white\",\"ticks\":\"\"},\"baxis\":{\"gridcolor\":\"white\",\"linecolor\":\"white\",\"ticks\":\"\"},\"caxis\":{\"gridcolor\":\"white\",\"linecolor\":\"white\",\"ticks\":\"\"}},\"coloraxis\":{\"colorbar\":{\"outlinewidth\":0,\"ticks\":\"\"}},\"colorscale\":{\"sequential\":[[0.0,\"#0d0887\"],[0.1111111111111111,\"#46039f\"],[0.2222222222222222,\"#7201a8\"],[0.3333333333333333,\"#9c179e\"],[0.4444444444444444,\"#bd3786\"],[0.5555555555555556,\"#d8576b\"],[0.6666666666666666,\"#ed7953\"],[0.7777777777777778,\"#fb9f3a\"],[0.8888888888888888,\"#fdca26\"],[1.0,\"#f0f921\"]],\"sequentialminus\":[[0.0,\"#0d0887\"],[0.1111111111111111,\"#46039f\"],[0.2222222222222222,\"#7201a8\"],[0.3333333333333333,\"#9c179e\"],[0.4444444444444444,\"#bd3786\"],[0.5555555555555556,\"#d8576b\"],[0.6666666666666666,\"#ed7953\"],[0.7777777777777778,\"#fb9f3a\"],[0.8888888888888888,\"#fdca26\"],[1.0,\"#f0f921\"]],\"diverging\":[[0,\"#8e0152\"],[0.1,\"#c51b7d\"],[0.2,\"#de77ae\"],[0.3,\"#f1b6da\"],[0.4,\"#fde0ef\"],[0.5,\"#f7f7f7\"],[0.6,\"#e6f5d0\"],[0.7,\"#b8e186\"],[0.8,\"#7fbc41\"],[0.9,\"#4d9221\"],[1,\"#276419\"]]},\"xaxis\":{\"gridcolor\":\"white\",\"linecolor\":\"white\",\"ticks\":\"\",\"title\":{\"standoff\":15},\"zerolinecolor\":\"white\",\"automargin\":true,\"zerolinewidth\":2},\"yaxis\":{\"gridcolor\":\"white\",\"linecolor\":\"white\",\"ticks\":\"\",\"title\":{\"standoff\":15},\"zerolinecolor\":\"white\",\"automargin\":true,\"zerolinewidth\":2},\"scene\":{\"xaxis\":{\"backgroundcolor\":\"#E5ECF6\",\"gridcolor\":\"white\",\"linecolor\":\"white\",\"showbackground\":true,\"ticks\":\"\",\"zerolinecolor\":\"white\",\"gridwidth\":2},\"yaxis\":{\"backgroundcolor\":\"#E5ECF6\",\"gridcolor\":\"white\",\"linecolor\":\"white\",\"showbackground\":true,\"ticks\":\"\",\"zerolinecolor\":\"white\",\"gridwidth\":2},\"zaxis\":{\"backgroundcolor\":\"#E5ECF6\",\"gridcolor\":\"white\",\"linecolor\":\"white\",\"showbackground\":true,\"ticks\":\"\",\"zerolinecolor\":\"white\",\"gridwidth\":2}},\"shapedefaults\":{\"line\":{\"color\":\"#2a3f5f\"}},\"annotationdefaults\":{\"arrowcolor\":\"#2a3f5f\",\"arrowhead\":0,\"arrowwidth\":1},\"geo\":{\"bgcolor\":\"white\",\"landcolor\":\"#E5ECF6\",\"subunitcolor\":\"white\",\"showland\":true,\"showlakes\":true,\"lakecolor\":\"white\"},\"title\":{\"x\":0.05},\"mapbox\":{\"style\":\"light\"}}},\"xaxis\":{\"anchor\":\"y\",\"domain\":[0.0,0.45]},\"yaxis\":{\"anchor\":\"x\",\"domain\":[0.0,1.0]},\"xaxis2\":{\"anchor\":\"y2\",\"domain\":[0.55,1.0]},\"yaxis2\":{\"anchor\":\"x2\",\"domain\":[0.0,1.0]},\"annotations\":[{\"font\":{\"size\":16},\"showarrow\":false,\"text\":\"Desvio padr\\u00e3o\",\"x\":0.225,\"xanchor\":\"center\",\"xref\":\"paper\",\"y\":1.0,\"yanchor\":\"bottom\",\"yref\":\"paper\"},{\"font\":{\"size\":16},\"showarrow\":false,\"text\":\"Media\",\"x\":0.775,\"xanchor\":\"center\",\"xref\":\"paper\",\"y\":1.0,\"yanchor\":\"bottom\",\"yref\":\"paper\"}],\"title\":{\"text\":\"Top 20 Departamentos - Unidades Vendidas\"},\"height\":800,\"width\":1000,\"showlegend\":false},                        {\"responsive\": true}                    ).then(function(){\n",
       "                            \n",
       "var gd = document.getElementById('5dea1611-2a81-4da2-a140-e9581b5c2503');\n",
       "var x = new MutationObserver(function (mutations, observer) {{\n",
       "        var display = window.getComputedStyle(gd).display;\n",
       "        if (!display || display === 'none') {{\n",
       "            console.log([gd, 'removed!']);\n",
       "            Plotly.purge(gd);\n",
       "            observer.disconnect();\n",
       "        }}\n",
       "}});\n",
       "\n",
       "// Listen for the removal of the full notebook cells\n",
       "var notebookContainer = gd.closest('#notebook-container');\n",
       "if (notebookContainer) {{\n",
       "    x.observe(notebookContainer, {childList: true});\n",
       "}}\n",
       "\n",
       "// Listen for the clearing of the current output cell\n",
       "var outputEl = gd.closest('.output');\n",
       "if (outputEl) {{\n",
       "    x.observe(outputEl, {childList: true});\n",
       "}}\n",
       "\n",
       "                        })                };                });            </script>        </div>"
      ]
     },
     "metadata": {},
     "output_type": "display_data"
    }
   ],
   "source": [
    "# Unificar dois gráficos (Top 20), para mostrar lado a lado\n",
    "\n",
    "# Criar subplots\n",
    "fig_pergunta4 = make_subplots(rows=1, cols=2, subplot_titles=(\"Desvio padrão\", \"Media\"))\n",
    "\n",
    "# Adicionar os gráficos aos subplots\n",
    "for trace in fig_variacao_unidades_vendidas_top20['data']:\n",
    "    fig_pergunta4.add_trace(trace, row=1, col=1)\n",
    "\n",
    "for trace in fig_media_unidades_vendidas_top20['data']:\n",
    "    fig_pergunta4.add_trace(trace, row=1, col=2)\n",
    "\n",
    "fig_pergunta4.update_layout(height=800, width=1000, title_text=\"Top 20 Departamentos - Unidades Vendidas\", showlegend=False)\n",
    "fig_pergunta4.show()\n"
   ]
  },
  {
   "cell_type": "markdown",
   "id": "c6827d59",
   "metadata": {},
   "source": [
    "# Preparação da Base Com Pivot Table"
   ]
  },
  {
   "cell_type": "markdown",
   "id": "ddd68169",
   "metadata": {},
   "source": [
    "| ID_Trans | Prod1 | Prod2 | Prod3 | Prod4 |\n",
    "|----------|-------|-------|-------|-------|\n",
    "| 00000001 |   X   |       |   X   |       |\n",
    "| 00000002 |   X   |   X   |   X   |       |\n",
    "| 00000003 |       |       |   X   |   X   |\n"
   ]
  },
  {
   "cell_type": "code",
   "execution_count": 119,
   "id": "f087ae57",
   "metadata": {},
   "outputs": [],
   "source": [
    "# Criar uma Pivot Table no Pandas com ID_Transacao como linha e Departamento como coluna, Soma de quantidade Vendida como valor\n",
    "\n",
    "df_transacoes_pivot = df_transacoes.pivot_table(index='ID_Transacao', columns='Departamento', values='Qtde_Vendida', aggfunc='sum')"
   ]
  },
  {
   "cell_type": "code",
   "execution_count": 120,
   "id": "76e9727e",
   "metadata": {},
   "outputs": [
    {
     "name": "stdout",
     "output_type": "stream",
     "text": [
      "<class 'pandas.core.frame.DataFrame'>\n",
      "Index: 1943 entries, 16120100160021008773 to 16120100160221001467\n",
      "Columns: 156 entries, 0002:BARBER RETAIL to 0999:UNSCANNED ITEMS\n",
      "dtypes: float64(156)\n",
      "memory usage: 2.3 MB\n"
     ]
    }
   ],
   "source": [
    "# Verificar estrutura Pivot Table\n",
    "df_transacoes_pivot.info()"
   ]
  },
  {
   "cell_type": "code",
   "execution_count": 121,
   "id": "3cb08b8b",
   "metadata": {},
   "outputs": [
    {
     "data": {
      "text/html": [
       "<div>\n",
       "<style scoped>\n",
       "    .dataframe tbody tr th:only-of-type {\n",
       "        vertical-align: middle;\n",
       "    }\n",
       "\n",
       "    .dataframe tbody tr th {\n",
       "        vertical-align: top;\n",
       "    }\n",
       "\n",
       "    .dataframe thead th {\n",
       "        text-align: right;\n",
       "    }\n",
       "</style>\n",
       "<table border=\"1\" class=\"dataframe\">\n",
       "  <thead>\n",
       "    <tr style=\"text-align: right;\">\n",
       "      <th>Departamento</th>\n",
       "      <th>0002:BARBER RETAIL</th>\n",
       "      <th>0009:FLORAL SERV/SUPPLIES</th>\n",
       "      <th>0012:LOCAL GIFTS/FOODS</th>\n",
       "      <th>0014:REPAIRS</th>\n",
       "      <th>0016:FINANCIAL SERVICES</th>\n",
       "      <th>0018:OTHER DIRECT SERVICE</th>\n",
       "      <th>0033:VENDING RETAIL</th>\n",
       "      <th>0056:SOUVENIR</th>\n",
       "      <th>0066:VENDING/AMUSEMENT MA</th>\n",
       "      <th>0071:BEAUTY RETAIL</th>\n",
       "      <th>...</th>\n",
       "      <th>0941:BEDDING</th>\n",
       "      <th>0961:GENERAL GROCERIES</th>\n",
       "      <th>0962:BEVERAGES</th>\n",
       "      <th>0965:PERISHABLES</th>\n",
       "      <th>0973:CANDY</th>\n",
       "      <th>0982:SPIRITS</th>\n",
       "      <th>0983:WINE</th>\n",
       "      <th>0984:BEER</th>\n",
       "      <th>0991:TOBACCO</th>\n",
       "      <th>0999:UNSCANNED ITEMS</th>\n",
       "    </tr>\n",
       "    <tr>\n",
       "      <th>ID_Transacao</th>\n",
       "      <th></th>\n",
       "      <th></th>\n",
       "      <th></th>\n",
       "      <th></th>\n",
       "      <th></th>\n",
       "      <th></th>\n",
       "      <th></th>\n",
       "      <th></th>\n",
       "      <th></th>\n",
       "      <th></th>\n",
       "      <th></th>\n",
       "      <th></th>\n",
       "      <th></th>\n",
       "      <th></th>\n",
       "      <th></th>\n",
       "      <th></th>\n",
       "      <th></th>\n",
       "      <th></th>\n",
       "      <th></th>\n",
       "      <th></th>\n",
       "      <th></th>\n",
       "    </tr>\n",
       "  </thead>\n",
       "  <tbody>\n",
       "    <tr>\n",
       "      <th>16120100160021008773</th>\n",
       "      <td>NaN</td>\n",
       "      <td>NaN</td>\n",
       "      <td>NaN</td>\n",
       "      <td>NaN</td>\n",
       "      <td>NaN</td>\n",
       "      <td>NaN</td>\n",
       "      <td>NaN</td>\n",
       "      <td>NaN</td>\n",
       "      <td>NaN</td>\n",
       "      <td>NaN</td>\n",
       "      <td>...</td>\n",
       "      <td>NaN</td>\n",
       "      <td>NaN</td>\n",
       "      <td>NaN</td>\n",
       "      <td>NaN</td>\n",
       "      <td>2.0</td>\n",
       "      <td>1.0</td>\n",
       "      <td>4.0</td>\n",
       "      <td>NaN</td>\n",
       "      <td>2.0</td>\n",
       "      <td>NaN</td>\n",
       "    </tr>\n",
       "    <tr>\n",
       "      <th>16120100160021008774</th>\n",
       "      <td>NaN</td>\n",
       "      <td>NaN</td>\n",
       "      <td>NaN</td>\n",
       "      <td>NaN</td>\n",
       "      <td>NaN</td>\n",
       "      <td>NaN</td>\n",
       "      <td>NaN</td>\n",
       "      <td>NaN</td>\n",
       "      <td>NaN</td>\n",
       "      <td>NaN</td>\n",
       "      <td>...</td>\n",
       "      <td>NaN</td>\n",
       "      <td>NaN</td>\n",
       "      <td>NaN</td>\n",
       "      <td>NaN</td>\n",
       "      <td>NaN</td>\n",
       "      <td>NaN</td>\n",
       "      <td>NaN</td>\n",
       "      <td>NaN</td>\n",
       "      <td>NaN</td>\n",
       "      <td>NaN</td>\n",
       "    </tr>\n",
       "    <tr>\n",
       "      <th>16120100160021008775</th>\n",
       "      <td>NaN</td>\n",
       "      <td>NaN</td>\n",
       "      <td>NaN</td>\n",
       "      <td>NaN</td>\n",
       "      <td>NaN</td>\n",
       "      <td>NaN</td>\n",
       "      <td>NaN</td>\n",
       "      <td>NaN</td>\n",
       "      <td>NaN</td>\n",
       "      <td>NaN</td>\n",
       "      <td>...</td>\n",
       "      <td>NaN</td>\n",
       "      <td>NaN</td>\n",
       "      <td>NaN</td>\n",
       "      <td>NaN</td>\n",
       "      <td>NaN</td>\n",
       "      <td>1.0</td>\n",
       "      <td>NaN</td>\n",
       "      <td>NaN</td>\n",
       "      <td>NaN</td>\n",
       "      <td>NaN</td>\n",
       "    </tr>\n",
       "    <tr>\n",
       "      <th>16120100160021008776</th>\n",
       "      <td>NaN</td>\n",
       "      <td>NaN</td>\n",
       "      <td>NaN</td>\n",
       "      <td>NaN</td>\n",
       "      <td>NaN</td>\n",
       "      <td>NaN</td>\n",
       "      <td>NaN</td>\n",
       "      <td>NaN</td>\n",
       "      <td>NaN</td>\n",
       "      <td>NaN</td>\n",
       "      <td>...</td>\n",
       "      <td>NaN</td>\n",
       "      <td>3.0</td>\n",
       "      <td>NaN</td>\n",
       "      <td>NaN</td>\n",
       "      <td>NaN</td>\n",
       "      <td>NaN</td>\n",
       "      <td>NaN</td>\n",
       "      <td>NaN</td>\n",
       "      <td>NaN</td>\n",
       "      <td>NaN</td>\n",
       "    </tr>\n",
       "    <tr>\n",
       "      <th>16120100160021008777</th>\n",
       "      <td>NaN</td>\n",
       "      <td>NaN</td>\n",
       "      <td>NaN</td>\n",
       "      <td>NaN</td>\n",
       "      <td>NaN</td>\n",
       "      <td>NaN</td>\n",
       "      <td>NaN</td>\n",
       "      <td>NaN</td>\n",
       "      <td>NaN</td>\n",
       "      <td>NaN</td>\n",
       "      <td>...</td>\n",
       "      <td>NaN</td>\n",
       "      <td>NaN</td>\n",
       "      <td>NaN</td>\n",
       "      <td>NaN</td>\n",
       "      <td>NaN</td>\n",
       "      <td>2.0</td>\n",
       "      <td>NaN</td>\n",
       "      <td>NaN</td>\n",
       "      <td>NaN</td>\n",
       "      <td>NaN</td>\n",
       "    </tr>\n",
       "    <tr>\n",
       "      <th>16120100160021008778</th>\n",
       "      <td>NaN</td>\n",
       "      <td>NaN</td>\n",
       "      <td>NaN</td>\n",
       "      <td>NaN</td>\n",
       "      <td>NaN</td>\n",
       "      <td>NaN</td>\n",
       "      <td>NaN</td>\n",
       "      <td>NaN</td>\n",
       "      <td>NaN</td>\n",
       "      <td>NaN</td>\n",
       "      <td>...</td>\n",
       "      <td>NaN</td>\n",
       "      <td>NaN</td>\n",
       "      <td>NaN</td>\n",
       "      <td>NaN</td>\n",
       "      <td>NaN</td>\n",
       "      <td>4.0</td>\n",
       "      <td>NaN</td>\n",
       "      <td>NaN</td>\n",
       "      <td>1.0</td>\n",
       "      <td>NaN</td>\n",
       "    </tr>\n",
       "    <tr>\n",
       "      <th>16120100160021008779</th>\n",
       "      <td>NaN</td>\n",
       "      <td>NaN</td>\n",
       "      <td>NaN</td>\n",
       "      <td>NaN</td>\n",
       "      <td>NaN</td>\n",
       "      <td>NaN</td>\n",
       "      <td>NaN</td>\n",
       "      <td>NaN</td>\n",
       "      <td>NaN</td>\n",
       "      <td>NaN</td>\n",
       "      <td>...</td>\n",
       "      <td>NaN</td>\n",
       "      <td>NaN</td>\n",
       "      <td>NaN</td>\n",
       "      <td>NaN</td>\n",
       "      <td>NaN</td>\n",
       "      <td>1.0</td>\n",
       "      <td>2.0</td>\n",
       "      <td>1.0</td>\n",
       "      <td>NaN</td>\n",
       "      <td>NaN</td>\n",
       "    </tr>\n",
       "    <tr>\n",
       "      <th>16120100160021008780</th>\n",
       "      <td>NaN</td>\n",
       "      <td>NaN</td>\n",
       "      <td>NaN</td>\n",
       "      <td>NaN</td>\n",
       "      <td>NaN</td>\n",
       "      <td>NaN</td>\n",
       "      <td>NaN</td>\n",
       "      <td>NaN</td>\n",
       "      <td>NaN</td>\n",
       "      <td>NaN</td>\n",
       "      <td>...</td>\n",
       "      <td>NaN</td>\n",
       "      <td>NaN</td>\n",
       "      <td>NaN</td>\n",
       "      <td>NaN</td>\n",
       "      <td>NaN</td>\n",
       "      <td>NaN</td>\n",
       "      <td>NaN</td>\n",
       "      <td>NaN</td>\n",
       "      <td>NaN</td>\n",
       "      <td>NaN</td>\n",
       "    </tr>\n",
       "    <tr>\n",
       "      <th>16120100160021008781</th>\n",
       "      <td>NaN</td>\n",
       "      <td>NaN</td>\n",
       "      <td>NaN</td>\n",
       "      <td>NaN</td>\n",
       "      <td>NaN</td>\n",
       "      <td>NaN</td>\n",
       "      <td>NaN</td>\n",
       "      <td>NaN</td>\n",
       "      <td>NaN</td>\n",
       "      <td>NaN</td>\n",
       "      <td>...</td>\n",
       "      <td>NaN</td>\n",
       "      <td>NaN</td>\n",
       "      <td>NaN</td>\n",
       "      <td>1.0</td>\n",
       "      <td>1.0</td>\n",
       "      <td>NaN</td>\n",
       "      <td>2.0</td>\n",
       "      <td>NaN</td>\n",
       "      <td>NaN</td>\n",
       "      <td>NaN</td>\n",
       "    </tr>\n",
       "    <tr>\n",
       "      <th>16120100160021008782</th>\n",
       "      <td>NaN</td>\n",
       "      <td>NaN</td>\n",
       "      <td>NaN</td>\n",
       "      <td>NaN</td>\n",
       "      <td>NaN</td>\n",
       "      <td>NaN</td>\n",
       "      <td>NaN</td>\n",
       "      <td>NaN</td>\n",
       "      <td>NaN</td>\n",
       "      <td>NaN</td>\n",
       "      <td>...</td>\n",
       "      <td>NaN</td>\n",
       "      <td>NaN</td>\n",
       "      <td>NaN</td>\n",
       "      <td>NaN</td>\n",
       "      <td>NaN</td>\n",
       "      <td>1.0</td>\n",
       "      <td>NaN</td>\n",
       "      <td>NaN</td>\n",
       "      <td>NaN</td>\n",
       "      <td>NaN</td>\n",
       "    </tr>\n",
       "    <tr>\n",
       "      <th>16120100160021008783</th>\n",
       "      <td>NaN</td>\n",
       "      <td>NaN</td>\n",
       "      <td>NaN</td>\n",
       "      <td>NaN</td>\n",
       "      <td>NaN</td>\n",
       "      <td>NaN</td>\n",
       "      <td>NaN</td>\n",
       "      <td>NaN</td>\n",
       "      <td>NaN</td>\n",
       "      <td>NaN</td>\n",
       "      <td>...</td>\n",
       "      <td>NaN</td>\n",
       "      <td>NaN</td>\n",
       "      <td>NaN</td>\n",
       "      <td>NaN</td>\n",
       "      <td>2.0</td>\n",
       "      <td>NaN</td>\n",
       "      <td>NaN</td>\n",
       "      <td>1.0</td>\n",
       "      <td>NaN</td>\n",
       "      <td>NaN</td>\n",
       "    </tr>\n",
       "    <tr>\n",
       "      <th>16120100160021008784</th>\n",
       "      <td>NaN</td>\n",
       "      <td>NaN</td>\n",
       "      <td>NaN</td>\n",
       "      <td>NaN</td>\n",
       "      <td>NaN</td>\n",
       "      <td>NaN</td>\n",
       "      <td>NaN</td>\n",
       "      <td>NaN</td>\n",
       "      <td>NaN</td>\n",
       "      <td>NaN</td>\n",
       "      <td>...</td>\n",
       "      <td>NaN</td>\n",
       "      <td>NaN</td>\n",
       "      <td>NaN</td>\n",
       "      <td>NaN</td>\n",
       "      <td>NaN</td>\n",
       "      <td>NaN</td>\n",
       "      <td>1.0</td>\n",
       "      <td>NaN</td>\n",
       "      <td>NaN</td>\n",
       "      <td>NaN</td>\n",
       "    </tr>\n",
       "    <tr>\n",
       "      <th>16120100160021008785</th>\n",
       "      <td>NaN</td>\n",
       "      <td>NaN</td>\n",
       "      <td>NaN</td>\n",
       "      <td>NaN</td>\n",
       "      <td>NaN</td>\n",
       "      <td>NaN</td>\n",
       "      <td>NaN</td>\n",
       "      <td>NaN</td>\n",
       "      <td>NaN</td>\n",
       "      <td>NaN</td>\n",
       "      <td>...</td>\n",
       "      <td>NaN</td>\n",
       "      <td>NaN</td>\n",
       "      <td>1.0</td>\n",
       "      <td>NaN</td>\n",
       "      <td>NaN</td>\n",
       "      <td>1.0</td>\n",
       "      <td>NaN</td>\n",
       "      <td>NaN</td>\n",
       "      <td>NaN</td>\n",
       "      <td>NaN</td>\n",
       "    </tr>\n",
       "    <tr>\n",
       "      <th>16120100160021008786</th>\n",
       "      <td>NaN</td>\n",
       "      <td>NaN</td>\n",
       "      <td>NaN</td>\n",
       "      <td>NaN</td>\n",
       "      <td>NaN</td>\n",
       "      <td>NaN</td>\n",
       "      <td>NaN</td>\n",
       "      <td>NaN</td>\n",
       "      <td>NaN</td>\n",
       "      <td>NaN</td>\n",
       "      <td>...</td>\n",
       "      <td>NaN</td>\n",
       "      <td>NaN</td>\n",
       "      <td>NaN</td>\n",
       "      <td>NaN</td>\n",
       "      <td>NaN</td>\n",
       "      <td>1.0</td>\n",
       "      <td>3.0</td>\n",
       "      <td>NaN</td>\n",
       "      <td>NaN</td>\n",
       "      <td>NaN</td>\n",
       "    </tr>\n",
       "    <tr>\n",
       "      <th>16120100160021008787</th>\n",
       "      <td>NaN</td>\n",
       "      <td>NaN</td>\n",
       "      <td>NaN</td>\n",
       "      <td>NaN</td>\n",
       "      <td>NaN</td>\n",
       "      <td>NaN</td>\n",
       "      <td>NaN</td>\n",
       "      <td>NaN</td>\n",
       "      <td>NaN</td>\n",
       "      <td>NaN</td>\n",
       "      <td>...</td>\n",
       "      <td>NaN</td>\n",
       "      <td>NaN</td>\n",
       "      <td>NaN</td>\n",
       "      <td>NaN</td>\n",
       "      <td>NaN</td>\n",
       "      <td>1.0</td>\n",
       "      <td>NaN</td>\n",
       "      <td>NaN</td>\n",
       "      <td>NaN</td>\n",
       "      <td>NaN</td>\n",
       "    </tr>\n",
       "    <tr>\n",
       "      <th>16120100160021008788</th>\n",
       "      <td>NaN</td>\n",
       "      <td>NaN</td>\n",
       "      <td>NaN</td>\n",
       "      <td>NaN</td>\n",
       "      <td>NaN</td>\n",
       "      <td>NaN</td>\n",
       "      <td>NaN</td>\n",
       "      <td>NaN</td>\n",
       "      <td>NaN</td>\n",
       "      <td>NaN</td>\n",
       "      <td>...</td>\n",
       "      <td>NaN</td>\n",
       "      <td>2.0</td>\n",
       "      <td>NaN</td>\n",
       "      <td>NaN</td>\n",
       "      <td>1.0</td>\n",
       "      <td>NaN</td>\n",
       "      <td>NaN</td>\n",
       "      <td>NaN</td>\n",
       "      <td>1.0</td>\n",
       "      <td>NaN</td>\n",
       "    </tr>\n",
       "    <tr>\n",
       "      <th>16120100160021008789</th>\n",
       "      <td>NaN</td>\n",
       "      <td>NaN</td>\n",
       "      <td>NaN</td>\n",
       "      <td>NaN</td>\n",
       "      <td>NaN</td>\n",
       "      <td>NaN</td>\n",
       "      <td>NaN</td>\n",
       "      <td>NaN</td>\n",
       "      <td>NaN</td>\n",
       "      <td>NaN</td>\n",
       "      <td>...</td>\n",
       "      <td>NaN</td>\n",
       "      <td>NaN</td>\n",
       "      <td>NaN</td>\n",
       "      <td>NaN</td>\n",
       "      <td>NaN</td>\n",
       "      <td>NaN</td>\n",
       "      <td>NaN</td>\n",
       "      <td>NaN</td>\n",
       "      <td>2.0</td>\n",
       "      <td>NaN</td>\n",
       "    </tr>\n",
       "    <tr>\n",
       "      <th>16120100160021008790</th>\n",
       "      <td>NaN</td>\n",
       "      <td>NaN</td>\n",
       "      <td>NaN</td>\n",
       "      <td>NaN</td>\n",
       "      <td>NaN</td>\n",
       "      <td>NaN</td>\n",
       "      <td>NaN</td>\n",
       "      <td>NaN</td>\n",
       "      <td>NaN</td>\n",
       "      <td>NaN</td>\n",
       "      <td>...</td>\n",
       "      <td>NaN</td>\n",
       "      <td>NaN</td>\n",
       "      <td>2.0</td>\n",
       "      <td>NaN</td>\n",
       "      <td>NaN</td>\n",
       "      <td>1.0</td>\n",
       "      <td>1.0</td>\n",
       "      <td>NaN</td>\n",
       "      <td>NaN</td>\n",
       "      <td>NaN</td>\n",
       "    </tr>\n",
       "    <tr>\n",
       "      <th>16120100160021008791</th>\n",
       "      <td>NaN</td>\n",
       "      <td>NaN</td>\n",
       "      <td>NaN</td>\n",
       "      <td>NaN</td>\n",
       "      <td>NaN</td>\n",
       "      <td>NaN</td>\n",
       "      <td>NaN</td>\n",
       "      <td>NaN</td>\n",
       "      <td>NaN</td>\n",
       "      <td>NaN</td>\n",
       "      <td>...</td>\n",
       "      <td>NaN</td>\n",
       "      <td>NaN</td>\n",
       "      <td>NaN</td>\n",
       "      <td>NaN</td>\n",
       "      <td>NaN</td>\n",
       "      <td>1.0</td>\n",
       "      <td>NaN</td>\n",
       "      <td>NaN</td>\n",
       "      <td>NaN</td>\n",
       "      <td>NaN</td>\n",
       "    </tr>\n",
       "    <tr>\n",
       "      <th>16120100160021008792</th>\n",
       "      <td>NaN</td>\n",
       "      <td>NaN</td>\n",
       "      <td>NaN</td>\n",
       "      <td>NaN</td>\n",
       "      <td>NaN</td>\n",
       "      <td>NaN</td>\n",
       "      <td>NaN</td>\n",
       "      <td>NaN</td>\n",
       "      <td>NaN</td>\n",
       "      <td>NaN</td>\n",
       "      <td>...</td>\n",
       "      <td>NaN</td>\n",
       "      <td>NaN</td>\n",
       "      <td>NaN</td>\n",
       "      <td>NaN</td>\n",
       "      <td>NaN</td>\n",
       "      <td>1.0</td>\n",
       "      <td>2.0</td>\n",
       "      <td>NaN</td>\n",
       "      <td>NaN</td>\n",
       "      <td>NaN</td>\n",
       "    </tr>\n",
       "  </tbody>\n",
       "</table>\n",
       "<p>20 rows × 156 columns</p>\n",
       "</div>"
      ],
      "text/plain": [
       "Departamento          0002:BARBER RETAIL  0009:FLORAL SERV/SUPPLIES  \\\n",
       "ID_Transacao                                                          \n",
       "16120100160021008773                 NaN                        NaN   \n",
       "16120100160021008774                 NaN                        NaN   \n",
       "16120100160021008775                 NaN                        NaN   \n",
       "16120100160021008776                 NaN                        NaN   \n",
       "16120100160021008777                 NaN                        NaN   \n",
       "16120100160021008778                 NaN                        NaN   \n",
       "16120100160021008779                 NaN                        NaN   \n",
       "16120100160021008780                 NaN                        NaN   \n",
       "16120100160021008781                 NaN                        NaN   \n",
       "16120100160021008782                 NaN                        NaN   \n",
       "16120100160021008783                 NaN                        NaN   \n",
       "16120100160021008784                 NaN                        NaN   \n",
       "16120100160021008785                 NaN                        NaN   \n",
       "16120100160021008786                 NaN                        NaN   \n",
       "16120100160021008787                 NaN                        NaN   \n",
       "16120100160021008788                 NaN                        NaN   \n",
       "16120100160021008789                 NaN                        NaN   \n",
       "16120100160021008790                 NaN                        NaN   \n",
       "16120100160021008791                 NaN                        NaN   \n",
       "16120100160021008792                 NaN                        NaN   \n",
       "\n",
       "Departamento          0012:LOCAL GIFTS/FOODS  0014:REPAIRS  \\\n",
       "ID_Transacao                                                 \n",
       "16120100160021008773                     NaN           NaN   \n",
       "16120100160021008774                     NaN           NaN   \n",
       "16120100160021008775                     NaN           NaN   \n",
       "16120100160021008776                     NaN           NaN   \n",
       "16120100160021008777                     NaN           NaN   \n",
       "16120100160021008778                     NaN           NaN   \n",
       "16120100160021008779                     NaN           NaN   \n",
       "16120100160021008780                     NaN           NaN   \n",
       "16120100160021008781                     NaN           NaN   \n",
       "16120100160021008782                     NaN           NaN   \n",
       "16120100160021008783                     NaN           NaN   \n",
       "16120100160021008784                     NaN           NaN   \n",
       "16120100160021008785                     NaN           NaN   \n",
       "16120100160021008786                     NaN           NaN   \n",
       "16120100160021008787                     NaN           NaN   \n",
       "16120100160021008788                     NaN           NaN   \n",
       "16120100160021008789                     NaN           NaN   \n",
       "16120100160021008790                     NaN           NaN   \n",
       "16120100160021008791                     NaN           NaN   \n",
       "16120100160021008792                     NaN           NaN   \n",
       "\n",
       "Departamento          0016:FINANCIAL SERVICES  0018:OTHER DIRECT SERVICE  \\\n",
       "ID_Transacao                                                               \n",
       "16120100160021008773                      NaN                        NaN   \n",
       "16120100160021008774                      NaN                        NaN   \n",
       "16120100160021008775                      NaN                        NaN   \n",
       "16120100160021008776                      NaN                        NaN   \n",
       "16120100160021008777                      NaN                        NaN   \n",
       "16120100160021008778                      NaN                        NaN   \n",
       "16120100160021008779                      NaN                        NaN   \n",
       "16120100160021008780                      NaN                        NaN   \n",
       "16120100160021008781                      NaN                        NaN   \n",
       "16120100160021008782                      NaN                        NaN   \n",
       "16120100160021008783                      NaN                        NaN   \n",
       "16120100160021008784                      NaN                        NaN   \n",
       "16120100160021008785                      NaN                        NaN   \n",
       "16120100160021008786                      NaN                        NaN   \n",
       "16120100160021008787                      NaN                        NaN   \n",
       "16120100160021008788                      NaN                        NaN   \n",
       "16120100160021008789                      NaN                        NaN   \n",
       "16120100160021008790                      NaN                        NaN   \n",
       "16120100160021008791                      NaN                        NaN   \n",
       "16120100160021008792                      NaN                        NaN   \n",
       "\n",
       "Departamento          0033:VENDING RETAIL  0056:SOUVENIR  \\\n",
       "ID_Transacao                                               \n",
       "16120100160021008773                  NaN            NaN   \n",
       "16120100160021008774                  NaN            NaN   \n",
       "16120100160021008775                  NaN            NaN   \n",
       "16120100160021008776                  NaN            NaN   \n",
       "16120100160021008777                  NaN            NaN   \n",
       "16120100160021008778                  NaN            NaN   \n",
       "16120100160021008779                  NaN            NaN   \n",
       "16120100160021008780                  NaN            NaN   \n",
       "16120100160021008781                  NaN            NaN   \n",
       "16120100160021008782                  NaN            NaN   \n",
       "16120100160021008783                  NaN            NaN   \n",
       "16120100160021008784                  NaN            NaN   \n",
       "16120100160021008785                  NaN            NaN   \n",
       "16120100160021008786                  NaN            NaN   \n",
       "16120100160021008787                  NaN            NaN   \n",
       "16120100160021008788                  NaN            NaN   \n",
       "16120100160021008789                  NaN            NaN   \n",
       "16120100160021008790                  NaN            NaN   \n",
       "16120100160021008791                  NaN            NaN   \n",
       "16120100160021008792                  NaN            NaN   \n",
       "\n",
       "Departamento          0066:VENDING/AMUSEMENT MA  0071:BEAUTY RETAIL  ...  \\\n",
       "ID_Transacao                                                         ...   \n",
       "16120100160021008773                        NaN                 NaN  ...   \n",
       "16120100160021008774                        NaN                 NaN  ...   \n",
       "16120100160021008775                        NaN                 NaN  ...   \n",
       "16120100160021008776                        NaN                 NaN  ...   \n",
       "16120100160021008777                        NaN                 NaN  ...   \n",
       "16120100160021008778                        NaN                 NaN  ...   \n",
       "16120100160021008779                        NaN                 NaN  ...   \n",
       "16120100160021008780                        NaN                 NaN  ...   \n",
       "16120100160021008781                        NaN                 NaN  ...   \n",
       "16120100160021008782                        NaN                 NaN  ...   \n",
       "16120100160021008783                        NaN                 NaN  ...   \n",
       "16120100160021008784                        NaN                 NaN  ...   \n",
       "16120100160021008785                        NaN                 NaN  ...   \n",
       "16120100160021008786                        NaN                 NaN  ...   \n",
       "16120100160021008787                        NaN                 NaN  ...   \n",
       "16120100160021008788                        NaN                 NaN  ...   \n",
       "16120100160021008789                        NaN                 NaN  ...   \n",
       "16120100160021008790                        NaN                 NaN  ...   \n",
       "16120100160021008791                        NaN                 NaN  ...   \n",
       "16120100160021008792                        NaN                 NaN  ...   \n",
       "\n",
       "Departamento          0941:BEDDING  0961:GENERAL GROCERIES  0962:BEVERAGES  \\\n",
       "ID_Transacao                                                                 \n",
       "16120100160021008773           NaN                     NaN             NaN   \n",
       "16120100160021008774           NaN                     NaN             NaN   \n",
       "16120100160021008775           NaN                     NaN             NaN   \n",
       "16120100160021008776           NaN                     3.0             NaN   \n",
       "16120100160021008777           NaN                     NaN             NaN   \n",
       "16120100160021008778           NaN                     NaN             NaN   \n",
       "16120100160021008779           NaN                     NaN             NaN   \n",
       "16120100160021008780           NaN                     NaN             NaN   \n",
       "16120100160021008781           NaN                     NaN             NaN   \n",
       "16120100160021008782           NaN                     NaN             NaN   \n",
       "16120100160021008783           NaN                     NaN             NaN   \n",
       "16120100160021008784           NaN                     NaN             NaN   \n",
       "16120100160021008785           NaN                     NaN             1.0   \n",
       "16120100160021008786           NaN                     NaN             NaN   \n",
       "16120100160021008787           NaN                     NaN             NaN   \n",
       "16120100160021008788           NaN                     2.0             NaN   \n",
       "16120100160021008789           NaN                     NaN             NaN   \n",
       "16120100160021008790           NaN                     NaN             2.0   \n",
       "16120100160021008791           NaN                     NaN             NaN   \n",
       "16120100160021008792           NaN                     NaN             NaN   \n",
       "\n",
       "Departamento          0965:PERISHABLES  0973:CANDY  0982:SPIRITS  0983:WINE  \\\n",
       "ID_Transacao                                                                  \n",
       "16120100160021008773               NaN         2.0           1.0        4.0   \n",
       "16120100160021008774               NaN         NaN           NaN        NaN   \n",
       "16120100160021008775               NaN         NaN           1.0        NaN   \n",
       "16120100160021008776               NaN         NaN           NaN        NaN   \n",
       "16120100160021008777               NaN         NaN           2.0        NaN   \n",
       "16120100160021008778               NaN         NaN           4.0        NaN   \n",
       "16120100160021008779               NaN         NaN           1.0        2.0   \n",
       "16120100160021008780               NaN         NaN           NaN        NaN   \n",
       "16120100160021008781               1.0         1.0           NaN        2.0   \n",
       "16120100160021008782               NaN         NaN           1.0        NaN   \n",
       "16120100160021008783               NaN         2.0           NaN        NaN   \n",
       "16120100160021008784               NaN         NaN           NaN        1.0   \n",
       "16120100160021008785               NaN         NaN           1.0        NaN   \n",
       "16120100160021008786               NaN         NaN           1.0        3.0   \n",
       "16120100160021008787               NaN         NaN           1.0        NaN   \n",
       "16120100160021008788               NaN         1.0           NaN        NaN   \n",
       "16120100160021008789               NaN         NaN           NaN        NaN   \n",
       "16120100160021008790               NaN         NaN           1.0        1.0   \n",
       "16120100160021008791               NaN         NaN           1.0        NaN   \n",
       "16120100160021008792               NaN         NaN           1.0        2.0   \n",
       "\n",
       "Departamento          0984:BEER  0991:TOBACCO  0999:UNSCANNED ITEMS  \n",
       "ID_Transacao                                                         \n",
       "16120100160021008773        NaN           2.0                   NaN  \n",
       "16120100160021008774        NaN           NaN                   NaN  \n",
       "16120100160021008775        NaN           NaN                   NaN  \n",
       "16120100160021008776        NaN           NaN                   NaN  \n",
       "16120100160021008777        NaN           NaN                   NaN  \n",
       "16120100160021008778        NaN           1.0                   NaN  \n",
       "16120100160021008779        1.0           NaN                   NaN  \n",
       "16120100160021008780        NaN           NaN                   NaN  \n",
       "16120100160021008781        NaN           NaN                   NaN  \n",
       "16120100160021008782        NaN           NaN                   NaN  \n",
       "16120100160021008783        1.0           NaN                   NaN  \n",
       "16120100160021008784        NaN           NaN                   NaN  \n",
       "16120100160021008785        NaN           NaN                   NaN  \n",
       "16120100160021008786        NaN           NaN                   NaN  \n",
       "16120100160021008787        NaN           NaN                   NaN  \n",
       "16120100160021008788        NaN           1.0                   NaN  \n",
       "16120100160021008789        NaN           2.0                   NaN  \n",
       "16120100160021008790        NaN           NaN                   NaN  \n",
       "16120100160021008791        NaN           NaN                   NaN  \n",
       "16120100160021008792        NaN           NaN                   NaN  \n",
       "\n",
       "[20 rows x 156 columns]"
      ]
     },
     "execution_count": 121,
     "metadata": {},
     "output_type": "execute_result"
    }
   ],
   "source": [
    "df_transacoes_pivot.head(20)"
   ]
  },
  {
   "cell_type": "code",
   "execution_count": 122,
   "id": "dc65e67c",
   "metadata": {},
   "outputs": [],
   "source": [
    "# Converter os dados da Pivot table para Boolean (True/False)\n",
    "df_transacoes_pivot = df_transacoes_pivot.map(lambda x: x > 0)"
   ]
  },
  {
   "cell_type": "code",
   "execution_count": 123,
   "id": "602f38c1",
   "metadata": {},
   "outputs": [
    {
     "data": {
      "text/html": [
       "<div>\n",
       "<style scoped>\n",
       "    .dataframe tbody tr th:only-of-type {\n",
       "        vertical-align: middle;\n",
       "    }\n",
       "\n",
       "    .dataframe tbody tr th {\n",
       "        vertical-align: top;\n",
       "    }\n",
       "\n",
       "    .dataframe thead th {\n",
       "        text-align: right;\n",
       "    }\n",
       "</style>\n",
       "<table border=\"1\" class=\"dataframe\">\n",
       "  <thead>\n",
       "    <tr style=\"text-align: right;\">\n",
       "      <th>Departamento</th>\n",
       "      <th>0002:BARBER RETAIL</th>\n",
       "      <th>0009:FLORAL SERV/SUPPLIES</th>\n",
       "      <th>0012:LOCAL GIFTS/FOODS</th>\n",
       "      <th>0014:REPAIRS</th>\n",
       "      <th>0016:FINANCIAL SERVICES</th>\n",
       "      <th>0018:OTHER DIRECT SERVICE</th>\n",
       "      <th>0033:VENDING RETAIL</th>\n",
       "      <th>0056:SOUVENIR</th>\n",
       "      <th>0066:VENDING/AMUSEMENT MA</th>\n",
       "      <th>0071:BEAUTY RETAIL</th>\n",
       "      <th>...</th>\n",
       "      <th>0941:BEDDING</th>\n",
       "      <th>0961:GENERAL GROCERIES</th>\n",
       "      <th>0962:BEVERAGES</th>\n",
       "      <th>0965:PERISHABLES</th>\n",
       "      <th>0973:CANDY</th>\n",
       "      <th>0982:SPIRITS</th>\n",
       "      <th>0983:WINE</th>\n",
       "      <th>0984:BEER</th>\n",
       "      <th>0991:TOBACCO</th>\n",
       "      <th>0999:UNSCANNED ITEMS</th>\n",
       "    </tr>\n",
       "    <tr>\n",
       "      <th>ID_Transacao</th>\n",
       "      <th></th>\n",
       "      <th></th>\n",
       "      <th></th>\n",
       "      <th></th>\n",
       "      <th></th>\n",
       "      <th></th>\n",
       "      <th></th>\n",
       "      <th></th>\n",
       "      <th></th>\n",
       "      <th></th>\n",
       "      <th></th>\n",
       "      <th></th>\n",
       "      <th></th>\n",
       "      <th></th>\n",
       "      <th></th>\n",
       "      <th></th>\n",
       "      <th></th>\n",
       "      <th></th>\n",
       "      <th></th>\n",
       "      <th></th>\n",
       "      <th></th>\n",
       "    </tr>\n",
       "  </thead>\n",
       "  <tbody>\n",
       "    <tr>\n",
       "      <th>16120100160021008773</th>\n",
       "      <td>False</td>\n",
       "      <td>False</td>\n",
       "      <td>False</td>\n",
       "      <td>False</td>\n",
       "      <td>False</td>\n",
       "      <td>False</td>\n",
       "      <td>False</td>\n",
       "      <td>False</td>\n",
       "      <td>False</td>\n",
       "      <td>False</td>\n",
       "      <td>...</td>\n",
       "      <td>False</td>\n",
       "      <td>False</td>\n",
       "      <td>False</td>\n",
       "      <td>False</td>\n",
       "      <td>True</td>\n",
       "      <td>True</td>\n",
       "      <td>True</td>\n",
       "      <td>False</td>\n",
       "      <td>True</td>\n",
       "      <td>False</td>\n",
       "    </tr>\n",
       "    <tr>\n",
       "      <th>16120100160021008774</th>\n",
       "      <td>False</td>\n",
       "      <td>False</td>\n",
       "      <td>False</td>\n",
       "      <td>False</td>\n",
       "      <td>False</td>\n",
       "      <td>False</td>\n",
       "      <td>False</td>\n",
       "      <td>False</td>\n",
       "      <td>False</td>\n",
       "      <td>False</td>\n",
       "      <td>...</td>\n",
       "      <td>False</td>\n",
       "      <td>False</td>\n",
       "      <td>False</td>\n",
       "      <td>False</td>\n",
       "      <td>False</td>\n",
       "      <td>False</td>\n",
       "      <td>False</td>\n",
       "      <td>False</td>\n",
       "      <td>False</td>\n",
       "      <td>False</td>\n",
       "    </tr>\n",
       "    <tr>\n",
       "      <th>16120100160021008775</th>\n",
       "      <td>False</td>\n",
       "      <td>False</td>\n",
       "      <td>False</td>\n",
       "      <td>False</td>\n",
       "      <td>False</td>\n",
       "      <td>False</td>\n",
       "      <td>False</td>\n",
       "      <td>False</td>\n",
       "      <td>False</td>\n",
       "      <td>False</td>\n",
       "      <td>...</td>\n",
       "      <td>False</td>\n",
       "      <td>False</td>\n",
       "      <td>False</td>\n",
       "      <td>False</td>\n",
       "      <td>False</td>\n",
       "      <td>True</td>\n",
       "      <td>False</td>\n",
       "      <td>False</td>\n",
       "      <td>False</td>\n",
       "      <td>False</td>\n",
       "    </tr>\n",
       "    <tr>\n",
       "      <th>16120100160021008776</th>\n",
       "      <td>False</td>\n",
       "      <td>False</td>\n",
       "      <td>False</td>\n",
       "      <td>False</td>\n",
       "      <td>False</td>\n",
       "      <td>False</td>\n",
       "      <td>False</td>\n",
       "      <td>False</td>\n",
       "      <td>False</td>\n",
       "      <td>False</td>\n",
       "      <td>...</td>\n",
       "      <td>False</td>\n",
       "      <td>True</td>\n",
       "      <td>False</td>\n",
       "      <td>False</td>\n",
       "      <td>False</td>\n",
       "      <td>False</td>\n",
       "      <td>False</td>\n",
       "      <td>False</td>\n",
       "      <td>False</td>\n",
       "      <td>False</td>\n",
       "    </tr>\n",
       "    <tr>\n",
       "      <th>16120100160021008777</th>\n",
       "      <td>False</td>\n",
       "      <td>False</td>\n",
       "      <td>False</td>\n",
       "      <td>False</td>\n",
       "      <td>False</td>\n",
       "      <td>False</td>\n",
       "      <td>False</td>\n",
       "      <td>False</td>\n",
       "      <td>False</td>\n",
       "      <td>False</td>\n",
       "      <td>...</td>\n",
       "      <td>False</td>\n",
       "      <td>False</td>\n",
       "      <td>False</td>\n",
       "      <td>False</td>\n",
       "      <td>False</td>\n",
       "      <td>True</td>\n",
       "      <td>False</td>\n",
       "      <td>False</td>\n",
       "      <td>False</td>\n",
       "      <td>False</td>\n",
       "    </tr>\n",
       "    <tr>\n",
       "      <th>16120100160021008778</th>\n",
       "      <td>False</td>\n",
       "      <td>False</td>\n",
       "      <td>False</td>\n",
       "      <td>False</td>\n",
       "      <td>False</td>\n",
       "      <td>False</td>\n",
       "      <td>False</td>\n",
       "      <td>False</td>\n",
       "      <td>False</td>\n",
       "      <td>False</td>\n",
       "      <td>...</td>\n",
       "      <td>False</td>\n",
       "      <td>False</td>\n",
       "      <td>False</td>\n",
       "      <td>False</td>\n",
       "      <td>False</td>\n",
       "      <td>True</td>\n",
       "      <td>False</td>\n",
       "      <td>False</td>\n",
       "      <td>True</td>\n",
       "      <td>False</td>\n",
       "    </tr>\n",
       "    <tr>\n",
       "      <th>16120100160021008779</th>\n",
       "      <td>False</td>\n",
       "      <td>False</td>\n",
       "      <td>False</td>\n",
       "      <td>False</td>\n",
       "      <td>False</td>\n",
       "      <td>False</td>\n",
       "      <td>False</td>\n",
       "      <td>False</td>\n",
       "      <td>False</td>\n",
       "      <td>False</td>\n",
       "      <td>...</td>\n",
       "      <td>False</td>\n",
       "      <td>False</td>\n",
       "      <td>False</td>\n",
       "      <td>False</td>\n",
       "      <td>False</td>\n",
       "      <td>True</td>\n",
       "      <td>True</td>\n",
       "      <td>True</td>\n",
       "      <td>False</td>\n",
       "      <td>False</td>\n",
       "    </tr>\n",
       "    <tr>\n",
       "      <th>16120100160021008780</th>\n",
       "      <td>False</td>\n",
       "      <td>False</td>\n",
       "      <td>False</td>\n",
       "      <td>False</td>\n",
       "      <td>False</td>\n",
       "      <td>False</td>\n",
       "      <td>False</td>\n",
       "      <td>False</td>\n",
       "      <td>False</td>\n",
       "      <td>False</td>\n",
       "      <td>...</td>\n",
       "      <td>False</td>\n",
       "      <td>False</td>\n",
       "      <td>False</td>\n",
       "      <td>False</td>\n",
       "      <td>False</td>\n",
       "      <td>False</td>\n",
       "      <td>False</td>\n",
       "      <td>False</td>\n",
       "      <td>False</td>\n",
       "      <td>False</td>\n",
       "    </tr>\n",
       "    <tr>\n",
       "      <th>16120100160021008781</th>\n",
       "      <td>False</td>\n",
       "      <td>False</td>\n",
       "      <td>False</td>\n",
       "      <td>False</td>\n",
       "      <td>False</td>\n",
       "      <td>False</td>\n",
       "      <td>False</td>\n",
       "      <td>False</td>\n",
       "      <td>False</td>\n",
       "      <td>False</td>\n",
       "      <td>...</td>\n",
       "      <td>False</td>\n",
       "      <td>False</td>\n",
       "      <td>False</td>\n",
       "      <td>True</td>\n",
       "      <td>True</td>\n",
       "      <td>False</td>\n",
       "      <td>True</td>\n",
       "      <td>False</td>\n",
       "      <td>False</td>\n",
       "      <td>False</td>\n",
       "    </tr>\n",
       "    <tr>\n",
       "      <th>16120100160021008782</th>\n",
       "      <td>False</td>\n",
       "      <td>False</td>\n",
       "      <td>False</td>\n",
       "      <td>False</td>\n",
       "      <td>False</td>\n",
       "      <td>False</td>\n",
       "      <td>False</td>\n",
       "      <td>False</td>\n",
       "      <td>False</td>\n",
       "      <td>False</td>\n",
       "      <td>...</td>\n",
       "      <td>False</td>\n",
       "      <td>False</td>\n",
       "      <td>False</td>\n",
       "      <td>False</td>\n",
       "      <td>False</td>\n",
       "      <td>True</td>\n",
       "      <td>False</td>\n",
       "      <td>False</td>\n",
       "      <td>False</td>\n",
       "      <td>False</td>\n",
       "    </tr>\n",
       "    <tr>\n",
       "      <th>16120100160021008783</th>\n",
       "      <td>False</td>\n",
       "      <td>False</td>\n",
       "      <td>False</td>\n",
       "      <td>False</td>\n",
       "      <td>False</td>\n",
       "      <td>False</td>\n",
       "      <td>False</td>\n",
       "      <td>False</td>\n",
       "      <td>False</td>\n",
       "      <td>False</td>\n",
       "      <td>...</td>\n",
       "      <td>False</td>\n",
       "      <td>False</td>\n",
       "      <td>False</td>\n",
       "      <td>False</td>\n",
       "      <td>True</td>\n",
       "      <td>False</td>\n",
       "      <td>False</td>\n",
       "      <td>True</td>\n",
       "      <td>False</td>\n",
       "      <td>False</td>\n",
       "    </tr>\n",
       "    <tr>\n",
       "      <th>16120100160021008784</th>\n",
       "      <td>False</td>\n",
       "      <td>False</td>\n",
       "      <td>False</td>\n",
       "      <td>False</td>\n",
       "      <td>False</td>\n",
       "      <td>False</td>\n",
       "      <td>False</td>\n",
       "      <td>False</td>\n",
       "      <td>False</td>\n",
       "      <td>False</td>\n",
       "      <td>...</td>\n",
       "      <td>False</td>\n",
       "      <td>False</td>\n",
       "      <td>False</td>\n",
       "      <td>False</td>\n",
       "      <td>False</td>\n",
       "      <td>False</td>\n",
       "      <td>True</td>\n",
       "      <td>False</td>\n",
       "      <td>False</td>\n",
       "      <td>False</td>\n",
       "    </tr>\n",
       "    <tr>\n",
       "      <th>16120100160021008785</th>\n",
       "      <td>False</td>\n",
       "      <td>False</td>\n",
       "      <td>False</td>\n",
       "      <td>False</td>\n",
       "      <td>False</td>\n",
       "      <td>False</td>\n",
       "      <td>False</td>\n",
       "      <td>False</td>\n",
       "      <td>False</td>\n",
       "      <td>False</td>\n",
       "      <td>...</td>\n",
       "      <td>False</td>\n",
       "      <td>False</td>\n",
       "      <td>True</td>\n",
       "      <td>False</td>\n",
       "      <td>False</td>\n",
       "      <td>True</td>\n",
       "      <td>False</td>\n",
       "      <td>False</td>\n",
       "      <td>False</td>\n",
       "      <td>False</td>\n",
       "    </tr>\n",
       "    <tr>\n",
       "      <th>16120100160021008786</th>\n",
       "      <td>False</td>\n",
       "      <td>False</td>\n",
       "      <td>False</td>\n",
       "      <td>False</td>\n",
       "      <td>False</td>\n",
       "      <td>False</td>\n",
       "      <td>False</td>\n",
       "      <td>False</td>\n",
       "      <td>False</td>\n",
       "      <td>False</td>\n",
       "      <td>...</td>\n",
       "      <td>False</td>\n",
       "      <td>False</td>\n",
       "      <td>False</td>\n",
       "      <td>False</td>\n",
       "      <td>False</td>\n",
       "      <td>True</td>\n",
       "      <td>True</td>\n",
       "      <td>False</td>\n",
       "      <td>False</td>\n",
       "      <td>False</td>\n",
       "    </tr>\n",
       "    <tr>\n",
       "      <th>16120100160021008787</th>\n",
       "      <td>False</td>\n",
       "      <td>False</td>\n",
       "      <td>False</td>\n",
       "      <td>False</td>\n",
       "      <td>False</td>\n",
       "      <td>False</td>\n",
       "      <td>False</td>\n",
       "      <td>False</td>\n",
       "      <td>False</td>\n",
       "      <td>False</td>\n",
       "      <td>...</td>\n",
       "      <td>False</td>\n",
       "      <td>False</td>\n",
       "      <td>False</td>\n",
       "      <td>False</td>\n",
       "      <td>False</td>\n",
       "      <td>True</td>\n",
       "      <td>False</td>\n",
       "      <td>False</td>\n",
       "      <td>False</td>\n",
       "      <td>False</td>\n",
       "    </tr>\n",
       "    <tr>\n",
       "      <th>16120100160021008788</th>\n",
       "      <td>False</td>\n",
       "      <td>False</td>\n",
       "      <td>False</td>\n",
       "      <td>False</td>\n",
       "      <td>False</td>\n",
       "      <td>False</td>\n",
       "      <td>False</td>\n",
       "      <td>False</td>\n",
       "      <td>False</td>\n",
       "      <td>False</td>\n",
       "      <td>...</td>\n",
       "      <td>False</td>\n",
       "      <td>True</td>\n",
       "      <td>False</td>\n",
       "      <td>False</td>\n",
       "      <td>True</td>\n",
       "      <td>False</td>\n",
       "      <td>False</td>\n",
       "      <td>False</td>\n",
       "      <td>True</td>\n",
       "      <td>False</td>\n",
       "    </tr>\n",
       "    <tr>\n",
       "      <th>16120100160021008789</th>\n",
       "      <td>False</td>\n",
       "      <td>False</td>\n",
       "      <td>False</td>\n",
       "      <td>False</td>\n",
       "      <td>False</td>\n",
       "      <td>False</td>\n",
       "      <td>False</td>\n",
       "      <td>False</td>\n",
       "      <td>False</td>\n",
       "      <td>False</td>\n",
       "      <td>...</td>\n",
       "      <td>False</td>\n",
       "      <td>False</td>\n",
       "      <td>False</td>\n",
       "      <td>False</td>\n",
       "      <td>False</td>\n",
       "      <td>False</td>\n",
       "      <td>False</td>\n",
       "      <td>False</td>\n",
       "      <td>True</td>\n",
       "      <td>False</td>\n",
       "    </tr>\n",
       "    <tr>\n",
       "      <th>16120100160021008790</th>\n",
       "      <td>False</td>\n",
       "      <td>False</td>\n",
       "      <td>False</td>\n",
       "      <td>False</td>\n",
       "      <td>False</td>\n",
       "      <td>False</td>\n",
       "      <td>False</td>\n",
       "      <td>False</td>\n",
       "      <td>False</td>\n",
       "      <td>False</td>\n",
       "      <td>...</td>\n",
       "      <td>False</td>\n",
       "      <td>False</td>\n",
       "      <td>True</td>\n",
       "      <td>False</td>\n",
       "      <td>False</td>\n",
       "      <td>True</td>\n",
       "      <td>True</td>\n",
       "      <td>False</td>\n",
       "      <td>False</td>\n",
       "      <td>False</td>\n",
       "    </tr>\n",
       "    <tr>\n",
       "      <th>16120100160021008791</th>\n",
       "      <td>False</td>\n",
       "      <td>False</td>\n",
       "      <td>False</td>\n",
       "      <td>False</td>\n",
       "      <td>False</td>\n",
       "      <td>False</td>\n",
       "      <td>False</td>\n",
       "      <td>False</td>\n",
       "      <td>False</td>\n",
       "      <td>False</td>\n",
       "      <td>...</td>\n",
       "      <td>False</td>\n",
       "      <td>False</td>\n",
       "      <td>False</td>\n",
       "      <td>False</td>\n",
       "      <td>False</td>\n",
       "      <td>True</td>\n",
       "      <td>False</td>\n",
       "      <td>False</td>\n",
       "      <td>False</td>\n",
       "      <td>False</td>\n",
       "    </tr>\n",
       "    <tr>\n",
       "      <th>16120100160021008792</th>\n",
       "      <td>False</td>\n",
       "      <td>False</td>\n",
       "      <td>False</td>\n",
       "      <td>False</td>\n",
       "      <td>False</td>\n",
       "      <td>False</td>\n",
       "      <td>False</td>\n",
       "      <td>False</td>\n",
       "      <td>False</td>\n",
       "      <td>False</td>\n",
       "      <td>...</td>\n",
       "      <td>False</td>\n",
       "      <td>False</td>\n",
       "      <td>False</td>\n",
       "      <td>False</td>\n",
       "      <td>False</td>\n",
       "      <td>True</td>\n",
       "      <td>True</td>\n",
       "      <td>False</td>\n",
       "      <td>False</td>\n",
       "      <td>False</td>\n",
       "    </tr>\n",
       "  </tbody>\n",
       "</table>\n",
       "<p>20 rows × 156 columns</p>\n",
       "</div>"
      ],
      "text/plain": [
       "Departamento          0002:BARBER RETAIL  0009:FLORAL SERV/SUPPLIES  \\\n",
       "ID_Transacao                                                          \n",
       "16120100160021008773               False                      False   \n",
       "16120100160021008774               False                      False   \n",
       "16120100160021008775               False                      False   \n",
       "16120100160021008776               False                      False   \n",
       "16120100160021008777               False                      False   \n",
       "16120100160021008778               False                      False   \n",
       "16120100160021008779               False                      False   \n",
       "16120100160021008780               False                      False   \n",
       "16120100160021008781               False                      False   \n",
       "16120100160021008782               False                      False   \n",
       "16120100160021008783               False                      False   \n",
       "16120100160021008784               False                      False   \n",
       "16120100160021008785               False                      False   \n",
       "16120100160021008786               False                      False   \n",
       "16120100160021008787               False                      False   \n",
       "16120100160021008788               False                      False   \n",
       "16120100160021008789               False                      False   \n",
       "16120100160021008790               False                      False   \n",
       "16120100160021008791               False                      False   \n",
       "16120100160021008792               False                      False   \n",
       "\n",
       "Departamento          0012:LOCAL GIFTS/FOODS  0014:REPAIRS  \\\n",
       "ID_Transacao                                                 \n",
       "16120100160021008773                   False         False   \n",
       "16120100160021008774                   False         False   \n",
       "16120100160021008775                   False         False   \n",
       "16120100160021008776                   False         False   \n",
       "16120100160021008777                   False         False   \n",
       "16120100160021008778                   False         False   \n",
       "16120100160021008779                   False         False   \n",
       "16120100160021008780                   False         False   \n",
       "16120100160021008781                   False         False   \n",
       "16120100160021008782                   False         False   \n",
       "16120100160021008783                   False         False   \n",
       "16120100160021008784                   False         False   \n",
       "16120100160021008785                   False         False   \n",
       "16120100160021008786                   False         False   \n",
       "16120100160021008787                   False         False   \n",
       "16120100160021008788                   False         False   \n",
       "16120100160021008789                   False         False   \n",
       "16120100160021008790                   False         False   \n",
       "16120100160021008791                   False         False   \n",
       "16120100160021008792                   False         False   \n",
       "\n",
       "Departamento          0016:FINANCIAL SERVICES  0018:OTHER DIRECT SERVICE  \\\n",
       "ID_Transacao                                                               \n",
       "16120100160021008773                    False                      False   \n",
       "16120100160021008774                    False                      False   \n",
       "16120100160021008775                    False                      False   \n",
       "16120100160021008776                    False                      False   \n",
       "16120100160021008777                    False                      False   \n",
       "16120100160021008778                    False                      False   \n",
       "16120100160021008779                    False                      False   \n",
       "16120100160021008780                    False                      False   \n",
       "16120100160021008781                    False                      False   \n",
       "16120100160021008782                    False                      False   \n",
       "16120100160021008783                    False                      False   \n",
       "16120100160021008784                    False                      False   \n",
       "16120100160021008785                    False                      False   \n",
       "16120100160021008786                    False                      False   \n",
       "16120100160021008787                    False                      False   \n",
       "16120100160021008788                    False                      False   \n",
       "16120100160021008789                    False                      False   \n",
       "16120100160021008790                    False                      False   \n",
       "16120100160021008791                    False                      False   \n",
       "16120100160021008792                    False                      False   \n",
       "\n",
       "Departamento          0033:VENDING RETAIL  0056:SOUVENIR  \\\n",
       "ID_Transacao                                               \n",
       "16120100160021008773                False          False   \n",
       "16120100160021008774                False          False   \n",
       "16120100160021008775                False          False   \n",
       "16120100160021008776                False          False   \n",
       "16120100160021008777                False          False   \n",
       "16120100160021008778                False          False   \n",
       "16120100160021008779                False          False   \n",
       "16120100160021008780                False          False   \n",
       "16120100160021008781                False          False   \n",
       "16120100160021008782                False          False   \n",
       "16120100160021008783                False          False   \n",
       "16120100160021008784                False          False   \n",
       "16120100160021008785                False          False   \n",
       "16120100160021008786                False          False   \n",
       "16120100160021008787                False          False   \n",
       "16120100160021008788                False          False   \n",
       "16120100160021008789                False          False   \n",
       "16120100160021008790                False          False   \n",
       "16120100160021008791                False          False   \n",
       "16120100160021008792                False          False   \n",
       "\n",
       "Departamento          0066:VENDING/AMUSEMENT MA  0071:BEAUTY RETAIL  ...  \\\n",
       "ID_Transacao                                                         ...   \n",
       "16120100160021008773                      False               False  ...   \n",
       "16120100160021008774                      False               False  ...   \n",
       "16120100160021008775                      False               False  ...   \n",
       "16120100160021008776                      False               False  ...   \n",
       "16120100160021008777                      False               False  ...   \n",
       "16120100160021008778                      False               False  ...   \n",
       "16120100160021008779                      False               False  ...   \n",
       "16120100160021008780                      False               False  ...   \n",
       "16120100160021008781                      False               False  ...   \n",
       "16120100160021008782                      False               False  ...   \n",
       "16120100160021008783                      False               False  ...   \n",
       "16120100160021008784                      False               False  ...   \n",
       "16120100160021008785                      False               False  ...   \n",
       "16120100160021008786                      False               False  ...   \n",
       "16120100160021008787                      False               False  ...   \n",
       "16120100160021008788                      False               False  ...   \n",
       "16120100160021008789                      False               False  ...   \n",
       "16120100160021008790                      False               False  ...   \n",
       "16120100160021008791                      False               False  ...   \n",
       "16120100160021008792                      False               False  ...   \n",
       "\n",
       "Departamento          0941:BEDDING  0961:GENERAL GROCERIES  0962:BEVERAGES  \\\n",
       "ID_Transacao                                                                 \n",
       "16120100160021008773         False                   False           False   \n",
       "16120100160021008774         False                   False           False   \n",
       "16120100160021008775         False                   False           False   \n",
       "16120100160021008776         False                    True           False   \n",
       "16120100160021008777         False                   False           False   \n",
       "16120100160021008778         False                   False           False   \n",
       "16120100160021008779         False                   False           False   \n",
       "16120100160021008780         False                   False           False   \n",
       "16120100160021008781         False                   False           False   \n",
       "16120100160021008782         False                   False           False   \n",
       "16120100160021008783         False                   False           False   \n",
       "16120100160021008784         False                   False           False   \n",
       "16120100160021008785         False                   False            True   \n",
       "16120100160021008786         False                   False           False   \n",
       "16120100160021008787         False                   False           False   \n",
       "16120100160021008788         False                    True           False   \n",
       "16120100160021008789         False                   False           False   \n",
       "16120100160021008790         False                   False            True   \n",
       "16120100160021008791         False                   False           False   \n",
       "16120100160021008792         False                   False           False   \n",
       "\n",
       "Departamento          0965:PERISHABLES  0973:CANDY  0982:SPIRITS  0983:WINE  \\\n",
       "ID_Transacao                                                                  \n",
       "16120100160021008773             False        True          True       True   \n",
       "16120100160021008774             False       False         False      False   \n",
       "16120100160021008775             False       False          True      False   \n",
       "16120100160021008776             False       False         False      False   \n",
       "16120100160021008777             False       False          True      False   \n",
       "16120100160021008778             False       False          True      False   \n",
       "16120100160021008779             False       False          True       True   \n",
       "16120100160021008780             False       False         False      False   \n",
       "16120100160021008781              True        True         False       True   \n",
       "16120100160021008782             False       False          True      False   \n",
       "16120100160021008783             False        True         False      False   \n",
       "16120100160021008784             False       False         False       True   \n",
       "16120100160021008785             False       False          True      False   \n",
       "16120100160021008786             False       False          True       True   \n",
       "16120100160021008787             False       False          True      False   \n",
       "16120100160021008788             False        True         False      False   \n",
       "16120100160021008789             False       False         False      False   \n",
       "16120100160021008790             False       False          True       True   \n",
       "16120100160021008791             False       False          True      False   \n",
       "16120100160021008792             False       False          True       True   \n",
       "\n",
       "Departamento          0984:BEER  0991:TOBACCO  0999:UNSCANNED ITEMS  \n",
       "ID_Transacao                                                         \n",
       "16120100160021008773      False          True                 False  \n",
       "16120100160021008774      False         False                 False  \n",
       "16120100160021008775      False         False                 False  \n",
       "16120100160021008776      False         False                 False  \n",
       "16120100160021008777      False         False                 False  \n",
       "16120100160021008778      False          True                 False  \n",
       "16120100160021008779       True         False                 False  \n",
       "16120100160021008780      False         False                 False  \n",
       "16120100160021008781      False         False                 False  \n",
       "16120100160021008782      False         False                 False  \n",
       "16120100160021008783       True         False                 False  \n",
       "16120100160021008784      False         False                 False  \n",
       "16120100160021008785      False         False                 False  \n",
       "16120100160021008786      False         False                 False  \n",
       "16120100160021008787      False         False                 False  \n",
       "16120100160021008788      False          True                 False  \n",
       "16120100160021008789      False          True                 False  \n",
       "16120100160021008790      False         False                 False  \n",
       "16120100160021008791      False         False                 False  \n",
       "16120100160021008792      False         False                 False  \n",
       "\n",
       "[20 rows x 156 columns]"
      ]
     },
     "execution_count": 123,
     "metadata": {},
     "output_type": "execute_result"
    }
   ],
   "source": [
    "df_transacoes_pivot.head(20)"
   ]
  },
  {
   "cell_type": "code",
   "execution_count": 124,
   "id": "2ccea158",
   "metadata": {},
   "outputs": [],
   "source": [
    "# Remover o título Departamento\n",
    "df_transacoes_pivot = df_transacoes_pivot.rename_axis(None, axis=1)"
   ]
  },
  {
   "cell_type": "code",
   "execution_count": 125,
   "id": "e7dbf0c8",
   "metadata": {},
   "outputs": [],
   "source": [
    "# Dropar/Remover a Coluna ID_Transacao\n",
    "df_transacoes_pivot.reset_index(inplace=True)"
   ]
  },
  {
   "cell_type": "code",
   "execution_count": 126,
   "id": "63b54934",
   "metadata": {},
   "outputs": [],
   "source": [
    "df_transacoes_pivot.drop(columns=['ID_Transacao'], inplace=True)"
   ]
  },
  {
   "cell_type": "code",
   "execution_count": 127,
   "id": "f1735d78",
   "metadata": {},
   "outputs": [
    {
     "data": {
      "text/html": [
       "<div>\n",
       "<style scoped>\n",
       "    .dataframe tbody tr th:only-of-type {\n",
       "        vertical-align: middle;\n",
       "    }\n",
       "\n",
       "    .dataframe tbody tr th {\n",
       "        vertical-align: top;\n",
       "    }\n",
       "\n",
       "    .dataframe thead th {\n",
       "        text-align: right;\n",
       "    }\n",
       "</style>\n",
       "<table border=\"1\" class=\"dataframe\">\n",
       "  <thead>\n",
       "    <tr style=\"text-align: right;\">\n",
       "      <th></th>\n",
       "      <th>0002:BARBER RETAIL</th>\n",
       "      <th>0009:FLORAL SERV/SUPPLIES</th>\n",
       "      <th>0012:LOCAL GIFTS/FOODS</th>\n",
       "      <th>0014:REPAIRS</th>\n",
       "      <th>0016:FINANCIAL SERVICES</th>\n",
       "      <th>0018:OTHER DIRECT SERVICE</th>\n",
       "      <th>0033:VENDING RETAIL</th>\n",
       "      <th>0056:SOUVENIR</th>\n",
       "      <th>0066:VENDING/AMUSEMENT MA</th>\n",
       "      <th>0071:BEAUTY RETAIL</th>\n",
       "      <th>...</th>\n",
       "      <th>0941:BEDDING</th>\n",
       "      <th>0961:GENERAL GROCERIES</th>\n",
       "      <th>0962:BEVERAGES</th>\n",
       "      <th>0965:PERISHABLES</th>\n",
       "      <th>0973:CANDY</th>\n",
       "      <th>0982:SPIRITS</th>\n",
       "      <th>0983:WINE</th>\n",
       "      <th>0984:BEER</th>\n",
       "      <th>0991:TOBACCO</th>\n",
       "      <th>0999:UNSCANNED ITEMS</th>\n",
       "    </tr>\n",
       "  </thead>\n",
       "  <tbody>\n",
       "    <tr>\n",
       "      <th>0</th>\n",
       "      <td>False</td>\n",
       "      <td>False</td>\n",
       "      <td>False</td>\n",
       "      <td>False</td>\n",
       "      <td>False</td>\n",
       "      <td>False</td>\n",
       "      <td>False</td>\n",
       "      <td>False</td>\n",
       "      <td>False</td>\n",
       "      <td>False</td>\n",
       "      <td>...</td>\n",
       "      <td>False</td>\n",
       "      <td>False</td>\n",
       "      <td>False</td>\n",
       "      <td>False</td>\n",
       "      <td>True</td>\n",
       "      <td>True</td>\n",
       "      <td>True</td>\n",
       "      <td>False</td>\n",
       "      <td>True</td>\n",
       "      <td>False</td>\n",
       "    </tr>\n",
       "    <tr>\n",
       "      <th>1</th>\n",
       "      <td>False</td>\n",
       "      <td>False</td>\n",
       "      <td>False</td>\n",
       "      <td>False</td>\n",
       "      <td>False</td>\n",
       "      <td>False</td>\n",
       "      <td>False</td>\n",
       "      <td>False</td>\n",
       "      <td>False</td>\n",
       "      <td>False</td>\n",
       "      <td>...</td>\n",
       "      <td>False</td>\n",
       "      <td>False</td>\n",
       "      <td>False</td>\n",
       "      <td>False</td>\n",
       "      <td>False</td>\n",
       "      <td>False</td>\n",
       "      <td>False</td>\n",
       "      <td>False</td>\n",
       "      <td>False</td>\n",
       "      <td>False</td>\n",
       "    </tr>\n",
       "    <tr>\n",
       "      <th>2</th>\n",
       "      <td>False</td>\n",
       "      <td>False</td>\n",
       "      <td>False</td>\n",
       "      <td>False</td>\n",
       "      <td>False</td>\n",
       "      <td>False</td>\n",
       "      <td>False</td>\n",
       "      <td>False</td>\n",
       "      <td>False</td>\n",
       "      <td>False</td>\n",
       "      <td>...</td>\n",
       "      <td>False</td>\n",
       "      <td>False</td>\n",
       "      <td>False</td>\n",
       "      <td>False</td>\n",
       "      <td>False</td>\n",
       "      <td>True</td>\n",
       "      <td>False</td>\n",
       "      <td>False</td>\n",
       "      <td>False</td>\n",
       "      <td>False</td>\n",
       "    </tr>\n",
       "    <tr>\n",
       "      <th>3</th>\n",
       "      <td>False</td>\n",
       "      <td>False</td>\n",
       "      <td>False</td>\n",
       "      <td>False</td>\n",
       "      <td>False</td>\n",
       "      <td>False</td>\n",
       "      <td>False</td>\n",
       "      <td>False</td>\n",
       "      <td>False</td>\n",
       "      <td>False</td>\n",
       "      <td>...</td>\n",
       "      <td>False</td>\n",
       "      <td>True</td>\n",
       "      <td>False</td>\n",
       "      <td>False</td>\n",
       "      <td>False</td>\n",
       "      <td>False</td>\n",
       "      <td>False</td>\n",
       "      <td>False</td>\n",
       "      <td>False</td>\n",
       "      <td>False</td>\n",
       "    </tr>\n",
       "    <tr>\n",
       "      <th>4</th>\n",
       "      <td>False</td>\n",
       "      <td>False</td>\n",
       "      <td>False</td>\n",
       "      <td>False</td>\n",
       "      <td>False</td>\n",
       "      <td>False</td>\n",
       "      <td>False</td>\n",
       "      <td>False</td>\n",
       "      <td>False</td>\n",
       "      <td>False</td>\n",
       "      <td>...</td>\n",
       "      <td>False</td>\n",
       "      <td>False</td>\n",
       "      <td>False</td>\n",
       "      <td>False</td>\n",
       "      <td>False</td>\n",
       "      <td>True</td>\n",
       "      <td>False</td>\n",
       "      <td>False</td>\n",
       "      <td>False</td>\n",
       "      <td>False</td>\n",
       "    </tr>\n",
       "    <tr>\n",
       "      <th>5</th>\n",
       "      <td>False</td>\n",
       "      <td>False</td>\n",
       "      <td>False</td>\n",
       "      <td>False</td>\n",
       "      <td>False</td>\n",
       "      <td>False</td>\n",
       "      <td>False</td>\n",
       "      <td>False</td>\n",
       "      <td>False</td>\n",
       "      <td>False</td>\n",
       "      <td>...</td>\n",
       "      <td>False</td>\n",
       "      <td>False</td>\n",
       "      <td>False</td>\n",
       "      <td>False</td>\n",
       "      <td>False</td>\n",
       "      <td>True</td>\n",
       "      <td>False</td>\n",
       "      <td>False</td>\n",
       "      <td>True</td>\n",
       "      <td>False</td>\n",
       "    </tr>\n",
       "    <tr>\n",
       "      <th>6</th>\n",
       "      <td>False</td>\n",
       "      <td>False</td>\n",
       "      <td>False</td>\n",
       "      <td>False</td>\n",
       "      <td>False</td>\n",
       "      <td>False</td>\n",
       "      <td>False</td>\n",
       "      <td>False</td>\n",
       "      <td>False</td>\n",
       "      <td>False</td>\n",
       "      <td>...</td>\n",
       "      <td>False</td>\n",
       "      <td>False</td>\n",
       "      <td>False</td>\n",
       "      <td>False</td>\n",
       "      <td>False</td>\n",
       "      <td>True</td>\n",
       "      <td>True</td>\n",
       "      <td>True</td>\n",
       "      <td>False</td>\n",
       "      <td>False</td>\n",
       "    </tr>\n",
       "    <tr>\n",
       "      <th>7</th>\n",
       "      <td>False</td>\n",
       "      <td>False</td>\n",
       "      <td>False</td>\n",
       "      <td>False</td>\n",
       "      <td>False</td>\n",
       "      <td>False</td>\n",
       "      <td>False</td>\n",
       "      <td>False</td>\n",
       "      <td>False</td>\n",
       "      <td>False</td>\n",
       "      <td>...</td>\n",
       "      <td>False</td>\n",
       "      <td>False</td>\n",
       "      <td>False</td>\n",
       "      <td>False</td>\n",
       "      <td>False</td>\n",
       "      <td>False</td>\n",
       "      <td>False</td>\n",
       "      <td>False</td>\n",
       "      <td>False</td>\n",
       "      <td>False</td>\n",
       "    </tr>\n",
       "    <tr>\n",
       "      <th>8</th>\n",
       "      <td>False</td>\n",
       "      <td>False</td>\n",
       "      <td>False</td>\n",
       "      <td>False</td>\n",
       "      <td>False</td>\n",
       "      <td>False</td>\n",
       "      <td>False</td>\n",
       "      <td>False</td>\n",
       "      <td>False</td>\n",
       "      <td>False</td>\n",
       "      <td>...</td>\n",
       "      <td>False</td>\n",
       "      <td>False</td>\n",
       "      <td>False</td>\n",
       "      <td>True</td>\n",
       "      <td>True</td>\n",
       "      <td>False</td>\n",
       "      <td>True</td>\n",
       "      <td>False</td>\n",
       "      <td>False</td>\n",
       "      <td>False</td>\n",
       "    </tr>\n",
       "    <tr>\n",
       "      <th>9</th>\n",
       "      <td>False</td>\n",
       "      <td>False</td>\n",
       "      <td>False</td>\n",
       "      <td>False</td>\n",
       "      <td>False</td>\n",
       "      <td>False</td>\n",
       "      <td>False</td>\n",
       "      <td>False</td>\n",
       "      <td>False</td>\n",
       "      <td>False</td>\n",
       "      <td>...</td>\n",
       "      <td>False</td>\n",
       "      <td>False</td>\n",
       "      <td>False</td>\n",
       "      <td>False</td>\n",
       "      <td>False</td>\n",
       "      <td>True</td>\n",
       "      <td>False</td>\n",
       "      <td>False</td>\n",
       "      <td>False</td>\n",
       "      <td>False</td>\n",
       "    </tr>\n",
       "    <tr>\n",
       "      <th>10</th>\n",
       "      <td>False</td>\n",
       "      <td>False</td>\n",
       "      <td>False</td>\n",
       "      <td>False</td>\n",
       "      <td>False</td>\n",
       "      <td>False</td>\n",
       "      <td>False</td>\n",
       "      <td>False</td>\n",
       "      <td>False</td>\n",
       "      <td>False</td>\n",
       "      <td>...</td>\n",
       "      <td>False</td>\n",
       "      <td>False</td>\n",
       "      <td>False</td>\n",
       "      <td>False</td>\n",
       "      <td>True</td>\n",
       "      <td>False</td>\n",
       "      <td>False</td>\n",
       "      <td>True</td>\n",
       "      <td>False</td>\n",
       "      <td>False</td>\n",
       "    </tr>\n",
       "    <tr>\n",
       "      <th>11</th>\n",
       "      <td>False</td>\n",
       "      <td>False</td>\n",
       "      <td>False</td>\n",
       "      <td>False</td>\n",
       "      <td>False</td>\n",
       "      <td>False</td>\n",
       "      <td>False</td>\n",
       "      <td>False</td>\n",
       "      <td>False</td>\n",
       "      <td>False</td>\n",
       "      <td>...</td>\n",
       "      <td>False</td>\n",
       "      <td>False</td>\n",
       "      <td>False</td>\n",
       "      <td>False</td>\n",
       "      <td>False</td>\n",
       "      <td>False</td>\n",
       "      <td>True</td>\n",
       "      <td>False</td>\n",
       "      <td>False</td>\n",
       "      <td>False</td>\n",
       "    </tr>\n",
       "    <tr>\n",
       "      <th>12</th>\n",
       "      <td>False</td>\n",
       "      <td>False</td>\n",
       "      <td>False</td>\n",
       "      <td>False</td>\n",
       "      <td>False</td>\n",
       "      <td>False</td>\n",
       "      <td>False</td>\n",
       "      <td>False</td>\n",
       "      <td>False</td>\n",
       "      <td>False</td>\n",
       "      <td>...</td>\n",
       "      <td>False</td>\n",
       "      <td>False</td>\n",
       "      <td>True</td>\n",
       "      <td>False</td>\n",
       "      <td>False</td>\n",
       "      <td>True</td>\n",
       "      <td>False</td>\n",
       "      <td>False</td>\n",
       "      <td>False</td>\n",
       "      <td>False</td>\n",
       "    </tr>\n",
       "    <tr>\n",
       "      <th>13</th>\n",
       "      <td>False</td>\n",
       "      <td>False</td>\n",
       "      <td>False</td>\n",
       "      <td>False</td>\n",
       "      <td>False</td>\n",
       "      <td>False</td>\n",
       "      <td>False</td>\n",
       "      <td>False</td>\n",
       "      <td>False</td>\n",
       "      <td>False</td>\n",
       "      <td>...</td>\n",
       "      <td>False</td>\n",
       "      <td>False</td>\n",
       "      <td>False</td>\n",
       "      <td>False</td>\n",
       "      <td>False</td>\n",
       "      <td>True</td>\n",
       "      <td>True</td>\n",
       "      <td>False</td>\n",
       "      <td>False</td>\n",
       "      <td>False</td>\n",
       "    </tr>\n",
       "    <tr>\n",
       "      <th>14</th>\n",
       "      <td>False</td>\n",
       "      <td>False</td>\n",
       "      <td>False</td>\n",
       "      <td>False</td>\n",
       "      <td>False</td>\n",
       "      <td>False</td>\n",
       "      <td>False</td>\n",
       "      <td>False</td>\n",
       "      <td>False</td>\n",
       "      <td>False</td>\n",
       "      <td>...</td>\n",
       "      <td>False</td>\n",
       "      <td>False</td>\n",
       "      <td>False</td>\n",
       "      <td>False</td>\n",
       "      <td>False</td>\n",
       "      <td>True</td>\n",
       "      <td>False</td>\n",
       "      <td>False</td>\n",
       "      <td>False</td>\n",
       "      <td>False</td>\n",
       "    </tr>\n",
       "    <tr>\n",
       "      <th>15</th>\n",
       "      <td>False</td>\n",
       "      <td>False</td>\n",
       "      <td>False</td>\n",
       "      <td>False</td>\n",
       "      <td>False</td>\n",
       "      <td>False</td>\n",
       "      <td>False</td>\n",
       "      <td>False</td>\n",
       "      <td>False</td>\n",
       "      <td>False</td>\n",
       "      <td>...</td>\n",
       "      <td>False</td>\n",
       "      <td>True</td>\n",
       "      <td>False</td>\n",
       "      <td>False</td>\n",
       "      <td>True</td>\n",
       "      <td>False</td>\n",
       "      <td>False</td>\n",
       "      <td>False</td>\n",
       "      <td>True</td>\n",
       "      <td>False</td>\n",
       "    </tr>\n",
       "    <tr>\n",
       "      <th>16</th>\n",
       "      <td>False</td>\n",
       "      <td>False</td>\n",
       "      <td>False</td>\n",
       "      <td>False</td>\n",
       "      <td>False</td>\n",
       "      <td>False</td>\n",
       "      <td>False</td>\n",
       "      <td>False</td>\n",
       "      <td>False</td>\n",
       "      <td>False</td>\n",
       "      <td>...</td>\n",
       "      <td>False</td>\n",
       "      <td>False</td>\n",
       "      <td>False</td>\n",
       "      <td>False</td>\n",
       "      <td>False</td>\n",
       "      <td>False</td>\n",
       "      <td>False</td>\n",
       "      <td>False</td>\n",
       "      <td>True</td>\n",
       "      <td>False</td>\n",
       "    </tr>\n",
       "    <tr>\n",
       "      <th>17</th>\n",
       "      <td>False</td>\n",
       "      <td>False</td>\n",
       "      <td>False</td>\n",
       "      <td>False</td>\n",
       "      <td>False</td>\n",
       "      <td>False</td>\n",
       "      <td>False</td>\n",
       "      <td>False</td>\n",
       "      <td>False</td>\n",
       "      <td>False</td>\n",
       "      <td>...</td>\n",
       "      <td>False</td>\n",
       "      <td>False</td>\n",
       "      <td>True</td>\n",
       "      <td>False</td>\n",
       "      <td>False</td>\n",
       "      <td>True</td>\n",
       "      <td>True</td>\n",
       "      <td>False</td>\n",
       "      <td>False</td>\n",
       "      <td>False</td>\n",
       "    </tr>\n",
       "    <tr>\n",
       "      <th>18</th>\n",
       "      <td>False</td>\n",
       "      <td>False</td>\n",
       "      <td>False</td>\n",
       "      <td>False</td>\n",
       "      <td>False</td>\n",
       "      <td>False</td>\n",
       "      <td>False</td>\n",
       "      <td>False</td>\n",
       "      <td>False</td>\n",
       "      <td>False</td>\n",
       "      <td>...</td>\n",
       "      <td>False</td>\n",
       "      <td>False</td>\n",
       "      <td>False</td>\n",
       "      <td>False</td>\n",
       "      <td>False</td>\n",
       "      <td>True</td>\n",
       "      <td>False</td>\n",
       "      <td>False</td>\n",
       "      <td>False</td>\n",
       "      <td>False</td>\n",
       "    </tr>\n",
       "    <tr>\n",
       "      <th>19</th>\n",
       "      <td>False</td>\n",
       "      <td>False</td>\n",
       "      <td>False</td>\n",
       "      <td>False</td>\n",
       "      <td>False</td>\n",
       "      <td>False</td>\n",
       "      <td>False</td>\n",
       "      <td>False</td>\n",
       "      <td>False</td>\n",
       "      <td>False</td>\n",
       "      <td>...</td>\n",
       "      <td>False</td>\n",
       "      <td>False</td>\n",
       "      <td>False</td>\n",
       "      <td>False</td>\n",
       "      <td>False</td>\n",
       "      <td>True</td>\n",
       "      <td>True</td>\n",
       "      <td>False</td>\n",
       "      <td>False</td>\n",
       "      <td>False</td>\n",
       "    </tr>\n",
       "  </tbody>\n",
       "</table>\n",
       "<p>20 rows × 156 columns</p>\n",
       "</div>"
      ],
      "text/plain": [
       "    0002:BARBER RETAIL  0009:FLORAL SERV/SUPPLIES  0012:LOCAL GIFTS/FOODS  \\\n",
       "0                False                      False                   False   \n",
       "1                False                      False                   False   \n",
       "2                False                      False                   False   \n",
       "3                False                      False                   False   \n",
       "4                False                      False                   False   \n",
       "5                False                      False                   False   \n",
       "6                False                      False                   False   \n",
       "7                False                      False                   False   \n",
       "8                False                      False                   False   \n",
       "9                False                      False                   False   \n",
       "10               False                      False                   False   \n",
       "11               False                      False                   False   \n",
       "12               False                      False                   False   \n",
       "13               False                      False                   False   \n",
       "14               False                      False                   False   \n",
       "15               False                      False                   False   \n",
       "16               False                      False                   False   \n",
       "17               False                      False                   False   \n",
       "18               False                      False                   False   \n",
       "19               False                      False                   False   \n",
       "\n",
       "    0014:REPAIRS  0016:FINANCIAL SERVICES  0018:OTHER DIRECT SERVICE  \\\n",
       "0          False                    False                      False   \n",
       "1          False                    False                      False   \n",
       "2          False                    False                      False   \n",
       "3          False                    False                      False   \n",
       "4          False                    False                      False   \n",
       "5          False                    False                      False   \n",
       "6          False                    False                      False   \n",
       "7          False                    False                      False   \n",
       "8          False                    False                      False   \n",
       "9          False                    False                      False   \n",
       "10         False                    False                      False   \n",
       "11         False                    False                      False   \n",
       "12         False                    False                      False   \n",
       "13         False                    False                      False   \n",
       "14         False                    False                      False   \n",
       "15         False                    False                      False   \n",
       "16         False                    False                      False   \n",
       "17         False                    False                      False   \n",
       "18         False                    False                      False   \n",
       "19         False                    False                      False   \n",
       "\n",
       "    0033:VENDING RETAIL  0056:SOUVENIR  0066:VENDING/AMUSEMENT MA  \\\n",
       "0                 False          False                      False   \n",
       "1                 False          False                      False   \n",
       "2                 False          False                      False   \n",
       "3                 False          False                      False   \n",
       "4                 False          False                      False   \n",
       "5                 False          False                      False   \n",
       "6                 False          False                      False   \n",
       "7                 False          False                      False   \n",
       "8                 False          False                      False   \n",
       "9                 False          False                      False   \n",
       "10                False          False                      False   \n",
       "11                False          False                      False   \n",
       "12                False          False                      False   \n",
       "13                False          False                      False   \n",
       "14                False          False                      False   \n",
       "15                False          False                      False   \n",
       "16                False          False                      False   \n",
       "17                False          False                      False   \n",
       "18                False          False                      False   \n",
       "19                False          False                      False   \n",
       "\n",
       "    0071:BEAUTY RETAIL  ...  0941:BEDDING  0961:GENERAL GROCERIES  \\\n",
       "0                False  ...         False                   False   \n",
       "1                False  ...         False                   False   \n",
       "2                False  ...         False                   False   \n",
       "3                False  ...         False                    True   \n",
       "4                False  ...         False                   False   \n",
       "5                False  ...         False                   False   \n",
       "6                False  ...         False                   False   \n",
       "7                False  ...         False                   False   \n",
       "8                False  ...         False                   False   \n",
       "9                False  ...         False                   False   \n",
       "10               False  ...         False                   False   \n",
       "11               False  ...         False                   False   \n",
       "12               False  ...         False                   False   \n",
       "13               False  ...         False                   False   \n",
       "14               False  ...         False                   False   \n",
       "15               False  ...         False                    True   \n",
       "16               False  ...         False                   False   \n",
       "17               False  ...         False                   False   \n",
       "18               False  ...         False                   False   \n",
       "19               False  ...         False                   False   \n",
       "\n",
       "    0962:BEVERAGES  0965:PERISHABLES  0973:CANDY  0982:SPIRITS  0983:WINE  \\\n",
       "0            False             False        True          True       True   \n",
       "1            False             False       False         False      False   \n",
       "2            False             False       False          True      False   \n",
       "3            False             False       False         False      False   \n",
       "4            False             False       False          True      False   \n",
       "5            False             False       False          True      False   \n",
       "6            False             False       False          True       True   \n",
       "7            False             False       False         False      False   \n",
       "8            False              True        True         False       True   \n",
       "9            False             False       False          True      False   \n",
       "10           False             False        True         False      False   \n",
       "11           False             False       False         False       True   \n",
       "12            True             False       False          True      False   \n",
       "13           False             False       False          True       True   \n",
       "14           False             False       False          True      False   \n",
       "15           False             False        True         False      False   \n",
       "16           False             False       False         False      False   \n",
       "17            True             False       False          True       True   \n",
       "18           False             False       False          True      False   \n",
       "19           False             False       False          True       True   \n",
       "\n",
       "    0984:BEER  0991:TOBACCO  0999:UNSCANNED ITEMS  \n",
       "0       False          True                 False  \n",
       "1       False         False                 False  \n",
       "2       False         False                 False  \n",
       "3       False         False                 False  \n",
       "4       False         False                 False  \n",
       "5       False          True                 False  \n",
       "6        True         False                 False  \n",
       "7       False         False                 False  \n",
       "8       False         False                 False  \n",
       "9       False         False                 False  \n",
       "10       True         False                 False  \n",
       "11      False         False                 False  \n",
       "12      False         False                 False  \n",
       "13      False         False                 False  \n",
       "14      False         False                 False  \n",
       "15      False          True                 False  \n",
       "16      False          True                 False  \n",
       "17      False         False                 False  \n",
       "18      False         False                 False  \n",
       "19      False         False                 False  \n",
       "\n",
       "[20 rows x 156 columns]"
      ]
     },
     "execution_count": 127,
     "metadata": {},
     "output_type": "execute_result"
    }
   ],
   "source": [
    "df_transacoes_pivot.head(20)"
   ]
  }
 ],
 "metadata": {
  "kernelspec": {
   "display_name": "ia-para-produtos-apriori-UGwjcUa0",
   "language": "python",
   "name": "python3"
  },
  "language_info": {
   "codemirror_mode": {
    "name": "ipython",
    "version": 3
   },
   "file_extension": ".py",
   "mimetype": "text/x-python",
   "name": "python",
   "nbconvert_exporter": "python",
   "pygments_lexer": "ipython3",
   "version": "3.12.6"
  }
 },
 "nbformat": 4,
 "nbformat_minor": 5
}
