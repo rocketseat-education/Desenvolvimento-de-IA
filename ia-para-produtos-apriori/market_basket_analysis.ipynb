{
 "cells": [
  {
   "cell_type": "code",
   "execution_count": 36,
   "id": "6cabad30",
   "metadata": {},
   "outputs": [],
   "source": [
    "# EDA e Visualização de Dados\n",
    "import pandas as pd\n",
    "import numpy as np\n",
    "import plotly.express as px\n",
    "from plotly.subplots import make_subplots\n",
    "import matplotlib.pyplot as plt\n",
    "import seaborn as sns\n",
    "\n",
    "# ML\n",
    "from mlxtend.frequent_patterns import apriori, association_rules\n",
    "\n"
   ]
  },
  {
   "cell_type": "markdown",
   "id": "f4035687",
   "metadata": {},
   "source": [
    "# Carregar os Dados"
   ]
  },
  {
   "cell_type": "code",
   "execution_count": 37,
   "id": "34618e9a",
   "metadata": {},
   "outputs": [],
   "source": [
    "# Carregar os dados\n",
    "df_transacoes = pd.read_csv('datasets/transactions_by_dept.csv', sep=',')"
   ]
  },
  {
   "cell_type": "code",
   "execution_count": 38,
   "id": "d3554bf4",
   "metadata": {},
   "outputs": [
    {
     "name": "stdout",
     "output_type": "stream",
     "text": [
      "<class 'pandas.core.frame.DataFrame'>\n",
      "RangeIndex: 4539 entries, 0 to 4538\n",
      "Data columns (total 4 columns):\n",
      " #   Column   Non-Null Count  Dtype \n",
      "---  ------   --------------  ----- \n",
      " 0   POS Txn  4539 non-null   uint64\n",
      " 1   Dept     4539 non-null   object\n",
      " 2   ID       4539 non-null   int64 \n",
      " 3   Sales U  4539 non-null   int64 \n",
      "dtypes: int64(2), object(1), uint64(1)\n",
      "memory usage: 142.0+ KB\n"
     ]
    }
   ],
   "source": [
    "df_transacoes.info()"
   ]
  },
  {
   "cell_type": "code",
   "execution_count": 39,
   "id": "6cf4173b",
   "metadata": {},
   "outputs": [
    {
     "data": {
      "text/html": [
       "<div>\n",
       "<style scoped>\n",
       "    .dataframe tbody tr th:only-of-type {\n",
       "        vertical-align: middle;\n",
       "    }\n",
       "\n",
       "    .dataframe tbody tr th {\n",
       "        vertical-align: top;\n",
       "    }\n",
       "\n",
       "    .dataframe thead th {\n",
       "        text-align: right;\n",
       "    }\n",
       "</style>\n",
       "<table border=\"1\" class=\"dataframe\">\n",
       "  <thead>\n",
       "    <tr style=\"text-align: right;\">\n",
       "      <th></th>\n",
       "      <th>POS Txn</th>\n",
       "      <th>Dept</th>\n",
       "      <th>ID</th>\n",
       "      <th>Sales U</th>\n",
       "    </tr>\n",
       "  </thead>\n",
       "  <tbody>\n",
       "    <tr>\n",
       "      <th>0</th>\n",
       "      <td>16120100160021008773</td>\n",
       "      <td>0261:HOSIERY</td>\n",
       "      <td>250</td>\n",
       "      <td>2</td>\n",
       "    </tr>\n",
       "    <tr>\n",
       "      <th>1</th>\n",
       "      <td>16120100160021008773</td>\n",
       "      <td>0634:VITAMINS &amp; HLTH AIDS</td>\n",
       "      <td>102</td>\n",
       "      <td>1</td>\n",
       "    </tr>\n",
       "    <tr>\n",
       "      <th>2</th>\n",
       "      <td>16120100160021008773</td>\n",
       "      <td>0879:PET SUPPLIES</td>\n",
       "      <td>158</td>\n",
       "      <td>2</td>\n",
       "    </tr>\n",
       "    <tr>\n",
       "      <th>3</th>\n",
       "      <td>16120100160021008773</td>\n",
       "      <td>0973:CANDY</td>\n",
       "      <td>175</td>\n",
       "      <td>2</td>\n",
       "    </tr>\n",
       "    <tr>\n",
       "      <th>4</th>\n",
       "      <td>16120100160021008773</td>\n",
       "      <td>0982:SPIRITS</td>\n",
       "      <td>176</td>\n",
       "      <td>1</td>\n",
       "    </tr>\n",
       "    <tr>\n",
       "      <th>5</th>\n",
       "      <td>16120100160021008773</td>\n",
       "      <td>0983:WINE</td>\n",
       "      <td>177</td>\n",
       "      <td>4</td>\n",
       "    </tr>\n",
       "    <tr>\n",
       "      <th>6</th>\n",
       "      <td>16120100160021008773</td>\n",
       "      <td>0991:TOBACCO</td>\n",
       "      <td>179</td>\n",
       "      <td>2</td>\n",
       "    </tr>\n",
       "    <tr>\n",
       "      <th>7</th>\n",
       "      <td>16120100160021008774</td>\n",
       "      <td>0597:HEALTH AIDS</td>\n",
       "      <td>93</td>\n",
       "      <td>1</td>\n",
       "    </tr>\n",
       "    <tr>\n",
       "      <th>8</th>\n",
       "      <td>16120100160021008774</td>\n",
       "      <td>0604:PERSONAL CARE</td>\n",
       "      <td>100</td>\n",
       "      <td>5</td>\n",
       "    </tr>\n",
       "    <tr>\n",
       "      <th>9</th>\n",
       "      <td>16120100160021008775</td>\n",
       "      <td>0819:PRE-RECORDED A/V</td>\n",
       "      <td>135</td>\n",
       "      <td>1</td>\n",
       "    </tr>\n",
       "  </tbody>\n",
       "</table>\n",
       "</div>"
      ],
      "text/plain": [
       "                POS Txn                       Dept   ID  Sales U\n",
       "0  16120100160021008773               0261:HOSIERY  250        2\n",
       "1  16120100160021008773  0634:VITAMINS & HLTH AIDS  102        1\n",
       "2  16120100160021008773          0879:PET SUPPLIES  158        2\n",
       "3  16120100160021008773                 0973:CANDY  175        2\n",
       "4  16120100160021008773               0982:SPIRITS  176        1\n",
       "5  16120100160021008773                  0983:WINE  177        4\n",
       "6  16120100160021008773               0991:TOBACCO  179        2\n",
       "7  16120100160021008774           0597:HEALTH AIDS   93        1\n",
       "8  16120100160021008774         0604:PERSONAL CARE  100        5\n",
       "9  16120100160021008775      0819:PRE-RECORDED A/V  135        1"
      ]
     },
     "execution_count": 39,
     "metadata": {},
     "output_type": "execute_result"
    }
   ],
   "source": [
    "df_transacoes.head(10)"
   ]
  },
  {
   "cell_type": "code",
   "execution_count": 40,
   "id": "1d2b7002",
   "metadata": {},
   "outputs": [
    {
     "data": {
      "text/html": [
       "<div>\n",
       "<style scoped>\n",
       "    .dataframe tbody tr th:only-of-type {\n",
       "        vertical-align: middle;\n",
       "    }\n",
       "\n",
       "    .dataframe tbody tr th {\n",
       "        vertical-align: top;\n",
       "    }\n",
       "\n",
       "    .dataframe thead th {\n",
       "        text-align: right;\n",
       "    }\n",
       "</style>\n",
       "<table border=\"1\" class=\"dataframe\">\n",
       "  <thead>\n",
       "    <tr style=\"text-align: right;\">\n",
       "      <th></th>\n",
       "      <th>POS Txn</th>\n",
       "      <th>Dept</th>\n",
       "      <th>ID</th>\n",
       "      <th>Sales U</th>\n",
       "    </tr>\n",
       "  </thead>\n",
       "  <tbody>\n",
       "    <tr>\n",
       "      <th>4529</th>\n",
       "      <td>16120100160162000841</td>\n",
       "      <td>0857:PC PERIPH/OFFICE ACC</td>\n",
       "      <td>155</td>\n",
       "      <td>1</td>\n",
       "    </tr>\n",
       "    <tr>\n",
       "      <th>4530</th>\n",
       "      <td>16120100160162000841</td>\n",
       "      <td>0931:BATH</td>\n",
       "      <td>165</td>\n",
       "      <td>1</td>\n",
       "    </tr>\n",
       "    <tr>\n",
       "      <th>4531</th>\n",
       "      <td>16120100160162000841</td>\n",
       "      <td>0941:BEDDING</td>\n",
       "      <td>167</td>\n",
       "      <td>1</td>\n",
       "    </tr>\n",
       "    <tr>\n",
       "      <th>4532</th>\n",
       "      <td>16120100160162000841</td>\n",
       "      <td>0991:TOBACCO</td>\n",
       "      <td>179</td>\n",
       "      <td>1</td>\n",
       "    </tr>\n",
       "    <tr>\n",
       "      <th>4533</th>\n",
       "      <td>16120100160162000842</td>\n",
       "      <td>0815:AUDIO ELECTRONICS</td>\n",
       "      <td>132</td>\n",
       "      <td>1</td>\n",
       "    </tr>\n",
       "    <tr>\n",
       "      <th>4534</th>\n",
       "      <td>16120100160162000843</td>\n",
       "      <td>0857:PC PERIPH/OFFICE ACC</td>\n",
       "      <td>155</td>\n",
       "      <td>1</td>\n",
       "    </tr>\n",
       "    <tr>\n",
       "      <th>4535</th>\n",
       "      <td>16120100160162000845</td>\n",
       "      <td>0395:MENS ATHLETIC SHOES</td>\n",
       "      <td>49</td>\n",
       "      <td>1</td>\n",
       "    </tr>\n",
       "    <tr>\n",
       "      <th>4536</th>\n",
       "      <td>16120100160162000845</td>\n",
       "      <td>0815:AUDIO ELECTRONICS</td>\n",
       "      <td>132</td>\n",
       "      <td>1</td>\n",
       "    </tr>\n",
       "    <tr>\n",
       "      <th>4537</th>\n",
       "      <td>16120100160162000846</td>\n",
       "      <td>0532:AMERICAN GREETINGS</td>\n",
       "      <td>72</td>\n",
       "      <td>1</td>\n",
       "    </tr>\n",
       "    <tr>\n",
       "      <th>4538</th>\n",
       "      <td>16120100160221001467</td>\n",
       "      <td>0066:VENDING/AMUSEMENT MA</td>\n",
       "      <td>242</td>\n",
       "      <td>1</td>\n",
       "    </tr>\n",
       "  </tbody>\n",
       "</table>\n",
       "</div>"
      ],
      "text/plain": [
       "                   POS Txn                       Dept   ID  Sales U\n",
       "4529  16120100160162000841  0857:PC PERIPH/OFFICE ACC  155        1\n",
       "4530  16120100160162000841                  0931:BATH  165        1\n",
       "4531  16120100160162000841               0941:BEDDING  167        1\n",
       "4532  16120100160162000841               0991:TOBACCO  179        1\n",
       "4533  16120100160162000842     0815:AUDIO ELECTRONICS  132        1\n",
       "4534  16120100160162000843  0857:PC PERIPH/OFFICE ACC  155        1\n",
       "4535  16120100160162000845   0395:MENS ATHLETIC SHOES   49        1\n",
       "4536  16120100160162000845     0815:AUDIO ELECTRONICS  132        1\n",
       "4537  16120100160162000846    0532:AMERICAN GREETINGS   72        1\n",
       "4538  16120100160221001467  0066:VENDING/AMUSEMENT MA  242        1"
      ]
     },
     "execution_count": 40,
     "metadata": {},
     "output_type": "execute_result"
    }
   ],
   "source": [
    "df_transacoes.tail(10)"
   ]
  },
  {
   "cell_type": "markdown",
   "id": "5b9331b7",
   "metadata": {},
   "source": [
    "# EDA"
   ]
  },
  {
   "cell_type": "code",
   "execution_count": 41,
   "id": "21818148",
   "metadata": {},
   "outputs": [],
   "source": [
    "# Renomear as colunas para facilitar o entendimento\n",
    "df_transacoes.rename(columns={'POS Txn': 'ID_Transacao', 'Dept': 'Departamento',\n",
    "                              'ID': 'ID_Departamento', 'Sales U': 'Qtde_Vendida'}, inplace=True)"
   ]
  },
  {
   "cell_type": "code",
   "execution_count": 42,
   "id": "5865fc26",
   "metadata": {},
   "outputs": [
    {
     "data": {
      "text/html": [
       "<div>\n",
       "<style scoped>\n",
       "    .dataframe tbody tr th:only-of-type {\n",
       "        vertical-align: middle;\n",
       "    }\n",
       "\n",
       "    .dataframe tbody tr th {\n",
       "        vertical-align: top;\n",
       "    }\n",
       "\n",
       "    .dataframe thead th {\n",
       "        text-align: right;\n",
       "    }\n",
       "</style>\n",
       "<table border=\"1\" class=\"dataframe\">\n",
       "  <thead>\n",
       "    <tr style=\"text-align: right;\">\n",
       "      <th></th>\n",
       "      <th>ID_Transacao</th>\n",
       "      <th>Departamento</th>\n",
       "      <th>ID_Departamento</th>\n",
       "      <th>Qtde_Vendida</th>\n",
       "    </tr>\n",
       "  </thead>\n",
       "  <tbody>\n",
       "    <tr>\n",
       "      <th>0</th>\n",
       "      <td>16120100160021008773</td>\n",
       "      <td>0261:HOSIERY</td>\n",
       "      <td>250</td>\n",
       "      <td>2</td>\n",
       "    </tr>\n",
       "    <tr>\n",
       "      <th>1</th>\n",
       "      <td>16120100160021008773</td>\n",
       "      <td>0634:VITAMINS &amp; HLTH AIDS</td>\n",
       "      <td>102</td>\n",
       "      <td>1</td>\n",
       "    </tr>\n",
       "    <tr>\n",
       "      <th>2</th>\n",
       "      <td>16120100160021008773</td>\n",
       "      <td>0879:PET SUPPLIES</td>\n",
       "      <td>158</td>\n",
       "      <td>2</td>\n",
       "    </tr>\n",
       "    <tr>\n",
       "      <th>3</th>\n",
       "      <td>16120100160021008773</td>\n",
       "      <td>0973:CANDY</td>\n",
       "      <td>175</td>\n",
       "      <td>2</td>\n",
       "    </tr>\n",
       "    <tr>\n",
       "      <th>4</th>\n",
       "      <td>16120100160021008773</td>\n",
       "      <td>0982:SPIRITS</td>\n",
       "      <td>176</td>\n",
       "      <td>1</td>\n",
       "    </tr>\n",
       "    <tr>\n",
       "      <th>5</th>\n",
       "      <td>16120100160021008773</td>\n",
       "      <td>0983:WINE</td>\n",
       "      <td>177</td>\n",
       "      <td>4</td>\n",
       "    </tr>\n",
       "    <tr>\n",
       "      <th>6</th>\n",
       "      <td>16120100160021008773</td>\n",
       "      <td>0991:TOBACCO</td>\n",
       "      <td>179</td>\n",
       "      <td>2</td>\n",
       "    </tr>\n",
       "    <tr>\n",
       "      <th>7</th>\n",
       "      <td>16120100160021008774</td>\n",
       "      <td>0597:HEALTH AIDS</td>\n",
       "      <td>93</td>\n",
       "      <td>1</td>\n",
       "    </tr>\n",
       "    <tr>\n",
       "      <th>8</th>\n",
       "      <td>16120100160021008774</td>\n",
       "      <td>0604:PERSONAL CARE</td>\n",
       "      <td>100</td>\n",
       "      <td>5</td>\n",
       "    </tr>\n",
       "    <tr>\n",
       "      <th>9</th>\n",
       "      <td>16120100160021008775</td>\n",
       "      <td>0819:PRE-RECORDED A/V</td>\n",
       "      <td>135</td>\n",
       "      <td>1</td>\n",
       "    </tr>\n",
       "  </tbody>\n",
       "</table>\n",
       "</div>"
      ],
      "text/plain": [
       "           ID_Transacao               Departamento  ID_Departamento  \\\n",
       "0  16120100160021008773               0261:HOSIERY              250   \n",
       "1  16120100160021008773  0634:VITAMINS & HLTH AIDS              102   \n",
       "2  16120100160021008773          0879:PET SUPPLIES              158   \n",
       "3  16120100160021008773                 0973:CANDY              175   \n",
       "4  16120100160021008773               0982:SPIRITS              176   \n",
       "5  16120100160021008773                  0983:WINE              177   \n",
       "6  16120100160021008773               0991:TOBACCO              179   \n",
       "7  16120100160021008774           0597:HEALTH AIDS               93   \n",
       "8  16120100160021008774         0604:PERSONAL CARE              100   \n",
       "9  16120100160021008775      0819:PRE-RECORDED A/V              135   \n",
       "\n",
       "   Qtde_Vendida  \n",
       "0             2  \n",
       "1             1  \n",
       "2             2  \n",
       "3             2  \n",
       "4             1  \n",
       "5             4  \n",
       "6             2  \n",
       "7             1  \n",
       "8             5  \n",
       "9             1  "
      ]
     },
     "execution_count": 42,
     "metadata": {},
     "output_type": "execute_result"
    }
   ],
   "source": [
    "df_transacoes.head(10)"
   ]
  },
  {
   "cell_type": "code",
   "execution_count": 43,
   "id": "49c0fb18",
   "metadata": {},
   "outputs": [
    {
     "data": {
      "text/plain": [
       "160"
      ]
     },
     "execution_count": 43,
     "metadata": {},
     "output_type": "execute_result"
    }
   ],
   "source": [
    "# Quantidade de departamentos\n",
    "df_transacoes['Departamento'].nunique()"
   ]
  },
  {
   "cell_type": "code",
   "execution_count": 44,
   "id": "bd5ff233",
   "metadata": {},
   "outputs": [
    {
     "data": {
      "text/plain": [
       "160"
      ]
     },
     "execution_count": 44,
     "metadata": {},
     "output_type": "execute_result"
    }
   ],
   "source": [
    "# Quantidade de ID departamentos\n",
    "df_transacoes['ID_Departamento'].nunique()"
   ]
  },
  {
   "cell_type": "code",
   "execution_count": 47,
   "id": "331db7d0",
   "metadata": {},
   "outputs": [
    {
     "data": {
      "text/plain": [
       "2064"
      ]
     },
     "execution_count": 47,
     "metadata": {},
     "output_type": "execute_result"
    }
   ],
   "source": [
    "# Quantidade de Transacoes\n",
    "df_transacoes['ID_Transacao'].nunique()"
   ]
  },
  {
   "cell_type": "code",
   "execution_count": 53,
   "id": "f1423841",
   "metadata": {},
   "outputs": [
    {
     "data": {
      "text/plain": [
       "False"
      ]
     },
     "execution_count": 53,
     "metadata": {},
     "output_type": "execute_result"
    }
   ],
   "source": [
    "# Um departamento aparece mais de 1x em uma transação?\n",
    "len(df_transacoes.groupby(['ID_Transacao', 'Departamento'])) != len(df_transacoes)"
   ]
  },
  {
   "cell_type": "code",
   "execution_count": 56,
   "id": "c2a26009",
   "metadata": {},
   "outputs": [
    {
     "data": {
      "text/plain": [
       "149"
      ]
     },
     "execution_count": 56,
     "metadata": {},
     "output_type": "execute_result"
    }
   ],
   "source": [
    "# Checar se há quantidades negativas e 0\n",
    "len(df_transacoes[df_transacoes['Qtde_Vendida'] <= 0])"
   ]
  },
  {
   "cell_type": "code",
   "execution_count": 57,
   "id": "9c0f9588",
   "metadata": {},
   "outputs": [],
   "source": [
    "# Remover as linhas com quantidade menor ou igual a 0\n",
    "df_transacoes = df_transacoes[df_transacoes['Qtde_Vendida'] > 0]"
   ]
  },
  {
   "cell_type": "code",
   "execution_count": 59,
   "id": "a1bdca4c",
   "metadata": {},
   "outputs": [
    {
     "data": {
      "text/plain": [
       "(156, 156, 1943)"
      ]
     },
     "execution_count": 59,
     "metadata": {},
     "output_type": "execute_result"
    }
   ],
   "source": [
    "# Quantidade de departamentos, ID departamentos, Transacoes\n",
    "df_transacoes['Departamento'].nunique(), df_transacoes['ID_Departamento'].nunique(), df_transacoes['ID_Transacao'].nunique()"
   ]
  }
 ],
 "metadata": {
  "kernelspec": {
   "display_name": "ia-para-produtos-apriori-UGwjcUa0",
   "language": "python",
   "name": "python3"
  },
  "language_info": {
   "codemirror_mode": {
    "name": "ipython",
    "version": 3
   },
   "file_extension": ".py",
   "mimetype": "text/x-python",
   "name": "python",
   "nbconvert_exporter": "python",
   "pygments_lexer": "ipython3",
   "version": "3.12.6"
  }
 },
 "nbformat": 4,
 "nbformat_minor": 5
}
