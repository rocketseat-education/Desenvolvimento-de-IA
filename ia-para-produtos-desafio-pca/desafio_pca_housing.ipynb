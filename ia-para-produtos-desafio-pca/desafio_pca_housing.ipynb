{
 "cells": [
  {
   "cell_type": "markdown",
   "id": "cb0fa97f",
   "metadata": {},
   "source": [
    "# Desafio de Redução de Dimensionalidade com PCA\n",
    "\n",
    "Utilizando o dataset [`housing.csv`](./housing.csv), que contém informações sobre casas e seus respectivos preços, seu objetivo é aplicar o algoritmo **PCA (Análise de Componentes Principais)** para explorar e reduzir a dimensionalidade dos dados.\n",
    "\n",
    "## Objetivo\n",
    "\n",
    "- Reduzir a dimensionalidade do dataset mantendo o máximo de informação possível.\n",
    "- Facilitar a visualização e análise dos dados.\n",
    "- Calcular a erro para reconstrução do dataset\n",
    "\n",
    "## Colunas do Dataset\n",
    "\n",
    "- **price**: Preço da casa.\n",
    "- **area**: Área construída da casa (em pés quadrados).\n",
    "- **bedrooms**: Número de quartos.\n",
    "- **bathrooms**: Número de banheiros.\n",
    "- **stories**: Número de andares (pavimentos).\n",
    "- **mainroad**: Acesso à rua principal (`yes` = possui acesso, `no` = não possui).\n",
    "- **guestroom**: Possui quarto de hóspedes (`yes` = possui, `no` = não possui).\n",
    "- **basement**: Possui porão (`yes` = possui, `no` = não possui).\n",
    "- **hotwaterheating**: Possui aquecimento de água (`yes` = possui, `no` = não possui).\n",
    "- **airconditioning**: Possui ar-condicionado (`yes` = possui, `no` = não possui).\n",
    "- **parking**: Número de vagas de estacionamento.\n",
    "- **prefarea**: Localizada em área preferencial (`yes` = sim, `no` = não).\n",
    "- **furnishingstatus**: Status de mobília da casa:\n",
    "    - **furnished**: Casa totalmente mobiliada, pronta para morar, incluindo móveis essenciais como camas, sofás, armários, eletrodomésticos, etc.\n",
    "    - **semi-furnished**: Casa parcialmente mobiliada, com alguns móveis ou itens básicos, mas não completamente equipada.\n",
    "    - **unfurnished**: Casa sem mobília, entregue vazia, sem móveis ou eletrodomésticos.\n",
    "\n",
    "**Dica:** O PCA é uma ferramenta poderosa para eliminar redundâncias, facilitar a visualização e destacar os fatores mais relevantes em datasets com muitos atributos correlacionados.\n",
    "\n",
    "Boa sorte! 🚀"
   ]
  },
  {
   "cell_type": "markdown",
   "id": "b7dc5a40",
   "metadata": {},
   "source": [
    "# Importações"
   ]
  },
  {
   "cell_type": "code",
   "execution_count": 30,
   "id": "c526b429",
   "metadata": {},
   "outputs": [],
   "source": [
    "# EDA e Visualizacao de Dados\n",
    "import pandas as pd\n",
    "import plotly.express as px\n",
    "import seaborn as sns\n",
    "import matplotlib.pyplot as plt\n",
    "\n",
    "# ML\n",
    "from sklearn.decomposition import PCA\n",
    "from sklearn.metrics import mean_squared_error\n",
    "from sklearn.preprocessing import StandardScaler, OneHotEncoder\n",
    "from sklearn.compose import ColumnTransformer\n",
    "import numpy as np\n"
   ]
  },
  {
   "cell_type": "code",
   "execution_count": 31,
   "id": "acd400c3",
   "metadata": {},
   "outputs": [],
   "source": [
    "df = pd.read_csv('datasets/housing.csv')"
   ]
  },
  {
   "cell_type": "markdown",
   "id": "11d3c6fb",
   "metadata": {},
   "source": [
    "# EDA"
   ]
  },
  {
   "cell_type": "code",
   "execution_count": 32,
   "id": "0a0fc613",
   "metadata": {},
   "outputs": [
    {
     "name": "stdout",
     "output_type": "stream",
     "text": [
      "<class 'pandas.core.frame.DataFrame'>\n",
      "RangeIndex: 545 entries, 0 to 544\n",
      "Data columns (total 13 columns):\n",
      " #   Column            Non-Null Count  Dtype \n",
      "---  ------            --------------  ----- \n",
      " 0   price             545 non-null    int64 \n",
      " 1   area              545 non-null    int64 \n",
      " 2   bedrooms          545 non-null    int64 \n",
      " 3   bathrooms         545 non-null    int64 \n",
      " 4   stories           545 non-null    int64 \n",
      " 5   mainroad          545 non-null    object\n",
      " 6   guestroom         545 non-null    object\n",
      " 7   basement          545 non-null    object\n",
      " 8   hotwaterheating   545 non-null    object\n",
      " 9   airconditioning   545 non-null    object\n",
      " 10  parking           545 non-null    int64 \n",
      " 11  prefarea          545 non-null    object\n",
      " 12  furnishingstatus  545 non-null    object\n",
      "dtypes: int64(6), object(7)\n",
      "memory usage: 55.5+ KB\n"
     ]
    }
   ],
   "source": [
    "df.info()"
   ]
  },
  {
   "cell_type": "code",
   "execution_count": 33,
   "id": "49b15a27",
   "metadata": {},
   "outputs": [
    {
     "data": {
      "text/html": [
       "<div>\n",
       "<style scoped>\n",
       "    .dataframe tbody tr th:only-of-type {\n",
       "        vertical-align: middle;\n",
       "    }\n",
       "\n",
       "    .dataframe tbody tr th {\n",
       "        vertical-align: top;\n",
       "    }\n",
       "\n",
       "    .dataframe thead th {\n",
       "        text-align: right;\n",
       "    }\n",
       "</style>\n",
       "<table border=\"1\" class=\"dataframe\">\n",
       "  <thead>\n",
       "    <tr style=\"text-align: right;\">\n",
       "      <th></th>\n",
       "      <th>price</th>\n",
       "      <th>area</th>\n",
       "      <th>bedrooms</th>\n",
       "      <th>bathrooms</th>\n",
       "      <th>stories</th>\n",
       "      <th>parking</th>\n",
       "    </tr>\n",
       "  </thead>\n",
       "  <tbody>\n",
       "    <tr>\n",
       "      <th>count</th>\n",
       "      <td>5.450000e+02</td>\n",
       "      <td>545.000000</td>\n",
       "      <td>545.000000</td>\n",
       "      <td>545.000000</td>\n",
       "      <td>545.000000</td>\n",
       "      <td>545.000000</td>\n",
       "    </tr>\n",
       "    <tr>\n",
       "      <th>mean</th>\n",
       "      <td>4.766729e+06</td>\n",
       "      <td>5150.541284</td>\n",
       "      <td>2.965138</td>\n",
       "      <td>1.286239</td>\n",
       "      <td>1.805505</td>\n",
       "      <td>0.693578</td>\n",
       "    </tr>\n",
       "    <tr>\n",
       "      <th>std</th>\n",
       "      <td>1.870440e+06</td>\n",
       "      <td>2170.141023</td>\n",
       "      <td>0.738064</td>\n",
       "      <td>0.502470</td>\n",
       "      <td>0.867492</td>\n",
       "      <td>0.861586</td>\n",
       "    </tr>\n",
       "    <tr>\n",
       "      <th>min</th>\n",
       "      <td>1.750000e+06</td>\n",
       "      <td>1650.000000</td>\n",
       "      <td>1.000000</td>\n",
       "      <td>1.000000</td>\n",
       "      <td>1.000000</td>\n",
       "      <td>0.000000</td>\n",
       "    </tr>\n",
       "    <tr>\n",
       "      <th>25%</th>\n",
       "      <td>3.430000e+06</td>\n",
       "      <td>3600.000000</td>\n",
       "      <td>2.000000</td>\n",
       "      <td>1.000000</td>\n",
       "      <td>1.000000</td>\n",
       "      <td>0.000000</td>\n",
       "    </tr>\n",
       "    <tr>\n",
       "      <th>50%</th>\n",
       "      <td>4.340000e+06</td>\n",
       "      <td>4600.000000</td>\n",
       "      <td>3.000000</td>\n",
       "      <td>1.000000</td>\n",
       "      <td>2.000000</td>\n",
       "      <td>0.000000</td>\n",
       "    </tr>\n",
       "    <tr>\n",
       "      <th>75%</th>\n",
       "      <td>5.740000e+06</td>\n",
       "      <td>6360.000000</td>\n",
       "      <td>3.000000</td>\n",
       "      <td>2.000000</td>\n",
       "      <td>2.000000</td>\n",
       "      <td>1.000000</td>\n",
       "    </tr>\n",
       "    <tr>\n",
       "      <th>max</th>\n",
       "      <td>1.330000e+07</td>\n",
       "      <td>16200.000000</td>\n",
       "      <td>6.000000</td>\n",
       "      <td>4.000000</td>\n",
       "      <td>4.000000</td>\n",
       "      <td>3.000000</td>\n",
       "    </tr>\n",
       "  </tbody>\n",
       "</table>\n",
       "</div>"
      ],
      "text/plain": [
       "              price          area    bedrooms   bathrooms     stories  \\\n",
       "count  5.450000e+02    545.000000  545.000000  545.000000  545.000000   \n",
       "mean   4.766729e+06   5150.541284    2.965138    1.286239    1.805505   \n",
       "std    1.870440e+06   2170.141023    0.738064    0.502470    0.867492   \n",
       "min    1.750000e+06   1650.000000    1.000000    1.000000    1.000000   \n",
       "25%    3.430000e+06   3600.000000    2.000000    1.000000    1.000000   \n",
       "50%    4.340000e+06   4600.000000    3.000000    1.000000    2.000000   \n",
       "75%    5.740000e+06   6360.000000    3.000000    2.000000    2.000000   \n",
       "max    1.330000e+07  16200.000000    6.000000    4.000000    4.000000   \n",
       "\n",
       "          parking  \n",
       "count  545.000000  \n",
       "mean     0.693578  \n",
       "std      0.861586  \n",
       "min      0.000000  \n",
       "25%      0.000000  \n",
       "50%      0.000000  \n",
       "75%      1.000000  \n",
       "max      3.000000  "
      ]
     },
     "execution_count": 33,
     "metadata": {},
     "output_type": "execute_result"
    }
   ],
   "source": [
    "df.describe()"
   ]
  },
  {
   "cell_type": "code",
   "execution_count": 34,
   "id": "ad468b32",
   "metadata": {},
   "outputs": [
    {
     "data": {
      "text/html": [
       "<div>\n",
       "<style scoped>\n",
       "    .dataframe tbody tr th:only-of-type {\n",
       "        vertical-align: middle;\n",
       "    }\n",
       "\n",
       "    .dataframe tbody tr th {\n",
       "        vertical-align: top;\n",
       "    }\n",
       "\n",
       "    .dataframe thead th {\n",
       "        text-align: right;\n",
       "    }\n",
       "</style>\n",
       "<table border=\"1\" class=\"dataframe\">\n",
       "  <thead>\n",
       "    <tr style=\"text-align: right;\">\n",
       "      <th></th>\n",
       "      <th>price</th>\n",
       "      <th>area</th>\n",
       "      <th>bedrooms</th>\n",
       "      <th>bathrooms</th>\n",
       "      <th>stories</th>\n",
       "      <th>mainroad</th>\n",
       "      <th>guestroom</th>\n",
       "      <th>basement</th>\n",
       "      <th>hotwaterheating</th>\n",
       "      <th>airconditioning</th>\n",
       "      <th>parking</th>\n",
       "      <th>prefarea</th>\n",
       "      <th>furnishingstatus</th>\n",
       "    </tr>\n",
       "  </thead>\n",
       "  <tbody>\n",
       "    <tr>\n",
       "      <th>0</th>\n",
       "      <td>13300000</td>\n",
       "      <td>7420</td>\n",
       "      <td>4</td>\n",
       "      <td>2</td>\n",
       "      <td>3</td>\n",
       "      <td>yes</td>\n",
       "      <td>no</td>\n",
       "      <td>no</td>\n",
       "      <td>no</td>\n",
       "      <td>yes</td>\n",
       "      <td>2</td>\n",
       "      <td>yes</td>\n",
       "      <td>furnished</td>\n",
       "    </tr>\n",
       "    <tr>\n",
       "      <th>1</th>\n",
       "      <td>12250000</td>\n",
       "      <td>8960</td>\n",
       "      <td>4</td>\n",
       "      <td>4</td>\n",
       "      <td>4</td>\n",
       "      <td>yes</td>\n",
       "      <td>no</td>\n",
       "      <td>no</td>\n",
       "      <td>no</td>\n",
       "      <td>yes</td>\n",
       "      <td>3</td>\n",
       "      <td>no</td>\n",
       "      <td>furnished</td>\n",
       "    </tr>\n",
       "    <tr>\n",
       "      <th>2</th>\n",
       "      <td>12250000</td>\n",
       "      <td>9960</td>\n",
       "      <td>3</td>\n",
       "      <td>2</td>\n",
       "      <td>2</td>\n",
       "      <td>yes</td>\n",
       "      <td>no</td>\n",
       "      <td>yes</td>\n",
       "      <td>no</td>\n",
       "      <td>no</td>\n",
       "      <td>2</td>\n",
       "      <td>yes</td>\n",
       "      <td>semi-furnished</td>\n",
       "    </tr>\n",
       "    <tr>\n",
       "      <th>3</th>\n",
       "      <td>12215000</td>\n",
       "      <td>7500</td>\n",
       "      <td>4</td>\n",
       "      <td>2</td>\n",
       "      <td>2</td>\n",
       "      <td>yes</td>\n",
       "      <td>no</td>\n",
       "      <td>yes</td>\n",
       "      <td>no</td>\n",
       "      <td>yes</td>\n",
       "      <td>3</td>\n",
       "      <td>yes</td>\n",
       "      <td>furnished</td>\n",
       "    </tr>\n",
       "    <tr>\n",
       "      <th>4</th>\n",
       "      <td>11410000</td>\n",
       "      <td>7420</td>\n",
       "      <td>4</td>\n",
       "      <td>1</td>\n",
       "      <td>2</td>\n",
       "      <td>yes</td>\n",
       "      <td>yes</td>\n",
       "      <td>yes</td>\n",
       "      <td>no</td>\n",
       "      <td>yes</td>\n",
       "      <td>2</td>\n",
       "      <td>no</td>\n",
       "      <td>furnished</td>\n",
       "    </tr>\n",
       "    <tr>\n",
       "      <th>5</th>\n",
       "      <td>10850000</td>\n",
       "      <td>7500</td>\n",
       "      <td>3</td>\n",
       "      <td>3</td>\n",
       "      <td>1</td>\n",
       "      <td>yes</td>\n",
       "      <td>no</td>\n",
       "      <td>yes</td>\n",
       "      <td>no</td>\n",
       "      <td>yes</td>\n",
       "      <td>2</td>\n",
       "      <td>yes</td>\n",
       "      <td>semi-furnished</td>\n",
       "    </tr>\n",
       "    <tr>\n",
       "      <th>6</th>\n",
       "      <td>10150000</td>\n",
       "      <td>8580</td>\n",
       "      <td>4</td>\n",
       "      <td>3</td>\n",
       "      <td>4</td>\n",
       "      <td>yes</td>\n",
       "      <td>no</td>\n",
       "      <td>no</td>\n",
       "      <td>no</td>\n",
       "      <td>yes</td>\n",
       "      <td>2</td>\n",
       "      <td>yes</td>\n",
       "      <td>semi-furnished</td>\n",
       "    </tr>\n",
       "    <tr>\n",
       "      <th>7</th>\n",
       "      <td>10150000</td>\n",
       "      <td>16200</td>\n",
       "      <td>5</td>\n",
       "      <td>3</td>\n",
       "      <td>2</td>\n",
       "      <td>yes</td>\n",
       "      <td>no</td>\n",
       "      <td>no</td>\n",
       "      <td>no</td>\n",
       "      <td>no</td>\n",
       "      <td>0</td>\n",
       "      <td>no</td>\n",
       "      <td>unfurnished</td>\n",
       "    </tr>\n",
       "    <tr>\n",
       "      <th>8</th>\n",
       "      <td>9870000</td>\n",
       "      <td>8100</td>\n",
       "      <td>4</td>\n",
       "      <td>1</td>\n",
       "      <td>2</td>\n",
       "      <td>yes</td>\n",
       "      <td>yes</td>\n",
       "      <td>yes</td>\n",
       "      <td>no</td>\n",
       "      <td>yes</td>\n",
       "      <td>2</td>\n",
       "      <td>yes</td>\n",
       "      <td>furnished</td>\n",
       "    </tr>\n",
       "    <tr>\n",
       "      <th>9</th>\n",
       "      <td>9800000</td>\n",
       "      <td>5750</td>\n",
       "      <td>3</td>\n",
       "      <td>2</td>\n",
       "      <td>4</td>\n",
       "      <td>yes</td>\n",
       "      <td>yes</td>\n",
       "      <td>no</td>\n",
       "      <td>no</td>\n",
       "      <td>yes</td>\n",
       "      <td>1</td>\n",
       "      <td>yes</td>\n",
       "      <td>unfurnished</td>\n",
       "    </tr>\n",
       "  </tbody>\n",
       "</table>\n",
       "</div>"
      ],
      "text/plain": [
       "      price   area  bedrooms  bathrooms  stories mainroad guestroom basement  \\\n",
       "0  13300000   7420         4          2        3      yes        no       no   \n",
       "1  12250000   8960         4          4        4      yes        no       no   \n",
       "2  12250000   9960         3          2        2      yes        no      yes   \n",
       "3  12215000   7500         4          2        2      yes        no      yes   \n",
       "4  11410000   7420         4          1        2      yes       yes      yes   \n",
       "5  10850000   7500         3          3        1      yes        no      yes   \n",
       "6  10150000   8580         4          3        4      yes        no       no   \n",
       "7  10150000  16200         5          3        2      yes        no       no   \n",
       "8   9870000   8100         4          1        2      yes       yes      yes   \n",
       "9   9800000   5750         3          2        4      yes       yes       no   \n",
       "\n",
       "  hotwaterheating airconditioning  parking prefarea furnishingstatus  \n",
       "0              no             yes        2      yes        furnished  \n",
       "1              no             yes        3       no        furnished  \n",
       "2              no              no        2      yes   semi-furnished  \n",
       "3              no             yes        3      yes        furnished  \n",
       "4              no             yes        2       no        furnished  \n",
       "5              no             yes        2      yes   semi-furnished  \n",
       "6              no             yes        2      yes   semi-furnished  \n",
       "7              no              no        0       no      unfurnished  \n",
       "8              no             yes        2      yes        furnished  \n",
       "9              no             yes        1      yes      unfurnished  "
      ]
     },
     "execution_count": 34,
     "metadata": {},
     "output_type": "execute_result"
    }
   ],
   "source": [
    "df.head(10)"
   ]
  },
  {
   "cell_type": "markdown",
   "id": "e764823e",
   "metadata": {},
   "source": [
    "## Análise Univariada"
   ]
  },
  {
   "cell_type": "code",
   "execution_count": 35,
   "id": "553e194f",
   "metadata": {},
   "outputs": [
    {
     "data": {
      "application/vnd.plotly.v1+json": {
       "config": {
        "plotlyServerURL": "https://plot.ly"
       },
       "data": [
        {
         "alignmentgroup": "True",
         "hovertemplate": "furnishingstatus=%{x}<br>value=%{y}<extra></extra>",
         "legendgroup": "semi-furnished",
         "marker": {
          "color": "#636efa",
          "pattern": {
           "shape": ""
          }
         },
         "name": "semi-furnished",
         "offsetgroup": "semi-furnished",
         "orientation": "v",
         "showlegend": true,
         "textposition": "auto",
         "type": "bar",
         "x": [
          "semi-furnished"
         ],
         "xaxis": "x",
         "y": [
          41.65137614678899
         ],
         "yaxis": "y"
        },
        {
         "alignmentgroup": "True",
         "hovertemplate": "furnishingstatus=%{x}<br>value=%{y}<extra></extra>",
         "legendgroup": "unfurnished",
         "marker": {
          "color": "#EF553B",
          "pattern": {
           "shape": ""
          }
         },
         "name": "unfurnished",
         "offsetgroup": "unfurnished",
         "orientation": "v",
         "showlegend": true,
         "textposition": "auto",
         "type": "bar",
         "x": [
          "unfurnished"
         ],
         "xaxis": "x",
         "y": [
          32.6605504587156
         ],
         "yaxis": "y"
        },
        {
         "alignmentgroup": "True",
         "hovertemplate": "furnishingstatus=%{x}<br>value=%{y}<extra></extra>",
         "legendgroup": "furnished",
         "marker": {
          "color": "#00cc96",
          "pattern": {
           "shape": ""
          }
         },
         "name": "furnished",
         "offsetgroup": "furnished",
         "orientation": "v",
         "showlegend": true,
         "textposition": "auto",
         "type": "bar",
         "x": [
          "furnished"
         ],
         "xaxis": "x",
         "y": [
          25.688073394495415
         ],
         "yaxis": "y"
        }
       ],
       "layout": {
        "barmode": "relative",
        "legend": {
         "title": {
          "text": "furnishingstatus"
         },
         "tracegroupgap": 0
        },
        "margin": {
         "t": 60
        },
        "template": {
         "data": {
          "bar": [
           {
            "error_x": {
             "color": "#2a3f5f"
            },
            "error_y": {
             "color": "#2a3f5f"
            },
            "marker": {
             "line": {
              "color": "#E5ECF6",
              "width": 0.5
             },
             "pattern": {
              "fillmode": "overlay",
              "size": 10,
              "solidity": 0.2
             }
            },
            "type": "bar"
           }
          ],
          "barpolar": [
           {
            "marker": {
             "line": {
              "color": "#E5ECF6",
              "width": 0.5
             },
             "pattern": {
              "fillmode": "overlay",
              "size": 10,
              "solidity": 0.2
             }
            },
            "type": "barpolar"
           }
          ],
          "carpet": [
           {
            "aaxis": {
             "endlinecolor": "#2a3f5f",
             "gridcolor": "white",
             "linecolor": "white",
             "minorgridcolor": "white",
             "startlinecolor": "#2a3f5f"
            },
            "baxis": {
             "endlinecolor": "#2a3f5f",
             "gridcolor": "white",
             "linecolor": "white",
             "minorgridcolor": "white",
             "startlinecolor": "#2a3f5f"
            },
            "type": "carpet"
           }
          ],
          "choropleth": [
           {
            "colorbar": {
             "outlinewidth": 0,
             "ticks": ""
            },
            "type": "choropleth"
           }
          ],
          "contour": [
           {
            "colorbar": {
             "outlinewidth": 0,
             "ticks": ""
            },
            "colorscale": [
             [
              0,
              "#0d0887"
             ],
             [
              0.1111111111111111,
              "#46039f"
             ],
             [
              0.2222222222222222,
              "#7201a8"
             ],
             [
              0.3333333333333333,
              "#9c179e"
             ],
             [
              0.4444444444444444,
              "#bd3786"
             ],
             [
              0.5555555555555556,
              "#d8576b"
             ],
             [
              0.6666666666666666,
              "#ed7953"
             ],
             [
              0.7777777777777778,
              "#fb9f3a"
             ],
             [
              0.8888888888888888,
              "#fdca26"
             ],
             [
              1,
              "#f0f921"
             ]
            ],
            "type": "contour"
           }
          ],
          "contourcarpet": [
           {
            "colorbar": {
             "outlinewidth": 0,
             "ticks": ""
            },
            "type": "contourcarpet"
           }
          ],
          "heatmap": [
           {
            "colorbar": {
             "outlinewidth": 0,
             "ticks": ""
            },
            "colorscale": [
             [
              0,
              "#0d0887"
             ],
             [
              0.1111111111111111,
              "#46039f"
             ],
             [
              0.2222222222222222,
              "#7201a8"
             ],
             [
              0.3333333333333333,
              "#9c179e"
             ],
             [
              0.4444444444444444,
              "#bd3786"
             ],
             [
              0.5555555555555556,
              "#d8576b"
             ],
             [
              0.6666666666666666,
              "#ed7953"
             ],
             [
              0.7777777777777778,
              "#fb9f3a"
             ],
             [
              0.8888888888888888,
              "#fdca26"
             ],
             [
              1,
              "#f0f921"
             ]
            ],
            "type": "heatmap"
           }
          ],
          "heatmapgl": [
           {
            "colorbar": {
             "outlinewidth": 0,
             "ticks": ""
            },
            "colorscale": [
             [
              0,
              "#0d0887"
             ],
             [
              0.1111111111111111,
              "#46039f"
             ],
             [
              0.2222222222222222,
              "#7201a8"
             ],
             [
              0.3333333333333333,
              "#9c179e"
             ],
             [
              0.4444444444444444,
              "#bd3786"
             ],
             [
              0.5555555555555556,
              "#d8576b"
             ],
             [
              0.6666666666666666,
              "#ed7953"
             ],
             [
              0.7777777777777778,
              "#fb9f3a"
             ],
             [
              0.8888888888888888,
              "#fdca26"
             ],
             [
              1,
              "#f0f921"
             ]
            ],
            "type": "heatmapgl"
           }
          ],
          "histogram": [
           {
            "marker": {
             "pattern": {
              "fillmode": "overlay",
              "size": 10,
              "solidity": 0.2
             }
            },
            "type": "histogram"
           }
          ],
          "histogram2d": [
           {
            "colorbar": {
             "outlinewidth": 0,
             "ticks": ""
            },
            "colorscale": [
             [
              0,
              "#0d0887"
             ],
             [
              0.1111111111111111,
              "#46039f"
             ],
             [
              0.2222222222222222,
              "#7201a8"
             ],
             [
              0.3333333333333333,
              "#9c179e"
             ],
             [
              0.4444444444444444,
              "#bd3786"
             ],
             [
              0.5555555555555556,
              "#d8576b"
             ],
             [
              0.6666666666666666,
              "#ed7953"
             ],
             [
              0.7777777777777778,
              "#fb9f3a"
             ],
             [
              0.8888888888888888,
              "#fdca26"
             ],
             [
              1,
              "#f0f921"
             ]
            ],
            "type": "histogram2d"
           }
          ],
          "histogram2dcontour": [
           {
            "colorbar": {
             "outlinewidth": 0,
             "ticks": ""
            },
            "colorscale": [
             [
              0,
              "#0d0887"
             ],
             [
              0.1111111111111111,
              "#46039f"
             ],
             [
              0.2222222222222222,
              "#7201a8"
             ],
             [
              0.3333333333333333,
              "#9c179e"
             ],
             [
              0.4444444444444444,
              "#bd3786"
             ],
             [
              0.5555555555555556,
              "#d8576b"
             ],
             [
              0.6666666666666666,
              "#ed7953"
             ],
             [
              0.7777777777777778,
              "#fb9f3a"
             ],
             [
              0.8888888888888888,
              "#fdca26"
             ],
             [
              1,
              "#f0f921"
             ]
            ],
            "type": "histogram2dcontour"
           }
          ],
          "mesh3d": [
           {
            "colorbar": {
             "outlinewidth": 0,
             "ticks": ""
            },
            "type": "mesh3d"
           }
          ],
          "parcoords": [
           {
            "line": {
             "colorbar": {
              "outlinewidth": 0,
              "ticks": ""
             }
            },
            "type": "parcoords"
           }
          ],
          "pie": [
           {
            "automargin": true,
            "type": "pie"
           }
          ],
          "scatter": [
           {
            "fillpattern": {
             "fillmode": "overlay",
             "size": 10,
             "solidity": 0.2
            },
            "type": "scatter"
           }
          ],
          "scatter3d": [
           {
            "line": {
             "colorbar": {
              "outlinewidth": 0,
              "ticks": ""
             }
            },
            "marker": {
             "colorbar": {
              "outlinewidth": 0,
              "ticks": ""
             }
            },
            "type": "scatter3d"
           }
          ],
          "scattercarpet": [
           {
            "marker": {
             "colorbar": {
              "outlinewidth": 0,
              "ticks": ""
             }
            },
            "type": "scattercarpet"
           }
          ],
          "scattergeo": [
           {
            "marker": {
             "colorbar": {
              "outlinewidth": 0,
              "ticks": ""
             }
            },
            "type": "scattergeo"
           }
          ],
          "scattergl": [
           {
            "marker": {
             "colorbar": {
              "outlinewidth": 0,
              "ticks": ""
             }
            },
            "type": "scattergl"
           }
          ],
          "scattermapbox": [
           {
            "marker": {
             "colorbar": {
              "outlinewidth": 0,
              "ticks": ""
             }
            },
            "type": "scattermapbox"
           }
          ],
          "scatterpolar": [
           {
            "marker": {
             "colorbar": {
              "outlinewidth": 0,
              "ticks": ""
             }
            },
            "type": "scatterpolar"
           }
          ],
          "scatterpolargl": [
           {
            "marker": {
             "colorbar": {
              "outlinewidth": 0,
              "ticks": ""
             }
            },
            "type": "scatterpolargl"
           }
          ],
          "scatterternary": [
           {
            "marker": {
             "colorbar": {
              "outlinewidth": 0,
              "ticks": ""
             }
            },
            "type": "scatterternary"
           }
          ],
          "surface": [
           {
            "colorbar": {
             "outlinewidth": 0,
             "ticks": ""
            },
            "colorscale": [
             [
              0,
              "#0d0887"
             ],
             [
              0.1111111111111111,
              "#46039f"
             ],
             [
              0.2222222222222222,
              "#7201a8"
             ],
             [
              0.3333333333333333,
              "#9c179e"
             ],
             [
              0.4444444444444444,
              "#bd3786"
             ],
             [
              0.5555555555555556,
              "#d8576b"
             ],
             [
              0.6666666666666666,
              "#ed7953"
             ],
             [
              0.7777777777777778,
              "#fb9f3a"
             ],
             [
              0.8888888888888888,
              "#fdca26"
             ],
             [
              1,
              "#f0f921"
             ]
            ],
            "type": "surface"
           }
          ],
          "table": [
           {
            "cells": {
             "fill": {
              "color": "#EBF0F8"
             },
             "line": {
              "color": "white"
             }
            },
            "header": {
             "fill": {
              "color": "#C8D4E3"
             },
             "line": {
              "color": "white"
             }
            },
            "type": "table"
           }
          ]
         },
         "layout": {
          "annotationdefaults": {
           "arrowcolor": "#2a3f5f",
           "arrowhead": 0,
           "arrowwidth": 1
          },
          "autotypenumbers": "strict",
          "coloraxis": {
           "colorbar": {
            "outlinewidth": 0,
            "ticks": ""
           }
          },
          "colorscale": {
           "diverging": [
            [
             0,
             "#8e0152"
            ],
            [
             0.1,
             "#c51b7d"
            ],
            [
             0.2,
             "#de77ae"
            ],
            [
             0.3,
             "#f1b6da"
            ],
            [
             0.4,
             "#fde0ef"
            ],
            [
             0.5,
             "#f7f7f7"
            ],
            [
             0.6,
             "#e6f5d0"
            ],
            [
             0.7,
             "#b8e186"
            ],
            [
             0.8,
             "#7fbc41"
            ],
            [
             0.9,
             "#4d9221"
            ],
            [
             1,
             "#276419"
            ]
           ],
           "sequential": [
            [
             0,
             "#0d0887"
            ],
            [
             0.1111111111111111,
             "#46039f"
            ],
            [
             0.2222222222222222,
             "#7201a8"
            ],
            [
             0.3333333333333333,
             "#9c179e"
            ],
            [
             0.4444444444444444,
             "#bd3786"
            ],
            [
             0.5555555555555556,
             "#d8576b"
            ],
            [
             0.6666666666666666,
             "#ed7953"
            ],
            [
             0.7777777777777778,
             "#fb9f3a"
            ],
            [
             0.8888888888888888,
             "#fdca26"
            ],
            [
             1,
             "#f0f921"
            ]
           ],
           "sequentialminus": [
            [
             0,
             "#0d0887"
            ],
            [
             0.1111111111111111,
             "#46039f"
            ],
            [
             0.2222222222222222,
             "#7201a8"
            ],
            [
             0.3333333333333333,
             "#9c179e"
            ],
            [
             0.4444444444444444,
             "#bd3786"
            ],
            [
             0.5555555555555556,
             "#d8576b"
            ],
            [
             0.6666666666666666,
             "#ed7953"
            ],
            [
             0.7777777777777778,
             "#fb9f3a"
            ],
            [
             0.8888888888888888,
             "#fdca26"
            ],
            [
             1,
             "#f0f921"
            ]
           ]
          },
          "colorway": [
           "#636efa",
           "#EF553B",
           "#00cc96",
           "#ab63fa",
           "#FFA15A",
           "#19d3f3",
           "#FF6692",
           "#B6E880",
           "#FF97FF",
           "#FECB52"
          ],
          "font": {
           "color": "#2a3f5f"
          },
          "geo": {
           "bgcolor": "white",
           "lakecolor": "white",
           "landcolor": "#E5ECF6",
           "showlakes": true,
           "showland": true,
           "subunitcolor": "white"
          },
          "hoverlabel": {
           "align": "left"
          },
          "hovermode": "closest",
          "mapbox": {
           "style": "light"
          },
          "paper_bgcolor": "white",
          "plot_bgcolor": "#E5ECF6",
          "polar": {
           "angularaxis": {
            "gridcolor": "white",
            "linecolor": "white",
            "ticks": ""
           },
           "bgcolor": "#E5ECF6",
           "radialaxis": {
            "gridcolor": "white",
            "linecolor": "white",
            "ticks": ""
           }
          },
          "scene": {
           "xaxis": {
            "backgroundcolor": "#E5ECF6",
            "gridcolor": "white",
            "gridwidth": 2,
            "linecolor": "white",
            "showbackground": true,
            "ticks": "",
            "zerolinecolor": "white"
           },
           "yaxis": {
            "backgroundcolor": "#E5ECF6",
            "gridcolor": "white",
            "gridwidth": 2,
            "linecolor": "white",
            "showbackground": true,
            "ticks": "",
            "zerolinecolor": "white"
           },
           "zaxis": {
            "backgroundcolor": "#E5ECF6",
            "gridcolor": "white",
            "gridwidth": 2,
            "linecolor": "white",
            "showbackground": true,
            "ticks": "",
            "zerolinecolor": "white"
           }
          },
          "shapedefaults": {
           "line": {
            "color": "#2a3f5f"
           }
          },
          "ternary": {
           "aaxis": {
            "gridcolor": "white",
            "linecolor": "white",
            "ticks": ""
           },
           "baxis": {
            "gridcolor": "white",
            "linecolor": "white",
            "ticks": ""
           },
           "bgcolor": "#E5ECF6",
           "caxis": {
            "gridcolor": "white",
            "linecolor": "white",
            "ticks": ""
           }
          },
          "title": {
           "x": 0.05
          },
          "xaxis": {
           "automargin": true,
           "gridcolor": "white",
           "linecolor": "white",
           "ticks": "",
           "title": {
            "standoff": 15
           },
           "zerolinecolor": "white",
           "zerolinewidth": 2
          },
          "yaxis": {
           "automargin": true,
           "gridcolor": "white",
           "linecolor": "white",
           "ticks": "",
           "title": {
            "standoff": 15
           },
           "zerolinecolor": "white",
           "zerolinewidth": 2
          }
         }
        },
        "xaxis": {
         "anchor": "y",
         "categoryarray": [
          "semi-furnished",
          "unfurnished",
          "furnished"
         ],
         "categoryorder": "array",
         "domain": [
          0,
          1
         ],
         "title": {
          "text": "furnishingstatus"
         }
        },
        "yaxis": {
         "anchor": "x",
         "domain": [
          0,
          1
         ],
         "title": {
          "text": "value"
         }
        }
       }
      },
      "text/html": [
       "<div>                            <div id=\"00219d8b-b624-443d-9606-c42a4ab9d1c3\" class=\"plotly-graph-div\" style=\"height:525px; width:100%;\"></div>            <script type=\"text/javascript\">                require([\"plotly\"], function(Plotly) {                    window.PLOTLYENV=window.PLOTLYENV || {};                                    if (document.getElementById(\"00219d8b-b624-443d-9606-c42a4ab9d1c3\")) {                    Plotly.newPlot(                        \"00219d8b-b624-443d-9606-c42a4ab9d1c3\",                        [{\"alignmentgroup\":\"True\",\"hovertemplate\":\"furnishingstatus=%{x}\\u003cbr\\u003evalue=%{y}\\u003cextra\\u003e\\u003c\\u002fextra\\u003e\",\"legendgroup\":\"semi-furnished\",\"marker\":{\"color\":\"#636efa\",\"pattern\":{\"shape\":\"\"}},\"name\":\"semi-furnished\",\"offsetgroup\":\"semi-furnished\",\"orientation\":\"v\",\"showlegend\":true,\"textposition\":\"auto\",\"x\":[\"semi-furnished\"],\"xaxis\":\"x\",\"y\":[41.65137614678899],\"yaxis\":\"y\",\"type\":\"bar\"},{\"alignmentgroup\":\"True\",\"hovertemplate\":\"furnishingstatus=%{x}\\u003cbr\\u003evalue=%{y}\\u003cextra\\u003e\\u003c\\u002fextra\\u003e\",\"legendgroup\":\"unfurnished\",\"marker\":{\"color\":\"#EF553B\",\"pattern\":{\"shape\":\"\"}},\"name\":\"unfurnished\",\"offsetgroup\":\"unfurnished\",\"orientation\":\"v\",\"showlegend\":true,\"textposition\":\"auto\",\"x\":[\"unfurnished\"],\"xaxis\":\"x\",\"y\":[32.6605504587156],\"yaxis\":\"y\",\"type\":\"bar\"},{\"alignmentgroup\":\"True\",\"hovertemplate\":\"furnishingstatus=%{x}\\u003cbr\\u003evalue=%{y}\\u003cextra\\u003e\\u003c\\u002fextra\\u003e\",\"legendgroup\":\"furnished\",\"marker\":{\"color\":\"#00cc96\",\"pattern\":{\"shape\":\"\"}},\"name\":\"furnished\",\"offsetgroup\":\"furnished\",\"orientation\":\"v\",\"showlegend\":true,\"textposition\":\"auto\",\"x\":[\"furnished\"],\"xaxis\":\"x\",\"y\":[25.688073394495415],\"yaxis\":\"y\",\"type\":\"bar\"}],                        {\"template\":{\"data\":{\"histogram2dcontour\":[{\"type\":\"histogram2dcontour\",\"colorbar\":{\"outlinewidth\":0,\"ticks\":\"\"},\"colorscale\":[[0.0,\"#0d0887\"],[0.1111111111111111,\"#46039f\"],[0.2222222222222222,\"#7201a8\"],[0.3333333333333333,\"#9c179e\"],[0.4444444444444444,\"#bd3786\"],[0.5555555555555556,\"#d8576b\"],[0.6666666666666666,\"#ed7953\"],[0.7777777777777778,\"#fb9f3a\"],[0.8888888888888888,\"#fdca26\"],[1.0,\"#f0f921\"]]}],\"choropleth\":[{\"type\":\"choropleth\",\"colorbar\":{\"outlinewidth\":0,\"ticks\":\"\"}}],\"histogram2d\":[{\"type\":\"histogram2d\",\"colorbar\":{\"outlinewidth\":0,\"ticks\":\"\"},\"colorscale\":[[0.0,\"#0d0887\"],[0.1111111111111111,\"#46039f\"],[0.2222222222222222,\"#7201a8\"],[0.3333333333333333,\"#9c179e\"],[0.4444444444444444,\"#bd3786\"],[0.5555555555555556,\"#d8576b\"],[0.6666666666666666,\"#ed7953\"],[0.7777777777777778,\"#fb9f3a\"],[0.8888888888888888,\"#fdca26\"],[1.0,\"#f0f921\"]]}],\"heatmap\":[{\"type\":\"heatmap\",\"colorbar\":{\"outlinewidth\":0,\"ticks\":\"\"},\"colorscale\":[[0.0,\"#0d0887\"],[0.1111111111111111,\"#46039f\"],[0.2222222222222222,\"#7201a8\"],[0.3333333333333333,\"#9c179e\"],[0.4444444444444444,\"#bd3786\"],[0.5555555555555556,\"#d8576b\"],[0.6666666666666666,\"#ed7953\"],[0.7777777777777778,\"#fb9f3a\"],[0.8888888888888888,\"#fdca26\"],[1.0,\"#f0f921\"]]}],\"heatmapgl\":[{\"type\":\"heatmapgl\",\"colorbar\":{\"outlinewidth\":0,\"ticks\":\"\"},\"colorscale\":[[0.0,\"#0d0887\"],[0.1111111111111111,\"#46039f\"],[0.2222222222222222,\"#7201a8\"],[0.3333333333333333,\"#9c179e\"],[0.4444444444444444,\"#bd3786\"],[0.5555555555555556,\"#d8576b\"],[0.6666666666666666,\"#ed7953\"],[0.7777777777777778,\"#fb9f3a\"],[0.8888888888888888,\"#fdca26\"],[1.0,\"#f0f921\"]]}],\"contourcarpet\":[{\"type\":\"contourcarpet\",\"colorbar\":{\"outlinewidth\":0,\"ticks\":\"\"}}],\"contour\":[{\"type\":\"contour\",\"colorbar\":{\"outlinewidth\":0,\"ticks\":\"\"},\"colorscale\":[[0.0,\"#0d0887\"],[0.1111111111111111,\"#46039f\"],[0.2222222222222222,\"#7201a8\"],[0.3333333333333333,\"#9c179e\"],[0.4444444444444444,\"#bd3786\"],[0.5555555555555556,\"#d8576b\"],[0.6666666666666666,\"#ed7953\"],[0.7777777777777778,\"#fb9f3a\"],[0.8888888888888888,\"#fdca26\"],[1.0,\"#f0f921\"]]}],\"surface\":[{\"type\":\"surface\",\"colorbar\":{\"outlinewidth\":0,\"ticks\":\"\"},\"colorscale\":[[0.0,\"#0d0887\"],[0.1111111111111111,\"#46039f\"],[0.2222222222222222,\"#7201a8\"],[0.3333333333333333,\"#9c179e\"],[0.4444444444444444,\"#bd3786\"],[0.5555555555555556,\"#d8576b\"],[0.6666666666666666,\"#ed7953\"],[0.7777777777777778,\"#fb9f3a\"],[0.8888888888888888,\"#fdca26\"],[1.0,\"#f0f921\"]]}],\"mesh3d\":[{\"type\":\"mesh3d\",\"colorbar\":{\"outlinewidth\":0,\"ticks\":\"\"}}],\"scatter\":[{\"fillpattern\":{\"fillmode\":\"overlay\",\"size\":10,\"solidity\":0.2},\"type\":\"scatter\"}],\"parcoords\":[{\"type\":\"parcoords\",\"line\":{\"colorbar\":{\"outlinewidth\":0,\"ticks\":\"\"}}}],\"scatterpolargl\":[{\"type\":\"scatterpolargl\",\"marker\":{\"colorbar\":{\"outlinewidth\":0,\"ticks\":\"\"}}}],\"bar\":[{\"error_x\":{\"color\":\"#2a3f5f\"},\"error_y\":{\"color\":\"#2a3f5f\"},\"marker\":{\"line\":{\"color\":\"#E5ECF6\",\"width\":0.5},\"pattern\":{\"fillmode\":\"overlay\",\"size\":10,\"solidity\":0.2}},\"type\":\"bar\"}],\"scattergeo\":[{\"type\":\"scattergeo\",\"marker\":{\"colorbar\":{\"outlinewidth\":0,\"ticks\":\"\"}}}],\"scatterpolar\":[{\"type\":\"scatterpolar\",\"marker\":{\"colorbar\":{\"outlinewidth\":0,\"ticks\":\"\"}}}],\"histogram\":[{\"marker\":{\"pattern\":{\"fillmode\":\"overlay\",\"size\":10,\"solidity\":0.2}},\"type\":\"histogram\"}],\"scattergl\":[{\"type\":\"scattergl\",\"marker\":{\"colorbar\":{\"outlinewidth\":0,\"ticks\":\"\"}}}],\"scatter3d\":[{\"type\":\"scatter3d\",\"line\":{\"colorbar\":{\"outlinewidth\":0,\"ticks\":\"\"}},\"marker\":{\"colorbar\":{\"outlinewidth\":0,\"ticks\":\"\"}}}],\"scattermapbox\":[{\"type\":\"scattermapbox\",\"marker\":{\"colorbar\":{\"outlinewidth\":0,\"ticks\":\"\"}}}],\"scatterternary\":[{\"type\":\"scatterternary\",\"marker\":{\"colorbar\":{\"outlinewidth\":0,\"ticks\":\"\"}}}],\"scattercarpet\":[{\"type\":\"scattercarpet\",\"marker\":{\"colorbar\":{\"outlinewidth\":0,\"ticks\":\"\"}}}],\"carpet\":[{\"aaxis\":{\"endlinecolor\":\"#2a3f5f\",\"gridcolor\":\"white\",\"linecolor\":\"white\",\"minorgridcolor\":\"white\",\"startlinecolor\":\"#2a3f5f\"},\"baxis\":{\"endlinecolor\":\"#2a3f5f\",\"gridcolor\":\"white\",\"linecolor\":\"white\",\"minorgridcolor\":\"white\",\"startlinecolor\":\"#2a3f5f\"},\"type\":\"carpet\"}],\"table\":[{\"cells\":{\"fill\":{\"color\":\"#EBF0F8\"},\"line\":{\"color\":\"white\"}},\"header\":{\"fill\":{\"color\":\"#C8D4E3\"},\"line\":{\"color\":\"white\"}},\"type\":\"table\"}],\"barpolar\":[{\"marker\":{\"line\":{\"color\":\"#E5ECF6\",\"width\":0.5},\"pattern\":{\"fillmode\":\"overlay\",\"size\":10,\"solidity\":0.2}},\"type\":\"barpolar\"}],\"pie\":[{\"automargin\":true,\"type\":\"pie\"}]},\"layout\":{\"autotypenumbers\":\"strict\",\"colorway\":[\"#636efa\",\"#EF553B\",\"#00cc96\",\"#ab63fa\",\"#FFA15A\",\"#19d3f3\",\"#FF6692\",\"#B6E880\",\"#FF97FF\",\"#FECB52\"],\"font\":{\"color\":\"#2a3f5f\"},\"hovermode\":\"closest\",\"hoverlabel\":{\"align\":\"left\"},\"paper_bgcolor\":\"white\",\"plot_bgcolor\":\"#E5ECF6\",\"polar\":{\"bgcolor\":\"#E5ECF6\",\"angularaxis\":{\"gridcolor\":\"white\",\"linecolor\":\"white\",\"ticks\":\"\"},\"radialaxis\":{\"gridcolor\":\"white\",\"linecolor\":\"white\",\"ticks\":\"\"}},\"ternary\":{\"bgcolor\":\"#E5ECF6\",\"aaxis\":{\"gridcolor\":\"white\",\"linecolor\":\"white\",\"ticks\":\"\"},\"baxis\":{\"gridcolor\":\"white\",\"linecolor\":\"white\",\"ticks\":\"\"},\"caxis\":{\"gridcolor\":\"white\",\"linecolor\":\"white\",\"ticks\":\"\"}},\"coloraxis\":{\"colorbar\":{\"outlinewidth\":0,\"ticks\":\"\"}},\"colorscale\":{\"sequential\":[[0.0,\"#0d0887\"],[0.1111111111111111,\"#46039f\"],[0.2222222222222222,\"#7201a8\"],[0.3333333333333333,\"#9c179e\"],[0.4444444444444444,\"#bd3786\"],[0.5555555555555556,\"#d8576b\"],[0.6666666666666666,\"#ed7953\"],[0.7777777777777778,\"#fb9f3a\"],[0.8888888888888888,\"#fdca26\"],[1.0,\"#f0f921\"]],\"sequentialminus\":[[0.0,\"#0d0887\"],[0.1111111111111111,\"#46039f\"],[0.2222222222222222,\"#7201a8\"],[0.3333333333333333,\"#9c179e\"],[0.4444444444444444,\"#bd3786\"],[0.5555555555555556,\"#d8576b\"],[0.6666666666666666,\"#ed7953\"],[0.7777777777777778,\"#fb9f3a\"],[0.8888888888888888,\"#fdca26\"],[1.0,\"#f0f921\"]],\"diverging\":[[0,\"#8e0152\"],[0.1,\"#c51b7d\"],[0.2,\"#de77ae\"],[0.3,\"#f1b6da\"],[0.4,\"#fde0ef\"],[0.5,\"#f7f7f7\"],[0.6,\"#e6f5d0\"],[0.7,\"#b8e186\"],[0.8,\"#7fbc41\"],[0.9,\"#4d9221\"],[1,\"#276419\"]]},\"xaxis\":{\"gridcolor\":\"white\",\"linecolor\":\"white\",\"ticks\":\"\",\"title\":{\"standoff\":15},\"zerolinecolor\":\"white\",\"automargin\":true,\"zerolinewidth\":2},\"yaxis\":{\"gridcolor\":\"white\",\"linecolor\":\"white\",\"ticks\":\"\",\"title\":{\"standoff\":15},\"zerolinecolor\":\"white\",\"automargin\":true,\"zerolinewidth\":2},\"scene\":{\"xaxis\":{\"backgroundcolor\":\"#E5ECF6\",\"gridcolor\":\"white\",\"linecolor\":\"white\",\"showbackground\":true,\"ticks\":\"\",\"zerolinecolor\":\"white\",\"gridwidth\":2},\"yaxis\":{\"backgroundcolor\":\"#E5ECF6\",\"gridcolor\":\"white\",\"linecolor\":\"white\",\"showbackground\":true,\"ticks\":\"\",\"zerolinecolor\":\"white\",\"gridwidth\":2},\"zaxis\":{\"backgroundcolor\":\"#E5ECF6\",\"gridcolor\":\"white\",\"linecolor\":\"white\",\"showbackground\":true,\"ticks\":\"\",\"zerolinecolor\":\"white\",\"gridwidth\":2}},\"shapedefaults\":{\"line\":{\"color\":\"#2a3f5f\"}},\"annotationdefaults\":{\"arrowcolor\":\"#2a3f5f\",\"arrowhead\":0,\"arrowwidth\":1},\"geo\":{\"bgcolor\":\"white\",\"landcolor\":\"#E5ECF6\",\"subunitcolor\":\"white\",\"showland\":true,\"showlakes\":true,\"lakecolor\":\"white\"},\"title\":{\"x\":0.05},\"mapbox\":{\"style\":\"light\"}}},\"xaxis\":{\"anchor\":\"y\",\"domain\":[0.0,1.0],\"title\":{\"text\":\"furnishingstatus\"},\"categoryorder\":\"array\",\"categoryarray\":[\"semi-furnished\",\"unfurnished\",\"furnished\"]},\"yaxis\":{\"anchor\":\"x\",\"domain\":[0.0,1.0],\"title\":{\"text\":\"value\"}},\"legend\":{\"title\":{\"text\":\"furnishingstatus\"},\"tracegroupgap\":0},\"margin\":{\"t\":60},\"barmode\":\"relative\"},                        {\"responsive\": true}                    ).then(function(){\n",
       "                            \n",
       "var gd = document.getElementById('00219d8b-b624-443d-9606-c42a4ab9d1c3');\n",
       "var x = new MutationObserver(function (mutations, observer) {{\n",
       "        var display = window.getComputedStyle(gd).display;\n",
       "        if (!display || display === 'none') {{\n",
       "            console.log([gd, 'removed!']);\n",
       "            Plotly.purge(gd);\n",
       "            observer.disconnect();\n",
       "        }}\n",
       "}});\n",
       "\n",
       "// Listen for the removal of the full notebook cells\n",
       "var notebookContainer = gd.closest('#notebook-container');\n",
       "if (notebookContainer) {{\n",
       "    x.observe(notebookContainer, {childList: true});\n",
       "}}\n",
       "\n",
       "// Listen for the clearing of the current output cell\n",
       "var outputEl = gd.closest('.output');\n",
       "if (outputEl) {{\n",
       "    x.observe(outputEl, {childList: true});\n",
       "}}\n",
       "\n",
       "                        })                };                });            </script>        </div>"
      ]
     },
     "metadata": {},
     "output_type": "display_data"
    }
   ],
   "source": [
    "# Distribuição da variável furnishingstatus\n",
    "percentual_furnishingstatus = df['furnishingstatus'].value_counts(normalize=True) * 100\n",
    "px.bar(percentual_furnishingstatus, color=percentual_furnishingstatus.index,)"
   ]
  },
  {
   "cell_type": "code",
   "execution_count": 36,
   "id": "e719eccd",
   "metadata": {},
   "outputs": [
    {
     "data": {
      "application/vnd.plotly.v1+json": {
       "config": {
        "plotlyServerURL": "https://plot.ly"
       },
       "data": [
        {
         "alignmentgroup": "True",
         "hovertemplate": "airconditioning=%{x}<br>value=%{y}<extra></extra>",
         "legendgroup": "no",
         "marker": {
          "color": "#636efa",
          "pattern": {
           "shape": ""
          }
         },
         "name": "no",
         "offsetgroup": "no",
         "orientation": "v",
         "showlegend": true,
         "textposition": "auto",
         "type": "bar",
         "x": [
          "no"
         ],
         "xaxis": "x",
         "y": [
          68.44036697247707
         ],
         "yaxis": "y"
        },
        {
         "alignmentgroup": "True",
         "hovertemplate": "airconditioning=%{x}<br>value=%{y}<extra></extra>",
         "legendgroup": "yes",
         "marker": {
          "color": "#EF553B",
          "pattern": {
           "shape": ""
          }
         },
         "name": "yes",
         "offsetgroup": "yes",
         "orientation": "v",
         "showlegend": true,
         "textposition": "auto",
         "type": "bar",
         "x": [
          "yes"
         ],
         "xaxis": "x",
         "y": [
          31.55963302752294
         ],
         "yaxis": "y"
        }
       ],
       "layout": {
        "barmode": "relative",
        "legend": {
         "title": {
          "text": "airconditioning"
         },
         "tracegroupgap": 0
        },
        "margin": {
         "t": 60
        },
        "template": {
         "data": {
          "bar": [
           {
            "error_x": {
             "color": "#2a3f5f"
            },
            "error_y": {
             "color": "#2a3f5f"
            },
            "marker": {
             "line": {
              "color": "#E5ECF6",
              "width": 0.5
             },
             "pattern": {
              "fillmode": "overlay",
              "size": 10,
              "solidity": 0.2
             }
            },
            "type": "bar"
           }
          ],
          "barpolar": [
           {
            "marker": {
             "line": {
              "color": "#E5ECF6",
              "width": 0.5
             },
             "pattern": {
              "fillmode": "overlay",
              "size": 10,
              "solidity": 0.2
             }
            },
            "type": "barpolar"
           }
          ],
          "carpet": [
           {
            "aaxis": {
             "endlinecolor": "#2a3f5f",
             "gridcolor": "white",
             "linecolor": "white",
             "minorgridcolor": "white",
             "startlinecolor": "#2a3f5f"
            },
            "baxis": {
             "endlinecolor": "#2a3f5f",
             "gridcolor": "white",
             "linecolor": "white",
             "minorgridcolor": "white",
             "startlinecolor": "#2a3f5f"
            },
            "type": "carpet"
           }
          ],
          "choropleth": [
           {
            "colorbar": {
             "outlinewidth": 0,
             "ticks": ""
            },
            "type": "choropleth"
           }
          ],
          "contour": [
           {
            "colorbar": {
             "outlinewidth": 0,
             "ticks": ""
            },
            "colorscale": [
             [
              0,
              "#0d0887"
             ],
             [
              0.1111111111111111,
              "#46039f"
             ],
             [
              0.2222222222222222,
              "#7201a8"
             ],
             [
              0.3333333333333333,
              "#9c179e"
             ],
             [
              0.4444444444444444,
              "#bd3786"
             ],
             [
              0.5555555555555556,
              "#d8576b"
             ],
             [
              0.6666666666666666,
              "#ed7953"
             ],
             [
              0.7777777777777778,
              "#fb9f3a"
             ],
             [
              0.8888888888888888,
              "#fdca26"
             ],
             [
              1,
              "#f0f921"
             ]
            ],
            "type": "contour"
           }
          ],
          "contourcarpet": [
           {
            "colorbar": {
             "outlinewidth": 0,
             "ticks": ""
            },
            "type": "contourcarpet"
           }
          ],
          "heatmap": [
           {
            "colorbar": {
             "outlinewidth": 0,
             "ticks": ""
            },
            "colorscale": [
             [
              0,
              "#0d0887"
             ],
             [
              0.1111111111111111,
              "#46039f"
             ],
             [
              0.2222222222222222,
              "#7201a8"
             ],
             [
              0.3333333333333333,
              "#9c179e"
             ],
             [
              0.4444444444444444,
              "#bd3786"
             ],
             [
              0.5555555555555556,
              "#d8576b"
             ],
             [
              0.6666666666666666,
              "#ed7953"
             ],
             [
              0.7777777777777778,
              "#fb9f3a"
             ],
             [
              0.8888888888888888,
              "#fdca26"
             ],
             [
              1,
              "#f0f921"
             ]
            ],
            "type": "heatmap"
           }
          ],
          "heatmapgl": [
           {
            "colorbar": {
             "outlinewidth": 0,
             "ticks": ""
            },
            "colorscale": [
             [
              0,
              "#0d0887"
             ],
             [
              0.1111111111111111,
              "#46039f"
             ],
             [
              0.2222222222222222,
              "#7201a8"
             ],
             [
              0.3333333333333333,
              "#9c179e"
             ],
             [
              0.4444444444444444,
              "#bd3786"
             ],
             [
              0.5555555555555556,
              "#d8576b"
             ],
             [
              0.6666666666666666,
              "#ed7953"
             ],
             [
              0.7777777777777778,
              "#fb9f3a"
             ],
             [
              0.8888888888888888,
              "#fdca26"
             ],
             [
              1,
              "#f0f921"
             ]
            ],
            "type": "heatmapgl"
           }
          ],
          "histogram": [
           {
            "marker": {
             "pattern": {
              "fillmode": "overlay",
              "size": 10,
              "solidity": 0.2
             }
            },
            "type": "histogram"
           }
          ],
          "histogram2d": [
           {
            "colorbar": {
             "outlinewidth": 0,
             "ticks": ""
            },
            "colorscale": [
             [
              0,
              "#0d0887"
             ],
             [
              0.1111111111111111,
              "#46039f"
             ],
             [
              0.2222222222222222,
              "#7201a8"
             ],
             [
              0.3333333333333333,
              "#9c179e"
             ],
             [
              0.4444444444444444,
              "#bd3786"
             ],
             [
              0.5555555555555556,
              "#d8576b"
             ],
             [
              0.6666666666666666,
              "#ed7953"
             ],
             [
              0.7777777777777778,
              "#fb9f3a"
             ],
             [
              0.8888888888888888,
              "#fdca26"
             ],
             [
              1,
              "#f0f921"
             ]
            ],
            "type": "histogram2d"
           }
          ],
          "histogram2dcontour": [
           {
            "colorbar": {
             "outlinewidth": 0,
             "ticks": ""
            },
            "colorscale": [
             [
              0,
              "#0d0887"
             ],
             [
              0.1111111111111111,
              "#46039f"
             ],
             [
              0.2222222222222222,
              "#7201a8"
             ],
             [
              0.3333333333333333,
              "#9c179e"
             ],
             [
              0.4444444444444444,
              "#bd3786"
             ],
             [
              0.5555555555555556,
              "#d8576b"
             ],
             [
              0.6666666666666666,
              "#ed7953"
             ],
             [
              0.7777777777777778,
              "#fb9f3a"
             ],
             [
              0.8888888888888888,
              "#fdca26"
             ],
             [
              1,
              "#f0f921"
             ]
            ],
            "type": "histogram2dcontour"
           }
          ],
          "mesh3d": [
           {
            "colorbar": {
             "outlinewidth": 0,
             "ticks": ""
            },
            "type": "mesh3d"
           }
          ],
          "parcoords": [
           {
            "line": {
             "colorbar": {
              "outlinewidth": 0,
              "ticks": ""
             }
            },
            "type": "parcoords"
           }
          ],
          "pie": [
           {
            "automargin": true,
            "type": "pie"
           }
          ],
          "scatter": [
           {
            "fillpattern": {
             "fillmode": "overlay",
             "size": 10,
             "solidity": 0.2
            },
            "type": "scatter"
           }
          ],
          "scatter3d": [
           {
            "line": {
             "colorbar": {
              "outlinewidth": 0,
              "ticks": ""
             }
            },
            "marker": {
             "colorbar": {
              "outlinewidth": 0,
              "ticks": ""
             }
            },
            "type": "scatter3d"
           }
          ],
          "scattercarpet": [
           {
            "marker": {
             "colorbar": {
              "outlinewidth": 0,
              "ticks": ""
             }
            },
            "type": "scattercarpet"
           }
          ],
          "scattergeo": [
           {
            "marker": {
             "colorbar": {
              "outlinewidth": 0,
              "ticks": ""
             }
            },
            "type": "scattergeo"
           }
          ],
          "scattergl": [
           {
            "marker": {
             "colorbar": {
              "outlinewidth": 0,
              "ticks": ""
             }
            },
            "type": "scattergl"
           }
          ],
          "scattermapbox": [
           {
            "marker": {
             "colorbar": {
              "outlinewidth": 0,
              "ticks": ""
             }
            },
            "type": "scattermapbox"
           }
          ],
          "scatterpolar": [
           {
            "marker": {
             "colorbar": {
              "outlinewidth": 0,
              "ticks": ""
             }
            },
            "type": "scatterpolar"
           }
          ],
          "scatterpolargl": [
           {
            "marker": {
             "colorbar": {
              "outlinewidth": 0,
              "ticks": ""
             }
            },
            "type": "scatterpolargl"
           }
          ],
          "scatterternary": [
           {
            "marker": {
             "colorbar": {
              "outlinewidth": 0,
              "ticks": ""
             }
            },
            "type": "scatterternary"
           }
          ],
          "surface": [
           {
            "colorbar": {
             "outlinewidth": 0,
             "ticks": ""
            },
            "colorscale": [
             [
              0,
              "#0d0887"
             ],
             [
              0.1111111111111111,
              "#46039f"
             ],
             [
              0.2222222222222222,
              "#7201a8"
             ],
             [
              0.3333333333333333,
              "#9c179e"
             ],
             [
              0.4444444444444444,
              "#bd3786"
             ],
             [
              0.5555555555555556,
              "#d8576b"
             ],
             [
              0.6666666666666666,
              "#ed7953"
             ],
             [
              0.7777777777777778,
              "#fb9f3a"
             ],
             [
              0.8888888888888888,
              "#fdca26"
             ],
             [
              1,
              "#f0f921"
             ]
            ],
            "type": "surface"
           }
          ],
          "table": [
           {
            "cells": {
             "fill": {
              "color": "#EBF0F8"
             },
             "line": {
              "color": "white"
             }
            },
            "header": {
             "fill": {
              "color": "#C8D4E3"
             },
             "line": {
              "color": "white"
             }
            },
            "type": "table"
           }
          ]
         },
         "layout": {
          "annotationdefaults": {
           "arrowcolor": "#2a3f5f",
           "arrowhead": 0,
           "arrowwidth": 1
          },
          "autotypenumbers": "strict",
          "coloraxis": {
           "colorbar": {
            "outlinewidth": 0,
            "ticks": ""
           }
          },
          "colorscale": {
           "diverging": [
            [
             0,
             "#8e0152"
            ],
            [
             0.1,
             "#c51b7d"
            ],
            [
             0.2,
             "#de77ae"
            ],
            [
             0.3,
             "#f1b6da"
            ],
            [
             0.4,
             "#fde0ef"
            ],
            [
             0.5,
             "#f7f7f7"
            ],
            [
             0.6,
             "#e6f5d0"
            ],
            [
             0.7,
             "#b8e186"
            ],
            [
             0.8,
             "#7fbc41"
            ],
            [
             0.9,
             "#4d9221"
            ],
            [
             1,
             "#276419"
            ]
           ],
           "sequential": [
            [
             0,
             "#0d0887"
            ],
            [
             0.1111111111111111,
             "#46039f"
            ],
            [
             0.2222222222222222,
             "#7201a8"
            ],
            [
             0.3333333333333333,
             "#9c179e"
            ],
            [
             0.4444444444444444,
             "#bd3786"
            ],
            [
             0.5555555555555556,
             "#d8576b"
            ],
            [
             0.6666666666666666,
             "#ed7953"
            ],
            [
             0.7777777777777778,
             "#fb9f3a"
            ],
            [
             0.8888888888888888,
             "#fdca26"
            ],
            [
             1,
             "#f0f921"
            ]
           ],
           "sequentialminus": [
            [
             0,
             "#0d0887"
            ],
            [
             0.1111111111111111,
             "#46039f"
            ],
            [
             0.2222222222222222,
             "#7201a8"
            ],
            [
             0.3333333333333333,
             "#9c179e"
            ],
            [
             0.4444444444444444,
             "#bd3786"
            ],
            [
             0.5555555555555556,
             "#d8576b"
            ],
            [
             0.6666666666666666,
             "#ed7953"
            ],
            [
             0.7777777777777778,
             "#fb9f3a"
            ],
            [
             0.8888888888888888,
             "#fdca26"
            ],
            [
             1,
             "#f0f921"
            ]
           ]
          },
          "colorway": [
           "#636efa",
           "#EF553B",
           "#00cc96",
           "#ab63fa",
           "#FFA15A",
           "#19d3f3",
           "#FF6692",
           "#B6E880",
           "#FF97FF",
           "#FECB52"
          ],
          "font": {
           "color": "#2a3f5f"
          },
          "geo": {
           "bgcolor": "white",
           "lakecolor": "white",
           "landcolor": "#E5ECF6",
           "showlakes": true,
           "showland": true,
           "subunitcolor": "white"
          },
          "hoverlabel": {
           "align": "left"
          },
          "hovermode": "closest",
          "mapbox": {
           "style": "light"
          },
          "paper_bgcolor": "white",
          "plot_bgcolor": "#E5ECF6",
          "polar": {
           "angularaxis": {
            "gridcolor": "white",
            "linecolor": "white",
            "ticks": ""
           },
           "bgcolor": "#E5ECF6",
           "radialaxis": {
            "gridcolor": "white",
            "linecolor": "white",
            "ticks": ""
           }
          },
          "scene": {
           "xaxis": {
            "backgroundcolor": "#E5ECF6",
            "gridcolor": "white",
            "gridwidth": 2,
            "linecolor": "white",
            "showbackground": true,
            "ticks": "",
            "zerolinecolor": "white"
           },
           "yaxis": {
            "backgroundcolor": "#E5ECF6",
            "gridcolor": "white",
            "gridwidth": 2,
            "linecolor": "white",
            "showbackground": true,
            "ticks": "",
            "zerolinecolor": "white"
           },
           "zaxis": {
            "backgroundcolor": "#E5ECF6",
            "gridcolor": "white",
            "gridwidth": 2,
            "linecolor": "white",
            "showbackground": true,
            "ticks": "",
            "zerolinecolor": "white"
           }
          },
          "shapedefaults": {
           "line": {
            "color": "#2a3f5f"
           }
          },
          "ternary": {
           "aaxis": {
            "gridcolor": "white",
            "linecolor": "white",
            "ticks": ""
           },
           "baxis": {
            "gridcolor": "white",
            "linecolor": "white",
            "ticks": ""
           },
           "bgcolor": "#E5ECF6",
           "caxis": {
            "gridcolor": "white",
            "linecolor": "white",
            "ticks": ""
           }
          },
          "title": {
           "x": 0.05
          },
          "xaxis": {
           "automargin": true,
           "gridcolor": "white",
           "linecolor": "white",
           "ticks": "",
           "title": {
            "standoff": 15
           },
           "zerolinecolor": "white",
           "zerolinewidth": 2
          },
          "yaxis": {
           "automargin": true,
           "gridcolor": "white",
           "linecolor": "white",
           "ticks": "",
           "title": {
            "standoff": 15
           },
           "zerolinecolor": "white",
           "zerolinewidth": 2
          }
         }
        },
        "xaxis": {
         "anchor": "y",
         "categoryarray": [
          "no",
          "yes"
         ],
         "categoryorder": "array",
         "domain": [
          0,
          1
         ],
         "title": {
          "text": "airconditioning"
         }
        },
        "yaxis": {
         "anchor": "x",
         "domain": [
          0,
          1
         ],
         "title": {
          "text": "value"
         }
        }
       }
      },
      "text/html": [
       "<div>                            <div id=\"93409341-a983-483c-847e-35d11dfbf9d3\" class=\"plotly-graph-div\" style=\"height:525px; width:100%;\"></div>            <script type=\"text/javascript\">                require([\"plotly\"], function(Plotly) {                    window.PLOTLYENV=window.PLOTLYENV || {};                                    if (document.getElementById(\"93409341-a983-483c-847e-35d11dfbf9d3\")) {                    Plotly.newPlot(                        \"93409341-a983-483c-847e-35d11dfbf9d3\",                        [{\"alignmentgroup\":\"True\",\"hovertemplate\":\"airconditioning=%{x}\\u003cbr\\u003evalue=%{y}\\u003cextra\\u003e\\u003c\\u002fextra\\u003e\",\"legendgroup\":\"no\",\"marker\":{\"color\":\"#636efa\",\"pattern\":{\"shape\":\"\"}},\"name\":\"no\",\"offsetgroup\":\"no\",\"orientation\":\"v\",\"showlegend\":true,\"textposition\":\"auto\",\"x\":[\"no\"],\"xaxis\":\"x\",\"y\":[68.44036697247707],\"yaxis\":\"y\",\"type\":\"bar\"},{\"alignmentgroup\":\"True\",\"hovertemplate\":\"airconditioning=%{x}\\u003cbr\\u003evalue=%{y}\\u003cextra\\u003e\\u003c\\u002fextra\\u003e\",\"legendgroup\":\"yes\",\"marker\":{\"color\":\"#EF553B\",\"pattern\":{\"shape\":\"\"}},\"name\":\"yes\",\"offsetgroup\":\"yes\",\"orientation\":\"v\",\"showlegend\":true,\"textposition\":\"auto\",\"x\":[\"yes\"],\"xaxis\":\"x\",\"y\":[31.55963302752294],\"yaxis\":\"y\",\"type\":\"bar\"}],                        {\"template\":{\"data\":{\"histogram2dcontour\":[{\"type\":\"histogram2dcontour\",\"colorbar\":{\"outlinewidth\":0,\"ticks\":\"\"},\"colorscale\":[[0.0,\"#0d0887\"],[0.1111111111111111,\"#46039f\"],[0.2222222222222222,\"#7201a8\"],[0.3333333333333333,\"#9c179e\"],[0.4444444444444444,\"#bd3786\"],[0.5555555555555556,\"#d8576b\"],[0.6666666666666666,\"#ed7953\"],[0.7777777777777778,\"#fb9f3a\"],[0.8888888888888888,\"#fdca26\"],[1.0,\"#f0f921\"]]}],\"choropleth\":[{\"type\":\"choropleth\",\"colorbar\":{\"outlinewidth\":0,\"ticks\":\"\"}}],\"histogram2d\":[{\"type\":\"histogram2d\",\"colorbar\":{\"outlinewidth\":0,\"ticks\":\"\"},\"colorscale\":[[0.0,\"#0d0887\"],[0.1111111111111111,\"#46039f\"],[0.2222222222222222,\"#7201a8\"],[0.3333333333333333,\"#9c179e\"],[0.4444444444444444,\"#bd3786\"],[0.5555555555555556,\"#d8576b\"],[0.6666666666666666,\"#ed7953\"],[0.7777777777777778,\"#fb9f3a\"],[0.8888888888888888,\"#fdca26\"],[1.0,\"#f0f921\"]]}],\"heatmap\":[{\"type\":\"heatmap\",\"colorbar\":{\"outlinewidth\":0,\"ticks\":\"\"},\"colorscale\":[[0.0,\"#0d0887\"],[0.1111111111111111,\"#46039f\"],[0.2222222222222222,\"#7201a8\"],[0.3333333333333333,\"#9c179e\"],[0.4444444444444444,\"#bd3786\"],[0.5555555555555556,\"#d8576b\"],[0.6666666666666666,\"#ed7953\"],[0.7777777777777778,\"#fb9f3a\"],[0.8888888888888888,\"#fdca26\"],[1.0,\"#f0f921\"]]}],\"heatmapgl\":[{\"type\":\"heatmapgl\",\"colorbar\":{\"outlinewidth\":0,\"ticks\":\"\"},\"colorscale\":[[0.0,\"#0d0887\"],[0.1111111111111111,\"#46039f\"],[0.2222222222222222,\"#7201a8\"],[0.3333333333333333,\"#9c179e\"],[0.4444444444444444,\"#bd3786\"],[0.5555555555555556,\"#d8576b\"],[0.6666666666666666,\"#ed7953\"],[0.7777777777777778,\"#fb9f3a\"],[0.8888888888888888,\"#fdca26\"],[1.0,\"#f0f921\"]]}],\"contourcarpet\":[{\"type\":\"contourcarpet\",\"colorbar\":{\"outlinewidth\":0,\"ticks\":\"\"}}],\"contour\":[{\"type\":\"contour\",\"colorbar\":{\"outlinewidth\":0,\"ticks\":\"\"},\"colorscale\":[[0.0,\"#0d0887\"],[0.1111111111111111,\"#46039f\"],[0.2222222222222222,\"#7201a8\"],[0.3333333333333333,\"#9c179e\"],[0.4444444444444444,\"#bd3786\"],[0.5555555555555556,\"#d8576b\"],[0.6666666666666666,\"#ed7953\"],[0.7777777777777778,\"#fb9f3a\"],[0.8888888888888888,\"#fdca26\"],[1.0,\"#f0f921\"]]}],\"surface\":[{\"type\":\"surface\",\"colorbar\":{\"outlinewidth\":0,\"ticks\":\"\"},\"colorscale\":[[0.0,\"#0d0887\"],[0.1111111111111111,\"#46039f\"],[0.2222222222222222,\"#7201a8\"],[0.3333333333333333,\"#9c179e\"],[0.4444444444444444,\"#bd3786\"],[0.5555555555555556,\"#d8576b\"],[0.6666666666666666,\"#ed7953\"],[0.7777777777777778,\"#fb9f3a\"],[0.8888888888888888,\"#fdca26\"],[1.0,\"#f0f921\"]]}],\"mesh3d\":[{\"type\":\"mesh3d\",\"colorbar\":{\"outlinewidth\":0,\"ticks\":\"\"}}],\"scatter\":[{\"fillpattern\":{\"fillmode\":\"overlay\",\"size\":10,\"solidity\":0.2},\"type\":\"scatter\"}],\"parcoords\":[{\"type\":\"parcoords\",\"line\":{\"colorbar\":{\"outlinewidth\":0,\"ticks\":\"\"}}}],\"scatterpolargl\":[{\"type\":\"scatterpolargl\",\"marker\":{\"colorbar\":{\"outlinewidth\":0,\"ticks\":\"\"}}}],\"bar\":[{\"error_x\":{\"color\":\"#2a3f5f\"},\"error_y\":{\"color\":\"#2a3f5f\"},\"marker\":{\"line\":{\"color\":\"#E5ECF6\",\"width\":0.5},\"pattern\":{\"fillmode\":\"overlay\",\"size\":10,\"solidity\":0.2}},\"type\":\"bar\"}],\"scattergeo\":[{\"type\":\"scattergeo\",\"marker\":{\"colorbar\":{\"outlinewidth\":0,\"ticks\":\"\"}}}],\"scatterpolar\":[{\"type\":\"scatterpolar\",\"marker\":{\"colorbar\":{\"outlinewidth\":0,\"ticks\":\"\"}}}],\"histogram\":[{\"marker\":{\"pattern\":{\"fillmode\":\"overlay\",\"size\":10,\"solidity\":0.2}},\"type\":\"histogram\"}],\"scattergl\":[{\"type\":\"scattergl\",\"marker\":{\"colorbar\":{\"outlinewidth\":0,\"ticks\":\"\"}}}],\"scatter3d\":[{\"type\":\"scatter3d\",\"line\":{\"colorbar\":{\"outlinewidth\":0,\"ticks\":\"\"}},\"marker\":{\"colorbar\":{\"outlinewidth\":0,\"ticks\":\"\"}}}],\"scattermapbox\":[{\"type\":\"scattermapbox\",\"marker\":{\"colorbar\":{\"outlinewidth\":0,\"ticks\":\"\"}}}],\"scatterternary\":[{\"type\":\"scatterternary\",\"marker\":{\"colorbar\":{\"outlinewidth\":0,\"ticks\":\"\"}}}],\"scattercarpet\":[{\"type\":\"scattercarpet\",\"marker\":{\"colorbar\":{\"outlinewidth\":0,\"ticks\":\"\"}}}],\"carpet\":[{\"aaxis\":{\"endlinecolor\":\"#2a3f5f\",\"gridcolor\":\"white\",\"linecolor\":\"white\",\"minorgridcolor\":\"white\",\"startlinecolor\":\"#2a3f5f\"},\"baxis\":{\"endlinecolor\":\"#2a3f5f\",\"gridcolor\":\"white\",\"linecolor\":\"white\",\"minorgridcolor\":\"white\",\"startlinecolor\":\"#2a3f5f\"},\"type\":\"carpet\"}],\"table\":[{\"cells\":{\"fill\":{\"color\":\"#EBF0F8\"},\"line\":{\"color\":\"white\"}},\"header\":{\"fill\":{\"color\":\"#C8D4E3\"},\"line\":{\"color\":\"white\"}},\"type\":\"table\"}],\"barpolar\":[{\"marker\":{\"line\":{\"color\":\"#E5ECF6\",\"width\":0.5},\"pattern\":{\"fillmode\":\"overlay\",\"size\":10,\"solidity\":0.2}},\"type\":\"barpolar\"}],\"pie\":[{\"automargin\":true,\"type\":\"pie\"}]},\"layout\":{\"autotypenumbers\":\"strict\",\"colorway\":[\"#636efa\",\"#EF553B\",\"#00cc96\",\"#ab63fa\",\"#FFA15A\",\"#19d3f3\",\"#FF6692\",\"#B6E880\",\"#FF97FF\",\"#FECB52\"],\"font\":{\"color\":\"#2a3f5f\"},\"hovermode\":\"closest\",\"hoverlabel\":{\"align\":\"left\"},\"paper_bgcolor\":\"white\",\"plot_bgcolor\":\"#E5ECF6\",\"polar\":{\"bgcolor\":\"#E5ECF6\",\"angularaxis\":{\"gridcolor\":\"white\",\"linecolor\":\"white\",\"ticks\":\"\"},\"radialaxis\":{\"gridcolor\":\"white\",\"linecolor\":\"white\",\"ticks\":\"\"}},\"ternary\":{\"bgcolor\":\"#E5ECF6\",\"aaxis\":{\"gridcolor\":\"white\",\"linecolor\":\"white\",\"ticks\":\"\"},\"baxis\":{\"gridcolor\":\"white\",\"linecolor\":\"white\",\"ticks\":\"\"},\"caxis\":{\"gridcolor\":\"white\",\"linecolor\":\"white\",\"ticks\":\"\"}},\"coloraxis\":{\"colorbar\":{\"outlinewidth\":0,\"ticks\":\"\"}},\"colorscale\":{\"sequential\":[[0.0,\"#0d0887\"],[0.1111111111111111,\"#46039f\"],[0.2222222222222222,\"#7201a8\"],[0.3333333333333333,\"#9c179e\"],[0.4444444444444444,\"#bd3786\"],[0.5555555555555556,\"#d8576b\"],[0.6666666666666666,\"#ed7953\"],[0.7777777777777778,\"#fb9f3a\"],[0.8888888888888888,\"#fdca26\"],[1.0,\"#f0f921\"]],\"sequentialminus\":[[0.0,\"#0d0887\"],[0.1111111111111111,\"#46039f\"],[0.2222222222222222,\"#7201a8\"],[0.3333333333333333,\"#9c179e\"],[0.4444444444444444,\"#bd3786\"],[0.5555555555555556,\"#d8576b\"],[0.6666666666666666,\"#ed7953\"],[0.7777777777777778,\"#fb9f3a\"],[0.8888888888888888,\"#fdca26\"],[1.0,\"#f0f921\"]],\"diverging\":[[0,\"#8e0152\"],[0.1,\"#c51b7d\"],[0.2,\"#de77ae\"],[0.3,\"#f1b6da\"],[0.4,\"#fde0ef\"],[0.5,\"#f7f7f7\"],[0.6,\"#e6f5d0\"],[0.7,\"#b8e186\"],[0.8,\"#7fbc41\"],[0.9,\"#4d9221\"],[1,\"#276419\"]]},\"xaxis\":{\"gridcolor\":\"white\",\"linecolor\":\"white\",\"ticks\":\"\",\"title\":{\"standoff\":15},\"zerolinecolor\":\"white\",\"automargin\":true,\"zerolinewidth\":2},\"yaxis\":{\"gridcolor\":\"white\",\"linecolor\":\"white\",\"ticks\":\"\",\"title\":{\"standoff\":15},\"zerolinecolor\":\"white\",\"automargin\":true,\"zerolinewidth\":2},\"scene\":{\"xaxis\":{\"backgroundcolor\":\"#E5ECF6\",\"gridcolor\":\"white\",\"linecolor\":\"white\",\"showbackground\":true,\"ticks\":\"\",\"zerolinecolor\":\"white\",\"gridwidth\":2},\"yaxis\":{\"backgroundcolor\":\"#E5ECF6\",\"gridcolor\":\"white\",\"linecolor\":\"white\",\"showbackground\":true,\"ticks\":\"\",\"zerolinecolor\":\"white\",\"gridwidth\":2},\"zaxis\":{\"backgroundcolor\":\"#E5ECF6\",\"gridcolor\":\"white\",\"linecolor\":\"white\",\"showbackground\":true,\"ticks\":\"\",\"zerolinecolor\":\"white\",\"gridwidth\":2}},\"shapedefaults\":{\"line\":{\"color\":\"#2a3f5f\"}},\"annotationdefaults\":{\"arrowcolor\":\"#2a3f5f\",\"arrowhead\":0,\"arrowwidth\":1},\"geo\":{\"bgcolor\":\"white\",\"landcolor\":\"#E5ECF6\",\"subunitcolor\":\"white\",\"showland\":true,\"showlakes\":true,\"lakecolor\":\"white\"},\"title\":{\"x\":0.05},\"mapbox\":{\"style\":\"light\"}}},\"xaxis\":{\"anchor\":\"y\",\"domain\":[0.0,1.0],\"title\":{\"text\":\"airconditioning\"},\"categoryorder\":\"array\",\"categoryarray\":[\"no\",\"yes\"]},\"yaxis\":{\"anchor\":\"x\",\"domain\":[0.0,1.0],\"title\":{\"text\":\"value\"}},\"legend\":{\"title\":{\"text\":\"airconditioning\"},\"tracegroupgap\":0},\"margin\":{\"t\":60},\"barmode\":\"relative\"},                        {\"responsive\": true}                    ).then(function(){\n",
       "                            \n",
       "var gd = document.getElementById('93409341-a983-483c-847e-35d11dfbf9d3');\n",
       "var x = new MutationObserver(function (mutations, observer) {{\n",
       "        var display = window.getComputedStyle(gd).display;\n",
       "        if (!display || display === 'none') {{\n",
       "            console.log([gd, 'removed!']);\n",
       "            Plotly.purge(gd);\n",
       "            observer.disconnect();\n",
       "        }}\n",
       "}});\n",
       "\n",
       "// Listen for the removal of the full notebook cells\n",
       "var notebookContainer = gd.closest('#notebook-container');\n",
       "if (notebookContainer) {{\n",
       "    x.observe(notebookContainer, {childList: true});\n",
       "}}\n",
       "\n",
       "// Listen for the clearing of the current output cell\n",
       "var outputEl = gd.closest('.output');\n",
       "if (outputEl) {{\n",
       "    x.observe(outputEl, {childList: true});\n",
       "}}\n",
       "\n",
       "                        })                };                });            </script>        </div>"
      ]
     },
     "metadata": {},
     "output_type": "display_data"
    }
   ],
   "source": [
    "# Distribuição da variável airconditioning\n",
    "percentual_furnishingstatus = df['airconditioning'].value_counts(normalize=True) * 100\n",
    "px.bar(percentual_furnishingstatus, color=percentual_furnishingstatus.index,)"
   ]
  },
  {
   "cell_type": "code",
   "execution_count": 37,
   "id": "93aea372",
   "metadata": {},
   "outputs": [
    {
     "data": {
      "application/vnd.plotly.v1+json": {
       "config": {
        "plotlyServerURL": "https://plot.ly"
       },
       "data": [
        {
         "alignmentgroup": "True",
         "hovertemplate": "parking=%{marker.color}<br>value=%{y}<extra></extra>",
         "legendgroup": "",
         "marker": {
          "color": [
           0,
           1,
           2,
           3
          ],
          "coloraxis": "coloraxis",
          "pattern": {
           "shape": ""
          }
         },
         "name": "",
         "offsetgroup": "",
         "orientation": "v",
         "showlegend": false,
         "textposition": "auto",
         "type": "bar",
         "x": [
          0,
          1,
          2,
          3
         ],
         "xaxis": "x",
         "y": [
          54.862385321100916,
          23.119266055045873,
          19.816513761467892,
          2.2018348623853212
         ],
         "yaxis": "y"
        }
       ],
       "layout": {
        "barmode": "relative",
        "coloraxis": {
         "colorbar": {
          "title": {
           "text": "parking"
          }
         },
         "colorscale": [
          [
           0,
           "#0d0887"
          ],
          [
           0.1111111111111111,
           "#46039f"
          ],
          [
           0.2222222222222222,
           "#7201a8"
          ],
          [
           0.3333333333333333,
           "#9c179e"
          ],
          [
           0.4444444444444444,
           "#bd3786"
          ],
          [
           0.5555555555555556,
           "#d8576b"
          ],
          [
           0.6666666666666666,
           "#ed7953"
          ],
          [
           0.7777777777777778,
           "#fb9f3a"
          ],
          [
           0.8888888888888888,
           "#fdca26"
          ],
          [
           1,
           "#f0f921"
          ]
         ]
        },
        "legend": {
         "tracegroupgap": 0
        },
        "margin": {
         "t": 60
        },
        "template": {
         "data": {
          "bar": [
           {
            "error_x": {
             "color": "#2a3f5f"
            },
            "error_y": {
             "color": "#2a3f5f"
            },
            "marker": {
             "line": {
              "color": "#E5ECF6",
              "width": 0.5
             },
             "pattern": {
              "fillmode": "overlay",
              "size": 10,
              "solidity": 0.2
             }
            },
            "type": "bar"
           }
          ],
          "barpolar": [
           {
            "marker": {
             "line": {
              "color": "#E5ECF6",
              "width": 0.5
             },
             "pattern": {
              "fillmode": "overlay",
              "size": 10,
              "solidity": 0.2
             }
            },
            "type": "barpolar"
           }
          ],
          "carpet": [
           {
            "aaxis": {
             "endlinecolor": "#2a3f5f",
             "gridcolor": "white",
             "linecolor": "white",
             "minorgridcolor": "white",
             "startlinecolor": "#2a3f5f"
            },
            "baxis": {
             "endlinecolor": "#2a3f5f",
             "gridcolor": "white",
             "linecolor": "white",
             "minorgridcolor": "white",
             "startlinecolor": "#2a3f5f"
            },
            "type": "carpet"
           }
          ],
          "choropleth": [
           {
            "colorbar": {
             "outlinewidth": 0,
             "ticks": ""
            },
            "type": "choropleth"
           }
          ],
          "contour": [
           {
            "colorbar": {
             "outlinewidth": 0,
             "ticks": ""
            },
            "colorscale": [
             [
              0,
              "#0d0887"
             ],
             [
              0.1111111111111111,
              "#46039f"
             ],
             [
              0.2222222222222222,
              "#7201a8"
             ],
             [
              0.3333333333333333,
              "#9c179e"
             ],
             [
              0.4444444444444444,
              "#bd3786"
             ],
             [
              0.5555555555555556,
              "#d8576b"
             ],
             [
              0.6666666666666666,
              "#ed7953"
             ],
             [
              0.7777777777777778,
              "#fb9f3a"
             ],
             [
              0.8888888888888888,
              "#fdca26"
             ],
             [
              1,
              "#f0f921"
             ]
            ],
            "type": "contour"
           }
          ],
          "contourcarpet": [
           {
            "colorbar": {
             "outlinewidth": 0,
             "ticks": ""
            },
            "type": "contourcarpet"
           }
          ],
          "heatmap": [
           {
            "colorbar": {
             "outlinewidth": 0,
             "ticks": ""
            },
            "colorscale": [
             [
              0,
              "#0d0887"
             ],
             [
              0.1111111111111111,
              "#46039f"
             ],
             [
              0.2222222222222222,
              "#7201a8"
             ],
             [
              0.3333333333333333,
              "#9c179e"
             ],
             [
              0.4444444444444444,
              "#bd3786"
             ],
             [
              0.5555555555555556,
              "#d8576b"
             ],
             [
              0.6666666666666666,
              "#ed7953"
             ],
             [
              0.7777777777777778,
              "#fb9f3a"
             ],
             [
              0.8888888888888888,
              "#fdca26"
             ],
             [
              1,
              "#f0f921"
             ]
            ],
            "type": "heatmap"
           }
          ],
          "heatmapgl": [
           {
            "colorbar": {
             "outlinewidth": 0,
             "ticks": ""
            },
            "colorscale": [
             [
              0,
              "#0d0887"
             ],
             [
              0.1111111111111111,
              "#46039f"
             ],
             [
              0.2222222222222222,
              "#7201a8"
             ],
             [
              0.3333333333333333,
              "#9c179e"
             ],
             [
              0.4444444444444444,
              "#bd3786"
             ],
             [
              0.5555555555555556,
              "#d8576b"
             ],
             [
              0.6666666666666666,
              "#ed7953"
             ],
             [
              0.7777777777777778,
              "#fb9f3a"
             ],
             [
              0.8888888888888888,
              "#fdca26"
             ],
             [
              1,
              "#f0f921"
             ]
            ],
            "type": "heatmapgl"
           }
          ],
          "histogram": [
           {
            "marker": {
             "pattern": {
              "fillmode": "overlay",
              "size": 10,
              "solidity": 0.2
             }
            },
            "type": "histogram"
           }
          ],
          "histogram2d": [
           {
            "colorbar": {
             "outlinewidth": 0,
             "ticks": ""
            },
            "colorscale": [
             [
              0,
              "#0d0887"
             ],
             [
              0.1111111111111111,
              "#46039f"
             ],
             [
              0.2222222222222222,
              "#7201a8"
             ],
             [
              0.3333333333333333,
              "#9c179e"
             ],
             [
              0.4444444444444444,
              "#bd3786"
             ],
             [
              0.5555555555555556,
              "#d8576b"
             ],
             [
              0.6666666666666666,
              "#ed7953"
             ],
             [
              0.7777777777777778,
              "#fb9f3a"
             ],
             [
              0.8888888888888888,
              "#fdca26"
             ],
             [
              1,
              "#f0f921"
             ]
            ],
            "type": "histogram2d"
           }
          ],
          "histogram2dcontour": [
           {
            "colorbar": {
             "outlinewidth": 0,
             "ticks": ""
            },
            "colorscale": [
             [
              0,
              "#0d0887"
             ],
             [
              0.1111111111111111,
              "#46039f"
             ],
             [
              0.2222222222222222,
              "#7201a8"
             ],
             [
              0.3333333333333333,
              "#9c179e"
             ],
             [
              0.4444444444444444,
              "#bd3786"
             ],
             [
              0.5555555555555556,
              "#d8576b"
             ],
             [
              0.6666666666666666,
              "#ed7953"
             ],
             [
              0.7777777777777778,
              "#fb9f3a"
             ],
             [
              0.8888888888888888,
              "#fdca26"
             ],
             [
              1,
              "#f0f921"
             ]
            ],
            "type": "histogram2dcontour"
           }
          ],
          "mesh3d": [
           {
            "colorbar": {
             "outlinewidth": 0,
             "ticks": ""
            },
            "type": "mesh3d"
           }
          ],
          "parcoords": [
           {
            "line": {
             "colorbar": {
              "outlinewidth": 0,
              "ticks": ""
             }
            },
            "type": "parcoords"
           }
          ],
          "pie": [
           {
            "automargin": true,
            "type": "pie"
           }
          ],
          "scatter": [
           {
            "fillpattern": {
             "fillmode": "overlay",
             "size": 10,
             "solidity": 0.2
            },
            "type": "scatter"
           }
          ],
          "scatter3d": [
           {
            "line": {
             "colorbar": {
              "outlinewidth": 0,
              "ticks": ""
             }
            },
            "marker": {
             "colorbar": {
              "outlinewidth": 0,
              "ticks": ""
             }
            },
            "type": "scatter3d"
           }
          ],
          "scattercarpet": [
           {
            "marker": {
             "colorbar": {
              "outlinewidth": 0,
              "ticks": ""
             }
            },
            "type": "scattercarpet"
           }
          ],
          "scattergeo": [
           {
            "marker": {
             "colorbar": {
              "outlinewidth": 0,
              "ticks": ""
             }
            },
            "type": "scattergeo"
           }
          ],
          "scattergl": [
           {
            "marker": {
             "colorbar": {
              "outlinewidth": 0,
              "ticks": ""
             }
            },
            "type": "scattergl"
           }
          ],
          "scattermapbox": [
           {
            "marker": {
             "colorbar": {
              "outlinewidth": 0,
              "ticks": ""
             }
            },
            "type": "scattermapbox"
           }
          ],
          "scatterpolar": [
           {
            "marker": {
             "colorbar": {
              "outlinewidth": 0,
              "ticks": ""
             }
            },
            "type": "scatterpolar"
           }
          ],
          "scatterpolargl": [
           {
            "marker": {
             "colorbar": {
              "outlinewidth": 0,
              "ticks": ""
             }
            },
            "type": "scatterpolargl"
           }
          ],
          "scatterternary": [
           {
            "marker": {
             "colorbar": {
              "outlinewidth": 0,
              "ticks": ""
             }
            },
            "type": "scatterternary"
           }
          ],
          "surface": [
           {
            "colorbar": {
             "outlinewidth": 0,
             "ticks": ""
            },
            "colorscale": [
             [
              0,
              "#0d0887"
             ],
             [
              0.1111111111111111,
              "#46039f"
             ],
             [
              0.2222222222222222,
              "#7201a8"
             ],
             [
              0.3333333333333333,
              "#9c179e"
             ],
             [
              0.4444444444444444,
              "#bd3786"
             ],
             [
              0.5555555555555556,
              "#d8576b"
             ],
             [
              0.6666666666666666,
              "#ed7953"
             ],
             [
              0.7777777777777778,
              "#fb9f3a"
             ],
             [
              0.8888888888888888,
              "#fdca26"
             ],
             [
              1,
              "#f0f921"
             ]
            ],
            "type": "surface"
           }
          ],
          "table": [
           {
            "cells": {
             "fill": {
              "color": "#EBF0F8"
             },
             "line": {
              "color": "white"
             }
            },
            "header": {
             "fill": {
              "color": "#C8D4E3"
             },
             "line": {
              "color": "white"
             }
            },
            "type": "table"
           }
          ]
         },
         "layout": {
          "annotationdefaults": {
           "arrowcolor": "#2a3f5f",
           "arrowhead": 0,
           "arrowwidth": 1
          },
          "autotypenumbers": "strict",
          "coloraxis": {
           "colorbar": {
            "outlinewidth": 0,
            "ticks": ""
           }
          },
          "colorscale": {
           "diverging": [
            [
             0,
             "#8e0152"
            ],
            [
             0.1,
             "#c51b7d"
            ],
            [
             0.2,
             "#de77ae"
            ],
            [
             0.3,
             "#f1b6da"
            ],
            [
             0.4,
             "#fde0ef"
            ],
            [
             0.5,
             "#f7f7f7"
            ],
            [
             0.6,
             "#e6f5d0"
            ],
            [
             0.7,
             "#b8e186"
            ],
            [
             0.8,
             "#7fbc41"
            ],
            [
             0.9,
             "#4d9221"
            ],
            [
             1,
             "#276419"
            ]
           ],
           "sequential": [
            [
             0,
             "#0d0887"
            ],
            [
             0.1111111111111111,
             "#46039f"
            ],
            [
             0.2222222222222222,
             "#7201a8"
            ],
            [
             0.3333333333333333,
             "#9c179e"
            ],
            [
             0.4444444444444444,
             "#bd3786"
            ],
            [
             0.5555555555555556,
             "#d8576b"
            ],
            [
             0.6666666666666666,
             "#ed7953"
            ],
            [
             0.7777777777777778,
             "#fb9f3a"
            ],
            [
             0.8888888888888888,
             "#fdca26"
            ],
            [
             1,
             "#f0f921"
            ]
           ],
           "sequentialminus": [
            [
             0,
             "#0d0887"
            ],
            [
             0.1111111111111111,
             "#46039f"
            ],
            [
             0.2222222222222222,
             "#7201a8"
            ],
            [
             0.3333333333333333,
             "#9c179e"
            ],
            [
             0.4444444444444444,
             "#bd3786"
            ],
            [
             0.5555555555555556,
             "#d8576b"
            ],
            [
             0.6666666666666666,
             "#ed7953"
            ],
            [
             0.7777777777777778,
             "#fb9f3a"
            ],
            [
             0.8888888888888888,
             "#fdca26"
            ],
            [
             1,
             "#f0f921"
            ]
           ]
          },
          "colorway": [
           "#636efa",
           "#EF553B",
           "#00cc96",
           "#ab63fa",
           "#FFA15A",
           "#19d3f3",
           "#FF6692",
           "#B6E880",
           "#FF97FF",
           "#FECB52"
          ],
          "font": {
           "color": "#2a3f5f"
          },
          "geo": {
           "bgcolor": "white",
           "lakecolor": "white",
           "landcolor": "#E5ECF6",
           "showlakes": true,
           "showland": true,
           "subunitcolor": "white"
          },
          "hoverlabel": {
           "align": "left"
          },
          "hovermode": "closest",
          "mapbox": {
           "style": "light"
          },
          "paper_bgcolor": "white",
          "plot_bgcolor": "#E5ECF6",
          "polar": {
           "angularaxis": {
            "gridcolor": "white",
            "linecolor": "white",
            "ticks": ""
           },
           "bgcolor": "#E5ECF6",
           "radialaxis": {
            "gridcolor": "white",
            "linecolor": "white",
            "ticks": ""
           }
          },
          "scene": {
           "xaxis": {
            "backgroundcolor": "#E5ECF6",
            "gridcolor": "white",
            "gridwidth": 2,
            "linecolor": "white",
            "showbackground": true,
            "ticks": "",
            "zerolinecolor": "white"
           },
           "yaxis": {
            "backgroundcolor": "#E5ECF6",
            "gridcolor": "white",
            "gridwidth": 2,
            "linecolor": "white",
            "showbackground": true,
            "ticks": "",
            "zerolinecolor": "white"
           },
           "zaxis": {
            "backgroundcolor": "#E5ECF6",
            "gridcolor": "white",
            "gridwidth": 2,
            "linecolor": "white",
            "showbackground": true,
            "ticks": "",
            "zerolinecolor": "white"
           }
          },
          "shapedefaults": {
           "line": {
            "color": "#2a3f5f"
           }
          },
          "ternary": {
           "aaxis": {
            "gridcolor": "white",
            "linecolor": "white",
            "ticks": ""
           },
           "baxis": {
            "gridcolor": "white",
            "linecolor": "white",
            "ticks": ""
           },
           "bgcolor": "#E5ECF6",
           "caxis": {
            "gridcolor": "white",
            "linecolor": "white",
            "ticks": ""
           }
          },
          "title": {
           "x": 0.05
          },
          "xaxis": {
           "automargin": true,
           "gridcolor": "white",
           "linecolor": "white",
           "ticks": "",
           "title": {
            "standoff": 15
           },
           "zerolinecolor": "white",
           "zerolinewidth": 2
          },
          "yaxis": {
           "automargin": true,
           "gridcolor": "white",
           "linecolor": "white",
           "ticks": "",
           "title": {
            "standoff": 15
           },
           "zerolinecolor": "white",
           "zerolinewidth": 2
          }
         }
        },
        "xaxis": {
         "anchor": "y",
         "domain": [
          0,
          1
         ],
         "title": {
          "text": "parking"
         }
        },
        "yaxis": {
         "anchor": "x",
         "domain": [
          0,
          1
         ],
         "title": {
          "text": "value"
         }
        }
       }
      },
      "text/html": [
       "<div>                            <div id=\"ce2102eb-2911-486a-a191-3346a1c0588c\" class=\"plotly-graph-div\" style=\"height:525px; width:100%;\"></div>            <script type=\"text/javascript\">                require([\"plotly\"], function(Plotly) {                    window.PLOTLYENV=window.PLOTLYENV || {};                                    if (document.getElementById(\"ce2102eb-2911-486a-a191-3346a1c0588c\")) {                    Plotly.newPlot(                        \"ce2102eb-2911-486a-a191-3346a1c0588c\",                        [{\"alignmentgroup\":\"True\",\"hovertemplate\":\"parking=%{marker.color}\\u003cbr\\u003evalue=%{y}\\u003cextra\\u003e\\u003c\\u002fextra\\u003e\",\"legendgroup\":\"\",\"marker\":{\"color\":[0,1,2,3],\"coloraxis\":\"coloraxis\",\"pattern\":{\"shape\":\"\"}},\"name\":\"\",\"offsetgroup\":\"\",\"orientation\":\"v\",\"showlegend\":false,\"textposition\":\"auto\",\"x\":[0,1,2,3],\"xaxis\":\"x\",\"y\":[54.862385321100916,23.119266055045873,19.816513761467892,2.2018348623853212],\"yaxis\":\"y\",\"type\":\"bar\"}],                        {\"template\":{\"data\":{\"histogram2dcontour\":[{\"type\":\"histogram2dcontour\",\"colorbar\":{\"outlinewidth\":0,\"ticks\":\"\"},\"colorscale\":[[0.0,\"#0d0887\"],[0.1111111111111111,\"#46039f\"],[0.2222222222222222,\"#7201a8\"],[0.3333333333333333,\"#9c179e\"],[0.4444444444444444,\"#bd3786\"],[0.5555555555555556,\"#d8576b\"],[0.6666666666666666,\"#ed7953\"],[0.7777777777777778,\"#fb9f3a\"],[0.8888888888888888,\"#fdca26\"],[1.0,\"#f0f921\"]]}],\"choropleth\":[{\"type\":\"choropleth\",\"colorbar\":{\"outlinewidth\":0,\"ticks\":\"\"}}],\"histogram2d\":[{\"type\":\"histogram2d\",\"colorbar\":{\"outlinewidth\":0,\"ticks\":\"\"},\"colorscale\":[[0.0,\"#0d0887\"],[0.1111111111111111,\"#46039f\"],[0.2222222222222222,\"#7201a8\"],[0.3333333333333333,\"#9c179e\"],[0.4444444444444444,\"#bd3786\"],[0.5555555555555556,\"#d8576b\"],[0.6666666666666666,\"#ed7953\"],[0.7777777777777778,\"#fb9f3a\"],[0.8888888888888888,\"#fdca26\"],[1.0,\"#f0f921\"]]}],\"heatmap\":[{\"type\":\"heatmap\",\"colorbar\":{\"outlinewidth\":0,\"ticks\":\"\"},\"colorscale\":[[0.0,\"#0d0887\"],[0.1111111111111111,\"#46039f\"],[0.2222222222222222,\"#7201a8\"],[0.3333333333333333,\"#9c179e\"],[0.4444444444444444,\"#bd3786\"],[0.5555555555555556,\"#d8576b\"],[0.6666666666666666,\"#ed7953\"],[0.7777777777777778,\"#fb9f3a\"],[0.8888888888888888,\"#fdca26\"],[1.0,\"#f0f921\"]]}],\"heatmapgl\":[{\"type\":\"heatmapgl\",\"colorbar\":{\"outlinewidth\":0,\"ticks\":\"\"},\"colorscale\":[[0.0,\"#0d0887\"],[0.1111111111111111,\"#46039f\"],[0.2222222222222222,\"#7201a8\"],[0.3333333333333333,\"#9c179e\"],[0.4444444444444444,\"#bd3786\"],[0.5555555555555556,\"#d8576b\"],[0.6666666666666666,\"#ed7953\"],[0.7777777777777778,\"#fb9f3a\"],[0.8888888888888888,\"#fdca26\"],[1.0,\"#f0f921\"]]}],\"contourcarpet\":[{\"type\":\"contourcarpet\",\"colorbar\":{\"outlinewidth\":0,\"ticks\":\"\"}}],\"contour\":[{\"type\":\"contour\",\"colorbar\":{\"outlinewidth\":0,\"ticks\":\"\"},\"colorscale\":[[0.0,\"#0d0887\"],[0.1111111111111111,\"#46039f\"],[0.2222222222222222,\"#7201a8\"],[0.3333333333333333,\"#9c179e\"],[0.4444444444444444,\"#bd3786\"],[0.5555555555555556,\"#d8576b\"],[0.6666666666666666,\"#ed7953\"],[0.7777777777777778,\"#fb9f3a\"],[0.8888888888888888,\"#fdca26\"],[1.0,\"#f0f921\"]]}],\"surface\":[{\"type\":\"surface\",\"colorbar\":{\"outlinewidth\":0,\"ticks\":\"\"},\"colorscale\":[[0.0,\"#0d0887\"],[0.1111111111111111,\"#46039f\"],[0.2222222222222222,\"#7201a8\"],[0.3333333333333333,\"#9c179e\"],[0.4444444444444444,\"#bd3786\"],[0.5555555555555556,\"#d8576b\"],[0.6666666666666666,\"#ed7953\"],[0.7777777777777778,\"#fb9f3a\"],[0.8888888888888888,\"#fdca26\"],[1.0,\"#f0f921\"]]}],\"mesh3d\":[{\"type\":\"mesh3d\",\"colorbar\":{\"outlinewidth\":0,\"ticks\":\"\"}}],\"scatter\":[{\"fillpattern\":{\"fillmode\":\"overlay\",\"size\":10,\"solidity\":0.2},\"type\":\"scatter\"}],\"parcoords\":[{\"type\":\"parcoords\",\"line\":{\"colorbar\":{\"outlinewidth\":0,\"ticks\":\"\"}}}],\"scatterpolargl\":[{\"type\":\"scatterpolargl\",\"marker\":{\"colorbar\":{\"outlinewidth\":0,\"ticks\":\"\"}}}],\"bar\":[{\"error_x\":{\"color\":\"#2a3f5f\"},\"error_y\":{\"color\":\"#2a3f5f\"},\"marker\":{\"line\":{\"color\":\"#E5ECF6\",\"width\":0.5},\"pattern\":{\"fillmode\":\"overlay\",\"size\":10,\"solidity\":0.2}},\"type\":\"bar\"}],\"scattergeo\":[{\"type\":\"scattergeo\",\"marker\":{\"colorbar\":{\"outlinewidth\":0,\"ticks\":\"\"}}}],\"scatterpolar\":[{\"type\":\"scatterpolar\",\"marker\":{\"colorbar\":{\"outlinewidth\":0,\"ticks\":\"\"}}}],\"histogram\":[{\"marker\":{\"pattern\":{\"fillmode\":\"overlay\",\"size\":10,\"solidity\":0.2}},\"type\":\"histogram\"}],\"scattergl\":[{\"type\":\"scattergl\",\"marker\":{\"colorbar\":{\"outlinewidth\":0,\"ticks\":\"\"}}}],\"scatter3d\":[{\"type\":\"scatter3d\",\"line\":{\"colorbar\":{\"outlinewidth\":0,\"ticks\":\"\"}},\"marker\":{\"colorbar\":{\"outlinewidth\":0,\"ticks\":\"\"}}}],\"scattermapbox\":[{\"type\":\"scattermapbox\",\"marker\":{\"colorbar\":{\"outlinewidth\":0,\"ticks\":\"\"}}}],\"scatterternary\":[{\"type\":\"scatterternary\",\"marker\":{\"colorbar\":{\"outlinewidth\":0,\"ticks\":\"\"}}}],\"scattercarpet\":[{\"type\":\"scattercarpet\",\"marker\":{\"colorbar\":{\"outlinewidth\":0,\"ticks\":\"\"}}}],\"carpet\":[{\"aaxis\":{\"endlinecolor\":\"#2a3f5f\",\"gridcolor\":\"white\",\"linecolor\":\"white\",\"minorgridcolor\":\"white\",\"startlinecolor\":\"#2a3f5f\"},\"baxis\":{\"endlinecolor\":\"#2a3f5f\",\"gridcolor\":\"white\",\"linecolor\":\"white\",\"minorgridcolor\":\"white\",\"startlinecolor\":\"#2a3f5f\"},\"type\":\"carpet\"}],\"table\":[{\"cells\":{\"fill\":{\"color\":\"#EBF0F8\"},\"line\":{\"color\":\"white\"}},\"header\":{\"fill\":{\"color\":\"#C8D4E3\"},\"line\":{\"color\":\"white\"}},\"type\":\"table\"}],\"barpolar\":[{\"marker\":{\"line\":{\"color\":\"#E5ECF6\",\"width\":0.5},\"pattern\":{\"fillmode\":\"overlay\",\"size\":10,\"solidity\":0.2}},\"type\":\"barpolar\"}],\"pie\":[{\"automargin\":true,\"type\":\"pie\"}]},\"layout\":{\"autotypenumbers\":\"strict\",\"colorway\":[\"#636efa\",\"#EF553B\",\"#00cc96\",\"#ab63fa\",\"#FFA15A\",\"#19d3f3\",\"#FF6692\",\"#B6E880\",\"#FF97FF\",\"#FECB52\"],\"font\":{\"color\":\"#2a3f5f\"},\"hovermode\":\"closest\",\"hoverlabel\":{\"align\":\"left\"},\"paper_bgcolor\":\"white\",\"plot_bgcolor\":\"#E5ECF6\",\"polar\":{\"bgcolor\":\"#E5ECF6\",\"angularaxis\":{\"gridcolor\":\"white\",\"linecolor\":\"white\",\"ticks\":\"\"},\"radialaxis\":{\"gridcolor\":\"white\",\"linecolor\":\"white\",\"ticks\":\"\"}},\"ternary\":{\"bgcolor\":\"#E5ECF6\",\"aaxis\":{\"gridcolor\":\"white\",\"linecolor\":\"white\",\"ticks\":\"\"},\"baxis\":{\"gridcolor\":\"white\",\"linecolor\":\"white\",\"ticks\":\"\"},\"caxis\":{\"gridcolor\":\"white\",\"linecolor\":\"white\",\"ticks\":\"\"}},\"coloraxis\":{\"colorbar\":{\"outlinewidth\":0,\"ticks\":\"\"}},\"colorscale\":{\"sequential\":[[0.0,\"#0d0887\"],[0.1111111111111111,\"#46039f\"],[0.2222222222222222,\"#7201a8\"],[0.3333333333333333,\"#9c179e\"],[0.4444444444444444,\"#bd3786\"],[0.5555555555555556,\"#d8576b\"],[0.6666666666666666,\"#ed7953\"],[0.7777777777777778,\"#fb9f3a\"],[0.8888888888888888,\"#fdca26\"],[1.0,\"#f0f921\"]],\"sequentialminus\":[[0.0,\"#0d0887\"],[0.1111111111111111,\"#46039f\"],[0.2222222222222222,\"#7201a8\"],[0.3333333333333333,\"#9c179e\"],[0.4444444444444444,\"#bd3786\"],[0.5555555555555556,\"#d8576b\"],[0.6666666666666666,\"#ed7953\"],[0.7777777777777778,\"#fb9f3a\"],[0.8888888888888888,\"#fdca26\"],[1.0,\"#f0f921\"]],\"diverging\":[[0,\"#8e0152\"],[0.1,\"#c51b7d\"],[0.2,\"#de77ae\"],[0.3,\"#f1b6da\"],[0.4,\"#fde0ef\"],[0.5,\"#f7f7f7\"],[0.6,\"#e6f5d0\"],[0.7,\"#b8e186\"],[0.8,\"#7fbc41\"],[0.9,\"#4d9221\"],[1,\"#276419\"]]},\"xaxis\":{\"gridcolor\":\"white\",\"linecolor\":\"white\",\"ticks\":\"\",\"title\":{\"standoff\":15},\"zerolinecolor\":\"white\",\"automargin\":true,\"zerolinewidth\":2},\"yaxis\":{\"gridcolor\":\"white\",\"linecolor\":\"white\",\"ticks\":\"\",\"title\":{\"standoff\":15},\"zerolinecolor\":\"white\",\"automargin\":true,\"zerolinewidth\":2},\"scene\":{\"xaxis\":{\"backgroundcolor\":\"#E5ECF6\",\"gridcolor\":\"white\",\"linecolor\":\"white\",\"showbackground\":true,\"ticks\":\"\",\"zerolinecolor\":\"white\",\"gridwidth\":2},\"yaxis\":{\"backgroundcolor\":\"#E5ECF6\",\"gridcolor\":\"white\",\"linecolor\":\"white\",\"showbackground\":true,\"ticks\":\"\",\"zerolinecolor\":\"white\",\"gridwidth\":2},\"zaxis\":{\"backgroundcolor\":\"#E5ECF6\",\"gridcolor\":\"white\",\"linecolor\":\"white\",\"showbackground\":true,\"ticks\":\"\",\"zerolinecolor\":\"white\",\"gridwidth\":2}},\"shapedefaults\":{\"line\":{\"color\":\"#2a3f5f\"}},\"annotationdefaults\":{\"arrowcolor\":\"#2a3f5f\",\"arrowhead\":0,\"arrowwidth\":1},\"geo\":{\"bgcolor\":\"white\",\"landcolor\":\"#E5ECF6\",\"subunitcolor\":\"white\",\"showland\":true,\"showlakes\":true,\"lakecolor\":\"white\"},\"title\":{\"x\":0.05},\"mapbox\":{\"style\":\"light\"}}},\"xaxis\":{\"anchor\":\"y\",\"domain\":[0.0,1.0],\"title\":{\"text\":\"parking\"}},\"yaxis\":{\"anchor\":\"x\",\"domain\":[0.0,1.0],\"title\":{\"text\":\"value\"}},\"coloraxis\":{\"colorbar\":{\"title\":{\"text\":\"parking\"}},\"colorscale\":[[0.0,\"#0d0887\"],[0.1111111111111111,\"#46039f\"],[0.2222222222222222,\"#7201a8\"],[0.3333333333333333,\"#9c179e\"],[0.4444444444444444,\"#bd3786\"],[0.5555555555555556,\"#d8576b\"],[0.6666666666666666,\"#ed7953\"],[0.7777777777777778,\"#fb9f3a\"],[0.8888888888888888,\"#fdca26\"],[1.0,\"#f0f921\"]]},\"legend\":{\"tracegroupgap\":0},\"margin\":{\"t\":60},\"barmode\":\"relative\"},                        {\"responsive\": true}                    ).then(function(){\n",
       "                            \n",
       "var gd = document.getElementById('ce2102eb-2911-486a-a191-3346a1c0588c');\n",
       "var x = new MutationObserver(function (mutations, observer) {{\n",
       "        var display = window.getComputedStyle(gd).display;\n",
       "        if (!display || display === 'none') {{\n",
       "            console.log([gd, 'removed!']);\n",
       "            Plotly.purge(gd);\n",
       "            observer.disconnect();\n",
       "        }}\n",
       "}});\n",
       "\n",
       "// Listen for the removal of the full notebook cells\n",
       "var notebookContainer = gd.closest('#notebook-container');\n",
       "if (notebookContainer) {{\n",
       "    x.observe(notebookContainer, {childList: true});\n",
       "}}\n",
       "\n",
       "// Listen for the clearing of the current output cell\n",
       "var outputEl = gd.closest('.output');\n",
       "if (outputEl) {{\n",
       "    x.observe(outputEl, {childList: true});\n",
       "}}\n",
       "\n",
       "                        })                };                });            </script>        </div>"
      ]
     },
     "metadata": {},
     "output_type": "display_data"
    }
   ],
   "source": [
    "# Distribuição da variável parking\n",
    "percentual_furnishingstatus = df['parking'].value_counts(normalize=True) * 100\n",
    "px.bar(percentual_furnishingstatus, color=percentual_furnishingstatus.index,)"
   ]
  },
  {
   "cell_type": "code",
   "execution_count": 38,
   "id": "fcdce7d2",
   "metadata": {},
   "outputs": [
    {
     "data": {
      "application/vnd.plotly.v1+json": {
       "config": {
        "plotlyServerURL": "https://plot.ly"
       },
       "data": [
        {
         "alignmentgroup": "True",
         "hovertemplate": "bedrooms=%{marker.color}<br>value=%{y}<extra></extra>",
         "legendgroup": "",
         "marker": {
          "color": [
           3,
           2,
           4,
           5,
           6,
           1
          ],
          "coloraxis": "coloraxis",
          "pattern": {
           "shape": ""
          }
         },
         "name": "",
         "offsetgroup": "",
         "orientation": "v",
         "showlegend": false,
         "textposition": "auto",
         "type": "bar",
         "x": [
          3,
          2,
          4,
          5,
          6,
          1
         ],
         "xaxis": "x",
         "y": [
          55.04587155963303,
          24.954128440366972,
          17.431192660550458,
          1.834862385321101,
          0.3669724770642202,
          0.3669724770642202
         ],
         "yaxis": "y"
        }
       ],
       "layout": {
        "barmode": "relative",
        "coloraxis": {
         "colorbar": {
          "title": {
           "text": "bedrooms"
          }
         },
         "colorscale": [
          [
           0,
           "#0d0887"
          ],
          [
           0.1111111111111111,
           "#46039f"
          ],
          [
           0.2222222222222222,
           "#7201a8"
          ],
          [
           0.3333333333333333,
           "#9c179e"
          ],
          [
           0.4444444444444444,
           "#bd3786"
          ],
          [
           0.5555555555555556,
           "#d8576b"
          ],
          [
           0.6666666666666666,
           "#ed7953"
          ],
          [
           0.7777777777777778,
           "#fb9f3a"
          ],
          [
           0.8888888888888888,
           "#fdca26"
          ],
          [
           1,
           "#f0f921"
          ]
         ]
        },
        "legend": {
         "tracegroupgap": 0
        },
        "margin": {
         "t": 60
        },
        "template": {
         "data": {
          "bar": [
           {
            "error_x": {
             "color": "#2a3f5f"
            },
            "error_y": {
             "color": "#2a3f5f"
            },
            "marker": {
             "line": {
              "color": "#E5ECF6",
              "width": 0.5
             },
             "pattern": {
              "fillmode": "overlay",
              "size": 10,
              "solidity": 0.2
             }
            },
            "type": "bar"
           }
          ],
          "barpolar": [
           {
            "marker": {
             "line": {
              "color": "#E5ECF6",
              "width": 0.5
             },
             "pattern": {
              "fillmode": "overlay",
              "size": 10,
              "solidity": 0.2
             }
            },
            "type": "barpolar"
           }
          ],
          "carpet": [
           {
            "aaxis": {
             "endlinecolor": "#2a3f5f",
             "gridcolor": "white",
             "linecolor": "white",
             "minorgridcolor": "white",
             "startlinecolor": "#2a3f5f"
            },
            "baxis": {
             "endlinecolor": "#2a3f5f",
             "gridcolor": "white",
             "linecolor": "white",
             "minorgridcolor": "white",
             "startlinecolor": "#2a3f5f"
            },
            "type": "carpet"
           }
          ],
          "choropleth": [
           {
            "colorbar": {
             "outlinewidth": 0,
             "ticks": ""
            },
            "type": "choropleth"
           }
          ],
          "contour": [
           {
            "colorbar": {
             "outlinewidth": 0,
             "ticks": ""
            },
            "colorscale": [
             [
              0,
              "#0d0887"
             ],
             [
              0.1111111111111111,
              "#46039f"
             ],
             [
              0.2222222222222222,
              "#7201a8"
             ],
             [
              0.3333333333333333,
              "#9c179e"
             ],
             [
              0.4444444444444444,
              "#bd3786"
             ],
             [
              0.5555555555555556,
              "#d8576b"
             ],
             [
              0.6666666666666666,
              "#ed7953"
             ],
             [
              0.7777777777777778,
              "#fb9f3a"
             ],
             [
              0.8888888888888888,
              "#fdca26"
             ],
             [
              1,
              "#f0f921"
             ]
            ],
            "type": "contour"
           }
          ],
          "contourcarpet": [
           {
            "colorbar": {
             "outlinewidth": 0,
             "ticks": ""
            },
            "type": "contourcarpet"
           }
          ],
          "heatmap": [
           {
            "colorbar": {
             "outlinewidth": 0,
             "ticks": ""
            },
            "colorscale": [
             [
              0,
              "#0d0887"
             ],
             [
              0.1111111111111111,
              "#46039f"
             ],
             [
              0.2222222222222222,
              "#7201a8"
             ],
             [
              0.3333333333333333,
              "#9c179e"
             ],
             [
              0.4444444444444444,
              "#bd3786"
             ],
             [
              0.5555555555555556,
              "#d8576b"
             ],
             [
              0.6666666666666666,
              "#ed7953"
             ],
             [
              0.7777777777777778,
              "#fb9f3a"
             ],
             [
              0.8888888888888888,
              "#fdca26"
             ],
             [
              1,
              "#f0f921"
             ]
            ],
            "type": "heatmap"
           }
          ],
          "heatmapgl": [
           {
            "colorbar": {
             "outlinewidth": 0,
             "ticks": ""
            },
            "colorscale": [
             [
              0,
              "#0d0887"
             ],
             [
              0.1111111111111111,
              "#46039f"
             ],
             [
              0.2222222222222222,
              "#7201a8"
             ],
             [
              0.3333333333333333,
              "#9c179e"
             ],
             [
              0.4444444444444444,
              "#bd3786"
             ],
             [
              0.5555555555555556,
              "#d8576b"
             ],
             [
              0.6666666666666666,
              "#ed7953"
             ],
             [
              0.7777777777777778,
              "#fb9f3a"
             ],
             [
              0.8888888888888888,
              "#fdca26"
             ],
             [
              1,
              "#f0f921"
             ]
            ],
            "type": "heatmapgl"
           }
          ],
          "histogram": [
           {
            "marker": {
             "pattern": {
              "fillmode": "overlay",
              "size": 10,
              "solidity": 0.2
             }
            },
            "type": "histogram"
           }
          ],
          "histogram2d": [
           {
            "colorbar": {
             "outlinewidth": 0,
             "ticks": ""
            },
            "colorscale": [
             [
              0,
              "#0d0887"
             ],
             [
              0.1111111111111111,
              "#46039f"
             ],
             [
              0.2222222222222222,
              "#7201a8"
             ],
             [
              0.3333333333333333,
              "#9c179e"
             ],
             [
              0.4444444444444444,
              "#bd3786"
             ],
             [
              0.5555555555555556,
              "#d8576b"
             ],
             [
              0.6666666666666666,
              "#ed7953"
             ],
             [
              0.7777777777777778,
              "#fb9f3a"
             ],
             [
              0.8888888888888888,
              "#fdca26"
             ],
             [
              1,
              "#f0f921"
             ]
            ],
            "type": "histogram2d"
           }
          ],
          "histogram2dcontour": [
           {
            "colorbar": {
             "outlinewidth": 0,
             "ticks": ""
            },
            "colorscale": [
             [
              0,
              "#0d0887"
             ],
             [
              0.1111111111111111,
              "#46039f"
             ],
             [
              0.2222222222222222,
              "#7201a8"
             ],
             [
              0.3333333333333333,
              "#9c179e"
             ],
             [
              0.4444444444444444,
              "#bd3786"
             ],
             [
              0.5555555555555556,
              "#d8576b"
             ],
             [
              0.6666666666666666,
              "#ed7953"
             ],
             [
              0.7777777777777778,
              "#fb9f3a"
             ],
             [
              0.8888888888888888,
              "#fdca26"
             ],
             [
              1,
              "#f0f921"
             ]
            ],
            "type": "histogram2dcontour"
           }
          ],
          "mesh3d": [
           {
            "colorbar": {
             "outlinewidth": 0,
             "ticks": ""
            },
            "type": "mesh3d"
           }
          ],
          "parcoords": [
           {
            "line": {
             "colorbar": {
              "outlinewidth": 0,
              "ticks": ""
             }
            },
            "type": "parcoords"
           }
          ],
          "pie": [
           {
            "automargin": true,
            "type": "pie"
           }
          ],
          "scatter": [
           {
            "fillpattern": {
             "fillmode": "overlay",
             "size": 10,
             "solidity": 0.2
            },
            "type": "scatter"
           }
          ],
          "scatter3d": [
           {
            "line": {
             "colorbar": {
              "outlinewidth": 0,
              "ticks": ""
             }
            },
            "marker": {
             "colorbar": {
              "outlinewidth": 0,
              "ticks": ""
             }
            },
            "type": "scatter3d"
           }
          ],
          "scattercarpet": [
           {
            "marker": {
             "colorbar": {
              "outlinewidth": 0,
              "ticks": ""
             }
            },
            "type": "scattercarpet"
           }
          ],
          "scattergeo": [
           {
            "marker": {
             "colorbar": {
              "outlinewidth": 0,
              "ticks": ""
             }
            },
            "type": "scattergeo"
           }
          ],
          "scattergl": [
           {
            "marker": {
             "colorbar": {
              "outlinewidth": 0,
              "ticks": ""
             }
            },
            "type": "scattergl"
           }
          ],
          "scattermapbox": [
           {
            "marker": {
             "colorbar": {
              "outlinewidth": 0,
              "ticks": ""
             }
            },
            "type": "scattermapbox"
           }
          ],
          "scatterpolar": [
           {
            "marker": {
             "colorbar": {
              "outlinewidth": 0,
              "ticks": ""
             }
            },
            "type": "scatterpolar"
           }
          ],
          "scatterpolargl": [
           {
            "marker": {
             "colorbar": {
              "outlinewidth": 0,
              "ticks": ""
             }
            },
            "type": "scatterpolargl"
           }
          ],
          "scatterternary": [
           {
            "marker": {
             "colorbar": {
              "outlinewidth": 0,
              "ticks": ""
             }
            },
            "type": "scatterternary"
           }
          ],
          "surface": [
           {
            "colorbar": {
             "outlinewidth": 0,
             "ticks": ""
            },
            "colorscale": [
             [
              0,
              "#0d0887"
             ],
             [
              0.1111111111111111,
              "#46039f"
             ],
             [
              0.2222222222222222,
              "#7201a8"
             ],
             [
              0.3333333333333333,
              "#9c179e"
             ],
             [
              0.4444444444444444,
              "#bd3786"
             ],
             [
              0.5555555555555556,
              "#d8576b"
             ],
             [
              0.6666666666666666,
              "#ed7953"
             ],
             [
              0.7777777777777778,
              "#fb9f3a"
             ],
             [
              0.8888888888888888,
              "#fdca26"
             ],
             [
              1,
              "#f0f921"
             ]
            ],
            "type": "surface"
           }
          ],
          "table": [
           {
            "cells": {
             "fill": {
              "color": "#EBF0F8"
             },
             "line": {
              "color": "white"
             }
            },
            "header": {
             "fill": {
              "color": "#C8D4E3"
             },
             "line": {
              "color": "white"
             }
            },
            "type": "table"
           }
          ]
         },
         "layout": {
          "annotationdefaults": {
           "arrowcolor": "#2a3f5f",
           "arrowhead": 0,
           "arrowwidth": 1
          },
          "autotypenumbers": "strict",
          "coloraxis": {
           "colorbar": {
            "outlinewidth": 0,
            "ticks": ""
           }
          },
          "colorscale": {
           "diverging": [
            [
             0,
             "#8e0152"
            ],
            [
             0.1,
             "#c51b7d"
            ],
            [
             0.2,
             "#de77ae"
            ],
            [
             0.3,
             "#f1b6da"
            ],
            [
             0.4,
             "#fde0ef"
            ],
            [
             0.5,
             "#f7f7f7"
            ],
            [
             0.6,
             "#e6f5d0"
            ],
            [
             0.7,
             "#b8e186"
            ],
            [
             0.8,
             "#7fbc41"
            ],
            [
             0.9,
             "#4d9221"
            ],
            [
             1,
             "#276419"
            ]
           ],
           "sequential": [
            [
             0,
             "#0d0887"
            ],
            [
             0.1111111111111111,
             "#46039f"
            ],
            [
             0.2222222222222222,
             "#7201a8"
            ],
            [
             0.3333333333333333,
             "#9c179e"
            ],
            [
             0.4444444444444444,
             "#bd3786"
            ],
            [
             0.5555555555555556,
             "#d8576b"
            ],
            [
             0.6666666666666666,
             "#ed7953"
            ],
            [
             0.7777777777777778,
             "#fb9f3a"
            ],
            [
             0.8888888888888888,
             "#fdca26"
            ],
            [
             1,
             "#f0f921"
            ]
           ],
           "sequentialminus": [
            [
             0,
             "#0d0887"
            ],
            [
             0.1111111111111111,
             "#46039f"
            ],
            [
             0.2222222222222222,
             "#7201a8"
            ],
            [
             0.3333333333333333,
             "#9c179e"
            ],
            [
             0.4444444444444444,
             "#bd3786"
            ],
            [
             0.5555555555555556,
             "#d8576b"
            ],
            [
             0.6666666666666666,
             "#ed7953"
            ],
            [
             0.7777777777777778,
             "#fb9f3a"
            ],
            [
             0.8888888888888888,
             "#fdca26"
            ],
            [
             1,
             "#f0f921"
            ]
           ]
          },
          "colorway": [
           "#636efa",
           "#EF553B",
           "#00cc96",
           "#ab63fa",
           "#FFA15A",
           "#19d3f3",
           "#FF6692",
           "#B6E880",
           "#FF97FF",
           "#FECB52"
          ],
          "font": {
           "color": "#2a3f5f"
          },
          "geo": {
           "bgcolor": "white",
           "lakecolor": "white",
           "landcolor": "#E5ECF6",
           "showlakes": true,
           "showland": true,
           "subunitcolor": "white"
          },
          "hoverlabel": {
           "align": "left"
          },
          "hovermode": "closest",
          "mapbox": {
           "style": "light"
          },
          "paper_bgcolor": "white",
          "plot_bgcolor": "#E5ECF6",
          "polar": {
           "angularaxis": {
            "gridcolor": "white",
            "linecolor": "white",
            "ticks": ""
           },
           "bgcolor": "#E5ECF6",
           "radialaxis": {
            "gridcolor": "white",
            "linecolor": "white",
            "ticks": ""
           }
          },
          "scene": {
           "xaxis": {
            "backgroundcolor": "#E5ECF6",
            "gridcolor": "white",
            "gridwidth": 2,
            "linecolor": "white",
            "showbackground": true,
            "ticks": "",
            "zerolinecolor": "white"
           },
           "yaxis": {
            "backgroundcolor": "#E5ECF6",
            "gridcolor": "white",
            "gridwidth": 2,
            "linecolor": "white",
            "showbackground": true,
            "ticks": "",
            "zerolinecolor": "white"
           },
           "zaxis": {
            "backgroundcolor": "#E5ECF6",
            "gridcolor": "white",
            "gridwidth": 2,
            "linecolor": "white",
            "showbackground": true,
            "ticks": "",
            "zerolinecolor": "white"
           }
          },
          "shapedefaults": {
           "line": {
            "color": "#2a3f5f"
           }
          },
          "ternary": {
           "aaxis": {
            "gridcolor": "white",
            "linecolor": "white",
            "ticks": ""
           },
           "baxis": {
            "gridcolor": "white",
            "linecolor": "white",
            "ticks": ""
           },
           "bgcolor": "#E5ECF6",
           "caxis": {
            "gridcolor": "white",
            "linecolor": "white",
            "ticks": ""
           }
          },
          "title": {
           "x": 0.05
          },
          "xaxis": {
           "automargin": true,
           "gridcolor": "white",
           "linecolor": "white",
           "ticks": "",
           "title": {
            "standoff": 15
           },
           "zerolinecolor": "white",
           "zerolinewidth": 2
          },
          "yaxis": {
           "automargin": true,
           "gridcolor": "white",
           "linecolor": "white",
           "ticks": "",
           "title": {
            "standoff": 15
           },
           "zerolinecolor": "white",
           "zerolinewidth": 2
          }
         }
        },
        "xaxis": {
         "anchor": "y",
         "domain": [
          0,
          1
         ],
         "title": {
          "text": "bedrooms"
         }
        },
        "yaxis": {
         "anchor": "x",
         "domain": [
          0,
          1
         ],
         "title": {
          "text": "value"
         }
        }
       }
      },
      "text/html": [
       "<div>                            <div id=\"d8b7a07f-2cf9-46fa-80fa-f0e07f023936\" class=\"plotly-graph-div\" style=\"height:525px; width:100%;\"></div>            <script type=\"text/javascript\">                require([\"plotly\"], function(Plotly) {                    window.PLOTLYENV=window.PLOTLYENV || {};                                    if (document.getElementById(\"d8b7a07f-2cf9-46fa-80fa-f0e07f023936\")) {                    Plotly.newPlot(                        \"d8b7a07f-2cf9-46fa-80fa-f0e07f023936\",                        [{\"alignmentgroup\":\"True\",\"hovertemplate\":\"bedrooms=%{marker.color}\\u003cbr\\u003evalue=%{y}\\u003cextra\\u003e\\u003c\\u002fextra\\u003e\",\"legendgroup\":\"\",\"marker\":{\"color\":[3,2,4,5,6,1],\"coloraxis\":\"coloraxis\",\"pattern\":{\"shape\":\"\"}},\"name\":\"\",\"offsetgroup\":\"\",\"orientation\":\"v\",\"showlegend\":false,\"textposition\":\"auto\",\"x\":[3,2,4,5,6,1],\"xaxis\":\"x\",\"y\":[55.04587155963303,24.954128440366972,17.431192660550458,1.834862385321101,0.3669724770642202,0.3669724770642202],\"yaxis\":\"y\",\"type\":\"bar\"}],                        {\"template\":{\"data\":{\"histogram2dcontour\":[{\"type\":\"histogram2dcontour\",\"colorbar\":{\"outlinewidth\":0,\"ticks\":\"\"},\"colorscale\":[[0.0,\"#0d0887\"],[0.1111111111111111,\"#46039f\"],[0.2222222222222222,\"#7201a8\"],[0.3333333333333333,\"#9c179e\"],[0.4444444444444444,\"#bd3786\"],[0.5555555555555556,\"#d8576b\"],[0.6666666666666666,\"#ed7953\"],[0.7777777777777778,\"#fb9f3a\"],[0.8888888888888888,\"#fdca26\"],[1.0,\"#f0f921\"]]}],\"choropleth\":[{\"type\":\"choropleth\",\"colorbar\":{\"outlinewidth\":0,\"ticks\":\"\"}}],\"histogram2d\":[{\"type\":\"histogram2d\",\"colorbar\":{\"outlinewidth\":0,\"ticks\":\"\"},\"colorscale\":[[0.0,\"#0d0887\"],[0.1111111111111111,\"#46039f\"],[0.2222222222222222,\"#7201a8\"],[0.3333333333333333,\"#9c179e\"],[0.4444444444444444,\"#bd3786\"],[0.5555555555555556,\"#d8576b\"],[0.6666666666666666,\"#ed7953\"],[0.7777777777777778,\"#fb9f3a\"],[0.8888888888888888,\"#fdca26\"],[1.0,\"#f0f921\"]]}],\"heatmap\":[{\"type\":\"heatmap\",\"colorbar\":{\"outlinewidth\":0,\"ticks\":\"\"},\"colorscale\":[[0.0,\"#0d0887\"],[0.1111111111111111,\"#46039f\"],[0.2222222222222222,\"#7201a8\"],[0.3333333333333333,\"#9c179e\"],[0.4444444444444444,\"#bd3786\"],[0.5555555555555556,\"#d8576b\"],[0.6666666666666666,\"#ed7953\"],[0.7777777777777778,\"#fb9f3a\"],[0.8888888888888888,\"#fdca26\"],[1.0,\"#f0f921\"]]}],\"heatmapgl\":[{\"type\":\"heatmapgl\",\"colorbar\":{\"outlinewidth\":0,\"ticks\":\"\"},\"colorscale\":[[0.0,\"#0d0887\"],[0.1111111111111111,\"#46039f\"],[0.2222222222222222,\"#7201a8\"],[0.3333333333333333,\"#9c179e\"],[0.4444444444444444,\"#bd3786\"],[0.5555555555555556,\"#d8576b\"],[0.6666666666666666,\"#ed7953\"],[0.7777777777777778,\"#fb9f3a\"],[0.8888888888888888,\"#fdca26\"],[1.0,\"#f0f921\"]]}],\"contourcarpet\":[{\"type\":\"contourcarpet\",\"colorbar\":{\"outlinewidth\":0,\"ticks\":\"\"}}],\"contour\":[{\"type\":\"contour\",\"colorbar\":{\"outlinewidth\":0,\"ticks\":\"\"},\"colorscale\":[[0.0,\"#0d0887\"],[0.1111111111111111,\"#46039f\"],[0.2222222222222222,\"#7201a8\"],[0.3333333333333333,\"#9c179e\"],[0.4444444444444444,\"#bd3786\"],[0.5555555555555556,\"#d8576b\"],[0.6666666666666666,\"#ed7953\"],[0.7777777777777778,\"#fb9f3a\"],[0.8888888888888888,\"#fdca26\"],[1.0,\"#f0f921\"]]}],\"surface\":[{\"type\":\"surface\",\"colorbar\":{\"outlinewidth\":0,\"ticks\":\"\"},\"colorscale\":[[0.0,\"#0d0887\"],[0.1111111111111111,\"#46039f\"],[0.2222222222222222,\"#7201a8\"],[0.3333333333333333,\"#9c179e\"],[0.4444444444444444,\"#bd3786\"],[0.5555555555555556,\"#d8576b\"],[0.6666666666666666,\"#ed7953\"],[0.7777777777777778,\"#fb9f3a\"],[0.8888888888888888,\"#fdca26\"],[1.0,\"#f0f921\"]]}],\"mesh3d\":[{\"type\":\"mesh3d\",\"colorbar\":{\"outlinewidth\":0,\"ticks\":\"\"}}],\"scatter\":[{\"fillpattern\":{\"fillmode\":\"overlay\",\"size\":10,\"solidity\":0.2},\"type\":\"scatter\"}],\"parcoords\":[{\"type\":\"parcoords\",\"line\":{\"colorbar\":{\"outlinewidth\":0,\"ticks\":\"\"}}}],\"scatterpolargl\":[{\"type\":\"scatterpolargl\",\"marker\":{\"colorbar\":{\"outlinewidth\":0,\"ticks\":\"\"}}}],\"bar\":[{\"error_x\":{\"color\":\"#2a3f5f\"},\"error_y\":{\"color\":\"#2a3f5f\"},\"marker\":{\"line\":{\"color\":\"#E5ECF6\",\"width\":0.5},\"pattern\":{\"fillmode\":\"overlay\",\"size\":10,\"solidity\":0.2}},\"type\":\"bar\"}],\"scattergeo\":[{\"type\":\"scattergeo\",\"marker\":{\"colorbar\":{\"outlinewidth\":0,\"ticks\":\"\"}}}],\"scatterpolar\":[{\"type\":\"scatterpolar\",\"marker\":{\"colorbar\":{\"outlinewidth\":0,\"ticks\":\"\"}}}],\"histogram\":[{\"marker\":{\"pattern\":{\"fillmode\":\"overlay\",\"size\":10,\"solidity\":0.2}},\"type\":\"histogram\"}],\"scattergl\":[{\"type\":\"scattergl\",\"marker\":{\"colorbar\":{\"outlinewidth\":0,\"ticks\":\"\"}}}],\"scatter3d\":[{\"type\":\"scatter3d\",\"line\":{\"colorbar\":{\"outlinewidth\":0,\"ticks\":\"\"}},\"marker\":{\"colorbar\":{\"outlinewidth\":0,\"ticks\":\"\"}}}],\"scattermapbox\":[{\"type\":\"scattermapbox\",\"marker\":{\"colorbar\":{\"outlinewidth\":0,\"ticks\":\"\"}}}],\"scatterternary\":[{\"type\":\"scatterternary\",\"marker\":{\"colorbar\":{\"outlinewidth\":0,\"ticks\":\"\"}}}],\"scattercarpet\":[{\"type\":\"scattercarpet\",\"marker\":{\"colorbar\":{\"outlinewidth\":0,\"ticks\":\"\"}}}],\"carpet\":[{\"aaxis\":{\"endlinecolor\":\"#2a3f5f\",\"gridcolor\":\"white\",\"linecolor\":\"white\",\"minorgridcolor\":\"white\",\"startlinecolor\":\"#2a3f5f\"},\"baxis\":{\"endlinecolor\":\"#2a3f5f\",\"gridcolor\":\"white\",\"linecolor\":\"white\",\"minorgridcolor\":\"white\",\"startlinecolor\":\"#2a3f5f\"},\"type\":\"carpet\"}],\"table\":[{\"cells\":{\"fill\":{\"color\":\"#EBF0F8\"},\"line\":{\"color\":\"white\"}},\"header\":{\"fill\":{\"color\":\"#C8D4E3\"},\"line\":{\"color\":\"white\"}},\"type\":\"table\"}],\"barpolar\":[{\"marker\":{\"line\":{\"color\":\"#E5ECF6\",\"width\":0.5},\"pattern\":{\"fillmode\":\"overlay\",\"size\":10,\"solidity\":0.2}},\"type\":\"barpolar\"}],\"pie\":[{\"automargin\":true,\"type\":\"pie\"}]},\"layout\":{\"autotypenumbers\":\"strict\",\"colorway\":[\"#636efa\",\"#EF553B\",\"#00cc96\",\"#ab63fa\",\"#FFA15A\",\"#19d3f3\",\"#FF6692\",\"#B6E880\",\"#FF97FF\",\"#FECB52\"],\"font\":{\"color\":\"#2a3f5f\"},\"hovermode\":\"closest\",\"hoverlabel\":{\"align\":\"left\"},\"paper_bgcolor\":\"white\",\"plot_bgcolor\":\"#E5ECF6\",\"polar\":{\"bgcolor\":\"#E5ECF6\",\"angularaxis\":{\"gridcolor\":\"white\",\"linecolor\":\"white\",\"ticks\":\"\"},\"radialaxis\":{\"gridcolor\":\"white\",\"linecolor\":\"white\",\"ticks\":\"\"}},\"ternary\":{\"bgcolor\":\"#E5ECF6\",\"aaxis\":{\"gridcolor\":\"white\",\"linecolor\":\"white\",\"ticks\":\"\"},\"baxis\":{\"gridcolor\":\"white\",\"linecolor\":\"white\",\"ticks\":\"\"},\"caxis\":{\"gridcolor\":\"white\",\"linecolor\":\"white\",\"ticks\":\"\"}},\"coloraxis\":{\"colorbar\":{\"outlinewidth\":0,\"ticks\":\"\"}},\"colorscale\":{\"sequential\":[[0.0,\"#0d0887\"],[0.1111111111111111,\"#46039f\"],[0.2222222222222222,\"#7201a8\"],[0.3333333333333333,\"#9c179e\"],[0.4444444444444444,\"#bd3786\"],[0.5555555555555556,\"#d8576b\"],[0.6666666666666666,\"#ed7953\"],[0.7777777777777778,\"#fb9f3a\"],[0.8888888888888888,\"#fdca26\"],[1.0,\"#f0f921\"]],\"sequentialminus\":[[0.0,\"#0d0887\"],[0.1111111111111111,\"#46039f\"],[0.2222222222222222,\"#7201a8\"],[0.3333333333333333,\"#9c179e\"],[0.4444444444444444,\"#bd3786\"],[0.5555555555555556,\"#d8576b\"],[0.6666666666666666,\"#ed7953\"],[0.7777777777777778,\"#fb9f3a\"],[0.8888888888888888,\"#fdca26\"],[1.0,\"#f0f921\"]],\"diverging\":[[0,\"#8e0152\"],[0.1,\"#c51b7d\"],[0.2,\"#de77ae\"],[0.3,\"#f1b6da\"],[0.4,\"#fde0ef\"],[0.5,\"#f7f7f7\"],[0.6,\"#e6f5d0\"],[0.7,\"#b8e186\"],[0.8,\"#7fbc41\"],[0.9,\"#4d9221\"],[1,\"#276419\"]]},\"xaxis\":{\"gridcolor\":\"white\",\"linecolor\":\"white\",\"ticks\":\"\",\"title\":{\"standoff\":15},\"zerolinecolor\":\"white\",\"automargin\":true,\"zerolinewidth\":2},\"yaxis\":{\"gridcolor\":\"white\",\"linecolor\":\"white\",\"ticks\":\"\",\"title\":{\"standoff\":15},\"zerolinecolor\":\"white\",\"automargin\":true,\"zerolinewidth\":2},\"scene\":{\"xaxis\":{\"backgroundcolor\":\"#E5ECF6\",\"gridcolor\":\"white\",\"linecolor\":\"white\",\"showbackground\":true,\"ticks\":\"\",\"zerolinecolor\":\"white\",\"gridwidth\":2},\"yaxis\":{\"backgroundcolor\":\"#E5ECF6\",\"gridcolor\":\"white\",\"linecolor\":\"white\",\"showbackground\":true,\"ticks\":\"\",\"zerolinecolor\":\"white\",\"gridwidth\":2},\"zaxis\":{\"backgroundcolor\":\"#E5ECF6\",\"gridcolor\":\"white\",\"linecolor\":\"white\",\"showbackground\":true,\"ticks\":\"\",\"zerolinecolor\":\"white\",\"gridwidth\":2}},\"shapedefaults\":{\"line\":{\"color\":\"#2a3f5f\"}},\"annotationdefaults\":{\"arrowcolor\":\"#2a3f5f\",\"arrowhead\":0,\"arrowwidth\":1},\"geo\":{\"bgcolor\":\"white\",\"landcolor\":\"#E5ECF6\",\"subunitcolor\":\"white\",\"showland\":true,\"showlakes\":true,\"lakecolor\":\"white\"},\"title\":{\"x\":0.05},\"mapbox\":{\"style\":\"light\"}}},\"xaxis\":{\"anchor\":\"y\",\"domain\":[0.0,1.0],\"title\":{\"text\":\"bedrooms\"}},\"yaxis\":{\"anchor\":\"x\",\"domain\":[0.0,1.0],\"title\":{\"text\":\"value\"}},\"coloraxis\":{\"colorbar\":{\"title\":{\"text\":\"bedrooms\"}},\"colorscale\":[[0.0,\"#0d0887\"],[0.1111111111111111,\"#46039f\"],[0.2222222222222222,\"#7201a8\"],[0.3333333333333333,\"#9c179e\"],[0.4444444444444444,\"#bd3786\"],[0.5555555555555556,\"#d8576b\"],[0.6666666666666666,\"#ed7953\"],[0.7777777777777778,\"#fb9f3a\"],[0.8888888888888888,\"#fdca26\"],[1.0,\"#f0f921\"]]},\"legend\":{\"tracegroupgap\":0},\"margin\":{\"t\":60},\"barmode\":\"relative\"},                        {\"responsive\": true}                    ).then(function(){\n",
       "                            \n",
       "var gd = document.getElementById('d8b7a07f-2cf9-46fa-80fa-f0e07f023936');\n",
       "var x = new MutationObserver(function (mutations, observer) {{\n",
       "        var display = window.getComputedStyle(gd).display;\n",
       "        if (!display || display === 'none') {{\n",
       "            console.log([gd, 'removed!']);\n",
       "            Plotly.purge(gd);\n",
       "            observer.disconnect();\n",
       "        }}\n",
       "}});\n",
       "\n",
       "// Listen for the removal of the full notebook cells\n",
       "var notebookContainer = gd.closest('#notebook-container');\n",
       "if (notebookContainer) {{\n",
       "    x.observe(notebookContainer, {childList: true});\n",
       "}}\n",
       "\n",
       "// Listen for the clearing of the current output cell\n",
       "var outputEl = gd.closest('.output');\n",
       "if (outputEl) {{\n",
       "    x.observe(outputEl, {childList: true});\n",
       "}}\n",
       "\n",
       "                        })                };                });            </script>        </div>"
      ]
     },
     "metadata": {},
     "output_type": "display_data"
    }
   ],
   "source": [
    "# Distribuição da variável bedrooms\n",
    "percentual_furnishingstatus = df['bedrooms'].value_counts(normalize=True) * 100\n",
    "px.bar(percentual_furnishingstatus, color=percentual_furnishingstatus.index,)"
   ]
  },
  {
   "cell_type": "code",
   "execution_count": 39,
   "id": "ac54f964",
   "metadata": {},
   "outputs": [
    {
     "data": {
      "application/vnd.plotly.v1+json": {
       "config": {
        "plotlyServerURL": "https://plot.ly"
       },
       "data": [
        {
         "alignmentgroup": "True",
         "bingroup": "x",
         "hovertemplate": "price=%{x}<br>count=%{y}<extra></extra>",
         "legendgroup": "",
         "marker": {
          "color": "#636efa",
          "pattern": {
           "shape": ""
          }
         },
         "name": "",
         "offsetgroup": "",
         "orientation": "v",
         "showlegend": false,
         "type": "histogram",
         "x": [
          13300000,
          12250000,
          12250000,
          12215000,
          11410000,
          10850000,
          10150000,
          10150000,
          9870000,
          9800000,
          9800000,
          9681000,
          9310000,
          9240000,
          9240000,
          9100000,
          9100000,
          8960000,
          8890000,
          8855000,
          8750000,
          8680000,
          8645000,
          8645000,
          8575000,
          8540000,
          8463000,
          8400000,
          8400000,
          8400000,
          8400000,
          8400000,
          8295000,
          8190000,
          8120000,
          8080940,
          8043000,
          7980000,
          7962500,
          7910000,
          7875000,
          7840000,
          7700000,
          7700000,
          7560000,
          7560000,
          7525000,
          7490000,
          7455000,
          7420000,
          7420000,
          7420000,
          7350000,
          7350000,
          7350000,
          7350000,
          7343000,
          7245000,
          7210000,
          7210000,
          7140000,
          7070000,
          7070000,
          7035000,
          7000000,
          6930000,
          6930000,
          6895000,
          6860000,
          6790000,
          6790000,
          6755000,
          6720000,
          6685000,
          6650000,
          6650000,
          6650000,
          6650000,
          6650000,
          6650000,
          6629000,
          6615000,
          6615000,
          6580000,
          6510000,
          6510000,
          6510000,
          6475000,
          6475000,
          6440000,
          6440000,
          6419000,
          6405000,
          6300000,
          6300000,
          6300000,
          6300000,
          6300000,
          6293000,
          6265000,
          6230000,
          6230000,
          6195000,
          6195000,
          6195000,
          6160000,
          6160000,
          6125000,
          6107500,
          6090000,
          6090000,
          6090000,
          6083000,
          6083000,
          6020000,
          6020000,
          6020000,
          5950000,
          5950000,
          5950000,
          5950000,
          5950000,
          5950000,
          5950000,
          5950000,
          5943000,
          5880000,
          5880000,
          5873000,
          5873000,
          5866000,
          5810000,
          5810000,
          5810000,
          5803000,
          5775000,
          5740000,
          5740000,
          5740000,
          5740000,
          5740000,
          5652500,
          5600000,
          5600000,
          5600000,
          5600000,
          5600000,
          5600000,
          5600000,
          5600000,
          5600000,
          5565000,
          5565000,
          5530000,
          5530000,
          5530000,
          5523000,
          5495000,
          5495000,
          5460000,
          5460000,
          5460000,
          5460000,
          5425000,
          5390000,
          5383000,
          5320000,
          5285000,
          5250000,
          5250000,
          5250000,
          5250000,
          5250000,
          5250000,
          5250000,
          5250000,
          5250000,
          5243000,
          5229000,
          5215000,
          5215000,
          5215000,
          5145000,
          5145000,
          5110000,
          5110000,
          5110000,
          5110000,
          5075000,
          5040000,
          5040000,
          5040000,
          5040000,
          5033000,
          5005000,
          4970000,
          4970000,
          4956000,
          4935000,
          4907000,
          4900000,
          4900000,
          4900000,
          4900000,
          4900000,
          4900000,
          4900000,
          4900000,
          4900000,
          4900000,
          4900000,
          4900000,
          4893000,
          4893000,
          4865000,
          4830000,
          4830000,
          4830000,
          4830000,
          4795000,
          4795000,
          4767000,
          4760000,
          4760000,
          4760000,
          4753000,
          4690000,
          4690000,
          4690000,
          4690000,
          4690000,
          4690000,
          4655000,
          4620000,
          4620000,
          4620000,
          4620000,
          4620000,
          4613000,
          4585000,
          4585000,
          4550000,
          4550000,
          4550000,
          4550000,
          4550000,
          4550000,
          4550000,
          4543000,
          4543000,
          4515000,
          4515000,
          4515000,
          4515000,
          4480000,
          4480000,
          4480000,
          4480000,
          4480000,
          4473000,
          4473000,
          4473000,
          4445000,
          4410000,
          4410000,
          4403000,
          4403000,
          4403000,
          4382000,
          4375000,
          4340000,
          4340000,
          4340000,
          4340000,
          4340000,
          4319000,
          4305000,
          4305000,
          4277000,
          4270000,
          4270000,
          4270000,
          4270000,
          4270000,
          4270000,
          4235000,
          4235000,
          4200000,
          4200000,
          4200000,
          4200000,
          4200000,
          4200000,
          4200000,
          4200000,
          4200000,
          4200000,
          4200000,
          4200000,
          4200000,
          4200000,
          4200000,
          4200000,
          4200000,
          4193000,
          4193000,
          4165000,
          4165000,
          4165000,
          4130000,
          4130000,
          4123000,
          4098500,
          4095000,
          4095000,
          4095000,
          4060000,
          4060000,
          4060000,
          4060000,
          4060000,
          4025000,
          4025000,
          4025000,
          4007500,
          4007500,
          3990000,
          3990000,
          3990000,
          3990000,
          3990000,
          3920000,
          3920000,
          3920000,
          3920000,
          3920000,
          3920000,
          3920000,
          3885000,
          3885000,
          3850000,
          3850000,
          3850000,
          3850000,
          3850000,
          3850000,
          3850000,
          3836000,
          3815000,
          3780000,
          3780000,
          3780000,
          3780000,
          3780000,
          3780000,
          3773000,
          3773000,
          3773000,
          3745000,
          3710000,
          3710000,
          3710000,
          3710000,
          3710000,
          3703000,
          3703000,
          3675000,
          3675000,
          3675000,
          3675000,
          3640000,
          3640000,
          3640000,
          3640000,
          3640000,
          3640000,
          3640000,
          3640000,
          3640000,
          3633000,
          3605000,
          3605000,
          3570000,
          3570000,
          3570000,
          3570000,
          3535000,
          3500000,
          3500000,
          3500000,
          3500000,
          3500000,
          3500000,
          3500000,
          3500000,
          3500000,
          3500000,
          3500000,
          3500000,
          3500000,
          3500000,
          3500000,
          3500000,
          3500000,
          3493000,
          3465000,
          3465000,
          3465000,
          3430000,
          3430000,
          3430000,
          3430000,
          3430000,
          3430000,
          3423000,
          3395000,
          3395000,
          3395000,
          3360000,
          3360000,
          3360000,
          3360000,
          3360000,
          3360000,
          3360000,
          3360000,
          3353000,
          3332000,
          3325000,
          3325000,
          3290000,
          3290000,
          3290000,
          3290000,
          3290000,
          3290000,
          3290000,
          3290000,
          3255000,
          3255000,
          3234000,
          3220000,
          3220000,
          3220000,
          3220000,
          3150000,
          3150000,
          3150000,
          3150000,
          3150000,
          3150000,
          3150000,
          3150000,
          3150000,
          3143000,
          3129000,
          3118850,
          3115000,
          3115000,
          3115000,
          3087000,
          3080000,
          3080000,
          3080000,
          3080000,
          3045000,
          3010000,
          3010000,
          3010000,
          3010000,
          3010000,
          3010000,
          3010000,
          3003000,
          2975000,
          2961000,
          2940000,
          2940000,
          2940000,
          2940000,
          2940000,
          2940000,
          2940000,
          2940000,
          2870000,
          2870000,
          2870000,
          2870000,
          2852500,
          2835000,
          2835000,
          2835000,
          2800000,
          2800000,
          2730000,
          2730000,
          2695000,
          2660000,
          2660000,
          2660000,
          2660000,
          2660000,
          2660000,
          2660000,
          2653000,
          2653000,
          2604000,
          2590000,
          2590000,
          2590000,
          2520000,
          2520000,
          2520000,
          2485000,
          2485000,
          2450000,
          2450000,
          2450000,
          2450000,
          2450000,
          2450000,
          2408000,
          2380000,
          2380000,
          2380000,
          2345000,
          2310000,
          2275000,
          2275000,
          2275000,
          2240000,
          2233000,
          2135000,
          2100000,
          2100000,
          2100000,
          1960000,
          1890000,
          1890000,
          1855000,
          1820000,
          1767150,
          1750000,
          1750000,
          1750000
         ],
         "xaxis": "x",
         "yaxis": "y"
        }
       ],
       "layout": {
        "barmode": "relative",
        "legend": {
         "tracegroupgap": 0
        },
        "template": {
         "data": {
          "bar": [
           {
            "error_x": {
             "color": "#2a3f5f"
            },
            "error_y": {
             "color": "#2a3f5f"
            },
            "marker": {
             "line": {
              "color": "#E5ECF6",
              "width": 0.5
             },
             "pattern": {
              "fillmode": "overlay",
              "size": 10,
              "solidity": 0.2
             }
            },
            "type": "bar"
           }
          ],
          "barpolar": [
           {
            "marker": {
             "line": {
              "color": "#E5ECF6",
              "width": 0.5
             },
             "pattern": {
              "fillmode": "overlay",
              "size": 10,
              "solidity": 0.2
             }
            },
            "type": "barpolar"
           }
          ],
          "carpet": [
           {
            "aaxis": {
             "endlinecolor": "#2a3f5f",
             "gridcolor": "white",
             "linecolor": "white",
             "minorgridcolor": "white",
             "startlinecolor": "#2a3f5f"
            },
            "baxis": {
             "endlinecolor": "#2a3f5f",
             "gridcolor": "white",
             "linecolor": "white",
             "minorgridcolor": "white",
             "startlinecolor": "#2a3f5f"
            },
            "type": "carpet"
           }
          ],
          "choropleth": [
           {
            "colorbar": {
             "outlinewidth": 0,
             "ticks": ""
            },
            "type": "choropleth"
           }
          ],
          "contour": [
           {
            "colorbar": {
             "outlinewidth": 0,
             "ticks": ""
            },
            "colorscale": [
             [
              0,
              "#0d0887"
             ],
             [
              0.1111111111111111,
              "#46039f"
             ],
             [
              0.2222222222222222,
              "#7201a8"
             ],
             [
              0.3333333333333333,
              "#9c179e"
             ],
             [
              0.4444444444444444,
              "#bd3786"
             ],
             [
              0.5555555555555556,
              "#d8576b"
             ],
             [
              0.6666666666666666,
              "#ed7953"
             ],
             [
              0.7777777777777778,
              "#fb9f3a"
             ],
             [
              0.8888888888888888,
              "#fdca26"
             ],
             [
              1,
              "#f0f921"
             ]
            ],
            "type": "contour"
           }
          ],
          "contourcarpet": [
           {
            "colorbar": {
             "outlinewidth": 0,
             "ticks": ""
            },
            "type": "contourcarpet"
           }
          ],
          "heatmap": [
           {
            "colorbar": {
             "outlinewidth": 0,
             "ticks": ""
            },
            "colorscale": [
             [
              0,
              "#0d0887"
             ],
             [
              0.1111111111111111,
              "#46039f"
             ],
             [
              0.2222222222222222,
              "#7201a8"
             ],
             [
              0.3333333333333333,
              "#9c179e"
             ],
             [
              0.4444444444444444,
              "#bd3786"
             ],
             [
              0.5555555555555556,
              "#d8576b"
             ],
             [
              0.6666666666666666,
              "#ed7953"
             ],
             [
              0.7777777777777778,
              "#fb9f3a"
             ],
             [
              0.8888888888888888,
              "#fdca26"
             ],
             [
              1,
              "#f0f921"
             ]
            ],
            "type": "heatmap"
           }
          ],
          "heatmapgl": [
           {
            "colorbar": {
             "outlinewidth": 0,
             "ticks": ""
            },
            "colorscale": [
             [
              0,
              "#0d0887"
             ],
             [
              0.1111111111111111,
              "#46039f"
             ],
             [
              0.2222222222222222,
              "#7201a8"
             ],
             [
              0.3333333333333333,
              "#9c179e"
             ],
             [
              0.4444444444444444,
              "#bd3786"
             ],
             [
              0.5555555555555556,
              "#d8576b"
             ],
             [
              0.6666666666666666,
              "#ed7953"
             ],
             [
              0.7777777777777778,
              "#fb9f3a"
             ],
             [
              0.8888888888888888,
              "#fdca26"
             ],
             [
              1,
              "#f0f921"
             ]
            ],
            "type": "heatmapgl"
           }
          ],
          "histogram": [
           {
            "marker": {
             "pattern": {
              "fillmode": "overlay",
              "size": 10,
              "solidity": 0.2
             }
            },
            "type": "histogram"
           }
          ],
          "histogram2d": [
           {
            "colorbar": {
             "outlinewidth": 0,
             "ticks": ""
            },
            "colorscale": [
             [
              0,
              "#0d0887"
             ],
             [
              0.1111111111111111,
              "#46039f"
             ],
             [
              0.2222222222222222,
              "#7201a8"
             ],
             [
              0.3333333333333333,
              "#9c179e"
             ],
             [
              0.4444444444444444,
              "#bd3786"
             ],
             [
              0.5555555555555556,
              "#d8576b"
             ],
             [
              0.6666666666666666,
              "#ed7953"
             ],
             [
              0.7777777777777778,
              "#fb9f3a"
             ],
             [
              0.8888888888888888,
              "#fdca26"
             ],
             [
              1,
              "#f0f921"
             ]
            ],
            "type": "histogram2d"
           }
          ],
          "histogram2dcontour": [
           {
            "colorbar": {
             "outlinewidth": 0,
             "ticks": ""
            },
            "colorscale": [
             [
              0,
              "#0d0887"
             ],
             [
              0.1111111111111111,
              "#46039f"
             ],
             [
              0.2222222222222222,
              "#7201a8"
             ],
             [
              0.3333333333333333,
              "#9c179e"
             ],
             [
              0.4444444444444444,
              "#bd3786"
             ],
             [
              0.5555555555555556,
              "#d8576b"
             ],
             [
              0.6666666666666666,
              "#ed7953"
             ],
             [
              0.7777777777777778,
              "#fb9f3a"
             ],
             [
              0.8888888888888888,
              "#fdca26"
             ],
             [
              1,
              "#f0f921"
             ]
            ],
            "type": "histogram2dcontour"
           }
          ],
          "mesh3d": [
           {
            "colorbar": {
             "outlinewidth": 0,
             "ticks": ""
            },
            "type": "mesh3d"
           }
          ],
          "parcoords": [
           {
            "line": {
             "colorbar": {
              "outlinewidth": 0,
              "ticks": ""
             }
            },
            "type": "parcoords"
           }
          ],
          "pie": [
           {
            "automargin": true,
            "type": "pie"
           }
          ],
          "scatter": [
           {
            "fillpattern": {
             "fillmode": "overlay",
             "size": 10,
             "solidity": 0.2
            },
            "type": "scatter"
           }
          ],
          "scatter3d": [
           {
            "line": {
             "colorbar": {
              "outlinewidth": 0,
              "ticks": ""
             }
            },
            "marker": {
             "colorbar": {
              "outlinewidth": 0,
              "ticks": ""
             }
            },
            "type": "scatter3d"
           }
          ],
          "scattercarpet": [
           {
            "marker": {
             "colorbar": {
              "outlinewidth": 0,
              "ticks": ""
             }
            },
            "type": "scattercarpet"
           }
          ],
          "scattergeo": [
           {
            "marker": {
             "colorbar": {
              "outlinewidth": 0,
              "ticks": ""
             }
            },
            "type": "scattergeo"
           }
          ],
          "scattergl": [
           {
            "marker": {
             "colorbar": {
              "outlinewidth": 0,
              "ticks": ""
             }
            },
            "type": "scattergl"
           }
          ],
          "scattermapbox": [
           {
            "marker": {
             "colorbar": {
              "outlinewidth": 0,
              "ticks": ""
             }
            },
            "type": "scattermapbox"
           }
          ],
          "scatterpolar": [
           {
            "marker": {
             "colorbar": {
              "outlinewidth": 0,
              "ticks": ""
             }
            },
            "type": "scatterpolar"
           }
          ],
          "scatterpolargl": [
           {
            "marker": {
             "colorbar": {
              "outlinewidth": 0,
              "ticks": ""
             }
            },
            "type": "scatterpolargl"
           }
          ],
          "scatterternary": [
           {
            "marker": {
             "colorbar": {
              "outlinewidth": 0,
              "ticks": ""
             }
            },
            "type": "scatterternary"
           }
          ],
          "surface": [
           {
            "colorbar": {
             "outlinewidth": 0,
             "ticks": ""
            },
            "colorscale": [
             [
              0,
              "#0d0887"
             ],
             [
              0.1111111111111111,
              "#46039f"
             ],
             [
              0.2222222222222222,
              "#7201a8"
             ],
             [
              0.3333333333333333,
              "#9c179e"
             ],
             [
              0.4444444444444444,
              "#bd3786"
             ],
             [
              0.5555555555555556,
              "#d8576b"
             ],
             [
              0.6666666666666666,
              "#ed7953"
             ],
             [
              0.7777777777777778,
              "#fb9f3a"
             ],
             [
              0.8888888888888888,
              "#fdca26"
             ],
             [
              1,
              "#f0f921"
             ]
            ],
            "type": "surface"
           }
          ],
          "table": [
           {
            "cells": {
             "fill": {
              "color": "#EBF0F8"
             },
             "line": {
              "color": "white"
             }
            },
            "header": {
             "fill": {
              "color": "#C8D4E3"
             },
             "line": {
              "color": "white"
             }
            },
            "type": "table"
           }
          ]
         },
         "layout": {
          "annotationdefaults": {
           "arrowcolor": "#2a3f5f",
           "arrowhead": 0,
           "arrowwidth": 1
          },
          "autotypenumbers": "strict",
          "coloraxis": {
           "colorbar": {
            "outlinewidth": 0,
            "ticks": ""
           }
          },
          "colorscale": {
           "diverging": [
            [
             0,
             "#8e0152"
            ],
            [
             0.1,
             "#c51b7d"
            ],
            [
             0.2,
             "#de77ae"
            ],
            [
             0.3,
             "#f1b6da"
            ],
            [
             0.4,
             "#fde0ef"
            ],
            [
             0.5,
             "#f7f7f7"
            ],
            [
             0.6,
             "#e6f5d0"
            ],
            [
             0.7,
             "#b8e186"
            ],
            [
             0.8,
             "#7fbc41"
            ],
            [
             0.9,
             "#4d9221"
            ],
            [
             1,
             "#276419"
            ]
           ],
           "sequential": [
            [
             0,
             "#0d0887"
            ],
            [
             0.1111111111111111,
             "#46039f"
            ],
            [
             0.2222222222222222,
             "#7201a8"
            ],
            [
             0.3333333333333333,
             "#9c179e"
            ],
            [
             0.4444444444444444,
             "#bd3786"
            ],
            [
             0.5555555555555556,
             "#d8576b"
            ],
            [
             0.6666666666666666,
             "#ed7953"
            ],
            [
             0.7777777777777778,
             "#fb9f3a"
            ],
            [
             0.8888888888888888,
             "#fdca26"
            ],
            [
             1,
             "#f0f921"
            ]
           ],
           "sequentialminus": [
            [
             0,
             "#0d0887"
            ],
            [
             0.1111111111111111,
             "#46039f"
            ],
            [
             0.2222222222222222,
             "#7201a8"
            ],
            [
             0.3333333333333333,
             "#9c179e"
            ],
            [
             0.4444444444444444,
             "#bd3786"
            ],
            [
             0.5555555555555556,
             "#d8576b"
            ],
            [
             0.6666666666666666,
             "#ed7953"
            ],
            [
             0.7777777777777778,
             "#fb9f3a"
            ],
            [
             0.8888888888888888,
             "#fdca26"
            ],
            [
             1,
             "#f0f921"
            ]
           ]
          },
          "colorway": [
           "#636efa",
           "#EF553B",
           "#00cc96",
           "#ab63fa",
           "#FFA15A",
           "#19d3f3",
           "#FF6692",
           "#B6E880",
           "#FF97FF",
           "#FECB52"
          ],
          "font": {
           "color": "#2a3f5f"
          },
          "geo": {
           "bgcolor": "white",
           "lakecolor": "white",
           "landcolor": "#E5ECF6",
           "showlakes": true,
           "showland": true,
           "subunitcolor": "white"
          },
          "hoverlabel": {
           "align": "left"
          },
          "hovermode": "closest",
          "mapbox": {
           "style": "light"
          },
          "paper_bgcolor": "white",
          "plot_bgcolor": "#E5ECF6",
          "polar": {
           "angularaxis": {
            "gridcolor": "white",
            "linecolor": "white",
            "ticks": ""
           },
           "bgcolor": "#E5ECF6",
           "radialaxis": {
            "gridcolor": "white",
            "linecolor": "white",
            "ticks": ""
           }
          },
          "scene": {
           "xaxis": {
            "backgroundcolor": "#E5ECF6",
            "gridcolor": "white",
            "gridwidth": 2,
            "linecolor": "white",
            "showbackground": true,
            "ticks": "",
            "zerolinecolor": "white"
           },
           "yaxis": {
            "backgroundcolor": "#E5ECF6",
            "gridcolor": "white",
            "gridwidth": 2,
            "linecolor": "white",
            "showbackground": true,
            "ticks": "",
            "zerolinecolor": "white"
           },
           "zaxis": {
            "backgroundcolor": "#E5ECF6",
            "gridcolor": "white",
            "gridwidth": 2,
            "linecolor": "white",
            "showbackground": true,
            "ticks": "",
            "zerolinecolor": "white"
           }
          },
          "shapedefaults": {
           "line": {
            "color": "#2a3f5f"
           }
          },
          "ternary": {
           "aaxis": {
            "gridcolor": "white",
            "linecolor": "white",
            "ticks": ""
           },
           "baxis": {
            "gridcolor": "white",
            "linecolor": "white",
            "ticks": ""
           },
           "bgcolor": "#E5ECF6",
           "caxis": {
            "gridcolor": "white",
            "linecolor": "white",
            "ticks": ""
           }
          },
          "title": {
           "x": 0.05
          },
          "xaxis": {
           "automargin": true,
           "gridcolor": "white",
           "linecolor": "white",
           "ticks": "",
           "title": {
            "standoff": 15
           },
           "zerolinecolor": "white",
           "zerolinewidth": 2
          },
          "yaxis": {
           "automargin": true,
           "gridcolor": "white",
           "linecolor": "white",
           "ticks": "",
           "title": {
            "standoff": 15
           },
           "zerolinecolor": "white",
           "zerolinewidth": 2
          }
         }
        },
        "title": {
         "text": "histograma da variável price"
        },
        "xaxis": {
         "anchor": "y",
         "domain": [
          0,
          1
         ],
         "title": {
          "text": "price"
         }
        },
        "yaxis": {
         "anchor": "x",
         "domain": [
          0,
          1
         ],
         "title": {
          "text": "count"
         }
        }
       }
      },
      "text/html": [
       "<div>                            <div id=\"f264c58e-c40a-498d-a6dc-eb7c2dc64b1c\" class=\"plotly-graph-div\" style=\"height:525px; width:100%;\"></div>            <script type=\"text/javascript\">                require([\"plotly\"], function(Plotly) {                    window.PLOTLYENV=window.PLOTLYENV || {};                                    if (document.getElementById(\"f264c58e-c40a-498d-a6dc-eb7c2dc64b1c\")) {                    Plotly.newPlot(                        \"f264c58e-c40a-498d-a6dc-eb7c2dc64b1c\",                        [{\"alignmentgroup\":\"True\",\"bingroup\":\"x\",\"hovertemplate\":\"price=%{x}\\u003cbr\\u003ecount=%{y}\\u003cextra\\u003e\\u003c\\u002fextra\\u003e\",\"legendgroup\":\"\",\"marker\":{\"color\":\"#636efa\",\"pattern\":{\"shape\":\"\"}},\"name\":\"\",\"offsetgroup\":\"\",\"orientation\":\"v\",\"showlegend\":false,\"x\":[13300000,12250000,12250000,12215000,11410000,10850000,10150000,10150000,9870000,9800000,9800000,9681000,9310000,9240000,9240000,9100000,9100000,8960000,8890000,8855000,8750000,8680000,8645000,8645000,8575000,8540000,8463000,8400000,8400000,8400000,8400000,8400000,8295000,8190000,8120000,8080940,8043000,7980000,7962500,7910000,7875000,7840000,7700000,7700000,7560000,7560000,7525000,7490000,7455000,7420000,7420000,7420000,7350000,7350000,7350000,7350000,7343000,7245000,7210000,7210000,7140000,7070000,7070000,7035000,7000000,6930000,6930000,6895000,6860000,6790000,6790000,6755000,6720000,6685000,6650000,6650000,6650000,6650000,6650000,6650000,6629000,6615000,6615000,6580000,6510000,6510000,6510000,6475000,6475000,6440000,6440000,6419000,6405000,6300000,6300000,6300000,6300000,6300000,6293000,6265000,6230000,6230000,6195000,6195000,6195000,6160000,6160000,6125000,6107500,6090000,6090000,6090000,6083000,6083000,6020000,6020000,6020000,5950000,5950000,5950000,5950000,5950000,5950000,5950000,5950000,5943000,5880000,5880000,5873000,5873000,5866000,5810000,5810000,5810000,5803000,5775000,5740000,5740000,5740000,5740000,5740000,5652500,5600000,5600000,5600000,5600000,5600000,5600000,5600000,5600000,5600000,5565000,5565000,5530000,5530000,5530000,5523000,5495000,5495000,5460000,5460000,5460000,5460000,5425000,5390000,5383000,5320000,5285000,5250000,5250000,5250000,5250000,5250000,5250000,5250000,5250000,5250000,5243000,5229000,5215000,5215000,5215000,5145000,5145000,5110000,5110000,5110000,5110000,5075000,5040000,5040000,5040000,5040000,5033000,5005000,4970000,4970000,4956000,4935000,4907000,4900000,4900000,4900000,4900000,4900000,4900000,4900000,4900000,4900000,4900000,4900000,4900000,4893000,4893000,4865000,4830000,4830000,4830000,4830000,4795000,4795000,4767000,4760000,4760000,4760000,4753000,4690000,4690000,4690000,4690000,4690000,4690000,4655000,4620000,4620000,4620000,4620000,4620000,4613000,4585000,4585000,4550000,4550000,4550000,4550000,4550000,4550000,4550000,4543000,4543000,4515000,4515000,4515000,4515000,4480000,4480000,4480000,4480000,4480000,4473000,4473000,4473000,4445000,4410000,4410000,4403000,4403000,4403000,4382000,4375000,4340000,4340000,4340000,4340000,4340000,4319000,4305000,4305000,4277000,4270000,4270000,4270000,4270000,4270000,4270000,4235000,4235000,4200000,4200000,4200000,4200000,4200000,4200000,4200000,4200000,4200000,4200000,4200000,4200000,4200000,4200000,4200000,4200000,4200000,4193000,4193000,4165000,4165000,4165000,4130000,4130000,4123000,4098500,4095000,4095000,4095000,4060000,4060000,4060000,4060000,4060000,4025000,4025000,4025000,4007500,4007500,3990000,3990000,3990000,3990000,3990000,3920000,3920000,3920000,3920000,3920000,3920000,3920000,3885000,3885000,3850000,3850000,3850000,3850000,3850000,3850000,3850000,3836000,3815000,3780000,3780000,3780000,3780000,3780000,3780000,3773000,3773000,3773000,3745000,3710000,3710000,3710000,3710000,3710000,3703000,3703000,3675000,3675000,3675000,3675000,3640000,3640000,3640000,3640000,3640000,3640000,3640000,3640000,3640000,3633000,3605000,3605000,3570000,3570000,3570000,3570000,3535000,3500000,3500000,3500000,3500000,3500000,3500000,3500000,3500000,3500000,3500000,3500000,3500000,3500000,3500000,3500000,3500000,3500000,3493000,3465000,3465000,3465000,3430000,3430000,3430000,3430000,3430000,3430000,3423000,3395000,3395000,3395000,3360000,3360000,3360000,3360000,3360000,3360000,3360000,3360000,3353000,3332000,3325000,3325000,3290000,3290000,3290000,3290000,3290000,3290000,3290000,3290000,3255000,3255000,3234000,3220000,3220000,3220000,3220000,3150000,3150000,3150000,3150000,3150000,3150000,3150000,3150000,3150000,3143000,3129000,3118850,3115000,3115000,3115000,3087000,3080000,3080000,3080000,3080000,3045000,3010000,3010000,3010000,3010000,3010000,3010000,3010000,3003000,2975000,2961000,2940000,2940000,2940000,2940000,2940000,2940000,2940000,2940000,2870000,2870000,2870000,2870000,2852500,2835000,2835000,2835000,2800000,2800000,2730000,2730000,2695000,2660000,2660000,2660000,2660000,2660000,2660000,2660000,2653000,2653000,2604000,2590000,2590000,2590000,2520000,2520000,2520000,2485000,2485000,2450000,2450000,2450000,2450000,2450000,2450000,2408000,2380000,2380000,2380000,2345000,2310000,2275000,2275000,2275000,2240000,2233000,2135000,2100000,2100000,2100000,1960000,1890000,1890000,1855000,1820000,1767150,1750000,1750000,1750000],\"xaxis\":\"x\",\"yaxis\":\"y\",\"type\":\"histogram\"}],                        {\"template\":{\"data\":{\"histogram2dcontour\":[{\"type\":\"histogram2dcontour\",\"colorbar\":{\"outlinewidth\":0,\"ticks\":\"\"},\"colorscale\":[[0.0,\"#0d0887\"],[0.1111111111111111,\"#46039f\"],[0.2222222222222222,\"#7201a8\"],[0.3333333333333333,\"#9c179e\"],[0.4444444444444444,\"#bd3786\"],[0.5555555555555556,\"#d8576b\"],[0.6666666666666666,\"#ed7953\"],[0.7777777777777778,\"#fb9f3a\"],[0.8888888888888888,\"#fdca26\"],[1.0,\"#f0f921\"]]}],\"choropleth\":[{\"type\":\"choropleth\",\"colorbar\":{\"outlinewidth\":0,\"ticks\":\"\"}}],\"histogram2d\":[{\"type\":\"histogram2d\",\"colorbar\":{\"outlinewidth\":0,\"ticks\":\"\"},\"colorscale\":[[0.0,\"#0d0887\"],[0.1111111111111111,\"#46039f\"],[0.2222222222222222,\"#7201a8\"],[0.3333333333333333,\"#9c179e\"],[0.4444444444444444,\"#bd3786\"],[0.5555555555555556,\"#d8576b\"],[0.6666666666666666,\"#ed7953\"],[0.7777777777777778,\"#fb9f3a\"],[0.8888888888888888,\"#fdca26\"],[1.0,\"#f0f921\"]]}],\"heatmap\":[{\"type\":\"heatmap\",\"colorbar\":{\"outlinewidth\":0,\"ticks\":\"\"},\"colorscale\":[[0.0,\"#0d0887\"],[0.1111111111111111,\"#46039f\"],[0.2222222222222222,\"#7201a8\"],[0.3333333333333333,\"#9c179e\"],[0.4444444444444444,\"#bd3786\"],[0.5555555555555556,\"#d8576b\"],[0.6666666666666666,\"#ed7953\"],[0.7777777777777778,\"#fb9f3a\"],[0.8888888888888888,\"#fdca26\"],[1.0,\"#f0f921\"]]}],\"heatmapgl\":[{\"type\":\"heatmapgl\",\"colorbar\":{\"outlinewidth\":0,\"ticks\":\"\"},\"colorscale\":[[0.0,\"#0d0887\"],[0.1111111111111111,\"#46039f\"],[0.2222222222222222,\"#7201a8\"],[0.3333333333333333,\"#9c179e\"],[0.4444444444444444,\"#bd3786\"],[0.5555555555555556,\"#d8576b\"],[0.6666666666666666,\"#ed7953\"],[0.7777777777777778,\"#fb9f3a\"],[0.8888888888888888,\"#fdca26\"],[1.0,\"#f0f921\"]]}],\"contourcarpet\":[{\"type\":\"contourcarpet\",\"colorbar\":{\"outlinewidth\":0,\"ticks\":\"\"}}],\"contour\":[{\"type\":\"contour\",\"colorbar\":{\"outlinewidth\":0,\"ticks\":\"\"},\"colorscale\":[[0.0,\"#0d0887\"],[0.1111111111111111,\"#46039f\"],[0.2222222222222222,\"#7201a8\"],[0.3333333333333333,\"#9c179e\"],[0.4444444444444444,\"#bd3786\"],[0.5555555555555556,\"#d8576b\"],[0.6666666666666666,\"#ed7953\"],[0.7777777777777778,\"#fb9f3a\"],[0.8888888888888888,\"#fdca26\"],[1.0,\"#f0f921\"]]}],\"surface\":[{\"type\":\"surface\",\"colorbar\":{\"outlinewidth\":0,\"ticks\":\"\"},\"colorscale\":[[0.0,\"#0d0887\"],[0.1111111111111111,\"#46039f\"],[0.2222222222222222,\"#7201a8\"],[0.3333333333333333,\"#9c179e\"],[0.4444444444444444,\"#bd3786\"],[0.5555555555555556,\"#d8576b\"],[0.6666666666666666,\"#ed7953\"],[0.7777777777777778,\"#fb9f3a\"],[0.8888888888888888,\"#fdca26\"],[1.0,\"#f0f921\"]]}],\"mesh3d\":[{\"type\":\"mesh3d\",\"colorbar\":{\"outlinewidth\":0,\"ticks\":\"\"}}],\"scatter\":[{\"fillpattern\":{\"fillmode\":\"overlay\",\"size\":10,\"solidity\":0.2},\"type\":\"scatter\"}],\"parcoords\":[{\"type\":\"parcoords\",\"line\":{\"colorbar\":{\"outlinewidth\":0,\"ticks\":\"\"}}}],\"scatterpolargl\":[{\"type\":\"scatterpolargl\",\"marker\":{\"colorbar\":{\"outlinewidth\":0,\"ticks\":\"\"}}}],\"bar\":[{\"error_x\":{\"color\":\"#2a3f5f\"},\"error_y\":{\"color\":\"#2a3f5f\"},\"marker\":{\"line\":{\"color\":\"#E5ECF6\",\"width\":0.5},\"pattern\":{\"fillmode\":\"overlay\",\"size\":10,\"solidity\":0.2}},\"type\":\"bar\"}],\"scattergeo\":[{\"type\":\"scattergeo\",\"marker\":{\"colorbar\":{\"outlinewidth\":0,\"ticks\":\"\"}}}],\"scatterpolar\":[{\"type\":\"scatterpolar\",\"marker\":{\"colorbar\":{\"outlinewidth\":0,\"ticks\":\"\"}}}],\"histogram\":[{\"marker\":{\"pattern\":{\"fillmode\":\"overlay\",\"size\":10,\"solidity\":0.2}},\"type\":\"histogram\"}],\"scattergl\":[{\"type\":\"scattergl\",\"marker\":{\"colorbar\":{\"outlinewidth\":0,\"ticks\":\"\"}}}],\"scatter3d\":[{\"type\":\"scatter3d\",\"line\":{\"colorbar\":{\"outlinewidth\":0,\"ticks\":\"\"}},\"marker\":{\"colorbar\":{\"outlinewidth\":0,\"ticks\":\"\"}}}],\"scattermapbox\":[{\"type\":\"scattermapbox\",\"marker\":{\"colorbar\":{\"outlinewidth\":0,\"ticks\":\"\"}}}],\"scatterternary\":[{\"type\":\"scatterternary\",\"marker\":{\"colorbar\":{\"outlinewidth\":0,\"ticks\":\"\"}}}],\"scattercarpet\":[{\"type\":\"scattercarpet\",\"marker\":{\"colorbar\":{\"outlinewidth\":0,\"ticks\":\"\"}}}],\"carpet\":[{\"aaxis\":{\"endlinecolor\":\"#2a3f5f\",\"gridcolor\":\"white\",\"linecolor\":\"white\",\"minorgridcolor\":\"white\",\"startlinecolor\":\"#2a3f5f\"},\"baxis\":{\"endlinecolor\":\"#2a3f5f\",\"gridcolor\":\"white\",\"linecolor\":\"white\",\"minorgridcolor\":\"white\",\"startlinecolor\":\"#2a3f5f\"},\"type\":\"carpet\"}],\"table\":[{\"cells\":{\"fill\":{\"color\":\"#EBF0F8\"},\"line\":{\"color\":\"white\"}},\"header\":{\"fill\":{\"color\":\"#C8D4E3\"},\"line\":{\"color\":\"white\"}},\"type\":\"table\"}],\"barpolar\":[{\"marker\":{\"line\":{\"color\":\"#E5ECF6\",\"width\":0.5},\"pattern\":{\"fillmode\":\"overlay\",\"size\":10,\"solidity\":0.2}},\"type\":\"barpolar\"}],\"pie\":[{\"automargin\":true,\"type\":\"pie\"}]},\"layout\":{\"autotypenumbers\":\"strict\",\"colorway\":[\"#636efa\",\"#EF553B\",\"#00cc96\",\"#ab63fa\",\"#FFA15A\",\"#19d3f3\",\"#FF6692\",\"#B6E880\",\"#FF97FF\",\"#FECB52\"],\"font\":{\"color\":\"#2a3f5f\"},\"hovermode\":\"closest\",\"hoverlabel\":{\"align\":\"left\"},\"paper_bgcolor\":\"white\",\"plot_bgcolor\":\"#E5ECF6\",\"polar\":{\"bgcolor\":\"#E5ECF6\",\"angularaxis\":{\"gridcolor\":\"white\",\"linecolor\":\"white\",\"ticks\":\"\"},\"radialaxis\":{\"gridcolor\":\"white\",\"linecolor\":\"white\",\"ticks\":\"\"}},\"ternary\":{\"bgcolor\":\"#E5ECF6\",\"aaxis\":{\"gridcolor\":\"white\",\"linecolor\":\"white\",\"ticks\":\"\"},\"baxis\":{\"gridcolor\":\"white\",\"linecolor\":\"white\",\"ticks\":\"\"},\"caxis\":{\"gridcolor\":\"white\",\"linecolor\":\"white\",\"ticks\":\"\"}},\"coloraxis\":{\"colorbar\":{\"outlinewidth\":0,\"ticks\":\"\"}},\"colorscale\":{\"sequential\":[[0.0,\"#0d0887\"],[0.1111111111111111,\"#46039f\"],[0.2222222222222222,\"#7201a8\"],[0.3333333333333333,\"#9c179e\"],[0.4444444444444444,\"#bd3786\"],[0.5555555555555556,\"#d8576b\"],[0.6666666666666666,\"#ed7953\"],[0.7777777777777778,\"#fb9f3a\"],[0.8888888888888888,\"#fdca26\"],[1.0,\"#f0f921\"]],\"sequentialminus\":[[0.0,\"#0d0887\"],[0.1111111111111111,\"#46039f\"],[0.2222222222222222,\"#7201a8\"],[0.3333333333333333,\"#9c179e\"],[0.4444444444444444,\"#bd3786\"],[0.5555555555555556,\"#d8576b\"],[0.6666666666666666,\"#ed7953\"],[0.7777777777777778,\"#fb9f3a\"],[0.8888888888888888,\"#fdca26\"],[1.0,\"#f0f921\"]],\"diverging\":[[0,\"#8e0152\"],[0.1,\"#c51b7d\"],[0.2,\"#de77ae\"],[0.3,\"#f1b6da\"],[0.4,\"#fde0ef\"],[0.5,\"#f7f7f7\"],[0.6,\"#e6f5d0\"],[0.7,\"#b8e186\"],[0.8,\"#7fbc41\"],[0.9,\"#4d9221\"],[1,\"#276419\"]]},\"xaxis\":{\"gridcolor\":\"white\",\"linecolor\":\"white\",\"ticks\":\"\",\"title\":{\"standoff\":15},\"zerolinecolor\":\"white\",\"automargin\":true,\"zerolinewidth\":2},\"yaxis\":{\"gridcolor\":\"white\",\"linecolor\":\"white\",\"ticks\":\"\",\"title\":{\"standoff\":15},\"zerolinecolor\":\"white\",\"automargin\":true,\"zerolinewidth\":2},\"scene\":{\"xaxis\":{\"backgroundcolor\":\"#E5ECF6\",\"gridcolor\":\"white\",\"linecolor\":\"white\",\"showbackground\":true,\"ticks\":\"\",\"zerolinecolor\":\"white\",\"gridwidth\":2},\"yaxis\":{\"backgroundcolor\":\"#E5ECF6\",\"gridcolor\":\"white\",\"linecolor\":\"white\",\"showbackground\":true,\"ticks\":\"\",\"zerolinecolor\":\"white\",\"gridwidth\":2},\"zaxis\":{\"backgroundcolor\":\"#E5ECF6\",\"gridcolor\":\"white\",\"linecolor\":\"white\",\"showbackground\":true,\"ticks\":\"\",\"zerolinecolor\":\"white\",\"gridwidth\":2}},\"shapedefaults\":{\"line\":{\"color\":\"#2a3f5f\"}},\"annotationdefaults\":{\"arrowcolor\":\"#2a3f5f\",\"arrowhead\":0,\"arrowwidth\":1},\"geo\":{\"bgcolor\":\"white\",\"landcolor\":\"#E5ECF6\",\"subunitcolor\":\"white\",\"showland\":true,\"showlakes\":true,\"lakecolor\":\"white\"},\"title\":{\"x\":0.05},\"mapbox\":{\"style\":\"light\"}}},\"xaxis\":{\"anchor\":\"y\",\"domain\":[0.0,1.0],\"title\":{\"text\":\"price\"}},\"yaxis\":{\"anchor\":\"x\",\"domain\":[0.0,1.0],\"title\":{\"text\":\"count\"}},\"legend\":{\"tracegroupgap\":0},\"title\":{\"text\":\"histograma da vari\\u00e1vel price\"},\"barmode\":\"relative\"},                        {\"responsive\": true}                    ).then(function(){\n",
       "                            \n",
       "var gd = document.getElementById('f264c58e-c40a-498d-a6dc-eb7c2dc64b1c');\n",
       "var x = new MutationObserver(function (mutations, observer) {{\n",
       "        var display = window.getComputedStyle(gd).display;\n",
       "        if (!display || display === 'none') {{\n",
       "            console.log([gd, 'removed!']);\n",
       "            Plotly.purge(gd);\n",
       "            observer.disconnect();\n",
       "        }}\n",
       "}});\n",
       "\n",
       "// Listen for the removal of the full notebook cells\n",
       "var notebookContainer = gd.closest('#notebook-container');\n",
       "if (notebookContainer) {{\n",
       "    x.observe(notebookContainer, {childList: true});\n",
       "}}\n",
       "\n",
       "// Listen for the clearing of the current output cell\n",
       "var outputEl = gd.closest('.output');\n",
       "if (outputEl) {{\n",
       "    x.observe(outputEl, {childList: true});\n",
       "}}\n",
       "\n",
       "                        })                };                });            </script>        </div>"
      ]
     },
     "metadata": {},
     "output_type": "display_data"
    }
   ],
   "source": [
    "# Distribuição da varíavel price\n",
    "px.histogram(df, x='price', title=\"histograma da variável price\")"
   ]
  },
  {
   "cell_type": "markdown",
   "id": "4751ae5a",
   "metadata": {},
   "source": [
    "## Análise Bivariada"
   ]
  },
  {
   "cell_type": "code",
   "execution_count": 40,
   "id": "c464492c",
   "metadata": {},
   "outputs": [
    {
     "data": {
      "application/vnd.plotly.v1+json": {
       "config": {
        "plotlyServerURL": "https://plot.ly"
       },
       "data": [
        {
         "alignmentgroup": "True",
         "hovertemplate": "furnishingstatus=%{x}<br>price=%{y}<extra></extra>",
         "legendgroup": "furnished",
         "marker": {
          "color": "#636efa"
         },
         "name": "furnished",
         "notched": false,
         "offsetgroup": "furnished",
         "orientation": "v",
         "showlegend": true,
         "type": "box",
         "x": [
          "furnished",
          "furnished",
          "furnished",
          "furnished",
          "furnished",
          "furnished",
          "furnished",
          "furnished",
          "furnished",
          "furnished",
          "furnished",
          "furnished",
          "furnished",
          "furnished",
          "furnished",
          "furnished",
          "furnished",
          "furnished",
          "furnished",
          "furnished",
          "furnished",
          "furnished",
          "furnished",
          "furnished",
          "furnished",
          "furnished",
          "furnished",
          "furnished",
          "furnished",
          "furnished",
          "furnished",
          "furnished",
          "furnished",
          "furnished",
          "furnished",
          "furnished",
          "furnished",
          "furnished",
          "furnished",
          "furnished",
          "furnished",
          "furnished",
          "furnished",
          "furnished",
          "furnished",
          "furnished",
          "furnished",
          "furnished",
          "furnished",
          "furnished",
          "furnished",
          "furnished",
          "furnished",
          "furnished",
          "furnished",
          "furnished",
          "furnished",
          "furnished",
          "furnished",
          "furnished",
          "furnished",
          "furnished",
          "furnished",
          "furnished",
          "furnished",
          "furnished",
          "furnished",
          "furnished",
          "furnished",
          "furnished",
          "furnished",
          "furnished",
          "furnished",
          "furnished",
          "furnished",
          "furnished",
          "furnished",
          "furnished",
          "furnished",
          "furnished",
          "furnished",
          "furnished",
          "furnished",
          "furnished",
          "furnished",
          "furnished",
          "furnished",
          "furnished",
          "furnished",
          "furnished",
          "furnished",
          "furnished",
          "furnished",
          "furnished",
          "furnished",
          "furnished",
          "furnished",
          "furnished",
          "furnished",
          "furnished",
          "furnished",
          "furnished",
          "furnished",
          "furnished",
          "furnished",
          "furnished",
          "furnished",
          "furnished",
          "furnished",
          "furnished",
          "furnished",
          "furnished",
          "furnished",
          "furnished",
          "furnished",
          "furnished",
          "furnished",
          "furnished",
          "furnished",
          "furnished",
          "furnished",
          "furnished",
          "furnished",
          "furnished",
          "furnished",
          "furnished",
          "furnished",
          "furnished",
          "furnished",
          "furnished",
          "furnished",
          "furnished",
          "furnished",
          "furnished",
          "furnished",
          "furnished",
          "furnished",
          "furnished",
          "furnished",
          "furnished"
         ],
         "x0": " ",
         "xaxis": "x",
         "y": [
          13300000,
          12250000,
          12215000,
          11410000,
          9870000,
          9800000,
          9240000,
          8960000,
          8890000,
          8645000,
          8645000,
          8575000,
          8540000,
          8295000,
          8120000,
          8080940,
          8043000,
          7980000,
          7875000,
          7840000,
          7560000,
          7525000,
          7490000,
          7350000,
          7245000,
          7210000,
          7070000,
          7035000,
          7000000,
          6930000,
          6930000,
          6860000,
          6790000,
          6685000,
          6650000,
          6650000,
          6650000,
          6650000,
          6650000,
          6615000,
          6510000,
          6440000,
          6419000,
          6405000,
          6300000,
          6195000,
          6195000,
          6083000,
          6083000,
          6020000,
          5950000,
          5950000,
          5950000,
          5950000,
          5950000,
          5873000,
          5740000,
          5600000,
          5600000,
          5565000,
          5530000,
          5495000,
          5460000,
          5460000,
          5390000,
          5250000,
          5250000,
          5215000,
          5110000,
          5110000,
          5040000,
          5040000,
          4907000,
          4900000,
          4830000,
          4760000,
          4690000,
          4655000,
          4585000,
          4550000,
          4550000,
          4543000,
          4515000,
          4480000,
          4480000,
          4473000,
          4473000,
          4340000,
          4340000,
          4319000,
          4270000,
          4270000,
          4270000,
          4270000,
          4235000,
          4200000,
          4200000,
          4098500,
          4060000,
          4025000,
          3990000,
          3920000,
          3920000,
          3920000,
          3885000,
          3850000,
          3780000,
          3780000,
          3773000,
          3773000,
          3773000,
          3710000,
          3703000,
          3675000,
          3675000,
          3640000,
          3570000,
          3570000,
          3570000,
          3500000,
          3465000,
          3430000,
          3395000,
          3395000,
          3360000,
          3353000,
          3332000,
          3290000,
          3290000,
          3220000,
          3150000,
          3010000,
          2940000,
          2835000,
          2800000,
          2590000,
          2520000,
          2380000,
          2380000,
          1750000
         ],
         "y0": " ",
         "yaxis": "y"
        },
        {
         "alignmentgroup": "True",
         "hovertemplate": "furnishingstatus=%{x}<br>price=%{y}<extra></extra>",
         "legendgroup": "semi-furnished",
         "marker": {
          "color": "#EF553B"
         },
         "name": "semi-furnished",
         "notched": false,
         "offsetgroup": "semi-furnished",
         "orientation": "v",
         "showlegend": true,
         "type": "box",
         "x": [
          "semi-furnished",
          "semi-furnished",
          "semi-furnished",
          "semi-furnished",
          "semi-furnished",
          "semi-furnished",
          "semi-furnished",
          "semi-furnished",
          "semi-furnished",
          "semi-furnished",
          "semi-furnished",
          "semi-furnished",
          "semi-furnished",
          "semi-furnished",
          "semi-furnished",
          "semi-furnished",
          "semi-furnished",
          "semi-furnished",
          "semi-furnished",
          "semi-furnished",
          "semi-furnished",
          "semi-furnished",
          "semi-furnished",
          "semi-furnished",
          "semi-furnished",
          "semi-furnished",
          "semi-furnished",
          "semi-furnished",
          "semi-furnished",
          "semi-furnished",
          "semi-furnished",
          "semi-furnished",
          "semi-furnished",
          "semi-furnished",
          "semi-furnished",
          "semi-furnished",
          "semi-furnished",
          "semi-furnished",
          "semi-furnished",
          "semi-furnished",
          "semi-furnished",
          "semi-furnished",
          "semi-furnished",
          "semi-furnished",
          "semi-furnished",
          "semi-furnished",
          "semi-furnished",
          "semi-furnished",
          "semi-furnished",
          "semi-furnished",
          "semi-furnished",
          "semi-furnished",
          "semi-furnished",
          "semi-furnished",
          "semi-furnished",
          "semi-furnished",
          "semi-furnished",
          "semi-furnished",
          "semi-furnished",
          "semi-furnished",
          "semi-furnished",
          "semi-furnished",
          "semi-furnished",
          "semi-furnished",
          "semi-furnished",
          "semi-furnished",
          "semi-furnished",
          "semi-furnished",
          "semi-furnished",
          "semi-furnished",
          "semi-furnished",
          "semi-furnished",
          "semi-furnished",
          "semi-furnished",
          "semi-furnished",
          "semi-furnished",
          "semi-furnished",
          "semi-furnished",
          "semi-furnished",
          "semi-furnished",
          "semi-furnished",
          "semi-furnished",
          "semi-furnished",
          "semi-furnished",
          "semi-furnished",
          "semi-furnished",
          "semi-furnished",
          "semi-furnished",
          "semi-furnished",
          "semi-furnished",
          "semi-furnished",
          "semi-furnished",
          "semi-furnished",
          "semi-furnished",
          "semi-furnished",
          "semi-furnished",
          "semi-furnished",
          "semi-furnished",
          "semi-furnished",
          "semi-furnished",
          "semi-furnished",
          "semi-furnished",
          "semi-furnished",
          "semi-furnished",
          "semi-furnished",
          "semi-furnished",
          "semi-furnished",
          "semi-furnished",
          "semi-furnished",
          "semi-furnished",
          "semi-furnished",
          "semi-furnished",
          "semi-furnished",
          "semi-furnished",
          "semi-furnished",
          "semi-furnished",
          "semi-furnished",
          "semi-furnished",
          "semi-furnished",
          "semi-furnished",
          "semi-furnished",
          "semi-furnished",
          "semi-furnished",
          "semi-furnished",
          "semi-furnished",
          "semi-furnished",
          "semi-furnished",
          "semi-furnished",
          "semi-furnished",
          "semi-furnished",
          "semi-furnished",
          "semi-furnished",
          "semi-furnished",
          "semi-furnished",
          "semi-furnished",
          "semi-furnished",
          "semi-furnished",
          "semi-furnished",
          "semi-furnished",
          "semi-furnished",
          "semi-furnished",
          "semi-furnished",
          "semi-furnished",
          "semi-furnished",
          "semi-furnished",
          "semi-furnished",
          "semi-furnished",
          "semi-furnished",
          "semi-furnished",
          "semi-furnished",
          "semi-furnished",
          "semi-furnished",
          "semi-furnished",
          "semi-furnished",
          "semi-furnished",
          "semi-furnished",
          "semi-furnished",
          "semi-furnished",
          "semi-furnished",
          "semi-furnished",
          "semi-furnished",
          "semi-furnished",
          "semi-furnished",
          "semi-furnished",
          "semi-furnished",
          "semi-furnished",
          "semi-furnished",
          "semi-furnished",
          "semi-furnished",
          "semi-furnished",
          "semi-furnished",
          "semi-furnished",
          "semi-furnished",
          "semi-furnished",
          "semi-furnished",
          "semi-furnished",
          "semi-furnished",
          "semi-furnished",
          "semi-furnished",
          "semi-furnished",
          "semi-furnished",
          "semi-furnished",
          "semi-furnished",
          "semi-furnished",
          "semi-furnished",
          "semi-furnished",
          "semi-furnished",
          "semi-furnished",
          "semi-furnished",
          "semi-furnished",
          "semi-furnished",
          "semi-furnished",
          "semi-furnished",
          "semi-furnished",
          "semi-furnished",
          "semi-furnished",
          "semi-furnished",
          "semi-furnished",
          "semi-furnished",
          "semi-furnished",
          "semi-furnished",
          "semi-furnished",
          "semi-furnished",
          "semi-furnished",
          "semi-furnished",
          "semi-furnished",
          "semi-furnished",
          "semi-furnished",
          "semi-furnished",
          "semi-furnished",
          "semi-furnished",
          "semi-furnished",
          "semi-furnished",
          "semi-furnished",
          "semi-furnished",
          "semi-furnished",
          "semi-furnished",
          "semi-furnished",
          "semi-furnished",
          "semi-furnished",
          "semi-furnished",
          "semi-furnished",
          "semi-furnished",
          "semi-furnished",
          "semi-furnished",
          "semi-furnished",
          "semi-furnished"
         ],
         "x0": " ",
         "xaxis": "x",
         "y": [
          12250000,
          10850000,
          10150000,
          9681000,
          9310000,
          9240000,
          9100000,
          8855000,
          8750000,
          8463000,
          8400000,
          8400000,
          8400000,
          7910000,
          7700000,
          7560000,
          7420000,
          7350000,
          7350000,
          7343000,
          7210000,
          7140000,
          7070000,
          6790000,
          6650000,
          6629000,
          6615000,
          6580000,
          6510000,
          6475000,
          6440000,
          6300000,
          6300000,
          6300000,
          6300000,
          6195000,
          6160000,
          6107500,
          6090000,
          6090000,
          6020000,
          5950000,
          5950000,
          5950000,
          5943000,
          5873000,
          5810000,
          5810000,
          5803000,
          5740000,
          5740000,
          5652500,
          5600000,
          5600000,
          5600000,
          5600000,
          5600000,
          5565000,
          5530000,
          5530000,
          5523000,
          5495000,
          5460000,
          5460000,
          5425000,
          5285000,
          5250000,
          5250000,
          5250000,
          5250000,
          5243000,
          5229000,
          5215000,
          5215000,
          5145000,
          5145000,
          5110000,
          5040000,
          5040000,
          5033000,
          5005000,
          4970000,
          4970000,
          4956000,
          4935000,
          4900000,
          4900000,
          4900000,
          4900000,
          4900000,
          4900000,
          4900000,
          4900000,
          4900000,
          4900000,
          4893000,
          4893000,
          4830000,
          4830000,
          4795000,
          4767000,
          4760000,
          4753000,
          4690000,
          4690000,
          4690000,
          4690000,
          4690000,
          4620000,
          4620000,
          4620000,
          4620000,
          4613000,
          4585000,
          4550000,
          4550000,
          4550000,
          4543000,
          4515000,
          4515000,
          4515000,
          4480000,
          4480000,
          4473000,
          4445000,
          4410000,
          4410000,
          4403000,
          4403000,
          4382000,
          4340000,
          4340000,
          4340000,
          4305000,
          4305000,
          4277000,
          4235000,
          4200000,
          4200000,
          4200000,
          4200000,
          4200000,
          4200000,
          4200000,
          4200000,
          4200000,
          4193000,
          4193000,
          4165000,
          4165000,
          4165000,
          4130000,
          4130000,
          4123000,
          4095000,
          4095000,
          4095000,
          4060000,
          4060000,
          4025000,
          4025000,
          4007500,
          4007500,
          3990000,
          3990000,
          3920000,
          3920000,
          3920000,
          3885000,
          3850000,
          3850000,
          3850000,
          3850000,
          3850000,
          3850000,
          3815000,
          3780000,
          3780000,
          3780000,
          3745000,
          3710000,
          3710000,
          3710000,
          3703000,
          3675000,
          3640000,
          3640000,
          3640000,
          3640000,
          3640000,
          3640000,
          3605000,
          3605000,
          3500000,
          3500000,
          3500000,
          3500000,
          3500000,
          3500000,
          3360000,
          3360000,
          3290000,
          3290000,
          3255000,
          3150000,
          3150000,
          3150000,
          3150000,
          3150000,
          3118850,
          3080000,
          3080000,
          3010000,
          3010000,
          3010000,
          3010000,
          2961000,
          2940000,
          2940000,
          2870000,
          2835000,
          2660000,
          2660000,
          2660000,
          2485000,
          2275000,
          1767150
         ],
         "y0": " ",
         "yaxis": "y"
        },
        {
         "alignmentgroup": "True",
         "hovertemplate": "furnishingstatus=%{x}<br>price=%{y}<extra></extra>",
         "legendgroup": "unfurnished",
         "marker": {
          "color": "#00cc96"
         },
         "name": "unfurnished",
         "notched": false,
         "offsetgroup": "unfurnished",
         "orientation": "v",
         "showlegend": true,
         "type": "box",
         "x": [
          "unfurnished",
          "unfurnished",
          "unfurnished",
          "unfurnished",
          "unfurnished",
          "unfurnished",
          "unfurnished",
          "unfurnished",
          "unfurnished",
          "unfurnished",
          "unfurnished",
          "unfurnished",
          "unfurnished",
          "unfurnished",
          "unfurnished",
          "unfurnished",
          "unfurnished",
          "unfurnished",
          "unfurnished",
          "unfurnished",
          "unfurnished",
          "unfurnished",
          "unfurnished",
          "unfurnished",
          "unfurnished",
          "unfurnished",
          "unfurnished",
          "unfurnished",
          "unfurnished",
          "unfurnished",
          "unfurnished",
          "unfurnished",
          "unfurnished",
          "unfurnished",
          "unfurnished",
          "unfurnished",
          "unfurnished",
          "unfurnished",
          "unfurnished",
          "unfurnished",
          "unfurnished",
          "unfurnished",
          "unfurnished",
          "unfurnished",
          "unfurnished",
          "unfurnished",
          "unfurnished",
          "unfurnished",
          "unfurnished",
          "unfurnished",
          "unfurnished",
          "unfurnished",
          "unfurnished",
          "unfurnished",
          "unfurnished",
          "unfurnished",
          "unfurnished",
          "unfurnished",
          "unfurnished",
          "unfurnished",
          "unfurnished",
          "unfurnished",
          "unfurnished",
          "unfurnished",
          "unfurnished",
          "unfurnished",
          "unfurnished",
          "unfurnished",
          "unfurnished",
          "unfurnished",
          "unfurnished",
          "unfurnished",
          "unfurnished",
          "unfurnished",
          "unfurnished",
          "unfurnished",
          "unfurnished",
          "unfurnished",
          "unfurnished",
          "unfurnished",
          "unfurnished",
          "unfurnished",
          "unfurnished",
          "unfurnished",
          "unfurnished",
          "unfurnished",
          "unfurnished",
          "unfurnished",
          "unfurnished",
          "unfurnished",
          "unfurnished",
          "unfurnished",
          "unfurnished",
          "unfurnished",
          "unfurnished",
          "unfurnished",
          "unfurnished",
          "unfurnished",
          "unfurnished",
          "unfurnished",
          "unfurnished",
          "unfurnished",
          "unfurnished",
          "unfurnished",
          "unfurnished",
          "unfurnished",
          "unfurnished",
          "unfurnished",
          "unfurnished",
          "unfurnished",
          "unfurnished",
          "unfurnished",
          "unfurnished",
          "unfurnished",
          "unfurnished",
          "unfurnished",
          "unfurnished",
          "unfurnished",
          "unfurnished",
          "unfurnished",
          "unfurnished",
          "unfurnished",
          "unfurnished",
          "unfurnished",
          "unfurnished",
          "unfurnished",
          "unfurnished",
          "unfurnished",
          "unfurnished",
          "unfurnished",
          "unfurnished",
          "unfurnished",
          "unfurnished",
          "unfurnished",
          "unfurnished",
          "unfurnished",
          "unfurnished",
          "unfurnished",
          "unfurnished",
          "unfurnished",
          "unfurnished",
          "unfurnished",
          "unfurnished",
          "unfurnished",
          "unfurnished",
          "unfurnished",
          "unfurnished",
          "unfurnished",
          "unfurnished",
          "unfurnished",
          "unfurnished",
          "unfurnished",
          "unfurnished",
          "unfurnished",
          "unfurnished",
          "unfurnished",
          "unfurnished",
          "unfurnished",
          "unfurnished",
          "unfurnished",
          "unfurnished",
          "unfurnished",
          "unfurnished",
          "unfurnished",
          "unfurnished",
          "unfurnished",
          "unfurnished",
          "unfurnished",
          "unfurnished",
          "unfurnished",
          "unfurnished",
          "unfurnished",
          "unfurnished",
          "unfurnished",
          "unfurnished",
          "unfurnished",
          "unfurnished",
          "unfurnished"
         ],
         "x0": " ",
         "xaxis": "x",
         "y": [
          10150000,
          9800000,
          9100000,
          8680000,
          8400000,
          8400000,
          8190000,
          7962500,
          7700000,
          7455000,
          7420000,
          7420000,
          7350000,
          6895000,
          6755000,
          6720000,
          6510000,
          6475000,
          6293000,
          6265000,
          6230000,
          6230000,
          6160000,
          6125000,
          6090000,
          6020000,
          5880000,
          5880000,
          5866000,
          5810000,
          5775000,
          5740000,
          5740000,
          5600000,
          5600000,
          5383000,
          5320000,
          5250000,
          5250000,
          5250000,
          5110000,
          5075000,
          4900000,
          4865000,
          4830000,
          4795000,
          4760000,
          4620000,
          4550000,
          4550000,
          4480000,
          4403000,
          4375000,
          4270000,
          4270000,
          4200000,
          4200000,
          4200000,
          4200000,
          4200000,
          4200000,
          4060000,
          4060000,
          3990000,
          3990000,
          3920000,
          3836000,
          3780000,
          3710000,
          3675000,
          3640000,
          3640000,
          3633000,
          3570000,
          3535000,
          3500000,
          3500000,
          3500000,
          3500000,
          3500000,
          3500000,
          3500000,
          3500000,
          3500000,
          3500000,
          3493000,
          3465000,
          3465000,
          3430000,
          3430000,
          3430000,
          3430000,
          3430000,
          3423000,
          3395000,
          3360000,
          3360000,
          3360000,
          3360000,
          3360000,
          3325000,
          3325000,
          3290000,
          3290000,
          3290000,
          3290000,
          3255000,
          3234000,
          3220000,
          3220000,
          3220000,
          3150000,
          3150000,
          3150000,
          3143000,
          3129000,
          3115000,
          3115000,
          3115000,
          3087000,
          3080000,
          3080000,
          3045000,
          3010000,
          3010000,
          3003000,
          2975000,
          2940000,
          2940000,
          2940000,
          2940000,
          2940000,
          2870000,
          2870000,
          2870000,
          2852500,
          2835000,
          2800000,
          2730000,
          2730000,
          2695000,
          2660000,
          2660000,
          2660000,
          2660000,
          2653000,
          2653000,
          2604000,
          2590000,
          2590000,
          2520000,
          2520000,
          2485000,
          2450000,
          2450000,
          2450000,
          2450000,
          2450000,
          2450000,
          2408000,
          2380000,
          2345000,
          2310000,
          2275000,
          2275000,
          2240000,
          2233000,
          2135000,
          2100000,
          2100000,
          2100000,
          1960000,
          1890000,
          1890000,
          1855000,
          1820000,
          1750000,
          1750000
         ],
         "y0": " ",
         "yaxis": "y"
        }
       ],
       "layout": {
        "boxmode": "overlay",
        "legend": {
         "title": {
          "text": "furnishingstatus"
         },
         "tracegroupgap": 0
        },
        "template": {
         "data": {
          "bar": [
           {
            "error_x": {
             "color": "#2a3f5f"
            },
            "error_y": {
             "color": "#2a3f5f"
            },
            "marker": {
             "line": {
              "color": "#E5ECF6",
              "width": 0.5
             },
             "pattern": {
              "fillmode": "overlay",
              "size": 10,
              "solidity": 0.2
             }
            },
            "type": "bar"
           }
          ],
          "barpolar": [
           {
            "marker": {
             "line": {
              "color": "#E5ECF6",
              "width": 0.5
             },
             "pattern": {
              "fillmode": "overlay",
              "size": 10,
              "solidity": 0.2
             }
            },
            "type": "barpolar"
           }
          ],
          "carpet": [
           {
            "aaxis": {
             "endlinecolor": "#2a3f5f",
             "gridcolor": "white",
             "linecolor": "white",
             "minorgridcolor": "white",
             "startlinecolor": "#2a3f5f"
            },
            "baxis": {
             "endlinecolor": "#2a3f5f",
             "gridcolor": "white",
             "linecolor": "white",
             "minorgridcolor": "white",
             "startlinecolor": "#2a3f5f"
            },
            "type": "carpet"
           }
          ],
          "choropleth": [
           {
            "colorbar": {
             "outlinewidth": 0,
             "ticks": ""
            },
            "type": "choropleth"
           }
          ],
          "contour": [
           {
            "colorbar": {
             "outlinewidth": 0,
             "ticks": ""
            },
            "colorscale": [
             [
              0,
              "#0d0887"
             ],
             [
              0.1111111111111111,
              "#46039f"
             ],
             [
              0.2222222222222222,
              "#7201a8"
             ],
             [
              0.3333333333333333,
              "#9c179e"
             ],
             [
              0.4444444444444444,
              "#bd3786"
             ],
             [
              0.5555555555555556,
              "#d8576b"
             ],
             [
              0.6666666666666666,
              "#ed7953"
             ],
             [
              0.7777777777777778,
              "#fb9f3a"
             ],
             [
              0.8888888888888888,
              "#fdca26"
             ],
             [
              1,
              "#f0f921"
             ]
            ],
            "type": "contour"
           }
          ],
          "contourcarpet": [
           {
            "colorbar": {
             "outlinewidth": 0,
             "ticks": ""
            },
            "type": "contourcarpet"
           }
          ],
          "heatmap": [
           {
            "colorbar": {
             "outlinewidth": 0,
             "ticks": ""
            },
            "colorscale": [
             [
              0,
              "#0d0887"
             ],
             [
              0.1111111111111111,
              "#46039f"
             ],
             [
              0.2222222222222222,
              "#7201a8"
             ],
             [
              0.3333333333333333,
              "#9c179e"
             ],
             [
              0.4444444444444444,
              "#bd3786"
             ],
             [
              0.5555555555555556,
              "#d8576b"
             ],
             [
              0.6666666666666666,
              "#ed7953"
             ],
             [
              0.7777777777777778,
              "#fb9f3a"
             ],
             [
              0.8888888888888888,
              "#fdca26"
             ],
             [
              1,
              "#f0f921"
             ]
            ],
            "type": "heatmap"
           }
          ],
          "heatmapgl": [
           {
            "colorbar": {
             "outlinewidth": 0,
             "ticks": ""
            },
            "colorscale": [
             [
              0,
              "#0d0887"
             ],
             [
              0.1111111111111111,
              "#46039f"
             ],
             [
              0.2222222222222222,
              "#7201a8"
             ],
             [
              0.3333333333333333,
              "#9c179e"
             ],
             [
              0.4444444444444444,
              "#bd3786"
             ],
             [
              0.5555555555555556,
              "#d8576b"
             ],
             [
              0.6666666666666666,
              "#ed7953"
             ],
             [
              0.7777777777777778,
              "#fb9f3a"
             ],
             [
              0.8888888888888888,
              "#fdca26"
             ],
             [
              1,
              "#f0f921"
             ]
            ],
            "type": "heatmapgl"
           }
          ],
          "histogram": [
           {
            "marker": {
             "pattern": {
              "fillmode": "overlay",
              "size": 10,
              "solidity": 0.2
             }
            },
            "type": "histogram"
           }
          ],
          "histogram2d": [
           {
            "colorbar": {
             "outlinewidth": 0,
             "ticks": ""
            },
            "colorscale": [
             [
              0,
              "#0d0887"
             ],
             [
              0.1111111111111111,
              "#46039f"
             ],
             [
              0.2222222222222222,
              "#7201a8"
             ],
             [
              0.3333333333333333,
              "#9c179e"
             ],
             [
              0.4444444444444444,
              "#bd3786"
             ],
             [
              0.5555555555555556,
              "#d8576b"
             ],
             [
              0.6666666666666666,
              "#ed7953"
             ],
             [
              0.7777777777777778,
              "#fb9f3a"
             ],
             [
              0.8888888888888888,
              "#fdca26"
             ],
             [
              1,
              "#f0f921"
             ]
            ],
            "type": "histogram2d"
           }
          ],
          "histogram2dcontour": [
           {
            "colorbar": {
             "outlinewidth": 0,
             "ticks": ""
            },
            "colorscale": [
             [
              0,
              "#0d0887"
             ],
             [
              0.1111111111111111,
              "#46039f"
             ],
             [
              0.2222222222222222,
              "#7201a8"
             ],
             [
              0.3333333333333333,
              "#9c179e"
             ],
             [
              0.4444444444444444,
              "#bd3786"
             ],
             [
              0.5555555555555556,
              "#d8576b"
             ],
             [
              0.6666666666666666,
              "#ed7953"
             ],
             [
              0.7777777777777778,
              "#fb9f3a"
             ],
             [
              0.8888888888888888,
              "#fdca26"
             ],
             [
              1,
              "#f0f921"
             ]
            ],
            "type": "histogram2dcontour"
           }
          ],
          "mesh3d": [
           {
            "colorbar": {
             "outlinewidth": 0,
             "ticks": ""
            },
            "type": "mesh3d"
           }
          ],
          "parcoords": [
           {
            "line": {
             "colorbar": {
              "outlinewidth": 0,
              "ticks": ""
             }
            },
            "type": "parcoords"
           }
          ],
          "pie": [
           {
            "automargin": true,
            "type": "pie"
           }
          ],
          "scatter": [
           {
            "fillpattern": {
             "fillmode": "overlay",
             "size": 10,
             "solidity": 0.2
            },
            "type": "scatter"
           }
          ],
          "scatter3d": [
           {
            "line": {
             "colorbar": {
              "outlinewidth": 0,
              "ticks": ""
             }
            },
            "marker": {
             "colorbar": {
              "outlinewidth": 0,
              "ticks": ""
             }
            },
            "type": "scatter3d"
           }
          ],
          "scattercarpet": [
           {
            "marker": {
             "colorbar": {
              "outlinewidth": 0,
              "ticks": ""
             }
            },
            "type": "scattercarpet"
           }
          ],
          "scattergeo": [
           {
            "marker": {
             "colorbar": {
              "outlinewidth": 0,
              "ticks": ""
             }
            },
            "type": "scattergeo"
           }
          ],
          "scattergl": [
           {
            "marker": {
             "colorbar": {
              "outlinewidth": 0,
              "ticks": ""
             }
            },
            "type": "scattergl"
           }
          ],
          "scattermapbox": [
           {
            "marker": {
             "colorbar": {
              "outlinewidth": 0,
              "ticks": ""
             }
            },
            "type": "scattermapbox"
           }
          ],
          "scatterpolar": [
           {
            "marker": {
             "colorbar": {
              "outlinewidth": 0,
              "ticks": ""
             }
            },
            "type": "scatterpolar"
           }
          ],
          "scatterpolargl": [
           {
            "marker": {
             "colorbar": {
              "outlinewidth": 0,
              "ticks": ""
             }
            },
            "type": "scatterpolargl"
           }
          ],
          "scatterternary": [
           {
            "marker": {
             "colorbar": {
              "outlinewidth": 0,
              "ticks": ""
             }
            },
            "type": "scatterternary"
           }
          ],
          "surface": [
           {
            "colorbar": {
             "outlinewidth": 0,
             "ticks": ""
            },
            "colorscale": [
             [
              0,
              "#0d0887"
             ],
             [
              0.1111111111111111,
              "#46039f"
             ],
             [
              0.2222222222222222,
              "#7201a8"
             ],
             [
              0.3333333333333333,
              "#9c179e"
             ],
             [
              0.4444444444444444,
              "#bd3786"
             ],
             [
              0.5555555555555556,
              "#d8576b"
             ],
             [
              0.6666666666666666,
              "#ed7953"
             ],
             [
              0.7777777777777778,
              "#fb9f3a"
             ],
             [
              0.8888888888888888,
              "#fdca26"
             ],
             [
              1,
              "#f0f921"
             ]
            ],
            "type": "surface"
           }
          ],
          "table": [
           {
            "cells": {
             "fill": {
              "color": "#EBF0F8"
             },
             "line": {
              "color": "white"
             }
            },
            "header": {
             "fill": {
              "color": "#C8D4E3"
             },
             "line": {
              "color": "white"
             }
            },
            "type": "table"
           }
          ]
         },
         "layout": {
          "annotationdefaults": {
           "arrowcolor": "#2a3f5f",
           "arrowhead": 0,
           "arrowwidth": 1
          },
          "autotypenumbers": "strict",
          "coloraxis": {
           "colorbar": {
            "outlinewidth": 0,
            "ticks": ""
           }
          },
          "colorscale": {
           "diverging": [
            [
             0,
             "#8e0152"
            ],
            [
             0.1,
             "#c51b7d"
            ],
            [
             0.2,
             "#de77ae"
            ],
            [
             0.3,
             "#f1b6da"
            ],
            [
             0.4,
             "#fde0ef"
            ],
            [
             0.5,
             "#f7f7f7"
            ],
            [
             0.6,
             "#e6f5d0"
            ],
            [
             0.7,
             "#b8e186"
            ],
            [
             0.8,
             "#7fbc41"
            ],
            [
             0.9,
             "#4d9221"
            ],
            [
             1,
             "#276419"
            ]
           ],
           "sequential": [
            [
             0,
             "#0d0887"
            ],
            [
             0.1111111111111111,
             "#46039f"
            ],
            [
             0.2222222222222222,
             "#7201a8"
            ],
            [
             0.3333333333333333,
             "#9c179e"
            ],
            [
             0.4444444444444444,
             "#bd3786"
            ],
            [
             0.5555555555555556,
             "#d8576b"
            ],
            [
             0.6666666666666666,
             "#ed7953"
            ],
            [
             0.7777777777777778,
             "#fb9f3a"
            ],
            [
             0.8888888888888888,
             "#fdca26"
            ],
            [
             1,
             "#f0f921"
            ]
           ],
           "sequentialminus": [
            [
             0,
             "#0d0887"
            ],
            [
             0.1111111111111111,
             "#46039f"
            ],
            [
             0.2222222222222222,
             "#7201a8"
            ],
            [
             0.3333333333333333,
             "#9c179e"
            ],
            [
             0.4444444444444444,
             "#bd3786"
            ],
            [
             0.5555555555555556,
             "#d8576b"
            ],
            [
             0.6666666666666666,
             "#ed7953"
            ],
            [
             0.7777777777777778,
             "#fb9f3a"
            ],
            [
             0.8888888888888888,
             "#fdca26"
            ],
            [
             1,
             "#f0f921"
            ]
           ]
          },
          "colorway": [
           "#636efa",
           "#EF553B",
           "#00cc96",
           "#ab63fa",
           "#FFA15A",
           "#19d3f3",
           "#FF6692",
           "#B6E880",
           "#FF97FF",
           "#FECB52"
          ],
          "font": {
           "color": "#2a3f5f"
          },
          "geo": {
           "bgcolor": "white",
           "lakecolor": "white",
           "landcolor": "#E5ECF6",
           "showlakes": true,
           "showland": true,
           "subunitcolor": "white"
          },
          "hoverlabel": {
           "align": "left"
          },
          "hovermode": "closest",
          "mapbox": {
           "style": "light"
          },
          "paper_bgcolor": "white",
          "plot_bgcolor": "#E5ECF6",
          "polar": {
           "angularaxis": {
            "gridcolor": "white",
            "linecolor": "white",
            "ticks": ""
           },
           "bgcolor": "#E5ECF6",
           "radialaxis": {
            "gridcolor": "white",
            "linecolor": "white",
            "ticks": ""
           }
          },
          "scene": {
           "xaxis": {
            "backgroundcolor": "#E5ECF6",
            "gridcolor": "white",
            "gridwidth": 2,
            "linecolor": "white",
            "showbackground": true,
            "ticks": "",
            "zerolinecolor": "white"
           },
           "yaxis": {
            "backgroundcolor": "#E5ECF6",
            "gridcolor": "white",
            "gridwidth": 2,
            "linecolor": "white",
            "showbackground": true,
            "ticks": "",
            "zerolinecolor": "white"
           },
           "zaxis": {
            "backgroundcolor": "#E5ECF6",
            "gridcolor": "white",
            "gridwidth": 2,
            "linecolor": "white",
            "showbackground": true,
            "ticks": "",
            "zerolinecolor": "white"
           }
          },
          "shapedefaults": {
           "line": {
            "color": "#2a3f5f"
           }
          },
          "ternary": {
           "aaxis": {
            "gridcolor": "white",
            "linecolor": "white",
            "ticks": ""
           },
           "baxis": {
            "gridcolor": "white",
            "linecolor": "white",
            "ticks": ""
           },
           "bgcolor": "#E5ECF6",
           "caxis": {
            "gridcolor": "white",
            "linecolor": "white",
            "ticks": ""
           }
          },
          "title": {
           "x": 0.05
          },
          "xaxis": {
           "automargin": true,
           "gridcolor": "white",
           "linecolor": "white",
           "ticks": "",
           "title": {
            "standoff": 15
           },
           "zerolinecolor": "white",
           "zerolinewidth": 2
          },
          "yaxis": {
           "automargin": true,
           "gridcolor": "white",
           "linecolor": "white",
           "ticks": "",
           "title": {
            "standoff": 15
           },
           "zerolinecolor": "white",
           "zerolinewidth": 2
          }
         }
        },
        "title": {
         "text": "Box Plot da variável price e furnishingstatus"
        },
        "xaxis": {
         "anchor": "y",
         "categoryarray": [
          "furnished",
          "semi-furnished",
          "unfurnished"
         ],
         "categoryorder": "array",
         "domain": [
          0,
          1
         ],
         "title": {
          "text": "furnishingstatus"
         }
        },
        "yaxis": {
         "anchor": "x",
         "domain": [
          0,
          1
         ],
         "title": {
          "text": "price"
         }
        }
       }
      },
      "text/html": [
       "<div>                            <div id=\"d8c8536f-58de-41fc-bc14-9e14ce8ee9e5\" class=\"plotly-graph-div\" style=\"height:525px; width:100%;\"></div>            <script type=\"text/javascript\">                require([\"plotly\"], function(Plotly) {                    window.PLOTLYENV=window.PLOTLYENV || {};                                    if (document.getElementById(\"d8c8536f-58de-41fc-bc14-9e14ce8ee9e5\")) {                    Plotly.newPlot(                        \"d8c8536f-58de-41fc-bc14-9e14ce8ee9e5\",                        [{\"alignmentgroup\":\"True\",\"hovertemplate\":\"furnishingstatus=%{x}\\u003cbr\\u003eprice=%{y}\\u003cextra\\u003e\\u003c\\u002fextra\\u003e\",\"legendgroup\":\"furnished\",\"marker\":{\"color\":\"#636efa\"},\"name\":\"furnished\",\"notched\":false,\"offsetgroup\":\"furnished\",\"orientation\":\"v\",\"showlegend\":true,\"x\":[\"furnished\",\"furnished\",\"furnished\",\"furnished\",\"furnished\",\"furnished\",\"furnished\",\"furnished\",\"furnished\",\"furnished\",\"furnished\",\"furnished\",\"furnished\",\"furnished\",\"furnished\",\"furnished\",\"furnished\",\"furnished\",\"furnished\",\"furnished\",\"furnished\",\"furnished\",\"furnished\",\"furnished\",\"furnished\",\"furnished\",\"furnished\",\"furnished\",\"furnished\",\"furnished\",\"furnished\",\"furnished\",\"furnished\",\"furnished\",\"furnished\",\"furnished\",\"furnished\",\"furnished\",\"furnished\",\"furnished\",\"furnished\",\"furnished\",\"furnished\",\"furnished\",\"furnished\",\"furnished\",\"furnished\",\"furnished\",\"furnished\",\"furnished\",\"furnished\",\"furnished\",\"furnished\",\"furnished\",\"furnished\",\"furnished\",\"furnished\",\"furnished\",\"furnished\",\"furnished\",\"furnished\",\"furnished\",\"furnished\",\"furnished\",\"furnished\",\"furnished\",\"furnished\",\"furnished\",\"furnished\",\"furnished\",\"furnished\",\"furnished\",\"furnished\",\"furnished\",\"furnished\",\"furnished\",\"furnished\",\"furnished\",\"furnished\",\"furnished\",\"furnished\",\"furnished\",\"furnished\",\"furnished\",\"furnished\",\"furnished\",\"furnished\",\"furnished\",\"furnished\",\"furnished\",\"furnished\",\"furnished\",\"furnished\",\"furnished\",\"furnished\",\"furnished\",\"furnished\",\"furnished\",\"furnished\",\"furnished\",\"furnished\",\"furnished\",\"furnished\",\"furnished\",\"furnished\",\"furnished\",\"furnished\",\"furnished\",\"furnished\",\"furnished\",\"furnished\",\"furnished\",\"furnished\",\"furnished\",\"furnished\",\"furnished\",\"furnished\",\"furnished\",\"furnished\",\"furnished\",\"furnished\",\"furnished\",\"furnished\",\"furnished\",\"furnished\",\"furnished\",\"furnished\",\"furnished\",\"furnished\",\"furnished\",\"furnished\",\"furnished\",\"furnished\",\"furnished\",\"furnished\",\"furnished\",\"furnished\",\"furnished\",\"furnished\",\"furnished\"],\"x0\":\" \",\"xaxis\":\"x\",\"y\":[13300000,12250000,12215000,11410000,9870000,9800000,9240000,8960000,8890000,8645000,8645000,8575000,8540000,8295000,8120000,8080940,8043000,7980000,7875000,7840000,7560000,7525000,7490000,7350000,7245000,7210000,7070000,7035000,7000000,6930000,6930000,6860000,6790000,6685000,6650000,6650000,6650000,6650000,6650000,6615000,6510000,6440000,6419000,6405000,6300000,6195000,6195000,6083000,6083000,6020000,5950000,5950000,5950000,5950000,5950000,5873000,5740000,5600000,5600000,5565000,5530000,5495000,5460000,5460000,5390000,5250000,5250000,5215000,5110000,5110000,5040000,5040000,4907000,4900000,4830000,4760000,4690000,4655000,4585000,4550000,4550000,4543000,4515000,4480000,4480000,4473000,4473000,4340000,4340000,4319000,4270000,4270000,4270000,4270000,4235000,4200000,4200000,4098500,4060000,4025000,3990000,3920000,3920000,3920000,3885000,3850000,3780000,3780000,3773000,3773000,3773000,3710000,3703000,3675000,3675000,3640000,3570000,3570000,3570000,3500000,3465000,3430000,3395000,3395000,3360000,3353000,3332000,3290000,3290000,3220000,3150000,3010000,2940000,2835000,2800000,2590000,2520000,2380000,2380000,1750000],\"y0\":\" \",\"yaxis\":\"y\",\"type\":\"box\"},{\"alignmentgroup\":\"True\",\"hovertemplate\":\"furnishingstatus=%{x}\\u003cbr\\u003eprice=%{y}\\u003cextra\\u003e\\u003c\\u002fextra\\u003e\",\"legendgroup\":\"semi-furnished\",\"marker\":{\"color\":\"#EF553B\"},\"name\":\"semi-furnished\",\"notched\":false,\"offsetgroup\":\"semi-furnished\",\"orientation\":\"v\",\"showlegend\":true,\"x\":[\"semi-furnished\",\"semi-furnished\",\"semi-furnished\",\"semi-furnished\",\"semi-furnished\",\"semi-furnished\",\"semi-furnished\",\"semi-furnished\",\"semi-furnished\",\"semi-furnished\",\"semi-furnished\",\"semi-furnished\",\"semi-furnished\",\"semi-furnished\",\"semi-furnished\",\"semi-furnished\",\"semi-furnished\",\"semi-furnished\",\"semi-furnished\",\"semi-furnished\",\"semi-furnished\",\"semi-furnished\",\"semi-furnished\",\"semi-furnished\",\"semi-furnished\",\"semi-furnished\",\"semi-furnished\",\"semi-furnished\",\"semi-furnished\",\"semi-furnished\",\"semi-furnished\",\"semi-furnished\",\"semi-furnished\",\"semi-furnished\",\"semi-furnished\",\"semi-furnished\",\"semi-furnished\",\"semi-furnished\",\"semi-furnished\",\"semi-furnished\",\"semi-furnished\",\"semi-furnished\",\"semi-furnished\",\"semi-furnished\",\"semi-furnished\",\"semi-furnished\",\"semi-furnished\",\"semi-furnished\",\"semi-furnished\",\"semi-furnished\",\"semi-furnished\",\"semi-furnished\",\"semi-furnished\",\"semi-furnished\",\"semi-furnished\",\"semi-furnished\",\"semi-furnished\",\"semi-furnished\",\"semi-furnished\",\"semi-furnished\",\"semi-furnished\",\"semi-furnished\",\"semi-furnished\",\"semi-furnished\",\"semi-furnished\",\"semi-furnished\",\"semi-furnished\",\"semi-furnished\",\"semi-furnished\",\"semi-furnished\",\"semi-furnished\",\"semi-furnished\",\"semi-furnished\",\"semi-furnished\",\"semi-furnished\",\"semi-furnished\",\"semi-furnished\",\"semi-furnished\",\"semi-furnished\",\"semi-furnished\",\"semi-furnished\",\"semi-furnished\",\"semi-furnished\",\"semi-furnished\",\"semi-furnished\",\"semi-furnished\",\"semi-furnished\",\"semi-furnished\",\"semi-furnished\",\"semi-furnished\",\"semi-furnished\",\"semi-furnished\",\"semi-furnished\",\"semi-furnished\",\"semi-furnished\",\"semi-furnished\",\"semi-furnished\",\"semi-furnished\",\"semi-furnished\",\"semi-furnished\",\"semi-furnished\",\"semi-furnished\",\"semi-furnished\",\"semi-furnished\",\"semi-furnished\",\"semi-furnished\",\"semi-furnished\",\"semi-furnished\",\"semi-furnished\",\"semi-furnished\",\"semi-furnished\",\"semi-furnished\",\"semi-furnished\",\"semi-furnished\",\"semi-furnished\",\"semi-furnished\",\"semi-furnished\",\"semi-furnished\",\"semi-furnished\",\"semi-furnished\",\"semi-furnished\",\"semi-furnished\",\"semi-furnished\",\"semi-furnished\",\"semi-furnished\",\"semi-furnished\",\"semi-furnished\",\"semi-furnished\",\"semi-furnished\",\"semi-furnished\",\"semi-furnished\",\"semi-furnished\",\"semi-furnished\",\"semi-furnished\",\"semi-furnished\",\"semi-furnished\",\"semi-furnished\",\"semi-furnished\",\"semi-furnished\",\"semi-furnished\",\"semi-furnished\",\"semi-furnished\",\"semi-furnished\",\"semi-furnished\",\"semi-furnished\",\"semi-furnished\",\"semi-furnished\",\"semi-furnished\",\"semi-furnished\",\"semi-furnished\",\"semi-furnished\",\"semi-furnished\",\"semi-furnished\",\"semi-furnished\",\"semi-furnished\",\"semi-furnished\",\"semi-furnished\",\"semi-furnished\",\"semi-furnished\",\"semi-furnished\",\"semi-furnished\",\"semi-furnished\",\"semi-furnished\",\"semi-furnished\",\"semi-furnished\",\"semi-furnished\",\"semi-furnished\",\"semi-furnished\",\"semi-furnished\",\"semi-furnished\",\"semi-furnished\",\"semi-furnished\",\"semi-furnished\",\"semi-furnished\",\"semi-furnished\",\"semi-furnished\",\"semi-furnished\",\"semi-furnished\",\"semi-furnished\",\"semi-furnished\",\"semi-furnished\",\"semi-furnished\",\"semi-furnished\",\"semi-furnished\",\"semi-furnished\",\"semi-furnished\",\"semi-furnished\",\"semi-furnished\",\"semi-furnished\",\"semi-furnished\",\"semi-furnished\",\"semi-furnished\",\"semi-furnished\",\"semi-furnished\",\"semi-furnished\",\"semi-furnished\",\"semi-furnished\",\"semi-furnished\",\"semi-furnished\",\"semi-furnished\",\"semi-furnished\",\"semi-furnished\",\"semi-furnished\",\"semi-furnished\",\"semi-furnished\",\"semi-furnished\",\"semi-furnished\",\"semi-furnished\",\"semi-furnished\",\"semi-furnished\",\"semi-furnished\",\"semi-furnished\",\"semi-furnished\",\"semi-furnished\",\"semi-furnished\",\"semi-furnished\",\"semi-furnished\",\"semi-furnished\",\"semi-furnished\",\"semi-furnished\",\"semi-furnished\",\"semi-furnished\",\"semi-furnished\",\"semi-furnished\",\"semi-furnished\",\"semi-furnished\",\"semi-furnished\"],\"x0\":\" \",\"xaxis\":\"x\",\"y\":[12250000,10850000,10150000,9681000,9310000,9240000,9100000,8855000,8750000,8463000,8400000,8400000,8400000,7910000,7700000,7560000,7420000,7350000,7350000,7343000,7210000,7140000,7070000,6790000,6650000,6629000,6615000,6580000,6510000,6475000,6440000,6300000,6300000,6300000,6300000,6195000,6160000,6107500,6090000,6090000,6020000,5950000,5950000,5950000,5943000,5873000,5810000,5810000,5803000,5740000,5740000,5652500,5600000,5600000,5600000,5600000,5600000,5565000,5530000,5530000,5523000,5495000,5460000,5460000,5425000,5285000,5250000,5250000,5250000,5250000,5243000,5229000,5215000,5215000,5145000,5145000,5110000,5040000,5040000,5033000,5005000,4970000,4970000,4956000,4935000,4900000,4900000,4900000,4900000,4900000,4900000,4900000,4900000,4900000,4900000,4893000,4893000,4830000,4830000,4795000,4767000,4760000,4753000,4690000,4690000,4690000,4690000,4690000,4620000,4620000,4620000,4620000,4613000,4585000,4550000,4550000,4550000,4543000,4515000,4515000,4515000,4480000,4480000,4473000,4445000,4410000,4410000,4403000,4403000,4382000,4340000,4340000,4340000,4305000,4305000,4277000,4235000,4200000,4200000,4200000,4200000,4200000,4200000,4200000,4200000,4200000,4193000,4193000,4165000,4165000,4165000,4130000,4130000,4123000,4095000,4095000,4095000,4060000,4060000,4025000,4025000,4007500,4007500,3990000,3990000,3920000,3920000,3920000,3885000,3850000,3850000,3850000,3850000,3850000,3850000,3815000,3780000,3780000,3780000,3745000,3710000,3710000,3710000,3703000,3675000,3640000,3640000,3640000,3640000,3640000,3640000,3605000,3605000,3500000,3500000,3500000,3500000,3500000,3500000,3360000,3360000,3290000,3290000,3255000,3150000,3150000,3150000,3150000,3150000,3118850,3080000,3080000,3010000,3010000,3010000,3010000,2961000,2940000,2940000,2870000,2835000,2660000,2660000,2660000,2485000,2275000,1767150],\"y0\":\" \",\"yaxis\":\"y\",\"type\":\"box\"},{\"alignmentgroup\":\"True\",\"hovertemplate\":\"furnishingstatus=%{x}\\u003cbr\\u003eprice=%{y}\\u003cextra\\u003e\\u003c\\u002fextra\\u003e\",\"legendgroup\":\"unfurnished\",\"marker\":{\"color\":\"#00cc96\"},\"name\":\"unfurnished\",\"notched\":false,\"offsetgroup\":\"unfurnished\",\"orientation\":\"v\",\"showlegend\":true,\"x\":[\"unfurnished\",\"unfurnished\",\"unfurnished\",\"unfurnished\",\"unfurnished\",\"unfurnished\",\"unfurnished\",\"unfurnished\",\"unfurnished\",\"unfurnished\",\"unfurnished\",\"unfurnished\",\"unfurnished\",\"unfurnished\",\"unfurnished\",\"unfurnished\",\"unfurnished\",\"unfurnished\",\"unfurnished\",\"unfurnished\",\"unfurnished\",\"unfurnished\",\"unfurnished\",\"unfurnished\",\"unfurnished\",\"unfurnished\",\"unfurnished\",\"unfurnished\",\"unfurnished\",\"unfurnished\",\"unfurnished\",\"unfurnished\",\"unfurnished\",\"unfurnished\",\"unfurnished\",\"unfurnished\",\"unfurnished\",\"unfurnished\",\"unfurnished\",\"unfurnished\",\"unfurnished\",\"unfurnished\",\"unfurnished\",\"unfurnished\",\"unfurnished\",\"unfurnished\",\"unfurnished\",\"unfurnished\",\"unfurnished\",\"unfurnished\",\"unfurnished\",\"unfurnished\",\"unfurnished\",\"unfurnished\",\"unfurnished\",\"unfurnished\",\"unfurnished\",\"unfurnished\",\"unfurnished\",\"unfurnished\",\"unfurnished\",\"unfurnished\",\"unfurnished\",\"unfurnished\",\"unfurnished\",\"unfurnished\",\"unfurnished\",\"unfurnished\",\"unfurnished\",\"unfurnished\",\"unfurnished\",\"unfurnished\",\"unfurnished\",\"unfurnished\",\"unfurnished\",\"unfurnished\",\"unfurnished\",\"unfurnished\",\"unfurnished\",\"unfurnished\",\"unfurnished\",\"unfurnished\",\"unfurnished\",\"unfurnished\",\"unfurnished\",\"unfurnished\",\"unfurnished\",\"unfurnished\",\"unfurnished\",\"unfurnished\",\"unfurnished\",\"unfurnished\",\"unfurnished\",\"unfurnished\",\"unfurnished\",\"unfurnished\",\"unfurnished\",\"unfurnished\",\"unfurnished\",\"unfurnished\",\"unfurnished\",\"unfurnished\",\"unfurnished\",\"unfurnished\",\"unfurnished\",\"unfurnished\",\"unfurnished\",\"unfurnished\",\"unfurnished\",\"unfurnished\",\"unfurnished\",\"unfurnished\",\"unfurnished\",\"unfurnished\",\"unfurnished\",\"unfurnished\",\"unfurnished\",\"unfurnished\",\"unfurnished\",\"unfurnished\",\"unfurnished\",\"unfurnished\",\"unfurnished\",\"unfurnished\",\"unfurnished\",\"unfurnished\",\"unfurnished\",\"unfurnished\",\"unfurnished\",\"unfurnished\",\"unfurnished\",\"unfurnished\",\"unfurnished\",\"unfurnished\",\"unfurnished\",\"unfurnished\",\"unfurnished\",\"unfurnished\",\"unfurnished\",\"unfurnished\",\"unfurnished\",\"unfurnished\",\"unfurnished\",\"unfurnished\",\"unfurnished\",\"unfurnished\",\"unfurnished\",\"unfurnished\",\"unfurnished\",\"unfurnished\",\"unfurnished\",\"unfurnished\",\"unfurnished\",\"unfurnished\",\"unfurnished\",\"unfurnished\",\"unfurnished\",\"unfurnished\",\"unfurnished\",\"unfurnished\",\"unfurnished\",\"unfurnished\",\"unfurnished\",\"unfurnished\",\"unfurnished\",\"unfurnished\",\"unfurnished\",\"unfurnished\",\"unfurnished\",\"unfurnished\",\"unfurnished\",\"unfurnished\",\"unfurnished\",\"unfurnished\",\"unfurnished\",\"unfurnished\",\"unfurnished\",\"unfurnished\"],\"x0\":\" \",\"xaxis\":\"x\",\"y\":[10150000,9800000,9100000,8680000,8400000,8400000,8190000,7962500,7700000,7455000,7420000,7420000,7350000,6895000,6755000,6720000,6510000,6475000,6293000,6265000,6230000,6230000,6160000,6125000,6090000,6020000,5880000,5880000,5866000,5810000,5775000,5740000,5740000,5600000,5600000,5383000,5320000,5250000,5250000,5250000,5110000,5075000,4900000,4865000,4830000,4795000,4760000,4620000,4550000,4550000,4480000,4403000,4375000,4270000,4270000,4200000,4200000,4200000,4200000,4200000,4200000,4060000,4060000,3990000,3990000,3920000,3836000,3780000,3710000,3675000,3640000,3640000,3633000,3570000,3535000,3500000,3500000,3500000,3500000,3500000,3500000,3500000,3500000,3500000,3500000,3493000,3465000,3465000,3430000,3430000,3430000,3430000,3430000,3423000,3395000,3360000,3360000,3360000,3360000,3360000,3325000,3325000,3290000,3290000,3290000,3290000,3255000,3234000,3220000,3220000,3220000,3150000,3150000,3150000,3143000,3129000,3115000,3115000,3115000,3087000,3080000,3080000,3045000,3010000,3010000,3003000,2975000,2940000,2940000,2940000,2940000,2940000,2870000,2870000,2870000,2852500,2835000,2800000,2730000,2730000,2695000,2660000,2660000,2660000,2660000,2653000,2653000,2604000,2590000,2590000,2520000,2520000,2485000,2450000,2450000,2450000,2450000,2450000,2450000,2408000,2380000,2345000,2310000,2275000,2275000,2240000,2233000,2135000,2100000,2100000,2100000,1960000,1890000,1890000,1855000,1820000,1750000,1750000],\"y0\":\" \",\"yaxis\":\"y\",\"type\":\"box\"}],                        {\"template\":{\"data\":{\"histogram2dcontour\":[{\"type\":\"histogram2dcontour\",\"colorbar\":{\"outlinewidth\":0,\"ticks\":\"\"},\"colorscale\":[[0.0,\"#0d0887\"],[0.1111111111111111,\"#46039f\"],[0.2222222222222222,\"#7201a8\"],[0.3333333333333333,\"#9c179e\"],[0.4444444444444444,\"#bd3786\"],[0.5555555555555556,\"#d8576b\"],[0.6666666666666666,\"#ed7953\"],[0.7777777777777778,\"#fb9f3a\"],[0.8888888888888888,\"#fdca26\"],[1.0,\"#f0f921\"]]}],\"choropleth\":[{\"type\":\"choropleth\",\"colorbar\":{\"outlinewidth\":0,\"ticks\":\"\"}}],\"histogram2d\":[{\"type\":\"histogram2d\",\"colorbar\":{\"outlinewidth\":0,\"ticks\":\"\"},\"colorscale\":[[0.0,\"#0d0887\"],[0.1111111111111111,\"#46039f\"],[0.2222222222222222,\"#7201a8\"],[0.3333333333333333,\"#9c179e\"],[0.4444444444444444,\"#bd3786\"],[0.5555555555555556,\"#d8576b\"],[0.6666666666666666,\"#ed7953\"],[0.7777777777777778,\"#fb9f3a\"],[0.8888888888888888,\"#fdca26\"],[1.0,\"#f0f921\"]]}],\"heatmap\":[{\"type\":\"heatmap\",\"colorbar\":{\"outlinewidth\":0,\"ticks\":\"\"},\"colorscale\":[[0.0,\"#0d0887\"],[0.1111111111111111,\"#46039f\"],[0.2222222222222222,\"#7201a8\"],[0.3333333333333333,\"#9c179e\"],[0.4444444444444444,\"#bd3786\"],[0.5555555555555556,\"#d8576b\"],[0.6666666666666666,\"#ed7953\"],[0.7777777777777778,\"#fb9f3a\"],[0.8888888888888888,\"#fdca26\"],[1.0,\"#f0f921\"]]}],\"heatmapgl\":[{\"type\":\"heatmapgl\",\"colorbar\":{\"outlinewidth\":0,\"ticks\":\"\"},\"colorscale\":[[0.0,\"#0d0887\"],[0.1111111111111111,\"#46039f\"],[0.2222222222222222,\"#7201a8\"],[0.3333333333333333,\"#9c179e\"],[0.4444444444444444,\"#bd3786\"],[0.5555555555555556,\"#d8576b\"],[0.6666666666666666,\"#ed7953\"],[0.7777777777777778,\"#fb9f3a\"],[0.8888888888888888,\"#fdca26\"],[1.0,\"#f0f921\"]]}],\"contourcarpet\":[{\"type\":\"contourcarpet\",\"colorbar\":{\"outlinewidth\":0,\"ticks\":\"\"}}],\"contour\":[{\"type\":\"contour\",\"colorbar\":{\"outlinewidth\":0,\"ticks\":\"\"},\"colorscale\":[[0.0,\"#0d0887\"],[0.1111111111111111,\"#46039f\"],[0.2222222222222222,\"#7201a8\"],[0.3333333333333333,\"#9c179e\"],[0.4444444444444444,\"#bd3786\"],[0.5555555555555556,\"#d8576b\"],[0.6666666666666666,\"#ed7953\"],[0.7777777777777778,\"#fb9f3a\"],[0.8888888888888888,\"#fdca26\"],[1.0,\"#f0f921\"]]}],\"surface\":[{\"type\":\"surface\",\"colorbar\":{\"outlinewidth\":0,\"ticks\":\"\"},\"colorscale\":[[0.0,\"#0d0887\"],[0.1111111111111111,\"#46039f\"],[0.2222222222222222,\"#7201a8\"],[0.3333333333333333,\"#9c179e\"],[0.4444444444444444,\"#bd3786\"],[0.5555555555555556,\"#d8576b\"],[0.6666666666666666,\"#ed7953\"],[0.7777777777777778,\"#fb9f3a\"],[0.8888888888888888,\"#fdca26\"],[1.0,\"#f0f921\"]]}],\"mesh3d\":[{\"type\":\"mesh3d\",\"colorbar\":{\"outlinewidth\":0,\"ticks\":\"\"}}],\"scatter\":[{\"fillpattern\":{\"fillmode\":\"overlay\",\"size\":10,\"solidity\":0.2},\"type\":\"scatter\"}],\"parcoords\":[{\"type\":\"parcoords\",\"line\":{\"colorbar\":{\"outlinewidth\":0,\"ticks\":\"\"}}}],\"scatterpolargl\":[{\"type\":\"scatterpolargl\",\"marker\":{\"colorbar\":{\"outlinewidth\":0,\"ticks\":\"\"}}}],\"bar\":[{\"error_x\":{\"color\":\"#2a3f5f\"},\"error_y\":{\"color\":\"#2a3f5f\"},\"marker\":{\"line\":{\"color\":\"#E5ECF6\",\"width\":0.5},\"pattern\":{\"fillmode\":\"overlay\",\"size\":10,\"solidity\":0.2}},\"type\":\"bar\"}],\"scattergeo\":[{\"type\":\"scattergeo\",\"marker\":{\"colorbar\":{\"outlinewidth\":0,\"ticks\":\"\"}}}],\"scatterpolar\":[{\"type\":\"scatterpolar\",\"marker\":{\"colorbar\":{\"outlinewidth\":0,\"ticks\":\"\"}}}],\"histogram\":[{\"marker\":{\"pattern\":{\"fillmode\":\"overlay\",\"size\":10,\"solidity\":0.2}},\"type\":\"histogram\"}],\"scattergl\":[{\"type\":\"scattergl\",\"marker\":{\"colorbar\":{\"outlinewidth\":0,\"ticks\":\"\"}}}],\"scatter3d\":[{\"type\":\"scatter3d\",\"line\":{\"colorbar\":{\"outlinewidth\":0,\"ticks\":\"\"}},\"marker\":{\"colorbar\":{\"outlinewidth\":0,\"ticks\":\"\"}}}],\"scattermapbox\":[{\"type\":\"scattermapbox\",\"marker\":{\"colorbar\":{\"outlinewidth\":0,\"ticks\":\"\"}}}],\"scatterternary\":[{\"type\":\"scatterternary\",\"marker\":{\"colorbar\":{\"outlinewidth\":0,\"ticks\":\"\"}}}],\"scattercarpet\":[{\"type\":\"scattercarpet\",\"marker\":{\"colorbar\":{\"outlinewidth\":0,\"ticks\":\"\"}}}],\"carpet\":[{\"aaxis\":{\"endlinecolor\":\"#2a3f5f\",\"gridcolor\":\"white\",\"linecolor\":\"white\",\"minorgridcolor\":\"white\",\"startlinecolor\":\"#2a3f5f\"},\"baxis\":{\"endlinecolor\":\"#2a3f5f\",\"gridcolor\":\"white\",\"linecolor\":\"white\",\"minorgridcolor\":\"white\",\"startlinecolor\":\"#2a3f5f\"},\"type\":\"carpet\"}],\"table\":[{\"cells\":{\"fill\":{\"color\":\"#EBF0F8\"},\"line\":{\"color\":\"white\"}},\"header\":{\"fill\":{\"color\":\"#C8D4E3\"},\"line\":{\"color\":\"white\"}},\"type\":\"table\"}],\"barpolar\":[{\"marker\":{\"line\":{\"color\":\"#E5ECF6\",\"width\":0.5},\"pattern\":{\"fillmode\":\"overlay\",\"size\":10,\"solidity\":0.2}},\"type\":\"barpolar\"}],\"pie\":[{\"automargin\":true,\"type\":\"pie\"}]},\"layout\":{\"autotypenumbers\":\"strict\",\"colorway\":[\"#636efa\",\"#EF553B\",\"#00cc96\",\"#ab63fa\",\"#FFA15A\",\"#19d3f3\",\"#FF6692\",\"#B6E880\",\"#FF97FF\",\"#FECB52\"],\"font\":{\"color\":\"#2a3f5f\"},\"hovermode\":\"closest\",\"hoverlabel\":{\"align\":\"left\"},\"paper_bgcolor\":\"white\",\"plot_bgcolor\":\"#E5ECF6\",\"polar\":{\"bgcolor\":\"#E5ECF6\",\"angularaxis\":{\"gridcolor\":\"white\",\"linecolor\":\"white\",\"ticks\":\"\"},\"radialaxis\":{\"gridcolor\":\"white\",\"linecolor\":\"white\",\"ticks\":\"\"}},\"ternary\":{\"bgcolor\":\"#E5ECF6\",\"aaxis\":{\"gridcolor\":\"white\",\"linecolor\":\"white\",\"ticks\":\"\"},\"baxis\":{\"gridcolor\":\"white\",\"linecolor\":\"white\",\"ticks\":\"\"},\"caxis\":{\"gridcolor\":\"white\",\"linecolor\":\"white\",\"ticks\":\"\"}},\"coloraxis\":{\"colorbar\":{\"outlinewidth\":0,\"ticks\":\"\"}},\"colorscale\":{\"sequential\":[[0.0,\"#0d0887\"],[0.1111111111111111,\"#46039f\"],[0.2222222222222222,\"#7201a8\"],[0.3333333333333333,\"#9c179e\"],[0.4444444444444444,\"#bd3786\"],[0.5555555555555556,\"#d8576b\"],[0.6666666666666666,\"#ed7953\"],[0.7777777777777778,\"#fb9f3a\"],[0.8888888888888888,\"#fdca26\"],[1.0,\"#f0f921\"]],\"sequentialminus\":[[0.0,\"#0d0887\"],[0.1111111111111111,\"#46039f\"],[0.2222222222222222,\"#7201a8\"],[0.3333333333333333,\"#9c179e\"],[0.4444444444444444,\"#bd3786\"],[0.5555555555555556,\"#d8576b\"],[0.6666666666666666,\"#ed7953\"],[0.7777777777777778,\"#fb9f3a\"],[0.8888888888888888,\"#fdca26\"],[1.0,\"#f0f921\"]],\"diverging\":[[0,\"#8e0152\"],[0.1,\"#c51b7d\"],[0.2,\"#de77ae\"],[0.3,\"#f1b6da\"],[0.4,\"#fde0ef\"],[0.5,\"#f7f7f7\"],[0.6,\"#e6f5d0\"],[0.7,\"#b8e186\"],[0.8,\"#7fbc41\"],[0.9,\"#4d9221\"],[1,\"#276419\"]]},\"xaxis\":{\"gridcolor\":\"white\",\"linecolor\":\"white\",\"ticks\":\"\",\"title\":{\"standoff\":15},\"zerolinecolor\":\"white\",\"automargin\":true,\"zerolinewidth\":2},\"yaxis\":{\"gridcolor\":\"white\",\"linecolor\":\"white\",\"ticks\":\"\",\"title\":{\"standoff\":15},\"zerolinecolor\":\"white\",\"automargin\":true,\"zerolinewidth\":2},\"scene\":{\"xaxis\":{\"backgroundcolor\":\"#E5ECF6\",\"gridcolor\":\"white\",\"linecolor\":\"white\",\"showbackground\":true,\"ticks\":\"\",\"zerolinecolor\":\"white\",\"gridwidth\":2},\"yaxis\":{\"backgroundcolor\":\"#E5ECF6\",\"gridcolor\":\"white\",\"linecolor\":\"white\",\"showbackground\":true,\"ticks\":\"\",\"zerolinecolor\":\"white\",\"gridwidth\":2},\"zaxis\":{\"backgroundcolor\":\"#E5ECF6\",\"gridcolor\":\"white\",\"linecolor\":\"white\",\"showbackground\":true,\"ticks\":\"\",\"zerolinecolor\":\"white\",\"gridwidth\":2}},\"shapedefaults\":{\"line\":{\"color\":\"#2a3f5f\"}},\"annotationdefaults\":{\"arrowcolor\":\"#2a3f5f\",\"arrowhead\":0,\"arrowwidth\":1},\"geo\":{\"bgcolor\":\"white\",\"landcolor\":\"#E5ECF6\",\"subunitcolor\":\"white\",\"showland\":true,\"showlakes\":true,\"lakecolor\":\"white\"},\"title\":{\"x\":0.05},\"mapbox\":{\"style\":\"light\"}}},\"xaxis\":{\"anchor\":\"y\",\"domain\":[0.0,1.0],\"title\":{\"text\":\"furnishingstatus\"},\"categoryorder\":\"array\",\"categoryarray\":[\"furnished\",\"semi-furnished\",\"unfurnished\"]},\"yaxis\":{\"anchor\":\"x\",\"domain\":[0.0,1.0],\"title\":{\"text\":\"price\"}},\"legend\":{\"title\":{\"text\":\"furnishingstatus\"},\"tracegroupgap\":0},\"title\":{\"text\":\"Box Plot da vari\\u00e1vel price e furnishingstatus\"},\"boxmode\":\"overlay\"},                        {\"responsive\": true}                    ).then(function(){\n",
       "                            \n",
       "var gd = document.getElementById('d8c8536f-58de-41fc-bc14-9e14ce8ee9e5');\n",
       "var x = new MutationObserver(function (mutations, observer) {{\n",
       "        var display = window.getComputedStyle(gd).display;\n",
       "        if (!display || display === 'none') {{\n",
       "            console.log([gd, 'removed!']);\n",
       "            Plotly.purge(gd);\n",
       "            observer.disconnect();\n",
       "        }}\n",
       "}});\n",
       "\n",
       "// Listen for the removal of the full notebook cells\n",
       "var notebookContainer = gd.closest('#notebook-container');\n",
       "if (notebookContainer) {{\n",
       "    x.observe(notebookContainer, {childList: true});\n",
       "}}\n",
       "\n",
       "// Listen for the clearing of the current output cell\n",
       "var outputEl = gd.closest('.output');\n",
       "if (outputEl) {{\n",
       "    x.observe(outputEl, {childList: true});\n",
       "}}\n",
       "\n",
       "                        })                };                });            </script>        </div>"
      ]
     },
     "metadata": {},
     "output_type": "display_data"
    }
   ],
   "source": [
    "# Plot de Distruibuição (Box Plot) por price e furnishingstatus\n",
    "px.box(df, x='furnishingstatus', y='price', title=\"Box Plot da variável price e furnishingstatus\", color='furnishingstatus')"
   ]
  },
  {
   "cell_type": "code",
   "execution_count": 41,
   "id": "e8340a46",
   "metadata": {},
   "outputs": [
    {
     "data": {
      "application/vnd.plotly.v1+json": {
       "config": {
        "plotlyServerURL": "https://plot.ly"
       },
       "data": [
        {
         "alignmentgroup": "True",
         "hovertemplate": "bedrooms=%{x}<br>price=%{y}<extra></extra>",
         "legendgroup": "",
         "marker": {
          "color": "#636efa"
         },
         "name": "",
         "notched": false,
         "offsetgroup": "",
         "orientation": "v",
         "showlegend": false,
         "type": "box",
         "x": [
          4,
          4,
          3,
          4,
          4,
          3,
          4,
          5,
          4,
          3,
          3,
          4,
          4,
          4,
          3,
          4,
          4,
          3,
          3,
          3,
          3,
          3,
          3,
          3,
          3,
          4,
          3,
          3,
          5,
          4,
          3,
          3,
          4,
          3,
          5,
          3,
          3,
          4,
          3,
          4,
          3,
          3,
          3,
          4,
          4,
          3,
          3,
          3,
          3,
          3,
          3,
          3,
          4,
          3,
          3,
          3,
          4,
          4,
          4,
          3,
          3,
          2,
          4,
          4,
          3,
          3,
          2,
          3,
          3,
          4,
          3,
          4,
          3,
          2,
          3,
          4,
          3,
          3,
          3,
          3,
          3,
          3,
          3,
          3,
          3,
          3,
          3,
          3,
          3,
          5,
          3,
          2,
          3,
          3,
          4,
          3,
          3,
          3,
          3,
          4,
          3,
          3,
          3,
          3,
          3,
          3,
          4,
          3,
          4,
          4,
          3,
          3,
          6,
          3,
          2,
          3,
          3,
          4,
          3,
          3,
          3,
          3,
          4,
          4,
          3,
          3,
          3,
          3,
          3,
          3,
          3,
          4,
          3,
          3,
          3,
          3,
          4,
          4,
          3,
          3,
          3,
          4,
          4,
          5,
          4,
          3,
          2,
          3,
          3,
          4,
          3,
          4,
          5,
          3,
          3,
          3,
          3,
          4,
          3,
          3,
          4,
          3,
          4,
          3,
          3,
          3,
          3,
          2,
          4,
          4,
          3,
          3,
          3,
          4,
          3,
          4,
          3,
          3,
          3,
          3,
          4,
          3,
          3,
          3,
          3,
          3,
          2,
          3,
          2,
          2,
          4,
          3,
          3,
          2,
          3,
          4,
          3,
          3,
          3,
          3,
          3,
          3,
          2,
          4,
          3,
          3,
          2,
          3,
          3,
          3,
          3,
          3,
          4,
          4,
          2,
          3,
          3,
          3,
          2,
          3,
          4,
          4,
          2,
          3,
          2,
          2,
          3,
          2,
          3,
          4,
          2,
          3,
          3,
          3,
          3,
          3,
          2,
          3,
          4,
          3,
          3,
          3,
          3,
          3,
          3,
          3,
          3,
          4,
          2,
          4,
          3,
          3,
          3,
          2,
          4,
          2,
          3,
          3,
          3,
          2,
          3,
          3,
          2,
          3,
          2,
          3,
          3,
          3,
          4,
          3,
          3,
          5,
          3,
          4,
          4,
          2,
          2,
          2,
          3,
          2,
          2,
          2,
          3,
          4,
          2,
          3,
          3,
          3,
          3,
          2,
          4,
          3,
          4,
          2,
          4,
          3,
          3,
          3,
          3,
          3,
          3,
          3,
          3,
          3,
          3,
          3,
          3,
          3,
          3,
          4,
          3,
          2,
          3,
          3,
          2,
          2,
          4,
          3,
          3,
          4,
          3,
          3,
          3,
          3,
          3,
          4,
          4,
          3,
          3,
          3,
          2,
          3,
          4,
          3,
          2,
          2,
          3,
          4,
          2,
          4,
          5,
          2,
          3,
          2,
          2,
          3,
          2,
          3,
          2,
          3,
          2,
          2,
          2,
          3,
          2,
          3,
          5,
          4,
          2,
          3,
          2,
          3,
          2,
          2,
          3,
          2,
          2,
          2,
          2,
          2,
          2,
          3,
          3,
          2,
          2,
          3,
          3,
          3,
          3,
          3,
          2,
          2,
          3,
          4,
          2,
          2,
          3,
          3,
          3,
          4,
          3,
          3,
          3,
          3,
          3,
          6,
          2,
          2,
          3,
          2,
          2,
          3,
          2,
          3,
          3,
          3,
          2,
          3,
          2,
          2,
          3,
          3,
          3,
          3,
          2,
          3,
          3,
          2,
          4,
          4,
          2,
          2,
          2,
          3,
          3,
          2,
          3,
          3,
          2,
          4,
          2,
          4,
          3,
          4,
          4,
          2,
          3,
          3,
          2,
          2,
          4,
          3,
          2,
          3,
          3,
          1,
          2,
          2,
          2,
          3,
          3,
          2,
          3,
          2,
          3,
          3,
          3,
          3,
          3,
          2,
          2,
          2,
          3,
          2,
          2,
          2,
          3,
          3,
          2,
          2,
          3,
          3,
          4,
          2,
          4,
          2,
          3,
          2,
          3,
          4,
          3,
          2,
          3,
          3,
          2,
          2,
          2,
          4,
          4,
          3,
          3,
          2,
          3,
          3,
          2,
          3,
          2,
          2,
          2,
          3,
          3,
          3,
          2,
          3,
          2,
          3,
          2,
          2,
          2,
          2,
          3,
          3,
          2,
          3,
          3,
          3,
          2,
          2,
          2,
          2,
          2,
          2,
          3,
          4,
          2,
          2,
          2,
          2,
          1,
          3,
          3,
          3,
          2,
          3,
          4,
          2,
          5,
          3,
          2,
          2,
          2,
          3,
          2,
          3,
          3
         ],
         "x0": " ",
         "xaxis": "x",
         "y": [
          13300000,
          12250000,
          12250000,
          12215000,
          11410000,
          10850000,
          10150000,
          10150000,
          9870000,
          9800000,
          9800000,
          9681000,
          9310000,
          9240000,
          9240000,
          9100000,
          9100000,
          8960000,
          8890000,
          8855000,
          8750000,
          8680000,
          8645000,
          8645000,
          8575000,
          8540000,
          8463000,
          8400000,
          8400000,
          8400000,
          8400000,
          8400000,
          8295000,
          8190000,
          8120000,
          8080940,
          8043000,
          7980000,
          7962500,
          7910000,
          7875000,
          7840000,
          7700000,
          7700000,
          7560000,
          7560000,
          7525000,
          7490000,
          7455000,
          7420000,
          7420000,
          7420000,
          7350000,
          7350000,
          7350000,
          7350000,
          7343000,
          7245000,
          7210000,
          7210000,
          7140000,
          7070000,
          7070000,
          7035000,
          7000000,
          6930000,
          6930000,
          6895000,
          6860000,
          6790000,
          6790000,
          6755000,
          6720000,
          6685000,
          6650000,
          6650000,
          6650000,
          6650000,
          6650000,
          6650000,
          6629000,
          6615000,
          6615000,
          6580000,
          6510000,
          6510000,
          6510000,
          6475000,
          6475000,
          6440000,
          6440000,
          6419000,
          6405000,
          6300000,
          6300000,
          6300000,
          6300000,
          6300000,
          6293000,
          6265000,
          6230000,
          6230000,
          6195000,
          6195000,
          6195000,
          6160000,
          6160000,
          6125000,
          6107500,
          6090000,
          6090000,
          6090000,
          6083000,
          6083000,
          6020000,
          6020000,
          6020000,
          5950000,
          5950000,
          5950000,
          5950000,
          5950000,
          5950000,
          5950000,
          5950000,
          5943000,
          5880000,
          5880000,
          5873000,
          5873000,
          5866000,
          5810000,
          5810000,
          5810000,
          5803000,
          5775000,
          5740000,
          5740000,
          5740000,
          5740000,
          5740000,
          5652500,
          5600000,
          5600000,
          5600000,
          5600000,
          5600000,
          5600000,
          5600000,
          5600000,
          5600000,
          5565000,
          5565000,
          5530000,
          5530000,
          5530000,
          5523000,
          5495000,
          5495000,
          5460000,
          5460000,
          5460000,
          5460000,
          5425000,
          5390000,
          5383000,
          5320000,
          5285000,
          5250000,
          5250000,
          5250000,
          5250000,
          5250000,
          5250000,
          5250000,
          5250000,
          5250000,
          5243000,
          5229000,
          5215000,
          5215000,
          5215000,
          5145000,
          5145000,
          5110000,
          5110000,
          5110000,
          5110000,
          5075000,
          5040000,
          5040000,
          5040000,
          5040000,
          5033000,
          5005000,
          4970000,
          4970000,
          4956000,
          4935000,
          4907000,
          4900000,
          4900000,
          4900000,
          4900000,
          4900000,
          4900000,
          4900000,
          4900000,
          4900000,
          4900000,
          4900000,
          4900000,
          4893000,
          4893000,
          4865000,
          4830000,
          4830000,
          4830000,
          4830000,
          4795000,
          4795000,
          4767000,
          4760000,
          4760000,
          4760000,
          4753000,
          4690000,
          4690000,
          4690000,
          4690000,
          4690000,
          4690000,
          4655000,
          4620000,
          4620000,
          4620000,
          4620000,
          4620000,
          4613000,
          4585000,
          4585000,
          4550000,
          4550000,
          4550000,
          4550000,
          4550000,
          4550000,
          4550000,
          4543000,
          4543000,
          4515000,
          4515000,
          4515000,
          4515000,
          4480000,
          4480000,
          4480000,
          4480000,
          4480000,
          4473000,
          4473000,
          4473000,
          4445000,
          4410000,
          4410000,
          4403000,
          4403000,
          4403000,
          4382000,
          4375000,
          4340000,
          4340000,
          4340000,
          4340000,
          4340000,
          4319000,
          4305000,
          4305000,
          4277000,
          4270000,
          4270000,
          4270000,
          4270000,
          4270000,
          4270000,
          4235000,
          4235000,
          4200000,
          4200000,
          4200000,
          4200000,
          4200000,
          4200000,
          4200000,
          4200000,
          4200000,
          4200000,
          4200000,
          4200000,
          4200000,
          4200000,
          4200000,
          4200000,
          4200000,
          4193000,
          4193000,
          4165000,
          4165000,
          4165000,
          4130000,
          4130000,
          4123000,
          4098500,
          4095000,
          4095000,
          4095000,
          4060000,
          4060000,
          4060000,
          4060000,
          4060000,
          4025000,
          4025000,
          4025000,
          4007500,
          4007500,
          3990000,
          3990000,
          3990000,
          3990000,
          3990000,
          3920000,
          3920000,
          3920000,
          3920000,
          3920000,
          3920000,
          3920000,
          3885000,
          3885000,
          3850000,
          3850000,
          3850000,
          3850000,
          3850000,
          3850000,
          3850000,
          3836000,
          3815000,
          3780000,
          3780000,
          3780000,
          3780000,
          3780000,
          3780000,
          3773000,
          3773000,
          3773000,
          3745000,
          3710000,
          3710000,
          3710000,
          3710000,
          3710000,
          3703000,
          3703000,
          3675000,
          3675000,
          3675000,
          3675000,
          3640000,
          3640000,
          3640000,
          3640000,
          3640000,
          3640000,
          3640000,
          3640000,
          3640000,
          3633000,
          3605000,
          3605000,
          3570000,
          3570000,
          3570000,
          3570000,
          3535000,
          3500000,
          3500000,
          3500000,
          3500000,
          3500000,
          3500000,
          3500000,
          3500000,
          3500000,
          3500000,
          3500000,
          3500000,
          3500000,
          3500000,
          3500000,
          3500000,
          3500000,
          3493000,
          3465000,
          3465000,
          3465000,
          3430000,
          3430000,
          3430000,
          3430000,
          3430000,
          3430000,
          3423000,
          3395000,
          3395000,
          3395000,
          3360000,
          3360000,
          3360000,
          3360000,
          3360000,
          3360000,
          3360000,
          3360000,
          3353000,
          3332000,
          3325000,
          3325000,
          3290000,
          3290000,
          3290000,
          3290000,
          3290000,
          3290000,
          3290000,
          3290000,
          3255000,
          3255000,
          3234000,
          3220000,
          3220000,
          3220000,
          3220000,
          3150000,
          3150000,
          3150000,
          3150000,
          3150000,
          3150000,
          3150000,
          3150000,
          3150000,
          3143000,
          3129000,
          3118850,
          3115000,
          3115000,
          3115000,
          3087000,
          3080000,
          3080000,
          3080000,
          3080000,
          3045000,
          3010000,
          3010000,
          3010000,
          3010000,
          3010000,
          3010000,
          3010000,
          3003000,
          2975000,
          2961000,
          2940000,
          2940000,
          2940000,
          2940000,
          2940000,
          2940000,
          2940000,
          2940000,
          2870000,
          2870000,
          2870000,
          2870000,
          2852500,
          2835000,
          2835000,
          2835000,
          2800000,
          2800000,
          2730000,
          2730000,
          2695000,
          2660000,
          2660000,
          2660000,
          2660000,
          2660000,
          2660000,
          2660000,
          2653000,
          2653000,
          2604000,
          2590000,
          2590000,
          2590000,
          2520000,
          2520000,
          2520000,
          2485000,
          2485000,
          2450000,
          2450000,
          2450000,
          2450000,
          2450000,
          2450000,
          2408000,
          2380000,
          2380000,
          2380000,
          2345000,
          2310000,
          2275000,
          2275000,
          2275000,
          2240000,
          2233000,
          2135000,
          2100000,
          2100000,
          2100000,
          1960000,
          1890000,
          1890000,
          1855000,
          1820000,
          1767150,
          1750000,
          1750000,
          1750000
         ],
         "y0": " ",
         "yaxis": "y"
        }
       ],
       "layout": {
        "boxmode": "group",
        "legend": {
         "tracegroupgap": 0
        },
        "template": {
         "data": {
          "bar": [
           {
            "error_x": {
             "color": "#2a3f5f"
            },
            "error_y": {
             "color": "#2a3f5f"
            },
            "marker": {
             "line": {
              "color": "#E5ECF6",
              "width": 0.5
             },
             "pattern": {
              "fillmode": "overlay",
              "size": 10,
              "solidity": 0.2
             }
            },
            "type": "bar"
           }
          ],
          "barpolar": [
           {
            "marker": {
             "line": {
              "color": "#E5ECF6",
              "width": 0.5
             },
             "pattern": {
              "fillmode": "overlay",
              "size": 10,
              "solidity": 0.2
             }
            },
            "type": "barpolar"
           }
          ],
          "carpet": [
           {
            "aaxis": {
             "endlinecolor": "#2a3f5f",
             "gridcolor": "white",
             "linecolor": "white",
             "minorgridcolor": "white",
             "startlinecolor": "#2a3f5f"
            },
            "baxis": {
             "endlinecolor": "#2a3f5f",
             "gridcolor": "white",
             "linecolor": "white",
             "minorgridcolor": "white",
             "startlinecolor": "#2a3f5f"
            },
            "type": "carpet"
           }
          ],
          "choropleth": [
           {
            "colorbar": {
             "outlinewidth": 0,
             "ticks": ""
            },
            "type": "choropleth"
           }
          ],
          "contour": [
           {
            "colorbar": {
             "outlinewidth": 0,
             "ticks": ""
            },
            "colorscale": [
             [
              0,
              "#0d0887"
             ],
             [
              0.1111111111111111,
              "#46039f"
             ],
             [
              0.2222222222222222,
              "#7201a8"
             ],
             [
              0.3333333333333333,
              "#9c179e"
             ],
             [
              0.4444444444444444,
              "#bd3786"
             ],
             [
              0.5555555555555556,
              "#d8576b"
             ],
             [
              0.6666666666666666,
              "#ed7953"
             ],
             [
              0.7777777777777778,
              "#fb9f3a"
             ],
             [
              0.8888888888888888,
              "#fdca26"
             ],
             [
              1,
              "#f0f921"
             ]
            ],
            "type": "contour"
           }
          ],
          "contourcarpet": [
           {
            "colorbar": {
             "outlinewidth": 0,
             "ticks": ""
            },
            "type": "contourcarpet"
           }
          ],
          "heatmap": [
           {
            "colorbar": {
             "outlinewidth": 0,
             "ticks": ""
            },
            "colorscale": [
             [
              0,
              "#0d0887"
             ],
             [
              0.1111111111111111,
              "#46039f"
             ],
             [
              0.2222222222222222,
              "#7201a8"
             ],
             [
              0.3333333333333333,
              "#9c179e"
             ],
             [
              0.4444444444444444,
              "#bd3786"
             ],
             [
              0.5555555555555556,
              "#d8576b"
             ],
             [
              0.6666666666666666,
              "#ed7953"
             ],
             [
              0.7777777777777778,
              "#fb9f3a"
             ],
             [
              0.8888888888888888,
              "#fdca26"
             ],
             [
              1,
              "#f0f921"
             ]
            ],
            "type": "heatmap"
           }
          ],
          "heatmapgl": [
           {
            "colorbar": {
             "outlinewidth": 0,
             "ticks": ""
            },
            "colorscale": [
             [
              0,
              "#0d0887"
             ],
             [
              0.1111111111111111,
              "#46039f"
             ],
             [
              0.2222222222222222,
              "#7201a8"
             ],
             [
              0.3333333333333333,
              "#9c179e"
             ],
             [
              0.4444444444444444,
              "#bd3786"
             ],
             [
              0.5555555555555556,
              "#d8576b"
             ],
             [
              0.6666666666666666,
              "#ed7953"
             ],
             [
              0.7777777777777778,
              "#fb9f3a"
             ],
             [
              0.8888888888888888,
              "#fdca26"
             ],
             [
              1,
              "#f0f921"
             ]
            ],
            "type": "heatmapgl"
           }
          ],
          "histogram": [
           {
            "marker": {
             "pattern": {
              "fillmode": "overlay",
              "size": 10,
              "solidity": 0.2
             }
            },
            "type": "histogram"
           }
          ],
          "histogram2d": [
           {
            "colorbar": {
             "outlinewidth": 0,
             "ticks": ""
            },
            "colorscale": [
             [
              0,
              "#0d0887"
             ],
             [
              0.1111111111111111,
              "#46039f"
             ],
             [
              0.2222222222222222,
              "#7201a8"
             ],
             [
              0.3333333333333333,
              "#9c179e"
             ],
             [
              0.4444444444444444,
              "#bd3786"
             ],
             [
              0.5555555555555556,
              "#d8576b"
             ],
             [
              0.6666666666666666,
              "#ed7953"
             ],
             [
              0.7777777777777778,
              "#fb9f3a"
             ],
             [
              0.8888888888888888,
              "#fdca26"
             ],
             [
              1,
              "#f0f921"
             ]
            ],
            "type": "histogram2d"
           }
          ],
          "histogram2dcontour": [
           {
            "colorbar": {
             "outlinewidth": 0,
             "ticks": ""
            },
            "colorscale": [
             [
              0,
              "#0d0887"
             ],
             [
              0.1111111111111111,
              "#46039f"
             ],
             [
              0.2222222222222222,
              "#7201a8"
             ],
             [
              0.3333333333333333,
              "#9c179e"
             ],
             [
              0.4444444444444444,
              "#bd3786"
             ],
             [
              0.5555555555555556,
              "#d8576b"
             ],
             [
              0.6666666666666666,
              "#ed7953"
             ],
             [
              0.7777777777777778,
              "#fb9f3a"
             ],
             [
              0.8888888888888888,
              "#fdca26"
             ],
             [
              1,
              "#f0f921"
             ]
            ],
            "type": "histogram2dcontour"
           }
          ],
          "mesh3d": [
           {
            "colorbar": {
             "outlinewidth": 0,
             "ticks": ""
            },
            "type": "mesh3d"
           }
          ],
          "parcoords": [
           {
            "line": {
             "colorbar": {
              "outlinewidth": 0,
              "ticks": ""
             }
            },
            "type": "parcoords"
           }
          ],
          "pie": [
           {
            "automargin": true,
            "type": "pie"
           }
          ],
          "scatter": [
           {
            "fillpattern": {
             "fillmode": "overlay",
             "size": 10,
             "solidity": 0.2
            },
            "type": "scatter"
           }
          ],
          "scatter3d": [
           {
            "line": {
             "colorbar": {
              "outlinewidth": 0,
              "ticks": ""
             }
            },
            "marker": {
             "colorbar": {
              "outlinewidth": 0,
              "ticks": ""
             }
            },
            "type": "scatter3d"
           }
          ],
          "scattercarpet": [
           {
            "marker": {
             "colorbar": {
              "outlinewidth": 0,
              "ticks": ""
             }
            },
            "type": "scattercarpet"
           }
          ],
          "scattergeo": [
           {
            "marker": {
             "colorbar": {
              "outlinewidth": 0,
              "ticks": ""
             }
            },
            "type": "scattergeo"
           }
          ],
          "scattergl": [
           {
            "marker": {
             "colorbar": {
              "outlinewidth": 0,
              "ticks": ""
             }
            },
            "type": "scattergl"
           }
          ],
          "scattermapbox": [
           {
            "marker": {
             "colorbar": {
              "outlinewidth": 0,
              "ticks": ""
             }
            },
            "type": "scattermapbox"
           }
          ],
          "scatterpolar": [
           {
            "marker": {
             "colorbar": {
              "outlinewidth": 0,
              "ticks": ""
             }
            },
            "type": "scatterpolar"
           }
          ],
          "scatterpolargl": [
           {
            "marker": {
             "colorbar": {
              "outlinewidth": 0,
              "ticks": ""
             }
            },
            "type": "scatterpolargl"
           }
          ],
          "scatterternary": [
           {
            "marker": {
             "colorbar": {
              "outlinewidth": 0,
              "ticks": ""
             }
            },
            "type": "scatterternary"
           }
          ],
          "surface": [
           {
            "colorbar": {
             "outlinewidth": 0,
             "ticks": ""
            },
            "colorscale": [
             [
              0,
              "#0d0887"
             ],
             [
              0.1111111111111111,
              "#46039f"
             ],
             [
              0.2222222222222222,
              "#7201a8"
             ],
             [
              0.3333333333333333,
              "#9c179e"
             ],
             [
              0.4444444444444444,
              "#bd3786"
             ],
             [
              0.5555555555555556,
              "#d8576b"
             ],
             [
              0.6666666666666666,
              "#ed7953"
             ],
             [
              0.7777777777777778,
              "#fb9f3a"
             ],
             [
              0.8888888888888888,
              "#fdca26"
             ],
             [
              1,
              "#f0f921"
             ]
            ],
            "type": "surface"
           }
          ],
          "table": [
           {
            "cells": {
             "fill": {
              "color": "#EBF0F8"
             },
             "line": {
              "color": "white"
             }
            },
            "header": {
             "fill": {
              "color": "#C8D4E3"
             },
             "line": {
              "color": "white"
             }
            },
            "type": "table"
           }
          ]
         },
         "layout": {
          "annotationdefaults": {
           "arrowcolor": "#2a3f5f",
           "arrowhead": 0,
           "arrowwidth": 1
          },
          "autotypenumbers": "strict",
          "coloraxis": {
           "colorbar": {
            "outlinewidth": 0,
            "ticks": ""
           }
          },
          "colorscale": {
           "diverging": [
            [
             0,
             "#8e0152"
            ],
            [
             0.1,
             "#c51b7d"
            ],
            [
             0.2,
             "#de77ae"
            ],
            [
             0.3,
             "#f1b6da"
            ],
            [
             0.4,
             "#fde0ef"
            ],
            [
             0.5,
             "#f7f7f7"
            ],
            [
             0.6,
             "#e6f5d0"
            ],
            [
             0.7,
             "#b8e186"
            ],
            [
             0.8,
             "#7fbc41"
            ],
            [
             0.9,
             "#4d9221"
            ],
            [
             1,
             "#276419"
            ]
           ],
           "sequential": [
            [
             0,
             "#0d0887"
            ],
            [
             0.1111111111111111,
             "#46039f"
            ],
            [
             0.2222222222222222,
             "#7201a8"
            ],
            [
             0.3333333333333333,
             "#9c179e"
            ],
            [
             0.4444444444444444,
             "#bd3786"
            ],
            [
             0.5555555555555556,
             "#d8576b"
            ],
            [
             0.6666666666666666,
             "#ed7953"
            ],
            [
             0.7777777777777778,
             "#fb9f3a"
            ],
            [
             0.8888888888888888,
             "#fdca26"
            ],
            [
             1,
             "#f0f921"
            ]
           ],
           "sequentialminus": [
            [
             0,
             "#0d0887"
            ],
            [
             0.1111111111111111,
             "#46039f"
            ],
            [
             0.2222222222222222,
             "#7201a8"
            ],
            [
             0.3333333333333333,
             "#9c179e"
            ],
            [
             0.4444444444444444,
             "#bd3786"
            ],
            [
             0.5555555555555556,
             "#d8576b"
            ],
            [
             0.6666666666666666,
             "#ed7953"
            ],
            [
             0.7777777777777778,
             "#fb9f3a"
            ],
            [
             0.8888888888888888,
             "#fdca26"
            ],
            [
             1,
             "#f0f921"
            ]
           ]
          },
          "colorway": [
           "#636efa",
           "#EF553B",
           "#00cc96",
           "#ab63fa",
           "#FFA15A",
           "#19d3f3",
           "#FF6692",
           "#B6E880",
           "#FF97FF",
           "#FECB52"
          ],
          "font": {
           "color": "#2a3f5f"
          },
          "geo": {
           "bgcolor": "white",
           "lakecolor": "white",
           "landcolor": "#E5ECF6",
           "showlakes": true,
           "showland": true,
           "subunitcolor": "white"
          },
          "hoverlabel": {
           "align": "left"
          },
          "hovermode": "closest",
          "mapbox": {
           "style": "light"
          },
          "paper_bgcolor": "white",
          "plot_bgcolor": "#E5ECF6",
          "polar": {
           "angularaxis": {
            "gridcolor": "white",
            "linecolor": "white",
            "ticks": ""
           },
           "bgcolor": "#E5ECF6",
           "radialaxis": {
            "gridcolor": "white",
            "linecolor": "white",
            "ticks": ""
           }
          },
          "scene": {
           "xaxis": {
            "backgroundcolor": "#E5ECF6",
            "gridcolor": "white",
            "gridwidth": 2,
            "linecolor": "white",
            "showbackground": true,
            "ticks": "",
            "zerolinecolor": "white"
           },
           "yaxis": {
            "backgroundcolor": "#E5ECF6",
            "gridcolor": "white",
            "gridwidth": 2,
            "linecolor": "white",
            "showbackground": true,
            "ticks": "",
            "zerolinecolor": "white"
           },
           "zaxis": {
            "backgroundcolor": "#E5ECF6",
            "gridcolor": "white",
            "gridwidth": 2,
            "linecolor": "white",
            "showbackground": true,
            "ticks": "",
            "zerolinecolor": "white"
           }
          },
          "shapedefaults": {
           "line": {
            "color": "#2a3f5f"
           }
          },
          "ternary": {
           "aaxis": {
            "gridcolor": "white",
            "linecolor": "white",
            "ticks": ""
           },
           "baxis": {
            "gridcolor": "white",
            "linecolor": "white",
            "ticks": ""
           },
           "bgcolor": "#E5ECF6",
           "caxis": {
            "gridcolor": "white",
            "linecolor": "white",
            "ticks": ""
           }
          },
          "title": {
           "x": 0.05
          },
          "xaxis": {
           "automargin": true,
           "gridcolor": "white",
           "linecolor": "white",
           "ticks": "",
           "title": {
            "standoff": 15
           },
           "zerolinecolor": "white",
           "zerolinewidth": 2
          },
          "yaxis": {
           "automargin": true,
           "gridcolor": "white",
           "linecolor": "white",
           "ticks": "",
           "title": {
            "standoff": 15
           },
           "zerolinecolor": "white",
           "zerolinewidth": 2
          }
         }
        },
        "title": {
         "text": "Box Plot da variável bedrooms e price"
        },
        "xaxis": {
         "anchor": "y",
         "domain": [
          0,
          1
         ],
         "title": {
          "text": "bedrooms"
         }
        },
        "yaxis": {
         "anchor": "x",
         "domain": [
          0,
          1
         ],
         "title": {
          "text": "price"
         }
        }
       }
      },
      "text/html": [
       "<div>                            <div id=\"305f6c1c-8fcf-41ca-9772-599bc3da6c80\" class=\"plotly-graph-div\" style=\"height:525px; width:100%;\"></div>            <script type=\"text/javascript\">                require([\"plotly\"], function(Plotly) {                    window.PLOTLYENV=window.PLOTLYENV || {};                                    if (document.getElementById(\"305f6c1c-8fcf-41ca-9772-599bc3da6c80\")) {                    Plotly.newPlot(                        \"305f6c1c-8fcf-41ca-9772-599bc3da6c80\",                        [{\"alignmentgroup\":\"True\",\"hovertemplate\":\"bedrooms=%{x}\\u003cbr\\u003eprice=%{y}\\u003cextra\\u003e\\u003c\\u002fextra\\u003e\",\"legendgroup\":\"\",\"marker\":{\"color\":\"#636efa\"},\"name\":\"\",\"notched\":false,\"offsetgroup\":\"\",\"orientation\":\"v\",\"showlegend\":false,\"x\":[4,4,3,4,4,3,4,5,4,3,3,4,4,4,3,4,4,3,3,3,3,3,3,3,3,4,3,3,5,4,3,3,4,3,5,3,3,4,3,4,3,3,3,4,4,3,3,3,3,3,3,3,4,3,3,3,4,4,4,3,3,2,4,4,3,3,2,3,3,4,3,4,3,2,3,4,3,3,3,3,3,3,3,3,3,3,3,3,3,5,3,2,3,3,4,3,3,3,3,4,3,3,3,3,3,3,4,3,4,4,3,3,6,3,2,3,3,4,3,3,3,3,4,4,3,3,3,3,3,3,3,4,3,3,3,3,4,4,3,3,3,4,4,5,4,3,2,3,3,4,3,4,5,3,3,3,3,4,3,3,4,3,4,3,3,3,3,2,4,4,3,3,3,4,3,4,3,3,3,3,4,3,3,3,3,3,2,3,2,2,4,3,3,2,3,4,3,3,3,3,3,3,2,4,3,3,2,3,3,3,3,3,4,4,2,3,3,3,2,3,4,4,2,3,2,2,3,2,3,4,2,3,3,3,3,3,2,3,4,3,3,3,3,3,3,3,3,4,2,4,3,3,3,2,4,2,3,3,3,2,3,3,2,3,2,3,3,3,4,3,3,5,3,4,4,2,2,2,3,2,2,2,3,4,2,3,3,3,3,2,4,3,4,2,4,3,3,3,3,3,3,3,3,3,3,3,3,3,3,4,3,2,3,3,2,2,4,3,3,4,3,3,3,3,3,4,4,3,3,3,2,3,4,3,2,2,3,4,2,4,5,2,3,2,2,3,2,3,2,3,2,2,2,3,2,3,5,4,2,3,2,3,2,2,3,2,2,2,2,2,2,3,3,2,2,3,3,3,3,3,2,2,3,4,2,2,3,3,3,4,3,3,3,3,3,6,2,2,3,2,2,3,2,3,3,3,2,3,2,2,3,3,3,3,2,3,3,2,4,4,2,2,2,3,3,2,3,3,2,4,2,4,3,4,4,2,3,3,2,2,4,3,2,3,3,1,2,2,2,3,3,2,3,2,3,3,3,3,3,2,2,2,3,2,2,2,3,3,2,2,3,3,4,2,4,2,3,2,3,4,3,2,3,3,2,2,2,4,4,3,3,2,3,3,2,3,2,2,2,3,3,3,2,3,2,3,2,2,2,2,3,3,2,3,3,3,2,2,2,2,2,2,3,4,2,2,2,2,1,3,3,3,2,3,4,2,5,3,2,2,2,3,2,3,3],\"x0\":\" \",\"xaxis\":\"x\",\"y\":[13300000,12250000,12250000,12215000,11410000,10850000,10150000,10150000,9870000,9800000,9800000,9681000,9310000,9240000,9240000,9100000,9100000,8960000,8890000,8855000,8750000,8680000,8645000,8645000,8575000,8540000,8463000,8400000,8400000,8400000,8400000,8400000,8295000,8190000,8120000,8080940,8043000,7980000,7962500,7910000,7875000,7840000,7700000,7700000,7560000,7560000,7525000,7490000,7455000,7420000,7420000,7420000,7350000,7350000,7350000,7350000,7343000,7245000,7210000,7210000,7140000,7070000,7070000,7035000,7000000,6930000,6930000,6895000,6860000,6790000,6790000,6755000,6720000,6685000,6650000,6650000,6650000,6650000,6650000,6650000,6629000,6615000,6615000,6580000,6510000,6510000,6510000,6475000,6475000,6440000,6440000,6419000,6405000,6300000,6300000,6300000,6300000,6300000,6293000,6265000,6230000,6230000,6195000,6195000,6195000,6160000,6160000,6125000,6107500,6090000,6090000,6090000,6083000,6083000,6020000,6020000,6020000,5950000,5950000,5950000,5950000,5950000,5950000,5950000,5950000,5943000,5880000,5880000,5873000,5873000,5866000,5810000,5810000,5810000,5803000,5775000,5740000,5740000,5740000,5740000,5740000,5652500,5600000,5600000,5600000,5600000,5600000,5600000,5600000,5600000,5600000,5565000,5565000,5530000,5530000,5530000,5523000,5495000,5495000,5460000,5460000,5460000,5460000,5425000,5390000,5383000,5320000,5285000,5250000,5250000,5250000,5250000,5250000,5250000,5250000,5250000,5250000,5243000,5229000,5215000,5215000,5215000,5145000,5145000,5110000,5110000,5110000,5110000,5075000,5040000,5040000,5040000,5040000,5033000,5005000,4970000,4970000,4956000,4935000,4907000,4900000,4900000,4900000,4900000,4900000,4900000,4900000,4900000,4900000,4900000,4900000,4900000,4893000,4893000,4865000,4830000,4830000,4830000,4830000,4795000,4795000,4767000,4760000,4760000,4760000,4753000,4690000,4690000,4690000,4690000,4690000,4690000,4655000,4620000,4620000,4620000,4620000,4620000,4613000,4585000,4585000,4550000,4550000,4550000,4550000,4550000,4550000,4550000,4543000,4543000,4515000,4515000,4515000,4515000,4480000,4480000,4480000,4480000,4480000,4473000,4473000,4473000,4445000,4410000,4410000,4403000,4403000,4403000,4382000,4375000,4340000,4340000,4340000,4340000,4340000,4319000,4305000,4305000,4277000,4270000,4270000,4270000,4270000,4270000,4270000,4235000,4235000,4200000,4200000,4200000,4200000,4200000,4200000,4200000,4200000,4200000,4200000,4200000,4200000,4200000,4200000,4200000,4200000,4200000,4193000,4193000,4165000,4165000,4165000,4130000,4130000,4123000,4098500,4095000,4095000,4095000,4060000,4060000,4060000,4060000,4060000,4025000,4025000,4025000,4007500,4007500,3990000,3990000,3990000,3990000,3990000,3920000,3920000,3920000,3920000,3920000,3920000,3920000,3885000,3885000,3850000,3850000,3850000,3850000,3850000,3850000,3850000,3836000,3815000,3780000,3780000,3780000,3780000,3780000,3780000,3773000,3773000,3773000,3745000,3710000,3710000,3710000,3710000,3710000,3703000,3703000,3675000,3675000,3675000,3675000,3640000,3640000,3640000,3640000,3640000,3640000,3640000,3640000,3640000,3633000,3605000,3605000,3570000,3570000,3570000,3570000,3535000,3500000,3500000,3500000,3500000,3500000,3500000,3500000,3500000,3500000,3500000,3500000,3500000,3500000,3500000,3500000,3500000,3500000,3493000,3465000,3465000,3465000,3430000,3430000,3430000,3430000,3430000,3430000,3423000,3395000,3395000,3395000,3360000,3360000,3360000,3360000,3360000,3360000,3360000,3360000,3353000,3332000,3325000,3325000,3290000,3290000,3290000,3290000,3290000,3290000,3290000,3290000,3255000,3255000,3234000,3220000,3220000,3220000,3220000,3150000,3150000,3150000,3150000,3150000,3150000,3150000,3150000,3150000,3143000,3129000,3118850,3115000,3115000,3115000,3087000,3080000,3080000,3080000,3080000,3045000,3010000,3010000,3010000,3010000,3010000,3010000,3010000,3003000,2975000,2961000,2940000,2940000,2940000,2940000,2940000,2940000,2940000,2940000,2870000,2870000,2870000,2870000,2852500,2835000,2835000,2835000,2800000,2800000,2730000,2730000,2695000,2660000,2660000,2660000,2660000,2660000,2660000,2660000,2653000,2653000,2604000,2590000,2590000,2590000,2520000,2520000,2520000,2485000,2485000,2450000,2450000,2450000,2450000,2450000,2450000,2408000,2380000,2380000,2380000,2345000,2310000,2275000,2275000,2275000,2240000,2233000,2135000,2100000,2100000,2100000,1960000,1890000,1890000,1855000,1820000,1767150,1750000,1750000,1750000],\"y0\":\" \",\"yaxis\":\"y\",\"type\":\"box\"}],                        {\"template\":{\"data\":{\"histogram2dcontour\":[{\"type\":\"histogram2dcontour\",\"colorbar\":{\"outlinewidth\":0,\"ticks\":\"\"},\"colorscale\":[[0.0,\"#0d0887\"],[0.1111111111111111,\"#46039f\"],[0.2222222222222222,\"#7201a8\"],[0.3333333333333333,\"#9c179e\"],[0.4444444444444444,\"#bd3786\"],[0.5555555555555556,\"#d8576b\"],[0.6666666666666666,\"#ed7953\"],[0.7777777777777778,\"#fb9f3a\"],[0.8888888888888888,\"#fdca26\"],[1.0,\"#f0f921\"]]}],\"choropleth\":[{\"type\":\"choropleth\",\"colorbar\":{\"outlinewidth\":0,\"ticks\":\"\"}}],\"histogram2d\":[{\"type\":\"histogram2d\",\"colorbar\":{\"outlinewidth\":0,\"ticks\":\"\"},\"colorscale\":[[0.0,\"#0d0887\"],[0.1111111111111111,\"#46039f\"],[0.2222222222222222,\"#7201a8\"],[0.3333333333333333,\"#9c179e\"],[0.4444444444444444,\"#bd3786\"],[0.5555555555555556,\"#d8576b\"],[0.6666666666666666,\"#ed7953\"],[0.7777777777777778,\"#fb9f3a\"],[0.8888888888888888,\"#fdca26\"],[1.0,\"#f0f921\"]]}],\"heatmap\":[{\"type\":\"heatmap\",\"colorbar\":{\"outlinewidth\":0,\"ticks\":\"\"},\"colorscale\":[[0.0,\"#0d0887\"],[0.1111111111111111,\"#46039f\"],[0.2222222222222222,\"#7201a8\"],[0.3333333333333333,\"#9c179e\"],[0.4444444444444444,\"#bd3786\"],[0.5555555555555556,\"#d8576b\"],[0.6666666666666666,\"#ed7953\"],[0.7777777777777778,\"#fb9f3a\"],[0.8888888888888888,\"#fdca26\"],[1.0,\"#f0f921\"]]}],\"heatmapgl\":[{\"type\":\"heatmapgl\",\"colorbar\":{\"outlinewidth\":0,\"ticks\":\"\"},\"colorscale\":[[0.0,\"#0d0887\"],[0.1111111111111111,\"#46039f\"],[0.2222222222222222,\"#7201a8\"],[0.3333333333333333,\"#9c179e\"],[0.4444444444444444,\"#bd3786\"],[0.5555555555555556,\"#d8576b\"],[0.6666666666666666,\"#ed7953\"],[0.7777777777777778,\"#fb9f3a\"],[0.8888888888888888,\"#fdca26\"],[1.0,\"#f0f921\"]]}],\"contourcarpet\":[{\"type\":\"contourcarpet\",\"colorbar\":{\"outlinewidth\":0,\"ticks\":\"\"}}],\"contour\":[{\"type\":\"contour\",\"colorbar\":{\"outlinewidth\":0,\"ticks\":\"\"},\"colorscale\":[[0.0,\"#0d0887\"],[0.1111111111111111,\"#46039f\"],[0.2222222222222222,\"#7201a8\"],[0.3333333333333333,\"#9c179e\"],[0.4444444444444444,\"#bd3786\"],[0.5555555555555556,\"#d8576b\"],[0.6666666666666666,\"#ed7953\"],[0.7777777777777778,\"#fb9f3a\"],[0.8888888888888888,\"#fdca26\"],[1.0,\"#f0f921\"]]}],\"surface\":[{\"type\":\"surface\",\"colorbar\":{\"outlinewidth\":0,\"ticks\":\"\"},\"colorscale\":[[0.0,\"#0d0887\"],[0.1111111111111111,\"#46039f\"],[0.2222222222222222,\"#7201a8\"],[0.3333333333333333,\"#9c179e\"],[0.4444444444444444,\"#bd3786\"],[0.5555555555555556,\"#d8576b\"],[0.6666666666666666,\"#ed7953\"],[0.7777777777777778,\"#fb9f3a\"],[0.8888888888888888,\"#fdca26\"],[1.0,\"#f0f921\"]]}],\"mesh3d\":[{\"type\":\"mesh3d\",\"colorbar\":{\"outlinewidth\":0,\"ticks\":\"\"}}],\"scatter\":[{\"fillpattern\":{\"fillmode\":\"overlay\",\"size\":10,\"solidity\":0.2},\"type\":\"scatter\"}],\"parcoords\":[{\"type\":\"parcoords\",\"line\":{\"colorbar\":{\"outlinewidth\":0,\"ticks\":\"\"}}}],\"scatterpolargl\":[{\"type\":\"scatterpolargl\",\"marker\":{\"colorbar\":{\"outlinewidth\":0,\"ticks\":\"\"}}}],\"bar\":[{\"error_x\":{\"color\":\"#2a3f5f\"},\"error_y\":{\"color\":\"#2a3f5f\"},\"marker\":{\"line\":{\"color\":\"#E5ECF6\",\"width\":0.5},\"pattern\":{\"fillmode\":\"overlay\",\"size\":10,\"solidity\":0.2}},\"type\":\"bar\"}],\"scattergeo\":[{\"type\":\"scattergeo\",\"marker\":{\"colorbar\":{\"outlinewidth\":0,\"ticks\":\"\"}}}],\"scatterpolar\":[{\"type\":\"scatterpolar\",\"marker\":{\"colorbar\":{\"outlinewidth\":0,\"ticks\":\"\"}}}],\"histogram\":[{\"marker\":{\"pattern\":{\"fillmode\":\"overlay\",\"size\":10,\"solidity\":0.2}},\"type\":\"histogram\"}],\"scattergl\":[{\"type\":\"scattergl\",\"marker\":{\"colorbar\":{\"outlinewidth\":0,\"ticks\":\"\"}}}],\"scatter3d\":[{\"type\":\"scatter3d\",\"line\":{\"colorbar\":{\"outlinewidth\":0,\"ticks\":\"\"}},\"marker\":{\"colorbar\":{\"outlinewidth\":0,\"ticks\":\"\"}}}],\"scattermapbox\":[{\"type\":\"scattermapbox\",\"marker\":{\"colorbar\":{\"outlinewidth\":0,\"ticks\":\"\"}}}],\"scatterternary\":[{\"type\":\"scatterternary\",\"marker\":{\"colorbar\":{\"outlinewidth\":0,\"ticks\":\"\"}}}],\"scattercarpet\":[{\"type\":\"scattercarpet\",\"marker\":{\"colorbar\":{\"outlinewidth\":0,\"ticks\":\"\"}}}],\"carpet\":[{\"aaxis\":{\"endlinecolor\":\"#2a3f5f\",\"gridcolor\":\"white\",\"linecolor\":\"white\",\"minorgridcolor\":\"white\",\"startlinecolor\":\"#2a3f5f\"},\"baxis\":{\"endlinecolor\":\"#2a3f5f\",\"gridcolor\":\"white\",\"linecolor\":\"white\",\"minorgridcolor\":\"white\",\"startlinecolor\":\"#2a3f5f\"},\"type\":\"carpet\"}],\"table\":[{\"cells\":{\"fill\":{\"color\":\"#EBF0F8\"},\"line\":{\"color\":\"white\"}},\"header\":{\"fill\":{\"color\":\"#C8D4E3\"},\"line\":{\"color\":\"white\"}},\"type\":\"table\"}],\"barpolar\":[{\"marker\":{\"line\":{\"color\":\"#E5ECF6\",\"width\":0.5},\"pattern\":{\"fillmode\":\"overlay\",\"size\":10,\"solidity\":0.2}},\"type\":\"barpolar\"}],\"pie\":[{\"automargin\":true,\"type\":\"pie\"}]},\"layout\":{\"autotypenumbers\":\"strict\",\"colorway\":[\"#636efa\",\"#EF553B\",\"#00cc96\",\"#ab63fa\",\"#FFA15A\",\"#19d3f3\",\"#FF6692\",\"#B6E880\",\"#FF97FF\",\"#FECB52\"],\"font\":{\"color\":\"#2a3f5f\"},\"hovermode\":\"closest\",\"hoverlabel\":{\"align\":\"left\"},\"paper_bgcolor\":\"white\",\"plot_bgcolor\":\"#E5ECF6\",\"polar\":{\"bgcolor\":\"#E5ECF6\",\"angularaxis\":{\"gridcolor\":\"white\",\"linecolor\":\"white\",\"ticks\":\"\"},\"radialaxis\":{\"gridcolor\":\"white\",\"linecolor\":\"white\",\"ticks\":\"\"}},\"ternary\":{\"bgcolor\":\"#E5ECF6\",\"aaxis\":{\"gridcolor\":\"white\",\"linecolor\":\"white\",\"ticks\":\"\"},\"baxis\":{\"gridcolor\":\"white\",\"linecolor\":\"white\",\"ticks\":\"\"},\"caxis\":{\"gridcolor\":\"white\",\"linecolor\":\"white\",\"ticks\":\"\"}},\"coloraxis\":{\"colorbar\":{\"outlinewidth\":0,\"ticks\":\"\"}},\"colorscale\":{\"sequential\":[[0.0,\"#0d0887\"],[0.1111111111111111,\"#46039f\"],[0.2222222222222222,\"#7201a8\"],[0.3333333333333333,\"#9c179e\"],[0.4444444444444444,\"#bd3786\"],[0.5555555555555556,\"#d8576b\"],[0.6666666666666666,\"#ed7953\"],[0.7777777777777778,\"#fb9f3a\"],[0.8888888888888888,\"#fdca26\"],[1.0,\"#f0f921\"]],\"sequentialminus\":[[0.0,\"#0d0887\"],[0.1111111111111111,\"#46039f\"],[0.2222222222222222,\"#7201a8\"],[0.3333333333333333,\"#9c179e\"],[0.4444444444444444,\"#bd3786\"],[0.5555555555555556,\"#d8576b\"],[0.6666666666666666,\"#ed7953\"],[0.7777777777777778,\"#fb9f3a\"],[0.8888888888888888,\"#fdca26\"],[1.0,\"#f0f921\"]],\"diverging\":[[0,\"#8e0152\"],[0.1,\"#c51b7d\"],[0.2,\"#de77ae\"],[0.3,\"#f1b6da\"],[0.4,\"#fde0ef\"],[0.5,\"#f7f7f7\"],[0.6,\"#e6f5d0\"],[0.7,\"#b8e186\"],[0.8,\"#7fbc41\"],[0.9,\"#4d9221\"],[1,\"#276419\"]]},\"xaxis\":{\"gridcolor\":\"white\",\"linecolor\":\"white\",\"ticks\":\"\",\"title\":{\"standoff\":15},\"zerolinecolor\":\"white\",\"automargin\":true,\"zerolinewidth\":2},\"yaxis\":{\"gridcolor\":\"white\",\"linecolor\":\"white\",\"ticks\":\"\",\"title\":{\"standoff\":15},\"zerolinecolor\":\"white\",\"automargin\":true,\"zerolinewidth\":2},\"scene\":{\"xaxis\":{\"backgroundcolor\":\"#E5ECF6\",\"gridcolor\":\"white\",\"linecolor\":\"white\",\"showbackground\":true,\"ticks\":\"\",\"zerolinecolor\":\"white\",\"gridwidth\":2},\"yaxis\":{\"backgroundcolor\":\"#E5ECF6\",\"gridcolor\":\"white\",\"linecolor\":\"white\",\"showbackground\":true,\"ticks\":\"\",\"zerolinecolor\":\"white\",\"gridwidth\":2},\"zaxis\":{\"backgroundcolor\":\"#E5ECF6\",\"gridcolor\":\"white\",\"linecolor\":\"white\",\"showbackground\":true,\"ticks\":\"\",\"zerolinecolor\":\"white\",\"gridwidth\":2}},\"shapedefaults\":{\"line\":{\"color\":\"#2a3f5f\"}},\"annotationdefaults\":{\"arrowcolor\":\"#2a3f5f\",\"arrowhead\":0,\"arrowwidth\":1},\"geo\":{\"bgcolor\":\"white\",\"landcolor\":\"#E5ECF6\",\"subunitcolor\":\"white\",\"showland\":true,\"showlakes\":true,\"lakecolor\":\"white\"},\"title\":{\"x\":0.05},\"mapbox\":{\"style\":\"light\"}}},\"xaxis\":{\"anchor\":\"y\",\"domain\":[0.0,1.0],\"title\":{\"text\":\"bedrooms\"}},\"yaxis\":{\"anchor\":\"x\",\"domain\":[0.0,1.0],\"title\":{\"text\":\"price\"}},\"legend\":{\"tracegroupgap\":0},\"title\":{\"text\":\"Box Plot da vari\\u00e1vel bedrooms e price\"},\"boxmode\":\"group\"},                        {\"responsive\": true}                    ).then(function(){\n",
       "                            \n",
       "var gd = document.getElementById('305f6c1c-8fcf-41ca-9772-599bc3da6c80');\n",
       "var x = new MutationObserver(function (mutations, observer) {{\n",
       "        var display = window.getComputedStyle(gd).display;\n",
       "        if (!display || display === 'none') {{\n",
       "            console.log([gd, 'removed!']);\n",
       "            Plotly.purge(gd);\n",
       "            observer.disconnect();\n",
       "        }}\n",
       "}});\n",
       "\n",
       "// Listen for the removal of the full notebook cells\n",
       "var notebookContainer = gd.closest('#notebook-container');\n",
       "if (notebookContainer) {{\n",
       "    x.observe(notebookContainer, {childList: true});\n",
       "}}\n",
       "\n",
       "// Listen for the clearing of the current output cell\n",
       "var outputEl = gd.closest('.output');\n",
       "if (outputEl) {{\n",
       "    x.observe(outputEl, {childList: true});\n",
       "}}\n",
       "\n",
       "                        })                };                });            </script>        </div>"
      ]
     },
     "metadata": {},
     "output_type": "display_data"
    }
   ],
   "source": [
    "# Plot de Distruibuição (Box Plot) por bedrooms e price\n",
    "px.box(df, x='bedrooms', y='price', title=\"Box Plot da variável bedrooms e price\")"
   ]
  },
  {
   "cell_type": "code",
   "execution_count": 42,
   "id": "fecf443c",
   "metadata": {},
   "outputs": [
    {
     "data": {
      "application/vnd.plotly.v1+json": {
       "config": {
        "plotlyServerURL": "https://plot.ly"
       },
       "data": [
        {
         "alignmentgroup": "True",
         "hovertemplate": "stories=%{x}<br>price=%{y}<extra></extra>",
         "legendgroup": "",
         "marker": {
          "color": "#636efa"
         },
         "name": "",
         "notched": false,
         "offsetgroup": "",
         "orientation": "v",
         "showlegend": false,
         "type": "box",
         "x": [
          3,
          4,
          2,
          2,
          2,
          1,
          4,
          2,
          2,
          4,
          2,
          2,
          2,
          2,
          2,
          2,
          2,
          4,
          2,
          2,
          2,
          1,
          1,
          2,
          2,
          2,
          4,
          1,
          2,
          2,
          4,
          4,
          2,
          2,
          2,
          4,
          3,
          4,
          4,
          4,
          2,
          4,
          4,
          4,
          4,
          3,
          4,
          4,
          2,
          1,
          4,
          4,
          4,
          4,
          2,
          2,
          2,
          4,
          4,
          4,
          2,
          1,
          2,
          3,
          1,
          2,
          1,
          1,
          1,
          2,
          2,
          4,
          4,
          4,
          2,
          2,
          3,
          3,
          1,
          3,
          2,
          2,
          1,
          4,
          2,
          3,
          3,
          1,
          1,
          2,
          2,
          1,
          4,
          1,
          4,
          3,
          1,
          1,
          3,
          3,
          1,
          3,
          4,
          3,
          1,
          4,
          1,
          3,
          3,
          2,
          1,
          3,
          2,
          1,
          1,
          1,
          1,
          2,
          1,
          1,
          1,
          2,
          1,
          2,
          4,
          1,
          1,
          3,
          3,
          3,
          1,
          4,
          3,
          3,
          1,
          4,
          2,
          2,
          3,
          1,
          4,
          2,
          2,
          3,
          2,
          4,
          1,
          2,
          3,
          1,
          2,
          2,
          2,
          2,
          2,
          1,
          1,
          2,
          1,
          1,
          4,
          3,
          2,
          1,
          2,
          1,
          1,
          1,
          2,
          2,
          1,
          1,
          2,
          1,
          2,
          2,
          1,
          1,
          1,
          2,
          1,
          2,
          2,
          1,
          2,
          2,
          2,
          1,
          2,
          1,
          2,
          2,
          1,
          1,
          1,
          2,
          1,
          2,
          2,
          2,
          2,
          2,
          1,
          2,
          1,
          1,
          1,
          2,
          3,
          1,
          2,
          1,
          2,
          1,
          1,
          3,
          1,
          2,
          1,
          2,
          4,
          2,
          1,
          2,
          1,
          1,
          4,
          1,
          2,
          2,
          2,
          1,
          2,
          1,
          2,
          2,
          2,
          2,
          2,
          2,
          2,
          1,
          2,
          2,
          2,
          2,
          1,
          4,
          1,
          2,
          3,
          2,
          1,
          2,
          2,
          1,
          2,
          1,
          2,
          1,
          2,
          2,
          1,
          2,
          2,
          2,
          1,
          2,
          2,
          2,
          3,
          2,
          1,
          2,
          2,
          1,
          1,
          1,
          2,
          1,
          2,
          1,
          2,
          2,
          1,
          2,
          1,
          2,
          2,
          1,
          2,
          2,
          2,
          1,
          2,
          2,
          2,
          2,
          1,
          1,
          3,
          2,
          3,
          1,
          1,
          2,
          2,
          2,
          2,
          2,
          1,
          1,
          1,
          2,
          2,
          1,
          2,
          2,
          1,
          3,
          2,
          2,
          1,
          1,
          2,
          2,
          1,
          2,
          2,
          2,
          2,
          1,
          2,
          2,
          1,
          1,
          1,
          1,
          2,
          2,
          2,
          1,
          2,
          1,
          1,
          2,
          2,
          2,
          1,
          2,
          2,
          1,
          1,
          3,
          1,
          1,
          1,
          2,
          1,
          1,
          1,
          1,
          1,
          1,
          2,
          1,
          1,
          1,
          1,
          1,
          1,
          2,
          2,
          2,
          1,
          2,
          2,
          2,
          3,
          1,
          1,
          1,
          2,
          2,
          1,
          1,
          1,
          2,
          2,
          2,
          2,
          2,
          2,
          1,
          1,
          2,
          1,
          1,
          2,
          1,
          1,
          2,
          1,
          1,
          2,
          1,
          1,
          3,
          1,
          1,
          1,
          3,
          2,
          2,
          1,
          2,
          1,
          1,
          2,
          3,
          2,
          1,
          1,
          1,
          2,
          1,
          1,
          2,
          1,
          2,
          1,
          2,
          1,
          2,
          2,
          1,
          2,
          1,
          1,
          1,
          2,
          2,
          1,
          1,
          2,
          1,
          1,
          1,
          1,
          2,
          2,
          1,
          2,
          1,
          2,
          1,
          1,
          1,
          2,
          1,
          1,
          1,
          2,
          1,
          2,
          1,
          2,
          2,
          1,
          1,
          1,
          2,
          2,
          1,
          2,
          2,
          2,
          1,
          2,
          2,
          2,
          1,
          2,
          2,
          1,
          1,
          1,
          2,
          3,
          2,
          2,
          1,
          2,
          1,
          1,
          2,
          1,
          1,
          2,
          2,
          1,
          1,
          1,
          1,
          1,
          2,
          1,
          1,
          1,
          2,
          1,
          1,
          2,
          2,
          2,
          2,
          1,
          1,
          1,
          2,
          1,
          1,
          2,
          2,
          1,
          1,
          1,
          1,
          1,
          2,
          1,
          1,
          1,
          2,
          2,
          1,
          2,
          2,
          1,
          1,
          1,
          1,
          1,
          1,
          2
         ],
         "x0": " ",
         "xaxis": "x",
         "y": [
          13300000,
          12250000,
          12250000,
          12215000,
          11410000,
          10850000,
          10150000,
          10150000,
          9870000,
          9800000,
          9800000,
          9681000,
          9310000,
          9240000,
          9240000,
          9100000,
          9100000,
          8960000,
          8890000,
          8855000,
          8750000,
          8680000,
          8645000,
          8645000,
          8575000,
          8540000,
          8463000,
          8400000,
          8400000,
          8400000,
          8400000,
          8400000,
          8295000,
          8190000,
          8120000,
          8080940,
          8043000,
          7980000,
          7962500,
          7910000,
          7875000,
          7840000,
          7700000,
          7700000,
          7560000,
          7560000,
          7525000,
          7490000,
          7455000,
          7420000,
          7420000,
          7420000,
          7350000,
          7350000,
          7350000,
          7350000,
          7343000,
          7245000,
          7210000,
          7210000,
          7140000,
          7070000,
          7070000,
          7035000,
          7000000,
          6930000,
          6930000,
          6895000,
          6860000,
          6790000,
          6790000,
          6755000,
          6720000,
          6685000,
          6650000,
          6650000,
          6650000,
          6650000,
          6650000,
          6650000,
          6629000,
          6615000,
          6615000,
          6580000,
          6510000,
          6510000,
          6510000,
          6475000,
          6475000,
          6440000,
          6440000,
          6419000,
          6405000,
          6300000,
          6300000,
          6300000,
          6300000,
          6300000,
          6293000,
          6265000,
          6230000,
          6230000,
          6195000,
          6195000,
          6195000,
          6160000,
          6160000,
          6125000,
          6107500,
          6090000,
          6090000,
          6090000,
          6083000,
          6083000,
          6020000,
          6020000,
          6020000,
          5950000,
          5950000,
          5950000,
          5950000,
          5950000,
          5950000,
          5950000,
          5950000,
          5943000,
          5880000,
          5880000,
          5873000,
          5873000,
          5866000,
          5810000,
          5810000,
          5810000,
          5803000,
          5775000,
          5740000,
          5740000,
          5740000,
          5740000,
          5740000,
          5652500,
          5600000,
          5600000,
          5600000,
          5600000,
          5600000,
          5600000,
          5600000,
          5600000,
          5600000,
          5565000,
          5565000,
          5530000,
          5530000,
          5530000,
          5523000,
          5495000,
          5495000,
          5460000,
          5460000,
          5460000,
          5460000,
          5425000,
          5390000,
          5383000,
          5320000,
          5285000,
          5250000,
          5250000,
          5250000,
          5250000,
          5250000,
          5250000,
          5250000,
          5250000,
          5250000,
          5243000,
          5229000,
          5215000,
          5215000,
          5215000,
          5145000,
          5145000,
          5110000,
          5110000,
          5110000,
          5110000,
          5075000,
          5040000,
          5040000,
          5040000,
          5040000,
          5033000,
          5005000,
          4970000,
          4970000,
          4956000,
          4935000,
          4907000,
          4900000,
          4900000,
          4900000,
          4900000,
          4900000,
          4900000,
          4900000,
          4900000,
          4900000,
          4900000,
          4900000,
          4900000,
          4893000,
          4893000,
          4865000,
          4830000,
          4830000,
          4830000,
          4830000,
          4795000,
          4795000,
          4767000,
          4760000,
          4760000,
          4760000,
          4753000,
          4690000,
          4690000,
          4690000,
          4690000,
          4690000,
          4690000,
          4655000,
          4620000,
          4620000,
          4620000,
          4620000,
          4620000,
          4613000,
          4585000,
          4585000,
          4550000,
          4550000,
          4550000,
          4550000,
          4550000,
          4550000,
          4550000,
          4543000,
          4543000,
          4515000,
          4515000,
          4515000,
          4515000,
          4480000,
          4480000,
          4480000,
          4480000,
          4480000,
          4473000,
          4473000,
          4473000,
          4445000,
          4410000,
          4410000,
          4403000,
          4403000,
          4403000,
          4382000,
          4375000,
          4340000,
          4340000,
          4340000,
          4340000,
          4340000,
          4319000,
          4305000,
          4305000,
          4277000,
          4270000,
          4270000,
          4270000,
          4270000,
          4270000,
          4270000,
          4235000,
          4235000,
          4200000,
          4200000,
          4200000,
          4200000,
          4200000,
          4200000,
          4200000,
          4200000,
          4200000,
          4200000,
          4200000,
          4200000,
          4200000,
          4200000,
          4200000,
          4200000,
          4200000,
          4193000,
          4193000,
          4165000,
          4165000,
          4165000,
          4130000,
          4130000,
          4123000,
          4098500,
          4095000,
          4095000,
          4095000,
          4060000,
          4060000,
          4060000,
          4060000,
          4060000,
          4025000,
          4025000,
          4025000,
          4007500,
          4007500,
          3990000,
          3990000,
          3990000,
          3990000,
          3990000,
          3920000,
          3920000,
          3920000,
          3920000,
          3920000,
          3920000,
          3920000,
          3885000,
          3885000,
          3850000,
          3850000,
          3850000,
          3850000,
          3850000,
          3850000,
          3850000,
          3836000,
          3815000,
          3780000,
          3780000,
          3780000,
          3780000,
          3780000,
          3780000,
          3773000,
          3773000,
          3773000,
          3745000,
          3710000,
          3710000,
          3710000,
          3710000,
          3710000,
          3703000,
          3703000,
          3675000,
          3675000,
          3675000,
          3675000,
          3640000,
          3640000,
          3640000,
          3640000,
          3640000,
          3640000,
          3640000,
          3640000,
          3640000,
          3633000,
          3605000,
          3605000,
          3570000,
          3570000,
          3570000,
          3570000,
          3535000,
          3500000,
          3500000,
          3500000,
          3500000,
          3500000,
          3500000,
          3500000,
          3500000,
          3500000,
          3500000,
          3500000,
          3500000,
          3500000,
          3500000,
          3500000,
          3500000,
          3500000,
          3493000,
          3465000,
          3465000,
          3465000,
          3430000,
          3430000,
          3430000,
          3430000,
          3430000,
          3430000,
          3423000,
          3395000,
          3395000,
          3395000,
          3360000,
          3360000,
          3360000,
          3360000,
          3360000,
          3360000,
          3360000,
          3360000,
          3353000,
          3332000,
          3325000,
          3325000,
          3290000,
          3290000,
          3290000,
          3290000,
          3290000,
          3290000,
          3290000,
          3290000,
          3255000,
          3255000,
          3234000,
          3220000,
          3220000,
          3220000,
          3220000,
          3150000,
          3150000,
          3150000,
          3150000,
          3150000,
          3150000,
          3150000,
          3150000,
          3150000,
          3143000,
          3129000,
          3118850,
          3115000,
          3115000,
          3115000,
          3087000,
          3080000,
          3080000,
          3080000,
          3080000,
          3045000,
          3010000,
          3010000,
          3010000,
          3010000,
          3010000,
          3010000,
          3010000,
          3003000,
          2975000,
          2961000,
          2940000,
          2940000,
          2940000,
          2940000,
          2940000,
          2940000,
          2940000,
          2940000,
          2870000,
          2870000,
          2870000,
          2870000,
          2852500,
          2835000,
          2835000,
          2835000,
          2800000,
          2800000,
          2730000,
          2730000,
          2695000,
          2660000,
          2660000,
          2660000,
          2660000,
          2660000,
          2660000,
          2660000,
          2653000,
          2653000,
          2604000,
          2590000,
          2590000,
          2590000,
          2520000,
          2520000,
          2520000,
          2485000,
          2485000,
          2450000,
          2450000,
          2450000,
          2450000,
          2450000,
          2450000,
          2408000,
          2380000,
          2380000,
          2380000,
          2345000,
          2310000,
          2275000,
          2275000,
          2275000,
          2240000,
          2233000,
          2135000,
          2100000,
          2100000,
          2100000,
          1960000,
          1890000,
          1890000,
          1855000,
          1820000,
          1767150,
          1750000,
          1750000,
          1750000
         ],
         "y0": " ",
         "yaxis": "y"
        }
       ],
       "layout": {
        "boxmode": "group",
        "legend": {
         "tracegroupgap": 0
        },
        "template": {
         "data": {
          "bar": [
           {
            "error_x": {
             "color": "#2a3f5f"
            },
            "error_y": {
             "color": "#2a3f5f"
            },
            "marker": {
             "line": {
              "color": "#E5ECF6",
              "width": 0.5
             },
             "pattern": {
              "fillmode": "overlay",
              "size": 10,
              "solidity": 0.2
             }
            },
            "type": "bar"
           }
          ],
          "barpolar": [
           {
            "marker": {
             "line": {
              "color": "#E5ECF6",
              "width": 0.5
             },
             "pattern": {
              "fillmode": "overlay",
              "size": 10,
              "solidity": 0.2
             }
            },
            "type": "barpolar"
           }
          ],
          "carpet": [
           {
            "aaxis": {
             "endlinecolor": "#2a3f5f",
             "gridcolor": "white",
             "linecolor": "white",
             "minorgridcolor": "white",
             "startlinecolor": "#2a3f5f"
            },
            "baxis": {
             "endlinecolor": "#2a3f5f",
             "gridcolor": "white",
             "linecolor": "white",
             "minorgridcolor": "white",
             "startlinecolor": "#2a3f5f"
            },
            "type": "carpet"
           }
          ],
          "choropleth": [
           {
            "colorbar": {
             "outlinewidth": 0,
             "ticks": ""
            },
            "type": "choropleth"
           }
          ],
          "contour": [
           {
            "colorbar": {
             "outlinewidth": 0,
             "ticks": ""
            },
            "colorscale": [
             [
              0,
              "#0d0887"
             ],
             [
              0.1111111111111111,
              "#46039f"
             ],
             [
              0.2222222222222222,
              "#7201a8"
             ],
             [
              0.3333333333333333,
              "#9c179e"
             ],
             [
              0.4444444444444444,
              "#bd3786"
             ],
             [
              0.5555555555555556,
              "#d8576b"
             ],
             [
              0.6666666666666666,
              "#ed7953"
             ],
             [
              0.7777777777777778,
              "#fb9f3a"
             ],
             [
              0.8888888888888888,
              "#fdca26"
             ],
             [
              1,
              "#f0f921"
             ]
            ],
            "type": "contour"
           }
          ],
          "contourcarpet": [
           {
            "colorbar": {
             "outlinewidth": 0,
             "ticks": ""
            },
            "type": "contourcarpet"
           }
          ],
          "heatmap": [
           {
            "colorbar": {
             "outlinewidth": 0,
             "ticks": ""
            },
            "colorscale": [
             [
              0,
              "#0d0887"
             ],
             [
              0.1111111111111111,
              "#46039f"
             ],
             [
              0.2222222222222222,
              "#7201a8"
             ],
             [
              0.3333333333333333,
              "#9c179e"
             ],
             [
              0.4444444444444444,
              "#bd3786"
             ],
             [
              0.5555555555555556,
              "#d8576b"
             ],
             [
              0.6666666666666666,
              "#ed7953"
             ],
             [
              0.7777777777777778,
              "#fb9f3a"
             ],
             [
              0.8888888888888888,
              "#fdca26"
             ],
             [
              1,
              "#f0f921"
             ]
            ],
            "type": "heatmap"
           }
          ],
          "heatmapgl": [
           {
            "colorbar": {
             "outlinewidth": 0,
             "ticks": ""
            },
            "colorscale": [
             [
              0,
              "#0d0887"
             ],
             [
              0.1111111111111111,
              "#46039f"
             ],
             [
              0.2222222222222222,
              "#7201a8"
             ],
             [
              0.3333333333333333,
              "#9c179e"
             ],
             [
              0.4444444444444444,
              "#bd3786"
             ],
             [
              0.5555555555555556,
              "#d8576b"
             ],
             [
              0.6666666666666666,
              "#ed7953"
             ],
             [
              0.7777777777777778,
              "#fb9f3a"
             ],
             [
              0.8888888888888888,
              "#fdca26"
             ],
             [
              1,
              "#f0f921"
             ]
            ],
            "type": "heatmapgl"
           }
          ],
          "histogram": [
           {
            "marker": {
             "pattern": {
              "fillmode": "overlay",
              "size": 10,
              "solidity": 0.2
             }
            },
            "type": "histogram"
           }
          ],
          "histogram2d": [
           {
            "colorbar": {
             "outlinewidth": 0,
             "ticks": ""
            },
            "colorscale": [
             [
              0,
              "#0d0887"
             ],
             [
              0.1111111111111111,
              "#46039f"
             ],
             [
              0.2222222222222222,
              "#7201a8"
             ],
             [
              0.3333333333333333,
              "#9c179e"
             ],
             [
              0.4444444444444444,
              "#bd3786"
             ],
             [
              0.5555555555555556,
              "#d8576b"
             ],
             [
              0.6666666666666666,
              "#ed7953"
             ],
             [
              0.7777777777777778,
              "#fb9f3a"
             ],
             [
              0.8888888888888888,
              "#fdca26"
             ],
             [
              1,
              "#f0f921"
             ]
            ],
            "type": "histogram2d"
           }
          ],
          "histogram2dcontour": [
           {
            "colorbar": {
             "outlinewidth": 0,
             "ticks": ""
            },
            "colorscale": [
             [
              0,
              "#0d0887"
             ],
             [
              0.1111111111111111,
              "#46039f"
             ],
             [
              0.2222222222222222,
              "#7201a8"
             ],
             [
              0.3333333333333333,
              "#9c179e"
             ],
             [
              0.4444444444444444,
              "#bd3786"
             ],
             [
              0.5555555555555556,
              "#d8576b"
             ],
             [
              0.6666666666666666,
              "#ed7953"
             ],
             [
              0.7777777777777778,
              "#fb9f3a"
             ],
             [
              0.8888888888888888,
              "#fdca26"
             ],
             [
              1,
              "#f0f921"
             ]
            ],
            "type": "histogram2dcontour"
           }
          ],
          "mesh3d": [
           {
            "colorbar": {
             "outlinewidth": 0,
             "ticks": ""
            },
            "type": "mesh3d"
           }
          ],
          "parcoords": [
           {
            "line": {
             "colorbar": {
              "outlinewidth": 0,
              "ticks": ""
             }
            },
            "type": "parcoords"
           }
          ],
          "pie": [
           {
            "automargin": true,
            "type": "pie"
           }
          ],
          "scatter": [
           {
            "fillpattern": {
             "fillmode": "overlay",
             "size": 10,
             "solidity": 0.2
            },
            "type": "scatter"
           }
          ],
          "scatter3d": [
           {
            "line": {
             "colorbar": {
              "outlinewidth": 0,
              "ticks": ""
             }
            },
            "marker": {
             "colorbar": {
              "outlinewidth": 0,
              "ticks": ""
             }
            },
            "type": "scatter3d"
           }
          ],
          "scattercarpet": [
           {
            "marker": {
             "colorbar": {
              "outlinewidth": 0,
              "ticks": ""
             }
            },
            "type": "scattercarpet"
           }
          ],
          "scattergeo": [
           {
            "marker": {
             "colorbar": {
              "outlinewidth": 0,
              "ticks": ""
             }
            },
            "type": "scattergeo"
           }
          ],
          "scattergl": [
           {
            "marker": {
             "colorbar": {
              "outlinewidth": 0,
              "ticks": ""
             }
            },
            "type": "scattergl"
           }
          ],
          "scattermapbox": [
           {
            "marker": {
             "colorbar": {
              "outlinewidth": 0,
              "ticks": ""
             }
            },
            "type": "scattermapbox"
           }
          ],
          "scatterpolar": [
           {
            "marker": {
             "colorbar": {
              "outlinewidth": 0,
              "ticks": ""
             }
            },
            "type": "scatterpolar"
           }
          ],
          "scatterpolargl": [
           {
            "marker": {
             "colorbar": {
              "outlinewidth": 0,
              "ticks": ""
             }
            },
            "type": "scatterpolargl"
           }
          ],
          "scatterternary": [
           {
            "marker": {
             "colorbar": {
              "outlinewidth": 0,
              "ticks": ""
             }
            },
            "type": "scatterternary"
           }
          ],
          "surface": [
           {
            "colorbar": {
             "outlinewidth": 0,
             "ticks": ""
            },
            "colorscale": [
             [
              0,
              "#0d0887"
             ],
             [
              0.1111111111111111,
              "#46039f"
             ],
             [
              0.2222222222222222,
              "#7201a8"
             ],
             [
              0.3333333333333333,
              "#9c179e"
             ],
             [
              0.4444444444444444,
              "#bd3786"
             ],
             [
              0.5555555555555556,
              "#d8576b"
             ],
             [
              0.6666666666666666,
              "#ed7953"
             ],
             [
              0.7777777777777778,
              "#fb9f3a"
             ],
             [
              0.8888888888888888,
              "#fdca26"
             ],
             [
              1,
              "#f0f921"
             ]
            ],
            "type": "surface"
           }
          ],
          "table": [
           {
            "cells": {
             "fill": {
              "color": "#EBF0F8"
             },
             "line": {
              "color": "white"
             }
            },
            "header": {
             "fill": {
              "color": "#C8D4E3"
             },
             "line": {
              "color": "white"
             }
            },
            "type": "table"
           }
          ]
         },
         "layout": {
          "annotationdefaults": {
           "arrowcolor": "#2a3f5f",
           "arrowhead": 0,
           "arrowwidth": 1
          },
          "autotypenumbers": "strict",
          "coloraxis": {
           "colorbar": {
            "outlinewidth": 0,
            "ticks": ""
           }
          },
          "colorscale": {
           "diverging": [
            [
             0,
             "#8e0152"
            ],
            [
             0.1,
             "#c51b7d"
            ],
            [
             0.2,
             "#de77ae"
            ],
            [
             0.3,
             "#f1b6da"
            ],
            [
             0.4,
             "#fde0ef"
            ],
            [
             0.5,
             "#f7f7f7"
            ],
            [
             0.6,
             "#e6f5d0"
            ],
            [
             0.7,
             "#b8e186"
            ],
            [
             0.8,
             "#7fbc41"
            ],
            [
             0.9,
             "#4d9221"
            ],
            [
             1,
             "#276419"
            ]
           ],
           "sequential": [
            [
             0,
             "#0d0887"
            ],
            [
             0.1111111111111111,
             "#46039f"
            ],
            [
             0.2222222222222222,
             "#7201a8"
            ],
            [
             0.3333333333333333,
             "#9c179e"
            ],
            [
             0.4444444444444444,
             "#bd3786"
            ],
            [
             0.5555555555555556,
             "#d8576b"
            ],
            [
             0.6666666666666666,
             "#ed7953"
            ],
            [
             0.7777777777777778,
             "#fb9f3a"
            ],
            [
             0.8888888888888888,
             "#fdca26"
            ],
            [
             1,
             "#f0f921"
            ]
           ],
           "sequentialminus": [
            [
             0,
             "#0d0887"
            ],
            [
             0.1111111111111111,
             "#46039f"
            ],
            [
             0.2222222222222222,
             "#7201a8"
            ],
            [
             0.3333333333333333,
             "#9c179e"
            ],
            [
             0.4444444444444444,
             "#bd3786"
            ],
            [
             0.5555555555555556,
             "#d8576b"
            ],
            [
             0.6666666666666666,
             "#ed7953"
            ],
            [
             0.7777777777777778,
             "#fb9f3a"
            ],
            [
             0.8888888888888888,
             "#fdca26"
            ],
            [
             1,
             "#f0f921"
            ]
           ]
          },
          "colorway": [
           "#636efa",
           "#EF553B",
           "#00cc96",
           "#ab63fa",
           "#FFA15A",
           "#19d3f3",
           "#FF6692",
           "#B6E880",
           "#FF97FF",
           "#FECB52"
          ],
          "font": {
           "color": "#2a3f5f"
          },
          "geo": {
           "bgcolor": "white",
           "lakecolor": "white",
           "landcolor": "#E5ECF6",
           "showlakes": true,
           "showland": true,
           "subunitcolor": "white"
          },
          "hoverlabel": {
           "align": "left"
          },
          "hovermode": "closest",
          "mapbox": {
           "style": "light"
          },
          "paper_bgcolor": "white",
          "plot_bgcolor": "#E5ECF6",
          "polar": {
           "angularaxis": {
            "gridcolor": "white",
            "linecolor": "white",
            "ticks": ""
           },
           "bgcolor": "#E5ECF6",
           "radialaxis": {
            "gridcolor": "white",
            "linecolor": "white",
            "ticks": ""
           }
          },
          "scene": {
           "xaxis": {
            "backgroundcolor": "#E5ECF6",
            "gridcolor": "white",
            "gridwidth": 2,
            "linecolor": "white",
            "showbackground": true,
            "ticks": "",
            "zerolinecolor": "white"
           },
           "yaxis": {
            "backgroundcolor": "#E5ECF6",
            "gridcolor": "white",
            "gridwidth": 2,
            "linecolor": "white",
            "showbackground": true,
            "ticks": "",
            "zerolinecolor": "white"
           },
           "zaxis": {
            "backgroundcolor": "#E5ECF6",
            "gridcolor": "white",
            "gridwidth": 2,
            "linecolor": "white",
            "showbackground": true,
            "ticks": "",
            "zerolinecolor": "white"
           }
          },
          "shapedefaults": {
           "line": {
            "color": "#2a3f5f"
           }
          },
          "ternary": {
           "aaxis": {
            "gridcolor": "white",
            "linecolor": "white",
            "ticks": ""
           },
           "baxis": {
            "gridcolor": "white",
            "linecolor": "white",
            "ticks": ""
           },
           "bgcolor": "#E5ECF6",
           "caxis": {
            "gridcolor": "white",
            "linecolor": "white",
            "ticks": ""
           }
          },
          "title": {
           "x": 0.05
          },
          "xaxis": {
           "automargin": true,
           "gridcolor": "white",
           "linecolor": "white",
           "ticks": "",
           "title": {
            "standoff": 15
           },
           "zerolinecolor": "white",
           "zerolinewidth": 2
          },
          "yaxis": {
           "automargin": true,
           "gridcolor": "white",
           "linecolor": "white",
           "ticks": "",
           "title": {
            "standoff": 15
           },
           "zerolinecolor": "white",
           "zerolinewidth": 2
          }
         }
        },
        "title": {
         "text": "Box Plot da variável stories e price"
        },
        "xaxis": {
         "anchor": "y",
         "domain": [
          0,
          1
         ],
         "title": {
          "text": "stories"
         }
        },
        "yaxis": {
         "anchor": "x",
         "domain": [
          0,
          1
         ],
         "title": {
          "text": "price"
         }
        }
       }
      },
      "text/html": [
       "<div>                            <div id=\"32518500-ef98-4e11-87dd-59633c656e77\" class=\"plotly-graph-div\" style=\"height:525px; width:100%;\"></div>            <script type=\"text/javascript\">                require([\"plotly\"], function(Plotly) {                    window.PLOTLYENV=window.PLOTLYENV || {};                                    if (document.getElementById(\"32518500-ef98-4e11-87dd-59633c656e77\")) {                    Plotly.newPlot(                        \"32518500-ef98-4e11-87dd-59633c656e77\",                        [{\"alignmentgroup\":\"True\",\"hovertemplate\":\"stories=%{x}\\u003cbr\\u003eprice=%{y}\\u003cextra\\u003e\\u003c\\u002fextra\\u003e\",\"legendgroup\":\"\",\"marker\":{\"color\":\"#636efa\"},\"name\":\"\",\"notched\":false,\"offsetgroup\":\"\",\"orientation\":\"v\",\"showlegend\":false,\"x\":[3,4,2,2,2,1,4,2,2,4,2,2,2,2,2,2,2,4,2,2,2,1,1,2,2,2,4,1,2,2,4,4,2,2,2,4,3,4,4,4,2,4,4,4,4,3,4,4,2,1,4,4,4,4,2,2,2,4,4,4,2,1,2,3,1,2,1,1,1,2,2,4,4,4,2,2,3,3,1,3,2,2,1,4,2,3,3,1,1,2,2,1,4,1,4,3,1,1,3,3,1,3,4,3,1,4,1,3,3,2,1,3,2,1,1,1,1,2,1,1,1,2,1,2,4,1,1,3,3,3,1,4,3,3,1,4,2,2,3,1,4,2,2,3,2,4,1,2,3,1,2,2,2,2,2,1,1,2,1,1,4,3,2,1,2,1,1,1,2,2,1,1,2,1,2,2,1,1,1,2,1,2,2,1,2,2,2,1,2,1,2,2,1,1,1,2,1,2,2,2,2,2,1,2,1,1,1,2,3,1,2,1,2,1,1,3,1,2,1,2,4,2,1,2,1,1,4,1,2,2,2,1,2,1,2,2,2,2,2,2,2,1,2,2,2,2,1,4,1,2,3,2,1,2,2,1,2,1,2,1,2,2,1,2,2,2,1,2,2,2,3,2,1,2,2,1,1,1,2,1,2,1,2,2,1,2,1,2,2,1,2,2,2,1,2,2,2,2,1,1,3,2,3,1,1,2,2,2,2,2,1,1,1,2,2,1,2,2,1,3,2,2,1,1,2,2,1,2,2,2,2,1,2,2,1,1,1,1,2,2,2,1,2,1,1,2,2,2,1,2,2,1,1,3,1,1,1,2,1,1,1,1,1,1,2,1,1,1,1,1,1,2,2,2,1,2,2,2,3,1,1,1,2,2,1,1,1,2,2,2,2,2,2,1,1,2,1,1,2,1,1,2,1,1,2,1,1,3,1,1,1,3,2,2,1,2,1,1,2,3,2,1,1,1,2,1,1,2,1,2,1,2,1,2,2,1,2,1,1,1,2,2,1,1,2,1,1,1,1,2,2,1,2,1,2,1,1,1,2,1,1,1,2,1,2,1,2,2,1,1,1,2,2,1,2,2,2,1,2,2,2,1,2,2,1,1,1,2,3,2,2,1,2,1,1,2,1,1,2,2,1,1,1,1,1,2,1,1,1,2,1,1,2,2,2,2,1,1,1,2,1,1,2,2,1,1,1,1,1,2,1,1,1,2,2,1,2,2,1,1,1,1,1,1,2],\"x0\":\" \",\"xaxis\":\"x\",\"y\":[13300000,12250000,12250000,12215000,11410000,10850000,10150000,10150000,9870000,9800000,9800000,9681000,9310000,9240000,9240000,9100000,9100000,8960000,8890000,8855000,8750000,8680000,8645000,8645000,8575000,8540000,8463000,8400000,8400000,8400000,8400000,8400000,8295000,8190000,8120000,8080940,8043000,7980000,7962500,7910000,7875000,7840000,7700000,7700000,7560000,7560000,7525000,7490000,7455000,7420000,7420000,7420000,7350000,7350000,7350000,7350000,7343000,7245000,7210000,7210000,7140000,7070000,7070000,7035000,7000000,6930000,6930000,6895000,6860000,6790000,6790000,6755000,6720000,6685000,6650000,6650000,6650000,6650000,6650000,6650000,6629000,6615000,6615000,6580000,6510000,6510000,6510000,6475000,6475000,6440000,6440000,6419000,6405000,6300000,6300000,6300000,6300000,6300000,6293000,6265000,6230000,6230000,6195000,6195000,6195000,6160000,6160000,6125000,6107500,6090000,6090000,6090000,6083000,6083000,6020000,6020000,6020000,5950000,5950000,5950000,5950000,5950000,5950000,5950000,5950000,5943000,5880000,5880000,5873000,5873000,5866000,5810000,5810000,5810000,5803000,5775000,5740000,5740000,5740000,5740000,5740000,5652500,5600000,5600000,5600000,5600000,5600000,5600000,5600000,5600000,5600000,5565000,5565000,5530000,5530000,5530000,5523000,5495000,5495000,5460000,5460000,5460000,5460000,5425000,5390000,5383000,5320000,5285000,5250000,5250000,5250000,5250000,5250000,5250000,5250000,5250000,5250000,5243000,5229000,5215000,5215000,5215000,5145000,5145000,5110000,5110000,5110000,5110000,5075000,5040000,5040000,5040000,5040000,5033000,5005000,4970000,4970000,4956000,4935000,4907000,4900000,4900000,4900000,4900000,4900000,4900000,4900000,4900000,4900000,4900000,4900000,4900000,4893000,4893000,4865000,4830000,4830000,4830000,4830000,4795000,4795000,4767000,4760000,4760000,4760000,4753000,4690000,4690000,4690000,4690000,4690000,4690000,4655000,4620000,4620000,4620000,4620000,4620000,4613000,4585000,4585000,4550000,4550000,4550000,4550000,4550000,4550000,4550000,4543000,4543000,4515000,4515000,4515000,4515000,4480000,4480000,4480000,4480000,4480000,4473000,4473000,4473000,4445000,4410000,4410000,4403000,4403000,4403000,4382000,4375000,4340000,4340000,4340000,4340000,4340000,4319000,4305000,4305000,4277000,4270000,4270000,4270000,4270000,4270000,4270000,4235000,4235000,4200000,4200000,4200000,4200000,4200000,4200000,4200000,4200000,4200000,4200000,4200000,4200000,4200000,4200000,4200000,4200000,4200000,4193000,4193000,4165000,4165000,4165000,4130000,4130000,4123000,4098500,4095000,4095000,4095000,4060000,4060000,4060000,4060000,4060000,4025000,4025000,4025000,4007500,4007500,3990000,3990000,3990000,3990000,3990000,3920000,3920000,3920000,3920000,3920000,3920000,3920000,3885000,3885000,3850000,3850000,3850000,3850000,3850000,3850000,3850000,3836000,3815000,3780000,3780000,3780000,3780000,3780000,3780000,3773000,3773000,3773000,3745000,3710000,3710000,3710000,3710000,3710000,3703000,3703000,3675000,3675000,3675000,3675000,3640000,3640000,3640000,3640000,3640000,3640000,3640000,3640000,3640000,3633000,3605000,3605000,3570000,3570000,3570000,3570000,3535000,3500000,3500000,3500000,3500000,3500000,3500000,3500000,3500000,3500000,3500000,3500000,3500000,3500000,3500000,3500000,3500000,3500000,3493000,3465000,3465000,3465000,3430000,3430000,3430000,3430000,3430000,3430000,3423000,3395000,3395000,3395000,3360000,3360000,3360000,3360000,3360000,3360000,3360000,3360000,3353000,3332000,3325000,3325000,3290000,3290000,3290000,3290000,3290000,3290000,3290000,3290000,3255000,3255000,3234000,3220000,3220000,3220000,3220000,3150000,3150000,3150000,3150000,3150000,3150000,3150000,3150000,3150000,3143000,3129000,3118850,3115000,3115000,3115000,3087000,3080000,3080000,3080000,3080000,3045000,3010000,3010000,3010000,3010000,3010000,3010000,3010000,3003000,2975000,2961000,2940000,2940000,2940000,2940000,2940000,2940000,2940000,2940000,2870000,2870000,2870000,2870000,2852500,2835000,2835000,2835000,2800000,2800000,2730000,2730000,2695000,2660000,2660000,2660000,2660000,2660000,2660000,2660000,2653000,2653000,2604000,2590000,2590000,2590000,2520000,2520000,2520000,2485000,2485000,2450000,2450000,2450000,2450000,2450000,2450000,2408000,2380000,2380000,2380000,2345000,2310000,2275000,2275000,2275000,2240000,2233000,2135000,2100000,2100000,2100000,1960000,1890000,1890000,1855000,1820000,1767150,1750000,1750000,1750000],\"y0\":\" \",\"yaxis\":\"y\",\"type\":\"box\"}],                        {\"template\":{\"data\":{\"histogram2dcontour\":[{\"type\":\"histogram2dcontour\",\"colorbar\":{\"outlinewidth\":0,\"ticks\":\"\"},\"colorscale\":[[0.0,\"#0d0887\"],[0.1111111111111111,\"#46039f\"],[0.2222222222222222,\"#7201a8\"],[0.3333333333333333,\"#9c179e\"],[0.4444444444444444,\"#bd3786\"],[0.5555555555555556,\"#d8576b\"],[0.6666666666666666,\"#ed7953\"],[0.7777777777777778,\"#fb9f3a\"],[0.8888888888888888,\"#fdca26\"],[1.0,\"#f0f921\"]]}],\"choropleth\":[{\"type\":\"choropleth\",\"colorbar\":{\"outlinewidth\":0,\"ticks\":\"\"}}],\"histogram2d\":[{\"type\":\"histogram2d\",\"colorbar\":{\"outlinewidth\":0,\"ticks\":\"\"},\"colorscale\":[[0.0,\"#0d0887\"],[0.1111111111111111,\"#46039f\"],[0.2222222222222222,\"#7201a8\"],[0.3333333333333333,\"#9c179e\"],[0.4444444444444444,\"#bd3786\"],[0.5555555555555556,\"#d8576b\"],[0.6666666666666666,\"#ed7953\"],[0.7777777777777778,\"#fb9f3a\"],[0.8888888888888888,\"#fdca26\"],[1.0,\"#f0f921\"]]}],\"heatmap\":[{\"type\":\"heatmap\",\"colorbar\":{\"outlinewidth\":0,\"ticks\":\"\"},\"colorscale\":[[0.0,\"#0d0887\"],[0.1111111111111111,\"#46039f\"],[0.2222222222222222,\"#7201a8\"],[0.3333333333333333,\"#9c179e\"],[0.4444444444444444,\"#bd3786\"],[0.5555555555555556,\"#d8576b\"],[0.6666666666666666,\"#ed7953\"],[0.7777777777777778,\"#fb9f3a\"],[0.8888888888888888,\"#fdca26\"],[1.0,\"#f0f921\"]]}],\"heatmapgl\":[{\"type\":\"heatmapgl\",\"colorbar\":{\"outlinewidth\":0,\"ticks\":\"\"},\"colorscale\":[[0.0,\"#0d0887\"],[0.1111111111111111,\"#46039f\"],[0.2222222222222222,\"#7201a8\"],[0.3333333333333333,\"#9c179e\"],[0.4444444444444444,\"#bd3786\"],[0.5555555555555556,\"#d8576b\"],[0.6666666666666666,\"#ed7953\"],[0.7777777777777778,\"#fb9f3a\"],[0.8888888888888888,\"#fdca26\"],[1.0,\"#f0f921\"]]}],\"contourcarpet\":[{\"type\":\"contourcarpet\",\"colorbar\":{\"outlinewidth\":0,\"ticks\":\"\"}}],\"contour\":[{\"type\":\"contour\",\"colorbar\":{\"outlinewidth\":0,\"ticks\":\"\"},\"colorscale\":[[0.0,\"#0d0887\"],[0.1111111111111111,\"#46039f\"],[0.2222222222222222,\"#7201a8\"],[0.3333333333333333,\"#9c179e\"],[0.4444444444444444,\"#bd3786\"],[0.5555555555555556,\"#d8576b\"],[0.6666666666666666,\"#ed7953\"],[0.7777777777777778,\"#fb9f3a\"],[0.8888888888888888,\"#fdca26\"],[1.0,\"#f0f921\"]]}],\"surface\":[{\"type\":\"surface\",\"colorbar\":{\"outlinewidth\":0,\"ticks\":\"\"},\"colorscale\":[[0.0,\"#0d0887\"],[0.1111111111111111,\"#46039f\"],[0.2222222222222222,\"#7201a8\"],[0.3333333333333333,\"#9c179e\"],[0.4444444444444444,\"#bd3786\"],[0.5555555555555556,\"#d8576b\"],[0.6666666666666666,\"#ed7953\"],[0.7777777777777778,\"#fb9f3a\"],[0.8888888888888888,\"#fdca26\"],[1.0,\"#f0f921\"]]}],\"mesh3d\":[{\"type\":\"mesh3d\",\"colorbar\":{\"outlinewidth\":0,\"ticks\":\"\"}}],\"scatter\":[{\"fillpattern\":{\"fillmode\":\"overlay\",\"size\":10,\"solidity\":0.2},\"type\":\"scatter\"}],\"parcoords\":[{\"type\":\"parcoords\",\"line\":{\"colorbar\":{\"outlinewidth\":0,\"ticks\":\"\"}}}],\"scatterpolargl\":[{\"type\":\"scatterpolargl\",\"marker\":{\"colorbar\":{\"outlinewidth\":0,\"ticks\":\"\"}}}],\"bar\":[{\"error_x\":{\"color\":\"#2a3f5f\"},\"error_y\":{\"color\":\"#2a3f5f\"},\"marker\":{\"line\":{\"color\":\"#E5ECF6\",\"width\":0.5},\"pattern\":{\"fillmode\":\"overlay\",\"size\":10,\"solidity\":0.2}},\"type\":\"bar\"}],\"scattergeo\":[{\"type\":\"scattergeo\",\"marker\":{\"colorbar\":{\"outlinewidth\":0,\"ticks\":\"\"}}}],\"scatterpolar\":[{\"type\":\"scatterpolar\",\"marker\":{\"colorbar\":{\"outlinewidth\":0,\"ticks\":\"\"}}}],\"histogram\":[{\"marker\":{\"pattern\":{\"fillmode\":\"overlay\",\"size\":10,\"solidity\":0.2}},\"type\":\"histogram\"}],\"scattergl\":[{\"type\":\"scattergl\",\"marker\":{\"colorbar\":{\"outlinewidth\":0,\"ticks\":\"\"}}}],\"scatter3d\":[{\"type\":\"scatter3d\",\"line\":{\"colorbar\":{\"outlinewidth\":0,\"ticks\":\"\"}},\"marker\":{\"colorbar\":{\"outlinewidth\":0,\"ticks\":\"\"}}}],\"scattermapbox\":[{\"type\":\"scattermapbox\",\"marker\":{\"colorbar\":{\"outlinewidth\":0,\"ticks\":\"\"}}}],\"scatterternary\":[{\"type\":\"scatterternary\",\"marker\":{\"colorbar\":{\"outlinewidth\":0,\"ticks\":\"\"}}}],\"scattercarpet\":[{\"type\":\"scattercarpet\",\"marker\":{\"colorbar\":{\"outlinewidth\":0,\"ticks\":\"\"}}}],\"carpet\":[{\"aaxis\":{\"endlinecolor\":\"#2a3f5f\",\"gridcolor\":\"white\",\"linecolor\":\"white\",\"minorgridcolor\":\"white\",\"startlinecolor\":\"#2a3f5f\"},\"baxis\":{\"endlinecolor\":\"#2a3f5f\",\"gridcolor\":\"white\",\"linecolor\":\"white\",\"minorgridcolor\":\"white\",\"startlinecolor\":\"#2a3f5f\"},\"type\":\"carpet\"}],\"table\":[{\"cells\":{\"fill\":{\"color\":\"#EBF0F8\"},\"line\":{\"color\":\"white\"}},\"header\":{\"fill\":{\"color\":\"#C8D4E3\"},\"line\":{\"color\":\"white\"}},\"type\":\"table\"}],\"barpolar\":[{\"marker\":{\"line\":{\"color\":\"#E5ECF6\",\"width\":0.5},\"pattern\":{\"fillmode\":\"overlay\",\"size\":10,\"solidity\":0.2}},\"type\":\"barpolar\"}],\"pie\":[{\"automargin\":true,\"type\":\"pie\"}]},\"layout\":{\"autotypenumbers\":\"strict\",\"colorway\":[\"#636efa\",\"#EF553B\",\"#00cc96\",\"#ab63fa\",\"#FFA15A\",\"#19d3f3\",\"#FF6692\",\"#B6E880\",\"#FF97FF\",\"#FECB52\"],\"font\":{\"color\":\"#2a3f5f\"},\"hovermode\":\"closest\",\"hoverlabel\":{\"align\":\"left\"},\"paper_bgcolor\":\"white\",\"plot_bgcolor\":\"#E5ECF6\",\"polar\":{\"bgcolor\":\"#E5ECF6\",\"angularaxis\":{\"gridcolor\":\"white\",\"linecolor\":\"white\",\"ticks\":\"\"},\"radialaxis\":{\"gridcolor\":\"white\",\"linecolor\":\"white\",\"ticks\":\"\"}},\"ternary\":{\"bgcolor\":\"#E5ECF6\",\"aaxis\":{\"gridcolor\":\"white\",\"linecolor\":\"white\",\"ticks\":\"\"},\"baxis\":{\"gridcolor\":\"white\",\"linecolor\":\"white\",\"ticks\":\"\"},\"caxis\":{\"gridcolor\":\"white\",\"linecolor\":\"white\",\"ticks\":\"\"}},\"coloraxis\":{\"colorbar\":{\"outlinewidth\":0,\"ticks\":\"\"}},\"colorscale\":{\"sequential\":[[0.0,\"#0d0887\"],[0.1111111111111111,\"#46039f\"],[0.2222222222222222,\"#7201a8\"],[0.3333333333333333,\"#9c179e\"],[0.4444444444444444,\"#bd3786\"],[0.5555555555555556,\"#d8576b\"],[0.6666666666666666,\"#ed7953\"],[0.7777777777777778,\"#fb9f3a\"],[0.8888888888888888,\"#fdca26\"],[1.0,\"#f0f921\"]],\"sequentialminus\":[[0.0,\"#0d0887\"],[0.1111111111111111,\"#46039f\"],[0.2222222222222222,\"#7201a8\"],[0.3333333333333333,\"#9c179e\"],[0.4444444444444444,\"#bd3786\"],[0.5555555555555556,\"#d8576b\"],[0.6666666666666666,\"#ed7953\"],[0.7777777777777778,\"#fb9f3a\"],[0.8888888888888888,\"#fdca26\"],[1.0,\"#f0f921\"]],\"diverging\":[[0,\"#8e0152\"],[0.1,\"#c51b7d\"],[0.2,\"#de77ae\"],[0.3,\"#f1b6da\"],[0.4,\"#fde0ef\"],[0.5,\"#f7f7f7\"],[0.6,\"#e6f5d0\"],[0.7,\"#b8e186\"],[0.8,\"#7fbc41\"],[0.9,\"#4d9221\"],[1,\"#276419\"]]},\"xaxis\":{\"gridcolor\":\"white\",\"linecolor\":\"white\",\"ticks\":\"\",\"title\":{\"standoff\":15},\"zerolinecolor\":\"white\",\"automargin\":true,\"zerolinewidth\":2},\"yaxis\":{\"gridcolor\":\"white\",\"linecolor\":\"white\",\"ticks\":\"\",\"title\":{\"standoff\":15},\"zerolinecolor\":\"white\",\"automargin\":true,\"zerolinewidth\":2},\"scene\":{\"xaxis\":{\"backgroundcolor\":\"#E5ECF6\",\"gridcolor\":\"white\",\"linecolor\":\"white\",\"showbackground\":true,\"ticks\":\"\",\"zerolinecolor\":\"white\",\"gridwidth\":2},\"yaxis\":{\"backgroundcolor\":\"#E5ECF6\",\"gridcolor\":\"white\",\"linecolor\":\"white\",\"showbackground\":true,\"ticks\":\"\",\"zerolinecolor\":\"white\",\"gridwidth\":2},\"zaxis\":{\"backgroundcolor\":\"#E5ECF6\",\"gridcolor\":\"white\",\"linecolor\":\"white\",\"showbackground\":true,\"ticks\":\"\",\"zerolinecolor\":\"white\",\"gridwidth\":2}},\"shapedefaults\":{\"line\":{\"color\":\"#2a3f5f\"}},\"annotationdefaults\":{\"arrowcolor\":\"#2a3f5f\",\"arrowhead\":0,\"arrowwidth\":1},\"geo\":{\"bgcolor\":\"white\",\"landcolor\":\"#E5ECF6\",\"subunitcolor\":\"white\",\"showland\":true,\"showlakes\":true,\"lakecolor\":\"white\"},\"title\":{\"x\":0.05},\"mapbox\":{\"style\":\"light\"}}},\"xaxis\":{\"anchor\":\"y\",\"domain\":[0.0,1.0],\"title\":{\"text\":\"stories\"}},\"yaxis\":{\"anchor\":\"x\",\"domain\":[0.0,1.0],\"title\":{\"text\":\"price\"}},\"legend\":{\"tracegroupgap\":0},\"title\":{\"text\":\"Box Plot da vari\\u00e1vel stories e price\"},\"boxmode\":\"group\"},                        {\"responsive\": true}                    ).then(function(){\n",
       "                            \n",
       "var gd = document.getElementById('32518500-ef98-4e11-87dd-59633c656e77');\n",
       "var x = new MutationObserver(function (mutations, observer) {{\n",
       "        var display = window.getComputedStyle(gd).display;\n",
       "        if (!display || display === 'none') {{\n",
       "            console.log([gd, 'removed!']);\n",
       "            Plotly.purge(gd);\n",
       "            observer.disconnect();\n",
       "        }}\n",
       "}});\n",
       "\n",
       "// Listen for the removal of the full notebook cells\n",
       "var notebookContainer = gd.closest('#notebook-container');\n",
       "if (notebookContainer) {{\n",
       "    x.observe(notebookContainer, {childList: true});\n",
       "}}\n",
       "\n",
       "// Listen for the clearing of the current output cell\n",
       "var outputEl = gd.closest('.output');\n",
       "if (outputEl) {{\n",
       "    x.observe(outputEl, {childList: true});\n",
       "}}\n",
       "\n",
       "                        })                };                });            </script>        </div>"
      ]
     },
     "metadata": {},
     "output_type": "display_data"
    }
   ],
   "source": [
    "# Plot de Distruibuição (Box Plot) por stories e price\n",
    "px.box(df, x='stories', y='price', title=\"Box Plot da variável stories e price\")"
   ]
  },
  {
   "cell_type": "code",
   "execution_count": 43,
   "id": "7de3067a",
   "metadata": {},
   "outputs": [
    {
     "data": {
      "application/vnd.plotly.v1+json": {
       "config": {
        "plotlyServerURL": "https://plot.ly"
       },
       "data": [
        {
         "alignmentgroup": "True",
         "hovertemplate": "hotwaterheating=%{x}<br>price=%{y}<extra></extra>",
         "legendgroup": "",
         "marker": {
          "color": "#636efa"
         },
         "name": "",
         "notched": false,
         "offsetgroup": "",
         "orientation": "v",
         "showlegend": false,
         "type": "box",
         "x": [
          "no",
          "no",
          "no",
          "no",
          "no",
          "no",
          "no",
          "no",
          "no",
          "no",
          "no",
          "yes",
          "no",
          "yes",
          "no",
          "no",
          "no",
          "no",
          "no",
          "no",
          "yes",
          "no",
          "no",
          "no",
          "no",
          "no",
          "no",
          "no",
          "yes",
          "no",
          "no",
          "no",
          "no",
          "no",
          "no",
          "no",
          "yes",
          "no",
          "no",
          "no",
          "no",
          "no",
          "no",
          "no",
          "no",
          "no",
          "no",
          "no",
          "no",
          "no",
          "no",
          "no",
          "no",
          "no",
          "no",
          "no",
          "no",
          "no",
          "no",
          "no",
          "no",
          "no",
          "no",
          "no",
          "no",
          "no",
          "yes",
          "no",
          "no",
          "no",
          "no",
          "no",
          "no",
          "no",
          "yes",
          "yes",
          "no",
          "no",
          "no",
          "no",
          "yes",
          "no",
          "no",
          "no",
          "yes",
          "no",
          "no",
          "no",
          "no",
          "no",
          "no",
          "no",
          "no",
          "no",
          "no",
          "no",
          "no",
          "no",
          "no",
          "no",
          "no",
          "no",
          "no",
          "no",
          "no",
          "no",
          "no",
          "no",
          "no",
          "yes",
          "no",
          "no",
          "no",
          "no",
          "no",
          "no",
          "no",
          "no",
          "no",
          "no",
          "no",
          "no",
          "no",
          "no",
          "no",
          "no",
          "no",
          "no",
          "no",
          "no",
          "no",
          "no",
          "no",
          "no",
          "no",
          "no",
          "no",
          "no",
          "no",
          "no",
          "no",
          "no",
          "no",
          "yes",
          "no",
          "no",
          "no",
          "no",
          "no",
          "no",
          "no",
          "no",
          "no",
          "no",
          "no",
          "no",
          "no",
          "no",
          "no",
          "no",
          "no",
          "no",
          "no",
          "no",
          "no",
          "yes",
          "no",
          "no",
          "no",
          "no",
          "no",
          "no",
          "no",
          "no",
          "no",
          "no",
          "no",
          "no",
          "no",
          "no",
          "no",
          "no",
          "no",
          "no",
          "no",
          "no",
          "no",
          "no",
          "no",
          "no",
          "no",
          "no",
          "no",
          "no",
          "no",
          "no",
          "yes",
          "no",
          "no",
          "no",
          "no",
          "no",
          "no",
          "no",
          "no",
          "no",
          "no",
          "no",
          "no",
          "no",
          "no",
          "no",
          "no",
          "no",
          "no",
          "no",
          "no",
          "no",
          "no",
          "no",
          "no",
          "no",
          "no",
          "no",
          "no",
          "no",
          "no",
          "no",
          "no",
          "no",
          "no",
          "no",
          "no",
          "no",
          "no",
          "no",
          "no",
          "no",
          "no",
          "no",
          "no",
          "no",
          "no",
          "no",
          "no",
          "no",
          "no",
          "no",
          "no",
          "no",
          "no",
          "no",
          "no",
          "no",
          "no",
          "no",
          "no",
          "no",
          "no",
          "no",
          "no",
          "no",
          "no",
          "no",
          "no",
          "no",
          "no",
          "no",
          "no",
          "no",
          "yes",
          "no",
          "no",
          "no",
          "no",
          "no",
          "no",
          "no",
          "no",
          "no",
          "no",
          "no",
          "no",
          "no",
          "no",
          "no",
          "no",
          "no",
          "no",
          "no",
          "no",
          "no",
          "no",
          "no",
          "no",
          "no",
          "no",
          "no",
          "yes",
          "no",
          "no",
          "no",
          "no",
          "no",
          "no",
          "no",
          "no",
          "no",
          "no",
          "no",
          "no",
          "no",
          "no",
          "no",
          "no",
          "no",
          "no",
          "no",
          "no",
          "no",
          "no",
          "yes",
          "no",
          "no",
          "no",
          "no",
          "no",
          "no",
          "no",
          "no",
          "no",
          "no",
          "no",
          "no",
          "yes",
          "no",
          "no",
          "no",
          "no",
          "no",
          "no",
          "no",
          "no",
          "no",
          "no",
          "no",
          "no",
          "no",
          "no",
          "no",
          "yes",
          "no",
          "no",
          "no",
          "no",
          "no",
          "no",
          "no",
          "no",
          "no",
          "no",
          "no",
          "no",
          "yes",
          "yes",
          "no",
          "no",
          "no",
          "no",
          "no",
          "no",
          "no",
          "no",
          "no",
          "no",
          "no",
          "no",
          "no",
          "yes",
          "no",
          "no",
          "no",
          "no",
          "no",
          "no",
          "no",
          "no",
          "no",
          "no",
          "no",
          "no",
          "no",
          "no",
          "no",
          "no",
          "no",
          "no",
          "no",
          "no",
          "no",
          "no",
          "no",
          "no",
          "no",
          "no",
          "no",
          "no",
          "no",
          "no",
          "no",
          "no",
          "no",
          "no",
          "no",
          "no",
          "no",
          "no",
          "no",
          "no",
          "no",
          "no",
          "no",
          "no",
          "no",
          "no",
          "no",
          "no",
          "no",
          "no",
          "no",
          "no",
          "no",
          "no",
          "no",
          "no",
          "no",
          "no",
          "no",
          "no",
          "no",
          "no",
          "no",
          "no",
          "no",
          "no",
          "no",
          "no",
          "no",
          "no",
          "no",
          "no",
          "no",
          "no",
          "no",
          "no",
          "no",
          "no",
          "no",
          "no",
          "no",
          "no",
          "no",
          "no",
          "no",
          "yes",
          "no",
          "no",
          "no",
          "no",
          "no",
          "no",
          "no",
          "no",
          "no",
          "no",
          "no",
          "no",
          "no",
          "no",
          "no",
          "no",
          "no",
          "no",
          "no",
          "no",
          "no",
          "no",
          "no",
          "no",
          "no",
          "yes",
          "no",
          "no",
          "no",
          "no",
          "no",
          "no",
          "no",
          "no",
          "no",
          "no",
          "no",
          "no",
          "no",
          "no",
          "no",
          "no",
          "no",
          "no",
          "no",
          "no",
          "no",
          "no",
          "no",
          "no",
          "no",
          "no",
          "no",
          "no",
          "no",
          "no",
          "no",
          "no",
          "no",
          "no",
          "no",
          "no",
          "no",
          "no",
          "no",
          "yes",
          "no",
          "no",
          "no",
          "no",
          "no",
          "no",
          "no",
          "no",
          "no",
          "no",
          "no",
          "no",
          "no",
          "no"
         ],
         "x0": " ",
         "xaxis": "x",
         "y": [
          13300000,
          12250000,
          12250000,
          12215000,
          11410000,
          10850000,
          10150000,
          10150000,
          9870000,
          9800000,
          9800000,
          9681000,
          9310000,
          9240000,
          9240000,
          9100000,
          9100000,
          8960000,
          8890000,
          8855000,
          8750000,
          8680000,
          8645000,
          8645000,
          8575000,
          8540000,
          8463000,
          8400000,
          8400000,
          8400000,
          8400000,
          8400000,
          8295000,
          8190000,
          8120000,
          8080940,
          8043000,
          7980000,
          7962500,
          7910000,
          7875000,
          7840000,
          7700000,
          7700000,
          7560000,
          7560000,
          7525000,
          7490000,
          7455000,
          7420000,
          7420000,
          7420000,
          7350000,
          7350000,
          7350000,
          7350000,
          7343000,
          7245000,
          7210000,
          7210000,
          7140000,
          7070000,
          7070000,
          7035000,
          7000000,
          6930000,
          6930000,
          6895000,
          6860000,
          6790000,
          6790000,
          6755000,
          6720000,
          6685000,
          6650000,
          6650000,
          6650000,
          6650000,
          6650000,
          6650000,
          6629000,
          6615000,
          6615000,
          6580000,
          6510000,
          6510000,
          6510000,
          6475000,
          6475000,
          6440000,
          6440000,
          6419000,
          6405000,
          6300000,
          6300000,
          6300000,
          6300000,
          6300000,
          6293000,
          6265000,
          6230000,
          6230000,
          6195000,
          6195000,
          6195000,
          6160000,
          6160000,
          6125000,
          6107500,
          6090000,
          6090000,
          6090000,
          6083000,
          6083000,
          6020000,
          6020000,
          6020000,
          5950000,
          5950000,
          5950000,
          5950000,
          5950000,
          5950000,
          5950000,
          5950000,
          5943000,
          5880000,
          5880000,
          5873000,
          5873000,
          5866000,
          5810000,
          5810000,
          5810000,
          5803000,
          5775000,
          5740000,
          5740000,
          5740000,
          5740000,
          5740000,
          5652500,
          5600000,
          5600000,
          5600000,
          5600000,
          5600000,
          5600000,
          5600000,
          5600000,
          5600000,
          5565000,
          5565000,
          5530000,
          5530000,
          5530000,
          5523000,
          5495000,
          5495000,
          5460000,
          5460000,
          5460000,
          5460000,
          5425000,
          5390000,
          5383000,
          5320000,
          5285000,
          5250000,
          5250000,
          5250000,
          5250000,
          5250000,
          5250000,
          5250000,
          5250000,
          5250000,
          5243000,
          5229000,
          5215000,
          5215000,
          5215000,
          5145000,
          5145000,
          5110000,
          5110000,
          5110000,
          5110000,
          5075000,
          5040000,
          5040000,
          5040000,
          5040000,
          5033000,
          5005000,
          4970000,
          4970000,
          4956000,
          4935000,
          4907000,
          4900000,
          4900000,
          4900000,
          4900000,
          4900000,
          4900000,
          4900000,
          4900000,
          4900000,
          4900000,
          4900000,
          4900000,
          4893000,
          4893000,
          4865000,
          4830000,
          4830000,
          4830000,
          4830000,
          4795000,
          4795000,
          4767000,
          4760000,
          4760000,
          4760000,
          4753000,
          4690000,
          4690000,
          4690000,
          4690000,
          4690000,
          4690000,
          4655000,
          4620000,
          4620000,
          4620000,
          4620000,
          4620000,
          4613000,
          4585000,
          4585000,
          4550000,
          4550000,
          4550000,
          4550000,
          4550000,
          4550000,
          4550000,
          4543000,
          4543000,
          4515000,
          4515000,
          4515000,
          4515000,
          4480000,
          4480000,
          4480000,
          4480000,
          4480000,
          4473000,
          4473000,
          4473000,
          4445000,
          4410000,
          4410000,
          4403000,
          4403000,
          4403000,
          4382000,
          4375000,
          4340000,
          4340000,
          4340000,
          4340000,
          4340000,
          4319000,
          4305000,
          4305000,
          4277000,
          4270000,
          4270000,
          4270000,
          4270000,
          4270000,
          4270000,
          4235000,
          4235000,
          4200000,
          4200000,
          4200000,
          4200000,
          4200000,
          4200000,
          4200000,
          4200000,
          4200000,
          4200000,
          4200000,
          4200000,
          4200000,
          4200000,
          4200000,
          4200000,
          4200000,
          4193000,
          4193000,
          4165000,
          4165000,
          4165000,
          4130000,
          4130000,
          4123000,
          4098500,
          4095000,
          4095000,
          4095000,
          4060000,
          4060000,
          4060000,
          4060000,
          4060000,
          4025000,
          4025000,
          4025000,
          4007500,
          4007500,
          3990000,
          3990000,
          3990000,
          3990000,
          3990000,
          3920000,
          3920000,
          3920000,
          3920000,
          3920000,
          3920000,
          3920000,
          3885000,
          3885000,
          3850000,
          3850000,
          3850000,
          3850000,
          3850000,
          3850000,
          3850000,
          3836000,
          3815000,
          3780000,
          3780000,
          3780000,
          3780000,
          3780000,
          3780000,
          3773000,
          3773000,
          3773000,
          3745000,
          3710000,
          3710000,
          3710000,
          3710000,
          3710000,
          3703000,
          3703000,
          3675000,
          3675000,
          3675000,
          3675000,
          3640000,
          3640000,
          3640000,
          3640000,
          3640000,
          3640000,
          3640000,
          3640000,
          3640000,
          3633000,
          3605000,
          3605000,
          3570000,
          3570000,
          3570000,
          3570000,
          3535000,
          3500000,
          3500000,
          3500000,
          3500000,
          3500000,
          3500000,
          3500000,
          3500000,
          3500000,
          3500000,
          3500000,
          3500000,
          3500000,
          3500000,
          3500000,
          3500000,
          3500000,
          3493000,
          3465000,
          3465000,
          3465000,
          3430000,
          3430000,
          3430000,
          3430000,
          3430000,
          3430000,
          3423000,
          3395000,
          3395000,
          3395000,
          3360000,
          3360000,
          3360000,
          3360000,
          3360000,
          3360000,
          3360000,
          3360000,
          3353000,
          3332000,
          3325000,
          3325000,
          3290000,
          3290000,
          3290000,
          3290000,
          3290000,
          3290000,
          3290000,
          3290000,
          3255000,
          3255000,
          3234000,
          3220000,
          3220000,
          3220000,
          3220000,
          3150000,
          3150000,
          3150000,
          3150000,
          3150000,
          3150000,
          3150000,
          3150000,
          3150000,
          3143000,
          3129000,
          3118850,
          3115000,
          3115000,
          3115000,
          3087000,
          3080000,
          3080000,
          3080000,
          3080000,
          3045000,
          3010000,
          3010000,
          3010000,
          3010000,
          3010000,
          3010000,
          3010000,
          3003000,
          2975000,
          2961000,
          2940000,
          2940000,
          2940000,
          2940000,
          2940000,
          2940000,
          2940000,
          2940000,
          2870000,
          2870000,
          2870000,
          2870000,
          2852500,
          2835000,
          2835000,
          2835000,
          2800000,
          2800000,
          2730000,
          2730000,
          2695000,
          2660000,
          2660000,
          2660000,
          2660000,
          2660000,
          2660000,
          2660000,
          2653000,
          2653000,
          2604000,
          2590000,
          2590000,
          2590000,
          2520000,
          2520000,
          2520000,
          2485000,
          2485000,
          2450000,
          2450000,
          2450000,
          2450000,
          2450000,
          2450000,
          2408000,
          2380000,
          2380000,
          2380000,
          2345000,
          2310000,
          2275000,
          2275000,
          2275000,
          2240000,
          2233000,
          2135000,
          2100000,
          2100000,
          2100000,
          1960000,
          1890000,
          1890000,
          1855000,
          1820000,
          1767150,
          1750000,
          1750000,
          1750000
         ],
         "y0": " ",
         "yaxis": "y"
        }
       ],
       "layout": {
        "boxmode": "group",
        "legend": {
         "tracegroupgap": 0
        },
        "template": {
         "data": {
          "bar": [
           {
            "error_x": {
             "color": "#2a3f5f"
            },
            "error_y": {
             "color": "#2a3f5f"
            },
            "marker": {
             "line": {
              "color": "#E5ECF6",
              "width": 0.5
             },
             "pattern": {
              "fillmode": "overlay",
              "size": 10,
              "solidity": 0.2
             }
            },
            "type": "bar"
           }
          ],
          "barpolar": [
           {
            "marker": {
             "line": {
              "color": "#E5ECF6",
              "width": 0.5
             },
             "pattern": {
              "fillmode": "overlay",
              "size": 10,
              "solidity": 0.2
             }
            },
            "type": "barpolar"
           }
          ],
          "carpet": [
           {
            "aaxis": {
             "endlinecolor": "#2a3f5f",
             "gridcolor": "white",
             "linecolor": "white",
             "minorgridcolor": "white",
             "startlinecolor": "#2a3f5f"
            },
            "baxis": {
             "endlinecolor": "#2a3f5f",
             "gridcolor": "white",
             "linecolor": "white",
             "minorgridcolor": "white",
             "startlinecolor": "#2a3f5f"
            },
            "type": "carpet"
           }
          ],
          "choropleth": [
           {
            "colorbar": {
             "outlinewidth": 0,
             "ticks": ""
            },
            "type": "choropleth"
           }
          ],
          "contour": [
           {
            "colorbar": {
             "outlinewidth": 0,
             "ticks": ""
            },
            "colorscale": [
             [
              0,
              "#0d0887"
             ],
             [
              0.1111111111111111,
              "#46039f"
             ],
             [
              0.2222222222222222,
              "#7201a8"
             ],
             [
              0.3333333333333333,
              "#9c179e"
             ],
             [
              0.4444444444444444,
              "#bd3786"
             ],
             [
              0.5555555555555556,
              "#d8576b"
             ],
             [
              0.6666666666666666,
              "#ed7953"
             ],
             [
              0.7777777777777778,
              "#fb9f3a"
             ],
             [
              0.8888888888888888,
              "#fdca26"
             ],
             [
              1,
              "#f0f921"
             ]
            ],
            "type": "contour"
           }
          ],
          "contourcarpet": [
           {
            "colorbar": {
             "outlinewidth": 0,
             "ticks": ""
            },
            "type": "contourcarpet"
           }
          ],
          "heatmap": [
           {
            "colorbar": {
             "outlinewidth": 0,
             "ticks": ""
            },
            "colorscale": [
             [
              0,
              "#0d0887"
             ],
             [
              0.1111111111111111,
              "#46039f"
             ],
             [
              0.2222222222222222,
              "#7201a8"
             ],
             [
              0.3333333333333333,
              "#9c179e"
             ],
             [
              0.4444444444444444,
              "#bd3786"
             ],
             [
              0.5555555555555556,
              "#d8576b"
             ],
             [
              0.6666666666666666,
              "#ed7953"
             ],
             [
              0.7777777777777778,
              "#fb9f3a"
             ],
             [
              0.8888888888888888,
              "#fdca26"
             ],
             [
              1,
              "#f0f921"
             ]
            ],
            "type": "heatmap"
           }
          ],
          "heatmapgl": [
           {
            "colorbar": {
             "outlinewidth": 0,
             "ticks": ""
            },
            "colorscale": [
             [
              0,
              "#0d0887"
             ],
             [
              0.1111111111111111,
              "#46039f"
             ],
             [
              0.2222222222222222,
              "#7201a8"
             ],
             [
              0.3333333333333333,
              "#9c179e"
             ],
             [
              0.4444444444444444,
              "#bd3786"
             ],
             [
              0.5555555555555556,
              "#d8576b"
             ],
             [
              0.6666666666666666,
              "#ed7953"
             ],
             [
              0.7777777777777778,
              "#fb9f3a"
             ],
             [
              0.8888888888888888,
              "#fdca26"
             ],
             [
              1,
              "#f0f921"
             ]
            ],
            "type": "heatmapgl"
           }
          ],
          "histogram": [
           {
            "marker": {
             "pattern": {
              "fillmode": "overlay",
              "size": 10,
              "solidity": 0.2
             }
            },
            "type": "histogram"
           }
          ],
          "histogram2d": [
           {
            "colorbar": {
             "outlinewidth": 0,
             "ticks": ""
            },
            "colorscale": [
             [
              0,
              "#0d0887"
             ],
             [
              0.1111111111111111,
              "#46039f"
             ],
             [
              0.2222222222222222,
              "#7201a8"
             ],
             [
              0.3333333333333333,
              "#9c179e"
             ],
             [
              0.4444444444444444,
              "#bd3786"
             ],
             [
              0.5555555555555556,
              "#d8576b"
             ],
             [
              0.6666666666666666,
              "#ed7953"
             ],
             [
              0.7777777777777778,
              "#fb9f3a"
             ],
             [
              0.8888888888888888,
              "#fdca26"
             ],
             [
              1,
              "#f0f921"
             ]
            ],
            "type": "histogram2d"
           }
          ],
          "histogram2dcontour": [
           {
            "colorbar": {
             "outlinewidth": 0,
             "ticks": ""
            },
            "colorscale": [
             [
              0,
              "#0d0887"
             ],
             [
              0.1111111111111111,
              "#46039f"
             ],
             [
              0.2222222222222222,
              "#7201a8"
             ],
             [
              0.3333333333333333,
              "#9c179e"
             ],
             [
              0.4444444444444444,
              "#bd3786"
             ],
             [
              0.5555555555555556,
              "#d8576b"
             ],
             [
              0.6666666666666666,
              "#ed7953"
             ],
             [
              0.7777777777777778,
              "#fb9f3a"
             ],
             [
              0.8888888888888888,
              "#fdca26"
             ],
             [
              1,
              "#f0f921"
             ]
            ],
            "type": "histogram2dcontour"
           }
          ],
          "mesh3d": [
           {
            "colorbar": {
             "outlinewidth": 0,
             "ticks": ""
            },
            "type": "mesh3d"
           }
          ],
          "parcoords": [
           {
            "line": {
             "colorbar": {
              "outlinewidth": 0,
              "ticks": ""
             }
            },
            "type": "parcoords"
           }
          ],
          "pie": [
           {
            "automargin": true,
            "type": "pie"
           }
          ],
          "scatter": [
           {
            "fillpattern": {
             "fillmode": "overlay",
             "size": 10,
             "solidity": 0.2
            },
            "type": "scatter"
           }
          ],
          "scatter3d": [
           {
            "line": {
             "colorbar": {
              "outlinewidth": 0,
              "ticks": ""
             }
            },
            "marker": {
             "colorbar": {
              "outlinewidth": 0,
              "ticks": ""
             }
            },
            "type": "scatter3d"
           }
          ],
          "scattercarpet": [
           {
            "marker": {
             "colorbar": {
              "outlinewidth": 0,
              "ticks": ""
             }
            },
            "type": "scattercarpet"
           }
          ],
          "scattergeo": [
           {
            "marker": {
             "colorbar": {
              "outlinewidth": 0,
              "ticks": ""
             }
            },
            "type": "scattergeo"
           }
          ],
          "scattergl": [
           {
            "marker": {
             "colorbar": {
              "outlinewidth": 0,
              "ticks": ""
             }
            },
            "type": "scattergl"
           }
          ],
          "scattermapbox": [
           {
            "marker": {
             "colorbar": {
              "outlinewidth": 0,
              "ticks": ""
             }
            },
            "type": "scattermapbox"
           }
          ],
          "scatterpolar": [
           {
            "marker": {
             "colorbar": {
              "outlinewidth": 0,
              "ticks": ""
             }
            },
            "type": "scatterpolar"
           }
          ],
          "scatterpolargl": [
           {
            "marker": {
             "colorbar": {
              "outlinewidth": 0,
              "ticks": ""
             }
            },
            "type": "scatterpolargl"
           }
          ],
          "scatterternary": [
           {
            "marker": {
             "colorbar": {
              "outlinewidth": 0,
              "ticks": ""
             }
            },
            "type": "scatterternary"
           }
          ],
          "surface": [
           {
            "colorbar": {
             "outlinewidth": 0,
             "ticks": ""
            },
            "colorscale": [
             [
              0,
              "#0d0887"
             ],
             [
              0.1111111111111111,
              "#46039f"
             ],
             [
              0.2222222222222222,
              "#7201a8"
             ],
             [
              0.3333333333333333,
              "#9c179e"
             ],
             [
              0.4444444444444444,
              "#bd3786"
             ],
             [
              0.5555555555555556,
              "#d8576b"
             ],
             [
              0.6666666666666666,
              "#ed7953"
             ],
             [
              0.7777777777777778,
              "#fb9f3a"
             ],
             [
              0.8888888888888888,
              "#fdca26"
             ],
             [
              1,
              "#f0f921"
             ]
            ],
            "type": "surface"
           }
          ],
          "table": [
           {
            "cells": {
             "fill": {
              "color": "#EBF0F8"
             },
             "line": {
              "color": "white"
             }
            },
            "header": {
             "fill": {
              "color": "#C8D4E3"
             },
             "line": {
              "color": "white"
             }
            },
            "type": "table"
           }
          ]
         },
         "layout": {
          "annotationdefaults": {
           "arrowcolor": "#2a3f5f",
           "arrowhead": 0,
           "arrowwidth": 1
          },
          "autotypenumbers": "strict",
          "coloraxis": {
           "colorbar": {
            "outlinewidth": 0,
            "ticks": ""
           }
          },
          "colorscale": {
           "diverging": [
            [
             0,
             "#8e0152"
            ],
            [
             0.1,
             "#c51b7d"
            ],
            [
             0.2,
             "#de77ae"
            ],
            [
             0.3,
             "#f1b6da"
            ],
            [
             0.4,
             "#fde0ef"
            ],
            [
             0.5,
             "#f7f7f7"
            ],
            [
             0.6,
             "#e6f5d0"
            ],
            [
             0.7,
             "#b8e186"
            ],
            [
             0.8,
             "#7fbc41"
            ],
            [
             0.9,
             "#4d9221"
            ],
            [
             1,
             "#276419"
            ]
           ],
           "sequential": [
            [
             0,
             "#0d0887"
            ],
            [
             0.1111111111111111,
             "#46039f"
            ],
            [
             0.2222222222222222,
             "#7201a8"
            ],
            [
             0.3333333333333333,
             "#9c179e"
            ],
            [
             0.4444444444444444,
             "#bd3786"
            ],
            [
             0.5555555555555556,
             "#d8576b"
            ],
            [
             0.6666666666666666,
             "#ed7953"
            ],
            [
             0.7777777777777778,
             "#fb9f3a"
            ],
            [
             0.8888888888888888,
             "#fdca26"
            ],
            [
             1,
             "#f0f921"
            ]
           ],
           "sequentialminus": [
            [
             0,
             "#0d0887"
            ],
            [
             0.1111111111111111,
             "#46039f"
            ],
            [
             0.2222222222222222,
             "#7201a8"
            ],
            [
             0.3333333333333333,
             "#9c179e"
            ],
            [
             0.4444444444444444,
             "#bd3786"
            ],
            [
             0.5555555555555556,
             "#d8576b"
            ],
            [
             0.6666666666666666,
             "#ed7953"
            ],
            [
             0.7777777777777778,
             "#fb9f3a"
            ],
            [
             0.8888888888888888,
             "#fdca26"
            ],
            [
             1,
             "#f0f921"
            ]
           ]
          },
          "colorway": [
           "#636efa",
           "#EF553B",
           "#00cc96",
           "#ab63fa",
           "#FFA15A",
           "#19d3f3",
           "#FF6692",
           "#B6E880",
           "#FF97FF",
           "#FECB52"
          ],
          "font": {
           "color": "#2a3f5f"
          },
          "geo": {
           "bgcolor": "white",
           "lakecolor": "white",
           "landcolor": "#E5ECF6",
           "showlakes": true,
           "showland": true,
           "subunitcolor": "white"
          },
          "hoverlabel": {
           "align": "left"
          },
          "hovermode": "closest",
          "mapbox": {
           "style": "light"
          },
          "paper_bgcolor": "white",
          "plot_bgcolor": "#E5ECF6",
          "polar": {
           "angularaxis": {
            "gridcolor": "white",
            "linecolor": "white",
            "ticks": ""
           },
           "bgcolor": "#E5ECF6",
           "radialaxis": {
            "gridcolor": "white",
            "linecolor": "white",
            "ticks": ""
           }
          },
          "scene": {
           "xaxis": {
            "backgroundcolor": "#E5ECF6",
            "gridcolor": "white",
            "gridwidth": 2,
            "linecolor": "white",
            "showbackground": true,
            "ticks": "",
            "zerolinecolor": "white"
           },
           "yaxis": {
            "backgroundcolor": "#E5ECF6",
            "gridcolor": "white",
            "gridwidth": 2,
            "linecolor": "white",
            "showbackground": true,
            "ticks": "",
            "zerolinecolor": "white"
           },
           "zaxis": {
            "backgroundcolor": "#E5ECF6",
            "gridcolor": "white",
            "gridwidth": 2,
            "linecolor": "white",
            "showbackground": true,
            "ticks": "",
            "zerolinecolor": "white"
           }
          },
          "shapedefaults": {
           "line": {
            "color": "#2a3f5f"
           }
          },
          "ternary": {
           "aaxis": {
            "gridcolor": "white",
            "linecolor": "white",
            "ticks": ""
           },
           "baxis": {
            "gridcolor": "white",
            "linecolor": "white",
            "ticks": ""
           },
           "bgcolor": "#E5ECF6",
           "caxis": {
            "gridcolor": "white",
            "linecolor": "white",
            "ticks": ""
           }
          },
          "title": {
           "x": 0.05
          },
          "xaxis": {
           "automargin": true,
           "gridcolor": "white",
           "linecolor": "white",
           "ticks": "",
           "title": {
            "standoff": 15
           },
           "zerolinecolor": "white",
           "zerolinewidth": 2
          },
          "yaxis": {
           "automargin": true,
           "gridcolor": "white",
           "linecolor": "white",
           "ticks": "",
           "title": {
            "standoff": 15
           },
           "zerolinecolor": "white",
           "zerolinewidth": 2
          }
         }
        },
        "title": {
         "text": "Box Plot da variável stories e price"
        },
        "xaxis": {
         "anchor": "y",
         "domain": [
          0,
          1
         ],
         "title": {
          "text": "hotwaterheating"
         }
        },
        "yaxis": {
         "anchor": "x",
         "domain": [
          0,
          1
         ],
         "title": {
          "text": "price"
         }
        }
       }
      },
      "text/html": [
       "<div>                            <div id=\"da0a9e46-9efe-4e49-b6dd-afc792d4950e\" class=\"plotly-graph-div\" style=\"height:525px; width:100%;\"></div>            <script type=\"text/javascript\">                require([\"plotly\"], function(Plotly) {                    window.PLOTLYENV=window.PLOTLYENV || {};                                    if (document.getElementById(\"da0a9e46-9efe-4e49-b6dd-afc792d4950e\")) {                    Plotly.newPlot(                        \"da0a9e46-9efe-4e49-b6dd-afc792d4950e\",                        [{\"alignmentgroup\":\"True\",\"hovertemplate\":\"hotwaterheating=%{x}\\u003cbr\\u003eprice=%{y}\\u003cextra\\u003e\\u003c\\u002fextra\\u003e\",\"legendgroup\":\"\",\"marker\":{\"color\":\"#636efa\"},\"name\":\"\",\"notched\":false,\"offsetgroup\":\"\",\"orientation\":\"v\",\"showlegend\":false,\"x\":[\"no\",\"no\",\"no\",\"no\",\"no\",\"no\",\"no\",\"no\",\"no\",\"no\",\"no\",\"yes\",\"no\",\"yes\",\"no\",\"no\",\"no\",\"no\",\"no\",\"no\",\"yes\",\"no\",\"no\",\"no\",\"no\",\"no\",\"no\",\"no\",\"yes\",\"no\",\"no\",\"no\",\"no\",\"no\",\"no\",\"no\",\"yes\",\"no\",\"no\",\"no\",\"no\",\"no\",\"no\",\"no\",\"no\",\"no\",\"no\",\"no\",\"no\",\"no\",\"no\",\"no\",\"no\",\"no\",\"no\",\"no\",\"no\",\"no\",\"no\",\"no\",\"no\",\"no\",\"no\",\"no\",\"no\",\"no\",\"yes\",\"no\",\"no\",\"no\",\"no\",\"no\",\"no\",\"no\",\"yes\",\"yes\",\"no\",\"no\",\"no\",\"no\",\"yes\",\"no\",\"no\",\"no\",\"yes\",\"no\",\"no\",\"no\",\"no\",\"no\",\"no\",\"no\",\"no\",\"no\",\"no\",\"no\",\"no\",\"no\",\"no\",\"no\",\"no\",\"no\",\"no\",\"no\",\"no\",\"no\",\"no\",\"no\",\"no\",\"yes\",\"no\",\"no\",\"no\",\"no\",\"no\",\"no\",\"no\",\"no\",\"no\",\"no\",\"no\",\"no\",\"no\",\"no\",\"no\",\"no\",\"no\",\"no\",\"no\",\"no\",\"no\",\"no\",\"no\",\"no\",\"no\",\"no\",\"no\",\"no\",\"no\",\"no\",\"no\",\"no\",\"no\",\"yes\",\"no\",\"no\",\"no\",\"no\",\"no\",\"no\",\"no\",\"no\",\"no\",\"no\",\"no\",\"no\",\"no\",\"no\",\"no\",\"no\",\"no\",\"no\",\"no\",\"no\",\"no\",\"yes\",\"no\",\"no\",\"no\",\"no\",\"no\",\"no\",\"no\",\"no\",\"no\",\"no\",\"no\",\"no\",\"no\",\"no\",\"no\",\"no\",\"no\",\"no\",\"no\",\"no\",\"no\",\"no\",\"no\",\"no\",\"no\",\"no\",\"no\",\"no\",\"no\",\"no\",\"yes\",\"no\",\"no\",\"no\",\"no\",\"no\",\"no\",\"no\",\"no\",\"no\",\"no\",\"no\",\"no\",\"no\",\"no\",\"no\",\"no\",\"no\",\"no\",\"no\",\"no\",\"no\",\"no\",\"no\",\"no\",\"no\",\"no\",\"no\",\"no\",\"no\",\"no\",\"no\",\"no\",\"no\",\"no\",\"no\",\"no\",\"no\",\"no\",\"no\",\"no\",\"no\",\"no\",\"no\",\"no\",\"no\",\"no\",\"no\",\"no\",\"no\",\"no\",\"no\",\"no\",\"no\",\"no\",\"no\",\"no\",\"no\",\"no\",\"no\",\"no\",\"no\",\"no\",\"no\",\"no\",\"no\",\"no\",\"no\",\"no\",\"no\",\"no\",\"no\",\"no\",\"no\",\"yes\",\"no\",\"no\",\"no\",\"no\",\"no\",\"no\",\"no\",\"no\",\"no\",\"no\",\"no\",\"no\",\"no\",\"no\",\"no\",\"no\",\"no\",\"no\",\"no\",\"no\",\"no\",\"no\",\"no\",\"no\",\"no\",\"no\",\"no\",\"yes\",\"no\",\"no\",\"no\",\"no\",\"no\",\"no\",\"no\",\"no\",\"no\",\"no\",\"no\",\"no\",\"no\",\"no\",\"no\",\"no\",\"no\",\"no\",\"no\",\"no\",\"no\",\"no\",\"yes\",\"no\",\"no\",\"no\",\"no\",\"no\",\"no\",\"no\",\"no\",\"no\",\"no\",\"no\",\"no\",\"yes\",\"no\",\"no\",\"no\",\"no\",\"no\",\"no\",\"no\",\"no\",\"no\",\"no\",\"no\",\"no\",\"no\",\"no\",\"no\",\"yes\",\"no\",\"no\",\"no\",\"no\",\"no\",\"no\",\"no\",\"no\",\"no\",\"no\",\"no\",\"no\",\"yes\",\"yes\",\"no\",\"no\",\"no\",\"no\",\"no\",\"no\",\"no\",\"no\",\"no\",\"no\",\"no\",\"no\",\"no\",\"yes\",\"no\",\"no\",\"no\",\"no\",\"no\",\"no\",\"no\",\"no\",\"no\",\"no\",\"no\",\"no\",\"no\",\"no\",\"no\",\"no\",\"no\",\"no\",\"no\",\"no\",\"no\",\"no\",\"no\",\"no\",\"no\",\"no\",\"no\",\"no\",\"no\",\"no\",\"no\",\"no\",\"no\",\"no\",\"no\",\"no\",\"no\",\"no\",\"no\",\"no\",\"no\",\"no\",\"no\",\"no\",\"no\",\"no\",\"no\",\"no\",\"no\",\"no\",\"no\",\"no\",\"no\",\"no\",\"no\",\"no\",\"no\",\"no\",\"no\",\"no\",\"no\",\"no\",\"no\",\"no\",\"no\",\"no\",\"no\",\"no\",\"no\",\"no\",\"no\",\"no\",\"no\",\"no\",\"no\",\"no\",\"no\",\"no\",\"no\",\"no\",\"no\",\"no\",\"no\",\"no\",\"no\",\"yes\",\"no\",\"no\",\"no\",\"no\",\"no\",\"no\",\"no\",\"no\",\"no\",\"no\",\"no\",\"no\",\"no\",\"no\",\"no\",\"no\",\"no\",\"no\",\"no\",\"no\",\"no\",\"no\",\"no\",\"no\",\"no\",\"yes\",\"no\",\"no\",\"no\",\"no\",\"no\",\"no\",\"no\",\"no\",\"no\",\"no\",\"no\",\"no\",\"no\",\"no\",\"no\",\"no\",\"no\",\"no\",\"no\",\"no\",\"no\",\"no\",\"no\",\"no\",\"no\",\"no\",\"no\",\"no\",\"no\",\"no\",\"no\",\"no\",\"no\",\"no\",\"no\",\"no\",\"no\",\"no\",\"no\",\"yes\",\"no\",\"no\",\"no\",\"no\",\"no\",\"no\",\"no\",\"no\",\"no\",\"no\",\"no\",\"no\",\"no\",\"no\"],\"x0\":\" \",\"xaxis\":\"x\",\"y\":[13300000,12250000,12250000,12215000,11410000,10850000,10150000,10150000,9870000,9800000,9800000,9681000,9310000,9240000,9240000,9100000,9100000,8960000,8890000,8855000,8750000,8680000,8645000,8645000,8575000,8540000,8463000,8400000,8400000,8400000,8400000,8400000,8295000,8190000,8120000,8080940,8043000,7980000,7962500,7910000,7875000,7840000,7700000,7700000,7560000,7560000,7525000,7490000,7455000,7420000,7420000,7420000,7350000,7350000,7350000,7350000,7343000,7245000,7210000,7210000,7140000,7070000,7070000,7035000,7000000,6930000,6930000,6895000,6860000,6790000,6790000,6755000,6720000,6685000,6650000,6650000,6650000,6650000,6650000,6650000,6629000,6615000,6615000,6580000,6510000,6510000,6510000,6475000,6475000,6440000,6440000,6419000,6405000,6300000,6300000,6300000,6300000,6300000,6293000,6265000,6230000,6230000,6195000,6195000,6195000,6160000,6160000,6125000,6107500,6090000,6090000,6090000,6083000,6083000,6020000,6020000,6020000,5950000,5950000,5950000,5950000,5950000,5950000,5950000,5950000,5943000,5880000,5880000,5873000,5873000,5866000,5810000,5810000,5810000,5803000,5775000,5740000,5740000,5740000,5740000,5740000,5652500,5600000,5600000,5600000,5600000,5600000,5600000,5600000,5600000,5600000,5565000,5565000,5530000,5530000,5530000,5523000,5495000,5495000,5460000,5460000,5460000,5460000,5425000,5390000,5383000,5320000,5285000,5250000,5250000,5250000,5250000,5250000,5250000,5250000,5250000,5250000,5243000,5229000,5215000,5215000,5215000,5145000,5145000,5110000,5110000,5110000,5110000,5075000,5040000,5040000,5040000,5040000,5033000,5005000,4970000,4970000,4956000,4935000,4907000,4900000,4900000,4900000,4900000,4900000,4900000,4900000,4900000,4900000,4900000,4900000,4900000,4893000,4893000,4865000,4830000,4830000,4830000,4830000,4795000,4795000,4767000,4760000,4760000,4760000,4753000,4690000,4690000,4690000,4690000,4690000,4690000,4655000,4620000,4620000,4620000,4620000,4620000,4613000,4585000,4585000,4550000,4550000,4550000,4550000,4550000,4550000,4550000,4543000,4543000,4515000,4515000,4515000,4515000,4480000,4480000,4480000,4480000,4480000,4473000,4473000,4473000,4445000,4410000,4410000,4403000,4403000,4403000,4382000,4375000,4340000,4340000,4340000,4340000,4340000,4319000,4305000,4305000,4277000,4270000,4270000,4270000,4270000,4270000,4270000,4235000,4235000,4200000,4200000,4200000,4200000,4200000,4200000,4200000,4200000,4200000,4200000,4200000,4200000,4200000,4200000,4200000,4200000,4200000,4193000,4193000,4165000,4165000,4165000,4130000,4130000,4123000,4098500,4095000,4095000,4095000,4060000,4060000,4060000,4060000,4060000,4025000,4025000,4025000,4007500,4007500,3990000,3990000,3990000,3990000,3990000,3920000,3920000,3920000,3920000,3920000,3920000,3920000,3885000,3885000,3850000,3850000,3850000,3850000,3850000,3850000,3850000,3836000,3815000,3780000,3780000,3780000,3780000,3780000,3780000,3773000,3773000,3773000,3745000,3710000,3710000,3710000,3710000,3710000,3703000,3703000,3675000,3675000,3675000,3675000,3640000,3640000,3640000,3640000,3640000,3640000,3640000,3640000,3640000,3633000,3605000,3605000,3570000,3570000,3570000,3570000,3535000,3500000,3500000,3500000,3500000,3500000,3500000,3500000,3500000,3500000,3500000,3500000,3500000,3500000,3500000,3500000,3500000,3500000,3493000,3465000,3465000,3465000,3430000,3430000,3430000,3430000,3430000,3430000,3423000,3395000,3395000,3395000,3360000,3360000,3360000,3360000,3360000,3360000,3360000,3360000,3353000,3332000,3325000,3325000,3290000,3290000,3290000,3290000,3290000,3290000,3290000,3290000,3255000,3255000,3234000,3220000,3220000,3220000,3220000,3150000,3150000,3150000,3150000,3150000,3150000,3150000,3150000,3150000,3143000,3129000,3118850,3115000,3115000,3115000,3087000,3080000,3080000,3080000,3080000,3045000,3010000,3010000,3010000,3010000,3010000,3010000,3010000,3003000,2975000,2961000,2940000,2940000,2940000,2940000,2940000,2940000,2940000,2940000,2870000,2870000,2870000,2870000,2852500,2835000,2835000,2835000,2800000,2800000,2730000,2730000,2695000,2660000,2660000,2660000,2660000,2660000,2660000,2660000,2653000,2653000,2604000,2590000,2590000,2590000,2520000,2520000,2520000,2485000,2485000,2450000,2450000,2450000,2450000,2450000,2450000,2408000,2380000,2380000,2380000,2345000,2310000,2275000,2275000,2275000,2240000,2233000,2135000,2100000,2100000,2100000,1960000,1890000,1890000,1855000,1820000,1767150,1750000,1750000,1750000],\"y0\":\" \",\"yaxis\":\"y\",\"type\":\"box\"}],                        {\"template\":{\"data\":{\"histogram2dcontour\":[{\"type\":\"histogram2dcontour\",\"colorbar\":{\"outlinewidth\":0,\"ticks\":\"\"},\"colorscale\":[[0.0,\"#0d0887\"],[0.1111111111111111,\"#46039f\"],[0.2222222222222222,\"#7201a8\"],[0.3333333333333333,\"#9c179e\"],[0.4444444444444444,\"#bd3786\"],[0.5555555555555556,\"#d8576b\"],[0.6666666666666666,\"#ed7953\"],[0.7777777777777778,\"#fb9f3a\"],[0.8888888888888888,\"#fdca26\"],[1.0,\"#f0f921\"]]}],\"choropleth\":[{\"type\":\"choropleth\",\"colorbar\":{\"outlinewidth\":0,\"ticks\":\"\"}}],\"histogram2d\":[{\"type\":\"histogram2d\",\"colorbar\":{\"outlinewidth\":0,\"ticks\":\"\"},\"colorscale\":[[0.0,\"#0d0887\"],[0.1111111111111111,\"#46039f\"],[0.2222222222222222,\"#7201a8\"],[0.3333333333333333,\"#9c179e\"],[0.4444444444444444,\"#bd3786\"],[0.5555555555555556,\"#d8576b\"],[0.6666666666666666,\"#ed7953\"],[0.7777777777777778,\"#fb9f3a\"],[0.8888888888888888,\"#fdca26\"],[1.0,\"#f0f921\"]]}],\"heatmap\":[{\"type\":\"heatmap\",\"colorbar\":{\"outlinewidth\":0,\"ticks\":\"\"},\"colorscale\":[[0.0,\"#0d0887\"],[0.1111111111111111,\"#46039f\"],[0.2222222222222222,\"#7201a8\"],[0.3333333333333333,\"#9c179e\"],[0.4444444444444444,\"#bd3786\"],[0.5555555555555556,\"#d8576b\"],[0.6666666666666666,\"#ed7953\"],[0.7777777777777778,\"#fb9f3a\"],[0.8888888888888888,\"#fdca26\"],[1.0,\"#f0f921\"]]}],\"heatmapgl\":[{\"type\":\"heatmapgl\",\"colorbar\":{\"outlinewidth\":0,\"ticks\":\"\"},\"colorscale\":[[0.0,\"#0d0887\"],[0.1111111111111111,\"#46039f\"],[0.2222222222222222,\"#7201a8\"],[0.3333333333333333,\"#9c179e\"],[0.4444444444444444,\"#bd3786\"],[0.5555555555555556,\"#d8576b\"],[0.6666666666666666,\"#ed7953\"],[0.7777777777777778,\"#fb9f3a\"],[0.8888888888888888,\"#fdca26\"],[1.0,\"#f0f921\"]]}],\"contourcarpet\":[{\"type\":\"contourcarpet\",\"colorbar\":{\"outlinewidth\":0,\"ticks\":\"\"}}],\"contour\":[{\"type\":\"contour\",\"colorbar\":{\"outlinewidth\":0,\"ticks\":\"\"},\"colorscale\":[[0.0,\"#0d0887\"],[0.1111111111111111,\"#46039f\"],[0.2222222222222222,\"#7201a8\"],[0.3333333333333333,\"#9c179e\"],[0.4444444444444444,\"#bd3786\"],[0.5555555555555556,\"#d8576b\"],[0.6666666666666666,\"#ed7953\"],[0.7777777777777778,\"#fb9f3a\"],[0.8888888888888888,\"#fdca26\"],[1.0,\"#f0f921\"]]}],\"surface\":[{\"type\":\"surface\",\"colorbar\":{\"outlinewidth\":0,\"ticks\":\"\"},\"colorscale\":[[0.0,\"#0d0887\"],[0.1111111111111111,\"#46039f\"],[0.2222222222222222,\"#7201a8\"],[0.3333333333333333,\"#9c179e\"],[0.4444444444444444,\"#bd3786\"],[0.5555555555555556,\"#d8576b\"],[0.6666666666666666,\"#ed7953\"],[0.7777777777777778,\"#fb9f3a\"],[0.8888888888888888,\"#fdca26\"],[1.0,\"#f0f921\"]]}],\"mesh3d\":[{\"type\":\"mesh3d\",\"colorbar\":{\"outlinewidth\":0,\"ticks\":\"\"}}],\"scatter\":[{\"fillpattern\":{\"fillmode\":\"overlay\",\"size\":10,\"solidity\":0.2},\"type\":\"scatter\"}],\"parcoords\":[{\"type\":\"parcoords\",\"line\":{\"colorbar\":{\"outlinewidth\":0,\"ticks\":\"\"}}}],\"scatterpolargl\":[{\"type\":\"scatterpolargl\",\"marker\":{\"colorbar\":{\"outlinewidth\":0,\"ticks\":\"\"}}}],\"bar\":[{\"error_x\":{\"color\":\"#2a3f5f\"},\"error_y\":{\"color\":\"#2a3f5f\"},\"marker\":{\"line\":{\"color\":\"#E5ECF6\",\"width\":0.5},\"pattern\":{\"fillmode\":\"overlay\",\"size\":10,\"solidity\":0.2}},\"type\":\"bar\"}],\"scattergeo\":[{\"type\":\"scattergeo\",\"marker\":{\"colorbar\":{\"outlinewidth\":0,\"ticks\":\"\"}}}],\"scatterpolar\":[{\"type\":\"scatterpolar\",\"marker\":{\"colorbar\":{\"outlinewidth\":0,\"ticks\":\"\"}}}],\"histogram\":[{\"marker\":{\"pattern\":{\"fillmode\":\"overlay\",\"size\":10,\"solidity\":0.2}},\"type\":\"histogram\"}],\"scattergl\":[{\"type\":\"scattergl\",\"marker\":{\"colorbar\":{\"outlinewidth\":0,\"ticks\":\"\"}}}],\"scatter3d\":[{\"type\":\"scatter3d\",\"line\":{\"colorbar\":{\"outlinewidth\":0,\"ticks\":\"\"}},\"marker\":{\"colorbar\":{\"outlinewidth\":0,\"ticks\":\"\"}}}],\"scattermapbox\":[{\"type\":\"scattermapbox\",\"marker\":{\"colorbar\":{\"outlinewidth\":0,\"ticks\":\"\"}}}],\"scatterternary\":[{\"type\":\"scatterternary\",\"marker\":{\"colorbar\":{\"outlinewidth\":0,\"ticks\":\"\"}}}],\"scattercarpet\":[{\"type\":\"scattercarpet\",\"marker\":{\"colorbar\":{\"outlinewidth\":0,\"ticks\":\"\"}}}],\"carpet\":[{\"aaxis\":{\"endlinecolor\":\"#2a3f5f\",\"gridcolor\":\"white\",\"linecolor\":\"white\",\"minorgridcolor\":\"white\",\"startlinecolor\":\"#2a3f5f\"},\"baxis\":{\"endlinecolor\":\"#2a3f5f\",\"gridcolor\":\"white\",\"linecolor\":\"white\",\"minorgridcolor\":\"white\",\"startlinecolor\":\"#2a3f5f\"},\"type\":\"carpet\"}],\"table\":[{\"cells\":{\"fill\":{\"color\":\"#EBF0F8\"},\"line\":{\"color\":\"white\"}},\"header\":{\"fill\":{\"color\":\"#C8D4E3\"},\"line\":{\"color\":\"white\"}},\"type\":\"table\"}],\"barpolar\":[{\"marker\":{\"line\":{\"color\":\"#E5ECF6\",\"width\":0.5},\"pattern\":{\"fillmode\":\"overlay\",\"size\":10,\"solidity\":0.2}},\"type\":\"barpolar\"}],\"pie\":[{\"automargin\":true,\"type\":\"pie\"}]},\"layout\":{\"autotypenumbers\":\"strict\",\"colorway\":[\"#636efa\",\"#EF553B\",\"#00cc96\",\"#ab63fa\",\"#FFA15A\",\"#19d3f3\",\"#FF6692\",\"#B6E880\",\"#FF97FF\",\"#FECB52\"],\"font\":{\"color\":\"#2a3f5f\"},\"hovermode\":\"closest\",\"hoverlabel\":{\"align\":\"left\"},\"paper_bgcolor\":\"white\",\"plot_bgcolor\":\"#E5ECF6\",\"polar\":{\"bgcolor\":\"#E5ECF6\",\"angularaxis\":{\"gridcolor\":\"white\",\"linecolor\":\"white\",\"ticks\":\"\"},\"radialaxis\":{\"gridcolor\":\"white\",\"linecolor\":\"white\",\"ticks\":\"\"}},\"ternary\":{\"bgcolor\":\"#E5ECF6\",\"aaxis\":{\"gridcolor\":\"white\",\"linecolor\":\"white\",\"ticks\":\"\"},\"baxis\":{\"gridcolor\":\"white\",\"linecolor\":\"white\",\"ticks\":\"\"},\"caxis\":{\"gridcolor\":\"white\",\"linecolor\":\"white\",\"ticks\":\"\"}},\"coloraxis\":{\"colorbar\":{\"outlinewidth\":0,\"ticks\":\"\"}},\"colorscale\":{\"sequential\":[[0.0,\"#0d0887\"],[0.1111111111111111,\"#46039f\"],[0.2222222222222222,\"#7201a8\"],[0.3333333333333333,\"#9c179e\"],[0.4444444444444444,\"#bd3786\"],[0.5555555555555556,\"#d8576b\"],[0.6666666666666666,\"#ed7953\"],[0.7777777777777778,\"#fb9f3a\"],[0.8888888888888888,\"#fdca26\"],[1.0,\"#f0f921\"]],\"sequentialminus\":[[0.0,\"#0d0887\"],[0.1111111111111111,\"#46039f\"],[0.2222222222222222,\"#7201a8\"],[0.3333333333333333,\"#9c179e\"],[0.4444444444444444,\"#bd3786\"],[0.5555555555555556,\"#d8576b\"],[0.6666666666666666,\"#ed7953\"],[0.7777777777777778,\"#fb9f3a\"],[0.8888888888888888,\"#fdca26\"],[1.0,\"#f0f921\"]],\"diverging\":[[0,\"#8e0152\"],[0.1,\"#c51b7d\"],[0.2,\"#de77ae\"],[0.3,\"#f1b6da\"],[0.4,\"#fde0ef\"],[0.5,\"#f7f7f7\"],[0.6,\"#e6f5d0\"],[0.7,\"#b8e186\"],[0.8,\"#7fbc41\"],[0.9,\"#4d9221\"],[1,\"#276419\"]]},\"xaxis\":{\"gridcolor\":\"white\",\"linecolor\":\"white\",\"ticks\":\"\",\"title\":{\"standoff\":15},\"zerolinecolor\":\"white\",\"automargin\":true,\"zerolinewidth\":2},\"yaxis\":{\"gridcolor\":\"white\",\"linecolor\":\"white\",\"ticks\":\"\",\"title\":{\"standoff\":15},\"zerolinecolor\":\"white\",\"automargin\":true,\"zerolinewidth\":2},\"scene\":{\"xaxis\":{\"backgroundcolor\":\"#E5ECF6\",\"gridcolor\":\"white\",\"linecolor\":\"white\",\"showbackground\":true,\"ticks\":\"\",\"zerolinecolor\":\"white\",\"gridwidth\":2},\"yaxis\":{\"backgroundcolor\":\"#E5ECF6\",\"gridcolor\":\"white\",\"linecolor\":\"white\",\"showbackground\":true,\"ticks\":\"\",\"zerolinecolor\":\"white\",\"gridwidth\":2},\"zaxis\":{\"backgroundcolor\":\"#E5ECF6\",\"gridcolor\":\"white\",\"linecolor\":\"white\",\"showbackground\":true,\"ticks\":\"\",\"zerolinecolor\":\"white\",\"gridwidth\":2}},\"shapedefaults\":{\"line\":{\"color\":\"#2a3f5f\"}},\"annotationdefaults\":{\"arrowcolor\":\"#2a3f5f\",\"arrowhead\":0,\"arrowwidth\":1},\"geo\":{\"bgcolor\":\"white\",\"landcolor\":\"#E5ECF6\",\"subunitcolor\":\"white\",\"showland\":true,\"showlakes\":true,\"lakecolor\":\"white\"},\"title\":{\"x\":0.05},\"mapbox\":{\"style\":\"light\"}}},\"xaxis\":{\"anchor\":\"y\",\"domain\":[0.0,1.0],\"title\":{\"text\":\"hotwaterheating\"}},\"yaxis\":{\"anchor\":\"x\",\"domain\":[0.0,1.0],\"title\":{\"text\":\"price\"}},\"legend\":{\"tracegroupgap\":0},\"title\":{\"text\":\"Box Plot da vari\\u00e1vel stories e price\"},\"boxmode\":\"group\"},                        {\"responsive\": true}                    ).then(function(){\n",
       "                            \n",
       "var gd = document.getElementById('da0a9e46-9efe-4e49-b6dd-afc792d4950e');\n",
       "var x = new MutationObserver(function (mutations, observer) {{\n",
       "        var display = window.getComputedStyle(gd).display;\n",
       "        if (!display || display === 'none') {{\n",
       "            console.log([gd, 'removed!']);\n",
       "            Plotly.purge(gd);\n",
       "            observer.disconnect();\n",
       "        }}\n",
       "}});\n",
       "\n",
       "// Listen for the removal of the full notebook cells\n",
       "var notebookContainer = gd.closest('#notebook-container');\n",
       "if (notebookContainer) {{\n",
       "    x.observe(notebookContainer, {childList: true});\n",
       "}}\n",
       "\n",
       "// Listen for the clearing of the current output cell\n",
       "var outputEl = gd.closest('.output');\n",
       "if (outputEl) {{\n",
       "    x.observe(outputEl, {childList: true});\n",
       "}}\n",
       "\n",
       "                        })                };                });            </script>        </div>"
      ]
     },
     "metadata": {},
     "output_type": "display_data"
    }
   ],
   "source": [
    "# Plot de Distruibuição (Box Plot) por hotwaterheating e price\n",
    "px.box(df, x='hotwaterheating', y='price', title=\"Box Plot da variável stories e price\")"
   ]
  },
  {
   "cell_type": "code",
   "execution_count": 44,
   "id": "6df0eb2a",
   "metadata": {},
   "outputs": [
    {
     "data": {
      "application/vnd.plotly.v1+json": {
       "config": {
        "plotlyServerURL": "https://plot.ly"
       },
       "data": [
        {
         "hovertemplate": "furnishingstatus=furnished<br>area=%{x}<br>price=%{y}<extra></extra>",
         "legendgroup": "furnished",
         "marker": {
          "color": "#636efa",
          "symbol": "circle"
         },
         "mode": "markers",
         "name": "furnished",
         "orientation": "v",
         "showlegend": true,
         "type": "scatter",
         "x": [
          7420,
          8960,
          7500,
          7420,
          8100,
          13200,
          3500,
          8500,
          4600,
          8050,
          4560,
          8800,
          6540,
          4880,
          6840,
          7000,
          7482,
          9000,
          6550,
          6360,
          6000,
          6000,
          6600,
          6000,
          9000,
          6000,
          6240,
          6360,
          11175,
          8880,
          13200,
          6000,
          12090,
          6600,
          4040,
          6420,
          6500,
          5700,
          6000,
          10500,
          8250,
          8580,
          6750,
          4800,
          9000,
          6350,
          5500,
          4300,
          9620,
          6800,
          3700,
          6420,
          6540,
          7320,
          6525,
          5500,
          6360,
          4700,
          5000,
          5400,
          6100,
          2817,
          3150,
          6210,
          6710,
          4260,
          8520,
          7200,
          3000,
          11410,
          7600,
          6600,
          4200,
          12900,
          6862,
          6321,
          6000,
          3745,
          4000,
          3640,
          2550,
          4990,
          3520,
          4000,
          8250,
          6360,
          3162,
          4500,
          3500,
          4032,
          6360,
          4500,
          4360,
          7770,
          2787,
          7000,
          4500,
          3600,
          4320,
          3460,
          3960,
          7260,
          3290,
          3816,
          3180,
          7152,
          2856,
          8400,
          8250,
          2520,
          6930,
          4050,
          5450,
          3630,
          3600,
          3000,
          3150,
          4500,
          4500,
          5900,
          2145,
          2145,
          4785,
          3640,
          3185,
          2700,
          2145,
          6060,
          2145,
          3120,
          3450,
          4600,
          2700,
          2640,
          3960,
          3600,
          3000,
          2475,
          2787,
          2910
         ],
         "xaxis": "x",
         "y": [
          13300000,
          12250000,
          12215000,
          11410000,
          9870000,
          9800000,
          9240000,
          8960000,
          8890000,
          8645000,
          8645000,
          8575000,
          8540000,
          8295000,
          8120000,
          8080940,
          8043000,
          7980000,
          7875000,
          7840000,
          7560000,
          7525000,
          7490000,
          7350000,
          7245000,
          7210000,
          7070000,
          7035000,
          7000000,
          6930000,
          6930000,
          6860000,
          6790000,
          6685000,
          6650000,
          6650000,
          6650000,
          6650000,
          6650000,
          6615000,
          6510000,
          6440000,
          6419000,
          6405000,
          6300000,
          6195000,
          6195000,
          6083000,
          6083000,
          6020000,
          5950000,
          5950000,
          5950000,
          5950000,
          5950000,
          5873000,
          5740000,
          5600000,
          5600000,
          5565000,
          5530000,
          5495000,
          5460000,
          5460000,
          5390000,
          5250000,
          5250000,
          5215000,
          5110000,
          5110000,
          5040000,
          5040000,
          4907000,
          4900000,
          4830000,
          4760000,
          4690000,
          4655000,
          4585000,
          4550000,
          4550000,
          4543000,
          4515000,
          4480000,
          4480000,
          4473000,
          4473000,
          4340000,
          4340000,
          4319000,
          4270000,
          4270000,
          4270000,
          4270000,
          4235000,
          4200000,
          4200000,
          4098500,
          4060000,
          4025000,
          3990000,
          3920000,
          3920000,
          3920000,
          3885000,
          3850000,
          3780000,
          3780000,
          3773000,
          3773000,
          3773000,
          3710000,
          3703000,
          3675000,
          3675000,
          3640000,
          3570000,
          3570000,
          3570000,
          3500000,
          3465000,
          3430000,
          3395000,
          3395000,
          3360000,
          3353000,
          3332000,
          3290000,
          3290000,
          3220000,
          3150000,
          3010000,
          2940000,
          2835000,
          2800000,
          2590000,
          2520000,
          2380000,
          2380000,
          1750000
         ],
         "yaxis": "y"
        },
        {
         "hovertemplate": "furnishingstatus=semi-furnished<br>area=%{x}<br>price=%{y}<extra></extra>",
         "legendgroup": "semi-furnished",
         "marker": {
          "color": "#EF553B",
          "symbol": "circle"
         },
         "mode": "markers",
         "name": "semi-furnished",
         "orientation": "v",
         "showlegend": true,
         "type": "scatter",
         "x": [
          9960,
          7500,
          8580,
          6000,
          6550,
          7800,
          6000,
          6420,
          4320,
          6000,
          8875,
          5500,
          7000,
          6000,
          6000,
          6000,
          7440,
          5150,
          6000,
          11440,
          7680,
          6000,
          8880,
          4000,
          4260,
          6000,
          4000,
          6000,
          3760,
          3960,
          5000,
          7200,
          6000,
          4100,
          6400,
          5500,
          5450,
          3240,
          6615,
          6600,
          8000,
          7020,
          7231,
          6254,
          15600,
          11460,
          5828,
          5200,
          7000,
          4640,
          5000,
          6660,
          10500,
          10500,
          5500,
          6360,
          6600,
          4400,
          3300,
          3650,
          6900,
          7980,
          6100,
          6600,
          6825,
          4600,
          6540,
          5500,
          10269,
          9800,
          6050,
          7085,
          3180,
          4500,
          3410,
          7980,
          6100,
          3540,
          10700,
          4800,
          8150,
          4410,
          7686,
          2800,
          5948,
          4520,
          4095,
          4120,
          5400,
          4770,
          6300,
          5800,
          3000,
          2970,
          4646,
          3420,
          4995,
          6040,
          4815,
          8100,
          3420,
          9166,
          6440,
          5170,
          3630,
          9667,
          5400,
          4320,
          3880,
          5680,
          2870,
          5010,
          4510,
          3840,
          3760,
          5320,
          3520,
          4100,
          3510,
          3450,
          9860,
          4510,
          4040,
          3510,
          3750,
          3968,
          4900,
          2880,
          4920,
          4950,
          1905,
          4075,
          6450,
          4400,
          10360,
          3400,
          6650,
          5850,
          2610,
          2747,
          4000,
          2325,
          4600,
          5800,
          4079,
          3520,
          8250,
          3450,
          4840,
          4080,
          4046,
          4632,
          5985,
          6060,
          3680,
          4040,
          5600,
          4340,
          3000,
          3630,
          5400,
          4500,
          3460,
          6480,
          4500,
          5500,
          3000,
          8080,
          3780,
          5300,
          3180,
          4080,
          3850,
          2015,
          2176,
          3150,
          4820,
          3420,
          3600,
          3480,
          4040,
          6020,
          3584,
          3120,
          5640,
          4280,
          3570,
          3180,
          3520,
          4130,
          2275,
          4500,
          4000,
          4240,
          4600,
          3036,
          3990,
          3640,
          7350,
          4960,
          3100,
          3480,
          3792,
          4500,
          3500,
          4095,
          3450,
          6750,
          9000,
          2398,
          2160,
          4500,
          3090,
          3240,
          2835,
          3630,
          3000,
          3480,
          6615,
          6000,
          3300,
          2000,
          3480,
          4000,
          3000,
          1836,
          2400
         ],
         "xaxis": "x",
         "y": [
          12250000,
          10850000,
          10150000,
          9681000,
          9310000,
          9240000,
          9100000,
          8855000,
          8750000,
          8463000,
          8400000,
          8400000,
          8400000,
          7910000,
          7700000,
          7560000,
          7420000,
          7350000,
          7350000,
          7343000,
          7210000,
          7140000,
          7070000,
          6790000,
          6650000,
          6629000,
          6615000,
          6580000,
          6510000,
          6475000,
          6440000,
          6300000,
          6300000,
          6300000,
          6300000,
          6195000,
          6160000,
          6107500,
          6090000,
          6090000,
          6020000,
          5950000,
          5950000,
          5950000,
          5943000,
          5873000,
          5810000,
          5810000,
          5803000,
          5740000,
          5740000,
          5652500,
          5600000,
          5600000,
          5600000,
          5600000,
          5600000,
          5565000,
          5530000,
          5530000,
          5523000,
          5495000,
          5460000,
          5460000,
          5425000,
          5285000,
          5250000,
          5250000,
          5250000,
          5250000,
          5243000,
          5229000,
          5215000,
          5215000,
          5145000,
          5145000,
          5110000,
          5040000,
          5040000,
          5033000,
          5005000,
          4970000,
          4970000,
          4956000,
          4935000,
          4900000,
          4900000,
          4900000,
          4900000,
          4900000,
          4900000,
          4900000,
          4900000,
          4900000,
          4900000,
          4893000,
          4893000,
          4830000,
          4830000,
          4795000,
          4767000,
          4760000,
          4753000,
          4690000,
          4690000,
          4690000,
          4690000,
          4690000,
          4620000,
          4620000,
          4620000,
          4620000,
          4613000,
          4585000,
          4550000,
          4550000,
          4550000,
          4543000,
          4515000,
          4515000,
          4515000,
          4480000,
          4480000,
          4473000,
          4445000,
          4410000,
          4410000,
          4403000,
          4403000,
          4382000,
          4340000,
          4340000,
          4340000,
          4305000,
          4305000,
          4277000,
          4235000,
          4200000,
          4200000,
          4200000,
          4200000,
          4200000,
          4200000,
          4200000,
          4200000,
          4200000,
          4193000,
          4193000,
          4165000,
          4165000,
          4165000,
          4130000,
          4130000,
          4123000,
          4095000,
          4095000,
          4095000,
          4060000,
          4060000,
          4025000,
          4025000,
          4007500,
          4007500,
          3990000,
          3990000,
          3920000,
          3920000,
          3920000,
          3885000,
          3850000,
          3850000,
          3850000,
          3850000,
          3850000,
          3850000,
          3815000,
          3780000,
          3780000,
          3780000,
          3745000,
          3710000,
          3710000,
          3710000,
          3703000,
          3675000,
          3640000,
          3640000,
          3640000,
          3640000,
          3640000,
          3640000,
          3605000,
          3605000,
          3500000,
          3500000,
          3500000,
          3500000,
          3500000,
          3500000,
          3360000,
          3360000,
          3290000,
          3290000,
          3255000,
          3150000,
          3150000,
          3150000,
          3150000,
          3150000,
          3118850,
          3080000,
          3080000,
          3010000,
          3010000,
          3010000,
          3010000,
          2961000,
          2940000,
          2940000,
          2870000,
          2835000,
          2660000,
          2660000,
          2660000,
          2485000,
          2275000,
          1767150
         ],
         "yaxis": "y"
        },
        {
         "hovertemplate": "furnishingstatus=unfurnished<br>area=%{x}<br>price=%{y}<extra></extra>",
         "legendgroup": "unfurnished",
         "marker": {
          "color": "#00cc96",
          "symbol": "circle"
         },
         "mode": "markers",
         "name": "unfurnished",
         "orientation": "v",
         "showlegend": true,
         "type": "scatter",
         "x": [
          16200,
          5750,
          6600,
          7155,
          7950,
          7475,
          5960,
          6000,
          6480,
          4300,
          7440,
          6325,
          6000,
          7700,
          6000,
          5020,
          6670,
          7410,
          6600,
          6000,
          6600,
          5500,
          4500,
          6420,
          8372,
          6900,
          7160,
          6500,
          4800,
          4800,
          6000,
          5400,
          5800,
          4800,
          5136,
          6450,
          7800,
          8400,
          5300,
          3800,
          3000,
          5720,
          6720,
          4350,
          4160,
          7000,
          10240,
          4160,
          5360,
          8400,
          5885,
          4880,
          3900,
          6360,
          2175,
          5500,
          5040,
          2953,
          4410,
          3640,
          2145,
          5900,
          4992,
          4100,
          4050,
          2145,
          3350,
          5830,
          3600,
          3630,
          5960,
          2850,
          3520,
          3640,
          3850,
          3650,
          2135,
          7424,
          3480,
          3600,
          3120,
          3512,
          9500,
          5880,
          12944,
          4900,
          3060,
          5320,
          4000,
          3185,
          3850,
          2610,
          1950,
          4040,
          3450,
          3500,
          4120,
          4750,
          3720,
          3750,
          4040,
          4775,
          2500,
          3180,
          4040,
          5880,
          3930,
          3640,
          4370,
          2684,
          4320,
          3986,
          1650,
          3069,
          4500,
          5495,
          3000,
          3850,
          3500,
          8100,
          4960,
          3090,
          3800,
          5076,
          3750,
          8050,
          4352,
          5850,
          4960,
          3600,
          3660,
          3150,
          3040,
          3630,
          5400,
          5200,
          4350,
          2650,
          6800,
          4000,
          4000,
          3934,
          3630,
          2800,
          2430,
          3185,
          4000,
          2910,
          3600,
          4400,
          2880,
          3180,
          4400,
          3210,
          3240,
          3000,
          3500,
          4840,
          7700,
          3635,
          3264,
          3640,
          3180,
          3970,
          3970,
          1950,
          5300,
          3000,
          2400,
          3000,
          3360,
          3420,
          1700,
          3649,
          2990,
          3000,
          3620,
          3850
         ],
         "xaxis": "x",
         "y": [
          10150000,
          9800000,
          9100000,
          8680000,
          8400000,
          8400000,
          8190000,
          7962500,
          7700000,
          7455000,
          7420000,
          7420000,
          7350000,
          6895000,
          6755000,
          6720000,
          6510000,
          6475000,
          6293000,
          6265000,
          6230000,
          6230000,
          6160000,
          6125000,
          6090000,
          6020000,
          5880000,
          5880000,
          5866000,
          5810000,
          5775000,
          5740000,
          5740000,
          5600000,
          5600000,
          5383000,
          5320000,
          5250000,
          5250000,
          5250000,
          5110000,
          5075000,
          4900000,
          4865000,
          4830000,
          4795000,
          4760000,
          4620000,
          4550000,
          4550000,
          4480000,
          4403000,
          4375000,
          4270000,
          4270000,
          4200000,
          4200000,
          4200000,
          4200000,
          4200000,
          4200000,
          4060000,
          4060000,
          3990000,
          3990000,
          3920000,
          3836000,
          3780000,
          3710000,
          3675000,
          3640000,
          3640000,
          3633000,
          3570000,
          3535000,
          3500000,
          3500000,
          3500000,
          3500000,
          3500000,
          3500000,
          3500000,
          3500000,
          3500000,
          3500000,
          3493000,
          3465000,
          3465000,
          3430000,
          3430000,
          3430000,
          3430000,
          3430000,
          3423000,
          3395000,
          3360000,
          3360000,
          3360000,
          3360000,
          3360000,
          3325000,
          3325000,
          3290000,
          3290000,
          3290000,
          3290000,
          3255000,
          3234000,
          3220000,
          3220000,
          3220000,
          3150000,
          3150000,
          3150000,
          3143000,
          3129000,
          3115000,
          3115000,
          3115000,
          3087000,
          3080000,
          3080000,
          3045000,
          3010000,
          3010000,
          3003000,
          2975000,
          2940000,
          2940000,
          2940000,
          2940000,
          2940000,
          2870000,
          2870000,
          2870000,
          2852500,
          2835000,
          2800000,
          2730000,
          2730000,
          2695000,
          2660000,
          2660000,
          2660000,
          2660000,
          2653000,
          2653000,
          2604000,
          2590000,
          2590000,
          2520000,
          2520000,
          2485000,
          2450000,
          2450000,
          2450000,
          2450000,
          2450000,
          2450000,
          2408000,
          2380000,
          2345000,
          2310000,
          2275000,
          2275000,
          2240000,
          2233000,
          2135000,
          2100000,
          2100000,
          2100000,
          1960000,
          1890000,
          1890000,
          1855000,
          1820000,
          1750000,
          1750000
         ],
         "yaxis": "y"
        }
       ],
       "layout": {
        "legend": {
         "title": {
          "text": "furnishingstatus"
         },
         "tracegroupgap": 0
        },
        "template": {
         "data": {
          "bar": [
           {
            "error_x": {
             "color": "#2a3f5f"
            },
            "error_y": {
             "color": "#2a3f5f"
            },
            "marker": {
             "line": {
              "color": "#E5ECF6",
              "width": 0.5
             },
             "pattern": {
              "fillmode": "overlay",
              "size": 10,
              "solidity": 0.2
             }
            },
            "type": "bar"
           }
          ],
          "barpolar": [
           {
            "marker": {
             "line": {
              "color": "#E5ECF6",
              "width": 0.5
             },
             "pattern": {
              "fillmode": "overlay",
              "size": 10,
              "solidity": 0.2
             }
            },
            "type": "barpolar"
           }
          ],
          "carpet": [
           {
            "aaxis": {
             "endlinecolor": "#2a3f5f",
             "gridcolor": "white",
             "linecolor": "white",
             "minorgridcolor": "white",
             "startlinecolor": "#2a3f5f"
            },
            "baxis": {
             "endlinecolor": "#2a3f5f",
             "gridcolor": "white",
             "linecolor": "white",
             "minorgridcolor": "white",
             "startlinecolor": "#2a3f5f"
            },
            "type": "carpet"
           }
          ],
          "choropleth": [
           {
            "colorbar": {
             "outlinewidth": 0,
             "ticks": ""
            },
            "type": "choropleth"
           }
          ],
          "contour": [
           {
            "colorbar": {
             "outlinewidth": 0,
             "ticks": ""
            },
            "colorscale": [
             [
              0,
              "#0d0887"
             ],
             [
              0.1111111111111111,
              "#46039f"
             ],
             [
              0.2222222222222222,
              "#7201a8"
             ],
             [
              0.3333333333333333,
              "#9c179e"
             ],
             [
              0.4444444444444444,
              "#bd3786"
             ],
             [
              0.5555555555555556,
              "#d8576b"
             ],
             [
              0.6666666666666666,
              "#ed7953"
             ],
             [
              0.7777777777777778,
              "#fb9f3a"
             ],
             [
              0.8888888888888888,
              "#fdca26"
             ],
             [
              1,
              "#f0f921"
             ]
            ],
            "type": "contour"
           }
          ],
          "contourcarpet": [
           {
            "colorbar": {
             "outlinewidth": 0,
             "ticks": ""
            },
            "type": "contourcarpet"
           }
          ],
          "heatmap": [
           {
            "colorbar": {
             "outlinewidth": 0,
             "ticks": ""
            },
            "colorscale": [
             [
              0,
              "#0d0887"
             ],
             [
              0.1111111111111111,
              "#46039f"
             ],
             [
              0.2222222222222222,
              "#7201a8"
             ],
             [
              0.3333333333333333,
              "#9c179e"
             ],
             [
              0.4444444444444444,
              "#bd3786"
             ],
             [
              0.5555555555555556,
              "#d8576b"
             ],
             [
              0.6666666666666666,
              "#ed7953"
             ],
             [
              0.7777777777777778,
              "#fb9f3a"
             ],
             [
              0.8888888888888888,
              "#fdca26"
             ],
             [
              1,
              "#f0f921"
             ]
            ],
            "type": "heatmap"
           }
          ],
          "heatmapgl": [
           {
            "colorbar": {
             "outlinewidth": 0,
             "ticks": ""
            },
            "colorscale": [
             [
              0,
              "#0d0887"
             ],
             [
              0.1111111111111111,
              "#46039f"
             ],
             [
              0.2222222222222222,
              "#7201a8"
             ],
             [
              0.3333333333333333,
              "#9c179e"
             ],
             [
              0.4444444444444444,
              "#bd3786"
             ],
             [
              0.5555555555555556,
              "#d8576b"
             ],
             [
              0.6666666666666666,
              "#ed7953"
             ],
             [
              0.7777777777777778,
              "#fb9f3a"
             ],
             [
              0.8888888888888888,
              "#fdca26"
             ],
             [
              1,
              "#f0f921"
             ]
            ],
            "type": "heatmapgl"
           }
          ],
          "histogram": [
           {
            "marker": {
             "pattern": {
              "fillmode": "overlay",
              "size": 10,
              "solidity": 0.2
             }
            },
            "type": "histogram"
           }
          ],
          "histogram2d": [
           {
            "colorbar": {
             "outlinewidth": 0,
             "ticks": ""
            },
            "colorscale": [
             [
              0,
              "#0d0887"
             ],
             [
              0.1111111111111111,
              "#46039f"
             ],
             [
              0.2222222222222222,
              "#7201a8"
             ],
             [
              0.3333333333333333,
              "#9c179e"
             ],
             [
              0.4444444444444444,
              "#bd3786"
             ],
             [
              0.5555555555555556,
              "#d8576b"
             ],
             [
              0.6666666666666666,
              "#ed7953"
             ],
             [
              0.7777777777777778,
              "#fb9f3a"
             ],
             [
              0.8888888888888888,
              "#fdca26"
             ],
             [
              1,
              "#f0f921"
             ]
            ],
            "type": "histogram2d"
           }
          ],
          "histogram2dcontour": [
           {
            "colorbar": {
             "outlinewidth": 0,
             "ticks": ""
            },
            "colorscale": [
             [
              0,
              "#0d0887"
             ],
             [
              0.1111111111111111,
              "#46039f"
             ],
             [
              0.2222222222222222,
              "#7201a8"
             ],
             [
              0.3333333333333333,
              "#9c179e"
             ],
             [
              0.4444444444444444,
              "#bd3786"
             ],
             [
              0.5555555555555556,
              "#d8576b"
             ],
             [
              0.6666666666666666,
              "#ed7953"
             ],
             [
              0.7777777777777778,
              "#fb9f3a"
             ],
             [
              0.8888888888888888,
              "#fdca26"
             ],
             [
              1,
              "#f0f921"
             ]
            ],
            "type": "histogram2dcontour"
           }
          ],
          "mesh3d": [
           {
            "colorbar": {
             "outlinewidth": 0,
             "ticks": ""
            },
            "type": "mesh3d"
           }
          ],
          "parcoords": [
           {
            "line": {
             "colorbar": {
              "outlinewidth": 0,
              "ticks": ""
             }
            },
            "type": "parcoords"
           }
          ],
          "pie": [
           {
            "automargin": true,
            "type": "pie"
           }
          ],
          "scatter": [
           {
            "fillpattern": {
             "fillmode": "overlay",
             "size": 10,
             "solidity": 0.2
            },
            "type": "scatter"
           }
          ],
          "scatter3d": [
           {
            "line": {
             "colorbar": {
              "outlinewidth": 0,
              "ticks": ""
             }
            },
            "marker": {
             "colorbar": {
              "outlinewidth": 0,
              "ticks": ""
             }
            },
            "type": "scatter3d"
           }
          ],
          "scattercarpet": [
           {
            "marker": {
             "colorbar": {
              "outlinewidth": 0,
              "ticks": ""
             }
            },
            "type": "scattercarpet"
           }
          ],
          "scattergeo": [
           {
            "marker": {
             "colorbar": {
              "outlinewidth": 0,
              "ticks": ""
             }
            },
            "type": "scattergeo"
           }
          ],
          "scattergl": [
           {
            "marker": {
             "colorbar": {
              "outlinewidth": 0,
              "ticks": ""
             }
            },
            "type": "scattergl"
           }
          ],
          "scattermapbox": [
           {
            "marker": {
             "colorbar": {
              "outlinewidth": 0,
              "ticks": ""
             }
            },
            "type": "scattermapbox"
           }
          ],
          "scatterpolar": [
           {
            "marker": {
             "colorbar": {
              "outlinewidth": 0,
              "ticks": ""
             }
            },
            "type": "scatterpolar"
           }
          ],
          "scatterpolargl": [
           {
            "marker": {
             "colorbar": {
              "outlinewidth": 0,
              "ticks": ""
             }
            },
            "type": "scatterpolargl"
           }
          ],
          "scatterternary": [
           {
            "marker": {
             "colorbar": {
              "outlinewidth": 0,
              "ticks": ""
             }
            },
            "type": "scatterternary"
           }
          ],
          "surface": [
           {
            "colorbar": {
             "outlinewidth": 0,
             "ticks": ""
            },
            "colorscale": [
             [
              0,
              "#0d0887"
             ],
             [
              0.1111111111111111,
              "#46039f"
             ],
             [
              0.2222222222222222,
              "#7201a8"
             ],
             [
              0.3333333333333333,
              "#9c179e"
             ],
             [
              0.4444444444444444,
              "#bd3786"
             ],
             [
              0.5555555555555556,
              "#d8576b"
             ],
             [
              0.6666666666666666,
              "#ed7953"
             ],
             [
              0.7777777777777778,
              "#fb9f3a"
             ],
             [
              0.8888888888888888,
              "#fdca26"
             ],
             [
              1,
              "#f0f921"
             ]
            ],
            "type": "surface"
           }
          ],
          "table": [
           {
            "cells": {
             "fill": {
              "color": "#EBF0F8"
             },
             "line": {
              "color": "white"
             }
            },
            "header": {
             "fill": {
              "color": "#C8D4E3"
             },
             "line": {
              "color": "white"
             }
            },
            "type": "table"
           }
          ]
         },
         "layout": {
          "annotationdefaults": {
           "arrowcolor": "#2a3f5f",
           "arrowhead": 0,
           "arrowwidth": 1
          },
          "autotypenumbers": "strict",
          "coloraxis": {
           "colorbar": {
            "outlinewidth": 0,
            "ticks": ""
           }
          },
          "colorscale": {
           "diverging": [
            [
             0,
             "#8e0152"
            ],
            [
             0.1,
             "#c51b7d"
            ],
            [
             0.2,
             "#de77ae"
            ],
            [
             0.3,
             "#f1b6da"
            ],
            [
             0.4,
             "#fde0ef"
            ],
            [
             0.5,
             "#f7f7f7"
            ],
            [
             0.6,
             "#e6f5d0"
            ],
            [
             0.7,
             "#b8e186"
            ],
            [
             0.8,
             "#7fbc41"
            ],
            [
             0.9,
             "#4d9221"
            ],
            [
             1,
             "#276419"
            ]
           ],
           "sequential": [
            [
             0,
             "#0d0887"
            ],
            [
             0.1111111111111111,
             "#46039f"
            ],
            [
             0.2222222222222222,
             "#7201a8"
            ],
            [
             0.3333333333333333,
             "#9c179e"
            ],
            [
             0.4444444444444444,
             "#bd3786"
            ],
            [
             0.5555555555555556,
             "#d8576b"
            ],
            [
             0.6666666666666666,
             "#ed7953"
            ],
            [
             0.7777777777777778,
             "#fb9f3a"
            ],
            [
             0.8888888888888888,
             "#fdca26"
            ],
            [
             1,
             "#f0f921"
            ]
           ],
           "sequentialminus": [
            [
             0,
             "#0d0887"
            ],
            [
             0.1111111111111111,
             "#46039f"
            ],
            [
             0.2222222222222222,
             "#7201a8"
            ],
            [
             0.3333333333333333,
             "#9c179e"
            ],
            [
             0.4444444444444444,
             "#bd3786"
            ],
            [
             0.5555555555555556,
             "#d8576b"
            ],
            [
             0.6666666666666666,
             "#ed7953"
            ],
            [
             0.7777777777777778,
             "#fb9f3a"
            ],
            [
             0.8888888888888888,
             "#fdca26"
            ],
            [
             1,
             "#f0f921"
            ]
           ]
          },
          "colorway": [
           "#636efa",
           "#EF553B",
           "#00cc96",
           "#ab63fa",
           "#FFA15A",
           "#19d3f3",
           "#FF6692",
           "#B6E880",
           "#FF97FF",
           "#FECB52"
          ],
          "font": {
           "color": "#2a3f5f"
          },
          "geo": {
           "bgcolor": "white",
           "lakecolor": "white",
           "landcolor": "#E5ECF6",
           "showlakes": true,
           "showland": true,
           "subunitcolor": "white"
          },
          "hoverlabel": {
           "align": "left"
          },
          "hovermode": "closest",
          "mapbox": {
           "style": "light"
          },
          "paper_bgcolor": "white",
          "plot_bgcolor": "#E5ECF6",
          "polar": {
           "angularaxis": {
            "gridcolor": "white",
            "linecolor": "white",
            "ticks": ""
           },
           "bgcolor": "#E5ECF6",
           "radialaxis": {
            "gridcolor": "white",
            "linecolor": "white",
            "ticks": ""
           }
          },
          "scene": {
           "xaxis": {
            "backgroundcolor": "#E5ECF6",
            "gridcolor": "white",
            "gridwidth": 2,
            "linecolor": "white",
            "showbackground": true,
            "ticks": "",
            "zerolinecolor": "white"
           },
           "yaxis": {
            "backgroundcolor": "#E5ECF6",
            "gridcolor": "white",
            "gridwidth": 2,
            "linecolor": "white",
            "showbackground": true,
            "ticks": "",
            "zerolinecolor": "white"
           },
           "zaxis": {
            "backgroundcolor": "#E5ECF6",
            "gridcolor": "white",
            "gridwidth": 2,
            "linecolor": "white",
            "showbackground": true,
            "ticks": "",
            "zerolinecolor": "white"
           }
          },
          "shapedefaults": {
           "line": {
            "color": "#2a3f5f"
           }
          },
          "ternary": {
           "aaxis": {
            "gridcolor": "white",
            "linecolor": "white",
            "ticks": ""
           },
           "baxis": {
            "gridcolor": "white",
            "linecolor": "white",
            "ticks": ""
           },
           "bgcolor": "#E5ECF6",
           "caxis": {
            "gridcolor": "white",
            "linecolor": "white",
            "ticks": ""
           }
          },
          "title": {
           "x": 0.05
          },
          "xaxis": {
           "automargin": true,
           "gridcolor": "white",
           "linecolor": "white",
           "ticks": "",
           "title": {
            "standoff": 15
           },
           "zerolinecolor": "white",
           "zerolinewidth": 2
          },
          "yaxis": {
           "automargin": true,
           "gridcolor": "white",
           "linecolor": "white",
           "ticks": "",
           "title": {
            "standoff": 15
           },
           "zerolinecolor": "white",
           "zerolinewidth": 2
          }
         }
        },
        "title": {
         "text": "Scatterplot de area e price por furnishingstatus"
        },
        "xaxis": {
         "anchor": "y",
         "domain": [
          0,
          1
         ],
         "title": {
          "text": "area"
         }
        },
        "yaxis": {
         "anchor": "x",
         "domain": [
          0,
          1
         ],
         "title": {
          "text": "price"
         }
        }
       }
      },
      "text/html": [
       "<div>                            <div id=\"a6f98286-2fa7-4853-a500-34741cb985d9\" class=\"plotly-graph-div\" style=\"height:525px; width:100%;\"></div>            <script type=\"text/javascript\">                require([\"plotly\"], function(Plotly) {                    window.PLOTLYENV=window.PLOTLYENV || {};                                    if (document.getElementById(\"a6f98286-2fa7-4853-a500-34741cb985d9\")) {                    Plotly.newPlot(                        \"a6f98286-2fa7-4853-a500-34741cb985d9\",                        [{\"hovertemplate\":\"furnishingstatus=furnished\\u003cbr\\u003earea=%{x}\\u003cbr\\u003eprice=%{y}\\u003cextra\\u003e\\u003c\\u002fextra\\u003e\",\"legendgroup\":\"furnished\",\"marker\":{\"color\":\"#636efa\",\"symbol\":\"circle\"},\"mode\":\"markers\",\"name\":\"furnished\",\"orientation\":\"v\",\"showlegend\":true,\"x\":[7420,8960,7500,7420,8100,13200,3500,8500,4600,8050,4560,8800,6540,4880,6840,7000,7482,9000,6550,6360,6000,6000,6600,6000,9000,6000,6240,6360,11175,8880,13200,6000,12090,6600,4040,6420,6500,5700,6000,10500,8250,8580,6750,4800,9000,6350,5500,4300,9620,6800,3700,6420,6540,7320,6525,5500,6360,4700,5000,5400,6100,2817,3150,6210,6710,4260,8520,7200,3000,11410,7600,6600,4200,12900,6862,6321,6000,3745,4000,3640,2550,4990,3520,4000,8250,6360,3162,4500,3500,4032,6360,4500,4360,7770,2787,7000,4500,3600,4320,3460,3960,7260,3290,3816,3180,7152,2856,8400,8250,2520,6930,4050,5450,3630,3600,3000,3150,4500,4500,5900,2145,2145,4785,3640,3185,2700,2145,6060,2145,3120,3450,4600,2700,2640,3960,3600,3000,2475,2787,2910],\"xaxis\":\"x\",\"y\":[13300000,12250000,12215000,11410000,9870000,9800000,9240000,8960000,8890000,8645000,8645000,8575000,8540000,8295000,8120000,8080940,8043000,7980000,7875000,7840000,7560000,7525000,7490000,7350000,7245000,7210000,7070000,7035000,7000000,6930000,6930000,6860000,6790000,6685000,6650000,6650000,6650000,6650000,6650000,6615000,6510000,6440000,6419000,6405000,6300000,6195000,6195000,6083000,6083000,6020000,5950000,5950000,5950000,5950000,5950000,5873000,5740000,5600000,5600000,5565000,5530000,5495000,5460000,5460000,5390000,5250000,5250000,5215000,5110000,5110000,5040000,5040000,4907000,4900000,4830000,4760000,4690000,4655000,4585000,4550000,4550000,4543000,4515000,4480000,4480000,4473000,4473000,4340000,4340000,4319000,4270000,4270000,4270000,4270000,4235000,4200000,4200000,4098500,4060000,4025000,3990000,3920000,3920000,3920000,3885000,3850000,3780000,3780000,3773000,3773000,3773000,3710000,3703000,3675000,3675000,3640000,3570000,3570000,3570000,3500000,3465000,3430000,3395000,3395000,3360000,3353000,3332000,3290000,3290000,3220000,3150000,3010000,2940000,2835000,2800000,2590000,2520000,2380000,2380000,1750000],\"yaxis\":\"y\",\"type\":\"scatter\"},{\"hovertemplate\":\"furnishingstatus=semi-furnished\\u003cbr\\u003earea=%{x}\\u003cbr\\u003eprice=%{y}\\u003cextra\\u003e\\u003c\\u002fextra\\u003e\",\"legendgroup\":\"semi-furnished\",\"marker\":{\"color\":\"#EF553B\",\"symbol\":\"circle\"},\"mode\":\"markers\",\"name\":\"semi-furnished\",\"orientation\":\"v\",\"showlegend\":true,\"x\":[9960,7500,8580,6000,6550,7800,6000,6420,4320,6000,8875,5500,7000,6000,6000,6000,7440,5150,6000,11440,7680,6000,8880,4000,4260,6000,4000,6000,3760,3960,5000,7200,6000,4100,6400,5500,5450,3240,6615,6600,8000,7020,7231,6254,15600,11460,5828,5200,7000,4640,5000,6660,10500,10500,5500,6360,6600,4400,3300,3650,6900,7980,6100,6600,6825,4600,6540,5500,10269,9800,6050,7085,3180,4500,3410,7980,6100,3540,10700,4800,8150,4410,7686,2800,5948,4520,4095,4120,5400,4770,6300,5800,3000,2970,4646,3420,4995,6040,4815,8100,3420,9166,6440,5170,3630,9667,5400,4320,3880,5680,2870,5010,4510,3840,3760,5320,3520,4100,3510,3450,9860,4510,4040,3510,3750,3968,4900,2880,4920,4950,1905,4075,6450,4400,10360,3400,6650,5850,2610,2747,4000,2325,4600,5800,4079,3520,8250,3450,4840,4080,4046,4632,5985,6060,3680,4040,5600,4340,3000,3630,5400,4500,3460,6480,4500,5500,3000,8080,3780,5300,3180,4080,3850,2015,2176,3150,4820,3420,3600,3480,4040,6020,3584,3120,5640,4280,3570,3180,3520,4130,2275,4500,4000,4240,4600,3036,3990,3640,7350,4960,3100,3480,3792,4500,3500,4095,3450,6750,9000,2398,2160,4500,3090,3240,2835,3630,3000,3480,6615,6000,3300,2000,3480,4000,3000,1836,2400],\"xaxis\":\"x\",\"y\":[12250000,10850000,10150000,9681000,9310000,9240000,9100000,8855000,8750000,8463000,8400000,8400000,8400000,7910000,7700000,7560000,7420000,7350000,7350000,7343000,7210000,7140000,7070000,6790000,6650000,6629000,6615000,6580000,6510000,6475000,6440000,6300000,6300000,6300000,6300000,6195000,6160000,6107500,6090000,6090000,6020000,5950000,5950000,5950000,5943000,5873000,5810000,5810000,5803000,5740000,5740000,5652500,5600000,5600000,5600000,5600000,5600000,5565000,5530000,5530000,5523000,5495000,5460000,5460000,5425000,5285000,5250000,5250000,5250000,5250000,5243000,5229000,5215000,5215000,5145000,5145000,5110000,5040000,5040000,5033000,5005000,4970000,4970000,4956000,4935000,4900000,4900000,4900000,4900000,4900000,4900000,4900000,4900000,4900000,4900000,4893000,4893000,4830000,4830000,4795000,4767000,4760000,4753000,4690000,4690000,4690000,4690000,4690000,4620000,4620000,4620000,4620000,4613000,4585000,4550000,4550000,4550000,4543000,4515000,4515000,4515000,4480000,4480000,4473000,4445000,4410000,4410000,4403000,4403000,4382000,4340000,4340000,4340000,4305000,4305000,4277000,4235000,4200000,4200000,4200000,4200000,4200000,4200000,4200000,4200000,4200000,4193000,4193000,4165000,4165000,4165000,4130000,4130000,4123000,4095000,4095000,4095000,4060000,4060000,4025000,4025000,4007500,4007500,3990000,3990000,3920000,3920000,3920000,3885000,3850000,3850000,3850000,3850000,3850000,3850000,3815000,3780000,3780000,3780000,3745000,3710000,3710000,3710000,3703000,3675000,3640000,3640000,3640000,3640000,3640000,3640000,3605000,3605000,3500000,3500000,3500000,3500000,3500000,3500000,3360000,3360000,3290000,3290000,3255000,3150000,3150000,3150000,3150000,3150000,3118850,3080000,3080000,3010000,3010000,3010000,3010000,2961000,2940000,2940000,2870000,2835000,2660000,2660000,2660000,2485000,2275000,1767150],\"yaxis\":\"y\",\"type\":\"scatter\"},{\"hovertemplate\":\"furnishingstatus=unfurnished\\u003cbr\\u003earea=%{x}\\u003cbr\\u003eprice=%{y}\\u003cextra\\u003e\\u003c\\u002fextra\\u003e\",\"legendgroup\":\"unfurnished\",\"marker\":{\"color\":\"#00cc96\",\"symbol\":\"circle\"},\"mode\":\"markers\",\"name\":\"unfurnished\",\"orientation\":\"v\",\"showlegend\":true,\"x\":[16200,5750,6600,7155,7950,7475,5960,6000,6480,4300,7440,6325,6000,7700,6000,5020,6670,7410,6600,6000,6600,5500,4500,6420,8372,6900,7160,6500,4800,4800,6000,5400,5800,4800,5136,6450,7800,8400,5300,3800,3000,5720,6720,4350,4160,7000,10240,4160,5360,8400,5885,4880,3900,6360,2175,5500,5040,2953,4410,3640,2145,5900,4992,4100,4050,2145,3350,5830,3600,3630,5960,2850,3520,3640,3850,3650,2135,7424,3480,3600,3120,3512,9500,5880,12944,4900,3060,5320,4000,3185,3850,2610,1950,4040,3450,3500,4120,4750,3720,3750,4040,4775,2500,3180,4040,5880,3930,3640,4370,2684,4320,3986,1650,3069,4500,5495,3000,3850,3500,8100,4960,3090,3800,5076,3750,8050,4352,5850,4960,3600,3660,3150,3040,3630,5400,5200,4350,2650,6800,4000,4000,3934,3630,2800,2430,3185,4000,2910,3600,4400,2880,3180,4400,3210,3240,3000,3500,4840,7700,3635,3264,3640,3180,3970,3970,1950,5300,3000,2400,3000,3360,3420,1700,3649,2990,3000,3620,3850],\"xaxis\":\"x\",\"y\":[10150000,9800000,9100000,8680000,8400000,8400000,8190000,7962500,7700000,7455000,7420000,7420000,7350000,6895000,6755000,6720000,6510000,6475000,6293000,6265000,6230000,6230000,6160000,6125000,6090000,6020000,5880000,5880000,5866000,5810000,5775000,5740000,5740000,5600000,5600000,5383000,5320000,5250000,5250000,5250000,5110000,5075000,4900000,4865000,4830000,4795000,4760000,4620000,4550000,4550000,4480000,4403000,4375000,4270000,4270000,4200000,4200000,4200000,4200000,4200000,4200000,4060000,4060000,3990000,3990000,3920000,3836000,3780000,3710000,3675000,3640000,3640000,3633000,3570000,3535000,3500000,3500000,3500000,3500000,3500000,3500000,3500000,3500000,3500000,3500000,3493000,3465000,3465000,3430000,3430000,3430000,3430000,3430000,3423000,3395000,3360000,3360000,3360000,3360000,3360000,3325000,3325000,3290000,3290000,3290000,3290000,3255000,3234000,3220000,3220000,3220000,3150000,3150000,3150000,3143000,3129000,3115000,3115000,3115000,3087000,3080000,3080000,3045000,3010000,3010000,3003000,2975000,2940000,2940000,2940000,2940000,2940000,2870000,2870000,2870000,2852500,2835000,2800000,2730000,2730000,2695000,2660000,2660000,2660000,2660000,2653000,2653000,2604000,2590000,2590000,2520000,2520000,2485000,2450000,2450000,2450000,2450000,2450000,2450000,2408000,2380000,2345000,2310000,2275000,2275000,2240000,2233000,2135000,2100000,2100000,2100000,1960000,1890000,1890000,1855000,1820000,1750000,1750000],\"yaxis\":\"y\",\"type\":\"scatter\"}],                        {\"template\":{\"data\":{\"histogram2dcontour\":[{\"type\":\"histogram2dcontour\",\"colorbar\":{\"outlinewidth\":0,\"ticks\":\"\"},\"colorscale\":[[0.0,\"#0d0887\"],[0.1111111111111111,\"#46039f\"],[0.2222222222222222,\"#7201a8\"],[0.3333333333333333,\"#9c179e\"],[0.4444444444444444,\"#bd3786\"],[0.5555555555555556,\"#d8576b\"],[0.6666666666666666,\"#ed7953\"],[0.7777777777777778,\"#fb9f3a\"],[0.8888888888888888,\"#fdca26\"],[1.0,\"#f0f921\"]]}],\"choropleth\":[{\"type\":\"choropleth\",\"colorbar\":{\"outlinewidth\":0,\"ticks\":\"\"}}],\"histogram2d\":[{\"type\":\"histogram2d\",\"colorbar\":{\"outlinewidth\":0,\"ticks\":\"\"},\"colorscale\":[[0.0,\"#0d0887\"],[0.1111111111111111,\"#46039f\"],[0.2222222222222222,\"#7201a8\"],[0.3333333333333333,\"#9c179e\"],[0.4444444444444444,\"#bd3786\"],[0.5555555555555556,\"#d8576b\"],[0.6666666666666666,\"#ed7953\"],[0.7777777777777778,\"#fb9f3a\"],[0.8888888888888888,\"#fdca26\"],[1.0,\"#f0f921\"]]}],\"heatmap\":[{\"type\":\"heatmap\",\"colorbar\":{\"outlinewidth\":0,\"ticks\":\"\"},\"colorscale\":[[0.0,\"#0d0887\"],[0.1111111111111111,\"#46039f\"],[0.2222222222222222,\"#7201a8\"],[0.3333333333333333,\"#9c179e\"],[0.4444444444444444,\"#bd3786\"],[0.5555555555555556,\"#d8576b\"],[0.6666666666666666,\"#ed7953\"],[0.7777777777777778,\"#fb9f3a\"],[0.8888888888888888,\"#fdca26\"],[1.0,\"#f0f921\"]]}],\"heatmapgl\":[{\"type\":\"heatmapgl\",\"colorbar\":{\"outlinewidth\":0,\"ticks\":\"\"},\"colorscale\":[[0.0,\"#0d0887\"],[0.1111111111111111,\"#46039f\"],[0.2222222222222222,\"#7201a8\"],[0.3333333333333333,\"#9c179e\"],[0.4444444444444444,\"#bd3786\"],[0.5555555555555556,\"#d8576b\"],[0.6666666666666666,\"#ed7953\"],[0.7777777777777778,\"#fb9f3a\"],[0.8888888888888888,\"#fdca26\"],[1.0,\"#f0f921\"]]}],\"contourcarpet\":[{\"type\":\"contourcarpet\",\"colorbar\":{\"outlinewidth\":0,\"ticks\":\"\"}}],\"contour\":[{\"type\":\"contour\",\"colorbar\":{\"outlinewidth\":0,\"ticks\":\"\"},\"colorscale\":[[0.0,\"#0d0887\"],[0.1111111111111111,\"#46039f\"],[0.2222222222222222,\"#7201a8\"],[0.3333333333333333,\"#9c179e\"],[0.4444444444444444,\"#bd3786\"],[0.5555555555555556,\"#d8576b\"],[0.6666666666666666,\"#ed7953\"],[0.7777777777777778,\"#fb9f3a\"],[0.8888888888888888,\"#fdca26\"],[1.0,\"#f0f921\"]]}],\"surface\":[{\"type\":\"surface\",\"colorbar\":{\"outlinewidth\":0,\"ticks\":\"\"},\"colorscale\":[[0.0,\"#0d0887\"],[0.1111111111111111,\"#46039f\"],[0.2222222222222222,\"#7201a8\"],[0.3333333333333333,\"#9c179e\"],[0.4444444444444444,\"#bd3786\"],[0.5555555555555556,\"#d8576b\"],[0.6666666666666666,\"#ed7953\"],[0.7777777777777778,\"#fb9f3a\"],[0.8888888888888888,\"#fdca26\"],[1.0,\"#f0f921\"]]}],\"mesh3d\":[{\"type\":\"mesh3d\",\"colorbar\":{\"outlinewidth\":0,\"ticks\":\"\"}}],\"scatter\":[{\"fillpattern\":{\"fillmode\":\"overlay\",\"size\":10,\"solidity\":0.2},\"type\":\"scatter\"}],\"parcoords\":[{\"type\":\"parcoords\",\"line\":{\"colorbar\":{\"outlinewidth\":0,\"ticks\":\"\"}}}],\"scatterpolargl\":[{\"type\":\"scatterpolargl\",\"marker\":{\"colorbar\":{\"outlinewidth\":0,\"ticks\":\"\"}}}],\"bar\":[{\"error_x\":{\"color\":\"#2a3f5f\"},\"error_y\":{\"color\":\"#2a3f5f\"},\"marker\":{\"line\":{\"color\":\"#E5ECF6\",\"width\":0.5},\"pattern\":{\"fillmode\":\"overlay\",\"size\":10,\"solidity\":0.2}},\"type\":\"bar\"}],\"scattergeo\":[{\"type\":\"scattergeo\",\"marker\":{\"colorbar\":{\"outlinewidth\":0,\"ticks\":\"\"}}}],\"scatterpolar\":[{\"type\":\"scatterpolar\",\"marker\":{\"colorbar\":{\"outlinewidth\":0,\"ticks\":\"\"}}}],\"histogram\":[{\"marker\":{\"pattern\":{\"fillmode\":\"overlay\",\"size\":10,\"solidity\":0.2}},\"type\":\"histogram\"}],\"scattergl\":[{\"type\":\"scattergl\",\"marker\":{\"colorbar\":{\"outlinewidth\":0,\"ticks\":\"\"}}}],\"scatter3d\":[{\"type\":\"scatter3d\",\"line\":{\"colorbar\":{\"outlinewidth\":0,\"ticks\":\"\"}},\"marker\":{\"colorbar\":{\"outlinewidth\":0,\"ticks\":\"\"}}}],\"scattermapbox\":[{\"type\":\"scattermapbox\",\"marker\":{\"colorbar\":{\"outlinewidth\":0,\"ticks\":\"\"}}}],\"scatterternary\":[{\"type\":\"scatterternary\",\"marker\":{\"colorbar\":{\"outlinewidth\":0,\"ticks\":\"\"}}}],\"scattercarpet\":[{\"type\":\"scattercarpet\",\"marker\":{\"colorbar\":{\"outlinewidth\":0,\"ticks\":\"\"}}}],\"carpet\":[{\"aaxis\":{\"endlinecolor\":\"#2a3f5f\",\"gridcolor\":\"white\",\"linecolor\":\"white\",\"minorgridcolor\":\"white\",\"startlinecolor\":\"#2a3f5f\"},\"baxis\":{\"endlinecolor\":\"#2a3f5f\",\"gridcolor\":\"white\",\"linecolor\":\"white\",\"minorgridcolor\":\"white\",\"startlinecolor\":\"#2a3f5f\"},\"type\":\"carpet\"}],\"table\":[{\"cells\":{\"fill\":{\"color\":\"#EBF0F8\"},\"line\":{\"color\":\"white\"}},\"header\":{\"fill\":{\"color\":\"#C8D4E3\"},\"line\":{\"color\":\"white\"}},\"type\":\"table\"}],\"barpolar\":[{\"marker\":{\"line\":{\"color\":\"#E5ECF6\",\"width\":0.5},\"pattern\":{\"fillmode\":\"overlay\",\"size\":10,\"solidity\":0.2}},\"type\":\"barpolar\"}],\"pie\":[{\"automargin\":true,\"type\":\"pie\"}]},\"layout\":{\"autotypenumbers\":\"strict\",\"colorway\":[\"#636efa\",\"#EF553B\",\"#00cc96\",\"#ab63fa\",\"#FFA15A\",\"#19d3f3\",\"#FF6692\",\"#B6E880\",\"#FF97FF\",\"#FECB52\"],\"font\":{\"color\":\"#2a3f5f\"},\"hovermode\":\"closest\",\"hoverlabel\":{\"align\":\"left\"},\"paper_bgcolor\":\"white\",\"plot_bgcolor\":\"#E5ECF6\",\"polar\":{\"bgcolor\":\"#E5ECF6\",\"angularaxis\":{\"gridcolor\":\"white\",\"linecolor\":\"white\",\"ticks\":\"\"},\"radialaxis\":{\"gridcolor\":\"white\",\"linecolor\":\"white\",\"ticks\":\"\"}},\"ternary\":{\"bgcolor\":\"#E5ECF6\",\"aaxis\":{\"gridcolor\":\"white\",\"linecolor\":\"white\",\"ticks\":\"\"},\"baxis\":{\"gridcolor\":\"white\",\"linecolor\":\"white\",\"ticks\":\"\"},\"caxis\":{\"gridcolor\":\"white\",\"linecolor\":\"white\",\"ticks\":\"\"}},\"coloraxis\":{\"colorbar\":{\"outlinewidth\":0,\"ticks\":\"\"}},\"colorscale\":{\"sequential\":[[0.0,\"#0d0887\"],[0.1111111111111111,\"#46039f\"],[0.2222222222222222,\"#7201a8\"],[0.3333333333333333,\"#9c179e\"],[0.4444444444444444,\"#bd3786\"],[0.5555555555555556,\"#d8576b\"],[0.6666666666666666,\"#ed7953\"],[0.7777777777777778,\"#fb9f3a\"],[0.8888888888888888,\"#fdca26\"],[1.0,\"#f0f921\"]],\"sequentialminus\":[[0.0,\"#0d0887\"],[0.1111111111111111,\"#46039f\"],[0.2222222222222222,\"#7201a8\"],[0.3333333333333333,\"#9c179e\"],[0.4444444444444444,\"#bd3786\"],[0.5555555555555556,\"#d8576b\"],[0.6666666666666666,\"#ed7953\"],[0.7777777777777778,\"#fb9f3a\"],[0.8888888888888888,\"#fdca26\"],[1.0,\"#f0f921\"]],\"diverging\":[[0,\"#8e0152\"],[0.1,\"#c51b7d\"],[0.2,\"#de77ae\"],[0.3,\"#f1b6da\"],[0.4,\"#fde0ef\"],[0.5,\"#f7f7f7\"],[0.6,\"#e6f5d0\"],[0.7,\"#b8e186\"],[0.8,\"#7fbc41\"],[0.9,\"#4d9221\"],[1,\"#276419\"]]},\"xaxis\":{\"gridcolor\":\"white\",\"linecolor\":\"white\",\"ticks\":\"\",\"title\":{\"standoff\":15},\"zerolinecolor\":\"white\",\"automargin\":true,\"zerolinewidth\":2},\"yaxis\":{\"gridcolor\":\"white\",\"linecolor\":\"white\",\"ticks\":\"\",\"title\":{\"standoff\":15},\"zerolinecolor\":\"white\",\"automargin\":true,\"zerolinewidth\":2},\"scene\":{\"xaxis\":{\"backgroundcolor\":\"#E5ECF6\",\"gridcolor\":\"white\",\"linecolor\":\"white\",\"showbackground\":true,\"ticks\":\"\",\"zerolinecolor\":\"white\",\"gridwidth\":2},\"yaxis\":{\"backgroundcolor\":\"#E5ECF6\",\"gridcolor\":\"white\",\"linecolor\":\"white\",\"showbackground\":true,\"ticks\":\"\",\"zerolinecolor\":\"white\",\"gridwidth\":2},\"zaxis\":{\"backgroundcolor\":\"#E5ECF6\",\"gridcolor\":\"white\",\"linecolor\":\"white\",\"showbackground\":true,\"ticks\":\"\",\"zerolinecolor\":\"white\",\"gridwidth\":2}},\"shapedefaults\":{\"line\":{\"color\":\"#2a3f5f\"}},\"annotationdefaults\":{\"arrowcolor\":\"#2a3f5f\",\"arrowhead\":0,\"arrowwidth\":1},\"geo\":{\"bgcolor\":\"white\",\"landcolor\":\"#E5ECF6\",\"subunitcolor\":\"white\",\"showland\":true,\"showlakes\":true,\"lakecolor\":\"white\"},\"title\":{\"x\":0.05},\"mapbox\":{\"style\":\"light\"}}},\"xaxis\":{\"anchor\":\"y\",\"domain\":[0.0,1.0],\"title\":{\"text\":\"area\"}},\"yaxis\":{\"anchor\":\"x\",\"domain\":[0.0,1.0],\"title\":{\"text\":\"price\"}},\"legend\":{\"title\":{\"text\":\"furnishingstatus\"},\"tracegroupgap\":0},\"title\":{\"text\":\"Scatterplot de area e price por furnishingstatus\"}},                        {\"responsive\": true}                    ).then(function(){\n",
       "                            \n",
       "var gd = document.getElementById('a6f98286-2fa7-4853-a500-34741cb985d9');\n",
       "var x = new MutationObserver(function (mutations, observer) {{\n",
       "        var display = window.getComputedStyle(gd).display;\n",
       "        if (!display || display === 'none') {{\n",
       "            console.log([gd, 'removed!']);\n",
       "            Plotly.purge(gd);\n",
       "            observer.disconnect();\n",
       "        }}\n",
       "}});\n",
       "\n",
       "// Listen for the removal of the full notebook cells\n",
       "var notebookContainer = gd.closest('#notebook-container');\n",
       "if (notebookContainer) {{\n",
       "    x.observe(notebookContainer, {childList: true});\n",
       "}}\n",
       "\n",
       "// Listen for the clearing of the current output cell\n",
       "var outputEl = gd.closest('.output');\n",
       "if (outputEl) {{\n",
       "    x.observe(outputEl, {childList: true});\n",
       "}}\n",
       "\n",
       "                        })                };                });            </script>        </div>"
      ]
     },
     "metadata": {},
     "output_type": "display_data"
    }
   ],
   "source": [
    "# Scatterplot de area e price\n",
    "px.scatter(df, x='area', y='price', color='furnishingstatus', title=\"Scatterplot de area e price por furnishingstatus\")"
   ]
  },
  {
   "cell_type": "markdown",
   "id": "777acfc3",
   "metadata": {},
   "source": [
    "### Matriz de Correlação"
   ]
  },
  {
   "cell_type": "code",
   "execution_count": 45,
   "id": "631e3c24",
   "metadata": {},
   "outputs": [],
   "source": [
    "matriz_correlacao_countries = df.corr(numeric_only=True)"
   ]
  },
  {
   "cell_type": "code",
   "execution_count": 46,
   "id": "47baed46",
   "metadata": {},
   "outputs": [
    {
     "data": {
      "text/plain": [
       "<Axes: >"
      ]
     },
     "execution_count": 46,
     "metadata": {},
     "output_type": "execute_result"
    },
    {
     "data": {
      "image/png": "[encoded data removed]",
      "text/plain": [
       "<Figure size 640x480 with 2 Axes>"
      ]
     },
     "metadata": {},
     "output_type": "display_data"
    }
   ],
   "source": [
    "# Plotar Matriz de Correlação\n",
    "sns.heatmap(matriz_correlacao_countries, vmin=-1, vmax=1, annot=True)"
   ]
  },
  {
   "cell_type": "markdown",
   "id": "b160e219",
   "metadata": {},
   "source": [
    "# Treinar o Algoritmo PCA"
   ]
  },
  {
   "cell_type": "code",
   "execution_count": 47,
   "id": "8610c063",
   "metadata": {},
   "outputs": [],
   "source": [
    "# Selecionar as colunas para PCA\n",
    "X = df.copy()"
   ]
  },
  {
   "cell_type": "code",
   "execution_count": 48,
   "id": "913000e5",
   "metadata": {},
   "outputs": [],
   "source": [
    "# Transformar colunas booleanas yes/no em 1/0\n",
    "bool_cols = ['mainroad', 'guestroom', 'basement', 'hotwaterheating', 'airconditioning', 'prefarea']\n",
    "for col in bool_cols:\n",
    "    X[col] = X[col].map({'yes': 1, 'no': 0})"
   ]
  },
  {
   "cell_type": "code",
   "execution_count": 49,
   "id": "d7841e29",
   "metadata": {},
   "outputs": [],
   "source": [
    "# Separar variáveis quantitativas\n",
    "numeric_features = numeric_features = ['price', 'area', 'bedrooms', 'bathrooms', 'stories', 'parking']\n",
    "# Separar variáveis categóricas\n",
    "categorical_features = ['furnishingstatus']"
   ]
  },
  {
   "cell_type": "code",
   "execution_count": 50,
   "id": "358da2aa",
   "metadata": {},
   "outputs": [],
   "source": [
    "# Definir transformações\n",
    "numeric_transformer = StandardScaler()\n",
    "categorical_transformer = OneHotEncoder()"
   ]
  },
  {
   "cell_type": "code",
   "execution_count": 51,
   "id": "d207cfa6",
   "metadata": {},
   "outputs": [],
   "source": [
    "# Criar Pre processor de Transformação\n",
    "preprocessor = ColumnTransformer(\n",
    "    transformers=[\n",
    "        ('num', numeric_transformer, numeric_features),\n",
    "        ('cat', categorical_transformer, categorical_features)\n",
    "    ],\n",
    ")"
   ]
  },
  {
   "cell_type": "code",
   "execution_count": 52,
   "id": "74fab28d",
   "metadata": {},
   "outputs": [],
   "source": [
    "# Transformar os dados\n",
    "X_transformed = preprocessor.fit_transform(X)"
   ]
  },
  {
   "cell_type": "code",
   "execution_count": 53,
   "id": "ff44c247",
   "metadata": {},
   "outputs": [
    {
     "data": {
      "text/plain": [
       "array([[ 4.56636513,  1.04672629,  1.40341936, ...,  1.        ,\n",
       "         0.        ,  0.        ],\n",
       "       [ 4.00448405,  1.75700953,  1.40341936, ...,  1.        ,\n",
       "         0.        ,  0.        ],\n",
       "       [ 4.00448405,  2.21823241,  0.04727831, ...,  0.        ,\n",
       "         1.        ,  0.        ],\n",
       "       ...,\n",
       "       [-1.61432675, -0.70592066, -1.30886273, ...,  0.        ,\n",
       "         0.        ,  1.        ],\n",
       "       [-1.61432675, -1.03338891,  0.04727831, ...,  1.        ,\n",
       "         0.        ,  0.        ],\n",
       "       [-1.61432675, -0.5998394 ,  0.04727831, ...,  0.        ,\n",
       "         0.        ,  1.        ]])"
      ]
     },
     "execution_count": 53,
     "metadata": {},
     "output_type": "execute_result"
    }
   ],
   "source": [
    "X_transformed"
   ]
  },
  {
   "cell_type": "code",
   "execution_count": 55,
   "id": "974ed31a",
   "metadata": {},
   "outputs": [],
   "source": [
    "# Criar modelo PCA\n",
    "modelo_pca2 = PCA(n_components=2)\n",
    "modelo_pca3 = PCA(n_components=3)\n"
   ]
  },
  {
   "cell_type": "code",
   "execution_count": 56,
   "id": "a8e8a9d3",
   "metadata": {},
   "outputs": [],
   "source": [
    "X_pca2 = modelo_pca2.fit_transform(X_transformed)\n",
    "X_pca3 = modelo_pca3.fit_transform(X_transformed)\n"
   ]
  },
  {
   "cell_type": "code",
   "execution_count": 57,
   "id": "63c39e99",
   "metadata": {},
   "outputs": [],
   "source": [
    "# Gerar um dataframe com base nos componentes principais\n",
    "df_pca2 = pd.DataFrame(data=X_pca2, columns=['PC1', 'PC2'])\n",
    "df_pca3 = pd.DataFrame(data=X_pca3, columns=['PC1', 'PC2', 'PC3'])\n"
   ]
  },
  {
   "cell_type": "code",
   "execution_count": 58,
   "id": "6f070e60",
   "metadata": {},
   "outputs": [
    {
     "data": {
      "text/html": [
       "<div>\n",
       "<style scoped>\n",
       "    .dataframe tbody tr th:only-of-type {\n",
       "        vertical-align: middle;\n",
       "    }\n",
       "\n",
       "    .dataframe tbody tr th {\n",
       "        vertical-align: top;\n",
       "    }\n",
       "\n",
       "    .dataframe thead th {\n",
       "        text-align: right;\n",
       "    }\n",
       "</style>\n",
       "<table border=\"1\" class=\"dataframe\">\n",
       "  <thead>\n",
       "    <tr style=\"text-align: right;\">\n",
       "      <th></th>\n",
       "      <th>PC1</th>\n",
       "      <th>PC2</th>\n",
       "    </tr>\n",
       "  </thead>\n",
       "  <tbody>\n",
       "    <tr>\n",
       "      <th>0</th>\n",
       "      <td>5.038270</td>\n",
       "      <td>0.380274</td>\n",
       "    </tr>\n",
       "    <tr>\n",
       "      <th>1</th>\n",
       "      <td>7.486607</td>\n",
       "      <td>-0.137326</td>\n",
       "    </tr>\n",
       "    <tr>\n",
       "      <th>2</th>\n",
       "      <td>4.176727</td>\n",
       "      <td>1.982039</td>\n",
       "    </tr>\n",
       "    <tr>\n",
       "      <th>3</th>\n",
       "      <td>4.681767</td>\n",
       "      <td>1.517563</td>\n",
       "    </tr>\n",
       "    <tr>\n",
       "      <th>4</th>\n",
       "      <td>3.219831</td>\n",
       "      <td>1.262840</td>\n",
       "    </tr>\n",
       "    <tr>\n",
       "      <th>...</th>\n",
       "      <td>...</td>\n",
       "      <td>...</td>\n",
       "    </tr>\n",
       "    <tr>\n",
       "      <th>540</th>\n",
       "      <td>-1.908521</td>\n",
       "      <td>1.161579</td>\n",
       "    </tr>\n",
       "    <tr>\n",
       "      <th>541</th>\n",
       "      <td>-2.125273</td>\n",
       "      <td>-0.692701</td>\n",
       "    </tr>\n",
       "    <tr>\n",
       "      <th>542</th>\n",
       "      <td>-2.549141</td>\n",
       "      <td>0.072510</td>\n",
       "    </tr>\n",
       "    <tr>\n",
       "      <th>543</th>\n",
       "      <td>-2.000443</td>\n",
       "      <td>-0.546610</td>\n",
       "    </tr>\n",
       "    <tr>\n",
       "      <th>544</th>\n",
       "      <td>-1.564154</td>\n",
       "      <td>-0.966915</td>\n",
       "    </tr>\n",
       "  </tbody>\n",
       "</table>\n",
       "<p>545 rows × 2 columns</p>\n",
       "</div>"
      ],
      "text/plain": [
       "          PC1       PC2\n",
       "0    5.038270  0.380274\n",
       "1    7.486607 -0.137326\n",
       "2    4.176727  1.982039\n",
       "3    4.681767  1.517563\n",
       "4    3.219831  1.262840\n",
       "..        ...       ...\n",
       "540 -1.908521  1.161579\n",
       "541 -2.125273 -0.692701\n",
       "542 -2.549141  0.072510\n",
       "543 -2.000443 -0.546610\n",
       "544 -1.564154 -0.966915\n",
       "\n",
       "[545 rows x 2 columns]"
      ]
     },
     "execution_count": 58,
     "metadata": {},
     "output_type": "execute_result"
    }
   ],
   "source": [
    "df_pca2"
   ]
  },
  {
   "cell_type": "code",
   "execution_count": 59,
   "id": "851efa88",
   "metadata": {},
   "outputs": [
    {
     "data": {
      "text/html": [
       "<div>\n",
       "<style scoped>\n",
       "    .dataframe tbody tr th:only-of-type {\n",
       "        vertical-align: middle;\n",
       "    }\n",
       "\n",
       "    .dataframe tbody tr th {\n",
       "        vertical-align: top;\n",
       "    }\n",
       "\n",
       "    .dataframe thead th {\n",
       "        text-align: right;\n",
       "    }\n",
       "</style>\n",
       "<table border=\"1\" class=\"dataframe\">\n",
       "  <thead>\n",
       "    <tr style=\"text-align: right;\">\n",
       "      <th></th>\n",
       "      <th>PC1</th>\n",
       "      <th>PC2</th>\n",
       "      <th>PC3</th>\n",
       "    </tr>\n",
       "  </thead>\n",
       "  <tbody>\n",
       "    <tr>\n",
       "      <th>0</th>\n",
       "      <td>5.038270</td>\n",
       "      <td>0.380274</td>\n",
       "      <td>-0.252675</td>\n",
       "    </tr>\n",
       "    <tr>\n",
       "      <th>1</th>\n",
       "      <td>7.486607</td>\n",
       "      <td>-0.137326</td>\n",
       "      <td>0.159924</td>\n",
       "    </tr>\n",
       "    <tr>\n",
       "      <th>2</th>\n",
       "      <td>4.176727</td>\n",
       "      <td>1.982039</td>\n",
       "      <td>-1.019401</td>\n",
       "    </tr>\n",
       "    <tr>\n",
       "      <th>3</th>\n",
       "      <td>4.681767</td>\n",
       "      <td>1.517563</td>\n",
       "      <td>0.848515</td>\n",
       "    </tr>\n",
       "    <tr>\n",
       "      <th>4</th>\n",
       "      <td>3.219831</td>\n",
       "      <td>1.262840</td>\n",
       "      <td>0.158075</td>\n",
       "    </tr>\n",
       "    <tr>\n",
       "      <th>...</th>\n",
       "      <td>...</td>\n",
       "      <td>...</td>\n",
       "      <td>...</td>\n",
       "    </tr>\n",
       "    <tr>\n",
       "      <th>540</th>\n",
       "      <td>-1.908521</td>\n",
       "      <td>1.161579</td>\n",
       "      <td>1.560302</td>\n",
       "    </tr>\n",
       "    <tr>\n",
       "      <th>541</th>\n",
       "      <td>-2.125273</td>\n",
       "      <td>-0.692701</td>\n",
       "      <td>0.666703</td>\n",
       "    </tr>\n",
       "    <tr>\n",
       "      <th>542</th>\n",
       "      <td>-2.549141</td>\n",
       "      <td>0.072510</td>\n",
       "      <td>-0.220467</td>\n",
       "    </tr>\n",
       "    <tr>\n",
       "      <th>543</th>\n",
       "      <td>-2.000443</td>\n",
       "      <td>-0.546610</td>\n",
       "      <td>0.473765</td>\n",
       "    </tr>\n",
       "    <tr>\n",
       "      <th>544</th>\n",
       "      <td>-1.564154</td>\n",
       "      <td>-0.966915</td>\n",
       "      <td>0.091459</td>\n",
       "    </tr>\n",
       "  </tbody>\n",
       "</table>\n",
       "<p>545 rows × 3 columns</p>\n",
       "</div>"
      ],
      "text/plain": [
       "          PC1       PC2       PC3\n",
       "0    5.038270  0.380274 -0.252675\n",
       "1    7.486607 -0.137326  0.159924\n",
       "2    4.176727  1.982039 -1.019401\n",
       "3    4.681767  1.517563  0.848515\n",
       "4    3.219831  1.262840  0.158075\n",
       "..        ...       ...       ...\n",
       "540 -1.908521  1.161579  1.560302\n",
       "541 -2.125273 -0.692701  0.666703\n",
       "542 -2.549141  0.072510 -0.220467\n",
       "543 -2.000443 -0.546610  0.473765\n",
       "544 -1.564154 -0.966915  0.091459\n",
       "\n",
       "[545 rows x 3 columns]"
      ]
     },
     "execution_count": 59,
     "metadata": {},
     "output_type": "execute_result"
    }
   ],
   "source": [
    "df_pca3"
   ]
  },
  {
   "cell_type": "code",
   "execution_count": 60,
   "id": "2b19b379",
   "metadata": {},
   "outputs": [
    {
     "data": {
      "text/plain": [
       "(545, 545)"
      ]
     },
     "execution_count": 60,
     "metadata": {},
     "output_type": "execute_result"
    }
   ],
   "source": [
    "# Verificar tamanho do dataframe de PCA\n",
    "len(df_pca2) ,len(df_pca3)"
   ]
  },
  {
   "cell_type": "code",
   "execution_count": 61,
   "id": "926c7009",
   "metadata": {},
   "outputs": [],
   "source": [
    "# Incluir componestes principais no dataframe original\n",
    "df2 = df.copy()\n",
    "df3 = df.copy()\n",
    "\n",
    "df2[['PC1', 'PC2']] = df_pca2\n",
    "df3[['PC1', 'PC2', 'PC3']] = df_pca3\n"
   ]
  },
  {
   "cell_type": "code",
   "execution_count": 62,
   "id": "46773d39",
   "metadata": {},
   "outputs": [
    {
     "data": {
      "text/html": [
       "<div>\n",
       "<style scoped>\n",
       "    .dataframe tbody tr th:only-of-type {\n",
       "        vertical-align: middle;\n",
       "    }\n",
       "\n",
       "    .dataframe tbody tr th {\n",
       "        vertical-align: top;\n",
       "    }\n",
       "\n",
       "    .dataframe thead th {\n",
       "        text-align: right;\n",
       "    }\n",
       "</style>\n",
       "<table border=\"1\" class=\"dataframe\">\n",
       "  <thead>\n",
       "    <tr style=\"text-align: right;\">\n",
       "      <th></th>\n",
       "      <th>price</th>\n",
       "      <th>area</th>\n",
       "      <th>bedrooms</th>\n",
       "      <th>bathrooms</th>\n",
       "      <th>stories</th>\n",
       "      <th>mainroad</th>\n",
       "      <th>guestroom</th>\n",
       "      <th>basement</th>\n",
       "      <th>hotwaterheating</th>\n",
       "      <th>airconditioning</th>\n",
       "      <th>parking</th>\n",
       "      <th>prefarea</th>\n",
       "      <th>furnishingstatus</th>\n",
       "      <th>PC1</th>\n",
       "      <th>PC2</th>\n",
       "    </tr>\n",
       "  </thead>\n",
       "  <tbody>\n",
       "    <tr>\n",
       "      <th>0</th>\n",
       "      <td>13300000</td>\n",
       "      <td>7420</td>\n",
       "      <td>4</td>\n",
       "      <td>2</td>\n",
       "      <td>3</td>\n",
       "      <td>yes</td>\n",
       "      <td>no</td>\n",
       "      <td>no</td>\n",
       "      <td>no</td>\n",
       "      <td>yes</td>\n",
       "      <td>2</td>\n",
       "      <td>yes</td>\n",
       "      <td>furnished</td>\n",
       "      <td>5.038270</td>\n",
       "      <td>0.380274</td>\n",
       "    </tr>\n",
       "    <tr>\n",
       "      <th>1</th>\n",
       "      <td>12250000</td>\n",
       "      <td>8960</td>\n",
       "      <td>4</td>\n",
       "      <td>4</td>\n",
       "      <td>4</td>\n",
       "      <td>yes</td>\n",
       "      <td>no</td>\n",
       "      <td>no</td>\n",
       "      <td>no</td>\n",
       "      <td>yes</td>\n",
       "      <td>3</td>\n",
       "      <td>no</td>\n",
       "      <td>furnished</td>\n",
       "      <td>7.486607</td>\n",
       "      <td>-0.137326</td>\n",
       "    </tr>\n",
       "    <tr>\n",
       "      <th>2</th>\n",
       "      <td>12250000</td>\n",
       "      <td>9960</td>\n",
       "      <td>3</td>\n",
       "      <td>2</td>\n",
       "      <td>2</td>\n",
       "      <td>yes</td>\n",
       "      <td>no</td>\n",
       "      <td>yes</td>\n",
       "      <td>no</td>\n",
       "      <td>no</td>\n",
       "      <td>2</td>\n",
       "      <td>yes</td>\n",
       "      <td>semi-furnished</td>\n",
       "      <td>4.176727</td>\n",
       "      <td>1.982039</td>\n",
       "    </tr>\n",
       "    <tr>\n",
       "      <th>3</th>\n",
       "      <td>12215000</td>\n",
       "      <td>7500</td>\n",
       "      <td>4</td>\n",
       "      <td>2</td>\n",
       "      <td>2</td>\n",
       "      <td>yes</td>\n",
       "      <td>no</td>\n",
       "      <td>yes</td>\n",
       "      <td>no</td>\n",
       "      <td>yes</td>\n",
       "      <td>3</td>\n",
       "      <td>yes</td>\n",
       "      <td>furnished</td>\n",
       "      <td>4.681767</td>\n",
       "      <td>1.517563</td>\n",
       "    </tr>\n",
       "    <tr>\n",
       "      <th>4</th>\n",
       "      <td>11410000</td>\n",
       "      <td>7420</td>\n",
       "      <td>4</td>\n",
       "      <td>1</td>\n",
       "      <td>2</td>\n",
       "      <td>yes</td>\n",
       "      <td>yes</td>\n",
       "      <td>yes</td>\n",
       "      <td>no</td>\n",
       "      <td>yes</td>\n",
       "      <td>2</td>\n",
       "      <td>no</td>\n",
       "      <td>furnished</td>\n",
       "      <td>3.219831</td>\n",
       "      <td>1.262840</td>\n",
       "    </tr>\n",
       "    <tr>\n",
       "      <th>5</th>\n",
       "      <td>10850000</td>\n",
       "      <td>7500</td>\n",
       "      <td>3</td>\n",
       "      <td>3</td>\n",
       "      <td>1</td>\n",
       "      <td>yes</td>\n",
       "      <td>no</td>\n",
       "      <td>yes</td>\n",
       "      <td>no</td>\n",
       "      <td>yes</td>\n",
       "      <td>2</td>\n",
       "      <td>yes</td>\n",
       "      <td>semi-furnished</td>\n",
       "      <td>3.789790</td>\n",
       "      <td>1.453218</td>\n",
       "    </tr>\n",
       "    <tr>\n",
       "      <th>6</th>\n",
       "      <td>10150000</td>\n",
       "      <td>8580</td>\n",
       "      <td>4</td>\n",
       "      <td>3</td>\n",
       "      <td>4</td>\n",
       "      <td>yes</td>\n",
       "      <td>no</td>\n",
       "      <td>no</td>\n",
       "      <td>no</td>\n",
       "      <td>yes</td>\n",
       "      <td>2</td>\n",
       "      <td>yes</td>\n",
       "      <td>semi-furnished</td>\n",
       "      <td>5.557213</td>\n",
       "      <td>-0.570796</td>\n",
       "    </tr>\n",
       "    <tr>\n",
       "      <th>7</th>\n",
       "      <td>10150000</td>\n",
       "      <td>16200</td>\n",
       "      <td>5</td>\n",
       "      <td>3</td>\n",
       "      <td>2</td>\n",
       "      <td>yes</td>\n",
       "      <td>no</td>\n",
       "      <td>no</td>\n",
       "      <td>no</td>\n",
       "      <td>no</td>\n",
       "      <td>0</td>\n",
       "      <td>no</td>\n",
       "      <td>unfurnished</td>\n",
       "      <td>5.709113</td>\n",
       "      <td>0.572798</td>\n",
       "    </tr>\n",
       "    <tr>\n",
       "      <th>8</th>\n",
       "      <td>9870000</td>\n",
       "      <td>8100</td>\n",
       "      <td>4</td>\n",
       "      <td>1</td>\n",
       "      <td>2</td>\n",
       "      <td>yes</td>\n",
       "      <td>yes</td>\n",
       "      <td>yes</td>\n",
       "      <td>no</td>\n",
       "      <td>yes</td>\n",
       "      <td>2</td>\n",
       "      <td>yes</td>\n",
       "      <td>furnished</td>\n",
       "      <td>2.891180</td>\n",
       "      <td>1.326996</td>\n",
       "    </tr>\n",
       "    <tr>\n",
       "      <th>9</th>\n",
       "      <td>9800000</td>\n",
       "      <td>5750</td>\n",
       "      <td>3</td>\n",
       "      <td>2</td>\n",
       "      <td>4</td>\n",
       "      <td>yes</td>\n",
       "      <td>yes</td>\n",
       "      <td>no</td>\n",
       "      <td>no</td>\n",
       "      <td>yes</td>\n",
       "      <td>1</td>\n",
       "      <td>yes</td>\n",
       "      <td>unfurnished</td>\n",
       "      <td>3.134694</td>\n",
       "      <td>-0.969168</td>\n",
       "    </tr>\n",
       "  </tbody>\n",
       "</table>\n",
       "</div>"
      ],
      "text/plain": [
       "      price   area  bedrooms  bathrooms  stories mainroad guestroom basement  \\\n",
       "0  13300000   7420         4          2        3      yes        no       no   \n",
       "1  12250000   8960         4          4        4      yes        no       no   \n",
       "2  12250000   9960         3          2        2      yes        no      yes   \n",
       "3  12215000   7500         4          2        2      yes        no      yes   \n",
       "4  11410000   7420         4          1        2      yes       yes      yes   \n",
       "5  10850000   7500         3          3        1      yes        no      yes   \n",
       "6  10150000   8580         4          3        4      yes        no       no   \n",
       "7  10150000  16200         5          3        2      yes        no       no   \n",
       "8   9870000   8100         4          1        2      yes       yes      yes   \n",
       "9   9800000   5750         3          2        4      yes       yes       no   \n",
       "\n",
       "  hotwaterheating airconditioning  parking prefarea furnishingstatus  \\\n",
       "0              no             yes        2      yes        furnished   \n",
       "1              no             yes        3       no        furnished   \n",
       "2              no              no        2      yes   semi-furnished   \n",
       "3              no             yes        3      yes        furnished   \n",
       "4              no             yes        2       no        furnished   \n",
       "5              no             yes        2      yes   semi-furnished   \n",
       "6              no             yes        2      yes   semi-furnished   \n",
       "7              no              no        0       no      unfurnished   \n",
       "8              no             yes        2      yes        furnished   \n",
       "9              no             yes        1      yes      unfurnished   \n",
       "\n",
       "        PC1       PC2  \n",
       "0  5.038270  0.380274  \n",
       "1  7.486607 -0.137326  \n",
       "2  4.176727  1.982039  \n",
       "3  4.681767  1.517563  \n",
       "4  3.219831  1.262840  \n",
       "5  3.789790  1.453218  \n",
       "6  5.557213 -0.570796  \n",
       "7  5.709113  0.572798  \n",
       "8  2.891180  1.326996  \n",
       "9  3.134694 -0.969168  "
      ]
     },
     "execution_count": 62,
     "metadata": {},
     "output_type": "execute_result"
    }
   ],
   "source": [
    "df2.head(10)"
   ]
  },
  {
   "cell_type": "code",
   "execution_count": 63,
   "id": "f088141c",
   "metadata": {},
   "outputs": [
    {
     "data": {
      "text/html": [
       "<div>\n",
       "<style scoped>\n",
       "    .dataframe tbody tr th:only-of-type {\n",
       "        vertical-align: middle;\n",
       "    }\n",
       "\n",
       "    .dataframe tbody tr th {\n",
       "        vertical-align: top;\n",
       "    }\n",
       "\n",
       "    .dataframe thead th {\n",
       "        text-align: right;\n",
       "    }\n",
       "</style>\n",
       "<table border=\"1\" class=\"dataframe\">\n",
       "  <thead>\n",
       "    <tr style=\"text-align: right;\">\n",
       "      <th></th>\n",
       "      <th>price</th>\n",
       "      <th>area</th>\n",
       "      <th>bedrooms</th>\n",
       "      <th>bathrooms</th>\n",
       "      <th>stories</th>\n",
       "      <th>mainroad</th>\n",
       "      <th>guestroom</th>\n",
       "      <th>basement</th>\n",
       "      <th>hotwaterheating</th>\n",
       "      <th>airconditioning</th>\n",
       "      <th>parking</th>\n",
       "      <th>prefarea</th>\n",
       "      <th>furnishingstatus</th>\n",
       "      <th>PC1</th>\n",
       "      <th>PC2</th>\n",
       "      <th>PC3</th>\n",
       "    </tr>\n",
       "  </thead>\n",
       "  <tbody>\n",
       "    <tr>\n",
       "      <th>0</th>\n",
       "      <td>13300000</td>\n",
       "      <td>7420</td>\n",
       "      <td>4</td>\n",
       "      <td>2</td>\n",
       "      <td>3</td>\n",
       "      <td>yes</td>\n",
       "      <td>no</td>\n",
       "      <td>no</td>\n",
       "      <td>no</td>\n",
       "      <td>yes</td>\n",
       "      <td>2</td>\n",
       "      <td>yes</td>\n",
       "      <td>furnished</td>\n",
       "      <td>5.038270</td>\n",
       "      <td>0.380274</td>\n",
       "      <td>-0.252675</td>\n",
       "    </tr>\n",
       "    <tr>\n",
       "      <th>1</th>\n",
       "      <td>12250000</td>\n",
       "      <td>8960</td>\n",
       "      <td>4</td>\n",
       "      <td>4</td>\n",
       "      <td>4</td>\n",
       "      <td>yes</td>\n",
       "      <td>no</td>\n",
       "      <td>no</td>\n",
       "      <td>no</td>\n",
       "      <td>yes</td>\n",
       "      <td>3</td>\n",
       "      <td>no</td>\n",
       "      <td>furnished</td>\n",
       "      <td>7.486607</td>\n",
       "      <td>-0.137326</td>\n",
       "      <td>0.159924</td>\n",
       "    </tr>\n",
       "    <tr>\n",
       "      <th>2</th>\n",
       "      <td>12250000</td>\n",
       "      <td>9960</td>\n",
       "      <td>3</td>\n",
       "      <td>2</td>\n",
       "      <td>2</td>\n",
       "      <td>yes</td>\n",
       "      <td>no</td>\n",
       "      <td>yes</td>\n",
       "      <td>no</td>\n",
       "      <td>no</td>\n",
       "      <td>2</td>\n",
       "      <td>yes</td>\n",
       "      <td>semi-furnished</td>\n",
       "      <td>4.176727</td>\n",
       "      <td>1.982039</td>\n",
       "      <td>-1.019401</td>\n",
       "    </tr>\n",
       "    <tr>\n",
       "      <th>3</th>\n",
       "      <td>12215000</td>\n",
       "      <td>7500</td>\n",
       "      <td>4</td>\n",
       "      <td>2</td>\n",
       "      <td>2</td>\n",
       "      <td>yes</td>\n",
       "      <td>no</td>\n",
       "      <td>yes</td>\n",
       "      <td>no</td>\n",
       "      <td>yes</td>\n",
       "      <td>3</td>\n",
       "      <td>yes</td>\n",
       "      <td>furnished</td>\n",
       "      <td>4.681767</td>\n",
       "      <td>1.517563</td>\n",
       "      <td>0.848515</td>\n",
       "    </tr>\n",
       "    <tr>\n",
       "      <th>4</th>\n",
       "      <td>11410000</td>\n",
       "      <td>7420</td>\n",
       "      <td>4</td>\n",
       "      <td>1</td>\n",
       "      <td>2</td>\n",
       "      <td>yes</td>\n",
       "      <td>yes</td>\n",
       "      <td>yes</td>\n",
       "      <td>no</td>\n",
       "      <td>yes</td>\n",
       "      <td>2</td>\n",
       "      <td>no</td>\n",
       "      <td>furnished</td>\n",
       "      <td>3.219831</td>\n",
       "      <td>1.262840</td>\n",
       "      <td>0.158075</td>\n",
       "    </tr>\n",
       "    <tr>\n",
       "      <th>5</th>\n",
       "      <td>10850000</td>\n",
       "      <td>7500</td>\n",
       "      <td>3</td>\n",
       "      <td>3</td>\n",
       "      <td>1</td>\n",
       "      <td>yes</td>\n",
       "      <td>no</td>\n",
       "      <td>yes</td>\n",
       "      <td>no</td>\n",
       "      <td>yes</td>\n",
       "      <td>2</td>\n",
       "      <td>yes</td>\n",
       "      <td>semi-furnished</td>\n",
       "      <td>3.789790</td>\n",
       "      <td>1.453218</td>\n",
       "      <td>-0.097651</td>\n",
       "    </tr>\n",
       "    <tr>\n",
       "      <th>6</th>\n",
       "      <td>10150000</td>\n",
       "      <td>8580</td>\n",
       "      <td>4</td>\n",
       "      <td>3</td>\n",
       "      <td>4</td>\n",
       "      <td>yes</td>\n",
       "      <td>no</td>\n",
       "      <td>no</td>\n",
       "      <td>no</td>\n",
       "      <td>yes</td>\n",
       "      <td>2</td>\n",
       "      <td>yes</td>\n",
       "      <td>semi-furnished</td>\n",
       "      <td>5.557213</td>\n",
       "      <td>-0.570796</td>\n",
       "      <td>-0.218822</td>\n",
       "    </tr>\n",
       "    <tr>\n",
       "      <th>7</th>\n",
       "      <td>10150000</td>\n",
       "      <td>16200</td>\n",
       "      <td>5</td>\n",
       "      <td>3</td>\n",
       "      <td>2</td>\n",
       "      <td>yes</td>\n",
       "      <td>no</td>\n",
       "      <td>no</td>\n",
       "      <td>no</td>\n",
       "      <td>no</td>\n",
       "      <td>0</td>\n",
       "      <td>no</td>\n",
       "      <td>unfurnished</td>\n",
       "      <td>5.709113</td>\n",
       "      <td>0.572798</td>\n",
       "      <td>-2.908132</td>\n",
       "    </tr>\n",
       "    <tr>\n",
       "      <th>8</th>\n",
       "      <td>9870000</td>\n",
       "      <td>8100</td>\n",
       "      <td>4</td>\n",
       "      <td>1</td>\n",
       "      <td>2</td>\n",
       "      <td>yes</td>\n",
       "      <td>yes</td>\n",
       "      <td>yes</td>\n",
       "      <td>no</td>\n",
       "      <td>yes</td>\n",
       "      <td>2</td>\n",
       "      <td>yes</td>\n",
       "      <td>furnished</td>\n",
       "      <td>2.891180</td>\n",
       "      <td>1.326996</td>\n",
       "      <td>0.193667</td>\n",
       "    </tr>\n",
       "    <tr>\n",
       "      <th>9</th>\n",
       "      <td>9800000</td>\n",
       "      <td>5750</td>\n",
       "      <td>3</td>\n",
       "      <td>2</td>\n",
       "      <td>4</td>\n",
       "      <td>yes</td>\n",
       "      <td>yes</td>\n",
       "      <td>no</td>\n",
       "      <td>no</td>\n",
       "      <td>yes</td>\n",
       "      <td>1</td>\n",
       "      <td>yes</td>\n",
       "      <td>unfurnished</td>\n",
       "      <td>3.134694</td>\n",
       "      <td>-0.969168</td>\n",
       "      <td>-0.906865</td>\n",
       "    </tr>\n",
       "  </tbody>\n",
       "</table>\n",
       "</div>"
      ],
      "text/plain": [
       "      price   area  bedrooms  bathrooms  stories mainroad guestroom basement  \\\n",
       "0  13300000   7420         4          2        3      yes        no       no   \n",
       "1  12250000   8960         4          4        4      yes        no       no   \n",
       "2  12250000   9960         3          2        2      yes        no      yes   \n",
       "3  12215000   7500         4          2        2      yes        no      yes   \n",
       "4  11410000   7420         4          1        2      yes       yes      yes   \n",
       "5  10850000   7500         3          3        1      yes        no      yes   \n",
       "6  10150000   8580         4          3        4      yes        no       no   \n",
       "7  10150000  16200         5          3        2      yes        no       no   \n",
       "8   9870000   8100         4          1        2      yes       yes      yes   \n",
       "9   9800000   5750         3          2        4      yes       yes       no   \n",
       "\n",
       "  hotwaterheating airconditioning  parking prefarea furnishingstatus  \\\n",
       "0              no             yes        2      yes        furnished   \n",
       "1              no             yes        3       no        furnished   \n",
       "2              no              no        2      yes   semi-furnished   \n",
       "3              no             yes        3      yes        furnished   \n",
       "4              no             yes        2       no        furnished   \n",
       "5              no             yes        2      yes   semi-furnished   \n",
       "6              no             yes        2      yes   semi-furnished   \n",
       "7              no              no        0       no      unfurnished   \n",
       "8              no             yes        2      yes        furnished   \n",
       "9              no             yes        1      yes      unfurnished   \n",
       "\n",
       "        PC1       PC2       PC3  \n",
       "0  5.038270  0.380274 -0.252675  \n",
       "1  7.486607 -0.137326  0.159924  \n",
       "2  4.176727  1.982039 -1.019401  \n",
       "3  4.681767  1.517563  0.848515  \n",
       "4  3.219831  1.262840  0.158075  \n",
       "5  3.789790  1.453218 -0.097651  \n",
       "6  5.557213 -0.570796 -0.218822  \n",
       "7  5.709113  0.572798 -2.908132  \n",
       "8  2.891180  1.326996  0.193667  \n",
       "9  3.134694 -0.969168 -0.906865  "
      ]
     },
     "execution_count": 63,
     "metadata": {},
     "output_type": "execute_result"
    }
   ],
   "source": [
    "df3.head(10)"
   ]
  },
  {
   "cell_type": "markdown",
   "id": "b520969c",
   "metadata": {},
   "source": [
    "## Visualizar Resultados"
   ]
  },
  {
   "cell_type": "code",
   "execution_count": 66,
   "id": "fa0294ce",
   "metadata": {},
   "outputs": [
    {
     "name": "stdout",
     "output_type": "stream",
     "text": [
      "Autovetores:\n",
      " [2.58560656 1.2219237 ] \n",
      "\n",
      "Autovalores:\n",
      " [[ 0.53864559  0.36744362  0.38781515  0.42850626  0.3640786   0.31226058\n",
      "   0.06214489  0.01880256 -0.08094745]\n",
      " [ 0.11720714  0.51253129 -0.38564283 -0.21601365 -0.49471778  0.52992314\n",
      "   0.03276993  0.00616336 -0.03893329]]\n"
     ]
    }
   ],
   "source": [
    "# Autovalores\n",
    "autovalores2 = modelo_pca2.components_  \n",
    "\n",
    "# Autovetores\n",
    "autovetores2 = modelo_pca2.explained_variance_\n",
    "print(\"Autovetores:\\n\", autovetores2, \"\\n\")\n",
    "print(\"Autovalores:\\n\", autovalores2)"
   ]
  },
  {
   "cell_type": "code",
   "execution_count": 67,
   "id": "9b6450b2",
   "metadata": {},
   "outputs": [
    {
     "name": "stdout",
     "output_type": "stream",
     "text": [
      "Autovetores:\n",
      " [2.58560656 1.2219237  0.67946278] \n",
      "\n",
      "Autovalores:\n",
      " [[ 0.53864559  0.36744362  0.38781515  0.42850626  0.3640786   0.31226058\n",
      "   0.06214489  0.01880256 -0.08094745]\n",
      " [ 0.11720714  0.51253129 -0.38564283 -0.21601365 -0.49471778  0.52992314\n",
      "   0.03276993  0.00616336 -0.03893329]\n",
      " [-0.24072454 -0.51903833  0.38851313 -0.00371076 -0.13857846  0.70643845\n",
      "  -0.02522444  0.04783299 -0.02260856]]\n"
     ]
    }
   ],
   "source": [
    "# Autovalores\n",
    "autovalores3 = modelo_pca3.components_  \n",
    "\n",
    "# Autovetores\n",
    "autovetores3 = modelo_pca3.explained_variance_\n",
    "print(\"Autovetores:\\n\", autovetores3, \"\\n\")\n",
    "print(\"Autovalores:\\n\", autovalores3)"
   ]
  },
  {
   "cell_type": "code",
   "execution_count": 68,
   "id": "6406f41b",
   "metadata": {},
   "outputs": [
    {
     "data": {
      "application/vnd.plotly.v1+json": {
       "config": {
        "plotlyServerURL": "https://plot.ly"
       },
       "data": [
        {
         "customdata": [
          [
           13300000
          ],
          [
           12250000
          ],
          [
           12250000
          ],
          [
           12215000
          ],
          [
           11410000
          ],
          [
           10850000
          ],
          [
           10150000
          ],
          [
           10150000
          ],
          [
           9870000
          ],
          [
           9800000
          ],
          [
           9800000
          ],
          [
           9681000
          ],
          [
           9310000
          ],
          [
           9240000
          ],
          [
           9240000
          ],
          [
           9100000
          ],
          [
           9100000
          ],
          [
           8960000
          ],
          [
           8890000
          ],
          [
           8855000
          ],
          [
           8750000
          ],
          [
           8680000
          ],
          [
           8645000
          ],
          [
           8645000
          ],
          [
           8575000
          ],
          [
           8540000
          ],
          [
           8463000
          ],
          [
           8400000
          ],
          [
           8400000
          ],
          [
           8400000
          ],
          [
           8400000
          ],
          [
           8400000
          ],
          [
           8295000
          ],
          [
           8190000
          ],
          [
           8120000
          ],
          [
           8080940
          ],
          [
           8043000
          ],
          [
           7980000
          ],
          [
           7962500
          ],
          [
           7910000
          ],
          [
           7875000
          ],
          [
           7840000
          ],
          [
           7700000
          ],
          [
           7700000
          ],
          [
           7560000
          ],
          [
           7560000
          ],
          [
           7525000
          ],
          [
           7490000
          ],
          [
           7455000
          ],
          [
           7420000
          ],
          [
           7420000
          ],
          [
           7420000
          ],
          [
           7350000
          ],
          [
           7350000
          ],
          [
           7350000
          ],
          [
           7350000
          ],
          [
           7343000
          ],
          [
           7245000
          ],
          [
           7210000
          ],
          [
           7210000
          ],
          [
           7140000
          ],
          [
           7070000
          ],
          [
           7070000
          ],
          [
           7035000
          ],
          [
           7000000
          ],
          [
           6930000
          ],
          [
           6930000
          ],
          [
           6895000
          ],
          [
           6860000
          ],
          [
           6790000
          ],
          [
           6790000
          ],
          [
           6755000
          ],
          [
           6720000
          ],
          [
           6685000
          ],
          [
           6650000
          ],
          [
           6650000
          ],
          [
           6650000
          ],
          [
           6650000
          ],
          [
           6650000
          ],
          [
           6650000
          ],
          [
           6629000
          ],
          [
           6615000
          ],
          [
           6615000
          ],
          [
           6580000
          ],
          [
           6510000
          ],
          [
           6510000
          ],
          [
           6510000
          ],
          [
           6475000
          ],
          [
           6475000
          ],
          [
           6440000
          ],
          [
           6440000
          ],
          [
           6419000
          ],
          [
           6405000
          ],
          [
           6300000
          ],
          [
           6300000
          ],
          [
           6300000
          ],
          [
           6300000
          ],
          [
           6300000
          ],
          [
           6293000
          ],
          [
           6265000
          ],
          [
           6230000
          ],
          [
           6230000
          ],
          [
           6195000
          ],
          [
           6195000
          ],
          [
           6195000
          ],
          [
           6160000
          ],
          [
           6160000
          ],
          [
           6125000
          ],
          [
           6107500
          ],
          [
           6090000
          ],
          [
           6090000
          ],
          [
           6090000
          ],
          [
           6083000
          ],
          [
           6083000
          ],
          [
           6020000
          ],
          [
           6020000
          ],
          [
           6020000
          ],
          [
           5950000
          ],
          [
           5950000
          ],
          [
           5950000
          ],
          [
           5950000
          ],
          [
           5950000
          ],
          [
           5950000
          ],
          [
           5950000
          ],
          [
           5950000
          ],
          [
           5943000
          ],
          [
           5880000
          ],
          [
           5880000
          ],
          [
           5873000
          ],
          [
           5873000
          ],
          [
           5866000
          ],
          [
           5810000
          ],
          [
           5810000
          ],
          [
           5810000
          ],
          [
           5803000
          ],
          [
           5775000
          ],
          [
           5740000
          ],
          [
           5740000
          ],
          [
           5740000
          ],
          [
           5740000
          ],
          [
           5740000
          ],
          [
           5652500
          ],
          [
           5600000
          ],
          [
           5600000
          ],
          [
           5600000
          ],
          [
           5600000
          ],
          [
           5600000
          ],
          [
           5600000
          ],
          [
           5600000
          ],
          [
           5600000
          ],
          [
           5600000
          ],
          [
           5565000
          ],
          [
           5565000
          ],
          [
           5530000
          ],
          [
           5530000
          ],
          [
           5530000
          ],
          [
           5523000
          ],
          [
           5495000
          ],
          [
           5495000
          ],
          [
           5460000
          ],
          [
           5460000
          ],
          [
           5460000
          ],
          [
           5460000
          ],
          [
           5425000
          ],
          [
           5390000
          ],
          [
           5383000
          ],
          [
           5320000
          ],
          [
           5285000
          ],
          [
           5250000
          ],
          [
           5250000
          ],
          [
           5250000
          ],
          [
           5250000
          ],
          [
           5250000
          ],
          [
           5250000
          ],
          [
           5250000
          ],
          [
           5250000
          ],
          [
           5250000
          ],
          [
           5243000
          ],
          [
           5229000
          ],
          [
           5215000
          ],
          [
           5215000
          ],
          [
           5215000
          ],
          [
           5145000
          ],
          [
           5145000
          ],
          [
           5110000
          ],
          [
           5110000
          ],
          [
           5110000
          ],
          [
           5110000
          ],
          [
           5075000
          ],
          [
           5040000
          ],
          [
           5040000
          ],
          [
           5040000
          ],
          [
           5040000
          ],
          [
           5033000
          ],
          [
           5005000
          ],
          [
           4970000
          ],
          [
           4970000
          ],
          [
           4956000
          ],
          [
           4935000
          ],
          [
           4907000
          ],
          [
           4900000
          ],
          [
           4900000
          ],
          [
           4900000
          ],
          [
           4900000
          ],
          [
           4900000
          ],
          [
           4900000
          ],
          [
           4900000
          ],
          [
           4900000
          ],
          [
           4900000
          ],
          [
           4900000
          ],
          [
           4900000
          ],
          [
           4900000
          ],
          [
           4893000
          ],
          [
           4893000
          ],
          [
           4865000
          ],
          [
           4830000
          ],
          [
           4830000
          ],
          [
           4830000
          ],
          [
           4830000
          ],
          [
           4795000
          ],
          [
           4795000
          ],
          [
           4767000
          ],
          [
           4760000
          ],
          [
           4760000
          ],
          [
           4760000
          ],
          [
           4753000
          ],
          [
           4690000
          ],
          [
           4690000
          ],
          [
           4690000
          ],
          [
           4690000
          ],
          [
           4690000
          ],
          [
           4690000
          ],
          [
           4655000
          ],
          [
           4620000
          ],
          [
           4620000
          ],
          [
           4620000
          ],
          [
           4620000
          ],
          [
           4620000
          ],
          [
           4613000
          ],
          [
           4585000
          ],
          [
           4585000
          ],
          [
           4550000
          ],
          [
           4550000
          ],
          [
           4550000
          ],
          [
           4550000
          ],
          [
           4550000
          ],
          [
           4550000
          ],
          [
           4550000
          ],
          [
           4543000
          ],
          [
           4543000
          ],
          [
           4515000
          ],
          [
           4515000
          ],
          [
           4515000
          ],
          [
           4515000
          ],
          [
           4480000
          ],
          [
           4480000
          ],
          [
           4480000
          ],
          [
           4480000
          ],
          [
           4480000
          ],
          [
           4473000
          ],
          [
           4473000
          ],
          [
           4473000
          ],
          [
           4445000
          ],
          [
           4410000
          ],
          [
           4410000
          ],
          [
           4403000
          ],
          [
           4403000
          ],
          [
           4403000
          ],
          [
           4382000
          ],
          [
           4375000
          ],
          [
           4340000
          ],
          [
           4340000
          ],
          [
           4340000
          ],
          [
           4340000
          ],
          [
           4340000
          ],
          [
           4319000
          ],
          [
           4305000
          ],
          [
           4305000
          ],
          [
           4277000
          ],
          [
           4270000
          ],
          [
           4270000
          ],
          [
           4270000
          ],
          [
           4270000
          ],
          [
           4270000
          ],
          [
           4270000
          ],
          [
           4235000
          ],
          [
           4235000
          ],
          [
           4200000
          ],
          [
           4200000
          ],
          [
           4200000
          ],
          [
           4200000
          ],
          [
           4200000
          ],
          [
           4200000
          ],
          [
           4200000
          ],
          [
           4200000
          ],
          [
           4200000
          ],
          [
           4200000
          ],
          [
           4200000
          ],
          [
           4200000
          ],
          [
           4200000
          ],
          [
           4200000
          ],
          [
           4200000
          ],
          [
           4200000
          ],
          [
           4200000
          ],
          [
           4193000
          ],
          [
           4193000
          ],
          [
           4165000
          ],
          [
           4165000
          ],
          [
           4165000
          ],
          [
           4130000
          ],
          [
           4130000
          ],
          [
           4123000
          ],
          [
           4098500
          ],
          [
           4095000
          ],
          [
           4095000
          ],
          [
           4095000
          ],
          [
           4060000
          ],
          [
           4060000
          ],
          [
           4060000
          ],
          [
           4060000
          ],
          [
           4060000
          ],
          [
           4025000
          ],
          [
           4025000
          ],
          [
           4025000
          ],
          [
           4007500
          ],
          [
           4007500
          ],
          [
           3990000
          ],
          [
           3990000
          ],
          [
           3990000
          ],
          [
           3990000
          ],
          [
           3990000
          ],
          [
           3920000
          ],
          [
           3920000
          ],
          [
           3920000
          ],
          [
           3920000
          ],
          [
           3920000
          ],
          [
           3920000
          ],
          [
           3920000
          ],
          [
           3885000
          ],
          [
           3885000
          ],
          [
           3850000
          ],
          [
           3850000
          ],
          [
           3850000
          ],
          [
           3850000
          ],
          [
           3850000
          ],
          [
           3850000
          ],
          [
           3850000
          ],
          [
           3836000
          ],
          [
           3815000
          ],
          [
           3780000
          ],
          [
           3780000
          ],
          [
           3780000
          ],
          [
           3780000
          ],
          [
           3780000
          ],
          [
           3780000
          ],
          [
           3773000
          ],
          [
           3773000
          ],
          [
           3773000
          ],
          [
           3745000
          ],
          [
           3710000
          ],
          [
           3710000
          ],
          [
           3710000
          ],
          [
           3710000
          ],
          [
           3710000
          ],
          [
           3703000
          ],
          [
           3703000
          ],
          [
           3675000
          ],
          [
           3675000
          ],
          [
           3675000
          ],
          [
           3675000
          ],
          [
           3640000
          ],
          [
           3640000
          ],
          [
           3640000
          ],
          [
           3640000
          ],
          [
           3640000
          ],
          [
           3640000
          ],
          [
           3640000
          ],
          [
           3640000
          ],
          [
           3640000
          ],
          [
           3633000
          ],
          [
           3605000
          ],
          [
           3605000
          ],
          [
           3570000
          ],
          [
           3570000
          ],
          [
           3570000
          ],
          [
           3570000
          ],
          [
           3535000
          ],
          [
           3500000
          ],
          [
           3500000
          ],
          [
           3500000
          ],
          [
           3500000
          ],
          [
           3500000
          ],
          [
           3500000
          ],
          [
           3500000
          ],
          [
           3500000
          ],
          [
           3500000
          ],
          [
           3500000
          ],
          [
           3500000
          ],
          [
           3500000
          ],
          [
           3500000
          ],
          [
           3500000
          ],
          [
           3500000
          ],
          [
           3500000
          ],
          [
           3500000
          ],
          [
           3493000
          ],
          [
           3465000
          ],
          [
           3465000
          ],
          [
           3465000
          ],
          [
           3430000
          ],
          [
           3430000
          ],
          [
           3430000
          ],
          [
           3430000
          ],
          [
           3430000
          ],
          [
           3430000
          ],
          [
           3423000
          ],
          [
           3395000
          ],
          [
           3395000
          ],
          [
           3395000
          ],
          [
           3360000
          ],
          [
           3360000
          ],
          [
           3360000
          ],
          [
           3360000
          ],
          [
           3360000
          ],
          [
           3360000
          ],
          [
           3360000
          ],
          [
           3360000
          ],
          [
           3353000
          ],
          [
           3332000
          ],
          [
           3325000
          ],
          [
           3325000
          ],
          [
           3290000
          ],
          [
           3290000
          ],
          [
           3290000
          ],
          [
           3290000
          ],
          [
           3290000
          ],
          [
           3290000
          ],
          [
           3290000
          ],
          [
           3290000
          ],
          [
           3255000
          ],
          [
           3255000
          ],
          [
           3234000
          ],
          [
           3220000
          ],
          [
           3220000
          ],
          [
           3220000
          ],
          [
           3220000
          ],
          [
           3150000
          ],
          [
           3150000
          ],
          [
           3150000
          ],
          [
           3150000
          ],
          [
           3150000
          ],
          [
           3150000
          ],
          [
           3150000
          ],
          [
           3150000
          ],
          [
           3150000
          ],
          [
           3143000
          ],
          [
           3129000
          ],
          [
           3118850
          ],
          [
           3115000
          ],
          [
           3115000
          ],
          [
           3115000
          ],
          [
           3087000
          ],
          [
           3080000
          ],
          [
           3080000
          ],
          [
           3080000
          ],
          [
           3080000
          ],
          [
           3045000
          ],
          [
           3010000
          ],
          [
           3010000
          ],
          [
           3010000
          ],
          [
           3010000
          ],
          [
           3010000
          ],
          [
           3010000
          ],
          [
           3010000
          ],
          [
           3003000
          ],
          [
           2975000
          ],
          [
           2961000
          ],
          [
           2940000
          ],
          [
           2940000
          ],
          [
           2940000
          ],
          [
           2940000
          ],
          [
           2940000
          ],
          [
           2940000
          ],
          [
           2940000
          ],
          [
           2940000
          ],
          [
           2870000
          ],
          [
           2870000
          ],
          [
           2870000
          ],
          [
           2870000
          ],
          [
           2852500
          ],
          [
           2835000
          ],
          [
           2835000
          ],
          [
           2835000
          ],
          [
           2800000
          ],
          [
           2800000
          ],
          [
           2730000
          ],
          [
           2730000
          ],
          [
           2695000
          ],
          [
           2660000
          ],
          [
           2660000
          ],
          [
           2660000
          ],
          [
           2660000
          ],
          [
           2660000
          ],
          [
           2660000
          ],
          [
           2660000
          ],
          [
           2653000
          ],
          [
           2653000
          ],
          [
           2604000
          ],
          [
           2590000
          ],
          [
           2590000
          ],
          [
           2590000
          ],
          [
           2520000
          ],
          [
           2520000
          ],
          [
           2520000
          ],
          [
           2485000
          ],
          [
           2485000
          ],
          [
           2450000
          ],
          [
           2450000
          ],
          [
           2450000
          ],
          [
           2450000
          ],
          [
           2450000
          ],
          [
           2450000
          ],
          [
           2408000
          ],
          [
           2380000
          ],
          [
           2380000
          ],
          [
           2380000
          ],
          [
           2345000
          ],
          [
           2310000
          ],
          [
           2275000
          ],
          [
           2275000
          ],
          [
           2275000
          ],
          [
           2240000
          ],
          [
           2233000
          ],
          [
           2135000
          ],
          [
           2100000
          ],
          [
           2100000
          ],
          [
           2100000
          ],
          [
           1960000
          ],
          [
           1890000
          ],
          [
           1890000
          ],
          [
           1855000
          ],
          [
           1820000
          ],
          [
           1767150
          ],
          [
           1750000
          ],
          [
           1750000
          ],
          [
           1750000
          ]
         ],
         "hovertemplate": "PC1=%{x}<br>PC2=%{y}<br>price=%{customdata[0]}<extra></extra>",
         "legendgroup": "",
         "marker": {
          "color": "#636efa",
          "symbol": "circle"
         },
         "mode": "markers",
         "name": "",
         "orientation": "v",
         "showlegend": false,
         "type": "scatter",
         "x": [
          5.0382701065598035,
          7.486606715778343,
          4.176727057874454,
          4.681766735160095,
          3.2198313666336777,
          3.7897902255613616,
          5.557212780679283,
          5.7091126938075485,
          2.891179623224013,
          3.134693890300787,
          3.209384968832938,
          4.144632876276475,
          2.9145630577939188,
          2.783592891249699,
          2.217537412990739,
          2.2699963093372153,
          2.762755762331681,
          3.8644726624963917,
          2.343196673636019,
          2.2354490736659844,
          1.3584640222793218,
          2.1525015700924204,
          1.2208419455772608,
          1.903039915273631,
          2.964188549602192,
          3.0970222010178414,
          2.5286734732620726,
          1.2466957290251937,
          3.678465433611296,
          2.474315182305472,
          3.3862542017636517,
          2.5519205482997953,
          2.3823185244901213,
          2.7196437392206456,
          2.336392183657328,
          3.3568799813468337,
          2.6447955013731526,
          4.192663624065575,
          2.1565909765239635,
          3.2579657135851607,
          0.8020029900016269,
          2.4534510680685395,
          3.0158583172125857,
          3.5601931362466495,
          3.200423121802606,
          1.8483140128865818,
          2.6644025876749335,
          2.6279310940149987,
          1.3728757495643982,
          1.211849029003404,
          2.7350864728597175,
          1.6925398271962078,
          3.139892168210343,
          2.789323776396921,
          1.730465075619311,
          0.7771312657685916,
          2.3227309514969687,
          3.6180469102389017,
          3.340911190819444,
          2.5736061572865396,
          1.6699341220270483,
          0.3382483481099415,
          2.259705127735781,
          3.052788180405903,
          1.2762872037135875,
          2.140828909377705,
          1.0733618250272043,
          1.7303514709780043,
          0.3589083571794876,
          3.5331749925746614,
          0.8673440105697307,
          2.462537080390242,
          0.9068488104461726,
          1.6352723989547735,
          0.38628588721718726,
          1.3969851690019897,
          1.7005343754934499,
          1.7140922479954415,
          0.6102937579585076,
          1.6293555448579935,
          0.6690583372855415,
          1.1796599254965972,
          1.9045030372258833,
          1.985912589384782,
          0.6178954097812426,
          1.9703167399150023,
          0.7058726172787291,
          0.22162523884208427,
          0.7065584783067589,
          4.216954253425296,
          0.0823486965238563,
          0.1957247437333653,
          1.7754443713992374,
          1.936618787766616,
          2.793895069377811,
          1.8886455719182047,
          0.7059126997581436,
          0.22193951257219474,
          1.4850446244611473,
          1.0476380310792033,
          0.6267326185259481,
          0.7896391700678348,
          2.1529608475819364,
          1.557520837604304,
          1.2988324749206253,
          0.6573067629371919,
          1.037343270825077,
          0.5525308507908564,
          0.997001603003762,
          1.9974375407870901,
          0.5580616164886633,
          1.5987712000815821,
          2.3355369451496832,
          1.1111959358569934,
          0.08918960222181065,
          0.7751474007427642,
          0.6170436868161545,
          0.2900687493847224,
          -0.19497198733861357,
          0.5888864780626114,
          0.5508815739218782,
          0.319204974207871,
          1.4758273121315828,
          1.7571462777668485,
          2.299393974027283,
          2.040950605448151,
          0.4926857582266232,
          1.3490530751022078,
          0.8298288920159245,
          2.1593064387968446,
          -0.6368236299957879,
          1.4071645778624977,
          0.3547268769308073,
          0.18718750223712913,
          0.5431253424225293,
          1.6541272550973884,
          1.953650793579351,
          0.7082588430733971,
          0.3006552111450736,
          0.45984540720013356,
          1.6101440815770323,
          1.8789576907522458,
          2.5146028324497824,
          2.0321044300364552,
          0.7214156092595998,
          0.7237199328835426,
          0.18907859112943395,
          1.1413037592130049,
          0.49078507461742454,
          1.0708218117951738,
          -0.23647674677552877,
          0.9799011404942883,
          0.9931321669951932,
          1.2391107022907246,
          1.1703593493274433,
          1.208835165643397,
          -0.28004668883548145,
          1.2256155061148368,
          0.6204305486366094,
          -0.036805119905806594,
          1.4143608272769534,
          0.40636801992444294,
          1.4505442026624256,
          -0.3210049726491547,
          1.3291779580845844,
          0.35717009476258665,
          0.4397328619965225,
          0.31473123763989996,
          0.1832040115911216,
          1.3798448446936686,
          0.25758410037672086,
          0.5749773534884561,
          0.9413162811594668,
          0.649871448800317,
          -0.20101976395881063,
          2.6578449016573362,
          0.6846690730386306,
          -0.5048070222921608,
          0.3920793088037104,
          0.9999104179898473,
          1.329470996206245,
          0.5081936681653981,
          -0.5603882332721842,
          0.15678724972908573,
          0.2569653064279478,
          -0.7397108342939883,
          0.3027208136705355,
          -0.5346696225868492,
          -0.814763703353941,
          -1.5146305690436346,
          1.414230987464518,
          0.6448074216756822,
          -0.4267675731089379,
          -1.3031117755903396,
          0.6360691811475573,
          2.517259101379625,
          -0.3062387692963713,
          0.4980973045878437,
          -0.19079568173875897,
          -0.0890052825946112,
          -0.4428921981646887,
          -0.5149183958315199,
          -1.0939315862119505,
          0.2321764412195153,
          -0.8206002065247249,
          0.1642108575833712,
          -1.1719746399238762,
          -0.7004917757025318,
          -0.28549961796201845,
          -0.5898770764723954,
          0.30397820353345223,
          1.3260776698689072,
          1.4737019485166483,
          0.5950294509633459,
          -1.527549583471573,
          -0.203753261209365,
          0.09997078742114376,
          0.7026966181790865,
          -1.3590829296354034,
          -0.15261363958279556,
          2.2251586337306297,
          0.7118666238537864,
          0.08363562904342207,
          0.228076144599861,
          0.16590005519894163,
          -0.017608198661270273,
          0.4468872821792519,
          -0.7925102051361904,
          0.07126226916589413,
          2.1111306861229893,
          -0.8802185960973374,
          -0.9573941929406913,
          -0.6015112030141565,
          -1.1044369346591485,
          0.9470374338708635,
          0.03574739124492634,
          -1.3291632985035802,
          -0.44055816721300645,
          0.8522032707257643,
          -0.2157140926910603,
          -0.286172168566261,
          -0.36713651700863836,
          -0.649571387469152,
          -0.83429740030879,
          -0.4081983957985428,
          0.22434728077623756,
          -1.1333268870221174,
          2.468389573825491,
          -0.7093982540310482,
          0.9567158520781773,
          -0.3049573934927228,
          -0.37244378154422497,
          -0.06895398350464862,
          -1.2059287303498119,
          0.6857999549578354,
          -1.015622943505003,
          0.11677880676656022,
          -0.3085523290013925,
          -0.2825429641074131,
          -0.7940484309225659,
          -0.3900159823986307,
          -0.737139944139936,
          -1.6505455222373175,
          -0.6776804101437118,
          -1.0456632373578032,
          -0.864085174623875,
          -0.3194479816790573,
          -0.1556010495693336,
          0.0066037228682299725,
          -0.7990431062195015,
          1.0720633221845082,
          0.004383051905011493,
          -0.3742833476243086,
          0.517620176429898,
          0.24870764156212263,
          -1.5957302629519374,
          -1.2179834009663915,
          -0.20792189956800616,
          -0.08676082300878245,
          -1.2153200623155056,
          -0.9383360454416815,
          -0.8050238454793095,
          -1.1216502088398297,
          -0.08232643121194884,
          -0.6136041832141488,
          -0.27359519584132436,
          -1.3050049933387942,
          -0.5783281175065523,
          -0.6562858843930047,
          -0.6397540624101703,
          1.2647433877390093,
          -1.0099768832887144,
          0.4343774467316706,
          -1.346304155883493,
          0.6467276247941166,
          -1.0166561702456303,
          0.5852380029505114,
          -0.03996485551086075,
          -0.12229569086162029,
          0.48717310379322515,
          -0.2993234557107009,
          -0.8141354497471286,
          -0.3640766593763188,
          -1.0247855406552726,
          0.6536548323125535,
          -0.46525791038569486,
          -0.23776066947588997,
          -0.0038020819910594625,
          -0.37232255405815795,
          -0.1199259646379027,
          -0.8366368477390225,
          -0.9891177063300234,
          -1.2065682338722736,
          0.03629861612772314,
          -0.9194484208888565,
          -1.4379046432825302,
          1.1913814917249446,
          0.8743259732187949,
          -1.135597585591982,
          0.7289095642269758,
          0.04994838959000141,
          0.7331647137907278,
          -0.035138170587299664,
          0.12223086155528734,
          -0.7035382190573037,
          -0.3538585197209018,
          -0.770266157950136,
          -0.010266744511944892,
          0.1450013324770071,
          -0.7567557737072199,
          -1.4105275520597103,
          1.304112048968681,
          -0.03335400158355512,
          -0.982969559133092,
          -1.4737299659794583,
          -1.0218285780251104,
          0.18339573732212738,
          -0.26817985408131406,
          -1.3868008363663438,
          0.46030533213152375,
          1.292090172160006,
          -0.33954918215091673,
          -0.2561506299392576,
          -1.7661236666780131,
          -1.8051025501212399,
          -1.1700778488446193,
          -1.6687246722966556,
          -1.0476162605575028,
          -1.0802386291120447,
          -0.7148819287742882,
          -1.1153183631676868,
          -1.867647886220718,
          -0.863955449903913,
          -0.5843090078982082,
          -0.6480748289762437,
          0.213176879745493,
          0.7847837669281716,
          0.5727220089999324,
          -1.8980731872390828,
          -1.0988844648191447,
          -1.8132565719905176,
          -0.9517671857039268,
          -1.7682195070565516,
          -1.8905364452518703,
          -1.0251814024254429,
          -1.5329744367247717,
          -1.8494868299573857,
          -1.9925791730123217,
          -1.5521876142160596,
          -1.8545710321456323,
          -1.067243186507793,
          -0.9670776556794178,
          -1.033172284126628,
          -1.5462672082471867,
          -1.0679759301172183,
          -0.6617862268661339,
          0.7069280020090278,
          -0.33526472271406366,
          -0.7664693568766493,
          -0.7718786440512143,
          -1.7655642819001967,
          -1.8503009850376446,
          -1.0150911399744118,
          1.3187305505334974,
          -1.7323104432943564,
          -2.0211499157457045,
          -0.7442001983235543,
          -0.8938844425367457,
          -1.093623764422654,
          -0.30694197441548804,
          -0.4967921772621234,
          -1.0979304236917216,
          -0.9362527941054699,
          -0.8741074890699542,
          -1.5425106034181475,
          0.8384570671042376,
          -1.578818511838987,
          -1.152466282786503,
          -0.8206862934945975,
          -0.9500721745591197,
          -1.700261120025893,
          0.986070791046748,
          -1.6617064702206894,
          0.061385713567476415,
          -0.8837997050321086,
          -1.623777926318981,
          -1.4039416937462568,
          -0.7956010301480545,
          -2.0004934585482497,
          -1.413097532154787,
          -1.4999824276271896,
          -0.8056895224134316,
          -1.2900530914793011,
          -0.5483217419537338,
          -1.9957322207503296,
          -0.4256862057880893,
          -0.8523435298950217,
          -1.9285000340176535,
          0.09205004994440132,
          0.13379084271072653,
          -1.5802572743972563,
          -1.8935653883728312,
          -2.0681229968359753,
          -1.5371067527854334,
          -1.1274380947516365,
          -1.2901821736306047,
          -1.5739791847722138,
          -1.2540136606852483,
          -1.6612216228396335,
          -0.42747660182798636,
          -2.2950575370221045,
          -0.707875177101824,
          -1.0227078257662396,
          -0.1945247667818834,
          -0.5044074402778674,
          -2.034068491358763,
          -1.2661198514037004,
          -0.8335470056969058,
          -1.866449204553968,
          -2.0627990583143783,
          -0.6460589978399747,
          -1.0523108500277456,
          -1.9212930385445248,
          -1.1181025040164987,
          -1.1210602648164303,
          -2.5572514689298185,
          -0.8672318504383641,
          -2.066188087624996,
          -1.2398346583839284,
          -1.53345549962622,
          -1.1286533561476855,
          -1.5153995172315808,
          0.5374408011854955,
          -1.8762227616594438,
          -1.0524739901958386,
          -1.307959707787228,
          -1.7359944975938235,
          -1.734831253349246,
          -1.1707024980868237,
          -2.176026592074093,
          -1.041761340768117,
          -1.93868391117812,
          -1.3674510347730573,
          -2.255599180912178,
          -1.134056929698341,
          -2.1453615547223785,
          -1.2300177514681574,
          -0.4790799880194187,
          -2.219241871859311,
          -1.8767789789129012,
          -1.4132699387186918,
          -1.2179153155104443,
          0.4757050585438378,
          -1.437205768772519,
          -0.23729039908228716,
          -1.7853262890667208,
          -0.5194397706101638,
          -1.9790378802396287,
          -0.9007549347286815,
          -0.727412864743645,
          -0.82134173129795,
          -2.2189554353659595,
          -1.3397763438061374,
          -0.6528009788799003,
          -2.3246038048181856,
          -2.224614495115996,
          -1.7232125100607714,
          -0.4527061223560787,
          -0.0715686898149863,
          -0.8821124212235627,
          -0.8039153568186402,
          -1.8966309402848325,
          -1.102108639751342,
          -1.5198408706588027,
          -1.7277377662860816,
          -0.8934965258109857,
          -2.2123517961211703,
          -2.2336255332006902,
          -2.041560728823861,
          0.3680305484167952,
          -1.899876334054129,
          -1.9625814943758402,
          -1.848058071212022,
          -1.5967582343405327,
          -2.362578812953664,
          -1.2784495850485675,
          -2.4233078888507875,
          -2.310406635427261,
          -2.1748279104073434,
          -0.5308957585228116,
          -1.9266724306136453,
          -1.8758304087311761,
          -1.869098960739256,
          -1.259084985412419,
          -1.3965977420135556,
          -1.4708468311449234,
          -2.0490126544939797,
          -2.089686271999955,
          -2.3677079451162593,
          -1.7205372207791363,
          -1.6559196387616917,
          -2.3569352259876,
          -1.4724944262327904,
          -0.04010288394572786,
          -2.4278806535278883,
          -2.374247145033905,
          -2.4622934041857345,
          -2.6004041423008535,
          -2.8644299473562373,
          -1.3924895037028875,
          -2.1649906365723166,
          -1.5992724240044878,
          -2.543241078642102,
          -1.7090052128813615,
          -1.081389127254128,
          -2.129560768394764,
          -0.5246322238178854,
          -1.8881675508660514,
          -2.5038722838273335,
          -2.2628853745741155,
          -1.9085207565229914,
          -2.125273122070139,
          -2.549140981670814,
          -2.000442715208759,
          -1.5641536964365323
         ],
         "xaxis": "x",
         "y": [
          0.3802738393582896,
          -0.13732605412753188,
          1.9820391423828347,
          1.5175628274693638,
          1.2628397776153393,
          1.453218141165725,
          -0.5707960051687865,
          0.572798058522062,
          1.326996267646508,
          -0.9691675088172582,
          3.051186808289736,
          -0.06848361077573814,
          -0.14705955543273394,
          -0.230215796757429,
          0.05140438037343117,
          0.7556735215022845,
          -0.19350794268853463,
          0.3155468617701446,
          0.5308483895281512,
          0.3166578603377548,
          0.859570291543813,
          1.620762017804492,
          1.716518312657723,
          -0.10959441826968999,
          1.5039343060999868,
          0.44450900361551265,
          -1.5644509650136078,
          1.869567938014473,
          0.17435038116533005,
          -0.45234588187335756,
          -0.0335807457819529,
          0.32952896233802825,
          -0.5788874783964878,
          -0.3091866803419634,
          -0.2192241044455106,
          -0.0941749144886689,
          -0.027425905790728268,
          -0.15070967511445682,
          0.020600957395742966,
          -1.506500796503984,
          0.12720744253903588,
          -1.4918184220893387,
          -0.31269426359057534,
          -0.90405144081913,
          -1.5018463865700948,
          -1.0502787978080117,
          -0.9810555303971571,
          0.8201241068523866,
          -0.31739667578003405,
          0.42296107624809537,
          -0.718941130299641,
          -0.5522184127105881,
          -1.515017681571369,
          -0.6039500105320752,
          0.12297929358791662,
          0.5081815010447143,
          1.3158209296295886,
          -0.812429858305044,
          -1.1532679695453987,
          -1.0008124728990682,
          0.1098079985866428,
          2.3103177641308323,
          -0.33422805915622955,
          -0.26324442118404223,
          2.3520655338633296,
          0.8040498037909979,
          3.349353266970421,
          1.6376391908163286,
          1.1199604334561377,
          1.6467191328571091,
          -1.0005471242795836,
          -2.239660219797763,
          -1.5202338398512583,
          -0.9845405949285055,
          0.07265373517604128,
          -1.4708523588204465,
          -0.9814635553034782,
          -0.9625522627496927,
          1.6514924420642958,
          -1.0807478412108529,
          0.5080567049743163,
          -0.39590255276118325,
          1.7380552712143205,
          -1.6825535768583642,
          0.5866974303203913,
          -0.5576486014698139,
          -0.5725509902196289,
          1.2025891815823837,
          1.9730420228637475,
          -0.15825091583961634,
          -0.35580926813527897,
          2.408200804337815,
          -1.950592476063531,
          2.1428422439716623,
          -1.6074807248470846,
          -0.34720846459580784,
          1.794010450886369,
          1.1527868746189893,
          -1.0330075669296148,
          -1.2692856481988872,
          0.10465851599215094,
          -0.2510697198009809,
          -1.2092758788023983,
          -1.0265487421241342,
          1.1453775472862973,
          -1.6782806947875952,
          -0.6494711680414502,
          -0.655796153619211,
          -1.2708864117686758,
          -0.33365398691898346,
          1.8025144616883073,
          1.0346854702318697,
          -2.5163247847906143,
          2.542583280696353,
          2.3949949016815104,
          2.1290716497124653,
          0.16240456806757295,
          -1.1902302975410735,
          0.5465484570051969,
          1.8930178842615,
          1.806156697208131,
          0.1408463812887792,
          0.14303667780895005,
          -0.7647931670397123,
          -0.9557348855224932,
          3.920814967488302,
          1.8766255644628913,
          -1.0825502294576856,
          -0.2017577029331582,
          1.796147674740656,
          0.08662304642053933,
          -1.8641948186360504,
          -0.9188536574657102,
          -1.0585067703352815,
          1.8790701546221613,
          -1.7781401911305574,
          -0.07229740032957421,
          -0.3921798226185832,
          -0.9705223205172662,
          1.7504349939608403,
          -1.8276136383485664,
          -0.3504565827767999,
          0.5539926360545929,
          -2.547949066906963,
          -0.36017064826808076,
          -1.5235053512931769,
          2.6010723733360743,
          -0.1049770765505265,
          -0.6578112104370923,
          -0.412744790917512,
          -0.42144190089958206,
          0.15573087123845997,
          -1.3354987769486137,
          -1.675347561690292,
          0.06892950216221724,
          1.2455031406023225,
          0.606628010889308,
          -1.2421797018108882,
          2.091415589070835,
          -0.6874825053578713,
          -1.7692389867578346,
          -0.7280537745710789,
          -0.9923343899627686,
          0.5827520697862061,
          0.19449149659355322,
          0.016075619281997806,
          1.9927924515564455,
          1.3719293981211602,
          -1.101755566335486,
          -1.019689154379382,
          -0.1717411498610376,
          2.0015277857450786,
          1.5594279783316725,
          -0.7871021033526281,
          -0.14359199419713067,
          0.9821873185596399,
          2.2303068712434135,
          0.38813380083697013,
          1.8631618632904101,
          -0.061931284093184644,
          0.2979277067488689,
          0.7296459418752024,
          -0.8128941934829585,
          1.4538427800492493,
          -1.3157020729427502,
          -0.957106433755298,
          1.6256324863378908,
          0.3916115385156125,
          0.2066683692463522,
          0.3050458171338639,
          0.9058609041560473,
          0.9038116929801222,
          0.5320232535790272,
          0.602459631689279,
          0.43932890514829254,
          -0.7398216014774738,
          0.7577470500602308,
          -0.7836251715780326,
          -0.22610473221538244,
          0.0011545717730387466,
          -0.5658665201340018,
          -0.6663327618259884,
          1.0489924755007558,
          -0.8808283740488434,
          0.06404000480765219,
          1.6569597762710593,
          0.830508968444126,
          -0.925181078655929,
          -1.5030815490746723,
          0.4799061107055349,
          0.6951600670104672,
          3.2437479802277216,
          -0.5483794641069314,
          -0.8364959576154588,
          0.440449924972573,
          -1.2712631541048456,
          1.5911076438041645,
          1.2412190073525842,
          0.5932732472085489,
          -0.03129874856792649,
          -0.159534067909106,
          -1.787523542479952,
          2.848662040682731,
          0.493320309104389,
          3.0574494931166605,
          2.8194413544319037,
          -1.5670010345579153,
          1.5068431237827902,
          0.4418153565761154,
          0.30000319066611286,
          0.15197247496284996,
          -0.055507310808666,
          -0.7378296093142742,
          -0.14281697768397128,
          0.06622385658216373,
          0.306406145913653,
          -0.45048758371771236,
          -0.4675965799104299,
          -1.5395161311022236,
          -0.06631964528004534,
          -0.13074879865696248,
          1.0345740793529081,
          -0.7692363282917546,
          -1.0269026893370838,
          -0.39870575293160193,
          0.7968945446169045,
          -0.25340109968070523,
          0.4665407689182552,
          -0.02404605738342507,
          -1.4038322391772553,
          -1.3995776985056219,
          -0.22733178152375894,
          1.2431236193732624,
          -0.27681241094949527,
          0.11368220765999965,
          1.3947836273654615,
          0.5427153579054458,
          0.8869452091641258,
          -0.09005621477313534,
          1.5783336021068424,
          -0.2714401254482963,
          -0.8314032217948027,
          0.317369290917275,
          -0.7270874604247621,
          0.016215169833324456,
          -0.9847200823229564,
          1.245015618504373,
          0.11313852848470618,
          -1.0196935890003633,
          -0.7904539250296684,
          -0.9645981709222193,
          -2.2651249928355677,
          1.0958659987821655,
          -0.1072471558963809,
          -0.6677411126171372,
          0.4027353884379509,
          1.0778633302687295,
          2.48675462552576,
          0.36154184364814285,
          0.9499806995861497,
          0.3074687455050873,
          1.741534449082889,
          -1.2048143182213085,
          -1.1395824939825328,
          1.8989128815327503,
          -0.10406245672682644,
          -0.4198261919373312,
          -0.4232041531216838,
          -0.5319440853059512,
          2.0296655109915855,
          -2.444861733647912,
          -1.0252924298028343,
          -1.982177287592114,
          1.028544944236673,
          -1.6859791679684462,
          -1.1286494262494087,
          -0.40553775112244156,
          -1.29319056255464,
          1.4948598811389855,
          2.4207564884012442,
          -1.2848280727187325,
          -0.8461619937272359,
          -1.171484569621015,
          -0.01708335596294165,
          2.6891998231180905,
          -0.24752776719237907,
          0.07929976826281004,
          0.5152631396879747,
          -0.1083948103335124,
          -1.1106715309031905,
          0.30296051213026737,
          1.4588575284253442,
          -0.23620152311031267,
          -1.2452239136777417,
          0.40878248306434567,
          0.7327407728881117,
          -0.6750928325647338,
          0.24887071964241114,
          -0.09029337267404136,
          -0.8404197650063262,
          0.5920179381180405,
          -0.030192601818692818,
          -0.08858444520119549,
          2.004947989888458,
          -0.6265723470278626,
          -1.39540522223356,
          -0.7195004041096159,
          0.45600518644768767,
          -1.0579688125020756,
          -0.7287146114133429,
          -0.25615655365383866,
          2.034357604975242,
          -0.9186553016958897,
          -0.9866471219952079,
          0.8179283401852967,
          1.5578907394125652,
          2.0162699922535112,
          -1.6163344051172845,
          -0.2814711634228596,
          -1.8729702908773136,
          -1.923608894311369,
          0.9462501061160925,
          0.01706509814852208,
          0.35805970353136474,
          0.3036897374392308,
          -1.223882843230785,
          -0.6628377949598075,
          -0.9542753851735479,
          -0.29427814579737943,
          -0.5651960797307667,
          0.24246302327059632,
          0.24020151654155944,
          1.953498447749949,
          -1.5736704793679326,
          2.0171062887241726,
          2.0738431506987602,
          -1.372569830722673,
          0.052391365157611204,
          0.2096393618773354,
          0.2833490134534703,
          0.3398231939202892,
          0.28489161262000057,
          0.36879367375885835,
          0.23202882636371117,
          -0.9718905213325124,
          0.6993022502833981,
          0.26731417201793795,
          0.19561095364794956,
          0.7158538291624567,
          0.2602224373102684,
          1.6234079412868112,
          -0.8694658892178502,
          -0.9616584404175554,
          -0.4546162083877434,
          -0.2177894969038486,
          -0.3495876742741465,
          0.06385560247346563,
          -1.515063029860004,
          -1.7464011731433289,
          0.8752288967520124,
          0.44197747860391956,
          0.3237819001427597,
          -0.9465340385229701,
          -0.3494496048695052,
          0.4663888310397199,
          0.19138921771653591,
          0.9470913742024504,
          -0.719864677414078,
          -0.9044321100988898,
          -1.1577499329285261,
          -1.692863570393646,
          -1.004479630348552,
          -0.7789624666446582,
          0.5585168518370222,
          -0.37380987106461033,
          -1.869589233278329,
          0.8477160868362156,
          1.408566669750006,
          -0.4140987725815913,
          1.724727279018025,
          0.7723613686495157,
          2.3253181099550706,
          0.7165149775554429,
          1.863396038048232,
          -0.6093822071126982,
          -0.4752893728055307,
          1.1975613645315255,
          -1.7615015344416132,
          0.2677091708743888,
          1.3062916793549544,
          -0.2907355746704431,
          -1.7636967502751588,
          -1.1546693449651948,
          -1.740986366091367,
          0.2767257739845724,
          0.04461007456342384,
          0.8437540480993395,
          0.25211635691879597,
          -0.24041641760564764,
          -1.6522387154817473,
          -0.2791230576730981,
          0.44061210689903774,
          0.1971292152690476,
          -0.3187651220297664,
          -0.9981314596397063,
          1.3736044660578512,
          -0.4957116615949238,
          -1.1990346188980132,
          0.8861998203367726,
          -1.1724542097354913,
          -0.09565842784327512,
          -1.5516933208601382,
          0.29461123716369125,
          -0.8200586729966713,
          -1.3619252827230355,
          0.2683839538170986,
          -1.2016688778982678,
          0.7959782612338133,
          0.42002532026846323,
          0.240185710722098,
          -1.446465734009544,
          -0.7517922037831843,
          0.5590677640494688,
          0.4228176247679019,
          -0.9755779315660965,
          0.714821598275219,
          0.43215976113779875,
          0.17704851584550552,
          1.5489425555865433,
          -1.3991665822789874,
          -0.9285658497181678,
          0.945319775843048,
          1.6146463725729678,
          0.645687927797471,
          -0.7258908282170831,
          0.07924902229828161,
          -0.6083943531812309,
          -0.5114250005563266,
          -0.8813012528834284,
          0.12975664991131716,
          1.8310204497732838,
          0.47269252318435984,
          -1.2379008738150528,
          0.030641059739620283,
          0.45386115607578925,
          0.19628356532092212,
          -1.0224475295443858,
          0.24425244536621882,
          0.01106753315797977,
          0.4549044933952215,
          -0.02726260628622581,
          -0.9115260160762969,
          0.4290795752455684,
          1.19831172324053,
          -0.6787791767629612,
          -0.5238099638278749,
          0.1961256324796133,
          0.4639116598501773,
          -0.3357544705956081,
          -1.4601777238728808,
          -0.3190247593256441,
          0.0013708635757212363,
          -1.0577511418967809,
          -0.19355913306029712,
          0.005650206892230287,
          0.14512098947639934,
          0.7504646814829419,
          -1.0532475424951344,
          -1.672432117507445,
          -0.3681608150722987,
          -0.1650467504045046,
          0.5962223973458732,
          -0.5691069330059952,
          -0.23254321404282116,
          0.8857000935859727,
          -0.2543693028279539,
          0.22160963836992997,
          0.2038126061795111,
          -0.7790799769186881,
          -1.8224428283573133,
          -0.5872410377768843,
          -0.6747057658381427,
          0.757208321723548,
          -0.2584749993694568,
          0.02631658647798359,
          -0.8748194283478827,
          -0.04176428384261828,
          0.1204675281003644,
          0.3095804536382211,
          -0.19331619611203302,
          -0.5771106085572811,
          -0.5061932614805851,
          -0.5248631150612045,
          -0.7908000015799738,
          -1.07665097117058,
          -1.0743006941510804,
          0.6422064989602745,
          0.5854726212989179,
          0.08804754907394972,
          -0.16599703636121435,
          1.0808904081476962,
          0.11732609625820827,
          -1.1807354077860892,
          -2.060266296390249,
          0.027868804373190663,
          0.11455666354243776,
          0.00362151552462444,
          -0.2711867651118775,
          0.7111613856661956,
          -0.9056194940578456,
          -0.8145161111634047,
          -0.023044778640339613,
          -0.04990497188912136,
          -1.2877296895936168,
          -1.6688810674467085,
          0.6486212794554965,
          -2.10136371688,
          -1.4663747944405148,
          0.08814637811864509,
          0.5457900405594184,
          1.1615793869812243,
          -0.6927008063589196,
          0.07251017123371509,
          -0.5466104038176278,
          -0.9669146703917089
         ],
         "yaxis": "y"
        }
       ],
       "layout": {
        "height": 800,
        "legend": {
         "tracegroupgap": 0
        },
        "template": {
         "data": {
          "bar": [
           {
            "error_x": {
             "color": "#2a3f5f"
            },
            "error_y": {
             "color": "#2a3f5f"
            },
            "marker": {
             "line": {
              "color": "#E5ECF6",
              "width": 0.5
             },
             "pattern": {
              "fillmode": "overlay",
              "size": 10,
              "solidity": 0.2
             }
            },
            "type": "bar"
           }
          ],
          "barpolar": [
           {
            "marker": {
             "line": {
              "color": "#E5ECF6",
              "width": 0.5
             },
             "pattern": {
              "fillmode": "overlay",
              "size": 10,
              "solidity": 0.2
             }
            },
            "type": "barpolar"
           }
          ],
          "carpet": [
           {
            "aaxis": {
             "endlinecolor": "#2a3f5f",
             "gridcolor": "white",
             "linecolor": "white",
             "minorgridcolor": "white",
             "startlinecolor": "#2a3f5f"
            },
            "baxis": {
             "endlinecolor": "#2a3f5f",
             "gridcolor": "white",
             "linecolor": "white",
             "minorgridcolor": "white",
             "startlinecolor": "#2a3f5f"
            },
            "type": "carpet"
           }
          ],
          "choropleth": [
           {
            "colorbar": {
             "outlinewidth": 0,
             "ticks": ""
            },
            "type": "choropleth"
           }
          ],
          "contour": [
           {
            "colorbar": {
             "outlinewidth": 0,
             "ticks": ""
            },
            "colorscale": [
             [
              0,
              "#0d0887"
             ],
             [
              0.1111111111111111,
              "#46039f"
             ],
             [
              0.2222222222222222,
              "#7201a8"
             ],
             [
              0.3333333333333333,
              "#9c179e"
             ],
             [
              0.4444444444444444,
              "#bd3786"
             ],
             [
              0.5555555555555556,
              "#d8576b"
             ],
             [
              0.6666666666666666,
              "#ed7953"
             ],
             [
              0.7777777777777778,
              "#fb9f3a"
             ],
             [
              0.8888888888888888,
              "#fdca26"
             ],
             [
              1,
              "#f0f921"
             ]
            ],
            "type": "contour"
           }
          ],
          "contourcarpet": [
           {
            "colorbar": {
             "outlinewidth": 0,
             "ticks": ""
            },
            "type": "contourcarpet"
           }
          ],
          "heatmap": [
           {
            "colorbar": {
             "outlinewidth": 0,
             "ticks": ""
            },
            "colorscale": [
             [
              0,
              "#0d0887"
             ],
             [
              0.1111111111111111,
              "#46039f"
             ],
             [
              0.2222222222222222,
              "#7201a8"
             ],
             [
              0.3333333333333333,
              "#9c179e"
             ],
             [
              0.4444444444444444,
              "#bd3786"
             ],
             [
              0.5555555555555556,
              "#d8576b"
             ],
             [
              0.6666666666666666,
              "#ed7953"
             ],
             [
              0.7777777777777778,
              "#fb9f3a"
             ],
             [
              0.8888888888888888,
              "#fdca26"
             ],
             [
              1,
              "#f0f921"
             ]
            ],
            "type": "heatmap"
           }
          ],
          "heatmapgl": [
           {
            "colorbar": {
             "outlinewidth": 0,
             "ticks": ""
            },
            "colorscale": [
             [
              0,
              "#0d0887"
             ],
             [
              0.1111111111111111,
              "#46039f"
             ],
             [
              0.2222222222222222,
              "#7201a8"
             ],
             [
              0.3333333333333333,
              "#9c179e"
             ],
             [
              0.4444444444444444,
              "#bd3786"
             ],
             [
              0.5555555555555556,
              "#d8576b"
             ],
             [
              0.6666666666666666,
              "#ed7953"
             ],
             [
              0.7777777777777778,
              "#fb9f3a"
             ],
             [
              0.8888888888888888,
              "#fdca26"
             ],
             [
              1,
              "#f0f921"
             ]
            ],
            "type": "heatmapgl"
           }
          ],
          "histogram": [
           {
            "marker": {
             "pattern": {
              "fillmode": "overlay",
              "size": 10,
              "solidity": 0.2
             }
            },
            "type": "histogram"
           }
          ],
          "histogram2d": [
           {
            "colorbar": {
             "outlinewidth": 0,
             "ticks": ""
            },
            "colorscale": [
             [
              0,
              "#0d0887"
             ],
             [
              0.1111111111111111,
              "#46039f"
             ],
             [
              0.2222222222222222,
              "#7201a8"
             ],
             [
              0.3333333333333333,
              "#9c179e"
             ],
             [
              0.4444444444444444,
              "#bd3786"
             ],
             [
              0.5555555555555556,
              "#d8576b"
             ],
             [
              0.6666666666666666,
              "#ed7953"
             ],
             [
              0.7777777777777778,
              "#fb9f3a"
             ],
             [
              0.8888888888888888,
              "#fdca26"
             ],
             [
              1,
              "#f0f921"
             ]
            ],
            "type": "histogram2d"
           }
          ],
          "histogram2dcontour": [
           {
            "colorbar": {
             "outlinewidth": 0,
             "ticks": ""
            },
            "colorscale": [
             [
              0,
              "#0d0887"
             ],
             [
              0.1111111111111111,
              "#46039f"
             ],
             [
              0.2222222222222222,
              "#7201a8"
             ],
             [
              0.3333333333333333,
              "#9c179e"
             ],
             [
              0.4444444444444444,
              "#bd3786"
             ],
             [
              0.5555555555555556,
              "#d8576b"
             ],
             [
              0.6666666666666666,
              "#ed7953"
             ],
             [
              0.7777777777777778,
              "#fb9f3a"
             ],
             [
              0.8888888888888888,
              "#fdca26"
             ],
             [
              1,
              "#f0f921"
             ]
            ],
            "type": "histogram2dcontour"
           }
          ],
          "mesh3d": [
           {
            "colorbar": {
             "outlinewidth": 0,
             "ticks": ""
            },
            "type": "mesh3d"
           }
          ],
          "parcoords": [
           {
            "line": {
             "colorbar": {
              "outlinewidth": 0,
              "ticks": ""
             }
            },
            "type": "parcoords"
           }
          ],
          "pie": [
           {
            "automargin": true,
            "type": "pie"
           }
          ],
          "scatter": [
           {
            "fillpattern": {
             "fillmode": "overlay",
             "size": 10,
             "solidity": 0.2
            },
            "type": "scatter"
           }
          ],
          "scatter3d": [
           {
            "line": {
             "colorbar": {
              "outlinewidth": 0,
              "ticks": ""
             }
            },
            "marker": {
             "colorbar": {
              "outlinewidth": 0,
              "ticks": ""
             }
            },
            "type": "scatter3d"
           }
          ],
          "scattercarpet": [
           {
            "marker": {
             "colorbar": {
              "outlinewidth": 0,
              "ticks": ""
             }
            },
            "type": "scattercarpet"
           }
          ],
          "scattergeo": [
           {
            "marker": {
             "colorbar": {
              "outlinewidth": 0,
              "ticks": ""
             }
            },
            "type": "scattergeo"
           }
          ],
          "scattergl": [
           {
            "marker": {
             "colorbar": {
              "outlinewidth": 0,
              "ticks": ""
             }
            },
            "type": "scattergl"
           }
          ],
          "scattermapbox": [
           {
            "marker": {
             "colorbar": {
              "outlinewidth": 0,
              "ticks": ""
             }
            },
            "type": "scattermapbox"
           }
          ],
          "scatterpolar": [
           {
            "marker": {
             "colorbar": {
              "outlinewidth": 0,
              "ticks": ""
             }
            },
            "type": "scatterpolar"
           }
          ],
          "scatterpolargl": [
           {
            "marker": {
             "colorbar": {
              "outlinewidth": 0,
              "ticks": ""
             }
            },
            "type": "scatterpolargl"
           }
          ],
          "scatterternary": [
           {
            "marker": {
             "colorbar": {
              "outlinewidth": 0,
              "ticks": ""
             }
            },
            "type": "scatterternary"
           }
          ],
          "surface": [
           {
            "colorbar": {
             "outlinewidth": 0,
             "ticks": ""
            },
            "colorscale": [
             [
              0,
              "#0d0887"
             ],
             [
              0.1111111111111111,
              "#46039f"
             ],
             [
              0.2222222222222222,
              "#7201a8"
             ],
             [
              0.3333333333333333,
              "#9c179e"
             ],
             [
              0.4444444444444444,
              "#bd3786"
             ],
             [
              0.5555555555555556,
              "#d8576b"
             ],
             [
              0.6666666666666666,
              "#ed7953"
             ],
             [
              0.7777777777777778,
              "#fb9f3a"
             ],
             [
              0.8888888888888888,
              "#fdca26"
             ],
             [
              1,
              "#f0f921"
             ]
            ],
            "type": "surface"
           }
          ],
          "table": [
           {
            "cells": {
             "fill": {
              "color": "#EBF0F8"
             },
             "line": {
              "color": "white"
             }
            },
            "header": {
             "fill": {
              "color": "#C8D4E3"
             },
             "line": {
              "color": "white"
             }
            },
            "type": "table"
           }
          ]
         },
         "layout": {
          "annotationdefaults": {
           "arrowcolor": "#2a3f5f",
           "arrowhead": 0,
           "arrowwidth": 1
          },
          "autotypenumbers": "strict",
          "coloraxis": {
           "colorbar": {
            "outlinewidth": 0,
            "ticks": ""
           }
          },
          "colorscale": {
           "diverging": [
            [
             0,
             "#8e0152"
            ],
            [
             0.1,
             "#c51b7d"
            ],
            [
             0.2,
             "#de77ae"
            ],
            [
             0.3,
             "#f1b6da"
            ],
            [
             0.4,
             "#fde0ef"
            ],
            [
             0.5,
             "#f7f7f7"
            ],
            [
             0.6,
             "#e6f5d0"
            ],
            [
             0.7,
             "#b8e186"
            ],
            [
             0.8,
             "#7fbc41"
            ],
            [
             0.9,
             "#4d9221"
            ],
            [
             1,
             "#276419"
            ]
           ],
           "sequential": [
            [
             0,
             "#0d0887"
            ],
            [
             0.1111111111111111,
             "#46039f"
            ],
            [
             0.2222222222222222,
             "#7201a8"
            ],
            [
             0.3333333333333333,
             "#9c179e"
            ],
            [
             0.4444444444444444,
             "#bd3786"
            ],
            [
             0.5555555555555556,
             "#d8576b"
            ],
            [
             0.6666666666666666,
             "#ed7953"
            ],
            [
             0.7777777777777778,
             "#fb9f3a"
            ],
            [
             0.8888888888888888,
             "#fdca26"
            ],
            [
             1,
             "#f0f921"
            ]
           ],
           "sequentialminus": [
            [
             0,
             "#0d0887"
            ],
            [
             0.1111111111111111,
             "#46039f"
            ],
            [
             0.2222222222222222,
             "#7201a8"
            ],
            [
             0.3333333333333333,
             "#9c179e"
            ],
            [
             0.4444444444444444,
             "#bd3786"
            ],
            [
             0.5555555555555556,
             "#d8576b"
            ],
            [
             0.6666666666666666,
             "#ed7953"
            ],
            [
             0.7777777777777778,
             "#fb9f3a"
            ],
            [
             0.8888888888888888,
             "#fdca26"
            ],
            [
             1,
             "#f0f921"
            ]
           ]
          },
          "colorway": [
           "#636efa",
           "#EF553B",
           "#00cc96",
           "#ab63fa",
           "#FFA15A",
           "#19d3f3",
           "#FF6692",
           "#B6E880",
           "#FF97FF",
           "#FECB52"
          ],
          "font": {
           "color": "#2a3f5f"
          },
          "geo": {
           "bgcolor": "white",
           "lakecolor": "white",
           "landcolor": "#E5ECF6",
           "showlakes": true,
           "showland": true,
           "subunitcolor": "white"
          },
          "hoverlabel": {
           "align": "left"
          },
          "hovermode": "closest",
          "mapbox": {
           "style": "light"
          },
          "paper_bgcolor": "white",
          "plot_bgcolor": "#E5ECF6",
          "polar": {
           "angularaxis": {
            "gridcolor": "white",
            "linecolor": "white",
            "ticks": ""
           },
           "bgcolor": "#E5ECF6",
           "radialaxis": {
            "gridcolor": "white",
            "linecolor": "white",
            "ticks": ""
           }
          },
          "scene": {
           "xaxis": {
            "backgroundcolor": "#E5ECF6",
            "gridcolor": "white",
            "gridwidth": 2,
            "linecolor": "white",
            "showbackground": true,
            "ticks": "",
            "zerolinecolor": "white"
           },
           "yaxis": {
            "backgroundcolor": "#E5ECF6",
            "gridcolor": "white",
            "gridwidth": 2,
            "linecolor": "white",
            "showbackground": true,
            "ticks": "",
            "zerolinecolor": "white"
           },
           "zaxis": {
            "backgroundcolor": "#E5ECF6",
            "gridcolor": "white",
            "gridwidth": 2,
            "linecolor": "white",
            "showbackground": true,
            "ticks": "",
            "zerolinecolor": "white"
           }
          },
          "shapedefaults": {
           "line": {
            "color": "#2a3f5f"
           }
          },
          "ternary": {
           "aaxis": {
            "gridcolor": "white",
            "linecolor": "white",
            "ticks": ""
           },
           "baxis": {
            "gridcolor": "white",
            "linecolor": "white",
            "ticks": ""
           },
           "bgcolor": "#E5ECF6",
           "caxis": {
            "gridcolor": "white",
            "linecolor": "white",
            "ticks": ""
           }
          },
          "title": {
           "x": 0.05
          },
          "xaxis": {
           "automargin": true,
           "gridcolor": "white",
           "linecolor": "white",
           "ticks": "",
           "title": {
            "standoff": 15
           },
           "zerolinecolor": "white",
           "zerolinewidth": 2
          },
          "yaxis": {
           "automargin": true,
           "gridcolor": "white",
           "linecolor": "white",
           "ticks": "",
           "title": {
            "standoff": 15
           },
           "zerolinecolor": "white",
           "zerolinewidth": 2
          }
         }
        },
        "title": {
         "text": "Visualização PCA 2"
        },
        "width": 1200,
        "xaxis": {
         "anchor": "y",
         "domain": [
          0,
          1
         ],
         "title": {
          "text": "PC1"
         }
        },
        "yaxis": {
         "anchor": "x",
         "domain": [
          0,
          1
         ],
         "title": {
          "text": "PC2"
         }
        }
       }
      },
      "text/html": [
       "<div>                            <div id=\"824347ae-936d-4d71-be61-7eae2b717aca\" class=\"plotly-graph-div\" style=\"height:800px; width:1200px;\"></div>            <script type=\"text/javascript\">                require([\"plotly\"], function(Plotly) {                    window.PLOTLYENV=window.PLOTLYENV || {};                                    if (document.getElementById(\"824347ae-936d-4d71-be61-7eae2b717aca\")) {                    Plotly.newPlot(                        \"824347ae-936d-4d71-be61-7eae2b717aca\",                        [{\"customdata\":[[13300000],[12250000],[12250000],[12215000],[11410000],[10850000],[10150000],[10150000],[9870000],[9800000],[9800000],[9681000],[9310000],[9240000],[9240000],[9100000],[9100000],[8960000],[8890000],[8855000],[8750000],[8680000],[8645000],[8645000],[8575000],[8540000],[8463000],[8400000],[8400000],[8400000],[8400000],[8400000],[8295000],[8190000],[8120000],[8080940],[8043000],[7980000],[7962500],[7910000],[7875000],[7840000],[7700000],[7700000],[7560000],[7560000],[7525000],[7490000],[7455000],[7420000],[7420000],[7420000],[7350000],[7350000],[7350000],[7350000],[7343000],[7245000],[7210000],[7210000],[7140000],[7070000],[7070000],[7035000],[7000000],[6930000],[6930000],[6895000],[6860000],[6790000],[6790000],[6755000],[6720000],[6685000],[6650000],[6650000],[6650000],[6650000],[6650000],[6650000],[6629000],[6615000],[6615000],[6580000],[6510000],[6510000],[6510000],[6475000],[6475000],[6440000],[6440000],[6419000],[6405000],[6300000],[6300000],[6300000],[6300000],[6300000],[6293000],[6265000],[6230000],[6230000],[6195000],[6195000],[6195000],[6160000],[6160000],[6125000],[6107500],[6090000],[6090000],[6090000],[6083000],[6083000],[6020000],[6020000],[6020000],[5950000],[5950000],[5950000],[5950000],[5950000],[5950000],[5950000],[5950000],[5943000],[5880000],[5880000],[5873000],[5873000],[5866000],[5810000],[5810000],[5810000],[5803000],[5775000],[5740000],[5740000],[5740000],[5740000],[5740000],[5652500],[5600000],[5600000],[5600000],[5600000],[5600000],[5600000],[5600000],[5600000],[5600000],[5565000],[5565000],[5530000],[5530000],[5530000],[5523000],[5495000],[5495000],[5460000],[5460000],[5460000],[5460000],[5425000],[5390000],[5383000],[5320000],[5285000],[5250000],[5250000],[5250000],[5250000],[5250000],[5250000],[5250000],[5250000],[5250000],[5243000],[5229000],[5215000],[5215000],[5215000],[5145000],[5145000],[5110000],[5110000],[5110000],[5110000],[5075000],[5040000],[5040000],[5040000],[5040000],[5033000],[5005000],[4970000],[4970000],[4956000],[4935000],[4907000],[4900000],[4900000],[4900000],[4900000],[4900000],[4900000],[4900000],[4900000],[4900000],[4900000],[4900000],[4900000],[4893000],[4893000],[4865000],[4830000],[4830000],[4830000],[4830000],[4795000],[4795000],[4767000],[4760000],[4760000],[4760000],[4753000],[4690000],[4690000],[4690000],[4690000],[4690000],[4690000],[4655000],[4620000],[4620000],[4620000],[4620000],[4620000],[4613000],[4585000],[4585000],[4550000],[4550000],[4550000],[4550000],[4550000],[4550000],[4550000],[4543000],[4543000],[4515000],[4515000],[4515000],[4515000],[4480000],[4480000],[4480000],[4480000],[4480000],[4473000],[4473000],[4473000],[4445000],[4410000],[4410000],[4403000],[4403000],[4403000],[4382000],[4375000],[4340000],[4340000],[4340000],[4340000],[4340000],[4319000],[4305000],[4305000],[4277000],[4270000],[4270000],[4270000],[4270000],[4270000],[4270000],[4235000],[4235000],[4200000],[4200000],[4200000],[4200000],[4200000],[4200000],[4200000],[4200000],[4200000],[4200000],[4200000],[4200000],[4200000],[4200000],[4200000],[4200000],[4200000],[4193000],[4193000],[4165000],[4165000],[4165000],[4130000],[4130000],[4123000],[4098500],[4095000],[4095000],[4095000],[4060000],[4060000],[4060000],[4060000],[4060000],[4025000],[4025000],[4025000],[4007500],[4007500],[3990000],[3990000],[3990000],[3990000],[3990000],[3920000],[3920000],[3920000],[3920000],[3920000],[3920000],[3920000],[3885000],[3885000],[3850000],[3850000],[3850000],[3850000],[3850000],[3850000],[3850000],[3836000],[3815000],[3780000],[3780000],[3780000],[3780000],[3780000],[3780000],[3773000],[3773000],[3773000],[3745000],[3710000],[3710000],[3710000],[3710000],[3710000],[3703000],[3703000],[3675000],[3675000],[3675000],[3675000],[3640000],[3640000],[3640000],[3640000],[3640000],[3640000],[3640000],[3640000],[3640000],[3633000],[3605000],[3605000],[3570000],[3570000],[3570000],[3570000],[3535000],[3500000],[3500000],[3500000],[3500000],[3500000],[3500000],[3500000],[3500000],[3500000],[3500000],[3500000],[3500000],[3500000],[3500000],[3500000],[3500000],[3500000],[3493000],[3465000],[3465000],[3465000],[3430000],[3430000],[3430000],[3430000],[3430000],[3430000],[3423000],[3395000],[3395000],[3395000],[3360000],[3360000],[3360000],[3360000],[3360000],[3360000],[3360000],[3360000],[3353000],[3332000],[3325000],[3325000],[3290000],[3290000],[3290000],[3290000],[3290000],[3290000],[3290000],[3290000],[3255000],[3255000],[3234000],[3220000],[3220000],[3220000],[3220000],[3150000],[3150000],[3150000],[3150000],[3150000],[3150000],[3150000],[3150000],[3150000],[3143000],[3129000],[3118850],[3115000],[3115000],[3115000],[3087000],[3080000],[3080000],[3080000],[3080000],[3045000],[3010000],[3010000],[3010000],[3010000],[3010000],[3010000],[3010000],[3003000],[2975000],[2961000],[2940000],[2940000],[2940000],[2940000],[2940000],[2940000],[2940000],[2940000],[2870000],[2870000],[2870000],[2870000],[2852500],[2835000],[2835000],[2835000],[2800000],[2800000],[2730000],[2730000],[2695000],[2660000],[2660000],[2660000],[2660000],[2660000],[2660000],[2660000],[2653000],[2653000],[2604000],[2590000],[2590000],[2590000],[2520000],[2520000],[2520000],[2485000],[2485000],[2450000],[2450000],[2450000],[2450000],[2450000],[2450000],[2408000],[2380000],[2380000],[2380000],[2345000],[2310000],[2275000],[2275000],[2275000],[2240000],[2233000],[2135000],[2100000],[2100000],[2100000],[1960000],[1890000],[1890000],[1855000],[1820000],[1767150],[1750000],[1750000],[1750000]],\"hovertemplate\":\"PC1=%{x}\\u003cbr\\u003ePC2=%{y}\\u003cbr\\u003eprice=%{customdata[0]}\\u003cextra\\u003e\\u003c\\u002fextra\\u003e\",\"legendgroup\":\"\",\"marker\":{\"color\":\"#636efa\",\"symbol\":\"circle\"},\"mode\":\"markers\",\"name\":\"\",\"orientation\":\"v\",\"showlegend\":false,\"x\":[5.0382701065598035,7.486606715778343,4.176727057874454,4.681766735160095,3.2198313666336777,3.7897902255613616,5.557212780679283,5.7091126938075485,2.891179623224013,3.134693890300787,3.209384968832938,4.144632876276475,2.9145630577939188,2.783592891249699,2.217537412990739,2.2699963093372153,2.762755762331681,3.8644726624963917,2.343196673636019,2.2354490736659844,1.3584640222793218,2.1525015700924204,1.2208419455772608,1.903039915273631,2.964188549602192,3.0970222010178414,2.5286734732620726,1.2466957290251937,3.678465433611296,2.474315182305472,3.3862542017636517,2.5519205482997953,2.3823185244901213,2.7196437392206456,2.336392183657328,3.3568799813468337,2.6447955013731526,4.192663624065575,2.1565909765239635,3.2579657135851607,0.8020029900016269,2.4534510680685395,3.0158583172125857,3.5601931362466495,3.200423121802606,1.8483140128865818,2.6644025876749335,2.6279310940149987,1.3728757495643982,1.211849029003404,2.7350864728597175,1.6925398271962078,3.139892168210343,2.789323776396921,1.730465075619311,0.7771312657685916,2.3227309514969687,3.6180469102389017,3.340911190819444,2.5736061572865396,1.6699341220270483,0.3382483481099415,2.259705127735781,3.052788180405903,1.2762872037135875,2.140828909377705,1.0733618250272043,1.7303514709780043,0.3589083571794876,3.5331749925746614,0.8673440105697307,2.462537080390242,0.9068488104461726,1.6352723989547735,0.38628588721718726,1.3969851690019897,1.7005343754934499,1.7140922479954415,0.6102937579585076,1.6293555448579935,0.6690583372855415,1.1796599254965972,1.9045030372258833,1.985912589384782,0.6178954097812426,1.9703167399150023,0.7058726172787291,0.22162523884208427,0.7065584783067589,4.216954253425296,0.0823486965238563,0.1957247437333653,1.7754443713992374,1.936618787766616,2.793895069377811,1.8886455719182047,0.7059126997581436,0.22193951257219474,1.4850446244611473,1.0476380310792033,0.6267326185259481,0.7896391700678348,2.1529608475819364,1.557520837604304,1.2988324749206253,0.6573067629371919,1.037343270825077,0.5525308507908564,0.997001603003762,1.9974375407870901,0.5580616164886633,1.5987712000815821,2.3355369451496832,1.1111959358569934,0.08918960222181065,0.7751474007427642,0.6170436868161545,0.2900687493847224,-0.19497198733861357,0.5888864780626114,0.5508815739218782,0.319204974207871,1.4758273121315828,1.7571462777668485,2.299393974027283,2.040950605448151,0.4926857582266232,1.3490530751022078,0.8298288920159245,2.1593064387968446,-0.6368236299957879,1.4071645778624977,0.3547268769308073,0.18718750223712913,0.5431253424225293,1.6541272550973884,1.953650793579351,0.7082588430733971,0.3006552111450736,0.45984540720013356,1.6101440815770323,1.8789576907522458,2.5146028324497824,2.0321044300364552,0.7214156092595998,0.7237199328835426,0.18907859112943395,1.1413037592130049,0.49078507461742454,1.0708218117951738,-0.23647674677552877,0.9799011404942883,0.9931321669951932,1.2391107022907246,1.1703593493274433,1.208835165643397,-0.28004668883548145,1.2256155061148368,0.6204305486366094,-0.036805119905806594,1.4143608272769534,0.40636801992444294,1.4505442026624256,-0.3210049726491547,1.3291779580845844,0.35717009476258665,0.4397328619965225,0.31473123763989996,0.1832040115911216,1.3798448446936686,0.25758410037672086,0.5749773534884561,0.9413162811594668,0.649871448800317,-0.20101976395881063,2.6578449016573362,0.6846690730386306,-0.5048070222921608,0.3920793088037104,0.9999104179898473,1.329470996206245,0.5081936681653981,-0.5603882332721842,0.15678724972908573,0.2569653064279478,-0.7397108342939883,0.3027208136705355,-0.5346696225868492,-0.814763703353941,-1.5146305690436346,1.414230987464518,0.6448074216756822,-0.4267675731089379,-1.3031117755903396,0.6360691811475573,2.517259101379625,-0.3062387692963713,0.4980973045878437,-0.19079568173875897,-0.0890052825946112,-0.4428921981646887,-0.5149183958315199,-1.0939315862119505,0.2321764412195153,-0.8206002065247249,0.1642108575833712,-1.1719746399238762,-0.7004917757025318,-0.28549961796201845,-0.5898770764723954,0.30397820353345223,1.3260776698689072,1.4737019485166483,0.5950294509633459,-1.527549583471573,-0.203753261209365,0.09997078742114376,0.7026966181790865,-1.3590829296354034,-0.15261363958279556,2.2251586337306297,0.7118666238537864,0.08363562904342207,0.228076144599861,0.16590005519894163,-0.017608198661270273,0.4468872821792519,-0.7925102051361904,0.07126226916589413,2.1111306861229893,-0.8802185960973374,-0.9573941929406913,-0.6015112030141565,-1.1044369346591485,0.9470374338708635,0.03574739124492634,-1.3291632985035802,-0.44055816721300645,0.8522032707257643,-0.2157140926910603,-0.286172168566261,-0.36713651700863836,-0.649571387469152,-0.83429740030879,-0.4081983957985428,0.22434728077623756,-1.1333268870221174,2.468389573825491,-0.7093982540310482,0.9567158520781773,-0.3049573934927228,-0.37244378154422497,-0.06895398350464862,-1.2059287303498119,0.6857999549578354,-1.015622943505003,0.11677880676656022,-0.3085523290013925,-0.2825429641074131,-0.7940484309225659,-0.3900159823986307,-0.737139944139936,-1.6505455222373175,-0.6776804101437118,-1.0456632373578032,-0.864085174623875,-0.3194479816790573,-0.1556010495693336,0.0066037228682299725,-0.7990431062195015,1.0720633221845082,0.004383051905011493,-0.3742833476243086,0.517620176429898,0.24870764156212263,-1.5957302629519374,-1.2179834009663915,-0.20792189956800616,-0.08676082300878245,-1.2153200623155056,-0.9383360454416815,-0.8050238454793095,-1.1216502088398297,-0.08232643121194884,-0.6136041832141488,-0.27359519584132436,-1.3050049933387942,-0.5783281175065523,-0.6562858843930047,-0.6397540624101703,1.2647433877390093,-1.0099768832887144,0.4343774467316706,-1.346304155883493,0.6467276247941166,-1.0166561702456303,0.5852380029505114,-0.03996485551086075,-0.12229569086162029,0.48717310379322515,-0.2993234557107009,-0.8141354497471286,-0.3640766593763188,-1.0247855406552726,0.6536548323125535,-0.46525791038569486,-0.23776066947588997,-0.0038020819910594625,-0.37232255405815795,-0.1199259646379027,-0.8366368477390225,-0.9891177063300234,-1.2065682338722736,0.03629861612772314,-0.9194484208888565,-1.4379046432825302,1.1913814917249446,0.8743259732187949,-1.135597585591982,0.7289095642269758,0.04994838959000141,0.7331647137907278,-0.035138170587299664,0.12223086155528734,-0.7035382190573037,-0.3538585197209018,-0.770266157950136,-0.010266744511944892,0.1450013324770071,-0.7567557737072199,-1.4105275520597103,1.304112048968681,-0.03335400158355512,-0.982969559133092,-1.4737299659794583,-1.0218285780251104,0.18339573732212738,-0.26817985408131406,-1.3868008363663438,0.46030533213152375,1.292090172160006,-0.33954918215091673,-0.2561506299392576,-1.7661236666780131,-1.8051025501212399,-1.1700778488446193,-1.6687246722966556,-1.0476162605575028,-1.0802386291120447,-0.7148819287742882,-1.1153183631676868,-1.867647886220718,-0.863955449903913,-0.5843090078982082,-0.6480748289762437,0.213176879745493,0.7847837669281716,0.5727220089999324,-1.8980731872390828,-1.0988844648191447,-1.8132565719905176,-0.9517671857039268,-1.7682195070565516,-1.8905364452518703,-1.0251814024254429,-1.5329744367247717,-1.8494868299573857,-1.9925791730123217,-1.5521876142160596,-1.8545710321456323,-1.067243186507793,-0.9670776556794178,-1.033172284126628,-1.5462672082471867,-1.0679759301172183,-0.6617862268661339,0.7069280020090278,-0.33526472271406366,-0.7664693568766493,-0.7718786440512143,-1.7655642819001967,-1.8503009850376446,-1.0150911399744118,1.3187305505334974,-1.7323104432943564,-2.0211499157457045,-0.7442001983235543,-0.8938844425367457,-1.093623764422654,-0.30694197441548804,-0.4967921772621234,-1.0979304236917216,-0.9362527941054699,-0.8741074890699542,-1.5425106034181475,0.8384570671042376,-1.578818511838987,-1.152466282786503,-0.8206862934945975,-0.9500721745591197,-1.700261120025893,0.986070791046748,-1.6617064702206894,0.061385713567476415,-0.8837997050321086,-1.623777926318981,-1.4039416937462568,-0.7956010301480545,-2.0004934585482497,-1.413097532154787,-1.4999824276271896,-0.8056895224134316,-1.2900530914793011,-0.5483217419537338,-1.9957322207503296,-0.4256862057880893,-0.8523435298950217,-1.9285000340176535,0.09205004994440132,0.13379084271072653,-1.5802572743972563,-1.8935653883728312,-2.0681229968359753,-1.5371067527854334,-1.1274380947516365,-1.2901821736306047,-1.5739791847722138,-1.2540136606852483,-1.6612216228396335,-0.42747660182798636,-2.2950575370221045,-0.707875177101824,-1.0227078257662396,-0.1945247667818834,-0.5044074402778674,-2.034068491358763,-1.2661198514037004,-0.8335470056969058,-1.866449204553968,-2.0627990583143783,-0.6460589978399747,-1.0523108500277456,-1.9212930385445248,-1.1181025040164987,-1.1210602648164303,-2.5572514689298185,-0.8672318504383641,-2.066188087624996,-1.2398346583839284,-1.53345549962622,-1.1286533561476855,-1.5153995172315808,0.5374408011854955,-1.8762227616594438,-1.0524739901958386,-1.307959707787228,-1.7359944975938235,-1.734831253349246,-1.1707024980868237,-2.176026592074093,-1.041761340768117,-1.93868391117812,-1.3674510347730573,-2.255599180912178,-1.134056929698341,-2.1453615547223785,-1.2300177514681574,-0.4790799880194187,-2.219241871859311,-1.8767789789129012,-1.4132699387186918,-1.2179153155104443,0.4757050585438378,-1.437205768772519,-0.23729039908228716,-1.7853262890667208,-0.5194397706101638,-1.9790378802396287,-0.9007549347286815,-0.727412864743645,-0.82134173129795,-2.2189554353659595,-1.3397763438061374,-0.6528009788799003,-2.3246038048181856,-2.224614495115996,-1.7232125100607714,-0.4527061223560787,-0.0715686898149863,-0.8821124212235627,-0.8039153568186402,-1.8966309402848325,-1.102108639751342,-1.5198408706588027,-1.7277377662860816,-0.8934965258109857,-2.2123517961211703,-2.2336255332006902,-2.041560728823861,0.3680305484167952,-1.899876334054129,-1.9625814943758402,-1.848058071212022,-1.5967582343405327,-2.362578812953664,-1.2784495850485675,-2.4233078888507875,-2.310406635427261,-2.1748279104073434,-0.5308957585228116,-1.9266724306136453,-1.8758304087311761,-1.869098960739256,-1.259084985412419,-1.3965977420135556,-1.4708468311449234,-2.0490126544939797,-2.089686271999955,-2.3677079451162593,-1.7205372207791363,-1.6559196387616917,-2.3569352259876,-1.4724944262327904,-0.04010288394572786,-2.4278806535278883,-2.374247145033905,-2.4622934041857345,-2.6004041423008535,-2.8644299473562373,-1.3924895037028875,-2.1649906365723166,-1.5992724240044878,-2.543241078642102,-1.7090052128813615,-1.081389127254128,-2.129560768394764,-0.5246322238178854,-1.8881675508660514,-2.5038722838273335,-2.2628853745741155,-1.9085207565229914,-2.125273122070139,-2.549140981670814,-2.000442715208759,-1.5641536964365323],\"xaxis\":\"x\",\"y\":[0.3802738393582896,-0.13732605412753188,1.9820391423828347,1.5175628274693638,1.2628397776153393,1.453218141165725,-0.5707960051687865,0.572798058522062,1.326996267646508,-0.9691675088172582,3.051186808289736,-0.06848361077573814,-0.14705955543273394,-0.230215796757429,0.05140438037343117,0.7556735215022845,-0.19350794268853463,0.3155468617701446,0.5308483895281512,0.3166578603377548,0.859570291543813,1.620762017804492,1.716518312657723,-0.10959441826968999,1.5039343060999868,0.44450900361551265,-1.5644509650136078,1.869567938014473,0.17435038116533005,-0.45234588187335756,-0.0335807457819529,0.32952896233802825,-0.5788874783964878,-0.3091866803419634,-0.2192241044455106,-0.0941749144886689,-0.027425905790728268,-0.15070967511445682,0.020600957395742966,-1.506500796503984,0.12720744253903588,-1.4918184220893387,-0.31269426359057534,-0.90405144081913,-1.5018463865700948,-1.0502787978080117,-0.9810555303971571,0.8201241068523866,-0.31739667578003405,0.42296107624809537,-0.718941130299641,-0.5522184127105881,-1.515017681571369,-0.6039500105320752,0.12297929358791662,0.5081815010447143,1.3158209296295886,-0.812429858305044,-1.1532679695453987,-1.0008124728990682,0.1098079985866428,2.3103177641308323,-0.33422805915622955,-0.26324442118404223,2.3520655338633296,0.8040498037909979,3.349353266970421,1.6376391908163286,1.1199604334561377,1.6467191328571091,-1.0005471242795836,-2.239660219797763,-1.5202338398512583,-0.9845405949285055,0.07265373517604128,-1.4708523588204465,-0.9814635553034782,-0.9625522627496927,1.6514924420642958,-1.0807478412108529,0.5080567049743163,-0.39590255276118325,1.7380552712143205,-1.6825535768583642,0.5866974303203913,-0.5576486014698139,-0.5725509902196289,1.2025891815823837,1.9730420228637475,-0.15825091583961634,-0.35580926813527897,2.408200804337815,-1.950592476063531,2.1428422439716623,-1.6074807248470846,-0.34720846459580784,1.794010450886369,1.1527868746189893,-1.0330075669296148,-1.2692856481988872,0.10465851599215094,-0.2510697198009809,-1.2092758788023983,-1.0265487421241342,1.1453775472862973,-1.6782806947875952,-0.6494711680414502,-0.655796153619211,-1.2708864117686758,-0.33365398691898346,1.8025144616883073,1.0346854702318697,-2.5163247847906143,2.542583280696353,2.3949949016815104,2.1290716497124653,0.16240456806757295,-1.1902302975410735,0.5465484570051969,1.8930178842615,1.806156697208131,0.1408463812887792,0.14303667780895005,-0.7647931670397123,-0.9557348855224932,3.920814967488302,1.8766255644628913,-1.0825502294576856,-0.2017577029331582,1.796147674740656,0.08662304642053933,-1.8641948186360504,-0.9188536574657102,-1.0585067703352815,1.8790701546221613,-1.7781401911305574,-0.07229740032957421,-0.3921798226185832,-0.9705223205172662,1.7504349939608403,-1.8276136383485664,-0.3504565827767999,0.5539926360545929,-2.547949066906963,-0.36017064826808076,-1.5235053512931769,2.6010723733360743,-0.1049770765505265,-0.6578112104370923,-0.412744790917512,-0.42144190089958206,0.15573087123845997,-1.3354987769486137,-1.675347561690292,0.06892950216221724,1.2455031406023225,0.606628010889308,-1.2421797018108882,2.091415589070835,-0.6874825053578713,-1.7692389867578346,-0.7280537745710789,-0.9923343899627686,0.5827520697862061,0.19449149659355322,0.016075619281997806,1.9927924515564455,1.3719293981211602,-1.101755566335486,-1.019689154379382,-0.1717411498610376,2.0015277857450786,1.5594279783316725,-0.7871021033526281,-0.14359199419713067,0.9821873185596399,2.2303068712434135,0.38813380083697013,1.8631618632904101,-0.061931284093184644,0.2979277067488689,0.7296459418752024,-0.8128941934829585,1.4538427800492493,-1.3157020729427502,-0.957106433755298,1.6256324863378908,0.3916115385156125,0.2066683692463522,0.3050458171338639,0.9058609041560473,0.9038116929801222,0.5320232535790272,0.602459631689279,0.43932890514829254,-0.7398216014774738,0.7577470500602308,-0.7836251715780326,-0.22610473221538244,0.0011545717730387466,-0.5658665201340018,-0.6663327618259884,1.0489924755007558,-0.8808283740488434,0.06404000480765219,1.6569597762710593,0.830508968444126,-0.925181078655929,-1.5030815490746723,0.4799061107055349,0.6951600670104672,3.2437479802277216,-0.5483794641069314,-0.8364959576154588,0.440449924972573,-1.2712631541048456,1.5911076438041645,1.2412190073525842,0.5932732472085489,-0.03129874856792649,-0.159534067909106,-1.787523542479952,2.848662040682731,0.493320309104389,3.0574494931166605,2.8194413544319037,-1.5670010345579153,1.5068431237827902,0.4418153565761154,0.30000319066611286,0.15197247496284996,-0.055507310808666,-0.7378296093142742,-0.14281697768397128,0.06622385658216373,0.306406145913653,-0.45048758371771236,-0.4675965799104299,-1.5395161311022236,-0.06631964528004534,-0.13074879865696248,1.0345740793529081,-0.7692363282917546,-1.0269026893370838,-0.39870575293160193,0.7968945446169045,-0.25340109968070523,0.4665407689182552,-0.02404605738342507,-1.4038322391772553,-1.3995776985056219,-0.22733178152375894,1.2431236193732624,-0.27681241094949527,0.11368220765999965,1.3947836273654615,0.5427153579054458,0.8869452091641258,-0.09005621477313534,1.5783336021068424,-0.2714401254482963,-0.8314032217948027,0.317369290917275,-0.7270874604247621,0.016215169833324456,-0.9847200823229564,1.245015618504373,0.11313852848470618,-1.0196935890003633,-0.7904539250296684,-0.9645981709222193,-2.2651249928355677,1.0958659987821655,-0.1072471558963809,-0.6677411126171372,0.4027353884379509,1.0778633302687295,2.48675462552576,0.36154184364814285,0.9499806995861497,0.3074687455050873,1.741534449082889,-1.2048143182213085,-1.1395824939825328,1.8989128815327503,-0.10406245672682644,-0.4198261919373312,-0.4232041531216838,-0.5319440853059512,2.0296655109915855,-2.444861733647912,-1.0252924298028343,-1.982177287592114,1.028544944236673,-1.6859791679684462,-1.1286494262494087,-0.40553775112244156,-1.29319056255464,1.4948598811389855,2.4207564884012442,-1.2848280727187325,-0.8461619937272359,-1.171484569621015,-0.01708335596294165,2.6891998231180905,-0.24752776719237907,0.07929976826281004,0.5152631396879747,-0.1083948103335124,-1.1106715309031905,0.30296051213026737,1.4588575284253442,-0.23620152311031267,-1.2452239136777417,0.40878248306434567,0.7327407728881117,-0.6750928325647338,0.24887071964241114,-0.09029337267404136,-0.8404197650063262,0.5920179381180405,-0.030192601818692818,-0.08858444520119549,2.004947989888458,-0.6265723470278626,-1.39540522223356,-0.7195004041096159,0.45600518644768767,-1.0579688125020756,-0.7287146114133429,-0.25615655365383866,2.034357604975242,-0.9186553016958897,-0.9866471219952079,0.8179283401852967,1.5578907394125652,2.0162699922535112,-1.6163344051172845,-0.2814711634228596,-1.8729702908773136,-1.923608894311369,0.9462501061160925,0.01706509814852208,0.35805970353136474,0.3036897374392308,-1.223882843230785,-0.6628377949598075,-0.9542753851735479,-0.29427814579737943,-0.5651960797307667,0.24246302327059632,0.24020151654155944,1.953498447749949,-1.5736704793679326,2.0171062887241726,2.0738431506987602,-1.372569830722673,0.052391365157611204,0.2096393618773354,0.2833490134534703,0.3398231939202892,0.28489161262000057,0.36879367375885835,0.23202882636371117,-0.9718905213325124,0.6993022502833981,0.26731417201793795,0.19561095364794956,0.7158538291624567,0.2602224373102684,1.6234079412868112,-0.8694658892178502,-0.9616584404175554,-0.4546162083877434,-0.2177894969038486,-0.3495876742741465,0.06385560247346563,-1.515063029860004,-1.7464011731433289,0.8752288967520124,0.44197747860391956,0.3237819001427597,-0.9465340385229701,-0.3494496048695052,0.4663888310397199,0.19138921771653591,0.9470913742024504,-0.719864677414078,-0.9044321100988898,-1.1577499329285261,-1.692863570393646,-1.004479630348552,-0.7789624666446582,0.5585168518370222,-0.37380987106461033,-1.869589233278329,0.8477160868362156,1.408566669750006,-0.4140987725815913,1.724727279018025,0.7723613686495157,2.3253181099550706,0.7165149775554429,1.863396038048232,-0.6093822071126982,-0.4752893728055307,1.1975613645315255,-1.7615015344416132,0.2677091708743888,1.3062916793549544,-0.2907355746704431,-1.7636967502751588,-1.1546693449651948,-1.740986366091367,0.2767257739845724,0.04461007456342384,0.8437540480993395,0.25211635691879597,-0.24041641760564764,-1.6522387154817473,-0.2791230576730981,0.44061210689903774,0.1971292152690476,-0.3187651220297664,-0.9981314596397063,1.3736044660578512,-0.4957116615949238,-1.1990346188980132,0.8861998203367726,-1.1724542097354913,-0.09565842784327512,-1.5516933208601382,0.29461123716369125,-0.8200586729966713,-1.3619252827230355,0.2683839538170986,-1.2016688778982678,0.7959782612338133,0.42002532026846323,0.240185710722098,-1.446465734009544,-0.7517922037831843,0.5590677640494688,0.4228176247679019,-0.9755779315660965,0.714821598275219,0.43215976113779875,0.17704851584550552,1.5489425555865433,-1.3991665822789874,-0.9285658497181678,0.945319775843048,1.6146463725729678,0.645687927797471,-0.7258908282170831,0.07924902229828161,-0.6083943531812309,-0.5114250005563266,-0.8813012528834284,0.12975664991131716,1.8310204497732838,0.47269252318435984,-1.2379008738150528,0.030641059739620283,0.45386115607578925,0.19628356532092212,-1.0224475295443858,0.24425244536621882,0.01106753315797977,0.4549044933952215,-0.02726260628622581,-0.9115260160762969,0.4290795752455684,1.19831172324053,-0.6787791767629612,-0.5238099638278749,0.1961256324796133,0.4639116598501773,-0.3357544705956081,-1.4601777238728808,-0.3190247593256441,0.0013708635757212363,-1.0577511418967809,-0.19355913306029712,0.005650206892230287,0.14512098947639934,0.7504646814829419,-1.0532475424951344,-1.672432117507445,-0.3681608150722987,-0.1650467504045046,0.5962223973458732,-0.5691069330059952,-0.23254321404282116,0.8857000935859727,-0.2543693028279539,0.22160963836992997,0.2038126061795111,-0.7790799769186881,-1.8224428283573133,-0.5872410377768843,-0.6747057658381427,0.757208321723548,-0.2584749993694568,0.02631658647798359,-0.8748194283478827,-0.04176428384261828,0.1204675281003644,0.3095804536382211,-0.19331619611203302,-0.5771106085572811,-0.5061932614805851,-0.5248631150612045,-0.7908000015799738,-1.07665097117058,-1.0743006941510804,0.6422064989602745,0.5854726212989179,0.08804754907394972,-0.16599703636121435,1.0808904081476962,0.11732609625820827,-1.1807354077860892,-2.060266296390249,0.027868804373190663,0.11455666354243776,0.00362151552462444,-0.2711867651118775,0.7111613856661956,-0.9056194940578456,-0.8145161111634047,-0.023044778640339613,-0.04990497188912136,-1.2877296895936168,-1.6688810674467085,0.6486212794554965,-2.10136371688,-1.4663747944405148,0.08814637811864509,0.5457900405594184,1.1615793869812243,-0.6927008063589196,0.07251017123371509,-0.5466104038176278,-0.9669146703917089],\"yaxis\":\"y\",\"type\":\"scatter\"}],                        {\"template\":{\"data\":{\"histogram2dcontour\":[{\"type\":\"histogram2dcontour\",\"colorbar\":{\"outlinewidth\":0,\"ticks\":\"\"},\"colorscale\":[[0.0,\"#0d0887\"],[0.1111111111111111,\"#46039f\"],[0.2222222222222222,\"#7201a8\"],[0.3333333333333333,\"#9c179e\"],[0.4444444444444444,\"#bd3786\"],[0.5555555555555556,\"#d8576b\"],[0.6666666666666666,\"#ed7953\"],[0.7777777777777778,\"#fb9f3a\"],[0.8888888888888888,\"#fdca26\"],[1.0,\"#f0f921\"]]}],\"choropleth\":[{\"type\":\"choropleth\",\"colorbar\":{\"outlinewidth\":0,\"ticks\":\"\"}}],\"histogram2d\":[{\"type\":\"histogram2d\",\"colorbar\":{\"outlinewidth\":0,\"ticks\":\"\"},\"colorscale\":[[0.0,\"#0d0887\"],[0.1111111111111111,\"#46039f\"],[0.2222222222222222,\"#7201a8\"],[0.3333333333333333,\"#9c179e\"],[0.4444444444444444,\"#bd3786\"],[0.5555555555555556,\"#d8576b\"],[0.6666666666666666,\"#ed7953\"],[0.7777777777777778,\"#fb9f3a\"],[0.8888888888888888,\"#fdca26\"],[1.0,\"#f0f921\"]]}],\"heatmap\":[{\"type\":\"heatmap\",\"colorbar\":{\"outlinewidth\":0,\"ticks\":\"\"},\"colorscale\":[[0.0,\"#0d0887\"],[0.1111111111111111,\"#46039f\"],[0.2222222222222222,\"#7201a8\"],[0.3333333333333333,\"#9c179e\"],[0.4444444444444444,\"#bd3786\"],[0.5555555555555556,\"#d8576b\"],[0.6666666666666666,\"#ed7953\"],[0.7777777777777778,\"#fb9f3a\"],[0.8888888888888888,\"#fdca26\"],[1.0,\"#f0f921\"]]}],\"heatmapgl\":[{\"type\":\"heatmapgl\",\"colorbar\":{\"outlinewidth\":0,\"ticks\":\"\"},\"colorscale\":[[0.0,\"#0d0887\"],[0.1111111111111111,\"#46039f\"],[0.2222222222222222,\"#7201a8\"],[0.3333333333333333,\"#9c179e\"],[0.4444444444444444,\"#bd3786\"],[0.5555555555555556,\"#d8576b\"],[0.6666666666666666,\"#ed7953\"],[0.7777777777777778,\"#fb9f3a\"],[0.8888888888888888,\"#fdca26\"],[1.0,\"#f0f921\"]]}],\"contourcarpet\":[{\"type\":\"contourcarpet\",\"colorbar\":{\"outlinewidth\":0,\"ticks\":\"\"}}],\"contour\":[{\"type\":\"contour\",\"colorbar\":{\"outlinewidth\":0,\"ticks\":\"\"},\"colorscale\":[[0.0,\"#0d0887\"],[0.1111111111111111,\"#46039f\"],[0.2222222222222222,\"#7201a8\"],[0.3333333333333333,\"#9c179e\"],[0.4444444444444444,\"#bd3786\"],[0.5555555555555556,\"#d8576b\"],[0.6666666666666666,\"#ed7953\"],[0.7777777777777778,\"#fb9f3a\"],[0.8888888888888888,\"#fdca26\"],[1.0,\"#f0f921\"]]}],\"surface\":[{\"type\":\"surface\",\"colorbar\":{\"outlinewidth\":0,\"ticks\":\"\"},\"colorscale\":[[0.0,\"#0d0887\"],[0.1111111111111111,\"#46039f\"],[0.2222222222222222,\"#7201a8\"],[0.3333333333333333,\"#9c179e\"],[0.4444444444444444,\"#bd3786\"],[0.5555555555555556,\"#d8576b\"],[0.6666666666666666,\"#ed7953\"],[0.7777777777777778,\"#fb9f3a\"],[0.8888888888888888,\"#fdca26\"],[1.0,\"#f0f921\"]]}],\"mesh3d\":[{\"type\":\"mesh3d\",\"colorbar\":{\"outlinewidth\":0,\"ticks\":\"\"}}],\"scatter\":[{\"fillpattern\":{\"fillmode\":\"overlay\",\"size\":10,\"solidity\":0.2},\"type\":\"scatter\"}],\"parcoords\":[{\"type\":\"parcoords\",\"line\":{\"colorbar\":{\"outlinewidth\":0,\"ticks\":\"\"}}}],\"scatterpolargl\":[{\"type\":\"scatterpolargl\",\"marker\":{\"colorbar\":{\"outlinewidth\":0,\"ticks\":\"\"}}}],\"bar\":[{\"error_x\":{\"color\":\"#2a3f5f\"},\"error_y\":{\"color\":\"#2a3f5f\"},\"marker\":{\"line\":{\"color\":\"#E5ECF6\",\"width\":0.5},\"pattern\":{\"fillmode\":\"overlay\",\"size\":10,\"solidity\":0.2}},\"type\":\"bar\"}],\"scattergeo\":[{\"type\":\"scattergeo\",\"marker\":{\"colorbar\":{\"outlinewidth\":0,\"ticks\":\"\"}}}],\"scatterpolar\":[{\"type\":\"scatterpolar\",\"marker\":{\"colorbar\":{\"outlinewidth\":0,\"ticks\":\"\"}}}],\"histogram\":[{\"marker\":{\"pattern\":{\"fillmode\":\"overlay\",\"size\":10,\"solidity\":0.2}},\"type\":\"histogram\"}],\"scattergl\":[{\"type\":\"scattergl\",\"marker\":{\"colorbar\":{\"outlinewidth\":0,\"ticks\":\"\"}}}],\"scatter3d\":[{\"type\":\"scatter3d\",\"line\":{\"colorbar\":{\"outlinewidth\":0,\"ticks\":\"\"}},\"marker\":{\"colorbar\":{\"outlinewidth\":0,\"ticks\":\"\"}}}],\"scattermapbox\":[{\"type\":\"scattermapbox\",\"marker\":{\"colorbar\":{\"outlinewidth\":0,\"ticks\":\"\"}}}],\"scatterternary\":[{\"type\":\"scatterternary\",\"marker\":{\"colorbar\":{\"outlinewidth\":0,\"ticks\":\"\"}}}],\"scattercarpet\":[{\"type\":\"scattercarpet\",\"marker\":{\"colorbar\":{\"outlinewidth\":0,\"ticks\":\"\"}}}],\"carpet\":[{\"aaxis\":{\"endlinecolor\":\"#2a3f5f\",\"gridcolor\":\"white\",\"linecolor\":\"white\",\"minorgridcolor\":\"white\",\"startlinecolor\":\"#2a3f5f\"},\"baxis\":{\"endlinecolor\":\"#2a3f5f\",\"gridcolor\":\"white\",\"linecolor\":\"white\",\"minorgridcolor\":\"white\",\"startlinecolor\":\"#2a3f5f\"},\"type\":\"carpet\"}],\"table\":[{\"cells\":{\"fill\":{\"color\":\"#EBF0F8\"},\"line\":{\"color\":\"white\"}},\"header\":{\"fill\":{\"color\":\"#C8D4E3\"},\"line\":{\"color\":\"white\"}},\"type\":\"table\"}],\"barpolar\":[{\"marker\":{\"line\":{\"color\":\"#E5ECF6\",\"width\":0.5},\"pattern\":{\"fillmode\":\"overlay\",\"size\":10,\"solidity\":0.2}},\"type\":\"barpolar\"}],\"pie\":[{\"automargin\":true,\"type\":\"pie\"}]},\"layout\":{\"autotypenumbers\":\"strict\",\"colorway\":[\"#636efa\",\"#EF553B\",\"#00cc96\",\"#ab63fa\",\"#FFA15A\",\"#19d3f3\",\"#FF6692\",\"#B6E880\",\"#FF97FF\",\"#FECB52\"],\"font\":{\"color\":\"#2a3f5f\"},\"hovermode\":\"closest\",\"hoverlabel\":{\"align\":\"left\"},\"paper_bgcolor\":\"white\",\"plot_bgcolor\":\"#E5ECF6\",\"polar\":{\"bgcolor\":\"#E5ECF6\",\"angularaxis\":{\"gridcolor\":\"white\",\"linecolor\":\"white\",\"ticks\":\"\"},\"radialaxis\":{\"gridcolor\":\"white\",\"linecolor\":\"white\",\"ticks\":\"\"}},\"ternary\":{\"bgcolor\":\"#E5ECF6\",\"aaxis\":{\"gridcolor\":\"white\",\"linecolor\":\"white\",\"ticks\":\"\"},\"baxis\":{\"gridcolor\":\"white\",\"linecolor\":\"white\",\"ticks\":\"\"},\"caxis\":{\"gridcolor\":\"white\",\"linecolor\":\"white\",\"ticks\":\"\"}},\"coloraxis\":{\"colorbar\":{\"outlinewidth\":0,\"ticks\":\"\"}},\"colorscale\":{\"sequential\":[[0.0,\"#0d0887\"],[0.1111111111111111,\"#46039f\"],[0.2222222222222222,\"#7201a8\"],[0.3333333333333333,\"#9c179e\"],[0.4444444444444444,\"#bd3786\"],[0.5555555555555556,\"#d8576b\"],[0.6666666666666666,\"#ed7953\"],[0.7777777777777778,\"#fb9f3a\"],[0.8888888888888888,\"#fdca26\"],[1.0,\"#f0f921\"]],\"sequentialminus\":[[0.0,\"#0d0887\"],[0.1111111111111111,\"#46039f\"],[0.2222222222222222,\"#7201a8\"],[0.3333333333333333,\"#9c179e\"],[0.4444444444444444,\"#bd3786\"],[0.5555555555555556,\"#d8576b\"],[0.6666666666666666,\"#ed7953\"],[0.7777777777777778,\"#fb9f3a\"],[0.8888888888888888,\"#fdca26\"],[1.0,\"#f0f921\"]],\"diverging\":[[0,\"#8e0152\"],[0.1,\"#c51b7d\"],[0.2,\"#de77ae\"],[0.3,\"#f1b6da\"],[0.4,\"#fde0ef\"],[0.5,\"#f7f7f7\"],[0.6,\"#e6f5d0\"],[0.7,\"#b8e186\"],[0.8,\"#7fbc41\"],[0.9,\"#4d9221\"],[1,\"#276419\"]]},\"xaxis\":{\"gridcolor\":\"white\",\"linecolor\":\"white\",\"ticks\":\"\",\"title\":{\"standoff\":15},\"zerolinecolor\":\"white\",\"automargin\":true,\"zerolinewidth\":2},\"yaxis\":{\"gridcolor\":\"white\",\"linecolor\":\"white\",\"ticks\":\"\",\"title\":{\"standoff\":15},\"zerolinecolor\":\"white\",\"automargin\":true,\"zerolinewidth\":2},\"scene\":{\"xaxis\":{\"backgroundcolor\":\"#E5ECF6\",\"gridcolor\":\"white\",\"linecolor\":\"white\",\"showbackground\":true,\"ticks\":\"\",\"zerolinecolor\":\"white\",\"gridwidth\":2},\"yaxis\":{\"backgroundcolor\":\"#E5ECF6\",\"gridcolor\":\"white\",\"linecolor\":\"white\",\"showbackground\":true,\"ticks\":\"\",\"zerolinecolor\":\"white\",\"gridwidth\":2},\"zaxis\":{\"backgroundcolor\":\"#E5ECF6\",\"gridcolor\":\"white\",\"linecolor\":\"white\",\"showbackground\":true,\"ticks\":\"\",\"zerolinecolor\":\"white\",\"gridwidth\":2}},\"shapedefaults\":{\"line\":{\"color\":\"#2a3f5f\"}},\"annotationdefaults\":{\"arrowcolor\":\"#2a3f5f\",\"arrowhead\":0,\"arrowwidth\":1},\"geo\":{\"bgcolor\":\"white\",\"landcolor\":\"#E5ECF6\",\"subunitcolor\":\"white\",\"showland\":true,\"showlakes\":true,\"lakecolor\":\"white\"},\"title\":{\"x\":0.05},\"mapbox\":{\"style\":\"light\"}}},\"xaxis\":{\"anchor\":\"y\",\"domain\":[0.0,1.0],\"title\":{\"text\":\"PC1\"}},\"yaxis\":{\"anchor\":\"x\",\"domain\":[0.0,1.0],\"title\":{\"text\":\"PC2\"}},\"legend\":{\"tracegroupgap\":0},\"title\":{\"text\":\"Visualiza\\u00e7\\u00e3o PCA 2\"},\"height\":800,\"width\":1200},                        {\"responsive\": true}                    ).then(function(){\n",
       "                            \n",
       "var gd = document.getElementById('824347ae-936d-4d71-be61-7eae2b717aca');\n",
       "var x = new MutationObserver(function (mutations, observer) {{\n",
       "        var display = window.getComputedStyle(gd).display;\n",
       "        if (!display || display === 'none') {{\n",
       "            console.log([gd, 'removed!']);\n",
       "            Plotly.purge(gd);\n",
       "            observer.disconnect();\n",
       "        }}\n",
       "}});\n",
       "\n",
       "// Listen for the removal of the full notebook cells\n",
       "var notebookContainer = gd.closest('#notebook-container');\n",
       "if (notebookContainer) {{\n",
       "    x.observe(notebookContainer, {childList: true});\n",
       "}}\n",
       "\n",
       "// Listen for the clearing of the current output cell\n",
       "var outputEl = gd.closest('.output');\n",
       "if (outputEl) {{\n",
       "    x.observe(outputEl, {childList: true});\n",
       "}}\n",
       "\n",
       "                        })                };                });            </script>        </div>"
      ]
     },
     "metadata": {},
     "output_type": "display_data"
    }
   ],
   "source": [
    "# Mostrar Chart 2D com os componentes principais (2 componentes)\n",
    "fig = px.scatter(df2, x='PC1', y='PC2', title='Visualização PCA 2', width=1200, height=800, hover_data=['price'])\n",
    "fig.show()"
   ]
  },
  {
   "cell_type": "code",
   "execution_count": 69,
   "id": "8d691fe7",
   "metadata": {},
   "outputs": [
    {
     "data": {
      "application/vnd.plotly.v1+json": {
       "config": {
        "plotlyServerURL": "https://plot.ly"
       },
       "data": [
        {
         "customdata": [
          [
           13300000
          ],
          [
           12250000
          ],
          [
           12250000
          ],
          [
           12215000
          ],
          [
           11410000
          ],
          [
           10850000
          ],
          [
           10150000
          ],
          [
           10150000
          ],
          [
           9870000
          ],
          [
           9800000
          ],
          [
           9800000
          ],
          [
           9681000
          ],
          [
           9310000
          ],
          [
           9240000
          ],
          [
           9240000
          ],
          [
           9100000
          ],
          [
           9100000
          ],
          [
           8960000
          ],
          [
           8890000
          ],
          [
           8855000
          ],
          [
           8750000
          ],
          [
           8680000
          ],
          [
           8645000
          ],
          [
           8645000
          ],
          [
           8575000
          ],
          [
           8540000
          ],
          [
           8463000
          ],
          [
           8400000
          ],
          [
           8400000
          ],
          [
           8400000
          ],
          [
           8400000
          ],
          [
           8400000
          ],
          [
           8295000
          ],
          [
           8190000
          ],
          [
           8120000
          ],
          [
           8080940
          ],
          [
           8043000
          ],
          [
           7980000
          ],
          [
           7962500
          ],
          [
           7910000
          ],
          [
           7875000
          ],
          [
           7840000
          ],
          [
           7700000
          ],
          [
           7700000
          ],
          [
           7560000
          ],
          [
           7560000
          ],
          [
           7525000
          ],
          [
           7490000
          ],
          [
           7455000
          ],
          [
           7420000
          ],
          [
           7420000
          ],
          [
           7420000
          ],
          [
           7350000
          ],
          [
           7350000
          ],
          [
           7350000
          ],
          [
           7350000
          ],
          [
           7343000
          ],
          [
           7245000
          ],
          [
           7210000
          ],
          [
           7210000
          ],
          [
           7140000
          ],
          [
           7070000
          ],
          [
           7070000
          ],
          [
           7035000
          ],
          [
           7000000
          ],
          [
           6930000
          ],
          [
           6930000
          ],
          [
           6895000
          ],
          [
           6860000
          ],
          [
           6790000
          ],
          [
           6790000
          ],
          [
           6755000
          ],
          [
           6720000
          ],
          [
           6685000
          ],
          [
           6650000
          ],
          [
           6650000
          ],
          [
           6650000
          ],
          [
           6650000
          ],
          [
           6650000
          ],
          [
           6650000
          ],
          [
           6629000
          ],
          [
           6615000
          ],
          [
           6615000
          ],
          [
           6580000
          ],
          [
           6510000
          ],
          [
           6510000
          ],
          [
           6510000
          ],
          [
           6475000
          ],
          [
           6475000
          ],
          [
           6440000
          ],
          [
           6440000
          ],
          [
           6419000
          ],
          [
           6405000
          ],
          [
           6300000
          ],
          [
           6300000
          ],
          [
           6300000
          ],
          [
           6300000
          ],
          [
           6300000
          ],
          [
           6293000
          ],
          [
           6265000
          ],
          [
           6230000
          ],
          [
           6230000
          ],
          [
           6195000
          ],
          [
           6195000
          ],
          [
           6195000
          ],
          [
           6160000
          ],
          [
           6160000
          ],
          [
           6125000
          ],
          [
           6107500
          ],
          [
           6090000
          ],
          [
           6090000
          ],
          [
           6090000
          ],
          [
           6083000
          ],
          [
           6083000
          ],
          [
           6020000
          ],
          [
           6020000
          ],
          [
           6020000
          ],
          [
           5950000
          ],
          [
           5950000
          ],
          [
           5950000
          ],
          [
           5950000
          ],
          [
           5950000
          ],
          [
           5950000
          ],
          [
           5950000
          ],
          [
           5950000
          ],
          [
           5943000
          ],
          [
           5880000
          ],
          [
           5880000
          ],
          [
           5873000
          ],
          [
           5873000
          ],
          [
           5866000
          ],
          [
           5810000
          ],
          [
           5810000
          ],
          [
           5810000
          ],
          [
           5803000
          ],
          [
           5775000
          ],
          [
           5740000
          ],
          [
           5740000
          ],
          [
           5740000
          ],
          [
           5740000
          ],
          [
           5740000
          ],
          [
           5652500
          ],
          [
           5600000
          ],
          [
           5600000
          ],
          [
           5600000
          ],
          [
           5600000
          ],
          [
           5600000
          ],
          [
           5600000
          ],
          [
           5600000
          ],
          [
           5600000
          ],
          [
           5600000
          ],
          [
           5565000
          ],
          [
           5565000
          ],
          [
           5530000
          ],
          [
           5530000
          ],
          [
           5530000
          ],
          [
           5523000
          ],
          [
           5495000
          ],
          [
           5495000
          ],
          [
           5460000
          ],
          [
           5460000
          ],
          [
           5460000
          ],
          [
           5460000
          ],
          [
           5425000
          ],
          [
           5390000
          ],
          [
           5383000
          ],
          [
           5320000
          ],
          [
           5285000
          ],
          [
           5250000
          ],
          [
           5250000
          ],
          [
           5250000
          ],
          [
           5250000
          ],
          [
           5250000
          ],
          [
           5250000
          ],
          [
           5250000
          ],
          [
           5250000
          ],
          [
           5250000
          ],
          [
           5243000
          ],
          [
           5229000
          ],
          [
           5215000
          ],
          [
           5215000
          ],
          [
           5215000
          ],
          [
           5145000
          ],
          [
           5145000
          ],
          [
           5110000
          ],
          [
           5110000
          ],
          [
           5110000
          ],
          [
           5110000
          ],
          [
           5075000
          ],
          [
           5040000
          ],
          [
           5040000
          ],
          [
           5040000
          ],
          [
           5040000
          ],
          [
           5033000
          ],
          [
           5005000
          ],
          [
           4970000
          ],
          [
           4970000
          ],
          [
           4956000
          ],
          [
           4935000
          ],
          [
           4907000
          ],
          [
           4900000
          ],
          [
           4900000
          ],
          [
           4900000
          ],
          [
           4900000
          ],
          [
           4900000
          ],
          [
           4900000
          ],
          [
           4900000
          ],
          [
           4900000
          ],
          [
           4900000
          ],
          [
           4900000
          ],
          [
           4900000
          ],
          [
           4900000
          ],
          [
           4893000
          ],
          [
           4893000
          ],
          [
           4865000
          ],
          [
           4830000
          ],
          [
           4830000
          ],
          [
           4830000
          ],
          [
           4830000
          ],
          [
           4795000
          ],
          [
           4795000
          ],
          [
           4767000
          ],
          [
           4760000
          ],
          [
           4760000
          ],
          [
           4760000
          ],
          [
           4753000
          ],
          [
           4690000
          ],
          [
           4690000
          ],
          [
           4690000
          ],
          [
           4690000
          ],
          [
           4690000
          ],
          [
           4690000
          ],
          [
           4655000
          ],
          [
           4620000
          ],
          [
           4620000
          ],
          [
           4620000
          ],
          [
           4620000
          ],
          [
           4620000
          ],
          [
           4613000
          ],
          [
           4585000
          ],
          [
           4585000
          ],
          [
           4550000
          ],
          [
           4550000
          ],
          [
           4550000
          ],
          [
           4550000
          ],
          [
           4550000
          ],
          [
           4550000
          ],
          [
           4550000
          ],
          [
           4543000
          ],
          [
           4543000
          ],
          [
           4515000
          ],
          [
           4515000
          ],
          [
           4515000
          ],
          [
           4515000
          ],
          [
           4480000
          ],
          [
           4480000
          ],
          [
           4480000
          ],
          [
           4480000
          ],
          [
           4480000
          ],
          [
           4473000
          ],
          [
           4473000
          ],
          [
           4473000
          ],
          [
           4445000
          ],
          [
           4410000
          ],
          [
           4410000
          ],
          [
           4403000
          ],
          [
           4403000
          ],
          [
           4403000
          ],
          [
           4382000
          ],
          [
           4375000
          ],
          [
           4340000
          ],
          [
           4340000
          ],
          [
           4340000
          ],
          [
           4340000
          ],
          [
           4340000
          ],
          [
           4319000
          ],
          [
           4305000
          ],
          [
           4305000
          ],
          [
           4277000
          ],
          [
           4270000
          ],
          [
           4270000
          ],
          [
           4270000
          ],
          [
           4270000
          ],
          [
           4270000
          ],
          [
           4270000
          ],
          [
           4235000
          ],
          [
           4235000
          ],
          [
           4200000
          ],
          [
           4200000
          ],
          [
           4200000
          ],
          [
           4200000
          ],
          [
           4200000
          ],
          [
           4200000
          ],
          [
           4200000
          ],
          [
           4200000
          ],
          [
           4200000
          ],
          [
           4200000
          ],
          [
           4200000
          ],
          [
           4200000
          ],
          [
           4200000
          ],
          [
           4200000
          ],
          [
           4200000
          ],
          [
           4200000
          ],
          [
           4200000
          ],
          [
           4193000
          ],
          [
           4193000
          ],
          [
           4165000
          ],
          [
           4165000
          ],
          [
           4165000
          ],
          [
           4130000
          ],
          [
           4130000
          ],
          [
           4123000
          ],
          [
           4098500
          ],
          [
           4095000
          ],
          [
           4095000
          ],
          [
           4095000
          ],
          [
           4060000
          ],
          [
           4060000
          ],
          [
           4060000
          ],
          [
           4060000
          ],
          [
           4060000
          ],
          [
           4025000
          ],
          [
           4025000
          ],
          [
           4025000
          ],
          [
           4007500
          ],
          [
           4007500
          ],
          [
           3990000
          ],
          [
           3990000
          ],
          [
           3990000
          ],
          [
           3990000
          ],
          [
           3990000
          ],
          [
           3920000
          ],
          [
           3920000
          ],
          [
           3920000
          ],
          [
           3920000
          ],
          [
           3920000
          ],
          [
           3920000
          ],
          [
           3920000
          ],
          [
           3885000
          ],
          [
           3885000
          ],
          [
           3850000
          ],
          [
           3850000
          ],
          [
           3850000
          ],
          [
           3850000
          ],
          [
           3850000
          ],
          [
           3850000
          ],
          [
           3850000
          ],
          [
           3836000
          ],
          [
           3815000
          ],
          [
           3780000
          ],
          [
           3780000
          ],
          [
           3780000
          ],
          [
           3780000
          ],
          [
           3780000
          ],
          [
           3780000
          ],
          [
           3773000
          ],
          [
           3773000
          ],
          [
           3773000
          ],
          [
           3745000
          ],
          [
           3710000
          ],
          [
           3710000
          ],
          [
           3710000
          ],
          [
           3710000
          ],
          [
           3710000
          ],
          [
           3703000
          ],
          [
           3703000
          ],
          [
           3675000
          ],
          [
           3675000
          ],
          [
           3675000
          ],
          [
           3675000
          ],
          [
           3640000
          ],
          [
           3640000
          ],
          [
           3640000
          ],
          [
           3640000
          ],
          [
           3640000
          ],
          [
           3640000
          ],
          [
           3640000
          ],
          [
           3640000
          ],
          [
           3640000
          ],
          [
           3633000
          ],
          [
           3605000
          ],
          [
           3605000
          ],
          [
           3570000
          ],
          [
           3570000
          ],
          [
           3570000
          ],
          [
           3570000
          ],
          [
           3535000
          ],
          [
           3500000
          ],
          [
           3500000
          ],
          [
           3500000
          ],
          [
           3500000
          ],
          [
           3500000
          ],
          [
           3500000
          ],
          [
           3500000
          ],
          [
           3500000
          ],
          [
           3500000
          ],
          [
           3500000
          ],
          [
           3500000
          ],
          [
           3500000
          ],
          [
           3500000
          ],
          [
           3500000
          ],
          [
           3500000
          ],
          [
           3500000
          ],
          [
           3500000
          ],
          [
           3493000
          ],
          [
           3465000
          ],
          [
           3465000
          ],
          [
           3465000
          ],
          [
           3430000
          ],
          [
           3430000
          ],
          [
           3430000
          ],
          [
           3430000
          ],
          [
           3430000
          ],
          [
           3430000
          ],
          [
           3423000
          ],
          [
           3395000
          ],
          [
           3395000
          ],
          [
           3395000
          ],
          [
           3360000
          ],
          [
           3360000
          ],
          [
           3360000
          ],
          [
           3360000
          ],
          [
           3360000
          ],
          [
           3360000
          ],
          [
           3360000
          ],
          [
           3360000
          ],
          [
           3353000
          ],
          [
           3332000
          ],
          [
           3325000
          ],
          [
           3325000
          ],
          [
           3290000
          ],
          [
           3290000
          ],
          [
           3290000
          ],
          [
           3290000
          ],
          [
           3290000
          ],
          [
           3290000
          ],
          [
           3290000
          ],
          [
           3290000
          ],
          [
           3255000
          ],
          [
           3255000
          ],
          [
           3234000
          ],
          [
           3220000
          ],
          [
           3220000
          ],
          [
           3220000
          ],
          [
           3220000
          ],
          [
           3150000
          ],
          [
           3150000
          ],
          [
           3150000
          ],
          [
           3150000
          ],
          [
           3150000
          ],
          [
           3150000
          ],
          [
           3150000
          ],
          [
           3150000
          ],
          [
           3150000
          ],
          [
           3143000
          ],
          [
           3129000
          ],
          [
           3118850
          ],
          [
           3115000
          ],
          [
           3115000
          ],
          [
           3115000
          ],
          [
           3087000
          ],
          [
           3080000
          ],
          [
           3080000
          ],
          [
           3080000
          ],
          [
           3080000
          ],
          [
           3045000
          ],
          [
           3010000
          ],
          [
           3010000
          ],
          [
           3010000
          ],
          [
           3010000
          ],
          [
           3010000
          ],
          [
           3010000
          ],
          [
           3010000
          ],
          [
           3003000
          ],
          [
           2975000
          ],
          [
           2961000
          ],
          [
           2940000
          ],
          [
           2940000
          ],
          [
           2940000
          ],
          [
           2940000
          ],
          [
           2940000
          ],
          [
           2940000
          ],
          [
           2940000
          ],
          [
           2940000
          ],
          [
           2870000
          ],
          [
           2870000
          ],
          [
           2870000
          ],
          [
           2870000
          ],
          [
           2852500
          ],
          [
           2835000
          ],
          [
           2835000
          ],
          [
           2835000
          ],
          [
           2800000
          ],
          [
           2800000
          ],
          [
           2730000
          ],
          [
           2730000
          ],
          [
           2695000
          ],
          [
           2660000
          ],
          [
           2660000
          ],
          [
           2660000
          ],
          [
           2660000
          ],
          [
           2660000
          ],
          [
           2660000
          ],
          [
           2660000
          ],
          [
           2653000
          ],
          [
           2653000
          ],
          [
           2604000
          ],
          [
           2590000
          ],
          [
           2590000
          ],
          [
           2590000
          ],
          [
           2520000
          ],
          [
           2520000
          ],
          [
           2520000
          ],
          [
           2485000
          ],
          [
           2485000
          ],
          [
           2450000
          ],
          [
           2450000
          ],
          [
           2450000
          ],
          [
           2450000
          ],
          [
           2450000
          ],
          [
           2450000
          ],
          [
           2408000
          ],
          [
           2380000
          ],
          [
           2380000
          ],
          [
           2380000
          ],
          [
           2345000
          ],
          [
           2310000
          ],
          [
           2275000
          ],
          [
           2275000
          ],
          [
           2275000
          ],
          [
           2240000
          ],
          [
           2233000
          ],
          [
           2135000
          ],
          [
           2100000
          ],
          [
           2100000
          ],
          [
           2100000
          ],
          [
           1960000
          ],
          [
           1890000
          ],
          [
           1890000
          ],
          [
           1855000
          ],
          [
           1820000
          ],
          [
           1767150
          ],
          [
           1750000
          ],
          [
           1750000
          ],
          [
           1750000
          ]
         ],
         "hovertemplate": "PC1=%{x}<br>PC2=%{y}<br>PC3=%{z}<br>price=%{customdata[0]}<extra></extra>",
         "legendgroup": "",
         "marker": {
          "color": "#636efa",
          "symbol": "circle"
         },
         "mode": "markers",
         "name": "",
         "scene": "scene",
         "showlegend": false,
         "type": "scatter3d",
         "x": [
          5.038270106559798,
          7.4866067157783425,
          4.176727057874454,
          4.681766735160099,
          3.219831366633676,
          3.789790225561365,
          5.557212780679285,
          5.70911269380755,
          2.8911796232240143,
          3.134693890300788,
          3.2093849688329383,
          4.144632876276479,
          2.9145630577939197,
          2.7835928912497,
          2.2175374129907386,
          2.269996309337216,
          2.762755762331682,
          3.864472662496392,
          2.3431966736360192,
          2.2354490736659853,
          1.358464022279322,
          2.1525015700924213,
          1.2208419455772603,
          1.9030399152736304,
          2.964188549602192,
          3.097022201017843,
          2.5286734732620717,
          1.2466957290251943,
          3.6784654336112976,
          2.474315182305473,
          3.386254201763652,
          2.5519205482997953,
          2.382318524490122,
          2.719643739220648,
          2.3363921836573285,
          3.3568799813468346,
          2.644795501373153,
          4.192663624065576,
          2.1565909765239635,
          3.2579657135851616,
          0.802002990001625,
          2.4534510680685386,
          3.0158583172125875,
          3.5601931362466495,
          3.2004231218026065,
          1.8483140128865816,
          2.664402587674933,
          2.627931094015,
          1.3728757495643975,
          1.2118490290034043,
          2.735086472859718,
          1.692539827196207,
          3.139892168210344,
          2.7893237763969223,
          1.7304650756193112,
          0.7771312657685914,
          2.322730951496969,
          3.618046910238902,
          3.340911190819445,
          2.57360615728654,
          1.6699341220270485,
          0.33824834810994237,
          2.2597051277357814,
          3.052788180405905,
          1.276287203713588,
          2.1408289093777055,
          1.0733618250272046,
          1.730351470978006,
          0.3589083571794877,
          3.5331749925746636,
          0.8673440105697307,
          2.462537080390243,
          0.9068488104461707,
          1.6352723989547733,
          0.3862858872171867,
          1.39698516900199,
          1.700534375493449,
          1.7140922479954406,
          0.610293757958509,
          1.6293555448579922,
          0.6690583372855419,
          1.179659925496597,
          1.9045030372258849,
          1.985912589384781,
          0.6178954097812425,
          1.9703167399150017,
          0.7058726172787275,
          0.22162523884208543,
          0.7065584783067597,
          4.2169542534253,
          0.08234869652385515,
          0.1957247437333663,
          1.7754443713992372,
          1.9366187877666183,
          2.793895069377812,
          1.8886455719182058,
          0.7059126997581442,
          0.22193951257219532,
          1.4850446244611468,
          1.0476380310792017,
          0.6267326185259491,
          0.7896391700678339,
          2.152960847581937,
          1.557520837604303,
          1.2988324749206261,
          0.6573067629371904,
          1.037343270825078,
          0.552530850790855,
          0.9970016030037608,
          1.9974375407870908,
          0.5580616164886643,
          1.5987712000815824,
          2.3355369451496837,
          1.1111959358569943,
          0.08918960222181094,
          0.7751474007427658,
          0.617043686816155,
          0.29006874938472116,
          -0.19497198733861448,
          0.5888864780626126,
          0.550881573921879,
          0.3192049742078702,
          1.4758273121315846,
          1.757146277766848,
          2.299393974027283,
          2.0409506054481534,
          0.4926857582266245,
          1.3490530751022083,
          0.8298288920159235,
          2.1593064387968446,
          -0.6368236299957882,
          1.4071645778624964,
          0.3547268769308064,
          0.18718750223712785,
          0.5431253424225305,
          1.6541272550973873,
          1.9536507935793523,
          0.7082588430733975,
          0.3006552111450727,
          0.4598454072001342,
          1.6101440815770305,
          1.878957690752247,
          2.5146028324497847,
          2.0321044300364552,
          0.7214156092595994,
          0.7237199328835403,
          0.18907859112943493,
          1.1413037592130058,
          0.490785074617424,
          1.0708218117951749,
          -0.23647674677552952,
          0.9799011404942889,
          0.9931321669951925,
          1.2391107022907264,
          1.1703593493274453,
          1.2088351656433984,
          -0.2800466888354816,
          1.225615506114838,
          0.6204305486366104,
          -0.03680511990580685,
          1.414360827276952,
          0.4063680199244419,
          1.4505442026624262,
          -0.32100497264915456,
          1.3291779580845844,
          0.3571700947625872,
          0.4397328619965236,
          0.31473123763990196,
          0.1832040115911204,
          1.3798448446936702,
          0.2575841003767218,
          0.5749773534884574,
          0.9413162811594675,
          0.6498714488003178,
          -0.20101976395881088,
          2.6578449016573393,
          0.6846690730386319,
          -0.5048070222921611,
          0.39207930880371167,
          0.9999104179898493,
          1.3294709962062476,
          0.5081936681653983,
          -0.5603882332721847,
          0.1567872497290863,
          0.25696530642794696,
          -0.7397108342939896,
          0.30272081367053566,
          -0.5346696225868494,
          -0.8147637033539419,
          -1.5146305690436352,
          1.4142309874645187,
          0.6448074216756822,
          -0.42676757310893904,
          -1.30311177559034,
          0.6360691811475585,
          2.517259101379628,
          -0.30623876929637167,
          0.4980973045878447,
          -0.19079568173875935,
          -0.08900528259461092,
          -0.4428921981646893,
          -0.5149183958315207,
          -1.0939315862119505,
          0.23217644121951503,
          -0.8206002065247253,
          0.16421085758337253,
          -1.1719746399238757,
          -0.700491775702533,
          -0.28549961796202,
          -0.589877076472396,
          0.3039782035334528,
          1.3260776698689098,
          1.4737019485166492,
          0.5950294509633469,
          -1.5275495834715735,
          -0.20375326120936593,
          0.09997078742114465,
          0.7026966181790872,
          -1.3590829296354043,
          -0.1526136395827963,
          2.2251586337306306,
          0.7118666238537867,
          0.08363562904342359,
          0.22807614459986125,
          0.16590005519894327,
          -0.0176081986612687,
          0.4468872821792505,
          -0.7925102051361904,
          0.07126226916589466,
          2.1111306861229906,
          -0.8802185960973379,
          -0.9573941929406913,
          -0.601511203014158,
          -1.1044369346591494,
          0.9470374338708649,
          0.035747391244926534,
          -1.3291632985035817,
          -0.44055816721300706,
          0.8522032707257647,
          -0.21571409269106068,
          -0.2861721685662611,
          -0.36713651700863703,
          -0.6495713874691538,
          -0.834297400308792,
          -0.40819839579854333,
          0.22434728077623767,
          -1.1333268870221178,
          2.4683895738254926,
          -0.7093982540310472,
          0.9567158520781783,
          -0.3049573934927239,
          -0.3724437815442253,
          -0.06895398350464832,
          -1.2059287303498132,
          0.6857999549578362,
          -1.0156229435050026,
          0.1167788067665611,
          -0.30855232900139307,
          -0.28254296410741314,
          -0.7940484309225654,
          -0.3900159823986314,
          -0.7371399441399367,
          -1.6505455222373182,
          -0.6776804101437125,
          -1.0456632373578036,
          -0.864085174623876,
          -0.3194479816790564,
          -0.1556010495693335,
          0.006603722868229455,
          -0.7990431062195025,
          1.0720633221845084,
          0.004383051905010532,
          -0.37428334762430765,
          0.5176201764298985,
          0.2487076415621223,
          -1.595730262951938,
          -1.2179834009663915,
          -0.2079218995680051,
          -0.08676082300878196,
          -1.215320062315506,
          -0.9383360454416824,
          -0.8050238454793087,
          -1.1216502088398308,
          -0.08232643121194992,
          -0.6136041832141482,
          -0.2735951958413246,
          -1.3050049933387953,
          -0.5783281175065529,
          -0.6562858843930055,
          -0.6397540624101693,
          1.2647433877390104,
          -1.0099768832887153,
          0.43437744673167095,
          -1.3463041558834934,
          0.6467276247941168,
          -1.0166561702456312,
          0.5852380029505129,
          -0.03996485551086047,
          -0.12229569086161912,
          0.48717310379322754,
          -0.29932345571070224,
          -0.8141354497471293,
          -0.36407665937631956,
          -1.0247855406552735,
          0.6536548323125557,
          -0.4652579103856949,
          -0.2377606694758898,
          -0.0038020819910589056,
          -0.37232255405815784,
          -0.11992596463790325,
          -0.8366368477390226,
          -0.9891177063300233,
          -1.2065682338722743,
          0.03629861612772352,
          -0.9194484208888564,
          -1.4379046432825302,
          1.191381491724945,
          0.8743259732187963,
          -1.1355975855919827,
          0.7289095642269763,
          0.04994838959000168,
          0.7331647137907299,
          -0.035138170587298415,
          0.12223086155528924,
          -0.7035382190573047,
          -0.3538585197209026,
          -0.7702661579501365,
          -0.010266744511944438,
          0.14500133247700803,
          -0.7567557737072209,
          -1.4105275520597114,
          1.3041120489686828,
          -0.03335400158355546,
          -0.9829695591330926,
          -1.4737299659794583,
          -1.02182857802511,
          0.183395737322129,
          -0.26817985408131384,
          -1.3868008363663458,
          0.46030533213152364,
          1.2920901721600067,
          -0.3395491821509146,
          -0.25615062993925847,
          -1.766123666678013,
          -1.80510255012124,
          -1.1700778488446206,
          -1.6687246722966569,
          -1.0476162605575032,
          -1.0802386291120434,
          -0.7148819287742886,
          -1.115318363167687,
          -1.8676478862207184,
          -0.863955449903912,
          -0.5843090078982096,
          -0.6480748289762439,
          0.21317687974549399,
          0.7847837669281729,
          0.5727220089999321,
          -1.898073187239083,
          -1.098884464819144,
          -1.8132565719905174,
          -0.9517671857039269,
          -1.7682195070565516,
          -1.8905364452518707,
          -1.0251814024254438,
          -1.5329744367247722,
          -1.8494868299573866,
          -1.9925791730123221,
          -1.5521876142160602,
          -1.8545710321456332,
          -1.0672431865077918,
          -0.9670776556794187,
          -1.0331722841266289,
          -1.5462672082471878,
          -1.067975930117218,
          -0.6617862268661346,
          0.7069280020090296,
          -0.33526472271406355,
          -0.7664693568766503,
          -0.7718786440512134,
          -1.7655642819001967,
          -1.8503009850376453,
          -1.015091139974413,
          1.3187305505334992,
          -1.7323104432943564,
          -2.0211499157457045,
          -0.7442001983235537,
          -0.8938844425367461,
          -1.0936237644226547,
          -0.30694197441548837,
          -0.4967921772621229,
          -1.0979304236917224,
          -0.9362527941054705,
          -0.874107489069954,
          -1.5425106034181475,
          0.8384570671042375,
          -1.5788185118389864,
          -1.1524662827865033,
          -0.8206862934945979,
          -0.9500721745591191,
          -1.700261120025894,
          0.9860707910467507,
          -1.6617064702206905,
          0.06138571356747675,
          -0.8837997050321093,
          -1.6237779263189815,
          -1.4039416937462568,
          -0.7956010301480562,
          -2.00049345854825,
          -1.4130975321547863,
          -1.49998242762719,
          -0.8056895224134322,
          -1.290053091479302,
          -0.5483217419537334,
          -1.9957322207503294,
          -0.4256862057880889,
          -0.8523435298950207,
          -1.9285000340176537,
          0.09205004994440198,
          0.13379084271072586,
          -1.5802572743972572,
          -1.8935653883728316,
          -2.068122996835976,
          -1.537106752785434,
          -1.1274380947516374,
          -1.2901821736306047,
          -1.5739791847722138,
          -1.2540136606852479,
          -1.6612216228396333,
          -0.42747660182798636,
          -2.295057537022104,
          -0.7078751771018247,
          -1.0227078257662399,
          -0.19452476678188305,
          -0.5044074402778681,
          -2.0340684913587634,
          -1.2661198514037013,
          -0.8335470056969054,
          -1.866449204553968,
          -2.0627990583143787,
          -0.646058997839975,
          -1.0523108500277465,
          -1.9212930385445253,
          -1.118102504016499,
          -1.1210602648164316,
          -2.55725146892982,
          -0.8672318504383628,
          -2.0661880876249965,
          -1.2398346583839273,
          -1.5334554996262206,
          -1.1286533561476864,
          -1.5153995172315815,
          0.5374408011854969,
          -1.8762227616594442,
          -1.0524739901958393,
          -1.307959707787228,
          -1.7359944975938233,
          -1.7348312533492467,
          -1.170702498086824,
          -2.176026592074093,
          -1.041761340768116,
          -1.9386839111781204,
          -1.367451034773058,
          -2.2555991809121783,
          -1.134056929698341,
          -2.1453615547223777,
          -1.2300177514681578,
          -0.4790799880194178,
          -2.219241871859311,
          -1.8767789789129012,
          -1.4132699387186918,
          -1.217915315510445,
          0.4757050585438394,
          -1.4372057687725193,
          -0.23729039908228688,
          -1.7853262890667214,
          -0.519439770610163,
          -1.9790378802396293,
          -0.9007549347286817,
          -0.7274128647436451,
          -0.8213417312979495,
          -2.21895543536596,
          -1.3397763438061376,
          -0.6528009788799002,
          -2.324603804818185,
          -2.224614495115996,
          -1.7232125100607716,
          -0.4527061223560789,
          -0.07156868981498711,
          -0.8821124212235625,
          -0.8039153568186398,
          -1.8966309402848323,
          -1.1021086397513422,
          -1.5198408706588034,
          -1.727737766286082,
          -0.8934965258109857,
          -2.2123517961211703,
          -2.2336255332006907,
          -2.041560728823862,
          0.3680305484167969,
          -1.8998763340541287,
          -1.96258149437584,
          -1.8480580712120216,
          -1.5967582343405327,
          -2.362578812953664,
          -1.2784495850485675,
          -2.4233078888507884,
          -2.31040663542726,
          -2.1748279104073434,
          -0.5308957585228102,
          -1.926672430613645,
          -1.875830408731176,
          -1.8690989607392559,
          -1.2590849854124193,
          -1.3965977420135556,
          -1.4708468311449239,
          -2.049012654493979,
          -2.0896862719999545,
          -2.3677079451162593,
          -1.7205372207791372,
          -1.655919638761692,
          -2.3569352259875993,
          -1.4724944262327908,
          -0.04010288394572679,
          -2.4278806535278887,
          -2.3742471450339035,
          -2.462293404185734,
          -2.6004041423008535,
          -2.8644299473562373,
          -1.3924895037028875,
          -2.1649906365723166,
          -1.5992724240044875,
          -2.543241078642101,
          -1.7090052128813613,
          -1.0813891272541285,
          -2.1295607683947635,
          -0.5246322238178852,
          -1.888167550866052,
          -2.5038722838273326,
          -2.2628853745741146,
          -1.908520756522991,
          -2.1252731220701384,
          -2.549140981670815,
          -2.0004427152087603,
          -1.5641536964365328
         ],
         "y": [
          0.3802738393582898,
          -0.1373260541275355,
          1.9820391423828256,
          1.5175628274693589,
          1.262839777615338,
          1.4532181411657217,
          -0.5707960051687877,
          0.5727980585220593,
          1.3269962676465072,
          -0.9691675088172574,
          3.0511868082897347,
          -0.0684836107757407,
          -0.14705955543273527,
          -0.2302157967574316,
          0.051404380373429266,
          0.7556735215022842,
          -0.1935079426885362,
          0.3155468617701454,
          0.5308483895281493,
          0.3166578603377531,
          0.8595702915438125,
          1.6207620178044893,
          1.716518312657722,
          -0.10959441826969124,
          1.503934306099986,
          0.44450900361551166,
          -1.5644509650136071,
          1.8695679380144712,
          0.17435038116532833,
          -0.45234588187335895,
          -0.033580745781951686,
          0.32952896233803003,
          -0.5788874783964892,
          -0.30918668034196556,
          -0.21922410444551152,
          -0.09417491448866797,
          -0.02742590579072818,
          -0.15070967511445546,
          0.0206009573957457,
          -1.5065007965039832,
          0.12720744253903432,
          -1.491818422089339,
          -0.3126942635905743,
          -0.9040514408191287,
          -1.5018463865700948,
          -1.0502787978080117,
          -0.9810555303971554,
          0.8201241068523893,
          -0.3173966757800356,
          0.42296107624809326,
          -0.7189411302996395,
          -0.5522184127105869,
          -1.5150176815713685,
          -0.6039500105320743,
          0.12297929358791602,
          0.5081815010447133,
          1.3158209296295895,
          -0.8124298583050428,
          -1.1532679695453973,
          -1.0008124728990673,
          0.10980799858664234,
          2.3103177641308332,
          -0.3342280591562305,
          -0.26324442118404257,
          2.3520655338633287,
          0.8040498037909976,
          3.3493532669704194,
          1.6376391908163261,
          1.119960433456136,
          1.6467191328571087,
          -1.000547124279585,
          -2.2396602197977624,
          -1.520233839851257,
          -0.9845405949285037,
          0.0726537351760406,
          -1.4708523588204476,
          -0.9814635553034777,
          -0.9625522627496924,
          1.651492442064295,
          -1.0807478412108527,
          0.5080567049743165,
          -0.395902552761184,
          1.7380552712143182,
          -1.6825535768583626,
          0.5866974303203916,
          -0.5576486014698138,
          -0.5725509902196285,
          1.2025891815823826,
          1.9730420228637466,
          -0.15825091583961817,
          -0.35580926813527924,
          2.4082008043378145,
          -1.9505924760635311,
          2.142842243971662,
          -1.6074807248470828,
          -0.3472084645958067,
          1.7940104508863686,
          1.1527868746189882,
          -1.0330075669296146,
          -1.2692856481988866,
          0.10465851599214825,
          -0.25106971980098025,
          -1.2092758788023963,
          -1.0265487421241337,
          1.1453775472862964,
          -1.6782806947875935,
          -0.6494711680414526,
          -0.6557961536192106,
          -1.2708864117686756,
          -0.3336539869189838,
          1.802514461688307,
          1.0346854702318715,
          -2.516324784790617,
          2.542583280696353,
          2.3949949016815095,
          2.1290716497124658,
          0.16240456806757053,
          -1.1902302975410737,
          0.5465484570051956,
          1.8930178842615002,
          1.806156697208131,
          0.14084638128877922,
          0.1430366778089486,
          -0.7647931670397136,
          -0.9557348855224913,
          3.9208149674883033,
          1.8766255644628904,
          -1.082550229457686,
          -0.20175770293315706,
          1.7961476747406582,
          0.08662304642053704,
          -1.8641948186360484,
          -0.9188536574657097,
          -1.0585067703352813,
          1.8790701546221615,
          -1.7781401911305552,
          -0.07229740032957419,
          -0.392179822618583,
          -0.9705223205172654,
          1.75043499396084,
          -1.8276136383485655,
          -0.35045658277679986,
          0.5539926360545939,
          -2.5479490669069635,
          -0.360170648268081,
          -1.5235053512931747,
          2.601072373336075,
          -0.10497707655052674,
          -0.6578112104370916,
          -0.4127447909175138,
          -0.4214419008995827,
          0.15573087123846063,
          -1.3354987769486144,
          -1.6753475616902933,
          0.06892950216221709,
          1.2455031406023216,
          0.6066280108893071,
          -1.2421797018108887,
          2.0914155890708344,
          -0.6874825053578735,
          -1.7692389867578324,
          -0.7280537745710774,
          -0.9923343899627691,
          0.582752069786205,
          0.19449149659355316,
          0.016075619281995763,
          1.9927924515564455,
          1.3719293981211593,
          -1.1017555663354872,
          -1.0196891543793822,
          -0.17174114986103914,
          2.0015277857450786,
          1.5594279783316736,
          -0.7871021033526305,
          -0.14359199419713095,
          0.9821873185596413,
          2.2303068712434135,
          0.3881338008369692,
          1.8631618632904103,
          -0.0619312840931842,
          0.2979277067488681,
          0.7296459418752029,
          -0.8128941934829581,
          1.4538427800492493,
          -1.3157020729427509,
          -0.957106433755299,
          1.6256324863378915,
          0.3916115385156117,
          0.20666836924635185,
          0.3050458171338631,
          0.9058609041560483,
          0.9038116929801231,
          0.5320232535790265,
          0.6024596316892779,
          0.4393289051482914,
          -0.7398216014774741,
          0.7577470500602302,
          -0.7836251715780327,
          -0.2261047322153821,
          0.0011545717730385475,
          -0.5658665201340017,
          -0.6663327618259881,
          1.0489924755007556,
          -0.8808283740488434,
          0.06404000480765125,
          1.6569597762710597,
          0.8305089684441255,
          -0.9251810786559292,
          -1.5030815490746716,
          0.4799061107055335,
          0.6951600670104684,
          3.243747980227723,
          -0.548379464106931,
          -0.8364959576154606,
          0.4404499249725713,
          -1.271263154104845,
          1.591107643804165,
          1.2412190073525853,
          0.5932732472085481,
          -0.031298748567926436,
          -0.1595340679091021,
          -1.787523542479953,
          2.8486620406827323,
          0.49332030910438934,
          3.057449493116662,
          2.8194413544319046,
          -1.5670010345579122,
          1.50684312378279,
          0.4418153565761164,
          0.30000319066611364,
          0.15197247496285066,
          -0.0555073108086672,
          -0.7378296093142743,
          -0.142816977683973,
          0.06622385658216456,
          0.30640614591365395,
          -0.45048758371771225,
          -0.46759657991042963,
          -1.539516131102224,
          -0.06631964528004523,
          -0.13074879865696193,
          1.0345740793529083,
          -0.7692363282917549,
          -1.0269026893370843,
          -0.39870575293160154,
          0.7968945446169057,
          -0.2534010996807062,
          0.46654076891825985,
          -0.024046057383426387,
          -1.403832239177256,
          -1.3995776985056205,
          -0.22733178152375824,
          1.243123619373262,
          -0.2768124109494954,
          0.11368220766000102,
          1.3947836273654608,
          0.5427153579054464,
          0.8869452091641254,
          -0.09005621477313464,
          1.5783336021068426,
          -0.2714401254482959,
          -0.8314032217948029,
          0.3173692909172746,
          -0.7270874604247617,
          0.016215169833325126,
          -0.9847200823229559,
          1.2450156185043726,
          0.11313852848470714,
          -1.019693589000363,
          -0.7904539250296686,
          -0.9645981709222177,
          -2.265124992835569,
          1.0958659987821657,
          -0.10724715589638022,
          -0.6677411126171369,
          0.4027353884379501,
          1.0778633302687295,
          2.4867546255257613,
          0.3615418436481441,
          0.9499806995861492,
          0.3074687455050875,
          1.7415344490828897,
          -1.2048143182213087,
          -1.139582493982533,
          1.8989128815327496,
          -0.10406245672682565,
          -0.4198261919373324,
          -0.42320415312168386,
          -0.5319440853059512,
          2.029665510991586,
          -2.4448617336479126,
          -1.0252924298028345,
          -1.982177287592114,
          1.0285449442366723,
          -1.6859791679684464,
          -1.1286494262494084,
          -0.40553775112244145,
          -1.2931905625546414,
          1.4948598811389866,
          2.420756488401245,
          -1.2848280727187305,
          -0.8461619937272351,
          -1.1714845696210139,
          -0.017083355962942918,
          2.689199823118092,
          -0.24752776719237823,
          0.07929976826281115,
          0.5152631396879761,
          -0.10839481033351162,
          -1.1106715309031898,
          0.30296051213026676,
          1.4588575284253444,
          -0.23620152311031395,
          -1.2452239136777419,
          0.4087824830643469,
          0.7327407728881115,
          -0.6750928325647336,
          0.24887071964241148,
          -0.090293372674042,
          -0.8404197650063243,
          0.5920179381180418,
          -0.030192601818691798,
          -0.08858444520119686,
          2.0049479898884575,
          -0.6265723470278621,
          -1.3954052222335598,
          -0.7195004041096179,
          0.4560051864476889,
          -1.0579688125020756,
          -0.7287146114133426,
          -0.25615655365383844,
          2.034357604975243,
          -0.918655301695889,
          -0.9866471219952071,
          0.8179283401852965,
          1.5578907394125663,
          2.016269992253512,
          -1.6163344051172872,
          -0.2814711634228591,
          -1.8729702908773147,
          -1.9236088943113694,
          0.9462501061160922,
          0.017065098148522903,
          0.35805970353136446,
          0.3036897374392308,
          -1.2238828432307842,
          -0.6628377949598071,
          -0.9542753851735475,
          -0.29427814579738065,
          -0.5651960797307661,
          0.24246302327059743,
          0.24020151654155925,
          1.9534984477499489,
          -1.5736704793679317,
          2.017106288724174,
          2.073843150698761,
          -1.3725698307226741,
          0.05239136515761233,
          0.20963936187733528,
          0.28334901345346897,
          0.3398231939202889,
          0.28489161262000046,
          0.3687936737588577,
          0.23202882636371086,
          -0.9718905213325117,
          0.6993022502833981,
          0.2673141720179378,
          0.19561095364794878,
          0.7158538291624568,
          0.2602224373102678,
          1.6234079412868119,
          -0.8694658892178495,
          -0.9616584404175549,
          -0.45461620838774375,
          -0.21778949690384994,
          -0.34958767427414655,
          0.06385560247346647,
          -1.5150630298600047,
          -1.7464011731433275,
          0.8752288967520121,
          0.4419774786039199,
          0.3237819001427592,
          -0.9465340385229699,
          -0.3494496048695046,
          0.4663888310397194,
          0.19138921771653508,
          0.9470913742024503,
          -0.7198646774140773,
          -0.9044321100988898,
          -1.1577499329285257,
          -1.692863570393646,
          -1.0044796303485515,
          -0.7789624666446573,
          0.5585168518370217,
          -0.3738098710646115,
          -1.8695892332783284,
          0.8477160868362154,
          1.4085666697500066,
          -0.4140987725815914,
          1.7247272790180261,
          0.7723613686495152,
          2.3253181099550724,
          0.7165149775554418,
          1.8633960380482322,
          -0.6093822071126983,
          -0.47528937280553163,
          1.197561364531526,
          -1.7615015344416132,
          0.26770917087438767,
          1.3062916793549537,
          -0.290735574670444,
          -1.7636967502751584,
          -1.1546693449651944,
          -1.7409863660913671,
          0.2767257739845715,
          0.0446100745634247,
          0.8437540480993393,
          0.25211635691879536,
          -0.24041641760564716,
          -1.6522387154817455,
          -0.27912305767309764,
          0.4406121068990371,
          0.1971292152690467,
          -0.31876512202976726,
          -0.9981314596397055,
          1.3736044660578521,
          -0.4957116615949246,
          -1.1990346188980132,
          0.8861998203367721,
          -1.1724542097354915,
          -0.09565842784327565,
          -1.5516933208601378,
          0.2946112371636907,
          -0.8200586729966703,
          -1.3619252827230346,
          0.2683839538170982,
          -1.201668877898268,
          0.7959782612338131,
          0.42002532026846334,
          0.24018571072209713,
          -1.4464657340095441,
          -0.7517922037831837,
          0.5590677640494688,
          0.42281762476790147,
          -0.9755779315660961,
          0.7148215982752187,
          0.432159761137798,
          0.17704851584550532,
          1.5489425555865441,
          -1.3991665822789878,
          -0.928565849718167,
          0.9453197758430482,
          1.6146463725729707,
          0.6456879277974704,
          -0.7258908282170828,
          0.07924902229828061,
          -0.6083943531812316,
          -0.5114250005563274,
          -0.8813012528834274,
          0.12975664991131658,
          1.8310204497732845,
          0.47269252318435956,
          -1.2379008738150523,
          0.03064105973961985,
          0.4538611560757909,
          0.1962835653209217,
          -1.022447529544385,
          0.2442524453662205,
          0.011067533157979901,
          0.45490449339522127,
          -0.027262606286226985,
          -0.9115260160762969,
          0.4290795752455702,
          1.19831172324053,
          -0.6787791767629606,
          -0.5238099638278741,
          0.19612563247961387,
          0.46391165985017657,
          -0.33575447059560787,
          -1.4601777238728806,
          -0.31902475932564256,
          0.0013708635757205818,
          -1.0577511418967804,
          -0.19355913306029582,
          0.005650206892229782,
          0.14512098947639904,
          0.7504646814829424,
          -1.053247542495134,
          -1.672432117507444,
          -0.3681608150722972,
          -0.1650467504045044,
          0.5962223973458731,
          -0.5691069330059949,
          -0.2325432140428223,
          0.8857000935859731,
          -0.2543693028279531,
          0.2216096383699292,
          0.20381260617951055,
          -0.7790799769186872,
          -1.8224428283573137,
          -0.5872410377768851,
          -0.6747057658381439,
          0.757208321723549,
          -0.2584749993694567,
          0.026316586477982906,
          -0.8748194283478823,
          -0.04176428384261899,
          0.12046752810036435,
          0.309580453638221,
          -0.19331619611203227,
          -0.5771106085572818,
          -0.5061932614805859,
          -0.5248631150612036,
          -0.7908000015799731,
          -1.0766509711705787,
          -1.0743006941510802,
          0.6422064989602754,
          0.5854726212989182,
          0.0880475490739494,
          -0.16599703636121343,
          1.0808904081476964,
          0.11732609625820788,
          -1.1807354077860894,
          -2.0602662963902496,
          0.027868804373190392,
          0.11455666354243749,
          0.0036215155246241684,
          -0.27118676511187717,
          0.7111613856661957,
          -0.9056194940578447,
          -0.8145161111634055,
          -0.023044778640340106,
          -0.04990497188912176,
          -1.2877296895936161,
          -1.6688810674467078,
          0.6486212794554973,
          -2.1013637168799995,
          -1.4663747944405148,
          0.08814637811864486,
          0.5457900405594189,
          1.1615793869812254,
          -0.6927008063589197,
          0.07251017123371507,
          -0.5466104038176274,
          -0.9669146703917084
         ],
         "z": [
          -0.25267499354515627,
          0.15992436350056505,
          -1.0194014150793544,
          0.8485150296716014,
          0.15807502654992736,
          -0.09765054005383453,
          -0.21882160981953683,
          -2.908131661280828,
          0.19366745278011144,
          -0.9068648401995609,
          -1.545094918140567,
          0.7790116937340599,
          -0.11815236489123486,
          1.3686355804958554,
          -1.7559356345968513,
          0.8686384367866333,
          -0.17351181792985115,
          -0.6389213827011875,
          0.6235115730892252,
          -0.5552979213741086,
          0.7890251715850254,
          0.20142447397312332,
          -0.8242285676048974,
          -0.15603386032549102,
          -0.3413587417645522,
          0.731055202103466,
          -1.5447236019486805,
          -0.9171094987886683,
          0.9410409464076411,
          0.25043369446107716,
          -0.3187904392813416,
          -0.12724568776165243,
          0.3393253810528277,
          -0.4373470656580065,
          0.4269299047042313,
          -0.16659438336362375,
          -0.9378828437762272,
          -0.10549762681269599,
          0.09806285227034754,
          -0.12592735953256654,
          -1.3465246535849391,
          -1.6237088636034505,
          0.009577327936796526,
          0.7218058122023945,
          -0.1538986005079978,
          -1.2685084671750515,
          -0.6762685883254432,
          0.833359372159107,
          0.06211707091749928,
          -1.2754134404988755,
          -1.004851840005402,
          -0.7305375304416898,
          -0.1268468878059373,
          0.443496893752524,
          -0.2608825252853225,
          -0.32393223773867125,
          -1.0280047613184005,
          -0.8314980913883845,
          -0.43793413742177917,
          -0.6356910192723524,
          -0.23383081258326247,
          -1.273857553376631,
          0.17155343797833675,
          0.8081236632428046,
          -1.3604245888694637,
          -0.9692865062295386,
          -2.3630554733583296,
          0.30089519938605486,
          -0.10353468534950787,
          -0.37214141958962976,
          -0.530641377157076,
          -0.868265946779252,
          -1.1486395927299922,
          -2.0592572151379187,
          0.2328332696876551,
          -0.04797030728214805,
          -1.3248865960023424,
          -1.344037984267235,
          0.8160161923788,
          -1.2243418076116552,
          -0.16061314271981222,
          0.31258317579420725,
          -1.1566317793857566,
          -1.3021599113868725,
          1.2116364915945852,
          -1.7449401274270555,
          -1.3566924928365751,
          1.3281594098707992,
          0.43181424287218134,
          1.0326986993486584,
          -0.7175557070096981,
          0.06753249877322695,
          -1.0654034223072968,
          1.3883609024721577,
          0.08146910451656324,
          0.9900101983943124,
          -0.7495738447441578,
          -0.05409629732294515,
          -1.3193734272677677,
          -0.6378606780312389,
          -0.9914723731476117,
          -0.2198530301602056,
          -0.3121874690779491,
          -1.2495170870827637,
          0.9151148716070595,
          -0.9520176684693616,
          -0.10983377459618414,
          -1.2472495978883416,
          0.9342740087421236,
          0.28108006024179927,
          0.7457584037497834,
          -0.0686719347022477,
          0.9961934072710145,
          -0.049362208305380746,
          0.10696113524158336,
          0.419626346681514,
          -1.0362383664388986,
          0.11059619305520675,
          -0.9075368443974992,
          0.6632480904938034,
          0.7050989912709611,
          -1.1885193842754196,
          0.5454279450766036,
          -0.7633959615529586,
          -0.5990617285483487,
          -1.3898365771592074,
          0.5683088505224756,
          -1.242232490289267,
          -0.17648099930378303,
          -0.7095205371931925,
          -0.5062846662155175,
          -0.6275243711535728,
          -0.8441718097205181,
          -0.818856416471173,
          0.6869721364514689,
          -1.2689032274374266,
          1.3672678683094066,
          0.8063579814898757,
          -0.7872761014909327,
          0.77524132756903,
          -1.2165161379915175,
          0.3266651391387565,
          -0.5858385694005798,
          0.25456067381136205,
          0.7369714866137145,
          -1.0021918253231934,
          -1.4723111768262855,
          0.08424459055409367,
          -1.0948152268594022,
          -0.3129970803651894,
          -0.7123477643268927,
          1.7070366992358375,
          0.28010260564780265,
          -0.2081482892486719,
          1.3568191407799914,
          0.8571432165102224,
          -0.8943825960138005,
          1.1938813086278879,
          0.4920434755028881,
          -0.06899502172030443,
          -0.7469434910938669,
          -1.0145387398637937,
          -0.45485537538525134,
          -0.8638040369211692,
          -0.25142587306254743,
          -0.8464549455859607,
          0.48723564494216126,
          0.7939709001737745,
          0.06670885087449221,
          -0.41344012148452175,
          -0.5314579104872696,
          -0.8450467487735182,
          0.19272470036805042,
          -0.027142381299033836,
          0.47324806656648255,
          0.44750372478689876,
          0.32127450738840047,
          -0.6548301454299015,
          0.7405651344723189,
          1.5099111158893268,
          1.8806845862744885,
          -0.33879319664486196,
          -0.17010297024891602,
          -0.2835517956932446,
          -0.1478927510416324,
          -0.13788503468278224,
          -2.6806692133678336,
          -0.6496670117174883,
          -1.3114022235065812,
          -0.5546839562746896,
          0.9355530215830806,
          -1.901747369536236,
          -0.8334033796179131,
          -0.8554165976900147,
          -1.1342873152761037,
          1.766505623781691,
          -1.0113088089342797,
          0.8135625301138756,
          -0.7506290502505772,
          0.41905970858497105,
          -0.40426815093856555,
          -0.30252640078132303,
          0.1451844129724447,
          -0.08805481525126317,
          -0.30422346911158615,
          0.9708691483881394,
          -1.0776761996232027,
          -0.04039177390560382,
          -0.19310277346103813,
          -0.841480106143465,
          1.2069313306100278,
          -0.6821778122777091,
          2.0208148505055967,
          0.16230174612949094,
          -0.7964902166134632,
          -0.5394039844090824,
          1.0421283978163949,
          0.6123976844276541,
          -0.8328574940443573,
          -1.0548768788743286,
          0.6006890649158984,
          0.3956829600610338,
          -0.2240734676680578,
          -0.06975527389655546,
          -0.5516224031993615,
          1.2500932702477974,
          -0.8526070081982965,
          -0.35087892736267273,
          1.4772056742762258,
          -0.26920065071678934,
          -1.1147603157514476,
          -0.16944519741950403,
          -0.26023617444887875,
          -0.19256673139748362,
          1.4189829878940197,
          0.17478712852280318,
          -0.5000804243068617,
          -0.48550145379161985,
          0.154583217600048,
          0.5084174720570287,
          0.6197776773990126,
          1.6240119136352513,
          -0.22157412100017668,
          0.03936354410898643,
          -0.5506958457507256,
          1.0106498301075089,
          0.04010316036413016,
          1.310671601366068,
          -0.6321131230224989,
          -0.02436530323415356,
          -0.27277983762861985,
          0.7221579327577181,
          -1.473135740844942,
          -0.7152170264202832,
          1.8204707226655887,
          -0.2936812132927494,
          1.3426247874409591,
          -1.156262862042498,
          0.5854250630878111,
          -0.4091067380958946,
          0.7234558442395456,
          -0.10747672493343854,
          -0.5283098311475285,
          -0.2090029089393316,
          -0.9589951888264542,
          0.05235769521994501,
          1.3043871287430766,
          0.38467875349807984,
          0.08639930173717424,
          -0.2586571582056146,
          0.2529970211106475,
          1.347637966711188,
          1.5756550350442966,
          2.0072340458323676,
          -0.26727888568915237,
          -0.6526448759722376,
          0.15480107336782445,
          -1.271977352366684,
          1.5854676171851783,
          -1.2036382081834687,
          -1.3609150976011581,
          0.8829944870410866,
          0.16782050760716483,
          0.16901094148632484,
          -0.7204999673193035,
          -0.8285101066014765,
          0.18309789558210166,
          -0.6191418295850852,
          -0.5090213470619522,
          0.6418894764505736,
          0.6552385549168663,
          -0.009409505701563492,
          0.6298336381350069,
          0.09549145811062437,
          0.32987501943612446,
          0.2113704402529631,
          0.48004245988120636,
          -0.1812638880480993,
          1.180737700717254,
          1.6410909069645638,
          -0.3684165176095789,
          -0.07470342195387189,
          0.8448082046519836,
          -0.2224725868562371,
          1.415809617894549,
          0.7636372255675441,
          0.43448874949197447,
          1.4371083970413556,
          0.6245662780210348,
          0.19498812533259516,
          -0.49589556514375627,
          -0.2191454154535808,
          0.006055525596468497,
          -0.10687217775439664,
          0.10814126310713286,
          -0.9260994969364058,
          0.6433039342374103,
          1.1544750434757198,
          -0.09307790637954604,
          2.07616383141479,
          1.3201226597855082,
          1.5554775955443136,
          0.8623281779168815,
          2.119719194993001,
          -0.28451052488858564,
          0.4913361291561426,
          0.42983055450848917,
          0.06442838398005712,
          -0.28964805111851727,
          -0.22604177352091984,
          -0.7718498111829669,
          1.6075260097513075,
          0.014247275360569479,
          0.08584955203734489,
          0.39706396335145655,
          1.0918250445426867,
          0.6709920854372249,
          0.8994680071773892,
          -0.6232464713628048,
          0.4936968893921672,
          0.5906297545695073,
          1.3187614120063662,
          -0.9721476901554329,
          -0.5306627884177066,
          -0.4756025471561401,
          0.33066825761618984,
          -0.23475251786802906,
          -0.05755863461585569,
          -0.31091111667642185,
          -0.33181005585425816,
          0.29714209121314233,
          -0.4067372212609968,
          0.6303392008457992,
          -0.094593672918109,
          -0.8081964869338595,
          0.5761741554535712,
          2.173576258474088,
          0.43847643923775476,
          -0.3735015200799812,
          0.8793985338652601,
          -0.5030526191505534,
          -0.45017087210552625,
          -0.5785039714958634,
          -0.39388970604066487,
          0.08507590609880131,
          -0.9127515423747513,
          -0.4734505643215001,
          -0.47083468358442027,
          -0.8815717656647314,
          -0.46626879372216534,
          1.089873371687921,
          -0.014535139080601894,
          0.07882787871075025,
          -0.47801753310656225,
          -0.3769431934831669,
          -0.6571244115693904,
          1.4853762255091785,
          0.0799939716065445,
          0.1355851883025798,
          1.7291503424871413,
          -0.5996472453226569,
          -0.4799510686670771,
          0.021969458065239558,
          1.8596394701403276,
          -0.6681960553511784,
          -0.4597027507665016,
          1.662774998488754,
          -0.15689354066437172,
          -0.08609360028590672,
          0.28380381874473365,
          0.2691939793587295,
          0.13133485272226386,
          -0.09704545233658186,
          -0.8296675715274519,
          0.11449586993175984,
          2.3271932962159183,
          0.4404374939088704,
          -0.17364665338654803,
          0.8614658060019076,
          -0.44770813687553024,
          0.40063816705758015,
          0.9755055099425111,
          -0.9869243846161443,
          -2.15111336180505,
          -0.3844323181681199,
          0.21954927710612332,
          -0.027674588945319257,
          0.11619185933921582,
          -0.5278495228238121,
          1.3086181631905822,
          0.03493793677398424,
          0.12070047812289246,
          0.17189168472505242,
          0.3224988022886478,
          -0.5365234931995232,
          0.47378751335277747,
          1.7765664149479243,
          -0.4397755375851981,
          2.1360912525123967,
          0.05576427653265389,
          -0.7074521378085669,
          -0.698376550239828,
          -0.4518024263293341,
          0.06789440967245344,
          0.13404821724505658,
          1.3150195200208559,
          0.317542223668826,
          0.2932173808719562,
          0.29678209842767184,
          0.19401170275854568,
          -0.15072651772236648,
          0.580351125073521,
          -0.47870056964605034,
          1.3996564261881916,
          0.5042845529222103,
          -0.5193907418215512,
          0.29862772341236865,
          0.3876873937199378,
          -0.5545610574858889,
          -0.4885489641736471,
          0.4774444326042703,
          -0.22238714440052718,
          0.6349239858686333,
          0.7701567024526996,
          0.07423741650134202,
          -0.8896092655714626,
          0.32486054380308804,
          -0.3016428478236998,
          1.1972816200219596,
          0.4377772941731786,
          0.07731260628821122,
          -1.0796679960849669,
          0.39004796347707765,
          0.5517751674111907,
          -0.24358918900688895,
          -0.3200883628832521,
          0.49305880284379244,
          0.2789990061415604,
          -0.08437726432769414,
          -0.3675757771151417,
          -0.6444922482866327,
          -0.7125799941657571,
          0.39514597962696046,
          -0.26491629347388956,
          0.12877072531062503,
          -0.43037624554113585,
          0.18152832861493573,
          1.7869823936840605,
          -0.12441245773707217,
          -0.6199973901434662,
          -0.20445366298137532,
          -0.04691217264554795,
          3.0411794415267304,
          -1.4423834045731498,
          1.161042315078833,
          -0.3174928998910349,
          0.28006258200127065,
          -0.6945455190310503,
          0.8186953769513788,
          0.5105289833209318,
          0.9178640074238363,
          -0.15613468128491045,
          0.10574047690850115,
          -0.6533124792395468,
          -0.22589496310627152,
          -0.3671364515598554,
          -0.8640547808321838,
          0.10300352612686883,
          -0.00675646397382978,
          0.9744804873708754,
          0.65267696831904,
          0.6924361752976886,
          1.0641525877316866,
          0.08714403527885842,
          -1.1079757364215224,
          0.7499901483289754,
          -0.43316852836660036,
          -0.412860014264387,
          -0.039326425040255825,
          0.01211742634501905,
          0.38548952099158984,
          0.47406469171671856,
          0.5869471212468974,
          0.16866024509331726,
          -0.23265341787759364,
          -0.06077234937983508,
          -0.16050845441987746,
          -0.3238857306911065,
          -0.5153996133400338,
          0.3268952418281739,
          0.3843726078614037,
          0.31255490186805607,
          -0.33374173202890667,
          -0.13488792054265078,
          0.2707029221680908,
          0.15449759868130564,
          0.6010114506685167,
          0.6584656154631949,
          -0.2819120202252839,
          -0.7625905438170062,
          -1.2873599041321517,
          -0.30881964538187817,
          0.33685233519528124,
          0.7816486919415514,
          -0.21639818727649676,
          -0.30190109333781584,
          -0.1872719920310057,
          0.20942149767798707,
          -0.8987619389642674,
          -0.004897495916791432,
          0.6430764467101956,
          -0.1579862131254521,
          -0.12163827451661377,
          0.39349159270011164,
          0.7767347873145385,
          0.6173705561079453,
          1.22110308065968,
          0.5881179527199831,
          -0.245443580329819,
          0.7375060583188109,
          1.5603022126022768,
          0.6667028755627653,
          -0.22046672694908812,
          0.47376456976587766,
          0.09145886823569908
         ]
        }
       ],
       "layout": {
        "height": 800,
        "legend": {
         "tracegroupgap": 0
        },
        "scene": {
         "domain": {
          "x": [
           0,
           1
          ],
          "y": [
           0,
           1
          ]
         },
         "xaxis": {
          "title": {
           "text": "PC1"
          }
         },
         "yaxis": {
          "title": {
           "text": "PC2"
          }
         },
         "zaxis": {
          "title": {
           "text": "PC3"
          }
         }
        },
        "template": {
         "data": {
          "bar": [
           {
            "error_x": {
             "color": "#2a3f5f"
            },
            "error_y": {
             "color": "#2a3f5f"
            },
            "marker": {
             "line": {
              "color": "#E5ECF6",
              "width": 0.5
             },
             "pattern": {
              "fillmode": "overlay",
              "size": 10,
              "solidity": 0.2
             }
            },
            "type": "bar"
           }
          ],
          "barpolar": [
           {
            "marker": {
             "line": {
              "color": "#E5ECF6",
              "width": 0.5
             },
             "pattern": {
              "fillmode": "overlay",
              "size": 10,
              "solidity": 0.2
             }
            },
            "type": "barpolar"
           }
          ],
          "carpet": [
           {
            "aaxis": {
             "endlinecolor": "#2a3f5f",
             "gridcolor": "white",
             "linecolor": "white",
             "minorgridcolor": "white",
             "startlinecolor": "#2a3f5f"
            },
            "baxis": {
             "endlinecolor": "#2a3f5f",
             "gridcolor": "white",
             "linecolor": "white",
             "minorgridcolor": "white",
             "startlinecolor": "#2a3f5f"
            },
            "type": "carpet"
           }
          ],
          "choropleth": [
           {
            "colorbar": {
             "outlinewidth": 0,
             "ticks": ""
            },
            "type": "choropleth"
           }
          ],
          "contour": [
           {
            "colorbar": {
             "outlinewidth": 0,
             "ticks": ""
            },
            "colorscale": [
             [
              0,
              "#0d0887"
             ],
             [
              0.1111111111111111,
              "#46039f"
             ],
             [
              0.2222222222222222,
              "#7201a8"
             ],
             [
              0.3333333333333333,
              "#9c179e"
             ],
             [
              0.4444444444444444,
              "#bd3786"
             ],
             [
              0.5555555555555556,
              "#d8576b"
             ],
             [
              0.6666666666666666,
              "#ed7953"
             ],
             [
              0.7777777777777778,
              "#fb9f3a"
             ],
             [
              0.8888888888888888,
              "#fdca26"
             ],
             [
              1,
              "#f0f921"
             ]
            ],
            "type": "contour"
           }
          ],
          "contourcarpet": [
           {
            "colorbar": {
             "outlinewidth": 0,
             "ticks": ""
            },
            "type": "contourcarpet"
           }
          ],
          "heatmap": [
           {
            "colorbar": {
             "outlinewidth": 0,
             "ticks": ""
            },
            "colorscale": [
             [
              0,
              "#0d0887"
             ],
             [
              0.1111111111111111,
              "#46039f"
             ],
             [
              0.2222222222222222,
              "#7201a8"
             ],
             [
              0.3333333333333333,
              "#9c179e"
             ],
             [
              0.4444444444444444,
              "#bd3786"
             ],
             [
              0.5555555555555556,
              "#d8576b"
             ],
             [
              0.6666666666666666,
              "#ed7953"
             ],
             [
              0.7777777777777778,
              "#fb9f3a"
             ],
             [
              0.8888888888888888,
              "#fdca26"
             ],
             [
              1,
              "#f0f921"
             ]
            ],
            "type": "heatmap"
           }
          ],
          "heatmapgl": [
           {
            "colorbar": {
             "outlinewidth": 0,
             "ticks": ""
            },
            "colorscale": [
             [
              0,
              "#0d0887"
             ],
             [
              0.1111111111111111,
              "#46039f"
             ],
             [
              0.2222222222222222,
              "#7201a8"
             ],
             [
              0.3333333333333333,
              "#9c179e"
             ],
             [
              0.4444444444444444,
              "#bd3786"
             ],
             [
              0.5555555555555556,
              "#d8576b"
             ],
             [
              0.6666666666666666,
              "#ed7953"
             ],
             [
              0.7777777777777778,
              "#fb9f3a"
             ],
             [
              0.8888888888888888,
              "#fdca26"
             ],
             [
              1,
              "#f0f921"
             ]
            ],
            "type": "heatmapgl"
           }
          ],
          "histogram": [
           {
            "marker": {
             "pattern": {
              "fillmode": "overlay",
              "size": 10,
              "solidity": 0.2
             }
            },
            "type": "histogram"
           }
          ],
          "histogram2d": [
           {
            "colorbar": {
             "outlinewidth": 0,
             "ticks": ""
            },
            "colorscale": [
             [
              0,
              "#0d0887"
             ],
             [
              0.1111111111111111,
              "#46039f"
             ],
             [
              0.2222222222222222,
              "#7201a8"
             ],
             [
              0.3333333333333333,
              "#9c179e"
             ],
             [
              0.4444444444444444,
              "#bd3786"
             ],
             [
              0.5555555555555556,
              "#d8576b"
             ],
             [
              0.6666666666666666,
              "#ed7953"
             ],
             [
              0.7777777777777778,
              "#fb9f3a"
             ],
             [
              0.8888888888888888,
              "#fdca26"
             ],
             [
              1,
              "#f0f921"
             ]
            ],
            "type": "histogram2d"
           }
          ],
          "histogram2dcontour": [
           {
            "colorbar": {
             "outlinewidth": 0,
             "ticks": ""
            },
            "colorscale": [
             [
              0,
              "#0d0887"
             ],
             [
              0.1111111111111111,
              "#46039f"
             ],
             [
              0.2222222222222222,
              "#7201a8"
             ],
             [
              0.3333333333333333,
              "#9c179e"
             ],
             [
              0.4444444444444444,
              "#bd3786"
             ],
             [
              0.5555555555555556,
              "#d8576b"
             ],
             [
              0.6666666666666666,
              "#ed7953"
             ],
             [
              0.7777777777777778,
              "#fb9f3a"
             ],
             [
              0.8888888888888888,
              "#fdca26"
             ],
             [
              1,
              "#f0f921"
             ]
            ],
            "type": "histogram2dcontour"
           }
          ],
          "mesh3d": [
           {
            "colorbar": {
             "outlinewidth": 0,
             "ticks": ""
            },
            "type": "mesh3d"
           }
          ],
          "parcoords": [
           {
            "line": {
             "colorbar": {
              "outlinewidth": 0,
              "ticks": ""
             }
            },
            "type": "parcoords"
           }
          ],
          "pie": [
           {
            "automargin": true,
            "type": "pie"
           }
          ],
          "scatter": [
           {
            "fillpattern": {
             "fillmode": "overlay",
             "size": 10,
             "solidity": 0.2
            },
            "type": "scatter"
           }
          ],
          "scatter3d": [
           {
            "line": {
             "colorbar": {
              "outlinewidth": 0,
              "ticks": ""
             }
            },
            "marker": {
             "colorbar": {
              "outlinewidth": 0,
              "ticks": ""
             }
            },
            "type": "scatter3d"
           }
          ],
          "scattercarpet": [
           {
            "marker": {
             "colorbar": {
              "outlinewidth": 0,
              "ticks": ""
             }
            },
            "type": "scattercarpet"
           }
          ],
          "scattergeo": [
           {
            "marker": {
             "colorbar": {
              "outlinewidth": 0,
              "ticks": ""
             }
            },
            "type": "scattergeo"
           }
          ],
          "scattergl": [
           {
            "marker": {
             "colorbar": {
              "outlinewidth": 0,
              "ticks": ""
             }
            },
            "type": "scattergl"
           }
          ],
          "scattermapbox": [
           {
            "marker": {
             "colorbar": {
              "outlinewidth": 0,
              "ticks": ""
             }
            },
            "type": "scattermapbox"
           }
          ],
          "scatterpolar": [
           {
            "marker": {
             "colorbar": {
              "outlinewidth": 0,
              "ticks": ""
             }
            },
            "type": "scatterpolar"
           }
          ],
          "scatterpolargl": [
           {
            "marker": {
             "colorbar": {
              "outlinewidth": 0,
              "ticks": ""
             }
            },
            "type": "scatterpolargl"
           }
          ],
          "scatterternary": [
           {
            "marker": {
             "colorbar": {
              "outlinewidth": 0,
              "ticks": ""
             }
            },
            "type": "scatterternary"
           }
          ],
          "surface": [
           {
            "colorbar": {
             "outlinewidth": 0,
             "ticks": ""
            },
            "colorscale": [
             [
              0,
              "#0d0887"
             ],
             [
              0.1111111111111111,
              "#46039f"
             ],
             [
              0.2222222222222222,
              "#7201a8"
             ],
             [
              0.3333333333333333,
              "#9c179e"
             ],
             [
              0.4444444444444444,
              "#bd3786"
             ],
             [
              0.5555555555555556,
              "#d8576b"
             ],
             [
              0.6666666666666666,
              "#ed7953"
             ],
             [
              0.7777777777777778,
              "#fb9f3a"
             ],
             [
              0.8888888888888888,
              "#fdca26"
             ],
             [
              1,
              "#f0f921"
             ]
            ],
            "type": "surface"
           }
          ],
          "table": [
           {
            "cells": {
             "fill": {
              "color": "#EBF0F8"
             },
             "line": {
              "color": "white"
             }
            },
            "header": {
             "fill": {
              "color": "#C8D4E3"
             },
             "line": {
              "color": "white"
             }
            },
            "type": "table"
           }
          ]
         },
         "layout": {
          "annotationdefaults": {
           "arrowcolor": "#2a3f5f",
           "arrowhead": 0,
           "arrowwidth": 1
          },
          "autotypenumbers": "strict",
          "coloraxis": {
           "colorbar": {
            "outlinewidth": 0,
            "ticks": ""
           }
          },
          "colorscale": {
           "diverging": [
            [
             0,
             "#8e0152"
            ],
            [
             0.1,
             "#c51b7d"
            ],
            [
             0.2,
             "#de77ae"
            ],
            [
             0.3,
             "#f1b6da"
            ],
            [
             0.4,
             "#fde0ef"
            ],
            [
             0.5,
             "#f7f7f7"
            ],
            [
             0.6,
             "#e6f5d0"
            ],
            [
             0.7,
             "#b8e186"
            ],
            [
             0.8,
             "#7fbc41"
            ],
            [
             0.9,
             "#4d9221"
            ],
            [
             1,
             "#276419"
            ]
           ],
           "sequential": [
            [
             0,
             "#0d0887"
            ],
            [
             0.1111111111111111,
             "#46039f"
            ],
            [
             0.2222222222222222,
             "#7201a8"
            ],
            [
             0.3333333333333333,
             "#9c179e"
            ],
            [
             0.4444444444444444,
             "#bd3786"
            ],
            [
             0.5555555555555556,
             "#d8576b"
            ],
            [
             0.6666666666666666,
             "#ed7953"
            ],
            [
             0.7777777777777778,
             "#fb9f3a"
            ],
            [
             0.8888888888888888,
             "#fdca26"
            ],
            [
             1,
             "#f0f921"
            ]
           ],
           "sequentialminus": [
            [
             0,
             "#0d0887"
            ],
            [
             0.1111111111111111,
             "#46039f"
            ],
            [
             0.2222222222222222,
             "#7201a8"
            ],
            [
             0.3333333333333333,
             "#9c179e"
            ],
            [
             0.4444444444444444,
             "#bd3786"
            ],
            [
             0.5555555555555556,
             "#d8576b"
            ],
            [
             0.6666666666666666,
             "#ed7953"
            ],
            [
             0.7777777777777778,
             "#fb9f3a"
            ],
            [
             0.8888888888888888,
             "#fdca26"
            ],
            [
             1,
             "#f0f921"
            ]
           ]
          },
          "colorway": [
           "#636efa",
           "#EF553B",
           "#00cc96",
           "#ab63fa",
           "#FFA15A",
           "#19d3f3",
           "#FF6692",
           "#B6E880",
           "#FF97FF",
           "#FECB52"
          ],
          "font": {
           "color": "#2a3f5f"
          },
          "geo": {
           "bgcolor": "white",
           "lakecolor": "white",
           "landcolor": "#E5ECF6",
           "showlakes": true,
           "showland": true,
           "subunitcolor": "white"
          },
          "hoverlabel": {
           "align": "left"
          },
          "hovermode": "closest",
          "mapbox": {
           "style": "light"
          },
          "paper_bgcolor": "white",
          "plot_bgcolor": "#E5ECF6",
          "polar": {
           "angularaxis": {
            "gridcolor": "white",
            "linecolor": "white",
            "ticks": ""
           },
           "bgcolor": "#E5ECF6",
           "radialaxis": {
            "gridcolor": "white",
            "linecolor": "white",
            "ticks": ""
           }
          },
          "scene": {
           "xaxis": {
            "backgroundcolor": "#E5ECF6",
            "gridcolor": "white",
            "gridwidth": 2,
            "linecolor": "white",
            "showbackground": true,
            "ticks": "",
            "zerolinecolor": "white"
           },
           "yaxis": {
            "backgroundcolor": "#E5ECF6",
            "gridcolor": "white",
            "gridwidth": 2,
            "linecolor": "white",
            "showbackground": true,
            "ticks": "",
            "zerolinecolor": "white"
           },
           "zaxis": {
            "backgroundcolor": "#E5ECF6",
            "gridcolor": "white",
            "gridwidth": 2,
            "linecolor": "white",
            "showbackground": true,
            "ticks": "",
            "zerolinecolor": "white"
           }
          },
          "shapedefaults": {
           "line": {
            "color": "#2a3f5f"
           }
          },
          "ternary": {
           "aaxis": {
            "gridcolor": "white",
            "linecolor": "white",
            "ticks": ""
           },
           "baxis": {
            "gridcolor": "white",
            "linecolor": "white",
            "ticks": ""
           },
           "bgcolor": "#E5ECF6",
           "caxis": {
            "gridcolor": "white",
            "linecolor": "white",
            "ticks": ""
           }
          },
          "title": {
           "x": 0.05
          },
          "xaxis": {
           "automargin": true,
           "gridcolor": "white",
           "linecolor": "white",
           "ticks": "",
           "title": {
            "standoff": 15
           },
           "zerolinecolor": "white",
           "zerolinewidth": 2
          },
          "yaxis": {
           "automargin": true,
           "gridcolor": "white",
           "linecolor": "white",
           "ticks": "",
           "title": {
            "standoff": 15
           },
           "zerolinecolor": "white",
           "zerolinewidth": 2
          }
         }
        },
        "title": {
         "text": "Visualização PCA"
        },
        "width": 1200
       }
      },
      "text/html": [
       "<div>                            <div id=\"cd39900b-674e-441f-9b37-3316b26a4b27\" class=\"plotly-graph-div\" style=\"height:800px; width:1200px;\"></div>            <script type=\"text/javascript\">                require([\"plotly\"], function(Plotly) {                    window.PLOTLYENV=window.PLOTLYENV || {};                                    if (document.getElementById(\"cd39900b-674e-441f-9b37-3316b26a4b27\")) {                    Plotly.newPlot(                        \"cd39900b-674e-441f-9b37-3316b26a4b27\",                        [{\"customdata\":[[13300000],[12250000],[12250000],[12215000],[11410000],[10850000],[10150000],[10150000],[9870000],[9800000],[9800000],[9681000],[9310000],[9240000],[9240000],[9100000],[9100000],[8960000],[8890000],[8855000],[8750000],[8680000],[8645000],[8645000],[8575000],[8540000],[8463000],[8400000],[8400000],[8400000],[8400000],[8400000],[8295000],[8190000],[8120000],[8080940],[8043000],[7980000],[7962500],[7910000],[7875000],[7840000],[7700000],[7700000],[7560000],[7560000],[7525000],[7490000],[7455000],[7420000],[7420000],[7420000],[7350000],[7350000],[7350000],[7350000],[7343000],[7245000],[7210000],[7210000],[7140000],[7070000],[7070000],[7035000],[7000000],[6930000],[6930000],[6895000],[6860000],[6790000],[6790000],[6755000],[6720000],[6685000],[6650000],[6650000],[6650000],[6650000],[6650000],[6650000],[6629000],[6615000],[6615000],[6580000],[6510000],[6510000],[6510000],[6475000],[6475000],[6440000],[6440000],[6419000],[6405000],[6300000],[6300000],[6300000],[6300000],[6300000],[6293000],[6265000],[6230000],[6230000],[6195000],[6195000],[6195000],[6160000],[6160000],[6125000],[6107500],[6090000],[6090000],[6090000],[6083000],[6083000],[6020000],[6020000],[6020000],[5950000],[5950000],[5950000],[5950000],[5950000],[5950000],[5950000],[5950000],[5943000],[5880000],[5880000],[5873000],[5873000],[5866000],[5810000],[5810000],[5810000],[5803000],[5775000],[5740000],[5740000],[5740000],[5740000],[5740000],[5652500],[5600000],[5600000],[5600000],[5600000],[5600000],[5600000],[5600000],[5600000],[5600000],[5565000],[5565000],[5530000],[5530000],[5530000],[5523000],[5495000],[5495000],[5460000],[5460000],[5460000],[5460000],[5425000],[5390000],[5383000],[5320000],[5285000],[5250000],[5250000],[5250000],[5250000],[5250000],[5250000],[5250000],[5250000],[5250000],[5243000],[5229000],[5215000],[5215000],[5215000],[5145000],[5145000],[5110000],[5110000],[5110000],[5110000],[5075000],[5040000],[5040000],[5040000],[5040000],[5033000],[5005000],[4970000],[4970000],[4956000],[4935000],[4907000],[4900000],[4900000],[4900000],[4900000],[4900000],[4900000],[4900000],[4900000],[4900000],[4900000],[4900000],[4900000],[4893000],[4893000],[4865000],[4830000],[4830000],[4830000],[4830000],[4795000],[4795000],[4767000],[4760000],[4760000],[4760000],[4753000],[4690000],[4690000],[4690000],[4690000],[4690000],[4690000],[4655000],[4620000],[4620000],[4620000],[4620000],[4620000],[4613000],[4585000],[4585000],[4550000],[4550000],[4550000],[4550000],[4550000],[4550000],[4550000],[4543000],[4543000],[4515000],[4515000],[4515000],[4515000],[4480000],[4480000],[4480000],[4480000],[4480000],[4473000],[4473000],[4473000],[4445000],[4410000],[4410000],[4403000],[4403000],[4403000],[4382000],[4375000],[4340000],[4340000],[4340000],[4340000],[4340000],[4319000],[4305000],[4305000],[4277000],[4270000],[4270000],[4270000],[4270000],[4270000],[4270000],[4235000],[4235000],[4200000],[4200000],[4200000],[4200000],[4200000],[4200000],[4200000],[4200000],[4200000],[4200000],[4200000],[4200000],[4200000],[4200000],[4200000],[4200000],[4200000],[4193000],[4193000],[4165000],[4165000],[4165000],[4130000],[4130000],[4123000],[4098500],[4095000],[4095000],[4095000],[4060000],[4060000],[4060000],[4060000],[4060000],[4025000],[4025000],[4025000],[4007500],[4007500],[3990000],[3990000],[3990000],[3990000],[3990000],[3920000],[3920000],[3920000],[3920000],[3920000],[3920000],[3920000],[3885000],[3885000],[3850000],[3850000],[3850000],[3850000],[3850000],[3850000],[3850000],[3836000],[3815000],[3780000],[3780000],[3780000],[3780000],[3780000],[3780000],[3773000],[3773000],[3773000],[3745000],[3710000],[3710000],[3710000],[3710000],[3710000],[3703000],[3703000],[3675000],[3675000],[3675000],[3675000],[3640000],[3640000],[3640000],[3640000],[3640000],[3640000],[3640000],[3640000],[3640000],[3633000],[3605000],[3605000],[3570000],[3570000],[3570000],[3570000],[3535000],[3500000],[3500000],[3500000],[3500000],[3500000],[3500000],[3500000],[3500000],[3500000],[3500000],[3500000],[3500000],[3500000],[3500000],[3500000],[3500000],[3500000],[3493000],[3465000],[3465000],[3465000],[3430000],[3430000],[3430000],[3430000],[3430000],[3430000],[3423000],[3395000],[3395000],[3395000],[3360000],[3360000],[3360000],[3360000],[3360000],[3360000],[3360000],[3360000],[3353000],[3332000],[3325000],[3325000],[3290000],[3290000],[3290000],[3290000],[3290000],[3290000],[3290000],[3290000],[3255000],[3255000],[3234000],[3220000],[3220000],[3220000],[3220000],[3150000],[3150000],[3150000],[3150000],[3150000],[3150000],[3150000],[3150000],[3150000],[3143000],[3129000],[3118850],[3115000],[3115000],[3115000],[3087000],[3080000],[3080000],[3080000],[3080000],[3045000],[3010000],[3010000],[3010000],[3010000],[3010000],[3010000],[3010000],[3003000],[2975000],[2961000],[2940000],[2940000],[2940000],[2940000],[2940000],[2940000],[2940000],[2940000],[2870000],[2870000],[2870000],[2870000],[2852500],[2835000],[2835000],[2835000],[2800000],[2800000],[2730000],[2730000],[2695000],[2660000],[2660000],[2660000],[2660000],[2660000],[2660000],[2660000],[2653000],[2653000],[2604000],[2590000],[2590000],[2590000],[2520000],[2520000],[2520000],[2485000],[2485000],[2450000],[2450000],[2450000],[2450000],[2450000],[2450000],[2408000],[2380000],[2380000],[2380000],[2345000],[2310000],[2275000],[2275000],[2275000],[2240000],[2233000],[2135000],[2100000],[2100000],[2100000],[1960000],[1890000],[1890000],[1855000],[1820000],[1767150],[1750000],[1750000],[1750000]],\"hovertemplate\":\"PC1=%{x}\\u003cbr\\u003ePC2=%{y}\\u003cbr\\u003ePC3=%{z}\\u003cbr\\u003eprice=%{customdata[0]}\\u003cextra\\u003e\\u003c\\u002fextra\\u003e\",\"legendgroup\":\"\",\"marker\":{\"color\":\"#636efa\",\"symbol\":\"circle\"},\"mode\":\"markers\",\"name\":\"\",\"scene\":\"scene\",\"showlegend\":false,\"x\":[5.038270106559798,7.4866067157783425,4.176727057874454,4.681766735160099,3.219831366633676,3.789790225561365,5.557212780679285,5.70911269380755,2.8911796232240143,3.134693890300788,3.2093849688329383,4.144632876276479,2.9145630577939197,2.7835928912497,2.2175374129907386,2.269996309337216,2.762755762331682,3.864472662496392,2.3431966736360192,2.2354490736659853,1.358464022279322,2.1525015700924213,1.2208419455772603,1.9030399152736304,2.964188549602192,3.097022201017843,2.5286734732620717,1.2466957290251943,3.6784654336112976,2.474315182305473,3.386254201763652,2.5519205482997953,2.382318524490122,2.719643739220648,2.3363921836573285,3.3568799813468346,2.644795501373153,4.192663624065576,2.1565909765239635,3.2579657135851616,0.802002990001625,2.4534510680685386,3.0158583172125875,3.5601931362466495,3.2004231218026065,1.8483140128865816,2.664402587674933,2.627931094015,1.3728757495643975,1.2118490290034043,2.735086472859718,1.692539827196207,3.139892168210344,2.7893237763969223,1.7304650756193112,0.7771312657685914,2.322730951496969,3.618046910238902,3.340911190819445,2.57360615728654,1.6699341220270485,0.33824834810994237,2.2597051277357814,3.052788180405905,1.276287203713588,2.1408289093777055,1.0733618250272046,1.730351470978006,0.3589083571794877,3.5331749925746636,0.8673440105697307,2.462537080390243,0.9068488104461707,1.6352723989547733,0.3862858872171867,1.39698516900199,1.700534375493449,1.7140922479954406,0.610293757958509,1.6293555448579922,0.6690583372855419,1.179659925496597,1.9045030372258849,1.985912589384781,0.6178954097812425,1.9703167399150017,0.7058726172787275,0.22162523884208543,0.7065584783067597,4.2169542534253,0.08234869652385515,0.1957247437333663,1.7754443713992372,1.9366187877666183,2.793895069377812,1.8886455719182058,0.7059126997581442,0.22193951257219532,1.4850446244611468,1.0476380310792017,0.6267326185259491,0.7896391700678339,2.152960847581937,1.557520837604303,1.2988324749206261,0.6573067629371904,1.037343270825078,0.552530850790855,0.9970016030037608,1.9974375407870908,0.5580616164886643,1.5987712000815824,2.3355369451496837,1.1111959358569943,0.08918960222181094,0.7751474007427658,0.617043686816155,0.29006874938472116,-0.19497198733861448,0.5888864780626126,0.550881573921879,0.3192049742078702,1.4758273121315846,1.757146277766848,2.299393974027283,2.0409506054481534,0.4926857582266245,1.3490530751022083,0.8298288920159235,2.1593064387968446,-0.6368236299957882,1.4071645778624964,0.3547268769308064,0.18718750223712785,0.5431253424225305,1.6541272550973873,1.9536507935793523,0.7082588430733975,0.3006552111450727,0.4598454072001342,1.6101440815770305,1.878957690752247,2.5146028324497847,2.0321044300364552,0.7214156092595994,0.7237199328835403,0.18907859112943493,1.1413037592130058,0.490785074617424,1.0708218117951749,-0.23647674677552952,0.9799011404942889,0.9931321669951925,1.2391107022907264,1.1703593493274453,1.2088351656433984,-0.2800466888354816,1.225615506114838,0.6204305486366104,-0.03680511990580685,1.414360827276952,0.4063680199244419,1.4505442026624262,-0.32100497264915456,1.3291779580845844,0.3571700947625872,0.4397328619965236,0.31473123763990196,0.1832040115911204,1.3798448446936702,0.2575841003767218,0.5749773534884574,0.9413162811594675,0.6498714488003178,-0.20101976395881088,2.6578449016573393,0.6846690730386319,-0.5048070222921611,0.39207930880371167,0.9999104179898493,1.3294709962062476,0.5081936681653983,-0.5603882332721847,0.1567872497290863,0.25696530642794696,-0.7397108342939896,0.30272081367053566,-0.5346696225868494,-0.8147637033539419,-1.5146305690436352,1.4142309874645187,0.6448074216756822,-0.42676757310893904,-1.30311177559034,0.6360691811475585,2.517259101379628,-0.30623876929637167,0.4980973045878447,-0.19079568173875935,-0.08900528259461092,-0.4428921981646893,-0.5149183958315207,-1.0939315862119505,0.23217644121951503,-0.8206002065247253,0.16421085758337253,-1.1719746399238757,-0.700491775702533,-0.28549961796202,-0.589877076472396,0.3039782035334528,1.3260776698689098,1.4737019485166492,0.5950294509633469,-1.5275495834715735,-0.20375326120936593,0.09997078742114465,0.7026966181790872,-1.3590829296354043,-0.1526136395827963,2.2251586337306306,0.7118666238537867,0.08363562904342359,0.22807614459986125,0.16590005519894327,-0.0176081986612687,0.4468872821792505,-0.7925102051361904,0.07126226916589466,2.1111306861229906,-0.8802185960973379,-0.9573941929406913,-0.601511203014158,-1.1044369346591494,0.9470374338708649,0.035747391244926534,-1.3291632985035817,-0.44055816721300706,0.8522032707257647,-0.21571409269106068,-0.2861721685662611,-0.36713651700863703,-0.6495713874691538,-0.834297400308792,-0.40819839579854333,0.22434728077623767,-1.1333268870221178,2.4683895738254926,-0.7093982540310472,0.9567158520781783,-0.3049573934927239,-0.3724437815442253,-0.06895398350464832,-1.2059287303498132,0.6857999549578362,-1.0156229435050026,0.1167788067665611,-0.30855232900139307,-0.28254296410741314,-0.7940484309225654,-0.3900159823986314,-0.7371399441399367,-1.6505455222373182,-0.6776804101437125,-1.0456632373578036,-0.864085174623876,-0.3194479816790564,-0.1556010495693335,0.006603722868229455,-0.7990431062195025,1.0720633221845084,0.004383051905010532,-0.37428334762430765,0.5176201764298985,0.2487076415621223,-1.595730262951938,-1.2179834009663915,-0.2079218995680051,-0.08676082300878196,-1.215320062315506,-0.9383360454416824,-0.8050238454793087,-1.1216502088398308,-0.08232643121194992,-0.6136041832141482,-0.2735951958413246,-1.3050049933387953,-0.5783281175065529,-0.6562858843930055,-0.6397540624101693,1.2647433877390104,-1.0099768832887153,0.43437744673167095,-1.3463041558834934,0.6467276247941168,-1.0166561702456312,0.5852380029505129,-0.03996485551086047,-0.12229569086161912,0.48717310379322754,-0.29932345571070224,-0.8141354497471293,-0.36407665937631956,-1.0247855406552735,0.6536548323125557,-0.4652579103856949,-0.2377606694758898,-0.0038020819910589056,-0.37232255405815784,-0.11992596463790325,-0.8366368477390226,-0.9891177063300233,-1.2065682338722743,0.03629861612772352,-0.9194484208888564,-1.4379046432825302,1.191381491724945,0.8743259732187963,-1.1355975855919827,0.7289095642269763,0.04994838959000168,0.7331647137907299,-0.035138170587298415,0.12223086155528924,-0.7035382190573047,-0.3538585197209026,-0.7702661579501365,-0.010266744511944438,0.14500133247700803,-0.7567557737072209,-1.4105275520597114,1.3041120489686828,-0.03335400158355546,-0.9829695591330926,-1.4737299659794583,-1.02182857802511,0.183395737322129,-0.26817985408131384,-1.3868008363663458,0.46030533213152364,1.2920901721600067,-0.3395491821509146,-0.25615062993925847,-1.766123666678013,-1.80510255012124,-1.1700778488446206,-1.6687246722966569,-1.0476162605575032,-1.0802386291120434,-0.7148819287742886,-1.115318363167687,-1.8676478862207184,-0.863955449903912,-0.5843090078982096,-0.6480748289762439,0.21317687974549399,0.7847837669281729,0.5727220089999321,-1.898073187239083,-1.098884464819144,-1.8132565719905174,-0.9517671857039269,-1.7682195070565516,-1.8905364452518707,-1.0251814024254438,-1.5329744367247722,-1.8494868299573866,-1.9925791730123221,-1.5521876142160602,-1.8545710321456332,-1.0672431865077918,-0.9670776556794187,-1.0331722841266289,-1.5462672082471878,-1.067975930117218,-0.6617862268661346,0.7069280020090296,-0.33526472271406355,-0.7664693568766503,-0.7718786440512134,-1.7655642819001967,-1.8503009850376453,-1.015091139974413,1.3187305505334992,-1.7323104432943564,-2.0211499157457045,-0.7442001983235537,-0.8938844425367461,-1.0936237644226547,-0.30694197441548837,-0.4967921772621229,-1.0979304236917224,-0.9362527941054705,-0.874107489069954,-1.5425106034181475,0.8384570671042375,-1.5788185118389864,-1.1524662827865033,-0.8206862934945979,-0.9500721745591191,-1.700261120025894,0.9860707910467507,-1.6617064702206905,0.06138571356747675,-0.8837997050321093,-1.6237779263189815,-1.4039416937462568,-0.7956010301480562,-2.00049345854825,-1.4130975321547863,-1.49998242762719,-0.8056895224134322,-1.290053091479302,-0.5483217419537334,-1.9957322207503294,-0.4256862057880889,-0.8523435298950207,-1.9285000340176537,0.09205004994440198,0.13379084271072586,-1.5802572743972572,-1.8935653883728316,-2.068122996835976,-1.537106752785434,-1.1274380947516374,-1.2901821736306047,-1.5739791847722138,-1.2540136606852479,-1.6612216228396333,-0.42747660182798636,-2.295057537022104,-0.7078751771018247,-1.0227078257662399,-0.19452476678188305,-0.5044074402778681,-2.0340684913587634,-1.2661198514037013,-0.8335470056969054,-1.866449204553968,-2.0627990583143787,-0.646058997839975,-1.0523108500277465,-1.9212930385445253,-1.118102504016499,-1.1210602648164316,-2.55725146892982,-0.8672318504383628,-2.0661880876249965,-1.2398346583839273,-1.5334554996262206,-1.1286533561476864,-1.5153995172315815,0.5374408011854969,-1.8762227616594442,-1.0524739901958393,-1.307959707787228,-1.7359944975938233,-1.7348312533492467,-1.170702498086824,-2.176026592074093,-1.041761340768116,-1.9386839111781204,-1.367451034773058,-2.2555991809121783,-1.134056929698341,-2.1453615547223777,-1.2300177514681578,-0.4790799880194178,-2.219241871859311,-1.8767789789129012,-1.4132699387186918,-1.217915315510445,0.4757050585438394,-1.4372057687725193,-0.23729039908228688,-1.7853262890667214,-0.519439770610163,-1.9790378802396293,-0.9007549347286817,-0.7274128647436451,-0.8213417312979495,-2.21895543536596,-1.3397763438061376,-0.6528009788799002,-2.324603804818185,-2.224614495115996,-1.7232125100607716,-0.4527061223560789,-0.07156868981498711,-0.8821124212235625,-0.8039153568186398,-1.8966309402848323,-1.1021086397513422,-1.5198408706588034,-1.727737766286082,-0.8934965258109857,-2.2123517961211703,-2.2336255332006907,-2.041560728823862,0.3680305484167969,-1.8998763340541287,-1.96258149437584,-1.8480580712120216,-1.5967582343405327,-2.362578812953664,-1.2784495850485675,-2.4233078888507884,-2.31040663542726,-2.1748279104073434,-0.5308957585228102,-1.926672430613645,-1.875830408731176,-1.8690989607392559,-1.2590849854124193,-1.3965977420135556,-1.4708468311449239,-2.049012654493979,-2.0896862719999545,-2.3677079451162593,-1.7205372207791372,-1.655919638761692,-2.3569352259875993,-1.4724944262327908,-0.04010288394572679,-2.4278806535278887,-2.3742471450339035,-2.462293404185734,-2.6004041423008535,-2.8644299473562373,-1.3924895037028875,-2.1649906365723166,-1.5992724240044875,-2.543241078642101,-1.7090052128813613,-1.0813891272541285,-2.1295607683947635,-0.5246322238178852,-1.888167550866052,-2.5038722838273326,-2.2628853745741146,-1.908520756522991,-2.1252731220701384,-2.549140981670815,-2.0004427152087603,-1.5641536964365328],\"y\":[0.3802738393582898,-0.1373260541275355,1.9820391423828256,1.5175628274693589,1.262839777615338,1.4532181411657217,-0.5707960051687877,0.5727980585220593,1.3269962676465072,-0.9691675088172574,3.0511868082897347,-0.0684836107757407,-0.14705955543273527,-0.2302157967574316,0.051404380373429266,0.7556735215022842,-0.1935079426885362,0.3155468617701454,0.5308483895281493,0.3166578603377531,0.8595702915438125,1.6207620178044893,1.716518312657722,-0.10959441826969124,1.503934306099986,0.44450900361551166,-1.5644509650136071,1.8695679380144712,0.17435038116532833,-0.45234588187335895,-0.033580745781951686,0.32952896233803003,-0.5788874783964892,-0.30918668034196556,-0.21922410444551152,-0.09417491448866797,-0.02742590579072818,-0.15070967511445546,0.0206009573957457,-1.5065007965039832,0.12720744253903432,-1.491818422089339,-0.3126942635905743,-0.9040514408191287,-1.5018463865700948,-1.0502787978080117,-0.9810555303971554,0.8201241068523893,-0.3173966757800356,0.42296107624809326,-0.7189411302996395,-0.5522184127105869,-1.5150176815713685,-0.6039500105320743,0.12297929358791602,0.5081815010447133,1.3158209296295895,-0.8124298583050428,-1.1532679695453973,-1.0008124728990673,0.10980799858664234,2.3103177641308332,-0.3342280591562305,-0.26324442118404257,2.3520655338633287,0.8040498037909976,3.3493532669704194,1.6376391908163261,1.119960433456136,1.6467191328571087,-1.000547124279585,-2.2396602197977624,-1.520233839851257,-0.9845405949285037,0.0726537351760406,-1.4708523588204476,-0.9814635553034777,-0.9625522627496924,1.651492442064295,-1.0807478412108527,0.5080567049743165,-0.395902552761184,1.7380552712143182,-1.6825535768583626,0.5866974303203916,-0.5576486014698138,-0.5725509902196285,1.2025891815823826,1.9730420228637466,-0.15825091583961817,-0.35580926813527924,2.4082008043378145,-1.9505924760635311,2.142842243971662,-1.6074807248470828,-0.3472084645958067,1.7940104508863686,1.1527868746189882,-1.0330075669296146,-1.2692856481988866,0.10465851599214825,-0.25106971980098025,-1.2092758788023963,-1.0265487421241337,1.1453775472862964,-1.6782806947875935,-0.6494711680414526,-0.6557961536192106,-1.2708864117686756,-0.3336539869189838,1.802514461688307,1.0346854702318715,-2.516324784790617,2.542583280696353,2.3949949016815095,2.1290716497124658,0.16240456806757053,-1.1902302975410737,0.5465484570051956,1.8930178842615002,1.806156697208131,0.14084638128877922,0.1430366778089486,-0.7647931670397136,-0.9557348855224913,3.9208149674883033,1.8766255644628904,-1.082550229457686,-0.20175770293315706,1.7961476747406582,0.08662304642053704,-1.8641948186360484,-0.9188536574657097,-1.0585067703352813,1.8790701546221615,-1.7781401911305552,-0.07229740032957419,-0.392179822618583,-0.9705223205172654,1.75043499396084,-1.8276136383485655,-0.35045658277679986,0.5539926360545939,-2.5479490669069635,-0.360170648268081,-1.5235053512931747,2.601072373336075,-0.10497707655052674,-0.6578112104370916,-0.4127447909175138,-0.4214419008995827,0.15573087123846063,-1.3354987769486144,-1.6753475616902933,0.06892950216221709,1.2455031406023216,0.6066280108893071,-1.2421797018108887,2.0914155890708344,-0.6874825053578735,-1.7692389867578324,-0.7280537745710774,-0.9923343899627691,0.582752069786205,0.19449149659355316,0.016075619281995763,1.9927924515564455,1.3719293981211593,-1.1017555663354872,-1.0196891543793822,-0.17174114986103914,2.0015277857450786,1.5594279783316736,-0.7871021033526305,-0.14359199419713095,0.9821873185596413,2.2303068712434135,0.3881338008369692,1.8631618632904103,-0.0619312840931842,0.2979277067488681,0.7296459418752029,-0.8128941934829581,1.4538427800492493,-1.3157020729427509,-0.957106433755299,1.6256324863378915,0.3916115385156117,0.20666836924635185,0.3050458171338631,0.9058609041560483,0.9038116929801231,0.5320232535790265,0.6024596316892779,0.4393289051482914,-0.7398216014774741,0.7577470500602302,-0.7836251715780327,-0.2261047322153821,0.0011545717730385475,-0.5658665201340017,-0.6663327618259881,1.0489924755007556,-0.8808283740488434,0.06404000480765125,1.6569597762710597,0.8305089684441255,-0.9251810786559292,-1.5030815490746716,0.4799061107055335,0.6951600670104684,3.243747980227723,-0.548379464106931,-0.8364959576154606,0.4404499249725713,-1.271263154104845,1.591107643804165,1.2412190073525853,0.5932732472085481,-0.031298748567926436,-0.1595340679091021,-1.787523542479953,2.8486620406827323,0.49332030910438934,3.057449493116662,2.8194413544319046,-1.5670010345579122,1.50684312378279,0.4418153565761164,0.30000319066611364,0.15197247496285066,-0.0555073108086672,-0.7378296093142743,-0.142816977683973,0.06622385658216456,0.30640614591365395,-0.45048758371771225,-0.46759657991042963,-1.539516131102224,-0.06631964528004523,-0.13074879865696193,1.0345740793529083,-0.7692363282917549,-1.0269026893370843,-0.39870575293160154,0.7968945446169057,-0.2534010996807062,0.46654076891825985,-0.024046057383426387,-1.403832239177256,-1.3995776985056205,-0.22733178152375824,1.243123619373262,-0.2768124109494954,0.11368220766000102,1.3947836273654608,0.5427153579054464,0.8869452091641254,-0.09005621477313464,1.5783336021068426,-0.2714401254482959,-0.8314032217948029,0.3173692909172746,-0.7270874604247617,0.016215169833325126,-0.9847200823229559,1.2450156185043726,0.11313852848470714,-1.019693589000363,-0.7904539250296686,-0.9645981709222177,-2.265124992835569,1.0958659987821657,-0.10724715589638022,-0.6677411126171369,0.4027353884379501,1.0778633302687295,2.4867546255257613,0.3615418436481441,0.9499806995861492,0.3074687455050875,1.7415344490828897,-1.2048143182213087,-1.139582493982533,1.8989128815327496,-0.10406245672682565,-0.4198261919373324,-0.42320415312168386,-0.5319440853059512,2.029665510991586,-2.4448617336479126,-1.0252924298028345,-1.982177287592114,1.0285449442366723,-1.6859791679684464,-1.1286494262494084,-0.40553775112244145,-1.2931905625546414,1.4948598811389866,2.420756488401245,-1.2848280727187305,-0.8461619937272351,-1.1714845696210139,-0.017083355962942918,2.689199823118092,-0.24752776719237823,0.07929976826281115,0.5152631396879761,-0.10839481033351162,-1.1106715309031898,0.30296051213026676,1.4588575284253444,-0.23620152311031395,-1.2452239136777419,0.4087824830643469,0.7327407728881115,-0.6750928325647336,0.24887071964241148,-0.090293372674042,-0.8404197650063243,0.5920179381180418,-0.030192601818691798,-0.08858444520119686,2.0049479898884575,-0.6265723470278621,-1.3954052222335598,-0.7195004041096179,0.4560051864476889,-1.0579688125020756,-0.7287146114133426,-0.25615655365383844,2.034357604975243,-0.918655301695889,-0.9866471219952071,0.8179283401852965,1.5578907394125663,2.016269992253512,-1.6163344051172872,-0.2814711634228591,-1.8729702908773147,-1.9236088943113694,0.9462501061160922,0.017065098148522903,0.35805970353136446,0.3036897374392308,-1.2238828432307842,-0.6628377949598071,-0.9542753851735475,-0.29427814579738065,-0.5651960797307661,0.24246302327059743,0.24020151654155925,1.9534984477499489,-1.5736704793679317,2.017106288724174,2.073843150698761,-1.3725698307226741,0.05239136515761233,0.20963936187733528,0.28334901345346897,0.3398231939202889,0.28489161262000046,0.3687936737588577,0.23202882636371086,-0.9718905213325117,0.6993022502833981,0.2673141720179378,0.19561095364794878,0.7158538291624568,0.2602224373102678,1.6234079412868119,-0.8694658892178495,-0.9616584404175549,-0.45461620838774375,-0.21778949690384994,-0.34958767427414655,0.06385560247346647,-1.5150630298600047,-1.7464011731433275,0.8752288967520121,0.4419774786039199,0.3237819001427592,-0.9465340385229699,-0.3494496048695046,0.4663888310397194,0.19138921771653508,0.9470913742024503,-0.7198646774140773,-0.9044321100988898,-1.1577499329285257,-1.692863570393646,-1.0044796303485515,-0.7789624666446573,0.5585168518370217,-0.3738098710646115,-1.8695892332783284,0.8477160868362154,1.4085666697500066,-0.4140987725815914,1.7247272790180261,0.7723613686495152,2.3253181099550724,0.7165149775554418,1.8633960380482322,-0.6093822071126983,-0.47528937280553163,1.197561364531526,-1.7615015344416132,0.26770917087438767,1.3062916793549537,-0.290735574670444,-1.7636967502751584,-1.1546693449651944,-1.7409863660913671,0.2767257739845715,0.0446100745634247,0.8437540480993393,0.25211635691879536,-0.24041641760564716,-1.6522387154817455,-0.27912305767309764,0.4406121068990371,0.1971292152690467,-0.31876512202976726,-0.9981314596397055,1.3736044660578521,-0.4957116615949246,-1.1990346188980132,0.8861998203367721,-1.1724542097354915,-0.09565842784327565,-1.5516933208601378,0.2946112371636907,-0.8200586729966703,-1.3619252827230346,0.2683839538170982,-1.201668877898268,0.7959782612338131,0.42002532026846334,0.24018571072209713,-1.4464657340095441,-0.7517922037831837,0.5590677640494688,0.42281762476790147,-0.9755779315660961,0.7148215982752187,0.432159761137798,0.17704851584550532,1.5489425555865441,-1.3991665822789878,-0.928565849718167,0.9453197758430482,1.6146463725729707,0.6456879277974704,-0.7258908282170828,0.07924902229828061,-0.6083943531812316,-0.5114250005563274,-0.8813012528834274,0.12975664991131658,1.8310204497732845,0.47269252318435956,-1.2379008738150523,0.03064105973961985,0.4538611560757909,0.1962835653209217,-1.022447529544385,0.2442524453662205,0.011067533157979901,0.45490449339522127,-0.027262606286226985,-0.9115260160762969,0.4290795752455702,1.19831172324053,-0.6787791767629606,-0.5238099638278741,0.19612563247961387,0.46391165985017657,-0.33575447059560787,-1.4601777238728806,-0.31902475932564256,0.0013708635757205818,-1.0577511418967804,-0.19355913306029582,0.005650206892229782,0.14512098947639904,0.7504646814829424,-1.053247542495134,-1.672432117507444,-0.3681608150722972,-0.1650467504045044,0.5962223973458731,-0.5691069330059949,-0.2325432140428223,0.8857000935859731,-0.2543693028279531,0.2216096383699292,0.20381260617951055,-0.7790799769186872,-1.8224428283573137,-0.5872410377768851,-0.6747057658381439,0.757208321723549,-0.2584749993694567,0.026316586477982906,-0.8748194283478823,-0.04176428384261899,0.12046752810036435,0.309580453638221,-0.19331619611203227,-0.5771106085572818,-0.5061932614805859,-0.5248631150612036,-0.7908000015799731,-1.0766509711705787,-1.0743006941510802,0.6422064989602754,0.5854726212989182,0.0880475490739494,-0.16599703636121343,1.0808904081476964,0.11732609625820788,-1.1807354077860894,-2.0602662963902496,0.027868804373190392,0.11455666354243749,0.0036215155246241684,-0.27118676511187717,0.7111613856661957,-0.9056194940578447,-0.8145161111634055,-0.023044778640340106,-0.04990497188912176,-1.2877296895936161,-1.6688810674467078,0.6486212794554973,-2.1013637168799995,-1.4663747944405148,0.08814637811864486,0.5457900405594189,1.1615793869812254,-0.6927008063589197,0.07251017123371507,-0.5466104038176274,-0.9669146703917084],\"z\":[-0.25267499354515627,0.15992436350056505,-1.0194014150793544,0.8485150296716014,0.15807502654992736,-0.09765054005383453,-0.21882160981953683,-2.908131661280828,0.19366745278011144,-0.9068648401995609,-1.545094918140567,0.7790116937340599,-0.11815236489123486,1.3686355804958554,-1.7559356345968513,0.8686384367866333,-0.17351181792985115,-0.6389213827011875,0.6235115730892252,-0.5552979213741086,0.7890251715850254,0.20142447397312332,-0.8242285676048974,-0.15603386032549102,-0.3413587417645522,0.731055202103466,-1.5447236019486805,-0.9171094987886683,0.9410409464076411,0.25043369446107716,-0.3187904392813416,-0.12724568776165243,0.3393253810528277,-0.4373470656580065,0.4269299047042313,-0.16659438336362375,-0.9378828437762272,-0.10549762681269599,0.09806285227034754,-0.12592735953256654,-1.3465246535849391,-1.6237088636034505,0.009577327936796526,0.7218058122023945,-0.1538986005079978,-1.2685084671750515,-0.6762685883254432,0.833359372159107,0.06211707091749928,-1.2754134404988755,-1.004851840005402,-0.7305375304416898,-0.1268468878059373,0.443496893752524,-0.2608825252853225,-0.32393223773867125,-1.0280047613184005,-0.8314980913883845,-0.43793413742177917,-0.6356910192723524,-0.23383081258326247,-1.273857553376631,0.17155343797833675,0.8081236632428046,-1.3604245888694637,-0.9692865062295386,-2.3630554733583296,0.30089519938605486,-0.10353468534950787,-0.37214141958962976,-0.530641377157076,-0.868265946779252,-1.1486395927299922,-2.0592572151379187,0.2328332696876551,-0.04797030728214805,-1.3248865960023424,-1.344037984267235,0.8160161923788,-1.2243418076116552,-0.16061314271981222,0.31258317579420725,-1.1566317793857566,-1.3021599113868725,1.2116364915945852,-1.7449401274270555,-1.3566924928365751,1.3281594098707992,0.43181424287218134,1.0326986993486584,-0.7175557070096981,0.06753249877322695,-1.0654034223072968,1.3883609024721577,0.08146910451656324,0.9900101983943124,-0.7495738447441578,-0.05409629732294515,-1.3193734272677677,-0.6378606780312389,-0.9914723731476117,-0.2198530301602056,-0.3121874690779491,-1.2495170870827637,0.9151148716070595,-0.9520176684693616,-0.10983377459618414,-1.2472495978883416,0.9342740087421236,0.28108006024179927,0.7457584037497834,-0.0686719347022477,0.9961934072710145,-0.049362208305380746,0.10696113524158336,0.419626346681514,-1.0362383664388986,0.11059619305520675,-0.9075368443974992,0.6632480904938034,0.7050989912709611,-1.1885193842754196,0.5454279450766036,-0.7633959615529586,-0.5990617285483487,-1.3898365771592074,0.5683088505224756,-1.242232490289267,-0.17648099930378303,-0.7095205371931925,-0.5062846662155175,-0.6275243711535728,-0.8441718097205181,-0.818856416471173,0.6869721364514689,-1.2689032274374266,1.3672678683094066,0.8063579814898757,-0.7872761014909327,0.77524132756903,-1.2165161379915175,0.3266651391387565,-0.5858385694005798,0.25456067381136205,0.7369714866137145,-1.0021918253231934,-1.4723111768262855,0.08424459055409367,-1.0948152268594022,-0.3129970803651894,-0.7123477643268927,1.7070366992358375,0.28010260564780265,-0.2081482892486719,1.3568191407799914,0.8571432165102224,-0.8943825960138005,1.1938813086278879,0.4920434755028881,-0.06899502172030443,-0.7469434910938669,-1.0145387398637937,-0.45485537538525134,-0.8638040369211692,-0.25142587306254743,-0.8464549455859607,0.48723564494216126,0.7939709001737745,0.06670885087449221,-0.41344012148452175,-0.5314579104872696,-0.8450467487735182,0.19272470036805042,-0.027142381299033836,0.47324806656648255,0.44750372478689876,0.32127450738840047,-0.6548301454299015,0.7405651344723189,1.5099111158893268,1.8806845862744885,-0.33879319664486196,-0.17010297024891602,-0.2835517956932446,-0.1478927510416324,-0.13788503468278224,-2.6806692133678336,-0.6496670117174883,-1.3114022235065812,-0.5546839562746896,0.9355530215830806,-1.901747369536236,-0.8334033796179131,-0.8554165976900147,-1.1342873152761037,1.766505623781691,-1.0113088089342797,0.8135625301138756,-0.7506290502505772,0.41905970858497105,-0.40426815093856555,-0.30252640078132303,0.1451844129724447,-0.08805481525126317,-0.30422346911158615,0.9708691483881394,-1.0776761996232027,-0.04039177390560382,-0.19310277346103813,-0.841480106143465,1.2069313306100278,-0.6821778122777091,2.0208148505055967,0.16230174612949094,-0.7964902166134632,-0.5394039844090824,1.0421283978163949,0.6123976844276541,-0.8328574940443573,-1.0548768788743286,0.6006890649158984,0.3956829600610338,-0.2240734676680578,-0.06975527389655546,-0.5516224031993615,1.2500932702477974,-0.8526070081982965,-0.35087892736267273,1.4772056742762258,-0.26920065071678934,-1.1147603157514476,-0.16944519741950403,-0.26023617444887875,-0.19256673139748362,1.4189829878940197,0.17478712852280318,-0.5000804243068617,-0.48550145379161985,0.154583217600048,0.5084174720570287,0.6197776773990126,1.6240119136352513,-0.22157412100017668,0.03936354410898643,-0.5506958457507256,1.0106498301075089,0.04010316036413016,1.310671601366068,-0.6321131230224989,-0.02436530323415356,-0.27277983762861985,0.7221579327577181,-1.473135740844942,-0.7152170264202832,1.8204707226655887,-0.2936812132927494,1.3426247874409591,-1.156262862042498,0.5854250630878111,-0.4091067380958946,0.7234558442395456,-0.10747672493343854,-0.5283098311475285,-0.2090029089393316,-0.9589951888264542,0.05235769521994501,1.3043871287430766,0.38467875349807984,0.08639930173717424,-0.2586571582056146,0.2529970211106475,1.347637966711188,1.5756550350442966,2.0072340458323676,-0.26727888568915237,-0.6526448759722376,0.15480107336782445,-1.271977352366684,1.5854676171851783,-1.2036382081834687,-1.3609150976011581,0.8829944870410866,0.16782050760716483,0.16901094148632484,-0.7204999673193035,-0.8285101066014765,0.18309789558210166,-0.6191418295850852,-0.5090213470619522,0.6418894764505736,0.6552385549168663,-0.009409505701563492,0.6298336381350069,0.09549145811062437,0.32987501943612446,0.2113704402529631,0.48004245988120636,-0.1812638880480993,1.180737700717254,1.6410909069645638,-0.3684165176095789,-0.07470342195387189,0.8448082046519836,-0.2224725868562371,1.415809617894549,0.7636372255675441,0.43448874949197447,1.4371083970413556,0.6245662780210348,0.19498812533259516,-0.49589556514375627,-0.2191454154535808,0.006055525596468497,-0.10687217775439664,0.10814126310713286,-0.9260994969364058,0.6433039342374103,1.1544750434757198,-0.09307790637954604,2.07616383141479,1.3201226597855082,1.5554775955443136,0.8623281779168815,2.119719194993001,-0.28451052488858564,0.4913361291561426,0.42983055450848917,0.06442838398005712,-0.28964805111851727,-0.22604177352091984,-0.7718498111829669,1.6075260097513075,0.014247275360569479,0.08584955203734489,0.39706396335145655,1.0918250445426867,0.6709920854372249,0.8994680071773892,-0.6232464713628048,0.4936968893921672,0.5906297545695073,1.3187614120063662,-0.9721476901554329,-0.5306627884177066,-0.4756025471561401,0.33066825761618984,-0.23475251786802906,-0.05755863461585569,-0.31091111667642185,-0.33181005585425816,0.29714209121314233,-0.4067372212609968,0.6303392008457992,-0.094593672918109,-0.8081964869338595,0.5761741554535712,2.173576258474088,0.43847643923775476,-0.3735015200799812,0.8793985338652601,-0.5030526191505534,-0.45017087210552625,-0.5785039714958634,-0.39388970604066487,0.08507590609880131,-0.9127515423747513,-0.4734505643215001,-0.47083468358442027,-0.8815717656647314,-0.46626879372216534,1.089873371687921,-0.014535139080601894,0.07882787871075025,-0.47801753310656225,-0.3769431934831669,-0.6571244115693904,1.4853762255091785,0.0799939716065445,0.1355851883025798,1.7291503424871413,-0.5996472453226569,-0.4799510686670771,0.021969458065239558,1.8596394701403276,-0.6681960553511784,-0.4597027507665016,1.662774998488754,-0.15689354066437172,-0.08609360028590672,0.28380381874473365,0.2691939793587295,0.13133485272226386,-0.09704545233658186,-0.8296675715274519,0.11449586993175984,2.3271932962159183,0.4404374939088704,-0.17364665338654803,0.8614658060019076,-0.44770813687553024,0.40063816705758015,0.9755055099425111,-0.9869243846161443,-2.15111336180505,-0.3844323181681199,0.21954927710612332,-0.027674588945319257,0.11619185933921582,-0.5278495228238121,1.3086181631905822,0.03493793677398424,0.12070047812289246,0.17189168472505242,0.3224988022886478,-0.5365234931995232,0.47378751335277747,1.7765664149479243,-0.4397755375851981,2.1360912525123967,0.05576427653265389,-0.7074521378085669,-0.698376550239828,-0.4518024263293341,0.06789440967245344,0.13404821724505658,1.3150195200208559,0.317542223668826,0.2932173808719562,0.29678209842767184,0.19401170275854568,-0.15072651772236648,0.580351125073521,-0.47870056964605034,1.3996564261881916,0.5042845529222103,-0.5193907418215512,0.29862772341236865,0.3876873937199378,-0.5545610574858889,-0.4885489641736471,0.4774444326042703,-0.22238714440052718,0.6349239858686333,0.7701567024526996,0.07423741650134202,-0.8896092655714626,0.32486054380308804,-0.3016428478236998,1.1972816200219596,0.4377772941731786,0.07731260628821122,-1.0796679960849669,0.39004796347707765,0.5517751674111907,-0.24358918900688895,-0.3200883628832521,0.49305880284379244,0.2789990061415604,-0.08437726432769414,-0.3675757771151417,-0.6444922482866327,-0.7125799941657571,0.39514597962696046,-0.26491629347388956,0.12877072531062503,-0.43037624554113585,0.18152832861493573,1.7869823936840605,-0.12441245773707217,-0.6199973901434662,-0.20445366298137532,-0.04691217264554795,3.0411794415267304,-1.4423834045731498,1.161042315078833,-0.3174928998910349,0.28006258200127065,-0.6945455190310503,0.8186953769513788,0.5105289833209318,0.9178640074238363,-0.15613468128491045,0.10574047690850115,-0.6533124792395468,-0.22589496310627152,-0.3671364515598554,-0.8640547808321838,0.10300352612686883,-0.00675646397382978,0.9744804873708754,0.65267696831904,0.6924361752976886,1.0641525877316866,0.08714403527885842,-1.1079757364215224,0.7499901483289754,-0.43316852836660036,-0.412860014264387,-0.039326425040255825,0.01211742634501905,0.38548952099158984,0.47406469171671856,0.5869471212468974,0.16866024509331726,-0.23265341787759364,-0.06077234937983508,-0.16050845441987746,-0.3238857306911065,-0.5153996133400338,0.3268952418281739,0.3843726078614037,0.31255490186805607,-0.33374173202890667,-0.13488792054265078,0.2707029221680908,0.15449759868130564,0.6010114506685167,0.6584656154631949,-0.2819120202252839,-0.7625905438170062,-1.2873599041321517,-0.30881964538187817,0.33685233519528124,0.7816486919415514,-0.21639818727649676,-0.30190109333781584,-0.1872719920310057,0.20942149767798707,-0.8987619389642674,-0.004897495916791432,0.6430764467101956,-0.1579862131254521,-0.12163827451661377,0.39349159270011164,0.7767347873145385,0.6173705561079453,1.22110308065968,0.5881179527199831,-0.245443580329819,0.7375060583188109,1.5603022126022768,0.6667028755627653,-0.22046672694908812,0.47376456976587766,0.09145886823569908],\"type\":\"scatter3d\"}],                        {\"template\":{\"data\":{\"histogram2dcontour\":[{\"type\":\"histogram2dcontour\",\"colorbar\":{\"outlinewidth\":0,\"ticks\":\"\"},\"colorscale\":[[0.0,\"#0d0887\"],[0.1111111111111111,\"#46039f\"],[0.2222222222222222,\"#7201a8\"],[0.3333333333333333,\"#9c179e\"],[0.4444444444444444,\"#bd3786\"],[0.5555555555555556,\"#d8576b\"],[0.6666666666666666,\"#ed7953\"],[0.7777777777777778,\"#fb9f3a\"],[0.8888888888888888,\"#fdca26\"],[1.0,\"#f0f921\"]]}],\"choropleth\":[{\"type\":\"choropleth\",\"colorbar\":{\"outlinewidth\":0,\"ticks\":\"\"}}],\"histogram2d\":[{\"type\":\"histogram2d\",\"colorbar\":{\"outlinewidth\":0,\"ticks\":\"\"},\"colorscale\":[[0.0,\"#0d0887\"],[0.1111111111111111,\"#46039f\"],[0.2222222222222222,\"#7201a8\"],[0.3333333333333333,\"#9c179e\"],[0.4444444444444444,\"#bd3786\"],[0.5555555555555556,\"#d8576b\"],[0.6666666666666666,\"#ed7953\"],[0.7777777777777778,\"#fb9f3a\"],[0.8888888888888888,\"#fdca26\"],[1.0,\"#f0f921\"]]}],\"heatmap\":[{\"type\":\"heatmap\",\"colorbar\":{\"outlinewidth\":0,\"ticks\":\"\"},\"colorscale\":[[0.0,\"#0d0887\"],[0.1111111111111111,\"#46039f\"],[0.2222222222222222,\"#7201a8\"],[0.3333333333333333,\"#9c179e\"],[0.4444444444444444,\"#bd3786\"],[0.5555555555555556,\"#d8576b\"],[0.6666666666666666,\"#ed7953\"],[0.7777777777777778,\"#fb9f3a\"],[0.8888888888888888,\"#fdca26\"],[1.0,\"#f0f921\"]]}],\"heatmapgl\":[{\"type\":\"heatmapgl\",\"colorbar\":{\"outlinewidth\":0,\"ticks\":\"\"},\"colorscale\":[[0.0,\"#0d0887\"],[0.1111111111111111,\"#46039f\"],[0.2222222222222222,\"#7201a8\"],[0.3333333333333333,\"#9c179e\"],[0.4444444444444444,\"#bd3786\"],[0.5555555555555556,\"#d8576b\"],[0.6666666666666666,\"#ed7953\"],[0.7777777777777778,\"#fb9f3a\"],[0.8888888888888888,\"#fdca26\"],[1.0,\"#f0f921\"]]}],\"contourcarpet\":[{\"type\":\"contourcarpet\",\"colorbar\":{\"outlinewidth\":0,\"ticks\":\"\"}}],\"contour\":[{\"type\":\"contour\",\"colorbar\":{\"outlinewidth\":0,\"ticks\":\"\"},\"colorscale\":[[0.0,\"#0d0887\"],[0.1111111111111111,\"#46039f\"],[0.2222222222222222,\"#7201a8\"],[0.3333333333333333,\"#9c179e\"],[0.4444444444444444,\"#bd3786\"],[0.5555555555555556,\"#d8576b\"],[0.6666666666666666,\"#ed7953\"],[0.7777777777777778,\"#fb9f3a\"],[0.8888888888888888,\"#fdca26\"],[1.0,\"#f0f921\"]]}],\"surface\":[{\"type\":\"surface\",\"colorbar\":{\"outlinewidth\":0,\"ticks\":\"\"},\"colorscale\":[[0.0,\"#0d0887\"],[0.1111111111111111,\"#46039f\"],[0.2222222222222222,\"#7201a8\"],[0.3333333333333333,\"#9c179e\"],[0.4444444444444444,\"#bd3786\"],[0.5555555555555556,\"#d8576b\"],[0.6666666666666666,\"#ed7953\"],[0.7777777777777778,\"#fb9f3a\"],[0.8888888888888888,\"#fdca26\"],[1.0,\"#f0f921\"]]}],\"mesh3d\":[{\"type\":\"mesh3d\",\"colorbar\":{\"outlinewidth\":0,\"ticks\":\"\"}}],\"scatter\":[{\"fillpattern\":{\"fillmode\":\"overlay\",\"size\":10,\"solidity\":0.2},\"type\":\"scatter\"}],\"parcoords\":[{\"type\":\"parcoords\",\"line\":{\"colorbar\":{\"outlinewidth\":0,\"ticks\":\"\"}}}],\"scatterpolargl\":[{\"type\":\"scatterpolargl\",\"marker\":{\"colorbar\":{\"outlinewidth\":0,\"ticks\":\"\"}}}],\"bar\":[{\"error_x\":{\"color\":\"#2a3f5f\"},\"error_y\":{\"color\":\"#2a3f5f\"},\"marker\":{\"line\":{\"color\":\"#E5ECF6\",\"width\":0.5},\"pattern\":{\"fillmode\":\"overlay\",\"size\":10,\"solidity\":0.2}},\"type\":\"bar\"}],\"scattergeo\":[{\"type\":\"scattergeo\",\"marker\":{\"colorbar\":{\"outlinewidth\":0,\"ticks\":\"\"}}}],\"scatterpolar\":[{\"type\":\"scatterpolar\",\"marker\":{\"colorbar\":{\"outlinewidth\":0,\"ticks\":\"\"}}}],\"histogram\":[{\"marker\":{\"pattern\":{\"fillmode\":\"overlay\",\"size\":10,\"solidity\":0.2}},\"type\":\"histogram\"}],\"scattergl\":[{\"type\":\"scattergl\",\"marker\":{\"colorbar\":{\"outlinewidth\":0,\"ticks\":\"\"}}}],\"scatter3d\":[{\"type\":\"scatter3d\",\"line\":{\"colorbar\":{\"outlinewidth\":0,\"ticks\":\"\"}},\"marker\":{\"colorbar\":{\"outlinewidth\":0,\"ticks\":\"\"}}}],\"scattermapbox\":[{\"type\":\"scattermapbox\",\"marker\":{\"colorbar\":{\"outlinewidth\":0,\"ticks\":\"\"}}}],\"scatterternary\":[{\"type\":\"scatterternary\",\"marker\":{\"colorbar\":{\"outlinewidth\":0,\"ticks\":\"\"}}}],\"scattercarpet\":[{\"type\":\"scattercarpet\",\"marker\":{\"colorbar\":{\"outlinewidth\":0,\"ticks\":\"\"}}}],\"carpet\":[{\"aaxis\":{\"endlinecolor\":\"#2a3f5f\",\"gridcolor\":\"white\",\"linecolor\":\"white\",\"minorgridcolor\":\"white\",\"startlinecolor\":\"#2a3f5f\"},\"baxis\":{\"endlinecolor\":\"#2a3f5f\",\"gridcolor\":\"white\",\"linecolor\":\"white\",\"minorgridcolor\":\"white\",\"startlinecolor\":\"#2a3f5f\"},\"type\":\"carpet\"}],\"table\":[{\"cells\":{\"fill\":{\"color\":\"#EBF0F8\"},\"line\":{\"color\":\"white\"}},\"header\":{\"fill\":{\"color\":\"#C8D4E3\"},\"line\":{\"color\":\"white\"}},\"type\":\"table\"}],\"barpolar\":[{\"marker\":{\"line\":{\"color\":\"#E5ECF6\",\"width\":0.5},\"pattern\":{\"fillmode\":\"overlay\",\"size\":10,\"solidity\":0.2}},\"type\":\"barpolar\"}],\"pie\":[{\"automargin\":true,\"type\":\"pie\"}]},\"layout\":{\"autotypenumbers\":\"strict\",\"colorway\":[\"#636efa\",\"#EF553B\",\"#00cc96\",\"#ab63fa\",\"#FFA15A\",\"#19d3f3\",\"#FF6692\",\"#B6E880\",\"#FF97FF\",\"#FECB52\"],\"font\":{\"color\":\"#2a3f5f\"},\"hovermode\":\"closest\",\"hoverlabel\":{\"align\":\"left\"},\"paper_bgcolor\":\"white\",\"plot_bgcolor\":\"#E5ECF6\",\"polar\":{\"bgcolor\":\"#E5ECF6\",\"angularaxis\":{\"gridcolor\":\"white\",\"linecolor\":\"white\",\"ticks\":\"\"},\"radialaxis\":{\"gridcolor\":\"white\",\"linecolor\":\"white\",\"ticks\":\"\"}},\"ternary\":{\"bgcolor\":\"#E5ECF6\",\"aaxis\":{\"gridcolor\":\"white\",\"linecolor\":\"white\",\"ticks\":\"\"},\"baxis\":{\"gridcolor\":\"white\",\"linecolor\":\"white\",\"ticks\":\"\"},\"caxis\":{\"gridcolor\":\"white\",\"linecolor\":\"white\",\"ticks\":\"\"}},\"coloraxis\":{\"colorbar\":{\"outlinewidth\":0,\"ticks\":\"\"}},\"colorscale\":{\"sequential\":[[0.0,\"#0d0887\"],[0.1111111111111111,\"#46039f\"],[0.2222222222222222,\"#7201a8\"],[0.3333333333333333,\"#9c179e\"],[0.4444444444444444,\"#bd3786\"],[0.5555555555555556,\"#d8576b\"],[0.6666666666666666,\"#ed7953\"],[0.7777777777777778,\"#fb9f3a\"],[0.8888888888888888,\"#fdca26\"],[1.0,\"#f0f921\"]],\"sequentialminus\":[[0.0,\"#0d0887\"],[0.1111111111111111,\"#46039f\"],[0.2222222222222222,\"#7201a8\"],[0.3333333333333333,\"#9c179e\"],[0.4444444444444444,\"#bd3786\"],[0.5555555555555556,\"#d8576b\"],[0.6666666666666666,\"#ed7953\"],[0.7777777777777778,\"#fb9f3a\"],[0.8888888888888888,\"#fdca26\"],[1.0,\"#f0f921\"]],\"diverging\":[[0,\"#8e0152\"],[0.1,\"#c51b7d\"],[0.2,\"#de77ae\"],[0.3,\"#f1b6da\"],[0.4,\"#fde0ef\"],[0.5,\"#f7f7f7\"],[0.6,\"#e6f5d0\"],[0.7,\"#b8e186\"],[0.8,\"#7fbc41\"],[0.9,\"#4d9221\"],[1,\"#276419\"]]},\"xaxis\":{\"gridcolor\":\"white\",\"linecolor\":\"white\",\"ticks\":\"\",\"title\":{\"standoff\":15},\"zerolinecolor\":\"white\",\"automargin\":true,\"zerolinewidth\":2},\"yaxis\":{\"gridcolor\":\"white\",\"linecolor\":\"white\",\"ticks\":\"\",\"title\":{\"standoff\":15},\"zerolinecolor\":\"white\",\"automargin\":true,\"zerolinewidth\":2},\"scene\":{\"xaxis\":{\"backgroundcolor\":\"#E5ECF6\",\"gridcolor\":\"white\",\"linecolor\":\"white\",\"showbackground\":true,\"ticks\":\"\",\"zerolinecolor\":\"white\",\"gridwidth\":2},\"yaxis\":{\"backgroundcolor\":\"#E5ECF6\",\"gridcolor\":\"white\",\"linecolor\":\"white\",\"showbackground\":true,\"ticks\":\"\",\"zerolinecolor\":\"white\",\"gridwidth\":2},\"zaxis\":{\"backgroundcolor\":\"#E5ECF6\",\"gridcolor\":\"white\",\"linecolor\":\"white\",\"showbackground\":true,\"ticks\":\"\",\"zerolinecolor\":\"white\",\"gridwidth\":2}},\"shapedefaults\":{\"line\":{\"color\":\"#2a3f5f\"}},\"annotationdefaults\":{\"arrowcolor\":\"#2a3f5f\",\"arrowhead\":0,\"arrowwidth\":1},\"geo\":{\"bgcolor\":\"white\",\"landcolor\":\"#E5ECF6\",\"subunitcolor\":\"white\",\"showland\":true,\"showlakes\":true,\"lakecolor\":\"white\"},\"title\":{\"x\":0.05},\"mapbox\":{\"style\":\"light\"}}},\"scene\":{\"domain\":{\"x\":[0.0,1.0],\"y\":[0.0,1.0]},\"xaxis\":{\"title\":{\"text\":\"PC1\"}},\"yaxis\":{\"title\":{\"text\":\"PC2\"}},\"zaxis\":{\"title\":{\"text\":\"PC3\"}}},\"legend\":{\"tracegroupgap\":0},\"title\":{\"text\":\"Visualiza\\u00e7\\u00e3o PCA\"},\"height\":800,\"width\":1200},                        {\"responsive\": true}                    ).then(function(){\n",
       "                            \n",
       "var gd = document.getElementById('cd39900b-674e-441f-9b37-3316b26a4b27');\n",
       "var x = new MutationObserver(function (mutations, observer) {{\n",
       "        var display = window.getComputedStyle(gd).display;\n",
       "        if (!display || display === 'none') {{\n",
       "            console.log([gd, 'removed!']);\n",
       "            Plotly.purge(gd);\n",
       "            observer.disconnect();\n",
       "        }}\n",
       "}});\n",
       "\n",
       "// Listen for the removal of the full notebook cells\n",
       "var notebookContainer = gd.closest('#notebook-container');\n",
       "if (notebookContainer) {{\n",
       "    x.observe(notebookContainer, {childList: true});\n",
       "}}\n",
       "\n",
       "// Listen for the clearing of the current output cell\n",
       "var outputEl = gd.closest('.output');\n",
       "if (outputEl) {{\n",
       "    x.observe(outputEl, {childList: true});\n",
       "}}\n",
       "\n",
       "                        })                };                });            </script>        </div>"
      ]
     },
     "metadata": {},
     "output_type": "display_data"
    }
   ],
   "source": [
    "# Mostrar Chart 3D com os componentes principais\n",
    "fig = px.scatter_3d(df3, x='PC1', y='PC2', z='PC3', \n",
    "                    title='Visualização PCA', width=1200, height=800, hover_data=['price'])\n",
    "fig.show()"
   ]
  },
  {
   "cell_type": "markdown",
   "id": "a282565b",
   "metadata": {},
   "source": [
    "### Reconstrução dos dados originais"
   ]
  },
  {
   "cell_type": "code",
   "execution_count": 70,
   "id": "cf82f347",
   "metadata": {},
   "outputs": [],
   "source": [
    "# Reconstruir os dados com base no PCA\n",
    "\n",
    "X_recovered2 = modelo_pca2.inverse_transform(X_pca2)\n",
    "X_recovered3 = modelo_pca3.inverse_transform(X_pca3)"
   ]
  },
  {
   "cell_type": "code",
   "execution_count": 72,
   "id": "4d9a46cb",
   "metadata": {},
   "outputs": [
    {
     "name": "stdout",
     "output_type": "stream",
     "text": [
      "Erro de reconstrução: 0.3170\n"
     ]
    }
   ],
   "source": [
    "# Calcular o erro de recontrução para 2 componentes\n",
    "reconstruction_error2 = mean_squared_error(X_transformed, X_recovered2)\n",
    "print(f\"Erro de reconstrução: {reconstruction_error2:.4f}\")"
   ]
  },
  {
   "cell_type": "code",
   "execution_count": 73,
   "id": "631fb623",
   "metadata": {},
   "outputs": [
    {
     "name": "stdout",
     "output_type": "stream",
     "text": [
      "Erro de reconstrução: 0.2417\n"
     ]
    }
   ],
   "source": [
    "# Calcular o erro de recontrução para 3 componentes\n",
    "reconstruction_error3 = mean_squared_error(X_transformed, X_recovered3)\n",
    "print(f\"Erro de reconstrução: {reconstruction_error3:.4f}\")"
   ]
  },
  {
   "cell_type": "markdown",
   "id": "de2d3eef",
   "metadata": {},
   "source": [
    "# Conclusão\n",
    "\n",
    "A aplicação do PCA no Housing Dataset permitiu reduzir a dimensionalidade dos dados mantendo boa parte da variabilidade original. Com apenas 2 componentes principais, o erro de reconstrução foi de **0.3170**, enquanto com 3 componentes o erro caiu para **0.2417**. Isso indica que, mesmo com uma redução significativa do número de variáveis, ainda é possível representar a maior parte da informação contida no conjunto de dados original.\n",
    "\n",
    "A análise dos componentes principais facilita a visualização dos dados e pode ajudar a identificar padrões, agrupamentos e os fatores que mais influenciam o preço das casas. Além disso, a redução de dimensionalidade pode ser útil para simplificar modelos preditivos, diminuir o risco de overfitting e acelerar o processamento em aplicações de machine learning.\n",
    "\n",
    "Portanto, o PCA mostrou-se uma ferramenta eficaz para explorar e resumir as principais características do Housing Dataset, tornando a análise mais eficiente"
   ]
  }
 ],
 "metadata": {
  "kernelspec": {
   "display_name": "ia-para-produtos-desafio-pca-8X3mnReZ",
   "language": "python",
   "name": "python3"
  },
  "language_info": {
   "codemirror_mode": {
    "name": "ipython",
    "version": 3
   },
   "file_extension": ".py",
   "mimetype": "text/x-python",
   "name": "python",
   "nbconvert_exporter": "python",
   "pygments_lexer": "ipython3",
   "version": "3.12.6"
  }
 },
 "nbformat": 4,
 "nbformat_minor": 5
}
